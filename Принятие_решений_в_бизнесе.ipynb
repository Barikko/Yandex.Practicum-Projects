{
  "cells": [
    {
      "cell_type": "markdown",
      "metadata": {
        "id": "view-in-github",
        "colab_type": "text"
      },
      "source": [
        "<a href=\"https://colab.research.google.com/github/Barikko/Yandex.Practicum-Projects/blob/main/%D0%9F%D1%80%D0%B8%D0%BD%D1%8F%D1%82%D0%B8%D0%B5_%D1%80%D0%B5%D1%88%D0%B5%D0%BD%D0%B8%D0%B9_%D0%B2_%D0%B1%D0%B8%D0%B7%D0%BD%D0%B5%D1%81%D0%B5.ipynb\" target=\"_parent\"><img src=\"https://colab.research.google.com/assets/colab-badge.svg\" alt=\"Open In Colab\"/></a>"
      ]
    },
    {
      "cell_type": "markdown",
      "metadata": {
        "id": "nC8swCQoBhGh"
      },
      "source": [
        "# Проект: Принятие решений в бизнесе"
      ]
    },
    {
      "cell_type": "markdown",
      "metadata": {
        "id": "gNSRiN-sBhGk"
      },
      "source": [
        "Цель проекта: анализ крупного интернет-магазина для увеличения выручки. \n",
        "\n",
        "Данные: файл \"hypothesis.csv\" с гипотезами, наделёнными параметрами для их приоритизации. Датасеты \"orders.csv\" и \"visitors.csv\" с данными о покупках, выручке, пользователе, дате заказа и его группе.\n",
        "\n",
        "План работы:\n",
        "\n",
        "1. Приоритизация гипотез с примененнием фреймворков ICE/RICE.\n",
        "2. А/В анализ, состоящий из: \n",
        "- Построения графиков для визуалиации различий между группами\n",
        "- Подсчёт перцентилей для опредедения границы аномальных пользователей\n",
        "- Подсчёт статистической значимости различий между \"сырыми\" и обработанными данными\n",
        "- Принятие решение по результам теста."
      ]
    },
    {
      "cell_type": "markdown",
      "metadata": {
        "id": "ae-o10PxBhGq"
      },
      "source": [
        "# Загрузка данных и подготовка их к анализу"
      ]
    },
    {
      "cell_type": "code",
      "execution_count": 51,
      "metadata": {
        "id": "7-4SRYTHBhGr"
      },
      "outputs": [],
      "source": [
        "import pandas as pd\n",
        "import numpy as np\n",
        "from datetime import datetime\n",
        "from matplotlib import pyplot as plt\n",
        "import scipy.stats as stats"
      ]
    },
    {
      "cell_type": "code",
      "execution_count": 52,
      "metadata": {
        "id": "uupez74kBhGu"
      },
      "outputs": [],
      "source": [
        "hypothesis, orders, visitors = (\n",
        "    pd.read_csv('/content/hypothesis.csv'),\n",
        "    pd.read_csv('/content/orders.csv'), \n",
        "    pd.read_csv('/content/visitors.csv'),)"
      ]
    },
    {
      "cell_type": "markdown",
      "metadata": {
        "id": "L1uN_qNHBhGw"
      },
      "source": [
        "## Предобработка hypothesis"
      ]
    },
    {
      "cell_type": "code",
      "execution_count": 53,
      "metadata": {
        "colab": {
          "base_uri": "https://localhost:8080/"
        },
        "id": "hFEwpZYxBhGw",
        "outputId": "16e8f591-7836-443e-97a7-321f59c8c5f6"
      },
      "outputs": [
        {
          "output_type": "stream",
          "name": "stdout",
          "text": [
            "<class 'pandas.core.frame.DataFrame'>\n",
            "RangeIndex: 9 entries, 0 to 8\n",
            "Data columns (total 5 columns):\n",
            " #   Column      Non-Null Count  Dtype \n",
            "---  ------      --------------  ----- \n",
            " 0   Hypothesis  9 non-null      object\n",
            " 1   Reach       9 non-null      int64 \n",
            " 2   Impact      9 non-null      int64 \n",
            " 3   Confidence  9 non-null      int64 \n",
            " 4   Efforts     9 non-null      int64 \n",
            "dtypes: int64(4), object(1)\n",
            "memory usage: 488.0+ bytes\n",
            "                                                                                                     hypothesis  \\\n",
            "0            Добавить два новых канала привлечения трафика, что позволит привлекать на 30% больше пользователей   \n",
            "1                                     Запустить собственную службу доставки, что сократит срок доставки заказов   \n",
            "2  Добавить блоки рекомендаций товаров на сайт интернет магазина, чтобы повысить конверсию и средний чек заказа   \n",
            "3           Изменить структура категорий, что увеличит конверсию, т.к. пользователи быстрее найдут нужный товар   \n",
            "4                              Изменить цвет фона главной страницы, чтобы увеличить вовлеченность пользователей   \n",
            "5                      Добавить страницу отзывов клиентов о магазине, что позволит увеличить количество заказов   \n",
            "6          Показать на главной странице баннеры с актуальными акциями и распродажами, чтобы увеличить конверсию   \n",
            "7              Добавить форму подписки на все основные страницы, чтобы собрать базу клиентов для email-рассылок   \n",
            "8                                                       Запустить акцию, дающую скидку на товар в день рождения   \n",
            "\n",
            "   reach  impact  confidence  efforts  \n",
            "0      3      10           8        6  \n",
            "1      2       5           4       10  \n",
            "2      8       3           7        3  \n",
            "3      8       3           3        8  \n",
            "4      3       1           1        1  \n",
            "5      3       2           2        3  \n",
            "6      5       3           8        3  \n",
            "7     10       7           8        5  \n",
            "8      1       9           9        5  \n"
          ]
        }
      ],
      "source": [
        "hypothesis.info()\n",
        "hypothesis.columns = hypothesis.columns.str.lower()\n",
        "print(hypothesis.head(10))\n",
        "pd.options.display.max_colwidth = 130"
      ]
    },
    {
      "cell_type": "markdown",
      "metadata": {
        "id": "qIj5Xoo6BhGy"
      },
      "source": [
        "Названия колонок переведены в нижний регистр."
      ]
    },
    {
      "cell_type": "markdown",
      "metadata": {
        "id": "DvYgVHWyBhGz"
      },
      "source": [
        "## Предобработка orders"
      ]
    },
    {
      "cell_type": "code",
      "execution_count": 54,
      "metadata": {
        "colab": {
          "base_uri": "https://localhost:8080/"
        },
        "id": "NpVcUrlKBhGz",
        "outputId": "7edf3992-3dd2-4391-9046-98c1387d638c"
      },
      "outputs": [
        {
          "output_type": "stream",
          "name": "stdout",
          "text": [
            "<class 'pandas.core.frame.DataFrame'>\n",
            "RangeIndex: 1197 entries, 0 to 1196\n",
            "Data columns (total 5 columns):\n",
            " #   Column         Non-Null Count  Dtype \n",
            "---  ------         --------------  ----- \n",
            " 0   transactionId  1197 non-null   int64 \n",
            " 1   visitorId      1197 non-null   int64 \n",
            " 2   date           1197 non-null   object\n",
            " 3   revenue        1197 non-null   int64 \n",
            " 4   group          1197 non-null   object\n",
            "dtypes: int64(3), object(2)\n",
            "memory usage: 46.9+ KB\n",
            "   transaction_id  visitor_id        date  revenue group\n",
            "0      3667963787  3312258926  2019-08-15     1650     B\n",
            "1      2804400009  3642806036  2019-08-15      730     B\n",
            "2      2961555356  4069496402  2019-08-15      400     A\n",
            "3      3797467345  1196621759  2019-08-15     9759     B\n",
            "4      2282983706  2322279887  2019-08-15     2308     B\n"
          ]
        }
      ],
      "source": [
        "orders.info()\n",
        "orders['date'] = pd.to_datetime(orders['date']).dt.date \n",
        "orders.columns = ['transaction_id','visitor_id','date','revenue','group']\n",
        "print(orders.head(5))"
      ]
    },
    {
      "cell_type": "code",
      "execution_count": 55,
      "metadata": {
        "colab": {
          "base_uri": "https://localhost:8080/"
        },
        "id": "3deqi1E1BhG0",
        "outputId": "2933ade3-6b2e-49f6-8673-0446402d7c01"
      },
      "outputs": [
        {
          "output_type": "stream",
          "name": "stdout",
          "text": [
            "transaction_id    0\n",
            "visitor_id        0\n",
            "date              0\n",
            "revenue           0\n",
            "group             0\n",
            "dtype: int64\n"
          ]
        },
        {
          "output_type": "execute_result",
          "data": {
            "text/plain": [
              "0"
            ]
          },
          "metadata": {},
          "execution_count": 55
        }
      ],
      "source": [
        "print(orders.isna().sum())\n",
        "orders.duplicated().sum()"
      ]
    },
    {
      "cell_type": "markdown",
      "metadata": {
        "id": "uxkNCPx-BhG0"
      },
      "source": [
        "Дата приведена к нужному формату, колонки переименованы, дубликатов не обнаружено."
      ]
    },
    {
      "cell_type": "markdown",
      "metadata": {
        "id": "yufKQ8InBhG1"
      },
      "source": [
        "## Предобработка visitors"
      ]
    },
    {
      "cell_type": "code",
      "execution_count": 56,
      "metadata": {
        "colab": {
          "base_uri": "https://localhost:8080/"
        },
        "id": "lwlbVgi2BhG1",
        "outputId": "9fefbfa0-aab4-4919-8006-f3ad54973a58"
      },
      "outputs": [
        {
          "output_type": "stream",
          "name": "stdout",
          "text": [
            "<class 'pandas.core.frame.DataFrame'>\n",
            "RangeIndex: 62 entries, 0 to 61\n",
            "Data columns (total 3 columns):\n",
            " #   Column    Non-Null Count  Dtype \n",
            "---  ------    --------------  ----- \n",
            " 0   date      62 non-null     object\n",
            " 1   group     62 non-null     object\n",
            " 2   visitors  62 non-null     int64 \n",
            "dtypes: int64(1), object(2)\n",
            "memory usage: 1.6+ KB\n",
            "         date group  visitors\n",
            "0  2019-08-01     A       719\n",
            "1  2019-08-02     A       619\n",
            "2  2019-08-03     A       507\n",
            "3  2019-08-04     A       717\n",
            "4  2019-08-05     A       756\n",
            "transaction_id    0\n",
            "visitor_id        0\n",
            "date              0\n",
            "revenue           0\n",
            "group             0\n",
            "dtype: int64\n"
          ]
        },
        {
          "output_type": "execute_result",
          "data": {
            "text/plain": [
              "0"
            ]
          },
          "metadata": {},
          "execution_count": 56
        }
      ],
      "source": [
        "visitors.info()\n",
        "print(visitors.head(5))\n",
        "print(orders.isna().sum())\n",
        "visitors['date'] = pd.to_datetime(visitors['date']).dt.date\n",
        "orders.duplicated().sum()"
      ]
    },
    {
      "cell_type": "markdown",
      "metadata": {
        "id": "6ihb-Yj7BhG2"
      },
      "source": [
        "Дата приведена к нужному формату, пропусков и дубликатов нет."
      ]
    },
    {
      "cell_type": "markdown",
      "metadata": {
        "id": "hnaZ40xcBhG2"
      },
      "source": [
        "## Удалим посетителей, принадлежащих к обеим группам\n"
      ]
    },
    {
      "cell_type": "code",
      "execution_count": 57,
      "metadata": {
        "id": "I4m5dJC-BhG2"
      },
      "outputs": [],
      "source": [
        "delet=np.intersect1d(orders.query('group == \"A\"')['visitor_id'].unique(), orders.query('group == \"B\"')['visitor_id'].unique())\n",
        "orders = orders.query('visitor_id not in @delet')"
      ]
    },
    {
      "cell_type": "markdown",
      "metadata": {
        "id": "Bk-PCgaoBhG3"
      },
      "source": [
        "# Приоритизация гипотез"
      ]
    },
    {
      "cell_type": "markdown",
      "metadata": {
        "id": "P3qmNLq8BhG3"
      },
      "source": [
        "##    Применение фреймворка ICE для приоритизации гипотез.\n",
        "    "
      ]
    },
    {
      "cell_type": "code",
      "execution_count": 58,
      "metadata": {
        "colab": {
          "base_uri": "https://localhost:8080/",
          "height": 332
        },
        "id": "WVMzv5C9BhG4",
        "outputId": "322724f8-af43-423b-e863-a58c62b1e840"
      },
      "outputs": [
        {
          "output_type": "display_data",
          "data": {
            "text/plain": [
              "                                                                                                     hypothesis  \\\n",
              "8                                                       Запустить акцию, дающую скидку на товар в день рождения   \n",
              "0            Добавить два новых канала привлечения трафика, что позволит привлекать на 30% больше пользователей   \n",
              "7              Добавить форму подписки на все основные страницы, чтобы собрать базу клиентов для email-рассылок   \n",
              "6          Показать на главной странице баннеры с актуальными акциями и распродажами, чтобы увеличить конверсию   \n",
              "2  Добавить блоки рекомендаций товаров на сайт интернет магазина, чтобы повысить конверсию и средний чек заказа   \n",
              "1                                     Запустить собственную службу доставки, что сократит срок доставки заказов   \n",
              "5                      Добавить страницу отзывов клиентов о магазине, что позволит увеличить количество заказов   \n",
              "3           Изменить структура категорий, что увеличит конверсию, т.к. пользователи быстрее найдут нужный товар   \n",
              "4                              Изменить цвет фона главной страницы, чтобы увеличить вовлеченность пользователей   \n",
              "\n",
              "         ICE  \n",
              "8  16.200000  \n",
              "0  13.333333  \n",
              "7  11.200000  \n",
              "6   8.000000  \n",
              "2   7.000000  \n",
              "1   2.000000  \n",
              "5   1.333333  \n",
              "3   1.125000  \n",
              "4   1.000000  "
            ],
            "text/html": [
              "\n",
              "  <div id=\"df-44819f65-bd57-4f82-ad2f-602b7c8879b6\">\n",
              "    <div class=\"colab-df-container\">\n",
              "      <div>\n",
              "<style scoped>\n",
              "    .dataframe tbody tr th:only-of-type {\n",
              "        vertical-align: middle;\n",
              "    }\n",
              "\n",
              "    .dataframe tbody tr th {\n",
              "        vertical-align: top;\n",
              "    }\n",
              "\n",
              "    .dataframe thead th {\n",
              "        text-align: right;\n",
              "    }\n",
              "</style>\n",
              "<table border=\"1\" class=\"dataframe\">\n",
              "  <thead>\n",
              "    <tr style=\"text-align: right;\">\n",
              "      <th></th>\n",
              "      <th>hypothesis</th>\n",
              "      <th>ICE</th>\n",
              "    </tr>\n",
              "  </thead>\n",
              "  <tbody>\n",
              "    <tr>\n",
              "      <th>8</th>\n",
              "      <td>Запустить акцию, дающую скидку на товар в день рождения</td>\n",
              "      <td>16.200000</td>\n",
              "    </tr>\n",
              "    <tr>\n",
              "      <th>0</th>\n",
              "      <td>Добавить два новых канала привлечения трафика, что позволит привлекать на 30% больше пользователей</td>\n",
              "      <td>13.333333</td>\n",
              "    </tr>\n",
              "    <tr>\n",
              "      <th>7</th>\n",
              "      <td>Добавить форму подписки на все основные страницы, чтобы собрать базу клиентов для email-рассылок</td>\n",
              "      <td>11.200000</td>\n",
              "    </tr>\n",
              "    <tr>\n",
              "      <th>6</th>\n",
              "      <td>Показать на главной странице баннеры с актуальными акциями и распродажами, чтобы увеличить конверсию</td>\n",
              "      <td>8.000000</td>\n",
              "    </tr>\n",
              "    <tr>\n",
              "      <th>2</th>\n",
              "      <td>Добавить блоки рекомендаций товаров на сайт интернет магазина, чтобы повысить конверсию и средний чек заказа</td>\n",
              "      <td>7.000000</td>\n",
              "    </tr>\n",
              "    <tr>\n",
              "      <th>1</th>\n",
              "      <td>Запустить собственную службу доставки, что сократит срок доставки заказов</td>\n",
              "      <td>2.000000</td>\n",
              "    </tr>\n",
              "    <tr>\n",
              "      <th>5</th>\n",
              "      <td>Добавить страницу отзывов клиентов о магазине, что позволит увеличить количество заказов</td>\n",
              "      <td>1.333333</td>\n",
              "    </tr>\n",
              "    <tr>\n",
              "      <th>3</th>\n",
              "      <td>Изменить структура категорий, что увеличит конверсию, т.к. пользователи быстрее найдут нужный товар</td>\n",
              "      <td>1.125000</td>\n",
              "    </tr>\n",
              "    <tr>\n",
              "      <th>4</th>\n",
              "      <td>Изменить цвет фона главной страницы, чтобы увеличить вовлеченность пользователей</td>\n",
              "      <td>1.000000</td>\n",
              "    </tr>\n",
              "  </tbody>\n",
              "</table>\n",
              "</div>\n",
              "      <button class=\"colab-df-convert\" onclick=\"convertToInteractive('df-44819f65-bd57-4f82-ad2f-602b7c8879b6')\"\n",
              "              title=\"Convert this dataframe to an interactive table.\"\n",
              "              style=\"display:none;\">\n",
              "        \n",
              "  <svg xmlns=\"http://www.w3.org/2000/svg\" height=\"24px\"viewBox=\"0 0 24 24\"\n",
              "       width=\"24px\">\n",
              "    <path d=\"M0 0h24v24H0V0z\" fill=\"none\"/>\n",
              "    <path d=\"M18.56 5.44l.94 2.06.94-2.06 2.06-.94-2.06-.94-.94-2.06-.94 2.06-2.06.94zm-11 1L8.5 8.5l.94-2.06 2.06-.94-2.06-.94L8.5 2.5l-.94 2.06-2.06.94zm10 10l.94 2.06.94-2.06 2.06-.94-2.06-.94-.94-2.06-.94 2.06-2.06.94z\"/><path d=\"M17.41 7.96l-1.37-1.37c-.4-.4-.92-.59-1.43-.59-.52 0-1.04.2-1.43.59L10.3 9.45l-7.72 7.72c-.78.78-.78 2.05 0 2.83L4 21.41c.39.39.9.59 1.41.59.51 0 1.02-.2 1.41-.59l7.78-7.78 2.81-2.81c.8-.78.8-2.07 0-2.86zM5.41 20L4 18.59l7.72-7.72 1.47 1.35L5.41 20z\"/>\n",
              "  </svg>\n",
              "      </button>\n",
              "      \n",
              "  <style>\n",
              "    .colab-df-container {\n",
              "      display:flex;\n",
              "      flex-wrap:wrap;\n",
              "      gap: 12px;\n",
              "    }\n",
              "\n",
              "    .colab-df-convert {\n",
              "      background-color: #E8F0FE;\n",
              "      border: none;\n",
              "      border-radius: 50%;\n",
              "      cursor: pointer;\n",
              "      display: none;\n",
              "      fill: #1967D2;\n",
              "      height: 32px;\n",
              "      padding: 0 0 0 0;\n",
              "      width: 32px;\n",
              "    }\n",
              "\n",
              "    .colab-df-convert:hover {\n",
              "      background-color: #E2EBFA;\n",
              "      box-shadow: 0px 1px 2px rgba(60, 64, 67, 0.3), 0px 1px 3px 1px rgba(60, 64, 67, 0.15);\n",
              "      fill: #174EA6;\n",
              "    }\n",
              "\n",
              "    [theme=dark] .colab-df-convert {\n",
              "      background-color: #3B4455;\n",
              "      fill: #D2E3FC;\n",
              "    }\n",
              "\n",
              "    [theme=dark] .colab-df-convert:hover {\n",
              "      background-color: #434B5C;\n",
              "      box-shadow: 0px 1px 3px 1px rgba(0, 0, 0, 0.15);\n",
              "      filter: drop-shadow(0px 1px 2px rgba(0, 0, 0, 0.3));\n",
              "      fill: #FFFFFF;\n",
              "    }\n",
              "  </style>\n",
              "\n",
              "      <script>\n",
              "        const buttonEl =\n",
              "          document.querySelector('#df-44819f65-bd57-4f82-ad2f-602b7c8879b6 button.colab-df-convert');\n",
              "        buttonEl.style.display =\n",
              "          google.colab.kernel.accessAllowed ? 'block' : 'none';\n",
              "\n",
              "        async function convertToInteractive(key) {\n",
              "          const element = document.querySelector('#df-44819f65-bd57-4f82-ad2f-602b7c8879b6');\n",
              "          const dataTable =\n",
              "            await google.colab.kernel.invokeFunction('convertToInteractive',\n",
              "                                                     [key], {});\n",
              "          if (!dataTable) return;\n",
              "\n",
              "          const docLinkHtml = 'Like what you see? Visit the ' +\n",
              "            '<a target=\"_blank\" href=https://colab.research.google.com/notebooks/data_table.ipynb>data table notebook</a>'\n",
              "            + ' to learn more about interactive tables.';\n",
              "          element.innerHTML = '';\n",
              "          dataTable['output_type'] = 'display_data';\n",
              "          await google.colab.output.renderOutput(dataTable, element);\n",
              "          const docLink = document.createElement('div');\n",
              "          docLink.innerHTML = docLinkHtml;\n",
              "          element.appendChild(docLink);\n",
              "        }\n",
              "      </script>\n",
              "    </div>\n",
              "  </div>\n",
              "  "
            ]
          },
          "metadata": {}
        }
      ],
      "source": [
        "hypothesis['ICE']=(hypothesis['impact']*hypothesis['confidence'])/hypothesis['efforts']\n",
        "display(hypothesis[['hypothesis','ICE']].sort_values(by = 'ICE', ascending = False))"
      ]
    },
    {
      "cell_type": "markdown",
      "metadata": {
        "id": "8zRxsXGKBhG4"
      },
      "source": [
        "Наиболее перспективные гипотезы: 8, 0, 7, наименее: 5, 3, 4."
      ]
    },
    {
      "cell_type": "markdown",
      "metadata": {
        "id": "wOY164DFBhG4"
      },
      "source": [
        "## Применение фреймворк RICE для приоритизации гипотез."
      ]
    },
    {
      "cell_type": "code",
      "execution_count": 59,
      "metadata": {
        "colab": {
          "base_uri": "https://localhost:8080/",
          "height": 332
        },
        "id": "uBQLqDwkBhG5",
        "outputId": "224f811a-0bef-46fd-9bd6-ff9f59339129"
      },
      "outputs": [
        {
          "output_type": "display_data",
          "data": {
            "text/plain": [
              "                                                                                                     hypothesis  \\\n",
              "7              Добавить форму подписки на все основные страницы, чтобы собрать базу клиентов для email-рассылок   \n",
              "2  Добавить блоки рекомендаций товаров на сайт интернет магазина, чтобы повысить конверсию и средний чек заказа   \n",
              "0            Добавить два новых канала привлечения трафика, что позволит привлекать на 30% больше пользователей   \n",
              "6          Показать на главной странице баннеры с актуальными акциями и распродажами, чтобы увеличить конверсию   \n",
              "8                                                       Запустить акцию, дающую скидку на товар в день рождения   \n",
              "3           Изменить структура категорий, что увеличит конверсию, т.к. пользователи быстрее найдут нужный товар   \n",
              "1                                     Запустить собственную службу доставки, что сократит срок доставки заказов   \n",
              "5                      Добавить страницу отзывов клиентов о магазине, что позволит увеличить количество заказов   \n",
              "4                              Изменить цвет фона главной страницы, чтобы увеличить вовлеченность пользователей   \n",
              "\n",
              "    RICE  \n",
              "7  112.0  \n",
              "2   56.0  \n",
              "0   40.0  \n",
              "6   40.0  \n",
              "8   16.2  \n",
              "3    9.0  \n",
              "1    4.0  \n",
              "5    4.0  \n",
              "4    3.0  "
            ],
            "text/html": [
              "\n",
              "  <div id=\"df-61e52bd0-da81-44dc-828a-aac3a4053d32\">\n",
              "    <div class=\"colab-df-container\">\n",
              "      <div>\n",
              "<style scoped>\n",
              "    .dataframe tbody tr th:only-of-type {\n",
              "        vertical-align: middle;\n",
              "    }\n",
              "\n",
              "    .dataframe tbody tr th {\n",
              "        vertical-align: top;\n",
              "    }\n",
              "\n",
              "    .dataframe thead th {\n",
              "        text-align: right;\n",
              "    }\n",
              "</style>\n",
              "<table border=\"1\" class=\"dataframe\">\n",
              "  <thead>\n",
              "    <tr style=\"text-align: right;\">\n",
              "      <th></th>\n",
              "      <th>hypothesis</th>\n",
              "      <th>RICE</th>\n",
              "    </tr>\n",
              "  </thead>\n",
              "  <tbody>\n",
              "    <tr>\n",
              "      <th>7</th>\n",
              "      <td>Добавить форму подписки на все основные страницы, чтобы собрать базу клиентов для email-рассылок</td>\n",
              "      <td>112.0</td>\n",
              "    </tr>\n",
              "    <tr>\n",
              "      <th>2</th>\n",
              "      <td>Добавить блоки рекомендаций товаров на сайт интернет магазина, чтобы повысить конверсию и средний чек заказа</td>\n",
              "      <td>56.0</td>\n",
              "    </tr>\n",
              "    <tr>\n",
              "      <th>0</th>\n",
              "      <td>Добавить два новых канала привлечения трафика, что позволит привлекать на 30% больше пользователей</td>\n",
              "      <td>40.0</td>\n",
              "    </tr>\n",
              "    <tr>\n",
              "      <th>6</th>\n",
              "      <td>Показать на главной странице баннеры с актуальными акциями и распродажами, чтобы увеличить конверсию</td>\n",
              "      <td>40.0</td>\n",
              "    </tr>\n",
              "    <tr>\n",
              "      <th>8</th>\n",
              "      <td>Запустить акцию, дающую скидку на товар в день рождения</td>\n",
              "      <td>16.2</td>\n",
              "    </tr>\n",
              "    <tr>\n",
              "      <th>3</th>\n",
              "      <td>Изменить структура категорий, что увеличит конверсию, т.к. пользователи быстрее найдут нужный товар</td>\n",
              "      <td>9.0</td>\n",
              "    </tr>\n",
              "    <tr>\n",
              "      <th>1</th>\n",
              "      <td>Запустить собственную службу доставки, что сократит срок доставки заказов</td>\n",
              "      <td>4.0</td>\n",
              "    </tr>\n",
              "    <tr>\n",
              "      <th>5</th>\n",
              "      <td>Добавить страницу отзывов клиентов о магазине, что позволит увеличить количество заказов</td>\n",
              "      <td>4.0</td>\n",
              "    </tr>\n",
              "    <tr>\n",
              "      <th>4</th>\n",
              "      <td>Изменить цвет фона главной страницы, чтобы увеличить вовлеченность пользователей</td>\n",
              "      <td>3.0</td>\n",
              "    </tr>\n",
              "  </tbody>\n",
              "</table>\n",
              "</div>\n",
              "      <button class=\"colab-df-convert\" onclick=\"convertToInteractive('df-61e52bd0-da81-44dc-828a-aac3a4053d32')\"\n",
              "              title=\"Convert this dataframe to an interactive table.\"\n",
              "              style=\"display:none;\">\n",
              "        \n",
              "  <svg xmlns=\"http://www.w3.org/2000/svg\" height=\"24px\"viewBox=\"0 0 24 24\"\n",
              "       width=\"24px\">\n",
              "    <path d=\"M0 0h24v24H0V0z\" fill=\"none\"/>\n",
              "    <path d=\"M18.56 5.44l.94 2.06.94-2.06 2.06-.94-2.06-.94-.94-2.06-.94 2.06-2.06.94zm-11 1L8.5 8.5l.94-2.06 2.06-.94-2.06-.94L8.5 2.5l-.94 2.06-2.06.94zm10 10l.94 2.06.94-2.06 2.06-.94-2.06-.94-.94-2.06-.94 2.06-2.06.94z\"/><path d=\"M17.41 7.96l-1.37-1.37c-.4-.4-.92-.59-1.43-.59-.52 0-1.04.2-1.43.59L10.3 9.45l-7.72 7.72c-.78.78-.78 2.05 0 2.83L4 21.41c.39.39.9.59 1.41.59.51 0 1.02-.2 1.41-.59l7.78-7.78 2.81-2.81c.8-.78.8-2.07 0-2.86zM5.41 20L4 18.59l7.72-7.72 1.47 1.35L5.41 20z\"/>\n",
              "  </svg>\n",
              "      </button>\n",
              "      \n",
              "  <style>\n",
              "    .colab-df-container {\n",
              "      display:flex;\n",
              "      flex-wrap:wrap;\n",
              "      gap: 12px;\n",
              "    }\n",
              "\n",
              "    .colab-df-convert {\n",
              "      background-color: #E8F0FE;\n",
              "      border: none;\n",
              "      border-radius: 50%;\n",
              "      cursor: pointer;\n",
              "      display: none;\n",
              "      fill: #1967D2;\n",
              "      height: 32px;\n",
              "      padding: 0 0 0 0;\n",
              "      width: 32px;\n",
              "    }\n",
              "\n",
              "    .colab-df-convert:hover {\n",
              "      background-color: #E2EBFA;\n",
              "      box-shadow: 0px 1px 2px rgba(60, 64, 67, 0.3), 0px 1px 3px 1px rgba(60, 64, 67, 0.15);\n",
              "      fill: #174EA6;\n",
              "    }\n",
              "\n",
              "    [theme=dark] .colab-df-convert {\n",
              "      background-color: #3B4455;\n",
              "      fill: #D2E3FC;\n",
              "    }\n",
              "\n",
              "    [theme=dark] .colab-df-convert:hover {\n",
              "      background-color: #434B5C;\n",
              "      box-shadow: 0px 1px 3px 1px rgba(0, 0, 0, 0.15);\n",
              "      filter: drop-shadow(0px 1px 2px rgba(0, 0, 0, 0.3));\n",
              "      fill: #FFFFFF;\n",
              "    }\n",
              "  </style>\n",
              "\n",
              "      <script>\n",
              "        const buttonEl =\n",
              "          document.querySelector('#df-61e52bd0-da81-44dc-828a-aac3a4053d32 button.colab-df-convert');\n",
              "        buttonEl.style.display =\n",
              "          google.colab.kernel.accessAllowed ? 'block' : 'none';\n",
              "\n",
              "        async function convertToInteractive(key) {\n",
              "          const element = document.querySelector('#df-61e52bd0-da81-44dc-828a-aac3a4053d32');\n",
              "          const dataTable =\n",
              "            await google.colab.kernel.invokeFunction('convertToInteractive',\n",
              "                                                     [key], {});\n",
              "          if (!dataTable) return;\n",
              "\n",
              "          const docLinkHtml = 'Like what you see? Visit the ' +\n",
              "            '<a target=\"_blank\" href=https://colab.research.google.com/notebooks/data_table.ipynb>data table notebook</a>'\n",
              "            + ' to learn more about interactive tables.';\n",
              "          element.innerHTML = '';\n",
              "          dataTable['output_type'] = 'display_data';\n",
              "          await google.colab.output.renderOutput(dataTable, element);\n",
              "          const docLink = document.createElement('div');\n",
              "          docLink.innerHTML = docLinkHtml;\n",
              "          element.appendChild(docLink);\n",
              "        }\n",
              "      </script>\n",
              "    </div>\n",
              "  </div>\n",
              "  "
            ]
          },
          "metadata": {}
        }
      ],
      "source": [
        "hypothesis['RICE']=(hypothesis['reach']*hypothesis['impact']*hypothesis['confidence'])/hypothesis['efforts']\n",
        "display(hypothesis[['hypothesis','RICE']].sort_values(by = 'RICE', ascending = False))"
      ]
    },
    {
      "cell_type": "markdown",
      "metadata": {
        "id": "Ki8zR__8BhG5"
      },
      "source": [
        "Наиболее перспективные гипотезы: 7, 2, 0, наименее: 1, 5, 4."
      ]
    },
    {
      "cell_type": "markdown",
      "metadata": {
        "id": "XlBre3asBhG6"
      },
      "source": [
        "## Как изменилась приоритизация гипотез при применении RICE вместо ICE и почему?"
      ]
    },
    {
      "cell_type": "code",
      "execution_count": 60,
      "metadata": {
        "colab": {
          "base_uri": "https://localhost:8080/",
          "height": 410
        },
        "id": "t2WxIsDyBhG6",
        "outputId": "4dd8f716-e926-4977-ee4a-915c41e8461c"
      },
      "outputs": [
        {
          "output_type": "display_data",
          "data": {
            "text/plain": [
              "                                                                                                     hypothesis  \\\n",
              "0            Добавить два новых канала привлечения трафика, что позволит привлекать на 30% больше пользователей   \n",
              "1                                     Запустить собственную службу доставки, что сократит срок доставки заказов   \n",
              "2  Добавить блоки рекомендаций товаров на сайт интернет магазина, чтобы повысить конверсию и средний чек заказа   \n",
              "3           Изменить структура категорий, что увеличит конверсию, т.к. пользователи быстрее найдут нужный товар   \n",
              "4                              Изменить цвет фона главной страницы, чтобы увеличить вовлеченность пользователей   \n",
              "5                      Добавить страницу отзывов клиентов о магазине, что позволит увеличить количество заказов   \n",
              "6          Показать на главной странице баннеры с актуальными акциями и распродажами, чтобы увеличить конверсию   \n",
              "7              Добавить форму подписки на все основные страницы, чтобы собрать базу клиентов для email-рассылок   \n",
              "8                                                       Запустить акцию, дающую скидку на товар в день рождения   \n",
              "\n",
              "   reach  impact  confidence  efforts        ICE   RICE  \n",
              "0      3      10           8        6  13.333333   40.0  \n",
              "1      2       5           4       10   2.000000    4.0  \n",
              "2      8       3           7        3   7.000000   56.0  \n",
              "3      8       3           3        8   1.125000    9.0  \n",
              "4      3       1           1        1   1.000000    3.0  \n",
              "5      3       2           2        3   1.333333    4.0  \n",
              "6      5       3           8        3   8.000000   40.0  \n",
              "7     10       7           8        5  11.200000  112.0  \n",
              "8      1       9           9        5  16.200000   16.2  "
            ],
            "text/html": [
              "\n",
              "  <div id=\"df-243311a3-2f96-4d83-b113-b6aed8736aeb\">\n",
              "    <div class=\"colab-df-container\">\n",
              "      <div>\n",
              "<style scoped>\n",
              "    .dataframe tbody tr th:only-of-type {\n",
              "        vertical-align: middle;\n",
              "    }\n",
              "\n",
              "    .dataframe tbody tr th {\n",
              "        vertical-align: top;\n",
              "    }\n",
              "\n",
              "    .dataframe thead th {\n",
              "        text-align: right;\n",
              "    }\n",
              "</style>\n",
              "<table border=\"1\" class=\"dataframe\">\n",
              "  <thead>\n",
              "    <tr style=\"text-align: right;\">\n",
              "      <th></th>\n",
              "      <th>hypothesis</th>\n",
              "      <th>reach</th>\n",
              "      <th>impact</th>\n",
              "      <th>confidence</th>\n",
              "      <th>efforts</th>\n",
              "      <th>ICE</th>\n",
              "      <th>RICE</th>\n",
              "    </tr>\n",
              "  </thead>\n",
              "  <tbody>\n",
              "    <tr>\n",
              "      <th>0</th>\n",
              "      <td>Добавить два новых канала привлечения трафика, что позволит привлекать на 30% больше пользователей</td>\n",
              "      <td>3</td>\n",
              "      <td>10</td>\n",
              "      <td>8</td>\n",
              "      <td>6</td>\n",
              "      <td>13.333333</td>\n",
              "      <td>40.0</td>\n",
              "    </tr>\n",
              "    <tr>\n",
              "      <th>1</th>\n",
              "      <td>Запустить собственную службу доставки, что сократит срок доставки заказов</td>\n",
              "      <td>2</td>\n",
              "      <td>5</td>\n",
              "      <td>4</td>\n",
              "      <td>10</td>\n",
              "      <td>2.000000</td>\n",
              "      <td>4.0</td>\n",
              "    </tr>\n",
              "    <tr>\n",
              "      <th>2</th>\n",
              "      <td>Добавить блоки рекомендаций товаров на сайт интернет магазина, чтобы повысить конверсию и средний чек заказа</td>\n",
              "      <td>8</td>\n",
              "      <td>3</td>\n",
              "      <td>7</td>\n",
              "      <td>3</td>\n",
              "      <td>7.000000</td>\n",
              "      <td>56.0</td>\n",
              "    </tr>\n",
              "    <tr>\n",
              "      <th>3</th>\n",
              "      <td>Изменить структура категорий, что увеличит конверсию, т.к. пользователи быстрее найдут нужный товар</td>\n",
              "      <td>8</td>\n",
              "      <td>3</td>\n",
              "      <td>3</td>\n",
              "      <td>8</td>\n",
              "      <td>1.125000</td>\n",
              "      <td>9.0</td>\n",
              "    </tr>\n",
              "    <tr>\n",
              "      <th>4</th>\n",
              "      <td>Изменить цвет фона главной страницы, чтобы увеличить вовлеченность пользователей</td>\n",
              "      <td>3</td>\n",
              "      <td>1</td>\n",
              "      <td>1</td>\n",
              "      <td>1</td>\n",
              "      <td>1.000000</td>\n",
              "      <td>3.0</td>\n",
              "    </tr>\n",
              "    <tr>\n",
              "      <th>5</th>\n",
              "      <td>Добавить страницу отзывов клиентов о магазине, что позволит увеличить количество заказов</td>\n",
              "      <td>3</td>\n",
              "      <td>2</td>\n",
              "      <td>2</td>\n",
              "      <td>3</td>\n",
              "      <td>1.333333</td>\n",
              "      <td>4.0</td>\n",
              "    </tr>\n",
              "    <tr>\n",
              "      <th>6</th>\n",
              "      <td>Показать на главной странице баннеры с актуальными акциями и распродажами, чтобы увеличить конверсию</td>\n",
              "      <td>5</td>\n",
              "      <td>3</td>\n",
              "      <td>8</td>\n",
              "      <td>3</td>\n",
              "      <td>8.000000</td>\n",
              "      <td>40.0</td>\n",
              "    </tr>\n",
              "    <tr>\n",
              "      <th>7</th>\n",
              "      <td>Добавить форму подписки на все основные страницы, чтобы собрать базу клиентов для email-рассылок</td>\n",
              "      <td>10</td>\n",
              "      <td>7</td>\n",
              "      <td>8</td>\n",
              "      <td>5</td>\n",
              "      <td>11.200000</td>\n",
              "      <td>112.0</td>\n",
              "    </tr>\n",
              "    <tr>\n",
              "      <th>8</th>\n",
              "      <td>Запустить акцию, дающую скидку на товар в день рождения</td>\n",
              "      <td>1</td>\n",
              "      <td>9</td>\n",
              "      <td>9</td>\n",
              "      <td>5</td>\n",
              "      <td>16.200000</td>\n",
              "      <td>16.2</td>\n",
              "    </tr>\n",
              "  </tbody>\n",
              "</table>\n",
              "</div>\n",
              "      <button class=\"colab-df-convert\" onclick=\"convertToInteractive('df-243311a3-2f96-4d83-b113-b6aed8736aeb')\"\n",
              "              title=\"Convert this dataframe to an interactive table.\"\n",
              "              style=\"display:none;\">\n",
              "        \n",
              "  <svg xmlns=\"http://www.w3.org/2000/svg\" height=\"24px\"viewBox=\"0 0 24 24\"\n",
              "       width=\"24px\">\n",
              "    <path d=\"M0 0h24v24H0V0z\" fill=\"none\"/>\n",
              "    <path d=\"M18.56 5.44l.94 2.06.94-2.06 2.06-.94-2.06-.94-.94-2.06-.94 2.06-2.06.94zm-11 1L8.5 8.5l.94-2.06 2.06-.94-2.06-.94L8.5 2.5l-.94 2.06-2.06.94zm10 10l.94 2.06.94-2.06 2.06-.94-2.06-.94-.94-2.06-.94 2.06-2.06.94z\"/><path d=\"M17.41 7.96l-1.37-1.37c-.4-.4-.92-.59-1.43-.59-.52 0-1.04.2-1.43.59L10.3 9.45l-7.72 7.72c-.78.78-.78 2.05 0 2.83L4 21.41c.39.39.9.59 1.41.59.51 0 1.02-.2 1.41-.59l7.78-7.78 2.81-2.81c.8-.78.8-2.07 0-2.86zM5.41 20L4 18.59l7.72-7.72 1.47 1.35L5.41 20z\"/>\n",
              "  </svg>\n",
              "      </button>\n",
              "      \n",
              "  <style>\n",
              "    .colab-df-container {\n",
              "      display:flex;\n",
              "      flex-wrap:wrap;\n",
              "      gap: 12px;\n",
              "    }\n",
              "\n",
              "    .colab-df-convert {\n",
              "      background-color: #E8F0FE;\n",
              "      border: none;\n",
              "      border-radius: 50%;\n",
              "      cursor: pointer;\n",
              "      display: none;\n",
              "      fill: #1967D2;\n",
              "      height: 32px;\n",
              "      padding: 0 0 0 0;\n",
              "      width: 32px;\n",
              "    }\n",
              "\n",
              "    .colab-df-convert:hover {\n",
              "      background-color: #E2EBFA;\n",
              "      box-shadow: 0px 1px 2px rgba(60, 64, 67, 0.3), 0px 1px 3px 1px rgba(60, 64, 67, 0.15);\n",
              "      fill: #174EA6;\n",
              "    }\n",
              "\n",
              "    [theme=dark] .colab-df-convert {\n",
              "      background-color: #3B4455;\n",
              "      fill: #D2E3FC;\n",
              "    }\n",
              "\n",
              "    [theme=dark] .colab-df-convert:hover {\n",
              "      background-color: #434B5C;\n",
              "      box-shadow: 0px 1px 3px 1px rgba(0, 0, 0, 0.15);\n",
              "      filter: drop-shadow(0px 1px 2px rgba(0, 0, 0, 0.3));\n",
              "      fill: #FFFFFF;\n",
              "    }\n",
              "  </style>\n",
              "\n",
              "      <script>\n",
              "        const buttonEl =\n",
              "          document.querySelector('#df-243311a3-2f96-4d83-b113-b6aed8736aeb button.colab-df-convert');\n",
              "        buttonEl.style.display =\n",
              "          google.colab.kernel.accessAllowed ? 'block' : 'none';\n",
              "\n",
              "        async function convertToInteractive(key) {\n",
              "          const element = document.querySelector('#df-243311a3-2f96-4d83-b113-b6aed8736aeb');\n",
              "          const dataTable =\n",
              "            await google.colab.kernel.invokeFunction('convertToInteractive',\n",
              "                                                     [key], {});\n",
              "          if (!dataTable) return;\n",
              "\n",
              "          const docLinkHtml = 'Like what you see? Visit the ' +\n",
              "            '<a target=\"_blank\" href=https://colab.research.google.com/notebooks/data_table.ipynb>data table notebook</a>'\n",
              "            + ' to learn more about interactive tables.';\n",
              "          element.innerHTML = '';\n",
              "          dataTable['output_type'] = 'display_data';\n",
              "          await google.colab.output.renderOutput(dataTable, element);\n",
              "          const docLink = document.createElement('div');\n",
              "          docLink.innerHTML = docLinkHtml;\n",
              "          element.appendChild(docLink);\n",
              "        }\n",
              "      </script>\n",
              "    </div>\n",
              "  </div>\n",
              "  "
            ]
          },
          "metadata": {}
        }
      ],
      "source": [
        "display(hypothesis)"
      ]
    },
    {
      "cell_type": "markdown",
      "metadata": {
        "id": "halup0HtBhG7"
      },
      "source": [
        "Гипотеза 8 опустилась на несколько позиций, в то время как гипотеза 7 поднялась на первое место, так как параметр Reach 7 гипотезы равен 10, что выше всех остальных, а параметр Reach 8 гипотезы равен 1."
      ]
    },
    {
      "cell_type": "markdown",
      "metadata": {
        "id": "yU1C6nzLBhG7"
      },
      "source": [
        "# Анализ A/B-теста"
      ]
    },
    {
      "cell_type": "markdown",
      "metadata": {
        "id": "RnV2jA8BBhG7"
      },
      "source": [
        "## График кумулятивной выручки по группам."
      ]
    },
    {
      "cell_type": "code",
      "execution_count": 61,
      "metadata": {
        "colab": {
          "base_uri": "https://localhost:8080/",
          "height": 369
        },
        "id": "gpoR7tAcBhG8",
        "outputId": "0b9aa881-1c2a-4981-db24-1a8b15e2fa73"
      },
      "outputs": [
        {
          "output_type": "display_data",
          "data": {
            "text/plain": [
              "<Figure size 576x360 with 1 Axes>"
            ],
            "image/png": "[encoded data removed]"
          },
          "metadata": {
            "needs_background": "light"
          }
        }
      ],
      "source": [
        "# создаем массив уникальных пар значений дат и групп теста\n",
        "plt.figure(figsize=(8, 5))\n",
        "datesGroups = orders[['date','group']].drop_duplicates()\n",
        "datesGroups['date'] = pd.to_datetime(datesGroups['date']).dt.date \n",
        "visitorsAggregated = datesGroups.apply(lambda x: visitors[np.logical_and(visitors['date'] <= x['date'],\\\n",
        "visitors['group'] == x['group'])].agg({'date' : 'max', 'group' : 'max', 'visitors' : 'sum'}), axis=1).sort_values(by=['date','group'])\n",
        "\n",
        "ordersAggregated = datesGroups.apply(lambda x: orders[np.logical_and(orders['date'] <= x['date'],\\\n",
        "orders['group'] == x['group'])]\\\n",
        ".agg({'date' : 'max', 'group' : 'max', 'transaction_id' : 'nunique', 'visitor_id' : 'nunique', 'revenue' : 'sum'}), axis=1)\\\n",
        ".sort_values(by=['date','group'])\n",
        "\n",
        "# объединяем кумулятивные данные в одной таблице и присваиваем ее столбцам понятные названия\n",
        "cumulativeData = ordersAggregated.merge(visitorsAggregated, left_on=['date', 'group'], right_on=['date', 'group'])\n",
        "cumulativeData.columns = ['date', 'group', 'orders', 'buyers', 'revenue', 'visitors'] \n",
        "\n",
        "# датафрейм с кумулятивным количеством заказов и кумулятивной выручкой по дням в группе А\n",
        "cumulativeRevenueA = cumulativeData[cumulativeData['group']=='A'][['date','revenue', 'orders']]\n",
        "# датафрейм с кумулятивным количеством заказов и кумулятивной выручкой по дням в группе B\n",
        "cumulativeRevenueB = cumulativeData[cumulativeData['group']=='B'][['date','revenue', 'orders']]\n",
        "# Строим график выручки группы А\n",
        "plt.plot(cumulativeRevenueA['date'], cumulativeRevenueA['revenue'], label='A')\n",
        "# Строим график выручки группы B\n",
        "plt.plot(cumulativeRevenueB['date'], cumulativeRevenueB['revenue'], label='B')\n",
        "plt.legend()\n",
        "plt.title('График кумулятивной выручки по группам')\n",
        "plt.xlabel('Дата')\n",
        "plt.ylabel('Выручка')\n",
        "plt.xticks(rotation = 20);"
      ]
    },
    {
      "cell_type": "markdown",
      "metadata": {
        "id": "nrYr_u1UBhG9"
      },
      "source": [
        "\"Синяя\" группа стабильно хуже, \"красная\" лучше и имеет несколько всплесков, самый крупный которых был 18.08. В этот день была самая большая выручка из-за аномально дорогого заказа."
      ]
    },
    {
      "cell_type": "markdown",
      "metadata": {
        "id": "2clhW-mmBhG9"
      },
      "source": [
        "## График кумулятивного среднего чека по группам."
      ]
    },
    {
      "cell_type": "code",
      "execution_count": 62,
      "metadata": {
        "colab": {
          "base_uri": "https://localhost:8080/",
          "height": 369
        },
        "id": "SQCbLPtJBhG-",
        "outputId": "659d0dac-eaee-446e-a8e0-000b420ebbc4"
      },
      "outputs": [
        {
          "output_type": "display_data",
          "data": {
            "text/plain": [
              "<Figure size 576x360 with 1 Axes>"
            ],
            "image/png": "[encoded data removed]"
          },
          "metadata": {
            "needs_background": "light"
          }
        }
      ],
      "source": [
        "plt.figure(figsize=(8, 5))\n",
        "plt.plot(cumulativeRevenueA['date'], cumulativeRevenueA['revenue']/cumulativeRevenueA['orders'], label='A')\n",
        "plt.plot(cumulativeRevenueB['date'], cumulativeRevenueB['revenue']/cumulativeRevenueB['orders'], label='B')\n",
        "plt.legend() \n",
        "plt.title('График кумулятивного среднего чека по группам')\n",
        "plt.xlabel('Дата')\n",
        "plt.ylabel('Средний чек')\n",
        "plt.xticks(rotation = 20);"
      ]
    },
    {
      "cell_type": "markdown",
      "metadata": {
        "id": "YbjFH-I2BhG-"
      },
      "source": [
        "Средний чек синей группы А был гораздо ниже до 13.08, после которого произошёл всплеск, но после у группы В произошёл аномально большой всплеск 18.08, из-за которого средний чек стал на треть больше."
      ]
    },
    {
      "cell_type": "markdown",
      "metadata": {
        "id": "7t1RGwlRBhG-"
      },
      "source": [
        "## График относительного изменения кумулятивного среднего чека группы B к группе A. "
      ]
    },
    {
      "cell_type": "code",
      "execution_count": 63,
      "metadata": {
        "colab": {
          "base_uri": "https://localhost:8080/",
          "height": 369
        },
        "id": "48Zb9BHmBhHA",
        "outputId": "0d49e18c-0473-4fc9-b7fd-c2ddbca57182"
      },
      "outputs": [
        {
          "output_type": "display_data",
          "data": {
            "text/plain": [
              "<Figure size 576x360 with 1 Axes>"
            ],
            "image/png": "[encoded data removed]"
          },
          "metadata": {
            "needs_background": "light"
          }
        }
      ],
      "source": [
        "# собираем данные в одном датафрейме\n",
        "mergedCumulativeRevenue = cumulativeRevenueA.merge(cumulativeRevenueB, left_on='date', right_on='date', how='left', suffixes=['A', 'B'])\n",
        "plt.figure(figsize=(8, 5))\n",
        "# cтроим отношение средних чеков\n",
        "plt.plot(mergedCumulativeRevenue['date'], (mergedCumulativeRevenue['revenueB']/mergedCumulativeRevenue['ordersB'])/(mergedCumulativeRevenue['revenueA']/mergedCumulativeRevenue['ordersA'])-1)\n",
        "\n",
        "# добавляем ось X\n",
        "plt.axhline(y=0, color='black', linestyle='--')\n",
        "plt.title('График относительного изменения кумулятивного среднего чека группы B к группе A')\n",
        "plt.xlabel('Дата')\n",
        "plt.xticks(rotation = 20);"
      ]
    },
    {
      "cell_type": "markdown",
      "metadata": {
        "id": "PdkA9BAIBhHA"
      },
      "source": [
        "Во многих точках график скачет, что говорит крупных заказах, после 18 числа проиходит самый большой скачок, после которого идёт медленное снижение. Кумулятивный средний чек группы B стабильно выше другой группы."
      ]
    },
    {
      "cell_type": "markdown",
      "metadata": {
        "id": "5YTC5-lKBhHB"
      },
      "source": [
        "##  График кумулятивного среднего количества заказов на посетителя по группам. "
      ]
    },
    {
      "cell_type": "code",
      "execution_count": 64,
      "metadata": {
        "colab": {
          "base_uri": "https://localhost:8080/",
          "height": 369
        },
        "id": "BgfQi_mPBhHB",
        "outputId": "634c7dc1-0006-40dd-dff7-bb49923d00e1"
      },
      "outputs": [
        {
          "output_type": "display_data",
          "data": {
            "text/plain": [
              "<Figure size 576x360 with 1 Axes>"
            ],
            "image/png": "[encoded data removed]"
          },
          "metadata": {
            "needs_background": "light"
          }
        }
      ],
      "source": [
        "# считаем кумулятивную конверсию\n",
        "cumulativeData['conversion'] = cumulativeData['orders']/cumulativeData['visitors']\n",
        "plt.figure(figsize=(8, 5))\n",
        "# отделяем данные по группе A\n",
        "cumulativeDataA = cumulativeData[cumulativeData['group']=='A']\n",
        "# отделяем данные по группе B\n",
        "cumulativeDataB = cumulativeData[cumulativeData['group']=='B']\n",
        "# строим графики\n",
        "plt.plot(cumulativeDataA['date'], cumulativeDataA['conversion'], label='A')\n",
        "plt.plot(cumulativeDataB['date'], cumulativeDataB['conversion'], label='B')\n",
        "plt.legend()\n",
        "plt.title('График кумулятивного среднего количества заказов на посетителя по группам')\n",
        "plt.xlabel('Дата')\n",
        "plt.ylabel('Среднее заказов на посетителя')\n",
        "plt.xticks(rotation = 20);"
      ]
    },
    {
      "cell_type": "markdown",
      "metadata": {
        "id": "YOmp38LIBhHB"
      },
      "source": [
        "Конверсии обеих групп со временем падают примерно на 5%, но группа А заметно ниже группы В.\n"
      ]
    },
    {
      "cell_type": "markdown",
      "metadata": {
        "id": "F6mmuFV1BhHC"
      },
      "source": [
        "##     График относительного изменения кумулятивного среднего количества заказов на посетителя группы B к группе A."
      ]
    },
    {
      "cell_type": "code",
      "execution_count": 65,
      "metadata": {
        "colab": {
          "base_uri": "https://localhost:8080/",
          "height": 369
        },
        "id": "_5nx9NuRBhHC",
        "outputId": "d88ea80a-d71b-4146-c5c2-1ebfa14a3a44"
      },
      "outputs": [
        {
          "output_type": "display_data",
          "data": {
            "text/plain": [
              "<Figure size 576x360 with 1 Axes>"
            ],
            "image/png": "[encoded data removed]"
          },
          "metadata": {
            "needs_background": "light"
          }
        }
      ],
      "source": [
        "mergedCumulativeConversions = cumulativeDataA[['date','conversion']].merge(cumulativeDataB[['date','conversion']], left_on='date', right_on='date', how='left', suffixes=['A', 'B'])\n",
        "plt.figure(figsize=(8, 5))                              \n",
        "plt.plot(mergedCumulativeConversions['date'], mergedCumulativeConversions['conversionB']/mergedCumulativeConversions['conversionA']-1, label=\"Относительный прирост конверсии группы B относительно группы A\")\n",
        "plt.legend()\n",
        "\n",
        "plt.axhline(y=0, color='black', linestyle='--')\n",
        "plt.title('График относительного изменения кумулятивного среднего количества заказов на посетителя группы B к группе A')\n",
        "plt.xlabel('Дата')\n",
        "plt.xticks(rotation = 20);"
      ]
    },
    {
      "cell_type": "markdown",
      "metadata": {
        "id": "Iea2GCneBhHC"
      },
      "source": [
        "Сначала среднее количество заказов на посетителя группы B было меньше, чем у группы А, но потом среднее выросло на примерно 15%."
      ]
    },
    {
      "cell_type": "markdown",
      "metadata": {
        "id": "qE09tkDDBhHD"
      },
      "source": [
        "##   Точечный график количества заказов по пользователям."
      ]
    },
    {
      "cell_type": "code",
      "execution_count": 66,
      "metadata": {
        "colab": {
          "base_uri": "https://localhost:8080/",
          "height": 336
        },
        "id": "K0qLcZzPBhHE",
        "outputId": "710387db-6db5-4750-a7a3-0a4bdc91d84c"
      },
      "outputs": [
        {
          "output_type": "display_data",
          "data": {
            "text/plain": [
              "<Figure size 576x360 with 1 Axes>"
            ],
            "image/png": "[encoded data removed]"
          },
          "metadata": {
            "needs_background": "light"
          }
        }
      ],
      "source": [
        "ordersByUsers = (\n",
        "    orders.groupby('visitor_id', as_index=False)\n",
        "    .agg({'transaction_id': 'nunique'})\n",
        ")\n",
        "\n",
        "ordersByUsers.columns = ['visitor_id', 'orders']\n",
        "plt.figure(figsize=(8, 5))\n",
        "x_value = pd.Series(range(0,len(ordersByUsers['orders'])))\n",
        "plt.title('Точечный график количества заказов по пользователям')\n",
        "plt.scatter(x_value, ordersByUsers['orders']);"
      ]
    },
    {
      "cell_type": "markdown",
      "metadata": {
        "id": "gupG0JALBhHE"
      },
      "source": [
        "Большинство пользователей делают 1 заказ, но многие также делают 2 или 3 заказа."
      ]
    },
    {
      "cell_type": "markdown",
      "metadata": {
        "id": "zIBv10YtBhHE"
      },
      "source": [
        "## 95-й и 99-й перцентили количества заказов на пользователя."
      ]
    },
    {
      "cell_type": "code",
      "execution_count": 67,
      "metadata": {
        "colab": {
          "base_uri": "https://localhost:8080/"
        },
        "id": "MKmzu5SbBhHE",
        "outputId": "de685f7d-0f5b-40b0-8ec9-521dc47c7ee7"
      },
      "outputs": [
        {
          "output_type": "stream",
          "name": "stdout",
          "text": [
            "[1. 2.]\n"
          ]
        }
      ],
      "source": [
        "print(np.percentile(ordersByUsers['orders'], [95, 99]))"
      ]
    },
    {
      "cell_type": "markdown",
      "metadata": {
        "id": "oaE9_tECBhHF"
      },
      "source": [
        "Аномальными пользователями можно счиать пользователей, совершивших более 2 покупок."
      ]
    },
    {
      "cell_type": "markdown",
      "metadata": {
        "id": "W_e1imNgBhHF"
      },
      "source": [
        "##    Точечный график стоимостей заказов."
      ]
    },
    {
      "cell_type": "code",
      "execution_count": 68,
      "metadata": {
        "colab": {
          "base_uri": "https://localhost:8080/",
          "height": 336
        },
        "id": "178RNRCGBhHF",
        "outputId": "522f6cba-1936-4faf-9389-508d31d0df5a"
      },
      "outputs": [
        {
          "output_type": "display_data",
          "data": {
            "text/plain": [
              "<Figure size 576x360 with 1 Axes>"
            ],
            "image/png": "[encoded data removed]"
          },
          "metadata": {
            "needs_background": "light"
          }
        }
      ],
      "source": [
        "x_values = pd.Series(range(0,len(orders['revenue'])))\n",
        "plt.figure(figsize=(8, 5))\n",
        "plt.title('Точечный график стоимостей заказов')\n",
        "plt.scatter(x_values, orders['revenue']);"
      ]
    },
    {
      "cell_type": "markdown",
      "metadata": {
        "id": "T5JPWCSsBhHG"
      },
      "source": [
        "Все заказы стоят примерно одинаково, но встречаются и аномально дорогие заказы."
      ]
    },
    {
      "cell_type": "code",
      "source": [
        "#Тот же график, ограниченный по y, чтобы осмотреть основную часть без выбросов\n",
        "x_values = pd.Series(range(0,len(orders['revenue'])))\n",
        "plt.figure(figsize=(8, 5))\n",
        "plt.ylim(0,80000)\n",
        "plt.title('Точечный график стоимостей заказов')\n",
        "plt.scatter(x_values, orders['revenue']);"
      ],
      "metadata": {
        "colab": {
          "base_uri": "https://localhost:8080/",
          "height": 336
        },
        "id": "kG0vvVijF2Mt",
        "outputId": "d27e09b3-c72d-4d53-d05c-4aa535e0f543"
      },
      "execution_count": 69,
      "outputs": [
        {
          "output_type": "display_data",
          "data": {
            "text/plain": [
              "<Figure size 576x360 with 1 Axes>"
            ],
            "image/png": "[encoded data removed]"
          },
          "metadata": {
            "needs_background": "light"
          }
        }
      ]
    },
    {
      "cell_type": "markdown",
      "metadata": {
        "id": "xi1R694rBhHG"
      },
      "source": [
        "##  95-й и 99-й перцентили стоимости заказов."
      ]
    },
    {
      "cell_type": "code",
      "execution_count": 70,
      "metadata": {
        "colab": {
          "base_uri": "https://localhost:8080/"
        },
        "id": "z4IZ3gdOBhHG",
        "outputId": "791590ad-8816-4913-b0df-6748d4cfe9da"
      },
      "outputs": [
        {
          "output_type": "stream",
          "name": "stdout",
          "text": [
            "[26785. 53904.]\n"
          ]
        }
      ],
      "source": [
        "print(np.percentile(orders['revenue'], [95, 99]))"
      ]
    },
    {
      "cell_type": "markdown",
      "metadata": {
        "id": "XKE-wlDuBhHH"
      },
      "source": [
        "Не более 5% заказов дороже 26785 у.е. и не более 1% дороже 53904. Границей аномальных значений будет 95 перцентиль."
      ]
    },
    {
      "cell_type": "markdown",
      "metadata": {
        "id": "6YwJVYj0BhHH"
      },
      "source": [
        "##   Статистическая значимость различий в среднем количестве заказов на посетителя между группами по «сырым» данным.\n",
        " "
      ]
    },
    {
      "cell_type": "markdown",
      "metadata": {
        "id": "9sTMqu8oBhHI"
      },
      "source": [
        "H0 - Статистической значимости различий в среднем количестве заказов на посетителя между группами нет.\n",
        "\n",
        "Н - Статистическая значимость различий в среднем количестве заказов на посетителя между группами есть."
      ]
    },
    {
      "cell_type": "code",
      "execution_count": 71,
      "metadata": {
        "id": "3Pu3VQPrBhHI"
      },
      "outputs": [],
      "source": [
        "visitorsADaily = visitors[visitors['group'] == 'A'][['date', 'visitors']]\n",
        "visitorsADaily.columns = ['date', 'visitorsPerDateA']\n",
        "\n",
        "visitorsACummulative = visitorsADaily.apply(\n",
        "    lambda x: visitorsADaily[visitorsADaily['date'] <= x['date']].agg(\n",
        "        {'date': 'max', 'visitorsPerDateA': 'sum'}\n",
        "    ),\n",
        "    axis=1,\n",
        ")\n",
        "visitorsACummulative.columns = ['date', 'visitorsCummulativeA']\n",
        "\n",
        "visitorsBDaily = visitors[visitors['group'] == 'B'][['date', 'visitors']]\n",
        "visitorsBDaily.columns = ['date', 'visitorsPerDateB']\n",
        "\n",
        "visitorsBCummulative = visitorsBDaily.apply(\n",
        "    lambda x: visitorsBDaily[visitorsBDaily['date'] <= x['date']].agg(\n",
        "        {'date': 'max', 'visitorsPerDateB': 'sum'}\n",
        "    ),\n",
        "    axis=1,\n",
        ")\n",
        "visitorsBCummulative.columns = ['date', 'visitorsCummulativeB']\n",
        "\n",
        "ordersADaily = (\n",
        "    orders[orders['group'] == 'A'][['date', 'transaction_id', 'visitor_id', 'revenue']]\n",
        "    .groupby('date', as_index=False)\n",
        "    .agg({'transaction_id': pd.Series.nunique, 'revenue': 'sum'})\n",
        ")\n",
        "ordersADaily.columns = ['date', 'ordersPerDateA', 'revenuePerDateA']\n",
        "\n",
        "ordersACummulative = ordersADaily.apply(\n",
        "    lambda x: ordersADaily[ordersADaily['date'] <= x['date']].agg(\n",
        "        {'date': 'max', 'ordersPerDateA': 'sum', 'revenuePerDateA': 'sum'}\n",
        "    ),\n",
        "    axis=1,\n",
        ").sort_values(by=['date'])\n",
        "ordersACummulative.columns = [\n",
        "    'date',\n",
        "    'ordersCummulativeA',\n",
        "    'revenueCummulativeA',\n",
        "]\n",
        "\n",
        "ordersBDaily = (\n",
        "    orders[orders['group'] == 'B'][['date', 'transaction_id', 'visitor_id', 'revenue']]\n",
        "    .groupby('date', as_index=False)\n",
        "    .agg({'transaction_id': pd.Series.nunique, 'revenue': 'sum'})\n",
        ")\n",
        "ordersBDaily.columns = ['date', 'ordersPerDateB', 'revenuePerDateB']\n",
        "\n",
        "ordersBCummulative = ordersBDaily.apply(\n",
        "    lambda x: ordersBDaily[ordersBDaily['date'] <= x['date']].agg(\n",
        "        {'date': 'max', 'ordersPerDateB': 'sum', 'revenuePerDateB': 'sum'}\n",
        "    ),\n",
        "    axis=1,\n",
        ").sort_values(by=['date'])\n",
        "ordersBCummulative.columns = [\n",
        "    'date',\n",
        "    'ordersCummulativeB',\n",
        "    'revenueCummulativeB',\n",
        "]\n",
        "\n",
        "data = (\n",
        "    ordersADaily.merge(\n",
        "        ordersBDaily, left_on='date', right_on='date', how='left'\n",
        "    )\n",
        "    .merge(ordersACummulative, left_on='date', right_on='date', how='left')\n",
        "    .merge(ordersBCummulative, left_on='date', right_on='date', how='left')\n",
        "    .merge(visitorsADaily, left_on='date', right_on='date', how='left')\n",
        "    .merge(visitorsBDaily, left_on='date', right_on='date', how='left')\n",
        "    .merge(visitorsACummulative, left_on='date', right_on='date', how='left')\n",
        "    .merge(visitorsBCummulative, left_on='date', right_on='date', how='left')\n",
        ")"
      ]
    },
    {
      "cell_type": "code",
      "execution_count": 72,
      "metadata": {
        "colab": {
          "base_uri": "https://localhost:8080/"
        },
        "id": "rG_vDrW9BhHI",
        "outputId": "2d20ce21-cb00-459e-b815-16ae9af8dcf6"
      },
      "outputs": [
        {
          "output_type": "stream",
          "name": "stdout",
          "text": [
            "p-value: 0.011\n",
            "Различие в среднем количестве заказов: 0.160\n",
            "Отвергаем нулевую гипотезу\n"
          ]
        }
      ],
      "source": [
        "ordersByUsersA = (\n",
        "    orders[orders['group'] == 'A']\n",
        "    .groupby('visitor_id', as_index=False)\n",
        "    .agg({'transaction_id': pd.Series.nunique})\n",
        ")\n",
        "ordersByUsersA.columns = ['visitor_id', 'orders']\n",
        "\n",
        "ordersByUsersB = (\n",
        "    orders[orders['group'] == 'B']\n",
        "    .groupby('visitor_id', as_index=False)\n",
        "    .agg({'transaction_id': pd.Series.nunique})\n",
        ")\n",
        "ordersByUsersB.columns = ['visitor_id', 'orders']\n",
        "\n",
        "sampleA = pd.concat(\n",
        "    [\n",
        "        ordersByUsersA['orders'],\n",
        "        pd.Series(\n",
        "            0,\n",
        "            index=np.arange(\n",
        "                data['visitorsPerDateA'].sum() - len(ordersByUsersA['orders'])\n",
        "            ),\n",
        "            name='orders',\n",
        "        ),\n",
        "    ],\n",
        "    axis=0,\n",
        ")\n",
        "\n",
        "sampleB = pd.concat(\n",
        "    [\n",
        "        ordersByUsersB['orders'],\n",
        "        pd.Series(\n",
        "            0,\n",
        "            index=np.arange(\n",
        "                data['visitorsPerDateB'].sum() - len(ordersByUsersB['orders'])\n",
        "            ),\n",
        "            name='orders',\n",
        "        ),\n",
        "    ],\n",
        "    axis=0,\n",
        ")\n",
        "\n",
        "alpha = .05\n",
        "\n",
        "p_value=stats.mannwhitneyu(sampleA, sampleB)[1]\n",
        "\n",
        "print(\"p-value: {0:.3f}\".format(p_value))\n",
        "\n",
        "print(\"Различие в среднем количестве заказов: {0:.3f}\".format(sampleB.mean() / sampleA.mean() - 1))\n",
        "\n",
        "if p_value < alpha:\n",
        "    print('Отвергаем нулевую гипотезу')\n",
        "else:\n",
        "    print(\n",
        "        'Не получилось отвергнуть нулевую гипотезу'\n",
        "    ) "
      ]
    },
    {
      "cell_type": "markdown",
      "metadata": {
        "id": "0PRdmUZcBhHJ"
      },
      "source": [
        "p-value (0.011) < 0.05. Значит, нулевую гипотезу отвергаем, различия в среднем количестве заказов на посетителя между группами есть. Относительный выигрыш группы B равен 16% "
      ]
    },
    {
      "cell_type": "markdown",
      "metadata": {
        "id": "ZTwK6piPBhHK"
      },
      "source": [
        "## Посчитайте статистическую значимость различий в среднем чеке заказа между группами по «сырым» данным."
      ]
    },
    {
      "cell_type": "markdown",
      "metadata": {
        "id": "lEP36xn4BhHL"
      },
      "source": [
        "H0 - Статистической значимости различий в среднем чеке заказа между группами нет.\n",
        "\n",
        "Н - Статистическая значимость различий в среднем чеке заказа между группами есть."
      ]
    },
    {
      "cell_type": "code",
      "execution_count": 73,
      "metadata": {
        "colab": {
          "base_uri": "https://localhost:8080/"
        },
        "id": "KKPoh3AzBhHL",
        "outputId": "63f4abb6-acfe-4c78-e256-33c593e14c4c"
      },
      "outputs": [
        {
          "output_type": "stream",
          "name": "stdout",
          "text": [
            "p-value: 0.829\n",
            "Различие в среднем чеке: 0.287\n",
            "Не получилось отвергнуть нулевую гипотезу\n"
          ]
        }
      ],
      "source": [
        "p_value1=stats.mannwhitneyu(orders[orders['group']=='A']['revenue'], orders[orders['group']=='B']['revenue'])[1]\n",
        "\n",
        "print('p-value: {0:.3f}'.format(p_value1))\n",
        "print('Различие в среднем чеке: {0:.3f}'.format(orders[orders['group']=='B']['revenue'].mean()/orders[orders['group']=='A']['revenue'].mean()-1)) \n",
        "\n",
        "if p_value1 < alpha:\n",
        "    print('Отвергаем нулевую гипотезу')\n",
        "else:\n",
        "    print(\n",
        "        'Не получилось отвергнуть нулевую гипотезу'\n",
        "    ) "
      ]
    },
    {
      "cell_type": "markdown",
      "metadata": {
        "id": "p1vUXIRuBhHM"
      },
      "source": [
        "P-value значительно больше 0.05. Значит, причин отвергать нулевую гипотезу и считать, что в среднем чеке есть различия, нет. Средний чек группы B выше среднего чека группы A почти на 30%. Поскольку относительное различие среднего чека между сегментами составляет ~26%, наблюдаемые различия не являются значимыми при таком уровне значимости, а следовательно были получены случайно. "
      ]
    },
    {
      "cell_type": "markdown",
      "metadata": {
        "id": "g_SrWLGJBhHN"
      },
      "source": [
        "##   Статистическая значимость различий в среднем количестве заказов на посетителя между группами по «очищенным» данным."
      ]
    },
    {
      "cell_type": "code",
      "execution_count": 74,
      "metadata": {
        "id": "mURyBLtTBhHN"
      },
      "outputs": [],
      "source": [
        "x=np.percentile(orders['revenue'], 95)\n",
        "y=np.percentile(ordersByUsers['orders'], 99)"
      ]
    },
    {
      "cell_type": "code",
      "execution_count": 75,
      "metadata": {
        "colab": {
          "base_uri": "https://localhost:8080/"
        },
        "id": "F26iBuEOBhHT",
        "outputId": "d3be4214-2f83-4431-9de3-298e74c85156"
      },
      "outputs": [
        {
          "output_type": "stream",
          "name": "stdout",
          "text": [
            "568     113298937\n",
            "1099    148427295\n",
            "928     204675465\n",
            "33      249864742\n",
            "684     358944393\n",
            "Name: visitor_id, dtype: int64\n",
            "58\n"
          ]
        }
      ],
      "source": [
        "#Находим количество аномальных пользователей\n",
        "usersWithManyOrders = pd.concat(\n",
        "    [\n",
        "        ordersByUsersA[ordersByUsersA['orders'] > y]['visitor_id'],\n",
        "        ordersByUsersB[ordersByUsersB['orders'] > y]['visitor_id'],\n",
        "    ],\n",
        "    axis=0,\n",
        ")\n",
        "usersWithExpensiveOrders = orders[orders['revenue'] > x]['visitor_id']\n",
        "abnormalUsers = (\n",
        "    pd.concat([usersWithManyOrders, usersWithExpensiveOrders], axis=0)\n",
        "    .drop_duplicates()\n",
        "    .sort_values()\n",
        ")\n",
        "print(abnormalUsers.head(5))\n",
        "print(abnormalUsers.shape[0])"
      ]
    },
    {
      "cell_type": "code",
      "execution_count": 76,
      "metadata": {
        "colab": {
          "base_uri": "https://localhost:8080/"
        },
        "id": "Gw-xEAawBhHU",
        "outputId": "57be0572-e037-4849-a0fa-9764fa729853"
      },
      "outputs": [
        {
          "output_type": "stream",
          "name": "stdout",
          "text": [
            "0.012\n",
            "0.182\n",
            "Отвергаем нулевую гипотезу\n"
          ]
        }
      ],
      "source": [
        "sampleAFiltered = pd.concat(\n",
        "    [\n",
        "        ordersByUsersA[\n",
        "            np.logical_not(ordersByUsersA['visitor_id'].isin(abnormalUsers))\n",
        "        ]['orders'],\n",
        "        pd.Series(\n",
        "            0,\n",
        "            index=np.arange(\n",
        "                data['visitorsPerDateA'].sum() - len(ordersByUsersA['orders'])\n",
        "            ),\n",
        "            name='orders',\n",
        "        ),\n",
        "    ],\n",
        "    axis=0,\n",
        ")\n",
        "\n",
        "sampleBFiltered = pd.concat(\n",
        "    [\n",
        "        ordersByUsersB[\n",
        "            np.logical_not(ordersByUsersB['visitor_id'].isin(abnormalUsers))\n",
        "        ]['orders'],\n",
        "        pd.Series(\n",
        "            0,\n",
        "            index=np.arange(\n",
        "                data['visitorsPerDateB'].sum() - len(ordersByUsersB['orders'])\n",
        "            ),\n",
        "            name='orders',\n",
        "        ),\n",
        "    ],\n",
        "    axis=0,\n",
        ")\n",
        "\n",
        "p_value2 =stats.mannwhitneyu(sampleAFiltered, sampleBFiltered)[1]\n",
        "\n",
        "print('{0:.3f}'.format(p_value2))\n",
        "print('{0:.3f}'.format(sampleBFiltered.mean()/sampleAFiltered.mean()-1))\n",
        "\n",
        "if p_value2 < alpha:\n",
        "    print('Отвергаем нулевую гипотезу')\n",
        "else:\n",
        "    print(\n",
        "        'Не получилось отвергнуть нулевую гипотезу'\n",
        "    ) "
      ]
    },
    {
      "cell_type": "markdown",
      "metadata": {
        "id": "UYxqgN8DBhHV"
      },
      "source": [
        "Результаты практически не изменились (0.016 и 0.174 против 0.011 и 0.160). Различия в среднем количестве заказов на посетителя между группами есть."
      ]
    },
    {
      "cell_type": "markdown",
      "metadata": {
        "id": "oHrkilgYBhHW"
      },
      "source": [
        "##  Статистическая значимость различий в среднем чеке заказа между группами по «очищенным» данным."
      ]
    },
    {
      "cell_type": "code",
      "execution_count": 77,
      "metadata": {
        "colab": {
          "base_uri": "https://localhost:8080/"
        },
        "id": "zZJEIdqWBhHW",
        "outputId": "47c4a6b6-59a0-4ec7-abed-b2b7fc70254f"
      },
      "outputs": [
        {
          "output_type": "stream",
          "name": "stdout",
          "text": [
            "0.646\n",
            "-0.048\n",
            "Не получилось отвергнуть нулевую гипотезу\n"
          ]
        }
      ],
      "source": [
        "p_value3 = stats.mannwhitneyu(\n",
        "            orders[\n",
        "                np.logical_and(\n",
        "                    orders['group'] == 'A',\n",
        "                    np.logical_not(orders['visitor_id'].isin(abnormalUsers)),\n",
        "                )\n",
        "            ]['revenue'],\n",
        "            orders[\n",
        "                np.logical_and(\n",
        "                    orders['group'] == 'B',\n",
        "                    np.logical_not(orders['visitor_id'].isin(abnormalUsers)),\n",
        "                )\n",
        "            ]['revenue'],\n",
        "        )[1]\n",
        "\n",
        "print(\n",
        "    '{0:.3f}'.format(p_value3))\n",
        "\n",
        "print(\n",
        "    \"{0:.3f}\".format(\n",
        "        orders[\n",
        "            np.logical_and(\n",
        "                orders['group'] == 'B',\n",
        "                np.logical_not(orders['visitor_id'].isin(abnormalUsers)),\n",
        "            )\n",
        "        ]['revenue'].mean()\n",
        "        / orders[\n",
        "            np.logical_and(\n",
        "                orders['group'] == 'A',\n",
        "                np.logical_not(orders['visitor_id'].isin(abnormalUsers)),\n",
        "            )\n",
        "        ]['revenue'].mean()\n",
        "        - 1\n",
        "    )\n",
        ")\n",
        "\n",
        "if p_value3 < alpha:\n",
        "    print('Отвергаем нулевую гипотезу')\n",
        "else:\n",
        "    print(\n",
        "        'Не получилось отвергнуть нулевую гипотезу'\n",
        "    ) "
      ]
    },
    {
      "cell_type": "markdown",
      "metadata": {
        "id": "62xYoixlBhHW"
      },
      "source": [
        "p-value незначительно уменьшилось(0.727 против 0.829). А разница между сегментами сократилась с 0.287 до -0.034. Аномалии сильно повлияли на результат теста."
      ]
    },
    {
      "cell_type": "markdown",
      "metadata": {
        "id": "vAWZ-DLnBhHX"
      },
      "source": [
        "# Итог\n"
      ]
    },
    {
      "cell_type": "markdown",
      "metadata": {
        "id": "XHFVhOrpBhHX"
      },
      "source": [
        "После предобработки данных были удалены посетители, принадлежавшие к обеим группам. Фреймворком ICE были ФреймворкомRICE."
      ]
    },
    {
      "cell_type": "markdown",
      "metadata": {
        "id": "JWa-xxKHBhHX"
      },
      "source": [
        "##   Решение по результатам теста."
      ]
    },
    {
      "cell_type": "markdown",
      "metadata": {
        "id": "x9k3xBEBBhHX"
      },
      "source": [
        "1. Есть значимые различия по среднему количеству заказов между группами как по «сырым», так и по данным после фильтрации аномалий;\n",
        "2. Есть статистически значимое различие по среднему чеку между группами (Чек группы В на 28% выше) по «сырым» данным, после фильтрации аномалий разницы между сегментами практически нет;\n",
        "3. График различия конверсии между группами сообщает, что результаты группы B лучше группы А на 15%;\n",
        "4. График различия среднего чека говорит о том, что результаты группы B лучше на от до 20 до 40% в зависимости ото дня, но это было достигнуто аномально большими заказами."
      ]
    },
    {
      "cell_type": "markdown",
      "metadata": {
        "id": "T3FSUwkLBhHY"
      },
      "source": [
        "Исходя из обнаруженных фактов, тест следует остановить. Победа за группой В. Различия между группами присутствуют, даже после очистки данных от аномалий, сильно повлиявших на тест."
      ]
    }
  ],
  "metadata": {
    "ExecuteTimeLog": [
      {
        "duration": 4,
        "start_time": "2022-12-06T13:02:25.604Z"
      },
      {
        "duration": 51,
        "start_time": "2022-12-06T13:09:36.257Z"
      },
      {
        "duration": 788,
        "start_time": "2022-12-06T13:09:40.157Z"
      },
      {
        "duration": 219,
        "start_time": "2022-12-06T13:09:40.981Z"
      },
      {
        "duration": 61,
        "start_time": "2022-12-06T13:09:43.956Z"
      },
      {
        "duration": 14,
        "start_time": "2022-12-06T13:09:53.107Z"
      },
      {
        "duration": 16,
        "start_time": "2022-12-06T13:10:02.229Z"
      },
      {
        "duration": 11,
        "start_time": "2022-12-06T13:10:12.186Z"
      },
      {
        "duration": 14,
        "start_time": "2022-12-06T13:10:21.949Z"
      },
      {
        "duration": 13,
        "start_time": "2022-12-06T13:10:26.447Z"
      },
      {
        "duration": 16,
        "start_time": "2022-12-06T13:11:29.275Z"
      },
      {
        "duration": 14,
        "start_time": "2022-12-06T13:11:38.194Z"
      },
      {
        "duration": 5,
        "start_time": "2022-12-06T13:14:14.205Z"
      },
      {
        "duration": 4,
        "start_time": "2022-12-06T13:15:08.190Z"
      },
      {
        "duration": 13,
        "start_time": "2022-12-06T13:15:11.369Z"
      },
      {
        "duration": 16,
        "start_time": "2022-12-06T13:15:48.434Z"
      },
      {
        "duration": 11,
        "start_time": "2022-12-06T13:15:56.358Z"
      },
      {
        "duration": 681,
        "start_time": "2022-12-06T13:16:04.784Z"
      },
      {
        "duration": 72,
        "start_time": "2022-12-06T13:16:05.467Z"
      },
      {
        "duration": 23,
        "start_time": "2022-12-06T13:16:05.541Z"
      },
      {
        "duration": 7,
        "start_time": "2022-12-06T13:16:05.566Z"
      },
      {
        "duration": 20,
        "start_time": "2022-12-06T13:16:05.576Z"
      },
      {
        "duration": 16,
        "start_time": "2022-12-06T13:16:05.598Z"
      },
      {
        "duration": 5,
        "start_time": "2022-12-06T13:16:45.144Z"
      },
      {
        "duration": 3,
        "start_time": "2022-12-06T13:49:58.603Z"
      },
      {
        "duration": 783,
        "start_time": "2022-12-07T12:43:23.398Z"
      },
      {
        "duration": 218,
        "start_time": "2022-12-07T12:43:24.183Z"
      },
      {
        "duration": 14,
        "start_time": "2022-12-07T12:43:24.403Z"
      },
      {
        "duration": 5,
        "start_time": "2022-12-07T12:43:24.419Z"
      },
      {
        "duration": 19,
        "start_time": "2022-12-07T12:43:24.425Z"
      },
      {
        "duration": 4,
        "start_time": "2022-12-07T12:43:24.446Z"
      },
      {
        "duration": 15,
        "start_time": "2022-12-07T12:43:24.452Z"
      },
      {
        "duration": 7,
        "start_time": "2022-12-07T12:43:24.469Z"
      },
      {
        "duration": 16,
        "start_time": "2022-12-07T12:44:22.872Z"
      },
      {
        "duration": 14,
        "start_time": "2022-12-07T12:44:46.577Z"
      },
      {
        "duration": 817,
        "start_time": "2022-12-07T12:47:23.893Z"
      },
      {
        "duration": 15,
        "start_time": "2022-12-07T12:49:02.904Z"
      },
      {
        "duration": 11,
        "start_time": "2022-12-07T12:49:10.184Z"
      },
      {
        "duration": 49,
        "start_time": "2022-12-07T12:49:44.732Z"
      },
      {
        "duration": 8,
        "start_time": "2022-12-07T12:49:47.860Z"
      },
      {
        "duration": 7,
        "start_time": "2022-12-07T12:49:55.610Z"
      },
      {
        "duration": 9,
        "start_time": "2022-12-07T12:50:55.306Z"
      },
      {
        "duration": 9,
        "start_time": "2022-12-07T12:57:31.674Z"
      },
      {
        "duration": 9,
        "start_time": "2022-12-07T12:57:40.001Z"
      },
      {
        "duration": 130,
        "start_time": "2022-12-07T13:26:04.096Z"
      },
      {
        "duration": 119,
        "start_time": "2022-12-07T13:26:12.833Z"
      },
      {
        "duration": 6,
        "start_time": "2022-12-07T13:37:08.583Z"
      },
      {
        "duration": 25,
        "start_time": "2022-12-07T13:37:23.815Z"
      },
      {
        "duration": 20,
        "start_time": "2022-12-07T13:37:53.065Z"
      },
      {
        "duration": 10,
        "start_time": "2022-12-07T13:38:22.015Z"
      },
      {
        "duration": 13,
        "start_time": "2022-12-07T13:38:25.271Z"
      },
      {
        "duration": 151,
        "start_time": "2022-12-07T13:38:44.400Z"
      },
      {
        "duration": 207,
        "start_time": "2022-12-07T13:39:05.481Z"
      },
      {
        "duration": 7,
        "start_time": "2022-12-07T13:40:11.777Z"
      },
      {
        "duration": 6,
        "start_time": "2022-12-07T13:40:19.874Z"
      },
      {
        "duration": 10,
        "start_time": "2022-12-07T13:40:33.176Z"
      },
      {
        "duration": 16,
        "start_time": "2022-12-07T13:40:52.663Z"
      },
      {
        "duration": 19,
        "start_time": "2022-12-07T13:41:25.760Z"
      },
      {
        "duration": 229,
        "start_time": "2022-12-07T13:41:28.700Z"
      },
      {
        "duration": 17,
        "start_time": "2022-12-07T13:41:42.918Z"
      },
      {
        "duration": 111,
        "start_time": "2022-12-07T13:41:45.771Z"
      },
      {
        "duration": 14,
        "start_time": "2022-12-07T13:42:22.900Z"
      },
      {
        "duration": 587,
        "start_time": "2022-12-07T13:42:38.652Z"
      },
      {
        "duration": 76,
        "start_time": "2022-12-07T13:42:39.241Z"
      },
      {
        "duration": 16,
        "start_time": "2022-12-07T13:42:39.319Z"
      },
      {
        "duration": 12,
        "start_time": "2022-12-07T13:42:39.337Z"
      },
      {
        "duration": 26,
        "start_time": "2022-12-07T13:42:39.351Z"
      },
      {
        "duration": 28,
        "start_time": "2022-12-07T13:42:39.379Z"
      },
      {
        "duration": 24,
        "start_time": "2022-12-07T13:42:39.409Z"
      },
      {
        "duration": 10,
        "start_time": "2022-12-07T13:42:39.434Z"
      },
      {
        "duration": 8,
        "start_time": "2022-12-07T13:42:39.446Z"
      },
      {
        "duration": 12,
        "start_time": "2022-12-07T13:42:39.456Z"
      },
      {
        "duration": 8,
        "start_time": "2022-12-07T13:42:39.469Z"
      },
      {
        "duration": 163,
        "start_time": "2022-12-07T13:42:39.478Z"
      },
      {
        "duration": 118,
        "start_time": "2022-12-07T13:42:39.643Z"
      },
      {
        "duration": 96,
        "start_time": "2022-12-07T13:42:39.763Z"
      },
      {
        "duration": 0,
        "start_time": "2022-12-07T13:42:39.861Z"
      },
      {
        "duration": 10,
        "start_time": "2022-12-07T13:44:32.735Z"
      },
      {
        "duration": 51,
        "start_time": "2022-12-07T13:47:40.925Z"
      },
      {
        "duration": 48,
        "start_time": "2022-12-07T13:47:48.488Z"
      },
      {
        "duration": 56,
        "start_time": "2022-12-07T13:47:51.457Z"
      },
      {
        "duration": 119,
        "start_time": "2022-12-07T13:47:55.166Z"
      },
      {
        "duration": 121,
        "start_time": "2022-12-07T13:47:58.071Z"
      },
      {
        "duration": 74,
        "start_time": "2022-12-07T13:48:51.189Z"
      },
      {
        "duration": 257,
        "start_time": "2022-12-07T13:48:55.493Z"
      },
      {
        "duration": 495,
        "start_time": "2022-12-07T13:49:16.560Z"
      },
      {
        "duration": 169,
        "start_time": "2022-12-07T13:53:07.569Z"
      },
      {
        "duration": 242,
        "start_time": "2022-12-07T13:53:45.353Z"
      },
      {
        "duration": 265,
        "start_time": "2022-12-07T15:13:00.759Z"
      },
      {
        "duration": 192,
        "start_time": "2022-12-07T15:13:33.664Z"
      },
      {
        "duration": 183,
        "start_time": "2022-12-07T15:15:57.548Z"
      },
      {
        "duration": 4,
        "start_time": "2022-12-07T15:17:42.692Z"
      },
      {
        "duration": 4,
        "start_time": "2022-12-07T15:17:49.379Z"
      },
      {
        "duration": 4,
        "start_time": "2022-12-07T15:17:50.594Z"
      },
      {
        "duration": 4,
        "start_time": "2022-12-07T15:18:05.082Z"
      },
      {
        "duration": 179,
        "start_time": "2022-12-07T15:18:19.271Z"
      },
      {
        "duration": 192,
        "start_time": "2022-12-07T15:19:30.519Z"
      },
      {
        "duration": 225,
        "start_time": "2022-12-07T15:21:36.284Z"
      },
      {
        "duration": 193,
        "start_time": "2022-12-07T15:21:54.429Z"
      },
      {
        "duration": 191,
        "start_time": "2022-12-07T15:22:15.235Z"
      },
      {
        "duration": 196,
        "start_time": "2022-12-07T15:22:30.221Z"
      },
      {
        "duration": 187,
        "start_time": "2022-12-07T15:22:39.780Z"
      },
      {
        "duration": 184,
        "start_time": "2022-12-07T15:23:12.138Z"
      },
      {
        "duration": 400,
        "start_time": "2022-12-07T15:23:54.836Z"
      },
      {
        "duration": 819,
        "start_time": "2022-12-07T15:24:39.366Z"
      },
      {
        "duration": 324,
        "start_time": "2022-12-07T15:24:49.506Z"
      },
      {
        "duration": 4,
        "start_time": "2022-12-07T15:25:08.909Z"
      },
      {
        "duration": 312,
        "start_time": "2022-12-07T15:25:37.708Z"
      },
      {
        "duration": 285,
        "start_time": "2022-12-07T15:25:47.171Z"
      },
      {
        "duration": 320,
        "start_time": "2022-12-07T15:26:05.708Z"
      },
      {
        "duration": 291,
        "start_time": "2022-12-07T15:26:19.679Z"
      },
      {
        "duration": 80,
        "start_time": "2022-12-07T15:28:00.012Z"
      },
      {
        "duration": 332,
        "start_time": "2022-12-07T15:28:31.301Z"
      },
      {
        "duration": 41,
        "start_time": "2022-12-07T15:28:40.272Z"
      },
      {
        "duration": 42,
        "start_time": "2022-12-07T15:28:52.314Z"
      },
      {
        "duration": 194,
        "start_time": "2022-12-07T15:29:07.292Z"
      },
      {
        "duration": 187,
        "start_time": "2022-12-07T15:29:17.732Z"
      },
      {
        "duration": 197,
        "start_time": "2022-12-07T15:30:35.329Z"
      },
      {
        "duration": 190,
        "start_time": "2022-12-07T15:30:51.310Z"
      },
      {
        "duration": 207,
        "start_time": "2022-12-07T15:30:58.023Z"
      },
      {
        "duration": 186,
        "start_time": "2022-12-07T15:32:43.972Z"
      },
      {
        "duration": 198,
        "start_time": "2022-12-07T15:33:20.883Z"
      },
      {
        "duration": 207,
        "start_time": "2022-12-07T15:33:28.136Z"
      },
      {
        "duration": 15,
        "start_time": "2022-12-07T15:34:36.526Z"
      },
      {
        "duration": 294,
        "start_time": "2022-12-07T15:34:48.724Z"
      },
      {
        "duration": 8,
        "start_time": "2022-12-07T15:38:59.064Z"
      },
      {
        "duration": 120,
        "start_time": "2022-12-07T15:39:02.988Z"
      },
      {
        "duration": 147,
        "start_time": "2022-12-07T15:40:01.867Z"
      },
      {
        "duration": 121,
        "start_time": "2022-12-07T15:40:06.720Z"
      },
      {
        "duration": 194,
        "start_time": "2022-12-07T15:40:20.503Z"
      },
      {
        "duration": 116,
        "start_time": "2022-12-07T15:40:23.633Z"
      },
      {
        "duration": 120,
        "start_time": "2022-12-07T15:40:40.840Z"
      },
      {
        "duration": 12,
        "start_time": "2022-12-07T15:42:14.472Z"
      },
      {
        "duration": 12,
        "start_time": "2022-12-07T15:42:31.002Z"
      },
      {
        "duration": 8,
        "start_time": "2022-12-07T15:42:48.507Z"
      },
      {
        "duration": 12,
        "start_time": "2022-12-07T15:42:59.853Z"
      },
      {
        "duration": 9,
        "start_time": "2022-12-07T15:43:02.296Z"
      },
      {
        "duration": 10,
        "start_time": "2022-12-07T15:43:06.115Z"
      },
      {
        "duration": 121,
        "start_time": "2022-12-07T15:43:27.866Z"
      },
      {
        "duration": 7,
        "start_time": "2022-12-07T15:46:05.383Z"
      },
      {
        "duration": 5,
        "start_time": "2022-12-07T15:46:08.893Z"
      },
      {
        "duration": 11,
        "start_time": "2022-12-07T15:46:46.573Z"
      },
      {
        "duration": 165,
        "start_time": "2022-12-07T15:46:56.412Z"
      },
      {
        "duration": 133,
        "start_time": "2022-12-07T15:47:13.440Z"
      },
      {
        "duration": 120,
        "start_time": "2022-12-07T15:47:31.901Z"
      },
      {
        "duration": 117,
        "start_time": "2022-12-07T15:47:37.068Z"
      },
      {
        "duration": 121,
        "start_time": "2022-12-07T15:47:52.663Z"
      },
      {
        "duration": 121,
        "start_time": "2022-12-07T15:47:59.147Z"
      },
      {
        "duration": 4,
        "start_time": "2022-12-07T15:48:46.356Z"
      },
      {
        "duration": 4,
        "start_time": "2022-12-07T15:48:55.114Z"
      },
      {
        "duration": 115,
        "start_time": "2022-12-07T15:49:43.098Z"
      },
      {
        "duration": 7,
        "start_time": "2022-12-07T15:49:53.825Z"
      },
      {
        "duration": 5,
        "start_time": "2022-12-07T15:49:57.329Z"
      },
      {
        "duration": 716,
        "start_time": "2022-12-07T15:50:06.140Z"
      },
      {
        "duration": 10,
        "start_time": "2022-12-07T15:50:34.215Z"
      },
      {
        "duration": 4,
        "start_time": "2022-12-07T15:51:22.509Z"
      },
      {
        "duration": 7,
        "start_time": "2022-12-07T18:09:32.991Z"
      },
      {
        "duration": 10,
        "start_time": "2022-12-07T18:09:40.649Z"
      },
      {
        "duration": 7,
        "start_time": "2022-12-07T18:09:56.241Z"
      },
      {
        "duration": 7,
        "start_time": "2022-12-07T18:18:01.121Z"
      },
      {
        "duration": 13,
        "start_time": "2022-12-07T18:18:22.640Z"
      },
      {
        "duration": 3,
        "start_time": "2022-12-07T18:18:28.111Z"
      },
      {
        "duration": 761,
        "start_time": "2022-12-07T18:18:31.532Z"
      },
      {
        "duration": 9,
        "start_time": "2022-12-07T18:18:37.816Z"
      },
      {
        "duration": 44,
        "start_time": "2022-12-07T21:41:27.863Z"
      },
      {
        "duration": 877,
        "start_time": "2022-12-07T21:41:35.974Z"
      },
      {
        "duration": 213,
        "start_time": "2022-12-07T21:41:36.853Z"
      },
      {
        "duration": 15,
        "start_time": "2022-12-07T21:41:37.068Z"
      },
      {
        "duration": 15,
        "start_time": "2022-12-07T21:41:37.085Z"
      },
      {
        "duration": 5,
        "start_time": "2022-12-07T21:41:37.102Z"
      },
      {
        "duration": 30,
        "start_time": "2022-12-07T21:41:37.109Z"
      },
      {
        "duration": 9,
        "start_time": "2022-12-07T21:41:37.141Z"
      },
      {
        "duration": 8,
        "start_time": "2022-12-07T21:41:37.151Z"
      },
      {
        "duration": 7,
        "start_time": "2022-12-07T21:41:37.161Z"
      },
      {
        "duration": 8,
        "start_time": "2022-12-07T21:41:37.170Z"
      },
      {
        "duration": 551,
        "start_time": "2022-12-07T21:41:37.180Z"
      },
      {
        "duration": 15,
        "start_time": "2022-12-07T21:41:37.734Z"
      },
      {
        "duration": 198,
        "start_time": "2022-12-07T21:41:37.751Z"
      },
      {
        "duration": 350,
        "start_time": "2022-12-07T21:41:37.953Z"
      },
      {
        "duration": 264,
        "start_time": "2022-12-07T21:41:38.304Z"
      },
      {
        "duration": 332,
        "start_time": "2022-12-07T21:41:38.570Z"
      },
      {
        "duration": 153,
        "start_time": "2022-12-07T21:41:38.904Z"
      },
      {
        "duration": 4,
        "start_time": "2022-12-07T21:41:39.059Z"
      },
      {
        "duration": 144,
        "start_time": "2022-12-07T21:41:39.065Z"
      },
      {
        "duration": 4,
        "start_time": "2022-12-07T21:41:39.218Z"
      },
      {
        "duration": 92,
        "start_time": "2022-12-07T21:41:39.224Z"
      },
      {
        "duration": 9,
        "start_time": "2022-12-07T21:43:24.539Z"
      },
      {
        "duration": 10,
        "start_time": "2022-12-07T21:43:55.659Z"
      },
      {
        "duration": 834,
        "start_time": "2022-12-08T14:40:22.973Z"
      },
      {
        "duration": 3545,
        "start_time": "2022-12-08T14:40:30.750Z"
      },
      {
        "duration": 3449,
        "start_time": "2022-12-08T14:40:44.805Z"
      },
      {
        "duration": 2438,
        "start_time": "2022-12-08T14:40:57.261Z"
      },
      {
        "duration": 60,
        "start_time": "2022-12-09T11:50:16.536Z"
      },
      {
        "duration": 827,
        "start_time": "2022-12-09T11:50:23.189Z"
      },
      {
        "duration": 672,
        "start_time": "2022-12-09T11:50:57.412Z"
      },
      {
        "duration": 339,
        "start_time": "2022-12-09T11:50:58.087Z"
      },
      {
        "duration": 24,
        "start_time": "2022-12-09T11:50:58.429Z"
      },
      {
        "duration": 45,
        "start_time": "2022-12-09T11:50:58.456Z"
      },
      {
        "duration": 21,
        "start_time": "2022-12-09T11:50:58.505Z"
      },
      {
        "duration": 44,
        "start_time": "2022-12-09T11:50:58.529Z"
      },
      {
        "duration": 56,
        "start_time": "2022-12-09T11:50:58.575Z"
      },
      {
        "duration": 26,
        "start_time": "2022-12-09T11:50:58.633Z"
      },
      {
        "duration": 24,
        "start_time": "2022-12-09T11:50:58.661Z"
      },
      {
        "duration": 20,
        "start_time": "2022-12-09T11:50:58.689Z"
      },
      {
        "duration": 690,
        "start_time": "2022-12-09T11:50:58.712Z"
      },
      {
        "duration": 226,
        "start_time": "2022-12-09T11:50:59.405Z"
      },
      {
        "duration": 303,
        "start_time": "2022-12-09T11:50:59.633Z"
      },
      {
        "duration": 297,
        "start_time": "2022-12-09T11:50:59.938Z"
      },
      {
        "duration": 329,
        "start_time": "2022-12-09T11:51:00.237Z"
      },
      {
        "duration": 174,
        "start_time": "2022-12-09T11:51:00.568Z"
      },
      {
        "duration": 5,
        "start_time": "2022-12-09T11:51:00.744Z"
      },
      {
        "duration": 269,
        "start_time": "2022-12-09T11:51:00.752Z"
      },
      {
        "duration": 5,
        "start_time": "2022-12-09T11:51:01.023Z"
      },
      {
        "duration": 155,
        "start_time": "2022-12-09T11:51:01.031Z"
      },
      {
        "duration": 292,
        "start_time": "2022-12-09T11:51:35.209Z"
      },
      {
        "duration": 286,
        "start_time": "2022-12-09T11:51:40.737Z"
      },
      {
        "duration": 296,
        "start_time": "2022-12-09T11:51:47.797Z"
      },
      {
        "duration": 288,
        "start_time": "2022-12-09T11:51:53.030Z"
      },
      {
        "duration": 334,
        "start_time": "2022-12-09T11:52:03.748Z"
      },
      {
        "duration": 231,
        "start_time": "2022-12-09T12:08:00.904Z"
      },
      {
        "duration": 496,
        "start_time": "2022-12-09T12:08:06.249Z"
      },
      {
        "duration": 287,
        "start_time": "2022-12-09T12:08:36.000Z"
      },
      {
        "duration": 333,
        "start_time": "2022-12-09T12:08:41.183Z"
      },
      {
        "duration": 13,
        "start_time": "2022-12-09T12:11:28.719Z"
      },
      {
        "duration": 915,
        "start_time": "2022-12-09T12:12:21.529Z"
      },
      {
        "duration": 144,
        "start_time": "2022-12-09T12:12:32.252Z"
      },
      {
        "duration": 6,
        "start_time": "2022-12-09T12:17:49.301Z"
      },
      {
        "duration": 4,
        "start_time": "2022-12-09T12:18:27.696Z"
      },
      {
        "duration": 5,
        "start_time": "2022-12-09T12:18:36.857Z"
      },
      {
        "duration": 5,
        "start_time": "2022-12-09T12:18:39.433Z"
      },
      {
        "duration": 17,
        "start_time": "2022-12-09T12:34:31.402Z"
      },
      {
        "duration": 16,
        "start_time": "2022-12-09T12:35:18.760Z"
      },
      {
        "duration": 8,
        "start_time": "2022-12-09T12:35:46.931Z"
      },
      {
        "duration": 11,
        "start_time": "2022-12-09T12:35:55.961Z"
      },
      {
        "duration": 19,
        "start_time": "2022-12-09T12:36:15.502Z"
      },
      {
        "duration": 158,
        "start_time": "2022-12-09T12:36:48.590Z"
      },
      {
        "duration": 110,
        "start_time": "2022-12-09T12:41:26.635Z"
      },
      {
        "duration": 106,
        "start_time": "2022-12-09T12:41:34.332Z"
      },
      {
        "duration": 229,
        "start_time": "2022-12-09T12:42:46.703Z"
      },
      {
        "duration": 238,
        "start_time": "2022-12-09T12:43:09.012Z"
      },
      {
        "duration": 179,
        "start_time": "2022-12-09T12:43:35.784Z"
      },
      {
        "duration": 237,
        "start_time": "2022-12-09T12:43:42.723Z"
      },
      {
        "duration": 242,
        "start_time": "2022-12-09T12:43:46.781Z"
      },
      {
        "duration": 451,
        "start_time": "2022-12-09T12:44:18.533Z"
      },
      {
        "duration": 162,
        "start_time": "2022-12-09T12:44:22.843Z"
      },
      {
        "duration": 14,
        "start_time": "2022-12-09T12:45:16.238Z"
      },
      {
        "duration": 294,
        "start_time": "2022-12-09T12:49:19.145Z"
      },
      {
        "duration": 5,
        "start_time": "2022-12-09T12:59:40.266Z"
      },
      {
        "duration": 6,
        "start_time": "2022-12-09T12:59:43.244Z"
      },
      {
        "duration": 8,
        "start_time": "2022-12-09T13:00:12.077Z"
      },
      {
        "duration": 13,
        "start_time": "2022-12-09T13:00:26.835Z"
      },
      {
        "duration": 9,
        "start_time": "2022-12-09T13:01:35.009Z"
      },
      {
        "duration": 6,
        "start_time": "2022-12-09T13:01:48.396Z"
      },
      {
        "duration": 54,
        "start_time": "2022-12-09T13:02:20.395Z"
      },
      {
        "duration": 39,
        "start_time": "2022-12-09T13:02:23.343Z"
      },
      {
        "duration": 15,
        "start_time": "2022-12-09T13:02:28.606Z"
      },
      {
        "duration": 14,
        "start_time": "2022-12-09T13:02:34.877Z"
      },
      {
        "duration": 11,
        "start_time": "2022-12-09T13:02:43.197Z"
      },
      {
        "duration": 8,
        "start_time": "2022-12-09T13:02:47.790Z"
      },
      {
        "duration": 8,
        "start_time": "2022-12-09T13:02:52.520Z"
      },
      {
        "duration": 7,
        "start_time": "2022-12-09T13:02:58.917Z"
      },
      {
        "duration": 7,
        "start_time": "2022-12-09T13:03:04.666Z"
      },
      {
        "duration": 7,
        "start_time": "2022-12-09T13:03:06.952Z"
      },
      {
        "duration": 6,
        "start_time": "2022-12-09T13:04:46.336Z"
      },
      {
        "duration": 8,
        "start_time": "2022-12-09T13:04:52.071Z"
      },
      {
        "duration": 3,
        "start_time": "2022-12-09T13:04:57.043Z"
      },
      {
        "duration": 5,
        "start_time": "2022-12-09T13:04:59.266Z"
      },
      {
        "duration": 9,
        "start_time": "2022-12-09T13:05:09.217Z"
      },
      {
        "duration": 5,
        "start_time": "2022-12-09T13:05:56.269Z"
      },
      {
        "duration": 6,
        "start_time": "2022-12-09T13:05:58.665Z"
      },
      {
        "duration": 9,
        "start_time": "2022-12-09T13:06:08.468Z"
      },
      {
        "duration": 10,
        "start_time": "2022-12-09T13:06:19.807Z"
      },
      {
        "duration": 10,
        "start_time": "2022-12-09T13:06:25.625Z"
      },
      {
        "duration": 5,
        "start_time": "2022-12-09T13:06:32.595Z"
      },
      {
        "duration": 4,
        "start_time": "2022-12-09T13:06:36.932Z"
      },
      {
        "duration": 5,
        "start_time": "2022-12-09T13:06:39.842Z"
      },
      {
        "duration": 9,
        "start_time": "2022-12-09T13:06:42.522Z"
      },
      {
        "duration": 16,
        "start_time": "2022-12-09T13:07:11.484Z"
      },
      {
        "duration": 10,
        "start_time": "2022-12-09T13:07:45.728Z"
      },
      {
        "duration": 33,
        "start_time": "2022-12-09T13:07:53.006Z"
      },
      {
        "duration": 804,
        "start_time": "2022-12-09T13:09:49.411Z"
      },
      {
        "duration": 15,
        "start_time": "2022-12-09T13:09:59.484Z"
      },
      {
        "duration": 1195,
        "start_time": "2022-12-09T13:33:08.485Z"
      },
      {
        "duration": 79,
        "start_time": "2022-12-09T13:33:09.682Z"
      },
      {
        "duration": 18,
        "start_time": "2022-12-09T13:33:09.762Z"
      },
      {
        "duration": 19,
        "start_time": "2022-12-09T13:33:09.783Z"
      },
      {
        "duration": 13,
        "start_time": "2022-12-09T13:33:09.804Z"
      },
      {
        "duration": 26,
        "start_time": "2022-12-09T13:33:09.819Z"
      },
      {
        "duration": 36,
        "start_time": "2022-12-09T13:33:09.848Z"
      },
      {
        "duration": 11,
        "start_time": "2022-12-09T13:33:09.886Z"
      },
      {
        "duration": 19,
        "start_time": "2022-12-09T13:33:09.899Z"
      },
      {
        "duration": 10,
        "start_time": "2022-12-09T13:33:09.922Z"
      },
      {
        "duration": 676,
        "start_time": "2022-12-09T13:33:09.934Z"
      },
      {
        "duration": 216,
        "start_time": "2022-12-09T13:33:10.612Z"
      },
      {
        "duration": 296,
        "start_time": "2022-12-09T13:33:10.830Z"
      },
      {
        "duration": 230,
        "start_time": "2022-12-09T13:33:11.127Z"
      },
      {
        "duration": 439,
        "start_time": "2022-12-09T13:33:11.359Z"
      },
      {
        "duration": 162,
        "start_time": "2022-12-09T13:33:11.800Z"
      },
      {
        "duration": 13,
        "start_time": "2022-12-09T13:33:11.964Z"
      },
      {
        "duration": 142,
        "start_time": "2022-12-09T13:33:11.979Z"
      },
      {
        "duration": 5,
        "start_time": "2022-12-09T13:33:12.123Z"
      },
      {
        "duration": 239,
        "start_time": "2022-12-09T13:33:12.129Z"
      },
      {
        "duration": 152,
        "start_time": "2022-12-09T13:33:12.370Z"
      },
      {
        "duration": 154,
        "start_time": "2022-12-09T13:33:12.524Z"
      },
      {
        "duration": 11,
        "start_time": "2022-12-09T13:33:12.681Z"
      },
      {
        "duration": 4,
        "start_time": "2022-12-09T13:33:12.694Z"
      },
      {
        "duration": 11,
        "start_time": "2022-12-09T13:33:12.700Z"
      },
      {
        "duration": 31,
        "start_time": "2022-12-09T13:33:12.713Z"
      },
      {
        "duration": 45,
        "start_time": "2022-12-09T13:33:12.745Z"
      },
      {
        "duration": 190,
        "start_time": "2022-12-09T13:34:48.190Z"
      },
      {
        "duration": 232,
        "start_time": "2022-12-09T13:34:55.877Z"
      },
      {
        "duration": 162,
        "start_time": "2022-12-09T13:34:57.460Z"
      },
      {
        "duration": 1134,
        "start_time": "2022-12-09T13:35:20.912Z"
      },
      {
        "duration": 78,
        "start_time": "2022-12-09T13:35:22.048Z"
      },
      {
        "duration": 17,
        "start_time": "2022-12-09T13:35:22.127Z"
      },
      {
        "duration": 17,
        "start_time": "2022-12-09T13:35:22.147Z"
      },
      {
        "duration": 5,
        "start_time": "2022-12-09T13:35:22.166Z"
      },
      {
        "duration": 18,
        "start_time": "2022-12-09T13:35:22.172Z"
      },
      {
        "duration": 9,
        "start_time": "2022-12-09T13:35:22.192Z"
      },
      {
        "duration": 8,
        "start_time": "2022-12-09T13:35:22.203Z"
      },
      {
        "duration": 15,
        "start_time": "2022-12-09T13:35:22.213Z"
      },
      {
        "duration": 10,
        "start_time": "2022-12-09T13:35:22.232Z"
      },
      {
        "duration": 582,
        "start_time": "2022-12-09T13:35:22.244Z"
      },
      {
        "duration": 207,
        "start_time": "2022-12-09T13:35:22.828Z"
      },
      {
        "duration": 278,
        "start_time": "2022-12-09T13:35:23.037Z"
      },
      {
        "duration": 210,
        "start_time": "2022-12-09T13:35:23.316Z"
      },
      {
        "duration": 316,
        "start_time": "2022-12-09T13:35:23.528Z"
      },
      {
        "duration": 144,
        "start_time": "2022-12-09T13:35:23.847Z"
      },
      {
        "duration": 4,
        "start_time": "2022-12-09T13:35:23.993Z"
      },
      {
        "duration": 158,
        "start_time": "2022-12-09T13:35:23.999Z"
      },
      {
        "duration": 5,
        "start_time": "2022-12-09T13:35:24.159Z"
      },
      {
        "duration": 240,
        "start_time": "2022-12-09T13:35:24.165Z"
      },
      {
        "duration": 182,
        "start_time": "2022-12-09T13:35:24.407Z"
      },
      {
        "duration": 10,
        "start_time": "2022-12-09T13:35:24.591Z"
      },
      {
        "duration": 4,
        "start_time": "2022-12-09T13:35:24.603Z"
      },
      {
        "duration": 11,
        "start_time": "2022-12-09T13:35:24.609Z"
      },
      {
        "duration": 29,
        "start_time": "2022-12-09T13:35:24.622Z"
      },
      {
        "duration": 37,
        "start_time": "2022-12-09T13:35:24.653Z"
      },
      {
        "duration": 643,
        "start_time": "2022-12-09T13:37:06.878Z"
      },
      {
        "duration": 485,
        "start_time": "2022-12-09T13:37:14.096Z"
      },
      {
        "duration": 488,
        "start_time": "2022-12-09T13:37:24.637Z"
      },
      {
        "duration": 473,
        "start_time": "2022-12-09T13:39:56.480Z"
      },
      {
        "duration": 467,
        "start_time": "2022-12-09T13:40:12.560Z"
      },
      {
        "duration": 205,
        "start_time": "2022-12-09T13:40:27.226Z"
      },
      {
        "duration": 291,
        "start_time": "2022-12-09T13:40:38.324Z"
      },
      {
        "duration": 228,
        "start_time": "2022-12-09T13:40:47.313Z"
      },
      {
        "duration": 372,
        "start_time": "2022-12-09T13:40:58.833Z"
      },
      {
        "duration": 173,
        "start_time": "2022-12-09T13:41:15.874Z"
      },
      {
        "duration": 141,
        "start_time": "2022-12-09T13:41:27.056Z"
      },
      {
        "duration": 1459,
        "start_time": "2022-12-09T18:44:35.506Z"
      },
      {
        "duration": 206,
        "start_time": "2022-12-09T18:44:36.968Z"
      },
      {
        "duration": 19,
        "start_time": "2022-12-09T18:44:37.175Z"
      },
      {
        "duration": 18,
        "start_time": "2022-12-09T18:44:37.196Z"
      },
      {
        "duration": 9,
        "start_time": "2022-12-09T18:44:37.216Z"
      },
      {
        "duration": 18,
        "start_time": "2022-12-09T18:44:37.227Z"
      },
      {
        "duration": 38,
        "start_time": "2022-12-09T18:44:37.247Z"
      },
      {
        "duration": 16,
        "start_time": "2022-12-09T18:44:37.287Z"
      },
      {
        "duration": 10,
        "start_time": "2022-12-09T18:44:37.305Z"
      },
      {
        "duration": 11,
        "start_time": "2022-12-09T18:44:37.317Z"
      },
      {
        "duration": 646,
        "start_time": "2022-12-09T18:44:37.330Z"
      },
      {
        "duration": 241,
        "start_time": "2022-12-09T18:44:37.978Z"
      },
      {
        "duration": 433,
        "start_time": "2022-12-09T18:44:38.223Z"
      },
      {
        "duration": 242,
        "start_time": "2022-12-09T18:44:38.658Z"
      },
      {
        "duration": 333,
        "start_time": "2022-12-09T18:44:38.902Z"
      },
      {
        "duration": 181,
        "start_time": "2022-12-09T18:44:39.237Z"
      },
      {
        "duration": 5,
        "start_time": "2022-12-09T18:44:39.421Z"
      },
      {
        "duration": 182,
        "start_time": "2022-12-09T18:44:39.428Z"
      },
      {
        "duration": 6,
        "start_time": "2022-12-09T18:44:39.612Z"
      },
      {
        "duration": 257,
        "start_time": "2022-12-09T18:44:39.621Z"
      },
      {
        "duration": 166,
        "start_time": "2022-12-09T18:44:39.881Z"
      },
      {
        "duration": 30,
        "start_time": "2022-12-09T18:44:40.049Z"
      },
      {
        "duration": 5,
        "start_time": "2022-12-09T18:44:40.081Z"
      },
      {
        "duration": 21,
        "start_time": "2022-12-09T18:44:40.088Z"
      },
      {
        "duration": 45,
        "start_time": "2022-12-09T18:44:40.111Z"
      },
      {
        "duration": 24,
        "start_time": "2022-12-09T18:44:40.158Z"
      },
      {
        "duration": 53,
        "start_time": "2022-12-09T19:08:38.801Z"
      },
      {
        "duration": 1276,
        "start_time": "2022-12-10T09:14:54.977Z"
      },
      {
        "duration": 221,
        "start_time": "2022-12-10T09:14:56.255Z"
      },
      {
        "duration": 18,
        "start_time": "2022-12-10T09:14:56.478Z"
      },
      {
        "duration": 19,
        "start_time": "2022-12-10T09:14:56.498Z"
      },
      {
        "duration": 8,
        "start_time": "2022-12-10T09:14:56.518Z"
      },
      {
        "duration": 17,
        "start_time": "2022-12-10T09:14:56.528Z"
      },
      {
        "duration": 11,
        "start_time": "2022-12-10T09:14:56.546Z"
      },
      {
        "duration": 8,
        "start_time": "2022-12-10T09:14:56.559Z"
      },
      {
        "duration": 30,
        "start_time": "2022-12-10T09:14:56.568Z"
      },
      {
        "duration": 6,
        "start_time": "2022-12-10T09:14:56.600Z"
      },
      {
        "duration": 532,
        "start_time": "2022-12-10T09:14:56.608Z"
      },
      {
        "duration": 274,
        "start_time": "2022-12-10T09:14:57.142Z"
      },
      {
        "duration": 318,
        "start_time": "2022-12-10T09:14:57.418Z"
      },
      {
        "duration": 195,
        "start_time": "2022-12-10T09:14:57.737Z"
      },
      {
        "duration": 323,
        "start_time": "2022-12-10T09:14:57.934Z"
      },
      {
        "duration": 140,
        "start_time": "2022-12-10T09:14:58.258Z"
      },
      {
        "duration": 4,
        "start_time": "2022-12-10T09:14:58.400Z"
      },
      {
        "duration": 138,
        "start_time": "2022-12-10T09:14:58.406Z"
      },
      {
        "duration": 5,
        "start_time": "2022-12-10T09:14:58.545Z"
      },
      {
        "duration": 212,
        "start_time": "2022-12-10T09:14:58.551Z"
      },
      {
        "duration": 169,
        "start_time": "2022-12-10T09:14:58.765Z"
      },
      {
        "duration": 10,
        "start_time": "2022-12-10T09:14:58.935Z"
      },
      {
        "duration": 4,
        "start_time": "2022-12-10T09:14:58.946Z"
      },
      {
        "duration": 14,
        "start_time": "2022-12-10T09:14:58.951Z"
      },
      {
        "duration": 46,
        "start_time": "2022-12-10T09:14:58.966Z"
      },
      {
        "duration": 17,
        "start_time": "2022-12-10T09:14:59.014Z"
      },
      {
        "duration": 14,
        "start_time": "2022-12-10T09:17:02.719Z"
      },
      {
        "duration": 11,
        "start_time": "2022-12-10T09:17:32.767Z"
      },
      {
        "duration": 8,
        "start_time": "2022-12-10T09:31:58.399Z"
      },
      {
        "duration": 17,
        "start_time": "2022-12-10T09:32:18.216Z"
      },
      {
        "duration": 10,
        "start_time": "2022-12-10T09:33:03.307Z"
      },
      {
        "duration": 10,
        "start_time": "2022-12-10T09:33:09.838Z"
      },
      {
        "duration": 11,
        "start_time": "2022-12-10T09:33:15.418Z"
      },
      {
        "duration": 91,
        "start_time": "2022-12-10T09:35:03.046Z"
      },
      {
        "duration": 11,
        "start_time": "2022-12-10T09:35:07.910Z"
      },
      {
        "duration": 484,
        "start_time": "2022-12-10T09:35:59.336Z"
      },
      {
        "duration": 167,
        "start_time": "2022-12-10T09:36:04.855Z"
      },
      {
        "duration": 423,
        "start_time": "2022-12-10T09:40:16.896Z"
      },
      {
        "duration": 166,
        "start_time": "2022-12-10T09:40:36.033Z"
      },
      {
        "duration": 238,
        "start_time": "2022-12-10T09:41:18.137Z"
      },
      {
        "duration": 184,
        "start_time": "2022-12-10T09:41:48.682Z"
      },
      {
        "duration": 3,
        "start_time": "2022-12-10T09:46:10.928Z"
      },
      {
        "duration": 17,
        "start_time": "2022-12-10T09:46:39.898Z"
      },
      {
        "duration": 7,
        "start_time": "2022-12-10T09:46:50.697Z"
      },
      {
        "duration": 28,
        "start_time": "2022-12-10T09:47:24.173Z"
      },
      {
        "duration": 9,
        "start_time": "2022-12-10T09:47:40.594Z"
      },
      {
        "duration": 26,
        "start_time": "2022-12-10T09:47:48.871Z"
      },
      {
        "duration": 24,
        "start_time": "2022-12-10T09:47:53.439Z"
      },
      {
        "duration": 320,
        "start_time": "2022-12-10T09:50:52.398Z"
      },
      {
        "duration": 279,
        "start_time": "2022-12-10T09:51:17.939Z"
      },
      {
        "duration": 4,
        "start_time": "2022-12-10T09:52:16.615Z"
      },
      {
        "duration": 207,
        "start_time": "2022-12-10T10:06:44.559Z"
      },
      {
        "duration": 167,
        "start_time": "2022-12-10T10:06:48.969Z"
      },
      {
        "duration": 142,
        "start_time": "2022-12-10T10:06:51.846Z"
      },
      {
        "duration": 141,
        "start_time": "2022-12-10T10:07:21.812Z"
      },
      {
        "duration": 9,
        "start_time": "2022-12-10T10:09:10.566Z"
      },
      {
        "duration": 4,
        "start_time": "2022-12-10T10:09:40.767Z"
      },
      {
        "duration": 155,
        "start_time": "2022-12-10T10:11:32.912Z"
      },
      {
        "duration": 132,
        "start_time": "2022-12-10T10:11:39.607Z"
      },
      {
        "duration": 144,
        "start_time": "2022-12-10T10:16:25.216Z"
      },
      {
        "duration": 12,
        "start_time": "2022-12-10T10:17:13.461Z"
      },
      {
        "duration": 26,
        "start_time": "2022-12-10T10:18:32.874Z"
      },
      {
        "duration": 12,
        "start_time": "2022-12-10T10:21:54.982Z"
      },
      {
        "duration": 2,
        "start_time": "2022-12-10T10:28:26.003Z"
      },
      {
        "duration": 2,
        "start_time": "2022-12-10T10:28:32.594Z"
      },
      {
        "duration": 44,
        "start_time": "2022-12-10T14:19:15.344Z"
      },
      {
        "duration": 43,
        "start_time": "2022-12-14T13:55:15.254Z"
      }
    ],
    "kernelspec": {
      "display_name": "Python 3 (ipykernel)",
      "language": "python",
      "name": "python3"
    },
    "language_info": {
      "codemirror_mode": {
        "name": "ipython",
        "version": 3
      },
      "file_extension": ".py",
      "mimetype": "text/x-python",
      "name": "python",
      "nbconvert_exporter": "python",
      "pygments_lexer": "ipython3",
      "version": "3.9.5"
    },
    "toc": {
      "base_numbering": 1,
      "nav_menu": {},
      "number_sections": true,
      "sideBar": true,
      "skip_h1_title": true,
      "title_cell": "Table of Contents",
      "title_sidebar": "Contents",
      "toc_cell": false,
      "toc_position": {},
      "toc_section_display": true,
      "toc_window_display": false
    },
    "colab": {
      "provenance": [],
      "toc_visible": true,
      "include_colab_link": true
    }
  },
  "nbformat": 4,
  "nbformat_minor": 0
}