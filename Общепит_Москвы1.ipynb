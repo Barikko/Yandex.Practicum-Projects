{
  "cells": [
    {
      "cell_type": "markdown",
      "metadata": {
        "id": "view-in-github",
        "colab_type": "text"
      },
      "source": [
        "<a href=\"https://colab.research.google.com/github/Barikko/Yandex.Practicum-Projects/blob/main/%D0%9E%D0%B1%D1%89%D0%B5%D0%BF%D0%B8%D1%82_%D0%9C%D0%BE%D1%81%D0%BA%D0%B2%D1%8B1.ipynb\" target=\"_parent\"><img src=\"https://colab.research.google.com/assets/colab-badge.svg\" alt=\"Open In Colab\"/></a>"
      ]
    },
    {
      "cell_type": "markdown",
      "metadata": {
        "id": "EqPgNsvafnbG"
      },
      "source": [
        "# Проект \"Рынок заведений общественного питания Москвы\"\n",
        "\n",
        "Цель проекта: исследование рынка общественного питания в Москве, поиск интересных особенностей с последующей презентацией. Это исследование поможет заказчикам найти лучшее места для открытия нового заведения.\n",
        "\n",
        "План: \n",
        "- Загрузка данных, получение общей информации\n",
        "- Предобработка данных, работа с пропусками и дубликатами\n",
        "- Создание новых стобцов\n",
        "- Анализ данных датасета, сравнение показателей по всем категориям,  подтверждённые цифрами, графиками и выводами\n",
        "- Рекомендации, основанные на анализе, по открытию новой кофейни"
      ]
    },
    {
      "cell_type": "markdown",
      "metadata": {
        "id": "KCF-frhxfnbH"
      },
      "source": [
        "## Общая информация"
      ]
    },
    {
      "cell_type": "code",
      "execution_count": 3,
      "metadata": {
        "id": "PauzZXitfnbI"
      },
      "outputs": [],
      "source": [
        "import pandas as pd\n",
        "import matplotlib.pyplot as plt\n",
        "import numpy as np\n",
        "import seaborn as sns\n",
        "from folium import Marker, Map, Choropleth\n",
        "import plotly.express as px\n",
        "import json\n",
        "from folium.plugins import MarkerCluster\n",
        "from plotly import graph_objects as go"
      ]
    },
    {
      "cell_type": "code",
      "execution_count": 4,
      "metadata": {
        "colab": {
          "base_uri": "https://localhost:8080/",
          "height": 872
        },
        "id": "l3etDTYEfnbK",
        "outputId": "cf3104dd-45f4-4638-ea49-d789ff5c317c"
      },
      "outputs": [
        {
          "output_type": "stream",
          "name": "stdout",
          "text": [
            "<class 'pandas.core.frame.DataFrame'>\n",
            "RangeIndex: 8406 entries, 0 to 8405\n",
            "Data columns (total 14 columns):\n",
            " #   Column             Non-Null Count  Dtype  \n",
            "---  ------             --------------  -----  \n",
            " 0   name               8406 non-null   object \n",
            " 1   category           8406 non-null   object \n",
            " 2   address            8406 non-null   object \n",
            " 3   district           8406 non-null   object \n",
            " 4   hours              7870 non-null   object \n",
            " 5   lat                8406 non-null   float64\n",
            " 6   lng                8406 non-null   float64\n",
            " 7   rating             8406 non-null   float64\n",
            " 8   price              3315 non-null   object \n",
            " 9   avg_bill           3816 non-null   object \n",
            " 10  middle_avg_bill    3149 non-null   float64\n",
            " 11  middle_coffee_cup  535 non-null    float64\n",
            " 12  chain              8406 non-null   int64  \n",
            " 13  seats              4795 non-null   float64\n",
            "dtypes: float64(6), int64(1), object(7)\n",
            "memory usage: 919.5+ KB\n",
            "None\n"
          ]
        },
        {
          "output_type": "display_data",
          "data": {
            "text/plain": [
              "                   name  category                              address  \\\n",
              "0                WoWфли      кафе           Москва, улица Дыбенко, 7/1   \n",
              "1        Четыре комнаты  ресторан   Москва, улица Дыбенко, 36, корп. 1   \n",
              "2                 Хазри      кафе       Москва, Клязьминская улица, 15   \n",
              "3  Dormouse Coffee Shop   кофейня  Москва, улица Маршала Федоренко, 12   \n",
              "4             Иль Марко  пиццерия      Москва, Правобережная улица, 1Б   \n",
              "\n",
              "                          district  \\\n",
              "0  Северный административный округ   \n",
              "1  Северный административный округ   \n",
              "2  Северный административный округ   \n",
              "3  Северный административный округ   \n",
              "4  Северный административный округ   \n",
              "\n",
              "                                               hours        lat        lng  \\\n",
              "0                             ежедневно, 10:00–22:00  55.878494  37.478860   \n",
              "1                             ежедневно, 10:00–22:00  55.875801  37.484479   \n",
              "2  пн-чт 11:00–02:00; пт,сб 11:00–05:00; вс 11:00...  55.889146  37.525901   \n",
              "3                             ежедневно, 09:00–22:00  55.881608  37.488860   \n",
              "4                             ежедневно, 10:00–22:00  55.881166  37.449357   \n",
              "\n",
              "   rating          price                       avg_bill  middle_avg_bill  \\\n",
              "0     5.0            NaN                            NaN              NaN   \n",
              "1     4.5  выше среднего       Средний счёт:1500–1600 ₽           1550.0   \n",
              "2     4.6        средние         Средний счёт:от 1000 ₽           1000.0   \n",
              "3     5.0            NaN  Цена чашки капучино:155–185 ₽              NaN   \n",
              "4     5.0        средние         Средний счёт:400–600 ₽            500.0   \n",
              "\n",
              "   middle_coffee_cup  chain  seats  \n",
              "0                NaN      0    NaN  \n",
              "1                NaN      0    4.0  \n",
              "2                NaN      0   45.0  \n",
              "3              170.0      0    NaN  \n",
              "4                NaN      1  148.0  "
            ],
            "text/html": [
              "\n",
              "  <div id=\"df-7e69d3bd-2790-4b18-ad47-b37930962196\">\n",
              "    <div class=\"colab-df-container\">\n",
              "      <div>\n",
              "<style scoped>\n",
              "    .dataframe tbody tr th:only-of-type {\n",
              "        vertical-align: middle;\n",
              "    }\n",
              "\n",
              "    .dataframe tbody tr th {\n",
              "        vertical-align: top;\n",
              "    }\n",
              "\n",
              "    .dataframe thead th {\n",
              "        text-align: right;\n",
              "    }\n",
              "</style>\n",
              "<table border=\"1\" class=\"dataframe\">\n",
              "  <thead>\n",
              "    <tr style=\"text-align: right;\">\n",
              "      <th></th>\n",
              "      <th>name</th>\n",
              "      <th>category</th>\n",
              "      <th>address</th>\n",
              "      <th>district</th>\n",
              "      <th>hours</th>\n",
              "      <th>lat</th>\n",
              "      <th>lng</th>\n",
              "      <th>rating</th>\n",
              "      <th>price</th>\n",
              "      <th>avg_bill</th>\n",
              "      <th>middle_avg_bill</th>\n",
              "      <th>middle_coffee_cup</th>\n",
              "      <th>chain</th>\n",
              "      <th>seats</th>\n",
              "    </tr>\n",
              "  </thead>\n",
              "  <tbody>\n",
              "    <tr>\n",
              "      <th>0</th>\n",
              "      <td>WoWфли</td>\n",
              "      <td>кафе</td>\n",
              "      <td>Москва, улица Дыбенко, 7/1</td>\n",
              "      <td>Северный административный округ</td>\n",
              "      <td>ежедневно, 10:00–22:00</td>\n",
              "      <td>55.878494</td>\n",
              "      <td>37.478860</td>\n",
              "      <td>5.0</td>\n",
              "      <td>NaN</td>\n",
              "      <td>NaN</td>\n",
              "      <td>NaN</td>\n",
              "      <td>NaN</td>\n",
              "      <td>0</td>\n",
              "      <td>NaN</td>\n",
              "    </tr>\n",
              "    <tr>\n",
              "      <th>1</th>\n",
              "      <td>Четыре комнаты</td>\n",
              "      <td>ресторан</td>\n",
              "      <td>Москва, улица Дыбенко, 36, корп. 1</td>\n",
              "      <td>Северный административный округ</td>\n",
              "      <td>ежедневно, 10:00–22:00</td>\n",
              "      <td>55.875801</td>\n",
              "      <td>37.484479</td>\n",
              "      <td>4.5</td>\n",
              "      <td>выше среднего</td>\n",
              "      <td>Средний счёт:1500–1600 ₽</td>\n",
              "      <td>1550.0</td>\n",
              "      <td>NaN</td>\n",
              "      <td>0</td>\n",
              "      <td>4.0</td>\n",
              "    </tr>\n",
              "    <tr>\n",
              "      <th>2</th>\n",
              "      <td>Хазри</td>\n",
              "      <td>кафе</td>\n",
              "      <td>Москва, Клязьминская улица, 15</td>\n",
              "      <td>Северный административный округ</td>\n",
              "      <td>пн-чт 11:00–02:00; пт,сб 11:00–05:00; вс 11:00...</td>\n",
              "      <td>55.889146</td>\n",
              "      <td>37.525901</td>\n",
              "      <td>4.6</td>\n",
              "      <td>средние</td>\n",
              "      <td>Средний счёт:от 1000 ₽</td>\n",
              "      <td>1000.0</td>\n",
              "      <td>NaN</td>\n",
              "      <td>0</td>\n",
              "      <td>45.0</td>\n",
              "    </tr>\n",
              "    <tr>\n",
              "      <th>3</th>\n",
              "      <td>Dormouse Coffee Shop</td>\n",
              "      <td>кофейня</td>\n",
              "      <td>Москва, улица Маршала Федоренко, 12</td>\n",
              "      <td>Северный административный округ</td>\n",
              "      <td>ежедневно, 09:00–22:00</td>\n",
              "      <td>55.881608</td>\n",
              "      <td>37.488860</td>\n",
              "      <td>5.0</td>\n",
              "      <td>NaN</td>\n",
              "      <td>Цена чашки капучино:155–185 ₽</td>\n",
              "      <td>NaN</td>\n",
              "      <td>170.0</td>\n",
              "      <td>0</td>\n",
              "      <td>NaN</td>\n",
              "    </tr>\n",
              "    <tr>\n",
              "      <th>4</th>\n",
              "      <td>Иль Марко</td>\n",
              "      <td>пиццерия</td>\n",
              "      <td>Москва, Правобережная улица, 1Б</td>\n",
              "      <td>Северный административный округ</td>\n",
              "      <td>ежедневно, 10:00–22:00</td>\n",
              "      <td>55.881166</td>\n",
              "      <td>37.449357</td>\n",
              "      <td>5.0</td>\n",
              "      <td>средние</td>\n",
              "      <td>Средний счёт:400–600 ₽</td>\n",
              "      <td>500.0</td>\n",
              "      <td>NaN</td>\n",
              "      <td>1</td>\n",
              "      <td>148.0</td>\n",
              "    </tr>\n",
              "  </tbody>\n",
              "</table>\n",
              "</div>\n",
              "      <button class=\"colab-df-convert\" onclick=\"convertToInteractive('df-7e69d3bd-2790-4b18-ad47-b37930962196')\"\n",
              "              title=\"Convert this dataframe to an interactive table.\"\n",
              "              style=\"display:none;\">\n",
              "        \n",
              "  <svg xmlns=\"http://www.w3.org/2000/svg\" height=\"24px\"viewBox=\"0 0 24 24\"\n",
              "       width=\"24px\">\n",
              "    <path d=\"M0 0h24v24H0V0z\" fill=\"none\"/>\n",
              "    <path d=\"M18.56 5.44l.94 2.06.94-2.06 2.06-.94-2.06-.94-.94-2.06-.94 2.06-2.06.94zm-11 1L8.5 8.5l.94-2.06 2.06-.94-2.06-.94L8.5 2.5l-.94 2.06-2.06.94zm10 10l.94 2.06.94-2.06 2.06-.94-2.06-.94-.94-2.06-.94 2.06-2.06.94z\"/><path d=\"M17.41 7.96l-1.37-1.37c-.4-.4-.92-.59-1.43-.59-.52 0-1.04.2-1.43.59L10.3 9.45l-7.72 7.72c-.78.78-.78 2.05 0 2.83L4 21.41c.39.39.9.59 1.41.59.51 0 1.02-.2 1.41-.59l7.78-7.78 2.81-2.81c.8-.78.8-2.07 0-2.86zM5.41 20L4 18.59l7.72-7.72 1.47 1.35L5.41 20z\"/>\n",
              "  </svg>\n",
              "      </button>\n",
              "      \n",
              "  <style>\n",
              "    .colab-df-container {\n",
              "      display:flex;\n",
              "      flex-wrap:wrap;\n",
              "      gap: 12px;\n",
              "    }\n",
              "\n",
              "    .colab-df-convert {\n",
              "      background-color: #E8F0FE;\n",
              "      border: none;\n",
              "      border-radius: 50%;\n",
              "      cursor: pointer;\n",
              "      display: none;\n",
              "      fill: #1967D2;\n",
              "      height: 32px;\n",
              "      padding: 0 0 0 0;\n",
              "      width: 32px;\n",
              "    }\n",
              "\n",
              "    .colab-df-convert:hover {\n",
              "      background-color: #E2EBFA;\n",
              "      box-shadow: 0px 1px 2px rgba(60, 64, 67, 0.3), 0px 1px 3px 1px rgba(60, 64, 67, 0.15);\n",
              "      fill: #174EA6;\n",
              "    }\n",
              "\n",
              "    [theme=dark] .colab-df-convert {\n",
              "      background-color: #3B4455;\n",
              "      fill: #D2E3FC;\n",
              "    }\n",
              "\n",
              "    [theme=dark] .colab-df-convert:hover {\n",
              "      background-color: #434B5C;\n",
              "      box-shadow: 0px 1px 3px 1px rgba(0, 0, 0, 0.15);\n",
              "      filter: drop-shadow(0px 1px 2px rgba(0, 0, 0, 0.3));\n",
              "      fill: #FFFFFF;\n",
              "    }\n",
              "  </style>\n",
              "\n",
              "      <script>\n",
              "        const buttonEl =\n",
              "          document.querySelector('#df-7e69d3bd-2790-4b18-ad47-b37930962196 button.colab-df-convert');\n",
              "        buttonEl.style.display =\n",
              "          google.colab.kernel.accessAllowed ? 'block' : 'none';\n",
              "\n",
              "        async function convertToInteractive(key) {\n",
              "          const element = document.querySelector('#df-7e69d3bd-2790-4b18-ad47-b37930962196');\n",
              "          const dataTable =\n",
              "            await google.colab.kernel.invokeFunction('convertToInteractive',\n",
              "                                                     [key], {});\n",
              "          if (!dataTable) return;\n",
              "\n",
              "          const docLinkHtml = 'Like what you see? Visit the ' +\n",
              "            '<a target=\"_blank\" href=https://colab.research.google.com/notebooks/data_table.ipynb>data table notebook</a>'\n",
              "            + ' to learn more about interactive tables.';\n",
              "          element.innerHTML = '';\n",
              "          dataTable['output_type'] = 'display_data';\n",
              "          await google.colab.output.renderOutput(dataTable, element);\n",
              "          const docLink = document.createElement('div');\n",
              "          docLink.innerHTML = docLinkHtml;\n",
              "          element.appendChild(docLink);\n",
              "        }\n",
              "      </script>\n",
              "    </div>\n",
              "  </div>\n",
              "  "
            ]
          },
          "metadata": {}
        }
      ],
      "source": [
        "data = pd.read_csv('/content/moscow_places.csv')\n",
        "print(data.info())\n",
        "display(data.head(5))"
      ]
    },
    {
      "cell_type": "markdown",
      "metadata": {
        "id": "rIDve6jIfnbL"
      },
      "source": [
        "До предобработки представлено 8406 заведений, вторая половины таблицы имеет много пропусков. Все столбцы имеют формат float64 или object."
      ]
    },
    {
      "cell_type": "markdown",
      "metadata": {
        "id": "VJWHPv0FfnbN"
      },
      "source": [
        "## Предобработка данных"
      ]
    },
    {
      "cell_type": "markdown",
      "metadata": {
        "id": "fWfQXQ9sfnbN"
      },
      "source": [
        "### Поиск дубликатов"
      ]
    },
    {
      "cell_type": "code",
      "execution_count": 5,
      "metadata": {
        "colab": {
          "base_uri": "https://localhost:8080/"
        },
        "id": "7mWVQK05fnbO",
        "outputId": "58827bc7-91d4-4e6b-a389-b1e792755009"
      },
      "outputs": [
        {
          "output_type": "stream",
          "name": "stdout",
          "text": [
            "0\n",
            "['кафе' 'ресторан' 'кофейня' 'пиццерия' 'бар,паб' 'быстрое питание'\n",
            " 'булочная' 'столовая']\n",
            "['Северный административный округ'\n",
            " 'Северо-Восточный административный округ'\n",
            " 'Северо-Западный административный округ'\n",
            " 'Западный административный округ' 'Центральный административный округ'\n",
            " 'Восточный административный округ' 'Юго-Восточный административный округ'\n",
            " 'Южный административный округ' 'Юго-Западный административный округ']\n"
          ]
        }
      ],
      "source": [
        "print(data.duplicated().sum())\n",
        "print(data['category'].unique())\n",
        "print(data['district'].unique())"
      ]
    },
    {
      "cell_type": "markdown",
      "metadata": {
        "id": "8SSR94yUfnbP"
      },
      "source": [
        "Явных дубликатов не обнаружено."
      ]
    },
    {
      "cell_type": "code",
      "execution_count": 6,
      "metadata": {
        "colab": {
          "base_uri": "https://localhost:8080/"
        },
        "id": "rUhNFKURfnbQ",
        "outputId": "e1895a55-4d68-4b0b-8bf6-5b1370124b3a"
      },
      "outputs": [
        {
          "output_type": "stream",
          "name": "stdout",
          "text": [
            "<class 'pandas.core.frame.DataFrame'>\n",
            "Int64Index: 8406 entries, 0 to 8405\n",
            "Data columns (total 14 columns):\n",
            " #   Column             Non-Null Count  Dtype  \n",
            "---  ------             --------------  -----  \n",
            " 0   name               8406 non-null   object \n",
            " 1   category           8406 non-null   object \n",
            " 2   address            8406 non-null   object \n",
            " 3   district           8406 non-null   object \n",
            " 4   hours              7870 non-null   object \n",
            " 5   lat                8406 non-null   float64\n",
            " 6   lng                8406 non-null   float64\n",
            " 7   rating             8406 non-null   float64\n",
            " 8   price              3315 non-null   object \n",
            " 9   avg_bill           3816 non-null   object \n",
            " 10  middle_avg_bill    3149 non-null   float64\n",
            " 11  middle_coffee_cup  535 non-null    float64\n",
            " 12  chain              8406 non-null   int64  \n",
            " 13  seats              4795 non-null   float64\n",
            "dtypes: float64(6), int64(1), object(7)\n",
            "memory usage: 985.1+ KB\n"
          ]
        }
      ],
      "source": [
        "data=data.drop_duplicates(subset=['name','address'])\n",
        "data.info()"
      ]
    },
    {
      "cell_type": "markdown",
      "metadata": {
        "id": "FrSMcB5sfnbR"
      },
      "source": [
        "Неявных дубликатов не обнаружено."
      ]
    },
    {
      "cell_type": "markdown",
      "metadata": {
        "id": "-lovDWL2fnbT"
      },
      "source": [
        "### Поиск и обработка пропусков"
      ]
    },
    {
      "cell_type": "code",
      "execution_count": 7,
      "metadata": {
        "colab": {
          "base_uri": "https://localhost:8080/"
        },
        "id": "xu3CTGAqfnbT",
        "outputId": "46f312a3-bf02-4dcd-eedc-a0090b464a64"
      },
      "outputs": [
        {
          "output_type": "stream",
          "name": "stdout",
          "text": [
            "name                    0\n",
            "category                0\n",
            "address                 0\n",
            "district                0\n",
            "hours                 536\n",
            "lat                     0\n",
            "lng                     0\n",
            "rating                  0\n",
            "price                5091\n",
            "avg_bill             4590\n",
            "middle_avg_bill      5257\n",
            "middle_coffee_cup    7871\n",
            "chain                   0\n",
            "seats                3611\n",
            "dtype: int64\n"
          ]
        }
      ],
      "source": [
        "print(data.isna().sum())"
      ]
    },
    {
      "cell_type": "markdown",
      "metadata": {
        "id": "OwlpgqzufnbU"
      },
      "source": [
        "Большое количество пропусков в столбцах price, avg_bill, middle_avg_bill, middle_coffee_cup, seats, hours. Правильным решением будет не заполнять пропуски ничем."
      ]
    },
    {
      "cell_type": "markdown",
      "metadata": {
        "id": "byr6lBnufnbU"
      },
      "source": [
        "### Столбец street с названиями улиц из столбца с адресом"
      ]
    },
    {
      "cell_type": "code",
      "execution_count": 8,
      "metadata": {
        "colab": {
          "base_uri": "https://localhost:8080/"
        },
        "id": "Ma0f70HKfnbU",
        "outputId": "1e906ca0-6653-41c2-a9dc-44d2161d9d62"
      },
      "outputs": [
        {
          "output_type": "execute_result",
          "data": {
            "text/plain": [
              "0                  улица Дыбенко\n",
              "1                  улица Дыбенко\n",
              "2             Клязьминская улица\n",
              "3        улица Маршала Федоренко\n",
              "4            Правобережная улица\n",
              "                  ...           \n",
              "8401           Профсоюзная улица\n",
              "8402       Пролетарский проспект\n",
              "8403            Люблинская улица\n",
              "8404            Люблинская улица\n",
              "8405         Россошанский проезд\n",
              "Name: street, Length: 8406, dtype: object"
            ]
          },
          "metadata": {},
          "execution_count": 8
        }
      ],
      "source": [
        "data['street'] = data.apply(lambda x: x['address'].split(',')[1], axis=1) \n",
        "data['street']"
      ]
    },
    {
      "cell_type": "markdown",
      "metadata": {
        "id": "qyKM1RzvfnbV"
      },
      "source": [
        "### Столбец is_24/7 с обозначением, что заведение работает ежедневно и круглосуточно (24/7)"
      ]
    },
    {
      "cell_type": "code",
      "execution_count": 9,
      "metadata": {
        "colab": {
          "base_uri": "https://localhost:8080/"
        },
        "id": "RRglbrQFfnbW",
        "outputId": "26f967d6-c821-4750-8146-c832ac70d8dc"
      },
      "outputs": [
        {
          "output_type": "execute_result",
          "data": {
            "text/plain": [
              "0       False\n",
              "1       False\n",
              "2       False\n",
              "3       False\n",
              "4       False\n",
              "        ...  \n",
              "8401    False\n",
              "8402    False\n",
              "8403     True\n",
              "8404     True\n",
              "8405     True\n",
              "Name: is_24/7, Length: 8406, dtype: bool"
            ]
          },
          "metadata": {},
          "execution_count": 9
        }
      ],
      "source": [
        "data['is_24/7'] = data.apply(lambda x: x['hours']=='ежедневно, круглосуточно', axis=1)\n",
        "data['is_24/7']"
      ]
    },
    {
      "cell_type": "markdown",
      "metadata": {
        "id": "K1xFUmZYfnbX"
      },
      "source": [
        "## Анализ данных"
      ]
    },
    {
      "cell_type": "markdown",
      "metadata": {
        "id": "ne6GKw6xfnbX"
      },
      "source": [
        "### Какие категории заведений представлены в данных?"
      ]
    },
    {
      "cell_type": "code",
      "execution_count": 20,
      "metadata": {
        "colab": {
          "base_uri": "https://localhost:8080/",
          "height": 542
        },
        "id": "-ra00p-qfnbX",
        "outputId": "72a8f328-7195-43c8-deb0-2efea10e2182"
      },
      "outputs": [
        {
          "output_type": "display_data",
          "data": {
            "text/plain": [
              "<PIL.PngImagePlugin.PngImageFile image mode=RGBA size=1172x525 at 0x7F02D3820E50>"
            ],
            "image/png": "[encoded data removed]"
          },
          "metadata": {}
        }
      ],
      "source": [
        "fig = go.Figure(data=[go.Pie(title='Распределение заведений по категориям', labels=data.groupby('category')['category'].count().index,values=data.groupby('category')['category'].count())])\n",
        "Image.open(\"/content/newplot(3).png\").show();"
      ]
    },
    {
      "cell_type": "markdown",
      "metadata": {
        "id": "_H1IEFyufnbY"
      },
      "source": [
        "Наиболее крупные категории: кафе (2378 заведений), ресторан (2043) и кофейня (1413). Наименее - быстрое питание (603), столовая (315), булочная (256)."
      ]
    },
    {
      "cell_type": "markdown",
      "metadata": {
        "id": "UTNNW3K3fnbZ"
      },
      "source": [
        "### Количество посадочных мест в местах по категориям"
      ]
    },
    {
      "cell_type": "code",
      "execution_count": 11,
      "metadata": {
        "colab": {
          "base_uri": "https://localhost:8080/",
          "height": 394
        },
        "id": "FyKjehXSfnbZ",
        "outputId": "3cbc827a-27b7-4550-a783-0ac9aa48dc5e"
      },
      "outputs": [
        {
          "output_type": "display_data",
          "data": {
            "text/plain": [
              "<Figure size 720x360 with 1 Axes>"
            ],
            "image/png": "[encoded data removed]"
          },
          "metadata": {
            "needs_background": "light"
          }
        }
      ],
      "source": [
        "data.pivot_table(index = 'category',values='seats', aggfunc='median')\\\n",
        ".sort_values(by='seats',ascending = True).plot(kind='bar', title='Распределение посадочных мест по категориям',\\\n",
        "xlabel='Категория',ylabel='Количество посадочных мест', figsize=(10,5), legend = False)\n",
        "plt.ylim([30, 100])\n",
        "plt.xticks(rotation = 30);"
      ]
    },
    {
      "cell_type": "markdown",
      "metadata": {
        "id": "tJ1-kgvxfnba"
      },
      "source": [
        "Наименьшее количество мест имеют булочные и пиццерии (<60), наибольшее - рестораны и бары (>80). Связано это с размером заведений, булочные и пиццерии имеют меньшую площадь и вместимость по сравнению с людными ресторанами и барами."
      ]
    },
    {
      "cell_type": "markdown",
      "metadata": {
        "id": "OEMoADKYfnba"
      },
      "source": [
        "### Соотношение сетевых и несетевых заведений"
      ]
    },
    {
      "cell_type": "code",
      "execution_count": 21,
      "metadata": {
        "colab": {
          "base_uri": "https://localhost:8080/",
          "height": 542
        },
        "id": "kwg8XucKfnba",
        "outputId": "ada2f30a-2a5d-4b84-e859-154c3a28c80d"
      },
      "outputs": [
        {
          "output_type": "display_data",
          "data": {
            "text/plain": [
              "<PIL.PngImagePlugin.PngImageFile image mode=RGBA size=1172x525 at 0x7F02D3820D90>"
            ],
            "image/png": "[encoded data removed]"
          },
          "metadata": {}
        }
      ],
      "source": [
        "fig = go.Figure(data=[go.Pie(title='Соотношение сетевых и несетевых заведений',\\\n",
        "labels=['Не сетевое заведение','Сетевое заведение'],values=data.groupby('chain')['category'].count())])\n",
        "Image.open(\"/content/newplot(4).png\").show();"
      ]
    },
    {
      "cell_type": "markdown",
      "metadata": {
        "id": "r6iw708ifnbb"
      },
      "source": [
        "62% заведений не являются сетями, 38% - являются."
      ]
    },
    {
      "cell_type": "markdown",
      "metadata": {
        "id": "KBKcA3yQfnbb"
      },
      "source": [
        "### Какие категории заведений чаще являются сетевыми?"
      ]
    },
    {
      "cell_type": "code",
      "execution_count": 13,
      "metadata": {
        "colab": {
          "base_uri": "https://localhost:8080/",
          "height": 404
        },
        "id": "JRJUQZaYfnbc",
        "outputId": "0ac205da-1eda-45bf-d6b9-2a8fe1c418d4"
      },
      "outputs": [
        {
          "output_type": "display_data",
          "data": {
            "text/plain": [
              "<Figure size 720x432 with 1 Axes>"
            ],
            "image/png": "[encoded data removed]"
          },
          "metadata": {
            "needs_background": "light"
          }
        }
      ],
      "source": [
        "category_chain = data.replace([1,0], ['сетевое','несетевое']\n",
        "    ).pivot_table(index = 'category', values = 'name', columns = 'chain',\n",
        "aggfunc = 'count')\n",
        "\n",
        "category_chain.plot(kind='bar',title='Сравнение сетевых и несетевых заведений по категориям', figsize=(10,6))\n",
        "plt.xticks(rotation=0);"
      ]
    },
    {
      "cell_type": "markdown",
      "metadata": {
        "id": "DNTMbBmhfnbc"
      },
      "source": [
        "Булочные, пиццерии и кофейни чаще всего являются сетевыми заведениями – от 55% до 60+% принадлежат сети, бары и столовые имеют этот показатель от 20 до 30%."
      ]
    },
    {
      "cell_type": "markdown",
      "metadata": {
        "id": "woSFAG3Lfnbd"
      },
      "source": [
        "### Топ-15 популярных сетей в Москве."
      ]
    },
    {
      "cell_type": "code",
      "execution_count": 14,
      "metadata": {
        "colab": {
          "base_uri": "https://localhost:8080/",
          "height": 421
        },
        "id": "4qtLf73Xfnbd",
        "outputId": "fae1d79e-bd73-4b6d-9702-653e311b35ed"
      },
      "outputs": [
        {
          "output_type": "display_data",
          "data": {
            "text/plain": [
              "<Figure size 720x360 with 1 Axes>"
            ],
            "image/png": "[encoded data removed]"
          },
          "metadata": {
            "needs_background": "light"
          }
        }
      ],
      "source": [
        "data.query('chain==1').pivot_table(index = 'name',values='category', aggfunc='count')\\\n",
        ".sort_values(by ='category', ascending = False).head(15).plot(kind='bar', title = 'Самые популярные сети',\\\n",
        "legend = False, xlabel='Сеть', ylabel='Количество заведений в регионе',figsize=(10,5))\n",
        "plt.xticks(rotation = 20);\n",
        "\n",
        "#В списке пропущены такие сети, как \"Кафе\", \"Хинкальная\", \"Шаурма\" и прочее, так как они не являются сетями."
      ]
    },
    {
      "cell_type": "markdown",
      "metadata": {
        "id": "1Mqr_ZgMfnbe"
      },
      "source": [
        "Большинство сетей относятся к кофейням или пиццерии, самая популярная сеть - Шоколадница, насчитывающая 120 заведений."
      ]
    },
    {
      "cell_type": "markdown",
      "metadata": {
        "id": "5Toe2vcxfnbf"
      },
      "source": [
        "### Количество заведений и их категории по районам"
      ]
    },
    {
      "cell_type": "code",
      "execution_count": 22,
      "metadata": {
        "colab": {
          "base_uri": "https://localhost:8080/",
          "height": 888
        },
        "id": "plrKBy3Ifnbi",
        "outputId": "062a78ea-4493-40d2-b9ac-0588dc1baefa"
      },
      "outputs": [
        {
          "output_type": "display_data",
          "data": {
            "text/plain": [
              "category                                 бар,паб  булочная  быстрое питание  \\\n",
              "district                                                                      \n",
              "Восточный административный округ              53        25               71   \n",
              "Западный административный округ               50        37               62   \n",
              "Северный административный округ               68        39               58   \n",
              "Северо-Восточный административный округ       63        28               82   \n",
              "Северо-Западный административный округ        23        12               30   \n",
              "Центральный административный округ           364        50               87   \n",
              "Юго-Восточный административный округ          38        13               67   \n",
              "Юго-Западный административный округ           38        27               61   \n",
              "Южный административный округ                  68        25               85   \n",
              "\n",
              "category                                 кафе  кофейня  пиццерия  ресторан  \\\n",
              "district                                                                     \n",
              "Восточный административный округ          272      105        72       160   \n",
              "Западный административный округ           239      150        71       218   \n",
              "Северный административный округ           235      193        77       189   \n",
              "Северо-Восточный административный округ   269      159        68       182   \n",
              "Северо-Западный административный округ    115       62        40       109   \n",
              "Центральный административный округ        464      428       113       670   \n",
              "Юго-Восточный административный округ      282       89        55       145   \n",
              "Юго-Западный административный округ       238       96        64       168   \n",
              "Южный административный округ              264      131        73       202   \n",
              "\n",
              "category                                 столовая  \n",
              "district                                           \n",
              "Восточный административный округ               40  \n",
              "Западный административный округ                24  \n",
              "Северный административный округ                41  \n",
              "Северо-Восточный административный округ        40  \n",
              "Северо-Западный административный округ         18  \n",
              "Центральный административный округ             66  \n",
              "Юго-Восточный административный округ           25  \n",
              "Юго-Западный административный округ            17  \n",
              "Южный административный округ                   44  "
            ],
            "text/html": [
              "\n",
              "  <div id=\"df-7c8cef2e-b550-4f23-80a1-998a4c36e4a2\">\n",
              "    <div class=\"colab-df-container\">\n",
              "      <div>\n",
              "<style scoped>\n",
              "    .dataframe tbody tr th:only-of-type {\n",
              "        vertical-align: middle;\n",
              "    }\n",
              "\n",
              "    .dataframe tbody tr th {\n",
              "        vertical-align: top;\n",
              "    }\n",
              "\n",
              "    .dataframe thead th {\n",
              "        text-align: right;\n",
              "    }\n",
              "</style>\n",
              "<table border=\"1\" class=\"dataframe\">\n",
              "  <thead>\n",
              "    <tr style=\"text-align: right;\">\n",
              "      <th>category</th>\n",
              "      <th>бар,паб</th>\n",
              "      <th>булочная</th>\n",
              "      <th>быстрое питание</th>\n",
              "      <th>кафе</th>\n",
              "      <th>кофейня</th>\n",
              "      <th>пиццерия</th>\n",
              "      <th>ресторан</th>\n",
              "      <th>столовая</th>\n",
              "    </tr>\n",
              "    <tr>\n",
              "      <th>district</th>\n",
              "      <th></th>\n",
              "      <th></th>\n",
              "      <th></th>\n",
              "      <th></th>\n",
              "      <th></th>\n",
              "      <th></th>\n",
              "      <th></th>\n",
              "      <th></th>\n",
              "    </tr>\n",
              "  </thead>\n",
              "  <tbody>\n",
              "    <tr>\n",
              "      <th>Восточный административный округ</th>\n",
              "      <td>53</td>\n",
              "      <td>25</td>\n",
              "      <td>71</td>\n",
              "      <td>272</td>\n",
              "      <td>105</td>\n",
              "      <td>72</td>\n",
              "      <td>160</td>\n",
              "      <td>40</td>\n",
              "    </tr>\n",
              "    <tr>\n",
              "      <th>Западный административный округ</th>\n",
              "      <td>50</td>\n",
              "      <td>37</td>\n",
              "      <td>62</td>\n",
              "      <td>239</td>\n",
              "      <td>150</td>\n",
              "      <td>71</td>\n",
              "      <td>218</td>\n",
              "      <td>24</td>\n",
              "    </tr>\n",
              "    <tr>\n",
              "      <th>Северный административный округ</th>\n",
              "      <td>68</td>\n",
              "      <td>39</td>\n",
              "      <td>58</td>\n",
              "      <td>235</td>\n",
              "      <td>193</td>\n",
              "      <td>77</td>\n",
              "      <td>189</td>\n",
              "      <td>41</td>\n",
              "    </tr>\n",
              "    <tr>\n",
              "      <th>Северо-Восточный административный округ</th>\n",
              "      <td>63</td>\n",
              "      <td>28</td>\n",
              "      <td>82</td>\n",
              "      <td>269</td>\n",
              "      <td>159</td>\n",
              "      <td>68</td>\n",
              "      <td>182</td>\n",
              "      <td>40</td>\n",
              "    </tr>\n",
              "    <tr>\n",
              "      <th>Северо-Западный административный округ</th>\n",
              "      <td>23</td>\n",
              "      <td>12</td>\n",
              "      <td>30</td>\n",
              "      <td>115</td>\n",
              "      <td>62</td>\n",
              "      <td>40</td>\n",
              "      <td>109</td>\n",
              "      <td>18</td>\n",
              "    </tr>\n",
              "    <tr>\n",
              "      <th>Центральный административный округ</th>\n",
              "      <td>364</td>\n",
              "      <td>50</td>\n",
              "      <td>87</td>\n",
              "      <td>464</td>\n",
              "      <td>428</td>\n",
              "      <td>113</td>\n",
              "      <td>670</td>\n",
              "      <td>66</td>\n",
              "    </tr>\n",
              "    <tr>\n",
              "      <th>Юго-Восточный административный округ</th>\n",
              "      <td>38</td>\n",
              "      <td>13</td>\n",
              "      <td>67</td>\n",
              "      <td>282</td>\n",
              "      <td>89</td>\n",
              "      <td>55</td>\n",
              "      <td>145</td>\n",
              "      <td>25</td>\n",
              "    </tr>\n",
              "    <tr>\n",
              "      <th>Юго-Западный административный округ</th>\n",
              "      <td>38</td>\n",
              "      <td>27</td>\n",
              "      <td>61</td>\n",
              "      <td>238</td>\n",
              "      <td>96</td>\n",
              "      <td>64</td>\n",
              "      <td>168</td>\n",
              "      <td>17</td>\n",
              "    </tr>\n",
              "    <tr>\n",
              "      <th>Южный административный округ</th>\n",
              "      <td>68</td>\n",
              "      <td>25</td>\n",
              "      <td>85</td>\n",
              "      <td>264</td>\n",
              "      <td>131</td>\n",
              "      <td>73</td>\n",
              "      <td>202</td>\n",
              "      <td>44</td>\n",
              "    </tr>\n",
              "  </tbody>\n",
              "</table>\n",
              "</div>\n",
              "      <button class=\"colab-df-convert\" onclick=\"convertToInteractive('df-7c8cef2e-b550-4f23-80a1-998a4c36e4a2')\"\n",
              "              title=\"Convert this dataframe to an interactive table.\"\n",
              "              style=\"display:none;\">\n",
              "        \n",
              "  <svg xmlns=\"http://www.w3.org/2000/svg\" height=\"24px\"viewBox=\"0 0 24 24\"\n",
              "       width=\"24px\">\n",
              "    <path d=\"M0 0h24v24H0V0z\" fill=\"none\"/>\n",
              "    <path d=\"M18.56 5.44l.94 2.06.94-2.06 2.06-.94-2.06-.94-.94-2.06-.94 2.06-2.06.94zm-11 1L8.5 8.5l.94-2.06 2.06-.94-2.06-.94L8.5 2.5l-.94 2.06-2.06.94zm10 10l.94 2.06.94-2.06 2.06-.94-2.06-.94-.94-2.06-.94 2.06-2.06.94z\"/><path d=\"M17.41 7.96l-1.37-1.37c-.4-.4-.92-.59-1.43-.59-.52 0-1.04.2-1.43.59L10.3 9.45l-7.72 7.72c-.78.78-.78 2.05 0 2.83L4 21.41c.39.39.9.59 1.41.59.51 0 1.02-.2 1.41-.59l7.78-7.78 2.81-2.81c.8-.78.8-2.07 0-2.86zM5.41 20L4 18.59l7.72-7.72 1.47 1.35L5.41 20z\"/>\n",
              "  </svg>\n",
              "      </button>\n",
              "      \n",
              "  <style>\n",
              "    .colab-df-container {\n",
              "      display:flex;\n",
              "      flex-wrap:wrap;\n",
              "      gap: 12px;\n",
              "    }\n",
              "\n",
              "    .colab-df-convert {\n",
              "      background-color: #E8F0FE;\n",
              "      border: none;\n",
              "      border-radius: 50%;\n",
              "      cursor: pointer;\n",
              "      display: none;\n",
              "      fill: #1967D2;\n",
              "      height: 32px;\n",
              "      padding: 0 0 0 0;\n",
              "      width: 32px;\n",
              "    }\n",
              "\n",
              "    .colab-df-convert:hover {\n",
              "      background-color: #E2EBFA;\n",
              "      box-shadow: 0px 1px 2px rgba(60, 64, 67, 0.3), 0px 1px 3px 1px rgba(60, 64, 67, 0.15);\n",
              "      fill: #174EA6;\n",
              "    }\n",
              "\n",
              "    [theme=dark] .colab-df-convert {\n",
              "      background-color: #3B4455;\n",
              "      fill: #D2E3FC;\n",
              "    }\n",
              "\n",
              "    [theme=dark] .colab-df-convert:hover {\n",
              "      background-color: #434B5C;\n",
              "      box-shadow: 0px 1px 3px 1px rgba(0, 0, 0, 0.15);\n",
              "      filter: drop-shadow(0px 1px 2px rgba(0, 0, 0, 0.3));\n",
              "      fill: #FFFFFF;\n",
              "    }\n",
              "  </style>\n",
              "\n",
              "      <script>\n",
              "        const buttonEl =\n",
              "          document.querySelector('#df-7c8cef2e-b550-4f23-80a1-998a4c36e4a2 button.colab-df-convert');\n",
              "        buttonEl.style.display =\n",
              "          google.colab.kernel.accessAllowed ? 'block' : 'none';\n",
              "\n",
              "        async function convertToInteractive(key) {\n",
              "          const element = document.querySelector('#df-7c8cef2e-b550-4f23-80a1-998a4c36e4a2');\n",
              "          const dataTable =\n",
              "            await google.colab.kernel.invokeFunction('convertToInteractive',\n",
              "                                                     [key], {});\n",
              "          if (!dataTable) return;\n",
              "\n",
              "          const docLinkHtml = 'Like what you see? Visit the ' +\n",
              "            '<a target=\"_blank\" href=https://colab.research.google.com/notebooks/data_table.ipynb>data table notebook</a>'\n",
              "            + ' to learn more about interactive tables.';\n",
              "          element.innerHTML = '';\n",
              "          dataTable['output_type'] = 'display_data';\n",
              "          await google.colab.output.renderOutput(dataTable, element);\n",
              "          const docLink = document.createElement('div');\n",
              "          docLink.innerHTML = docLinkHtml;\n",
              "          element.appendChild(docLink);\n",
              "        }\n",
              "      </script>\n",
              "    </div>\n",
              "  </div>\n",
              "  "
            ]
          },
          "metadata": {}
        },
        {
          "output_type": "display_data",
          "data": {
            "text/plain": [
              "<PIL.PngImagePlugin.PngImageFile image mode=RGBA size=1172x525 at 0x7F02D4003EB0>"
            ],
            "image/png": "[encoded data removed]"
          },
          "metadata": {}
        }
      ],
      "source": [
        "grp = data.pivot_table(index = 'district',values='name',columns = 'category', aggfunc='count')\n",
        "display(grp)\n",
        "fig = px.bar(grp, title = 'Заведения каждой категории по районам',labels={\"value\": \"Количество\",\"district\": \"Район\"},)\n",
        "Image.open(\"/content/newplot(4).png\").show();"
      ]
    },
    {
      "cell_type": "markdown",
      "metadata": {
        "id": "BC1N818Ffnbi"
      },
      "source": [
        "Самый популярный район - Центральный административный округ с более чем 2200 заведениями, наименее насыщенный - Северо-Западный (менее 500)."
      ]
    },
    {
      "cell_type": "markdown",
      "metadata": {
        "id": "YUjpCkY9fnbj"
      },
      "source": [
        "### Распределение средних рейтингов по категориям заведений"
      ]
    },
    {
      "cell_type": "code",
      "execution_count": 16,
      "metadata": {
        "colab": {
          "base_uri": "https://localhost:8080/",
          "height": 336
        },
        "id": "El6ADHUPfnbj",
        "outputId": "dd99381b-3c1d-42c0-8a3c-3256d7d29c3d"
      },
      "outputs": [
        {
          "output_type": "display_data",
          "data": {
            "text/plain": [
              "<Figure size 576x360 with 1 Axes>"
            ],
            "image/png": "[encoded data removed]"
          },
          "metadata": {
            "needs_background": "light"
          }
        }
      ],
      "source": [
        "x=data.pivot_table(index = 'category',values='rating', aggfunc='mean')\\\n",
        ".sort_values(by ='rating', ascending = True).plot(kind='barh',xlabel='Категория',ylabel='',legend=False,figsize=(8,5)\\\n",
        "                                                  ,title='Распределение средних рейтингов по категориям заведений')\n",
        "plt.xlim([4, 4.5]);"
      ]
    },
    {
      "cell_type": "markdown",
      "metadata": {
        "id": "UJs4Pwhjfnbl"
      },
      "source": [
        "Средний рейтинги всех категорий колеблются от 4.05 (быстрое питание) до 4.4 (бар, паб), то есть разница в средних рейтингах несущественна."
      ]
    },
    {
      "cell_type": "markdown",
      "metadata": {
        "id": "FfTB8Gpzfnbn"
      },
      "source": [
        "### Хороплет со средним рейтингом заведений каждого района"
      ]
    },
    {
      "cell_type": "code",
      "execution_count": 17,
      "metadata": {
        "colab": {
          "base_uri": "https://localhost:8080/",
          "height": 332
        },
        "id": "svmuFnp1fnbq",
        "outputId": "276102db-651a-4832-d316-4de380330a93"
      },
      "outputs": [
        {
          "output_type": "execute_result",
          "data": {
            "text/plain": [
              "                                  district    rating\n",
              "5       Центральный административный округ  4.377520\n",
              "2          Северный административный округ  4.239778\n",
              "4   Северо-Западный административный округ  4.208802\n",
              "8             Южный административный округ  4.184417\n",
              "1          Западный административный округ  4.181551\n",
              "0         Восточный административный округ  4.174185\n",
              "7      Юго-Западный административный округ  4.172920\n",
              "3  Северо-Восточный административный округ  4.148260\n",
              "6     Юго-Восточный административный округ  4.101120"
            ],
            "text/html": [
              "\n",
              "  <div id=\"df-bab5a6b2-c65b-45bd-86e6-7b197f6620c0\">\n",
              "    <div class=\"colab-df-container\">\n",
              "      <div>\n",
              "<style scoped>\n",
              "    .dataframe tbody tr th:only-of-type {\n",
              "        vertical-align: middle;\n",
              "    }\n",
              "\n",
              "    .dataframe tbody tr th {\n",
              "        vertical-align: top;\n",
              "    }\n",
              "\n",
              "    .dataframe thead th {\n",
              "        text-align: right;\n",
              "    }\n",
              "</style>\n",
              "<table border=\"1\" class=\"dataframe\">\n",
              "  <thead>\n",
              "    <tr style=\"text-align: right;\">\n",
              "      <th></th>\n",
              "      <th>district</th>\n",
              "      <th>rating</th>\n",
              "    </tr>\n",
              "  </thead>\n",
              "  <tbody>\n",
              "    <tr>\n",
              "      <th>5</th>\n",
              "      <td>Центральный административный округ</td>\n",
              "      <td>4.377520</td>\n",
              "    </tr>\n",
              "    <tr>\n",
              "      <th>2</th>\n",
              "      <td>Северный административный округ</td>\n",
              "      <td>4.239778</td>\n",
              "    </tr>\n",
              "    <tr>\n",
              "      <th>4</th>\n",
              "      <td>Северо-Западный административный округ</td>\n",
              "      <td>4.208802</td>\n",
              "    </tr>\n",
              "    <tr>\n",
              "      <th>8</th>\n",
              "      <td>Южный административный округ</td>\n",
              "      <td>4.184417</td>\n",
              "    </tr>\n",
              "    <tr>\n",
              "      <th>1</th>\n",
              "      <td>Западный административный округ</td>\n",
              "      <td>4.181551</td>\n",
              "    </tr>\n",
              "    <tr>\n",
              "      <th>0</th>\n",
              "      <td>Восточный административный округ</td>\n",
              "      <td>4.174185</td>\n",
              "    </tr>\n",
              "    <tr>\n",
              "      <th>7</th>\n",
              "      <td>Юго-Западный административный округ</td>\n",
              "      <td>4.172920</td>\n",
              "    </tr>\n",
              "    <tr>\n",
              "      <th>3</th>\n",
              "      <td>Северо-Восточный административный округ</td>\n",
              "      <td>4.148260</td>\n",
              "    </tr>\n",
              "    <tr>\n",
              "      <th>6</th>\n",
              "      <td>Юго-Восточный административный округ</td>\n",
              "      <td>4.101120</td>\n",
              "    </tr>\n",
              "  </tbody>\n",
              "</table>\n",
              "</div>\n",
              "      <button class=\"colab-df-convert\" onclick=\"convertToInteractive('df-bab5a6b2-c65b-45bd-86e6-7b197f6620c0')\"\n",
              "              title=\"Convert this dataframe to an interactive table.\"\n",
              "              style=\"display:none;\">\n",
              "        \n",
              "  <svg xmlns=\"http://www.w3.org/2000/svg\" height=\"24px\"viewBox=\"0 0 24 24\"\n",
              "       width=\"24px\">\n",
              "    <path d=\"M0 0h24v24H0V0z\" fill=\"none\"/>\n",
              "    <path d=\"M18.56 5.44l.94 2.06.94-2.06 2.06-.94-2.06-.94-.94-2.06-.94 2.06-2.06.94zm-11 1L8.5 8.5l.94-2.06 2.06-.94-2.06-.94L8.5 2.5l-.94 2.06-2.06.94zm10 10l.94 2.06.94-2.06 2.06-.94-2.06-.94-.94-2.06-.94 2.06-2.06.94z\"/><path d=\"M17.41 7.96l-1.37-1.37c-.4-.4-.92-.59-1.43-.59-.52 0-1.04.2-1.43.59L10.3 9.45l-7.72 7.72c-.78.78-.78 2.05 0 2.83L4 21.41c.39.39.9.59 1.41.59.51 0 1.02-.2 1.41-.59l7.78-7.78 2.81-2.81c.8-.78.8-2.07 0-2.86zM5.41 20L4 18.59l7.72-7.72 1.47 1.35L5.41 20z\"/>\n",
              "  </svg>\n",
              "      </button>\n",
              "      \n",
              "  <style>\n",
              "    .colab-df-container {\n",
              "      display:flex;\n",
              "      flex-wrap:wrap;\n",
              "      gap: 12px;\n",
              "    }\n",
              "\n",
              "    .colab-df-convert {\n",
              "      background-color: #E8F0FE;\n",
              "      border: none;\n",
              "      border-radius: 50%;\n",
              "      cursor: pointer;\n",
              "      display: none;\n",
              "      fill: #1967D2;\n",
              "      height: 32px;\n",
              "      padding: 0 0 0 0;\n",
              "      width: 32px;\n",
              "    }\n",
              "\n",
              "    .colab-df-convert:hover {\n",
              "      background-color: #E2EBFA;\n",
              "      box-shadow: 0px 1px 2px rgba(60, 64, 67, 0.3), 0px 1px 3px 1px rgba(60, 64, 67, 0.15);\n",
              "      fill: #174EA6;\n",
              "    }\n",
              "\n",
              "    [theme=dark] .colab-df-convert {\n",
              "      background-color: #3B4455;\n",
              "      fill: #D2E3FC;\n",
              "    }\n",
              "\n",
              "    [theme=dark] .colab-df-convert:hover {\n",
              "      background-color: #434B5C;\n",
              "      box-shadow: 0px 1px 3px 1px rgba(0, 0, 0, 0.15);\n",
              "      filter: drop-shadow(0px 1px 2px rgba(0, 0, 0, 0.3));\n",
              "      fill: #FFFFFF;\n",
              "    }\n",
              "  </style>\n",
              "\n",
              "      <script>\n",
              "        const buttonEl =\n",
              "          document.querySelector('#df-bab5a6b2-c65b-45bd-86e6-7b197f6620c0 button.colab-df-convert');\n",
              "        buttonEl.style.display =\n",
              "          google.colab.kernel.accessAllowed ? 'block' : 'none';\n",
              "\n",
              "        async function convertToInteractive(key) {\n",
              "          const element = document.querySelector('#df-bab5a6b2-c65b-45bd-86e6-7b197f6620c0');\n",
              "          const dataTable =\n",
              "            await google.colab.kernel.invokeFunction('convertToInteractive',\n",
              "                                                     [key], {});\n",
              "          if (!dataTable) return;\n",
              "\n",
              "          const docLinkHtml = 'Like what you see? Visit the ' +\n",
              "            '<a target=\"_blank\" href=https://colab.research.google.com/notebooks/data_table.ipynb>data table notebook</a>'\n",
              "            + ' to learn more about interactive tables.';\n",
              "          element.innerHTML = '';\n",
              "          dataTable['output_type'] = 'display_data';\n",
              "          await google.colab.output.renderOutput(dataTable, element);\n",
              "          const docLink = document.createElement('div');\n",
              "          docLink.innerHTML = docLinkHtml;\n",
              "          element.appendChild(docLink);\n",
              "        }\n",
              "      </script>\n",
              "    </div>\n",
              "  </div>\n",
              "  "
            ]
          },
          "metadata": {},
          "execution_count": 17
        }
      ],
      "source": [
        "hor = data.groupby('district', as_index=False)['rating'].agg('mean').sort_values(by='rating', ascending = False)\n",
        "hor"
      ]
    },
    {
      "cell_type": "code",
      "execution_count": 18,
      "metadata": {
        "scrolled": false,
        "colab": {
          "base_uri": "https://localhost:8080/",
          "height": 241
        },
        "id": "UBP3e1Gpfnbq",
        "outputId": "d62eaeca-e19c-45d0-a133-98477baa3bae"
      },
      "outputs": [
        {
          "output_type": "error",
          "ename": "FileNotFoundError",
          "evalue": "ignored",
          "traceback": [
            "\u001b[0;31m---------------------------------------------------------------------------\u001b[0m",
            "\u001b[0;31mFileNotFoundError\u001b[0m                         Traceback (most recent call last)",
            "\u001b[0;32m<ipython-input-18-bfe4bee25ee2>\u001b[0m in \u001b[0;36m<module>\u001b[0;34m\u001b[0m\n\u001b[0;32m----> 1\u001b[0;31m \u001b[0;32mwith\u001b[0m \u001b[0mopen\u001b[0m\u001b[0;34m(\u001b[0m\u001b[0;34m'/content/admin_level_geomap.geojson'\u001b[0m\u001b[0;34m,\u001b[0m \u001b[0;34m'r'\u001b[0m\u001b[0;34m)\u001b[0m \u001b[0;32mas\u001b[0m \u001b[0mf\u001b[0m\u001b[0;34m:\u001b[0m\u001b[0;34m\u001b[0m\u001b[0;34m\u001b[0m\u001b[0m\n\u001b[0m\u001b[1;32m      2\u001b[0m     \u001b[0mgeo_json\u001b[0m \u001b[0;34m=\u001b[0m \u001b[0mjson\u001b[0m\u001b[0;34m.\u001b[0m\u001b[0mload\u001b[0m\u001b[0;34m(\u001b[0m\u001b[0mf\u001b[0m\u001b[0;34m)\u001b[0m\u001b[0;34m\u001b[0m\u001b[0;34m\u001b[0m\u001b[0m\n\u001b[1;32m      3\u001b[0m \u001b[0;34m\u001b[0m\u001b[0m\n\u001b[1;32m      4\u001b[0m \u001b[0mstate_geo\u001b[0m \u001b[0;34m=\u001b[0m \u001b[0;34m'/content/admin_level_geomap.geojson'\u001b[0m\u001b[0;34m\u001b[0m\u001b[0;34m\u001b[0m\u001b[0m\n\u001b[1;32m      5\u001b[0m \u001b[0;34m\u001b[0m\u001b[0m\n",
            "\u001b[0;31mFileNotFoundError\u001b[0m: [Errno 2] No such file or directory: '/content/admin_level_geomap.geojson'"
          ]
        }
      ],
      "source": [
        "with open('/content/admin_level_geomap.geojson', 'r') as f:\n",
        "    geo_json = json.load(f)\n",
        "    \n",
        "state_geo = '/content/admin_level_geomap.geojson'\n",
        "\n",
        "moscow_lat, moscow_lng = 55.751244, 37.618423\n",
        "\n",
        "m = Map(location=[moscow_lat, moscow_lng], zoom_start=10)\n",
        "\n",
        "Choropleth(\n",
        "    geo_data=state_geo,\n",
        "    data=hor,\n",
        "    columns=['district','rating'],\n",
        "    key_on='feature.name',\n",
        "    fill_color='YlGn',\n",
        "    fill_opacity=0.8,\n",
        "    legend_name='Средний рейтинг заведений по районам',\n",
        ").add_to(m)\n",
        "\n",
        "m"
      ]
    },
    {
      "cell_type": "markdown",
      "metadata": {
        "id": "IGsegO02fnbr"
      },
      "source": [
        "Самый высокий рейтинг в Центральном административном округе - 4.38, все остальные районы имеют рейтинг от 4.1 до 4.24."
      ]
    },
    {
      "cell_type": "markdown",
      "metadata": {
        "id": "Dvn4w9FRfnbs"
      },
      "source": [
        "### Все заведения датасета на карте с помощью кластеров."
      ]
    },
    {
      "cell_type": "code",
      "execution_count": null,
      "metadata": {
        "id": "P0dOx7fyfnbs"
      },
      "outputs": [],
      "source": [
        "m1 = Map(location=[moscow_lat, moscow_lng], zoom_start=10)\n",
        "marker_cluster = MarkerCluster().add_to(m1)\n",
        "def create_marker(row):\n",
        "    Marker([row['lat'], row['lng']],\n",
        "        popup=f\"{row['name']}\"\n",
        "    ).add_to(marker_cluster)\n",
        "\n",
        "# применяем функцию для создания маркера ко всем строкам датафрейма\n",
        "data.apply(create_marker, axis=1)\n",
        "\n",
        "m1"
      ]
    },
    {
      "cell_type": "markdown",
      "metadata": {
        "id": "ApGCPBCXfnbs"
      },
      "source": [
        "Огромное количество заведений (>3000) находится в центре, южные же районы имеют гораздо меньшее количество заведений."
      ]
    },
    {
      "cell_type": "markdown",
      "metadata": {
        "id": "cmkN1Errfnbt"
      },
      "source": [
        "### График распределения количества заведений и их категорий по топ-15 улицам."
      ]
    },
    {
      "cell_type": "code",
      "execution_count": 24,
      "metadata": {
        "colab": {
          "base_uri": "https://localhost:8080/",
          "height": 1000
        },
        "id": "ZTlGv3kcfnbu",
        "outputId": "e15177b5-d8b0-4049-e1ca-66b5a68b3e38"
      },
      "outputs": [
        {
          "output_type": "display_data",
          "data": {
            "text/plain": [
              "category                 бар,паб  булочная  быстрое питание  кафе  кофейня  \\\n",
              "street                                                                       \n",
              " проспект Мира                12         4               21    53       36   \n",
              " Профсоюзная улица             6         4               15    35       18   \n",
              " проспект Вернадского          7         1               12    25       16   \n",
              " Ленинский проспект           10         3                2    26       23   \n",
              " Ленинградский проспект       15         4                2    12       25   \n",
              " Дмитровское шоссе             6         2               10    23       11   \n",
              " Каширское шоссе               2         0               10    20       16   \n",
              " Варшавское шоссе              6         0                7    18       14   \n",
              " Ленинградское шоссе           5         2                5    13       13   \n",
              " МКАД                          1         0                9    45        4   \n",
              " Люблинская улица              5         0                5    26       11   \n",
              " улица Вавилова                2         2               11    15       10   \n",
              " Кутузовский проспект          2         1                2    14       13   \n",
              " улица Миклухо-Маклая          3         0                4    21        4   \n",
              " Пятницкая улица               9         3                2     7        6   \n",
              "\n",
              "category                 пиццерия  ресторан  столовая  total  \n",
              "street                                                        \n",
              " проспект Мира                 11        45         2    184  \n",
              " Профсоюзная улица             15        26         3    122  \n",
              " проспект Вернадского          12        33         2    108  \n",
              " Ленинский проспект             5        33         5    107  \n",
              " Ленинградский проспект         9        25         3     95  \n",
              " Дмитровское шоссе              8        24         4     88  \n",
              " Каширское шоссе                5        19         5     77  \n",
              " Варшавское шоссе               4        20         7     76  \n",
              " Ленинградское шоссе            3        26         3     70  \n",
              " МКАД                           0         5         1     65  \n",
              " Люблинская улица               1        10         2     60  \n",
              " улица Вавилова                 3        12         0     55  \n",
              " Кутузовский проспект           3        16         3     54  \n",
              " улица Миклухо-Маклая           2        15         0     49  \n",
              " Пятницкая улица                3        18         0     48  "
            ],
            "text/html": [
              "\n",
              "  <div id=\"df-521ee7ec-6e80-4f44-b796-0f6497b68ed7\">\n",
              "    <div class=\"colab-df-container\">\n",
              "      <div>\n",
              "<style scoped>\n",
              "    .dataframe tbody tr th:only-of-type {\n",
              "        vertical-align: middle;\n",
              "    }\n",
              "\n",
              "    .dataframe tbody tr th {\n",
              "        vertical-align: top;\n",
              "    }\n",
              "\n",
              "    .dataframe thead th {\n",
              "        text-align: right;\n",
              "    }\n",
              "</style>\n",
              "<table border=\"1\" class=\"dataframe\">\n",
              "  <thead>\n",
              "    <tr style=\"text-align: right;\">\n",
              "      <th>category</th>\n",
              "      <th>бар,паб</th>\n",
              "      <th>булочная</th>\n",
              "      <th>быстрое питание</th>\n",
              "      <th>кафе</th>\n",
              "      <th>кофейня</th>\n",
              "      <th>пиццерия</th>\n",
              "      <th>ресторан</th>\n",
              "      <th>столовая</th>\n",
              "      <th>total</th>\n",
              "    </tr>\n",
              "    <tr>\n",
              "      <th>street</th>\n",
              "      <th></th>\n",
              "      <th></th>\n",
              "      <th></th>\n",
              "      <th></th>\n",
              "      <th></th>\n",
              "      <th></th>\n",
              "      <th></th>\n",
              "      <th></th>\n",
              "      <th></th>\n",
              "    </tr>\n",
              "  </thead>\n",
              "  <tbody>\n",
              "    <tr>\n",
              "      <th>проспект Мира</th>\n",
              "      <td>12</td>\n",
              "      <td>4</td>\n",
              "      <td>21</td>\n",
              "      <td>53</td>\n",
              "      <td>36</td>\n",
              "      <td>11</td>\n",
              "      <td>45</td>\n",
              "      <td>2</td>\n",
              "      <td>184</td>\n",
              "    </tr>\n",
              "    <tr>\n",
              "      <th>Профсоюзная улица</th>\n",
              "      <td>6</td>\n",
              "      <td>4</td>\n",
              "      <td>15</td>\n",
              "      <td>35</td>\n",
              "      <td>18</td>\n",
              "      <td>15</td>\n",
              "      <td>26</td>\n",
              "      <td>3</td>\n",
              "      <td>122</td>\n",
              "    </tr>\n",
              "    <tr>\n",
              "      <th>проспект Вернадского</th>\n",
              "      <td>7</td>\n",
              "      <td>1</td>\n",
              "      <td>12</td>\n",
              "      <td>25</td>\n",
              "      <td>16</td>\n",
              "      <td>12</td>\n",
              "      <td>33</td>\n",
              "      <td>2</td>\n",
              "      <td>108</td>\n",
              "    </tr>\n",
              "    <tr>\n",
              "      <th>Ленинский проспект</th>\n",
              "      <td>10</td>\n",
              "      <td>3</td>\n",
              "      <td>2</td>\n",
              "      <td>26</td>\n",
              "      <td>23</td>\n",
              "      <td>5</td>\n",
              "      <td>33</td>\n",
              "      <td>5</td>\n",
              "      <td>107</td>\n",
              "    </tr>\n",
              "    <tr>\n",
              "      <th>Ленинградский проспект</th>\n",
              "      <td>15</td>\n",
              "      <td>4</td>\n",
              "      <td>2</td>\n",
              "      <td>12</td>\n",
              "      <td>25</td>\n",
              "      <td>9</td>\n",
              "      <td>25</td>\n",
              "      <td>3</td>\n",
              "      <td>95</td>\n",
              "    </tr>\n",
              "    <tr>\n",
              "      <th>Дмитровское шоссе</th>\n",
              "      <td>6</td>\n",
              "      <td>2</td>\n",
              "      <td>10</td>\n",
              "      <td>23</td>\n",
              "      <td>11</td>\n",
              "      <td>8</td>\n",
              "      <td>24</td>\n",
              "      <td>4</td>\n",
              "      <td>88</td>\n",
              "    </tr>\n",
              "    <tr>\n",
              "      <th>Каширское шоссе</th>\n",
              "      <td>2</td>\n",
              "      <td>0</td>\n",
              "      <td>10</td>\n",
              "      <td>20</td>\n",
              "      <td>16</td>\n",
              "      <td>5</td>\n",
              "      <td>19</td>\n",
              "      <td>5</td>\n",
              "      <td>77</td>\n",
              "    </tr>\n",
              "    <tr>\n",
              "      <th>Варшавское шоссе</th>\n",
              "      <td>6</td>\n",
              "      <td>0</td>\n",
              "      <td>7</td>\n",
              "      <td>18</td>\n",
              "      <td>14</td>\n",
              "      <td>4</td>\n",
              "      <td>20</td>\n",
              "      <td>7</td>\n",
              "      <td>76</td>\n",
              "    </tr>\n",
              "    <tr>\n",
              "      <th>Ленинградское шоссе</th>\n",
              "      <td>5</td>\n",
              "      <td>2</td>\n",
              "      <td>5</td>\n",
              "      <td>13</td>\n",
              "      <td>13</td>\n",
              "      <td>3</td>\n",
              "      <td>26</td>\n",
              "      <td>3</td>\n",
              "      <td>70</td>\n",
              "    </tr>\n",
              "    <tr>\n",
              "      <th>МКАД</th>\n",
              "      <td>1</td>\n",
              "      <td>0</td>\n",
              "      <td>9</td>\n",
              "      <td>45</td>\n",
              "      <td>4</td>\n",
              "      <td>0</td>\n",
              "      <td>5</td>\n",
              "      <td>1</td>\n",
              "      <td>65</td>\n",
              "    </tr>\n",
              "    <tr>\n",
              "      <th>Люблинская улица</th>\n",
              "      <td>5</td>\n",
              "      <td>0</td>\n",
              "      <td>5</td>\n",
              "      <td>26</td>\n",
              "      <td>11</td>\n",
              "      <td>1</td>\n",
              "      <td>10</td>\n",
              "      <td>2</td>\n",
              "      <td>60</td>\n",
              "    </tr>\n",
              "    <tr>\n",
              "      <th>улица Вавилова</th>\n",
              "      <td>2</td>\n",
              "      <td>2</td>\n",
              "      <td>11</td>\n",
              "      <td>15</td>\n",
              "      <td>10</td>\n",
              "      <td>3</td>\n",
              "      <td>12</td>\n",
              "      <td>0</td>\n",
              "      <td>55</td>\n",
              "    </tr>\n",
              "    <tr>\n",
              "      <th>Кутузовский проспект</th>\n",
              "      <td>2</td>\n",
              "      <td>1</td>\n",
              "      <td>2</td>\n",
              "      <td>14</td>\n",
              "      <td>13</td>\n",
              "      <td>3</td>\n",
              "      <td>16</td>\n",
              "      <td>3</td>\n",
              "      <td>54</td>\n",
              "    </tr>\n",
              "    <tr>\n",
              "      <th>улица Миклухо-Маклая</th>\n",
              "      <td>3</td>\n",
              "      <td>0</td>\n",
              "      <td>4</td>\n",
              "      <td>21</td>\n",
              "      <td>4</td>\n",
              "      <td>2</td>\n",
              "      <td>15</td>\n",
              "      <td>0</td>\n",
              "      <td>49</td>\n",
              "    </tr>\n",
              "    <tr>\n",
              "      <th>Пятницкая улица</th>\n",
              "      <td>9</td>\n",
              "      <td>3</td>\n",
              "      <td>2</td>\n",
              "      <td>7</td>\n",
              "      <td>6</td>\n",
              "      <td>3</td>\n",
              "      <td>18</td>\n",
              "      <td>0</td>\n",
              "      <td>48</td>\n",
              "    </tr>\n",
              "  </tbody>\n",
              "</table>\n",
              "</div>\n",
              "      <button class=\"colab-df-convert\" onclick=\"convertToInteractive('df-521ee7ec-6e80-4f44-b796-0f6497b68ed7')\"\n",
              "              title=\"Convert this dataframe to an interactive table.\"\n",
              "              style=\"display:none;\">\n",
              "        \n",
              "  <svg xmlns=\"http://www.w3.org/2000/svg\" height=\"24px\"viewBox=\"0 0 24 24\"\n",
              "       width=\"24px\">\n",
              "    <path d=\"M0 0h24v24H0V0z\" fill=\"none\"/>\n",
              "    <path d=\"M18.56 5.44l.94 2.06.94-2.06 2.06-.94-2.06-.94-.94-2.06-.94 2.06-2.06.94zm-11 1L8.5 8.5l.94-2.06 2.06-.94-2.06-.94L8.5 2.5l-.94 2.06-2.06.94zm10 10l.94 2.06.94-2.06 2.06-.94-2.06-.94-.94-2.06-.94 2.06-2.06.94z\"/><path d=\"M17.41 7.96l-1.37-1.37c-.4-.4-.92-.59-1.43-.59-.52 0-1.04.2-1.43.59L10.3 9.45l-7.72 7.72c-.78.78-.78 2.05 0 2.83L4 21.41c.39.39.9.59 1.41.59.51 0 1.02-.2 1.41-.59l7.78-7.78 2.81-2.81c.8-.78.8-2.07 0-2.86zM5.41 20L4 18.59l7.72-7.72 1.47 1.35L5.41 20z\"/>\n",
              "  </svg>\n",
              "      </button>\n",
              "      \n",
              "  <style>\n",
              "    .colab-df-container {\n",
              "      display:flex;\n",
              "      flex-wrap:wrap;\n",
              "      gap: 12px;\n",
              "    }\n",
              "\n",
              "    .colab-df-convert {\n",
              "      background-color: #E8F0FE;\n",
              "      border: none;\n",
              "      border-radius: 50%;\n",
              "      cursor: pointer;\n",
              "      display: none;\n",
              "      fill: #1967D2;\n",
              "      height: 32px;\n",
              "      padding: 0 0 0 0;\n",
              "      width: 32px;\n",
              "    }\n",
              "\n",
              "    .colab-df-convert:hover {\n",
              "      background-color: #E2EBFA;\n",
              "      box-shadow: 0px 1px 2px rgba(60, 64, 67, 0.3), 0px 1px 3px 1px rgba(60, 64, 67, 0.15);\n",
              "      fill: #174EA6;\n",
              "    }\n",
              "\n",
              "    [theme=dark] .colab-df-convert {\n",
              "      background-color: #3B4455;\n",
              "      fill: #D2E3FC;\n",
              "    }\n",
              "\n",
              "    [theme=dark] .colab-df-convert:hover {\n",
              "      background-color: #434B5C;\n",
              "      box-shadow: 0px 1px 3px 1px rgba(0, 0, 0, 0.15);\n",
              "      filter: drop-shadow(0px 1px 2px rgba(0, 0, 0, 0.3));\n",
              "      fill: #FFFFFF;\n",
              "    }\n",
              "  </style>\n",
              "\n",
              "      <script>\n",
              "        const buttonEl =\n",
              "          document.querySelector('#df-521ee7ec-6e80-4f44-b796-0f6497b68ed7 button.colab-df-convert');\n",
              "        buttonEl.style.display =\n",
              "          google.colab.kernel.accessAllowed ? 'block' : 'none';\n",
              "\n",
              "        async function convertToInteractive(key) {\n",
              "          const element = document.querySelector('#df-521ee7ec-6e80-4f44-b796-0f6497b68ed7');\n",
              "          const dataTable =\n",
              "            await google.colab.kernel.invokeFunction('convertToInteractive',\n",
              "                                                     [key], {});\n",
              "          if (!dataTable) return;\n",
              "\n",
              "          const docLinkHtml = 'Like what you see? Visit the ' +\n",
              "            '<a target=\"_blank\" href=https://colab.research.google.com/notebooks/data_table.ipynb>data table notebook</a>'\n",
              "            + ' to learn more about interactive tables.';\n",
              "          element.innerHTML = '';\n",
              "          dataTable['output_type'] = 'display_data';\n",
              "          await google.colab.output.renderOutput(dataTable, element);\n",
              "          const docLink = document.createElement('div');\n",
              "          docLink.innerHTML = docLinkHtml;\n",
              "          element.appendChild(docLink);\n",
              "        }\n",
              "      </script>\n",
              "    </div>\n",
              "  </div>\n",
              "  "
            ]
          },
          "metadata": {}
        },
        {
          "output_type": "display_data",
          "data": {
            "text/plain": [
              "<PIL.PngImagePlugin.PngImageFile image mode=RGBA size=1155x525 at 0x7F02D2B76FA0>"
            ],
            "image/png": "[encoded data removed]"
          },
          "metadata": {}
        }
      ],
      "source": [
        "oh = data.pivot_table(index = 'street',values='name',columns = 'category', aggfunc='count')\n",
        "oh[np.isnan(oh)] = 0\n",
        "oh=oh.astype(int)\n",
        "oh['total']=oh.sum(axis=1)\n",
        "oh=oh.sort_values(by='total', ascending = False).head(15)\n",
        "display(oh)\n",
        "del oh['total']\n",
        "fig = px.bar(oh, title= 'Заведения по категориям на самых наполненных улицах', labels={\"value\": \"Количество заведений\",\"street\": \"Улица\"})\n",
        "Image.open(\"/content/newplot(6).png\").show();"
      ]
    },
    {
      "cell_type": "markdown",
      "metadata": {
        "id": "ujZNW1btfnbu"
      },
      "source": [
        "Самое большое количество заведений находится на проспекте Мира (более 160) и Профсоюзной улице (120). Самые популярные категории: кафе и ресторан."
      ]
    },
    {
      "cell_type": "markdown",
      "metadata": {
        "id": "5-Bo8g53fnbv"
      },
      "source": [
        "### Улицы, на которых находится только один объект общепита"
      ]
    },
    {
      "cell_type": "code",
      "execution_count": 26,
      "metadata": {
        "colab": {
          "base_uri": "https://localhost:8080/"
        },
        "id": "ZdIubmvkfnbv",
        "outputId": "bb23e806-de31-4113-9183-04cb4c7c2518"
      },
      "outputs": [
        {
          "output_type": "stream",
          "name": "stdout",
          "text": [
            "                           name\n",
            "street                         \n",
            " 1-й Автозаводский проезд     1\n",
            " Одинцовская улица            1\n",
            " Октябрьский переулок         1\n",
            " Ордынский тупик              1\n",
            " Оренбургская улица           1\n",
            " Орловский переулок           1\n",
            " Оршанская улица              1\n",
            " Островная улица              1\n",
            " Новоясеневский тупик         1\n",
            " Отрадный проезд              1\n",
            "\n",
            "Количество улиц с 1 объектом - 458\n",
            "Количество уникальных улиц - 1448\n"
          ]
        }
      ],
      "source": [
        "z=data.pivot_table(index = 'street',values='name', aggfunc='count')\\\n",
        ".sort_values(by='name',ascending = True).query('name==1')\n",
        "print(z.head(10))\n",
        "print()\n",
        "print('Количество улиц с 1 объектом -',z['name'].count())\n",
        "print('Количество уникальных улиц -',len(data['street'].unique()))"
      ]
    },
    {
      "cell_type": "markdown",
      "metadata": {
        "id": "eHdOfNKLfnbv"
      },
      "source": [
        "Это небольшие непопулярные улицы, из количество составляет примерно 1/3 от общего количества улиц (458 из 1448)"
      ]
    },
    {
      "cell_type": "code",
      "source": [
        "dataz=data.query(\"street in @z.index\")\n",
        "dataz.pivot_table(index='category',values='name',aggfunc='count')\\\n",
        ".plot(kind='bar',figsize=(10,6),legend=False,title='Категории одиноких заведений',xlabel='Категория')\n",
        "plt.xticks(rotation=0);"
      ],
      "metadata": {
        "colab": {
          "base_uri": "https://localhost:8080/",
          "height": 404
        },
        "id": "v1N427KDmD0V",
        "outputId": "663b4d94-b03d-4f9f-c0d7-f6025d4cc1b4"
      },
      "execution_count": 27,
      "outputs": [
        {
          "output_type": "display_data",
          "data": {
            "text/plain": [
              "<Figure size 720x432 with 1 Axes>"
            ],
            "image/png": "[encoded data removed]"
          },
          "metadata": {
            "needs_background": "light"
          }
        }
      ]
    },
    {
      "cell_type": "markdown",
      "metadata": {
        "id": "BgtCndJtfnbx"
      },
      "source": [
        "### Хороплет с медианной стоимостью заказов по районам"
      ]
    },
    {
      "cell_type": "code",
      "execution_count": 28,
      "metadata": {
        "colab": {
          "base_uri": "https://localhost:8080/",
          "height": 332
        },
        "id": "HceIysSSfnb0",
        "outputId": "aea9ef06-4c96-4b46-ed66-390da31b67ed"
      },
      "outputs": [
        {
          "output_type": "execute_result",
          "data": {
            "text/plain": [
              "                                  district  middle_avg_bill\n",
              "1          Западный административный округ           1000.0\n",
              "5       Центральный административный округ           1000.0\n",
              "4   Северо-Западный административный округ            700.0\n",
              "2          Северный административный округ            650.0\n",
              "7      Юго-Западный административный округ            600.0\n",
              "0         Восточный административный округ            575.0\n",
              "3  Северо-Восточный административный округ            500.0\n",
              "8             Южный административный округ            500.0\n",
              "6     Юго-Восточный административный округ            450.0"
            ],
            "text/html": [
              "\n",
              "  <div id=\"df-819b0595-7b07-470f-8144-d66a596c959e\">\n",
              "    <div class=\"colab-df-container\">\n",
              "      <div>\n",
              "<style scoped>\n",
              "    .dataframe tbody tr th:only-of-type {\n",
              "        vertical-align: middle;\n",
              "    }\n",
              "\n",
              "    .dataframe tbody tr th {\n",
              "        vertical-align: top;\n",
              "    }\n",
              "\n",
              "    .dataframe thead th {\n",
              "        text-align: right;\n",
              "    }\n",
              "</style>\n",
              "<table border=\"1\" class=\"dataframe\">\n",
              "  <thead>\n",
              "    <tr style=\"text-align: right;\">\n",
              "      <th></th>\n",
              "      <th>district</th>\n",
              "      <th>middle_avg_bill</th>\n",
              "    </tr>\n",
              "  </thead>\n",
              "  <tbody>\n",
              "    <tr>\n",
              "      <th>1</th>\n",
              "      <td>Западный административный округ</td>\n",
              "      <td>1000.0</td>\n",
              "    </tr>\n",
              "    <tr>\n",
              "      <th>5</th>\n",
              "      <td>Центральный административный округ</td>\n",
              "      <td>1000.0</td>\n",
              "    </tr>\n",
              "    <tr>\n",
              "      <th>4</th>\n",
              "      <td>Северо-Западный административный округ</td>\n",
              "      <td>700.0</td>\n",
              "    </tr>\n",
              "    <tr>\n",
              "      <th>2</th>\n",
              "      <td>Северный административный округ</td>\n",
              "      <td>650.0</td>\n",
              "    </tr>\n",
              "    <tr>\n",
              "      <th>7</th>\n",
              "      <td>Юго-Западный административный округ</td>\n",
              "      <td>600.0</td>\n",
              "    </tr>\n",
              "    <tr>\n",
              "      <th>0</th>\n",
              "      <td>Восточный административный округ</td>\n",
              "      <td>575.0</td>\n",
              "    </tr>\n",
              "    <tr>\n",
              "      <th>3</th>\n",
              "      <td>Северо-Восточный административный округ</td>\n",
              "      <td>500.0</td>\n",
              "    </tr>\n",
              "    <tr>\n",
              "      <th>8</th>\n",
              "      <td>Южный административный округ</td>\n",
              "      <td>500.0</td>\n",
              "    </tr>\n",
              "    <tr>\n",
              "      <th>6</th>\n",
              "      <td>Юго-Восточный административный округ</td>\n",
              "      <td>450.0</td>\n",
              "    </tr>\n",
              "  </tbody>\n",
              "</table>\n",
              "</div>\n",
              "      <button class=\"colab-df-convert\" onclick=\"convertToInteractive('df-819b0595-7b07-470f-8144-d66a596c959e')\"\n",
              "              title=\"Convert this dataframe to an interactive table.\"\n",
              "              style=\"display:none;\">\n",
              "        \n",
              "  <svg xmlns=\"http://www.w3.org/2000/svg\" height=\"24px\"viewBox=\"0 0 24 24\"\n",
              "       width=\"24px\">\n",
              "    <path d=\"M0 0h24v24H0V0z\" fill=\"none\"/>\n",
              "    <path d=\"M18.56 5.44l.94 2.06.94-2.06 2.06-.94-2.06-.94-.94-2.06-.94 2.06-2.06.94zm-11 1L8.5 8.5l.94-2.06 2.06-.94-2.06-.94L8.5 2.5l-.94 2.06-2.06.94zm10 10l.94 2.06.94-2.06 2.06-.94-2.06-.94-.94-2.06-.94 2.06-2.06.94z\"/><path d=\"M17.41 7.96l-1.37-1.37c-.4-.4-.92-.59-1.43-.59-.52 0-1.04.2-1.43.59L10.3 9.45l-7.72 7.72c-.78.78-.78 2.05 0 2.83L4 21.41c.39.39.9.59 1.41.59.51 0 1.02-.2 1.41-.59l7.78-7.78 2.81-2.81c.8-.78.8-2.07 0-2.86zM5.41 20L4 18.59l7.72-7.72 1.47 1.35L5.41 20z\"/>\n",
              "  </svg>\n",
              "      </button>\n",
              "      \n",
              "  <style>\n",
              "    .colab-df-container {\n",
              "      display:flex;\n",
              "      flex-wrap:wrap;\n",
              "      gap: 12px;\n",
              "    }\n",
              "\n",
              "    .colab-df-convert {\n",
              "      background-color: #E8F0FE;\n",
              "      border: none;\n",
              "      border-radius: 50%;\n",
              "      cursor: pointer;\n",
              "      display: none;\n",
              "      fill: #1967D2;\n",
              "      height: 32px;\n",
              "      padding: 0 0 0 0;\n",
              "      width: 32px;\n",
              "    }\n",
              "\n",
              "    .colab-df-convert:hover {\n",
              "      background-color: #E2EBFA;\n",
              "      box-shadow: 0px 1px 2px rgba(60, 64, 67, 0.3), 0px 1px 3px 1px rgba(60, 64, 67, 0.15);\n",
              "      fill: #174EA6;\n",
              "    }\n",
              "\n",
              "    [theme=dark] .colab-df-convert {\n",
              "      background-color: #3B4455;\n",
              "      fill: #D2E3FC;\n",
              "    }\n",
              "\n",
              "    [theme=dark] .colab-df-convert:hover {\n",
              "      background-color: #434B5C;\n",
              "      box-shadow: 0px 1px 3px 1px rgba(0, 0, 0, 0.15);\n",
              "      filter: drop-shadow(0px 1px 2px rgba(0, 0, 0, 0.3));\n",
              "      fill: #FFFFFF;\n",
              "    }\n",
              "  </style>\n",
              "\n",
              "      <script>\n",
              "        const buttonEl =\n",
              "          document.querySelector('#df-819b0595-7b07-470f-8144-d66a596c959e button.colab-df-convert');\n",
              "        buttonEl.style.display =\n",
              "          google.colab.kernel.accessAllowed ? 'block' : 'none';\n",
              "\n",
              "        async function convertToInteractive(key) {\n",
              "          const element = document.querySelector('#df-819b0595-7b07-470f-8144-d66a596c959e');\n",
              "          const dataTable =\n",
              "            await google.colab.kernel.invokeFunction('convertToInteractive',\n",
              "                                                     [key], {});\n",
              "          if (!dataTable) return;\n",
              "\n",
              "          const docLinkHtml = 'Like what you see? Visit the ' +\n",
              "            '<a target=\"_blank\" href=https://colab.research.google.com/notebooks/data_table.ipynb>data table notebook</a>'\n",
              "            + ' to learn more about interactive tables.';\n",
              "          element.innerHTML = '';\n",
              "          dataTable['output_type'] = 'display_data';\n",
              "          await google.colab.output.renderOutput(dataTable, element);\n",
              "          const docLink = document.createElement('div');\n",
              "          docLink.innerHTML = docLinkHtml;\n",
              "          element.appendChild(docLink);\n",
              "        }\n",
              "      </script>\n",
              "    </div>\n",
              "  </div>\n",
              "  "
            ]
          },
          "metadata": {},
          "execution_count": 28
        }
      ],
      "source": [
        "ty = data.groupby('district', as_index=False)['middle_avg_bill'].agg('median')\n",
        "ty.sort_values(by='middle_avg_bill', ascending=False)"
      ]
    },
    {
      "cell_type": "code",
      "execution_count": 29,
      "metadata": {
        "colab": {
          "base_uri": "https://localhost:8080/",
          "height": 241
        },
        "id": "bGE0Zuz9fnb1",
        "outputId": "fdace96d-1dc1-4062-a667-a48c194ccb39"
      },
      "outputs": [
        {
          "output_type": "error",
          "ename": "NameError",
          "evalue": "ignored",
          "traceback": [
            "\u001b[0;31m---------------------------------------------------------------------------\u001b[0m",
            "\u001b[0;31mNameError\u001b[0m                                 Traceback (most recent call last)",
            "\u001b[0;32m<ipython-input-29-177fe332dfa0>\u001b[0m in \u001b[0;36m<module>\u001b[0;34m\u001b[0m\n\u001b[0;32m----> 1\u001b[0;31m \u001b[0mm2\u001b[0m \u001b[0;34m=\u001b[0m \u001b[0mMap\u001b[0m\u001b[0;34m(\u001b[0m\u001b[0mlocation\u001b[0m\u001b[0;34m=\u001b[0m\u001b[0;34m[\u001b[0m\u001b[0mmoscow_lat\u001b[0m\u001b[0;34m,\u001b[0m \u001b[0mmoscow_lng\u001b[0m\u001b[0;34m]\u001b[0m\u001b[0;34m,\u001b[0m \u001b[0mzoom_start\u001b[0m\u001b[0;34m=\u001b[0m\u001b[0;36m10\u001b[0m\u001b[0;34m)\u001b[0m\u001b[0;34m\u001b[0m\u001b[0;34m\u001b[0m\u001b[0m\n\u001b[0m\u001b[1;32m      2\u001b[0m \u001b[0;34m\u001b[0m\u001b[0m\n\u001b[1;32m      3\u001b[0m Choropleth(\n\u001b[1;32m      4\u001b[0m     \u001b[0mgeo_data\u001b[0m\u001b[0;34m=\u001b[0m\u001b[0mstate_geo\u001b[0m\u001b[0;34m,\u001b[0m\u001b[0;34m\u001b[0m\u001b[0;34m\u001b[0m\u001b[0m\n\u001b[1;32m      5\u001b[0m     \u001b[0mdata\u001b[0m\u001b[0;34m=\u001b[0m\u001b[0mty\u001b[0m\u001b[0;34m,\u001b[0m\u001b[0;34m\u001b[0m\u001b[0;34m\u001b[0m\u001b[0m\n",
            "\u001b[0;31mNameError\u001b[0m: name 'moscow_lat' is not defined"
          ]
        }
      ],
      "source": [
        "m2 = Map(location=[moscow_lat, moscow_lng], zoom_start=10)\n",
        "\n",
        "Choropleth(\n",
        "    geo_data=state_geo,\n",
        "    data=ty,\n",
        "    columns = ty.columns,\n",
        "    key_on='feature.name',\n",
        "    fill_color='YlGn',\n",
        "    fill_opacity=0.8,\n",
        "    legend_name='Медианная стоимость заказов по районам',\n",
        ").add_to(m2)\n",
        "\n",
        "m2"
      ]
    },
    {
      "cell_type": "markdown",
      "metadata": {
        "id": "K-QoqLKSfnb1"
      },
      "source": [
        "Стоимость среднего чека уменьшатся с удалением от центрального района от 1000 у.е. до 450 за исключением Западного административного округа, где чек такой же большой, как и в центре."
      ]
    },
    {
      "cell_type": "markdown",
      "metadata": {
        "id": "XSIOprh8fnb2"
      },
      "source": [
        "### Вывод"
      ]
    },
    {
      "cell_type": "markdown",
      "metadata": {
        "id": "RnQ2p4V1fnb3"
      },
      "source": [
        "Наиболее крупные категории: кафе (2378 заведений), ресторан (2043) и кофейня (1413). Наименее - быстрое питание (603), столовая (315), булочная (256).\n",
        "\n",
        "Наименьшее количество мест имеют булочные и пиццерии, наибольшее - рестораны и бары, что связано с размером заведений.\n",
        "62% заведений не являются сетями, 38% - являются, среди которых такие категории, как булочная, пиццерия или кофейня чаще других принадлежат к сети – от 55% до 60+%. А самая популярная сеть - Шоколадница (120 объектов).\n",
        "\n",
        "Огромное количество заведений (>3000) находится в центре, южные же районы имеют гораздо меньшее количество заведений по сравнению с другими районами.\n",
        "\n",
        "Самый популярный район - Центральный административный округ с более чем 2200 заведениями, наименее насыщенный - Северо-Западный (менее 500).\n",
        "\n",
        "Категория несущественно влияет на рейтинг, он колеблется от 4.05 (быстрое питание) до 4.4 (бар, паб). \n",
        "\n",
        "От района рейтинг зависит больше, самый высокий в Центральном административном округе - 4.38, все остальные районы имеют рейтинг от 4.1 до 4.24.\n",
        "\n",
        "Самое большое количество заведений находится на проспекте Мира (более 160) и Профсоюзной улице (120). Самые популярные категории: кафе и ресторан.\n",
        "\n",
        "\n",
        "Стоимость среднего чека уменьшатся с удалением от центрального района от 1000 у.е. до 450 за исключением Западного административного округа, где чек такой же большой, как и в центре."
      ]
    },
    {
      "cell_type": "markdown",
      "metadata": {
        "id": "-v6dXD0ffnb5"
      },
      "source": [
        "## Открытие кофейни"
      ]
    },
    {
      "cell_type": "markdown",
      "metadata": {
        "id": "YTpREf72fnb5"
      },
      "source": [
        "### Общее количество кофеен и их распределение по районам"
      ]
    },
    {
      "cell_type": "code",
      "execution_count": 30,
      "metadata": {
        "colab": {
          "base_uri": "https://localhost:8080/",
          "height": 381
        },
        "id": "mtflkA66fnb5",
        "outputId": "945477fb-591a-4f87-9cfc-8d9869b4eb01"
      },
      "outputs": [
        {
          "output_type": "stream",
          "name": "stdout",
          "text": [
            "Всего кофеен: 1413\n"
          ]
        },
        {
          "output_type": "display_data",
          "data": {
            "text/plain": [
              "                                         name\n",
              "district                                     \n",
              "Центральный административный округ        428\n",
              "Северный административный округ           193\n",
              "Северо-Восточный административный округ   159\n",
              "Западный административный округ           150\n",
              "Южный административный округ              131\n",
              "Восточный административный округ          105\n",
              "Юго-Западный административный округ        96\n",
              "Юго-Восточный административный округ       89\n",
              "Северо-Западный административный округ     62"
            ],
            "text/html": [
              "\n",
              "  <div id=\"df-35c0f367-cce3-4b99-8ecd-8a26f3094c60\">\n",
              "    <div class=\"colab-df-container\">\n",
              "      <div>\n",
              "<style scoped>\n",
              "    .dataframe tbody tr th:only-of-type {\n",
              "        vertical-align: middle;\n",
              "    }\n",
              "\n",
              "    .dataframe tbody tr th {\n",
              "        vertical-align: top;\n",
              "    }\n",
              "\n",
              "    .dataframe thead th {\n",
              "        text-align: right;\n",
              "    }\n",
              "</style>\n",
              "<table border=\"1\" class=\"dataframe\">\n",
              "  <thead>\n",
              "    <tr style=\"text-align: right;\">\n",
              "      <th></th>\n",
              "      <th>name</th>\n",
              "    </tr>\n",
              "    <tr>\n",
              "      <th>district</th>\n",
              "      <th></th>\n",
              "    </tr>\n",
              "  </thead>\n",
              "  <tbody>\n",
              "    <tr>\n",
              "      <th>Центральный административный округ</th>\n",
              "      <td>428</td>\n",
              "    </tr>\n",
              "    <tr>\n",
              "      <th>Северный административный округ</th>\n",
              "      <td>193</td>\n",
              "    </tr>\n",
              "    <tr>\n",
              "      <th>Северо-Восточный административный округ</th>\n",
              "      <td>159</td>\n",
              "    </tr>\n",
              "    <tr>\n",
              "      <th>Западный административный округ</th>\n",
              "      <td>150</td>\n",
              "    </tr>\n",
              "    <tr>\n",
              "      <th>Южный административный округ</th>\n",
              "      <td>131</td>\n",
              "    </tr>\n",
              "    <tr>\n",
              "      <th>Восточный административный округ</th>\n",
              "      <td>105</td>\n",
              "    </tr>\n",
              "    <tr>\n",
              "      <th>Юго-Западный административный округ</th>\n",
              "      <td>96</td>\n",
              "    </tr>\n",
              "    <tr>\n",
              "      <th>Юго-Восточный административный округ</th>\n",
              "      <td>89</td>\n",
              "    </tr>\n",
              "    <tr>\n",
              "      <th>Северо-Западный административный округ</th>\n",
              "      <td>62</td>\n",
              "    </tr>\n",
              "  </tbody>\n",
              "</table>\n",
              "</div>\n",
              "      <button class=\"colab-df-convert\" onclick=\"convertToInteractive('df-35c0f367-cce3-4b99-8ecd-8a26f3094c60')\"\n",
              "              title=\"Convert this dataframe to an interactive table.\"\n",
              "              style=\"display:none;\">\n",
              "        \n",
              "  <svg xmlns=\"http://www.w3.org/2000/svg\" height=\"24px\"viewBox=\"0 0 24 24\"\n",
              "       width=\"24px\">\n",
              "    <path d=\"M0 0h24v24H0V0z\" fill=\"none\"/>\n",
              "    <path d=\"M18.56 5.44l.94 2.06.94-2.06 2.06-.94-2.06-.94-.94-2.06-.94 2.06-2.06.94zm-11 1L8.5 8.5l.94-2.06 2.06-.94-2.06-.94L8.5 2.5l-.94 2.06-2.06.94zm10 10l.94 2.06.94-2.06 2.06-.94-2.06-.94-.94-2.06-.94 2.06-2.06.94z\"/><path d=\"M17.41 7.96l-1.37-1.37c-.4-.4-.92-.59-1.43-.59-.52 0-1.04.2-1.43.59L10.3 9.45l-7.72 7.72c-.78.78-.78 2.05 0 2.83L4 21.41c.39.39.9.59 1.41.59.51 0 1.02-.2 1.41-.59l7.78-7.78 2.81-2.81c.8-.78.8-2.07 0-2.86zM5.41 20L4 18.59l7.72-7.72 1.47 1.35L5.41 20z\"/>\n",
              "  </svg>\n",
              "      </button>\n",
              "      \n",
              "  <style>\n",
              "    .colab-df-container {\n",
              "      display:flex;\n",
              "      flex-wrap:wrap;\n",
              "      gap: 12px;\n",
              "    }\n",
              "\n",
              "    .colab-df-convert {\n",
              "      background-color: #E8F0FE;\n",
              "      border: none;\n",
              "      border-radius: 50%;\n",
              "      cursor: pointer;\n",
              "      display: none;\n",
              "      fill: #1967D2;\n",
              "      height: 32px;\n",
              "      padding: 0 0 0 0;\n",
              "      width: 32px;\n",
              "    }\n",
              "\n",
              "    .colab-df-convert:hover {\n",
              "      background-color: #E2EBFA;\n",
              "      box-shadow: 0px 1px 2px rgba(60, 64, 67, 0.3), 0px 1px 3px 1px rgba(60, 64, 67, 0.15);\n",
              "      fill: #174EA6;\n",
              "    }\n",
              "\n",
              "    [theme=dark] .colab-df-convert {\n",
              "      background-color: #3B4455;\n",
              "      fill: #D2E3FC;\n",
              "    }\n",
              "\n",
              "    [theme=dark] .colab-df-convert:hover {\n",
              "      background-color: #434B5C;\n",
              "      box-shadow: 0px 1px 3px 1px rgba(0, 0, 0, 0.15);\n",
              "      filter: drop-shadow(0px 1px 2px rgba(0, 0, 0, 0.3));\n",
              "      fill: #FFFFFF;\n",
              "    }\n",
              "  </style>\n",
              "\n",
              "      <script>\n",
              "        const buttonEl =\n",
              "          document.querySelector('#df-35c0f367-cce3-4b99-8ecd-8a26f3094c60 button.colab-df-convert');\n",
              "        buttonEl.style.display =\n",
              "          google.colab.kernel.accessAllowed ? 'block' : 'none';\n",
              "\n",
              "        async function convertToInteractive(key) {\n",
              "          const element = document.querySelector('#df-35c0f367-cce3-4b99-8ecd-8a26f3094c60');\n",
              "          const dataTable =\n",
              "            await google.colab.kernel.invokeFunction('convertToInteractive',\n",
              "                                                     [key], {});\n",
              "          if (!dataTable) return;\n",
              "\n",
              "          const docLinkHtml = 'Like what you see? Visit the ' +\n",
              "            '<a target=\"_blank\" href=https://colab.research.google.com/notebooks/data_table.ipynb>data table notebook</a>'\n",
              "            + ' to learn more about interactive tables.';\n",
              "          element.innerHTML = '';\n",
              "          dataTable['output_type'] = 'display_data';\n",
              "          await google.colab.output.renderOutput(dataTable, element);\n",
              "          const docLink = document.createElement('div');\n",
              "          docLink.innerHTML = docLinkHtml;\n",
              "          element.appendChild(docLink);\n",
              "        }\n",
              "      </script>\n",
              "    </div>\n",
              "  </div>\n",
              "  "
            ]
          },
          "metadata": {}
        }
      ],
      "source": [
        "cafe=data.query('category==\"кофейня\"')\n",
        "print('Всего кофеен:',cafe['name'].count())\n",
        "r = cafe.pivot_table(index='district',values='name',aggfunc='count').sort_values(by='name',ascending = False)\n",
        "display(r)"
      ]
    },
    {
      "cell_type": "markdown",
      "metadata": {
        "id": "Yrz1MCcAfnb6"
      },
      "source": [
        "Всего кофеен в датасете 1413, наибольшее их количество (428) расположено в Центральнои районе, в остальных районах их примерно одинаковое количество (от 193 до 89), за исключением Северо-Западного административного округа, в котором их всего 62."
      ]
    },
    {
      "cell_type": "code",
      "execution_count": 33,
      "metadata": {
        "colab": {
          "base_uri": "https://localhost:8080/",
          "height": 542
        },
        "id": "8SyePiiGfnb6",
        "outputId": "b0fc6b5f-7b91-4276-a395-e2b48dd883af"
      },
      "outputs": [
        {
          "output_type": "display_data",
          "data": {
            "text/plain": [
              "<PIL.PngImagePlugin.PngImageFile image mode=RGBA size=1172x525 at 0x7F02D2ADBEB0>"
            ],
            "image/png": "[encoded data removed]"
          },
          "metadata": {}
        }
      ],
      "source": [
        "fg = go.Figure(data=[go.Pie(title='Распределение кофеен по районам',labels=r.index,values=r['name'])])\n",
        "Image.open(\"/content/newplot(7).png\").show();"
      ]
    },
    {
      "cell_type": "markdown",
      "metadata": {
        "id": "5UZoIvYqfnb6"
      },
      "source": [
        "### Круглосуточные кофейни"
      ]
    },
    {
      "cell_type": "code",
      "execution_count": 35,
      "metadata": {
        "colab": {
          "base_uri": "https://localhost:8080/"
        },
        "id": "ju8Ga-m3fnb7",
        "outputId": "55eec067-7ef4-4358-f6bf-9caa815c520e"
      },
      "outputs": [
        {
          "output_type": "stream",
          "name": "stdout",
          "text": [
            "Всего круглосуточных кофеен 59 , что составляет 4.2% от общего числа кофеен.\n"
          ]
        }
      ],
      "source": [
        "cafe=cafe.rename(columns={'is_24/7':'is_24'})\n",
        "print('Всего круглосуточных кофеен',cafe.query('is_24==True')['name'].count(),\\\n",
        "      ', что составляет {:.1f}%'.format(cafe.query('is_24==True')['name'].count()/1413*100),'от общего числа кофеен.')"
      ]
    },
    {
      "cell_type": "code",
      "execution_count": 36,
      "metadata": {
        "colab": {
          "base_uri": "https://localhost:8080/",
          "height": 682
        },
        "id": "aIfd7Vlcfnb7",
        "outputId": "f2320335-5181-4b3b-973b-683c42a8c057"
      },
      "outputs": [
        {
          "output_type": "display_data",
          "data": {
            "text/plain": [
              "                                            is_24\n",
              "district                                         \n",
              "Южный административный округ             0.007634\n",
              "Юго-Восточный административный округ     0.011236\n",
              "Северо-Восточный административный округ  0.018868\n",
              "Северный административный округ          0.025907\n",
              "Северо-Западный административный округ   0.032258\n",
              "Восточный административный округ         0.047619\n",
              "Западный административный округ          0.060000\n",
              "Центральный административный округ       0.060748\n",
              "Юго-Западный административный округ      0.072917"
            ],
            "text/html": [
              "\n",
              "  <div id=\"df-25d747cc-7e52-40c6-9f64-4f5e6717d568\">\n",
              "    <div class=\"colab-df-container\">\n",
              "      <div>\n",
              "<style scoped>\n",
              "    .dataframe tbody tr th:only-of-type {\n",
              "        vertical-align: middle;\n",
              "    }\n",
              "\n",
              "    .dataframe tbody tr th {\n",
              "        vertical-align: top;\n",
              "    }\n",
              "\n",
              "    .dataframe thead th {\n",
              "        text-align: right;\n",
              "    }\n",
              "</style>\n",
              "<table border=\"1\" class=\"dataframe\">\n",
              "  <thead>\n",
              "    <tr style=\"text-align: right;\">\n",
              "      <th></th>\n",
              "      <th>is_24</th>\n",
              "    </tr>\n",
              "    <tr>\n",
              "      <th>district</th>\n",
              "      <th></th>\n",
              "    </tr>\n",
              "  </thead>\n",
              "  <tbody>\n",
              "    <tr>\n",
              "      <th>Южный административный округ</th>\n",
              "      <td>0.007634</td>\n",
              "    </tr>\n",
              "    <tr>\n",
              "      <th>Юго-Восточный административный округ</th>\n",
              "      <td>0.011236</td>\n",
              "    </tr>\n",
              "    <tr>\n",
              "      <th>Северо-Восточный административный округ</th>\n",
              "      <td>0.018868</td>\n",
              "    </tr>\n",
              "    <tr>\n",
              "      <th>Северный административный округ</th>\n",
              "      <td>0.025907</td>\n",
              "    </tr>\n",
              "    <tr>\n",
              "      <th>Северо-Западный административный округ</th>\n",
              "      <td>0.032258</td>\n",
              "    </tr>\n",
              "    <tr>\n",
              "      <th>Восточный административный округ</th>\n",
              "      <td>0.047619</td>\n",
              "    </tr>\n",
              "    <tr>\n",
              "      <th>Западный административный округ</th>\n",
              "      <td>0.060000</td>\n",
              "    </tr>\n",
              "    <tr>\n",
              "      <th>Центральный административный округ</th>\n",
              "      <td>0.060748</td>\n",
              "    </tr>\n",
              "    <tr>\n",
              "      <th>Юго-Западный административный округ</th>\n",
              "      <td>0.072917</td>\n",
              "    </tr>\n",
              "  </tbody>\n",
              "</table>\n",
              "</div>\n",
              "      <button class=\"colab-df-convert\" onclick=\"convertToInteractive('df-25d747cc-7e52-40c6-9f64-4f5e6717d568')\"\n",
              "              title=\"Convert this dataframe to an interactive table.\"\n",
              "              style=\"display:none;\">\n",
              "        \n",
              "  <svg xmlns=\"http://www.w3.org/2000/svg\" height=\"24px\"viewBox=\"0 0 24 24\"\n",
              "       width=\"24px\">\n",
              "    <path d=\"M0 0h24v24H0V0z\" fill=\"none\"/>\n",
              "    <path d=\"M18.56 5.44l.94 2.06.94-2.06 2.06-.94-2.06-.94-.94-2.06-.94 2.06-2.06.94zm-11 1L8.5 8.5l.94-2.06 2.06-.94-2.06-.94L8.5 2.5l-.94 2.06-2.06.94zm10 10l.94 2.06.94-2.06 2.06-.94-2.06-.94-.94-2.06-.94 2.06-2.06.94z\"/><path d=\"M17.41 7.96l-1.37-1.37c-.4-.4-.92-.59-1.43-.59-.52 0-1.04.2-1.43.59L10.3 9.45l-7.72 7.72c-.78.78-.78 2.05 0 2.83L4 21.41c.39.39.9.59 1.41.59.51 0 1.02-.2 1.41-.59l7.78-7.78 2.81-2.81c.8-.78.8-2.07 0-2.86zM5.41 20L4 18.59l7.72-7.72 1.47 1.35L5.41 20z\"/>\n",
              "  </svg>\n",
              "      </button>\n",
              "      \n",
              "  <style>\n",
              "    .colab-df-container {\n",
              "      display:flex;\n",
              "      flex-wrap:wrap;\n",
              "      gap: 12px;\n",
              "    }\n",
              "\n",
              "    .colab-df-convert {\n",
              "      background-color: #E8F0FE;\n",
              "      border: none;\n",
              "      border-radius: 50%;\n",
              "      cursor: pointer;\n",
              "      display: none;\n",
              "      fill: #1967D2;\n",
              "      height: 32px;\n",
              "      padding: 0 0 0 0;\n",
              "      width: 32px;\n",
              "    }\n",
              "\n",
              "    .colab-df-convert:hover {\n",
              "      background-color: #E2EBFA;\n",
              "      box-shadow: 0px 1px 2px rgba(60, 64, 67, 0.3), 0px 1px 3px 1px rgba(60, 64, 67, 0.15);\n",
              "      fill: #174EA6;\n",
              "    }\n",
              "\n",
              "    [theme=dark] .colab-df-convert {\n",
              "      background-color: #3B4455;\n",
              "      fill: #D2E3FC;\n",
              "    }\n",
              "\n",
              "    [theme=dark] .colab-df-convert:hover {\n",
              "      background-color: #434B5C;\n",
              "      box-shadow: 0px 1px 3px 1px rgba(0, 0, 0, 0.15);\n",
              "      filter: drop-shadow(0px 1px 2px rgba(0, 0, 0, 0.3));\n",
              "      fill: #FFFFFF;\n",
              "    }\n",
              "  </style>\n",
              "\n",
              "      <script>\n",
              "        const buttonEl =\n",
              "          document.querySelector('#df-25d747cc-7e52-40c6-9f64-4f5e6717d568 button.colab-df-convert');\n",
              "        buttonEl.style.display =\n",
              "          google.colab.kernel.accessAllowed ? 'block' : 'none';\n",
              "\n",
              "        async function convertToInteractive(key) {\n",
              "          const element = document.querySelector('#df-25d747cc-7e52-40c6-9f64-4f5e6717d568');\n",
              "          const dataTable =\n",
              "            await google.colab.kernel.invokeFunction('convertToInteractive',\n",
              "                                                     [key], {});\n",
              "          if (!dataTable) return;\n",
              "\n",
              "          const docLinkHtml = 'Like what you see? Visit the ' +\n",
              "            '<a target=\"_blank\" href=https://colab.research.google.com/notebooks/data_table.ipynb>data table notebook</a>'\n",
              "            + ' to learn more about interactive tables.';\n",
              "          element.innerHTML = '';\n",
              "          dataTable['output_type'] = 'display_data';\n",
              "          await google.colab.output.renderOutput(dataTable, element);\n",
              "          const docLink = document.createElement('div');\n",
              "          docLink.innerHTML = docLinkHtml;\n",
              "          element.appendChild(docLink);\n",
              "        }\n",
              "      </script>\n",
              "    </div>\n",
              "  </div>\n",
              "  "
            ]
          },
          "metadata": {}
        },
        {
          "output_type": "display_data",
          "data": {
            "text/plain": [
              "<Figure size 576x360 with 1 Axes>"
            ],
            "image/png": "[encoded data removed]"
          },
          "metadata": {
            "needs_background": "light"
          }
        }
      ],
      "source": [
        "l=cafe.pivot_table(index = 'district',values='is_24', aggfunc='mean').sort_values(by='is_24')\n",
        "display(l)\n",
        "l.plot(kind='barh', figsize=(8,5), title='Процент круглосуточных кофеен по районам');"
      ]
    },
    {
      "cell_type": "markdown",
      "metadata": {
        "id": "ccr8QfO4fnb7"
      },
      "source": [
        "Наибольший % круглосуток находится в Юго-Западном а.о. (7,3%), наименьший - в Южном (0.76%)"
      ]
    },
    {
      "cell_type": "markdown",
      "metadata": {
        "id": "GZDuE4oLfnb8"
      },
      "source": [
        "### Рейтинги кофеен, распределённые по районам"
      ]
    },
    {
      "cell_type": "code",
      "execution_count": 37,
      "metadata": {
        "colab": {
          "base_uri": "https://localhost:8080/",
          "height": 611
        },
        "id": "fa3afoHxfnb8",
        "outputId": "8c45a3eb-6bf3-4344-f4fb-522603556e6b"
      },
      "outputs": [
        {
          "output_type": "display_data",
          "data": {
            "text/plain": [
              "                                           rating\n",
              "district                                         \n",
              "Западный административный округ          4.195333\n",
              "Северо-Восточный административный округ  4.216981\n",
              "Юго-Восточный административный округ     4.225843\n",
              "Южный административный округ             4.232824\n",
              "Восточный административный округ         4.282857\n",
              "Юго-Западный административный округ      4.283333\n",
              "Северный административный округ          4.291710\n",
              "Северо-Западный административный округ   4.325806\n",
              "Центральный административный округ       4.336449"
            ],
            "text/html": [
              "\n",
              "  <div id=\"df-24b3f129-8fa8-4364-99ba-6e40f8ebc37a\">\n",
              "    <div class=\"colab-df-container\">\n",
              "      <div>\n",
              "<style scoped>\n",
              "    .dataframe tbody tr th:only-of-type {\n",
              "        vertical-align: middle;\n",
              "    }\n",
              "\n",
              "    .dataframe tbody tr th {\n",
              "        vertical-align: top;\n",
              "    }\n",
              "\n",
              "    .dataframe thead th {\n",
              "        text-align: right;\n",
              "    }\n",
              "</style>\n",
              "<table border=\"1\" class=\"dataframe\">\n",
              "  <thead>\n",
              "    <tr style=\"text-align: right;\">\n",
              "      <th></th>\n",
              "      <th>rating</th>\n",
              "    </tr>\n",
              "    <tr>\n",
              "      <th>district</th>\n",
              "      <th></th>\n",
              "    </tr>\n",
              "  </thead>\n",
              "  <tbody>\n",
              "    <tr>\n",
              "      <th>Западный административный округ</th>\n",
              "      <td>4.195333</td>\n",
              "    </tr>\n",
              "    <tr>\n",
              "      <th>Северо-Восточный административный округ</th>\n",
              "      <td>4.216981</td>\n",
              "    </tr>\n",
              "    <tr>\n",
              "      <th>Юго-Восточный административный округ</th>\n",
              "      <td>4.225843</td>\n",
              "    </tr>\n",
              "    <tr>\n",
              "      <th>Южный административный округ</th>\n",
              "      <td>4.232824</td>\n",
              "    </tr>\n",
              "    <tr>\n",
              "      <th>Восточный административный округ</th>\n",
              "      <td>4.282857</td>\n",
              "    </tr>\n",
              "    <tr>\n",
              "      <th>Юго-Западный административный округ</th>\n",
              "      <td>4.283333</td>\n",
              "    </tr>\n",
              "    <tr>\n",
              "      <th>Северный административный округ</th>\n",
              "      <td>4.291710</td>\n",
              "    </tr>\n",
              "    <tr>\n",
              "      <th>Северо-Западный административный округ</th>\n",
              "      <td>4.325806</td>\n",
              "    </tr>\n",
              "    <tr>\n",
              "      <th>Центральный административный округ</th>\n",
              "      <td>4.336449</td>\n",
              "    </tr>\n",
              "  </tbody>\n",
              "</table>\n",
              "</div>\n",
              "      <button class=\"colab-df-convert\" onclick=\"convertToInteractive('df-24b3f129-8fa8-4364-99ba-6e40f8ebc37a')\"\n",
              "              title=\"Convert this dataframe to an interactive table.\"\n",
              "              style=\"display:none;\">\n",
              "        \n",
              "  <svg xmlns=\"http://www.w3.org/2000/svg\" height=\"24px\"viewBox=\"0 0 24 24\"\n",
              "       width=\"24px\">\n",
              "    <path d=\"M0 0h24v24H0V0z\" fill=\"none\"/>\n",
              "    <path d=\"M18.56 5.44l.94 2.06.94-2.06 2.06-.94-2.06-.94-.94-2.06-.94 2.06-2.06.94zm-11 1L8.5 8.5l.94-2.06 2.06-.94-2.06-.94L8.5 2.5l-.94 2.06-2.06.94zm10 10l.94 2.06.94-2.06 2.06-.94-2.06-.94-.94-2.06-.94 2.06-2.06.94z\"/><path d=\"M17.41 7.96l-1.37-1.37c-.4-.4-.92-.59-1.43-.59-.52 0-1.04.2-1.43.59L10.3 9.45l-7.72 7.72c-.78.78-.78 2.05 0 2.83L4 21.41c.39.39.9.59 1.41.59.51 0 1.02-.2 1.41-.59l7.78-7.78 2.81-2.81c.8-.78.8-2.07 0-2.86zM5.41 20L4 18.59l7.72-7.72 1.47 1.35L5.41 20z\"/>\n",
              "  </svg>\n",
              "      </button>\n",
              "      \n",
              "  <style>\n",
              "    .colab-df-container {\n",
              "      display:flex;\n",
              "      flex-wrap:wrap;\n",
              "      gap: 12px;\n",
              "    }\n",
              "\n",
              "    .colab-df-convert {\n",
              "      background-color: #E8F0FE;\n",
              "      border: none;\n",
              "      border-radius: 50%;\n",
              "      cursor: pointer;\n",
              "      display: none;\n",
              "      fill: #1967D2;\n",
              "      height: 32px;\n",
              "      padding: 0 0 0 0;\n",
              "      width: 32px;\n",
              "    }\n",
              "\n",
              "    .colab-df-convert:hover {\n",
              "      background-color: #E2EBFA;\n",
              "      box-shadow: 0px 1px 2px rgba(60, 64, 67, 0.3), 0px 1px 3px 1px rgba(60, 64, 67, 0.15);\n",
              "      fill: #174EA6;\n",
              "    }\n",
              "\n",
              "    [theme=dark] .colab-df-convert {\n",
              "      background-color: #3B4455;\n",
              "      fill: #D2E3FC;\n",
              "    }\n",
              "\n",
              "    [theme=dark] .colab-df-convert:hover {\n",
              "      background-color: #434B5C;\n",
              "      box-shadow: 0px 1px 3px 1px rgba(0, 0, 0, 0.15);\n",
              "      filter: drop-shadow(0px 1px 2px rgba(0, 0, 0, 0.3));\n",
              "      fill: #FFFFFF;\n",
              "    }\n",
              "  </style>\n",
              "\n",
              "      <script>\n",
              "        const buttonEl =\n",
              "          document.querySelector('#df-24b3f129-8fa8-4364-99ba-6e40f8ebc37a button.colab-df-convert');\n",
              "        buttonEl.style.display =\n",
              "          google.colab.kernel.accessAllowed ? 'block' : 'none';\n",
              "\n",
              "        async function convertToInteractive(key) {\n",
              "          const element = document.querySelector('#df-24b3f129-8fa8-4364-99ba-6e40f8ebc37a');\n",
              "          const dataTable =\n",
              "            await google.colab.kernel.invokeFunction('convertToInteractive',\n",
              "                                                     [key], {});\n",
              "          if (!dataTable) return;\n",
              "\n",
              "          const docLinkHtml = 'Like what you see? Visit the ' +\n",
              "            '<a target=\"_blank\" href=https://colab.research.google.com/notebooks/data_table.ipynb>data table notebook</a>'\n",
              "            + ' to learn more about interactive tables.';\n",
              "          element.innerHTML = '';\n",
              "          dataTable['output_type'] = 'display_data';\n",
              "          await google.colab.output.renderOutput(dataTable, element);\n",
              "          const docLink = document.createElement('div');\n",
              "          docLink.innerHTML = docLinkHtml;\n",
              "          element.appendChild(docLink);\n",
              "        }\n",
              "      </script>\n",
              "    </div>\n",
              "  </div>\n",
              "  "
            ]
          },
          "metadata": {}
        },
        {
          "output_type": "display_data",
          "data": {
            "text/plain": [
              "<Figure size 432x288 with 1 Axes>"
            ],
            "image/png": "[encoded data removed]"
          },
          "metadata": {
            "needs_background": "light"
          }
        }
      ],
      "source": [
        "u=cafe.pivot_table(index='district',values='rating',aggfunc='mean').sort_values(by='rating')\n",
        "display(u)\n",
        "u.plot(kind='barh')\n",
        "plt.xlim([4.15, 4.35]);"
      ]
    },
    {
      "cell_type": "markdown",
      "metadata": {
        "id": "BJevxhMNfnb9"
      },
      "source": [
        "Самые низкии рейтинги в Западном а.о. (4.19), самые высокие - в Центральном (4.34), но эта разница несущественна."
      ]
    },
    {
      "cell_type": "markdown",
      "metadata": {
        "id": "G07XwZN1fnb-"
      },
      "source": [
        "### Стоимость чашки капучино"
      ]
    },
    {
      "cell_type": "code",
      "execution_count": 38,
      "metadata": {
        "colab": {
          "base_uri": "https://localhost:8080/",
          "height": 381
        },
        "id": "LuNtBVXRfnb-",
        "outputId": "9f3c0ad8-5a80-4ca0-e383-27ed01b7a315"
      },
      "outputs": [
        {
          "output_type": "stream",
          "name": "stdout",
          "text": [
            "Средняя стоимость чашки капучино составляет 170.0 рублей.\n"
          ]
        },
        {
          "output_type": "display_data",
          "data": {
            "text/plain": [
              "                                         middle_coffee_cup\n",
              "district                                                  \n",
              "Восточный административный округ                     135.0\n",
              "Юго-Восточный административный округ                 147.5\n",
              "Южный административный округ                         150.0\n",
              "Северный административный округ                      159.0\n",
              "Северо-Восточный административный округ              162.5\n",
              "Северо-Западный административный округ               165.0\n",
              "Западный административный округ                      189.0\n",
              "Центральный административный округ                   190.0\n",
              "Юго-Западный административный округ                  198.0"
            ],
            "text/html": [
              "\n",
              "  <div id=\"df-3c5614f0-ddbb-4581-86ef-938b5073addf\">\n",
              "    <div class=\"colab-df-container\">\n",
              "      <div>\n",
              "<style scoped>\n",
              "    .dataframe tbody tr th:only-of-type {\n",
              "        vertical-align: middle;\n",
              "    }\n",
              "\n",
              "    .dataframe tbody tr th {\n",
              "        vertical-align: top;\n",
              "    }\n",
              "\n",
              "    .dataframe thead th {\n",
              "        text-align: right;\n",
              "    }\n",
              "</style>\n",
              "<table border=\"1\" class=\"dataframe\">\n",
              "  <thead>\n",
              "    <tr style=\"text-align: right;\">\n",
              "      <th></th>\n",
              "      <th>middle_coffee_cup</th>\n",
              "    </tr>\n",
              "    <tr>\n",
              "      <th>district</th>\n",
              "      <th></th>\n",
              "    </tr>\n",
              "  </thead>\n",
              "  <tbody>\n",
              "    <tr>\n",
              "      <th>Восточный административный округ</th>\n",
              "      <td>135.0</td>\n",
              "    </tr>\n",
              "    <tr>\n",
              "      <th>Юго-Восточный административный округ</th>\n",
              "      <td>147.5</td>\n",
              "    </tr>\n",
              "    <tr>\n",
              "      <th>Южный административный округ</th>\n",
              "      <td>150.0</td>\n",
              "    </tr>\n",
              "    <tr>\n",
              "      <th>Северный административный округ</th>\n",
              "      <td>159.0</td>\n",
              "    </tr>\n",
              "    <tr>\n",
              "      <th>Северо-Восточный административный округ</th>\n",
              "      <td>162.5</td>\n",
              "    </tr>\n",
              "    <tr>\n",
              "      <th>Северо-Западный административный округ</th>\n",
              "      <td>165.0</td>\n",
              "    </tr>\n",
              "    <tr>\n",
              "      <th>Западный административный округ</th>\n",
              "      <td>189.0</td>\n",
              "    </tr>\n",
              "    <tr>\n",
              "      <th>Центральный административный округ</th>\n",
              "      <td>190.0</td>\n",
              "    </tr>\n",
              "    <tr>\n",
              "      <th>Юго-Западный административный округ</th>\n",
              "      <td>198.0</td>\n",
              "    </tr>\n",
              "  </tbody>\n",
              "</table>\n",
              "</div>\n",
              "      <button class=\"colab-df-convert\" onclick=\"convertToInteractive('df-3c5614f0-ddbb-4581-86ef-938b5073addf')\"\n",
              "              title=\"Convert this dataframe to an interactive table.\"\n",
              "              style=\"display:none;\">\n",
              "        \n",
              "  <svg xmlns=\"http://www.w3.org/2000/svg\" height=\"24px\"viewBox=\"0 0 24 24\"\n",
              "       width=\"24px\">\n",
              "    <path d=\"M0 0h24v24H0V0z\" fill=\"none\"/>\n",
              "    <path d=\"M18.56 5.44l.94 2.06.94-2.06 2.06-.94-2.06-.94-.94-2.06-.94 2.06-2.06.94zm-11 1L8.5 8.5l.94-2.06 2.06-.94-2.06-.94L8.5 2.5l-.94 2.06-2.06.94zm10 10l.94 2.06.94-2.06 2.06-.94-2.06-.94-.94-2.06-.94 2.06-2.06.94z\"/><path d=\"M17.41 7.96l-1.37-1.37c-.4-.4-.92-.59-1.43-.59-.52 0-1.04.2-1.43.59L10.3 9.45l-7.72 7.72c-.78.78-.78 2.05 0 2.83L4 21.41c.39.39.9.59 1.41.59.51 0 1.02-.2 1.41-.59l7.78-7.78 2.81-2.81c.8-.78.8-2.07 0-2.86zM5.41 20L4 18.59l7.72-7.72 1.47 1.35L5.41 20z\"/>\n",
              "  </svg>\n",
              "      </button>\n",
              "      \n",
              "  <style>\n",
              "    .colab-df-container {\n",
              "      display:flex;\n",
              "      flex-wrap:wrap;\n",
              "      gap: 12px;\n",
              "    }\n",
              "\n",
              "    .colab-df-convert {\n",
              "      background-color: #E8F0FE;\n",
              "      border: none;\n",
              "      border-radius: 50%;\n",
              "      cursor: pointer;\n",
              "      display: none;\n",
              "      fill: #1967D2;\n",
              "      height: 32px;\n",
              "      padding: 0 0 0 0;\n",
              "      width: 32px;\n",
              "    }\n",
              "\n",
              "    .colab-df-convert:hover {\n",
              "      background-color: #E2EBFA;\n",
              "      box-shadow: 0px 1px 2px rgba(60, 64, 67, 0.3), 0px 1px 3px 1px rgba(60, 64, 67, 0.15);\n",
              "      fill: #174EA6;\n",
              "    }\n",
              "\n",
              "    [theme=dark] .colab-df-convert {\n",
              "      background-color: #3B4455;\n",
              "      fill: #D2E3FC;\n",
              "    }\n",
              "\n",
              "    [theme=dark] .colab-df-convert:hover {\n",
              "      background-color: #434B5C;\n",
              "      box-shadow: 0px 1px 3px 1px rgba(0, 0, 0, 0.15);\n",
              "      filter: drop-shadow(0px 1px 2px rgba(0, 0, 0, 0.3));\n",
              "      fill: #FFFFFF;\n",
              "    }\n",
              "  </style>\n",
              "\n",
              "      <script>\n",
              "        const buttonEl =\n",
              "          document.querySelector('#df-3c5614f0-ddbb-4581-86ef-938b5073addf button.colab-df-convert');\n",
              "        buttonEl.style.display =\n",
              "          google.colab.kernel.accessAllowed ? 'block' : 'none';\n",
              "\n",
              "        async function convertToInteractive(key) {\n",
              "          const element = document.querySelector('#df-3c5614f0-ddbb-4581-86ef-938b5073addf');\n",
              "          const dataTable =\n",
              "            await google.colab.kernel.invokeFunction('convertToInteractive',\n",
              "                                                     [key], {});\n",
              "          if (!dataTable) return;\n",
              "\n",
              "          const docLinkHtml = 'Like what you see? Visit the ' +\n",
              "            '<a target=\"_blank\" href=https://colab.research.google.com/notebooks/data_table.ipynb>data table notebook</a>'\n",
              "            + ' to learn more about interactive tables.';\n",
              "          element.innerHTML = '';\n",
              "          dataTable['output_type'] = 'display_data';\n",
              "          await google.colab.output.renderOutput(dataTable, element);\n",
              "          const docLink = document.createElement('div');\n",
              "          docLink.innerHTML = docLinkHtml;\n",
              "          element.appendChild(docLink);\n",
              "        }\n",
              "      </script>\n",
              "    </div>\n",
              "  </div>\n",
              "  "
            ]
          },
          "metadata": {}
        }
      ],
      "source": [
        "print('Средняя стоимость чашки капучино составляет',cafe['middle_coffee_cup'].median(),'рублей.')\n",
        "g=cafe.pivot_table(index='district',values='middle_coffee_cup',aggfunc='median').sort_values(by='middle_coffee_cup')\n",
        "display(g)"
      ]
    },
    {
      "cell_type": "markdown",
      "metadata": {
        "id": "VRskDhiCfnb-"
      },
      "source": [
        "Средняя стоимость чашки капучино составляет 170 рублей."
      ]
    },
    {
      "cell_type": "code",
      "execution_count": 39,
      "metadata": {
        "colab": {
          "base_uri": "https://localhost:8080/",
          "height": 265
        },
        "id": "rWcLz6aWfnb-",
        "outputId": "d5c87b3a-71ec-446a-c1c9-7aa4455d2ff0"
      },
      "outputs": [
        {
          "output_type": "display_data",
          "data": {
            "text/plain": [
              "<Figure size 432x288 with 1 Axes>"
            ],
            "image/png": "[encoded data removed]"
          },
          "metadata": {
            "needs_background": "light"
          }
        }
      ],
      "source": [
        "g.plot(kind='barh')\n",
        "plt.xlim([100,205]);"
      ]
    },
    {
      "cell_type": "markdown",
      "metadata": {
        "id": "iuxKaEFNfnb_"
      },
      "source": [
        "### Рекомендации"
      ]
    },
    {
      "cell_type": "code",
      "execution_count": 40,
      "metadata": {
        "colab": {
          "base_uri": "https://localhost:8080/",
          "height": 811
        },
        "id": "-V7LJCkTfncA",
        "outputId": "898230c3-fd92-41d9-b876-ae7808c81ea9"
      },
      "outputs": [
        {
          "output_type": "display_data",
          "data": {
            "text/plain": [
              "                                         middle_coffee_cup  name\n",
              "district                                                        \n",
              "Северо-Западный административный округ               165.0    62\n",
              "Юго-Восточный административный округ                 147.5    89\n",
              "Юго-Западный административный округ                  198.0    96\n",
              "Восточный административный округ                     135.0   105\n",
              "Южный административный округ                         150.0   131\n",
              "Западный административный округ                      189.0   150\n",
              "Северо-Восточный административный округ              162.5   159\n",
              "Северный административный округ                      159.0   193\n",
              "Центральный административный округ                   190.0   428"
            ],
            "text/html": [
              "\n",
              "  <div id=\"df-b85b4db8-a0ae-4e44-95a2-a590bf3d664a\">\n",
              "    <div class=\"colab-df-container\">\n",
              "      <div>\n",
              "<style scoped>\n",
              "    .dataframe tbody tr th:only-of-type {\n",
              "        vertical-align: middle;\n",
              "    }\n",
              "\n",
              "    .dataframe tbody tr th {\n",
              "        vertical-align: top;\n",
              "    }\n",
              "\n",
              "    .dataframe thead th {\n",
              "        text-align: right;\n",
              "    }\n",
              "</style>\n",
              "<table border=\"1\" class=\"dataframe\">\n",
              "  <thead>\n",
              "    <tr style=\"text-align: right;\">\n",
              "      <th></th>\n",
              "      <th>middle_coffee_cup</th>\n",
              "      <th>name</th>\n",
              "    </tr>\n",
              "    <tr>\n",
              "      <th>district</th>\n",
              "      <th></th>\n",
              "      <th></th>\n",
              "    </tr>\n",
              "  </thead>\n",
              "  <tbody>\n",
              "    <tr>\n",
              "      <th>Северо-Западный административный округ</th>\n",
              "      <td>165.0</td>\n",
              "      <td>62</td>\n",
              "    </tr>\n",
              "    <tr>\n",
              "      <th>Юго-Восточный административный округ</th>\n",
              "      <td>147.5</td>\n",
              "      <td>89</td>\n",
              "    </tr>\n",
              "    <tr>\n",
              "      <th>Юго-Западный административный округ</th>\n",
              "      <td>198.0</td>\n",
              "      <td>96</td>\n",
              "    </tr>\n",
              "    <tr>\n",
              "      <th>Восточный административный округ</th>\n",
              "      <td>135.0</td>\n",
              "      <td>105</td>\n",
              "    </tr>\n",
              "    <tr>\n",
              "      <th>Южный административный округ</th>\n",
              "      <td>150.0</td>\n",
              "      <td>131</td>\n",
              "    </tr>\n",
              "    <tr>\n",
              "      <th>Западный административный округ</th>\n",
              "      <td>189.0</td>\n",
              "      <td>150</td>\n",
              "    </tr>\n",
              "    <tr>\n",
              "      <th>Северо-Восточный административный округ</th>\n",
              "      <td>162.5</td>\n",
              "      <td>159</td>\n",
              "    </tr>\n",
              "    <tr>\n",
              "      <th>Северный административный округ</th>\n",
              "      <td>159.0</td>\n",
              "      <td>193</td>\n",
              "    </tr>\n",
              "    <tr>\n",
              "      <th>Центральный административный округ</th>\n",
              "      <td>190.0</td>\n",
              "      <td>428</td>\n",
              "    </tr>\n",
              "  </tbody>\n",
              "</table>\n",
              "</div>\n",
              "      <button class=\"colab-df-convert\" onclick=\"convertToInteractive('df-b85b4db8-a0ae-4e44-95a2-a590bf3d664a')\"\n",
              "              title=\"Convert this dataframe to an interactive table.\"\n",
              "              style=\"display:none;\">\n",
              "        \n",
              "  <svg xmlns=\"http://www.w3.org/2000/svg\" height=\"24px\"viewBox=\"0 0 24 24\"\n",
              "       width=\"24px\">\n",
              "    <path d=\"M0 0h24v24H0V0z\" fill=\"none\"/>\n",
              "    <path d=\"M18.56 5.44l.94 2.06.94-2.06 2.06-.94-2.06-.94-.94-2.06-.94 2.06-2.06.94zm-11 1L8.5 8.5l.94-2.06 2.06-.94-2.06-.94L8.5 2.5l-.94 2.06-2.06.94zm10 10l.94 2.06.94-2.06 2.06-.94-2.06-.94-.94-2.06-.94 2.06-2.06.94z\"/><path d=\"M17.41 7.96l-1.37-1.37c-.4-.4-.92-.59-1.43-.59-.52 0-1.04.2-1.43.59L10.3 9.45l-7.72 7.72c-.78.78-.78 2.05 0 2.83L4 21.41c.39.39.9.59 1.41.59.51 0 1.02-.2 1.41-.59l7.78-7.78 2.81-2.81c.8-.78.8-2.07 0-2.86zM5.41 20L4 18.59l7.72-7.72 1.47 1.35L5.41 20z\"/>\n",
              "  </svg>\n",
              "      </button>\n",
              "      \n",
              "  <style>\n",
              "    .colab-df-container {\n",
              "      display:flex;\n",
              "      flex-wrap:wrap;\n",
              "      gap: 12px;\n",
              "    }\n",
              "\n",
              "    .colab-df-convert {\n",
              "      background-color: #E8F0FE;\n",
              "      border: none;\n",
              "      border-radius: 50%;\n",
              "      cursor: pointer;\n",
              "      display: none;\n",
              "      fill: #1967D2;\n",
              "      height: 32px;\n",
              "      padding: 0 0 0 0;\n",
              "      width: 32px;\n",
              "    }\n",
              "\n",
              "    .colab-df-convert:hover {\n",
              "      background-color: #E2EBFA;\n",
              "      box-shadow: 0px 1px 2px rgba(60, 64, 67, 0.3), 0px 1px 3px 1px rgba(60, 64, 67, 0.15);\n",
              "      fill: #174EA6;\n",
              "    }\n",
              "\n",
              "    [theme=dark] .colab-df-convert {\n",
              "      background-color: #3B4455;\n",
              "      fill: #D2E3FC;\n",
              "    }\n",
              "\n",
              "    [theme=dark] .colab-df-convert:hover {\n",
              "      background-color: #434B5C;\n",
              "      box-shadow: 0px 1px 3px 1px rgba(0, 0, 0, 0.15);\n",
              "      filter: drop-shadow(0px 1px 2px rgba(0, 0, 0, 0.3));\n",
              "      fill: #FFFFFF;\n",
              "    }\n",
              "  </style>\n",
              "\n",
              "      <script>\n",
              "        const buttonEl =\n",
              "          document.querySelector('#df-b85b4db8-a0ae-4e44-95a2-a590bf3d664a button.colab-df-convert');\n",
              "        buttonEl.style.display =\n",
              "          google.colab.kernel.accessAllowed ? 'block' : 'none';\n",
              "\n",
              "        async function convertToInteractive(key) {\n",
              "          const element = document.querySelector('#df-b85b4db8-a0ae-4e44-95a2-a590bf3d664a');\n",
              "          const dataTable =\n",
              "            await google.colab.kernel.invokeFunction('convertToInteractive',\n",
              "                                                     [key], {});\n",
              "          if (!dataTable) return;\n",
              "\n",
              "          const docLinkHtml = 'Like what you see? Visit the ' +\n",
              "            '<a target=\"_blank\" href=https://colab.research.google.com/notebooks/data_table.ipynb>data table notebook</a>'\n",
              "            + ' to learn more about interactive tables.';\n",
              "          element.innerHTML = '';\n",
              "          dataTable['output_type'] = 'display_data';\n",
              "          await google.colab.output.renderOutput(dataTable, element);\n",
              "          const docLink = document.createElement('div');\n",
              "          docLink.innerHTML = docLinkHtml;\n",
              "          element.appendChild(docLink);\n",
              "        }\n",
              "      </script>\n",
              "    </div>\n",
              "  </div>\n",
              "  "
            ]
          },
          "metadata": {}
        },
        {
          "output_type": "display_data",
          "data": {
            "text/plain": [
              "<Figure size 864x432 with 1 Axes>"
            ],
            "image/png": "[encoded data removed]"
          },
          "metadata": {
            "needs_background": "light"
          }
        }
      ],
      "source": [
        "t=cafe.pivot_table(index = 'district', values=['middle_coffee_cup','name'],\\\n",
        "                 aggfunc={'middle_coffee_cup':'median','name':'count'}).sort_values(by = 'name')\n",
        "display(t)\n",
        "t.plot(kind='bar', figsize=(12,6),title='Сравнение средней цены за кофе и количества заведений',\\\n",
        "             xlabel='Район' )\n",
        "plt.xticks(rotation = 15);"
      ]
    },
    {
      "cell_type": "markdown",
      "metadata": {
        "id": "_uebERSSfncA"
      },
      "source": [
        "Выбираем не очень нагруженный район по количеству кофеен, рейтинг не учитываем, так как он примерно одинаков везде. Остановимся на Юго-Западном, так как там крайне высокая цена, и нашим преимуществом может быть цена за кофе ниже средней. Это одна из рекомендаций, далее на карте отметим маркером одно из возможных удачных мест, хорошим расположением будет рядом с парком и больницей, рядом с которыми как раз нет кофейни."
      ]
    },
    {
      "cell_type": "code",
      "execution_count": 41,
      "metadata": {
        "colab": {
          "base_uri": "https://localhost:8080/",
          "height": 720
        },
        "id": "AoWBgWC7fncA",
        "outputId": "62bd1f99-c562-4b94-8993-c58d83261bca"
      },
      "outputs": [
        {
          "output_type": "execute_result",
          "data": {
            "text/plain": [
              "<folium.folium.Map at 0x7f02d28747f0>"
            ],
            "text/html": [
              "<div style=\"width:100%;\"><div style=\"position:relative;width:100%;height:0;padding-bottom:60%;\"><span style=\"color:#565656\">Make this Notebook Trusted to load map: File -> Trust Notebook</span><iframe srcdoc=\"&lt;!DOCTYPE html&gt;\n",
              "&lt;html&gt;\n",
              "&lt;head&gt;\n",
              "    \n",
              "    &lt;meta http-equiv=&quot;content-type&quot; content=&quot;text/html; charset=UTF-8&quot; /&gt;\n",
              "    \n",
              "        &lt;script&gt;\n",
              "            L_NO_TOUCH = false;\n",
              "            L_DISABLE_3D = false;\n",
              "        &lt;/script&gt;\n",
              "    \n",
              "    &lt;style&gt;html, body {width: 100%;height: 100%;margin: 0;padding: 0;}&lt;/style&gt;\n",
              "    &lt;style&gt;#map {position:absolute;top:0;bottom:0;right:0;left:0;}&lt;/style&gt;\n",
              "    &lt;script src=&quot;https://cdn.jsdelivr.net/npm/leaflet@1.9.3/dist/leaflet.js&quot;&gt;&lt;/script&gt;\n",
              "    &lt;script src=&quot;https://code.jquery.com/jquery-1.12.4.min.js&quot;&gt;&lt;/script&gt;\n",
              "    &lt;script src=&quot;https://cdn.jsdelivr.net/npm/bootstrap@5.2.2/dist/js/bootstrap.bundle.min.js&quot;&gt;&lt;/script&gt;\n",
              "    &lt;script src=&quot;https://cdnjs.cloudflare.com/ajax/libs/Leaflet.awesome-markers/2.0.2/leaflet.awesome-markers.js&quot;&gt;&lt;/script&gt;\n",
              "    &lt;link rel=&quot;stylesheet&quot; href=&quot;https://cdn.jsdelivr.net/npm/leaflet@1.9.3/dist/leaflet.css&quot;/&gt;\n",
              "    &lt;link rel=&quot;stylesheet&quot; href=&quot;https://cdn.jsdelivr.net/npm/bootstrap@5.2.2/dist/css/bootstrap.min.css&quot;/&gt;\n",
              "    &lt;link rel=&quot;stylesheet&quot; href=&quot;https://netdna.bootstrapcdn.com/bootstrap/3.0.0/css/bootstrap.min.css&quot;/&gt;\n",
              "    &lt;link rel=&quot;stylesheet&quot; href=&quot;https://cdn.jsdelivr.net/npm/@fortawesome/fontawesome-free@6.2.0/css/all.min.css&quot;/&gt;\n",
              "    &lt;link rel=&quot;stylesheet&quot; href=&quot;https://cdnjs.cloudflare.com/ajax/libs/Leaflet.awesome-markers/2.0.2/leaflet.awesome-markers.css&quot;/&gt;\n",
              "    &lt;link rel=&quot;stylesheet&quot; href=&quot;https://cdn.jsdelivr.net/gh/python-visualization/folium/folium/templates/leaflet.awesome.rotate.min.css&quot;/&gt;\n",
              "    \n",
              "            &lt;meta name=&quot;viewport&quot; content=&quot;width=device-width,\n",
              "                initial-scale=1.0, maximum-scale=1.0, user-scalable=no&quot; /&gt;\n",
              "            &lt;style&gt;\n",
              "                #map_af8bc22c35648000ef0dbf763bf50823 {\n",
              "                    position: relative;\n",
              "                    width: 100.0%;\n",
              "                    height: 100.0%;\n",
              "                    left: 0.0%;\n",
              "                    top: 0.0%;\n",
              "                }\n",
              "                .leaflet-container { font-size: 1rem; }\n",
              "            &lt;/style&gt;\n",
              "        \n",
              "    &lt;script src=&quot;https://cdnjs.cloudflare.com/ajax/libs/leaflet.markercluster/1.1.0/leaflet.markercluster.js&quot;&gt;&lt;/script&gt;\n",
              "    &lt;link rel=&quot;stylesheet&quot; href=&quot;https://cdnjs.cloudflare.com/ajax/libs/leaflet.markercluster/1.1.0/MarkerCluster.css&quot;/&gt;\n",
              "    &lt;link rel=&quot;stylesheet&quot; href=&quot;https://cdnjs.cloudflare.com/ajax/libs/leaflet.markercluster/1.1.0/MarkerCluster.Default.css&quot;/&gt;\n",
              "&lt;/head&gt;\n",
              "&lt;body&gt;\n",
              "    \n",
              "    \n",
              "            &lt;div class=&quot;folium-map&quot; id=&quot;map_af8bc22c35648000ef0dbf763bf50823&quot; &gt;&lt;/div&gt;\n",
              "        \n",
              "&lt;/body&gt;\n",
              "&lt;script&gt;\n",
              "    \n",
              "    \n",
              "            var map_af8bc22c35648000ef0dbf763bf50823 = L.map(\n",
              "                &quot;map_af8bc22c35648000ef0dbf763bf50823&quot;,\n",
              "                {\n",
              "                    center: [55.613071, 37.531899],\n",
              "                    crs: L.CRS.EPSG3857,\n",
              "                    zoom: 15,\n",
              "                    zoomControl: true,\n",
              "                    preferCanvas: false,\n",
              "                }\n",
              "            );\n",
              "\n",
              "            \n",
              "\n",
              "        \n",
              "    \n",
              "            var tile_layer_99eb65f69a2b08e36120e8f581bfafa6 = L.tileLayer(\n",
              "                &quot;https://{s}.tile.openstreetmap.org/{z}/{x}/{y}.png&quot;,\n",
              "                {&quot;attribution&quot;: &quot;Data by \\u0026copy; \\u003ca target=\\&quot;_blank\\&quot; href=\\&quot;http://openstreetmap.org\\&quot;\\u003eOpenStreetMap\\u003c/a\\u003e, under \\u003ca target=\\&quot;_blank\\&quot; href=\\&quot;http://www.openstreetmap.org/copyright\\&quot;\\u003eODbL\\u003c/a\\u003e.&quot;, &quot;detectRetina&quot;: false, &quot;maxNativeZoom&quot;: 18, &quot;maxZoom&quot;: 18, &quot;minZoom&quot;: 0, &quot;noWrap&quot;: false, &quot;opacity&quot;: 1, &quot;subdomains&quot;: &quot;abc&quot;, &quot;tms&quot;: false}\n",
              "            ).addTo(map_af8bc22c35648000ef0dbf763bf50823);\n",
              "        \n",
              "    \n",
              "            var marker_886f9620849a5d99d7e17794fb3fa7f0 = L.marker(\n",
              "                [55.613071, 37.531899],\n",
              "                {}\n",
              "            ).addTo(map_af8bc22c35648000ef0dbf763bf50823);\n",
              "        \n",
              "    \n",
              "        var popup_460443cbb8d1973f126eefbf545727bc = L.popup({&quot;maxWidth&quot;: &quot;100%&quot;});\n",
              "\n",
              "        \n",
              "            \n",
              "                var html_ca0f4d0f209d94d66e2299ad99d91168 = $(`&lt;div id=&quot;html_ca0f4d0f209d94d66e2299ad99d91168&quot; style=&quot;width: 100.0%; height: 100.0%;&quot;&gt;Наша кофейня&lt;/div&gt;`)[0];\n",
              "                popup_460443cbb8d1973f126eefbf545727bc.setContent(html_ca0f4d0f209d94d66e2299ad99d91168);\n",
              "            \n",
              "        \n",
              "\n",
              "        marker_886f9620849a5d99d7e17794fb3fa7f0.bindPopup(popup_460443cbb8d1973f126eefbf545727bc)\n",
              "        ;\n",
              "\n",
              "        \n",
              "    \n",
              "    \n",
              "            marker_886f9620849a5d99d7e17794fb3fa7f0.bindTooltip(\n",
              "                `&lt;div&gt;\n",
              "                     Кофейня\n",
              "                 &lt;/div&gt;`,\n",
              "                {&quot;sticky&quot;: true}\n",
              "            );\n",
              "        \n",
              "    \n",
              "            var marker_cluster_e914fdee28a0351d36773308ab48f5fe = L.markerClusterGroup(\n",
              "                {}\n",
              "            );\n",
              "            map_af8bc22c35648000ef0dbf763bf50823.addLayer(marker_cluster_e914fdee28a0351d36773308ab48f5fe);\n",
              "        \n",
              "    \n",
              "            var marker_369093b6819db58d9411f2bfdad737b9 = L.marker(\n",
              "                [55.678236, 37.528582],\n",
              "                {}\n",
              "            ).addTo(marker_cluster_e914fdee28a0351d36773308ab48f5fe);\n",
              "        \n",
              "    \n",
              "        var popup_9761f9f9ab20b2122c1504ed2fb10f95 = L.popup({&quot;maxWidth&quot;: &quot;100%&quot;});\n",
              "\n",
              "        \n",
              "            \n",
              "                var html_6a68b16c391b3f16356e739fbc2dabc2 = $(`&lt;div id=&quot;html_6a68b16c391b3f16356e739fbc2dabc2&quot; style=&quot;width: 100.0%; height: 100.0%;&quot;&gt;Название Забыл&lt;/div&gt;`)[0];\n",
              "                popup_9761f9f9ab20b2122c1504ed2fb10f95.setContent(html_6a68b16c391b3f16356e739fbc2dabc2);\n",
              "            \n",
              "        \n",
              "\n",
              "        marker_369093b6819db58d9411f2bfdad737b9.bindPopup(popup_9761f9f9ab20b2122c1504ed2fb10f95)\n",
              "        ;\n",
              "\n",
              "        \n",
              "    \n",
              "    \n",
              "            var marker_ac0e4a19538e33f325e2b5ca5059128d = L.marker(\n",
              "                [55.703333, 37.573414],\n",
              "                {}\n",
              "            ).addTo(marker_cluster_e914fdee28a0351d36773308ab48f5fe);\n",
              "        \n",
              "    \n",
              "        var popup_9464f2e3f8308eb47c360c0c0dc369d4 = L.popup({&quot;maxWidth&quot;: &quot;100%&quot;});\n",
              "\n",
              "        \n",
              "            \n",
              "                var html_bcf68715ba524a1853115fa3e2410079 = $(`&lt;div id=&quot;html_bcf68715ba524a1853115fa3e2410079&quot; style=&quot;width: 100.0%; height: 100.0%;&quot;&gt;FoodMoscowCoffee&lt;/div&gt;`)[0];\n",
              "                popup_9464f2e3f8308eb47c360c0c0dc369d4.setContent(html_bcf68715ba524a1853115fa3e2410079);\n",
              "            \n",
              "        \n",
              "\n",
              "        marker_ac0e4a19538e33f325e2b5ca5059128d.bindPopup(popup_9464f2e3f8308eb47c360c0c0dc369d4)\n",
              "        ;\n",
              "\n",
              "        \n",
              "    \n",
              "    \n",
              "            var marker_2a9c0adb2e0a85e4040ef3ac2487d3a8 = L.marker(\n",
              "                [55.706335, 37.576358],\n",
              "                {}\n",
              "            ).addTo(marker_cluster_e914fdee28a0351d36773308ab48f5fe);\n",
              "        \n",
              "    \n",
              "        var popup_e0f526ff22fd4472b97eec9e76a84374 = L.popup({&quot;maxWidth&quot;: &quot;100%&quot;});\n",
              "\n",
              "        \n",
              "            \n",
              "                var html_2bcce663c342173f880d6e3fa8efaf06 = $(`&lt;div id=&quot;html_2bcce663c342173f880d6e3fa8efaf06&quot; style=&quot;width: 100.0%; height: 100.0%;&quot;&gt;Cafe Pantheon&lt;/div&gt;`)[0];\n",
              "                popup_e0f526ff22fd4472b97eec9e76a84374.setContent(html_2bcce663c342173f880d6e3fa8efaf06);\n",
              "            \n",
              "        \n",
              "\n",
              "        marker_2a9c0adb2e0a85e4040ef3ac2487d3a8.bindPopup(popup_e0f526ff22fd4472b97eec9e76a84374)\n",
              "        ;\n",
              "\n",
              "        \n",
              "    \n",
              "    \n",
              "            var marker_94324d15a454096cb392f0a9a8be1669 = L.marker(\n",
              "                [55.706723, 37.577123],\n",
              "                {}\n",
              "            ).addTo(marker_cluster_e914fdee28a0351d36773308ab48f5fe);\n",
              "        \n",
              "    \n",
              "        var popup_813198a18b9262615ecfc7699d2000cc = L.popup({&quot;maxWidth&quot;: &quot;100%&quot;});\n",
              "\n",
              "        \n",
              "            \n",
              "                var html_f3b687fd7a5bfe6487aaa276ab6be7cd = $(`&lt;div id=&quot;html_f3b687fd7a5bfe6487aaa276ab6be7cd&quot; style=&quot;width: 100.0%; height: 100.0%;&quot;&gt;Grinvich Coffee Room&lt;/div&gt;`)[0];\n",
              "                popup_813198a18b9262615ecfc7699d2000cc.setContent(html_f3b687fd7a5bfe6487aaa276ab6be7cd);\n",
              "            \n",
              "        \n",
              "\n",
              "        marker_94324d15a454096cb392f0a9a8be1669.bindPopup(popup_813198a18b9262615ecfc7699d2000cc)\n",
              "        ;\n",
              "\n",
              "        \n",
              "    \n",
              "    \n",
              "            var marker_6c52d28fb23071b22aa40c335ee9e8bd = L.marker(\n",
              "                [55.70455, 37.56998],\n",
              "                {}\n",
              "            ).addTo(marker_cluster_e914fdee28a0351d36773308ab48f5fe);\n",
              "        \n",
              "    \n",
              "        var popup_01a04fbdb2ebd889cfcf3c4b623380cc = L.popup({&quot;maxWidth&quot;: &quot;100%&quot;});\n",
              "\n",
              "        \n",
              "            \n",
              "                var html_ce7f7705372556fb6bbe6585ea901f94 = $(`&lt;div id=&quot;html_ce7f7705372556fb6bbe6585ea901f94&quot; style=&quot;width: 100.0%; height: 100.0%;&quot;&gt;Tennis Cup Кофе&lt;/div&gt;`)[0];\n",
              "                popup_01a04fbdb2ebd889cfcf3c4b623380cc.setContent(html_ce7f7705372556fb6bbe6585ea901f94);\n",
              "            \n",
              "        \n",
              "\n",
              "        marker_6c52d28fb23071b22aa40c335ee9e8bd.bindPopup(popup_01a04fbdb2ebd889cfcf3c4b623380cc)\n",
              "        ;\n",
              "\n",
              "        \n",
              "    \n",
              "    \n",
              "            var marker_518683c525782600638f580a2352e9f2 = L.marker(\n",
              "                [55.691473, 37.553486],\n",
              "                {}\n",
              "            ).addTo(marker_cluster_e914fdee28a0351d36773308ab48f5fe);\n",
              "        \n",
              "    \n",
              "        var popup_2938f00e70dddfd353f24e2ccb379d08 = L.popup({&quot;maxWidth&quot;: &quot;100%&quot;});\n",
              "\n",
              "        \n",
              "            \n",
              "                var html_7c5e700e695363431afad37a8302662a = $(`&lt;div id=&quot;html_7c5e700e695363431afad37a8302662a&quot; style=&quot;width: 100.0%; height: 100.0%;&quot;&gt;Мокка&lt;/div&gt;`)[0];\n",
              "                popup_2938f00e70dddfd353f24e2ccb379d08.setContent(html_7c5e700e695363431afad37a8302662a);\n",
              "            \n",
              "        \n",
              "\n",
              "        marker_518683c525782600638f580a2352e9f2.bindPopup(popup_2938f00e70dddfd353f24e2ccb379d08)\n",
              "        ;\n",
              "\n",
              "        \n",
              "    \n",
              "    \n",
              "            var marker_7dabe6224f2838f69cbabf5b728f233d = L.marker(\n",
              "                [55.693511, 37.5575],\n",
              "                {}\n",
              "            ).addTo(marker_cluster_e914fdee28a0351d36773308ab48f5fe);\n",
              "        \n",
              "    \n",
              "        var popup_a9ed29f6302257a6bf9dcf786606f4da = L.popup({&quot;maxWidth&quot;: &quot;100%&quot;});\n",
              "\n",
              "        \n",
              "            \n",
              "                var html_27d90c1972f2c1fca193ac65e5b5d4fc = $(`&lt;div id=&quot;html_27d90c1972f2c1fca193ac65e5b5d4fc&quot; style=&quot;width: 100.0%; height: 100.0%;&quot;&gt;Surf Coffee x Lips&lt;/div&gt;`)[0];\n",
              "                popup_a9ed29f6302257a6bf9dcf786606f4da.setContent(html_27d90c1972f2c1fca193ac65e5b5d4fc);\n",
              "            \n",
              "        \n",
              "\n",
              "        marker_7dabe6224f2838f69cbabf5b728f233d.bindPopup(popup_a9ed29f6302257a6bf9dcf786606f4da)\n",
              "        ;\n",
              "\n",
              "        \n",
              "    \n",
              "    \n",
              "            var marker_b942ceb171cab159b84687a0365a9940 = L.marker(\n",
              "                [55.701997, 37.580873],\n",
              "                {}\n",
              "            ).addTo(marker_cluster_e914fdee28a0351d36773308ab48f5fe);\n",
              "        \n",
              "    \n",
              "        var popup_817f78c2faf0fabe7f886f41005d13dd = L.popup({&quot;maxWidth&quot;: &quot;100%&quot;});\n",
              "\n",
              "        \n",
              "            \n",
              "                var html_c0b8d34f1ac6d5c726b0ff36fce80c86 = $(`&lt;div id=&quot;html_c0b8d34f1ac6d5c726b0ff36fce80c86&quot; style=&quot;width: 100.0%; height: 100.0%;&quot;&gt;Синкопа&lt;/div&gt;`)[0];\n",
              "                popup_817f78c2faf0fabe7f886f41005d13dd.setContent(html_c0b8d34f1ac6d5c726b0ff36fce80c86);\n",
              "            \n",
              "        \n",
              "\n",
              "        marker_b942ceb171cab159b84687a0365a9940.bindPopup(popup_817f78c2faf0fabe7f886f41005d13dd)\n",
              "        ;\n",
              "\n",
              "        \n",
              "    \n",
              "    \n",
              "            var marker_0527e4c75fed0e35c2e2148635bafd1e = L.marker(\n",
              "                [55.682725, 37.561794],\n",
              "                {}\n",
              "            ).addTo(marker_cluster_e914fdee28a0351d36773308ab48f5fe);\n",
              "        \n",
              "    \n",
              "        var popup_d5500bf7076683624a53301ccefd2fc5 = L.popup({&quot;maxWidth&quot;: &quot;100%&quot;});\n",
              "\n",
              "        \n",
              "            \n",
              "                var html_d3455abeaa23f2986b9a09130da1c63d = $(`&lt;div id=&quot;html_d3455abeaa23f2986b9a09130da1c63d&quot; style=&quot;width: 100.0%; height: 100.0%;&quot;&gt;G. Bakery8&lt;/div&gt;`)[0];\n",
              "                popup_d5500bf7076683624a53301ccefd2fc5.setContent(html_d3455abeaa23f2986b9a09130da1c63d);\n",
              "            \n",
              "        \n",
              "\n",
              "        marker_0527e4c75fed0e35c2e2148635bafd1e.bindPopup(popup_d5500bf7076683624a53301ccefd2fc5)\n",
              "        ;\n",
              "\n",
              "        \n",
              "    \n",
              "    \n",
              "            var marker_c2eb2048de376c819f437a897ef1d7e6 = L.marker(\n",
              "                [55.684079, 37.582792],\n",
              "                {}\n",
              "            ).addTo(marker_cluster_e914fdee28a0351d36773308ab48f5fe);\n",
              "        \n",
              "    \n",
              "        var popup_b92c64c721ee8383e89d407b1a30a401 = L.popup({&quot;maxWidth&quot;: &quot;100%&quot;});\n",
              "\n",
              "        \n",
              "            \n",
              "                var html_6998ed0fd120b1a33b82e92c7c4aa52a = $(`&lt;div id=&quot;html_6998ed0fd120b1a33b82e92c7c4aa52a&quot; style=&quot;width: 100.0%; height: 100.0%;&quot;&gt;Печорин&lt;/div&gt;`)[0];\n",
              "                popup_b92c64c721ee8383e89d407b1a30a401.setContent(html_6998ed0fd120b1a33b82e92c7c4aa52a);\n",
              "            \n",
              "        \n",
              "\n",
              "        marker_c2eb2048de376c819f437a897ef1d7e6.bindPopup(popup_b92c64c721ee8383e89d407b1a30a401)\n",
              "        ;\n",
              "\n",
              "        \n",
              "    \n",
              "    \n",
              "            var marker_392d762c22eb12410d9480a94ae3bc59 = L.marker(\n",
              "                [55.692256, 37.561743],\n",
              "                {}\n",
              "            ).addTo(marker_cluster_e914fdee28a0351d36773308ab48f5fe);\n",
              "        \n",
              "    \n",
              "        var popup_c53cc19d5b93bc6135913045843a5b80 = L.popup({&quot;maxWidth&quot;: &quot;100%&quot;});\n",
              "\n",
              "        \n",
              "            \n",
              "                var html_4dd15a531789435b8ccf51c9dd8b1afb = $(`&lt;div id=&quot;html_4dd15a531789435b8ccf51c9dd8b1afb&quot; style=&quot;width: 100.0%; height: 100.0%;&quot;&gt;Coffeebrain&lt;/div&gt;`)[0];\n",
              "                popup_c53cc19d5b93bc6135913045843a5b80.setContent(html_4dd15a531789435b8ccf51c9dd8b1afb);\n",
              "            \n",
              "        \n",
              "\n",
              "        marker_392d762c22eb12410d9480a94ae3bc59.bindPopup(popup_c53cc19d5b93bc6135913045843a5b80)\n",
              "        ;\n",
              "\n",
              "        \n",
              "    \n",
              "    \n",
              "            var marker_f1feb95ea7a0493bcb55f53da49eefa0 = L.marker(\n",
              "                [55.697366, 37.553118],\n",
              "                {}\n",
              "            ).addTo(marker_cluster_e914fdee28a0351d36773308ab48f5fe);\n",
              "        \n",
              "    \n",
              "        var popup_5efc50723119928d88e0ebeb24965424 = L.popup({&quot;maxWidth&quot;: &quot;100%&quot;});\n",
              "\n",
              "        \n",
              "            \n",
              "                var html_511be6fc430facc401728844f24096dd = $(`&lt;div id=&quot;html_511be6fc430facc401728844f24096dd&quot; style=&quot;width: 100.0%; height: 100.0%;&quot;&gt;Скалка&lt;/div&gt;`)[0];\n",
              "                popup_5efc50723119928d88e0ebeb24965424.setContent(html_511be6fc430facc401728844f24096dd);\n",
              "            \n",
              "        \n",
              "\n",
              "        marker_f1feb95ea7a0493bcb55f53da49eefa0.bindPopup(popup_5efc50723119928d88e0ebeb24965424)\n",
              "        ;\n",
              "\n",
              "        \n",
              "    \n",
              "    \n",
              "            var marker_4c5bedd1495e141e1be822f99d116920 = L.marker(\n",
              "                [55.696065, 37.546515],\n",
              "                {}\n",
              "            ).addTo(marker_cluster_e914fdee28a0351d36773308ab48f5fe);\n",
              "        \n",
              "    \n",
              "        var popup_5accd3c05491a77872cdd54263e9b983 = L.popup({&quot;maxWidth&quot;: &quot;100%&quot;});\n",
              "\n",
              "        \n",
              "            \n",
              "                var html_3997e0c624de562db293180b00f0d8f2 = $(`&lt;div id=&quot;html_3997e0c624de562db293180b00f0d8f2&quot; style=&quot;width: 100.0%; height: 100.0%;&quot;&gt;White Fox Cafe&lt;/div&gt;`)[0];\n",
              "                popup_5accd3c05491a77872cdd54263e9b983.setContent(html_3997e0c624de562db293180b00f0d8f2);\n",
              "            \n",
              "        \n",
              "\n",
              "        marker_4c5bedd1495e141e1be822f99d116920.bindPopup(popup_5accd3c05491a77872cdd54263e9b983)\n",
              "        ;\n",
              "\n",
              "        \n",
              "    \n",
              "    \n",
              "            var marker_3fbca4fd73ecf4cc75f6707c0297dd80 = L.marker(\n",
              "                [55.687877, 37.604205],\n",
              "                {}\n",
              "            ).addTo(marker_cluster_e914fdee28a0351d36773308ab48f5fe);\n",
              "        \n",
              "    \n",
              "        var popup_c24f568a6ef89486886b79e382237299 = L.popup({&quot;maxWidth&quot;: &quot;100%&quot;});\n",
              "\n",
              "        \n",
              "            \n",
              "                var html_976af01b0d16c85bc70377cab8bf1629 = $(`&lt;div id=&quot;html_976af01b0d16c85bc70377cab8bf1629&quot; style=&quot;width: 100.0%; height: 100.0%;&quot;&gt;Pho Capu&lt;/div&gt;`)[0];\n",
              "                popup_c24f568a6ef89486886b79e382237299.setContent(html_976af01b0d16c85bc70377cab8bf1629);\n",
              "            \n",
              "        \n",
              "\n",
              "        marker_3fbca4fd73ecf4cc75f6707c0297dd80.bindPopup(popup_c24f568a6ef89486886b79e382237299)\n",
              "        ;\n",
              "\n",
              "        \n",
              "    \n",
              "    \n",
              "            var marker_81731d6dc0341576866b7e977009c376 = L.marker(\n",
              "                [55.684785, 37.580097],\n",
              "                {}\n",
              "            ).addTo(marker_cluster_e914fdee28a0351d36773308ab48f5fe);\n",
              "        \n",
              "    \n",
              "        var popup_1f3a08afd446073302cbe479bc14a20b = L.popup({&quot;maxWidth&quot;: &quot;100%&quot;});\n",
              "\n",
              "        \n",
              "            \n",
              "                var html_fe0be8e297a0a400f68611a13994437b = $(`&lt;div id=&quot;html_fe0be8e297a0a400f68611a13994437b&quot; style=&quot;width: 100.0%; height: 100.0%;&quot;&gt;Мы за кофе&lt;/div&gt;`)[0];\n",
              "                popup_1f3a08afd446073302cbe479bc14a20b.setContent(html_fe0be8e297a0a400f68611a13994437b);\n",
              "            \n",
              "        \n",
              "\n",
              "        marker_81731d6dc0341576866b7e977009c376.bindPopup(popup_1f3a08afd446073302cbe479bc14a20b)\n",
              "        ;\n",
              "\n",
              "        \n",
              "    \n",
              "    \n",
              "            var marker_b8e0935dd45ca0d66f7c294f40ba5031 = L.marker(\n",
              "                [55.700177, 37.57994],\n",
              "                {}\n",
              "            ).addTo(marker_cluster_e914fdee28a0351d36773308ab48f5fe);\n",
              "        \n",
              "    \n",
              "        var popup_b4cc11474e9270f0342c83b14aacfb1d = L.popup({&quot;maxWidth&quot;: &quot;100%&quot;});\n",
              "\n",
              "        \n",
              "            \n",
              "                var html_033e54f1675972e2392867ebf52f75df = $(`&lt;div id=&quot;html_033e54f1675972e2392867ebf52f75df&quot; style=&quot;width: 100.0%; height: 100.0%;&quot;&gt;Живое кафе&lt;/div&gt;`)[0];\n",
              "                popup_b4cc11474e9270f0342c83b14aacfb1d.setContent(html_033e54f1675972e2392867ebf52f75df);\n",
              "            \n",
              "        \n",
              "\n",
              "        marker_b8e0935dd45ca0d66f7c294f40ba5031.bindPopup(popup_b4cc11474e9270f0342c83b14aacfb1d)\n",
              "        ;\n",
              "\n",
              "        \n",
              "    \n",
              "    \n",
              "            var marker_0202be779b0ab22cb37aacc08c46fba1 = L.marker(\n",
              "                [55.687178, 37.573645],\n",
              "                {}\n",
              "            ).addTo(marker_cluster_e914fdee28a0351d36773308ab48f5fe);\n",
              "        \n",
              "    \n",
              "        var popup_2ec844452cba3ac3b3b50060c5fee5bf = L.popup({&quot;maxWidth&quot;: &quot;100%&quot;});\n",
              "\n",
              "        \n",
              "            \n",
              "                var html_aa999237e7188879edfcd2dae3aaa1e4 = $(`&lt;div id=&quot;html_aa999237e7188879edfcd2dae3aaa1e4&quot; style=&quot;width: 100.0%; height: 100.0%;&quot;&gt;Шоколадница&lt;/div&gt;`)[0];\n",
              "                popup_2ec844452cba3ac3b3b50060c5fee5bf.setContent(html_aa999237e7188879edfcd2dae3aaa1e4);\n",
              "            \n",
              "        \n",
              "\n",
              "        marker_0202be779b0ab22cb37aacc08c46fba1.bindPopup(popup_2ec844452cba3ac3b3b50060c5fee5bf)\n",
              "        ;\n",
              "\n",
              "        \n",
              "    \n",
              "    \n",
              "            var marker_079a3a747ffd89a667ee13222521ab14 = L.marker(\n",
              "                [55.678665, 37.56433],\n",
              "                {}\n",
              "            ).addTo(marker_cluster_e914fdee28a0351d36773308ab48f5fe);\n",
              "        \n",
              "    \n",
              "        var popup_b7886120c2f1aace7ed4a2d550b404f4 = L.popup({&quot;maxWidth&quot;: &quot;100%&quot;});\n",
              "\n",
              "        \n",
              "            \n",
              "                var html_51c037f47edc71ec9d564c2b41adf8a3 = $(`&lt;div id=&quot;html_51c037f47edc71ec9d564c2b41adf8a3&quot; style=&quot;width: 100.0%; height: 100.0%;&quot;&gt;Шоколадница&lt;/div&gt;`)[0];\n",
              "                popup_b7886120c2f1aace7ed4a2d550b404f4.setContent(html_51c037f47edc71ec9d564c2b41adf8a3);\n",
              "            \n",
              "        \n",
              "\n",
              "        marker_079a3a747ffd89a667ee13222521ab14.bindPopup(popup_b7886120c2f1aace7ed4a2d550b404f4)\n",
              "        ;\n",
              "\n",
              "        \n",
              "    \n",
              "    \n",
              "            var marker_e68dd45f5363313f06f6a1b1d5d4a698 = L.marker(\n",
              "                [55.68277, 37.571482],\n",
              "                {}\n",
              "            ).addTo(marker_cluster_e914fdee28a0351d36773308ab48f5fe);\n",
              "        \n",
              "    \n",
              "        var popup_2aae482d3079c0fc728984a73c5ef0ae = L.popup({&quot;maxWidth&quot;: &quot;100%&quot;});\n",
              "\n",
              "        \n",
              "            \n",
              "                var html_59311fc410529913b30b09b829c2ca54 = $(`&lt;div id=&quot;html_59311fc410529913b30b09b829c2ca54&quot; style=&quot;width: 100.0%; height: 100.0%;&quot;&gt;Капучино Кидс&lt;/div&gt;`)[0];\n",
              "                popup_2aae482d3079c0fc728984a73c5ef0ae.setContent(html_59311fc410529913b30b09b829c2ca54);\n",
              "            \n",
              "        \n",
              "\n",
              "        marker_e68dd45f5363313f06f6a1b1d5d4a698.bindPopup(popup_2aae482d3079c0fc728984a73c5ef0ae)\n",
              "        ;\n",
              "\n",
              "        \n",
              "    \n",
              "    \n",
              "            var marker_8174b25355f9e6a1118827bf7c68c242 = L.marker(\n",
              "                [55.684315, 37.550015],\n",
              "                {}\n",
              "            ).addTo(marker_cluster_e914fdee28a0351d36773308ab48f5fe);\n",
              "        \n",
              "    \n",
              "        var popup_cc5cfd5aa4fbd3692ca858314bafc507 = L.popup({&quot;maxWidth&quot;: &quot;100%&quot;});\n",
              "\n",
              "        \n",
              "            \n",
              "                var html_45def0dc5dd045a03c8aa9a8e0ed9f04 = $(`&lt;div id=&quot;html_45def0dc5dd045a03c8aa9a8e0ed9f04&quot; style=&quot;width: 100.0%; height: 100.0%;&quot;&gt;Кофемания&lt;/div&gt;`)[0];\n",
              "                popup_cc5cfd5aa4fbd3692ca858314bafc507.setContent(html_45def0dc5dd045a03c8aa9a8e0ed9f04);\n",
              "            \n",
              "        \n",
              "\n",
              "        marker_8174b25355f9e6a1118827bf7c68c242.bindPopup(popup_cc5cfd5aa4fbd3692ca858314bafc507)\n",
              "        ;\n",
              "\n",
              "        \n",
              "    \n",
              "    \n",
              "            var marker_db6d9b3896407164ffbb38a54f3126e6 = L.marker(\n",
              "                [55.685879, 37.541126],\n",
              "                {}\n",
              "            ).addTo(marker_cluster_e914fdee28a0351d36773308ab48f5fe);\n",
              "        \n",
              "    \n",
              "        var popup_285b531d9179d61fd6903dfa36b15d63 = L.popup({&quot;maxWidth&quot;: &quot;100%&quot;});\n",
              "\n",
              "        \n",
              "            \n",
              "                var html_98a4fb2750b02d2cd7b2b567e1c2469b = $(`&lt;div id=&quot;html_98a4fb2750b02d2cd7b2b567e1c2469b&quot; style=&quot;width: 100.0%; height: 100.0%;&quot;&gt;Coffee Garden&lt;/div&gt;`)[0];\n",
              "                popup_285b531d9179d61fd6903dfa36b15d63.setContent(html_98a4fb2750b02d2cd7b2b567e1c2469b);\n",
              "            \n",
              "        \n",
              "\n",
              "        marker_db6d9b3896407164ffbb38a54f3126e6.bindPopup(popup_285b531d9179d61fd6903dfa36b15d63)\n",
              "        ;\n",
              "\n",
              "        \n",
              "    \n",
              "    \n",
              "            var marker_2faa7bf19d41ee25f634dde604bc65ad = L.marker(\n",
              "                [55.686836, 37.573108],\n",
              "                {}\n",
              "            ).addTo(marker_cluster_e914fdee28a0351d36773308ab48f5fe);\n",
              "        \n",
              "    \n",
              "        var popup_4103574243d90f57b706126d2f8e29f0 = L.popup({&quot;maxWidth&quot;: &quot;100%&quot;});\n",
              "\n",
              "        \n",
              "            \n",
              "                var html_6d31df46f6f31137d6cdd90fd664dc55 = $(`&lt;div id=&quot;html_6d31df46f6f31137d6cdd90fd664dc55&quot; style=&quot;width: 100.0%; height: 100.0%;&quot;&gt;Ride the coffee&lt;/div&gt;`)[0];\n",
              "                popup_4103574243d90f57b706126d2f8e29f0.setContent(html_6d31df46f6f31137d6cdd90fd664dc55);\n",
              "            \n",
              "        \n",
              "\n",
              "        marker_2faa7bf19d41ee25f634dde604bc65ad.bindPopup(popup_4103574243d90f57b706126d2f8e29f0)\n",
              "        ;\n",
              "\n",
              "        \n",
              "    \n",
              "    \n",
              "            var marker_c9c20129b3e1f52dce5d40687be58b56 = L.marker(\n",
              "                [55.69865, 37.580109],\n",
              "                {}\n",
              "            ).addTo(marker_cluster_e914fdee28a0351d36773308ab48f5fe);\n",
              "        \n",
              "    \n",
              "        var popup_979299ceb9d5b37937ab126f575d83d2 = L.popup({&quot;maxWidth&quot;: &quot;100%&quot;});\n",
              "\n",
              "        \n",
              "            \n",
              "                var html_b18c5267f4498fe2c265588fede9382d = $(`&lt;div id=&quot;html_b18c5267f4498fe2c265588fede9382d&quot; style=&quot;width: 100.0%; height: 100.0%;&quot;&gt;Академическое&lt;/div&gt;`)[0];\n",
              "                popup_979299ceb9d5b37937ab126f575d83d2.setContent(html_b18c5267f4498fe2c265588fede9382d);\n",
              "            \n",
              "        \n",
              "\n",
              "        marker_c9c20129b3e1f52dce5d40687be58b56.bindPopup(popup_979299ceb9d5b37937ab126f575d83d2)\n",
              "        ;\n",
              "\n",
              "        \n",
              "    \n",
              "    \n",
              "            var marker_72a301ac22c5f360785c978517483e6a = L.marker(\n",
              "                [55.699385, 37.563913],\n",
              "                {}\n",
              "            ).addTo(marker_cluster_e914fdee28a0351d36773308ab48f5fe);\n",
              "        \n",
              "    \n",
              "        var popup_a9a5c65562af522aaa93685034f66c86 = L.popup({&quot;maxWidth&quot;: &quot;100%&quot;});\n",
              "\n",
              "        \n",
              "            \n",
              "                var html_e7cad83220c601a643fcef30820bfcdf = $(`&lt;div id=&quot;html_e7cad83220c601a643fcef30820bfcdf&quot; style=&quot;width: 100.0%; height: 100.0%;&quot;&gt;Чудокофф&lt;/div&gt;`)[0];\n",
              "                popup_a9a5c65562af522aaa93685034f66c86.setContent(html_e7cad83220c601a643fcef30820bfcdf);\n",
              "            \n",
              "        \n",
              "\n",
              "        marker_72a301ac22c5f360785c978517483e6a.bindPopup(popup_a9a5c65562af522aaa93685034f66c86)\n",
              "        ;\n",
              "\n",
              "        \n",
              "    \n",
              "    \n",
              "            var marker_8e237bac79ff0ed8ef5f676ad32d0edc = L.marker(\n",
              "                [55.685375, 37.542427],\n",
              "                {}\n",
              "            ).addTo(marker_cluster_e914fdee28a0351d36773308ab48f5fe);\n",
              "        \n",
              "    \n",
              "        var popup_96604bb9f7c337575869a481af6b1b05 = L.popup({&quot;maxWidth&quot;: &quot;100%&quot;});\n",
              "\n",
              "        \n",
              "            \n",
              "                var html_c2f9e8dc406fd06ced40117a8a9732d6 = $(`&lt;div id=&quot;html_c2f9e8dc406fd06ced40117a8a9732d6&quot; style=&quot;width: 100.0%; height: 100.0%;&quot;&gt;Новатор Кофе&lt;/div&gt;`)[0];\n",
              "                popup_96604bb9f7c337575869a481af6b1b05.setContent(html_c2f9e8dc406fd06ced40117a8a9732d6);\n",
              "            \n",
              "        \n",
              "\n",
              "        marker_8e237bac79ff0ed8ef5f676ad32d0edc.bindPopup(popup_96604bb9f7c337575869a481af6b1b05)\n",
              "        ;\n",
              "\n",
              "        \n",
              "    \n",
              "    \n",
              "            var marker_b9193fae51dc36c398ee25b496cac425 = L.marker(\n",
              "                [55.692792, 37.55243],\n",
              "                {}\n",
              "            ).addTo(marker_cluster_e914fdee28a0351d36773308ab48f5fe);\n",
              "        \n",
              "    \n",
              "        var popup_f9a001abc83665edddccd911f580af17 = L.popup({&quot;maxWidth&quot;: &quot;100%&quot;});\n",
              "\n",
              "        \n",
              "            \n",
              "                var html_298ab7dd2d9cde583b836bb3fd0eabd2 = $(`&lt;div id=&quot;html_298ab7dd2d9cde583b836bb3fd0eabd2&quot; style=&quot;width: 100.0%; height: 100.0%;&quot;&gt;P&#x27;berry&lt;/div&gt;`)[0];\n",
              "                popup_f9a001abc83665edddccd911f580af17.setContent(html_298ab7dd2d9cde583b836bb3fd0eabd2);\n",
              "            \n",
              "        \n",
              "\n",
              "        marker_b9193fae51dc36c398ee25b496cac425.bindPopup(popup_f9a001abc83665edddccd911f580af17)\n",
              "        ;\n",
              "\n",
              "        \n",
              "    \n",
              "    \n",
              "            var marker_75a29334b6b14a7b76d9e724b1a32ac2 = L.marker(\n",
              "                [55.689117, 37.545799],\n",
              "                {}\n",
              "            ).addTo(marker_cluster_e914fdee28a0351d36773308ab48f5fe);\n",
              "        \n",
              "    \n",
              "        var popup_5f4e1f045507790817b70aa44973d26f = L.popup({&quot;maxWidth&quot;: &quot;100%&quot;});\n",
              "\n",
              "        \n",
              "            \n",
              "                var html_54f34f5436996e3384daa185661fdda8 = $(`&lt;div id=&quot;html_54f34f5436996e3384daa185661fdda8&quot; style=&quot;width: 100.0%; height: 100.0%;&quot;&gt;Шоколадница&lt;/div&gt;`)[0];\n",
              "                popup_5f4e1f045507790817b70aa44973d26f.setContent(html_54f34f5436996e3384daa185661fdda8);\n",
              "            \n",
              "        \n",
              "\n",
              "        marker_75a29334b6b14a7b76d9e724b1a32ac2.bindPopup(popup_5f4e1f045507790817b70aa44973d26f)\n",
              "        ;\n",
              "\n",
              "        \n",
              "    \n",
              "    \n",
              "            var marker_58758e262adc7194e817a4455e201b27 = L.marker(\n",
              "                [55.678635, 37.564294],\n",
              "                {}\n",
              "            ).addTo(marker_cluster_e914fdee28a0351d36773308ab48f5fe);\n",
              "        \n",
              "    \n",
              "        var popup_3925c1e78d3ea810dc7d0f13f0f912e5 = L.popup({&quot;maxWidth&quot;: &quot;100%&quot;});\n",
              "\n",
              "        \n",
              "            \n",
              "                var html_1e4089f266a890c6b719efc259396148 = $(`&lt;div id=&quot;html_1e4089f266a890c6b719efc259396148&quot; style=&quot;width: 100.0%; height: 100.0%;&quot;&gt;Север-Метрополь&lt;/div&gt;`)[0];\n",
              "                popup_3925c1e78d3ea810dc7d0f13f0f912e5.setContent(html_1e4089f266a890c6b719efc259396148);\n",
              "            \n",
              "        \n",
              "\n",
              "        marker_58758e262adc7194e817a4455e201b27.bindPopup(popup_3925c1e78d3ea810dc7d0f13f0f912e5)\n",
              "        ;\n",
              "\n",
              "        \n",
              "    \n",
              "    \n",
              "            var marker_0fded8fd250f3f6f1124c2fe7bbf2eaf = L.marker(\n",
              "                [55.678458, 37.564257],\n",
              "                {}\n",
              "            ).addTo(marker_cluster_e914fdee28a0351d36773308ab48f5fe);\n",
              "        \n",
              "    \n",
              "        var popup_cc1a37129c9fba41d6b4d6463ff56ba5 = L.popup({&quot;maxWidth&quot;: &quot;100%&quot;});\n",
              "\n",
              "        \n",
              "            \n",
              "                var html_985b92b0dda739cc71ac09d1d1ead055 = $(`&lt;div id=&quot;html_985b92b0dda739cc71ac09d1d1ead055&quot; style=&quot;width: 100.0%; height: 100.0%;&quot;&gt;Cofix&lt;/div&gt;`)[0];\n",
              "                popup_cc1a37129c9fba41d6b4d6463ff56ba5.setContent(html_985b92b0dda739cc71ac09d1d1ead055);\n",
              "            \n",
              "        \n",
              "\n",
              "        marker_0fded8fd250f3f6f1124c2fe7bbf2eaf.bindPopup(popup_cc1a37129c9fba41d6b4d6463ff56ba5)\n",
              "        ;\n",
              "\n",
              "        \n",
              "    \n",
              "    \n",
              "            var marker_a6a14a700f1fcfe9585ddd906cdeda9b = L.marker(\n",
              "                [55.680031, 37.534967],\n",
              "                {}\n",
              "            ).addTo(marker_cluster_e914fdee28a0351d36773308ab48f5fe);\n",
              "        \n",
              "    \n",
              "        var popup_8d17849cdf8d7e612cb25fb0fdb92829 = L.popup({&quot;maxWidth&quot;: &quot;100%&quot;});\n",
              "\n",
              "        \n",
              "            \n",
              "                var html_c796b9dc005452b7ae680de6b54c3855 = $(`&lt;div id=&quot;html_c796b9dc005452b7ae680de6b54c3855&quot; style=&quot;width: 100.0%; height: 100.0%;&quot;&gt;Новатор кофе&lt;/div&gt;`)[0];\n",
              "                popup_8d17849cdf8d7e612cb25fb0fdb92829.setContent(html_c796b9dc005452b7ae680de6b54c3855);\n",
              "            \n",
              "        \n",
              "\n",
              "        marker_a6a14a700f1fcfe9585ddd906cdeda9b.bindPopup(popup_8d17849cdf8d7e612cb25fb0fdb92829)\n",
              "        ;\n",
              "\n",
              "        \n",
              "    \n",
              "    \n",
              "            var marker_b4cee528f266f3d2e2de9ef12b6cffcc = L.marker(\n",
              "                [55.683918, 37.550079],\n",
              "                {}\n",
              "            ).addTo(marker_cluster_e914fdee28a0351d36773308ab48f5fe);\n",
              "        \n",
              "    \n",
              "        var popup_df88b06b9d2dd5fb6fc2df952c1a6a74 = L.popup({&quot;maxWidth&quot;: &quot;100%&quot;});\n",
              "\n",
              "        \n",
              "            \n",
              "                var html_7e9c2d42a9d409c53b6ab9b5a2e5517a = $(`&lt;div id=&quot;html_7e9c2d42a9d409c53b6ab9b5a2e5517a&quot; style=&quot;width: 100.0%; height: 100.0%;&quot;&gt;One Price Coffee&lt;/div&gt;`)[0];\n",
              "                popup_df88b06b9d2dd5fb6fc2df952c1a6a74.setContent(html_7e9c2d42a9d409c53b6ab9b5a2e5517a);\n",
              "            \n",
              "        \n",
              "\n",
              "        marker_b4cee528f266f3d2e2de9ef12b6cffcc.bindPopup(popup_df88b06b9d2dd5fb6fc2df952c1a6a74)\n",
              "        ;\n",
              "\n",
              "        \n",
              "    \n",
              "    \n",
              "            var marker_59619bb3d77b3eedb0c91a12a2013615 = L.marker(\n",
              "                [55.69177, 37.539787],\n",
              "                {}\n",
              "            ).addTo(marker_cluster_e914fdee28a0351d36773308ab48f5fe);\n",
              "        \n",
              "    \n",
              "        var popup_e6dcca2ef48fb8b04fe82937a3131e14 = L.popup({&quot;maxWidth&quot;: &quot;100%&quot;});\n",
              "\n",
              "        \n",
              "            \n",
              "                var html_f14864b5f163bd4a2ce4d848809bd7ee = $(`&lt;div id=&quot;html_f14864b5f163bd4a2ce4d848809bd7ee&quot; style=&quot;width: 100.0%; height: 100.0%;&quot;&gt;Кофе-лавка Стол&lt;/div&gt;`)[0];\n",
              "                popup_e6dcca2ef48fb8b04fe82937a3131e14.setContent(html_f14864b5f163bd4a2ce4d848809bd7ee);\n",
              "            \n",
              "        \n",
              "\n",
              "        marker_59619bb3d77b3eedb0c91a12a2013615.bindPopup(popup_e6dcca2ef48fb8b04fe82937a3131e14)\n",
              "        ;\n",
              "\n",
              "        \n",
              "    \n",
              "    \n",
              "            var marker_0ebbdf0e384c1561951368bc2e083c86 = L.marker(\n",
              "                [55.689865, 37.602977],\n",
              "                {}\n",
              "            ).addTo(marker_cluster_e914fdee28a0351d36773308ab48f5fe);\n",
              "        \n",
              "    \n",
              "        var popup_d697b6b58f70a448b75182a9b8ed7afc = L.popup({&quot;maxWidth&quot;: &quot;100%&quot;});\n",
              "\n",
              "        \n",
              "            \n",
              "                var html_cdfd6f74568672f71815e46e04486ec9 = $(`&lt;div id=&quot;html_cdfd6f74568672f71815e46e04486ec9&quot; style=&quot;width: 100.0%; height: 100.0%;&quot;&gt;Шоколадница&lt;/div&gt;`)[0];\n",
              "                popup_d697b6b58f70a448b75182a9b8ed7afc.setContent(html_cdfd6f74568672f71815e46e04486ec9);\n",
              "            \n",
              "        \n",
              "\n",
              "        marker_0ebbdf0e384c1561951368bc2e083c86.bindPopup(popup_d697b6b58f70a448b75182a9b8ed7afc)\n",
              "        ;\n",
              "\n",
              "        \n",
              "    \n",
              "    \n",
              "            var marker_7695dcf8aac17b0d6f729a4c512a7708 = L.marker(\n",
              "                [55.688979, 37.536877],\n",
              "                {}\n",
              "            ).addTo(marker_cluster_e914fdee28a0351d36773308ab48f5fe);\n",
              "        \n",
              "    \n",
              "        var popup_84098f3080d05feac437370435db16fc = L.popup({&quot;maxWidth&quot;: &quot;100%&quot;});\n",
              "\n",
              "        \n",
              "            \n",
              "                var html_aa09dc678a413eb8326378419eb8b338 = $(`&lt;div id=&quot;html_aa09dc678a413eb8326378419eb8b338&quot; style=&quot;width: 100.0%; height: 100.0%;&quot;&gt;Nado Coffee&lt;/div&gt;`)[0];\n",
              "                popup_84098f3080d05feac437370435db16fc.setContent(html_aa09dc678a413eb8326378419eb8b338);\n",
              "            \n",
              "        \n",
              "\n",
              "        marker_7695dcf8aac17b0d6f729a4c512a7708.bindPopup(popup_84098f3080d05feac437370435db16fc)\n",
              "        ;\n",
              "\n",
              "        \n",
              "    \n",
              "    \n",
              "            var marker_1996115f9d755ce7494d8ea7c93dcb6c = L.marker(\n",
              "                [55.677407, 37.565577],\n",
              "                {}\n",
              "            ).addTo(marker_cluster_e914fdee28a0351d36773308ab48f5fe);\n",
              "        \n",
              "    \n",
              "        var popup_fcc380e46f8e25d6c7e26691d2e21717 = L.popup({&quot;maxWidth&quot;: &quot;100%&quot;});\n",
              "\n",
              "        \n",
              "            \n",
              "                var html_c7cfcacf946579d4590c419f0a634bcc = $(`&lt;div id=&quot;html_c7cfcacf946579d4590c419f0a634bcc&quot; style=&quot;width: 100.0%; height: 100.0%;&quot;&gt;НоуКофе&lt;/div&gt;`)[0];\n",
              "                popup_fcc380e46f8e25d6c7e26691d2e21717.setContent(html_c7cfcacf946579d4590c419f0a634bcc);\n",
              "            \n",
              "        \n",
              "\n",
              "        marker_1996115f9d755ce7494d8ea7c93dcb6c.bindPopup(popup_fcc380e46f8e25d6c7e26691d2e21717)\n",
              "        ;\n",
              "\n",
              "        \n",
              "    \n",
              "    \n",
              "            var marker_2eaecdc8842df7b5779f2503065c808c = L.marker(\n",
              "                [55.690351, 37.60201],\n",
              "                {}\n",
              "            ).addTo(marker_cluster_e914fdee28a0351d36773308ab48f5fe);\n",
              "        \n",
              "    \n",
              "        var popup_b3dc1484b9b4f786dc095c4d2e56527f = L.popup({&quot;maxWidth&quot;: &quot;100%&quot;});\n",
              "\n",
              "        \n",
              "            \n",
              "                var html_6cd5a462e40f6b22958b052b198ecced = $(`&lt;div id=&quot;html_6cd5a462e40f6b22958b052b198ecced&quot; style=&quot;width: 100.0%; height: 100.0%;&quot;&gt;Dunkin&#x27; Donuts&lt;/div&gt;`)[0];\n",
              "                popup_b3dc1484b9b4f786dc095c4d2e56527f.setContent(html_6cd5a462e40f6b22958b052b198ecced);\n",
              "            \n",
              "        \n",
              "\n",
              "        marker_2eaecdc8842df7b5779f2503065c808c.bindPopup(popup_b3dc1484b9b4f786dc095c4d2e56527f)\n",
              "        ;\n",
              "\n",
              "        \n",
              "    \n",
              "    \n",
              "            var marker_28dea7621a7f30a241ed48648caba801 = L.marker(\n",
              "                [55.688993, 37.568771],\n",
              "                {}\n",
              "            ).addTo(marker_cluster_e914fdee28a0351d36773308ab48f5fe);\n",
              "        \n",
              "    \n",
              "        var popup_027e654f58a86a538b365806c6ff44c2 = L.popup({&quot;maxWidth&quot;: &quot;100%&quot;});\n",
              "\n",
              "        \n",
              "            \n",
              "                var html_86e1cd293b2daaffa4ac20d89638e60d = $(`&lt;div id=&quot;html_86e1cd293b2daaffa4ac20d89638e60d&quot; style=&quot;width: 100.0%; height: 100.0%;&quot;&gt;Time to Coffee&lt;/div&gt;`)[0];\n",
              "                popup_027e654f58a86a538b365806c6ff44c2.setContent(html_86e1cd293b2daaffa4ac20d89638e60d);\n",
              "            \n",
              "        \n",
              "\n",
              "        marker_28dea7621a7f30a241ed48648caba801.bindPopup(popup_027e654f58a86a538b365806c6ff44c2)\n",
              "        ;\n",
              "\n",
              "        \n",
              "    \n",
              "    \n",
              "            var marker_7dc37040568615dfcc1aaf045c7bf4aa = L.marker(\n",
              "                [55.677651, 37.597738],\n",
              "                {}\n",
              "            ).addTo(marker_cluster_e914fdee28a0351d36773308ab48f5fe);\n",
              "        \n",
              "    \n",
              "        var popup_b8fb87c97d11936396e9869ca9bbac1b = L.popup({&quot;maxWidth&quot;: &quot;100%&quot;});\n",
              "\n",
              "        \n",
              "            \n",
              "                var html_8a81c54961a00c1b7015e2c8f12e2067 = $(`&lt;div id=&quot;html_8a81c54961a00c1b7015e2c8f12e2067&quot; style=&quot;width: 100.0%; height: 100.0%;&quot;&gt;CofeFest&lt;/div&gt;`)[0];\n",
              "                popup_b8fb87c97d11936396e9869ca9bbac1b.setContent(html_8a81c54961a00c1b7015e2c8f12e2067);\n",
              "            \n",
              "        \n",
              "\n",
              "        marker_7dc37040568615dfcc1aaf045c7bf4aa.bindPopup(popup_b8fb87c97d11936396e9869ca9bbac1b)\n",
              "        ;\n",
              "\n",
              "        \n",
              "    \n",
              "    \n",
              "            var marker_70c5b80019f3b2438d47c14cfb992f95 = L.marker(\n",
              "                [55.686839, 37.573247],\n",
              "                {}\n",
              "            ).addTo(marker_cluster_e914fdee28a0351d36773308ab48f5fe);\n",
              "        \n",
              "    \n",
              "        var popup_ea2e7bcf78878a305749ee84a0d9829c = L.popup({&quot;maxWidth&quot;: &quot;100%&quot;});\n",
              "\n",
              "        \n",
              "            \n",
              "                var html_a4fb1fcee9aef57b65ab9afaeeed45a7 = $(`&lt;div id=&quot;html_a4fb1fcee9aef57b65ab9afaeeed45a7&quot; style=&quot;width: 100.0%; height: 100.0%;&quot;&gt;One Price Coffee&lt;/div&gt;`)[0];\n",
              "                popup_ea2e7bcf78878a305749ee84a0d9829c.setContent(html_a4fb1fcee9aef57b65ab9afaeeed45a7);\n",
              "            \n",
              "        \n",
              "\n",
              "        marker_70c5b80019f3b2438d47c14cfb992f95.bindPopup(popup_ea2e7bcf78878a305749ee84a0d9829c)\n",
              "        ;\n",
              "\n",
              "        \n",
              "    \n",
              "    \n",
              "            var marker_26ba3e3818d431162b16e451c84c3aa0 = L.marker(\n",
              "                [55.678582, 37.583192],\n",
              "                {}\n",
              "            ).addTo(marker_cluster_e914fdee28a0351d36773308ab48f5fe);\n",
              "        \n",
              "    \n",
              "        var popup_f7a594faaf92c02c92afb5060a67f39a = L.popup({&quot;maxWidth&quot;: &quot;100%&quot;});\n",
              "\n",
              "        \n",
              "            \n",
              "                var html_e1352712419b95844f2d4b73ba7785b1 = $(`&lt;div id=&quot;html_e1352712419b95844f2d4b73ba7785b1&quot; style=&quot;width: 100.0%; height: 100.0%;&quot;&gt;Кафе&lt;/div&gt;`)[0];\n",
              "                popup_f7a594faaf92c02c92afb5060a67f39a.setContent(html_e1352712419b95844f2d4b73ba7785b1);\n",
              "            \n",
              "        \n",
              "\n",
              "        marker_26ba3e3818d431162b16e451c84c3aa0.bindPopup(popup_f7a594faaf92c02c92afb5060a67f39a)\n",
              "        ;\n",
              "\n",
              "        \n",
              "    \n",
              "    \n",
              "            var marker_7b847655c515d35c78a860876a366662 = L.marker(\n",
              "                [55.679773, 37.565508],\n",
              "                {}\n",
              "            ).addTo(marker_cluster_e914fdee28a0351d36773308ab48f5fe);\n",
              "        \n",
              "    \n",
              "        var popup_2e54968823c5c9bb3370b33b4a98f1ed = L.popup({&quot;maxWidth&quot;: &quot;100%&quot;});\n",
              "\n",
              "        \n",
              "            \n",
              "                var html_f7a4dbf6358f505d5ef0ddd6aa84f14d = $(`&lt;div id=&quot;html_f7a4dbf6358f505d5ef0ddd6aa84f14d&quot; style=&quot;width: 100.0%; height: 100.0%;&quot;&gt;Кофе-выпечка&lt;/div&gt;`)[0];\n",
              "                popup_2e54968823c5c9bb3370b33b4a98f1ed.setContent(html_f7a4dbf6358f505d5ef0ddd6aa84f14d);\n",
              "            \n",
              "        \n",
              "\n",
              "        marker_7b847655c515d35c78a860876a366662.bindPopup(popup_2e54968823c5c9bb3370b33b4a98f1ed)\n",
              "        ;\n",
              "\n",
              "        \n",
              "    \n",
              "    \n",
              "            var marker_a26f54b43556f98609ecffc552a19520 = L.marker(\n",
              "                [55.643613, 37.480589],\n",
              "                {}\n",
              "            ).addTo(marker_cluster_e914fdee28a0351d36773308ab48f5fe);\n",
              "        \n",
              "    \n",
              "        var popup_a05a0958db062953b379f6ffc44ce575 = L.popup({&quot;maxWidth&quot;: &quot;100%&quot;});\n",
              "\n",
              "        \n",
              "            \n",
              "                var html_b4223f067877ffaa924622a4456b50ab = $(`&lt;div id=&quot;html_b4223f067877ffaa924622a4456b50ab&quot; style=&quot;width: 100.0%; height: 100.0%;&quot;&gt;Kathrin’s bakery&lt;/div&gt;`)[0];\n",
              "                popup_a05a0958db062953b379f6ffc44ce575.setContent(html_b4223f067877ffaa924622a4456b50ab);\n",
              "            \n",
              "        \n",
              "\n",
              "        marker_a26f54b43556f98609ecffc552a19520.bindPopup(popup_a05a0958db062953b379f6ffc44ce575)\n",
              "        ;\n",
              "\n",
              "        \n",
              "    \n",
              "    \n",
              "            var marker_9cc79284732d767a6995a61871434b2b = L.marker(\n",
              "                [55.632708, 37.483663],\n",
              "                {}\n",
              "            ).addTo(marker_cluster_e914fdee28a0351d36773308ab48f5fe);\n",
              "        \n",
              "    \n",
              "        var popup_f211533b07ae334239138f5ec06d4b2b = L.popup({&quot;maxWidth&quot;: &quot;100%&quot;});\n",
              "\n",
              "        \n",
              "            \n",
              "                var html_47f9b2b1a7fa95666558571c18962cb7 = $(`&lt;div id=&quot;html_47f9b2b1a7fa95666558571c18962cb7&quot; style=&quot;width: 100.0%; height: 100.0%;&quot;&gt;Буханка&lt;/div&gt;`)[0];\n",
              "                popup_f211533b07ae334239138f5ec06d4b2b.setContent(html_47f9b2b1a7fa95666558571c18962cb7);\n",
              "            \n",
              "        \n",
              "\n",
              "        marker_9cc79284732d767a6995a61871434b2b.bindPopup(popup_f211533b07ae334239138f5ec06d4b2b)\n",
              "        ;\n",
              "\n",
              "        \n",
              "    \n",
              "    \n",
              "            var marker_bf0407e4c2859b1a21aba193485122b5 = L.marker(\n",
              "                [55.643246, 37.471251],\n",
              "                {}\n",
              "            ).addTo(marker_cluster_e914fdee28a0351d36773308ab48f5fe);\n",
              "        \n",
              "    \n",
              "        var popup_12ceae2766ae1f2bed40cb90fdef97a3 = L.popup({&quot;maxWidth&quot;: &quot;100%&quot;});\n",
              "\n",
              "        \n",
              "            \n",
              "                var html_3d63d1ff6ffbdaa87505a676c489eca4 = $(`&lt;div id=&quot;html_3d63d1ff6ffbdaa87505a676c489eca4&quot; style=&quot;width: 100.0%; height: 100.0%;&quot;&gt;Wild Bean Cafe&lt;/div&gt;`)[0];\n",
              "                popup_12ceae2766ae1f2bed40cb90fdef97a3.setContent(html_3d63d1ff6ffbdaa87505a676c489eca4);\n",
              "            \n",
              "        \n",
              "\n",
              "        marker_bf0407e4c2859b1a21aba193485122b5.bindPopup(popup_12ceae2766ae1f2bed40cb90fdef97a3)\n",
              "        ;\n",
              "\n",
              "        \n",
              "    \n",
              "    \n",
              "            var marker_53a97396f54fc113ef9436a1bf27abab = L.marker(\n",
              "                [55.646526, 37.478296],\n",
              "                {}\n",
              "            ).addTo(marker_cluster_e914fdee28a0351d36773308ab48f5fe);\n",
              "        \n",
              "    \n",
              "        var popup_cb78ef871c367ed9c8b08826c2abccf4 = L.popup({&quot;maxWidth&quot;: &quot;100%&quot;});\n",
              "\n",
              "        \n",
              "            \n",
              "                var html_1f71d41ba91695891c1aef3698f29972 = $(`&lt;div id=&quot;html_1f71d41ba91695891c1aef3698f29972&quot; style=&quot;width: 100.0%; height: 100.0%;&quot;&gt;Кофе&lt;/div&gt;`)[0];\n",
              "                popup_cb78ef871c367ed9c8b08826c2abccf4.setContent(html_1f71d41ba91695891c1aef3698f29972);\n",
              "            \n",
              "        \n",
              "\n",
              "        marker_53a97396f54fc113ef9436a1bf27abab.bindPopup(popup_cb78ef871c367ed9c8b08826c2abccf4)\n",
              "        ;\n",
              "\n",
              "        \n",
              "    \n",
              "    \n",
              "            var marker_00bb790d6201a98be341ae655161d84d = L.marker(\n",
              "                [55.639584, 37.51332],\n",
              "                {}\n",
              "            ).addTo(marker_cluster_e914fdee28a0351d36773308ab48f5fe);\n",
              "        \n",
              "    \n",
              "        var popup_d49125f66216ed00edaa83732a498316 = L.popup({&quot;maxWidth&quot;: &quot;100%&quot;});\n",
              "\n",
              "        \n",
              "            \n",
              "                var html_572f6343d25dc8fb817bdddc2c79f3da = $(`&lt;div id=&quot;html_572f6343d25dc8fb817bdddc2c79f3da&quot; style=&quot;width: 100.0%; height: 100.0%;&quot;&gt;Маковка&lt;/div&gt;`)[0];\n",
              "                popup_d49125f66216ed00edaa83732a498316.setContent(html_572f6343d25dc8fb817bdddc2c79f3da);\n",
              "            \n",
              "        \n",
              "\n",
              "        marker_00bb790d6201a98be341ae655161d84d.bindPopup(popup_d49125f66216ed00edaa83732a498316)\n",
              "        ;\n",
              "\n",
              "        \n",
              "    \n",
              "    \n",
              "            var marker_30871a7f428a72eab4d4efab805e0675 = L.marker(\n",
              "                [55.644766, 37.519987],\n",
              "                {}\n",
              "            ).addTo(marker_cluster_e914fdee28a0351d36773308ab48f5fe);\n",
              "        \n",
              "    \n",
              "        var popup_68aa6b91f8e6da791103523e28b17c77 = L.popup({&quot;maxWidth&quot;: &quot;100%&quot;});\n",
              "\n",
              "        \n",
              "            \n",
              "                var html_18e723a87bbb1da3fbad8aace4682c5d = $(`&lt;div id=&quot;html_18e723a87bbb1da3fbad8aace4682c5d&quot; style=&quot;width: 100.0%; height: 100.0%;&quot;&gt;Jeffrey&#x27;s Coffeeshop&lt;/div&gt;`)[0];\n",
              "                popup_68aa6b91f8e6da791103523e28b17c77.setContent(html_18e723a87bbb1da3fbad8aace4682c5d);\n",
              "            \n",
              "        \n",
              "\n",
              "        marker_30871a7f428a72eab4d4efab805e0675.bindPopup(popup_68aa6b91f8e6da791103523e28b17c77)\n",
              "        ;\n",
              "\n",
              "        \n",
              "    \n",
              "    \n",
              "            var marker_90424114051b428e7cfb7fb54d43a71b = L.marker(\n",
              "                [55.650163, 37.488816],\n",
              "                {}\n",
              "            ).addTo(marker_cluster_e914fdee28a0351d36773308ab48f5fe);\n",
              "        \n",
              "    \n",
              "        var popup_4bc32acb8d04f3d58f35e20a6d31f6dc = L.popup({&quot;maxWidth&quot;: &quot;100%&quot;});\n",
              "\n",
              "        \n",
              "            \n",
              "                var html_9ad421419d4652d10b2ba5f4c3cab1a2 = $(`&lt;div id=&quot;html_9ad421419d4652d10b2ba5f4c3cab1a2&quot; style=&quot;width: 100.0%; height: 100.0%;&quot;&gt;Fresh cafe&lt;/div&gt;`)[0];\n",
              "                popup_4bc32acb8d04f3d58f35e20a6d31f6dc.setContent(html_9ad421419d4652d10b2ba5f4c3cab1a2);\n",
              "            \n",
              "        \n",
              "\n",
              "        marker_90424114051b428e7cfb7fb54d43a71b.bindPopup(popup_4bc32acb8d04f3d58f35e20a6d31f6dc)\n",
              "        ;\n",
              "\n",
              "        \n",
              "    \n",
              "    \n",
              "            var marker_f44f057e6f48b508afdaf40e6b722a54 = L.marker(\n",
              "                [55.664145, 37.521056],\n",
              "                {}\n",
              "            ).addTo(marker_cluster_e914fdee28a0351d36773308ab48f5fe);\n",
              "        \n",
              "    \n",
              "        var popup_cece4cd6de67f43cb7911626a59b2700 = L.popup({&quot;maxWidth&quot;: &quot;100%&quot;});\n",
              "\n",
              "        \n",
              "            \n",
              "                var html_3345685953d9501f1075e0151aaa32b9 = $(`&lt;div id=&quot;html_3345685953d9501f1075e0151aaa32b9&quot; style=&quot;width: 100.0%; height: 100.0%;&quot;&gt;Выжимка&lt;/div&gt;`)[0];\n",
              "                popup_cece4cd6de67f43cb7911626a59b2700.setContent(html_3345685953d9501f1075e0151aaa32b9);\n",
              "            \n",
              "        \n",
              "\n",
              "        marker_f44f057e6f48b508afdaf40e6b722a54.bindPopup(popup_cece4cd6de67f43cb7911626a59b2700)\n",
              "        ;\n",
              "\n",
              "        \n",
              "    \n",
              "    \n",
              "            var marker_4fdc43c0d9b023f0e2b0e50441a897ee = L.marker(\n",
              "                [55.642707, 37.524594],\n",
              "                {}\n",
              "            ).addTo(marker_cluster_e914fdee28a0351d36773308ab48f5fe);\n",
              "        \n",
              "    \n",
              "        var popup_9a5d0a46d8b5df4e9b404cd80b995f9d = L.popup({&quot;maxWidth&quot;: &quot;100%&quot;});\n",
              "\n",
              "        \n",
              "            \n",
              "                var html_f49137aa5f06ebfa9de1dacebf56ad07 = $(`&lt;div id=&quot;html_f49137aa5f06ebfa9de1dacebf56ad07&quot; style=&quot;width: 100.0%; height: 100.0%;&quot;&gt;Jeffrey&#x27;s Coffeeshop&lt;/div&gt;`)[0];\n",
              "                popup_9a5d0a46d8b5df4e9b404cd80b995f9d.setContent(html_f49137aa5f06ebfa9de1dacebf56ad07);\n",
              "            \n",
              "        \n",
              "\n",
              "        marker_4fdc43c0d9b023f0e2b0e50441a897ee.bindPopup(popup_9a5d0a46d8b5df4e9b404cd80b995f9d)\n",
              "        ;\n",
              "\n",
              "        \n",
              "    \n",
              "    \n",
              "            var marker_c86e08300ba70f653c75044a889e0d9c = L.marker(\n",
              "                [55.628572, 37.47419],\n",
              "                {}\n",
              "            ).addTo(marker_cluster_e914fdee28a0351d36773308ab48f5fe);\n",
              "        \n",
              "    \n",
              "        var popup_dd69eb04745873a2979ab7eafe110371 = L.popup({&quot;maxWidth&quot;: &quot;100%&quot;});\n",
              "\n",
              "        \n",
              "            \n",
              "                var html_78761d62a80fb68a517b9c14669244a6 = $(`&lt;div id=&quot;html_78761d62a80fb68a517b9c14669244a6&quot; style=&quot;width: 100.0%; height: 100.0%;&quot;&gt;Эшторил&lt;/div&gt;`)[0];\n",
              "                popup_dd69eb04745873a2979ab7eafe110371.setContent(html_78761d62a80fb68a517b9c14669244a6);\n",
              "            \n",
              "        \n",
              "\n",
              "        marker_c86e08300ba70f653c75044a889e0d9c.bindPopup(popup_dd69eb04745873a2979ab7eafe110371)\n",
              "        ;\n",
              "\n",
              "        \n",
              "    \n",
              "    \n",
              "            var marker_822b704a679bcfa1b4166c2ae3a45099 = L.marker(\n",
              "                [55.645085, 37.51887],\n",
              "                {}\n",
              "            ).addTo(marker_cluster_e914fdee28a0351d36773308ab48f5fe);\n",
              "        \n",
              "    \n",
              "        var popup_b276480dbed735038e919a2d62ee5512 = L.popup({&quot;maxWidth&quot;: &quot;100%&quot;});\n",
              "\n",
              "        \n",
              "            \n",
              "                var html_5883036b71be49cbef0588438c9dd350 = $(`&lt;div id=&quot;html_5883036b71be49cbef0588438c9dd350&quot; style=&quot;width: 100.0%; height: 100.0%;&quot;&gt;Take and Wake&lt;/div&gt;`)[0];\n",
              "                popup_b276480dbed735038e919a2d62ee5512.setContent(html_5883036b71be49cbef0588438c9dd350);\n",
              "            \n",
              "        \n",
              "\n",
              "        marker_822b704a679bcfa1b4166c2ae3a45099.bindPopup(popup_b276480dbed735038e919a2d62ee5512)\n",
              "        ;\n",
              "\n",
              "        \n",
              "    \n",
              "    \n",
              "            var marker_5ecfb0cd8165c0a7bd8aa95defbfa29f = L.marker(\n",
              "                [55.630079, 37.516437],\n",
              "                {}\n",
              "            ).addTo(marker_cluster_e914fdee28a0351d36773308ab48f5fe);\n",
              "        \n",
              "    \n",
              "        var popup_d8fab087b49464320a6db2381716e2e2 = L.popup({&quot;maxWidth&quot;: &quot;100%&quot;});\n",
              "\n",
              "        \n",
              "            \n",
              "                var html_73a3b294c23a4c6f27f016ea644ed7fc = $(`&lt;div id=&quot;html_73a3b294c23a4c6f27f016ea644ed7fc&quot; style=&quot;width: 100.0%; height: 100.0%;&quot;&gt;Comme A Paris&lt;/div&gt;`)[0];\n",
              "                popup_d8fab087b49464320a6db2381716e2e2.setContent(html_73a3b294c23a4c6f27f016ea644ed7fc);\n",
              "            \n",
              "        \n",
              "\n",
              "        marker_5ecfb0cd8165c0a7bd8aa95defbfa29f.bindPopup(popup_d8fab087b49464320a6db2381716e2e2)\n",
              "        ;\n",
              "\n",
              "        \n",
              "    \n",
              "    \n",
              "            var marker_112748d40593aaab5a1657bd17b59b04 = L.marker(\n",
              "                [55.651408, 37.51684],\n",
              "                {}\n",
              "            ).addTo(marker_cluster_e914fdee28a0351d36773308ab48f5fe);\n",
              "        \n",
              "    \n",
              "        var popup_07509f64bd80c3c65352bf024d4d9f61 = L.popup({&quot;maxWidth&quot;: &quot;100%&quot;});\n",
              "\n",
              "        \n",
              "            \n",
              "                var html_4859f55529b5343f1296c44c41a55903 = $(`&lt;div id=&quot;html_4859f55529b5343f1296c44c41a55903&quot; style=&quot;width: 100.0%; height: 100.0%;&quot;&gt;Моя Николь&lt;/div&gt;`)[0];\n",
              "                popup_07509f64bd80c3c65352bf024d4d9f61.setContent(html_4859f55529b5343f1296c44c41a55903);\n",
              "            \n",
              "        \n",
              "\n",
              "        marker_112748d40593aaab5a1657bd17b59b04.bindPopup(popup_07509f64bd80c3c65352bf024d4d9f61)\n",
              "        ;\n",
              "\n",
              "        \n",
              "    \n",
              "    \n",
              "            var marker_0f9180b46226f804dca670cf20f79f27 = L.marker(\n",
              "                [55.631838, 37.51781],\n",
              "                {}\n",
              "            ).addTo(marker_cluster_e914fdee28a0351d36773308ab48f5fe);\n",
              "        \n",
              "    \n",
              "        var popup_e31cfcae91a62159169936c81b685f04 = L.popup({&quot;maxWidth&quot;: &quot;100%&quot;});\n",
              "\n",
              "        \n",
              "            \n",
              "                var html_7c6a1ab5efac4314251f5c7cff4f1e36 = $(`&lt;div id=&quot;html_7c6a1ab5efac4314251f5c7cff4f1e36&quot; style=&quot;width: 100.0%; height: 100.0%;&quot;&gt;9 Зёрен&lt;/div&gt;`)[0];\n",
              "                popup_e31cfcae91a62159169936c81b685f04.setContent(html_7c6a1ab5efac4314251f5c7cff4f1e36);\n",
              "            \n",
              "        \n",
              "\n",
              "        marker_0f9180b46226f804dca670cf20f79f27.bindPopup(popup_e31cfcae91a62159169936c81b685f04)\n",
              "        ;\n",
              "\n",
              "        \n",
              "    \n",
              "    \n",
              "            var marker_aff854e5ae7e220483bd4447711d3406 = L.marker(\n",
              "                [55.663816, 37.511005],\n",
              "                {}\n",
              "            ).addTo(marker_cluster_e914fdee28a0351d36773308ab48f5fe);\n",
              "        \n",
              "    \n",
              "        var popup_80694fb301517395264fd1fccfb420c4 = L.popup({&quot;maxWidth&quot;: &quot;100%&quot;});\n",
              "\n",
              "        \n",
              "            \n",
              "                var html_98192de995e930006a760472bf05fb32 = $(`&lt;div id=&quot;html_98192de995e930006a760472bf05fb32&quot; style=&quot;width: 100.0%; height: 100.0%;&quot;&gt;Krispy Kreme&lt;/div&gt;`)[0];\n",
              "                popup_80694fb301517395264fd1fccfb420c4.setContent(html_98192de995e930006a760472bf05fb32);\n",
              "            \n",
              "        \n",
              "\n",
              "        marker_aff854e5ae7e220483bd4447711d3406.bindPopup(popup_80694fb301517395264fd1fccfb420c4)\n",
              "        ;\n",
              "\n",
              "        \n",
              "    \n",
              "    \n",
              "            var marker_5c258e0f4db2e8365e1f8be1143afa07 = L.marker(\n",
              "                [55.674343, 37.523341],\n",
              "                {}\n",
              "            ).addTo(marker_cluster_e914fdee28a0351d36773308ab48f5fe);\n",
              "        \n",
              "    \n",
              "        var popup_fde123ea9767968735da9cb99a2ffcbd = L.popup({&quot;maxWidth&quot;: &quot;100%&quot;});\n",
              "\n",
              "        \n",
              "            \n",
              "                var html_cb8319c4b6377947c28e5719707280d2 = $(`&lt;div id=&quot;html_cb8319c4b6377947c28e5719707280d2&quot; style=&quot;width: 100.0%; height: 100.0%;&quot;&gt;Коффемагия&lt;/div&gt;`)[0];\n",
              "                popup_fde123ea9767968735da9cb99a2ffcbd.setContent(html_cb8319c4b6377947c28e5719707280d2);\n",
              "            \n",
              "        \n",
              "\n",
              "        marker_5c258e0f4db2e8365e1f8be1143afa07.bindPopup(popup_fde123ea9767968735da9cb99a2ffcbd)\n",
              "        ;\n",
              "\n",
              "        \n",
              "    \n",
              "    \n",
              "            var marker_0fa6b60487ac146458bd19457dcf1c26 = L.marker(\n",
              "                [55.630532, 37.481766],\n",
              "                {}\n",
              "            ).addTo(marker_cluster_e914fdee28a0351d36773308ab48f5fe);\n",
              "        \n",
              "    \n",
              "        var popup_b05cbdce550cc8f3c5420692930f1600 = L.popup({&quot;maxWidth&quot;: &quot;100%&quot;});\n",
              "\n",
              "        \n",
              "            \n",
              "                var html_3ceb0c6117e4eafecaf84b08ef0febcd = $(`&lt;div id=&quot;html_3ceb0c6117e4eafecaf84b08ef0febcd&quot; style=&quot;width: 100.0%; height: 100.0%;&quot;&gt;Кофе бар&lt;/div&gt;`)[0];\n",
              "                popup_b05cbdce550cc8f3c5420692930f1600.setContent(html_3ceb0c6117e4eafecaf84b08ef0febcd);\n",
              "            \n",
              "        \n",
              "\n",
              "        marker_0fa6b60487ac146458bd19457dcf1c26.bindPopup(popup_b05cbdce550cc8f3c5420692930f1600)\n",
              "        ;\n",
              "\n",
              "        \n",
              "    \n",
              "    \n",
              "            var marker_37fdf6069f766743ced58c5d0de53fce = L.marker(\n",
              "                [55.664042, 37.511824],\n",
              "                {}\n",
              "            ).addTo(marker_cluster_e914fdee28a0351d36773308ab48f5fe);\n",
              "        \n",
              "    \n",
              "        var popup_7d6734e699aaa65518338df948c9fe46 = L.popup({&quot;maxWidth&quot;: &quot;100%&quot;});\n",
              "\n",
              "        \n",
              "            \n",
              "                var html_943a63f5fbd598bc53cc121b74ba5068 = $(`&lt;div id=&quot;html_943a63f5fbd598bc53cc121b74ba5068&quot; style=&quot;width: 100.0%; height: 100.0%;&quot;&gt;Шоколадница&lt;/div&gt;`)[0];\n",
              "                popup_7d6734e699aaa65518338df948c9fe46.setContent(html_943a63f5fbd598bc53cc121b74ba5068);\n",
              "            \n",
              "        \n",
              "\n",
              "        marker_37fdf6069f766743ced58c5d0de53fce.bindPopup(popup_7d6734e699aaa65518338df948c9fe46)\n",
              "        ;\n",
              "\n",
              "        \n",
              "    \n",
              "    \n",
              "            var marker_d83e0b4961d9ee35a1b33d56bcc55d59 = L.marker(\n",
              "                [55.666814, 37.528774],\n",
              "                {}\n",
              "            ).addTo(marker_cluster_e914fdee28a0351d36773308ab48f5fe);\n",
              "        \n",
              "    \n",
              "        var popup_3a70878d57fd23165aefa6de70938257 = L.popup({&quot;maxWidth&quot;: &quot;100%&quot;});\n",
              "\n",
              "        \n",
              "            \n",
              "                var html_312abfcf3f516fcfa1d881a44acc6ac3 = $(`&lt;div id=&quot;html_312abfcf3f516fcfa1d881a44acc6ac3&quot; style=&quot;width: 100.0%; height: 100.0%;&quot;&gt;Кофельяно&lt;/div&gt;`)[0];\n",
              "                popup_3a70878d57fd23165aefa6de70938257.setContent(html_312abfcf3f516fcfa1d881a44acc6ac3);\n",
              "            \n",
              "        \n",
              "\n",
              "        marker_d83e0b4961d9ee35a1b33d56bcc55d59.bindPopup(popup_3a70878d57fd23165aefa6de70938257)\n",
              "        ;\n",
              "\n",
              "        \n",
              "    \n",
              "    \n",
              "            var marker_2f25638d1446e4916a28c40546a14417 = L.marker(\n",
              "                [55.641227, 37.529458],\n",
              "                {}\n",
              "            ).addTo(marker_cluster_e914fdee28a0351d36773308ab48f5fe);\n",
              "        \n",
              "    \n",
              "        var popup_947c186817218cb0c6526e9290a7847a = L.popup({&quot;maxWidth&quot;: &quot;100%&quot;});\n",
              "\n",
              "        \n",
              "            \n",
              "                var html_8b6d32fd3040135624d60557b202643b = $(`&lt;div id=&quot;html_8b6d32fd3040135624d60557b202643b&quot; style=&quot;width: 100.0%; height: 100.0%;&quot;&gt;One Price Coffee&lt;/div&gt;`)[0];\n",
              "                popup_947c186817218cb0c6526e9290a7847a.setContent(html_8b6d32fd3040135624d60557b202643b);\n",
              "            \n",
              "        \n",
              "\n",
              "        marker_2f25638d1446e4916a28c40546a14417.bindPopup(popup_947c186817218cb0c6526e9290a7847a)\n",
              "        ;\n",
              "\n",
              "        \n",
              "    \n",
              "    \n",
              "            var marker_01aac678bce80d2d14f972afe5137439 = L.marker(\n",
              "                [55.64192, 37.523465],\n",
              "                {}\n",
              "            ).addTo(marker_cluster_e914fdee28a0351d36773308ab48f5fe);\n",
              "        \n",
              "    \n",
              "        var popup_cea64a52476a11ff6625af17a3978b47 = L.popup({&quot;maxWidth&quot;: &quot;100%&quot;});\n",
              "\n",
              "        \n",
              "            \n",
              "                var html_7ea56277f40149b139c67f61b45749ff = $(`&lt;div id=&quot;html_7ea56277f40149b139c67f61b45749ff&quot; style=&quot;width: 100.0%; height: 100.0%;&quot;&gt;Jeffrey&#x27;s Coffee&lt;/div&gt;`)[0];\n",
              "                popup_cea64a52476a11ff6625af17a3978b47.setContent(html_7ea56277f40149b139c67f61b45749ff);\n",
              "            \n",
              "        \n",
              "\n",
              "        marker_01aac678bce80d2d14f972afe5137439.bindPopup(popup_cea64a52476a11ff6625af17a3978b47)\n",
              "        ;\n",
              "\n",
              "        \n",
              "    \n",
              "    \n",
              "            var marker_e308917359242624ebbebc2f0c006be1 = L.marker(\n",
              "                [55.654218, 37.55597],\n",
              "                {}\n",
              "            ).addTo(marker_cluster_e914fdee28a0351d36773308ab48f5fe);\n",
              "        \n",
              "    \n",
              "        var popup_51e0bb1d67dd7519c35308a2f3ac2213 = L.popup({&quot;maxWidth&quot;: &quot;100%&quot;});\n",
              "\n",
              "        \n",
              "            \n",
              "                var html_2604ac4ffa8612ad3c89dab64aee732b = $(`&lt;div id=&quot;html_2604ac4ffa8612ad3c89dab64aee732b&quot; style=&quot;width: 100.0%; height: 100.0%;&quot;&gt;КОФЕПОРТ&lt;/div&gt;`)[0];\n",
              "                popup_51e0bb1d67dd7519c35308a2f3ac2213.setContent(html_2604ac4ffa8612ad3c89dab64aee732b);\n",
              "            \n",
              "        \n",
              "\n",
              "        marker_e308917359242624ebbebc2f0c006be1.bindPopup(popup_51e0bb1d67dd7519c35308a2f3ac2213)\n",
              "        ;\n",
              "\n",
              "        \n",
              "    \n",
              "    \n",
              "            var marker_6655e7ec4fac158d68d5a183204d170f = L.marker(\n",
              "                [55.668067, 37.563589],\n",
              "                {}\n",
              "            ).addTo(marker_cluster_e914fdee28a0351d36773308ab48f5fe);\n",
              "        \n",
              "    \n",
              "        var popup_36c5470c9bbcadd0b881066f094b0514 = L.popup({&quot;maxWidth&quot;: &quot;100%&quot;});\n",
              "\n",
              "        \n",
              "            \n",
              "                var html_559e0deddf365cd0d7478d83495fc175 = $(`&lt;div id=&quot;html_559e0deddf365cd0d7478d83495fc175&quot; style=&quot;width: 100.0%; height: 100.0%;&quot;&gt;Булошная&lt;/div&gt;`)[0];\n",
              "                popup_36c5470c9bbcadd0b881066f094b0514.setContent(html_559e0deddf365cd0d7478d83495fc175);\n",
              "            \n",
              "        \n",
              "\n",
              "        marker_6655e7ec4fac158d68d5a183204d170f.bindPopup(popup_36c5470c9bbcadd0b881066f094b0514)\n",
              "        ;\n",
              "\n",
              "        \n",
              "    \n",
              "    \n",
              "            var marker_398ea86f65866ce881c04df1ea16a9ac = L.marker(\n",
              "                [55.664745, 37.546179],\n",
              "                {}\n",
              "            ).addTo(marker_cluster_e914fdee28a0351d36773308ab48f5fe);\n",
              "        \n",
              "    \n",
              "        var popup_9d1088fc6542961f95222c2a055f3ccc = L.popup({&quot;maxWidth&quot;: &quot;100%&quot;});\n",
              "\n",
              "        \n",
              "            \n",
              "                var html_c8466ae135e39ac929105b62301ef0a8 = $(`&lt;div id=&quot;html_c8466ae135e39ac929105b62301ef0a8&quot; style=&quot;width: 100.0%; height: 100.0%;&quot;&gt;Coffeesphere&lt;/div&gt;`)[0];\n",
              "                popup_9d1088fc6542961f95222c2a055f3ccc.setContent(html_c8466ae135e39ac929105b62301ef0a8);\n",
              "            \n",
              "        \n",
              "\n",
              "        marker_398ea86f65866ce881c04df1ea16a9ac.bindPopup(popup_9d1088fc6542961f95222c2a055f3ccc)\n",
              "        ;\n",
              "\n",
              "        \n",
              "    \n",
              "    \n",
              "            var marker_6ae91f884bb835129f729d9ddda684eb = L.marker(\n",
              "                [55.661422, 37.55567],\n",
              "                {}\n",
              "            ).addTo(marker_cluster_e914fdee28a0351d36773308ab48f5fe);\n",
              "        \n",
              "    \n",
              "        var popup_dbf9ae33d5979b51f1fd1bd1fd8fd999 = L.popup({&quot;maxWidth&quot;: &quot;100%&quot;});\n",
              "\n",
              "        \n",
              "            \n",
              "                var html_d7f08139c4f5b92e19cffbc8af3e2988 = $(`&lt;div id=&quot;html_d7f08139c4f5b92e19cffbc8af3e2988&quot; style=&quot;width: 100.0%; height: 100.0%;&quot;&gt;КофеТИ&lt;/div&gt;`)[0];\n",
              "                popup_dbf9ae33d5979b51f1fd1bd1fd8fd999.setContent(html_d7f08139c4f5b92e19cffbc8af3e2988);\n",
              "            \n",
              "        \n",
              "\n",
              "        marker_6ae91f884bb835129f729d9ddda684eb.bindPopup(popup_dbf9ae33d5979b51f1fd1bd1fd8fd999)\n",
              "        ;\n",
              "\n",
              "        \n",
              "    \n",
              "    \n",
              "            var marker_06b2abe1f17208ce427121842184221c = L.marker(\n",
              "                [55.66799, 37.563342],\n",
              "                {}\n",
              "            ).addTo(marker_cluster_e914fdee28a0351d36773308ab48f5fe);\n",
              "        \n",
              "    \n",
              "        var popup_fbfb6d7ab5463d0a43f91b63aff50770 = L.popup({&quot;maxWidth&quot;: &quot;100%&quot;});\n",
              "\n",
              "        \n",
              "            \n",
              "                var html_dd67c26d867e7aa6861a5dced9b3b973 = $(`&lt;div id=&quot;html_dd67c26d867e7aa6861a5dced9b3b973&quot; style=&quot;width: 100.0%; height: 100.0%;&quot;&gt;One more, please&lt;/div&gt;`)[0];\n",
              "                popup_fbfb6d7ab5463d0a43f91b63aff50770.setContent(html_dd67c26d867e7aa6861a5dced9b3b973);\n",
              "            \n",
              "        \n",
              "\n",
              "        marker_06b2abe1f17208ce427121842184221c.bindPopup(popup_fbfb6d7ab5463d0a43f91b63aff50770)\n",
              "        ;\n",
              "\n",
              "        \n",
              "    \n",
              "    \n",
              "            var marker_43ac1d4b38948a3a51e45799ba4b7630 = L.marker(\n",
              "                [55.66089, 37.543766],\n",
              "                {}\n",
              "            ).addTo(marker_cluster_e914fdee28a0351d36773308ab48f5fe);\n",
              "        \n",
              "    \n",
              "        var popup_cf8e36147b84ee7b69bd881232450dfa = L.popup({&quot;maxWidth&quot;: &quot;100%&quot;});\n",
              "\n",
              "        \n",
              "            \n",
              "                var html_3e28c2a75a48a04d440fb359573c3198 = $(`&lt;div id=&quot;html_3e28c2a75a48a04d440fb359573c3198&quot; style=&quot;width: 100.0%; height: 100.0%;&quot;&gt;Jungle Brothers&lt;/div&gt;`)[0];\n",
              "                popup_cf8e36147b84ee7b69bd881232450dfa.setContent(html_3e28c2a75a48a04d440fb359573c3198);\n",
              "            \n",
              "        \n",
              "\n",
              "        marker_43ac1d4b38948a3a51e45799ba4b7630.bindPopup(popup_cf8e36147b84ee7b69bd881232450dfa)\n",
              "        ;\n",
              "\n",
              "        \n",
              "    \n",
              "    \n",
              "            var marker_24af0c5b5d7fb49485726ff61351ec1d = L.marker(\n",
              "                [55.656145, 37.569221],\n",
              "                {}\n",
              "            ).addTo(marker_cluster_e914fdee28a0351d36773308ab48f5fe);\n",
              "        \n",
              "    \n",
              "        var popup_db0370955c3279c793f8a472855add1c = L.popup({&quot;maxWidth&quot;: &quot;100%&quot;});\n",
              "\n",
              "        \n",
              "            \n",
              "                var html_b6e8e57931536c2e897840fb3706d324 = $(`&lt;div id=&quot;html_b6e8e57931536c2e897840fb3706d324&quot; style=&quot;width: 100.0%; height: 100.0%;&quot;&gt;Jeffrey&#x27;s Coffee&lt;/div&gt;`)[0];\n",
              "                popup_db0370955c3279c793f8a472855add1c.setContent(html_b6e8e57931536c2e897840fb3706d324);\n",
              "            \n",
              "        \n",
              "\n",
              "        marker_24af0c5b5d7fb49485726ff61351ec1d.bindPopup(popup_db0370955c3279c793f8a472855add1c)\n",
              "        ;\n",
              "\n",
              "        \n",
              "    \n",
              "    \n",
              "            var marker_fd419d93efcacb1e2b68c936e5b53152 = L.marker(\n",
              "                [55.666329, 37.544171],\n",
              "                {}\n",
              "            ).addTo(marker_cluster_e914fdee28a0351d36773308ab48f5fe);\n",
              "        \n",
              "    \n",
              "        var popup_a4cf74c65a8d900e16690bd4164053da = L.popup({&quot;maxWidth&quot;: &quot;100%&quot;});\n",
              "\n",
              "        \n",
              "            \n",
              "                var html_f23b00e5ecf8505cc07cf60c041d32de = $(`&lt;div id=&quot;html_f23b00e5ecf8505cc07cf60c041d32de&quot; style=&quot;width: 100.0%; height: 100.0%;&quot;&gt;Park 47&lt;/div&gt;`)[0];\n",
              "                popup_a4cf74c65a8d900e16690bd4164053da.setContent(html_f23b00e5ecf8505cc07cf60c041d32de);\n",
              "            \n",
              "        \n",
              "\n",
              "        marker_fd419d93efcacb1e2b68c936e5b53152.bindPopup(popup_a4cf74c65a8d900e16690bd4164053da)\n",
              "        ;\n",
              "\n",
              "        \n",
              "    \n",
              "    \n",
              "            var marker_58ada3f75e0a1db56a51969170653de2 = L.marker(\n",
              "                [55.661549, 37.544534],\n",
              "                {}\n",
              "            ).addTo(marker_cluster_e914fdee28a0351d36773308ab48f5fe);\n",
              "        \n",
              "    \n",
              "        var popup_86bc328b54ae714fc4c0bca5d9b5fb03 = L.popup({&quot;maxWidth&quot;: &quot;100%&quot;});\n",
              "\n",
              "        \n",
              "            \n",
              "                var html_62d45fbeb267ca2249a25fd3dbac43d4 = $(`&lt;div id=&quot;html_62d45fbeb267ca2249a25fd3dbac43d4&quot; style=&quot;width: 100.0%; height: 100.0%;&quot;&gt;Krispy Kreme&lt;/div&gt;`)[0];\n",
              "                popup_86bc328b54ae714fc4c0bca5d9b5fb03.setContent(html_62d45fbeb267ca2249a25fd3dbac43d4);\n",
              "            \n",
              "        \n",
              "\n",
              "        marker_58ada3f75e0a1db56a51969170653de2.bindPopup(popup_86bc328b54ae714fc4c0bca5d9b5fb03)\n",
              "        ;\n",
              "\n",
              "        \n",
              "    \n",
              "    \n",
              "            var marker_e2b554f9ed261d1ecd9b984453004476 = L.marker(\n",
              "                [55.663353, 37.561527],\n",
              "                {}\n",
              "            ).addTo(marker_cluster_e914fdee28a0351d36773308ab48f5fe);\n",
              "        \n",
              "    \n",
              "        var popup_8fecdc0f23e6de589b3d140876dec92f = L.popup({&quot;maxWidth&quot;: &quot;100%&quot;});\n",
              "\n",
              "        \n",
              "            \n",
              "                var html_26d4f89ef7106aab28b7d3b716037a91 = $(`&lt;div id=&quot;html_26d4f89ef7106aab28b7d3b716037a91&quot; style=&quot;width: 100.0%; height: 100.0%;&quot;&gt;Romashoff&lt;/div&gt;`)[0];\n",
              "                popup_8fecdc0f23e6de589b3d140876dec92f.setContent(html_26d4f89ef7106aab28b7d3b716037a91);\n",
              "            \n",
              "        \n",
              "\n",
              "        marker_e2b554f9ed261d1ecd9b984453004476.bindPopup(popup_8fecdc0f23e6de589b3d140876dec92f)\n",
              "        ;\n",
              "\n",
              "        \n",
              "    \n",
              "    \n",
              "            var marker_efff2c80f550f077e645185acf64f2a7 = L.marker(\n",
              "                [55.662425, 37.547187],\n",
              "                {}\n",
              "            ).addTo(marker_cluster_e914fdee28a0351d36773308ab48f5fe);\n",
              "        \n",
              "    \n",
              "        var popup_ec9fcb7b7d298875bfa71e18f93f3f3e = L.popup({&quot;maxWidth&quot;: &quot;100%&quot;});\n",
              "\n",
              "        \n",
              "            \n",
              "                var html_dbafda8fd3c8d7700ab8d29567ed343d = $(`&lt;div id=&quot;html_dbafda8fd3c8d7700ab8d29567ed343d&quot; style=&quot;width: 100.0%; height: 100.0%;&quot;&gt;КОФЕПОРТ&lt;/div&gt;`)[0];\n",
              "                popup_ec9fcb7b7d298875bfa71e18f93f3f3e.setContent(html_dbafda8fd3c8d7700ab8d29567ed343d);\n",
              "            \n",
              "        \n",
              "\n",
              "        marker_efff2c80f550f077e645185acf64f2a7.bindPopup(popup_ec9fcb7b7d298875bfa71e18f93f3f3e)\n",
              "        ;\n",
              "\n",
              "        \n",
              "    \n",
              "    \n",
              "            var marker_5d3366b21199394e5193b5702c272a5f = L.marker(\n",
              "                [55.65023, 37.53999],\n",
              "                {}\n",
              "            ).addTo(marker_cluster_e914fdee28a0351d36773308ab48f5fe);\n",
              "        \n",
              "    \n",
              "        var popup_981a2e5099afc9f55b94d96f694a9516 = L.popup({&quot;maxWidth&quot;: &quot;100%&quot;});\n",
              "\n",
              "        \n",
              "            \n",
              "                var html_eacaebf56e914da112c52a3e56184d02 = $(`&lt;div id=&quot;html_eacaebf56e914da112c52a3e56184d02&quot; style=&quot;width: 100.0%; height: 100.0%;&quot;&gt;Take and Wake&lt;/div&gt;`)[0];\n",
              "                popup_981a2e5099afc9f55b94d96f694a9516.setContent(html_eacaebf56e914da112c52a3e56184d02);\n",
              "            \n",
              "        \n",
              "\n",
              "        marker_5d3366b21199394e5193b5702c272a5f.bindPopup(popup_981a2e5099afc9f55b94d96f694a9516)\n",
              "        ;\n",
              "\n",
              "        \n",
              "    \n",
              "    \n",
              "            var marker_017abe12004906bf703d69382ceca461 = L.marker(\n",
              "                [55.660334, 37.537478],\n",
              "                {}\n",
              "            ).addTo(marker_cluster_e914fdee28a0351d36773308ab48f5fe);\n",
              "        \n",
              "    \n",
              "        var popup_e1600463729ea0912cb324a8f637d729 = L.popup({&quot;maxWidth&quot;: &quot;100%&quot;});\n",
              "\n",
              "        \n",
              "            \n",
              "                var html_93b011e4f0e739a3bbc7e3cf7bd7de9d = $(`&lt;div id=&quot;html_93b011e4f0e739a3bbc7e3cf7bd7de9d&quot; style=&quot;width: 100.0%; height: 100.0%;&quot;&gt;CofeFest&lt;/div&gt;`)[0];\n",
              "                popup_e1600463729ea0912cb324a8f637d729.setContent(html_93b011e4f0e739a3bbc7e3cf7bd7de9d);\n",
              "            \n",
              "        \n",
              "\n",
              "        marker_017abe12004906bf703d69382ceca461.bindPopup(popup_e1600463729ea0912cb324a8f637d729)\n",
              "        ;\n",
              "\n",
              "        \n",
              "    \n",
              "    \n",
              "            var marker_90896bd2f8c1b14e593ae4b21f43c3ae = L.marker(\n",
              "                [55.656305, 37.569569],\n",
              "                {}\n",
              "            ).addTo(marker_cluster_e914fdee28a0351d36773308ab48f5fe);\n",
              "        \n",
              "    \n",
              "        var popup_0f45769abb5f37c50245e80a82b354fc = L.popup({&quot;maxWidth&quot;: &quot;100%&quot;});\n",
              "\n",
              "        \n",
              "            \n",
              "                var html_b252d27716fc35d2c5539b7e20f2dbea = $(`&lt;div id=&quot;html_b252d27716fc35d2c5539b7e20f2dbea&quot; style=&quot;width: 100.0%; height: 100.0%;&quot;&gt;One Price Coffee&lt;/div&gt;`)[0];\n",
              "                popup_0f45769abb5f37c50245e80a82b354fc.setContent(html_b252d27716fc35d2c5539b7e20f2dbea);\n",
              "            \n",
              "        \n",
              "\n",
              "        marker_90896bd2f8c1b14e593ae4b21f43c3ae.bindPopup(popup_0f45769abb5f37c50245e80a82b354fc)\n",
              "        ;\n",
              "\n",
              "        \n",
              "    \n",
              "    \n",
              "            var marker_c769c339ff259ff463a7b8d35585a069 = L.marker(\n",
              "                [55.650414, 37.539792],\n",
              "                {}\n",
              "            ).addTo(marker_cluster_e914fdee28a0351d36773308ab48f5fe);\n",
              "        \n",
              "    \n",
              "        var popup_64d9b786d059277512618c308e19f1b6 = L.popup({&quot;maxWidth&quot;: &quot;100%&quot;});\n",
              "\n",
              "        \n",
              "            \n",
              "                var html_e6c9c75b8e7e9b263eeb95b284e4d989 = $(`&lt;div id=&quot;html_e6c9c75b8e7e9b263eeb95b284e4d989&quot; style=&quot;width: 100.0%; height: 100.0%;&quot;&gt;CofeFest&lt;/div&gt;`)[0];\n",
              "                popup_64d9b786d059277512618c308e19f1b6.setContent(html_e6c9c75b8e7e9b263eeb95b284e4d989);\n",
              "            \n",
              "        \n",
              "\n",
              "        marker_c769c339ff259ff463a7b8d35585a069.bindPopup(popup_64d9b786d059277512618c308e19f1b6)\n",
              "        ;\n",
              "\n",
              "        \n",
              "    \n",
              "    \n",
              "            var marker_d44df45db7cf57d73133f2b7675aba18 = L.marker(\n",
              "                [55.67128, 37.554501],\n",
              "                {}\n",
              "            ).addTo(marker_cluster_e914fdee28a0351d36773308ab48f5fe);\n",
              "        \n",
              "    \n",
              "        var popup_6b5388184c7c0e6976c684e79696e3ac = L.popup({&quot;maxWidth&quot;: &quot;100%&quot;});\n",
              "\n",
              "        \n",
              "            \n",
              "                var html_c66540eddd8c765c7d4b9192432ff13c = $(`&lt;div id=&quot;html_c66540eddd8c765c7d4b9192432ff13c&quot; style=&quot;width: 100.0%; height: 100.0%;&quot;&gt;Шоколадница&lt;/div&gt;`)[0];\n",
              "                popup_6b5388184c7c0e6976c684e79696e3ac.setContent(html_c66540eddd8c765c7d4b9192432ff13c);\n",
              "            \n",
              "        \n",
              "\n",
              "        marker_d44df45db7cf57d73133f2b7675aba18.bindPopup(popup_6b5388184c7c0e6976c684e79696e3ac)\n",
              "        ;\n",
              "\n",
              "        \n",
              "    \n",
              "    \n",
              "            var marker_269ffa97923fd6fd715d27480269fb54 = L.marker(\n",
              "                [55.675826, 37.540724],\n",
              "                {}\n",
              "            ).addTo(marker_cluster_e914fdee28a0351d36773308ab48f5fe);\n",
              "        \n",
              "    \n",
              "        var popup_f6bf9e0f0d6ba6348c45c7a7390ac21c = L.popup({&quot;maxWidth&quot;: &quot;100%&quot;});\n",
              "\n",
              "        \n",
              "            \n",
              "                var html_b5fe4f76bfc49267a087cef2a16fb52a = $(`&lt;div id=&quot;html_b5fe4f76bfc49267a087cef2a16fb52a&quot; style=&quot;width: 100.0%; height: 100.0%;&quot;&gt;БроКофе&lt;/div&gt;`)[0];\n",
              "                popup_f6bf9e0f0d6ba6348c45c7a7390ac21c.setContent(html_b5fe4f76bfc49267a087cef2a16fb52a);\n",
              "            \n",
              "        \n",
              "\n",
              "        marker_269ffa97923fd6fd715d27480269fb54.bindPopup(popup_f6bf9e0f0d6ba6348c45c7a7390ac21c)\n",
              "        ;\n",
              "\n",
              "        \n",
              "    \n",
              "    \n",
              "            var marker_c784e7b6f31b379496db179c03760745 = L.marker(\n",
              "                [55.658785, 37.541214],\n",
              "                {}\n",
              "            ).addTo(marker_cluster_e914fdee28a0351d36773308ab48f5fe);\n",
              "        \n",
              "    \n",
              "        var popup_a02ccaf1d4563bb0c004e8c7e9d8c712 = L.popup({&quot;maxWidth&quot;: &quot;100%&quot;});\n",
              "\n",
              "        \n",
              "            \n",
              "                var html_baf296e10a6b5ce22715344e9b6aef7c = $(`&lt;div id=&quot;html_baf296e10a6b5ce22715344e9b6aef7c&quot; style=&quot;width: 100.0%; height: 100.0%;&quot;&gt;КОФЕПОРТ&lt;/div&gt;`)[0];\n",
              "                popup_a02ccaf1d4563bb0c004e8c7e9d8c712.setContent(html_baf296e10a6b5ce22715344e9b6aef7c);\n",
              "            \n",
              "        \n",
              "\n",
              "        marker_c784e7b6f31b379496db179c03760745.bindPopup(popup_a02ccaf1d4563bb0c004e8c7e9d8c712)\n",
              "        ;\n",
              "\n",
              "        \n",
              "    \n",
              "    \n",
              "            var marker_144c66670d2f38ccab522e08718105e0 = L.marker(\n",
              "                [55.669436, 37.553328],\n",
              "                {}\n",
              "            ).addTo(marker_cluster_e914fdee28a0351d36773308ab48f5fe);\n",
              "        \n",
              "    \n",
              "        var popup_930ef718bdaf79774b0f1ffa3b349053 = L.popup({&quot;maxWidth&quot;: &quot;100%&quot;});\n",
              "\n",
              "        \n",
              "            \n",
              "                var html_94c050091b83ea9f92c9c8523e3d483f = $(`&lt;div id=&quot;html_94c050091b83ea9f92c9c8523e3d483f&quot; style=&quot;width: 100.0%; height: 100.0%;&quot;&gt;Кофе твой друг&lt;/div&gt;`)[0];\n",
              "                popup_930ef718bdaf79774b0f1ffa3b349053.setContent(html_94c050091b83ea9f92c9c8523e3d483f);\n",
              "            \n",
              "        \n",
              "\n",
              "        marker_144c66670d2f38ccab522e08718105e0.bindPopup(popup_930ef718bdaf79774b0f1ffa3b349053)\n",
              "        ;\n",
              "\n",
              "        \n",
              "    \n",
              "    \n",
              "            var marker_4003ee348dbe4cea0fffb8d33ae27c9c = L.marker(\n",
              "                [55.640362, 37.532903],\n",
              "                {}\n",
              "            ).addTo(marker_cluster_e914fdee28a0351d36773308ab48f5fe);\n",
              "        \n",
              "    \n",
              "        var popup_4f2d5b367551c93f2f8c1c94c26f6e9e = L.popup({&quot;maxWidth&quot;: &quot;100%&quot;});\n",
              "\n",
              "        \n",
              "            \n",
              "                var html_330421e2f917926528ed4f2a65d28ec3 = $(`&lt;div id=&quot;html_330421e2f917926528ed4f2a65d28ec3&quot; style=&quot;width: 100.0%; height: 100.0%;&quot;&gt;One Price Coffee&lt;/div&gt;`)[0];\n",
              "                popup_4f2d5b367551c93f2f8c1c94c26f6e9e.setContent(html_330421e2f917926528ed4f2a65d28ec3);\n",
              "            \n",
              "        \n",
              "\n",
              "        marker_4003ee348dbe4cea0fffb8d33ae27c9c.bindPopup(popup_4f2d5b367551c93f2f8c1c94c26f6e9e)\n",
              "        ;\n",
              "\n",
              "        \n",
              "    \n",
              "    \n",
              "            var marker_173c047a4cd29e6c158477fec704afe4 = L.marker(\n",
              "                [55.656124, 37.541031],\n",
              "                {}\n",
              "            ).addTo(marker_cluster_e914fdee28a0351d36773308ab48f5fe);\n",
              "        \n",
              "    \n",
              "        var popup_b76d0d897329e81c40dcf1c7d8dd660a = L.popup({&quot;maxWidth&quot;: &quot;100%&quot;});\n",
              "\n",
              "        \n",
              "            \n",
              "                var html_6e163e933667fd1269df96afe8613239 = $(`&lt;div id=&quot;html_6e163e933667fd1269df96afe8613239&quot; style=&quot;width: 100.0%; height: 100.0%;&quot;&gt;One Price Coffee&lt;/div&gt;`)[0];\n",
              "                popup_b76d0d897329e81c40dcf1c7d8dd660a.setContent(html_6e163e933667fd1269df96afe8613239);\n",
              "            \n",
              "        \n",
              "\n",
              "        marker_173c047a4cd29e6c158477fec704afe4.bindPopup(popup_b76d0d897329e81c40dcf1c7d8dd660a)\n",
              "        ;\n",
              "\n",
              "        \n",
              "    \n",
              "    \n",
              "            var marker_76b3052d8747ec4d8db03f09a15d6a30 = L.marker(\n",
              "                [55.65015, 37.539626],\n",
              "                {}\n",
              "            ).addTo(marker_cluster_e914fdee28a0351d36773308ab48f5fe);\n",
              "        \n",
              "    \n",
              "        var popup_8c8e48a51b8006296b4b363d1cd75169 = L.popup({&quot;maxWidth&quot;: &quot;100%&quot;});\n",
              "\n",
              "        \n",
              "            \n",
              "                var html_e71f3e1fa6464bfb010d5905cd42bead = $(`&lt;div id=&quot;html_e71f3e1fa6464bfb010d5905cd42bead&quot; style=&quot;width: 100.0%; height: 100.0%;&quot;&gt;Caffeterria&lt;/div&gt;`)[0];\n",
              "                popup_8c8e48a51b8006296b4b363d1cd75169.setContent(html_e71f3e1fa6464bfb010d5905cd42bead);\n",
              "            \n",
              "        \n",
              "\n",
              "        marker_76b3052d8747ec4d8db03f09a15d6a30.bindPopup(popup_8c8e48a51b8006296b4b363d1cd75169)\n",
              "        ;\n",
              "\n",
              "        \n",
              "    \n",
              "    \n",
              "            var marker_58b2d253fa577da2a8c3ed917396ca73 = L.marker(\n",
              "                [55.66998, 37.55285],\n",
              "                {}\n",
              "            ).addTo(marker_cluster_e914fdee28a0351d36773308ab48f5fe);\n",
              "        \n",
              "    \n",
              "        var popup_57c862594998fbc68c82c7cde576ec1e = L.popup({&quot;maxWidth&quot;: &quot;100%&quot;});\n",
              "\n",
              "        \n",
              "            \n",
              "                var html_84b167a2c3fcbac5cb5c92e49fbb8460 = $(`&lt;div id=&quot;html_84b167a2c3fcbac5cb5c92e49fbb8460&quot; style=&quot;width: 100.0%; height: 100.0%;&quot;&gt;Bufet&lt;/div&gt;`)[0];\n",
              "                popup_57c862594998fbc68c82c7cde576ec1e.setContent(html_84b167a2c3fcbac5cb5c92e49fbb8460);\n",
              "            \n",
              "        \n",
              "\n",
              "        marker_58b2d253fa577da2a8c3ed917396ca73.bindPopup(popup_57c862594998fbc68c82c7cde576ec1e)\n",
              "        ;\n",
              "\n",
              "        \n",
              "    \n",
              "    \n",
              "            var marker_c0f80d03458b39248a43d28356d2d779 = L.marker(\n",
              "                [55.671762, 37.545033],\n",
              "                {}\n",
              "            ).addTo(marker_cluster_e914fdee28a0351d36773308ab48f5fe);\n",
              "        \n",
              "    \n",
              "        var popup_cab8c4a7942e8ad9c9655329adc20862 = L.popup({&quot;maxWidth&quot;: &quot;100%&quot;});\n",
              "\n",
              "        \n",
              "            \n",
              "                var html_106b78342678bc79e716b7fb74771c63 = $(`&lt;div id=&quot;html_106b78342678bc79e716b7fb74771c63&quot; style=&quot;width: 100.0%; height: 100.0%;&quot;&gt;CofeFest&lt;/div&gt;`)[0];\n",
              "                popup_cab8c4a7942e8ad9c9655329adc20862.setContent(html_106b78342678bc79e716b7fb74771c63);\n",
              "            \n",
              "        \n",
              "\n",
              "        marker_c0f80d03458b39248a43d28356d2d779.bindPopup(popup_cab8c4a7942e8ad9c9655329adc20862)\n",
              "        ;\n",
              "\n",
              "        \n",
              "    \n",
              "    \n",
              "            var marker_2763b67774d6c63756b30705423b5857 = L.marker(\n",
              "                [55.602167, 37.53319],\n",
              "                {}\n",
              "            ).addTo(marker_cluster_e914fdee28a0351d36773308ab48f5fe);\n",
              "        \n",
              "    \n",
              "        var popup_7d7c7d6062f04bfb6a2e580f5e6029c4 = L.popup({&quot;maxWidth&quot;: &quot;100%&quot;});\n",
              "\n",
              "        \n",
              "            \n",
              "                var html_1f90e6e5ba59a5e7181fc41b13f22cff = $(`&lt;div id=&quot;html_1f90e6e5ba59a5e7181fc41b13f22cff&quot; style=&quot;width: 100.0%; height: 100.0%;&quot;&gt;Бункер кафе&lt;/div&gt;`)[0];\n",
              "                popup_7d7c7d6062f04bfb6a2e580f5e6029c4.setContent(html_1f90e6e5ba59a5e7181fc41b13f22cff);\n",
              "            \n",
              "        \n",
              "\n",
              "        marker_2763b67774d6c63756b30705423b5857.bindPopup(popup_7d7c7d6062f04bfb6a2e580f5e6029c4)\n",
              "        ;\n",
              "\n",
              "        \n",
              "    \n",
              "    \n",
              "            var marker_6c6b5c0b36f96795453e16c22a3301a6 = L.marker(\n",
              "                [55.606622, 37.536267],\n",
              "                {}\n",
              "            ).addTo(marker_cluster_e914fdee28a0351d36773308ab48f5fe);\n",
              "        \n",
              "    \n",
              "        var popup_6051fca4f3b138d8f38f271f07fadc6d = L.popup({&quot;maxWidth&quot;: &quot;100%&quot;});\n",
              "\n",
              "        \n",
              "            \n",
              "                var html_a0137fa35979a1b5c22885f32c9ddee7 = $(`&lt;div id=&quot;html_a0137fa35979a1b5c22885f32c9ddee7&quot; style=&quot;width: 100.0%; height: 100.0%;&quot;&gt;Surf Coffee X Shine&lt;/div&gt;`)[0];\n",
              "                popup_6051fca4f3b138d8f38f271f07fadc6d.setContent(html_a0137fa35979a1b5c22885f32c9ddee7);\n",
              "            \n",
              "        \n",
              "\n",
              "        marker_6c6b5c0b36f96795453e16c22a3301a6.bindPopup(popup_6051fca4f3b138d8f38f271f07fadc6d)\n",
              "        ;\n",
              "\n",
              "        \n",
              "    \n",
              "    \n",
              "            var marker_58e16cab1143f0cc35d589bb8661c8c3 = L.marker(\n",
              "                [55.606485, 37.536326],\n",
              "                {}\n",
              "            ).addTo(marker_cluster_e914fdee28a0351d36773308ab48f5fe);\n",
              "        \n",
              "    \n",
              "        var popup_b2ce51a5f64894a129088177554befd2 = L.popup({&quot;maxWidth&quot;: &quot;100%&quot;});\n",
              "\n",
              "        \n",
              "            \n",
              "                var html_b02ac18c27aa795d8234af3aec9eebb4 = $(`&lt;div id=&quot;html_b02ac18c27aa795d8234af3aec9eebb4&quot; style=&quot;width: 100.0%; height: 100.0%;&quot;&gt;Cinnabon&lt;/div&gt;`)[0];\n",
              "                popup_b2ce51a5f64894a129088177554befd2.setContent(html_b02ac18c27aa795d8234af3aec9eebb4);\n",
              "            \n",
              "        \n",
              "\n",
              "        marker_58e16cab1143f0cc35d589bb8661c8c3.bindPopup(popup_b2ce51a5f64894a129088177554befd2)\n",
              "        ;\n",
              "\n",
              "        \n",
              "    \n",
              "    \n",
              "            var marker_9e56d30b5af228f2b4e260a37a89cefa = L.marker(\n",
              "                [55.607778, 37.532554],\n",
              "                {}\n",
              "            ).addTo(marker_cluster_e914fdee28a0351d36773308ab48f5fe);\n",
              "        \n",
              "    \n",
              "        var popup_c947a1455cdbee914c837b2d9677cb4a = L.popup({&quot;maxWidth&quot;: &quot;100%&quot;});\n",
              "\n",
              "        \n",
              "            \n",
              "                var html_c06980a75cc6859241563bb766ead18d = $(`&lt;div id=&quot;html_c06980a75cc6859241563bb766ead18d&quot; style=&quot;width: 100.0%; height: 100.0%;&quot;&gt;Cofix&lt;/div&gt;`)[0];\n",
              "                popup_c947a1455cdbee914c837b2d9677cb4a.setContent(html_c06980a75cc6859241563bb766ead18d);\n",
              "            \n",
              "        \n",
              "\n",
              "        marker_9e56d30b5af228f2b4e260a37a89cefa.bindPopup(popup_c947a1455cdbee914c837b2d9677cb4a)\n",
              "        ;\n",
              "\n",
              "        \n",
              "    \n",
              "    \n",
              "            var marker_79e2bd7ec359998640d9aa0b501d023c = L.marker(\n",
              "                [55.625964, 37.483913],\n",
              "                {}\n",
              "            ).addTo(marker_cluster_e914fdee28a0351d36773308ab48f5fe);\n",
              "        \n",
              "    \n",
              "        var popup_13bda71e166d501df0c5c3474e9d9b5d = L.popup({&quot;maxWidth&quot;: &quot;100%&quot;});\n",
              "\n",
              "        \n",
              "            \n",
              "                var html_3897854cbde46abd5dee63d34127dd3b = $(`&lt;div id=&quot;html_3897854cbde46abd5dee63d34127dd3b&quot; style=&quot;width: 100.0%; height: 100.0%;&quot;&gt;Mellman’s coffee&lt;/div&gt;`)[0];\n",
              "                popup_13bda71e166d501df0c5c3474e9d9b5d.setContent(html_3897854cbde46abd5dee63d34127dd3b);\n",
              "            \n",
              "        \n",
              "\n",
              "        marker_79e2bd7ec359998640d9aa0b501d023c.bindPopup(popup_13bda71e166d501df0c5c3474e9d9b5d)\n",
              "        ;\n",
              "\n",
              "        \n",
              "    \n",
              "    \n",
              "            var marker_a729fe978353d44292e1f4108b9638e9 = L.marker(\n",
              "                [55.618872, 37.484253],\n",
              "                {}\n",
              "            ).addTo(marker_cluster_e914fdee28a0351d36773308ab48f5fe);\n",
              "        \n",
              "    \n",
              "        var popup_7e1bb7db6d7f0ba7e417d1bfb6b9fdea = L.popup({&quot;maxWidth&quot;: &quot;100%&quot;});\n",
              "\n",
              "        \n",
              "            \n",
              "                var html_9675d9eef328da882c0e84dd97e488f5 = $(`&lt;div id=&quot;html_9675d9eef328da882c0e84dd97e488f5&quot; style=&quot;width: 100.0%; height: 100.0%;&quot;&gt;Wild Bean&lt;/div&gt;`)[0];\n",
              "                popup_7e1bb7db6d7f0ba7e417d1bfb6b9fdea.setContent(html_9675d9eef328da882c0e84dd97e488f5);\n",
              "            \n",
              "        \n",
              "\n",
              "        marker_a729fe978353d44292e1f4108b9638e9.bindPopup(popup_7e1bb7db6d7f0ba7e417d1bfb6b9fdea)\n",
              "        ;\n",
              "\n",
              "        \n",
              "    \n",
              "    \n",
              "            var marker_aa463268d6e0ce6b4594bb0badb1f153 = L.marker(\n",
              "                [55.619023, 37.506517],\n",
              "                {}\n",
              "            ).addTo(marker_cluster_e914fdee28a0351d36773308ab48f5fe);\n",
              "        \n",
              "    \n",
              "        var popup_1eb5d8178b7bacbc4f0245b1d8a92d06 = L.popup({&quot;maxWidth&quot;: &quot;100%&quot;});\n",
              "\n",
              "        \n",
              "            \n",
              "                var html_6ab0b7fb780bc376837920ac709c7ae7 = $(`&lt;div id=&quot;html_6ab0b7fb780bc376837920ac709c7ae7&quot; style=&quot;width: 100.0%; height: 100.0%;&quot;&gt;Шоколадница&lt;/div&gt;`)[0];\n",
              "                popup_1eb5d8178b7bacbc4f0245b1d8a92d06.setContent(html_6ab0b7fb780bc376837920ac709c7ae7);\n",
              "            \n",
              "        \n",
              "\n",
              "        marker_aa463268d6e0ce6b4594bb0badb1f153.bindPopup(popup_1eb5d8178b7bacbc4f0245b1d8a92d06)\n",
              "        ;\n",
              "\n",
              "        \n",
              "    \n",
              "    \n",
              "            var marker_f6023b3bcdb5e0dbad5c6bd21767587b = L.marker(\n",
              "                [55.619966, 37.508499],\n",
              "                {}\n",
              "            ).addTo(marker_cluster_e914fdee28a0351d36773308ab48f5fe);\n",
              "        \n",
              "    \n",
              "        var popup_e7474e9b78ed6ea82dd992d2511a84b0 = L.popup({&quot;maxWidth&quot;: &quot;100%&quot;});\n",
              "\n",
              "        \n",
              "            \n",
              "                var html_11506b7d210de70b4c31dd2365f883ba = $(`&lt;div id=&quot;html_11506b7d210de70b4c31dd2365f883ba&quot; style=&quot;width: 100.0%; height: 100.0%;&quot;&gt;One Price Coffee&lt;/div&gt;`)[0];\n",
              "                popup_e7474e9b78ed6ea82dd992d2511a84b0.setContent(html_11506b7d210de70b4c31dd2365f883ba);\n",
              "            \n",
              "        \n",
              "\n",
              "        marker_f6023b3bcdb5e0dbad5c6bd21767587b.bindPopup(popup_e7474e9b78ed6ea82dd992d2511a84b0)\n",
              "        ;\n",
              "\n",
              "        \n",
              "    \n",
              "    \n",
              "            var marker_ed314cee87cccfb5a6ab450de45a82fe = L.marker(\n",
              "                [55.62388, 37.488853],\n",
              "                {}\n",
              "            ).addTo(marker_cluster_e914fdee28a0351d36773308ab48f5fe);\n",
              "        \n",
              "    \n",
              "        var popup_4e27cc744bd185c061dcc6149a5aff76 = L.popup({&quot;maxWidth&quot;: &quot;100%&quot;});\n",
              "\n",
              "        \n",
              "            \n",
              "                var html_217a562e0fb590b34a3289e4accf1276 = $(`&lt;div id=&quot;html_217a562e0fb590b34a3289e4accf1276&quot; style=&quot;width: 100.0%; height: 100.0%;&quot;&gt;CofeFest&lt;/div&gt;`)[0];\n",
              "                popup_4e27cc744bd185c061dcc6149a5aff76.setContent(html_217a562e0fb590b34a3289e4accf1276);\n",
              "            \n",
              "        \n",
              "\n",
              "        marker_ed314cee87cccfb5a6ab450de45a82fe.bindPopup(popup_4e27cc744bd185c061dcc6149a5aff76)\n",
              "        ;\n",
              "\n",
              "        \n",
              "    \n",
              "    \n",
              "            var marker_efd090b02372f1089acbe604ffabe2c1 = L.marker(\n",
              "                [55.654289, 37.600722],\n",
              "                {}\n",
              "            ).addTo(marker_cluster_e914fdee28a0351d36773308ab48f5fe);\n",
              "        \n",
              "    \n",
              "        var popup_d1b9e863502b0089dfc5d8c427b627c0 = L.popup({&quot;maxWidth&quot;: &quot;100%&quot;});\n",
              "\n",
              "        \n",
              "            \n",
              "                var html_fa9c30c951af0fd375836459c72c2a48 = $(`&lt;div id=&quot;html_fa9c30c951af0fd375836459c72c2a48&quot; style=&quot;width: 100.0%; height: 100.0%;&quot;&gt;Практика Кофе&lt;/div&gt;`)[0];\n",
              "                popup_d1b9e863502b0089dfc5d8c427b627c0.setContent(html_fa9c30c951af0fd375836459c72c2a48);\n",
              "            \n",
              "        \n",
              "\n",
              "        marker_efd090b02372f1089acbe604ffabe2c1.bindPopup(popup_d1b9e863502b0089dfc5d8c427b627c0)\n",
              "        ;\n",
              "\n",
              "        \n",
              "    \n",
              "&lt;/script&gt;\n",
              "&lt;/html&gt;\" style=\"position:absolute;width:100%;height:100%;left:0;top:0;border:none !important;\" allowfullscreen webkitallowfullscreen mozallowfullscreen></iframe></div></div>"
            ]
          },
          "metadata": {},
          "execution_count": 41
        }
      ],
      "source": [
        "ca = cafe.query('district==\"Юго-Западный административный округ\"')\n",
        "\n",
        "dream_lat, dream_lng = 55.613071, 37.531899\n",
        "\n",
        "m3 = Map(location=[dream_lat, dream_lng], zoom_start=15)\n",
        "marker = Marker([dream_lat, dream_lng], tooltip='Кофейня',popup='Наша кофейня')\n",
        "marker.add_to(m3)\n",
        "marker_cluster = MarkerCluster().add_to(m3)\n",
        "def create_marker(row):\n",
        "    Marker([row['lat'], row['lng']],\n",
        "        popup=f\"{row['name']}\"\n",
        "    ).add_to(marker_cluster)\n",
        "\n",
        "# применяем функцию для создания маркера ко всем строкам датафрейма\n",
        "ca.apply(create_marker, axis=1)\n",
        "\n",
        "m3"
      ]
    },
    {
      "cell_type": "markdown",
      "metadata": {
        "id": "rKZQto5FfncB"
      },
      "source": [
        "Презентация: https://disk.yandex.ru/i/sLSnW17trTSIuw"
      ]
    }
  ],
  "metadata": {
    "ExecuteTimeLog": [
      {
        "duration": 735,
        "start_time": "2022-12-28T14:38:38.479Z"
      },
      {
        "duration": 958,
        "start_time": "2022-12-28T14:41:15.594Z"
      },
      {
        "duration": 251,
        "start_time": "2022-12-28T14:41:42.838Z"
      },
      {
        "duration": 20,
        "start_time": "2022-12-28T15:07:26.301Z"
      },
      {
        "duration": 10,
        "start_time": "2022-12-28T15:07:32.119Z"
      },
      {
        "duration": 7,
        "start_time": "2022-12-28T15:11:44.734Z"
      },
      {
        "duration": 98,
        "start_time": "2022-12-28T15:11:48.726Z"
      },
      {
        "duration": 11,
        "start_time": "2022-12-28T15:16:01.662Z"
      },
      {
        "duration": 17,
        "start_time": "2022-12-28T15:17:00.603Z"
      },
      {
        "duration": 10,
        "start_time": "2022-12-28T15:17:06.069Z"
      },
      {
        "duration": 14,
        "start_time": "2022-12-28T15:17:10.469Z"
      },
      {
        "duration": 14,
        "start_time": "2022-12-28T15:17:15.211Z"
      },
      {
        "duration": 14,
        "start_time": "2022-12-28T15:17:19.283Z"
      },
      {
        "duration": 18,
        "start_time": "2022-12-28T15:19:39.133Z"
      },
      {
        "duration": 14,
        "start_time": "2022-12-28T15:19:47.109Z"
      },
      {
        "duration": 20,
        "start_time": "2022-12-28T15:20:14.357Z"
      },
      {
        "duration": 27,
        "start_time": "2022-12-28T15:20:55.211Z"
      },
      {
        "duration": 15,
        "start_time": "2022-12-28T15:21:23.580Z"
      },
      {
        "duration": 23,
        "start_time": "2022-12-28T15:21:31.737Z"
      },
      {
        "duration": 25,
        "start_time": "2022-12-28T15:21:40.086Z"
      },
      {
        "duration": 22,
        "start_time": "2022-12-28T15:21:53.357Z"
      },
      {
        "duration": 1702,
        "start_time": "2022-12-28T15:23:20.057Z"
      },
      {
        "duration": 14,
        "start_time": "2022-12-28T15:23:41.542Z"
      },
      {
        "duration": 13,
        "start_time": "2022-12-28T15:24:05.808Z"
      },
      {
        "duration": 10,
        "start_time": "2022-12-28T15:36:04.343Z"
      },
      {
        "duration": 9,
        "start_time": "2022-12-28T15:36:07.175Z"
      },
      {
        "duration": 10,
        "start_time": "2022-12-28T15:36:11.405Z"
      },
      {
        "duration": 8,
        "start_time": "2022-12-28T15:36:16.189Z"
      },
      {
        "duration": 8,
        "start_time": "2022-12-28T15:36:23.588Z"
      },
      {
        "duration": 25,
        "start_time": "2022-12-28T15:45:27.788Z"
      },
      {
        "duration": 1430,
        "start_time": "2022-12-28T15:45:54.611Z"
      },
      {
        "duration": 85,
        "start_time": "2022-12-28T15:45:56.043Z"
      },
      {
        "duration": 16,
        "start_time": "2022-12-28T15:45:56.129Z"
      },
      {
        "duration": 145,
        "start_time": "2022-12-28T15:45:56.147Z"
      },
      {
        "duration": 14,
        "start_time": "2022-12-28T15:46:08.950Z"
      },
      {
        "duration": 14,
        "start_time": "2022-12-28T15:46:16.951Z"
      },
      {
        "duration": 16,
        "start_time": "2022-12-28T15:46:21.646Z"
      },
      {
        "duration": 27,
        "start_time": "2022-12-28T15:46:37.672Z"
      },
      {
        "duration": 1325,
        "start_time": "2022-12-28T15:47:08.443Z"
      },
      {
        "duration": 97,
        "start_time": "2022-12-28T15:47:09.770Z"
      },
      {
        "duration": 19,
        "start_time": "2022-12-28T15:47:09.869Z"
      },
      {
        "duration": 32,
        "start_time": "2022-12-28T15:47:09.890Z"
      },
      {
        "duration": 2,
        "start_time": "2022-12-28T15:47:09.924Z"
      },
      {
        "duration": 9,
        "start_time": "2022-12-28T15:47:20.336Z"
      },
      {
        "duration": 15,
        "start_time": "2022-12-28T15:48:41.470Z"
      },
      {
        "duration": 5,
        "start_time": "2022-12-28T15:48:45.994Z"
      },
      {
        "duration": 14,
        "start_time": "2022-12-28T15:49:06.569Z"
      },
      {
        "duration": 27,
        "start_time": "2022-12-28T15:49:16.303Z"
      },
      {
        "duration": 409,
        "start_time": "2022-12-28T15:49:43.141Z"
      },
      {
        "duration": 21,
        "start_time": "2022-12-28T15:50:04.531Z"
      },
      {
        "duration": 27,
        "start_time": "2022-12-28T15:50:15.465Z"
      },
      {
        "duration": 10,
        "start_time": "2022-12-28T15:50:20.648Z"
      },
      {
        "duration": 15,
        "start_time": "2022-12-28T15:50:24.248Z"
      },
      {
        "duration": 17,
        "start_time": "2022-12-28T16:00:05.433Z"
      },
      {
        "duration": 10,
        "start_time": "2022-12-28T16:01:26.912Z"
      },
      {
        "duration": 8,
        "start_time": "2022-12-28T16:06:50.338Z"
      },
      {
        "duration": 19,
        "start_time": "2022-12-28T16:06:56.350Z"
      },
      {
        "duration": 27,
        "start_time": "2022-12-28T16:07:00.140Z"
      },
      {
        "duration": 9,
        "start_time": "2022-12-28T16:07:06.944Z"
      },
      {
        "duration": 11,
        "start_time": "2022-12-28T16:08:10.068Z"
      },
      {
        "duration": 69,
        "start_time": "2022-12-28T16:12:10.682Z"
      },
      {
        "duration": 69,
        "start_time": "2022-12-28T16:12:13.262Z"
      },
      {
        "duration": 69,
        "start_time": "2022-12-28T16:12:22.119Z"
      },
      {
        "duration": 64,
        "start_time": "2022-12-28T16:12:30.036Z"
      },
      {
        "duration": 59,
        "start_time": "2022-12-28T16:12:41.409Z"
      },
      {
        "duration": 869,
        "start_time": "2022-12-28T16:13:15.732Z"
      },
      {
        "duration": 58,
        "start_time": "2022-12-28T16:13:25.200Z"
      },
      {
        "duration": 19,
        "start_time": "2022-12-28T18:17:04.415Z"
      },
      {
        "duration": 1262,
        "start_time": "2022-12-28T18:19:01.051Z"
      },
      {
        "duration": 19,
        "start_time": "2022-12-28T18:19:08.588Z"
      },
      {
        "duration": 18,
        "start_time": "2022-12-28T18:19:21.078Z"
      },
      {
        "duration": 1715,
        "start_time": "2022-12-29T11:31:05.785Z"
      },
      {
        "duration": 136,
        "start_time": "2022-12-29T11:31:07.502Z"
      },
      {
        "duration": 18,
        "start_time": "2022-12-29T11:31:07.640Z"
      },
      {
        "duration": 15,
        "start_time": "2022-12-29T11:31:07.660Z"
      },
      {
        "duration": 25,
        "start_time": "2022-12-29T11:31:07.677Z"
      },
      {
        "duration": 68,
        "start_time": "2022-12-29T11:31:07.703Z"
      },
      {
        "duration": 6,
        "start_time": "2022-12-29T11:31:43.284Z"
      },
      {
        "duration": 1118,
        "start_time": "2022-12-29T11:32:42.409Z"
      },
      {
        "duration": 21,
        "start_time": "2022-12-29T11:32:54.856Z"
      },
      {
        "duration": 774,
        "start_time": "2022-12-29T11:33:00.742Z"
      },
      {
        "duration": 747,
        "start_time": "2022-12-29T11:33:40.591Z"
      },
      {
        "duration": 54,
        "start_time": "2022-12-29T11:38:41.247Z"
      },
      {
        "duration": 56,
        "start_time": "2022-12-29T11:38:54.796Z"
      },
      {
        "duration": 545,
        "start_time": "2022-12-29T11:39:14.364Z"
      },
      {
        "duration": 66,
        "start_time": "2022-12-29T11:39:19.893Z"
      },
      {
        "duration": 62,
        "start_time": "2022-12-29T11:39:53.203Z"
      },
      {
        "duration": 84,
        "start_time": "2022-12-29T11:39:59.251Z"
      },
      {
        "duration": 55,
        "start_time": "2022-12-29T11:40:06.746Z"
      },
      {
        "duration": 74,
        "start_time": "2022-12-29T11:40:25.930Z"
      },
      {
        "duration": 18,
        "start_time": "2022-12-29T11:48:04.367Z"
      },
      {
        "duration": 8,
        "start_time": "2022-12-29T11:48:22.658Z"
      },
      {
        "duration": 8,
        "start_time": "2022-12-29T11:57:21.875Z"
      },
      {
        "duration": 8,
        "start_time": "2022-12-29T11:57:54.921Z"
      },
      {
        "duration": 8,
        "start_time": "2022-12-29T11:58:05.376Z"
      },
      {
        "duration": 8,
        "start_time": "2022-12-29T11:58:08.904Z"
      },
      {
        "duration": 6,
        "start_time": "2022-12-29T11:58:35.335Z"
      },
      {
        "duration": 8,
        "start_time": "2022-12-29T11:58:59.110Z"
      },
      {
        "duration": 6,
        "start_time": "2022-12-29T11:59:34.844Z"
      },
      {
        "duration": 7,
        "start_time": "2022-12-29T11:59:41.779Z"
      },
      {
        "duration": 26,
        "start_time": "2022-12-29T12:00:18.543Z"
      },
      {
        "duration": 211,
        "start_time": "2022-12-29T12:00:25.953Z"
      },
      {
        "duration": 55,
        "start_time": "2022-12-29T12:01:16.854Z"
      },
      {
        "duration": 6,
        "start_time": "2022-12-29T12:01:29.319Z"
      },
      {
        "duration": 14,
        "start_time": "2022-12-29T12:01:49.076Z"
      },
      {
        "duration": 5,
        "start_time": "2022-12-29T12:03:46.806Z"
      },
      {
        "duration": 10,
        "start_time": "2022-12-29T12:04:04.872Z"
      },
      {
        "duration": 18,
        "start_time": "2022-12-29T12:06:57.326Z"
      },
      {
        "duration": 19,
        "start_time": "2022-12-29T12:10:02.431Z"
      },
      {
        "duration": 25,
        "start_time": "2022-12-29T12:10:05.108Z"
      },
      {
        "duration": 21,
        "start_time": "2022-12-29T12:10:22.056Z"
      },
      {
        "duration": 5,
        "start_time": "2022-12-29T12:10:24.140Z"
      },
      {
        "duration": 17,
        "start_time": "2022-12-29T12:10:31.965Z"
      },
      {
        "duration": 18,
        "start_time": "2022-12-29T12:11:37.341Z"
      },
      {
        "duration": 1466,
        "start_time": "2022-12-29T12:12:01.772Z"
      },
      {
        "duration": 94,
        "start_time": "2022-12-29T12:12:03.240Z"
      },
      {
        "duration": 18,
        "start_time": "2022-12-29T12:12:03.335Z"
      },
      {
        "duration": 9,
        "start_time": "2022-12-29T12:12:03.355Z"
      },
      {
        "duration": 36,
        "start_time": "2022-12-29T12:12:03.366Z"
      },
      {
        "duration": 8,
        "start_time": "2022-12-29T12:12:03.404Z"
      },
      {
        "duration": 7,
        "start_time": "2022-12-29T12:12:03.413Z"
      },
      {
        "duration": 167,
        "start_time": "2022-12-29T12:12:03.421Z"
      },
      {
        "duration": 14,
        "start_time": "2022-12-29T12:12:03.590Z"
      },
      {
        "duration": 15,
        "start_time": "2022-12-29T12:12:27.556Z"
      },
      {
        "duration": 12,
        "start_time": "2022-12-29T12:12:31.787Z"
      },
      {
        "duration": 13,
        "start_time": "2022-12-29T12:12:36.569Z"
      },
      {
        "duration": 12,
        "start_time": "2022-12-29T12:12:53.538Z"
      },
      {
        "duration": 11,
        "start_time": "2022-12-29T12:13:01.120Z"
      },
      {
        "duration": 1339,
        "start_time": "2022-12-29T12:13:32.433Z"
      },
      {
        "duration": 93,
        "start_time": "2022-12-29T12:13:33.773Z"
      },
      {
        "duration": 19,
        "start_time": "2022-12-29T12:13:33.868Z"
      },
      {
        "duration": 23,
        "start_time": "2022-12-29T12:13:33.889Z"
      },
      {
        "duration": 16,
        "start_time": "2022-12-29T12:13:33.915Z"
      },
      {
        "duration": 828,
        "start_time": "2022-12-29T12:13:33.933Z"
      },
      {
        "duration": 0,
        "start_time": "2022-12-29T12:13:34.763Z"
      },
      {
        "duration": 0,
        "start_time": "2022-12-29T12:13:34.764Z"
      },
      {
        "duration": 0,
        "start_time": "2022-12-29T12:13:34.765Z"
      },
      {
        "duration": 6,
        "start_time": "2022-12-29T12:14:01.406Z"
      },
      {
        "duration": 6,
        "start_time": "2022-12-29T12:14:18.407Z"
      },
      {
        "duration": 10,
        "start_time": "2022-12-29T12:14:21.163Z"
      },
      {
        "duration": 8,
        "start_time": "2022-12-29T12:14:34.251Z"
      },
      {
        "duration": 8,
        "start_time": "2022-12-29T12:14:36.570Z"
      },
      {
        "duration": 85,
        "start_time": "2022-12-29T12:14:43.918Z"
      },
      {
        "duration": 1459,
        "start_time": "2022-12-29T12:15:06.453Z"
      },
      {
        "duration": 90,
        "start_time": "2022-12-29T12:15:07.914Z"
      },
      {
        "duration": 17,
        "start_time": "2022-12-29T12:15:08.006Z"
      },
      {
        "duration": 8,
        "start_time": "2022-12-29T12:15:08.025Z"
      },
      {
        "duration": 7,
        "start_time": "2022-12-29T12:15:08.034Z"
      },
      {
        "duration": 33,
        "start_time": "2022-12-29T12:15:08.042Z"
      },
      {
        "duration": 82,
        "start_time": "2022-12-29T12:15:08.077Z"
      },
      {
        "duration": 70,
        "start_time": "2022-12-29T12:15:08.161Z"
      },
      {
        "duration": 152,
        "start_time": "2022-12-29T12:15:08.233Z"
      },
      {
        "duration": 19,
        "start_time": "2022-12-29T12:15:08.388Z"
      },
      {
        "duration": 11,
        "start_time": "2022-12-29T12:15:15.501Z"
      },
      {
        "duration": 14,
        "start_time": "2022-12-29T12:15:21.285Z"
      },
      {
        "duration": 13,
        "start_time": "2022-12-29T12:15:41.355Z"
      },
      {
        "duration": 134,
        "start_time": "2022-12-29T13:26:30.992Z"
      },
      {
        "duration": 16,
        "start_time": "2022-12-29T13:26:53.987Z"
      },
      {
        "duration": 167,
        "start_time": "2022-12-29T13:27:49.217Z"
      },
      {
        "duration": 159,
        "start_time": "2022-12-29T13:27:53.515Z"
      },
      {
        "duration": 82,
        "start_time": "2022-12-29T14:06:50.162Z"
      },
      {
        "duration": 10,
        "start_time": "2022-12-29T14:07:15.306Z"
      },
      {
        "duration": 9,
        "start_time": "2022-12-29T14:07:28.510Z"
      },
      {
        "duration": 6,
        "start_time": "2022-12-29T14:07:40.813Z"
      },
      {
        "duration": 11,
        "start_time": "2022-12-29T14:08:03.736Z"
      },
      {
        "duration": 165,
        "start_time": "2022-12-29T14:21:52.352Z"
      },
      {
        "duration": 22,
        "start_time": "2022-12-29T14:22:20.915Z"
      },
      {
        "duration": 17,
        "start_time": "2022-12-29T14:22:28.010Z"
      },
      {
        "duration": 18,
        "start_time": "2022-12-29T14:22:38.534Z"
      },
      {
        "duration": 12,
        "start_time": "2022-12-29T14:23:30.445Z"
      },
      {
        "duration": 188,
        "start_time": "2022-12-29T14:25:16.015Z"
      },
      {
        "duration": 198,
        "start_time": "2022-12-29T14:25:23.639Z"
      },
      {
        "duration": 165,
        "start_time": "2022-12-29T14:25:29.326Z"
      },
      {
        "duration": 19,
        "start_time": "2022-12-29T14:26:11.851Z"
      },
      {
        "duration": 164,
        "start_time": "2022-12-29T14:26:19.420Z"
      },
      {
        "duration": 123,
        "start_time": "2022-12-29T14:26:34.281Z"
      },
      {
        "duration": 152,
        "start_time": "2022-12-29T14:31:42.684Z"
      },
      {
        "duration": 130,
        "start_time": "2022-12-29T14:31:50.879Z"
      },
      {
        "duration": 151,
        "start_time": "2022-12-29T14:32:18.801Z"
      },
      {
        "duration": 13,
        "start_time": "2022-12-29T14:41:15.486Z"
      },
      {
        "duration": 19,
        "start_time": "2022-12-29T14:41:29.078Z"
      },
      {
        "duration": 27,
        "start_time": "2022-12-29T14:41:34.401Z"
      },
      {
        "duration": 21,
        "start_time": "2022-12-29T14:42:04.193Z"
      },
      {
        "duration": 21,
        "start_time": "2022-12-29T14:42:17.846Z"
      },
      {
        "duration": 18,
        "start_time": "2022-12-29T14:42:24.542Z"
      },
      {
        "duration": 56,
        "start_time": "2022-12-29T14:43:18.609Z"
      },
      {
        "duration": 40,
        "start_time": "2022-12-29T14:43:24.209Z"
      },
      {
        "duration": 51,
        "start_time": "2022-12-29T14:43:27.033Z"
      },
      {
        "duration": 55,
        "start_time": "2022-12-29T14:43:32.986Z"
      },
      {
        "duration": 33,
        "start_time": "2022-12-29T14:43:52.254Z"
      },
      {
        "duration": 18,
        "start_time": "2022-12-29T14:43:58.613Z"
      },
      {
        "duration": 18,
        "start_time": "2022-12-29T14:44:02.489Z"
      },
      {
        "duration": 19,
        "start_time": "2022-12-29T14:44:07.137Z"
      },
      {
        "duration": 19,
        "start_time": "2022-12-29T14:44:49.639Z"
      },
      {
        "duration": 20,
        "start_time": "2022-12-29T14:45:07.432Z"
      },
      {
        "duration": 23,
        "start_time": "2022-12-29T14:45:10.587Z"
      },
      {
        "duration": 53,
        "start_time": "2022-12-29T14:45:27.586Z"
      },
      {
        "duration": 19,
        "start_time": "2022-12-29T14:45:35.767Z"
      },
      {
        "duration": 54,
        "start_time": "2022-12-29T14:45:47.478Z"
      },
      {
        "duration": 18,
        "start_time": "2022-12-29T14:45:49.528Z"
      },
      {
        "duration": 17,
        "start_time": "2022-12-29T14:46:10.467Z"
      },
      {
        "duration": 19,
        "start_time": "2022-12-29T14:46:13.783Z"
      },
      {
        "duration": 9,
        "start_time": "2022-12-29T15:06:32.633Z"
      },
      {
        "duration": 3,
        "start_time": "2022-12-29T15:06:42.070Z"
      },
      {
        "duration": 11,
        "start_time": "2022-12-29T15:06:45.539Z"
      },
      {
        "duration": 14,
        "start_time": "2022-12-29T15:06:55.654Z"
      },
      {
        "duration": 17,
        "start_time": "2022-12-29T15:06:58.926Z"
      },
      {
        "duration": 2,
        "start_time": "2022-12-29T15:07:32.066Z"
      },
      {
        "duration": 41,
        "start_time": "2022-12-29T15:08:38.519Z"
      },
      {
        "duration": 13,
        "start_time": "2022-12-29T15:08:41.288Z"
      },
      {
        "duration": 20,
        "start_time": "2022-12-29T15:08:51.605Z"
      },
      {
        "duration": 2,
        "start_time": "2022-12-29T15:12:25.681Z"
      },
      {
        "duration": 9,
        "start_time": "2022-12-29T15:13:12.569Z"
      },
      {
        "duration": 75,
        "start_time": "2022-12-29T15:13:32.755Z"
      },
      {
        "duration": 38,
        "start_time": "2022-12-29T15:13:37.157Z"
      },
      {
        "duration": 453,
        "start_time": "2022-12-29T15:13:45.792Z"
      },
      {
        "duration": 2,
        "start_time": "2022-12-29T15:14:10.308Z"
      },
      {
        "duration": 146,
        "start_time": "2022-12-29T15:14:51.285Z"
      },
      {
        "duration": 12,
        "start_time": "2022-12-29T15:16:33.548Z"
      },
      {
        "duration": 13,
        "start_time": "2022-12-29T15:16:35.840Z"
      },
      {
        "duration": 66,
        "start_time": "2022-12-29T15:17:01.366Z"
      },
      {
        "duration": 155,
        "start_time": "2022-12-29T15:17:04.792Z"
      },
      {
        "duration": 143,
        "start_time": "2022-12-29T15:17:08.832Z"
      },
      {
        "duration": 19,
        "start_time": "2022-12-29T15:19:27.555Z"
      },
      {
        "duration": 150,
        "start_time": "2022-12-29T15:19:29.877Z"
      },
      {
        "duration": 146,
        "start_time": "2022-12-29T15:19:54.370Z"
      },
      {
        "duration": 146,
        "start_time": "2022-12-29T15:21:47.442Z"
      },
      {
        "duration": 148,
        "start_time": "2022-12-29T15:21:55.757Z"
      },
      {
        "duration": 140,
        "start_time": "2022-12-29T15:27:43.613Z"
      },
      {
        "duration": 131,
        "start_time": "2022-12-29T15:27:48.652Z"
      },
      {
        "duration": 146,
        "start_time": "2022-12-29T15:27:56.270Z"
      },
      {
        "duration": 139,
        "start_time": "2022-12-29T15:28:00.118Z"
      },
      {
        "duration": 265,
        "start_time": "2022-12-29T15:28:05.383Z"
      },
      {
        "duration": 146,
        "start_time": "2022-12-29T15:28:12.778Z"
      },
      {
        "duration": 152,
        "start_time": "2022-12-29T15:28:17.528Z"
      },
      {
        "duration": 3,
        "start_time": "2022-12-29T15:30:32.590Z"
      },
      {
        "duration": 40,
        "start_time": "2022-12-29T15:30:58.037Z"
      },
      {
        "duration": 11,
        "start_time": "2022-12-29T15:31:02.251Z"
      },
      {
        "duration": 93,
        "start_time": "2022-12-29T15:31:14.345Z"
      },
      {
        "duration": 3,
        "start_time": "2022-12-29T15:31:28.154Z"
      },
      {
        "duration": 133,
        "start_time": "2022-12-29T15:33:26.206Z"
      },
      {
        "duration": 70,
        "start_time": "2022-12-29T15:36:32.443Z"
      },
      {
        "duration": 9,
        "start_time": "2022-12-29T15:37:17.369Z"
      },
      {
        "duration": 13,
        "start_time": "2022-12-29T15:37:58.159Z"
      },
      {
        "duration": 851,
        "start_time": "2022-12-29T15:38:03.640Z"
      },
      {
        "duration": 881,
        "start_time": "2022-12-29T15:41:22.499Z"
      },
      {
        "duration": 1483,
        "start_time": "2022-12-29T15:41:30.886Z"
      },
      {
        "duration": 85,
        "start_time": "2022-12-29T15:41:32.371Z"
      },
      {
        "duration": 40,
        "start_time": "2022-12-29T15:41:32.459Z"
      },
      {
        "duration": 7,
        "start_time": "2022-12-29T15:41:32.501Z"
      },
      {
        "duration": 13,
        "start_time": "2022-12-29T15:41:32.510Z"
      },
      {
        "duration": 83,
        "start_time": "2022-12-29T15:41:32.524Z"
      },
      {
        "duration": 78,
        "start_time": "2022-12-29T15:41:32.609Z"
      },
      {
        "duration": 70,
        "start_time": "2022-12-29T15:41:32.688Z"
      },
      {
        "duration": 139,
        "start_time": "2022-12-29T15:41:32.760Z"
      },
      {
        "duration": 274,
        "start_time": "2022-12-29T15:41:32.902Z"
      },
      {
        "duration": 18,
        "start_time": "2022-12-29T15:41:33.178Z"
      },
      {
        "duration": 2,
        "start_time": "2022-12-29T15:41:33.198Z"
      },
      {
        "duration": 6,
        "start_time": "2022-12-29T15:41:33.202Z"
      },
      {
        "duration": 173,
        "start_time": "2022-12-29T15:41:33.209Z"
      },
      {
        "duration": 188,
        "start_time": "2022-12-29T15:41:33.384Z"
      },
      {
        "duration": 770,
        "start_time": "2022-12-29T15:41:33.574Z"
      },
      {
        "duration": 9495,
        "start_time": "2022-12-29T15:42:07.739Z"
      },
      {
        "duration": 9288,
        "start_time": "2022-12-29T15:43:16.121Z"
      },
      {
        "duration": 9095,
        "start_time": "2022-12-29T15:43:48.589Z"
      },
      {
        "duration": 10,
        "start_time": "2022-12-29T15:45:41.377Z"
      },
      {
        "duration": 116,
        "start_time": "2022-12-29T15:45:51.690Z"
      },
      {
        "duration": 9,
        "start_time": "2022-12-29T15:46:02.105Z"
      },
      {
        "duration": 8,
        "start_time": "2022-12-29T15:46:07.145Z"
      },
      {
        "duration": 8,
        "start_time": "2022-12-29T15:46:12.575Z"
      },
      {
        "duration": 8,
        "start_time": "2022-12-29T15:46:17.376Z"
      },
      {
        "duration": 9,
        "start_time": "2022-12-29T15:46:21.175Z"
      },
      {
        "duration": 14,
        "start_time": "2022-12-29T15:47:29.060Z"
      },
      {
        "duration": 9,
        "start_time": "2022-12-29T15:47:49.652Z"
      },
      {
        "duration": 9,
        "start_time": "2022-12-29T15:47:53.500Z"
      },
      {
        "duration": 22,
        "start_time": "2022-12-29T15:49:01.549Z"
      },
      {
        "duration": 33,
        "start_time": "2022-12-29T15:49:15.343Z"
      },
      {
        "duration": 27,
        "start_time": "2022-12-29T15:49:25.741Z"
      },
      {
        "duration": 17,
        "start_time": "2022-12-29T15:49:31.303Z"
      },
      {
        "duration": 18,
        "start_time": "2022-12-29T15:49:40.153Z"
      },
      {
        "duration": 16,
        "start_time": "2022-12-29T15:50:16.932Z"
      },
      {
        "duration": 8,
        "start_time": "2022-12-29T16:10:19.417Z"
      },
      {
        "duration": 17,
        "start_time": "2022-12-29T17:08:36.651Z"
      },
      {
        "duration": 14,
        "start_time": "2022-12-29T17:08:40.979Z"
      },
      {
        "duration": 14,
        "start_time": "2022-12-29T17:08:44.121Z"
      },
      {
        "duration": 13,
        "start_time": "2022-12-29T17:09:08.938Z"
      },
      {
        "duration": 53,
        "start_time": "2022-12-29T17:09:23.166Z"
      },
      {
        "duration": 22,
        "start_time": "2022-12-29T17:09:34.090Z"
      },
      {
        "duration": 13,
        "start_time": "2022-12-29T17:09:42.799Z"
      },
      {
        "duration": 11,
        "start_time": "2022-12-29T17:10:02.051Z"
      },
      {
        "duration": 122,
        "start_time": "2022-12-29T17:11:36.648Z"
      },
      {
        "duration": 141,
        "start_time": "2022-12-29T17:11:48.543Z"
      },
      {
        "duration": 152,
        "start_time": "2022-12-29T17:11:54.334Z"
      },
      {
        "duration": 146,
        "start_time": "2022-12-29T17:11:59.703Z"
      },
      {
        "duration": 188,
        "start_time": "2022-12-29T17:12:06.011Z"
      },
      {
        "duration": 153,
        "start_time": "2022-12-29T17:12:08.446Z"
      },
      {
        "duration": 163,
        "start_time": "2022-12-29T17:12:36.335Z"
      },
      {
        "duration": 156,
        "start_time": "2022-12-29T17:12:42.593Z"
      },
      {
        "duration": 171,
        "start_time": "2022-12-29T17:15:53.809Z"
      },
      {
        "duration": 178,
        "start_time": "2022-12-29T17:15:59.593Z"
      },
      {
        "duration": 168,
        "start_time": "2022-12-29T17:16:04.489Z"
      },
      {
        "duration": 158,
        "start_time": "2022-12-29T17:16:11.279Z"
      },
      {
        "duration": 171,
        "start_time": "2022-12-29T17:16:46.780Z"
      },
      {
        "duration": 155,
        "start_time": "2022-12-29T17:17:03.543Z"
      },
      {
        "duration": 172,
        "start_time": "2022-12-29T17:17:12.682Z"
      },
      {
        "duration": 173,
        "start_time": "2022-12-29T17:17:29.169Z"
      },
      {
        "duration": 242,
        "start_time": "2022-12-29T17:17:35.957Z"
      },
      {
        "duration": 213,
        "start_time": "2022-12-29T17:17:58.915Z"
      },
      {
        "duration": 177,
        "start_time": "2022-12-29T17:19:29.443Z"
      },
      {
        "duration": 168,
        "start_time": "2022-12-29T17:19:33.139Z"
      },
      {
        "duration": 157,
        "start_time": "2022-12-29T17:19:50.525Z"
      },
      {
        "duration": 166,
        "start_time": "2022-12-29T17:19:56.514Z"
      },
      {
        "duration": 52,
        "start_time": "2022-12-29T17:23:42.784Z"
      },
      {
        "duration": 42,
        "start_time": "2022-12-29T17:23:52.635Z"
      },
      {
        "duration": 47,
        "start_time": "2022-12-29T17:24:00.588Z"
      },
      {
        "duration": 23,
        "start_time": "2022-12-29T17:24:14.006Z"
      },
      {
        "duration": 10,
        "start_time": "2022-12-29T17:24:31.366Z"
      },
      {
        "duration": 10,
        "start_time": "2022-12-29T17:24:37.009Z"
      },
      {
        "duration": 9,
        "start_time": "2022-12-29T17:24:42.044Z"
      },
      {
        "duration": 10,
        "start_time": "2022-12-29T17:32:23.513Z"
      },
      {
        "duration": 47,
        "start_time": "2022-12-29T17:34:41.463Z"
      },
      {
        "duration": 170,
        "start_time": "2022-12-29T17:34:44.497Z"
      },
      {
        "duration": 157,
        "start_time": "2022-12-29T17:34:48.202Z"
      },
      {
        "duration": 49,
        "start_time": "2022-12-29T17:35:34.261Z"
      },
      {
        "duration": 167,
        "start_time": "2022-12-29T17:35:42.684Z"
      },
      {
        "duration": 166,
        "start_time": "2022-12-29T17:35:53.218Z"
      },
      {
        "duration": 177,
        "start_time": "2022-12-29T17:39:55.224Z"
      },
      {
        "duration": 158,
        "start_time": "2022-12-29T17:40:09.116Z"
      },
      {
        "duration": 1649,
        "start_time": "2022-12-30T11:21:28.934Z"
      },
      {
        "duration": 140,
        "start_time": "2022-12-30T11:21:30.585Z"
      },
      {
        "duration": 17,
        "start_time": "2022-12-30T11:21:30.727Z"
      },
      {
        "duration": 28,
        "start_time": "2022-12-30T11:21:30.746Z"
      },
      {
        "duration": 80,
        "start_time": "2022-12-30T11:21:30.775Z"
      },
      {
        "duration": 55,
        "start_time": "2022-12-30T11:21:30.857Z"
      },
      {
        "duration": 171,
        "start_time": "2022-12-30T11:21:30.914Z"
      },
      {
        "duration": 263,
        "start_time": "2022-12-30T11:21:31.086Z"
      },
      {
        "duration": 11,
        "start_time": "2022-12-30T11:21:31.350Z"
      },
      {
        "duration": 5,
        "start_time": "2022-12-30T11:21:31.364Z"
      },
      {
        "duration": 10,
        "start_time": "2022-12-30T11:21:31.370Z"
      },
      {
        "duration": 175,
        "start_time": "2022-12-30T11:21:31.382Z"
      },
      {
        "duration": 257,
        "start_time": "2022-12-30T11:21:31.559Z"
      },
      {
        "duration": 791,
        "start_time": "2022-12-30T11:21:31.818Z"
      },
      {
        "duration": 29,
        "start_time": "2022-12-30T11:21:32.611Z"
      },
      {
        "duration": 182,
        "start_time": "2022-12-30T11:46:27.039Z"
      },
      {
        "duration": 5,
        "start_time": "2022-12-30T11:47:01.119Z"
      },
      {
        "duration": 12,
        "start_time": "2022-12-30T11:47:29.589Z"
      },
      {
        "duration": 14,
        "start_time": "2022-12-30T11:47:38.423Z"
      },
      {
        "duration": 65,
        "start_time": "2022-12-30T11:48:18.628Z"
      },
      {
        "duration": 54,
        "start_time": "2022-12-30T11:48:21.122Z"
      },
      {
        "duration": 146,
        "start_time": "2022-12-30T11:48:28.575Z"
      },
      {
        "duration": 13,
        "start_time": "2022-12-30T11:48:38.602Z"
      },
      {
        "duration": 28,
        "start_time": "2022-12-30T11:49:39.526Z"
      },
      {
        "duration": 162,
        "start_time": "2022-12-30T11:51:51.871Z"
      },
      {
        "duration": 152,
        "start_time": "2022-12-30T11:51:56.054Z"
      },
      {
        "duration": 144,
        "start_time": "2022-12-30T11:52:05.461Z"
      },
      {
        "duration": 150,
        "start_time": "2022-12-30T11:52:21.140Z"
      },
      {
        "duration": 140,
        "start_time": "2022-12-30T11:52:48.332Z"
      },
      {
        "duration": 21,
        "start_time": "2022-12-30T11:53:56.449Z"
      },
      {
        "duration": 143,
        "start_time": "2022-12-30T11:54:16.738Z"
      },
      {
        "duration": 153,
        "start_time": "2022-12-30T11:54:21.523Z"
      },
      {
        "duration": 9,
        "start_time": "2022-12-30T11:54:40.655Z"
      },
      {
        "duration": 13,
        "start_time": "2022-12-30T11:54:44.371Z"
      },
      {
        "duration": 14,
        "start_time": "2022-12-30T11:55:05.908Z"
      },
      {
        "duration": 22,
        "start_time": "2022-12-30T11:55:18.913Z"
      },
      {
        "duration": 22,
        "start_time": "2022-12-30T11:55:29.138Z"
      },
      {
        "duration": 146,
        "start_time": "2022-12-30T11:55:37.131Z"
      },
      {
        "duration": 20,
        "start_time": "2022-12-30T11:55:42.906Z"
      },
      {
        "duration": 135,
        "start_time": "2022-12-30T11:55:45.146Z"
      },
      {
        "duration": 16,
        "start_time": "2022-12-30T11:55:59.953Z"
      },
      {
        "duration": 18,
        "start_time": "2022-12-30T11:56:03.012Z"
      },
      {
        "duration": 21,
        "start_time": "2022-12-30T11:56:09.142Z"
      },
      {
        "duration": 176,
        "start_time": "2022-12-30T11:56:12.553Z"
      },
      {
        "duration": 21,
        "start_time": "2022-12-30T11:56:24.551Z"
      },
      {
        "duration": 10,
        "start_time": "2022-12-30T11:57:13.962Z"
      },
      {
        "duration": 15,
        "start_time": "2022-12-30T11:57:16.683Z"
      },
      {
        "duration": 55,
        "start_time": "2022-12-30T11:57:23.198Z"
      },
      {
        "duration": 19,
        "start_time": "2022-12-30T11:57:32.502Z"
      },
      {
        "duration": 27,
        "start_time": "2022-12-30T11:58:01.780Z"
      },
      {
        "duration": 34,
        "start_time": "2022-12-30T11:58:09.372Z"
      },
      {
        "duration": 35,
        "start_time": "2022-12-30T11:59:30.352Z"
      },
      {
        "duration": 22,
        "start_time": "2022-12-30T11:59:40.661Z"
      },
      {
        "duration": 17,
        "start_time": "2022-12-30T11:59:46.232Z"
      },
      {
        "duration": 19,
        "start_time": "2022-12-30T11:59:57.436Z"
      },
      {
        "duration": 46,
        "start_time": "2022-12-30T12:00:27.842Z"
      },
      {
        "duration": 18,
        "start_time": "2022-12-30T12:00:33.708Z"
      },
      {
        "duration": 26,
        "start_time": "2022-12-30T12:00:57.410Z"
      },
      {
        "duration": 18,
        "start_time": "2022-12-30T12:02:12.844Z"
      },
      {
        "duration": 40,
        "start_time": "2022-12-30T12:02:36.506Z"
      },
      {
        "duration": 17,
        "start_time": "2022-12-30T12:02:46.609Z"
      },
      {
        "duration": 18,
        "start_time": "2022-12-30T12:02:59.579Z"
      },
      {
        "duration": 19,
        "start_time": "2022-12-30T12:03:13.121Z"
      },
      {
        "duration": 40,
        "start_time": "2022-12-30T12:03:22.269Z"
      },
      {
        "duration": 47,
        "start_time": "2022-12-30T12:03:27.499Z"
      },
      {
        "duration": 147,
        "start_time": "2022-12-30T12:03:32.735Z"
      },
      {
        "duration": 133,
        "start_time": "2022-12-30T12:03:57.342Z"
      },
      {
        "duration": 157,
        "start_time": "2022-12-30T12:04:03.064Z"
      },
      {
        "duration": 24,
        "start_time": "2022-12-30T12:04:23.694Z"
      },
      {
        "duration": 662,
        "start_time": "2022-12-30T12:04:28.798Z"
      },
      {
        "duration": 25,
        "start_time": "2022-12-30T12:04:46.380Z"
      },
      {
        "duration": 43,
        "start_time": "2022-12-30T12:04:51.964Z"
      },
      {
        "duration": 34,
        "start_time": "2022-12-30T12:04:54.357Z"
      },
      {
        "duration": 15,
        "start_time": "2022-12-30T12:05:04.092Z"
      },
      {
        "duration": 24,
        "start_time": "2022-12-30T12:05:11.930Z"
      },
      {
        "duration": 550,
        "start_time": "2022-12-30T12:05:15.043Z"
      },
      {
        "duration": 13,
        "start_time": "2022-12-30T12:06:02.167Z"
      },
      {
        "duration": 19,
        "start_time": "2022-12-30T12:06:06.253Z"
      },
      {
        "duration": 551,
        "start_time": "2022-12-30T12:06:19.401Z"
      },
      {
        "duration": 535,
        "start_time": "2022-12-30T12:06:35.246Z"
      },
      {
        "duration": 539,
        "start_time": "2022-12-30T12:07:07.621Z"
      },
      {
        "duration": 329,
        "start_time": "2022-12-30T12:07:56.841Z"
      },
      {
        "duration": 534,
        "start_time": "2022-12-30T12:08:00.855Z"
      },
      {
        "duration": 323,
        "start_time": "2022-12-30T12:09:47.158Z"
      },
      {
        "duration": 118,
        "start_time": "2022-12-30T12:09:53.547Z"
      },
      {
        "duration": 119,
        "start_time": "2022-12-30T12:09:57.691Z"
      },
      {
        "duration": 498,
        "start_time": "2022-12-30T12:10:03.004Z"
      },
      {
        "duration": 23,
        "start_time": "2022-12-30T12:10:34.925Z"
      },
      {
        "duration": 14,
        "start_time": "2022-12-30T12:15:28.791Z"
      },
      {
        "duration": 15,
        "start_time": "2022-12-30T12:20:54.416Z"
      },
      {
        "duration": 18,
        "start_time": "2022-12-30T12:21:00.890Z"
      },
      {
        "duration": 15,
        "start_time": "2022-12-30T12:25:43.174Z"
      },
      {
        "duration": 19,
        "start_time": "2022-12-30T12:25:55.835Z"
      },
      {
        "duration": 21,
        "start_time": "2022-12-30T12:26:09.464Z"
      },
      {
        "duration": 120,
        "start_time": "2022-12-30T12:27:03.807Z"
      },
      {
        "duration": 125,
        "start_time": "2022-12-30T12:27:36.087Z"
      },
      {
        "duration": 24,
        "start_time": "2022-12-30T12:28:21.821Z"
      },
      {
        "duration": 24,
        "start_time": "2022-12-30T12:28:29.283Z"
      },
      {
        "duration": 23,
        "start_time": "2022-12-30T12:28:32.355Z"
      },
      {
        "duration": 21,
        "start_time": "2022-12-30T12:28:58.162Z"
      },
      {
        "duration": 22,
        "start_time": "2022-12-30T12:29:03.665Z"
      },
      {
        "duration": 757,
        "start_time": "2022-12-30T12:29:15.127Z"
      },
      {
        "duration": 712,
        "start_time": "2022-12-30T12:29:20.616Z"
      },
      {
        "duration": 21,
        "start_time": "2022-12-30T12:29:27.288Z"
      },
      {
        "duration": 22,
        "start_time": "2022-12-30T12:30:26.347Z"
      },
      {
        "duration": 20,
        "start_time": "2022-12-30T12:30:31.887Z"
      },
      {
        "duration": 21,
        "start_time": "2022-12-30T12:31:19.705Z"
      },
      {
        "duration": 22,
        "start_time": "2022-12-30T12:31:26.280Z"
      },
      {
        "duration": 21,
        "start_time": "2022-12-30T12:31:31.776Z"
      },
      {
        "duration": 27,
        "start_time": "2022-12-30T12:31:45.711Z"
      },
      {
        "duration": 144,
        "start_time": "2022-12-30T12:31:48.872Z"
      },
      {
        "duration": 22,
        "start_time": "2022-12-30T12:31:58.848Z"
      },
      {
        "duration": 27,
        "start_time": "2022-12-30T12:33:57.448Z"
      },
      {
        "duration": 28,
        "start_time": "2022-12-30T12:34:04.886Z"
      },
      {
        "duration": 153,
        "start_time": "2022-12-30T12:34:15.261Z"
      },
      {
        "duration": 132,
        "start_time": "2022-12-30T12:34:24.040Z"
      },
      {
        "duration": 34,
        "start_time": "2022-12-30T12:34:58.981Z"
      },
      {
        "duration": 163,
        "start_time": "2022-12-30T12:35:01.930Z"
      },
      {
        "duration": 143,
        "start_time": "2022-12-30T12:35:08.116Z"
      },
      {
        "duration": 5,
        "start_time": "2022-12-30T12:36:39.037Z"
      },
      {
        "duration": 5,
        "start_time": "2022-12-30T12:36:53.532Z"
      },
      {
        "duration": 7,
        "start_time": "2022-12-30T12:36:57.228Z"
      },
      {
        "duration": 29,
        "start_time": "2022-12-30T12:37:02.278Z"
      },
      {
        "duration": 4,
        "start_time": "2022-12-30T12:37:17.295Z"
      },
      {
        "duration": 29,
        "start_time": "2022-12-30T12:37:21.654Z"
      },
      {
        "duration": 27,
        "start_time": "2022-12-30T12:37:23.694Z"
      },
      {
        "duration": 4,
        "start_time": "2022-12-30T12:37:27.831Z"
      },
      {
        "duration": 4,
        "start_time": "2022-12-30T12:37:31.192Z"
      },
      {
        "duration": 157,
        "start_time": "2022-12-30T12:37:37.999Z"
      },
      {
        "duration": 197,
        "start_time": "2022-12-30T12:37:52.545Z"
      },
      {
        "duration": 158,
        "start_time": "2022-12-30T12:38:08.208Z"
      },
      {
        "duration": 199,
        "start_time": "2022-12-30T12:38:12.368Z"
      },
      {
        "duration": 173,
        "start_time": "2022-12-30T12:38:27.312Z"
      },
      {
        "duration": 23,
        "start_time": "2022-12-30T12:38:51.767Z"
      },
      {
        "duration": 21,
        "start_time": "2022-12-30T12:38:55.925Z"
      },
      {
        "duration": 824,
        "start_time": "2022-12-30T12:38:59.967Z"
      },
      {
        "duration": 21,
        "start_time": "2022-12-30T12:39:10.260Z"
      },
      {
        "duration": 20,
        "start_time": "2022-12-30T12:39:17.064Z"
      },
      {
        "duration": 27,
        "start_time": "2022-12-30T12:41:35.666Z"
      },
      {
        "duration": 21,
        "start_time": "2022-12-30T12:41:38.918Z"
      },
      {
        "duration": 28,
        "start_time": "2022-12-30T12:41:59.238Z"
      },
      {
        "duration": 22,
        "start_time": "2022-12-30T12:42:03.013Z"
      },
      {
        "duration": 25,
        "start_time": "2022-12-30T12:42:10.299Z"
      },
      {
        "duration": 27,
        "start_time": "2022-12-30T12:43:05.948Z"
      },
      {
        "duration": 20,
        "start_time": "2022-12-30T12:43:13.606Z"
      },
      {
        "duration": 23,
        "start_time": "2022-12-30T12:44:18.141Z"
      },
      {
        "duration": 26,
        "start_time": "2022-12-30T12:44:23.755Z"
      },
      {
        "duration": 22,
        "start_time": "2022-12-30T12:44:30.891Z"
      },
      {
        "duration": 30,
        "start_time": "2022-12-30T12:45:03.784Z"
      },
      {
        "duration": 26,
        "start_time": "2022-12-30T12:45:13.205Z"
      },
      {
        "duration": 55,
        "start_time": "2022-12-30T12:45:29.160Z"
      },
      {
        "duration": 23,
        "start_time": "2022-12-30T12:45:33.959Z"
      },
      {
        "duration": 21,
        "start_time": "2022-12-30T12:46:01.296Z"
      },
      {
        "duration": 25,
        "start_time": "2022-12-30T12:46:10.861Z"
      },
      {
        "duration": 25,
        "start_time": "2022-12-30T12:46:14.325Z"
      },
      {
        "duration": 27,
        "start_time": "2022-12-30T12:46:27.839Z"
      },
      {
        "duration": 22,
        "start_time": "2022-12-30T12:46:42.941Z"
      },
      {
        "duration": 28,
        "start_time": "2022-12-30T12:46:55.895Z"
      },
      {
        "duration": 28,
        "start_time": "2022-12-30T12:47:24.187Z"
      },
      {
        "duration": 21,
        "start_time": "2022-12-30T12:47:43.217Z"
      },
      {
        "duration": 21,
        "start_time": "2022-12-30T12:47:47.559Z"
      },
      {
        "duration": 27,
        "start_time": "2022-12-30T12:47:59.023Z"
      },
      {
        "duration": 558,
        "start_time": "2022-12-30T12:48:27.136Z"
      },
      {
        "duration": 153,
        "start_time": "2022-12-30T12:49:22.172Z"
      },
      {
        "duration": 26,
        "start_time": "2022-12-30T12:49:26.774Z"
      },
      {
        "duration": 243,
        "start_time": "2022-12-30T12:49:36.618Z"
      },
      {
        "duration": 220,
        "start_time": "2022-12-30T12:50:04.345Z"
      },
      {
        "duration": 394,
        "start_time": "2022-12-30T12:50:11.958Z"
      },
      {
        "duration": 151,
        "start_time": "2022-12-30T12:55:54.497Z"
      },
      {
        "duration": 217,
        "start_time": "2022-12-30T12:55:58.029Z"
      },
      {
        "duration": 219,
        "start_time": "2022-12-30T12:56:03.243Z"
      },
      {
        "duration": 51,
        "start_time": "2022-12-30T15:33:15.570Z"
      },
      {
        "duration": 208,
        "start_time": "2022-12-30T15:33:18.379Z"
      },
      {
        "duration": 32,
        "start_time": "2022-12-30T15:34:06.654Z"
      },
      {
        "duration": 224,
        "start_time": "2022-12-30T15:34:17.800Z"
      },
      {
        "duration": 208,
        "start_time": "2022-12-30T15:34:23.538Z"
      },
      {
        "duration": 220,
        "start_time": "2022-12-30T15:34:26.783Z"
      },
      {
        "duration": 219,
        "start_time": "2022-12-30T15:34:39.019Z"
      },
      {
        "duration": 245,
        "start_time": "2022-12-30T15:34:41.821Z"
      },
      {
        "duration": 220,
        "start_time": "2022-12-30T15:34:45.741Z"
      },
      {
        "duration": 234,
        "start_time": "2022-12-30T15:34:50.308Z"
      },
      {
        "duration": 231,
        "start_time": "2022-12-30T15:34:55.837Z"
      },
      {
        "duration": 227,
        "start_time": "2022-12-30T15:34:58.756Z"
      },
      {
        "duration": 218,
        "start_time": "2022-12-30T15:35:01.972Z"
      },
      {
        "duration": 229,
        "start_time": "2022-12-30T15:35:04.877Z"
      },
      {
        "duration": 227,
        "start_time": "2022-12-30T15:35:08.700Z"
      },
      {
        "duration": 263,
        "start_time": "2022-12-30T15:35:12.338Z"
      },
      {
        "duration": 215,
        "start_time": "2022-12-30T15:35:19.653Z"
      },
      {
        "duration": 223,
        "start_time": "2022-12-30T15:35:27.849Z"
      },
      {
        "duration": 222,
        "start_time": "2022-12-30T15:35:35.883Z"
      },
      {
        "duration": 220,
        "start_time": "2022-12-30T15:35:52.602Z"
      },
      {
        "duration": 398,
        "start_time": "2022-12-30T15:36:27.737Z"
      },
      {
        "duration": 213,
        "start_time": "2022-12-30T15:36:48.615Z"
      },
      {
        "duration": 135,
        "start_time": "2022-12-30T15:37:07.471Z"
      },
      {
        "duration": 222,
        "start_time": "2022-12-30T15:37:14.433Z"
      },
      {
        "duration": 157,
        "start_time": "2022-12-30T15:37:22.086Z"
      },
      {
        "duration": 260,
        "start_time": "2022-12-30T15:37:48.409Z"
      },
      {
        "duration": 303,
        "start_time": "2022-12-30T15:37:55.354Z"
      },
      {
        "duration": 248,
        "start_time": "2022-12-30T15:38:19.082Z"
      },
      {
        "duration": 219,
        "start_time": "2022-12-30T15:41:29.095Z"
      },
      {
        "duration": 268,
        "start_time": "2022-12-30T15:41:36.434Z"
      },
      {
        "duration": 225,
        "start_time": "2022-12-30T15:41:53.733Z"
      },
      {
        "duration": 219,
        "start_time": "2022-12-30T15:42:36.042Z"
      },
      {
        "duration": 252,
        "start_time": "2022-12-30T15:42:42.555Z"
      },
      {
        "duration": 212,
        "start_time": "2022-12-30T15:42:44.757Z"
      },
      {
        "duration": 129,
        "start_time": "2022-12-30T15:42:53.180Z"
      },
      {
        "duration": 227,
        "start_time": "2022-12-30T15:43:21.986Z"
      },
      {
        "duration": 222,
        "start_time": "2022-12-30T15:43:32.016Z"
      },
      {
        "duration": 205,
        "start_time": "2022-12-30T15:43:43.247Z"
      },
      {
        "duration": 222,
        "start_time": "2022-12-30T15:43:48.840Z"
      },
      {
        "duration": 207,
        "start_time": "2022-12-30T15:43:53.644Z"
      },
      {
        "duration": 208,
        "start_time": "2022-12-30T15:44:59.651Z"
      },
      {
        "duration": 367,
        "start_time": "2022-12-30T15:45:04.643Z"
      },
      {
        "duration": 276,
        "start_time": "2022-12-30T15:45:08.738Z"
      },
      {
        "duration": 231,
        "start_time": "2022-12-30T15:45:13.724Z"
      },
      {
        "duration": 401,
        "start_time": "2022-12-30T15:45:17.435Z"
      },
      {
        "duration": 237,
        "start_time": "2022-12-30T15:45:21.585Z"
      },
      {
        "duration": 226,
        "start_time": "2022-12-30T15:45:29.621Z"
      },
      {
        "duration": 231,
        "start_time": "2022-12-30T15:45:36.409Z"
      },
      {
        "duration": 234,
        "start_time": "2022-12-30T15:45:39.130Z"
      },
      {
        "duration": 256,
        "start_time": "2022-12-30T15:45:45.930Z"
      },
      {
        "duration": 89,
        "start_time": "2022-12-30T15:50:59.991Z"
      },
      {
        "duration": 182,
        "start_time": "2022-12-30T15:51:03.534Z"
      },
      {
        "duration": 203,
        "start_time": "2022-12-30T15:51:08.454Z"
      },
      {
        "duration": 46,
        "start_time": "2022-12-30T15:51:37.132Z"
      },
      {
        "duration": 203,
        "start_time": "2022-12-30T15:51:42.359Z"
      },
      {
        "duration": 173,
        "start_time": "2022-12-30T15:51:49.476Z"
      },
      {
        "duration": 196,
        "start_time": "2022-12-30T15:51:51.988Z"
      },
      {
        "duration": 175,
        "start_time": "2022-12-30T15:51:55.921Z"
      },
      {
        "duration": 167,
        "start_time": "2022-12-30T15:52:00.220Z"
      },
      {
        "duration": 43,
        "start_time": "2022-12-30T15:52:04.901Z"
      },
      {
        "duration": 178,
        "start_time": "2022-12-30T15:52:07.938Z"
      },
      {
        "duration": 175,
        "start_time": "2022-12-30T15:52:10.754Z"
      },
      {
        "duration": 162,
        "start_time": "2022-12-30T15:53:07.512Z"
      },
      {
        "duration": 605,
        "start_time": "2022-12-30T15:53:56.330Z"
      },
      {
        "duration": 564,
        "start_time": "2022-12-30T15:54:06.938Z"
      },
      {
        "duration": 568,
        "start_time": "2022-12-30T15:54:35.733Z"
      },
      {
        "duration": 1229,
        "start_time": "2022-12-30T15:54:58.739Z"
      },
      {
        "duration": 539,
        "start_time": "2022-12-30T15:55:02.706Z"
      },
      {
        "duration": 159,
        "start_time": "2022-12-30T15:55:13.225Z"
      },
      {
        "duration": 153,
        "start_time": "2022-12-30T15:55:29.593Z"
      },
      {
        "duration": 559,
        "start_time": "2022-12-30T15:55:50.688Z"
      },
      {
        "duration": 665,
        "start_time": "2022-12-30T15:55:53.948Z"
      },
      {
        "duration": 571,
        "start_time": "2022-12-30T15:56:04.134Z"
      },
      {
        "duration": 739,
        "start_time": "2022-12-30T15:56:06.213Z"
      },
      {
        "duration": 533,
        "start_time": "2022-12-30T15:56:20.845Z"
      },
      {
        "duration": 845,
        "start_time": "2022-12-30T15:57:42.633Z"
      },
      {
        "duration": 672,
        "start_time": "2022-12-30T15:57:56.104Z"
      },
      {
        "duration": 621,
        "start_time": "2022-12-30T16:02:53.107Z"
      },
      {
        "duration": 631,
        "start_time": "2022-12-30T16:03:05.671Z"
      },
      {
        "duration": 552,
        "start_time": "2022-12-30T16:03:12.930Z"
      },
      {
        "duration": 1780,
        "start_time": "2023-01-10T07:58:39.449Z"
      },
      {
        "duration": 167,
        "start_time": "2023-01-10T07:58:41.232Z"
      },
      {
        "duration": 18,
        "start_time": "2023-01-10T07:58:41.403Z"
      },
      {
        "duration": 8,
        "start_time": "2023-01-10T07:58:41.424Z"
      },
      {
        "duration": 97,
        "start_time": "2023-01-10T07:58:41.434Z"
      },
      {
        "duration": 70,
        "start_time": "2023-01-10T07:58:41.533Z"
      },
      {
        "duration": 163,
        "start_time": "2023-01-10T07:58:41.605Z"
      },
      {
        "duration": 304,
        "start_time": "2023-01-10T07:58:41.770Z"
      },
      {
        "duration": 18,
        "start_time": "2023-01-10T07:58:42.077Z"
      },
      {
        "duration": 304,
        "start_time": "2023-01-10T07:58:42.097Z"
      },
      {
        "duration": 0,
        "start_time": "2023-01-10T07:58:42.403Z"
      },
      {
        "duration": 0,
        "start_time": "2023-01-10T07:58:42.404Z"
      },
      {
        "duration": 0,
        "start_time": "2023-01-10T07:58:42.405Z"
      },
      {
        "duration": 0,
        "start_time": "2023-01-10T07:58:42.406Z"
      },
      {
        "duration": 0,
        "start_time": "2023-01-10T07:58:42.407Z"
      },
      {
        "duration": 0,
        "start_time": "2023-01-10T07:58:42.408Z"
      },
      {
        "duration": 606,
        "start_time": "2023-01-10T08:04:32.787Z"
      },
      {
        "duration": 274,
        "start_time": "2023-01-10T08:04:58.247Z"
      },
      {
        "duration": 14,
        "start_time": "2023-01-10T08:06:02.748Z"
      },
      {
        "duration": 211,
        "start_time": "2023-01-10T08:12:38.133Z"
      },
      {
        "duration": 16,
        "start_time": "2023-01-10T08:14:19.655Z"
      },
      {
        "duration": 14,
        "start_time": "2023-01-10T08:14:43.441Z"
      },
      {
        "duration": 199,
        "start_time": "2023-01-10T08:16:27.422Z"
      },
      {
        "duration": 144,
        "start_time": "2023-01-10T08:16:41.875Z"
      },
      {
        "duration": 248,
        "start_time": "2023-01-10T08:21:17.541Z"
      },
      {
        "duration": 54,
        "start_time": "2023-01-10T08:21:28.008Z"
      },
      {
        "duration": 67,
        "start_time": "2023-01-10T08:21:44.530Z"
      },
      {
        "duration": 25,
        "start_time": "2023-01-10T08:22:17.858Z"
      },
      {
        "duration": 16,
        "start_time": "2023-01-10T08:24:26.227Z"
      },
      {
        "duration": 10,
        "start_time": "2023-01-10T08:24:34.716Z"
      },
      {
        "duration": 16,
        "start_time": "2023-01-10T08:24:40.504Z"
      },
      {
        "duration": 35,
        "start_time": "2023-01-10T08:25:24.176Z"
      },
      {
        "duration": 550,
        "start_time": "2023-01-10T08:25:39.843Z"
      },
      {
        "duration": 29,
        "start_time": "2023-01-10T08:26:18.953Z"
      },
      {
        "duration": 43,
        "start_time": "2023-01-10T08:26:36.804Z"
      },
      {
        "duration": 47,
        "start_time": "2023-01-10T08:26:59.710Z"
      },
      {
        "duration": 42,
        "start_time": "2023-01-10T08:27:11.718Z"
      },
      {
        "duration": 30,
        "start_time": "2023-01-10T08:27:14.830Z"
      },
      {
        "duration": 86,
        "start_time": "2023-01-10T08:27:25.409Z"
      },
      {
        "duration": 94,
        "start_time": "2023-01-10T08:27:29.028Z"
      },
      {
        "duration": 32,
        "start_time": "2023-01-10T08:28:21.605Z"
      },
      {
        "duration": 86,
        "start_time": "2023-01-10T08:28:29.503Z"
      },
      {
        "duration": 23,
        "start_time": "2023-01-10T08:29:32.524Z"
      },
      {
        "duration": 23,
        "start_time": "2023-01-10T08:29:35.233Z"
      },
      {
        "duration": 26,
        "start_time": "2023-01-10T08:31:14.856Z"
      },
      {
        "duration": 28,
        "start_time": "2023-01-10T08:31:46.016Z"
      },
      {
        "duration": 26,
        "start_time": "2023-01-10T08:31:49.717Z"
      },
      {
        "duration": 25,
        "start_time": "2023-01-10T08:31:54.828Z"
      },
      {
        "duration": 52,
        "start_time": "2023-01-10T08:31:58.374Z"
      },
      {
        "duration": 24,
        "start_time": "2023-01-10T08:32:00.756Z"
      },
      {
        "duration": 30,
        "start_time": "2023-01-10T08:32:09.970Z"
      },
      {
        "duration": 33,
        "start_time": "2023-01-10T08:32:18.955Z"
      },
      {
        "duration": 61,
        "start_time": "2023-01-10T08:32:28.139Z"
      },
      {
        "duration": 29,
        "start_time": "2023-01-10T08:32:42.205Z"
      },
      {
        "duration": 30,
        "start_time": "2023-01-10T08:32:47.946Z"
      },
      {
        "duration": 64,
        "start_time": "2023-01-10T08:32:56.161Z"
      },
      {
        "duration": 35,
        "start_time": "2023-01-10T08:33:10.369Z"
      },
      {
        "duration": 89,
        "start_time": "2023-01-10T08:33:44.013Z"
      },
      {
        "duration": 117,
        "start_time": "2023-01-10T08:34:33.842Z"
      },
      {
        "duration": 102,
        "start_time": "2023-01-10T08:34:37.800Z"
      },
      {
        "duration": 119,
        "start_time": "2023-01-10T08:40:34.891Z"
      },
      {
        "duration": 93,
        "start_time": "2023-01-10T08:40:55.620Z"
      },
      {
        "duration": 49,
        "start_time": "2023-01-10T08:42:20.121Z"
      },
      {
        "duration": 30,
        "start_time": "2023-01-10T08:42:45.362Z"
      },
      {
        "duration": 34,
        "start_time": "2023-01-10T08:42:53.326Z"
      },
      {
        "duration": 375,
        "start_time": "2023-01-10T08:43:36.952Z"
      },
      {
        "duration": 50,
        "start_time": "2023-01-10T08:45:19.375Z"
      },
      {
        "duration": 438,
        "start_time": "2023-01-10T08:45:23.398Z"
      },
      {
        "duration": 35,
        "start_time": "2023-01-10T08:45:36.807Z"
      },
      {
        "duration": 20,
        "start_time": "2023-01-10T08:45:51.540Z"
      },
      {
        "duration": 464,
        "start_time": "2023-01-10T08:46:33.314Z"
      },
      {
        "duration": 34,
        "start_time": "2023-01-10T08:46:37.096Z"
      },
      {
        "duration": 33,
        "start_time": "2023-01-10T08:55:53.213Z"
      },
      {
        "duration": 18,
        "start_time": "2023-01-10T08:56:37.921Z"
      },
      {
        "duration": 19,
        "start_time": "2023-01-10T08:56:45.367Z"
      },
      {
        "duration": 37,
        "start_time": "2023-01-10T08:57:04.069Z"
      },
      {
        "duration": 31,
        "start_time": "2023-01-10T08:57:48.972Z"
      },
      {
        "duration": 30,
        "start_time": "2023-01-10T08:58:51.735Z"
      },
      {
        "duration": 20,
        "start_time": "2023-01-10T08:58:56.227Z"
      },
      {
        "duration": 35,
        "start_time": "2023-01-10T08:58:59.149Z"
      },
      {
        "duration": 19,
        "start_time": "2023-01-10T08:59:31.661Z"
      },
      {
        "duration": 19,
        "start_time": "2023-01-10T08:59:56.859Z"
      },
      {
        "duration": 972,
        "start_time": "2023-01-10T09:00:15.499Z"
      },
      {
        "duration": 21,
        "start_time": "2023-01-10T09:00:29.599Z"
      },
      {
        "duration": 39,
        "start_time": "2023-01-10T09:00:33.289Z"
      },
      {
        "duration": 40,
        "start_time": "2023-01-10T09:00:41.997Z"
      },
      {
        "duration": 31,
        "start_time": "2023-01-10T09:03:28.989Z"
      },
      {
        "duration": 38,
        "start_time": "2023-01-10T09:03:42.822Z"
      },
      {
        "duration": 762,
        "start_time": "2023-01-10T09:04:58.560Z"
      },
      {
        "duration": 1154,
        "start_time": "2023-01-10T09:05:02.802Z"
      },
      {
        "duration": 28,
        "start_time": "2023-01-10T09:05:11.141Z"
      },
      {
        "duration": 33,
        "start_time": "2023-01-10T09:06:07.220Z"
      },
      {
        "duration": 39,
        "start_time": "2023-01-10T09:06:12.112Z"
      },
      {
        "duration": 23,
        "start_time": "2023-01-10T09:06:35.936Z"
      },
      {
        "duration": 38,
        "start_time": "2023-01-10T09:06:38.596Z"
      },
      {
        "duration": 39,
        "start_time": "2023-01-10T09:06:48.237Z"
      },
      {
        "duration": 38,
        "start_time": "2023-01-10T09:07:02.555Z"
      },
      {
        "duration": 36,
        "start_time": "2023-01-10T09:07:26.708Z"
      },
      {
        "duration": 31,
        "start_time": "2023-01-10T09:07:35.298Z"
      },
      {
        "duration": 35,
        "start_time": "2023-01-10T11:26:18.871Z"
      },
      {
        "duration": 41,
        "start_time": "2023-01-10T11:26:29.317Z"
      },
      {
        "duration": 323,
        "start_time": "2023-01-10T11:26:42.788Z"
      },
      {
        "duration": 37,
        "start_time": "2023-01-10T11:27:49.633Z"
      },
      {
        "duration": 28,
        "start_time": "2023-01-10T11:28:20.756Z"
      },
      {
        "duration": 21,
        "start_time": "2023-01-10T11:28:29.334Z"
      },
      {
        "duration": 25,
        "start_time": "2023-01-10T11:28:34.156Z"
      },
      {
        "duration": 22,
        "start_time": "2023-01-10T11:28:41.265Z"
      },
      {
        "duration": 43,
        "start_time": "2023-01-10T11:28:44.795Z"
      },
      {
        "duration": 33,
        "start_time": "2023-01-10T11:30:42.592Z"
      },
      {
        "duration": 32,
        "start_time": "2023-01-10T11:30:59.149Z"
      },
      {
        "duration": 49,
        "start_time": "2023-01-10T11:31:13.969Z"
      },
      {
        "duration": 33,
        "start_time": "2023-01-10T11:31:23.580Z"
      },
      {
        "duration": 34,
        "start_time": "2023-01-10T11:31:34.462Z"
      },
      {
        "duration": 30,
        "start_time": "2023-01-10T11:31:43.328Z"
      },
      {
        "duration": 31,
        "start_time": "2023-01-10T11:31:53.610Z"
      },
      {
        "duration": 47,
        "start_time": "2023-01-10T11:32:38.797Z"
      },
      {
        "duration": 39,
        "start_time": "2023-01-10T11:32:47.882Z"
      },
      {
        "duration": 30,
        "start_time": "2023-01-10T11:32:53.800Z"
      },
      {
        "duration": 25,
        "start_time": "2023-01-10T11:34:09.545Z"
      },
      {
        "duration": 26,
        "start_time": "2023-01-10T11:34:17.643Z"
      },
      {
        "duration": 30,
        "start_time": "2023-01-10T11:34:20.218Z"
      },
      {
        "duration": 42,
        "start_time": "2023-01-10T11:34:39.474Z"
      },
      {
        "duration": 31,
        "start_time": "2023-01-10T11:34:46.150Z"
      },
      {
        "duration": 38,
        "start_time": "2023-01-10T11:36:01.282Z"
      },
      {
        "duration": 35,
        "start_time": "2023-01-10T11:36:10.150Z"
      },
      {
        "duration": 36,
        "start_time": "2023-01-10T11:36:19.324Z"
      },
      {
        "duration": 1635,
        "start_time": "2023-01-10T11:38:24.066Z"
      },
      {
        "duration": 97,
        "start_time": "2023-01-10T11:38:25.703Z"
      },
      {
        "duration": 18,
        "start_time": "2023-01-10T11:38:25.803Z"
      },
      {
        "duration": 24,
        "start_time": "2023-01-10T11:38:25.823Z"
      },
      {
        "duration": 88,
        "start_time": "2023-01-10T11:38:25.851Z"
      },
      {
        "duration": 67,
        "start_time": "2023-01-10T11:38:25.941Z"
      },
      {
        "duration": 210,
        "start_time": "2023-01-10T11:38:26.010Z"
      },
      {
        "duration": 297,
        "start_time": "2023-01-10T11:38:26.222Z"
      },
      {
        "duration": 14,
        "start_time": "2023-01-10T11:38:26.521Z"
      },
      {
        "duration": 672,
        "start_time": "2023-01-10T11:38:26.537Z"
      },
      {
        "duration": 240,
        "start_time": "2023-01-10T11:38:27.211Z"
      },
      {
        "duration": 277,
        "start_time": "2023-01-10T11:38:27.453Z"
      },
      {
        "duration": 188,
        "start_time": "2023-01-10T11:38:27.732Z"
      },
      {
        "duration": 220,
        "start_time": "2023-01-10T11:38:27.922Z"
      },
      {
        "duration": 891,
        "start_time": "2023-01-10T11:38:28.144Z"
      },
      {
        "duration": 26,
        "start_time": "2023-01-10T11:38:29.036Z"
      },
      {
        "duration": 28,
        "start_time": "2023-01-10T11:38:29.064Z"
      },
      {
        "duration": 1606,
        "start_time": "2023-01-10T11:39:54.571Z"
      },
      {
        "duration": 98,
        "start_time": "2023-01-10T11:39:56.179Z"
      },
      {
        "duration": 26,
        "start_time": "2023-01-10T11:39:56.279Z"
      },
      {
        "duration": 9,
        "start_time": "2023-01-10T11:39:56.307Z"
      },
      {
        "duration": 88,
        "start_time": "2023-01-10T11:39:56.318Z"
      },
      {
        "duration": 70,
        "start_time": "2023-01-10T11:39:56.408Z"
      },
      {
        "duration": 163,
        "start_time": "2023-01-10T11:39:56.480Z"
      },
      {
        "duration": 300,
        "start_time": "2023-01-10T11:39:56.645Z"
      },
      {
        "duration": 11,
        "start_time": "2023-01-10T11:39:56.947Z"
      },
      {
        "duration": 666,
        "start_time": "2023-01-10T11:39:56.960Z"
      },
      {
        "duration": 235,
        "start_time": "2023-01-10T11:39:57.627Z"
      },
      {
        "duration": 279,
        "start_time": "2023-01-10T11:39:57.864Z"
      },
      {
        "duration": 187,
        "start_time": "2023-01-10T11:39:58.145Z"
      },
      {
        "duration": 174,
        "start_time": "2023-01-10T11:39:58.334Z"
      },
      {
        "duration": 892,
        "start_time": "2023-01-10T11:39:58.511Z"
      },
      {
        "duration": 51619,
        "start_time": "2023-01-10T11:39:59.404Z"
      },
      {
        "duration": 18,
        "start_time": "2023-01-10T11:40:51.025Z"
      },
      {
        "duration": 52,
        "start_time": "2023-01-10T11:41:21.323Z"
      },
      {
        "duration": 540,
        "start_time": "2023-01-10T11:41:24.530Z"
      },
      {
        "duration": 558,
        "start_time": "2023-01-10T11:42:04.204Z"
      },
      {
        "duration": 551,
        "start_time": "2023-01-10T11:42:09.065Z"
      },
      {
        "duration": 528,
        "start_time": "2023-01-10T11:42:19.232Z"
      },
      {
        "duration": 643,
        "start_time": "2023-01-10T11:42:27.981Z"
      },
      {
        "duration": 31,
        "start_time": "2023-01-10T11:43:01.065Z"
      },
      {
        "duration": 105,
        "start_time": "2023-01-10T11:43:30.912Z"
      },
      {
        "duration": 85,
        "start_time": "2023-01-10T11:44:04.849Z"
      },
      {
        "duration": 26,
        "start_time": "2023-01-10T11:44:13.201Z"
      },
      {
        "duration": 87,
        "start_time": "2023-01-10T11:44:21.460Z"
      },
      {
        "duration": 17,
        "start_time": "2023-01-10T11:49:35.844Z"
      },
      {
        "duration": 18,
        "start_time": "2023-01-10T11:49:54.933Z"
      },
      {
        "duration": 211,
        "start_time": "2023-01-10T11:50:26.854Z"
      },
      {
        "duration": 21,
        "start_time": "2023-01-10T11:50:35.765Z"
      },
      {
        "duration": 18,
        "start_time": "2023-01-10T11:50:46.473Z"
      },
      {
        "duration": 19,
        "start_time": "2023-01-10T11:51:12.504Z"
      },
      {
        "duration": 17,
        "start_time": "2023-01-10T11:51:23.007Z"
      },
      {
        "duration": 11,
        "start_time": "2023-01-10T11:54:41.135Z"
      },
      {
        "duration": 14,
        "start_time": "2023-01-10T11:54:47.792Z"
      },
      {
        "duration": 27,
        "start_time": "2023-01-10T12:15:28.667Z"
      },
      {
        "duration": 24,
        "start_time": "2023-01-10T12:15:43.589Z"
      },
      {
        "duration": 30,
        "start_time": "2023-01-10T12:15:53.206Z"
      },
      {
        "duration": 17,
        "start_time": "2023-01-10T12:16:21.313Z"
      },
      {
        "duration": 32,
        "start_time": "2023-01-10T12:16:46.570Z"
      },
      {
        "duration": 9456,
        "start_time": "2023-01-10T12:17:00.248Z"
      },
      {
        "duration": 24,
        "start_time": "2023-01-10T12:17:50.532Z"
      },
      {
        "duration": 18,
        "start_time": "2023-01-10T12:18:09.284Z"
      },
      {
        "duration": 23,
        "start_time": "2023-01-10T12:18:24.920Z"
      },
      {
        "duration": 22,
        "start_time": "2023-01-10T12:18:43.739Z"
      },
      {
        "duration": 24,
        "start_time": "2023-01-10T12:18:53.582Z"
      },
      {
        "duration": 13,
        "start_time": "2023-01-10T12:19:35.597Z"
      },
      {
        "duration": 15,
        "start_time": "2023-01-10T12:19:46.363Z"
      },
      {
        "duration": 11,
        "start_time": "2023-01-10T12:19:55.083Z"
      },
      {
        "duration": 35,
        "start_time": "2023-01-10T12:20:08.408Z"
      },
      {
        "duration": 40,
        "start_time": "2023-01-10T12:20:25.670Z"
      },
      {
        "duration": 36,
        "start_time": "2023-01-10T12:20:30.635Z"
      },
      {
        "duration": 32,
        "start_time": "2023-01-10T12:20:43.570Z"
      },
      {
        "duration": 107,
        "start_time": "2023-01-10T13:22:39.979Z"
      },
      {
        "duration": 99,
        "start_time": "2023-01-10T13:23:16.319Z"
      },
      {
        "duration": 130,
        "start_time": "2023-01-10T13:23:33.960Z"
      },
      {
        "duration": 1742,
        "start_time": "2023-01-10T13:26:52.064Z"
      },
      {
        "duration": 102,
        "start_time": "2023-01-10T13:27:40.397Z"
      },
      {
        "duration": 23,
        "start_time": "2023-01-10T13:28:28.207Z"
      },
      {
        "duration": 11,
        "start_time": "2023-01-10T13:28:30.037Z"
      },
      {
        "duration": 19,
        "start_time": "2023-01-10T13:29:20.280Z"
      },
      {
        "duration": 14,
        "start_time": "2023-01-10T13:29:23.301Z"
      },
      {
        "duration": 6,
        "start_time": "2023-01-10T13:29:26.490Z"
      },
      {
        "duration": 12,
        "start_time": "2023-01-10T13:29:30.752Z"
      },
      {
        "duration": 16,
        "start_time": "2023-01-10T13:29:38.584Z"
      },
      {
        "duration": 13,
        "start_time": "2023-01-10T13:29:40.711Z"
      },
      {
        "duration": 6,
        "start_time": "2023-01-10T13:29:46.838Z"
      },
      {
        "duration": 23,
        "start_time": "2023-01-10T13:32:15.826Z"
      },
      {
        "duration": 25,
        "start_time": "2023-01-10T13:32:18.575Z"
      },
      {
        "duration": 257,
        "start_time": "2023-01-10T13:32:48.546Z"
      },
      {
        "duration": 29,
        "start_time": "2023-01-10T13:32:51.116Z"
      },
      {
        "duration": 26,
        "start_time": "2023-01-10T13:32:59.549Z"
      },
      {
        "duration": 13,
        "start_time": "2023-01-10T13:33:52.722Z"
      },
      {
        "duration": 3,
        "start_time": "2023-01-10T13:34:09.245Z"
      },
      {
        "duration": 22,
        "start_time": "2023-01-10T13:34:15.836Z"
      },
      {
        "duration": 66,
        "start_time": "2023-01-10T13:34:35.296Z"
      },
      {
        "duration": 197,
        "start_time": "2023-01-10T13:34:39.101Z"
      },
      {
        "duration": 46,
        "start_time": "2023-01-10T13:35:10.710Z"
      },
      {
        "duration": 32,
        "start_time": "2023-01-10T13:38:36.736Z"
      },
      {
        "duration": 34,
        "start_time": "2023-01-10T13:38:53.458Z"
      },
      {
        "duration": 36,
        "start_time": "2023-01-10T13:38:57.751Z"
      },
      {
        "duration": 57,
        "start_time": "2023-01-10T13:39:08.924Z"
      },
      {
        "duration": 56,
        "start_time": "2023-01-10T13:39:15.498Z"
      },
      {
        "duration": 5,
        "start_time": "2023-01-10T13:39:38.209Z"
      },
      {
        "duration": 47,
        "start_time": "2023-01-10T13:39:41.253Z"
      },
      {
        "duration": 34,
        "start_time": "2023-01-10T13:39:43.907Z"
      },
      {
        "duration": 75,
        "start_time": "2023-01-10T13:39:58.099Z"
      },
      {
        "duration": 42,
        "start_time": "2023-01-10T13:40:00.035Z"
      },
      {
        "duration": 38,
        "start_time": "2023-01-10T13:41:25.260Z"
      },
      {
        "duration": 38,
        "start_time": "2023-01-10T13:41:35.105Z"
      },
      {
        "duration": 30,
        "start_time": "2023-01-10T13:41:42.854Z"
      },
      {
        "duration": 33,
        "start_time": "2023-01-10T13:41:51.320Z"
      },
      {
        "duration": 138,
        "start_time": "2023-01-10T13:41:57.941Z"
      },
      {
        "duration": 16,
        "start_time": "2023-01-10T13:43:55.230Z"
      },
      {
        "duration": 14,
        "start_time": "2023-01-10T13:44:51.350Z"
      },
      {
        "duration": 6,
        "start_time": "2023-01-10T13:45:07.053Z"
      },
      {
        "duration": 9,
        "start_time": "2023-01-10T13:46:12.254Z"
      },
      {
        "duration": 8,
        "start_time": "2023-01-10T13:46:17.749Z"
      },
      {
        "duration": 19,
        "start_time": "2023-01-10T13:46:44.580Z"
      },
      {
        "duration": 26,
        "start_time": "2023-01-10T13:47:04.186Z"
      },
      {
        "duration": 23,
        "start_time": "2023-01-10T13:47:19.868Z"
      },
      {
        "duration": 20,
        "start_time": "2023-01-10T13:47:41.777Z"
      },
      {
        "duration": 20,
        "start_time": "2023-01-10T13:47:48.969Z"
      },
      {
        "duration": 20,
        "start_time": "2023-01-10T13:47:53.181Z"
      },
      {
        "duration": 136,
        "start_time": "2023-01-10T13:49:41.085Z"
      },
      {
        "duration": 134,
        "start_time": "2023-01-10T13:50:27.908Z"
      },
      {
        "duration": 47,
        "start_time": "2023-01-10T13:51:26.492Z"
      },
      {
        "duration": 229,
        "start_time": "2023-01-10T15:30:59.750Z"
      },
      {
        "duration": 48,
        "start_time": "2023-01-10T15:32:55.861Z"
      },
      {
        "duration": 129,
        "start_time": "2023-01-10T15:52:24.704Z"
      },
      {
        "duration": 1707,
        "start_time": "2023-01-11T08:58:43.119Z"
      },
      {
        "duration": 149,
        "start_time": "2023-01-11T08:58:44.828Z"
      },
      {
        "duration": 16,
        "start_time": "2023-01-11T08:58:44.978Z"
      },
      {
        "duration": 8,
        "start_time": "2023-01-11T08:58:44.995Z"
      },
      {
        "duration": 89,
        "start_time": "2023-01-11T08:58:45.005Z"
      },
      {
        "duration": 60,
        "start_time": "2023-01-11T08:58:45.096Z"
      },
      {
        "duration": 178,
        "start_time": "2023-01-11T08:58:45.158Z"
      },
      {
        "duration": 274,
        "start_time": "2023-01-11T08:58:45.338Z"
      },
      {
        "duration": 10,
        "start_time": "2023-01-11T08:58:45.614Z"
      },
      {
        "duration": 643,
        "start_time": "2023-01-11T08:58:45.626Z"
      },
      {
        "duration": 275,
        "start_time": "2023-01-11T08:58:46.271Z"
      },
      {
        "duration": 301,
        "start_time": "2023-01-11T08:58:46.548Z"
      },
      {
        "duration": 178,
        "start_time": "2023-01-11T08:58:46.851Z"
      },
      {
        "duration": 198,
        "start_time": "2023-01-11T08:58:47.033Z"
      },
      {
        "duration": 748,
        "start_time": "2023-01-11T08:58:47.233Z"
      },
      {
        "duration": 93,
        "start_time": "2023-01-11T08:58:47.983Z"
      },
      {
        "duration": 19,
        "start_time": "2023-01-11T08:58:48.078Z"
      },
      {
        "duration": 47,
        "start_time": "2023-01-11T08:58:48.112Z"
      },
      {
        "duration": 21,
        "start_time": "2023-01-11T09:37:25.557Z"
      },
      {
        "duration": 220,
        "start_time": "2023-01-11T09:38:28.963Z"
      },
      {
        "duration": 148,
        "start_time": "2023-01-11T09:39:12.156Z"
      },
      {
        "duration": 154,
        "start_time": "2023-01-11T09:39:22.312Z"
      },
      {
        "duration": 227,
        "start_time": "2023-01-11T09:41:04.352Z"
      },
      {
        "duration": 233,
        "start_time": "2023-01-11T09:41:39.334Z"
      },
      {
        "duration": 221,
        "start_time": "2023-01-11T09:42:12.644Z"
      },
      {
        "duration": 221,
        "start_time": "2023-01-11T09:42:20.536Z"
      },
      {
        "duration": 51,
        "start_time": "2023-01-11T09:42:43.195Z"
      },
      {
        "duration": 229,
        "start_time": "2023-01-11T09:42:54.304Z"
      },
      {
        "duration": 248,
        "start_time": "2023-01-11T09:43:02.050Z"
      },
      {
        "duration": 294,
        "start_time": "2023-01-11T09:43:06.546Z"
      },
      {
        "duration": 236,
        "start_time": "2023-01-11T09:51:53.801Z"
      },
      {
        "duration": 20,
        "start_time": "2023-01-11T10:19:01.802Z"
      },
      {
        "duration": 9,
        "start_time": "2023-01-11T10:19:30.374Z"
      },
      {
        "duration": 18,
        "start_time": "2023-01-11T10:20:18.307Z"
      },
      {
        "duration": 19,
        "start_time": "2023-01-11T10:20:23.405Z"
      },
      {
        "duration": 196,
        "start_time": "2023-01-11T10:20:29.192Z"
      },
      {
        "duration": 27,
        "start_time": "2023-01-11T10:20:45.489Z"
      },
      {
        "duration": 21,
        "start_time": "2023-01-11T10:20:50.808Z"
      },
      {
        "duration": 13,
        "start_time": "2023-01-11T10:20:59.697Z"
      },
      {
        "duration": 95,
        "start_time": "2023-01-11T10:21:26.755Z"
      },
      {
        "duration": 22,
        "start_time": "2023-01-11T10:21:30.566Z"
      },
      {
        "duration": 58,
        "start_time": "2023-01-11T10:21:41.191Z"
      },
      {
        "duration": 21,
        "start_time": "2023-01-11T10:21:57.253Z"
      },
      {
        "duration": 274,
        "start_time": "2023-01-11T10:22:03.972Z"
      },
      {
        "duration": 15,
        "start_time": "2023-01-11T10:22:08.102Z"
      },
      {
        "duration": 23,
        "start_time": "2023-01-11T10:23:36.891Z"
      },
      {
        "duration": 13,
        "start_time": "2023-01-11T10:23:45.344Z"
      },
      {
        "duration": 11,
        "start_time": "2023-01-11T10:35:31.261Z"
      },
      {
        "duration": 52,
        "start_time": "2023-01-11T10:36:55.054Z"
      },
      {
        "duration": 37,
        "start_time": "2023-01-11T10:37:01.325Z"
      },
      {
        "duration": 26,
        "start_time": "2023-01-11T10:37:18.372Z"
      },
      {
        "duration": 33,
        "start_time": "2023-01-11T10:37:36.002Z"
      },
      {
        "duration": 6,
        "start_time": "2023-01-11T10:37:46.916Z"
      },
      {
        "duration": 823,
        "start_time": "2023-01-11T10:38:02.303Z"
      },
      {
        "duration": 732,
        "start_time": "2023-01-11T10:38:09.852Z"
      },
      {
        "duration": 54,
        "start_time": "2023-01-11T10:38:19.592Z"
      },
      {
        "duration": 625,
        "start_time": "2023-01-11T10:38:21.695Z"
      },
      {
        "duration": 34,
        "start_time": "2023-01-11T10:39:19.317Z"
      },
      {
        "duration": 7,
        "start_time": "2023-01-11T10:39:37.912Z"
      },
      {
        "duration": 6,
        "start_time": "2023-01-11T10:39:45.512Z"
      },
      {
        "duration": 28,
        "start_time": "2023-01-11T10:40:11.956Z"
      },
      {
        "duration": 30,
        "start_time": "2023-01-11T10:40:29.921Z"
      },
      {
        "duration": 36,
        "start_time": "2023-01-11T10:40:46.762Z"
      },
      {
        "duration": 4,
        "start_time": "2023-01-11T10:47:13.128Z"
      },
      {
        "duration": 31,
        "start_time": "2023-01-11T10:47:30.653Z"
      },
      {
        "duration": 27,
        "start_time": "2023-01-11T10:47:40.713Z"
      },
      {
        "duration": 33,
        "start_time": "2023-01-11T10:49:40.421Z"
      },
      {
        "duration": 1049,
        "start_time": "2023-01-11T10:50:06.475Z"
      },
      {
        "duration": 30,
        "start_time": "2023-01-11T10:50:52.284Z"
      },
      {
        "duration": 36,
        "start_time": "2023-01-11T10:58:28.921Z"
      },
      {
        "duration": 43,
        "start_time": "2023-01-11T10:58:33.764Z"
      },
      {
        "duration": 35,
        "start_time": "2023-01-11T10:58:39.974Z"
      },
      {
        "duration": 28,
        "start_time": "2023-01-11T11:01:09.564Z"
      },
      {
        "duration": 31,
        "start_time": "2023-01-11T11:01:22.297Z"
      },
      {
        "duration": 40,
        "start_time": "2023-01-11T11:01:29.320Z"
      },
      {
        "duration": 35,
        "start_time": "2023-01-11T11:01:32.480Z"
      },
      {
        "duration": 15,
        "start_time": "2023-01-11T11:01:41.828Z"
      },
      {
        "duration": 15,
        "start_time": "2023-01-11T11:01:52.954Z"
      },
      {
        "duration": 4,
        "start_time": "2023-01-11T11:06:21.756Z"
      },
      {
        "duration": 25,
        "start_time": "2023-01-11T11:06:24.639Z"
      },
      {
        "duration": 26,
        "start_time": "2023-01-11T11:06:37.479Z"
      },
      {
        "duration": 52,
        "start_time": "2023-01-11T11:06:46.639Z"
      },
      {
        "duration": 39,
        "start_time": "2023-01-11T11:06:51.449Z"
      },
      {
        "duration": 1127,
        "start_time": "2023-01-11T11:07:01.846Z"
      },
      {
        "duration": 1525,
        "start_time": "2023-01-11T11:07:04.411Z"
      },
      {
        "duration": 28,
        "start_time": "2023-01-11T11:07:14.942Z"
      },
      {
        "duration": 789,
        "start_time": "2023-01-11T11:07:53.284Z"
      },
      {
        "duration": 12,
        "start_time": "2023-01-11T11:08:04.321Z"
      },
      {
        "duration": 6,
        "start_time": "2023-01-11T11:08:06.921Z"
      },
      {
        "duration": 5,
        "start_time": "2023-01-11T11:08:17.781Z"
      },
      {
        "duration": 14,
        "start_time": "2023-01-11T11:08:29.438Z"
      },
      {
        "duration": 9,
        "start_time": "2023-01-11T11:08:35.439Z"
      },
      {
        "duration": 9,
        "start_time": "2023-01-11T11:10:30.391Z"
      },
      {
        "duration": 15,
        "start_time": "2023-01-11T11:16:56.650Z"
      },
      {
        "duration": 11,
        "start_time": "2023-01-11T11:17:00.487Z"
      },
      {
        "duration": 22,
        "start_time": "2023-01-11T11:17:20.200Z"
      },
      {
        "duration": 14,
        "start_time": "2023-01-11T11:17:38.683Z"
      },
      {
        "duration": 53,
        "start_time": "2023-01-11T11:19:40.272Z"
      },
      {
        "duration": 48,
        "start_time": "2023-01-11T11:19:42.976Z"
      },
      {
        "duration": 10,
        "start_time": "2023-01-11T11:19:49.012Z"
      },
      {
        "duration": 13,
        "start_time": "2023-01-11T11:19:57.487Z"
      },
      {
        "duration": 14,
        "start_time": "2023-01-11T11:20:01.624Z"
      },
      {
        "duration": 12,
        "start_time": "2023-01-11T11:20:24.878Z"
      },
      {
        "duration": 14,
        "start_time": "2023-01-11T11:20:29.261Z"
      },
      {
        "duration": 5,
        "start_time": "2023-01-11T11:21:24.610Z"
      },
      {
        "duration": 10,
        "start_time": "2023-01-11T11:21:28.048Z"
      },
      {
        "duration": 7,
        "start_time": "2023-01-11T11:21:31.274Z"
      },
      {
        "duration": 9,
        "start_time": "2023-01-11T11:21:41.637Z"
      },
      {
        "duration": 11,
        "start_time": "2023-01-11T11:24:05.837Z"
      },
      {
        "duration": 6,
        "start_time": "2023-01-11T11:24:54.056Z"
      },
      {
        "duration": 6,
        "start_time": "2023-01-11T11:24:59.439Z"
      },
      {
        "duration": 15,
        "start_time": "2023-01-11T11:25:09.790Z"
      },
      {
        "duration": 53,
        "start_time": "2023-01-11T11:26:49.958Z"
      },
      {
        "duration": 4,
        "start_time": "2023-01-11T11:26:53.702Z"
      },
      {
        "duration": 55,
        "start_time": "2023-01-11T11:27:01.022Z"
      },
      {
        "duration": 6,
        "start_time": "2023-01-11T11:27:06.492Z"
      },
      {
        "duration": 1563,
        "start_time": "2023-01-11T12:39:37.728Z"
      },
      {
        "duration": 117,
        "start_time": "2023-01-11T12:39:39.294Z"
      },
      {
        "duration": 18,
        "start_time": "2023-01-11T12:39:39.413Z"
      },
      {
        "duration": 7,
        "start_time": "2023-01-11T12:39:39.433Z"
      },
      {
        "duration": 89,
        "start_time": "2023-01-11T12:39:39.442Z"
      },
      {
        "duration": 58,
        "start_time": "2023-01-11T12:39:39.533Z"
      },
      {
        "duration": 162,
        "start_time": "2023-01-11T12:39:39.593Z"
      },
      {
        "duration": 281,
        "start_time": "2023-01-11T12:39:39.757Z"
      },
      {
        "duration": 12,
        "start_time": "2023-01-11T12:39:40.043Z"
      },
      {
        "duration": 661,
        "start_time": "2023-01-11T12:39:40.058Z"
      },
      {
        "duration": 232,
        "start_time": "2023-01-11T12:39:40.721Z"
      },
      {
        "duration": 260,
        "start_time": "2023-01-11T12:39:40.955Z"
      },
      {
        "duration": 171,
        "start_time": "2023-01-11T12:39:41.216Z"
      },
      {
        "duration": 150,
        "start_time": "2023-01-11T12:39:41.389Z"
      },
      {
        "duration": 786,
        "start_time": "2023-01-11T12:39:41.541Z"
      },
      {
        "duration": 105,
        "start_time": "2023-01-11T12:39:42.329Z"
      },
      {
        "duration": 18,
        "start_time": "2023-01-11T12:39:42.436Z"
      },
      {
        "duration": 48,
        "start_time": "2023-01-11T12:39:42.456Z"
      },
      {
        "duration": 14,
        "start_time": "2023-01-11T12:39:42.505Z"
      },
      {
        "duration": 11,
        "start_time": "2023-01-11T12:39:42.521Z"
      },
      {
        "duration": 11,
        "start_time": "2023-01-11T12:39:42.534Z"
      },
      {
        "duration": 10,
        "start_time": "2023-01-11T12:39:42.546Z"
      },
      {
        "duration": 69,
        "start_time": "2023-01-11T12:59:24.896Z"
      },
      {
        "duration": 19,
        "start_time": "2023-01-11T12:59:28.923Z"
      },
      {
        "duration": 19,
        "start_time": "2023-01-11T13:00:36.656Z"
      },
      {
        "duration": 9,
        "start_time": "2023-01-11T13:01:19.010Z"
      },
      {
        "duration": 189,
        "start_time": "2023-01-11T13:01:22.395Z"
      },
      {
        "duration": 9,
        "start_time": "2023-01-11T13:01:25.199Z"
      },
      {
        "duration": 10,
        "start_time": "2023-01-11T13:01:30.288Z"
      },
      {
        "duration": 10,
        "start_time": "2023-01-11T13:01:39.364Z"
      },
      {
        "duration": 13,
        "start_time": "2023-01-11T13:06:29.592Z"
      },
      {
        "duration": 5,
        "start_time": "2023-01-11T13:08:26.192Z"
      },
      {
        "duration": 13,
        "start_time": "2023-01-11T13:08:29.289Z"
      },
      {
        "duration": 5,
        "start_time": "2023-01-11T13:08:32.057Z"
      },
      {
        "duration": 12,
        "start_time": "2023-01-11T13:08:34.704Z"
      },
      {
        "duration": 4,
        "start_time": "2023-01-11T13:08:36.352Z"
      },
      {
        "duration": 77,
        "start_time": "2023-01-11T13:10:42.850Z"
      },
      {
        "duration": 21,
        "start_time": "2023-01-11T13:11:07.024Z"
      },
      {
        "duration": 19,
        "start_time": "2023-01-11T13:11:10.271Z"
      },
      {
        "duration": 18,
        "start_time": "2023-01-11T13:11:51.023Z"
      },
      {
        "duration": 15,
        "start_time": "2023-01-11T13:12:09.876Z"
      },
      {
        "duration": 15,
        "start_time": "2023-01-11T13:15:11.260Z"
      },
      {
        "duration": 18,
        "start_time": "2023-01-11T13:15:42.732Z"
      },
      {
        "duration": 19,
        "start_time": "2023-01-11T13:27:36.040Z"
      },
      {
        "duration": 21,
        "start_time": "2023-01-11T13:27:44.373Z"
      },
      {
        "duration": 16,
        "start_time": "2023-01-11T13:27:56.511Z"
      },
      {
        "duration": 3,
        "start_time": "2023-01-11T13:31:29.505Z"
      },
      {
        "duration": 5,
        "start_time": "2023-01-11T13:32:21.132Z"
      },
      {
        "duration": 9,
        "start_time": "2023-01-11T13:32:41.267Z"
      },
      {
        "duration": 10,
        "start_time": "2023-01-11T13:32:49.650Z"
      },
      {
        "duration": 12,
        "start_time": "2023-01-11T13:48:16.328Z"
      },
      {
        "duration": 97,
        "start_time": "2023-01-11T13:48:57.581Z"
      },
      {
        "duration": 10842,
        "start_time": "2023-01-11T13:49:26.378Z"
      },
      {
        "duration": 1781,
        "start_time": "2023-01-11T13:51:20.945Z"
      },
      {
        "duration": 129,
        "start_time": "2023-01-11T13:51:59.419Z"
      },
      {
        "duration": 243,
        "start_time": "2023-01-11T13:54:08.253Z"
      },
      {
        "duration": 276,
        "start_time": "2023-01-11T13:54:14.480Z"
      },
      {
        "duration": 283,
        "start_time": "2023-01-11T13:55:00.061Z"
      },
      {
        "duration": 292,
        "start_time": "2023-01-11T13:56:01.909Z"
      },
      {
        "duration": 624,
        "start_time": "2023-01-11T13:56:05.666Z"
      },
      {
        "duration": 308,
        "start_time": "2023-01-11T13:56:14.067Z"
      },
      {
        "duration": 279,
        "start_time": "2023-01-11T13:56:18.384Z"
      },
      {
        "duration": 298,
        "start_time": "2023-01-11T13:56:21.953Z"
      },
      {
        "duration": 294,
        "start_time": "2023-01-11T13:56:26.579Z"
      },
      {
        "duration": 252,
        "start_time": "2023-01-11T13:56:31.345Z"
      },
      {
        "duration": 300,
        "start_time": "2023-01-11T13:56:34.591Z"
      },
      {
        "duration": 292,
        "start_time": "2023-01-11T13:57:52.386Z"
      },
      {
        "duration": 310,
        "start_time": "2023-01-11T13:57:59.878Z"
      },
      {
        "duration": 338,
        "start_time": "2023-01-11T13:58:04.101Z"
      },
      {
        "duration": 317,
        "start_time": "2023-01-11T13:58:09.963Z"
      },
      {
        "duration": 349,
        "start_time": "2023-01-11T13:58:14.051Z"
      },
      {
        "duration": 320,
        "start_time": "2023-01-11T13:58:18.000Z"
      },
      {
        "duration": 306,
        "start_time": "2023-01-11T13:59:20.571Z"
      },
      {
        "duration": 22,
        "start_time": "2023-01-11T14:06:22.403Z"
      },
      {
        "duration": 122,
        "start_time": "2023-01-11T14:06:39.866Z"
      },
      {
        "duration": 174,
        "start_time": "2023-01-11T14:07:16.315Z"
      },
      {
        "duration": 148,
        "start_time": "2023-01-11T14:07:38.104Z"
      },
      {
        "duration": 130,
        "start_time": "2023-01-11T14:07:53.275Z"
      },
      {
        "duration": 131,
        "start_time": "2023-01-11T14:08:00.802Z"
      },
      {
        "duration": 135,
        "start_time": "2023-01-11T14:08:09.714Z"
      },
      {
        "duration": 158,
        "start_time": "2023-01-11T14:08:17.891Z"
      },
      {
        "duration": 137,
        "start_time": "2023-01-11T14:08:25.840Z"
      },
      {
        "duration": 164,
        "start_time": "2023-01-11T14:08:39.206Z"
      },
      {
        "duration": 169,
        "start_time": "2023-01-11T14:08:46.173Z"
      },
      {
        "duration": 140,
        "start_time": "2023-01-11T14:08:52.351Z"
      },
      {
        "duration": 138,
        "start_time": "2023-01-11T14:08:57.142Z"
      },
      {
        "duration": 138,
        "start_time": "2023-01-11T14:09:12.368Z"
      },
      {
        "duration": 128,
        "start_time": "2023-01-11T14:12:00.609Z"
      },
      {
        "duration": 143,
        "start_time": "2023-01-11T14:12:38.207Z"
      },
      {
        "duration": 115,
        "start_time": "2023-01-11T14:13:08.784Z"
      },
      {
        "duration": 5,
        "start_time": "2023-01-11T14:15:08.094Z"
      },
      {
        "duration": 127,
        "start_time": "2023-01-11T14:16:20.420Z"
      },
      {
        "duration": 270,
        "start_time": "2023-01-11T14:17:40.261Z"
      },
      {
        "duration": 269,
        "start_time": "2023-01-11T14:18:14.487Z"
      },
      {
        "duration": 286,
        "start_time": "2023-01-11T14:18:54.814Z"
      },
      {
        "duration": 274,
        "start_time": "2023-01-11T14:19:10.019Z"
      },
      {
        "duration": 479,
        "start_time": "2023-01-11T14:48:09.629Z"
      },
      {
        "duration": 122,
        "start_time": "2023-01-11T14:49:31.221Z"
      },
      {
        "duration": 1548,
        "start_time": "2023-01-11T15:09:23.747Z"
      },
      {
        "duration": 96,
        "start_time": "2023-01-11T15:09:25.297Z"
      },
      {
        "duration": 19,
        "start_time": "2023-01-11T15:09:25.395Z"
      },
      {
        "duration": 9,
        "start_time": "2023-01-11T15:09:25.416Z"
      },
      {
        "duration": 69,
        "start_time": "2023-01-11T15:09:25.426Z"
      },
      {
        "duration": 71,
        "start_time": "2023-01-11T15:09:25.497Z"
      },
      {
        "duration": 152,
        "start_time": "2023-01-11T15:09:25.569Z"
      },
      {
        "duration": 289,
        "start_time": "2023-01-11T15:09:25.723Z"
      },
      {
        "duration": 13,
        "start_time": "2023-01-11T15:09:26.014Z"
      },
      {
        "duration": 752,
        "start_time": "2023-01-11T15:09:26.030Z"
      },
      {
        "duration": 232,
        "start_time": "2023-01-11T15:09:26.784Z"
      },
      {
        "duration": 285,
        "start_time": "2023-01-11T15:09:27.017Z"
      },
      {
        "duration": 181,
        "start_time": "2023-01-11T15:09:27.304Z"
      },
      {
        "duration": 229,
        "start_time": "2023-01-11T15:09:27.487Z"
      },
      {
        "duration": 9850,
        "start_time": "2023-01-11T15:09:27.718Z"
      },
      {
        "duration": 175,
        "start_time": "2023-01-11T15:09:37.570Z"
      },
      {
        "duration": 70,
        "start_time": "2023-01-11T15:09:37.747Z"
      },
      {
        "duration": 144,
        "start_time": "2023-01-11T15:09:37.819Z"
      },
      {
        "duration": 11,
        "start_time": "2023-01-11T15:09:37.964Z"
      },
      {
        "duration": 35,
        "start_time": "2023-01-11T15:09:37.977Z"
      },
      {
        "duration": 8,
        "start_time": "2023-01-11T15:09:38.014Z"
      },
      {
        "duration": 12,
        "start_time": "2023-01-11T15:09:38.024Z"
      },
      {
        "duration": 518,
        "start_time": "2023-01-11T15:09:38.038Z"
      },
      {
        "duration": 179,
        "start_time": "2023-01-11T15:09:38.559Z"
      },
      {
        "duration": 18,
        "start_time": "2023-01-11T15:13:51.354Z"
      },
      {
        "duration": 1648,
        "start_time": "2023-01-11T15:14:30.537Z"
      },
      {
        "duration": 141,
        "start_time": "2023-01-11T15:15:17.923Z"
      },
      {
        "duration": 162,
        "start_time": "2023-01-11T15:19:41.437Z"
      },
      {
        "duration": 551,
        "start_time": "2023-01-11T15:19:49.728Z"
      },
      {
        "duration": 599,
        "start_time": "2023-01-11T15:20:19.116Z"
      },
      {
        "duration": 554,
        "start_time": "2023-01-11T15:20:47.414Z"
      },
      {
        "duration": 1734,
        "start_time": "2023-01-12T11:57:45.281Z"
      },
      {
        "duration": 129,
        "start_time": "2023-01-12T11:57:47.018Z"
      },
      {
        "duration": 16,
        "start_time": "2023-01-12T11:57:47.149Z"
      },
      {
        "duration": 16,
        "start_time": "2023-01-12T11:57:47.166Z"
      },
      {
        "duration": 95,
        "start_time": "2023-01-12T11:57:47.184Z"
      },
      {
        "duration": 61,
        "start_time": "2023-01-12T11:57:47.281Z"
      },
      {
        "duration": 159,
        "start_time": "2023-01-12T11:57:47.344Z"
      },
      {
        "duration": 262,
        "start_time": "2023-01-12T11:57:47.504Z"
      },
      {
        "duration": 13,
        "start_time": "2023-01-12T11:57:47.768Z"
      },
      {
        "duration": 598,
        "start_time": "2023-01-12T11:57:47.783Z"
      },
      {
        "duration": 207,
        "start_time": "2023-01-12T11:57:48.382Z"
      },
      {
        "duration": 326,
        "start_time": "2023-01-12T11:57:48.592Z"
      },
      {
        "duration": 180,
        "start_time": "2023-01-12T11:57:48.925Z"
      },
      {
        "duration": 398,
        "start_time": "2023-01-12T11:57:49.107Z"
      },
      {
        "duration": 9425,
        "start_time": "2023-01-12T11:57:49.507Z"
      },
      {
        "duration": 236,
        "start_time": "2023-01-12T11:57:58.935Z"
      },
      {
        "duration": 73,
        "start_time": "2023-01-12T11:57:59.173Z"
      },
      {
        "duration": 139,
        "start_time": "2023-01-12T11:57:59.248Z"
      },
      {
        "duration": 12,
        "start_time": "2023-01-12T11:57:59.390Z"
      },
      {
        "duration": 34,
        "start_time": "2023-01-12T11:57:59.404Z"
      },
      {
        "duration": 21,
        "start_time": "2023-01-12T11:57:59.440Z"
      },
      {
        "duration": 8,
        "start_time": "2023-01-12T11:57:59.463Z"
      },
      {
        "duration": 459,
        "start_time": "2023-01-12T11:57:59.473Z"
      },
      {
        "duration": 128,
        "start_time": "2023-01-12T11:57:59.933Z"
      },
      {
        "duration": 178,
        "start_time": "2023-01-12T12:03:08.006Z"
      },
      {
        "duration": 42,
        "start_time": "2023-01-12T12:03:12.598Z"
      },
      {
        "duration": 8,
        "start_time": "2023-01-12T12:03:50.093Z"
      },
      {
        "duration": 11,
        "start_time": "2023-01-12T12:03:54.625Z"
      },
      {
        "duration": 27,
        "start_time": "2023-01-12T12:03:58.595Z"
      },
      {
        "duration": 25,
        "start_time": "2023-01-12T12:04:22.125Z"
      },
      {
        "duration": 89,
        "start_time": "2023-01-12T12:06:10.492Z"
      },
      {
        "duration": 57,
        "start_time": "2023-01-12T12:06:23.396Z"
      },
      {
        "duration": 264,
        "start_time": "2023-01-12T12:06:35.627Z"
      },
      {
        "duration": 232,
        "start_time": "2023-01-12T12:06:43.084Z"
      },
      {
        "duration": 244,
        "start_time": "2023-01-12T12:06:51.223Z"
      },
      {
        "duration": 264,
        "start_time": "2023-01-12T12:07:12.034Z"
      },
      {
        "duration": 1520,
        "start_time": "2023-01-12T12:12:21.001Z"
      },
      {
        "duration": 109,
        "start_time": "2023-01-12T12:12:22.523Z"
      },
      {
        "duration": 22,
        "start_time": "2023-01-12T12:12:22.634Z"
      },
      {
        "duration": 26,
        "start_time": "2023-01-12T12:12:22.660Z"
      },
      {
        "duration": 21,
        "start_time": "2023-01-12T12:12:22.688Z"
      },
      {
        "duration": 120,
        "start_time": "2023-01-12T12:12:22.711Z"
      },
      {
        "duration": 64,
        "start_time": "2023-01-12T12:12:22.833Z"
      },
      {
        "duration": 167,
        "start_time": "2023-01-12T12:12:22.898Z"
      },
      {
        "duration": 290,
        "start_time": "2023-01-12T12:12:23.067Z"
      },
      {
        "duration": 11,
        "start_time": "2023-01-12T12:12:23.360Z"
      },
      {
        "duration": 697,
        "start_time": "2023-01-12T12:12:23.373Z"
      },
      {
        "duration": 10529,
        "start_time": "2023-01-12T12:12:24.073Z"
      },
      {
        "duration": 400,
        "start_time": "2023-01-12T12:12:34.604Z"
      },
      {
        "duration": 163,
        "start_time": "2023-01-12T12:12:35.006Z"
      },
      {
        "duration": 132,
        "start_time": "2023-01-12T12:12:35.172Z"
      },
      {
        "duration": 9321,
        "start_time": "2023-01-12T12:12:35.306Z"
      },
      {
        "duration": 301,
        "start_time": "2023-01-12T12:12:44.630Z"
      },
      {
        "duration": 18,
        "start_time": "2023-01-12T12:12:44.932Z"
      },
      {
        "duration": 145,
        "start_time": "2023-01-12T12:12:44.951Z"
      },
      {
        "duration": 10,
        "start_time": "2023-01-12T12:12:45.098Z"
      },
      {
        "duration": 27,
        "start_time": "2023-01-12T12:12:45.109Z"
      },
      {
        "duration": 11,
        "start_time": "2023-01-12T12:12:45.138Z"
      },
      {
        "duration": 8,
        "start_time": "2023-01-12T12:12:45.152Z"
      },
      {
        "duration": 338,
        "start_time": "2023-01-12T12:12:45.162Z"
      },
      {
        "duration": 163,
        "start_time": "2023-01-12T12:12:45.502Z"
      },
      {
        "duration": 250,
        "start_time": "2023-01-12T12:16:28.149Z"
      },
      {
        "duration": 85,
        "start_time": "2023-01-12T12:17:16.964Z"
      },
      {
        "duration": 89,
        "start_time": "2023-01-12T12:17:26.394Z"
      },
      {
        "duration": 157,
        "start_time": "2023-01-12T12:17:44.966Z"
      },
      {
        "duration": 212,
        "start_time": "2023-01-12T12:17:54.911Z"
      },
      {
        "duration": 165,
        "start_time": "2023-01-12T12:17:58.937Z"
      },
      {
        "duration": 11,
        "start_time": "2023-01-12T12:18:19.968Z"
      },
      {
        "duration": 75,
        "start_time": "2023-01-12T12:18:26.056Z"
      },
      {
        "duration": 14,
        "start_time": "2023-01-12T12:18:28.991Z"
      },
      {
        "duration": 175,
        "start_time": "2023-01-12T12:18:35.673Z"
      },
      {
        "duration": 321,
        "start_time": "2023-01-12T12:24:48.693Z"
      },
      {
        "duration": 14,
        "start_time": "2023-01-12T12:26:35.008Z"
      },
      {
        "duration": 19,
        "start_time": "2023-01-12T12:26:38.298Z"
      },
      {
        "duration": 19,
        "start_time": "2023-01-12T12:26:47.716Z"
      },
      {
        "duration": 19,
        "start_time": "2023-01-12T12:26:52.643Z"
      },
      {
        "duration": 179,
        "start_time": "2023-01-12T12:27:17.551Z"
      },
      {
        "duration": 45,
        "start_time": "2023-01-12T12:27:25.358Z"
      },
      {
        "duration": 46,
        "start_time": "2023-01-12T12:27:41.886Z"
      },
      {
        "duration": 24,
        "start_time": "2023-01-12T12:30:18.930Z"
      },
      {
        "duration": 73,
        "start_time": "2023-01-12T12:42:52.745Z"
      },
      {
        "duration": 71,
        "start_time": "2023-01-12T12:42:57.476Z"
      },
      {
        "duration": 14,
        "start_time": "2023-01-12T12:43:06.372Z"
      },
      {
        "duration": 13,
        "start_time": "2023-01-12T12:43:15.822Z"
      },
      {
        "duration": 17,
        "start_time": "2023-01-12T12:43:18.853Z"
      },
      {
        "duration": 13,
        "start_time": "2023-01-12T12:43:28.460Z"
      },
      {
        "duration": 63,
        "start_time": "2023-01-12T12:43:47.618Z"
      },
      {
        "duration": 42,
        "start_time": "2023-01-12T12:45:15.702Z"
      },
      {
        "duration": 47,
        "start_time": "2023-01-12T12:45:59.402Z"
      },
      {
        "duration": 51,
        "start_time": "2023-01-12T12:46:15.808Z"
      },
      {
        "duration": 1469,
        "start_time": "2023-01-12T12:52:54.424Z"
      },
      {
        "duration": 97,
        "start_time": "2023-01-12T12:52:55.895Z"
      },
      {
        "duration": 16,
        "start_time": "2023-01-12T12:52:55.993Z"
      },
      {
        "duration": 27,
        "start_time": "2023-01-12T12:52:56.011Z"
      },
      {
        "duration": 7,
        "start_time": "2023-01-12T12:52:56.040Z"
      },
      {
        "duration": 65,
        "start_time": "2023-01-12T12:52:56.049Z"
      },
      {
        "duration": 58,
        "start_time": "2023-01-12T12:52:56.126Z"
      },
      {
        "duration": 143,
        "start_time": "2023-01-12T12:52:56.186Z"
      },
      {
        "duration": 253,
        "start_time": "2023-01-12T12:52:56.330Z"
      },
      {
        "duration": 9,
        "start_time": "2023-01-12T12:52:56.586Z"
      },
      {
        "duration": 572,
        "start_time": "2023-01-12T12:52:56.597Z"
      },
      {
        "duration": 207,
        "start_time": "2023-01-12T12:52:57.171Z"
      },
      {
        "duration": 251,
        "start_time": "2023-01-12T12:52:57.380Z"
      },
      {
        "duration": 154,
        "start_time": "2023-01-12T12:52:57.634Z"
      },
      {
        "duration": 17,
        "start_time": "2023-01-12T12:52:57.789Z"
      },
      {
        "duration": 202,
        "start_time": "2023-01-12T12:52:57.808Z"
      },
      {
        "duration": 0,
        "start_time": "2023-01-12T12:52:58.012Z"
      },
      {
        "duration": 0,
        "start_time": "2023-01-12T12:52:58.014Z"
      },
      {
        "duration": 0,
        "start_time": "2023-01-12T12:52:58.015Z"
      },
      {
        "duration": 0,
        "start_time": "2023-01-12T12:52:58.017Z"
      },
      {
        "duration": 0,
        "start_time": "2023-01-12T12:52:58.018Z"
      },
      {
        "duration": 0,
        "start_time": "2023-01-12T12:52:58.027Z"
      },
      {
        "duration": 0,
        "start_time": "2023-01-12T12:52:58.028Z"
      },
      {
        "duration": 0,
        "start_time": "2023-01-12T12:52:58.030Z"
      },
      {
        "duration": 0,
        "start_time": "2023-01-12T12:52:58.031Z"
      },
      {
        "duration": 0,
        "start_time": "2023-01-12T12:52:58.033Z"
      },
      {
        "duration": 11,
        "start_time": "2023-01-12T13:02:36.824Z"
      },
      {
        "duration": 138,
        "start_time": "2023-01-12T13:02:41.806Z"
      },
      {
        "duration": 70,
        "start_time": "2023-01-12T13:02:52.602Z"
      },
      {
        "duration": 82,
        "start_time": "2023-01-12T13:03:04.456Z"
      },
      {
        "duration": 111,
        "start_time": "2023-01-12T13:03:08.885Z"
      },
      {
        "duration": 10,
        "start_time": "2023-01-12T13:05:19.566Z"
      },
      {
        "duration": 9,
        "start_time": "2023-01-12T13:05:27.306Z"
      },
      {
        "duration": 14,
        "start_time": "2023-01-12T13:05:30.484Z"
      },
      {
        "duration": 12,
        "start_time": "2023-01-12T13:05:37.961Z"
      },
      {
        "duration": 12,
        "start_time": "2023-01-12T13:05:41.760Z"
      },
      {
        "duration": 11,
        "start_time": "2023-01-12T13:06:49.586Z"
      },
      {
        "duration": 9193,
        "start_time": "2023-01-12T13:08:34.337Z"
      },
      {
        "duration": 81,
        "start_time": "2023-01-12T13:25:23.505Z"
      },
      {
        "duration": 85,
        "start_time": "2023-01-12T13:25:49.233Z"
      },
      {
        "duration": 89,
        "start_time": "2023-01-12T13:25:55.545Z"
      },
      {
        "duration": 37,
        "start_time": "2023-01-12T13:26:00.762Z"
      },
      {
        "duration": 87,
        "start_time": "2023-01-12T13:26:02.627Z"
      },
      {
        "duration": 25,
        "start_time": "2023-01-12T13:26:52.534Z"
      },
      {
        "duration": 24,
        "start_time": "2023-01-12T13:27:55.657Z"
      },
      {
        "duration": 1168,
        "start_time": "2023-01-12T13:28:20.262Z"
      },
      {
        "duration": 16,
        "start_time": "2023-01-12T13:28:30.101Z"
      },
      {
        "duration": 4,
        "start_time": "2023-01-12T13:31:25.402Z"
      },
      {
        "duration": 8,
        "start_time": "2023-01-12T13:31:29.955Z"
      },
      {
        "duration": 17,
        "start_time": "2023-01-12T13:31:41.984Z"
      },
      {
        "duration": 9,
        "start_time": "2023-01-12T13:31:46.185Z"
      },
      {
        "duration": 8,
        "start_time": "2023-01-12T14:24:34.609Z"
      },
      {
        "duration": 7,
        "start_time": "2023-01-12T14:24:50.185Z"
      },
      {
        "duration": 9,
        "start_time": "2023-01-12T14:25:05.000Z"
      },
      {
        "duration": 8,
        "start_time": "2023-01-12T14:25:14.299Z"
      },
      {
        "duration": 9,
        "start_time": "2023-01-12T14:25:21.323Z"
      },
      {
        "duration": 7,
        "start_time": "2023-01-12T14:25:24.909Z"
      },
      {
        "duration": 10,
        "start_time": "2023-01-12T14:25:31.614Z"
      },
      {
        "duration": 21,
        "start_time": "2023-01-12T14:25:50.653Z"
      },
      {
        "duration": 12,
        "start_time": "2023-01-12T14:25:58.396Z"
      },
      {
        "duration": 11,
        "start_time": "2023-01-12T14:28:34.053Z"
      },
      {
        "duration": 13,
        "start_time": "2023-01-12T14:28:54.731Z"
      },
      {
        "duration": 12,
        "start_time": "2023-01-12T14:29:01.305Z"
      },
      {
        "duration": 11,
        "start_time": "2023-01-12T14:29:11.370Z"
      },
      {
        "duration": 11,
        "start_time": "2023-01-12T14:38:08.634Z"
      },
      {
        "duration": 9,
        "start_time": "2023-01-12T14:38:27.899Z"
      },
      {
        "duration": 10,
        "start_time": "2023-01-12T14:38:37.610Z"
      },
      {
        "duration": 83,
        "start_time": "2023-01-12T14:39:26.255Z"
      },
      {
        "duration": 4,
        "start_time": "2023-01-12T14:40:08.770Z"
      },
      {
        "duration": 4,
        "start_time": "2023-01-12T14:40:30.513Z"
      },
      {
        "duration": 75,
        "start_time": "2023-01-12T14:40:36.479Z"
      },
      {
        "duration": 8,
        "start_time": "2023-01-12T14:40:40.116Z"
      },
      {
        "duration": 4,
        "start_time": "2023-01-12T14:41:05.549Z"
      },
      {
        "duration": 10,
        "start_time": "2023-01-12T14:41:19.826Z"
      },
      {
        "duration": 5,
        "start_time": "2023-01-12T14:41:53.250Z"
      },
      {
        "duration": 11,
        "start_time": "2023-01-12T14:41:57.069Z"
      },
      {
        "duration": 8,
        "start_time": "2023-01-12T14:42:22.884Z"
      },
      {
        "duration": 1352,
        "start_time": "2023-01-12T14:42:49.780Z"
      },
      {
        "duration": 85,
        "start_time": "2023-01-12T14:42:51.134Z"
      },
      {
        "duration": 17,
        "start_time": "2023-01-12T14:42:51.221Z"
      },
      {
        "duration": 16,
        "start_time": "2023-01-12T14:42:51.240Z"
      },
      {
        "duration": 6,
        "start_time": "2023-01-12T14:42:51.258Z"
      },
      {
        "duration": 78,
        "start_time": "2023-01-12T14:42:51.266Z"
      },
      {
        "duration": 54,
        "start_time": "2023-01-12T14:42:51.345Z"
      },
      {
        "duration": 133,
        "start_time": "2023-01-12T14:42:51.400Z"
      },
      {
        "duration": 294,
        "start_time": "2023-01-12T14:42:51.534Z"
      },
      {
        "duration": 10,
        "start_time": "2023-01-12T14:42:51.831Z"
      },
      {
        "duration": 552,
        "start_time": "2023-01-12T14:42:51.843Z"
      },
      {
        "duration": 215,
        "start_time": "2023-01-12T14:42:52.396Z"
      },
      {
        "duration": 248,
        "start_time": "2023-01-12T14:42:52.613Z"
      },
      {
        "duration": 146,
        "start_time": "2023-01-12T14:42:52.863Z"
      },
      {
        "duration": 16,
        "start_time": "2023-01-12T14:42:53.011Z"
      },
      {
        "duration": 193,
        "start_time": "2023-01-12T14:42:53.029Z"
      },
      {
        "duration": 8833,
        "start_time": "2023-01-12T14:42:53.225Z"
      },
      {
        "duration": 180,
        "start_time": "2023-01-12T14:43:02.060Z"
      },
      {
        "duration": 16,
        "start_time": "2023-01-12T14:43:02.242Z"
      },
      {
        "duration": 11,
        "start_time": "2023-01-12T14:43:02.259Z"
      },
      {
        "duration": 194,
        "start_time": "2023-01-12T14:43:02.271Z"
      },
      {
        "duration": 9,
        "start_time": "2023-01-12T14:43:02.466Z"
      },
      {
        "duration": 3,
        "start_time": "2023-01-12T14:43:02.477Z"
      },
      {
        "duration": 15,
        "start_time": "2023-01-12T14:43:02.481Z"
      },
      {
        "duration": 31,
        "start_time": "2023-01-12T14:43:02.497Z"
      },
      {
        "duration": 5,
        "start_time": "2023-01-12T14:43:02.530Z"
      },
      {
        "duration": 9,
        "start_time": "2023-01-12T14:43:02.537Z"
      },
      {
        "duration": 433,
        "start_time": "2023-01-12T14:43:02.549Z"
      },
      {
        "duration": 115,
        "start_time": "2023-01-12T14:43:02.984Z"
      },
      {
        "duration": 14,
        "start_time": "2023-01-12T14:43:45.521Z"
      },
      {
        "duration": 16,
        "start_time": "2023-01-12T14:46:34.783Z"
      },
      {
        "duration": 12,
        "start_time": "2023-01-12T14:46:56.666Z"
      },
      {
        "duration": 168,
        "start_time": "2023-01-12T14:48:08.395Z"
      },
      {
        "duration": 16,
        "start_time": "2023-01-12T14:48:10.875Z"
      },
      {
        "duration": 10,
        "start_time": "2023-01-12T14:48:32.647Z"
      },
      {
        "duration": 11,
        "start_time": "2023-01-12T14:48:35.915Z"
      },
      {
        "duration": 11,
        "start_time": "2023-01-12T14:48:40.711Z"
      },
      {
        "duration": 11,
        "start_time": "2023-01-12T14:48:42.305Z"
      },
      {
        "duration": 14,
        "start_time": "2023-01-12T14:48:46.650Z"
      },
      {
        "duration": 17,
        "start_time": "2023-01-12T14:48:49.384Z"
      },
      {
        "duration": 14,
        "start_time": "2023-01-12T14:49:01.847Z"
      },
      {
        "duration": 182,
        "start_time": "2023-01-12T14:49:26.470Z"
      },
      {
        "duration": 177,
        "start_time": "2023-01-12T14:49:58.333Z"
      },
      {
        "duration": 197,
        "start_time": "2023-01-12T14:50:09.827Z"
      },
      {
        "duration": 198,
        "start_time": "2023-01-12T14:50:15.317Z"
      },
      {
        "duration": 193,
        "start_time": "2023-01-12T14:51:02.854Z"
      },
      {
        "duration": 187,
        "start_time": "2023-01-12T14:51:24.675Z"
      },
      {
        "duration": 23,
        "start_time": "2023-01-12T14:51:43.359Z"
      },
      {
        "duration": 193,
        "start_time": "2023-01-12T14:51:58.678Z"
      },
      {
        "duration": 187,
        "start_time": "2023-01-12T14:52:49.296Z"
      },
      {
        "duration": 200,
        "start_time": "2023-01-12T14:52:58.071Z"
      },
      {
        "duration": 195,
        "start_time": "2023-01-12T15:27:36.206Z"
      },
      {
        "duration": 191,
        "start_time": "2023-01-12T15:28:28.042Z"
      },
      {
        "duration": 186,
        "start_time": "2023-01-12T15:28:38.064Z"
      },
      {
        "duration": 200,
        "start_time": "2023-01-12T15:28:47.426Z"
      },
      {
        "duration": 10,
        "start_time": "2023-01-12T15:29:31.776Z"
      },
      {
        "duration": 177,
        "start_time": "2023-01-12T15:29:39.670Z"
      },
      {
        "duration": 174,
        "start_time": "2023-01-12T15:30:23.350Z"
      },
      {
        "duration": 184,
        "start_time": "2023-01-12T15:30:26.814Z"
      },
      {
        "duration": 171,
        "start_time": "2023-01-12T15:30:31.250Z"
      },
      {
        "duration": 179,
        "start_time": "2023-01-12T15:30:37.619Z"
      },
      {
        "duration": 201,
        "start_time": "2023-01-12T15:33:44.163Z"
      },
      {
        "duration": 179,
        "start_time": "2023-01-12T15:33:48.816Z"
      },
      {
        "duration": 173,
        "start_time": "2023-01-12T15:33:54.142Z"
      },
      {
        "duration": 3,
        "start_time": "2023-01-12T15:55:04.564Z"
      },
      {
        "duration": 15,
        "start_time": "2023-01-12T15:55:20.351Z"
      },
      {
        "duration": 5,
        "start_time": "2023-01-12T16:00:38.967Z"
      },
      {
        "duration": 7,
        "start_time": "2023-01-12T16:00:47.090Z"
      },
      {
        "duration": 7,
        "start_time": "2023-01-12T16:01:02.675Z"
      },
      {
        "duration": 228,
        "start_time": "2023-01-12T16:01:59.735Z"
      },
      {
        "duration": 7,
        "start_time": "2023-01-12T16:02:51.486Z"
      },
      {
        "duration": 8,
        "start_time": "2023-01-12T16:02:53.803Z"
      },
      {
        "duration": 20,
        "start_time": "2023-01-12T16:03:14.132Z"
      },
      {
        "duration": 17,
        "start_time": "2023-01-12T16:03:24.340Z"
      },
      {
        "duration": 17,
        "start_time": "2023-01-12T16:03:28.215Z"
      },
      {
        "duration": 14,
        "start_time": "2023-01-12T16:03:43.491Z"
      },
      {
        "duration": 14,
        "start_time": "2023-01-12T16:03:49.363Z"
      },
      {
        "duration": 14,
        "start_time": "2023-01-12T16:03:52.880Z"
      },
      {
        "duration": 8,
        "start_time": "2023-01-12T16:03:55.136Z"
      },
      {
        "duration": 17,
        "start_time": "2023-01-12T16:03:59.608Z"
      },
      {
        "duration": 7,
        "start_time": "2023-01-12T16:04:17.192Z"
      },
      {
        "duration": 7,
        "start_time": "2023-01-12T16:04:19.774Z"
      },
      {
        "duration": 8,
        "start_time": "2023-01-12T16:04:23.380Z"
      },
      {
        "duration": 8,
        "start_time": "2023-01-12T16:04:49.521Z"
      },
      {
        "duration": 10,
        "start_time": "2023-01-12T16:06:22.150Z"
      },
      {
        "duration": 11,
        "start_time": "2023-01-12T16:06:44.434Z"
      },
      {
        "duration": 14,
        "start_time": "2023-01-12T16:07:04.145Z"
      },
      {
        "duration": 13,
        "start_time": "2023-01-12T16:07:24.870Z"
      },
      {
        "duration": 43,
        "start_time": "2023-01-12T16:07:27.386Z"
      },
      {
        "duration": 13,
        "start_time": "2023-01-12T16:07:35.054Z"
      },
      {
        "duration": 17,
        "start_time": "2023-01-12T16:07:46.419Z"
      },
      {
        "duration": 17,
        "start_time": "2023-01-12T16:08:07.847Z"
      },
      {
        "duration": 10,
        "start_time": "2023-01-12T16:08:10.060Z"
      },
      {
        "duration": 76,
        "start_time": "2023-01-12T16:08:15.026Z"
      },
      {
        "duration": 4,
        "start_time": "2023-01-12T16:08:54.352Z"
      },
      {
        "duration": 6,
        "start_time": "2023-01-12T16:08:56.775Z"
      },
      {
        "duration": 4,
        "start_time": "2023-01-12T16:09:01.711Z"
      },
      {
        "duration": 14,
        "start_time": "2023-01-12T16:09:10.961Z"
      },
      {
        "duration": 500,
        "start_time": "2023-01-12T16:30:24.694Z"
      },
      {
        "duration": 521,
        "start_time": "2023-01-12T16:31:01.570Z"
      },
      {
        "duration": 403,
        "start_time": "2023-01-12T16:31:45.633Z"
      },
      {
        "duration": 139,
        "start_time": "2023-01-12T16:32:09.535Z"
      },
      {
        "duration": 694,
        "start_time": "2023-01-12T16:33:29.842Z"
      },
      {
        "duration": 425,
        "start_time": "2023-01-12T16:33:48.886Z"
      },
      {
        "duration": 440,
        "start_time": "2023-01-12T16:33:56.015Z"
      },
      {
        "duration": 423,
        "start_time": "2023-01-12T16:34:00.169Z"
      },
      {
        "duration": 424,
        "start_time": "2023-01-12T16:34:03.961Z"
      },
      {
        "duration": 367,
        "start_time": "2023-01-12T16:34:07.552Z"
      },
      {
        "duration": 478,
        "start_time": "2023-01-12T16:34:11.495Z"
      },
      {
        "duration": 388,
        "start_time": "2023-01-12T16:34:18.358Z"
      },
      {
        "duration": 407,
        "start_time": "2023-01-12T16:34:22.950Z"
      },
      {
        "duration": 413,
        "start_time": "2023-01-12T16:34:28.823Z"
      },
      {
        "duration": 707,
        "start_time": "2023-01-12T16:34:33.189Z"
      },
      {
        "duration": 503,
        "start_time": "2023-01-12T16:34:35.645Z"
      },
      {
        "duration": 419,
        "start_time": "2023-01-12T16:34:37.940Z"
      },
      {
        "duration": 410,
        "start_time": "2023-01-12T16:34:39.069Z"
      },
      {
        "duration": 408,
        "start_time": "2023-01-12T16:34:39.989Z"
      },
      {
        "duration": 464,
        "start_time": "2023-01-12T16:34:42.691Z"
      },
      {
        "duration": 440,
        "start_time": "2023-01-12T16:34:45.067Z"
      },
      {
        "duration": 386,
        "start_time": "2023-01-12T16:34:50.444Z"
      },
      {
        "duration": 391,
        "start_time": "2023-01-12T16:34:52.406Z"
      },
      {
        "duration": 389,
        "start_time": "2023-01-12T16:34:55.092Z"
      },
      {
        "duration": 708,
        "start_time": "2023-01-12T16:34:57.918Z"
      },
      {
        "duration": 420,
        "start_time": "2023-01-12T16:35:01.963Z"
      },
      {
        "duration": 459,
        "start_time": "2023-01-12T16:35:05.099Z"
      },
      {
        "duration": 416,
        "start_time": "2023-01-12T16:35:07.460Z"
      },
      {
        "duration": 441,
        "start_time": "2023-01-12T16:35:24.978Z"
      },
      {
        "duration": 512,
        "start_time": "2023-01-12T16:35:30.370Z"
      },
      {
        "duration": 238,
        "start_time": "2023-01-12T16:35:53.550Z"
      },
      {
        "duration": 185,
        "start_time": "2023-01-12T16:36:08.009Z"
      },
      {
        "duration": 437,
        "start_time": "2023-01-12T16:36:12.710Z"
      },
      {
        "duration": 1591,
        "start_time": "2023-01-12T16:36:26.188Z"
      },
      {
        "duration": 588,
        "start_time": "2023-01-12T16:36:27.781Z"
      },
      {
        "duration": 21,
        "start_time": "2023-01-12T16:36:28.371Z"
      },
      {
        "duration": 22,
        "start_time": "2023-01-12T16:36:28.395Z"
      },
      {
        "duration": 9,
        "start_time": "2023-01-12T16:36:28.427Z"
      },
      {
        "duration": 90,
        "start_time": "2023-01-12T16:36:28.438Z"
      },
      {
        "duration": 67,
        "start_time": "2023-01-12T16:36:28.530Z"
      },
      {
        "duration": 171,
        "start_time": "2023-01-12T16:36:28.599Z"
      },
      {
        "duration": 292,
        "start_time": "2023-01-12T16:36:28.772Z"
      },
      {
        "duration": 14,
        "start_time": "2023-01-12T16:36:29.067Z"
      },
      {
        "duration": 466,
        "start_time": "2023-01-12T16:36:29.083Z"
      },
      {
        "duration": 235,
        "start_time": "2023-01-12T16:36:29.550Z"
      },
      {
        "duration": 354,
        "start_time": "2023-01-12T16:36:29.787Z"
      },
      {
        "duration": 157,
        "start_time": "2023-01-12T16:36:30.143Z"
      },
      {
        "duration": 24,
        "start_time": "2023-01-12T16:36:30.302Z"
      },
      {
        "duration": 364,
        "start_time": "2023-01-12T16:36:30.328Z"
      },
      {
        "duration": 9366,
        "start_time": "2023-01-12T16:36:30.694Z"
      },
      {
        "duration": 268,
        "start_time": "2023-01-12T16:36:40.063Z"
      },
      {
        "duration": 22,
        "start_time": "2023-01-12T16:36:40.333Z"
      },
      {
        "duration": 29,
        "start_time": "2023-01-12T16:36:40.357Z"
      },
      {
        "duration": 170,
        "start_time": "2023-01-12T16:36:40.388Z"
      },
      {
        "duration": 10,
        "start_time": "2023-01-12T16:36:40.560Z"
      },
      {
        "duration": 38,
        "start_time": "2023-01-12T16:36:40.573Z"
      },
      {
        "duration": 35,
        "start_time": "2023-01-12T16:36:40.613Z"
      },
      {
        "duration": 50,
        "start_time": "2023-01-12T16:36:40.650Z"
      },
      {
        "duration": 418,
        "start_time": "2023-01-12T16:36:40.702Z"
      },
      {
        "duration": 190,
        "start_time": "2023-01-12T16:36:41.126Z"
      },
      {
        "duration": 9,
        "start_time": "2023-01-12T16:36:41.325Z"
      },
      {
        "duration": 218,
        "start_time": "2023-01-12T16:36:41.336Z"
      },
      {
        "duration": 298,
        "start_time": "2023-01-12T16:36:41.556Z"
      },
      {
        "duration": 129,
        "start_time": "2023-01-12T16:36:41.856Z"
      },
      {
        "duration": 430,
        "start_time": "2023-01-12T16:36:41.987Z"
      },
      {
        "duration": 591,
        "start_time": "2023-01-12T16:36:47.914Z"
      },
      {
        "duration": 495,
        "start_time": "2023-01-12T16:36:52.342Z"
      },
      {
        "duration": 439,
        "start_time": "2023-01-12T16:36:54.668Z"
      },
      {
        "duration": 438,
        "start_time": "2023-01-12T16:36:59.205Z"
      },
      {
        "duration": 1530,
        "start_time": "2023-01-12T16:37:04.209Z"
      },
      {
        "duration": 99,
        "start_time": "2023-01-12T16:37:05.741Z"
      },
      {
        "duration": 22,
        "start_time": "2023-01-12T16:37:05.842Z"
      },
      {
        "duration": 59,
        "start_time": "2023-01-12T16:37:05.866Z"
      },
      {
        "duration": 23,
        "start_time": "2023-01-12T16:37:05.927Z"
      },
      {
        "duration": 105,
        "start_time": "2023-01-12T16:37:05.952Z"
      },
      {
        "duration": 56,
        "start_time": "2023-01-12T16:37:06.058Z"
      },
      {
        "duration": 143,
        "start_time": "2023-01-12T16:37:06.116Z"
      },
      {
        "duration": 294,
        "start_time": "2023-01-12T16:37:06.261Z"
      },
      {
        "duration": 11,
        "start_time": "2023-01-12T16:37:06.558Z"
      },
      {
        "duration": 499,
        "start_time": "2023-01-12T16:37:06.571Z"
      },
      {
        "duration": 246,
        "start_time": "2023-01-12T16:37:07.072Z"
      },
      {
        "duration": 278,
        "start_time": "2023-01-12T16:37:07.321Z"
      },
      {
        "duration": 223,
        "start_time": "2023-01-12T16:37:07.600Z"
      },
      {
        "duration": 18,
        "start_time": "2023-01-12T16:37:07.825Z"
      },
      {
        "duration": 231,
        "start_time": "2023-01-12T16:37:07.847Z"
      },
      {
        "duration": 9511,
        "start_time": "2023-01-12T16:37:08.080Z"
      },
      {
        "duration": 247,
        "start_time": "2023-01-12T16:37:17.593Z"
      },
      {
        "duration": 21,
        "start_time": "2023-01-12T16:37:17.842Z"
      },
      {
        "duration": 16,
        "start_time": "2023-01-12T16:37:17.865Z"
      },
      {
        "duration": 180,
        "start_time": "2023-01-12T16:37:17.927Z"
      },
      {
        "duration": 24,
        "start_time": "2023-01-12T16:37:18.111Z"
      },
      {
        "duration": 7,
        "start_time": "2023-01-12T16:37:18.138Z"
      },
      {
        "duration": 14,
        "start_time": "2023-01-12T16:37:18.148Z"
      },
      {
        "duration": 21,
        "start_time": "2023-01-12T16:37:18.164Z"
      },
      {
        "duration": 444,
        "start_time": "2023-01-12T16:37:18.187Z"
      },
      {
        "duration": 190,
        "start_time": "2023-01-12T16:37:18.633Z"
      },
      {
        "duration": 12,
        "start_time": "2023-01-12T16:37:18.828Z"
      },
      {
        "duration": 211,
        "start_time": "2023-01-12T16:37:18.843Z"
      },
      {
        "duration": 321,
        "start_time": "2023-01-12T16:37:19.056Z"
      },
      {
        "duration": 157,
        "start_time": "2023-01-12T16:37:19.379Z"
      },
      {
        "duration": 1863,
        "start_time": "2023-01-16T12:07:33.591Z"
      },
      {
        "duration": 283,
        "start_time": "2023-01-16T12:07:35.456Z"
      },
      {
        "duration": 18,
        "start_time": "2023-01-16T12:07:35.741Z"
      },
      {
        "duration": 19,
        "start_time": "2023-01-16T12:07:35.761Z"
      },
      {
        "duration": 32,
        "start_time": "2023-01-16T12:07:35.784Z"
      },
      {
        "duration": 85,
        "start_time": "2023-01-16T12:07:35.818Z"
      },
      {
        "duration": 68,
        "start_time": "2023-01-16T12:07:35.905Z"
      },
      {
        "duration": 192,
        "start_time": "2023-01-16T12:07:35.975Z"
      },
      {
        "duration": 291,
        "start_time": "2023-01-16T12:07:36.169Z"
      },
      {
        "duration": 14,
        "start_time": "2023-01-16T12:07:36.463Z"
      },
      {
        "duration": 586,
        "start_time": "2023-01-16T12:07:36.479Z"
      },
      {
        "duration": 236,
        "start_time": "2023-01-16T12:07:37.067Z"
      },
      {
        "duration": 299,
        "start_time": "2023-01-16T12:07:37.305Z"
      },
      {
        "duration": 166,
        "start_time": "2023-01-16T12:07:37.611Z"
      },
      {
        "duration": 13,
        "start_time": "2023-01-16T12:07:37.779Z"
      },
      {
        "duration": 295,
        "start_time": "2023-01-16T12:07:37.794Z"
      },
      {
        "duration": 10187,
        "start_time": "2023-01-16T12:07:38.091Z"
      },
      {
        "duration": 232,
        "start_time": "2023-01-16T12:07:48.280Z"
      },
      {
        "duration": 19,
        "start_time": "2023-01-16T12:07:48.514Z"
      },
      {
        "duration": 12,
        "start_time": "2023-01-16T12:07:48.535Z"
      },
      {
        "duration": 142,
        "start_time": "2023-01-16T12:07:48.548Z"
      },
      {
        "duration": 26,
        "start_time": "2023-01-16T12:07:48.692Z"
      },
      {
        "duration": 5,
        "start_time": "2023-01-16T12:07:48.720Z"
      },
      {
        "duration": 19,
        "start_time": "2023-01-16T12:07:48.727Z"
      },
      {
        "duration": 12,
        "start_time": "2023-01-16T12:07:48.749Z"
      },
      {
        "duration": 471,
        "start_time": "2023-01-16T12:07:48.762Z"
      },
      {
        "duration": 207,
        "start_time": "2023-01-16T12:07:49.235Z"
      },
      {
        "duration": 8,
        "start_time": "2023-01-16T12:07:49.444Z"
      },
      {
        "duration": 188,
        "start_time": "2023-01-16T12:07:49.453Z"
      },
      {
        "duration": 294,
        "start_time": "2023-01-16T12:07:49.643Z"
      },
      {
        "duration": 131,
        "start_time": "2023-01-16T12:07:49.939Z"
      },
      {
        "duration": 5,
        "start_time": "2023-01-16T12:38:28.975Z"
      },
      {
        "duration": 5,
        "start_time": "2023-01-16T12:38:56.739Z"
      },
      {
        "duration": 5,
        "start_time": "2023-01-16T12:39:01.150Z"
      },
      {
        "duration": 37,
        "start_time": "2023-01-16T12:39:04.795Z"
      },
      {
        "duration": 36,
        "start_time": "2023-01-16T12:39:09.602Z"
      },
      {
        "duration": 268,
        "start_time": "2023-01-16T12:39:43.425Z"
      },
      {
        "duration": 488,
        "start_time": "2023-01-16T12:41:06.074Z"
      },
      {
        "duration": 4,
        "start_time": "2023-01-16T12:44:56.699Z"
      },
      {
        "duration": 39,
        "start_time": "2023-01-16T12:45:00.246Z"
      },
      {
        "duration": 32,
        "start_time": "2023-01-16T12:45:17.100Z"
      },
      {
        "duration": 205,
        "start_time": "2023-01-16T12:45:31.832Z"
      },
      {
        "duration": 254,
        "start_time": "2023-01-16T12:46:24.046Z"
      },
      {
        "duration": 410,
        "start_time": "2023-01-16T12:54:49.520Z"
      },
      {
        "duration": 231,
        "start_time": "2023-01-16T12:55:38.672Z"
      },
      {
        "duration": 227,
        "start_time": "2023-01-16T12:55:46.128Z"
      },
      {
        "duration": 169,
        "start_time": "2023-01-16T13:02:43.298Z"
      },
      {
        "duration": 193,
        "start_time": "2023-01-16T13:02:51.640Z"
      },
      {
        "duration": 190,
        "start_time": "2023-01-16T13:02:56.648Z"
      },
      {
        "duration": 194,
        "start_time": "2023-01-16T13:02:59.892Z"
      },
      {
        "duration": 121,
        "start_time": "2023-01-16T13:08:23.176Z"
      },
      {
        "duration": 53,
        "start_time": "2023-02-16T13:35:25.333Z"
      }
    ],
    "kernelspec": {
      "display_name": "Python 3 (ipykernel)",
      "language": "python",
      "name": "python3"
    },
    "language_info": {
      "codemirror_mode": {
        "name": "ipython",
        "version": 3
      },
      "file_extension": ".py",
      "mimetype": "text/x-python",
      "name": "python",
      "nbconvert_exporter": "python",
      "pygments_lexer": "ipython3",
      "version": "3.9.5"
    },
    "toc": {
      "base_numbering": 1,
      "nav_menu": {},
      "number_sections": true,
      "sideBar": true,
      "skip_h1_title": true,
      "title_cell": "Table of Contents",
      "title_sidebar": "Contents",
      "toc_cell": false,
      "toc_position": {},
      "toc_section_display": true,
      "toc_window_display": false
    },
    "colab": {
      "provenance": [],
      "include_colab_link": true
    }
  },
  "nbformat": 4,
  "nbformat_minor": 0
}