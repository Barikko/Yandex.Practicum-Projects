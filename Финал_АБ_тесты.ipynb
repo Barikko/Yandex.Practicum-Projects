{
  "cells": [
    {
      "cell_type": "markdown",
      "metadata": {
        "id": "view-in-github",
        "colab_type": "text"
      },
      "source": [
        "<a href=\"https://colab.research.google.com/github/Barikko/Yandex.Practicum-Projects/blob/main/%D0%A4%D0%B8%D0%BD%D0%B0%D0%BB_%D0%90%D0%91_%D1%82%D0%B5%D1%81%D1%82%D1%8B_1.ipynb\" target=\"_parent\"><img src=\"https://colab.research.google.com/assets/colab-badge.svg\" alt=\"Open In Colab\"/></a>"
      ]
    },
    {
      "cell_type": "markdown",
      "metadata": {
        "id": "xWQfOoNqGCtq"
      },
      "source": [
        "# Проект по А/B-тестированию"
      ]
    },
    {
      "cell_type": "markdown",
      "metadata": {
        "id": "X5O2h0FcGCtr"
      },
      "source": [
        "## Описание проекта"
      ]
    },
    {
      "cell_type": "markdown",
      "metadata": {
        "id": "r5DTusT9GCts"
      },
      "source": [
        "### Постановка задачи"
      ]
    },
    {
      "cell_type": "markdown",
      "metadata": {
        "id": "elUtXmkyGCtt"
      },
      "source": [
        "Задача — провести оценку результатов A/B-теста. В распоряжении есть датасет с действиями пользователей, техническое задание и несколько вспомогательных датасетов.\n",
        "\n",
        "    Оценить корректность проведения теста.\n",
        "    Проанализировать результаты теста.\n",
        "\n",
        "Чтобы оценить корректность проведения теста, необходимо проверить:\n",
        "\n",
        "    пересечение тестовой аудитории с конкурирующим тестом;\n",
        "    совпадение теста и маркетинговых событий, другие проблемы временных границ теста."
      ]
    },
    {
      "cell_type": "markdown",
      "metadata": {
        "id": "KxJEBNK9GCtu"
      },
      "source": [
        "### Техническое задание\n",
        "\n",
        "    Название теста: recommender_system_test;\n",
        "    Группы: А (контрольная), B (новая платёжная воронка);\n",
        "    Дата запуска: 2020-12-07;\n",
        "    Дата остановки набора новых пользователей: 2020-12-21;\n",
        "    Дата остановки: 2021-01-04;\n",
        "    Аудитория: 15% новых пользователей из региона EU;\n",
        "    Назначение теста: тестирование изменений, связанных с внедрением улучшенной рекомендательной системы;\n",
        "    Ожидаемое количество участников теста: 6000.\n",
        "    Ожидаемый эффект: за 14 дней с момента регистрации в системе пользователи покажут улучшение каждой метрики не менее, чем на 10%:\n",
        "      \n",
        "        конверсии в просмотр карточек товаров — событие product_page\n",
        "        просмотры корзины — product_cart\n",
        "        покупки — purchase."
      ]
    },
    {
      "cell_type": "markdown",
      "metadata": {
        "id": "-eh5kZQlGCtv"
      },
      "source": [
        "### Данные\n",
        "\n",
        "ab_project_marketing_events.csv\n",
        "final_ab_new_users.csv\n",
        "final_ab_events.csv\n",
        "final_ab_participants.csv\n",
        "\n",
        "    ab_project_marketing_events.csv — календарь маркетинговых событий на 2020 год;\n",
        "    Структура файла:\n",
        "      \n",
        "        name — название маркетингового события;\n",
        "        regions — регионы, в которых будет проводиться рекламная кампания;\n",
        "        start_dt — дата начала кампании;\n",
        "        finish_dt — дата завершения кампании.\n",
        "\n",
        "    final_ab_new_users.csv — все пользователи, зарегистрировавшиеся в интернет-магазине в период с 7 по 21 декабря 2020 года;\n",
        "    Структура файла:\n",
        "        user_id — идентификатор пользователя;\n",
        "        first_date — дата регистрации;\n",
        "        region — регион пользователя;\n",
        "        device — устройство, с которого происходила регистрация.\n",
        "\n",
        "    final_ab_events.csv — все события новых пользователей в период с 7 декабря 2020 по 4 января 2021 года;\n",
        "    Структура файла:\n",
        "        user_id — идентификатор пользователя;\n",
        "        event_dt — дата и время события;\n",
        "        event_name — тип события;\n",
        "        details — дополнительные данные о событии. Например, для покупок, purchase, в этом поле хранится стоимость покупки в долларах.\n",
        "\n",
        "    final_ab_participants.csv — таблица участников тестов.\n",
        "    Структура файла:\n",
        "        user_id — идентификатор пользователя;\n",
        "        ab_test — название теста;\n",
        "        group — группа пользователя."
      ]
    },
    {
      "cell_type": "markdown",
      "metadata": {
        "id": "MChP8EiCGCtv"
      },
      "source": [
        "### Задачи:\n",
        "\n",
        "    Цели исследования.\n",
        "    Исследуйте данные:\n",
        "      \n",
        "        Требуется ли преобразование типов?\n",
        "        Присутствуют ли пропущенные значения и дубликаты? Если да, то какова их природа?\n",
        "    Оценка корректность проведения теста:\n",
        "      \n",
        "        Соответствие данных требованиям технического задания. Проверка корректности всех пунктов технического задания.\n",
        "        Время проведения теста. Оно не должно совпадать с маркетинговыми и другими активностями.\n",
        "        Аудитория теста. Она не должна пересекаться с конкурирующим тестом и нет пользователей, участвующих в двух группах теста одновременно. Проверка равномерность распределения пользователей по тестовым группам и правильность их формирования.\n",
        "    Проведите исследовательский анализ данных:\n",
        "      \n",
        "        Количество событий на пользователя одинаково распределены в выборках?\n",
        "        Как число событий в выборках распределено по дням?\n",
        "        Как меняется конверсия в воронке в выборках на разных этапах?\n",
        "        Какие особенности данных нужно учесть, прежде чем приступать к A/B-тестированию?\n",
        "    Оценка результатов A/B-тестирования:\n",
        "      \n",
        "        Что можно сказать про результаты A/B-тестирования?\n",
        "        Проерка статистической разницы долей z-критерием\n",
        "    Выводы по этапу исследовательского анализа данных и по проведённой оценке результатов A/B-тестирования. Общее заключение о корректности проведения теста."
      ]
    },
    {
      "cell_type": "markdown",
      "metadata": {
        "id": "WNrpwZPNGCtx"
      },
      "source": [
        "## Загрузка данных"
      ]
    },
    {
      "cell_type": "code",
      "execution_count": 34,
      "metadata": {
        "id": "TSXu2hvJGCtx"
      },
      "outputs": [],
      "source": [
        "import numpy as np\n",
        "import pandas as pd\n",
        "from matplotlib import pyplot as plt\n",
        "import seaborn as sns\n",
        "import math as mth\n",
        "import datetime as dt\n",
        "import plotly.express as px\n",
        "from plotly import graph_objects as go\n",
        "from scipy import stats as st\n",
        "from PIL import Image"
      ]
    },
    {
      "cell_type": "code",
      "execution_count": 35,
      "metadata": {
        "id": "PLL3z4xSGCtz"
      },
      "outputs": [],
      "source": [
        "calendar = pd.read_csv('/content/ab_project_marketing_events.csv')\n",
        "events = pd.read_csv('/content/final_ab_events.csv')\n",
        "new_users = pd.read_csv('/content/final_ab_new_users.csv')\n",
        "participants = pd.read_csv('/content/final_ab_participants.csv')"
      ]
    },
    {
      "cell_type": "code",
      "execution_count": 36,
      "metadata": {
        "colab": {
          "base_uri": "https://localhost:8080/",
          "height": 774
        },
        "id": "SAlU18TLGCt0",
        "outputId": "3075d5bb-a692-4c3f-8d09-2a783cb6ea84"
      },
      "outputs": [
        {
          "output_type": "display_data",
          "data": {
            "text/plain": [
              "                           name                   regions    start_dt  \\\n",
              "0      Christmas&New Year Promo             EU, N.America  2020-12-25   \n",
              "1  St. Valentine's Day Giveaway  EU, CIS, APAC, N.America  2020-02-14   \n",
              "2        St. Patric's Day Promo             EU, N.America  2020-03-17   \n",
              "3                  Easter Promo  EU, CIS, APAC, N.America  2020-04-12   \n",
              "4             4th of July Promo                 N.America  2020-07-04   \n",
              "\n",
              "    finish_dt  \n",
              "0  2021-01-03  \n",
              "1  2020-02-16  \n",
              "2  2020-03-19  \n",
              "3  2020-04-19  \n",
              "4  2020-07-11  "
            ],
            "text/html": [
              "\n",
              "  <div id=\"df-35cf7498-4e6b-4d9d-a815-fa8b0a19d0b6\">\n",
              "    <div class=\"colab-df-container\">\n",
              "      <div>\n",
              "<style scoped>\n",
              "    .dataframe tbody tr th:only-of-type {\n",
              "        vertical-align: middle;\n",
              "    }\n",
              "\n",
              "    .dataframe tbody tr th {\n",
              "        vertical-align: top;\n",
              "    }\n",
              "\n",
              "    .dataframe thead th {\n",
              "        text-align: right;\n",
              "    }\n",
              "</style>\n",
              "<table border=\"1\" class=\"dataframe\">\n",
              "  <thead>\n",
              "    <tr style=\"text-align: right;\">\n",
              "      <th></th>\n",
              "      <th>name</th>\n",
              "      <th>regions</th>\n",
              "      <th>start_dt</th>\n",
              "      <th>finish_dt</th>\n",
              "    </tr>\n",
              "  </thead>\n",
              "  <tbody>\n",
              "    <tr>\n",
              "      <th>0</th>\n",
              "      <td>Christmas&amp;New Year Promo</td>\n",
              "      <td>EU, N.America</td>\n",
              "      <td>2020-12-25</td>\n",
              "      <td>2021-01-03</td>\n",
              "    </tr>\n",
              "    <tr>\n",
              "      <th>1</th>\n",
              "      <td>St. Valentine's Day Giveaway</td>\n",
              "      <td>EU, CIS, APAC, N.America</td>\n",
              "      <td>2020-02-14</td>\n",
              "      <td>2020-02-16</td>\n",
              "    </tr>\n",
              "    <tr>\n",
              "      <th>2</th>\n",
              "      <td>St. Patric's Day Promo</td>\n",
              "      <td>EU, N.America</td>\n",
              "      <td>2020-03-17</td>\n",
              "      <td>2020-03-19</td>\n",
              "    </tr>\n",
              "    <tr>\n",
              "      <th>3</th>\n",
              "      <td>Easter Promo</td>\n",
              "      <td>EU, CIS, APAC, N.America</td>\n",
              "      <td>2020-04-12</td>\n",
              "      <td>2020-04-19</td>\n",
              "    </tr>\n",
              "    <tr>\n",
              "      <th>4</th>\n",
              "      <td>4th of July Promo</td>\n",
              "      <td>N.America</td>\n",
              "      <td>2020-07-04</td>\n",
              "      <td>2020-07-11</td>\n",
              "    </tr>\n",
              "  </tbody>\n",
              "</table>\n",
              "</div>\n",
              "      <button class=\"colab-df-convert\" onclick=\"convertToInteractive('df-35cf7498-4e6b-4d9d-a815-fa8b0a19d0b6')\"\n",
              "              title=\"Convert this dataframe to an interactive table.\"\n",
              "              style=\"display:none;\">\n",
              "        \n",
              "  <svg xmlns=\"http://www.w3.org/2000/svg\" height=\"24px\"viewBox=\"0 0 24 24\"\n",
              "       width=\"24px\">\n",
              "    <path d=\"M0 0h24v24H0V0z\" fill=\"none\"/>\n",
              "    <path d=\"M18.56 5.44l.94 2.06.94-2.06 2.06-.94-2.06-.94-.94-2.06-.94 2.06-2.06.94zm-11 1L8.5 8.5l.94-2.06 2.06-.94-2.06-.94L8.5 2.5l-.94 2.06-2.06.94zm10 10l.94 2.06.94-2.06 2.06-.94-2.06-.94-.94-2.06-.94 2.06-2.06.94z\"/><path d=\"M17.41 7.96l-1.37-1.37c-.4-.4-.92-.59-1.43-.59-.52 0-1.04.2-1.43.59L10.3 9.45l-7.72 7.72c-.78.78-.78 2.05 0 2.83L4 21.41c.39.39.9.59 1.41.59.51 0 1.02-.2 1.41-.59l7.78-7.78 2.81-2.81c.8-.78.8-2.07 0-2.86zM5.41 20L4 18.59l7.72-7.72 1.47 1.35L5.41 20z\"/>\n",
              "  </svg>\n",
              "      </button>\n",
              "      \n",
              "  <style>\n",
              "    .colab-df-container {\n",
              "      display:flex;\n",
              "      flex-wrap:wrap;\n",
              "      gap: 12px;\n",
              "    }\n",
              "\n",
              "    .colab-df-convert {\n",
              "      background-color: #E8F0FE;\n",
              "      border: none;\n",
              "      border-radius: 50%;\n",
              "      cursor: pointer;\n",
              "      display: none;\n",
              "      fill: #1967D2;\n",
              "      height: 32px;\n",
              "      padding: 0 0 0 0;\n",
              "      width: 32px;\n",
              "    }\n",
              "\n",
              "    .colab-df-convert:hover {\n",
              "      background-color: #E2EBFA;\n",
              "      box-shadow: 0px 1px 2px rgba(60, 64, 67, 0.3), 0px 1px 3px 1px rgba(60, 64, 67, 0.15);\n",
              "      fill: #174EA6;\n",
              "    }\n",
              "\n",
              "    [theme=dark] .colab-df-convert {\n",
              "      background-color: #3B4455;\n",
              "      fill: #D2E3FC;\n",
              "    }\n",
              "\n",
              "    [theme=dark] .colab-df-convert:hover {\n",
              "      background-color: #434B5C;\n",
              "      box-shadow: 0px 1px 3px 1px rgba(0, 0, 0, 0.15);\n",
              "      filter: drop-shadow(0px 1px 2px rgba(0, 0, 0, 0.3));\n",
              "      fill: #FFFFFF;\n",
              "    }\n",
              "  </style>\n",
              "\n",
              "      <script>\n",
              "        const buttonEl =\n",
              "          document.querySelector('#df-35cf7498-4e6b-4d9d-a815-fa8b0a19d0b6 button.colab-df-convert');\n",
              "        buttonEl.style.display =\n",
              "          google.colab.kernel.accessAllowed ? 'block' : 'none';\n",
              "\n",
              "        async function convertToInteractive(key) {\n",
              "          const element = document.querySelector('#df-35cf7498-4e6b-4d9d-a815-fa8b0a19d0b6');\n",
              "          const dataTable =\n",
              "            await google.colab.kernel.invokeFunction('convertToInteractive',\n",
              "                                                     [key], {});\n",
              "          if (!dataTable) return;\n",
              "\n",
              "          const docLinkHtml = 'Like what you see? Visit the ' +\n",
              "            '<a target=\"_blank\" href=https://colab.research.google.com/notebooks/data_table.ipynb>data table notebook</a>'\n",
              "            + ' to learn more about interactive tables.';\n",
              "          element.innerHTML = '';\n",
              "          dataTable['output_type'] = 'display_data';\n",
              "          await google.colab.output.renderOutput(dataTable, element);\n",
              "          const docLink = document.createElement('div');\n",
              "          docLink.innerHTML = docLinkHtml;\n",
              "          element.appendChild(docLink);\n",
              "        }\n",
              "      </script>\n",
              "    </div>\n",
              "  </div>\n",
              "  "
            ]
          },
          "metadata": {}
        },
        {
          "output_type": "display_data",
          "data": {
            "text/plain": [
              "            user_id             event_dt event_name  details\n",
              "0  E1BDDCE0DAFA2679  2020-12-07 20:22:03   purchase    99.99\n",
              "1  7B6452F081F49504  2020-12-07 09:22:53   purchase     9.99\n",
              "2  9CD9F34546DF254C  2020-12-07 12:59:29   purchase     4.99\n",
              "3  96F27A054B191457  2020-12-07 04:02:40   purchase     4.99\n",
              "4  1FD7660FDF94CA1F  2020-12-07 10:15:09   purchase     4.99"
            ],
            "text/html": [
              "\n",
              "  <div id=\"df-5ceb987c-73d1-4143-baff-ef754bc9e100\">\n",
              "    <div class=\"colab-df-container\">\n",
              "      <div>\n",
              "<style scoped>\n",
              "    .dataframe tbody tr th:only-of-type {\n",
              "        vertical-align: middle;\n",
              "    }\n",
              "\n",
              "    .dataframe tbody tr th {\n",
              "        vertical-align: top;\n",
              "    }\n",
              "\n",
              "    .dataframe thead th {\n",
              "        text-align: right;\n",
              "    }\n",
              "</style>\n",
              "<table border=\"1\" class=\"dataframe\">\n",
              "  <thead>\n",
              "    <tr style=\"text-align: right;\">\n",
              "      <th></th>\n",
              "      <th>user_id</th>\n",
              "      <th>event_dt</th>\n",
              "      <th>event_name</th>\n",
              "      <th>details</th>\n",
              "    </tr>\n",
              "  </thead>\n",
              "  <tbody>\n",
              "    <tr>\n",
              "      <th>0</th>\n",
              "      <td>E1BDDCE0DAFA2679</td>\n",
              "      <td>2020-12-07 20:22:03</td>\n",
              "      <td>purchase</td>\n",
              "      <td>99.99</td>\n",
              "    </tr>\n",
              "    <tr>\n",
              "      <th>1</th>\n",
              "      <td>7B6452F081F49504</td>\n",
              "      <td>2020-12-07 09:22:53</td>\n",
              "      <td>purchase</td>\n",
              "      <td>9.99</td>\n",
              "    </tr>\n",
              "    <tr>\n",
              "      <th>2</th>\n",
              "      <td>9CD9F34546DF254C</td>\n",
              "      <td>2020-12-07 12:59:29</td>\n",
              "      <td>purchase</td>\n",
              "      <td>4.99</td>\n",
              "    </tr>\n",
              "    <tr>\n",
              "      <th>3</th>\n",
              "      <td>96F27A054B191457</td>\n",
              "      <td>2020-12-07 04:02:40</td>\n",
              "      <td>purchase</td>\n",
              "      <td>4.99</td>\n",
              "    </tr>\n",
              "    <tr>\n",
              "      <th>4</th>\n",
              "      <td>1FD7660FDF94CA1F</td>\n",
              "      <td>2020-12-07 10:15:09</td>\n",
              "      <td>purchase</td>\n",
              "      <td>4.99</td>\n",
              "    </tr>\n",
              "  </tbody>\n",
              "</table>\n",
              "</div>\n",
              "      <button class=\"colab-df-convert\" onclick=\"convertToInteractive('df-5ceb987c-73d1-4143-baff-ef754bc9e100')\"\n",
              "              title=\"Convert this dataframe to an interactive table.\"\n",
              "              style=\"display:none;\">\n",
              "        \n",
              "  <svg xmlns=\"http://www.w3.org/2000/svg\" height=\"24px\"viewBox=\"0 0 24 24\"\n",
              "       width=\"24px\">\n",
              "    <path d=\"M0 0h24v24H0V0z\" fill=\"none\"/>\n",
              "    <path d=\"M18.56 5.44l.94 2.06.94-2.06 2.06-.94-2.06-.94-.94-2.06-.94 2.06-2.06.94zm-11 1L8.5 8.5l.94-2.06 2.06-.94-2.06-.94L8.5 2.5l-.94 2.06-2.06.94zm10 10l.94 2.06.94-2.06 2.06-.94-2.06-.94-.94-2.06-.94 2.06-2.06.94z\"/><path d=\"M17.41 7.96l-1.37-1.37c-.4-.4-.92-.59-1.43-.59-.52 0-1.04.2-1.43.59L10.3 9.45l-7.72 7.72c-.78.78-.78 2.05 0 2.83L4 21.41c.39.39.9.59 1.41.59.51 0 1.02-.2 1.41-.59l7.78-7.78 2.81-2.81c.8-.78.8-2.07 0-2.86zM5.41 20L4 18.59l7.72-7.72 1.47 1.35L5.41 20z\"/>\n",
              "  </svg>\n",
              "      </button>\n",
              "      \n",
              "  <style>\n",
              "    .colab-df-container {\n",
              "      display:flex;\n",
              "      flex-wrap:wrap;\n",
              "      gap: 12px;\n",
              "    }\n",
              "\n",
              "    .colab-df-convert {\n",
              "      background-color: #E8F0FE;\n",
              "      border: none;\n",
              "      border-radius: 50%;\n",
              "      cursor: pointer;\n",
              "      display: none;\n",
              "      fill: #1967D2;\n",
              "      height: 32px;\n",
              "      padding: 0 0 0 0;\n",
              "      width: 32px;\n",
              "    }\n",
              "\n",
              "    .colab-df-convert:hover {\n",
              "      background-color: #E2EBFA;\n",
              "      box-shadow: 0px 1px 2px rgba(60, 64, 67, 0.3), 0px 1px 3px 1px rgba(60, 64, 67, 0.15);\n",
              "      fill: #174EA6;\n",
              "    }\n",
              "\n",
              "    [theme=dark] .colab-df-convert {\n",
              "      background-color: #3B4455;\n",
              "      fill: #D2E3FC;\n",
              "    }\n",
              "\n",
              "    [theme=dark] .colab-df-convert:hover {\n",
              "      background-color: #434B5C;\n",
              "      box-shadow: 0px 1px 3px 1px rgba(0, 0, 0, 0.15);\n",
              "      filter: drop-shadow(0px 1px 2px rgba(0, 0, 0, 0.3));\n",
              "      fill: #FFFFFF;\n",
              "    }\n",
              "  </style>\n",
              "\n",
              "      <script>\n",
              "        const buttonEl =\n",
              "          document.querySelector('#df-5ceb987c-73d1-4143-baff-ef754bc9e100 button.colab-df-convert');\n",
              "        buttonEl.style.display =\n",
              "          google.colab.kernel.accessAllowed ? 'block' : 'none';\n",
              "\n",
              "        async function convertToInteractive(key) {\n",
              "          const element = document.querySelector('#df-5ceb987c-73d1-4143-baff-ef754bc9e100');\n",
              "          const dataTable =\n",
              "            await google.colab.kernel.invokeFunction('convertToInteractive',\n",
              "                                                     [key], {});\n",
              "          if (!dataTable) return;\n",
              "\n",
              "          const docLinkHtml = 'Like what you see? Visit the ' +\n",
              "            '<a target=\"_blank\" href=https://colab.research.google.com/notebooks/data_table.ipynb>data table notebook</a>'\n",
              "            + ' to learn more about interactive tables.';\n",
              "          element.innerHTML = '';\n",
              "          dataTable['output_type'] = 'display_data';\n",
              "          await google.colab.output.renderOutput(dataTable, element);\n",
              "          const docLink = document.createElement('div');\n",
              "          docLink.innerHTML = docLinkHtml;\n",
              "          element.appendChild(docLink);\n",
              "        }\n",
              "      </script>\n",
              "    </div>\n",
              "  </div>\n",
              "  "
            ]
          },
          "metadata": {}
        },
        {
          "output_type": "display_data",
          "data": {
            "text/plain": [
              "            user_id  first_date     region   device\n",
              "0  D72A72121175D8BE  2020-12-07         EU       PC\n",
              "1  F1C668619DFE6E65  2020-12-07  N.America  Android\n",
              "2  2E1BF1D4C37EA01F  2020-12-07         EU       PC\n",
              "3  50734A22C0C63768  2020-12-07         EU   iPhone\n",
              "4  E1BDDCE0DAFA2679  2020-12-07  N.America   iPhone"
            ],
            "text/html": [
              "\n",
              "  <div id=\"df-1f9830a5-bb68-41a8-b583-325e9db6a132\">\n",
              "    <div class=\"colab-df-container\">\n",
              "      <div>\n",
              "<style scoped>\n",
              "    .dataframe tbody tr th:only-of-type {\n",
              "        vertical-align: middle;\n",
              "    }\n",
              "\n",
              "    .dataframe tbody tr th {\n",
              "        vertical-align: top;\n",
              "    }\n",
              "\n",
              "    .dataframe thead th {\n",
              "        text-align: right;\n",
              "    }\n",
              "</style>\n",
              "<table border=\"1\" class=\"dataframe\">\n",
              "  <thead>\n",
              "    <tr style=\"text-align: right;\">\n",
              "      <th></th>\n",
              "      <th>user_id</th>\n",
              "      <th>first_date</th>\n",
              "      <th>region</th>\n",
              "      <th>device</th>\n",
              "    </tr>\n",
              "  </thead>\n",
              "  <tbody>\n",
              "    <tr>\n",
              "      <th>0</th>\n",
              "      <td>D72A72121175D8BE</td>\n",
              "      <td>2020-12-07</td>\n",
              "      <td>EU</td>\n",
              "      <td>PC</td>\n",
              "    </tr>\n",
              "    <tr>\n",
              "      <th>1</th>\n",
              "      <td>F1C668619DFE6E65</td>\n",
              "      <td>2020-12-07</td>\n",
              "      <td>N.America</td>\n",
              "      <td>Android</td>\n",
              "    </tr>\n",
              "    <tr>\n",
              "      <th>2</th>\n",
              "      <td>2E1BF1D4C37EA01F</td>\n",
              "      <td>2020-12-07</td>\n",
              "      <td>EU</td>\n",
              "      <td>PC</td>\n",
              "    </tr>\n",
              "    <tr>\n",
              "      <th>3</th>\n",
              "      <td>50734A22C0C63768</td>\n",
              "      <td>2020-12-07</td>\n",
              "      <td>EU</td>\n",
              "      <td>iPhone</td>\n",
              "    </tr>\n",
              "    <tr>\n",
              "      <th>4</th>\n",
              "      <td>E1BDDCE0DAFA2679</td>\n",
              "      <td>2020-12-07</td>\n",
              "      <td>N.America</td>\n",
              "      <td>iPhone</td>\n",
              "    </tr>\n",
              "  </tbody>\n",
              "</table>\n",
              "</div>\n",
              "      <button class=\"colab-df-convert\" onclick=\"convertToInteractive('df-1f9830a5-bb68-41a8-b583-325e9db6a132')\"\n",
              "              title=\"Convert this dataframe to an interactive table.\"\n",
              "              style=\"display:none;\">\n",
              "        \n",
              "  <svg xmlns=\"http://www.w3.org/2000/svg\" height=\"24px\"viewBox=\"0 0 24 24\"\n",
              "       width=\"24px\">\n",
              "    <path d=\"M0 0h24v24H0V0z\" fill=\"none\"/>\n",
              "    <path d=\"M18.56 5.44l.94 2.06.94-2.06 2.06-.94-2.06-.94-.94-2.06-.94 2.06-2.06.94zm-11 1L8.5 8.5l.94-2.06 2.06-.94-2.06-.94L8.5 2.5l-.94 2.06-2.06.94zm10 10l.94 2.06.94-2.06 2.06-.94-2.06-.94-.94-2.06-.94 2.06-2.06.94z\"/><path d=\"M17.41 7.96l-1.37-1.37c-.4-.4-.92-.59-1.43-.59-.52 0-1.04.2-1.43.59L10.3 9.45l-7.72 7.72c-.78.78-.78 2.05 0 2.83L4 21.41c.39.39.9.59 1.41.59.51 0 1.02-.2 1.41-.59l7.78-7.78 2.81-2.81c.8-.78.8-2.07 0-2.86zM5.41 20L4 18.59l7.72-7.72 1.47 1.35L5.41 20z\"/>\n",
              "  </svg>\n",
              "      </button>\n",
              "      \n",
              "  <style>\n",
              "    .colab-df-container {\n",
              "      display:flex;\n",
              "      flex-wrap:wrap;\n",
              "      gap: 12px;\n",
              "    }\n",
              "\n",
              "    .colab-df-convert {\n",
              "      background-color: #E8F0FE;\n",
              "      border: none;\n",
              "      border-radius: 50%;\n",
              "      cursor: pointer;\n",
              "      display: none;\n",
              "      fill: #1967D2;\n",
              "      height: 32px;\n",
              "      padding: 0 0 0 0;\n",
              "      width: 32px;\n",
              "    }\n",
              "\n",
              "    .colab-df-convert:hover {\n",
              "      background-color: #E2EBFA;\n",
              "      box-shadow: 0px 1px 2px rgba(60, 64, 67, 0.3), 0px 1px 3px 1px rgba(60, 64, 67, 0.15);\n",
              "      fill: #174EA6;\n",
              "    }\n",
              "\n",
              "    [theme=dark] .colab-df-convert {\n",
              "      background-color: #3B4455;\n",
              "      fill: #D2E3FC;\n",
              "    }\n",
              "\n",
              "    [theme=dark] .colab-df-convert:hover {\n",
              "      background-color: #434B5C;\n",
              "      box-shadow: 0px 1px 3px 1px rgba(0, 0, 0, 0.15);\n",
              "      filter: drop-shadow(0px 1px 2px rgba(0, 0, 0, 0.3));\n",
              "      fill: #FFFFFF;\n",
              "    }\n",
              "  </style>\n",
              "\n",
              "      <script>\n",
              "        const buttonEl =\n",
              "          document.querySelector('#df-1f9830a5-bb68-41a8-b583-325e9db6a132 button.colab-df-convert');\n",
              "        buttonEl.style.display =\n",
              "          google.colab.kernel.accessAllowed ? 'block' : 'none';\n",
              "\n",
              "        async function convertToInteractive(key) {\n",
              "          const element = document.querySelector('#df-1f9830a5-bb68-41a8-b583-325e9db6a132');\n",
              "          const dataTable =\n",
              "            await google.colab.kernel.invokeFunction('convertToInteractive',\n",
              "                                                     [key], {});\n",
              "          if (!dataTable) return;\n",
              "\n",
              "          const docLinkHtml = 'Like what you see? Visit the ' +\n",
              "            '<a target=\"_blank\" href=https://colab.research.google.com/notebooks/data_table.ipynb>data table notebook</a>'\n",
              "            + ' to learn more about interactive tables.';\n",
              "          element.innerHTML = '';\n",
              "          dataTable['output_type'] = 'display_data';\n",
              "          await google.colab.output.renderOutput(dataTable, element);\n",
              "          const docLink = document.createElement('div');\n",
              "          docLink.innerHTML = docLinkHtml;\n",
              "          element.appendChild(docLink);\n",
              "        }\n",
              "      </script>\n",
              "    </div>\n",
              "  </div>\n",
              "  "
            ]
          },
          "metadata": {}
        },
        {
          "output_type": "display_data",
          "data": {
            "text/plain": [
              "            user_id group                  ab_test\n",
              "0  D1ABA3E2887B6A73     A  recommender_system_test\n",
              "1  A7A3664BD6242119     A  recommender_system_test\n",
              "2  DABC14FDDFADD29E     A  recommender_system_test\n",
              "3  04988C5DF189632E     A  recommender_system_test\n",
              "4  482F14783456D21B     B  recommender_system_test"
            ],
            "text/html": [
              "\n",
              "  <div id=\"df-dc9766f5-24d6-4cea-83e0-224972567e09\">\n",
              "    <div class=\"colab-df-container\">\n",
              "      <div>\n",
              "<style scoped>\n",
              "    .dataframe tbody tr th:only-of-type {\n",
              "        vertical-align: middle;\n",
              "    }\n",
              "\n",
              "    .dataframe tbody tr th {\n",
              "        vertical-align: top;\n",
              "    }\n",
              "\n",
              "    .dataframe thead th {\n",
              "        text-align: right;\n",
              "    }\n",
              "</style>\n",
              "<table border=\"1\" class=\"dataframe\">\n",
              "  <thead>\n",
              "    <tr style=\"text-align: right;\">\n",
              "      <th></th>\n",
              "      <th>user_id</th>\n",
              "      <th>group</th>\n",
              "      <th>ab_test</th>\n",
              "    </tr>\n",
              "  </thead>\n",
              "  <tbody>\n",
              "    <tr>\n",
              "      <th>0</th>\n",
              "      <td>D1ABA3E2887B6A73</td>\n",
              "      <td>A</td>\n",
              "      <td>recommender_system_test</td>\n",
              "    </tr>\n",
              "    <tr>\n",
              "      <th>1</th>\n",
              "      <td>A7A3664BD6242119</td>\n",
              "      <td>A</td>\n",
              "      <td>recommender_system_test</td>\n",
              "    </tr>\n",
              "    <tr>\n",
              "      <th>2</th>\n",
              "      <td>DABC14FDDFADD29E</td>\n",
              "      <td>A</td>\n",
              "      <td>recommender_system_test</td>\n",
              "    </tr>\n",
              "    <tr>\n",
              "      <th>3</th>\n",
              "      <td>04988C5DF189632E</td>\n",
              "      <td>A</td>\n",
              "      <td>recommender_system_test</td>\n",
              "    </tr>\n",
              "    <tr>\n",
              "      <th>4</th>\n",
              "      <td>482F14783456D21B</td>\n",
              "      <td>B</td>\n",
              "      <td>recommender_system_test</td>\n",
              "    </tr>\n",
              "  </tbody>\n",
              "</table>\n",
              "</div>\n",
              "      <button class=\"colab-df-convert\" onclick=\"convertToInteractive('df-dc9766f5-24d6-4cea-83e0-224972567e09')\"\n",
              "              title=\"Convert this dataframe to an interactive table.\"\n",
              "              style=\"display:none;\">\n",
              "        \n",
              "  <svg xmlns=\"http://www.w3.org/2000/svg\" height=\"24px\"viewBox=\"0 0 24 24\"\n",
              "       width=\"24px\">\n",
              "    <path d=\"M0 0h24v24H0V0z\" fill=\"none\"/>\n",
              "    <path d=\"M18.56 5.44l.94 2.06.94-2.06 2.06-.94-2.06-.94-.94-2.06-.94 2.06-2.06.94zm-11 1L8.5 8.5l.94-2.06 2.06-.94-2.06-.94L8.5 2.5l-.94 2.06-2.06.94zm10 10l.94 2.06.94-2.06 2.06-.94-2.06-.94-.94-2.06-.94 2.06-2.06.94z\"/><path d=\"M17.41 7.96l-1.37-1.37c-.4-.4-.92-.59-1.43-.59-.52 0-1.04.2-1.43.59L10.3 9.45l-7.72 7.72c-.78.78-.78 2.05 0 2.83L4 21.41c.39.39.9.59 1.41.59.51 0 1.02-.2 1.41-.59l7.78-7.78 2.81-2.81c.8-.78.8-2.07 0-2.86zM5.41 20L4 18.59l7.72-7.72 1.47 1.35L5.41 20z\"/>\n",
              "  </svg>\n",
              "      </button>\n",
              "      \n",
              "  <style>\n",
              "    .colab-df-container {\n",
              "      display:flex;\n",
              "      flex-wrap:wrap;\n",
              "      gap: 12px;\n",
              "    }\n",
              "\n",
              "    .colab-df-convert {\n",
              "      background-color: #E8F0FE;\n",
              "      border: none;\n",
              "      border-radius: 50%;\n",
              "      cursor: pointer;\n",
              "      display: none;\n",
              "      fill: #1967D2;\n",
              "      height: 32px;\n",
              "      padding: 0 0 0 0;\n",
              "      width: 32px;\n",
              "    }\n",
              "\n",
              "    .colab-df-convert:hover {\n",
              "      background-color: #E2EBFA;\n",
              "      box-shadow: 0px 1px 2px rgba(60, 64, 67, 0.3), 0px 1px 3px 1px rgba(60, 64, 67, 0.15);\n",
              "      fill: #174EA6;\n",
              "    }\n",
              "\n",
              "    [theme=dark] .colab-df-convert {\n",
              "      background-color: #3B4455;\n",
              "      fill: #D2E3FC;\n",
              "    }\n",
              "\n",
              "    [theme=dark] .colab-df-convert:hover {\n",
              "      background-color: #434B5C;\n",
              "      box-shadow: 0px 1px 3px 1px rgba(0, 0, 0, 0.15);\n",
              "      filter: drop-shadow(0px 1px 2px rgba(0, 0, 0, 0.3));\n",
              "      fill: #FFFFFF;\n",
              "    }\n",
              "  </style>\n",
              "\n",
              "      <script>\n",
              "        const buttonEl =\n",
              "          document.querySelector('#df-dc9766f5-24d6-4cea-83e0-224972567e09 button.colab-df-convert');\n",
              "        buttonEl.style.display =\n",
              "          google.colab.kernel.accessAllowed ? 'block' : 'none';\n",
              "\n",
              "        async function convertToInteractive(key) {\n",
              "          const element = document.querySelector('#df-dc9766f5-24d6-4cea-83e0-224972567e09');\n",
              "          const dataTable =\n",
              "            await google.colab.kernel.invokeFunction('convertToInteractive',\n",
              "                                                     [key], {});\n",
              "          if (!dataTable) return;\n",
              "\n",
              "          const docLinkHtml = 'Like what you see? Visit the ' +\n",
              "            '<a target=\"_blank\" href=https://colab.research.google.com/notebooks/data_table.ipynb>data table notebook</a>'\n",
              "            + ' to learn more about interactive tables.';\n",
              "          element.innerHTML = '';\n",
              "          dataTable['output_type'] = 'display_data';\n",
              "          await google.colab.output.renderOutput(dataTable, element);\n",
              "          const docLink = document.createElement('div');\n",
              "          docLink.innerHTML = docLinkHtml;\n",
              "          element.appendChild(docLink);\n",
              "        }\n",
              "      </script>\n",
              "    </div>\n",
              "  </div>\n",
              "  "
            ]
          },
          "metadata": {}
        }
      ],
      "source": [
        "display(calendar.head(5))\n",
        "display(events.head(5))\n",
        "display(new_users.head(5))\n",
        "display(participants.head(5))"
      ]
    },
    {
      "cell_type": "code",
      "execution_count": 37,
      "metadata": {
        "colab": {
          "base_uri": "https://localhost:8080/"
        },
        "id": "s3_3M4vZGCt0",
        "outputId": "cc83303f-07f5-4580-f255-17c346e004d8"
      },
      "outputs": [
        {
          "output_type": "stream",
          "name": "stdout",
          "text": [
            "<class 'pandas.core.frame.DataFrame'>\n",
            "RangeIndex: 14 entries, 0 to 13\n",
            "Data columns (total 4 columns):\n",
            " #   Column     Non-Null Count  Dtype \n",
            "---  ------     --------------  ----- \n",
            " 0   name       14 non-null     object\n",
            " 1   regions    14 non-null     object\n",
            " 2   start_dt   14 non-null     object\n",
            " 3   finish_dt  14 non-null     object\n",
            "dtypes: object(4)\n",
            "memory usage: 576.0+ bytes\n",
            "None\n",
            "0\n"
          ]
        }
      ],
      "source": [
        "print(calendar.info())\n",
        "print(calendar.duplicated().sum())"
      ]
    },
    {
      "cell_type": "markdown",
      "metadata": {
        "id": "TIQQXRMjGCt1"
      },
      "source": [
        "Приведём ниже время в нужный формат, пропусков и дубликатов нет."
      ]
    },
    {
      "cell_type": "code",
      "execution_count": 38,
      "metadata": {
        "colab": {
          "base_uri": "https://localhost:8080/"
        },
        "id": "7iFD0PC3GCt1",
        "outputId": "b2e5fd55-da3e-48f9-bd43-f2bbd82fcb7a"
      },
      "outputs": [
        {
          "output_type": "stream",
          "name": "stdout",
          "text": [
            "<class 'pandas.core.frame.DataFrame'>\n",
            "RangeIndex: 440317 entries, 0 to 440316\n",
            "Data columns (total 4 columns):\n",
            " #   Column      Non-Null Count   Dtype  \n",
            "---  ------      --------------   -----  \n",
            " 0   user_id     440317 non-null  object \n",
            " 1   event_dt    440317 non-null  object \n",
            " 2   event_name  440317 non-null  object \n",
            " 3   details     62740 non-null   float64\n",
            "dtypes: float64(1), object(3)\n",
            "memory usage: 13.4+ MB\n",
            "None\n",
            "0\n"
          ]
        }
      ],
      "source": [
        "print(events.info())\n",
        "print(events.duplicated().sum())"
      ]
    },
    {
      "cell_type": "markdown",
      "metadata": {
        "id": "8VXV9pBVGCt2"
      },
      "source": [
        "Приведём время в нужный формат, много пропусков в колонке details, потому что там содержится дополнительная информация, относящаяся не ко всем событиям. Дубликатов нет."
      ]
    },
    {
      "cell_type": "code",
      "execution_count": 39,
      "metadata": {
        "colab": {
          "base_uri": "https://localhost:8080/"
        },
        "id": "arzpLX9hGCt2",
        "outputId": "d6892783-b97e-4104-c996-15f34c71841d"
      },
      "outputs": [
        {
          "output_type": "stream",
          "name": "stdout",
          "text": [
            "<class 'pandas.core.frame.DataFrame'>\n",
            "RangeIndex: 61733 entries, 0 to 61732\n",
            "Data columns (total 4 columns):\n",
            " #   Column      Non-Null Count  Dtype \n",
            "---  ------      --------------  ----- \n",
            " 0   user_id     61733 non-null  object\n",
            " 1   first_date  61733 non-null  object\n",
            " 2   region      61733 non-null  object\n",
            " 3   device      61733 non-null  object\n",
            "dtypes: object(4)\n",
            "memory usage: 1.9+ MB\n",
            "None\n",
            "0\n"
          ]
        }
      ],
      "source": [
        "print(new_users.info())\n",
        "print(new_users.duplicated().sum())"
      ]
    },
    {
      "cell_type": "markdown",
      "metadata": {
        "id": "FK041u68GCt2"
      },
      "source": [
        "Приведём ниже время в нужный формат, пропусков и дубликатов нет."
      ]
    },
    {
      "cell_type": "code",
      "execution_count": 40,
      "metadata": {
        "colab": {
          "base_uri": "https://localhost:8080/"
        },
        "id": "Ogtt4iVJGCt2",
        "outputId": "13fcfa12-095e-4307-9078-cfd842fe166a"
      },
      "outputs": [
        {
          "output_type": "stream",
          "name": "stdout",
          "text": [
            "<class 'pandas.core.frame.DataFrame'>\n",
            "RangeIndex: 18268 entries, 0 to 18267\n",
            "Data columns (total 3 columns):\n",
            " #   Column   Non-Null Count  Dtype \n",
            "---  ------   --------------  ----- \n",
            " 0   user_id  18268 non-null  object\n",
            " 1   group    18268 non-null  object\n",
            " 2   ab_test  18268 non-null  object\n",
            "dtypes: object(3)\n",
            "memory usage: 428.3+ KB\n",
            "None\n",
            "0\n"
          ]
        }
      ],
      "source": [
        "print(participants.info())\n",
        "print(participants.duplicated().sum())"
      ]
    },
    {
      "cell_type": "markdown",
      "metadata": {
        "id": "hFMvxSZCGCt3"
      },
      "source": [
        "Пропусков и дубликатов нет."
      ]
    },
    {
      "cell_type": "code",
      "execution_count": 41,
      "metadata": {
        "id": "8Im79rVcGCt3"
      },
      "outputs": [],
      "source": [
        "events['event_dt'] = pd.to_datetime(events['event_dt'], format='%Y-%m-%d')\n",
        "new_users['first_date'] = pd.to_datetime(new_users['first_date'], format='%Y-%m-%d')\n",
        "calendar['start_dt'] = pd.to_datetime(calendar['start_dt'], format='%Y-%m-%d')\n",
        "calendar['finish_dt'] = pd.to_datetime(calendar['finish_dt'], format='%Y-%m-%d')"
      ]
    },
    {
      "cell_type": "code",
      "execution_count": 42,
      "metadata": {
        "colab": {
          "base_uri": "https://localhost:8080/"
        },
        "id": "7UL9wNysGCt3",
        "outputId": "afbbbd36-0938-4313-953b-2f0edb28394c"
      },
      "outputs": [
        {
          "output_type": "stream",
          "name": "stdout",
          "text": [
            "['recommender_system_test' 'interface_eu_test']\n",
            "['EU' 'N.America' 'APAC' 'CIS']\n",
            "['PC' 'Android' 'iPhone' 'Mac']\n"
          ]
        }
      ],
      "source": [
        "print(participants['ab_test'].unique())\n",
        "print(new_users['region'].unique())\n",
        "print(new_users['device'].unique())"
      ]
    },
    {
      "cell_type": "markdown",
      "metadata": {
        "id": "YzSUm3OkGCt4"
      },
      "source": [
        "Всего два конкурирующих теста: анализируемый recommender_system_test и конкурент interface_eu_test. Пользователи регистрировались из таких регионов, как Европа, Северная Америка, Азиатско-Тихоокеанский регион и СНГ, используя ПК, телефон на Андроиде, Айфон и Мак."
      ]
    },
    {
      "cell_type": "markdown",
      "metadata": {
        "id": "3eKTJUAnGCt5"
      },
      "source": [
        "## Оценка корректности проведения теста"
      ]
    },
    {
      "cell_type": "markdown",
      "metadata": {
        "id": "s1cn9uMPGCt6"
      },
      "source": [
        "### Проверка корректность всех пунктов технического задания"
      ]
    },
    {
      "cell_type": "code",
      "execution_count": 43,
      "metadata": {
        "colab": {
          "base_uri": "https://localhost:8080/"
        },
        "id": "VwQv7fCpGCt6",
        "outputId": "f6e2edd8-429a-4e33-ce87-2620fc629fb2"
      },
      "outputs": [
        {
          "output_type": "stream",
          "name": "stdout",
          "text": [
            "Время запуска теста: 2020-12-07 00:00:00\n",
            "Время остановки набора новых пользователей: 2020-12-21 00:00:00\n",
            "Время остановки теста 2020-12-30 12:42:57\n",
            "Аудитория теста: 6351\n",
            "Аудитория теста в % относительно всех EU пользователей: 15.0%\n"
          ]
        }
      ],
      "source": [
        "df = participants.merge(new_users, on='user_id')\n",
        "df = df.merge(events, on='user_id', how='left')\n",
        "recommender_system_test = df.query('ab_test == \"recommender_system_test\"')\n",
        "interface_eu_test = df.query('ab_test == \"interface_eu_test\"')\n",
        "start=recommender_system_test['first_date'].min()\n",
        "end=recommender_system_test['first_date'].max()\n",
        "print(\"Время запуска теста:\" ,start)\n",
        "print(\"Время остановки набора новых пользователей:\", end)\n",
        "print('Время остановки теста',recommender_system_test['event_dt'].max())\n",
        "print(\"Аудитория теста:\",recommender_system_test.query('region==\"EU\"')['user_id'].nunique(),)\n",
        "print('Аудитория теста в % относительно всех EU пользователей: {:.1f}%'.format(recommender_system_test.query\\\n",
        "      ('region==\"EU\"')['user_id'].nunique()/new_users.query('region==\"EU\" & first_date<\"2020-12-22\"')['user_id'].count()*100))"
      ]
    },
    {
      "cell_type": "markdown",
      "metadata": {
        "id": "kvXcgzebGCt8"
      },
      "source": [
        "Выводы:\n",
        "   \n",
        "   1. Время проведения теста - с 07.12.2020 по 30.12.2020, а не по 04.01.2021, как заявлено;\n",
        "   3. Время остановки набора новых пользователей - c 07.12.2020 по 21.12.2020, с ТЗ совпадает;\n",
        "   3. Аудитория теста - 6351, на 5% больше заявленной;\n",
        "   4. Аудитория: 15% новых пользователей из региона EU, как и заявлено"
      ]
    },
    {
      "cell_type": "markdown",
      "metadata": {
        "id": "P5bnAew5GCt9"
      },
      "source": [
        "### Время проведения теста"
      ]
    },
    {
      "cell_type": "code",
      "execution_count": 44,
      "metadata": {
        "colab": {
          "base_uri": "https://localhost:8080/",
          "height": 112
        },
        "id": "tSo4l29PGCt9",
        "outputId": "755be05f-e7b3-4b36-c00b-fa7c150e405d"
      },
      "outputs": [
        {
          "output_type": "execute_result",
          "data": {
            "text/plain": [
              "                         name        regions   start_dt  finish_dt\n",
              "0    Christmas&New Year Promo  EU, N.America 2020-12-25 2021-01-03\n",
              "10  CIS New Year Gift Lottery            CIS 2020-12-30 2021-01-07"
            ],
            "text/html": [
              "\n",
              "  <div id=\"df-9cb552f9-d9eb-47b4-969b-4b6c2dd2006b\">\n",
              "    <div class=\"colab-df-container\">\n",
              "      <div>\n",
              "<style scoped>\n",
              "    .dataframe tbody tr th:only-of-type {\n",
              "        vertical-align: middle;\n",
              "    }\n",
              "\n",
              "    .dataframe tbody tr th {\n",
              "        vertical-align: top;\n",
              "    }\n",
              "\n",
              "    .dataframe thead th {\n",
              "        text-align: right;\n",
              "    }\n",
              "</style>\n",
              "<table border=\"1\" class=\"dataframe\">\n",
              "  <thead>\n",
              "    <tr style=\"text-align: right;\">\n",
              "      <th></th>\n",
              "      <th>name</th>\n",
              "      <th>regions</th>\n",
              "      <th>start_dt</th>\n",
              "      <th>finish_dt</th>\n",
              "    </tr>\n",
              "  </thead>\n",
              "  <tbody>\n",
              "    <tr>\n",
              "      <th>0</th>\n",
              "      <td>Christmas&amp;New Year Promo</td>\n",
              "      <td>EU, N.America</td>\n",
              "      <td>2020-12-25</td>\n",
              "      <td>2021-01-03</td>\n",
              "    </tr>\n",
              "    <tr>\n",
              "      <th>10</th>\n",
              "      <td>CIS New Year Gift Lottery</td>\n",
              "      <td>CIS</td>\n",
              "      <td>2020-12-30</td>\n",
              "      <td>2021-01-07</td>\n",
              "    </tr>\n",
              "  </tbody>\n",
              "</table>\n",
              "</div>\n",
              "      <button class=\"colab-df-convert\" onclick=\"convertToInteractive('df-9cb552f9-d9eb-47b4-969b-4b6c2dd2006b')\"\n",
              "              title=\"Convert this dataframe to an interactive table.\"\n",
              "              style=\"display:none;\">\n",
              "        \n",
              "  <svg xmlns=\"http://www.w3.org/2000/svg\" height=\"24px\"viewBox=\"0 0 24 24\"\n",
              "       width=\"24px\">\n",
              "    <path d=\"M0 0h24v24H0V0z\" fill=\"none\"/>\n",
              "    <path d=\"M18.56 5.44l.94 2.06.94-2.06 2.06-.94-2.06-.94-.94-2.06-.94 2.06-2.06.94zm-11 1L8.5 8.5l.94-2.06 2.06-.94-2.06-.94L8.5 2.5l-.94 2.06-2.06.94zm10 10l.94 2.06.94-2.06 2.06-.94-2.06-.94-.94-2.06-.94 2.06-2.06.94z\"/><path d=\"M17.41 7.96l-1.37-1.37c-.4-.4-.92-.59-1.43-.59-.52 0-1.04.2-1.43.59L10.3 9.45l-7.72 7.72c-.78.78-.78 2.05 0 2.83L4 21.41c.39.39.9.59 1.41.59.51 0 1.02-.2 1.41-.59l7.78-7.78 2.81-2.81c.8-.78.8-2.07 0-2.86zM5.41 20L4 18.59l7.72-7.72 1.47 1.35L5.41 20z\"/>\n",
              "  </svg>\n",
              "      </button>\n",
              "      \n",
              "  <style>\n",
              "    .colab-df-container {\n",
              "      display:flex;\n",
              "      flex-wrap:wrap;\n",
              "      gap: 12px;\n",
              "    }\n",
              "\n",
              "    .colab-df-convert {\n",
              "      background-color: #E8F0FE;\n",
              "      border: none;\n",
              "      border-radius: 50%;\n",
              "      cursor: pointer;\n",
              "      display: none;\n",
              "      fill: #1967D2;\n",
              "      height: 32px;\n",
              "      padding: 0 0 0 0;\n",
              "      width: 32px;\n",
              "    }\n",
              "\n",
              "    .colab-df-convert:hover {\n",
              "      background-color: #E2EBFA;\n",
              "      box-shadow: 0px 1px 2px rgba(60, 64, 67, 0.3), 0px 1px 3px 1px rgba(60, 64, 67, 0.15);\n",
              "      fill: #174EA6;\n",
              "    }\n",
              "\n",
              "    [theme=dark] .colab-df-convert {\n",
              "      background-color: #3B4455;\n",
              "      fill: #D2E3FC;\n",
              "    }\n",
              "\n",
              "    [theme=dark] .colab-df-convert:hover {\n",
              "      background-color: #434B5C;\n",
              "      box-shadow: 0px 1px 3px 1px rgba(0, 0, 0, 0.15);\n",
              "      filter: drop-shadow(0px 1px 2px rgba(0, 0, 0, 0.3));\n",
              "      fill: #FFFFFF;\n",
              "    }\n",
              "  </style>\n",
              "\n",
              "      <script>\n",
              "        const buttonEl =\n",
              "          document.querySelector('#df-9cb552f9-d9eb-47b4-969b-4b6c2dd2006b button.colab-df-convert');\n",
              "        buttonEl.style.display =\n",
              "          google.colab.kernel.accessAllowed ? 'block' : 'none';\n",
              "\n",
              "        async function convertToInteractive(key) {\n",
              "          const element = document.querySelector('#df-9cb552f9-d9eb-47b4-969b-4b6c2dd2006b');\n",
              "          const dataTable =\n",
              "            await google.colab.kernel.invokeFunction('convertToInteractive',\n",
              "                                                     [key], {});\n",
              "          if (!dataTable) return;\n",
              "\n",
              "          const docLinkHtml = 'Like what you see? Visit the ' +\n",
              "            '<a target=\"_blank\" href=https://colab.research.google.com/notebooks/data_table.ipynb>data table notebook</a>'\n",
              "            + ' to learn more about interactive tables.';\n",
              "          element.innerHTML = '';\n",
              "          dataTable['output_type'] = 'display_data';\n",
              "          await google.colab.output.renderOutput(dataTable, element);\n",
              "          const docLink = document.createElement('div');\n",
              "          docLink.innerHTML = docLinkHtml;\n",
              "          element.appendChild(docLink);\n",
              "        }\n",
              "      </script>\n",
              "    </div>\n",
              "  </div>\n",
              "  "
            ]
          },
          "metadata": {},
          "execution_count": 44
        }
      ],
      "source": [
        "calendar.query('start_dt>=@start & finish_dt>=@end')"
      ]
    },
    {
      "cell_type": "markdown",
      "metadata": {
        "id": "5Pb8TGobGCt9"
      },
      "source": [
        "Время проведения теста совпадает с двумя событиями: Лотерея в регионе CIS, что не влияет на тест, и Рождественские праздники, что касается Европы, пересекается с тестом и может повлиять на результаты."
      ]
    },
    {
      "cell_type": "markdown",
      "metadata": {
        "id": "Yw-OIEEgGCt-"
      },
      "source": [
        "### Есть ли пересечение тестовой аудитории с конкурирующим тестом"
      ]
    },
    {
      "cell_type": "code",
      "execution_count": 45,
      "metadata": {
        "colab": {
          "base_uri": "https://localhost:8080/"
        },
        "id": "su0X4BQ3GCt-",
        "outputId": "2d0047bb-dcc4-4445-9fef-2a6a81c611c6"
      },
      "outputs": [
        {
          "output_type": "stream",
          "name": "stdout",
          "text": [
            "Время запуска теста: 2020-12-07 00:00:00\n",
            "Время остановки теста: 2020-12-21 00:00:00\n",
            "Время начала теста interface_eu_test: 2020-12-07 00:00:00\n",
            "Время окончания теста interface_eu_test: 2020-12-23 00:00:00\n"
          ]
        }
      ],
      "source": [
        "print(\"Время запуска теста:\" ,start)\n",
        "print(\"Время остановки теста:\", end)\n",
        "print(\"Время начала теста interface_eu_test:\", interface_eu_test['first_date'].min())\n",
        "print(\"Время окончания теста interface_eu_test:\", interface_eu_test['first_date'].max())"
      ]
    },
    {
      "cell_type": "code",
      "execution_count": 46,
      "metadata": {
        "colab": {
          "base_uri": "https://localhost:8080/"
        },
        "id": "PlOfqORXGCt_",
        "outputId": "6b324e42-5190-41a0-cdb2-abce70be48d3"
      },
      "outputs": [
        {
          "output_type": "stream",
          "name": "stdout",
          "text": [
            "Пользователей, участвующих одновременно в двух тестах: 1602\n",
            "Уникальных пользователей в обоих тестах: 16666\n",
            "% пользователей, участвующих одновременно в двух тестах к общему кол-ву участников: 9.6%\n"
          ]
        }
      ],
      "source": [
        "total=df.groupby('user_id').nunique()\n",
        "both = 0\n",
        "for x in total['ab_test']:\n",
        "    if x > 1:\n",
        "        both += 1\n",
        "print('Пользователей, участвующих одновременно в двух тестах:',both)\n",
        "print('Уникальных пользователей в обоих тестах:', len(total))\n",
        "print('% пользователей, участвующих одновременно в двух тестах к общему кол-ву участников: {:.1f}%'\\\n",
        "      .format(both/len(total)*100))"
      ]
    },
    {
      "cell_type": "markdown",
      "metadata": {
        "id": "ghjfmGWJGCt_"
      },
      "source": [
        "Оба теста проводились в одно время, почти 10% пользователей участвовали в обоих тестах, пересечение есть. Избавимся от пользователей из обоих тестов."
      ]
    },
    {
      "cell_type": "code",
      "execution_count": 47,
      "metadata": {
        "colab": {
          "base_uri": "https://localhost:8080/"
        },
        "id": "C4wrb774GCuA",
        "outputId": "7cd3552f-c8a1-49c6-8347-6bc5b6a46820"
      },
      "outputs": [
        {
          "output_type": "execute_result",
          "data": {
            "text/plain": [
              "97150"
            ]
          },
          "metadata": {},
          "execution_count": 47
        }
      ],
      "source": [
        "x=total.query('ab_test>1')\n",
        "df=df.query('user_id not in @x.index')\n",
        "len(df)"
      ]
    },
    {
      "cell_type": "code",
      "execution_count": 48,
      "metadata": {
        "colab": {
          "base_uri": "https://localhost:8080/"
        },
        "id": "3G6LatN-GCuA",
        "outputId": "97118a5d-ce02-4ca0-c04f-008b3a92b840"
      },
      "outputs": [
        {
          "output_type": "execute_result",
          "data": {
            "text/plain": [
              "19681"
            ]
          },
          "metadata": {},
          "execution_count": 48
        }
      ],
      "source": [
        "recommender_system_test=recommender_system_test.query('user_id not in @x.index')\n",
        "recommender_system_test=recommender_system_test.query('region==\"EU\"')\n",
        "len(recommender_system_test)"
      ]
    },
    {
      "cell_type": "markdown",
      "metadata": {
        "id": "BAXykmvIGCuB"
      },
      "source": [
        " ### Равномерность распределения пользователей"
      ]
    },
    {
      "cell_type": "code",
      "execution_count": 49,
      "metadata": {
        "colab": {
          "base_uri": "https://localhost:8080/"
        },
        "id": "wMtM-38hGCuB",
        "outputId": "427c94c1-fac6-499b-8645-f3070031e8e1"
      },
      "outputs": [
        {
          "output_type": "stream",
          "name": "stdout",
          "text": [
            "Количество участников, участвующих одновременно в двух группах: 0\n",
            "Уникальных участников: 4749\n",
            "% участников, участвующих одновременно в двух тестах к общему количеству участников теста recommender_system_test: 33.7%\n",
            "group\n",
            "A    2713\n",
            "B    2036\n",
            "Name: user_id, dtype: int64\n"
          ]
        }
      ],
      "source": [
        "total1 = recommender_system_test.groupby('user_id').nunique() \n",
        "both1 = 0\n",
        "for x in total1['group']:\n",
        "    if x > 1:\n",
        "        both1 += 1\n",
        "print('Количество участников, участвующих одновременно в двух группах:',both1)\n",
        "print('Уникальных участников:', len(total1))\n",
        "print('% участников, участвующих одновременно в двух тестах к общему количеству участников теста \\\n",
        "recommender_system_test: {:.1f}%'.format(both/len(total1)*100))\n",
        "print(recommender_system_test.groupby('group')['user_id'].nunique())"
      ]
    },
    {
      "cell_type": "markdown",
      "metadata": {
        "id": "6SgVcyjwGCuC"
      },
      "source": [
        "Пересечения по группам нет, в группе А 2713 участников, в группе В - 2036, распределение неравномерно, 34% пользователей участвуют одновременно в двух тестах."
      ]
    },
    {
      "cell_type": "code",
      "execution_count": 50,
      "metadata": {
        "id": "QpaNLKoIGCuD"
      },
      "outputs": [],
      "source": [
        "#добавим колонку отдельно со днём события и с разницей между событиями, чтобы исключить события старше 14 дней\n",
        "recommender_system_test['day'] = recommender_system_test['event_dt'].astype('datetime64[D]')\n",
        "recommender_system_test['diff']=recommender_system_test['day']-recommender_system_test['first_date']\n",
        "recommender_system_test['diff'] = recommender_system_test['diff'].apply(lambda x: x.days)\n",
        "recommender_system_test=recommender_system_test.query('diff<15')"
      ]
    },
    {
      "cell_type": "markdown",
      "metadata": {
        "id": "WItIM1yTGCuE"
      },
      "source": [
        "## Исследовательский анализ данных"
      ]
    },
    {
      "cell_type": "markdown",
      "metadata": {
        "id": "T50-cMc3GCuF"
      },
      "source": [
        "### Количество событий на пользователя одинаково распределены в выборках?"
      ]
    },
    {
      "cell_type": "code",
      "execution_count": 51,
      "metadata": {
        "colab": {
          "base_uri": "https://localhost:8080/"
        },
        "id": "MY-0Gv4bGCuF",
        "outputId": "26a81fe5-4767-4c87-d4b6-6cec98d57b70"
      },
      "outputs": [
        {
          "output_type": "stream",
          "name": "stdout",
          "text": [
            "6.956678700361011\n",
            "5.4931297709923665\n"
          ]
        }
      ],
      "source": [
        "x=recommender_system_test.query('group==\"A\"')['event_name'].count()\n",
        "y=recommender_system_test.query('group==\"A\"')['user_id'].nunique()\n",
        "print(x/y)\n",
        "\n",
        "x=recommender_system_test.query('group==\"B\"')['event_name'].count()\n",
        "y=recommender_system_test.query('group==\"B\"')['user_id'].nunique()\n",
        "print(x/y)"
      ]
    },
    {
      "cell_type": "markdown",
      "metadata": {
        "id": "nVAtaPizGCuF"
      },
      "source": [
        "Нет, на пользователей группы А приходится на 1.5 действия больше."
      ]
    },
    {
      "cell_type": "markdown",
      "metadata": {
        "id": "sEElZLcXGCuG"
      },
      "source": [
        "### Как число событий в выборках распределено по дням?"
      ]
    },
    {
      "cell_type": "code",
      "execution_count": 52,
      "metadata": {
        "colab": {
          "base_uri": "https://localhost:8080/",
          "height": 334
        },
        "id": "kecVq4YsGCuG",
        "outputId": "276baf9c-9e0d-4944-b754-5d172a2bf02f"
      },
      "outputs": [
        {
          "output_type": "display_data",
          "data": {
            "text/plain": [
              "<Figure size 1080x288 with 1 Axes>"
            ],
            "image/png": "[encoded data removed]"
          },
          "metadata": {}
        }
      ],
      "source": [
        "event_by_date = recommender_system_test.groupby(['day', 'group'])['user_id'].count().reset_index()\n",
        "plt.figure(figsize=(15, 4))\n",
        "sns.set_style(\"whitegrid\")\n",
        "ax = sns.lineplot(data=event_by_date, x='day', y='user_id', hue='group')\n",
        "ax.set_xticks(event_by_date['day'])\n",
        "ax.set_title('Распределение количества событий в группах по дням')\n",
        "plt.xticks(rotation=45)\n",
        "plt.xlabel('Дата')\n",
        "plt.ylabel('');"
      ]
    },
    {
      "cell_type": "code",
      "execution_count": 53,
      "metadata": {
        "colab": {
          "base_uri": "https://localhost:8080/",
          "height": 206
        },
        "id": "pYNbS8GBGCuG",
        "outputId": "765de406-c827-452b-b808-63f60b983bda"
      },
      "outputs": [
        {
          "output_type": "execute_result",
          "data": {
            "text/plain": [
              "              user_id\n",
              "event_name           \n",
              "login             434\n",
              "product_cart      135\n",
              "product_page      260\n",
              "purchase          119"
            ],
            "text/html": [
              "\n",
              "  <div id=\"df-1462e0d1-ffc7-41db-a7ea-1f79561b0c85\">\n",
              "    <div class=\"colab-df-container\">\n",
              "      <div>\n",
              "<style scoped>\n",
              "    .dataframe tbody tr th:only-of-type {\n",
              "        vertical-align: middle;\n",
              "    }\n",
              "\n",
              "    .dataframe tbody tr th {\n",
              "        vertical-align: top;\n",
              "    }\n",
              "\n",
              "    .dataframe thead th {\n",
              "        text-align: right;\n",
              "    }\n",
              "</style>\n",
              "<table border=\"1\" class=\"dataframe\">\n",
              "  <thead>\n",
              "    <tr style=\"text-align: right;\">\n",
              "      <th></th>\n",
              "      <th>user_id</th>\n",
              "    </tr>\n",
              "    <tr>\n",
              "      <th>event_name</th>\n",
              "      <th></th>\n",
              "    </tr>\n",
              "  </thead>\n",
              "  <tbody>\n",
              "    <tr>\n",
              "      <th>login</th>\n",
              "      <td>434</td>\n",
              "    </tr>\n",
              "    <tr>\n",
              "      <th>product_cart</th>\n",
              "      <td>135</td>\n",
              "    </tr>\n",
              "    <tr>\n",
              "      <th>product_page</th>\n",
              "      <td>260</td>\n",
              "    </tr>\n",
              "    <tr>\n",
              "      <th>purchase</th>\n",
              "      <td>119</td>\n",
              "    </tr>\n",
              "  </tbody>\n",
              "</table>\n",
              "</div>\n",
              "      <button class=\"colab-df-convert\" onclick=\"convertToInteractive('df-1462e0d1-ffc7-41db-a7ea-1f79561b0c85')\"\n",
              "              title=\"Convert this dataframe to an interactive table.\"\n",
              "              style=\"display:none;\">\n",
              "        \n",
              "  <svg xmlns=\"http://www.w3.org/2000/svg\" height=\"24px\"viewBox=\"0 0 24 24\"\n",
              "       width=\"24px\">\n",
              "    <path d=\"M0 0h24v24H0V0z\" fill=\"none\"/>\n",
              "    <path d=\"M18.56 5.44l.94 2.06.94-2.06 2.06-.94-2.06-.94-.94-2.06-.94 2.06-2.06.94zm-11 1L8.5 8.5l.94-2.06 2.06-.94-2.06-.94L8.5 2.5l-.94 2.06-2.06.94zm10 10l.94 2.06.94-2.06 2.06-.94-2.06-.94-.94-2.06-.94 2.06-2.06.94z\"/><path d=\"M17.41 7.96l-1.37-1.37c-.4-.4-.92-.59-1.43-.59-.52 0-1.04.2-1.43.59L10.3 9.45l-7.72 7.72c-.78.78-.78 2.05 0 2.83L4 21.41c.39.39.9.59 1.41.59.51 0 1.02-.2 1.41-.59l7.78-7.78 2.81-2.81c.8-.78.8-2.07 0-2.86zM5.41 20L4 18.59l7.72-7.72 1.47 1.35L5.41 20z\"/>\n",
              "  </svg>\n",
              "      </button>\n",
              "      \n",
              "  <style>\n",
              "    .colab-df-container {\n",
              "      display:flex;\n",
              "      flex-wrap:wrap;\n",
              "      gap: 12px;\n",
              "    }\n",
              "\n",
              "    .colab-df-convert {\n",
              "      background-color: #E8F0FE;\n",
              "      border: none;\n",
              "      border-radius: 50%;\n",
              "      cursor: pointer;\n",
              "      display: none;\n",
              "      fill: #1967D2;\n",
              "      height: 32px;\n",
              "      padding: 0 0 0 0;\n",
              "      width: 32px;\n",
              "    }\n",
              "\n",
              "    .colab-df-convert:hover {\n",
              "      background-color: #E2EBFA;\n",
              "      box-shadow: 0px 1px 2px rgba(60, 64, 67, 0.3), 0px 1px 3px 1px rgba(60, 64, 67, 0.15);\n",
              "      fill: #174EA6;\n",
              "    }\n",
              "\n",
              "    [theme=dark] .colab-df-convert {\n",
              "      background-color: #3B4455;\n",
              "      fill: #D2E3FC;\n",
              "    }\n",
              "\n",
              "    [theme=dark] .colab-df-convert:hover {\n",
              "      background-color: #434B5C;\n",
              "      box-shadow: 0px 1px 3px 1px rgba(0, 0, 0, 0.15);\n",
              "      filter: drop-shadow(0px 1px 2px rgba(0, 0, 0, 0.3));\n",
              "      fill: #FFFFFF;\n",
              "    }\n",
              "  </style>\n",
              "\n",
              "      <script>\n",
              "        const buttonEl =\n",
              "          document.querySelector('#df-1462e0d1-ffc7-41db-a7ea-1f79561b0c85 button.colab-df-convert');\n",
              "        buttonEl.style.display =\n",
              "          google.colab.kernel.accessAllowed ? 'block' : 'none';\n",
              "\n",
              "        async function convertToInteractive(key) {\n",
              "          const element = document.querySelector('#df-1462e0d1-ffc7-41db-a7ea-1f79561b0c85');\n",
              "          const dataTable =\n",
              "            await google.colab.kernel.invokeFunction('convertToInteractive',\n",
              "                                                     [key], {});\n",
              "          if (!dataTable) return;\n",
              "\n",
              "          const docLinkHtml = 'Like what you see? Visit the ' +\n",
              "            '<a target=\"_blank\" href=https://colab.research.google.com/notebooks/data_table.ipynb>data table notebook</a>'\n",
              "            + ' to learn more about interactive tables.';\n",
              "          element.innerHTML = '';\n",
              "          dataTable['output_type'] = 'display_data';\n",
              "          await google.colab.output.renderOutput(dataTable, element);\n",
              "          const docLink = document.createElement('div');\n",
              "          docLink.innerHTML = docLinkHtml;\n",
              "          element.appendChild(docLink);\n",
              "        }\n",
              "      </script>\n",
              "    </div>\n",
              "  </div>\n",
              "  "
            ]
          },
          "metadata": {},
          "execution_count": 53
        }
      ],
      "source": [
        "recommender_system_test.query('day==\"2020-12-14\"').pivot_table(index='event_name',values='user_id',aggfunc='count')"
      ]
    },
    {
      "cell_type": "code",
      "execution_count": 54,
      "metadata": {
        "colab": {
          "base_uri": "https://localhost:8080/",
          "height": 206
        },
        "id": "ckJMHwRQGCuH",
        "outputId": "714cfe26-1273-4edd-f4e4-8e102890c3a8"
      },
      "outputs": [
        {
          "output_type": "execute_result",
          "data": {
            "text/plain": [
              "              user_id\n",
              "event_name           \n",
              "login             778\n",
              "product_cart      218\n",
              "product_page      499\n",
              "purchase          255"
            ],
            "text/html": [
              "\n",
              "  <div id=\"df-d2f1641f-f44f-4c30-a8d4-db3e92b88377\">\n",
              "    <div class=\"colab-df-container\">\n",
              "      <div>\n",
              "<style scoped>\n",
              "    .dataframe tbody tr th:only-of-type {\n",
              "        vertical-align: middle;\n",
              "    }\n",
              "\n",
              "    .dataframe tbody tr th {\n",
              "        vertical-align: top;\n",
              "    }\n",
              "\n",
              "    .dataframe thead th {\n",
              "        text-align: right;\n",
              "    }\n",
              "</style>\n",
              "<table border=\"1\" class=\"dataframe\">\n",
              "  <thead>\n",
              "    <tr style=\"text-align: right;\">\n",
              "      <th></th>\n",
              "      <th>user_id</th>\n",
              "    </tr>\n",
              "    <tr>\n",
              "      <th>event_name</th>\n",
              "      <th></th>\n",
              "    </tr>\n",
              "  </thead>\n",
              "  <tbody>\n",
              "    <tr>\n",
              "      <th>login</th>\n",
              "      <td>778</td>\n",
              "    </tr>\n",
              "    <tr>\n",
              "      <th>product_cart</th>\n",
              "      <td>218</td>\n",
              "    </tr>\n",
              "    <tr>\n",
              "      <th>product_page</th>\n",
              "      <td>499</td>\n",
              "    </tr>\n",
              "    <tr>\n",
              "      <th>purchase</th>\n",
              "      <td>255</td>\n",
              "    </tr>\n",
              "  </tbody>\n",
              "</table>\n",
              "</div>\n",
              "      <button class=\"colab-df-convert\" onclick=\"convertToInteractive('df-d2f1641f-f44f-4c30-a8d4-db3e92b88377')\"\n",
              "              title=\"Convert this dataframe to an interactive table.\"\n",
              "              style=\"display:none;\">\n",
              "        \n",
              "  <svg xmlns=\"http://www.w3.org/2000/svg\" height=\"24px\"viewBox=\"0 0 24 24\"\n",
              "       width=\"24px\">\n",
              "    <path d=\"M0 0h24v24H0V0z\" fill=\"none\"/>\n",
              "    <path d=\"M18.56 5.44l.94 2.06.94-2.06 2.06-.94-2.06-.94-.94-2.06-.94 2.06-2.06.94zm-11 1L8.5 8.5l.94-2.06 2.06-.94-2.06-.94L8.5 2.5l-.94 2.06-2.06.94zm10 10l.94 2.06.94-2.06 2.06-.94-2.06-.94-.94-2.06-.94 2.06-2.06.94z\"/><path d=\"M17.41 7.96l-1.37-1.37c-.4-.4-.92-.59-1.43-.59-.52 0-1.04.2-1.43.59L10.3 9.45l-7.72 7.72c-.78.78-.78 2.05 0 2.83L4 21.41c.39.39.9.59 1.41.59.51 0 1.02-.2 1.41-.59l7.78-7.78 2.81-2.81c.8-.78.8-2.07 0-2.86zM5.41 20L4 18.59l7.72-7.72 1.47 1.35L5.41 20z\"/>\n",
              "  </svg>\n",
              "      </button>\n",
              "      \n",
              "  <style>\n",
              "    .colab-df-container {\n",
              "      display:flex;\n",
              "      flex-wrap:wrap;\n",
              "      gap: 12px;\n",
              "    }\n",
              "\n",
              "    .colab-df-convert {\n",
              "      background-color: #E8F0FE;\n",
              "      border: none;\n",
              "      border-radius: 50%;\n",
              "      cursor: pointer;\n",
              "      display: none;\n",
              "      fill: #1967D2;\n",
              "      height: 32px;\n",
              "      padding: 0 0 0 0;\n",
              "      width: 32px;\n",
              "    }\n",
              "\n",
              "    .colab-df-convert:hover {\n",
              "      background-color: #E2EBFA;\n",
              "      box-shadow: 0px 1px 2px rgba(60, 64, 67, 0.3), 0px 1px 3px 1px rgba(60, 64, 67, 0.15);\n",
              "      fill: #174EA6;\n",
              "    }\n",
              "\n",
              "    [theme=dark] .colab-df-convert {\n",
              "      background-color: #3B4455;\n",
              "      fill: #D2E3FC;\n",
              "    }\n",
              "\n",
              "    [theme=dark] .colab-df-convert:hover {\n",
              "      background-color: #434B5C;\n",
              "      box-shadow: 0px 1px 3px 1px rgba(0, 0, 0, 0.15);\n",
              "      filter: drop-shadow(0px 1px 2px rgba(0, 0, 0, 0.3));\n",
              "      fill: #FFFFFF;\n",
              "    }\n",
              "  </style>\n",
              "\n",
              "      <script>\n",
              "        const buttonEl =\n",
              "          document.querySelector('#df-d2f1641f-f44f-4c30-a8d4-db3e92b88377 button.colab-df-convert');\n",
              "        buttonEl.style.display =\n",
              "          google.colab.kernel.accessAllowed ? 'block' : 'none';\n",
              "\n",
              "        async function convertToInteractive(key) {\n",
              "          const element = document.querySelector('#df-d2f1641f-f44f-4c30-a8d4-db3e92b88377');\n",
              "          const dataTable =\n",
              "            await google.colab.kernel.invokeFunction('convertToInteractive',\n",
              "                                                     [key], {});\n",
              "          if (!dataTable) return;\n",
              "\n",
              "          const docLinkHtml = 'Like what you see? Visit the ' +\n",
              "            '<a target=\"_blank\" href=https://colab.research.google.com/notebooks/data_table.ipynb>data table notebook</a>'\n",
              "            + ' to learn more about interactive tables.';\n",
              "          element.innerHTML = '';\n",
              "          dataTable['output_type'] = 'display_data';\n",
              "          await google.colab.output.renderOutput(dataTable, element);\n",
              "          const docLink = document.createElement('div');\n",
              "          docLink.innerHTML = docLinkHtml;\n",
              "          element.appendChild(docLink);\n",
              "        }\n",
              "      </script>\n",
              "    </div>\n",
              "  </div>\n",
              "  "
            ]
          },
          "metadata": {},
          "execution_count": 54
        }
      ],
      "source": [
        "recommender_system_test.query('day==\"2020-12-21\"').pivot_table(index='event_name',values='user_id',aggfunc='count')"
      ]
    },
    {
      "cell_type": "markdown",
      "metadata": {
        "id": "k1EfuqEeGCuH"
      },
      "source": [
        "В обеих группах наблюдается малое количество действий до 14 декабря, в котором у группы А происходит всплеск, такой же всплеск происходит и 21 декабря, потом количество действий падает. Всплески связаны с регистрацией огромного количества пользователей за один день."
      ]
    },
    {
      "cell_type": "markdown",
      "metadata": {
        "id": "yMiuc3rJGCuI"
      },
      "source": [
        "### Как меняется конверсия в воронке в выборках на разных этапах?"
      ]
    },
    {
      "cell_type": "code",
      "execution_count": 55,
      "metadata": {
        "colab": {
          "base_uri": "https://localhost:8080/",
          "height": 175
        },
        "id": "VBSxWcbzGCuI",
        "outputId": "918e086a-58b0-4a98-d19c-10cf4a8fce32"
      },
      "outputs": [
        {
          "output_type": "execute_result",
          "data": {
            "text/plain": [
              "     event_name  user_id  percent\n",
              "0         login     2593   100.00\n",
              "1  product_page     1632    62.94\n",
              "2      purchase      804    31.01\n",
              "3  product_cart      773    29.81"
            ],
            "text/html": [
              "\n",
              "  <div id=\"df-63455470-56c0-4c46-8a2d-11547b133f11\">\n",
              "    <div class=\"colab-df-container\">\n",
              "      <div>\n",
              "<style scoped>\n",
              "    .dataframe tbody tr th:only-of-type {\n",
              "        vertical-align: middle;\n",
              "    }\n",
              "\n",
              "    .dataframe tbody tr th {\n",
              "        vertical-align: top;\n",
              "    }\n",
              "\n",
              "    .dataframe thead th {\n",
              "        text-align: right;\n",
              "    }\n",
              "</style>\n",
              "<table border=\"1\" class=\"dataframe\">\n",
              "  <thead>\n",
              "    <tr style=\"text-align: right;\">\n",
              "      <th></th>\n",
              "      <th>event_name</th>\n",
              "      <th>user_id</th>\n",
              "      <th>percent</th>\n",
              "    </tr>\n",
              "  </thead>\n",
              "  <tbody>\n",
              "    <tr>\n",
              "      <th>0</th>\n",
              "      <td>login</td>\n",
              "      <td>2593</td>\n",
              "      <td>100.00</td>\n",
              "    </tr>\n",
              "    <tr>\n",
              "      <th>1</th>\n",
              "      <td>product_page</td>\n",
              "      <td>1632</td>\n",
              "      <td>62.94</td>\n",
              "    </tr>\n",
              "    <tr>\n",
              "      <th>2</th>\n",
              "      <td>purchase</td>\n",
              "      <td>804</td>\n",
              "      <td>31.01</td>\n",
              "    </tr>\n",
              "    <tr>\n",
              "      <th>3</th>\n",
              "      <td>product_cart</td>\n",
              "      <td>773</td>\n",
              "      <td>29.81</td>\n",
              "    </tr>\n",
              "  </tbody>\n",
              "</table>\n",
              "</div>\n",
              "      <button class=\"colab-df-convert\" onclick=\"convertToInteractive('df-63455470-56c0-4c46-8a2d-11547b133f11')\"\n",
              "              title=\"Convert this dataframe to an interactive table.\"\n",
              "              style=\"display:none;\">\n",
              "        \n",
              "  <svg xmlns=\"http://www.w3.org/2000/svg\" height=\"24px\"viewBox=\"0 0 24 24\"\n",
              "       width=\"24px\">\n",
              "    <path d=\"M0 0h24v24H0V0z\" fill=\"none\"/>\n",
              "    <path d=\"M18.56 5.44l.94 2.06.94-2.06 2.06-.94-2.06-.94-.94-2.06-.94 2.06-2.06.94zm-11 1L8.5 8.5l.94-2.06 2.06-.94-2.06-.94L8.5 2.5l-.94 2.06-2.06.94zm10 10l.94 2.06.94-2.06 2.06-.94-2.06-.94-.94-2.06-.94 2.06-2.06.94z\"/><path d=\"M17.41 7.96l-1.37-1.37c-.4-.4-.92-.59-1.43-.59-.52 0-1.04.2-1.43.59L10.3 9.45l-7.72 7.72c-.78.78-.78 2.05 0 2.83L4 21.41c.39.39.9.59 1.41.59.51 0 1.02-.2 1.41-.59l7.78-7.78 2.81-2.81c.8-.78.8-2.07 0-2.86zM5.41 20L4 18.59l7.72-7.72 1.47 1.35L5.41 20z\"/>\n",
              "  </svg>\n",
              "      </button>\n",
              "      \n",
              "  <style>\n",
              "    .colab-df-container {\n",
              "      display:flex;\n",
              "      flex-wrap:wrap;\n",
              "      gap: 12px;\n",
              "    }\n",
              "\n",
              "    .colab-df-convert {\n",
              "      background-color: #E8F0FE;\n",
              "      border: none;\n",
              "      border-radius: 50%;\n",
              "      cursor: pointer;\n",
              "      display: none;\n",
              "      fill: #1967D2;\n",
              "      height: 32px;\n",
              "      padding: 0 0 0 0;\n",
              "      width: 32px;\n",
              "    }\n",
              "\n",
              "    .colab-df-convert:hover {\n",
              "      background-color: #E2EBFA;\n",
              "      box-shadow: 0px 1px 2px rgba(60, 64, 67, 0.3), 0px 1px 3px 1px rgba(60, 64, 67, 0.15);\n",
              "      fill: #174EA6;\n",
              "    }\n",
              "\n",
              "    [theme=dark] .colab-df-convert {\n",
              "      background-color: #3B4455;\n",
              "      fill: #D2E3FC;\n",
              "    }\n",
              "\n",
              "    [theme=dark] .colab-df-convert:hover {\n",
              "      background-color: #434B5C;\n",
              "      box-shadow: 0px 1px 3px 1px rgba(0, 0, 0, 0.15);\n",
              "      filter: drop-shadow(0px 1px 2px rgba(0, 0, 0, 0.3));\n",
              "      fill: #FFFFFF;\n",
              "    }\n",
              "  </style>\n",
              "\n",
              "      <script>\n",
              "        const buttonEl =\n",
              "          document.querySelector('#df-63455470-56c0-4c46-8a2d-11547b133f11 button.colab-df-convert');\n",
              "        buttonEl.style.display =\n",
              "          google.colab.kernel.accessAllowed ? 'block' : 'none';\n",
              "\n",
              "        async function convertToInteractive(key) {\n",
              "          const element = document.querySelector('#df-63455470-56c0-4c46-8a2d-11547b133f11');\n",
              "          const dataTable =\n",
              "            await google.colab.kernel.invokeFunction('convertToInteractive',\n",
              "                                                     [key], {});\n",
              "          if (!dataTable) return;\n",
              "\n",
              "          const docLinkHtml = 'Like what you see? Visit the ' +\n",
              "            '<a target=\"_blank\" href=https://colab.research.google.com/notebooks/data_table.ipynb>data table notebook</a>'\n",
              "            + ' to learn more about interactive tables.';\n",
              "          element.innerHTML = '';\n",
              "          dataTable['output_type'] = 'display_data';\n",
              "          await google.colab.output.renderOutput(dataTable, element);\n",
              "          const docLink = document.createElement('div');\n",
              "          docLink.innerHTML = docLinkHtml;\n",
              "          element.appendChild(docLink);\n",
              "        }\n",
              "      </script>\n",
              "    </div>\n",
              "  </div>\n",
              "  "
            ]
          },
          "metadata": {},
          "execution_count": 55
        }
      ],
      "source": [
        "total_users = recommender_system_test.groupby('event_name')['user_id'].nunique().sort_values(ascending=False).to_frame().reset_index()\n",
        "\n",
        "\n",
        "total = total_users.iloc[0]['user_id']\n",
        "\n",
        "total_users['percent'] = round ((total_users['user_id'] / total*100),2)\n",
        "total_users"
      ]
    },
    {
      "cell_type": "markdown",
      "metadata": {
        "id": "PN8oOmMjGCuJ"
      },
      "source": [
        "Важно отметить, что просмотров корзины меньше, чем покупок (финального шага), делаем предположение, что просмотр корзины необязательный шаг и для анализа не важен."
      ]
    },
    {
      "cell_type": "markdown",
      "metadata": {
        "id": "TStnWyXwGCuJ"
      },
      "source": [
        "#### Общая воронка"
      ]
    },
    {
      "cell_type": "code",
      "execution_count": 56,
      "metadata": {
        "id": "f7FHzWI_GCuJ"
      },
      "outputs": [],
      "source": [
        "new_index = [0, 1, 3, 2]\n",
        "total_users=total_users.reindex(new_index)"
      ]
    },
    {
      "cell_type": "code",
      "execution_count": 67,
      "metadata": {
        "colab": {
          "base_uri": "https://localhost:8080/",
          "height": 542
        },
        "id": "ugFScCVrGCuJ",
        "outputId": "7bfd72ce-9060-49bc-f8eb-71747ba967a1"
      },
      "outputs": [
        {
          "output_type": "display_data",
          "data": {
            "text/plain": [
              "<PIL.PngImagePlugin.PngImageFile image mode=RGBA size=1172x525 at 0x7FCD8E37E0A0>"
            ],
            "image/png": "[encoded data removed]"
          },
          "metadata": {}
        }
      ],
      "source": [
        "fig = go.Figure(layout=go.Layout(\n",
        "        title=go.layout.Title(text=\"Общая воронка\")))\n",
        "\n",
        "fig.add_trace(go.Funnel(name='Ff',\n",
        "    y = total_users['event_name'],\n",
        "    x = total_users['user_id'],\n",
        "    ))\n",
        "\n",
        "Image.open(\"/content/newplot(10).png\").show();"
      ]
    },
    {
      "cell_type": "markdown",
      "metadata": {
        "id": "uS_PGCyRGCuK"
      },
      "source": [
        "На каждом шаге теряется от 30% до 50% пользователей, в итоге до покупки доходит только 16%."
      ]
    },
    {
      "cell_type": "markdown",
      "metadata": {
        "id": "-YHlLh8WGCuL"
      },
      "source": [
        "#### Воронка по группам"
      ]
    },
    {
      "cell_type": "code",
      "execution_count": 58,
      "metadata": {
        "id": "Zag-dALDGCuL"
      },
      "outputs": [],
      "source": [
        "a = recommender_system_test.query(\"group == 'A'\").groupby('event_name')['user_id'].nunique()\\\n",
        "    .sort_values(ascending=False).to_frame().reset_index()\\\n",
        "        .rename(columns={'user_id': 'count'})\n",
        "totala = a.iloc[0]['count']\n",
        "a['percent'] = round((a['count'] / totala*100),2)\n",
        "\n",
        "b = recommender_system_test.query(\"group == 'B'\").groupby('event_name')['user_id'].nunique().\\\n",
        "    sort_values(ascending=False).to_frame().reset_index()\\\n",
        "        .rename(columns={'user_id': 'count'})\n",
        "totalb = b.iloc[0]['count']\n",
        "b['percent'] = round((b['count'] / totalb*100),2)"
      ]
    },
    {
      "cell_type": "code",
      "execution_count": 59,
      "metadata": {
        "colab": {
          "base_uri": "https://localhost:8080/",
          "height": 175
        },
        "id": "k_arGuOAGCuL",
        "outputId": "ee8fd9a2-981e-439e-c00e-3fe635501bfa"
      },
      "outputs": [
        {
          "output_type": "execute_result",
          "data": {
            "text/plain": [
              "     event_name  count  percent\n",
              "0         login   1939   100.00\n",
              "1  product_page   1265    65.24\n",
              "3  product_cart    589    30.38\n",
              "2      purchase    613    31.61"
            ],
            "text/html": [
              "\n",
              "  <div id=\"df-7007e42d-efb9-40da-95aa-d3c8db5cfec6\">\n",
              "    <div class=\"colab-df-container\">\n",
              "      <div>\n",
              "<style scoped>\n",
              "    .dataframe tbody tr th:only-of-type {\n",
              "        vertical-align: middle;\n",
              "    }\n",
              "\n",
              "    .dataframe tbody tr th {\n",
              "        vertical-align: top;\n",
              "    }\n",
              "\n",
              "    .dataframe thead th {\n",
              "        text-align: right;\n",
              "    }\n",
              "</style>\n",
              "<table border=\"1\" class=\"dataframe\">\n",
              "  <thead>\n",
              "    <tr style=\"text-align: right;\">\n",
              "      <th></th>\n",
              "      <th>event_name</th>\n",
              "      <th>count</th>\n",
              "      <th>percent</th>\n",
              "    </tr>\n",
              "  </thead>\n",
              "  <tbody>\n",
              "    <tr>\n",
              "      <th>0</th>\n",
              "      <td>login</td>\n",
              "      <td>1939</td>\n",
              "      <td>100.00</td>\n",
              "    </tr>\n",
              "    <tr>\n",
              "      <th>1</th>\n",
              "      <td>product_page</td>\n",
              "      <td>1265</td>\n",
              "      <td>65.24</td>\n",
              "    </tr>\n",
              "    <tr>\n",
              "      <th>3</th>\n",
              "      <td>product_cart</td>\n",
              "      <td>589</td>\n",
              "      <td>30.38</td>\n",
              "    </tr>\n",
              "    <tr>\n",
              "      <th>2</th>\n",
              "      <td>purchase</td>\n",
              "      <td>613</td>\n",
              "      <td>31.61</td>\n",
              "    </tr>\n",
              "  </tbody>\n",
              "</table>\n",
              "</div>\n",
              "      <button class=\"colab-df-convert\" onclick=\"convertToInteractive('df-7007e42d-efb9-40da-95aa-d3c8db5cfec6')\"\n",
              "              title=\"Convert this dataframe to an interactive table.\"\n",
              "              style=\"display:none;\">\n",
              "        \n",
              "  <svg xmlns=\"http://www.w3.org/2000/svg\" height=\"24px\"viewBox=\"0 0 24 24\"\n",
              "       width=\"24px\">\n",
              "    <path d=\"M0 0h24v24H0V0z\" fill=\"none\"/>\n",
              "    <path d=\"M18.56 5.44l.94 2.06.94-2.06 2.06-.94-2.06-.94-.94-2.06-.94 2.06-2.06.94zm-11 1L8.5 8.5l.94-2.06 2.06-.94-2.06-.94L8.5 2.5l-.94 2.06-2.06.94zm10 10l.94 2.06.94-2.06 2.06-.94-2.06-.94-.94-2.06-.94 2.06-2.06.94z\"/><path d=\"M17.41 7.96l-1.37-1.37c-.4-.4-.92-.59-1.43-.59-.52 0-1.04.2-1.43.59L10.3 9.45l-7.72 7.72c-.78.78-.78 2.05 0 2.83L4 21.41c.39.39.9.59 1.41.59.51 0 1.02-.2 1.41-.59l7.78-7.78 2.81-2.81c.8-.78.8-2.07 0-2.86zM5.41 20L4 18.59l7.72-7.72 1.47 1.35L5.41 20z\"/>\n",
              "  </svg>\n",
              "      </button>\n",
              "      \n",
              "  <style>\n",
              "    .colab-df-container {\n",
              "      display:flex;\n",
              "      flex-wrap:wrap;\n",
              "      gap: 12px;\n",
              "    }\n",
              "\n",
              "    .colab-df-convert {\n",
              "      background-color: #E8F0FE;\n",
              "      border: none;\n",
              "      border-radius: 50%;\n",
              "      cursor: pointer;\n",
              "      display: none;\n",
              "      fill: #1967D2;\n",
              "      height: 32px;\n",
              "      padding: 0 0 0 0;\n",
              "      width: 32px;\n",
              "    }\n",
              "\n",
              "    .colab-df-convert:hover {\n",
              "      background-color: #E2EBFA;\n",
              "      box-shadow: 0px 1px 2px rgba(60, 64, 67, 0.3), 0px 1px 3px 1px rgba(60, 64, 67, 0.15);\n",
              "      fill: #174EA6;\n",
              "    }\n",
              "\n",
              "    [theme=dark] .colab-df-convert {\n",
              "      background-color: #3B4455;\n",
              "      fill: #D2E3FC;\n",
              "    }\n",
              "\n",
              "    [theme=dark] .colab-df-convert:hover {\n",
              "      background-color: #434B5C;\n",
              "      box-shadow: 0px 1px 3px 1px rgba(0, 0, 0, 0.15);\n",
              "      filter: drop-shadow(0px 1px 2px rgba(0, 0, 0, 0.3));\n",
              "      fill: #FFFFFF;\n",
              "    }\n",
              "  </style>\n",
              "\n",
              "      <script>\n",
              "        const buttonEl =\n",
              "          document.querySelector('#df-7007e42d-efb9-40da-95aa-d3c8db5cfec6 button.colab-df-convert');\n",
              "        buttonEl.style.display =\n",
              "          google.colab.kernel.accessAllowed ? 'block' : 'none';\n",
              "\n",
              "        async function convertToInteractive(key) {\n",
              "          const element = document.querySelector('#df-7007e42d-efb9-40da-95aa-d3c8db5cfec6');\n",
              "          const dataTable =\n",
              "            await google.colab.kernel.invokeFunction('convertToInteractive',\n",
              "                                                     [key], {});\n",
              "          if (!dataTable) return;\n",
              "\n",
              "          const docLinkHtml = 'Like what you see? Visit the ' +\n",
              "            '<a target=\"_blank\" href=https://colab.research.google.com/notebooks/data_table.ipynb>data table notebook</a>'\n",
              "            + ' to learn more about interactive tables.';\n",
              "          element.innerHTML = '';\n",
              "          dataTable['output_type'] = 'display_data';\n",
              "          await google.colab.output.renderOutput(dataTable, element);\n",
              "          const docLink = document.createElement('div');\n",
              "          docLink.innerHTML = docLinkHtml;\n",
              "          element.appendChild(docLink);\n",
              "        }\n",
              "      </script>\n",
              "    </div>\n",
              "  </div>\n",
              "  "
            ]
          },
          "metadata": {},
          "execution_count": 59
        }
      ],
      "source": [
        "a=a.reindex(new_index)\n",
        "a"
      ]
    },
    {
      "cell_type": "code",
      "execution_count": 60,
      "metadata": {
        "colab": {
          "base_uri": "https://localhost:8080/",
          "height": 175
        },
        "id": "GVpQ_OUOGCuL",
        "outputId": "d6050988-f95b-49c9-e3e6-da3f699bf4d9"
      },
      "outputs": [
        {
          "output_type": "execute_result",
          "data": {
            "text/plain": [
              "     event_name  count  percent\n",
              "0         login    654   100.00\n",
              "1  product_page    367    56.12\n",
              "3  product_cart    184    28.13\n",
              "2      purchase    191    29.20"
            ],
            "text/html": [
              "\n",
              "  <div id=\"df-f033f5c3-b31e-453a-9bef-f1f9daf140bd\">\n",
              "    <div class=\"colab-df-container\">\n",
              "      <div>\n",
              "<style scoped>\n",
              "    .dataframe tbody tr th:only-of-type {\n",
              "        vertical-align: middle;\n",
              "    }\n",
              "\n",
              "    .dataframe tbody tr th {\n",
              "        vertical-align: top;\n",
              "    }\n",
              "\n",
              "    .dataframe thead th {\n",
              "        text-align: right;\n",
              "    }\n",
              "</style>\n",
              "<table border=\"1\" class=\"dataframe\">\n",
              "  <thead>\n",
              "    <tr style=\"text-align: right;\">\n",
              "      <th></th>\n",
              "      <th>event_name</th>\n",
              "      <th>count</th>\n",
              "      <th>percent</th>\n",
              "    </tr>\n",
              "  </thead>\n",
              "  <tbody>\n",
              "    <tr>\n",
              "      <th>0</th>\n",
              "      <td>login</td>\n",
              "      <td>654</td>\n",
              "      <td>100.00</td>\n",
              "    </tr>\n",
              "    <tr>\n",
              "      <th>1</th>\n",
              "      <td>product_page</td>\n",
              "      <td>367</td>\n",
              "      <td>56.12</td>\n",
              "    </tr>\n",
              "    <tr>\n",
              "      <th>3</th>\n",
              "      <td>product_cart</td>\n",
              "      <td>184</td>\n",
              "      <td>28.13</td>\n",
              "    </tr>\n",
              "    <tr>\n",
              "      <th>2</th>\n",
              "      <td>purchase</td>\n",
              "      <td>191</td>\n",
              "      <td>29.20</td>\n",
              "    </tr>\n",
              "  </tbody>\n",
              "</table>\n",
              "</div>\n",
              "      <button class=\"colab-df-convert\" onclick=\"convertToInteractive('df-f033f5c3-b31e-453a-9bef-f1f9daf140bd')\"\n",
              "              title=\"Convert this dataframe to an interactive table.\"\n",
              "              style=\"display:none;\">\n",
              "        \n",
              "  <svg xmlns=\"http://www.w3.org/2000/svg\" height=\"24px\"viewBox=\"0 0 24 24\"\n",
              "       width=\"24px\">\n",
              "    <path d=\"M0 0h24v24H0V0z\" fill=\"none\"/>\n",
              "    <path d=\"M18.56 5.44l.94 2.06.94-2.06 2.06-.94-2.06-.94-.94-2.06-.94 2.06-2.06.94zm-11 1L8.5 8.5l.94-2.06 2.06-.94-2.06-.94L8.5 2.5l-.94 2.06-2.06.94zm10 10l.94 2.06.94-2.06 2.06-.94-2.06-.94-.94-2.06-.94 2.06-2.06.94z\"/><path d=\"M17.41 7.96l-1.37-1.37c-.4-.4-.92-.59-1.43-.59-.52 0-1.04.2-1.43.59L10.3 9.45l-7.72 7.72c-.78.78-.78 2.05 0 2.83L4 21.41c.39.39.9.59 1.41.59.51 0 1.02-.2 1.41-.59l7.78-7.78 2.81-2.81c.8-.78.8-2.07 0-2.86zM5.41 20L4 18.59l7.72-7.72 1.47 1.35L5.41 20z\"/>\n",
              "  </svg>\n",
              "      </button>\n",
              "      \n",
              "  <style>\n",
              "    .colab-df-container {\n",
              "      display:flex;\n",
              "      flex-wrap:wrap;\n",
              "      gap: 12px;\n",
              "    }\n",
              "\n",
              "    .colab-df-convert {\n",
              "      background-color: #E8F0FE;\n",
              "      border: none;\n",
              "      border-radius: 50%;\n",
              "      cursor: pointer;\n",
              "      display: none;\n",
              "      fill: #1967D2;\n",
              "      height: 32px;\n",
              "      padding: 0 0 0 0;\n",
              "      width: 32px;\n",
              "    }\n",
              "\n",
              "    .colab-df-convert:hover {\n",
              "      background-color: #E2EBFA;\n",
              "      box-shadow: 0px 1px 2px rgba(60, 64, 67, 0.3), 0px 1px 3px 1px rgba(60, 64, 67, 0.15);\n",
              "      fill: #174EA6;\n",
              "    }\n",
              "\n",
              "    [theme=dark] .colab-df-convert {\n",
              "      background-color: #3B4455;\n",
              "      fill: #D2E3FC;\n",
              "    }\n",
              "\n",
              "    [theme=dark] .colab-df-convert:hover {\n",
              "      background-color: #434B5C;\n",
              "      box-shadow: 0px 1px 3px 1px rgba(0, 0, 0, 0.15);\n",
              "      filter: drop-shadow(0px 1px 2px rgba(0, 0, 0, 0.3));\n",
              "      fill: #FFFFFF;\n",
              "    }\n",
              "  </style>\n",
              "\n",
              "      <script>\n",
              "        const buttonEl =\n",
              "          document.querySelector('#df-f033f5c3-b31e-453a-9bef-f1f9daf140bd button.colab-df-convert');\n",
              "        buttonEl.style.display =\n",
              "          google.colab.kernel.accessAllowed ? 'block' : 'none';\n",
              "\n",
              "        async function convertToInteractive(key) {\n",
              "          const element = document.querySelector('#df-f033f5c3-b31e-453a-9bef-f1f9daf140bd');\n",
              "          const dataTable =\n",
              "            await google.colab.kernel.invokeFunction('convertToInteractive',\n",
              "                                                     [key], {});\n",
              "          if (!dataTable) return;\n",
              "\n",
              "          const docLinkHtml = 'Like what you see? Visit the ' +\n",
              "            '<a target=\"_blank\" href=https://colab.research.google.com/notebooks/data_table.ipynb>data table notebook</a>'\n",
              "            + ' to learn more about interactive tables.';\n",
              "          element.innerHTML = '';\n",
              "          dataTable['output_type'] = 'display_data';\n",
              "          await google.colab.output.renderOutput(dataTable, element);\n",
              "          const docLink = document.createElement('div');\n",
              "          docLink.innerHTML = docLinkHtml;\n",
              "          element.appendChild(docLink);\n",
              "        }\n",
              "      </script>\n",
              "    </div>\n",
              "  </div>\n",
              "  "
            ]
          },
          "metadata": {},
          "execution_count": 60
        }
      ],
      "source": [
        "b=b.reindex(new_index)\n",
        "b"
      ]
    },
    {
      "cell_type": "code",
      "execution_count": 68,
      "metadata": {
        "colab": {
          "base_uri": "https://localhost:8080/",
          "height": 542
        },
        "id": "9gZHyefdGCuM",
        "outputId": "1e6b2479-537b-4776-8284-1be5e410ddb8"
      },
      "outputs": [
        {
          "output_type": "display_data",
          "data": {
            "text/plain": [
              "<PIL.PngImagePlugin.PngImageFile image mode=RGBA size=1172x525 at 0x7FCD8C6C7250>"
            ],
            "image/png": "[encoded data removed]"
          },
          "metadata": {}
        }
      ],
      "source": [
        "fig = go.Figure(layout=go.Layout(\n",
        "        title=go.layout.Title(text=\"Воронка по группам\")))\n",
        "\n",
        "fig.add_trace(go.Funnel(\n",
        "    name = 'Группа А',\n",
        "    y = a['event_name'],\n",
        "    x = a['count'],\n",
        "    ))\n",
        "\n",
        "fig.add_trace(go.Funnel(\n",
        "    name = 'Группа B',\n",
        "    y = b['event_name'],\n",
        "    x = b['count'],\n",
        "    ))\n",
        "\n",
        "\n",
        "\n",
        "Image.open(\"/content/newplot(11).png\").show();"
      ]
    },
    {
      "cell_type": "markdown",
      "metadata": {
        "id": "ACbKb0nrGCuM"
      },
      "source": [
        "Разницы в группах практически нет, выводы аналогичны выводу к общей воронке."
      ]
    },
    {
      "cell_type": "markdown",
      "metadata": {
        "id": "uA0P9G-DGCuN"
      },
      "source": [
        "### Какие особенности данных нужно учесть, прежде чем приступать к A/B-тестированию?"
      ]
    },
    {
      "cell_type": "markdown",
      "metadata": {
        "id": "IhdpRAcPGCuN"
      },
      "source": [
        "Рождественские праздники пересекается с временем проведения теста, но не влияют на него, так как в дату начала праздников всплесков не обнаружено.\n",
        "\n",
        "Время проведения теста - с 07.12.2020 по 30.07.2020, а не по 04.01.2021, как заявлено;\n",
        "\n",
        "Время остановки набора новых пользователей: 2020-12-21, соответствует ТЗ\n",
        "\n",
        "Аудитория теста - 6351, на 5% больше заявленной;\n",
        "\n",
        "Аудитория: 15% новых пользователей из региона EU, как и заявлено\n",
        "\n",
        "Пересечения по группам нет, в группе А 2713 участников, в группе В - 2036, распределение неравномерно, 33,7% пользователей участвуют одновременно в двух тестах, они были удалены.\n",
        "\n",
        "На пользователей группы А приходится на 1.5 действия больше\n",
        "\n",
        "Особенности воронки: конверсия в группах идентичная, на каждом шагу отваливается от 30% до 50% учатников, до оплаты доходит лишь менее 15%. Такой шаг, как просмотр корзины, необязателен для покупки, поэтому удалён из воронки"
      ]
    },
    {
      "cell_type": "markdown",
      "metadata": {
        "id": "MvcCfDIAGCuO"
      },
      "source": [
        "## Проведите оценку результатов A/B-тестирования:"
      ]
    },
    {
      "cell_type": "markdown",
      "metadata": {
        "id": "vtUJW3bAGCuO"
      },
      "source": [
        "### Результаты A/B-тестирования"
      ]
    },
    {
      "cell_type": "code",
      "execution_count": 62,
      "metadata": {
        "colab": {
          "base_uri": "https://localhost:8080/",
          "height": 351
        },
        "id": "9oOzKousGCuO",
        "outputId": "7e52dc42-c933-4c4c-f163-d96d5e19e095"
      },
      "outputs": [
        {
          "output_type": "display_data",
          "data": {
            "text/plain": [
              "     event_name  count  percent\n",
              "0         login   1939   100.00\n",
              "1  product_page   1265    65.24\n",
              "3  product_cart    589    30.38\n",
              "2      purchase    613    31.61"
            ],
            "text/html": [
              "\n",
              "  <div id=\"df-9ef1a654-5200-4c26-8423-51bb057052d0\">\n",
              "    <div class=\"colab-df-container\">\n",
              "      <div>\n",
              "<style scoped>\n",
              "    .dataframe tbody tr th:only-of-type {\n",
              "        vertical-align: middle;\n",
              "    }\n",
              "\n",
              "    .dataframe tbody tr th {\n",
              "        vertical-align: top;\n",
              "    }\n",
              "\n",
              "    .dataframe thead th {\n",
              "        text-align: right;\n",
              "    }\n",
              "</style>\n",
              "<table border=\"1\" class=\"dataframe\">\n",
              "  <thead>\n",
              "    <tr style=\"text-align: right;\">\n",
              "      <th></th>\n",
              "      <th>event_name</th>\n",
              "      <th>count</th>\n",
              "      <th>percent</th>\n",
              "    </tr>\n",
              "  </thead>\n",
              "  <tbody>\n",
              "    <tr>\n",
              "      <th>0</th>\n",
              "      <td>login</td>\n",
              "      <td>1939</td>\n",
              "      <td>100.00</td>\n",
              "    </tr>\n",
              "    <tr>\n",
              "      <th>1</th>\n",
              "      <td>product_page</td>\n",
              "      <td>1265</td>\n",
              "      <td>65.24</td>\n",
              "    </tr>\n",
              "    <tr>\n",
              "      <th>3</th>\n",
              "      <td>product_cart</td>\n",
              "      <td>589</td>\n",
              "      <td>30.38</td>\n",
              "    </tr>\n",
              "    <tr>\n",
              "      <th>2</th>\n",
              "      <td>purchase</td>\n",
              "      <td>613</td>\n",
              "      <td>31.61</td>\n",
              "    </tr>\n",
              "  </tbody>\n",
              "</table>\n",
              "</div>\n",
              "      <button class=\"colab-df-convert\" onclick=\"convertToInteractive('df-9ef1a654-5200-4c26-8423-51bb057052d0')\"\n",
              "              title=\"Convert this dataframe to an interactive table.\"\n",
              "              style=\"display:none;\">\n",
              "        \n",
              "  <svg xmlns=\"http://www.w3.org/2000/svg\" height=\"24px\"viewBox=\"0 0 24 24\"\n",
              "       width=\"24px\">\n",
              "    <path d=\"M0 0h24v24H0V0z\" fill=\"none\"/>\n",
              "    <path d=\"M18.56 5.44l.94 2.06.94-2.06 2.06-.94-2.06-.94-.94-2.06-.94 2.06-2.06.94zm-11 1L8.5 8.5l.94-2.06 2.06-.94-2.06-.94L8.5 2.5l-.94 2.06-2.06.94zm10 10l.94 2.06.94-2.06 2.06-.94-2.06-.94-.94-2.06-.94 2.06-2.06.94z\"/><path d=\"M17.41 7.96l-1.37-1.37c-.4-.4-.92-.59-1.43-.59-.52 0-1.04.2-1.43.59L10.3 9.45l-7.72 7.72c-.78.78-.78 2.05 0 2.83L4 21.41c.39.39.9.59 1.41.59.51 0 1.02-.2 1.41-.59l7.78-7.78 2.81-2.81c.8-.78.8-2.07 0-2.86zM5.41 20L4 18.59l7.72-7.72 1.47 1.35L5.41 20z\"/>\n",
              "  </svg>\n",
              "      </button>\n",
              "      \n",
              "  <style>\n",
              "    .colab-df-container {\n",
              "      display:flex;\n",
              "      flex-wrap:wrap;\n",
              "      gap: 12px;\n",
              "    }\n",
              "\n",
              "    .colab-df-convert {\n",
              "      background-color: #E8F0FE;\n",
              "      border: none;\n",
              "      border-radius: 50%;\n",
              "      cursor: pointer;\n",
              "      display: none;\n",
              "      fill: #1967D2;\n",
              "      height: 32px;\n",
              "      padding: 0 0 0 0;\n",
              "      width: 32px;\n",
              "    }\n",
              "\n",
              "    .colab-df-convert:hover {\n",
              "      background-color: #E2EBFA;\n",
              "      box-shadow: 0px 1px 2px rgba(60, 64, 67, 0.3), 0px 1px 3px 1px rgba(60, 64, 67, 0.15);\n",
              "      fill: #174EA6;\n",
              "    }\n",
              "\n",
              "    [theme=dark] .colab-df-convert {\n",
              "      background-color: #3B4455;\n",
              "      fill: #D2E3FC;\n",
              "    }\n",
              "\n",
              "    [theme=dark] .colab-df-convert:hover {\n",
              "      background-color: #434B5C;\n",
              "      box-shadow: 0px 1px 3px 1px rgba(0, 0, 0, 0.15);\n",
              "      filter: drop-shadow(0px 1px 2px rgba(0, 0, 0, 0.3));\n",
              "      fill: #FFFFFF;\n",
              "    }\n",
              "  </style>\n",
              "\n",
              "      <script>\n",
              "        const buttonEl =\n",
              "          document.querySelector('#df-9ef1a654-5200-4c26-8423-51bb057052d0 button.colab-df-convert');\n",
              "        buttonEl.style.display =\n",
              "          google.colab.kernel.accessAllowed ? 'block' : 'none';\n",
              "\n",
              "        async function convertToInteractive(key) {\n",
              "          const element = document.querySelector('#df-9ef1a654-5200-4c26-8423-51bb057052d0');\n",
              "          const dataTable =\n",
              "            await google.colab.kernel.invokeFunction('convertToInteractive',\n",
              "                                                     [key], {});\n",
              "          if (!dataTable) return;\n",
              "\n",
              "          const docLinkHtml = 'Like what you see? Visit the ' +\n",
              "            '<a target=\"_blank\" href=https://colab.research.google.com/notebooks/data_table.ipynb>data table notebook</a>'\n",
              "            + ' to learn more about interactive tables.';\n",
              "          element.innerHTML = '';\n",
              "          dataTable['output_type'] = 'display_data';\n",
              "          await google.colab.output.renderOutput(dataTable, element);\n",
              "          const docLink = document.createElement('div');\n",
              "          docLink.innerHTML = docLinkHtml;\n",
              "          element.appendChild(docLink);\n",
              "        }\n",
              "      </script>\n",
              "    </div>\n",
              "  </div>\n",
              "  "
            ]
          },
          "metadata": {}
        },
        {
          "output_type": "stream",
          "name": "stdout",
          "text": [
            "-------------------------------\n"
          ]
        },
        {
          "output_type": "display_data",
          "data": {
            "text/plain": [
              "     event_name  count  percent\n",
              "0         login    654   100.00\n",
              "1  product_page    367    56.12\n",
              "3  product_cart    184    28.13\n",
              "2      purchase    191    29.20"
            ],
            "text/html": [
              "\n",
              "  <div id=\"df-0d6160a1-8993-4a21-b672-fd829d8936d7\">\n",
              "    <div class=\"colab-df-container\">\n",
              "      <div>\n",
              "<style scoped>\n",
              "    .dataframe tbody tr th:only-of-type {\n",
              "        vertical-align: middle;\n",
              "    }\n",
              "\n",
              "    .dataframe tbody tr th {\n",
              "        vertical-align: top;\n",
              "    }\n",
              "\n",
              "    .dataframe thead th {\n",
              "        text-align: right;\n",
              "    }\n",
              "</style>\n",
              "<table border=\"1\" class=\"dataframe\">\n",
              "  <thead>\n",
              "    <tr style=\"text-align: right;\">\n",
              "      <th></th>\n",
              "      <th>event_name</th>\n",
              "      <th>count</th>\n",
              "      <th>percent</th>\n",
              "    </tr>\n",
              "  </thead>\n",
              "  <tbody>\n",
              "    <tr>\n",
              "      <th>0</th>\n",
              "      <td>login</td>\n",
              "      <td>654</td>\n",
              "      <td>100.00</td>\n",
              "    </tr>\n",
              "    <tr>\n",
              "      <th>1</th>\n",
              "      <td>product_page</td>\n",
              "      <td>367</td>\n",
              "      <td>56.12</td>\n",
              "    </tr>\n",
              "    <tr>\n",
              "      <th>3</th>\n",
              "      <td>product_cart</td>\n",
              "      <td>184</td>\n",
              "      <td>28.13</td>\n",
              "    </tr>\n",
              "    <tr>\n",
              "      <th>2</th>\n",
              "      <td>purchase</td>\n",
              "      <td>191</td>\n",
              "      <td>29.20</td>\n",
              "    </tr>\n",
              "  </tbody>\n",
              "</table>\n",
              "</div>\n",
              "      <button class=\"colab-df-convert\" onclick=\"convertToInteractive('df-0d6160a1-8993-4a21-b672-fd829d8936d7')\"\n",
              "              title=\"Convert this dataframe to an interactive table.\"\n",
              "              style=\"display:none;\">\n",
              "        \n",
              "  <svg xmlns=\"http://www.w3.org/2000/svg\" height=\"24px\"viewBox=\"0 0 24 24\"\n",
              "       width=\"24px\">\n",
              "    <path d=\"M0 0h24v24H0V0z\" fill=\"none\"/>\n",
              "    <path d=\"M18.56 5.44l.94 2.06.94-2.06 2.06-.94-2.06-.94-.94-2.06-.94 2.06-2.06.94zm-11 1L8.5 8.5l.94-2.06 2.06-.94-2.06-.94L8.5 2.5l-.94 2.06-2.06.94zm10 10l.94 2.06.94-2.06 2.06-.94-2.06-.94-.94-2.06-.94 2.06-2.06.94z\"/><path d=\"M17.41 7.96l-1.37-1.37c-.4-.4-.92-.59-1.43-.59-.52 0-1.04.2-1.43.59L10.3 9.45l-7.72 7.72c-.78.78-.78 2.05 0 2.83L4 21.41c.39.39.9.59 1.41.59.51 0 1.02-.2 1.41-.59l7.78-7.78 2.81-2.81c.8-.78.8-2.07 0-2.86zM5.41 20L4 18.59l7.72-7.72 1.47 1.35L5.41 20z\"/>\n",
              "  </svg>\n",
              "      </button>\n",
              "      \n",
              "  <style>\n",
              "    .colab-df-container {\n",
              "      display:flex;\n",
              "      flex-wrap:wrap;\n",
              "      gap: 12px;\n",
              "    }\n",
              "\n",
              "    .colab-df-convert {\n",
              "      background-color: #E8F0FE;\n",
              "      border: none;\n",
              "      border-radius: 50%;\n",
              "      cursor: pointer;\n",
              "      display: none;\n",
              "      fill: #1967D2;\n",
              "      height: 32px;\n",
              "      padding: 0 0 0 0;\n",
              "      width: 32px;\n",
              "    }\n",
              "\n",
              "    .colab-df-convert:hover {\n",
              "      background-color: #E2EBFA;\n",
              "      box-shadow: 0px 1px 2px rgba(60, 64, 67, 0.3), 0px 1px 3px 1px rgba(60, 64, 67, 0.15);\n",
              "      fill: #174EA6;\n",
              "    }\n",
              "\n",
              "    [theme=dark] .colab-df-convert {\n",
              "      background-color: #3B4455;\n",
              "      fill: #D2E3FC;\n",
              "    }\n",
              "\n",
              "    [theme=dark] .colab-df-convert:hover {\n",
              "      background-color: #434B5C;\n",
              "      box-shadow: 0px 1px 3px 1px rgba(0, 0, 0, 0.15);\n",
              "      filter: drop-shadow(0px 1px 2px rgba(0, 0, 0, 0.3));\n",
              "      fill: #FFFFFF;\n",
              "    }\n",
              "  </style>\n",
              "\n",
              "      <script>\n",
              "        const buttonEl =\n",
              "          document.querySelector('#df-0d6160a1-8993-4a21-b672-fd829d8936d7 button.colab-df-convert');\n",
              "        buttonEl.style.display =\n",
              "          google.colab.kernel.accessAllowed ? 'block' : 'none';\n",
              "\n",
              "        async function convertToInteractive(key) {\n",
              "          const element = document.querySelector('#df-0d6160a1-8993-4a21-b672-fd829d8936d7');\n",
              "          const dataTable =\n",
              "            await google.colab.kernel.invokeFunction('convertToInteractive',\n",
              "                                                     [key], {});\n",
              "          if (!dataTable) return;\n",
              "\n",
              "          const docLinkHtml = 'Like what you see? Visit the ' +\n",
              "            '<a target=\"_blank\" href=https://colab.research.google.com/notebooks/data_table.ipynb>data table notebook</a>'\n",
              "            + ' to learn more about interactive tables.';\n",
              "          element.innerHTML = '';\n",
              "          dataTable['output_type'] = 'display_data';\n",
              "          await google.colab.output.renderOutput(dataTable, element);\n",
              "          const docLink = document.createElement('div');\n",
              "          docLink.innerHTML = docLinkHtml;\n",
              "          element.appendChild(docLink);\n",
              "        }\n",
              "      </script>\n",
              "    </div>\n",
              "  </div>\n",
              "  "
            ]
          },
          "metadata": {}
        }
      ],
      "source": [
        "display(a)\n",
        "print('-------------------------------')\n",
        "display(b)"
      ]
    },
    {
      "cell_type": "markdown",
      "metadata": {
        "id": "cDnZ4t3WGCuP"
      },
      "source": [
        "Ожидаемый эффект: за 14 дней с момента регистрации в системе пользователи покажут улучшение каждой метрики не менее, чем на 10%.\n",
        "\n",
        "Полученный эффект: улучшений в метрике нет, разница в каждом шаге между группами составляет от -9 до -2%."
      ]
    },
    {
      "cell_type": "markdown",
      "metadata": {
        "id": "_nt5QAWZGCuP"
      },
      "source": [
        "### Проверьте статистическую разницу долей z-критерием\n",
        "Н0 - между долями нет статистической разницы\n",
        "\n",
        "Н1 - между долями есть статистическая разница"
      ]
    },
    {
      "cell_type": "markdown",
      "metadata": {
        "id": "jJma7XlPGCuQ"
      },
      "source": [
        "#### Первый шаг"
      ]
    },
    {
      "cell_type": "code",
      "execution_count": 63,
      "metadata": {
        "colab": {
          "base_uri": "https://localhost:8080/"
        },
        "id": "iScmtooDGCuR",
        "outputId": "cfccd350-9700-4839-ccb8-bccf8e39366b"
      },
      "outputs": [
        {
          "output_type": "stream",
          "name": "stdout",
          "text": [
            "1265 367 1939 654\n",
            "p-значение:  2.9463911899618722e-05\n",
            "Отвергаем нулевую гипотезу: между долями есть значимая разница\n"
          ]
        }
      ],
      "source": [
        "alpha = .05/2 # критический уровень статистической значимости с поправкой Бонферрони\n",
        "\n",
        "successes = np.array([a.iloc[1]['count'], b.iloc[1]['count']])\n",
        "trials = np.array([a.iloc[0]['count'], b.iloc[0]['count']])\n",
        "\n",
        "# пропорция успехов в первой группе:\n",
        "p1 = successes[0]/trials[0]\n",
        "\n",
        "# пропорция успехов во второй группе:\n",
        "p2 = successes[1]/trials[1]\n",
        "\n",
        "print(successes[0] , successes[1] , trials[0] , trials[1])\n",
        "\n",
        "# пропорция успехов в комбинированном датасете:\n",
        "p_combined = (successes[0] + successes[1]) / (trials[0] + trials[1])\n",
        "\n",
        "# разница пропорций в датасетах\n",
        "difference = p1 - p2 \n",
        "\n",
        "# считаем статистику в ст.отклонениях стандартного нормального распределения\n",
        "z_value = difference / mth.sqrt(p_combined * (1 - p_combined) * (1/trials[0] + 1/trials[1]))\n",
        "\n",
        "# задаем стандартное нормальное распределение (среднее 0, ст.отклонение 1)\n",
        "distr = st.norm(0, 1) \n",
        "\n",
        "p_value = (1 - distr.cdf(abs(z_value))) * 2\n",
        "\n",
        "print('p-значение: ', p_value)\n",
        "\n",
        "if p_value < alpha:\n",
        "    print('Отвергаем нулевую гипотезу: между долями есть значимая разница')\n",
        "else:\n",
        "    print(\n",
        "        'Не получилось отвергнуть нулевую гипотезу, нет оснований считать доли разными'\n",
        "    ) "
      ]
    },
    {
      "cell_type": "markdown",
      "metadata": {
        "id": "Es6nSCIOGCuR"
      },
      "source": [
        "#### Второй шаг"
      ]
    },
    {
      "cell_type": "code",
      "execution_count": 64,
      "metadata": {
        "colab": {
          "base_uri": "https://localhost:8080/"
        },
        "id": "Z8f6XhtDGCuR",
        "outputId": "05f4e991-8b12-4e46-abff-db48ddda9aa5"
      },
      "outputs": [
        {
          "output_type": "stream",
          "name": "stdout",
          "text": [
            "589 184 1939 654\n",
            "p-значение:  0.2784249853300258\n",
            "Не получилось отвергнуть нулевую гипотезу, нет оснований считать доли разными\n"
          ]
        }
      ],
      "source": [
        "successes = np.array([a.iloc[2]['count'], b.iloc[2]['count']])\n",
        "trials = np.array([a.iloc[0]['count'], b.iloc[0]['count']])\n",
        "\n",
        "# пропорция успехов в первой группе:\n",
        "p1 = successes[0]/trials[0]\n",
        "\n",
        "# пропорция успехов во второй группе:\n",
        "p2 = successes[1]/trials[1]\n",
        "\n",
        "print(successes[0] , successes[1] , trials[0] , trials[1])\n",
        "\n",
        "# пропорция успехов в комбинированном датасете:\n",
        "p_combined = (successes[0] + successes[1]) / (trials[0] + trials[1])\n",
        "\n",
        "# разница пропорций в датасетах\n",
        "difference = p1 - p2 \n",
        "\n",
        "# считаем статистику в ст.отклонениях стандартного нормального распределения\n",
        "z_value = difference / mth.sqrt(p_combined * (1 - p_combined) * (1/trials[0] + 1/trials[1]))\n",
        "\n",
        "# задаем стандартное нормальное распределение (среднее 0, ст.отклонение 1)\n",
        "distr = st.norm(0, 1) \n",
        "\n",
        "p_value = (1 - distr.cdf(abs(z_value))) * 2\n",
        "\n",
        "print('p-значение: ', p_value)\n",
        "\n",
        "if p_value < alpha:\n",
        "    print('Отвергаем нулевую гипотезу: между долями есть значимая разница')\n",
        "else:\n",
        "    print(\n",
        "        'Не получилось отвергнуть нулевую гипотезу, нет оснований считать доли разными'\n",
        "    ) "
      ]
    },
    {
      "cell_type": "markdown",
      "metadata": {
        "id": "30hYuQJwGCuS"
      },
      "source": [
        "#### Третий шаг"
      ]
    },
    {
      "cell_type": "code",
      "execution_count": 65,
      "metadata": {
        "colab": {
          "base_uri": "https://localhost:8080/"
        },
        "id": "BZemWR5gGCuS",
        "outputId": "6f94ae86-0f6e-4361-d325-b5ea617b4add"
      },
      "outputs": [
        {
          "output_type": "stream",
          "name": "stdout",
          "text": [
            "613 191 1939 654\n",
            "p-значение:  0.24933015751802245\n",
            "Не получилось отвергнуть нулевую гипотезу, нет оснований считать доли разными\n"
          ]
        }
      ],
      "source": [
        "successes = np.array([a.iloc[3]['count'], b.iloc[3]['count']])\n",
        "trials = np.array([a.iloc[0]['count'], b.iloc[0]['count']])\n",
        "\n",
        "# пропорция успехов в первой группе:\n",
        "p1 = successes[0]/trials[0]\n",
        "\n",
        "# пропорция успехов во второй группе:\n",
        "p2 = successes[1]/trials[1]\n",
        "\n",
        "print(successes[0] , successes[1] , trials[0] , trials[1])\n",
        "\n",
        "# пропорция успехов в комбинированном датасете:\n",
        "p_combined = (successes[0] + successes[1]) / (trials[0] + trials[1])\n",
        "\n",
        "# разница пропорций в датасетах\n",
        "difference = p1 - p2 \n",
        "\n",
        "# считаем статистику в ст.отклонениях стандартного нормального распределения\n",
        "z_value = difference / mth.sqrt(p_combined * (1 - p_combined) * (1/trials[0] + 1/trials[1]))\n",
        "\n",
        "# задаем стандартное нормальное распределение (среднее 0, ст.отклонение 1)\n",
        "distr = st.norm(0, 1) \n",
        "\n",
        "p_value = (1 - distr.cdf(abs(z_value))) * 2\n",
        "\n",
        "print('p-значение: ', p_value)\n",
        "\n",
        "if p_value < alpha:\n",
        "    print('Отвергаем нулевую гипотезу: между долями есть значимая разница')\n",
        "else:\n",
        "    print(\n",
        "        'Не получилось отвергнуть нулевую гипотезу, нет оснований считать доли разными'\n",
        "    )"
      ]
    },
    {
      "cell_type": "markdown",
      "metadata": {
        "id": "z8EsbTFpGCuU"
      },
      "source": [
        "## Результаты"
      ]
    },
    {
      "cell_type": "markdown",
      "metadata": {
        "id": "6RfDrrFdGCuU"
      },
      "source": [
        "Выводы:\n",
        "\n",
        "По сравнению с ТЗ:\n",
        "\n",
        "Время проведения теста - с 07.12.2020 по 30.07.2020, а не по 04.01.2021, как заявлено;\n",
        "Аудитория теста - 6351, на 5% больше заявленной;\n",
        "Время остановки набора новых пользователей: 2020-12-21, соответствует ТЗ\n",
        "Аудитория: 15% новых пользователей из региона EU, как и заявлено\n",
        "\n",
        "Время проведения теста совпадает с двумя событиями: Лотерея в регионе CIS, что не влияет на тест, и Рождественские праздники, что касается Европы, пересекается с тестом и может повлиять на результаты, но не повлияло, так как в начале праздником никаких всплесков действий не наблюдалось\n",
        "\n",
        "Также 10% пользователей участвовали в одновременно и в другом тесте, проходившем параллельно. Эти пользователи удалены.\n",
        "\n",
        "На пользователей группы А приходится на 1.5 действия больше, сами же группы неравномерн - 1939 участников в группе А и 654 в группе В, соотношение - 3 к 1.\n",
        "\n",
        "На каждом шаге в воронке теряется от 30% до 50% пользователей, в итоге до покупки доходит только  менее 14%. Важно отметить, что просмотров корзины меньше, чем покупок (финального шага), делаем предположение, что просмотр корзины необязательный шаг и для анализа не важен.\n",
        "\n",
        "В обеих группах наблюдается малое количество действий до 14 декабря, в котором у группы А происходит всплеск, вызванный огромным количеством новых регистраций.\n",
        "\n",
        "Ожидаемый эффект тестирования: за 14 дней с момента регистрации в системе пользователи покажут улучшение каждой метрики не менее, чем на 10%.\n",
        "\n",
        "Полученный эффект: улучшений в метрике нет, разница в каждом шаге между группами составляет от -9 до -2%\n",
        "\n",
        "Исходя из вышеизложенного, новая платёжная воронка снижает конверсии, вместо ожидаемого повышения. Рекомендуется увеличить количество участников в группе В и продолжить тест."
      ]
    }
  ],
  "metadata": {
    "ExecuteTimeLog": [
      {
        "duration": 1461,
        "start_time": "2023-02-22T08:06:57.834Z"
      },
      {
        "duration": 3,
        "start_time": "2023-02-22T08:07:10.413Z"
      },
      {
        "duration": 3,
        "start_time": "2023-02-22T08:07:13.485Z"
      },
      {
        "duration": 162,
        "start_time": "2023-02-22T08:07:58.110Z"
      },
      {
        "duration": 1927,
        "start_time": "2023-02-22T08:08:08.289Z"
      },
      {
        "duration": 13,
        "start_time": "2023-02-22T08:09:03.495Z"
      },
      {
        "duration": 8,
        "start_time": "2023-02-22T08:09:09.583Z"
      },
      {
        "duration": 26,
        "start_time": "2023-02-22T08:09:22.182Z"
      },
      {
        "duration": 11,
        "start_time": "2023-02-22T08:10:38.312Z"
      },
      {
        "duration": 81,
        "start_time": "2023-02-22T08:12:51.619Z"
      },
      {
        "duration": 18,
        "start_time": "2023-02-22T08:13:25.697Z"
      },
      {
        "duration": 72,
        "start_time": "2023-02-22T08:13:32.956Z"
      },
      {
        "duration": 18,
        "start_time": "2023-02-22T08:14:45.755Z"
      },
      {
        "duration": 12,
        "start_time": "2023-02-22T08:15:10.835Z"
      },
      {
        "duration": 75,
        "start_time": "2023-02-22T08:15:19.408Z"
      },
      {
        "duration": 107,
        "start_time": "2023-02-22T08:16:23.430Z"
      },
      {
        "duration": 53,
        "start_time": "2023-02-22T08:16:29.831Z"
      },
      {
        "duration": 12,
        "start_time": "2023-02-22T08:16:57.408Z"
      },
      {
        "duration": 235,
        "start_time": "2023-02-22T08:17:13.478Z"
      },
      {
        "duration": 42,
        "start_time": "2023-02-22T08:17:32.761Z"
      },
      {
        "duration": 19,
        "start_time": "2023-02-22T08:17:44.230Z"
      },
      {
        "duration": 183,
        "start_time": "2023-02-22T08:37:19.777Z"
      },
      {
        "duration": 193,
        "start_time": "2023-02-22T08:40:01.486Z"
      },
      {
        "duration": 232,
        "start_time": "2023-02-22T08:40:08.019Z"
      },
      {
        "duration": 4,
        "start_time": "2023-02-22T08:42:25.649Z"
      },
      {
        "duration": 12,
        "start_time": "2023-02-22T08:46:16.325Z"
      },
      {
        "duration": 31,
        "start_time": "2023-02-22T08:46:34.367Z"
      },
      {
        "duration": 20,
        "start_time": "2023-02-22T08:46:56.090Z"
      },
      {
        "duration": 103,
        "start_time": "2023-02-22T08:47:15.114Z"
      },
      {
        "duration": 35,
        "start_time": "2023-02-22T08:47:23.578Z"
      },
      {
        "duration": 73,
        "start_time": "2023-02-22T08:49:46.393Z"
      },
      {
        "duration": 1308,
        "start_time": "2023-02-22T08:50:02.402Z"
      },
      {
        "duration": 6,
        "start_time": "2023-02-22T08:55:43.280Z"
      },
      {
        "duration": 31,
        "start_time": "2023-02-22T08:55:47.748Z"
      },
      {
        "duration": 10,
        "start_time": "2023-02-22T08:56:36.933Z"
      },
      {
        "duration": 4,
        "start_time": "2023-02-22T08:58:13.148Z"
      },
      {
        "duration": 14,
        "start_time": "2023-02-22T08:58:23.492Z"
      },
      {
        "duration": 32,
        "start_time": "2023-02-22T08:58:32.005Z"
      },
      {
        "duration": 20,
        "start_time": "2023-02-22T08:58:42.555Z"
      },
      {
        "duration": 10,
        "start_time": "2023-02-22T09:01:01.053Z"
      },
      {
        "duration": 9,
        "start_time": "2023-02-22T09:01:46.909Z"
      },
      {
        "duration": 168,
        "start_time": "2023-02-22T09:04:07.722Z"
      },
      {
        "duration": 1288,
        "start_time": "2023-02-22T09:05:35.803Z"
      },
      {
        "duration": 608,
        "start_time": "2023-02-22T09:05:37.093Z"
      },
      {
        "duration": 27,
        "start_time": "2023-02-22T09:05:37.703Z"
      },
      {
        "duration": 16,
        "start_time": "2023-02-22T09:05:37.733Z"
      },
      {
        "duration": 372,
        "start_time": "2023-02-22T09:05:37.751Z"
      },
      {
        "duration": 45,
        "start_time": "2023-02-22T09:05:38.126Z"
      },
      {
        "duration": 40,
        "start_time": "2023-02-22T09:05:38.173Z"
      },
      {
        "duration": 119,
        "start_time": "2023-02-22T09:05:38.215Z"
      },
      {
        "duration": 183,
        "start_time": "2023-02-22T09:05:38.336Z"
      },
      {
        "duration": 42,
        "start_time": "2023-02-22T09:05:38.521Z"
      },
      {
        "duration": 153,
        "start_time": "2023-02-22T09:05:38.565Z"
      },
      {
        "duration": 523,
        "start_time": "2023-02-22T09:10:33.736Z"
      },
      {
        "duration": 141,
        "start_time": "2023-02-22T09:10:49.673Z"
      },
      {
        "duration": 150,
        "start_time": "2023-02-22T09:11:17.679Z"
      },
      {
        "duration": 161,
        "start_time": "2023-02-22T09:14:35.341Z"
      },
      {
        "duration": 158,
        "start_time": "2023-02-22T09:16:51.918Z"
      },
      {
        "duration": 4,
        "start_time": "2023-02-22T09:17:35.250Z"
      },
      {
        "duration": 19,
        "start_time": "2023-02-22T09:20:33.676Z"
      },
      {
        "duration": 5,
        "start_time": "2023-02-22T09:21:14.788Z"
      },
      {
        "duration": 6,
        "start_time": "2023-02-22T09:21:20.843Z"
      },
      {
        "duration": 12,
        "start_time": "2023-02-22T09:21:53.957Z"
      },
      {
        "duration": 11,
        "start_time": "2023-02-22T09:22:05.301Z"
      },
      {
        "duration": 111,
        "start_time": "2023-02-22T09:22:13.658Z"
      },
      {
        "duration": 142,
        "start_time": "2023-02-22T09:22:37.356Z"
      },
      {
        "duration": 52,
        "start_time": "2023-02-22T09:27:03.031Z"
      },
      {
        "duration": 45,
        "start_time": "2023-02-22T09:27:51.335Z"
      },
      {
        "duration": 47,
        "start_time": "2023-02-22T09:28:52.282Z"
      },
      {
        "duration": 46,
        "start_time": "2023-02-22T09:31:01.235Z"
      },
      {
        "duration": 4,
        "start_time": "2023-02-22T09:31:09.439Z"
      },
      {
        "duration": 207,
        "start_time": "2023-02-22T09:31:46.783Z"
      },
      {
        "duration": 52,
        "start_time": "2023-02-22T09:31:50.178Z"
      },
      {
        "duration": 6,
        "start_time": "2023-02-22T09:32:00.811Z"
      },
      {
        "duration": 69,
        "start_time": "2023-02-22T09:32:05.539Z"
      },
      {
        "duration": 64,
        "start_time": "2023-02-22T09:32:26.076Z"
      },
      {
        "duration": 11,
        "start_time": "2023-02-22T09:33:36.241Z"
      },
      {
        "duration": 4,
        "start_time": "2023-02-22T09:33:40.759Z"
      },
      {
        "duration": 5,
        "start_time": "2023-02-22T09:33:49.087Z"
      },
      {
        "duration": 52,
        "start_time": "2023-02-22T09:35:43.866Z"
      },
      {
        "duration": 12,
        "start_time": "2023-02-22T09:36:47.530Z"
      },
      {
        "duration": 12,
        "start_time": "2023-02-22T09:37:48.332Z"
      },
      {
        "duration": 4,
        "start_time": "2023-02-22T09:37:54.607Z"
      },
      {
        "duration": 7,
        "start_time": "2023-02-22T09:37:58.150Z"
      },
      {
        "duration": 11,
        "start_time": "2023-02-22T09:38:05.564Z"
      },
      {
        "duration": 27,
        "start_time": "2023-02-22T09:38:18.837Z"
      },
      {
        "duration": 9,
        "start_time": "2023-02-22T09:38:40.610Z"
      },
      {
        "duration": 10,
        "start_time": "2023-02-22T09:38:48.331Z"
      },
      {
        "duration": 70,
        "start_time": "2023-02-22T09:38:59.391Z"
      },
      {
        "duration": 11,
        "start_time": "2023-02-22T09:39:01.870Z"
      },
      {
        "duration": 56,
        "start_time": "2023-02-22T09:39:07.865Z"
      },
      {
        "duration": 24,
        "start_time": "2023-02-22T10:00:43.716Z"
      },
      {
        "duration": 202,
        "start_time": "2023-02-22T10:01:24.893Z"
      },
      {
        "duration": 8,
        "start_time": "2023-02-22T10:03:16.301Z"
      },
      {
        "duration": 199,
        "start_time": "2023-02-22T10:04:14.177Z"
      },
      {
        "duration": 10,
        "start_time": "2023-02-22T10:05:18.686Z"
      },
      {
        "duration": 14,
        "start_time": "2023-02-22T10:06:00.123Z"
      },
      {
        "duration": 52,
        "start_time": "2023-02-22T10:06:05.051Z"
      },
      {
        "duration": 12,
        "start_time": "2023-02-22T10:06:08.887Z"
      },
      {
        "duration": 307,
        "start_time": "2023-02-22T10:06:58.175Z"
      },
      {
        "duration": 220,
        "start_time": "2023-02-22T10:07:08.494Z"
      },
      {
        "duration": 234,
        "start_time": "2023-02-22T10:07:12.503Z"
      },
      {
        "duration": 13,
        "start_time": "2023-02-22T10:19:16.520Z"
      },
      {
        "duration": 18,
        "start_time": "2023-02-22T10:20:04.176Z"
      },
      {
        "duration": 11,
        "start_time": "2023-02-22T10:20:11.518Z"
      },
      {
        "duration": 204,
        "start_time": "2023-02-22T10:20:15.021Z"
      },
      {
        "duration": 241,
        "start_time": "2023-02-22T10:20:20.119Z"
      },
      {
        "duration": 23,
        "start_time": "2023-02-22T10:24:47.155Z"
      },
      {
        "duration": 12,
        "start_time": "2023-02-22T10:24:51.685Z"
      },
      {
        "duration": 17,
        "start_time": "2023-02-22T10:25:28.836Z"
      },
      {
        "duration": 24,
        "start_time": "2023-02-22T10:25:34.813Z"
      },
      {
        "duration": 129,
        "start_time": "2023-02-22T10:35:23.156Z"
      },
      {
        "duration": 147,
        "start_time": "2023-02-22T10:35:27.366Z"
      },
      {
        "duration": 215,
        "start_time": "2023-02-22T10:35:35.095Z"
      },
      {
        "duration": 228,
        "start_time": "2023-02-22T10:35:47.901Z"
      },
      {
        "duration": 217,
        "start_time": "2023-02-22T10:35:56.659Z"
      },
      {
        "duration": 197,
        "start_time": "2023-02-22T10:37:19.353Z"
      },
      {
        "duration": 236,
        "start_time": "2023-02-22T10:37:26.236Z"
      },
      {
        "duration": 62,
        "start_time": "2023-02-22T10:37:36.828Z"
      },
      {
        "duration": 137,
        "start_time": "2023-02-22T10:39:53.055Z"
      },
      {
        "duration": 202,
        "start_time": "2023-02-22T10:39:58.478Z"
      },
      {
        "duration": 6,
        "start_time": "2023-02-22T12:54:54.006Z"
      },
      {
        "duration": 201,
        "start_time": "2023-02-22T12:55:27.564Z"
      },
      {
        "duration": 232,
        "start_time": "2023-02-22T12:55:36.845Z"
      },
      {
        "duration": 20,
        "start_time": "2023-02-22T12:58:37.513Z"
      },
      {
        "duration": 19,
        "start_time": "2023-02-22T12:59:11.892Z"
      },
      {
        "duration": 18,
        "start_time": "2023-02-22T12:59:23.722Z"
      },
      {
        "duration": 540,
        "start_time": "2023-02-22T13:00:52.220Z"
      },
      {
        "duration": 1245,
        "start_time": "2023-02-22T13:01:16.251Z"
      },
      {
        "duration": 598,
        "start_time": "2023-02-22T13:01:17.498Z"
      },
      {
        "duration": 26,
        "start_time": "2023-02-22T13:01:18.098Z"
      },
      {
        "duration": 11,
        "start_time": "2023-02-22T13:01:18.127Z"
      },
      {
        "duration": 341,
        "start_time": "2023-02-22T13:01:18.140Z"
      },
      {
        "duration": 49,
        "start_time": "2023-02-22T13:01:18.483Z"
      },
      {
        "duration": 17,
        "start_time": "2023-02-22T13:01:18.534Z"
      },
      {
        "duration": 128,
        "start_time": "2023-02-22T13:01:18.553Z"
      },
      {
        "duration": 110,
        "start_time": "2023-02-22T13:01:18.683Z"
      },
      {
        "duration": 0,
        "start_time": "2023-02-22T13:01:18.795Z"
      },
      {
        "duration": 0,
        "start_time": "2023-02-22T13:01:18.796Z"
      },
      {
        "duration": 0,
        "start_time": "2023-02-22T13:01:18.797Z"
      },
      {
        "duration": 0,
        "start_time": "2023-02-22T13:01:18.803Z"
      },
      {
        "duration": 9,
        "start_time": "2023-02-22T13:03:55.650Z"
      },
      {
        "duration": 31,
        "start_time": "2023-02-22T13:04:30.272Z"
      },
      {
        "duration": 11,
        "start_time": "2023-02-22T13:05:00.348Z"
      },
      {
        "duration": 224,
        "start_time": "2023-02-22T13:05:09.129Z"
      },
      {
        "duration": 29,
        "start_time": "2023-02-22T13:05:12.951Z"
      },
      {
        "duration": 9,
        "start_time": "2023-02-22T13:05:25.276Z"
      },
      {
        "duration": 4,
        "start_time": "2023-02-22T13:06:16.092Z"
      },
      {
        "duration": 9,
        "start_time": "2023-02-22T13:06:49.519Z"
      },
      {
        "duration": 4,
        "start_time": "2023-02-22T13:07:04.138Z"
      },
      {
        "duration": 3,
        "start_time": "2023-02-22T13:07:35.142Z"
      },
      {
        "duration": 96,
        "start_time": "2023-02-22T13:08:38.717Z"
      },
      {
        "duration": 4,
        "start_time": "2023-02-22T13:08:40.476Z"
      },
      {
        "duration": 12,
        "start_time": "2023-02-22T13:09:00.059Z"
      },
      {
        "duration": 57,
        "start_time": "2023-02-22T13:11:54.549Z"
      },
      {
        "duration": 9,
        "start_time": "2023-02-22T13:11:57.602Z"
      },
      {
        "duration": 3,
        "start_time": "2023-02-22T13:12:11.019Z"
      },
      {
        "duration": 4,
        "start_time": "2023-02-22T13:12:15.633Z"
      },
      {
        "duration": 9,
        "start_time": "2023-02-22T13:12:23.335Z"
      },
      {
        "duration": 5,
        "start_time": "2023-02-22T13:12:28.179Z"
      },
      {
        "duration": 4,
        "start_time": "2023-02-22T13:12:35.821Z"
      },
      {
        "duration": 9,
        "start_time": "2023-02-22T13:13:31.320Z"
      },
      {
        "duration": 16,
        "start_time": "2023-02-22T13:14:03.376Z"
      },
      {
        "duration": 22,
        "start_time": "2023-02-22T13:14:09.266Z"
      },
      {
        "duration": 22,
        "start_time": "2023-02-22T13:14:24.462Z"
      },
      {
        "duration": 1323,
        "start_time": "2023-02-22T13:15:25.528Z"
      },
      {
        "duration": 581,
        "start_time": "2023-02-22T13:15:26.854Z"
      },
      {
        "duration": 25,
        "start_time": "2023-02-22T13:15:27.437Z"
      },
      {
        "duration": 11,
        "start_time": "2023-02-22T13:15:27.464Z"
      },
      {
        "duration": 323,
        "start_time": "2023-02-22T13:15:27.477Z"
      },
      {
        "duration": 45,
        "start_time": "2023-02-22T13:15:27.804Z"
      },
      {
        "duration": 19,
        "start_time": "2023-02-22T13:15:27.851Z"
      },
      {
        "duration": 137,
        "start_time": "2023-02-22T13:15:27.872Z"
      },
      {
        "duration": 231,
        "start_time": "2023-02-22T13:15:28.011Z"
      },
      {
        "duration": 4,
        "start_time": "2023-02-22T13:15:28.244Z"
      },
      {
        "duration": 10,
        "start_time": "2023-02-22T13:15:28.249Z"
      },
      {
        "duration": 156,
        "start_time": "2023-02-22T13:15:28.260Z"
      },
      {
        "duration": 48,
        "start_time": "2023-02-22T13:15:28.417Z"
      },
      {
        "duration": 9,
        "start_time": "2023-02-22T13:16:41.300Z"
      },
      {
        "duration": 4,
        "start_time": "2023-02-22T13:17:07.848Z"
      },
      {
        "duration": 3,
        "start_time": "2023-02-22T13:17:13.249Z"
      },
      {
        "duration": 10,
        "start_time": "2023-02-22T13:17:33.519Z"
      },
      {
        "duration": 11,
        "start_time": "2023-02-22T13:18:22.198Z"
      },
      {
        "duration": 14,
        "start_time": "2023-02-22T14:34:10.204Z"
      },
      {
        "duration": 20,
        "start_time": "2023-02-22T14:34:22.331Z"
      },
      {
        "duration": 12,
        "start_time": "2023-02-22T14:34:52.065Z"
      },
      {
        "duration": 23,
        "start_time": "2023-02-22T14:34:56.523Z"
      },
      {
        "duration": 12,
        "start_time": "2023-02-22T14:35:12.910Z"
      },
      {
        "duration": 22,
        "start_time": "2023-02-22T14:35:14.909Z"
      },
      {
        "duration": 111,
        "start_time": "2023-02-22T14:35:34.188Z"
      },
      {
        "duration": 23,
        "start_time": "2023-02-22T14:35:38.149Z"
      },
      {
        "duration": 24,
        "start_time": "2023-02-22T14:35:42.398Z"
      },
      {
        "duration": 21,
        "start_time": "2023-02-22T14:35:45.325Z"
      },
      {
        "duration": 28,
        "start_time": "2023-02-22T14:36:24.787Z"
      },
      {
        "duration": 29,
        "start_time": "2023-02-22T14:36:30.240Z"
      },
      {
        "duration": 24,
        "start_time": "2023-02-22T14:37:12.472Z"
      },
      {
        "duration": 24,
        "start_time": "2023-02-22T14:37:17.233Z"
      },
      {
        "duration": 20,
        "start_time": "2023-02-22T14:37:23.109Z"
      },
      {
        "duration": 19,
        "start_time": "2023-02-22T14:37:25.422Z"
      },
      {
        "duration": 28,
        "start_time": "2023-02-22T14:37:29.140Z"
      },
      {
        "duration": 26,
        "start_time": "2023-02-22T14:38:19.307Z"
      },
      {
        "duration": 46,
        "start_time": "2023-02-22T14:38:25.228Z"
      },
      {
        "duration": 57,
        "start_time": "2023-02-22T14:38:38.276Z"
      },
      {
        "duration": 24,
        "start_time": "2023-02-22T14:42:53.732Z"
      },
      {
        "duration": 43,
        "start_time": "2023-02-22T14:44:00.049Z"
      },
      {
        "duration": 39,
        "start_time": "2023-02-22T14:44:03.047Z"
      },
      {
        "duration": 48,
        "start_time": "2023-02-22T14:44:06.600Z"
      },
      {
        "duration": 23,
        "start_time": "2023-02-22T14:51:48.422Z"
      },
      {
        "duration": 20,
        "start_time": "2023-02-22T14:51:58.955Z"
      },
      {
        "duration": 4,
        "start_time": "2023-02-22T14:52:45.383Z"
      },
      {
        "duration": 34,
        "start_time": "2023-02-22T14:53:01.536Z"
      },
      {
        "duration": 16,
        "start_time": "2023-02-22T14:53:05.148Z"
      },
      {
        "duration": 11,
        "start_time": "2023-02-22T14:53:08.094Z"
      },
      {
        "duration": 28,
        "start_time": "2023-02-22T14:54:25.612Z"
      },
      {
        "duration": 10,
        "start_time": "2023-02-22T14:54:43.340Z"
      },
      {
        "duration": 1327,
        "start_time": "2023-02-22T14:55:22.897Z"
      },
      {
        "duration": 645,
        "start_time": "2023-02-22T14:55:24.226Z"
      },
      {
        "duration": 28,
        "start_time": "2023-02-22T14:55:24.873Z"
      },
      {
        "duration": 23,
        "start_time": "2023-02-22T14:55:24.905Z"
      },
      {
        "duration": 352,
        "start_time": "2023-02-22T14:55:24.931Z"
      },
      {
        "duration": 56,
        "start_time": "2023-02-22T14:55:25.285Z"
      },
      {
        "duration": 20,
        "start_time": "2023-02-22T14:55:25.343Z"
      },
      {
        "duration": 150,
        "start_time": "2023-02-22T14:55:25.366Z"
      },
      {
        "duration": 266,
        "start_time": "2023-02-22T14:55:25.520Z"
      },
      {
        "duration": 21,
        "start_time": "2023-02-22T14:55:25.788Z"
      },
      {
        "duration": 14,
        "start_time": "2023-02-22T14:55:25.811Z"
      },
      {
        "duration": 161,
        "start_time": "2023-02-22T14:55:25.826Z"
      },
      {
        "duration": 67,
        "start_time": "2023-02-22T14:55:25.989Z"
      },
      {
        "duration": 14,
        "start_time": "2023-02-22T14:55:26.059Z"
      },
      {
        "duration": 41,
        "start_time": "2023-02-22T14:55:26.075Z"
      },
      {
        "duration": 28,
        "start_time": "2023-02-22T14:56:01.020Z"
      },
      {
        "duration": 19,
        "start_time": "2023-02-22T14:57:56.960Z"
      },
      {
        "duration": 26,
        "start_time": "2023-02-22T14:58:49.028Z"
      },
      {
        "duration": 21,
        "start_time": "2023-02-22T14:59:05.173Z"
      },
      {
        "duration": 24,
        "start_time": "2023-02-22T14:59:25.116Z"
      },
      {
        "duration": 27,
        "start_time": "2023-02-22T14:59:32.991Z"
      },
      {
        "duration": 144,
        "start_time": "2023-02-22T15:00:02.444Z"
      },
      {
        "duration": 38,
        "start_time": "2023-02-22T15:00:07.222Z"
      },
      {
        "duration": 53,
        "start_time": "2023-02-22T15:00:36.867Z"
      },
      {
        "duration": 71,
        "start_time": "2023-02-22T15:00:44.545Z"
      },
      {
        "duration": 74,
        "start_time": "2023-02-22T15:02:10.869Z"
      },
      {
        "duration": 76,
        "start_time": "2023-02-22T15:02:13.753Z"
      },
      {
        "duration": 84,
        "start_time": "2023-02-22T15:02:21.000Z"
      },
      {
        "duration": 59,
        "start_time": "2023-02-22T15:02:29.502Z"
      },
      {
        "duration": 59,
        "start_time": "2023-02-22T15:02:40.870Z"
      },
      {
        "duration": 45,
        "start_time": "2023-02-22T15:02:47.977Z"
      },
      {
        "duration": 45,
        "start_time": "2023-02-22T15:02:51.326Z"
      },
      {
        "duration": 47,
        "start_time": "2023-02-22T15:03:00.281Z"
      },
      {
        "duration": 38,
        "start_time": "2023-02-22T15:03:39.924Z"
      },
      {
        "duration": 44,
        "start_time": "2023-02-22T15:04:02.175Z"
      },
      {
        "duration": 65,
        "start_time": "2023-02-22T15:04:12.234Z"
      },
      {
        "duration": 10,
        "start_time": "2023-02-22T15:05:28.576Z"
      },
      {
        "duration": 14,
        "start_time": "2023-02-22T15:05:30.479Z"
      },
      {
        "duration": 1832,
        "start_time": "2023-02-22T15:07:18.468Z"
      },
      {
        "duration": 1720,
        "start_time": "2023-02-22T15:08:02.691Z"
      },
      {
        "duration": 17,
        "start_time": "2023-02-22T15:08:42.213Z"
      },
      {
        "duration": 19,
        "start_time": "2023-02-22T15:27:49.516Z"
      },
      {
        "duration": 1802,
        "start_time": "2023-02-22T15:28:04.562Z"
      },
      {
        "duration": 1846,
        "start_time": "2023-02-22T15:28:46.916Z"
      },
      {
        "duration": 1705,
        "start_time": "2023-02-22T15:28:57.377Z"
      },
      {
        "duration": 1751,
        "start_time": "2023-02-22T15:29:20.420Z"
      },
      {
        "duration": 1926,
        "start_time": "2023-02-22T15:29:46.881Z"
      },
      {
        "duration": 1787,
        "start_time": "2023-02-22T15:29:55.831Z"
      },
      {
        "duration": 78,
        "start_time": "2023-02-22T15:31:36.056Z"
      },
      {
        "duration": 1826,
        "start_time": "2023-02-22T15:31:39.620Z"
      },
      {
        "duration": 1806,
        "start_time": "2023-02-22T15:32:06.757Z"
      },
      {
        "duration": 1889,
        "start_time": "2023-02-22T15:32:16.552Z"
      },
      {
        "duration": 1814,
        "start_time": "2023-02-22T15:33:18.070Z"
      },
      {
        "duration": 1762,
        "start_time": "2023-02-22T15:34:54.571Z"
      },
      {
        "duration": 1734,
        "start_time": "2023-02-22T15:35:02.288Z"
      },
      {
        "duration": 24,
        "start_time": "2023-02-22T15:35:09.028Z"
      },
      {
        "duration": 1921,
        "start_time": "2023-02-22T15:35:16.230Z"
      },
      {
        "duration": 1723,
        "start_time": "2023-02-22T15:35:38.965Z"
      },
      {
        "duration": 1884,
        "start_time": "2023-02-22T15:38:21.157Z"
      },
      {
        "duration": 1808,
        "start_time": "2023-02-22T15:38:41.468Z"
      },
      {
        "duration": 1477,
        "start_time": "2023-02-23T09:25:52.132Z"
      },
      {
        "duration": 991,
        "start_time": "2023-02-23T09:25:53.612Z"
      },
      {
        "duration": 37,
        "start_time": "2023-02-23T09:25:54.604Z"
      },
      {
        "duration": 18,
        "start_time": "2023-02-23T09:25:54.643Z"
      },
      {
        "duration": 326,
        "start_time": "2023-02-23T09:25:54.664Z"
      },
      {
        "duration": 51,
        "start_time": "2023-02-23T09:25:54.992Z"
      },
      {
        "duration": 23,
        "start_time": "2023-02-23T09:25:55.045Z"
      },
      {
        "duration": 135,
        "start_time": "2023-02-23T09:25:55.071Z"
      },
      {
        "duration": 283,
        "start_time": "2023-02-23T09:25:55.208Z"
      },
      {
        "duration": 15,
        "start_time": "2023-02-23T09:25:55.493Z"
      },
      {
        "duration": 24,
        "start_time": "2023-02-23T09:25:55.510Z"
      },
      {
        "duration": 181,
        "start_time": "2023-02-23T09:25:55.535Z"
      },
      {
        "duration": 75,
        "start_time": "2023-02-23T09:25:55.719Z"
      },
      {
        "duration": 87,
        "start_time": "2023-02-23T09:25:55.797Z"
      },
      {
        "duration": 50,
        "start_time": "2023-02-23T09:25:55.886Z"
      },
      {
        "duration": 12,
        "start_time": "2023-02-23T09:30:23.706Z"
      },
      {
        "duration": 100,
        "start_time": "2023-02-23T09:30:42.299Z"
      },
      {
        "duration": 15,
        "start_time": "2023-02-23T09:30:45.367Z"
      },
      {
        "duration": 4,
        "start_time": "2023-02-23T09:30:58.427Z"
      },
      {
        "duration": 15,
        "start_time": "2023-02-23T09:33:00.880Z"
      },
      {
        "duration": 12,
        "start_time": "2023-02-23T09:33:05.419Z"
      },
      {
        "duration": 646,
        "start_time": "2023-02-23T09:33:13.179Z"
      },
      {
        "duration": 9,
        "start_time": "2023-02-23T09:33:19.586Z"
      },
      {
        "duration": 12,
        "start_time": "2023-02-23T09:33:21.614Z"
      },
      {
        "duration": 8,
        "start_time": "2023-02-23T09:33:23.370Z"
      },
      {
        "duration": 14,
        "start_time": "2023-02-23T09:33:45.008Z"
      },
      {
        "duration": 5,
        "start_time": "2023-02-23T09:33:47.623Z"
      },
      {
        "duration": 8,
        "start_time": "2023-02-23T09:33:55.685Z"
      },
      {
        "duration": 9,
        "start_time": "2023-02-23T09:34:19.358Z"
      },
      {
        "duration": 7,
        "start_time": "2023-02-23T09:34:22.198Z"
      },
      {
        "duration": 1196,
        "start_time": "2023-02-23T09:34:29.367Z"
      },
      {
        "duration": 573,
        "start_time": "2023-02-23T09:34:30.566Z"
      },
      {
        "duration": 37,
        "start_time": "2023-02-23T09:34:31.141Z"
      },
      {
        "duration": 13,
        "start_time": "2023-02-23T09:34:31.180Z"
      },
      {
        "duration": 354,
        "start_time": "2023-02-23T09:34:31.195Z"
      },
      {
        "duration": 44,
        "start_time": "2023-02-23T09:34:31.551Z"
      },
      {
        "duration": 34,
        "start_time": "2023-02-23T09:34:31.597Z"
      },
      {
        "duration": 120,
        "start_time": "2023-02-23T09:34:31.632Z"
      },
      {
        "duration": 249,
        "start_time": "2023-02-23T09:34:31.754Z"
      },
      {
        "duration": 25,
        "start_time": "2023-02-23T09:34:32.006Z"
      },
      {
        "duration": 7,
        "start_time": "2023-02-23T09:34:32.033Z"
      },
      {
        "duration": 166,
        "start_time": "2023-02-23T09:34:32.042Z"
      },
      {
        "duration": 24,
        "start_time": "2023-02-23T09:34:32.210Z"
      },
      {
        "duration": 18,
        "start_time": "2023-02-23T09:34:32.235Z"
      },
      {
        "duration": 52,
        "start_time": "2023-02-23T09:34:32.254Z"
      },
      {
        "duration": 58,
        "start_time": "2023-02-23T09:34:32.326Z"
      },
      {
        "duration": 42,
        "start_time": "2023-02-23T09:34:32.386Z"
      },
      {
        "duration": 2000,
        "start_time": "2023-02-23T09:35:19.640Z"
      },
      {
        "duration": 1830,
        "start_time": "2023-02-23T09:35:22.787Z"
      },
      {
        "duration": 20,
        "start_time": "2023-02-23T09:35:47.488Z"
      },
      {
        "duration": 48,
        "start_time": "2023-02-23T09:38:24.058Z"
      },
      {
        "duration": 8,
        "start_time": "2023-02-23T09:39:18.978Z"
      },
      {
        "duration": 41,
        "start_time": "2023-02-23T09:39:47.600Z"
      },
      {
        "duration": 48,
        "start_time": "2023-02-23T09:39:52.470Z"
      },
      {
        "duration": 65,
        "start_time": "2023-02-23T09:40:13.970Z"
      },
      {
        "duration": 1186,
        "start_time": "2023-02-23T09:41:41.390Z"
      },
      {
        "duration": 554,
        "start_time": "2023-02-23T09:41:42.578Z"
      },
      {
        "duration": 29,
        "start_time": "2023-02-23T09:41:43.133Z"
      },
      {
        "duration": 12,
        "start_time": "2023-02-23T09:41:43.164Z"
      },
      {
        "duration": 322,
        "start_time": "2023-02-23T09:41:43.178Z"
      },
      {
        "duration": 52,
        "start_time": "2023-02-23T09:41:43.502Z"
      },
      {
        "duration": 21,
        "start_time": "2023-02-23T09:41:43.556Z"
      },
      {
        "duration": 156,
        "start_time": "2023-02-23T09:41:43.579Z"
      },
      {
        "duration": 240,
        "start_time": "2023-02-23T09:41:43.737Z"
      },
      {
        "duration": 11,
        "start_time": "2023-02-23T09:41:43.978Z"
      },
      {
        "duration": 10,
        "start_time": "2023-02-23T09:41:43.991Z"
      },
      {
        "duration": 167,
        "start_time": "2023-02-23T09:41:44.003Z"
      },
      {
        "duration": 26,
        "start_time": "2023-02-23T09:41:44.172Z"
      },
      {
        "duration": 75,
        "start_time": "2023-02-23T09:41:44.201Z"
      },
      {
        "duration": 120,
        "start_time": "2023-02-23T09:41:44.278Z"
      },
      {
        "duration": 0,
        "start_time": "2023-02-23T09:41:44.400Z"
      },
      {
        "duration": 0,
        "start_time": "2023-02-23T09:41:44.401Z"
      },
      {
        "duration": 44,
        "start_time": "2023-02-23T09:42:05.267Z"
      },
      {
        "duration": 1248,
        "start_time": "2023-02-23T09:44:56.463Z"
      },
      {
        "duration": 582,
        "start_time": "2023-02-23T09:44:57.713Z"
      },
      {
        "duration": 27,
        "start_time": "2023-02-23T09:44:58.297Z"
      },
      {
        "duration": 12,
        "start_time": "2023-02-23T09:44:58.326Z"
      },
      {
        "duration": 353,
        "start_time": "2023-02-23T09:44:58.340Z"
      },
      {
        "duration": 52,
        "start_time": "2023-02-23T09:44:58.695Z"
      },
      {
        "duration": 20,
        "start_time": "2023-02-23T09:44:58.749Z"
      },
      {
        "duration": 129,
        "start_time": "2023-02-23T09:44:58.771Z"
      },
      {
        "duration": 259,
        "start_time": "2023-02-23T09:44:58.902Z"
      },
      {
        "duration": 11,
        "start_time": "2023-02-23T09:44:59.163Z"
      },
      {
        "duration": 7,
        "start_time": "2023-02-23T09:44:59.176Z"
      },
      {
        "duration": 162,
        "start_time": "2023-02-23T09:44:59.184Z"
      },
      {
        "duration": 21,
        "start_time": "2023-02-23T09:44:59.348Z"
      },
      {
        "duration": 67,
        "start_time": "2023-02-23T09:44:59.372Z"
      },
      {
        "duration": 52,
        "start_time": "2023-02-23T09:44:59.441Z"
      },
      {
        "duration": 2652,
        "start_time": "2023-02-23T09:44:59.495Z"
      },
      {
        "duration": 26,
        "start_time": "2023-02-23T09:45:02.149Z"
      },
      {
        "duration": 1238,
        "start_time": "2023-02-23T09:45:42.185Z"
      },
      {
        "duration": 569,
        "start_time": "2023-02-23T09:45:43.426Z"
      },
      {
        "duration": 37,
        "start_time": "2023-02-23T09:45:43.997Z"
      },
      {
        "duration": 15,
        "start_time": "2023-02-23T09:45:44.036Z"
      },
      {
        "duration": 336,
        "start_time": "2023-02-23T09:45:44.054Z"
      },
      {
        "duration": 54,
        "start_time": "2023-02-23T09:45:44.392Z"
      },
      {
        "duration": 18,
        "start_time": "2023-02-23T09:45:44.448Z"
      },
      {
        "duration": 134,
        "start_time": "2023-02-23T09:45:44.468Z"
      },
      {
        "duration": 258,
        "start_time": "2023-02-23T09:45:44.603Z"
      },
      {
        "duration": 11,
        "start_time": "2023-02-23T09:45:44.863Z"
      },
      {
        "duration": 9,
        "start_time": "2023-02-23T09:45:44.876Z"
      },
      {
        "duration": 200,
        "start_time": "2023-02-23T09:45:44.887Z"
      },
      {
        "duration": 21,
        "start_time": "2023-02-23T09:45:45.089Z"
      },
      {
        "duration": 59,
        "start_time": "2023-02-23T09:45:45.113Z"
      },
      {
        "duration": 62,
        "start_time": "2023-02-23T09:45:45.174Z"
      },
      {
        "duration": 2574,
        "start_time": "2023-02-23T09:45:45.238Z"
      },
      {
        "duration": 23,
        "start_time": "2023-02-23T09:45:47.814Z"
      },
      {
        "duration": 13,
        "start_time": "2023-02-23T09:46:08.481Z"
      },
      {
        "duration": 2463,
        "start_time": "2023-02-23T09:46:23.889Z"
      },
      {
        "duration": 1160,
        "start_time": "2023-02-23T09:47:23.484Z"
      },
      {
        "duration": 615,
        "start_time": "2023-02-23T09:47:24.647Z"
      },
      {
        "duration": 30,
        "start_time": "2023-02-23T09:47:25.264Z"
      },
      {
        "duration": 12,
        "start_time": "2023-02-23T09:47:25.296Z"
      },
      {
        "duration": 361,
        "start_time": "2023-02-23T09:47:25.310Z"
      },
      {
        "duration": 60,
        "start_time": "2023-02-23T09:47:25.673Z"
      },
      {
        "duration": 18,
        "start_time": "2023-02-23T09:47:25.735Z"
      },
      {
        "duration": 128,
        "start_time": "2023-02-23T09:47:25.755Z"
      },
      {
        "duration": 339,
        "start_time": "2023-02-23T09:47:25.885Z"
      },
      {
        "duration": 12,
        "start_time": "2023-02-23T09:47:26.228Z"
      },
      {
        "duration": 8,
        "start_time": "2023-02-23T09:47:26.241Z"
      },
      {
        "duration": 198,
        "start_time": "2023-02-23T09:47:26.251Z"
      },
      {
        "duration": 32,
        "start_time": "2023-02-23T09:47:26.450Z"
      },
      {
        "duration": 75,
        "start_time": "2023-02-23T09:47:26.484Z"
      },
      {
        "duration": 69,
        "start_time": "2023-02-23T09:47:26.561Z"
      },
      {
        "duration": 55,
        "start_time": "2023-02-23T09:47:26.632Z"
      },
      {
        "duration": 16,
        "start_time": "2023-02-23T09:47:26.690Z"
      },
      {
        "duration": 19,
        "start_time": "2023-02-23T09:47:32.972Z"
      },
      {
        "duration": 13,
        "start_time": "2023-02-23T09:47:51.310Z"
      },
      {
        "duration": 20,
        "start_time": "2023-02-23T09:47:54.042Z"
      },
      {
        "duration": 100,
        "start_time": "2023-02-23T09:47:59.682Z"
      },
      {
        "duration": 10,
        "start_time": "2023-02-23T09:48:04.331Z"
      },
      {
        "duration": 19,
        "start_time": "2023-02-23T09:48:33.060Z"
      },
      {
        "duration": 14,
        "start_time": "2023-02-23T09:49:21.290Z"
      },
      {
        "duration": 11,
        "start_time": "2023-02-23T09:49:42.290Z"
      },
      {
        "duration": 18,
        "start_time": "2023-02-23T09:49:47.010Z"
      },
      {
        "duration": 18,
        "start_time": "2023-02-23T09:50:26.074Z"
      },
      {
        "duration": 37,
        "start_time": "2023-02-23T09:50:28.581Z"
      },
      {
        "duration": 38,
        "start_time": "2023-02-23T09:50:52.441Z"
      },
      {
        "duration": 21,
        "start_time": "2023-02-23T09:51:54.351Z"
      },
      {
        "duration": 13,
        "start_time": "2023-02-23T09:52:01.647Z"
      },
      {
        "duration": 21,
        "start_time": "2023-02-23T09:53:59.571Z"
      },
      {
        "duration": 14,
        "start_time": "2023-02-23T09:54:15.920Z"
      },
      {
        "duration": 28,
        "start_time": "2023-02-23T09:54:20.562Z"
      },
      {
        "duration": 9,
        "start_time": "2023-02-23T09:54:36.890Z"
      },
      {
        "duration": 1019,
        "start_time": "2023-02-23T09:54:57.519Z"
      },
      {
        "duration": 552,
        "start_time": "2023-02-23T09:55:07.787Z"
      },
      {
        "duration": 4,
        "start_time": "2023-02-23T09:56:29.860Z"
      },
      {
        "duration": 43,
        "start_time": "2023-02-23T09:57:08.851Z"
      },
      {
        "duration": 30,
        "start_time": "2023-02-23T09:57:12.731Z"
      },
      {
        "duration": 32,
        "start_time": "2023-02-23T09:57:16.501Z"
      },
      {
        "duration": 24,
        "start_time": "2023-02-23T09:57:23.761Z"
      },
      {
        "duration": 10,
        "start_time": "2023-02-23T09:59:14.451Z"
      },
      {
        "duration": 723,
        "start_time": "2023-02-23T09:59:33.147Z"
      },
      {
        "duration": 35,
        "start_time": "2023-02-23T09:59:46.637Z"
      },
      {
        "duration": 310,
        "start_time": "2023-02-23T10:01:05.821Z"
      },
      {
        "duration": 1237,
        "start_time": "2023-02-23T10:01:16.677Z"
      },
      {
        "duration": 576,
        "start_time": "2023-02-23T10:01:17.916Z"
      },
      {
        "duration": 28,
        "start_time": "2023-02-23T10:01:18.494Z"
      },
      {
        "duration": 12,
        "start_time": "2023-02-23T10:01:18.524Z"
      },
      {
        "duration": 345,
        "start_time": "2023-02-23T10:01:18.539Z"
      },
      {
        "duration": 56,
        "start_time": "2023-02-23T10:01:18.886Z"
      },
      {
        "duration": 21,
        "start_time": "2023-02-23T10:01:18.945Z"
      },
      {
        "duration": 131,
        "start_time": "2023-02-23T10:01:18.967Z"
      },
      {
        "duration": 281,
        "start_time": "2023-02-23T10:01:19.100Z"
      },
      {
        "duration": 12,
        "start_time": "2023-02-23T10:01:19.383Z"
      },
      {
        "duration": 11,
        "start_time": "2023-02-23T10:01:19.398Z"
      },
      {
        "duration": 152,
        "start_time": "2023-02-23T10:01:19.411Z"
      },
      {
        "duration": 24,
        "start_time": "2023-02-23T10:01:19.565Z"
      },
      {
        "duration": 93,
        "start_time": "2023-02-23T10:01:19.592Z"
      },
      {
        "duration": 77,
        "start_time": "2023-02-23T10:01:19.687Z"
      },
      {
        "duration": 9,
        "start_time": "2023-02-23T10:01:19.765Z"
      },
      {
        "duration": 685,
        "start_time": "2023-02-23T10:01:19.776Z"
      },
      {
        "duration": 16,
        "start_time": "2023-02-23T10:01:20.464Z"
      },
      {
        "duration": 133,
        "start_time": "2023-02-23T10:01:20.482Z"
      },
      {
        "duration": 22,
        "start_time": "2023-02-23T10:01:34.290Z"
      },
      {
        "duration": 43,
        "start_time": "2023-02-23T10:02:54.411Z"
      },
      {
        "duration": 14,
        "start_time": "2023-02-23T10:07:08.407Z"
      },
      {
        "duration": 27,
        "start_time": "2023-02-23T10:11:17.301Z"
      },
      {
        "duration": 56,
        "start_time": "2023-02-23T10:11:35.122Z"
      },
      {
        "duration": 56,
        "start_time": "2023-02-23T10:12:44.812Z"
      },
      {
        "duration": 43,
        "start_time": "2023-02-23T10:13:38.651Z"
      },
      {
        "duration": 11,
        "start_time": "2023-02-23T10:13:42.753Z"
      },
      {
        "duration": 1131,
        "start_time": "2023-02-23T10:14:59.821Z"
      },
      {
        "duration": 35,
        "start_time": "2023-02-23T10:15:09.122Z"
      },
      {
        "duration": 37,
        "start_time": "2023-02-23T10:15:49.620Z"
      },
      {
        "duration": 4,
        "start_time": "2023-02-23T10:15:54.171Z"
      },
      {
        "duration": 26,
        "start_time": "2023-02-23T10:16:12.321Z"
      },
      {
        "duration": 10,
        "start_time": "2023-02-23T10:16:39.991Z"
      },
      {
        "duration": 10,
        "start_time": "2023-02-23T10:16:52.753Z"
      },
      {
        "duration": 1221,
        "start_time": "2023-02-23T10:17:25.614Z"
      },
      {
        "duration": 663,
        "start_time": "2023-02-23T10:17:26.837Z"
      },
      {
        "duration": 42,
        "start_time": "2023-02-23T10:17:27.503Z"
      },
      {
        "duration": 16,
        "start_time": "2023-02-23T10:17:27.547Z"
      },
      {
        "duration": 419,
        "start_time": "2023-02-23T10:17:27.566Z"
      },
      {
        "duration": 70,
        "start_time": "2023-02-23T10:17:27.987Z"
      },
      {
        "duration": 27,
        "start_time": "2023-02-23T10:17:28.059Z"
      },
      {
        "duration": 145,
        "start_time": "2023-02-23T10:17:28.088Z"
      },
      {
        "duration": 262,
        "start_time": "2023-02-23T10:17:28.235Z"
      },
      {
        "duration": 13,
        "start_time": "2023-02-23T10:17:28.499Z"
      },
      {
        "duration": 19,
        "start_time": "2023-02-23T10:17:28.517Z"
      },
      {
        "duration": 166,
        "start_time": "2023-02-23T10:17:28.539Z"
      },
      {
        "duration": 34,
        "start_time": "2023-02-23T10:17:28.707Z"
      },
      {
        "duration": 53,
        "start_time": "2023-02-23T10:17:28.744Z"
      },
      {
        "duration": 63,
        "start_time": "2023-02-23T10:17:28.800Z"
      },
      {
        "duration": 8,
        "start_time": "2023-02-23T10:17:28.865Z"
      },
      {
        "duration": 652,
        "start_time": "2023-02-23T10:17:28.875Z"
      },
      {
        "duration": 41,
        "start_time": "2023-02-23T10:17:29.529Z"
      },
      {
        "duration": 21,
        "start_time": "2023-02-23T10:17:45.053Z"
      },
      {
        "duration": 11,
        "start_time": "2023-02-23T10:17:54.408Z"
      },
      {
        "duration": 1360,
        "start_time": "2023-02-23T10:18:13.198Z"
      },
      {
        "duration": 670,
        "start_time": "2023-02-23T10:18:14.561Z"
      },
      {
        "duration": 33,
        "start_time": "2023-02-23T10:18:15.234Z"
      },
      {
        "duration": 14,
        "start_time": "2023-02-23T10:18:15.269Z"
      },
      {
        "duration": 369,
        "start_time": "2023-02-23T10:18:15.286Z"
      },
      {
        "duration": 48,
        "start_time": "2023-02-23T10:18:15.657Z"
      },
      {
        "duration": 39,
        "start_time": "2023-02-23T10:18:15.707Z"
      },
      {
        "duration": 165,
        "start_time": "2023-02-23T10:18:15.748Z"
      },
      {
        "duration": 379,
        "start_time": "2023-02-23T10:18:15.915Z"
      },
      {
        "duration": 0,
        "start_time": "2023-02-23T10:18:16.296Z"
      },
      {
        "duration": 0,
        "start_time": "2023-02-23T10:18:16.298Z"
      },
      {
        "duration": 0,
        "start_time": "2023-02-23T10:18:16.300Z"
      },
      {
        "duration": 0,
        "start_time": "2023-02-23T10:18:16.301Z"
      },
      {
        "duration": 0,
        "start_time": "2023-02-23T10:18:16.303Z"
      },
      {
        "duration": 0,
        "start_time": "2023-02-23T10:18:16.305Z"
      },
      {
        "duration": 0,
        "start_time": "2023-02-23T10:18:16.306Z"
      },
      {
        "duration": 0,
        "start_time": "2023-02-23T10:18:16.307Z"
      },
      {
        "duration": 0,
        "start_time": "2023-02-23T10:18:16.309Z"
      },
      {
        "duration": 1,
        "start_time": "2023-02-23T10:18:16.327Z"
      },
      {
        "duration": 7,
        "start_time": "2023-02-23T10:18:43.534Z"
      },
      {
        "duration": 1269,
        "start_time": "2023-02-23T10:18:56.132Z"
      },
      {
        "duration": 665,
        "start_time": "2023-02-23T10:18:57.404Z"
      },
      {
        "duration": 32,
        "start_time": "2023-02-23T10:18:58.071Z"
      },
      {
        "duration": 98,
        "start_time": "2023-02-23T10:18:58.105Z"
      },
      {
        "duration": 368,
        "start_time": "2023-02-23T10:18:58.206Z"
      },
      {
        "duration": 63,
        "start_time": "2023-02-23T10:18:58.576Z"
      },
      {
        "duration": 30,
        "start_time": "2023-02-23T10:18:58.640Z"
      },
      {
        "duration": 183,
        "start_time": "2023-02-23T10:18:58.673Z"
      },
      {
        "duration": 318,
        "start_time": "2023-02-23T10:18:58.858Z"
      },
      {
        "duration": 14,
        "start_time": "2023-02-23T10:18:59.178Z"
      },
      {
        "duration": 17,
        "start_time": "2023-02-23T10:18:59.194Z"
      },
      {
        "duration": 210,
        "start_time": "2023-02-23T10:18:59.213Z"
      },
      {
        "duration": 27,
        "start_time": "2023-02-23T10:18:59.427Z"
      },
      {
        "duration": 71,
        "start_time": "2023-02-23T10:18:59.457Z"
      },
      {
        "duration": 54,
        "start_time": "2023-02-23T10:18:59.532Z"
      },
      {
        "duration": 8,
        "start_time": "2023-02-23T10:18:59.588Z"
      },
      {
        "duration": 711,
        "start_time": "2023-02-23T10:18:59.597Z"
      },
      {
        "duration": 65,
        "start_time": "2023-02-23T10:19:00.310Z"
      },
      {
        "duration": 30,
        "start_time": "2023-02-23T10:19:00.378Z"
      },
      {
        "duration": 14,
        "start_time": "2023-02-23T10:19:26.723Z"
      },
      {
        "duration": 14,
        "start_time": "2023-02-23T10:19:32.783Z"
      },
      {
        "duration": 14,
        "start_time": "2023-02-23T10:19:50.753Z"
      },
      {
        "duration": 31,
        "start_time": "2023-02-23T10:19:53.049Z"
      },
      {
        "duration": 27,
        "start_time": "2023-02-23T10:20:05.183Z"
      },
      {
        "duration": 29,
        "start_time": "2023-02-23T10:20:19.611Z"
      },
      {
        "duration": 28,
        "start_time": "2023-02-23T10:20:28.123Z"
      },
      {
        "duration": 180,
        "start_time": "2023-02-23T10:20:42.924Z"
      },
      {
        "duration": 21,
        "start_time": "2023-02-23T10:20:48.222Z"
      },
      {
        "duration": 30,
        "start_time": "2023-02-23T10:20:59.355Z"
      },
      {
        "duration": 4,
        "start_time": "2023-02-23T10:25:58.272Z"
      },
      {
        "duration": 250,
        "start_time": "2023-02-23T10:26:01.233Z"
      },
      {
        "duration": 4,
        "start_time": "2023-02-23T10:26:03.445Z"
      },
      {
        "duration": 302,
        "start_time": "2023-02-23T10:26:06.584Z"
      },
      {
        "duration": 4,
        "start_time": "2023-02-23T10:26:09.023Z"
      },
      {
        "duration": 14,
        "start_time": "2023-02-23T10:26:13.853Z"
      },
      {
        "duration": 10,
        "start_time": "2023-02-23T10:26:17.826Z"
      },
      {
        "duration": 562,
        "start_time": "2023-02-23T10:26:20.582Z"
      },
      {
        "duration": 39,
        "start_time": "2023-02-23T10:26:24.095Z"
      },
      {
        "duration": 28,
        "start_time": "2023-02-23T10:28:14.183Z"
      },
      {
        "duration": 1291,
        "start_time": "2023-02-23T10:29:45.431Z"
      },
      {
        "duration": 587,
        "start_time": "2023-02-23T10:29:46.727Z"
      },
      {
        "duration": 39,
        "start_time": "2023-02-23T10:29:47.316Z"
      },
      {
        "duration": 16,
        "start_time": "2023-02-23T10:29:47.358Z"
      },
      {
        "duration": 336,
        "start_time": "2023-02-23T10:29:47.375Z"
      },
      {
        "duration": 50,
        "start_time": "2023-02-23T10:29:47.712Z"
      },
      {
        "duration": 19,
        "start_time": "2023-02-23T10:29:47.764Z"
      },
      {
        "duration": 129,
        "start_time": "2023-02-23T10:29:47.785Z"
      },
      {
        "duration": 102,
        "start_time": "2023-02-23T10:29:47.918Z"
      },
      {
        "duration": 0,
        "start_time": "2023-02-23T10:29:48.027Z"
      },
      {
        "duration": 0,
        "start_time": "2023-02-23T10:29:48.029Z"
      },
      {
        "duration": 0,
        "start_time": "2023-02-23T10:29:48.031Z"
      },
      {
        "duration": 0,
        "start_time": "2023-02-23T10:29:48.032Z"
      },
      {
        "duration": 0,
        "start_time": "2023-02-23T10:29:48.033Z"
      },
      {
        "duration": 0,
        "start_time": "2023-02-23T10:29:48.034Z"
      },
      {
        "duration": 0,
        "start_time": "2023-02-23T10:29:48.035Z"
      },
      {
        "duration": 0,
        "start_time": "2023-02-23T10:29:48.036Z"
      },
      {
        "duration": 0,
        "start_time": "2023-02-23T10:29:48.037Z"
      },
      {
        "duration": 0,
        "start_time": "2023-02-23T10:29:48.039Z"
      },
      {
        "duration": 0,
        "start_time": "2023-02-23T10:29:48.040Z"
      },
      {
        "duration": 1453,
        "start_time": "2023-02-23T10:30:42.003Z"
      },
      {
        "duration": 650,
        "start_time": "2023-02-23T10:30:43.461Z"
      },
      {
        "duration": 35,
        "start_time": "2023-02-23T10:30:44.114Z"
      },
      {
        "duration": 15,
        "start_time": "2023-02-23T10:30:44.151Z"
      },
      {
        "duration": 455,
        "start_time": "2023-02-23T10:30:44.169Z"
      },
      {
        "duration": 66,
        "start_time": "2023-02-23T10:30:44.627Z"
      },
      {
        "duration": 40,
        "start_time": "2023-02-23T10:30:44.695Z"
      },
      {
        "duration": 204,
        "start_time": "2023-02-23T10:30:44.737Z"
      },
      {
        "duration": 323,
        "start_time": "2023-02-23T10:30:44.943Z"
      },
      {
        "duration": 13,
        "start_time": "2023-02-23T10:30:45.268Z"
      },
      {
        "duration": 8,
        "start_time": "2023-02-23T10:30:45.283Z"
      },
      {
        "duration": 239,
        "start_time": "2023-02-23T10:30:45.293Z"
      },
      {
        "duration": 26,
        "start_time": "2023-02-23T10:30:45.534Z"
      },
      {
        "duration": 80,
        "start_time": "2023-02-23T10:30:45.563Z"
      },
      {
        "duration": 47,
        "start_time": "2023-02-23T10:30:45.646Z"
      },
      {
        "duration": 11,
        "start_time": "2023-02-23T10:30:45.695Z"
      },
      {
        "duration": 719,
        "start_time": "2023-02-23T10:30:45.728Z"
      },
      {
        "duration": 53,
        "start_time": "2023-02-23T10:30:46.454Z"
      },
      {
        "duration": 32,
        "start_time": "2023-02-23T10:30:46.509Z"
      },
      {
        "duration": 5,
        "start_time": "2023-02-23T10:30:58.573Z"
      },
      {
        "duration": 27,
        "start_time": "2023-02-23T10:31:01.907Z"
      },
      {
        "duration": 25,
        "start_time": "2023-02-23T10:31:08.963Z"
      },
      {
        "duration": 13,
        "start_time": "2023-02-23T10:33:33.668Z"
      },
      {
        "duration": 36,
        "start_time": "2023-02-23T10:33:35.722Z"
      },
      {
        "duration": 16,
        "start_time": "2023-02-23T10:33:41.853Z"
      },
      {
        "duration": 250,
        "start_time": "2023-02-23T10:34:56.022Z"
      },
      {
        "duration": 23,
        "start_time": "2023-02-23T10:34:59.954Z"
      },
      {
        "duration": 113,
        "start_time": "2023-02-23T10:35:08.253Z"
      },
      {
        "duration": 5,
        "start_time": "2023-02-23T10:35:11.563Z"
      },
      {
        "duration": 16,
        "start_time": "2023-02-23T10:35:38.013Z"
      },
      {
        "duration": 13,
        "start_time": "2023-02-23T10:35:45.615Z"
      },
      {
        "duration": 11,
        "start_time": "2023-02-23T10:35:59.729Z"
      },
      {
        "duration": 16,
        "start_time": "2023-02-23T10:36:04.204Z"
      },
      {
        "duration": 16,
        "start_time": "2023-02-23T10:36:10.847Z"
      },
      {
        "duration": 342,
        "start_time": "2023-02-23T10:38:31.364Z"
      },
      {
        "duration": 19,
        "start_time": "2023-02-23T10:38:35.973Z"
      },
      {
        "duration": 39,
        "start_time": "2023-02-23T10:38:45.674Z"
      },
      {
        "duration": 28,
        "start_time": "2023-02-23T10:38:57.783Z"
      },
      {
        "duration": 43,
        "start_time": "2023-02-23T10:39:05.513Z"
      },
      {
        "duration": 71,
        "start_time": "2023-02-23T10:39:44.116Z"
      },
      {
        "duration": 1214,
        "start_time": "2023-02-23T10:39:53.892Z"
      },
      {
        "duration": 586,
        "start_time": "2023-02-23T10:39:55.108Z"
      },
      {
        "duration": 38,
        "start_time": "2023-02-23T10:39:55.696Z"
      },
      {
        "duration": 13,
        "start_time": "2023-02-23T10:39:55.737Z"
      },
      {
        "duration": 495,
        "start_time": "2023-02-23T10:39:55.752Z"
      },
      {
        "duration": 60,
        "start_time": "2023-02-23T10:39:56.250Z"
      },
      {
        "duration": 31,
        "start_time": "2023-02-23T10:39:56.314Z"
      },
      {
        "duration": 156,
        "start_time": "2023-02-23T10:39:56.347Z"
      },
      {
        "duration": 72,
        "start_time": "2023-02-23T10:39:56.505Z"
      },
      {
        "duration": 366,
        "start_time": "2023-02-23T10:39:56.580Z"
      },
      {
        "duration": 15,
        "start_time": "2023-02-23T10:39:56.947Z"
      },
      {
        "duration": 10,
        "start_time": "2023-02-23T10:39:56.964Z"
      },
      {
        "duration": 185,
        "start_time": "2023-02-23T10:39:56.976Z"
      },
      {
        "duration": 33,
        "start_time": "2023-02-23T10:39:57.163Z"
      },
      {
        "duration": 106,
        "start_time": "2023-02-23T10:39:57.198Z"
      },
      {
        "duration": 79,
        "start_time": "2023-02-23T10:39:57.307Z"
      },
      {
        "duration": 10,
        "start_time": "2023-02-23T10:39:57.387Z"
      },
      {
        "duration": 778,
        "start_time": "2023-02-23T10:39:57.399Z"
      },
      {
        "duration": 58,
        "start_time": "2023-02-23T10:39:58.180Z"
      },
      {
        "duration": 56,
        "start_time": "2023-02-23T10:40:15.346Z"
      },
      {
        "duration": 165,
        "start_time": "2023-02-23T10:40:22.656Z"
      },
      {
        "duration": 49,
        "start_time": "2023-02-23T10:40:25.416Z"
      },
      {
        "duration": 63,
        "start_time": "2023-02-23T10:40:48.645Z"
      },
      {
        "duration": 16,
        "start_time": "2023-02-23T10:46:26.754Z"
      },
      {
        "duration": 254,
        "start_time": "2023-02-23T10:46:36.604Z"
      },
      {
        "duration": 20,
        "start_time": "2023-02-23T10:46:38.679Z"
      },
      {
        "duration": 29,
        "start_time": "2023-02-23T10:46:54.397Z"
      },
      {
        "duration": 24,
        "start_time": "2023-02-23T10:47:17.014Z"
      },
      {
        "duration": 5,
        "start_time": "2023-02-23T10:47:35.605Z"
      },
      {
        "duration": 7,
        "start_time": "2023-02-23T10:48:02.096Z"
      },
      {
        "duration": 7,
        "start_time": "2023-02-23T10:48:25.176Z"
      },
      {
        "duration": 7,
        "start_time": "2023-02-23T10:48:30.468Z"
      },
      {
        "duration": 5,
        "start_time": "2023-02-23T10:48:43.009Z"
      },
      {
        "duration": 26,
        "start_time": "2023-02-23T10:48:46.638Z"
      },
      {
        "duration": 4,
        "start_time": "2023-02-23T10:51:11.524Z"
      },
      {
        "duration": 28,
        "start_time": "2023-02-23T10:51:45.005Z"
      },
      {
        "duration": 38,
        "start_time": "2023-02-23T10:51:46.867Z"
      },
      {
        "duration": 45,
        "start_time": "2023-02-23T10:51:53.537Z"
      },
      {
        "duration": 68,
        "start_time": "2023-02-23T10:51:59.825Z"
      },
      {
        "duration": 5,
        "start_time": "2023-02-23T10:55:26.715Z"
      },
      {
        "duration": 16,
        "start_time": "2023-02-23T10:55:28.438Z"
      },
      {
        "duration": 16,
        "start_time": "2023-02-23T10:55:45.504Z"
      },
      {
        "duration": 6,
        "start_time": "2023-02-23T10:55:55.545Z"
      },
      {
        "duration": 6,
        "start_time": "2023-02-23T10:56:02.990Z"
      },
      {
        "duration": 6,
        "start_time": "2023-02-23T10:56:17.184Z"
      },
      {
        "duration": 14,
        "start_time": "2023-02-23T10:56:25.945Z"
      },
      {
        "duration": 6,
        "start_time": "2023-02-23T10:56:29.264Z"
      },
      {
        "duration": 44,
        "start_time": "2023-02-23T10:56:38.039Z"
      },
      {
        "duration": 12,
        "start_time": "2023-02-23T10:56:40.646Z"
      },
      {
        "duration": 5,
        "start_time": "2023-02-23T10:56:42.324Z"
      },
      {
        "duration": 55,
        "start_time": "2023-02-23T10:56:46.375Z"
      },
      {
        "duration": 32,
        "start_time": "2023-02-23T10:56:58.865Z"
      },
      {
        "duration": 151,
        "start_time": "2023-02-23T10:57:04.710Z"
      },
      {
        "duration": 4,
        "start_time": "2023-02-23T11:17:38.269Z"
      },
      {
        "duration": 58,
        "start_time": "2023-02-23T11:17:39.807Z"
      },
      {
        "duration": 57,
        "start_time": "2023-02-23T11:17:42.210Z"
      },
      {
        "duration": 700,
        "start_time": "2023-02-23T11:18:07.508Z"
      },
      {
        "duration": 5,
        "start_time": "2023-02-23T11:18:13.979Z"
      },
      {
        "duration": 5,
        "start_time": "2023-02-23T11:18:17.549Z"
      },
      {
        "duration": 6,
        "start_time": "2023-02-23T11:18:27.998Z"
      },
      {
        "duration": 6,
        "start_time": "2023-02-23T11:18:36.648Z"
      },
      {
        "duration": 49,
        "start_time": "2023-02-23T11:18:46.568Z"
      },
      {
        "duration": 43,
        "start_time": "2023-02-23T11:18:52.180Z"
      },
      {
        "duration": 34,
        "start_time": "2023-02-23T11:18:55.498Z"
      },
      {
        "duration": 41,
        "start_time": "2023-02-23T11:19:01.648Z"
      },
      {
        "duration": 32,
        "start_time": "2023-02-23T11:19:10.706Z"
      },
      {
        "duration": 9,
        "start_time": "2023-02-23T11:19:16.230Z"
      },
      {
        "duration": 11,
        "start_time": "2023-02-23T11:20:14.279Z"
      },
      {
        "duration": 12,
        "start_time": "2023-02-23T11:20:26.938Z"
      },
      {
        "duration": 53,
        "start_time": "2023-02-23T11:20:43.899Z"
      },
      {
        "duration": 7,
        "start_time": "2023-02-23T11:20:45.961Z"
      },
      {
        "duration": 14,
        "start_time": "2023-02-23T11:21:13.549Z"
      },
      {
        "duration": 9,
        "start_time": "2023-02-23T11:21:38.359Z"
      },
      {
        "duration": 8,
        "start_time": "2023-02-23T11:21:41.529Z"
      },
      {
        "duration": 8,
        "start_time": "2023-02-23T11:22:17.299Z"
      },
      {
        "duration": 751,
        "start_time": "2023-02-23T11:22:41.152Z"
      },
      {
        "duration": 64,
        "start_time": "2023-02-23T11:22:57.418Z"
      },
      {
        "duration": 8,
        "start_time": "2023-02-23T11:22:59.809Z"
      },
      {
        "duration": 10,
        "start_time": "2023-02-23T11:23:02.019Z"
      },
      {
        "duration": 70,
        "start_time": "2023-02-23T11:23:14.430Z"
      },
      {
        "duration": 10,
        "start_time": "2023-02-23T11:23:15.629Z"
      },
      {
        "duration": 11,
        "start_time": "2023-02-23T11:23:17.880Z"
      },
      {
        "duration": 10,
        "start_time": "2023-02-23T11:23:26.019Z"
      },
      {
        "duration": 16,
        "start_time": "2023-02-23T11:27:25.651Z"
      },
      {
        "duration": 15,
        "start_time": "2023-02-23T12:41:40.678Z"
      },
      {
        "duration": 9,
        "start_time": "2023-02-23T12:42:05.130Z"
      },
      {
        "duration": 12,
        "start_time": "2023-02-23T12:42:48.494Z"
      },
      {
        "duration": 12,
        "start_time": "2023-02-23T12:42:50.279Z"
      },
      {
        "duration": 1296,
        "start_time": "2023-02-23T13:41:12.114Z"
      },
      {
        "duration": 596,
        "start_time": "2023-02-23T13:41:13.413Z"
      },
      {
        "duration": 38,
        "start_time": "2023-02-23T13:41:14.011Z"
      },
      {
        "duration": 11,
        "start_time": "2023-02-23T13:41:14.051Z"
      },
      {
        "duration": 357,
        "start_time": "2023-02-23T13:41:14.065Z"
      },
      {
        "duration": 64,
        "start_time": "2023-02-23T13:41:14.424Z"
      },
      {
        "duration": 22,
        "start_time": "2023-02-23T13:41:14.490Z"
      },
      {
        "duration": 136,
        "start_time": "2023-02-23T13:41:14.527Z"
      },
      {
        "duration": 256,
        "start_time": "2023-02-23T13:41:14.665Z"
      },
      {
        "duration": 18,
        "start_time": "2023-02-23T13:41:14.929Z"
      },
      {
        "duration": 9,
        "start_time": "2023-02-23T13:41:14.949Z"
      },
      {
        "duration": 168,
        "start_time": "2023-02-23T13:41:14.960Z"
      },
      {
        "duration": 27,
        "start_time": "2023-02-23T13:41:15.135Z"
      },
      {
        "duration": 69,
        "start_time": "2023-02-23T13:41:15.166Z"
      },
      {
        "duration": 62,
        "start_time": "2023-02-23T13:41:15.238Z"
      },
      {
        "duration": 10,
        "start_time": "2023-02-23T13:41:15.302Z"
      },
      {
        "duration": 703,
        "start_time": "2023-02-23T13:41:15.314Z"
      },
      {
        "duration": 42,
        "start_time": "2023-02-23T13:41:16.019Z"
      },
      {
        "duration": 157,
        "start_time": "2023-02-23T13:41:16.063Z"
      },
      {
        "duration": 49,
        "start_time": "2023-02-23T13:41:16.222Z"
      },
      {
        "duration": 63,
        "start_time": "2023-02-23T13:41:16.272Z"
      },
      {
        "duration": 38,
        "start_time": "2023-02-23T13:41:16.339Z"
      },
      {
        "duration": 15,
        "start_time": "2023-02-23T13:41:16.379Z"
      },
      {
        "duration": 4,
        "start_time": "2023-02-23T13:50:13.277Z"
      },
      {
        "duration": 1404,
        "start_time": "2023-02-24T10:57:44.084Z"
      },
      {
        "duration": 938,
        "start_time": "2023-02-24T10:57:45.490Z"
      },
      {
        "duration": 26,
        "start_time": "2023-02-24T10:57:46.430Z"
      },
      {
        "duration": 11,
        "start_time": "2023-02-24T10:57:46.457Z"
      },
      {
        "duration": 318,
        "start_time": "2023-02-24T10:57:46.470Z"
      },
      {
        "duration": 49,
        "start_time": "2023-02-24T10:57:46.790Z"
      },
      {
        "duration": 15,
        "start_time": "2023-02-24T10:57:46.840Z"
      },
      {
        "duration": 121,
        "start_time": "2023-02-24T10:57:46.857Z"
      },
      {
        "duration": 210,
        "start_time": "2023-02-24T10:57:46.979Z"
      },
      {
        "duration": 10,
        "start_time": "2023-02-24T10:57:47.191Z"
      },
      {
        "duration": 5,
        "start_time": "2023-02-24T10:57:47.210Z"
      },
      {
        "duration": 158,
        "start_time": "2023-02-24T10:57:47.216Z"
      },
      {
        "duration": 19,
        "start_time": "2023-02-24T10:57:47.375Z"
      },
      {
        "duration": 53,
        "start_time": "2023-02-24T10:57:47.409Z"
      },
      {
        "duration": 55,
        "start_time": "2023-02-24T10:57:47.463Z"
      },
      {
        "duration": 7,
        "start_time": "2023-02-24T10:57:47.520Z"
      },
      {
        "duration": 582,
        "start_time": "2023-02-24T10:57:47.528Z"
      },
      {
        "duration": 26,
        "start_time": "2023-02-24T10:57:48.111Z"
      },
      {
        "duration": 150,
        "start_time": "2023-02-24T10:57:48.138Z"
      },
      {
        "duration": 43,
        "start_time": "2023-02-24T10:57:48.290Z"
      },
      {
        "duration": 7,
        "start_time": "2023-02-24T10:57:48.335Z"
      },
      {
        "duration": 7,
        "start_time": "2023-02-24T10:57:48.343Z"
      },
      {
        "duration": 61,
        "start_time": "2023-02-24T10:57:48.352Z"
      },
      {
        "duration": 116,
        "start_time": "2023-02-24T11:05:03.944Z"
      },
      {
        "duration": 7,
        "start_time": "2023-02-24T11:05:07.458Z"
      },
      {
        "duration": 7,
        "start_time": "2023-02-24T11:05:13.733Z"
      },
      {
        "duration": 7,
        "start_time": "2023-02-24T11:05:18.267Z"
      },
      {
        "duration": 2,
        "start_time": "2023-02-24T11:05:21.034Z"
      },
      {
        "duration": 7,
        "start_time": "2023-02-24T11:05:23.194Z"
      },
      {
        "duration": 9,
        "start_time": "2023-02-24T11:09:18.855Z"
      },
      {
        "duration": 11,
        "start_time": "2023-02-24T11:09:24.109Z"
      },
      {
        "duration": 25,
        "start_time": "2023-02-24T11:11:32.238Z"
      },
      {
        "duration": 15,
        "start_time": "2023-02-24T11:11:45.941Z"
      },
      {
        "duration": 18,
        "start_time": "2023-02-24T11:11:52.547Z"
      },
      {
        "duration": 19,
        "start_time": "2023-02-24T11:11:59.903Z"
      },
      {
        "duration": 18,
        "start_time": "2023-02-24T11:12:28.037Z"
      },
      {
        "duration": 20,
        "start_time": "2023-02-24T11:15:15.535Z"
      },
      {
        "duration": 16,
        "start_time": "2023-02-24T11:15:23.853Z"
      },
      {
        "duration": 11,
        "start_time": "2023-02-24T11:15:48.056Z"
      },
      {
        "duration": 11,
        "start_time": "2023-02-24T11:15:51.343Z"
      },
      {
        "duration": 12,
        "start_time": "2023-02-24T11:16:04.553Z"
      },
      {
        "duration": 19,
        "start_time": "2023-02-24T11:16:30.183Z"
      },
      {
        "duration": 7,
        "start_time": "2023-02-24T11:16:37.484Z"
      },
      {
        "duration": 501,
        "start_time": "2023-02-24T11:16:44.338Z"
      },
      {
        "duration": 16,
        "start_time": "2023-02-24T11:16:57.173Z"
      },
      {
        "duration": 9,
        "start_time": "2023-02-24T11:17:05.779Z"
      },
      {
        "duration": 20,
        "start_time": "2023-02-24T11:17:59.623Z"
      },
      {
        "duration": 10,
        "start_time": "2023-02-24T11:18:24.153Z"
      },
      {
        "duration": 7,
        "start_time": "2023-02-24T11:18:36.924Z"
      },
      {
        "duration": 36,
        "start_time": "2023-02-24T11:19:09.301Z"
      },
      {
        "duration": 12,
        "start_time": "2023-02-24T11:19:10.834Z"
      },
      {
        "duration": 9,
        "start_time": "2023-02-24T11:19:13.804Z"
      },
      {
        "duration": 10,
        "start_time": "2023-02-24T11:19:22.445Z"
      },
      {
        "duration": 5,
        "start_time": "2023-02-24T11:19:40.013Z"
      },
      {
        "duration": 4,
        "start_time": "2023-02-24T11:19:53.704Z"
      },
      {
        "duration": 11,
        "start_time": "2023-02-24T11:19:55.664Z"
      },
      {
        "duration": 4,
        "start_time": "2023-02-24T11:20:02.185Z"
      },
      {
        "duration": 20,
        "start_time": "2023-02-24T11:23:34.583Z"
      },
      {
        "duration": 28,
        "start_time": "2023-02-24T11:30:34.432Z"
      },
      {
        "duration": 8,
        "start_time": "2023-02-24T11:30:49.355Z"
      },
      {
        "duration": 10,
        "start_time": "2023-02-24T11:30:59.552Z"
      },
      {
        "duration": 9,
        "start_time": "2023-02-24T11:31:07.139Z"
      },
      {
        "duration": 9,
        "start_time": "2023-02-24T11:31:13.896Z"
      },
      {
        "duration": 11,
        "start_time": "2023-02-24T11:31:21.788Z"
      },
      {
        "duration": 4,
        "start_time": "2023-02-24T11:32:37.529Z"
      },
      {
        "duration": 12,
        "start_time": "2023-02-24T11:32:46.785Z"
      },
      {
        "duration": 27,
        "start_time": "2023-02-24T11:33:02.497Z"
      },
      {
        "duration": 33,
        "start_time": "2023-02-24T11:33:30.116Z"
      },
      {
        "duration": 1175,
        "start_time": "2023-02-24T11:33:58.667Z"
      },
      {
        "duration": 538,
        "start_time": "2023-02-24T11:33:59.844Z"
      },
      {
        "duration": 28,
        "start_time": "2023-02-24T11:34:00.384Z"
      },
      {
        "duration": 10,
        "start_time": "2023-02-24T11:34:00.414Z"
      },
      {
        "duration": 298,
        "start_time": "2023-02-24T11:34:00.427Z"
      },
      {
        "duration": 44,
        "start_time": "2023-02-24T11:34:00.727Z"
      },
      {
        "duration": 37,
        "start_time": "2023-02-24T11:34:00.772Z"
      },
      {
        "duration": 123,
        "start_time": "2023-02-24T11:34:00.811Z"
      },
      {
        "duration": 263,
        "start_time": "2023-02-24T11:34:00.936Z"
      },
      {
        "duration": 18,
        "start_time": "2023-02-24T11:34:01.201Z"
      },
      {
        "duration": 23,
        "start_time": "2023-02-24T11:34:01.222Z"
      },
      {
        "duration": 251,
        "start_time": "2023-02-24T11:34:01.248Z"
      },
      {
        "duration": 27,
        "start_time": "2023-02-24T11:34:01.500Z"
      },
      {
        "duration": 53,
        "start_time": "2023-02-24T11:34:01.530Z"
      },
      {
        "duration": 0,
        "start_time": "2023-02-24T11:34:01.585Z"
      },
      {
        "duration": 0,
        "start_time": "2023-02-24T11:34:01.586Z"
      },
      {
        "duration": 0,
        "start_time": "2023-02-24T11:34:01.587Z"
      },
      {
        "duration": 0,
        "start_time": "2023-02-24T11:34:01.588Z"
      },
      {
        "duration": 0,
        "start_time": "2023-02-24T11:34:01.589Z"
      },
      {
        "duration": 0,
        "start_time": "2023-02-24T11:34:01.590Z"
      },
      {
        "duration": 0,
        "start_time": "2023-02-24T11:34:01.592Z"
      },
      {
        "duration": 0,
        "start_time": "2023-02-24T11:34:01.593Z"
      },
      {
        "duration": 0,
        "start_time": "2023-02-24T11:34:01.595Z"
      },
      {
        "duration": 0,
        "start_time": "2023-02-24T11:34:01.596Z"
      },
      {
        "duration": 0,
        "start_time": "2023-02-24T11:34:01.598Z"
      },
      {
        "duration": 0,
        "start_time": "2023-02-24T11:34:01.599Z"
      },
      {
        "duration": 0,
        "start_time": "2023-02-24T11:34:01.601Z"
      },
      {
        "duration": 0,
        "start_time": "2023-02-24T11:34:01.602Z"
      },
      {
        "duration": 0,
        "start_time": "2023-02-24T11:34:01.604Z"
      },
      {
        "duration": 13,
        "start_time": "2023-02-24T11:34:20.945Z"
      },
      {
        "duration": 26,
        "start_time": "2023-02-24T11:34:24.344Z"
      },
      {
        "duration": 59,
        "start_time": "2023-02-24T11:34:24.505Z"
      },
      {
        "duration": 20,
        "start_time": "2023-02-24T11:34:25.379Z"
      },
      {
        "duration": 5,
        "start_time": "2023-02-24T11:34:25.834Z"
      },
      {
        "duration": 605,
        "start_time": "2023-02-24T11:34:25.998Z"
      },
      {
        "duration": 22,
        "start_time": "2023-02-24T11:34:26.605Z"
      },
      {
        "duration": 177,
        "start_time": "2023-02-24T11:34:26.851Z"
      },
      {
        "duration": 22,
        "start_time": "2023-02-24T11:34:27.336Z"
      },
      {
        "duration": 8,
        "start_time": "2023-02-24T11:34:27.492Z"
      },
      {
        "duration": 8,
        "start_time": "2023-02-24T11:34:27.656Z"
      },
      {
        "duration": 11,
        "start_time": "2023-02-24T11:34:27.819Z"
      },
      {
        "duration": 11,
        "start_time": "2023-02-24T11:34:28.859Z"
      },
      {
        "duration": 4,
        "start_time": "2023-02-24T11:34:29.427Z"
      },
      {
        "duration": 5,
        "start_time": "2023-02-24T11:34:29.620Z"
      },
      {
        "duration": 5,
        "start_time": "2023-02-24T11:34:29.772Z"
      },
      {
        "duration": 27,
        "start_time": "2023-02-24T11:34:52.979Z"
      },
      {
        "duration": 29,
        "start_time": "2023-02-24T11:35:04.788Z"
      },
      {
        "duration": 843,
        "start_time": "2023-02-24T11:38:25.419Z"
      },
      {
        "duration": 6,
        "start_time": "2023-02-24T11:38:36.188Z"
      },
      {
        "duration": 5,
        "start_time": "2023-02-24T11:38:42.627Z"
      },
      {
        "duration": 5,
        "start_time": "2023-02-24T11:40:16.572Z"
      },
      {
        "duration": 5,
        "start_time": "2023-02-24T11:40:22.995Z"
      },
      {
        "duration": 51,
        "start_time": "2023-02-24T11:40:39.097Z"
      },
      {
        "duration": 6,
        "start_time": "2023-02-24T11:40:45.772Z"
      },
      {
        "duration": 6,
        "start_time": "2023-02-24T11:40:50.291Z"
      },
      {
        "duration": 5,
        "start_time": "2023-02-24T11:40:56.380Z"
      },
      {
        "duration": 9,
        "start_time": "2023-02-24T11:42:06.357Z"
      },
      {
        "duration": 9,
        "start_time": "2023-02-24T11:42:28.507Z"
      },
      {
        "duration": 9,
        "start_time": "2023-02-24T11:42:59.388Z"
      },
      {
        "duration": 1175,
        "start_time": "2023-02-24T12:02:44.845Z"
      },
      {
        "duration": 536,
        "start_time": "2023-02-24T12:02:46.022Z"
      },
      {
        "duration": 38,
        "start_time": "2023-02-24T12:02:46.560Z"
      },
      {
        "duration": 15,
        "start_time": "2023-02-24T12:02:46.601Z"
      },
      {
        "duration": 333,
        "start_time": "2023-02-24T12:02:46.619Z"
      },
      {
        "duration": 56,
        "start_time": "2023-02-24T12:02:46.954Z"
      },
      {
        "duration": 18,
        "start_time": "2023-02-24T12:02:47.012Z"
      },
      {
        "duration": 152,
        "start_time": "2023-02-24T12:02:47.032Z"
      },
      {
        "duration": 260,
        "start_time": "2023-02-24T12:02:47.186Z"
      },
      {
        "duration": 10,
        "start_time": "2023-02-24T12:02:47.449Z"
      },
      {
        "duration": 11,
        "start_time": "2023-02-24T12:02:47.461Z"
      },
      {
        "duration": 160,
        "start_time": "2023-02-24T12:02:47.473Z"
      },
      {
        "duration": 20,
        "start_time": "2023-02-24T12:02:47.635Z"
      },
      {
        "duration": 11,
        "start_time": "2023-02-24T12:02:47.657Z"
      },
      {
        "duration": 64,
        "start_time": "2023-02-24T12:02:47.670Z"
      },
      {
        "duration": 21,
        "start_time": "2023-02-24T12:02:47.735Z"
      },
      {
        "duration": 6,
        "start_time": "2023-02-24T12:02:47.758Z"
      },
      {
        "duration": 625,
        "start_time": "2023-02-24T12:02:47.765Z"
      },
      {
        "duration": 22,
        "start_time": "2023-02-24T12:02:48.391Z"
      },
      {
        "duration": 132,
        "start_time": "2023-02-24T12:02:48.415Z"
      },
      {
        "duration": 22,
        "start_time": "2023-02-24T12:02:48.549Z"
      },
      {
        "duration": 8,
        "start_time": "2023-02-24T12:02:48.572Z"
      },
      {
        "duration": 7,
        "start_time": "2023-02-24T12:02:48.610Z"
      },
      {
        "duration": 14,
        "start_time": "2023-02-24T12:02:48.618Z"
      },
      {
        "duration": 10,
        "start_time": "2023-02-24T12:02:48.634Z"
      },
      {
        "duration": 8,
        "start_time": "2023-02-24T12:02:48.646Z"
      },
      {
        "duration": 8,
        "start_time": "2023-02-24T12:02:48.710Z"
      },
      {
        "duration": 1270,
        "start_time": "2023-02-24T12:56:55.055Z"
      },
      {
        "duration": 1909,
        "start_time": "2023-02-24T12:56:56.327Z"
      },
      {
        "duration": 30,
        "start_time": "2023-02-24T12:56:58.238Z"
      },
      {
        "duration": 12,
        "start_time": "2023-02-24T12:56:58.270Z"
      },
      {
        "duration": 360,
        "start_time": "2023-02-24T12:56:58.284Z"
      },
      {
        "duration": 45,
        "start_time": "2023-02-24T12:56:58.646Z"
      },
      {
        "duration": 18,
        "start_time": "2023-02-24T12:56:58.693Z"
      },
      {
        "duration": 137,
        "start_time": "2023-02-24T12:56:58.713Z"
      },
      {
        "duration": 238,
        "start_time": "2023-02-24T12:56:58.852Z"
      },
      {
        "duration": 11,
        "start_time": "2023-02-24T12:56:59.091Z"
      },
      {
        "duration": 14,
        "start_time": "2023-02-24T12:56:59.103Z"
      },
      {
        "duration": 157,
        "start_time": "2023-02-24T12:56:59.119Z"
      },
      {
        "duration": 20,
        "start_time": "2023-02-24T12:56:59.278Z"
      },
      {
        "duration": 24,
        "start_time": "2023-02-24T12:56:59.300Z"
      },
      {
        "duration": 56,
        "start_time": "2023-02-24T12:56:59.326Z"
      },
      {
        "duration": 20,
        "start_time": "2023-02-24T12:56:59.383Z"
      },
      {
        "duration": 9,
        "start_time": "2023-02-24T12:56:59.405Z"
      },
      {
        "duration": 654,
        "start_time": "2023-02-24T12:56:59.416Z"
      },
      {
        "duration": 17,
        "start_time": "2023-02-24T12:57:00.072Z"
      },
      {
        "duration": 366,
        "start_time": "2023-02-24T12:57:00.090Z"
      },
      {
        "duration": 24,
        "start_time": "2023-02-24T12:57:00.458Z"
      },
      {
        "duration": 57,
        "start_time": "2023-02-24T12:57:00.484Z"
      },
      {
        "duration": 37,
        "start_time": "2023-02-24T12:57:00.543Z"
      },
      {
        "duration": 45,
        "start_time": "2023-02-24T12:57:00.582Z"
      },
      {
        "duration": 29,
        "start_time": "2023-02-24T12:57:00.628Z"
      },
      {
        "duration": 22,
        "start_time": "2023-02-24T12:57:00.658Z"
      },
      {
        "duration": 49,
        "start_time": "2023-02-24T12:57:00.681Z"
      },
      {
        "duration": 11,
        "start_time": "2023-02-24T13:06:56.359Z"
      },
      {
        "duration": 14,
        "start_time": "2023-02-24T13:07:16.087Z"
      },
      {
        "duration": 20,
        "start_time": "2023-02-24T13:08:57.728Z"
      },
      {
        "duration": 7,
        "start_time": "2023-02-24T13:09:05.331Z"
      },
      {
        "duration": 10,
        "start_time": "2023-02-24T13:13:20.569Z"
      },
      {
        "duration": 10,
        "start_time": "2023-02-24T13:13:27.408Z"
      },
      {
        "duration": 58,
        "start_time": "2023-02-24T13:30:42.186Z"
      },
      {
        "duration": 1380,
        "start_time": "2023-02-24T13:30:47.506Z"
      },
      {
        "duration": 2123,
        "start_time": "2023-02-24T13:30:48.888Z"
      },
      {
        "duration": 28,
        "start_time": "2023-02-24T13:30:51.013Z"
      },
      {
        "duration": 12,
        "start_time": "2023-02-24T13:30:51.043Z"
      },
      {
        "duration": 331,
        "start_time": "2023-02-24T13:30:51.057Z"
      },
      {
        "duration": 47,
        "start_time": "2023-02-24T13:30:51.395Z"
      },
      {
        "duration": 18,
        "start_time": "2023-02-24T13:30:51.443Z"
      },
      {
        "duration": 144,
        "start_time": "2023-02-24T13:30:51.463Z"
      },
      {
        "duration": 15,
        "start_time": "2023-02-24T13:30:51.609Z"
      },
      {
        "duration": 256,
        "start_time": "2023-02-24T13:30:51.628Z"
      },
      {
        "duration": 19,
        "start_time": "2023-02-24T13:30:51.886Z"
      },
      {
        "duration": 27,
        "start_time": "2023-02-24T13:30:51.907Z"
      },
      {
        "duration": 151,
        "start_time": "2023-02-24T13:30:51.936Z"
      },
      {
        "duration": 26,
        "start_time": "2023-02-24T13:30:52.089Z"
      },
      {
        "duration": 11,
        "start_time": "2023-02-24T13:30:52.116Z"
      },
      {
        "duration": 40,
        "start_time": "2023-02-24T13:30:52.128Z"
      },
      {
        "duration": 43,
        "start_time": "2023-02-24T13:30:52.170Z"
      },
      {
        "duration": 7,
        "start_time": "2023-02-24T13:30:52.215Z"
      },
      {
        "duration": 616,
        "start_time": "2023-02-24T13:30:52.224Z"
      },
      {
        "duration": 16,
        "start_time": "2023-02-24T13:30:52.842Z"
      },
      {
        "duration": 189,
        "start_time": "2023-02-24T13:30:52.860Z"
      },
      {
        "duration": 22,
        "start_time": "2023-02-24T13:30:53.051Z"
      },
      {
        "duration": 11,
        "start_time": "2023-02-24T13:30:53.074Z"
      },
      {
        "duration": 20,
        "start_time": "2023-02-24T13:30:53.087Z"
      },
      {
        "duration": 12,
        "start_time": "2023-02-24T13:30:53.108Z"
      },
      {
        "duration": 14,
        "start_time": "2023-02-24T13:30:53.122Z"
      },
      {
        "duration": 57,
        "start_time": "2023-02-24T13:30:53.138Z"
      },
      {
        "duration": 11,
        "start_time": "2023-02-24T13:30:53.207Z"
      },
      {
        "duration": 19,
        "start_time": "2023-02-24T13:32:54.389Z"
      },
      {
        "duration": 10,
        "start_time": "2023-02-24T13:33:04.729Z"
      },
      {
        "duration": 12,
        "start_time": "2023-02-24T13:33:16.234Z"
      },
      {
        "duration": 5,
        "start_time": "2023-02-24T13:33:28.939Z"
      },
      {
        "duration": 8,
        "start_time": "2023-02-24T13:33:50.678Z"
      },
      {
        "duration": 5,
        "start_time": "2023-02-24T13:33:58.637Z"
      },
      {
        "duration": 15,
        "start_time": "2023-02-24T13:34:16.034Z"
      },
      {
        "duration": 18,
        "start_time": "2023-02-24T13:39:58.117Z"
      },
      {
        "duration": 9,
        "start_time": "2023-02-24T13:40:04.780Z"
      },
      {
        "duration": 20,
        "start_time": "2023-02-24T13:40:11.140Z"
      },
      {
        "duration": 226,
        "start_time": "2023-02-24T13:40:24.843Z"
      },
      {
        "duration": 248,
        "start_time": "2023-02-24T13:40:42.131Z"
      },
      {
        "duration": 122,
        "start_time": "2023-02-24T13:46:17.263Z"
      },
      {
        "duration": 20,
        "start_time": "2023-02-24T13:46:24.718Z"
      },
      {
        "duration": 6,
        "start_time": "2023-02-24T13:46:38.033Z"
      },
      {
        "duration": 5,
        "start_time": "2023-02-24T13:46:43.820Z"
      },
      {
        "duration": 7,
        "start_time": "2023-02-24T13:47:14.681Z"
      },
      {
        "duration": 9,
        "start_time": "2023-02-24T13:47:19.760Z"
      },
      {
        "duration": 15,
        "start_time": "2023-02-24T13:47:25.231Z"
      },
      {
        "duration": 18,
        "start_time": "2023-02-24T13:48:02.218Z"
      },
      {
        "duration": 31,
        "start_time": "2023-02-24T13:48:23.151Z"
      },
      {
        "duration": 20,
        "start_time": "2023-02-24T13:48:33.252Z"
      },
      {
        "duration": 12,
        "start_time": "2023-02-24T13:49:04.141Z"
      },
      {
        "duration": 231,
        "start_time": "2023-02-24T13:49:15.807Z"
      },
      {
        "duration": 26,
        "start_time": "2023-02-24T14:01:50.262Z"
      },
      {
        "duration": 13,
        "start_time": "2023-02-24T14:05:28.398Z"
      },
      {
        "duration": 21,
        "start_time": "2023-02-24T14:05:31.756Z"
      },
      {
        "duration": 5,
        "start_time": "2023-02-24T14:06:41.296Z"
      },
      {
        "duration": 17,
        "start_time": "2023-02-24T14:06:47.169Z"
      },
      {
        "duration": 880,
        "start_time": "2023-02-24T14:06:58.776Z"
      },
      {
        "duration": 19,
        "start_time": "2023-02-24T14:07:30.347Z"
      },
      {
        "duration": 13,
        "start_time": "2023-02-24T14:07:50.899Z"
      },
      {
        "duration": 20,
        "start_time": "2023-02-24T14:08:23.364Z"
      },
      {
        "duration": 21,
        "start_time": "2023-02-24T14:08:40.268Z"
      },
      {
        "duration": 22,
        "start_time": "2023-02-24T14:08:44.093Z"
      },
      {
        "duration": 26,
        "start_time": "2023-02-24T14:08:56.117Z"
      },
      {
        "duration": 29,
        "start_time": "2023-02-24T14:08:59.095Z"
      },
      {
        "duration": 20,
        "start_time": "2023-02-24T14:09:12.565Z"
      },
      {
        "duration": 20,
        "start_time": "2023-02-24T14:09:19.725Z"
      },
      {
        "duration": 19,
        "start_time": "2023-02-24T14:09:25.471Z"
      },
      {
        "duration": 20,
        "start_time": "2023-02-24T14:09:30.447Z"
      },
      {
        "duration": 19,
        "start_time": "2023-02-24T14:09:37.430Z"
      },
      {
        "duration": 4,
        "start_time": "2023-02-24T14:09:54.382Z"
      },
      {
        "duration": 5,
        "start_time": "2023-02-24T14:10:58.664Z"
      },
      {
        "duration": 26,
        "start_time": "2023-02-24T14:13:29.217Z"
      },
      {
        "duration": 121,
        "start_time": "2023-02-24T14:13:37.123Z"
      },
      {
        "duration": 26,
        "start_time": "2023-02-24T14:13:48.671Z"
      },
      {
        "duration": 22,
        "start_time": "2023-02-24T14:13:59.912Z"
      },
      {
        "duration": 21,
        "start_time": "2023-02-24T14:14:06.783Z"
      },
      {
        "duration": 20,
        "start_time": "2023-02-24T14:14:09.710Z"
      },
      {
        "duration": 19,
        "start_time": "2023-02-24T14:14:12.272Z"
      },
      {
        "duration": 18,
        "start_time": "2023-02-24T14:14:20.847Z"
      },
      {
        "duration": 32,
        "start_time": "2023-02-24T14:14:34.793Z"
      },
      {
        "duration": 22,
        "start_time": "2023-02-24T14:14:37.272Z"
      },
      {
        "duration": 28,
        "start_time": "2023-02-24T14:14:45.485Z"
      },
      {
        "duration": 7,
        "start_time": "2023-02-24T14:18:44.265Z"
      },
      {
        "duration": 11,
        "start_time": "2023-02-24T14:18:50.213Z"
      },
      {
        "duration": 42,
        "start_time": "2023-02-24T14:19:11.181Z"
      },
      {
        "duration": 1318,
        "start_time": "2023-02-24T14:19:22.425Z"
      },
      {
        "duration": 612,
        "start_time": "2023-02-24T14:19:23.745Z"
      },
      {
        "duration": 25,
        "start_time": "2023-02-24T14:19:24.358Z"
      },
      {
        "duration": 18,
        "start_time": "2023-02-24T14:19:24.384Z"
      },
      {
        "duration": 373,
        "start_time": "2023-02-24T14:19:24.405Z"
      },
      {
        "duration": 61,
        "start_time": "2023-02-24T14:19:24.780Z"
      },
      {
        "duration": 17,
        "start_time": "2023-02-24T14:19:24.843Z"
      },
      {
        "duration": 156,
        "start_time": "2023-02-24T14:19:24.862Z"
      },
      {
        "duration": 12,
        "start_time": "2023-02-24T14:19:25.020Z"
      },
      {
        "duration": 282,
        "start_time": "2023-02-24T14:19:25.034Z"
      },
      {
        "duration": 16,
        "start_time": "2023-02-24T14:19:25.318Z"
      },
      {
        "duration": 11,
        "start_time": "2023-02-24T14:19:25.336Z"
      },
      {
        "duration": 188,
        "start_time": "2023-02-24T14:19:25.348Z"
      },
      {
        "duration": 29,
        "start_time": "2023-02-24T14:19:25.539Z"
      },
      {
        "duration": 49,
        "start_time": "2023-02-24T14:19:25.570Z"
      },
      {
        "duration": 46,
        "start_time": "2023-02-24T14:19:25.622Z"
      },
      {
        "duration": 6,
        "start_time": "2023-02-24T14:19:25.670Z"
      },
      {
        "duration": 17,
        "start_time": "2023-02-24T14:19:25.678Z"
      },
      {
        "duration": 31,
        "start_time": "2023-02-24T14:19:25.696Z"
      },
      {
        "duration": 781,
        "start_time": "2023-02-24T14:19:25.732Z"
      },
      {
        "duration": 23,
        "start_time": "2023-02-24T14:19:26.524Z"
      },
      {
        "duration": 169,
        "start_time": "2023-02-24T14:19:26.549Z"
      },
      {
        "duration": 20,
        "start_time": "2023-02-24T14:19:26.723Z"
      },
      {
        "duration": 7,
        "start_time": "2023-02-24T14:19:26.745Z"
      },
      {
        "duration": 9,
        "start_time": "2023-02-24T14:19:26.754Z"
      },
      {
        "duration": 69,
        "start_time": "2023-02-24T14:19:26.765Z"
      },
      {
        "duration": 16,
        "start_time": "2023-02-24T14:19:26.836Z"
      },
      {
        "duration": 53,
        "start_time": "2023-02-24T14:19:26.854Z"
      },
      {
        "duration": 28,
        "start_time": "2023-02-24T14:19:26.909Z"
      },
      {
        "duration": 35,
        "start_time": "2023-02-24T14:20:14.086Z"
      },
      {
        "duration": 123,
        "start_time": "2023-02-24T14:23:20.517Z"
      },
      {
        "duration": 84,
        "start_time": "2023-02-24T14:23:35.637Z"
      },
      {
        "duration": 78,
        "start_time": "2023-02-24T14:23:43.287Z"
      },
      {
        "duration": 9,
        "start_time": "2023-02-24T14:24:03.531Z"
      },
      {
        "duration": 14,
        "start_time": "2023-02-24T14:24:07.548Z"
      },
      {
        "duration": 18,
        "start_time": "2023-02-24T14:24:18.771Z"
      },
      {
        "duration": 17,
        "start_time": "2023-02-24T14:24:22.068Z"
      },
      {
        "duration": 20,
        "start_time": "2023-02-24T14:24:24.527Z"
      },
      {
        "duration": 12,
        "start_time": "2023-02-24T14:24:32.275Z"
      },
      {
        "duration": 20,
        "start_time": "2023-02-24T14:25:13.212Z"
      },
      {
        "duration": 17,
        "start_time": "2023-02-24T14:25:15.230Z"
      },
      {
        "duration": 22,
        "start_time": "2023-02-24T14:25:22.793Z"
      },
      {
        "duration": 5,
        "start_time": "2023-02-24T14:25:41.921Z"
      },
      {
        "duration": 27,
        "start_time": "2023-02-24T14:26:23.924Z"
      },
      {
        "duration": 22,
        "start_time": "2023-02-24T14:26:30.989Z"
      },
      {
        "duration": 15,
        "start_time": "2023-02-24T14:26:52.777Z"
      },
      {
        "duration": 49,
        "start_time": "2023-02-24T14:26:55.189Z"
      },
      {
        "duration": 14,
        "start_time": "2023-02-24T14:29:19.618Z"
      },
      {
        "duration": 20,
        "start_time": "2023-02-24T14:29:24.021Z"
      },
      {
        "duration": 11,
        "start_time": "2023-02-24T14:29:46.461Z"
      },
      {
        "duration": 25,
        "start_time": "2023-02-24T14:29:50.019Z"
      },
      {
        "duration": 20,
        "start_time": "2023-02-24T14:30:19.789Z"
      },
      {
        "duration": 14,
        "start_time": "2023-02-24T14:30:21.921Z"
      },
      {
        "duration": 17,
        "start_time": "2023-02-24T14:30:23.986Z"
      },
      {
        "duration": 13,
        "start_time": "2023-02-24T14:30:26.775Z"
      },
      {
        "duration": 94,
        "start_time": "2023-02-24T14:34:07.632Z"
      },
      {
        "duration": 438,
        "start_time": "2023-02-24T14:34:10.374Z"
      },
      {
        "duration": 90,
        "start_time": "2023-02-24T14:34:15.004Z"
      },
      {
        "duration": 88,
        "start_time": "2023-02-24T14:34:29.492Z"
      },
      {
        "duration": 205,
        "start_time": "2023-02-24T14:34:35.660Z"
      },
      {
        "duration": 89,
        "start_time": "2023-02-24T14:34:42.785Z"
      },
      {
        "duration": 6,
        "start_time": "2023-02-24T14:35:21.859Z"
      },
      {
        "duration": 117,
        "start_time": "2023-02-24T14:35:33.990Z"
      },
      {
        "duration": 105,
        "start_time": "2023-02-24T14:35:50.639Z"
      },
      {
        "duration": 118,
        "start_time": "2023-02-24T14:35:53.843Z"
      },
      {
        "duration": 72,
        "start_time": "2023-02-24T14:36:10.879Z"
      },
      {
        "duration": 72,
        "start_time": "2023-02-24T14:42:18.252Z"
      },
      {
        "duration": 13,
        "start_time": "2023-02-24T14:42:24.624Z"
      },
      {
        "duration": 23,
        "start_time": "2023-02-24T14:42:37.350Z"
      },
      {
        "duration": 11,
        "start_time": "2023-02-24T14:42:46.840Z"
      },
      {
        "duration": 26,
        "start_time": "2023-02-24T14:42:49.755Z"
      },
      {
        "duration": 13,
        "start_time": "2023-02-24T14:43:44.013Z"
      },
      {
        "duration": 38,
        "start_time": "2023-02-24T14:43:47.226Z"
      },
      {
        "duration": 13,
        "start_time": "2023-02-24T14:43:53.915Z"
      },
      {
        "duration": 35,
        "start_time": "2023-02-24T14:43:59.280Z"
      },
      {
        "duration": 23,
        "start_time": "2023-02-24T14:44:13.319Z"
      },
      {
        "duration": 566,
        "start_time": "2023-02-24T14:44:21.382Z"
      },
      {
        "duration": 1359,
        "start_time": "2023-02-24T14:44:27.050Z"
      },
      {
        "duration": 912,
        "start_time": "2023-02-24T14:44:28.411Z"
      },
      {
        "duration": 33,
        "start_time": "2023-02-24T14:44:29.327Z"
      },
      {
        "duration": 11,
        "start_time": "2023-02-24T14:44:29.362Z"
      },
      {
        "duration": 384,
        "start_time": "2023-02-24T14:44:29.375Z"
      },
      {
        "duration": 59,
        "start_time": "2023-02-24T14:44:29.761Z"
      },
      {
        "duration": 17,
        "start_time": "2023-02-24T14:44:29.822Z"
      },
      {
        "duration": 135,
        "start_time": "2023-02-24T14:44:29.841Z"
      },
      {
        "duration": 23,
        "start_time": "2023-02-24T14:44:29.978Z"
      },
      {
        "duration": 291,
        "start_time": "2023-02-24T14:44:30.003Z"
      },
      {
        "duration": 15,
        "start_time": "2023-02-24T14:44:30.296Z"
      },
      {
        "duration": 34,
        "start_time": "2023-02-24T14:44:30.313Z"
      },
      {
        "duration": 178,
        "start_time": "2023-02-24T14:44:30.349Z"
      },
      {
        "duration": 20,
        "start_time": "2023-02-24T14:44:30.529Z"
      },
      {
        "duration": 65,
        "start_time": "2023-02-24T14:44:30.552Z"
      },
      {
        "duration": 92,
        "start_time": "2023-02-24T14:44:30.619Z"
      },
      {
        "duration": 120,
        "start_time": "2023-02-24T14:44:30.713Z"
      },
      {
        "duration": 18,
        "start_time": "2023-02-24T14:44:30.836Z"
      },
      {
        "duration": 698,
        "start_time": "2023-02-24T14:44:30.856Z"
      },
      {
        "duration": 37,
        "start_time": "2023-02-24T14:44:31.556Z"
      },
      {
        "duration": 21,
        "start_time": "2023-02-24T14:44:31.594Z"
      },
      {
        "duration": 165,
        "start_time": "2023-02-24T14:44:31.617Z"
      },
      {
        "duration": 26,
        "start_time": "2023-02-24T14:44:31.784Z"
      },
      {
        "duration": 24,
        "start_time": "2023-02-24T14:44:31.812Z"
      },
      {
        "duration": 9,
        "start_time": "2023-02-24T14:44:31.837Z"
      },
      {
        "duration": 76,
        "start_time": "2023-02-24T14:44:31.848Z"
      },
      {
        "duration": 26,
        "start_time": "2023-02-24T14:44:31.926Z"
      },
      {
        "duration": 44,
        "start_time": "2023-02-24T14:44:31.954Z"
      },
      {
        "duration": 34,
        "start_time": "2023-02-24T14:44:32.000Z"
      },
      {
        "duration": 61,
        "start_time": "2023-02-24T14:44:54.984Z"
      },
      {
        "duration": 22,
        "start_time": "2023-02-24T14:44:57.826Z"
      },
      {
        "duration": 14,
        "start_time": "2023-02-24T14:45:17.515Z"
      },
      {
        "duration": 12,
        "start_time": "2023-02-24T14:45:22.420Z"
      },
      {
        "duration": 24,
        "start_time": "2023-02-24T14:45:26.484Z"
      },
      {
        "duration": 11,
        "start_time": "2023-02-24T14:45:33.617Z"
      },
      {
        "duration": 12,
        "start_time": "2023-02-24T14:45:35.928Z"
      },
      {
        "duration": 155,
        "start_time": "2023-02-24T14:46:06.677Z"
      },
      {
        "duration": 12,
        "start_time": "2023-02-24T14:46:09.220Z"
      },
      {
        "duration": 33,
        "start_time": "2023-02-24T14:47:13.387Z"
      },
      {
        "duration": 15,
        "start_time": "2023-02-24T14:48:16.030Z"
      },
      {
        "duration": 30,
        "start_time": "2023-02-24T14:48:29.719Z"
      },
      {
        "duration": 27,
        "start_time": "2023-02-24T14:49:04.742Z"
      },
      {
        "duration": 10,
        "start_time": "2023-02-24T14:49:13.929Z"
      },
      {
        "duration": 15,
        "start_time": "2023-02-24T14:50:53.537Z"
      },
      {
        "duration": 18,
        "start_time": "2023-02-24T14:51:20.470Z"
      },
      {
        "duration": 24,
        "start_time": "2023-02-24T14:51:22.905Z"
      },
      {
        "duration": 11,
        "start_time": "2023-02-24T14:52:06.938Z"
      },
      {
        "duration": 153,
        "start_time": "2023-02-24T14:52:12.117Z"
      },
      {
        "duration": 11,
        "start_time": "2023-02-24T14:52:17.760Z"
      },
      {
        "duration": 17,
        "start_time": "2023-02-24T14:52:21.957Z"
      },
      {
        "duration": 104,
        "start_time": "2023-02-24T14:53:04.736Z"
      },
      {
        "duration": 14,
        "start_time": "2023-02-24T14:53:09.620Z"
      },
      {
        "duration": 22,
        "start_time": "2023-02-24T14:53:13.113Z"
      },
      {
        "duration": 16,
        "start_time": "2023-02-24T14:54:19.167Z"
      },
      {
        "duration": 14,
        "start_time": "2023-02-24T14:54:29.128Z"
      },
      {
        "duration": 10,
        "start_time": "2023-02-24T14:54:47.321Z"
      },
      {
        "duration": 12,
        "start_time": "2023-02-24T14:54:54.029Z"
      },
      {
        "duration": 13,
        "start_time": "2023-02-24T14:54:58.858Z"
      },
      {
        "duration": 9,
        "start_time": "2023-02-24T14:55:05.138Z"
      },
      {
        "duration": 13,
        "start_time": "2023-02-24T14:55:10.859Z"
      },
      {
        "duration": 12,
        "start_time": "2023-02-24T14:55:13.119Z"
      },
      {
        "duration": 94,
        "start_time": "2023-02-24T14:55:37.621Z"
      },
      {
        "duration": 14,
        "start_time": "2023-02-24T14:55:40.239Z"
      },
      {
        "duration": 12,
        "start_time": "2023-02-24T14:55:58.048Z"
      },
      {
        "duration": 22,
        "start_time": "2023-02-24T14:56:01.609Z"
      },
      {
        "duration": 22,
        "start_time": "2023-02-24T14:56:04.936Z"
      },
      {
        "duration": 9,
        "start_time": "2023-02-24T14:57:53.173Z"
      },
      {
        "duration": 11,
        "start_time": "2023-02-24T15:00:07.414Z"
      },
      {
        "duration": 1595,
        "start_time": "2023-02-24T15:00:18.159Z"
      },
      {
        "duration": 14,
        "start_time": "2023-02-24T15:00:26.017Z"
      },
      {
        "duration": 7,
        "start_time": "2023-02-24T15:01:06.034Z"
      },
      {
        "duration": 7,
        "start_time": "2023-02-24T15:01:08.350Z"
      },
      {
        "duration": 24,
        "start_time": "2023-02-24T15:01:10.714Z"
      },
      {
        "duration": 132,
        "start_time": "2023-02-24T15:02:01.624Z"
      },
      {
        "duration": 9,
        "start_time": "2023-02-24T15:02:04.781Z"
      },
      {
        "duration": 1453,
        "start_time": "2023-02-24T15:02:11.781Z"
      },
      {
        "duration": 22,
        "start_time": "2023-02-24T15:02:14.405Z"
      },
      {
        "duration": 11,
        "start_time": "2023-02-24T15:05:24.930Z"
      },
      {
        "duration": 15,
        "start_time": "2023-02-24T15:05:27.889Z"
      },
      {
        "duration": 12,
        "start_time": "2023-02-24T15:05:33.662Z"
      },
      {
        "duration": 13,
        "start_time": "2023-02-24T15:05:37.461Z"
      },
      {
        "duration": 10,
        "start_time": "2023-02-24T15:05:42.372Z"
      },
      {
        "duration": 86,
        "start_time": "2023-02-24T15:05:48.739Z"
      },
      {
        "duration": 24,
        "start_time": "2023-02-24T15:05:51.282Z"
      },
      {
        "duration": 10,
        "start_time": "2023-02-24T15:07:57.962Z"
      },
      {
        "duration": 12,
        "start_time": "2023-02-24T15:08:18.806Z"
      },
      {
        "duration": 14,
        "start_time": "2023-02-24T15:08:29.685Z"
      },
      {
        "duration": 1277,
        "start_time": "2023-02-24T15:08:40.890Z"
      },
      {
        "duration": 680,
        "start_time": "2023-02-24T15:08:42.169Z"
      },
      {
        "duration": 29,
        "start_time": "2023-02-24T15:08:42.851Z"
      },
      {
        "duration": 27,
        "start_time": "2023-02-24T15:08:42.882Z"
      },
      {
        "duration": 376,
        "start_time": "2023-02-24T15:08:42.911Z"
      },
      {
        "duration": 63,
        "start_time": "2023-02-24T15:08:43.293Z"
      },
      {
        "duration": 18,
        "start_time": "2023-02-24T15:08:43.358Z"
      },
      {
        "duration": 148,
        "start_time": "2023-02-24T15:08:43.378Z"
      },
      {
        "duration": 10,
        "start_time": "2023-02-24T15:08:43.528Z"
      },
      {
        "duration": 273,
        "start_time": "2023-02-24T15:08:43.540Z"
      },
      {
        "duration": 13,
        "start_time": "2023-02-24T15:08:43.815Z"
      },
      {
        "duration": 8,
        "start_time": "2023-02-24T15:08:43.829Z"
      },
      {
        "duration": 176,
        "start_time": "2023-02-24T15:08:43.838Z"
      },
      {
        "duration": 19,
        "start_time": "2023-02-24T15:08:44.016Z"
      },
      {
        "duration": 16,
        "start_time": "2023-02-24T15:08:44.037Z"
      },
      {
        "duration": 64,
        "start_time": "2023-02-24T15:08:44.054Z"
      },
      {
        "duration": 116,
        "start_time": "2023-02-24T15:08:44.120Z"
      },
      {
        "duration": 19,
        "start_time": "2023-02-24T15:08:44.238Z"
      },
      {
        "duration": 635,
        "start_time": "2023-02-24T15:08:44.258Z"
      },
      {
        "duration": 19,
        "start_time": "2023-02-24T15:08:44.901Z"
      },
      {
        "duration": 18,
        "start_time": "2023-02-24T15:08:44.926Z"
      },
      {
        "duration": 5,
        "start_time": "2023-02-24T15:08:44.946Z"
      },
      {
        "duration": 189,
        "start_time": "2023-02-24T15:08:44.953Z"
      },
      {
        "duration": 28,
        "start_time": "2023-02-24T15:08:45.145Z"
      },
      {
        "duration": 24,
        "start_time": "2023-02-24T15:08:45.175Z"
      },
      {
        "duration": 28,
        "start_time": "2023-02-24T15:08:45.200Z"
      },
      {
        "duration": 18,
        "start_time": "2023-02-24T15:08:45.230Z"
      },
      {
        "duration": 61,
        "start_time": "2023-02-24T15:08:45.249Z"
      },
      {
        "duration": 11,
        "start_time": "2023-02-24T15:08:45.313Z"
      },
      {
        "duration": 14,
        "start_time": "2023-02-24T15:08:45.325Z"
      },
      {
        "duration": 164,
        "start_time": "2023-02-24T15:09:47.067Z"
      },
      {
        "duration": 114,
        "start_time": "2023-02-24T15:09:51.608Z"
      },
      {
        "duration": 14,
        "start_time": "2023-02-24T15:09:54.839Z"
      },
      {
        "duration": 79,
        "start_time": "2023-02-24T15:11:31.269Z"
      },
      {
        "duration": 12,
        "start_time": "2023-02-24T15:11:54.339Z"
      },
      {
        "duration": 11,
        "start_time": "2023-02-24T15:12:02.683Z"
      },
      {
        "duration": 87,
        "start_time": "2023-02-24T15:12:10.568Z"
      },
      {
        "duration": 69,
        "start_time": "2023-02-24T15:12:41.238Z"
      },
      {
        "duration": 71,
        "start_time": "2023-02-24T15:12:45.917Z"
      },
      {
        "duration": 13,
        "start_time": "2023-02-24T15:12:51.699Z"
      },
      {
        "duration": 74,
        "start_time": "2023-02-24T15:13:20.470Z"
      },
      {
        "duration": 11,
        "start_time": "2023-02-24T15:13:28.349Z"
      },
      {
        "duration": 9,
        "start_time": "2023-02-24T15:14:25.700Z"
      },
      {
        "duration": 11,
        "start_time": "2023-02-24T15:15:01.440Z"
      },
      {
        "duration": 1185,
        "start_time": "2023-02-24T15:16:06.286Z"
      },
      {
        "duration": 549,
        "start_time": "2023-02-24T15:16:07.473Z"
      },
      {
        "duration": 25,
        "start_time": "2023-02-24T15:16:08.024Z"
      },
      {
        "duration": 12,
        "start_time": "2023-02-24T15:16:08.051Z"
      },
      {
        "duration": 320,
        "start_time": "2023-02-24T15:16:08.064Z"
      },
      {
        "duration": 45,
        "start_time": "2023-02-24T15:16:08.385Z"
      },
      {
        "duration": 18,
        "start_time": "2023-02-24T15:16:08.431Z"
      },
      {
        "duration": 125,
        "start_time": "2023-02-24T15:16:08.450Z"
      },
      {
        "duration": 17,
        "start_time": "2023-02-24T15:16:08.577Z"
      },
      {
        "duration": 232,
        "start_time": "2023-02-24T15:16:08.597Z"
      },
      {
        "duration": 11,
        "start_time": "2023-02-24T15:16:08.831Z"
      },
      {
        "duration": 8,
        "start_time": "2023-02-24T15:16:08.844Z"
      },
      {
        "duration": 166,
        "start_time": "2023-02-24T15:16:08.854Z"
      },
      {
        "duration": 19,
        "start_time": "2023-02-24T15:16:09.022Z"
      },
      {
        "duration": 12,
        "start_time": "2023-02-24T15:16:09.043Z"
      },
      {
        "duration": 56,
        "start_time": "2023-02-24T15:16:09.056Z"
      },
      {
        "duration": 133,
        "start_time": "2023-02-24T15:16:09.114Z"
      },
      {
        "duration": 18,
        "start_time": "2023-02-24T15:16:09.249Z"
      },
      {
        "duration": 612,
        "start_time": "2023-02-24T15:16:09.269Z"
      },
      {
        "duration": 15,
        "start_time": "2023-02-24T15:16:09.882Z"
      },
      {
        "duration": 14,
        "start_time": "2023-02-24T15:16:09.899Z"
      },
      {
        "duration": 4,
        "start_time": "2023-02-24T15:16:09.914Z"
      },
      {
        "duration": 138,
        "start_time": "2023-02-24T15:16:09.920Z"
      },
      {
        "duration": 38,
        "start_time": "2023-02-24T15:16:10.060Z"
      },
      {
        "duration": 8,
        "start_time": "2023-02-24T15:16:10.099Z"
      },
      {
        "duration": 10,
        "start_time": "2023-02-24T15:16:10.109Z"
      },
      {
        "duration": 14,
        "start_time": "2023-02-24T15:16:10.120Z"
      },
      {
        "duration": 62,
        "start_time": "2023-02-24T15:16:10.137Z"
      },
      {
        "duration": 9,
        "start_time": "2023-02-24T15:16:10.201Z"
      },
      {
        "duration": 11,
        "start_time": "2023-02-24T15:16:10.212Z"
      },
      {
        "duration": 13,
        "start_time": "2023-02-24T15:34:09.615Z"
      },
      {
        "duration": 9,
        "start_time": "2023-02-24T15:41:36.712Z"
      },
      {
        "duration": 19,
        "start_time": "2023-02-24T15:48:59.288Z"
      },
      {
        "duration": 10,
        "start_time": "2023-02-24T15:51:34.517Z"
      },
      {
        "duration": 10,
        "start_time": "2023-02-24T15:51:38.269Z"
      },
      {
        "duration": 1292,
        "start_time": "2023-02-24T15:51:53.534Z"
      },
      {
        "duration": 681,
        "start_time": "2023-02-24T15:51:54.828Z"
      },
      {
        "duration": 34,
        "start_time": "2023-02-24T15:51:55.512Z"
      },
      {
        "duration": 11,
        "start_time": "2023-02-24T15:51:55.548Z"
      },
      {
        "duration": 361,
        "start_time": "2023-02-24T15:51:55.560Z"
      },
      {
        "duration": 43,
        "start_time": "2023-02-24T15:51:55.923Z"
      },
      {
        "duration": 36,
        "start_time": "2023-02-24T15:51:55.968Z"
      },
      {
        "duration": 170,
        "start_time": "2023-02-24T15:51:56.006Z"
      },
      {
        "duration": 17,
        "start_time": "2023-02-24T15:51:56.178Z"
      },
      {
        "duration": 358,
        "start_time": "2023-02-24T15:51:56.198Z"
      },
      {
        "duration": 11,
        "start_time": "2023-02-24T15:51:56.558Z"
      },
      {
        "duration": 8,
        "start_time": "2023-02-24T15:51:56.571Z"
      },
      {
        "duration": 162,
        "start_time": "2023-02-24T15:51:56.597Z"
      },
      {
        "duration": 20,
        "start_time": "2023-02-24T15:51:56.760Z"
      },
      {
        "duration": 27,
        "start_time": "2023-02-24T15:51:56.781Z"
      },
      {
        "duration": 53,
        "start_time": "2023-02-24T15:51:56.811Z"
      },
      {
        "duration": 135,
        "start_time": "2023-02-24T15:51:56.867Z"
      },
      {
        "duration": 26,
        "start_time": "2023-02-24T15:51:57.004Z"
      },
      {
        "duration": 916,
        "start_time": "2023-02-24T15:51:57.032Z"
      },
      {
        "duration": 9,
        "start_time": "2023-02-24T15:51:58.000Z"
      },
      {
        "duration": 40,
        "start_time": "2023-02-24T15:51:58.011Z"
      },
      {
        "duration": 5,
        "start_time": "2023-02-24T15:51:58.053Z"
      },
      {
        "duration": 292,
        "start_time": "2023-02-24T15:51:58.060Z"
      },
      {
        "duration": 73,
        "start_time": "2023-02-24T15:51:58.354Z"
      },
      {
        "duration": 9,
        "start_time": "2023-02-24T15:51:58.428Z"
      },
      {
        "duration": 68,
        "start_time": "2023-02-24T15:51:58.439Z"
      },
      {
        "duration": 16,
        "start_time": "2023-02-24T15:51:58.518Z"
      },
      {
        "duration": 10,
        "start_time": "2023-02-24T15:51:58.538Z"
      },
      {
        "duration": 49,
        "start_time": "2023-02-24T15:51:58.549Z"
      },
      {
        "duration": 30,
        "start_time": "2023-02-24T15:51:58.600Z"
      },
      {
        "duration": 11,
        "start_time": "2023-02-24T15:51:58.632Z"
      },
      {
        "duration": 9,
        "start_time": "2023-02-24T15:52:57.060Z"
      },
      {
        "duration": 1313,
        "start_time": "2023-02-24T16:07:01.477Z"
      },
      {
        "duration": 612,
        "start_time": "2023-02-24T16:07:02.792Z"
      },
      {
        "duration": 30,
        "start_time": "2023-02-24T16:07:03.406Z"
      },
      {
        "duration": 14,
        "start_time": "2023-02-24T16:07:03.438Z"
      },
      {
        "duration": 346,
        "start_time": "2023-02-24T16:07:03.453Z"
      },
      {
        "duration": 56,
        "start_time": "2023-02-24T16:07:03.800Z"
      },
      {
        "duration": 17,
        "start_time": "2023-02-24T16:07:03.858Z"
      },
      {
        "duration": 136,
        "start_time": "2023-02-24T16:07:03.877Z"
      },
      {
        "duration": 24,
        "start_time": "2023-02-24T16:07:04.014Z"
      },
      {
        "duration": 250,
        "start_time": "2023-02-24T16:07:04.041Z"
      },
      {
        "duration": 12,
        "start_time": "2023-02-24T16:07:04.292Z"
      },
      {
        "duration": 16,
        "start_time": "2023-02-24T16:07:04.306Z"
      },
      {
        "duration": 163,
        "start_time": "2023-02-24T16:07:04.324Z"
      },
      {
        "duration": 21,
        "start_time": "2023-02-24T16:07:04.488Z"
      },
      {
        "duration": 29,
        "start_time": "2023-02-24T16:07:04.510Z"
      },
      {
        "duration": 43,
        "start_time": "2023-02-24T16:07:04.541Z"
      },
      {
        "duration": 128,
        "start_time": "2023-02-24T16:07:04.586Z"
      },
      {
        "duration": 28,
        "start_time": "2023-02-24T16:07:04.716Z"
      },
      {
        "duration": 632,
        "start_time": "2023-02-24T16:07:04.746Z"
      },
      {
        "duration": 9,
        "start_time": "2023-02-24T16:07:05.380Z"
      },
      {
        "duration": 9,
        "start_time": "2023-02-24T16:07:05.391Z"
      },
      {
        "duration": 40,
        "start_time": "2023-02-24T16:07:05.402Z"
      },
      {
        "duration": 6,
        "start_time": "2023-02-24T16:07:05.443Z"
      },
      {
        "duration": 349,
        "start_time": "2023-02-24T16:07:05.451Z"
      },
      {
        "duration": 45,
        "start_time": "2023-02-24T16:07:05.801Z"
      },
      {
        "duration": 7,
        "start_time": "2023-02-24T16:07:05.848Z"
      },
      {
        "duration": 11,
        "start_time": "2023-02-24T16:07:05.856Z"
      },
      {
        "duration": 60,
        "start_time": "2023-02-24T16:07:05.882Z"
      },
      {
        "duration": 23,
        "start_time": "2023-02-24T16:07:05.944Z"
      },
      {
        "duration": 15,
        "start_time": "2023-02-24T16:07:05.969Z"
      },
      {
        "duration": 14,
        "start_time": "2023-02-24T16:07:05.986Z"
      },
      {
        "duration": 129,
        "start_time": "2023-02-24T16:41:50.677Z"
      },
      {
        "duration": 7,
        "start_time": "2023-02-24T16:41:53.120Z"
      },
      {
        "duration": 24,
        "start_time": "2023-02-24T16:41:56.551Z"
      },
      {
        "duration": 12,
        "start_time": "2023-02-24T16:42:05.228Z"
      },
      {
        "duration": 5,
        "start_time": "2023-02-24T16:42:07.027Z"
      },
      {
        "duration": 7,
        "start_time": "2023-02-24T16:42:12.961Z"
      },
      {
        "duration": 15,
        "start_time": "2023-02-24T16:43:23.316Z"
      },
      {
        "duration": 1337,
        "start_time": "2023-02-24T16:43:32.178Z"
      },
      {
        "duration": 735,
        "start_time": "2023-02-24T16:43:33.523Z"
      },
      {
        "duration": 35,
        "start_time": "2023-02-24T16:43:34.260Z"
      },
      {
        "duration": 18,
        "start_time": "2023-02-24T16:43:34.301Z"
      },
      {
        "duration": 383,
        "start_time": "2023-02-24T16:43:34.324Z"
      },
      {
        "duration": 51,
        "start_time": "2023-02-24T16:43:34.712Z"
      },
      {
        "duration": 16,
        "start_time": "2023-02-24T16:43:34.765Z"
      },
      {
        "duration": 146,
        "start_time": "2023-02-24T16:43:34.795Z"
      },
      {
        "duration": 24,
        "start_time": "2023-02-24T16:43:34.942Z"
      },
      {
        "duration": 322,
        "start_time": "2023-02-24T16:43:34.968Z"
      },
      {
        "duration": 17,
        "start_time": "2023-02-24T16:43:35.296Z"
      },
      {
        "duration": 43,
        "start_time": "2023-02-24T16:43:35.314Z"
      },
      {
        "duration": 171,
        "start_time": "2023-02-24T16:43:35.359Z"
      },
      {
        "duration": 27,
        "start_time": "2023-02-24T16:43:35.540Z"
      },
      {
        "duration": 49,
        "start_time": "2023-02-24T16:43:35.569Z"
      },
      {
        "duration": 91,
        "start_time": "2023-02-24T16:43:35.622Z"
      },
      {
        "duration": 136,
        "start_time": "2023-02-24T16:43:35.715Z"
      },
      {
        "duration": 26,
        "start_time": "2023-02-24T16:43:35.853Z"
      },
      {
        "duration": 812,
        "start_time": "2023-02-24T16:43:35.881Z"
      },
      {
        "duration": 15,
        "start_time": "2023-02-24T16:43:36.695Z"
      },
      {
        "duration": 55,
        "start_time": "2023-02-24T16:43:36.711Z"
      },
      {
        "duration": 34,
        "start_time": "2023-02-24T16:43:36.769Z"
      },
      {
        "duration": 53,
        "start_time": "2023-02-24T16:43:36.810Z"
      },
      {
        "duration": 12,
        "start_time": "2023-02-24T16:43:36.865Z"
      },
      {
        "duration": 11,
        "start_time": "2023-02-24T16:43:36.879Z"
      },
      {
        "duration": 251,
        "start_time": "2023-02-24T16:43:36.896Z"
      },
      {
        "duration": 28,
        "start_time": "2023-02-24T16:43:37.149Z"
      },
      {
        "duration": 19,
        "start_time": "2023-02-24T16:43:37.180Z"
      },
      {
        "duration": 70,
        "start_time": "2023-02-24T16:43:37.204Z"
      },
      {
        "duration": 26,
        "start_time": "2023-02-24T16:43:37.276Z"
      },
      {
        "duration": 62,
        "start_time": "2023-02-24T16:43:37.303Z"
      },
      {
        "duration": 11,
        "start_time": "2023-02-24T16:43:37.367Z"
      },
      {
        "duration": 22,
        "start_time": "2023-02-24T16:43:37.380Z"
      },
      {
        "duration": 12,
        "start_time": "2023-02-24T16:44:11.024Z"
      },
      {
        "duration": 1414,
        "start_time": "2023-02-24T16:44:15.220Z"
      },
      {
        "duration": 697,
        "start_time": "2023-02-24T16:44:16.639Z"
      },
      {
        "duration": 26,
        "start_time": "2023-02-24T16:44:17.337Z"
      },
      {
        "duration": 14,
        "start_time": "2023-02-24T16:44:17.364Z"
      },
      {
        "duration": 363,
        "start_time": "2023-02-24T16:44:17.381Z"
      },
      {
        "duration": 60,
        "start_time": "2023-02-24T16:44:17.746Z"
      },
      {
        "duration": 27,
        "start_time": "2023-02-24T16:44:17.814Z"
      },
      {
        "duration": 133,
        "start_time": "2023-02-24T16:44:17.843Z"
      },
      {
        "duration": 40,
        "start_time": "2023-02-24T16:44:17.978Z"
      },
      {
        "duration": 288,
        "start_time": "2023-02-24T16:44:18.023Z"
      },
      {
        "duration": 15,
        "start_time": "2023-02-24T16:44:18.312Z"
      },
      {
        "duration": 18,
        "start_time": "2023-02-24T16:44:18.329Z"
      },
      {
        "duration": 164,
        "start_time": "2023-02-24T16:44:18.348Z"
      },
      {
        "duration": 24,
        "start_time": "2023-02-24T16:44:18.516Z"
      },
      {
        "duration": 16,
        "start_time": "2023-02-24T16:44:18.542Z"
      },
      {
        "duration": 73,
        "start_time": "2023-02-24T16:44:18.560Z"
      },
      {
        "duration": 134,
        "start_time": "2023-02-24T16:44:18.635Z"
      },
      {
        "duration": 18,
        "start_time": "2023-02-24T16:44:18.771Z"
      },
      {
        "duration": 692,
        "start_time": "2023-02-24T16:44:18.791Z"
      },
      {
        "duration": 28,
        "start_time": "2023-02-24T16:44:19.484Z"
      },
      {
        "duration": 61,
        "start_time": "2023-02-24T16:44:19.515Z"
      },
      {
        "duration": 14,
        "start_time": "2023-02-24T16:44:19.578Z"
      },
      {
        "duration": 12,
        "start_time": "2023-02-24T16:44:19.594Z"
      },
      {
        "duration": 209,
        "start_time": "2023-02-24T16:44:19.608Z"
      },
      {
        "duration": 33,
        "start_time": "2023-02-24T16:44:19.820Z"
      },
      {
        "duration": 7,
        "start_time": "2023-02-24T16:44:19.855Z"
      },
      {
        "duration": 10,
        "start_time": "2023-02-24T16:44:19.863Z"
      },
      {
        "duration": 33,
        "start_time": "2023-02-24T16:44:19.875Z"
      },
      {
        "duration": 42,
        "start_time": "2023-02-24T16:44:19.909Z"
      },
      {
        "duration": 11,
        "start_time": "2023-02-24T16:44:19.952Z"
      },
      {
        "duration": 73,
        "start_time": "2023-02-24T16:44:19.964Z"
      },
      {
        "duration": 11,
        "start_time": "2023-02-24T16:45:02.421Z"
      },
      {
        "duration": 6,
        "start_time": "2023-02-24T16:45:05.950Z"
      },
      {
        "duration": 141,
        "start_time": "2023-02-24T16:45:09.013Z"
      },
      {
        "duration": 10,
        "start_time": "2023-02-24T16:45:12.623Z"
      },
      {
        "duration": 10,
        "start_time": "2023-02-24T16:45:51.024Z"
      },
      {
        "duration": 10,
        "start_time": "2023-02-24T16:45:55.046Z"
      },
      {
        "duration": 22,
        "start_time": "2023-02-24T16:46:17.825Z"
      },
      {
        "duration": 9,
        "start_time": "2023-02-24T16:46:27.531Z"
      },
      {
        "duration": 1301,
        "start_time": "2023-02-24T16:46:46.473Z"
      },
      {
        "duration": 667,
        "start_time": "2023-02-24T16:46:47.776Z"
      },
      {
        "duration": 26,
        "start_time": "2023-02-24T16:46:48.445Z"
      },
      {
        "duration": 10,
        "start_time": "2023-02-24T16:46:48.473Z"
      },
      {
        "duration": 343,
        "start_time": "2023-02-24T16:46:48.485Z"
      },
      {
        "duration": 40,
        "start_time": "2023-02-24T16:46:48.834Z"
      },
      {
        "duration": 33,
        "start_time": "2023-02-24T16:46:48.875Z"
      },
      {
        "duration": 151,
        "start_time": "2023-02-24T16:46:48.912Z"
      },
      {
        "duration": 10,
        "start_time": "2023-02-24T16:46:49.065Z"
      },
      {
        "duration": 260,
        "start_time": "2023-02-24T16:46:49.077Z"
      },
      {
        "duration": 11,
        "start_time": "2023-02-24T16:46:49.339Z"
      },
      {
        "duration": 9,
        "start_time": "2023-02-24T16:46:49.352Z"
      },
      {
        "duration": 174,
        "start_time": "2023-02-24T16:46:49.363Z"
      },
      {
        "duration": 18,
        "start_time": "2023-02-24T16:46:49.541Z"
      },
      {
        "duration": 11,
        "start_time": "2023-02-24T16:46:49.561Z"
      },
      {
        "duration": 68,
        "start_time": "2023-02-24T16:46:49.573Z"
      },
      {
        "duration": 124,
        "start_time": "2023-02-24T16:46:49.642Z"
      },
      {
        "duration": 35,
        "start_time": "2023-02-24T16:46:49.768Z"
      },
      {
        "duration": 668,
        "start_time": "2023-02-24T16:46:49.812Z"
      },
      {
        "duration": 24,
        "start_time": "2023-02-24T16:46:50.482Z"
      },
      {
        "duration": 38,
        "start_time": "2023-02-24T16:46:50.507Z"
      },
      {
        "duration": 15,
        "start_time": "2023-02-24T16:46:50.547Z"
      },
      {
        "duration": 8,
        "start_time": "2023-02-24T16:46:50.564Z"
      },
      {
        "duration": 178,
        "start_time": "2023-02-24T16:46:50.574Z"
      },
      {
        "duration": 20,
        "start_time": "2023-02-24T16:46:50.754Z"
      },
      {
        "duration": 27,
        "start_time": "2023-02-24T16:46:50.776Z"
      },
      {
        "duration": 55,
        "start_time": "2023-02-24T16:46:50.805Z"
      },
      {
        "duration": 87,
        "start_time": "2023-02-24T16:46:50.862Z"
      },
      {
        "duration": 16,
        "start_time": "2023-02-24T16:46:50.952Z"
      },
      {
        "duration": 11,
        "start_time": "2023-02-24T16:46:50.970Z"
      },
      {
        "duration": 15,
        "start_time": "2023-02-24T16:46:50.982Z"
      },
      {
        "duration": 9,
        "start_time": "2023-02-24T16:47:09.890Z"
      },
      {
        "duration": 15,
        "start_time": "2023-02-24T16:47:12.124Z"
      },
      {
        "duration": 21,
        "start_time": "2023-02-24T16:47:18.740Z"
      },
      {
        "duration": 7,
        "start_time": "2023-02-24T16:47:19.171Z"
      },
      {
        "duration": 15,
        "start_time": "2023-02-24T16:47:21.621Z"
      },
      {
        "duration": 15,
        "start_time": "2023-02-24T16:47:22.321Z"
      },
      {
        "duration": 28,
        "start_time": "2023-02-24T16:47:26.503Z"
      },
      {
        "duration": 3,
        "start_time": "2023-02-24T16:47:56.851Z"
      },
      {
        "duration": 8,
        "start_time": "2023-02-24T16:48:04.551Z"
      },
      {
        "duration": 13,
        "start_time": "2023-02-24T16:48:11.592Z"
      },
      {
        "duration": 8,
        "start_time": "2023-02-24T16:48:14.733Z"
      },
      {
        "duration": 10,
        "start_time": "2023-02-24T16:48:16.952Z"
      },
      {
        "duration": 9,
        "start_time": "2023-02-24T16:49:08.930Z"
      },
      {
        "duration": 9,
        "start_time": "2023-02-24T16:49:41.670Z"
      },
      {
        "duration": 11,
        "start_time": "2023-02-24T16:49:46.039Z"
      },
      {
        "duration": 1566,
        "start_time": "2023-02-24T18:47:55.409Z"
      },
      {
        "duration": 1432,
        "start_time": "2023-02-24T18:47:56.977Z"
      },
      {
        "duration": 31,
        "start_time": "2023-02-24T18:47:58.410Z"
      },
      {
        "duration": 13,
        "start_time": "2023-02-24T18:47:58.453Z"
      },
      {
        "duration": 419,
        "start_time": "2023-02-24T18:47:58.467Z"
      },
      {
        "duration": 79,
        "start_time": "2023-02-24T18:47:58.888Z"
      },
      {
        "duration": 23,
        "start_time": "2023-02-24T18:47:58.969Z"
      },
      {
        "duration": 169,
        "start_time": "2023-02-24T18:47:58.994Z"
      },
      {
        "duration": 12,
        "start_time": "2023-02-24T18:47:59.165Z"
      },
      {
        "duration": 287,
        "start_time": "2023-02-24T18:47:59.180Z"
      },
      {
        "duration": 13,
        "start_time": "2023-02-24T18:47:59.470Z"
      },
      {
        "duration": 23,
        "start_time": "2023-02-24T18:47:59.484Z"
      },
      {
        "duration": 249,
        "start_time": "2023-02-24T18:47:59.508Z"
      },
      {
        "duration": 30,
        "start_time": "2023-02-24T18:47:59.759Z"
      },
      {
        "duration": 59,
        "start_time": "2023-02-24T18:47:59.791Z"
      },
      {
        "duration": 102,
        "start_time": "2023-02-24T18:47:59.852Z"
      },
      {
        "duration": 301,
        "start_time": "2023-02-24T18:47:59.957Z"
      },
      {
        "duration": 22,
        "start_time": "2023-02-24T18:48:00.260Z"
      },
      {
        "duration": 1576,
        "start_time": "2023-02-24T18:48:00.284Z"
      },
      {
        "duration": 11,
        "start_time": "2023-02-24T18:48:01.862Z"
      },
      {
        "duration": 36,
        "start_time": "2023-02-24T18:48:01.875Z"
      },
      {
        "duration": 41,
        "start_time": "2023-02-24T18:48:01.913Z"
      },
      {
        "duration": 16,
        "start_time": "2023-02-24T18:48:01.957Z"
      },
      {
        "duration": 422,
        "start_time": "2023-02-24T18:48:01.975Z"
      },
      {
        "duration": 22,
        "start_time": "2023-02-24T18:48:02.399Z"
      },
      {
        "duration": 20,
        "start_time": "2023-02-24T18:48:02.423Z"
      },
      {
        "duration": 30,
        "start_time": "2023-02-24T18:48:02.449Z"
      },
      {
        "duration": 13,
        "start_time": "2023-02-24T18:48:02.482Z"
      },
      {
        "duration": 14,
        "start_time": "2023-02-24T18:48:02.543Z"
      },
      {
        "duration": 20,
        "start_time": "2023-02-24T18:48:02.559Z"
      },
      {
        "duration": 24,
        "start_time": "2023-02-24T18:48:02.581Z"
      },
      {
        "duration": 17,
        "start_time": "2023-02-24T18:48:02.608Z"
      }
    ],
    "kernelspec": {
      "display_name": "Python 3 (ipykernel)",
      "language": "python",
      "name": "python3"
    },
    "language_info": {
      "codemirror_mode": {
        "name": "ipython",
        "version": 3
      },
      "file_extension": ".py",
      "mimetype": "text/x-python",
      "name": "python",
      "nbconvert_exporter": "python",
      "pygments_lexer": "ipython3",
      "version": "3.9.5"
    },
    "toc": {
      "base_numbering": 1,
      "nav_menu": {},
      "number_sections": true,
      "sideBar": true,
      "skip_h1_title": true,
      "title_cell": "Table of Contents",
      "title_sidebar": "Contents",
      "toc_cell": false,
      "toc_position": {
        "height": "calc(100% - 180px)",
        "left": "10px",
        "top": "150px",
        "width": "302.188px"
      },
      "toc_section_display": true,
      "toc_window_display": true
    },
    "colab": {
      "provenance": [],
      "include_colab_link": true
    }
  },
  "nbformat": 4,
  "nbformat_minor": 0
}
