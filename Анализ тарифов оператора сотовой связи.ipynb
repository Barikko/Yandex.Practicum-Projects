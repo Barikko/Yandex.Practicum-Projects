{
  "cells": [
    {
      "cell_type": "markdown",
      "metadata": {
        "id": "view-in-github",
        "colab_type": "text"
      },
      "source": [
        "<a href=\"https://colab.research.google.com/github/Barikko/Yandex.Practicum-Projects/blob/main/%D0%A1%D1%82%D0%B0%D1%82%D0%B8%D1%81%D1%82%D0%B8%D0%BA%D0%B0.ipynb\" target=\"_parent\"><img src=\"https://colab.research.google.com/assets/colab-badge.svg\" alt=\"Open In Colab\"/></a>"
      ]
    },
    {
      "cell_type": "markdown",
      "source": [
        "# Анализ тарифов оператора сотовой связи"
      ],
      "metadata": {
        "id": "J2tp4i2yvNmj"
      }
    },
    {
      "cell_type": "code",
      "execution_count": 66,
      "metadata": {
        "deletable": false,
        "id": "I6iDDDvQKyDG"
      },
      "outputs": [],
      "source": [
        "import pandas as pd\n",
        "import numpy as np \n",
        "import scipy as sp \n",
        "import matplotlib.pyplot as plt\n",
        "import seaborn as sns\n",
        "from scipy import stats as st"
      ]
    },
    {
      "cell_type": "markdown",
      "metadata": {
        "deletable": false,
        "editable": false,
        "id": "xhLilmTDKyDL"
      },
      "source": [
        "# Общая информация"
      ]
    },
    {
      "cell_type": "code",
      "execution_count": 67,
      "metadata": {
        "deletable": false,
        "id": "o7fJYWVIKyDM"
      },
      "outputs": [],
      "source": [
        "calls = pd.read_csv('/content/calls.csv')"
      ]
    },
    {
      "cell_type": "markdown",
      "metadata": {
        "deletable": false,
        "editable": false,
        "id": "lwrQoooGKyDN",
        "tags": [
          "start_task"
        ]
      },
      "source": [
        "**Задание 2.** Выведите первые 5 строк датафрейма `calls`."
      ]
    },
    {
      "cell_type": "code",
      "execution_count": 68,
      "metadata": {
        "deletable": false,
        "id": "u2XlYfJeKyDN",
        "colab": {
          "base_uri": "https://localhost:8080/",
          "height": 206
        },
        "outputId": "2ba82ae2-a20f-4651-8bb7-9285b001e3a5"
      },
      "outputs": [
        {
          "output_type": "execute_result",
          "data": {
            "text/plain": [
              "       id   call_date  duration  user_id\n",
              "0  1000_0  2018-07-25      0.00     1000\n",
              "1  1000_1  2018-08-17      0.00     1000\n",
              "2  1000_2  2018-06-11      2.85     1000\n",
              "3  1000_3  2018-09-21     13.80     1000\n",
              "4  1000_4  2018-12-15      5.18     1000"
            ],
            "text/html": [
              "\n",
              "  <div id=\"df-7445601c-f980-41ff-9d9d-a7e34789a632\">\n",
              "    <div class=\"colab-df-container\">\n",
              "      <div>\n",
              "<style scoped>\n",
              "    .dataframe tbody tr th:only-of-type {\n",
              "        vertical-align: middle;\n",
              "    }\n",
              "\n",
              "    .dataframe tbody tr th {\n",
              "        vertical-align: top;\n",
              "    }\n",
              "\n",
              "    .dataframe thead th {\n",
              "        text-align: right;\n",
              "    }\n",
              "</style>\n",
              "<table border=\"1\" class=\"dataframe\">\n",
              "  <thead>\n",
              "    <tr style=\"text-align: right;\">\n",
              "      <th></th>\n",
              "      <th>id</th>\n",
              "      <th>call_date</th>\n",
              "      <th>duration</th>\n",
              "      <th>user_id</th>\n",
              "    </tr>\n",
              "  </thead>\n",
              "  <tbody>\n",
              "    <tr>\n",
              "      <th>0</th>\n",
              "      <td>1000_0</td>\n",
              "      <td>2018-07-25</td>\n",
              "      <td>0.00</td>\n",
              "      <td>1000</td>\n",
              "    </tr>\n",
              "    <tr>\n",
              "      <th>1</th>\n",
              "      <td>1000_1</td>\n",
              "      <td>2018-08-17</td>\n",
              "      <td>0.00</td>\n",
              "      <td>1000</td>\n",
              "    </tr>\n",
              "    <tr>\n",
              "      <th>2</th>\n",
              "      <td>1000_2</td>\n",
              "      <td>2018-06-11</td>\n",
              "      <td>2.85</td>\n",
              "      <td>1000</td>\n",
              "    </tr>\n",
              "    <tr>\n",
              "      <th>3</th>\n",
              "      <td>1000_3</td>\n",
              "      <td>2018-09-21</td>\n",
              "      <td>13.80</td>\n",
              "      <td>1000</td>\n",
              "    </tr>\n",
              "    <tr>\n",
              "      <th>4</th>\n",
              "      <td>1000_4</td>\n",
              "      <td>2018-12-15</td>\n",
              "      <td>5.18</td>\n",
              "      <td>1000</td>\n",
              "    </tr>\n",
              "  </tbody>\n",
              "</table>\n",
              "</div>\n",
              "      <button class=\"colab-df-convert\" onclick=\"convertToInteractive('df-7445601c-f980-41ff-9d9d-a7e34789a632')\"\n",
              "              title=\"Convert this dataframe to an interactive table.\"\n",
              "              style=\"display:none;\">\n",
              "        \n",
              "  <svg xmlns=\"http://www.w3.org/2000/svg\" height=\"24px\"viewBox=\"0 0 24 24\"\n",
              "       width=\"24px\">\n",
              "    <path d=\"M0 0h24v24H0V0z\" fill=\"none\"/>\n",
              "    <path d=\"M18.56 5.44l.94 2.06.94-2.06 2.06-.94-2.06-.94-.94-2.06-.94 2.06-2.06.94zm-11 1L8.5 8.5l.94-2.06 2.06-.94-2.06-.94L8.5 2.5l-.94 2.06-2.06.94zm10 10l.94 2.06.94-2.06 2.06-.94-2.06-.94-.94-2.06-.94 2.06-2.06.94z\"/><path d=\"M17.41 7.96l-1.37-1.37c-.4-.4-.92-.59-1.43-.59-.52 0-1.04.2-1.43.59L10.3 9.45l-7.72 7.72c-.78.78-.78 2.05 0 2.83L4 21.41c.39.39.9.59 1.41.59.51 0 1.02-.2 1.41-.59l7.78-7.78 2.81-2.81c.8-.78.8-2.07 0-2.86zM5.41 20L4 18.59l7.72-7.72 1.47 1.35L5.41 20z\"/>\n",
              "  </svg>\n",
              "      </button>\n",
              "      \n",
              "  <style>\n",
              "    .colab-df-container {\n",
              "      display:flex;\n",
              "      flex-wrap:wrap;\n",
              "      gap: 12px;\n",
              "    }\n",
              "\n",
              "    .colab-df-convert {\n",
              "      background-color: #E8F0FE;\n",
              "      border: none;\n",
              "      border-radius: 50%;\n",
              "      cursor: pointer;\n",
              "      display: none;\n",
              "      fill: #1967D2;\n",
              "      height: 32px;\n",
              "      padding: 0 0 0 0;\n",
              "      width: 32px;\n",
              "    }\n",
              "\n",
              "    .colab-df-convert:hover {\n",
              "      background-color: #E2EBFA;\n",
              "      box-shadow: 0px 1px 2px rgba(60, 64, 67, 0.3), 0px 1px 3px 1px rgba(60, 64, 67, 0.15);\n",
              "      fill: #174EA6;\n",
              "    }\n",
              "\n",
              "    [theme=dark] .colab-df-convert {\n",
              "      background-color: #3B4455;\n",
              "      fill: #D2E3FC;\n",
              "    }\n",
              "\n",
              "    [theme=dark] .colab-df-convert:hover {\n",
              "      background-color: #434B5C;\n",
              "      box-shadow: 0px 1px 3px 1px rgba(0, 0, 0, 0.15);\n",
              "      filter: drop-shadow(0px 1px 2px rgba(0, 0, 0, 0.3));\n",
              "      fill: #FFFFFF;\n",
              "    }\n",
              "  </style>\n",
              "\n",
              "      <script>\n",
              "        const buttonEl =\n",
              "          document.querySelector('#df-7445601c-f980-41ff-9d9d-a7e34789a632 button.colab-df-convert');\n",
              "        buttonEl.style.display =\n",
              "          google.colab.kernel.accessAllowed ? 'block' : 'none';\n",
              "\n",
              "        async function convertToInteractive(key) {\n",
              "          const element = document.querySelector('#df-7445601c-f980-41ff-9d9d-a7e34789a632');\n",
              "          const dataTable =\n",
              "            await google.colab.kernel.invokeFunction('convertToInteractive',\n",
              "                                                     [key], {});\n",
              "          if (!dataTable) return;\n",
              "\n",
              "          const docLinkHtml = 'Like what you see? Visit the ' +\n",
              "            '<a target=\"_blank\" href=https://colab.research.google.com/notebooks/data_table.ipynb>data table notebook</a>'\n",
              "            + ' to learn more about interactive tables.';\n",
              "          element.innerHTML = '';\n",
              "          dataTable['output_type'] = 'display_data';\n",
              "          await google.colab.output.renderOutput(dataTable, element);\n",
              "          const docLink = document.createElement('div');\n",
              "          docLink.innerHTML = docLinkHtml;\n",
              "          element.appendChild(docLink);\n",
              "        }\n",
              "      </script>\n",
              "    </div>\n",
              "  </div>\n",
              "  "
            ]
          },
          "metadata": {},
          "execution_count": 68
        }
      ],
      "source": [
        "calls.head(5)"
      ]
    },
    {
      "cell_type": "markdown",
      "metadata": {
        "deletable": false,
        "editable": false,
        "id": "A3xpbsHKKyDN",
        "tags": [
          "start_task"
        ]
      },
      "source": [
        "**Задание 3.** Выведите основную информацию для датафрейма `calls` с помощью метода `info()`."
      ]
    },
    {
      "cell_type": "code",
      "execution_count": 69,
      "metadata": {
        "deletable": false,
        "id": "yXy_xs-FKyDO",
        "colab": {
          "base_uri": "https://localhost:8080/"
        },
        "outputId": "c4db6500-54e4-48ed-df25-f95263ee2993"
      },
      "outputs": [
        {
          "output_type": "stream",
          "name": "stdout",
          "text": [
            "<class 'pandas.core.frame.DataFrame'>\n",
            "RangeIndex: 202607 entries, 0 to 202606\n",
            "Data columns (total 4 columns):\n",
            " #   Column     Non-Null Count   Dtype  \n",
            "---  ------     --------------   -----  \n",
            " 0   id         202607 non-null  object \n",
            " 1   call_date  202607 non-null  object \n",
            " 2   duration   202607 non-null  float64\n",
            " 3   user_id    202607 non-null  int64  \n",
            "dtypes: float64(1), int64(1), object(2)\n",
            "memory usage: 6.2+ MB\n"
          ]
        }
      ],
      "source": [
        "calls.info()"
      ]
    },
    {
      "cell_type": "markdown",
      "metadata": {
        "deletable": false,
        "editable": false,
        "id": "KtjI09xUKyDO",
        "tags": [
          "start_task"
        ]
      },
      "source": [
        "**Задание 4.** С помощью метода `hist()` выведите гистограмму для столбца с продолжительностью звонков. Подумайте о том, как распределены данные."
      ]
    },
    {
      "cell_type": "code",
      "execution_count": 70,
      "metadata": {
        "deletable": false,
        "id": "S8bearjpKyDO",
        "colab": {
          "base_uri": "https://localhost:8080/",
          "height": 350
        },
        "outputId": "1dfc293d-e34c-44dd-d802-e663eb058471"
      },
      "outputs": [
        {
          "output_type": "display_data",
          "data": {
            "text/plain": [
              "<Figure size 720x360 with 1 Axes>"
            ],
            "image/png": "[encoded data removed]"
          },
          "metadata": {
            "needs_background": "light"
          }
        }
      ],
      "source": [
        "calls['duration'].hist(figsize=(10,5)).set_title('Гистограмма продолжительности звонков')\n",
        "plt.xlabel('Продолжительность звонков, мин');"
      ]
    },
    {
      "cell_type": "markdown",
      "source": [
        "С увеличением времени звонка уменьшается количество звонков"
      ],
      "metadata": {
        "id": "EQHaoEI3yOdY"
      }
    },
    {
      "cell_type": "markdown",
      "metadata": {
        "deletable": false,
        "editable": false,
        "id": "QGBLhAE4KyDO",
        "tags": [
          "start_task"
        ]
      },
      "source": [
        "**Задание 5.** Откройте файл `internet.csv`, сохраните датафрейм в переменную `sessions`."
      ]
    },
    {
      "cell_type": "code",
      "execution_count": 71,
      "metadata": {
        "deletable": false,
        "id": "UOgA1VlRKyDP"
      },
      "outputs": [],
      "source": [
        "sessions = pd.read_csv('/content/internet.csv')"
      ]
    },
    {
      "cell_type": "markdown",
      "metadata": {
        "deletable": false,
        "editable": false,
        "id": "RdX3Fsz4KyDP",
        "tags": [
          "start_task"
        ]
      },
      "source": [
        "**Задание 6.** Выведите первые 5 строк датафрейма `sessions`."
      ]
    },
    {
      "cell_type": "code",
      "execution_count": 72,
      "metadata": {
        "deletable": false,
        "id": "GmfPmi-6KyDP",
        "colab": {
          "base_uri": "https://localhost:8080/",
          "height": 206
        },
        "outputId": "3c455146-16e6-48ec-d802-a8016228e8bc"
      },
      "outputs": [
        {
          "output_type": "execute_result",
          "data": {
            "text/plain": [
              "   Unnamed: 0      id  mb_used session_date  user_id\n",
              "0           0  1000_0   112.95   2018-11-25     1000\n",
              "1           1  1000_1  1052.81   2018-09-07     1000\n",
              "2           2  1000_2  1197.26   2018-06-25     1000\n",
              "3           3  1000_3   550.27   2018-08-22     1000\n",
              "4           4  1000_4   302.56   2018-09-24     1000"
            ],
            "text/html": [
              "\n",
              "  <div id=\"df-e619c485-6c2c-4e7e-a194-6d311092f24e\">\n",
              "    <div class=\"colab-df-container\">\n",
              "      <div>\n",
              "<style scoped>\n",
              "    .dataframe tbody tr th:only-of-type {\n",
              "        vertical-align: middle;\n",
              "    }\n",
              "\n",
              "    .dataframe tbody tr th {\n",
              "        vertical-align: top;\n",
              "    }\n",
              "\n",
              "    .dataframe thead th {\n",
              "        text-align: right;\n",
              "    }\n",
              "</style>\n",
              "<table border=\"1\" class=\"dataframe\">\n",
              "  <thead>\n",
              "    <tr style=\"text-align: right;\">\n",
              "      <th></th>\n",
              "      <th>Unnamed: 0</th>\n",
              "      <th>id</th>\n",
              "      <th>mb_used</th>\n",
              "      <th>session_date</th>\n",
              "      <th>user_id</th>\n",
              "    </tr>\n",
              "  </thead>\n",
              "  <tbody>\n",
              "    <tr>\n",
              "      <th>0</th>\n",
              "      <td>0</td>\n",
              "      <td>1000_0</td>\n",
              "      <td>112.95</td>\n",
              "      <td>2018-11-25</td>\n",
              "      <td>1000</td>\n",
              "    </tr>\n",
              "    <tr>\n",
              "      <th>1</th>\n",
              "      <td>1</td>\n",
              "      <td>1000_1</td>\n",
              "      <td>1052.81</td>\n",
              "      <td>2018-09-07</td>\n",
              "      <td>1000</td>\n",
              "    </tr>\n",
              "    <tr>\n",
              "      <th>2</th>\n",
              "      <td>2</td>\n",
              "      <td>1000_2</td>\n",
              "      <td>1197.26</td>\n",
              "      <td>2018-06-25</td>\n",
              "      <td>1000</td>\n",
              "    </tr>\n",
              "    <tr>\n",
              "      <th>3</th>\n",
              "      <td>3</td>\n",
              "      <td>1000_3</td>\n",
              "      <td>550.27</td>\n",
              "      <td>2018-08-22</td>\n",
              "      <td>1000</td>\n",
              "    </tr>\n",
              "    <tr>\n",
              "      <th>4</th>\n",
              "      <td>4</td>\n",
              "      <td>1000_4</td>\n",
              "      <td>302.56</td>\n",
              "      <td>2018-09-24</td>\n",
              "      <td>1000</td>\n",
              "    </tr>\n",
              "  </tbody>\n",
              "</table>\n",
              "</div>\n",
              "      <button class=\"colab-df-convert\" onclick=\"convertToInteractive('df-e619c485-6c2c-4e7e-a194-6d311092f24e')\"\n",
              "              title=\"Convert this dataframe to an interactive table.\"\n",
              "              style=\"display:none;\">\n",
              "        \n",
              "  <svg xmlns=\"http://www.w3.org/2000/svg\" height=\"24px\"viewBox=\"0 0 24 24\"\n",
              "       width=\"24px\">\n",
              "    <path d=\"M0 0h24v24H0V0z\" fill=\"none\"/>\n",
              "    <path d=\"M18.56 5.44l.94 2.06.94-2.06 2.06-.94-2.06-.94-.94-2.06-.94 2.06-2.06.94zm-11 1L8.5 8.5l.94-2.06 2.06-.94-2.06-.94L8.5 2.5l-.94 2.06-2.06.94zm10 10l.94 2.06.94-2.06 2.06-.94-2.06-.94-.94-2.06-.94 2.06-2.06.94z\"/><path d=\"M17.41 7.96l-1.37-1.37c-.4-.4-.92-.59-1.43-.59-.52 0-1.04.2-1.43.59L10.3 9.45l-7.72 7.72c-.78.78-.78 2.05 0 2.83L4 21.41c.39.39.9.59 1.41.59.51 0 1.02-.2 1.41-.59l7.78-7.78 2.81-2.81c.8-.78.8-2.07 0-2.86zM5.41 20L4 18.59l7.72-7.72 1.47 1.35L5.41 20z\"/>\n",
              "  </svg>\n",
              "      </button>\n",
              "      \n",
              "  <style>\n",
              "    .colab-df-container {\n",
              "      display:flex;\n",
              "      flex-wrap:wrap;\n",
              "      gap: 12px;\n",
              "    }\n",
              "\n",
              "    .colab-df-convert {\n",
              "      background-color: #E8F0FE;\n",
              "      border: none;\n",
              "      border-radius: 50%;\n",
              "      cursor: pointer;\n",
              "      display: none;\n",
              "      fill: #1967D2;\n",
              "      height: 32px;\n",
              "      padding: 0 0 0 0;\n",
              "      width: 32px;\n",
              "    }\n",
              "\n",
              "    .colab-df-convert:hover {\n",
              "      background-color: #E2EBFA;\n",
              "      box-shadow: 0px 1px 2px rgba(60, 64, 67, 0.3), 0px 1px 3px 1px rgba(60, 64, 67, 0.15);\n",
              "      fill: #174EA6;\n",
              "    }\n",
              "\n",
              "    [theme=dark] .colab-df-convert {\n",
              "      background-color: #3B4455;\n",
              "      fill: #D2E3FC;\n",
              "    }\n",
              "\n",
              "    [theme=dark] .colab-df-convert:hover {\n",
              "      background-color: #434B5C;\n",
              "      box-shadow: 0px 1px 3px 1px rgba(0, 0, 0, 0.15);\n",
              "      filter: drop-shadow(0px 1px 2px rgba(0, 0, 0, 0.3));\n",
              "      fill: #FFFFFF;\n",
              "    }\n",
              "  </style>\n",
              "\n",
              "      <script>\n",
              "        const buttonEl =\n",
              "          document.querySelector('#df-e619c485-6c2c-4e7e-a194-6d311092f24e button.colab-df-convert');\n",
              "        buttonEl.style.display =\n",
              "          google.colab.kernel.accessAllowed ? 'block' : 'none';\n",
              "\n",
              "        async function convertToInteractive(key) {\n",
              "          const element = document.querySelector('#df-e619c485-6c2c-4e7e-a194-6d311092f24e');\n",
              "          const dataTable =\n",
              "            await google.colab.kernel.invokeFunction('convertToInteractive',\n",
              "                                                     [key], {});\n",
              "          if (!dataTable) return;\n",
              "\n",
              "          const docLinkHtml = 'Like what you see? Visit the ' +\n",
              "            '<a target=\"_blank\" href=https://colab.research.google.com/notebooks/data_table.ipynb>data table notebook</a>'\n",
              "            + ' to learn more about interactive tables.';\n",
              "          element.innerHTML = '';\n",
              "          dataTable['output_type'] = 'display_data';\n",
              "          await google.colab.output.renderOutput(dataTable, element);\n",
              "          const docLink = document.createElement('div');\n",
              "          docLink.innerHTML = docLinkHtml;\n",
              "          element.appendChild(docLink);\n",
              "        }\n",
              "      </script>\n",
              "    </div>\n",
              "  </div>\n",
              "  "
            ]
          },
          "metadata": {},
          "execution_count": 72
        }
      ],
      "source": [
        "sessions.head(5)"
      ]
    },
    {
      "cell_type": "markdown",
      "metadata": {
        "deletable": false,
        "editable": false,
        "id": "Zld7GYWGKyDP",
        "tags": [
          "start_task"
        ]
      },
      "source": [
        "**Задание 7.** Выведите основную информацию для датафрейма sessions с помощью метода `info()`. "
      ]
    },
    {
      "cell_type": "code",
      "execution_count": 73,
      "metadata": {
        "deletable": false,
        "id": "x6BhhWGmKyDQ",
        "colab": {
          "base_uri": "https://localhost:8080/"
        },
        "outputId": "e63cd26e-e47f-4b20-df09-92fcd2b71f3f"
      },
      "outputs": [
        {
          "output_type": "stream",
          "name": "stdout",
          "text": [
            "<class 'pandas.core.frame.DataFrame'>\n",
            "RangeIndex: 149396 entries, 0 to 149395\n",
            "Data columns (total 5 columns):\n",
            " #   Column        Non-Null Count   Dtype  \n",
            "---  ------        --------------   -----  \n",
            " 0   Unnamed: 0    149396 non-null  int64  \n",
            " 1   id            149396 non-null  object \n",
            " 2   mb_used       149396 non-null  float64\n",
            " 3   session_date  149396 non-null  object \n",
            " 4   user_id       149396 non-null  int64  \n",
            "dtypes: float64(1), int64(2), object(2)\n",
            "memory usage: 5.7+ MB\n",
            "None\n"
          ]
        }
      ],
      "source": [
        "print(sessions.info())"
      ]
    },
    {
      "cell_type": "markdown",
      "metadata": {
        "deletable": false,
        "editable": false,
        "id": "bsDEVSRJKyDQ",
        "tags": [
          "start_task"
        ]
      },
      "source": [
        "**Задание 8.** С помощью метода `hist()` выведите гистограмму для столбца с количеством потраченных мегабайт."
      ]
    },
    {
      "cell_type": "code",
      "execution_count": 74,
      "metadata": {
        "deletable": false,
        "id": "b0fkn79xKyDQ",
        "colab": {
          "base_uri": "https://localhost:8080/",
          "height": 350
        },
        "outputId": "0d4c70c0-66a2-4ea7-9df9-e57fe156a668"
      },
      "outputs": [
        {
          "output_type": "display_data",
          "data": {
            "text/plain": [
              "<Figure size 720x360 with 1 Axes>"
            ],
            "image/png": "[encoded data removed]"
          },
          "metadata": {
            "needs_background": "light"
          }
        }
      ],
      "source": [
        "sessions['mb_used'].hist(figsize=(10,5)).set_title('Гистограмма потраченных мегабайт')\n",
        "plt.xlabel('Мегабайты');"
      ]
    },
    {
      "cell_type": "markdown",
      "metadata": {
        "deletable": false,
        "editable": false,
        "id": "YpiiymbQKyDQ",
        "tags": [
          "start_task"
        ]
      },
      "source": [
        "**Задание 9.** Откройте файл `messages.csv`, сохраните датафрейм в переменную `messages`."
      ]
    },
    {
      "cell_type": "code",
      "execution_count": 75,
      "metadata": {
        "deletable": false,
        "id": "945IuYoxKyDR"
      },
      "outputs": [],
      "source": [
        "messages = pd.read_csv('/content/messages.csv')"
      ]
    },
    {
      "cell_type": "markdown",
      "metadata": {
        "deletable": false,
        "editable": false,
        "id": "7OEeR-igKyDR",
        "tags": [
          "start_task"
        ]
      },
      "source": [
        "**Задание 10.** Выведите первые 5 строк датафрейма `messages`."
      ]
    },
    {
      "cell_type": "code",
      "execution_count": 76,
      "metadata": {
        "deletable": false,
        "id": "-64TOS9OKyDR",
        "colab": {
          "base_uri": "https://localhost:8080/",
          "height": 206
        },
        "outputId": "012ae9ba-baaf-47b4-9dc9-e6b317d90f34"
      },
      "outputs": [
        {
          "output_type": "execute_result",
          "data": {
            "text/plain": [
              "       id message_date  user_id\n",
              "0  1000_0   2018-06-27     1000\n",
              "1  1000_1   2018-10-08     1000\n",
              "2  1000_2   2018-08-04     1000\n",
              "3  1000_3   2018-06-16     1000\n",
              "4  1000_4   2018-12-05     1000"
            ],
            "text/html": [
              "\n",
              "  <div id=\"df-ac01314a-d347-4c83-b5da-c83fc2d02895\">\n",
              "    <div class=\"colab-df-container\">\n",
              "      <div>\n",
              "<style scoped>\n",
              "    .dataframe tbody tr th:only-of-type {\n",
              "        vertical-align: middle;\n",
              "    }\n",
              "\n",
              "    .dataframe tbody tr th {\n",
              "        vertical-align: top;\n",
              "    }\n",
              "\n",
              "    .dataframe thead th {\n",
              "        text-align: right;\n",
              "    }\n",
              "</style>\n",
              "<table border=\"1\" class=\"dataframe\">\n",
              "  <thead>\n",
              "    <tr style=\"text-align: right;\">\n",
              "      <th></th>\n",
              "      <th>id</th>\n",
              "      <th>message_date</th>\n",
              "      <th>user_id</th>\n",
              "    </tr>\n",
              "  </thead>\n",
              "  <tbody>\n",
              "    <tr>\n",
              "      <th>0</th>\n",
              "      <td>1000_0</td>\n",
              "      <td>2018-06-27</td>\n",
              "      <td>1000</td>\n",
              "    </tr>\n",
              "    <tr>\n",
              "      <th>1</th>\n",
              "      <td>1000_1</td>\n",
              "      <td>2018-10-08</td>\n",
              "      <td>1000</td>\n",
              "    </tr>\n",
              "    <tr>\n",
              "      <th>2</th>\n",
              "      <td>1000_2</td>\n",
              "      <td>2018-08-04</td>\n",
              "      <td>1000</td>\n",
              "    </tr>\n",
              "    <tr>\n",
              "      <th>3</th>\n",
              "      <td>1000_3</td>\n",
              "      <td>2018-06-16</td>\n",
              "      <td>1000</td>\n",
              "    </tr>\n",
              "    <tr>\n",
              "      <th>4</th>\n",
              "      <td>1000_4</td>\n",
              "      <td>2018-12-05</td>\n",
              "      <td>1000</td>\n",
              "    </tr>\n",
              "  </tbody>\n",
              "</table>\n",
              "</div>\n",
              "      <button class=\"colab-df-convert\" onclick=\"convertToInteractive('df-ac01314a-d347-4c83-b5da-c83fc2d02895')\"\n",
              "              title=\"Convert this dataframe to an interactive table.\"\n",
              "              style=\"display:none;\">\n",
              "        \n",
              "  <svg xmlns=\"http://www.w3.org/2000/svg\" height=\"24px\"viewBox=\"0 0 24 24\"\n",
              "       width=\"24px\">\n",
              "    <path d=\"M0 0h24v24H0V0z\" fill=\"none\"/>\n",
              "    <path d=\"M18.56 5.44l.94 2.06.94-2.06 2.06-.94-2.06-.94-.94-2.06-.94 2.06-2.06.94zm-11 1L8.5 8.5l.94-2.06 2.06-.94-2.06-.94L8.5 2.5l-.94 2.06-2.06.94zm10 10l.94 2.06.94-2.06 2.06-.94-2.06-.94-.94-2.06-.94 2.06-2.06.94z\"/><path d=\"M17.41 7.96l-1.37-1.37c-.4-.4-.92-.59-1.43-.59-.52 0-1.04.2-1.43.59L10.3 9.45l-7.72 7.72c-.78.78-.78 2.05 0 2.83L4 21.41c.39.39.9.59 1.41.59.51 0 1.02-.2 1.41-.59l7.78-7.78 2.81-2.81c.8-.78.8-2.07 0-2.86zM5.41 20L4 18.59l7.72-7.72 1.47 1.35L5.41 20z\"/>\n",
              "  </svg>\n",
              "      </button>\n",
              "      \n",
              "  <style>\n",
              "    .colab-df-container {\n",
              "      display:flex;\n",
              "      flex-wrap:wrap;\n",
              "      gap: 12px;\n",
              "    }\n",
              "\n",
              "    .colab-df-convert {\n",
              "      background-color: #E8F0FE;\n",
              "      border: none;\n",
              "      border-radius: 50%;\n",
              "      cursor: pointer;\n",
              "      display: none;\n",
              "      fill: #1967D2;\n",
              "      height: 32px;\n",
              "      padding: 0 0 0 0;\n",
              "      width: 32px;\n",
              "    }\n",
              "\n",
              "    .colab-df-convert:hover {\n",
              "      background-color: #E2EBFA;\n",
              "      box-shadow: 0px 1px 2px rgba(60, 64, 67, 0.3), 0px 1px 3px 1px rgba(60, 64, 67, 0.15);\n",
              "      fill: #174EA6;\n",
              "    }\n",
              "\n",
              "    [theme=dark] .colab-df-convert {\n",
              "      background-color: #3B4455;\n",
              "      fill: #D2E3FC;\n",
              "    }\n",
              "\n",
              "    [theme=dark] .colab-df-convert:hover {\n",
              "      background-color: #434B5C;\n",
              "      box-shadow: 0px 1px 3px 1px rgba(0, 0, 0, 0.15);\n",
              "      filter: drop-shadow(0px 1px 2px rgba(0, 0, 0, 0.3));\n",
              "      fill: #FFFFFF;\n",
              "    }\n",
              "  </style>\n",
              "\n",
              "      <script>\n",
              "        const buttonEl =\n",
              "          document.querySelector('#df-ac01314a-d347-4c83-b5da-c83fc2d02895 button.colab-df-convert');\n",
              "        buttonEl.style.display =\n",
              "          google.colab.kernel.accessAllowed ? 'block' : 'none';\n",
              "\n",
              "        async function convertToInteractive(key) {\n",
              "          const element = document.querySelector('#df-ac01314a-d347-4c83-b5da-c83fc2d02895');\n",
              "          const dataTable =\n",
              "            await google.colab.kernel.invokeFunction('convertToInteractive',\n",
              "                                                     [key], {});\n",
              "          if (!dataTable) return;\n",
              "\n",
              "          const docLinkHtml = 'Like what you see? Visit the ' +\n",
              "            '<a target=\"_blank\" href=https://colab.research.google.com/notebooks/data_table.ipynb>data table notebook</a>'\n",
              "            + ' to learn more about interactive tables.';\n",
              "          element.innerHTML = '';\n",
              "          dataTable['output_type'] = 'display_data';\n",
              "          await google.colab.output.renderOutput(dataTable, element);\n",
              "          const docLink = document.createElement('div');\n",
              "          docLink.innerHTML = docLinkHtml;\n",
              "          element.appendChild(docLink);\n",
              "        }\n",
              "      </script>\n",
              "    </div>\n",
              "  </div>\n",
              "  "
            ]
          },
          "metadata": {},
          "execution_count": 76
        }
      ],
      "source": [
        "messages.head(5)"
      ]
    },
    {
      "cell_type": "markdown",
      "metadata": {
        "deletable": false,
        "editable": false,
        "id": "QzxKbOrDKyDR",
        "tags": [
          "start_task"
        ]
      },
      "source": [
        "**Задание 11.** Выведите основную информацию для датафрейма `messages` с помощью метода `info()`. "
      ]
    },
    {
      "cell_type": "code",
      "execution_count": 77,
      "metadata": {
        "deletable": false,
        "id": "y_z7qlA6KyDS",
        "colab": {
          "base_uri": "https://localhost:8080/"
        },
        "outputId": "69616486-4337-4d82-d9da-11df04218fd0"
      },
      "outputs": [
        {
          "output_type": "stream",
          "name": "stdout",
          "text": [
            "<class 'pandas.core.frame.DataFrame'>\n",
            "RangeIndex: 123036 entries, 0 to 123035\n",
            "Data columns (total 3 columns):\n",
            " #   Column        Non-Null Count   Dtype \n",
            "---  ------        --------------   ----- \n",
            " 0   id            123036 non-null  object\n",
            " 1   message_date  123036 non-null  object\n",
            " 2   user_id       123036 non-null  int64 \n",
            "dtypes: int64(1), object(2)\n",
            "memory usage: 2.8+ MB\n"
          ]
        }
      ],
      "source": [
        "messages.info()"
      ]
    },
    {
      "cell_type": "markdown",
      "metadata": {
        "deletable": false,
        "editable": false,
        "id": "5d_JokdiKyDS",
        "tags": [
          "start_task"
        ]
      },
      "source": [
        "**Задание 12.** Откройте файл `/tariffs.csv`, сохраните датафрейм в переменную `tariffs`."
      ]
    },
    {
      "cell_type": "code",
      "execution_count": 78,
      "metadata": {
        "deletable": false,
        "id": "IZmLy1evKyDS"
      },
      "outputs": [],
      "source": [
        "tariffs = pd.read_csv('/content/tariffs.csv')"
      ]
    },
    {
      "cell_type": "markdown",
      "metadata": {
        "deletable": false,
        "editable": false,
        "id": "oyuafkXkKyDS",
        "tags": [
          "start_task"
        ]
      },
      "source": [
        "**Задание 13.** Выведите весь датафрейм `tariffs`."
      ]
    },
    {
      "cell_type": "code",
      "execution_count": 79,
      "metadata": {
        "deletable": false,
        "id": "cmRMXR0oKyDT",
        "colab": {
          "base_uri": "https://localhost:8080/",
          "height": 112
        },
        "outputId": "9d933dff-3f4e-49ed-f0fc-917edc0aa814"
      },
      "outputs": [
        {
          "output_type": "execute_result",
          "data": {
            "text/plain": [
              "   messages_included  mb_per_month_included  minutes_included  \\\n",
              "0                 50                  15360               500   \n",
              "1               1000                  30720              3000   \n",
              "\n",
              "   rub_monthly_fee  rub_per_gb  rub_per_message  rub_per_minute tariff_name  \n",
              "0              550         200                3               3       smart  \n",
              "1             1950         150                1               1       ultra  "
            ],
            "text/html": [
              "\n",
              "  <div id=\"df-8950fd22-40b7-4775-b92f-aaaf843160b7\">\n",
              "    <div class=\"colab-df-container\">\n",
              "      <div>\n",
              "<style scoped>\n",
              "    .dataframe tbody tr th:only-of-type {\n",
              "        vertical-align: middle;\n",
              "    }\n",
              "\n",
              "    .dataframe tbody tr th {\n",
              "        vertical-align: top;\n",
              "    }\n",
              "\n",
              "    .dataframe thead th {\n",
              "        text-align: right;\n",
              "    }\n",
              "</style>\n",
              "<table border=\"1\" class=\"dataframe\">\n",
              "  <thead>\n",
              "    <tr style=\"text-align: right;\">\n",
              "      <th></th>\n",
              "      <th>messages_included</th>\n",
              "      <th>mb_per_month_included</th>\n",
              "      <th>minutes_included</th>\n",
              "      <th>rub_monthly_fee</th>\n",
              "      <th>rub_per_gb</th>\n",
              "      <th>rub_per_message</th>\n",
              "      <th>rub_per_minute</th>\n",
              "      <th>tariff_name</th>\n",
              "    </tr>\n",
              "  </thead>\n",
              "  <tbody>\n",
              "    <tr>\n",
              "      <th>0</th>\n",
              "      <td>50</td>\n",
              "      <td>15360</td>\n",
              "      <td>500</td>\n",
              "      <td>550</td>\n",
              "      <td>200</td>\n",
              "      <td>3</td>\n",
              "      <td>3</td>\n",
              "      <td>smart</td>\n",
              "    </tr>\n",
              "    <tr>\n",
              "      <th>1</th>\n",
              "      <td>1000</td>\n",
              "      <td>30720</td>\n",
              "      <td>3000</td>\n",
              "      <td>1950</td>\n",
              "      <td>150</td>\n",
              "      <td>1</td>\n",
              "      <td>1</td>\n",
              "      <td>ultra</td>\n",
              "    </tr>\n",
              "  </tbody>\n",
              "</table>\n",
              "</div>\n",
              "      <button class=\"colab-df-convert\" onclick=\"convertToInteractive('df-8950fd22-40b7-4775-b92f-aaaf843160b7')\"\n",
              "              title=\"Convert this dataframe to an interactive table.\"\n",
              "              style=\"display:none;\">\n",
              "        \n",
              "  <svg xmlns=\"http://www.w3.org/2000/svg\" height=\"24px\"viewBox=\"0 0 24 24\"\n",
              "       width=\"24px\">\n",
              "    <path d=\"M0 0h24v24H0V0z\" fill=\"none\"/>\n",
              "    <path d=\"M18.56 5.44l.94 2.06.94-2.06 2.06-.94-2.06-.94-.94-2.06-.94 2.06-2.06.94zm-11 1L8.5 8.5l.94-2.06 2.06-.94-2.06-.94L8.5 2.5l-.94 2.06-2.06.94zm10 10l.94 2.06.94-2.06 2.06-.94-2.06-.94-.94-2.06-.94 2.06-2.06.94z\"/><path d=\"M17.41 7.96l-1.37-1.37c-.4-.4-.92-.59-1.43-.59-.52 0-1.04.2-1.43.59L10.3 9.45l-7.72 7.72c-.78.78-.78 2.05 0 2.83L4 21.41c.39.39.9.59 1.41.59.51 0 1.02-.2 1.41-.59l7.78-7.78 2.81-2.81c.8-.78.8-2.07 0-2.86zM5.41 20L4 18.59l7.72-7.72 1.47 1.35L5.41 20z\"/>\n",
              "  </svg>\n",
              "      </button>\n",
              "      \n",
              "  <style>\n",
              "    .colab-df-container {\n",
              "      display:flex;\n",
              "      flex-wrap:wrap;\n",
              "      gap: 12px;\n",
              "    }\n",
              "\n",
              "    .colab-df-convert {\n",
              "      background-color: #E8F0FE;\n",
              "      border: none;\n",
              "      border-radius: 50%;\n",
              "      cursor: pointer;\n",
              "      display: none;\n",
              "      fill: #1967D2;\n",
              "      height: 32px;\n",
              "      padding: 0 0 0 0;\n",
              "      width: 32px;\n",
              "    }\n",
              "\n",
              "    .colab-df-convert:hover {\n",
              "      background-color: #E2EBFA;\n",
              "      box-shadow: 0px 1px 2px rgba(60, 64, 67, 0.3), 0px 1px 3px 1px rgba(60, 64, 67, 0.15);\n",
              "      fill: #174EA6;\n",
              "    }\n",
              "\n",
              "    [theme=dark] .colab-df-convert {\n",
              "      background-color: #3B4455;\n",
              "      fill: #D2E3FC;\n",
              "    }\n",
              "\n",
              "    [theme=dark] .colab-df-convert:hover {\n",
              "      background-color: #434B5C;\n",
              "      box-shadow: 0px 1px 3px 1px rgba(0, 0, 0, 0.15);\n",
              "      filter: drop-shadow(0px 1px 2px rgba(0, 0, 0, 0.3));\n",
              "      fill: #FFFFFF;\n",
              "    }\n",
              "  </style>\n",
              "\n",
              "      <script>\n",
              "        const buttonEl =\n",
              "          document.querySelector('#df-8950fd22-40b7-4775-b92f-aaaf843160b7 button.colab-df-convert');\n",
              "        buttonEl.style.display =\n",
              "          google.colab.kernel.accessAllowed ? 'block' : 'none';\n",
              "\n",
              "        async function convertToInteractive(key) {\n",
              "          const element = document.querySelector('#df-8950fd22-40b7-4775-b92f-aaaf843160b7');\n",
              "          const dataTable =\n",
              "            await google.colab.kernel.invokeFunction('convertToInteractive',\n",
              "                                                     [key], {});\n",
              "          if (!dataTable) return;\n",
              "\n",
              "          const docLinkHtml = 'Like what you see? Visit the ' +\n",
              "            '<a target=\"_blank\" href=https://colab.research.google.com/notebooks/data_table.ipynb>data table notebook</a>'\n",
              "            + ' to learn more about interactive tables.';\n",
              "          element.innerHTML = '';\n",
              "          dataTable['output_type'] = 'display_data';\n",
              "          await google.colab.output.renderOutput(dataTable, element);\n",
              "          const docLink = document.createElement('div');\n",
              "          docLink.innerHTML = docLinkHtml;\n",
              "          element.appendChild(docLink);\n",
              "        }\n",
              "      </script>\n",
              "    </div>\n",
              "  </div>\n",
              "  "
            ]
          },
          "metadata": {},
          "execution_count": 79
        }
      ],
      "source": [
        "tariffs"
      ]
    },
    {
      "cell_type": "markdown",
      "metadata": {
        "deletable": false,
        "editable": false,
        "id": "8eHbUTRnKyDT",
        "tags": [
          "start_task"
        ]
      },
      "source": [
        "**Задание 14.** Выведите основную информацию для датафрейма `tariffs` с помощью метода `info()`."
      ]
    },
    {
      "cell_type": "code",
      "execution_count": 80,
      "metadata": {
        "deletable": false,
        "id": "pFthDM3nKyDT",
        "colab": {
          "base_uri": "https://localhost:8080/"
        },
        "outputId": "f97d5f92-f166-47b8-e88c-e2bb7f14e2bf"
      },
      "outputs": [
        {
          "output_type": "stream",
          "name": "stdout",
          "text": [
            "<class 'pandas.core.frame.DataFrame'>\n",
            "RangeIndex: 2 entries, 0 to 1\n",
            "Data columns (total 8 columns):\n",
            " #   Column                 Non-Null Count  Dtype \n",
            "---  ------                 --------------  ----- \n",
            " 0   messages_included      2 non-null      int64 \n",
            " 1   mb_per_month_included  2 non-null      int64 \n",
            " 2   minutes_included       2 non-null      int64 \n",
            " 3   rub_monthly_fee        2 non-null      int64 \n",
            " 4   rub_per_gb             2 non-null      int64 \n",
            " 5   rub_per_message        2 non-null      int64 \n",
            " 6   rub_per_minute         2 non-null      int64 \n",
            " 7   tariff_name            2 non-null      object\n",
            "dtypes: int64(7), object(1)\n",
            "memory usage: 256.0+ bytes\n"
          ]
        }
      ],
      "source": [
        "tariffs.info()"
      ]
    },
    {
      "cell_type": "markdown",
      "metadata": {
        "deletable": false,
        "editable": false,
        "id": "rKOTLNHCKyDU",
        "tags": [
          "start_task"
        ]
      },
      "source": [
        "**Задание 15.** Откройте файл `users.csv`, сохраните датафрейм в переменную `users`."
      ]
    },
    {
      "cell_type": "code",
      "execution_count": 81,
      "metadata": {
        "deletable": false,
        "id": "R97W4n20KyDU"
      },
      "outputs": [],
      "source": [
        "users = pd.read_csv('/content/users.csv')"
      ]
    },
    {
      "cell_type": "markdown",
      "metadata": {
        "deletable": false,
        "editable": false,
        "id": "OClJvZ0LKyDU",
        "tags": [
          "start_task"
        ]
      },
      "source": [
        "**Задание 16.** Выведите первые 5 строк датафрейма `users`."
      ]
    },
    {
      "cell_type": "code",
      "execution_count": 82,
      "metadata": {
        "deletable": false,
        "id": "qcl2dcBMKyDV",
        "colab": {
          "base_uri": "https://localhost:8080/",
          "height": 206
        },
        "outputId": "28aaffdf-9cdd-4d43-a7fe-733a8bb9e442"
      },
      "outputs": [
        {
          "output_type": "execute_result",
          "data": {
            "text/plain": [
              "   user_id  age churn_date         city first_name  last_name    reg_date  \\\n",
              "0     1000   52        NaN    Краснодар     Рафаил  Верещагин  2018-05-25   \n",
              "1     1001   41        NaN       Москва       Иван       Ежов  2018-11-01   \n",
              "2     1002   59        NaN  Стерлитамак    Евгений  Абрамович  2018-06-17   \n",
              "3     1003   23        NaN       Москва      Белла   Белякова  2018-08-17   \n",
              "4     1004   68        NaN  Новокузнецк    Татьяна   Авдеенко  2018-05-14   \n",
              "\n",
              "  tariff  \n",
              "0  ultra  \n",
              "1  smart  \n",
              "2  smart  \n",
              "3  ultra  \n",
              "4  ultra  "
            ],
            "text/html": [
              "\n",
              "  <div id=\"df-cf30d0d7-26d9-41bc-b6ab-ce034923f0ef\">\n",
              "    <div class=\"colab-df-container\">\n",
              "      <div>\n",
              "<style scoped>\n",
              "    .dataframe tbody tr th:only-of-type {\n",
              "        vertical-align: middle;\n",
              "    }\n",
              "\n",
              "    .dataframe tbody tr th {\n",
              "        vertical-align: top;\n",
              "    }\n",
              "\n",
              "    .dataframe thead th {\n",
              "        text-align: right;\n",
              "    }\n",
              "</style>\n",
              "<table border=\"1\" class=\"dataframe\">\n",
              "  <thead>\n",
              "    <tr style=\"text-align: right;\">\n",
              "      <th></th>\n",
              "      <th>user_id</th>\n",
              "      <th>age</th>\n",
              "      <th>churn_date</th>\n",
              "      <th>city</th>\n",
              "      <th>first_name</th>\n",
              "      <th>last_name</th>\n",
              "      <th>reg_date</th>\n",
              "      <th>tariff</th>\n",
              "    </tr>\n",
              "  </thead>\n",
              "  <tbody>\n",
              "    <tr>\n",
              "      <th>0</th>\n",
              "      <td>1000</td>\n",
              "      <td>52</td>\n",
              "      <td>NaN</td>\n",
              "      <td>Краснодар</td>\n",
              "      <td>Рафаил</td>\n",
              "      <td>Верещагин</td>\n",
              "      <td>2018-05-25</td>\n",
              "      <td>ultra</td>\n",
              "    </tr>\n",
              "    <tr>\n",
              "      <th>1</th>\n",
              "      <td>1001</td>\n",
              "      <td>41</td>\n",
              "      <td>NaN</td>\n",
              "      <td>Москва</td>\n",
              "      <td>Иван</td>\n",
              "      <td>Ежов</td>\n",
              "      <td>2018-11-01</td>\n",
              "      <td>smart</td>\n",
              "    </tr>\n",
              "    <tr>\n",
              "      <th>2</th>\n",
              "      <td>1002</td>\n",
              "      <td>59</td>\n",
              "      <td>NaN</td>\n",
              "      <td>Стерлитамак</td>\n",
              "      <td>Евгений</td>\n",
              "      <td>Абрамович</td>\n",
              "      <td>2018-06-17</td>\n",
              "      <td>smart</td>\n",
              "    </tr>\n",
              "    <tr>\n",
              "      <th>3</th>\n",
              "      <td>1003</td>\n",
              "      <td>23</td>\n",
              "      <td>NaN</td>\n",
              "      <td>Москва</td>\n",
              "      <td>Белла</td>\n",
              "      <td>Белякова</td>\n",
              "      <td>2018-08-17</td>\n",
              "      <td>ultra</td>\n",
              "    </tr>\n",
              "    <tr>\n",
              "      <th>4</th>\n",
              "      <td>1004</td>\n",
              "      <td>68</td>\n",
              "      <td>NaN</td>\n",
              "      <td>Новокузнецк</td>\n",
              "      <td>Татьяна</td>\n",
              "      <td>Авдеенко</td>\n",
              "      <td>2018-05-14</td>\n",
              "      <td>ultra</td>\n",
              "    </tr>\n",
              "  </tbody>\n",
              "</table>\n",
              "</div>\n",
              "      <button class=\"colab-df-convert\" onclick=\"convertToInteractive('df-cf30d0d7-26d9-41bc-b6ab-ce034923f0ef')\"\n",
              "              title=\"Convert this dataframe to an interactive table.\"\n",
              "              style=\"display:none;\">\n",
              "        \n",
              "  <svg xmlns=\"http://www.w3.org/2000/svg\" height=\"24px\"viewBox=\"0 0 24 24\"\n",
              "       width=\"24px\">\n",
              "    <path d=\"M0 0h24v24H0V0z\" fill=\"none\"/>\n",
              "    <path d=\"M18.56 5.44l.94 2.06.94-2.06 2.06-.94-2.06-.94-.94-2.06-.94 2.06-2.06.94zm-11 1L8.5 8.5l.94-2.06 2.06-.94-2.06-.94L8.5 2.5l-.94 2.06-2.06.94zm10 10l.94 2.06.94-2.06 2.06-.94-2.06-.94-.94-2.06-.94 2.06-2.06.94z\"/><path d=\"M17.41 7.96l-1.37-1.37c-.4-.4-.92-.59-1.43-.59-.52 0-1.04.2-1.43.59L10.3 9.45l-7.72 7.72c-.78.78-.78 2.05 0 2.83L4 21.41c.39.39.9.59 1.41.59.51 0 1.02-.2 1.41-.59l7.78-7.78 2.81-2.81c.8-.78.8-2.07 0-2.86zM5.41 20L4 18.59l7.72-7.72 1.47 1.35L5.41 20z\"/>\n",
              "  </svg>\n",
              "      </button>\n",
              "      \n",
              "  <style>\n",
              "    .colab-df-container {\n",
              "      display:flex;\n",
              "      flex-wrap:wrap;\n",
              "      gap: 12px;\n",
              "    }\n",
              "\n",
              "    .colab-df-convert {\n",
              "      background-color: #E8F0FE;\n",
              "      border: none;\n",
              "      border-radius: 50%;\n",
              "      cursor: pointer;\n",
              "      display: none;\n",
              "      fill: #1967D2;\n",
              "      height: 32px;\n",
              "      padding: 0 0 0 0;\n",
              "      width: 32px;\n",
              "    }\n",
              "\n",
              "    .colab-df-convert:hover {\n",
              "      background-color: #E2EBFA;\n",
              "      box-shadow: 0px 1px 2px rgba(60, 64, 67, 0.3), 0px 1px 3px 1px rgba(60, 64, 67, 0.15);\n",
              "      fill: #174EA6;\n",
              "    }\n",
              "\n",
              "    [theme=dark] .colab-df-convert {\n",
              "      background-color: #3B4455;\n",
              "      fill: #D2E3FC;\n",
              "    }\n",
              "\n",
              "    [theme=dark] .colab-df-convert:hover {\n",
              "      background-color: #434B5C;\n",
              "      box-shadow: 0px 1px 3px 1px rgba(0, 0, 0, 0.15);\n",
              "      filter: drop-shadow(0px 1px 2px rgba(0, 0, 0, 0.3));\n",
              "      fill: #FFFFFF;\n",
              "    }\n",
              "  </style>\n",
              "\n",
              "      <script>\n",
              "        const buttonEl =\n",
              "          document.querySelector('#df-cf30d0d7-26d9-41bc-b6ab-ce034923f0ef button.colab-df-convert');\n",
              "        buttonEl.style.display =\n",
              "          google.colab.kernel.accessAllowed ? 'block' : 'none';\n",
              "\n",
              "        async function convertToInteractive(key) {\n",
              "          const element = document.querySelector('#df-cf30d0d7-26d9-41bc-b6ab-ce034923f0ef');\n",
              "          const dataTable =\n",
              "            await google.colab.kernel.invokeFunction('convertToInteractive',\n",
              "                                                     [key], {});\n",
              "          if (!dataTable) return;\n",
              "\n",
              "          const docLinkHtml = 'Like what you see? Visit the ' +\n",
              "            '<a target=\"_blank\" href=https://colab.research.google.com/notebooks/data_table.ipynb>data table notebook</a>'\n",
              "            + ' to learn more about interactive tables.';\n",
              "          element.innerHTML = '';\n",
              "          dataTable['output_type'] = 'display_data';\n",
              "          await google.colab.output.renderOutput(dataTable, element);\n",
              "          const docLink = document.createElement('div');\n",
              "          docLink.innerHTML = docLinkHtml;\n",
              "          element.appendChild(docLink);\n",
              "        }\n",
              "      </script>\n",
              "    </div>\n",
              "  </div>\n",
              "  "
            ]
          },
          "metadata": {},
          "execution_count": 82
        }
      ],
      "source": [
        "users.head(5)"
      ]
    },
    {
      "cell_type": "markdown",
      "metadata": {
        "deletable": false,
        "editable": false,
        "id": "C_RrZ1_9KyDV",
        "tags": [
          "start_task"
        ]
      },
      "source": [
        "**Задание 17.** Выведите основную информацию для датафрейма `users` с помощью метода `info()`."
      ]
    },
    {
      "cell_type": "code",
      "execution_count": 83,
      "metadata": {
        "deletable": false,
        "id": "LWqNiDRIKyDW",
        "colab": {
          "base_uri": "https://localhost:8080/"
        },
        "outputId": "55a2a1d2-b9d0-41b0-dba5-7e6e3f03d63a"
      },
      "outputs": [
        {
          "output_type": "stream",
          "name": "stdout",
          "text": [
            "<class 'pandas.core.frame.DataFrame'>\n",
            "RangeIndex: 500 entries, 0 to 499\n",
            "Data columns (total 8 columns):\n",
            " #   Column      Non-Null Count  Dtype \n",
            "---  ------      --------------  ----- \n",
            " 0   user_id     500 non-null    int64 \n",
            " 1   age         500 non-null    int64 \n",
            " 2   churn_date  38 non-null     object\n",
            " 3   city        500 non-null    object\n",
            " 4   first_name  500 non-null    object\n",
            " 5   last_name   500 non-null    object\n",
            " 6   reg_date    500 non-null    object\n",
            " 7   tariff      500 non-null    object\n",
            "dtypes: int64(2), object(6)\n",
            "memory usage: 31.4+ KB\n"
          ]
        }
      ],
      "source": [
        "users.info()"
      ]
    },
    {
      "cell_type": "markdown",
      "metadata": {
        "deletable": false,
        "editable": false,
        "id": "63Elje7DKyDW"
      },
      "source": [
        "# Подготовьте данные"
      ]
    },
    {
      "cell_type": "markdown",
      "metadata": {
        "deletable": false,
        "editable": false,
        "id": "c1K3vTLQKyDY",
        "tags": [
          "start_task"
        ]
      },
      "source": [
        "**Задание 18.**  Приведите столбцы\n",
        "\n",
        "- `reg_date` из таблицы `users`\n",
        "- `churn_date` из таблицы `users`\n",
        "- `call_date` из таблицы `calls`\n",
        "- `message_date` из таблицы `messages`\n",
        "- `session_date` из таблицы `sessions`\n",
        "\n",
        "к новому типу с помощью метода `to_datetime()`."
      ]
    },
    {
      "cell_type": "code",
      "execution_count": 84,
      "metadata": {
        "deletable": false,
        "id": "0WBPne2BKyDZ"
      },
      "outputs": [],
      "source": [
        "users['reg_date'] = pd.to_datetime(\n",
        "    users['reg_date'], format='%Y-%m-%dT%H:%M:%S'\n",
        ")\n",
        "users['churn_date'] = pd.to_datetime(\n",
        "    users['churn_date'], format='%Y-%m-%dT%H:%M:%S'\n",
        ")\n",
        "calls['call_date'] = pd.to_datetime(\n",
        "    calls['call_date'], format='%Y-%m-%dT%H:%M:%S'\n",
        ")\n",
        "messages['message_date'] = pd.to_datetime(\n",
        "    messages['message_date'], format='%Y-%m-%dT%H:%M:%S'\n",
        ")\n",
        "sessions['session_date'] = pd.to_datetime(\n",
        "    sessions['session_date'], format='%Y-%m-%dT%H:%M:%S'\n",
        ")"
      ]
    },
    {
      "cell_type": "markdown",
      "metadata": {
        "deletable": false,
        "editable": false,
        "id": "Dodx23h9KyDZ",
        "tags": [
          "start_task"
        ]
      },
      "source": [
        "**Задание 19.** В данных вы найдёте звонки с нулевой продолжительностью. Это не ошибка: нулями обозначены пропущенные звонки, поэтому их не нужно удалять.\n",
        "\n",
        "Однако в столбце `duration` датафрейма `calls` значения дробные. Округлите значения столбца `duration` вверх с помощью метода `numpy.ceil()` и приведите столбец `duration` к типу `int`."
      ]
    },
    {
      "cell_type": "code",
      "execution_count": 85,
      "metadata": {
        "deletable": false,
        "id": "8IoDSPJNKyDZ"
      },
      "outputs": [],
      "source": [
        "calls['duration'] = np.ceil(calls['duration']).astype(int)\n",
        "\n",
        "# округление значений столбца duration с помощью np.ceil() и приведение типа к int"
      ]
    },
    {
      "cell_type": "markdown",
      "metadata": {
        "deletable": false,
        "editable": false,
        "id": "MtIO6mP_KyDa",
        "tags": [
          "start_task"
        ]
      },
      "source": [
        "**Задание 20.** Удалите столбец `Unnamed: 0` из датафрейма `sessions`. Столбец с таким названием возникает, когда данные сохраняют с указанием индекса (`df.to_csv(..., index=column)`). Он сейчас не понадобится."
      ]
    },
    {
      "cell_type": "code",
      "execution_count": 86,
      "metadata": {
        "deletable": false,
        "id": "k_kE8bl6KyDa"
      },
      "outputs": [],
      "source": [
        "sessions.drop(columns = ['Unnamed: 0'],axis = 1,inplace=True) "
      ]
    },
    {
      "cell_type": "markdown",
      "metadata": {
        "deletable": false,
        "editable": false,
        "id": "1pKJKPkNKyDb",
        "tags": [
          "start_task"
        ]
      },
      "source": [
        "**Задание 21.** Создайте столбец `month` в датафрейме `calls` с номером месяца из столбца `call_date`."
      ]
    },
    {
      "cell_type": "code",
      "execution_count": 87,
      "metadata": {
        "deletable": false,
        "id": "ZzUWuXUeKyDb"
      },
      "outputs": [],
      "source": [
        "calls['month'] = calls['call_date'].dt.month"
      ]
    },
    {
      "cell_type": "markdown",
      "metadata": {
        "deletable": false,
        "editable": false,
        "id": "RifDYIPjKyDc",
        "tags": [
          "start_task"
        ]
      },
      "source": [
        "**Задание 22.** Создайте столбец `month` в датафрейме `messages` с номером месяца из столбца `message_date`."
      ]
    },
    {
      "cell_type": "code",
      "execution_count": 88,
      "metadata": {
        "deletable": false,
        "id": "UwaWpzgqKyDc"
      },
      "outputs": [],
      "source": [
        "messages['month'] = messages['message_date'].dt.month"
      ]
    },
    {
      "cell_type": "markdown",
      "metadata": {
        "deletable": false,
        "editable": false,
        "id": "vHE47ZbbKyDc",
        "tags": [
          "start_task"
        ]
      },
      "source": [
        "**Задание 23.** Создайте столбец `month` в датафрейме `sessions` с номером месяца из столбца `session_date`."
      ]
    },
    {
      "cell_type": "code",
      "execution_count": 89,
      "metadata": {
        "deletable": false,
        "id": "WwIH_14gKyDd"
      },
      "outputs": [],
      "source": [
        "sessions['month'] = sessions['session_date'].dt.month"
      ]
    },
    {
      "cell_type": "markdown",
      "metadata": {
        "deletable": false,
        "editable": false,
        "id": "gOieh-uzKyDd",
        "tags": [
          "start_task"
        ]
      },
      "source": [
        "**Задание 24.** Посчитайте количество сделанных звонков разговора для каждого пользователя по месяцам и сохраните в переменную `calls_per_month`."
      ]
    },
    {
      "cell_type": "code",
      "execution_count": 90,
      "metadata": {
        "deletable": false,
        "id": "DVz8VzseKyDd"
      },
      "outputs": [],
      "source": [
        "#Подсчёт количества звонков для каждого пользователя по месяцам\n",
        "calls_per_month = calls.groupby(['user_id','month']).agg(calls=('duration', 'count'))"
      ]
    },
    {
      "cell_type": "code",
      "execution_count": 91,
      "metadata": {
        "deletable": false,
        "id": "Yvladn_XKyDd",
        "colab": {
          "base_uri": "https://localhost:8080/",
          "height": 1000
        },
        "outputId": "6156bd3e-e387-45dd-b4fc-f6ff38c9d758"
      },
      "outputs": [
        {
          "output_type": "execute_result",
          "data": {
            "text/plain": [
              "               calls\n",
              "user_id month       \n",
              "1000    5         22\n",
              "        6         43\n",
              "        7         47\n",
              "        8         52\n",
              "        9         58\n",
              "        10        57\n",
              "        11        43\n",
              "        12        46\n",
              "1001    11        59\n",
              "        12        63\n",
              "1002    6         15\n",
              "        7         26\n",
              "        8         42\n",
              "        9         36\n",
              "        10        33\n",
              "        11        32\n",
              "        12        33\n",
              "1003    8         55\n",
              "        9        134\n",
              "        10       108\n",
              "        11       115\n",
              "        12       108\n",
              "1004    5          9\n",
              "        6         31\n",
              "        7         22\n",
              "        8         19\n",
              "        9         26\n",
              "        10        29\n",
              "        11        19\n",
              "        12        21"
            ],
            "text/html": [
              "\n",
              "  <div id=\"df-f0ff7b15-0a55-4f6a-8446-1c49644ad75e\">\n",
              "    <div class=\"colab-df-container\">\n",
              "      <div>\n",
              "<style scoped>\n",
              "    .dataframe tbody tr th:only-of-type {\n",
              "        vertical-align: middle;\n",
              "    }\n",
              "\n",
              "    .dataframe tbody tr th {\n",
              "        vertical-align: top;\n",
              "    }\n",
              "\n",
              "    .dataframe thead th {\n",
              "        text-align: right;\n",
              "    }\n",
              "</style>\n",
              "<table border=\"1\" class=\"dataframe\">\n",
              "  <thead>\n",
              "    <tr style=\"text-align: right;\">\n",
              "      <th></th>\n",
              "      <th></th>\n",
              "      <th>calls</th>\n",
              "    </tr>\n",
              "    <tr>\n",
              "      <th>user_id</th>\n",
              "      <th>month</th>\n",
              "      <th></th>\n",
              "    </tr>\n",
              "  </thead>\n",
              "  <tbody>\n",
              "    <tr>\n",
              "      <th rowspan=\"8\" valign=\"top\">1000</th>\n",
              "      <th>5</th>\n",
              "      <td>22</td>\n",
              "    </tr>\n",
              "    <tr>\n",
              "      <th>6</th>\n",
              "      <td>43</td>\n",
              "    </tr>\n",
              "    <tr>\n",
              "      <th>7</th>\n",
              "      <td>47</td>\n",
              "    </tr>\n",
              "    <tr>\n",
              "      <th>8</th>\n",
              "      <td>52</td>\n",
              "    </tr>\n",
              "    <tr>\n",
              "      <th>9</th>\n",
              "      <td>58</td>\n",
              "    </tr>\n",
              "    <tr>\n",
              "      <th>10</th>\n",
              "      <td>57</td>\n",
              "    </tr>\n",
              "    <tr>\n",
              "      <th>11</th>\n",
              "      <td>43</td>\n",
              "    </tr>\n",
              "    <tr>\n",
              "      <th>12</th>\n",
              "      <td>46</td>\n",
              "    </tr>\n",
              "    <tr>\n",
              "      <th rowspan=\"2\" valign=\"top\">1001</th>\n",
              "      <th>11</th>\n",
              "      <td>59</td>\n",
              "    </tr>\n",
              "    <tr>\n",
              "      <th>12</th>\n",
              "      <td>63</td>\n",
              "    </tr>\n",
              "    <tr>\n",
              "      <th rowspan=\"7\" valign=\"top\">1002</th>\n",
              "      <th>6</th>\n",
              "      <td>15</td>\n",
              "    </tr>\n",
              "    <tr>\n",
              "      <th>7</th>\n",
              "      <td>26</td>\n",
              "    </tr>\n",
              "    <tr>\n",
              "      <th>8</th>\n",
              "      <td>42</td>\n",
              "    </tr>\n",
              "    <tr>\n",
              "      <th>9</th>\n",
              "      <td>36</td>\n",
              "    </tr>\n",
              "    <tr>\n",
              "      <th>10</th>\n",
              "      <td>33</td>\n",
              "    </tr>\n",
              "    <tr>\n",
              "      <th>11</th>\n",
              "      <td>32</td>\n",
              "    </tr>\n",
              "    <tr>\n",
              "      <th>12</th>\n",
              "      <td>33</td>\n",
              "    </tr>\n",
              "    <tr>\n",
              "      <th rowspan=\"5\" valign=\"top\">1003</th>\n",
              "      <th>8</th>\n",
              "      <td>55</td>\n",
              "    </tr>\n",
              "    <tr>\n",
              "      <th>9</th>\n",
              "      <td>134</td>\n",
              "    </tr>\n",
              "    <tr>\n",
              "      <th>10</th>\n",
              "      <td>108</td>\n",
              "    </tr>\n",
              "    <tr>\n",
              "      <th>11</th>\n",
              "      <td>115</td>\n",
              "    </tr>\n",
              "    <tr>\n",
              "      <th>12</th>\n",
              "      <td>108</td>\n",
              "    </tr>\n",
              "    <tr>\n",
              "      <th rowspan=\"8\" valign=\"top\">1004</th>\n",
              "      <th>5</th>\n",
              "      <td>9</td>\n",
              "    </tr>\n",
              "    <tr>\n",
              "      <th>6</th>\n",
              "      <td>31</td>\n",
              "    </tr>\n",
              "    <tr>\n",
              "      <th>7</th>\n",
              "      <td>22</td>\n",
              "    </tr>\n",
              "    <tr>\n",
              "      <th>8</th>\n",
              "      <td>19</td>\n",
              "    </tr>\n",
              "    <tr>\n",
              "      <th>9</th>\n",
              "      <td>26</td>\n",
              "    </tr>\n",
              "    <tr>\n",
              "      <th>10</th>\n",
              "      <td>29</td>\n",
              "    </tr>\n",
              "    <tr>\n",
              "      <th>11</th>\n",
              "      <td>19</td>\n",
              "    </tr>\n",
              "    <tr>\n",
              "      <th>12</th>\n",
              "      <td>21</td>\n",
              "    </tr>\n",
              "  </tbody>\n",
              "</table>\n",
              "</div>\n",
              "      <button class=\"colab-df-convert\" onclick=\"convertToInteractive('df-f0ff7b15-0a55-4f6a-8446-1c49644ad75e')\"\n",
              "              title=\"Convert this dataframe to an interactive table.\"\n",
              "              style=\"display:none;\">\n",
              "        \n",
              "  <svg xmlns=\"http://www.w3.org/2000/svg\" height=\"24px\"viewBox=\"0 0 24 24\"\n",
              "       width=\"24px\">\n",
              "    <path d=\"M0 0h24v24H0V0z\" fill=\"none\"/>\n",
              "    <path d=\"M18.56 5.44l.94 2.06.94-2.06 2.06-.94-2.06-.94-.94-2.06-.94 2.06-2.06.94zm-11 1L8.5 8.5l.94-2.06 2.06-.94-2.06-.94L8.5 2.5l-.94 2.06-2.06.94zm10 10l.94 2.06.94-2.06 2.06-.94-2.06-.94-.94-2.06-.94 2.06-2.06.94z\"/><path d=\"M17.41 7.96l-1.37-1.37c-.4-.4-.92-.59-1.43-.59-.52 0-1.04.2-1.43.59L10.3 9.45l-7.72 7.72c-.78.78-.78 2.05 0 2.83L4 21.41c.39.39.9.59 1.41.59.51 0 1.02-.2 1.41-.59l7.78-7.78 2.81-2.81c.8-.78.8-2.07 0-2.86zM5.41 20L4 18.59l7.72-7.72 1.47 1.35L5.41 20z\"/>\n",
              "  </svg>\n",
              "      </button>\n",
              "      \n",
              "  <style>\n",
              "    .colab-df-container {\n",
              "      display:flex;\n",
              "      flex-wrap:wrap;\n",
              "      gap: 12px;\n",
              "    }\n",
              "\n",
              "    .colab-df-convert {\n",
              "      background-color: #E8F0FE;\n",
              "      border: none;\n",
              "      border-radius: 50%;\n",
              "      cursor: pointer;\n",
              "      display: none;\n",
              "      fill: #1967D2;\n",
              "      height: 32px;\n",
              "      padding: 0 0 0 0;\n",
              "      width: 32px;\n",
              "    }\n",
              "\n",
              "    .colab-df-convert:hover {\n",
              "      background-color: #E2EBFA;\n",
              "      box-shadow: 0px 1px 2px rgba(60, 64, 67, 0.3), 0px 1px 3px 1px rgba(60, 64, 67, 0.15);\n",
              "      fill: #174EA6;\n",
              "    }\n",
              "\n",
              "    [theme=dark] .colab-df-convert {\n",
              "      background-color: #3B4455;\n",
              "      fill: #D2E3FC;\n",
              "    }\n",
              "\n",
              "    [theme=dark] .colab-df-convert:hover {\n",
              "      background-color: #434B5C;\n",
              "      box-shadow: 0px 1px 3px 1px rgba(0, 0, 0, 0.15);\n",
              "      filter: drop-shadow(0px 1px 2px rgba(0, 0, 0, 0.3));\n",
              "      fill: #FFFFFF;\n",
              "    }\n",
              "  </style>\n",
              "\n",
              "      <script>\n",
              "        const buttonEl =\n",
              "          document.querySelector('#df-f0ff7b15-0a55-4f6a-8446-1c49644ad75e button.colab-df-convert');\n",
              "        buttonEl.style.display =\n",
              "          google.colab.kernel.accessAllowed ? 'block' : 'none';\n",
              "\n",
              "        async function convertToInteractive(key) {\n",
              "          const element = document.querySelector('#df-f0ff7b15-0a55-4f6a-8446-1c49644ad75e');\n",
              "          const dataTable =\n",
              "            await google.colab.kernel.invokeFunction('convertToInteractive',\n",
              "                                                     [key], {});\n",
              "          if (!dataTable) return;\n",
              "\n",
              "          const docLinkHtml = 'Like what you see? Visit the ' +\n",
              "            '<a target=\"_blank\" href=https://colab.research.google.com/notebooks/data_table.ipynb>data table notebook</a>'\n",
              "            + ' to learn more about interactive tables.';\n",
              "          element.innerHTML = '';\n",
              "          dataTable['output_type'] = 'display_data';\n",
              "          await google.colab.output.renderOutput(dataTable, element);\n",
              "          const docLink = document.createElement('div');\n",
              "          docLink.innerHTML = docLinkHtml;\n",
              "          element.appendChild(docLink);\n",
              "        }\n",
              "      </script>\n",
              "    </div>\n",
              "  </div>\n",
              "  "
            ]
          },
          "metadata": {},
          "execution_count": 91
        }
      ],
      "source": [
        "#Вывод 30 первых строк на экран\n",
        "calls_per_month.head(30)"
      ]
    },
    {
      "cell_type": "markdown",
      "metadata": {
        "deletable": false,
        "editable": false,
        "id": "ImKw4Xt-KyDd",
        "tags": [
          "start_task"
        ]
      },
      "source": [
        "**Задание 25.** Посчитайте количество израсходованных минут разговора для каждого пользователя по месяцам и сохраните в переменную `minutes_per_month`. Вам понадобится\n",
        "\n",
        "- сгруппировать датафрейм с информацией о звонках по двум столбцам — с идентификаторами пользователей и номерами месяцев;\n",
        "- после группировки выбрать столбец `duration`\n",
        "- затем применить метод для подсчёта суммы.\n",
        "\n",
        "Выведите первые 30 строчек `minutes_per_month`."
      ]
    },
    {
      "cell_type": "code",
      "execution_count": 92,
      "metadata": {
        "deletable": false,
        "id": "fmI97ee9KyDe"
      },
      "outputs": [],
      "source": [
        "#Подсчёт израсходованных минут для каждого пользователя по месяцам\n",
        "minutes_per_month = calls.groupby(['user_id','month']).agg(minutes=('duration','sum'))"
      ]
    },
    {
      "cell_type": "code",
      "execution_count": 93,
      "metadata": {
        "deletable": false,
        "id": "HpAv1X4KKyDe",
        "colab": {
          "base_uri": "https://localhost:8080/",
          "height": 1000
        },
        "outputId": "7ba33695-f383-4794-a3d0-0362af913bbf"
      },
      "outputs": [
        {
          "output_type": "execute_result",
          "data": {
            "text/plain": [
              "               minutes\n",
              "user_id month         \n",
              "1000    5          159\n",
              "        6          172\n",
              "        7          340\n",
              "        8          408\n",
              "        9          466\n",
              "        10         350\n",
              "        11         338\n",
              "        12         333\n",
              "1001    11         430\n",
              "        12         414\n",
              "1002    6          117\n",
              "        7          214\n",
              "        8          289\n",
              "        9          206\n",
              "        10         212\n",
              "        11         243\n",
              "        12         236\n",
              "1003    8          380\n",
              "        9          961\n",
              "        10         855\n",
              "        11         824\n",
              "        12         802\n",
              "1004    5           35\n",
              "        6          171\n",
              "        7          135\n",
              "        8          137\n",
              "        9          117\n",
              "        10         145\n",
              "        11         117\n",
              "        12         130"
            ],
            "text/html": [
              "\n",
              "  <div id=\"df-2f1ddffb-0934-4f67-9d86-90fd79c8b6c4\">\n",
              "    <div class=\"colab-df-container\">\n",
              "      <div>\n",
              "<style scoped>\n",
              "    .dataframe tbody tr th:only-of-type {\n",
              "        vertical-align: middle;\n",
              "    }\n",
              "\n",
              "    .dataframe tbody tr th {\n",
              "        vertical-align: top;\n",
              "    }\n",
              "\n",
              "    .dataframe thead th {\n",
              "        text-align: right;\n",
              "    }\n",
              "</style>\n",
              "<table border=\"1\" class=\"dataframe\">\n",
              "  <thead>\n",
              "    <tr style=\"text-align: right;\">\n",
              "      <th></th>\n",
              "      <th></th>\n",
              "      <th>minutes</th>\n",
              "    </tr>\n",
              "    <tr>\n",
              "      <th>user_id</th>\n",
              "      <th>month</th>\n",
              "      <th></th>\n",
              "    </tr>\n",
              "  </thead>\n",
              "  <tbody>\n",
              "    <tr>\n",
              "      <th rowspan=\"8\" valign=\"top\">1000</th>\n",
              "      <th>5</th>\n",
              "      <td>159</td>\n",
              "    </tr>\n",
              "    <tr>\n",
              "      <th>6</th>\n",
              "      <td>172</td>\n",
              "    </tr>\n",
              "    <tr>\n",
              "      <th>7</th>\n",
              "      <td>340</td>\n",
              "    </tr>\n",
              "    <tr>\n",
              "      <th>8</th>\n",
              "      <td>408</td>\n",
              "    </tr>\n",
              "    <tr>\n",
              "      <th>9</th>\n",
              "      <td>466</td>\n",
              "    </tr>\n",
              "    <tr>\n",
              "      <th>10</th>\n",
              "      <td>350</td>\n",
              "    </tr>\n",
              "    <tr>\n",
              "      <th>11</th>\n",
              "      <td>338</td>\n",
              "    </tr>\n",
              "    <tr>\n",
              "      <th>12</th>\n",
              "      <td>333</td>\n",
              "    </tr>\n",
              "    <tr>\n",
              "      <th rowspan=\"2\" valign=\"top\">1001</th>\n",
              "      <th>11</th>\n",
              "      <td>430</td>\n",
              "    </tr>\n",
              "    <tr>\n",
              "      <th>12</th>\n",
              "      <td>414</td>\n",
              "    </tr>\n",
              "    <tr>\n",
              "      <th rowspan=\"7\" valign=\"top\">1002</th>\n",
              "      <th>6</th>\n",
              "      <td>117</td>\n",
              "    </tr>\n",
              "    <tr>\n",
              "      <th>7</th>\n",
              "      <td>214</td>\n",
              "    </tr>\n",
              "    <tr>\n",
              "      <th>8</th>\n",
              "      <td>289</td>\n",
              "    </tr>\n",
              "    <tr>\n",
              "      <th>9</th>\n",
              "      <td>206</td>\n",
              "    </tr>\n",
              "    <tr>\n",
              "      <th>10</th>\n",
              "      <td>212</td>\n",
              "    </tr>\n",
              "    <tr>\n",
              "      <th>11</th>\n",
              "      <td>243</td>\n",
              "    </tr>\n",
              "    <tr>\n",
              "      <th>12</th>\n",
              "      <td>236</td>\n",
              "    </tr>\n",
              "    <tr>\n",
              "      <th rowspan=\"5\" valign=\"top\">1003</th>\n",
              "      <th>8</th>\n",
              "      <td>380</td>\n",
              "    </tr>\n",
              "    <tr>\n",
              "      <th>9</th>\n",
              "      <td>961</td>\n",
              "    </tr>\n",
              "    <tr>\n",
              "      <th>10</th>\n",
              "      <td>855</td>\n",
              "    </tr>\n",
              "    <tr>\n",
              "      <th>11</th>\n",
              "      <td>824</td>\n",
              "    </tr>\n",
              "    <tr>\n",
              "      <th>12</th>\n",
              "      <td>802</td>\n",
              "    </tr>\n",
              "    <tr>\n",
              "      <th rowspan=\"8\" valign=\"top\">1004</th>\n",
              "      <th>5</th>\n",
              "      <td>35</td>\n",
              "    </tr>\n",
              "    <tr>\n",
              "      <th>6</th>\n",
              "      <td>171</td>\n",
              "    </tr>\n",
              "    <tr>\n",
              "      <th>7</th>\n",
              "      <td>135</td>\n",
              "    </tr>\n",
              "    <tr>\n",
              "      <th>8</th>\n",
              "      <td>137</td>\n",
              "    </tr>\n",
              "    <tr>\n",
              "      <th>9</th>\n",
              "      <td>117</td>\n",
              "    </tr>\n",
              "    <tr>\n",
              "      <th>10</th>\n",
              "      <td>145</td>\n",
              "    </tr>\n",
              "    <tr>\n",
              "      <th>11</th>\n",
              "      <td>117</td>\n",
              "    </tr>\n",
              "    <tr>\n",
              "      <th>12</th>\n",
              "      <td>130</td>\n",
              "    </tr>\n",
              "  </tbody>\n",
              "</table>\n",
              "</div>\n",
              "      <button class=\"colab-df-convert\" onclick=\"convertToInteractive('df-2f1ddffb-0934-4f67-9d86-90fd79c8b6c4')\"\n",
              "              title=\"Convert this dataframe to an interactive table.\"\n",
              "              style=\"display:none;\">\n",
              "        \n",
              "  <svg xmlns=\"http://www.w3.org/2000/svg\" height=\"24px\"viewBox=\"0 0 24 24\"\n",
              "       width=\"24px\">\n",
              "    <path d=\"M0 0h24v24H0V0z\" fill=\"none\"/>\n",
              "    <path d=\"M18.56 5.44l.94 2.06.94-2.06 2.06-.94-2.06-.94-.94-2.06-.94 2.06-2.06.94zm-11 1L8.5 8.5l.94-2.06 2.06-.94-2.06-.94L8.5 2.5l-.94 2.06-2.06.94zm10 10l.94 2.06.94-2.06 2.06-.94-2.06-.94-.94-2.06-.94 2.06-2.06.94z\"/><path d=\"M17.41 7.96l-1.37-1.37c-.4-.4-.92-.59-1.43-.59-.52 0-1.04.2-1.43.59L10.3 9.45l-7.72 7.72c-.78.78-.78 2.05 0 2.83L4 21.41c.39.39.9.59 1.41.59.51 0 1.02-.2 1.41-.59l7.78-7.78 2.81-2.81c.8-.78.8-2.07 0-2.86zM5.41 20L4 18.59l7.72-7.72 1.47 1.35L5.41 20z\"/>\n",
              "  </svg>\n",
              "      </button>\n",
              "      \n",
              "  <style>\n",
              "    .colab-df-container {\n",
              "      display:flex;\n",
              "      flex-wrap:wrap;\n",
              "      gap: 12px;\n",
              "    }\n",
              "\n",
              "    .colab-df-convert {\n",
              "      background-color: #E8F0FE;\n",
              "      border: none;\n",
              "      border-radius: 50%;\n",
              "      cursor: pointer;\n",
              "      display: none;\n",
              "      fill: #1967D2;\n",
              "      height: 32px;\n",
              "      padding: 0 0 0 0;\n",
              "      width: 32px;\n",
              "    }\n",
              "\n",
              "    .colab-df-convert:hover {\n",
              "      background-color: #E2EBFA;\n",
              "      box-shadow: 0px 1px 2px rgba(60, 64, 67, 0.3), 0px 1px 3px 1px rgba(60, 64, 67, 0.15);\n",
              "      fill: #174EA6;\n",
              "    }\n",
              "\n",
              "    [theme=dark] .colab-df-convert {\n",
              "      background-color: #3B4455;\n",
              "      fill: #D2E3FC;\n",
              "    }\n",
              "\n",
              "    [theme=dark] .colab-df-convert:hover {\n",
              "      background-color: #434B5C;\n",
              "      box-shadow: 0px 1px 3px 1px rgba(0, 0, 0, 0.15);\n",
              "      filter: drop-shadow(0px 1px 2px rgba(0, 0, 0, 0.3));\n",
              "      fill: #FFFFFF;\n",
              "    }\n",
              "  </style>\n",
              "\n",
              "      <script>\n",
              "        const buttonEl =\n",
              "          document.querySelector('#df-2f1ddffb-0934-4f67-9d86-90fd79c8b6c4 button.colab-df-convert');\n",
              "        buttonEl.style.display =\n",
              "          google.colab.kernel.accessAllowed ? 'block' : 'none';\n",
              "\n",
              "        async function convertToInteractive(key) {\n",
              "          const element = document.querySelector('#df-2f1ddffb-0934-4f67-9d86-90fd79c8b6c4');\n",
              "          const dataTable =\n",
              "            await google.colab.kernel.invokeFunction('convertToInteractive',\n",
              "                                                     [key], {});\n",
              "          if (!dataTable) return;\n",
              "\n",
              "          const docLinkHtml = 'Like what you see? Visit the ' +\n",
              "            '<a target=\"_blank\" href=https://colab.research.google.com/notebooks/data_table.ipynb>data table notebook</a>'\n",
              "            + ' to learn more about interactive tables.';\n",
              "          element.innerHTML = '';\n",
              "          dataTable['output_type'] = 'display_data';\n",
              "          await google.colab.output.renderOutput(dataTable, element);\n",
              "          const docLink = document.createElement('div');\n",
              "          docLink.innerHTML = docLinkHtml;\n",
              "          element.appendChild(docLink);\n",
              "        }\n",
              "      </script>\n",
              "    </div>\n",
              "  </div>\n",
              "  "
            ]
          },
          "metadata": {},
          "execution_count": 93
        }
      ],
      "source": [
        "#Вывод первых 30 строк на экран\n",
        "minutes_per_month.head(30)"
      ]
    },
    {
      "cell_type": "markdown",
      "metadata": {
        "deletable": false,
        "editable": false,
        "id": "aYIeUgpoKyDe",
        "tags": [
          "start_task"
        ]
      },
      "source": [
        "**Задание 26.** Посчитайте количество отправленных сообщений по месяцам для каждого пользователя и сохраните в переменную `messages_per_month`. Вам понадобится\n",
        "\n",
        "- сгруппировать датафрейм с информацией о сообщениях по двум столбцам — с идентификаторами пользователей и номерами месяцев;\n",
        "- после группировки выбрать столбец `message_date`;\n",
        "- затем применить метод для подсчёта количества.\n",
        "\n",
        "Выведите первые 30 строчек `messages_per_month`."
      ]
    },
    {
      "cell_type": "code",
      "execution_count": 94,
      "metadata": {
        "deletable": false,
        "id": "SxLKUZekKyDf"
      },
      "outputs": [],
      "source": [
        "# подсчёт количества отправленных сообщений для каждого пользователя по месяцам\n",
        "messages_per_month = messages.groupby(['user_id','month']).agg(messages=('message_date','count'))"
      ]
    },
    {
      "cell_type": "code",
      "execution_count": 95,
      "metadata": {
        "deletable": false,
        "id": "cVYnJcaUKyDf",
        "colab": {
          "base_uri": "https://localhost:8080/",
          "height": 1000
        },
        "outputId": "5ae61638-fbe0-4112-edb8-7fde694f34de"
      },
      "outputs": [
        {
          "output_type": "execute_result",
          "data": {
            "text/plain": [
              "               messages\n",
              "user_id month          \n",
              "1000    5            22\n",
              "        6            60\n",
              "        7            75\n",
              "        8            81\n",
              "        9            57\n",
              "        10           73\n",
              "        11           58\n",
              "        12           70\n",
              "1002    6             4\n",
              "        7            11\n",
              "        8            13\n",
              "        9             4\n",
              "        10           10\n",
              "        11           16\n",
              "        12           12\n",
              "1003    8            37\n",
              "        9            91\n",
              "        10           83\n",
              "        11           94\n",
              "        12           75\n",
              "1004    5            95\n",
              "        6           134\n",
              "        7           181\n",
              "        8           151\n",
              "        9           146\n",
              "        10          165\n",
              "        11          158\n",
              "        12          162\n",
              "1005    1             7\n",
              "        2            38"
            ],
            "text/html": [
              "\n",
              "  <div id=\"df-b7f9e740-36bb-479f-b988-cee3bc2f6336\">\n",
              "    <div class=\"colab-df-container\">\n",
              "      <div>\n",
              "<style scoped>\n",
              "    .dataframe tbody tr th:only-of-type {\n",
              "        vertical-align: middle;\n",
              "    }\n",
              "\n",
              "    .dataframe tbody tr th {\n",
              "        vertical-align: top;\n",
              "    }\n",
              "\n",
              "    .dataframe thead th {\n",
              "        text-align: right;\n",
              "    }\n",
              "</style>\n",
              "<table border=\"1\" class=\"dataframe\">\n",
              "  <thead>\n",
              "    <tr style=\"text-align: right;\">\n",
              "      <th></th>\n",
              "      <th></th>\n",
              "      <th>messages</th>\n",
              "    </tr>\n",
              "    <tr>\n",
              "      <th>user_id</th>\n",
              "      <th>month</th>\n",
              "      <th></th>\n",
              "    </tr>\n",
              "  </thead>\n",
              "  <tbody>\n",
              "    <tr>\n",
              "      <th rowspan=\"8\" valign=\"top\">1000</th>\n",
              "      <th>5</th>\n",
              "      <td>22</td>\n",
              "    </tr>\n",
              "    <tr>\n",
              "      <th>6</th>\n",
              "      <td>60</td>\n",
              "    </tr>\n",
              "    <tr>\n",
              "      <th>7</th>\n",
              "      <td>75</td>\n",
              "    </tr>\n",
              "    <tr>\n",
              "      <th>8</th>\n",
              "      <td>81</td>\n",
              "    </tr>\n",
              "    <tr>\n",
              "      <th>9</th>\n",
              "      <td>57</td>\n",
              "    </tr>\n",
              "    <tr>\n",
              "      <th>10</th>\n",
              "      <td>73</td>\n",
              "    </tr>\n",
              "    <tr>\n",
              "      <th>11</th>\n",
              "      <td>58</td>\n",
              "    </tr>\n",
              "    <tr>\n",
              "      <th>12</th>\n",
              "      <td>70</td>\n",
              "    </tr>\n",
              "    <tr>\n",
              "      <th rowspan=\"7\" valign=\"top\">1002</th>\n",
              "      <th>6</th>\n",
              "      <td>4</td>\n",
              "    </tr>\n",
              "    <tr>\n",
              "      <th>7</th>\n",
              "      <td>11</td>\n",
              "    </tr>\n",
              "    <tr>\n",
              "      <th>8</th>\n",
              "      <td>13</td>\n",
              "    </tr>\n",
              "    <tr>\n",
              "      <th>9</th>\n",
              "      <td>4</td>\n",
              "    </tr>\n",
              "    <tr>\n",
              "      <th>10</th>\n",
              "      <td>10</td>\n",
              "    </tr>\n",
              "    <tr>\n",
              "      <th>11</th>\n",
              "      <td>16</td>\n",
              "    </tr>\n",
              "    <tr>\n",
              "      <th>12</th>\n",
              "      <td>12</td>\n",
              "    </tr>\n",
              "    <tr>\n",
              "      <th rowspan=\"5\" valign=\"top\">1003</th>\n",
              "      <th>8</th>\n",
              "      <td>37</td>\n",
              "    </tr>\n",
              "    <tr>\n",
              "      <th>9</th>\n",
              "      <td>91</td>\n",
              "    </tr>\n",
              "    <tr>\n",
              "      <th>10</th>\n",
              "      <td>83</td>\n",
              "    </tr>\n",
              "    <tr>\n",
              "      <th>11</th>\n",
              "      <td>94</td>\n",
              "    </tr>\n",
              "    <tr>\n",
              "      <th>12</th>\n",
              "      <td>75</td>\n",
              "    </tr>\n",
              "    <tr>\n",
              "      <th rowspan=\"8\" valign=\"top\">1004</th>\n",
              "      <th>5</th>\n",
              "      <td>95</td>\n",
              "    </tr>\n",
              "    <tr>\n",
              "      <th>6</th>\n",
              "      <td>134</td>\n",
              "    </tr>\n",
              "    <tr>\n",
              "      <th>7</th>\n",
              "      <td>181</td>\n",
              "    </tr>\n",
              "    <tr>\n",
              "      <th>8</th>\n",
              "      <td>151</td>\n",
              "    </tr>\n",
              "    <tr>\n",
              "      <th>9</th>\n",
              "      <td>146</td>\n",
              "    </tr>\n",
              "    <tr>\n",
              "      <th>10</th>\n",
              "      <td>165</td>\n",
              "    </tr>\n",
              "    <tr>\n",
              "      <th>11</th>\n",
              "      <td>158</td>\n",
              "    </tr>\n",
              "    <tr>\n",
              "      <th>12</th>\n",
              "      <td>162</td>\n",
              "    </tr>\n",
              "    <tr>\n",
              "      <th rowspan=\"2\" valign=\"top\">1005</th>\n",
              "      <th>1</th>\n",
              "      <td>7</td>\n",
              "    </tr>\n",
              "    <tr>\n",
              "      <th>2</th>\n",
              "      <td>38</td>\n",
              "    </tr>\n",
              "  </tbody>\n",
              "</table>\n",
              "</div>\n",
              "      <button class=\"colab-df-convert\" onclick=\"convertToInteractive('df-b7f9e740-36bb-479f-b988-cee3bc2f6336')\"\n",
              "              title=\"Convert this dataframe to an interactive table.\"\n",
              "              style=\"display:none;\">\n",
              "        \n",
              "  <svg xmlns=\"http://www.w3.org/2000/svg\" height=\"24px\"viewBox=\"0 0 24 24\"\n",
              "       width=\"24px\">\n",
              "    <path d=\"M0 0h24v24H0V0z\" fill=\"none\"/>\n",
              "    <path d=\"M18.56 5.44l.94 2.06.94-2.06 2.06-.94-2.06-.94-.94-2.06-.94 2.06-2.06.94zm-11 1L8.5 8.5l.94-2.06 2.06-.94-2.06-.94L8.5 2.5l-.94 2.06-2.06.94zm10 10l.94 2.06.94-2.06 2.06-.94-2.06-.94-.94-2.06-.94 2.06-2.06.94z\"/><path d=\"M17.41 7.96l-1.37-1.37c-.4-.4-.92-.59-1.43-.59-.52 0-1.04.2-1.43.59L10.3 9.45l-7.72 7.72c-.78.78-.78 2.05 0 2.83L4 21.41c.39.39.9.59 1.41.59.51 0 1.02-.2 1.41-.59l7.78-7.78 2.81-2.81c.8-.78.8-2.07 0-2.86zM5.41 20L4 18.59l7.72-7.72 1.47 1.35L5.41 20z\"/>\n",
              "  </svg>\n",
              "      </button>\n",
              "      \n",
              "  <style>\n",
              "    .colab-df-container {\n",
              "      display:flex;\n",
              "      flex-wrap:wrap;\n",
              "      gap: 12px;\n",
              "    }\n",
              "\n",
              "    .colab-df-convert {\n",
              "      background-color: #E8F0FE;\n",
              "      border: none;\n",
              "      border-radius: 50%;\n",
              "      cursor: pointer;\n",
              "      display: none;\n",
              "      fill: #1967D2;\n",
              "      height: 32px;\n",
              "      padding: 0 0 0 0;\n",
              "      width: 32px;\n",
              "    }\n",
              "\n",
              "    .colab-df-convert:hover {\n",
              "      background-color: #E2EBFA;\n",
              "      box-shadow: 0px 1px 2px rgba(60, 64, 67, 0.3), 0px 1px 3px 1px rgba(60, 64, 67, 0.15);\n",
              "      fill: #174EA6;\n",
              "    }\n",
              "\n",
              "    [theme=dark] .colab-df-convert {\n",
              "      background-color: #3B4455;\n",
              "      fill: #D2E3FC;\n",
              "    }\n",
              "\n",
              "    [theme=dark] .colab-df-convert:hover {\n",
              "      background-color: #434B5C;\n",
              "      box-shadow: 0px 1px 3px 1px rgba(0, 0, 0, 0.15);\n",
              "      filter: drop-shadow(0px 1px 2px rgba(0, 0, 0, 0.3));\n",
              "      fill: #FFFFFF;\n",
              "    }\n",
              "  </style>\n",
              "\n",
              "      <script>\n",
              "        const buttonEl =\n",
              "          document.querySelector('#df-b7f9e740-36bb-479f-b988-cee3bc2f6336 button.colab-df-convert');\n",
              "        buttonEl.style.display =\n",
              "          google.colab.kernel.accessAllowed ? 'block' : 'none';\n",
              "\n",
              "        async function convertToInteractive(key) {\n",
              "          const element = document.querySelector('#df-b7f9e740-36bb-479f-b988-cee3bc2f6336');\n",
              "          const dataTable =\n",
              "            await google.colab.kernel.invokeFunction('convertToInteractive',\n",
              "                                                     [key], {});\n",
              "          if (!dataTable) return;\n",
              "\n",
              "          const docLinkHtml = 'Like what you see? Visit the ' +\n",
              "            '<a target=\"_blank\" href=https://colab.research.google.com/notebooks/data_table.ipynb>data table notebook</a>'\n",
              "            + ' to learn more about interactive tables.';\n",
              "          element.innerHTML = '';\n",
              "          dataTable['output_type'] = 'display_data';\n",
              "          await google.colab.output.renderOutput(dataTable, element);\n",
              "          const docLink = document.createElement('div');\n",
              "          docLink.innerHTML = docLinkHtml;\n",
              "          element.appendChild(docLink);\n",
              "        }\n",
              "      </script>\n",
              "    </div>\n",
              "  </div>\n",
              "  "
            ]
          },
          "metadata": {},
          "execution_count": 95
        }
      ],
      "source": [
        "# вывод первых 30 строк на экран\n",
        "messages_per_month.head(30)"
      ]
    },
    {
      "cell_type": "markdown",
      "metadata": {
        "deletable": false,
        "editable": false,
        "id": "5rZs2SXPKyDg",
        "tags": [
          "start_task"
        ]
      },
      "source": [
        "**Задание 27.** Посчитайте количество потраченных мегабайт по месяцам для каждого пользователя и сохраните в переменную `sessions_per_month`. Вам понадобится\n",
        "\n",
        "- сгруппировать датафрейм с информацией о сообщениях по двум столбцам — с идентификаторами пользователей и номерами месяцев;\n",
        "- затем применить метод для подсчёта суммы: `.agg({'mb_used': 'sum'})`"
      ]
    },
    {
      "cell_type": "code",
      "execution_count": 96,
      "metadata": {
        "deletable": false,
        "id": "gC0vqY7bKyDg"
      },
      "outputs": [],
      "source": [
        "# подсчёт потраченных мегабайт для каждого пользователя по месяцам\n",
        "sessions_per_month = sessions.groupby(['user_id','month']).agg({'mb_used': 'sum'})"
      ]
    },
    {
      "cell_type": "code",
      "execution_count": 97,
      "metadata": {
        "deletable": false,
        "id": "aM0weCA4KyDg",
        "colab": {
          "base_uri": "https://localhost:8080/",
          "height": 1000
        },
        "outputId": "732b1143-3385-4939-e565-5955e5441127"
      },
      "outputs": [
        {
          "output_type": "execute_result",
          "data": {
            "text/plain": [
              "                mb_used\n",
              "user_id month          \n",
              "1000    5       2253.49\n",
              "        6      23233.77\n",
              "        7      14003.64\n",
              "        8      14055.93\n",
              "        9      14568.91\n",
              "        10     14702.49\n",
              "        11     14756.47\n",
              "        12      9817.61\n",
              "1001    11     18429.34\n",
              "        12     14036.66\n",
              "1002    6      10856.82\n",
              "        7      17580.10\n",
              "        8      20319.26\n",
              "        9      16691.08\n",
              "        10     13888.25\n",
              "        11     18587.28\n",
              "        12     18113.73\n",
              "1003    8       8565.21\n",
              "        9      12468.87\n",
              "        10     14768.14\n",
              "        11     11356.89\n",
              "        12     10121.53\n",
              "1004    5      13403.98\n",
              "        6      17600.02\n",
              "        7      22229.58\n",
              "        8      28584.37\n",
              "        9      15109.03\n",
              "        10     18475.44\n",
              "        11     15616.02\n",
              "        12     18021.04"
            ],
            "text/html": [
              "\n",
              "  <div id=\"df-683191e2-30cd-4053-b26a-94ffd2f80d01\">\n",
              "    <div class=\"colab-df-container\">\n",
              "      <div>\n",
              "<style scoped>\n",
              "    .dataframe tbody tr th:only-of-type {\n",
              "        vertical-align: middle;\n",
              "    }\n",
              "\n",
              "    .dataframe tbody tr th {\n",
              "        vertical-align: top;\n",
              "    }\n",
              "\n",
              "    .dataframe thead th {\n",
              "        text-align: right;\n",
              "    }\n",
              "</style>\n",
              "<table border=\"1\" class=\"dataframe\">\n",
              "  <thead>\n",
              "    <tr style=\"text-align: right;\">\n",
              "      <th></th>\n",
              "      <th></th>\n",
              "      <th>mb_used</th>\n",
              "    </tr>\n",
              "    <tr>\n",
              "      <th>user_id</th>\n",
              "      <th>month</th>\n",
              "      <th></th>\n",
              "    </tr>\n",
              "  </thead>\n",
              "  <tbody>\n",
              "    <tr>\n",
              "      <th rowspan=\"8\" valign=\"top\">1000</th>\n",
              "      <th>5</th>\n",
              "      <td>2253.49</td>\n",
              "    </tr>\n",
              "    <tr>\n",
              "      <th>6</th>\n",
              "      <td>23233.77</td>\n",
              "    </tr>\n",
              "    <tr>\n",
              "      <th>7</th>\n",
              "      <td>14003.64</td>\n",
              "    </tr>\n",
              "    <tr>\n",
              "      <th>8</th>\n",
              "      <td>14055.93</td>\n",
              "    </tr>\n",
              "    <tr>\n",
              "      <th>9</th>\n",
              "      <td>14568.91</td>\n",
              "    </tr>\n",
              "    <tr>\n",
              "      <th>10</th>\n",
              "      <td>14702.49</td>\n",
              "    </tr>\n",
              "    <tr>\n",
              "      <th>11</th>\n",
              "      <td>14756.47</td>\n",
              "    </tr>\n",
              "    <tr>\n",
              "      <th>12</th>\n",
              "      <td>9817.61</td>\n",
              "    </tr>\n",
              "    <tr>\n",
              "      <th rowspan=\"2\" valign=\"top\">1001</th>\n",
              "      <th>11</th>\n",
              "      <td>18429.34</td>\n",
              "    </tr>\n",
              "    <tr>\n",
              "      <th>12</th>\n",
              "      <td>14036.66</td>\n",
              "    </tr>\n",
              "    <tr>\n",
              "      <th rowspan=\"7\" valign=\"top\">1002</th>\n",
              "      <th>6</th>\n",
              "      <td>10856.82</td>\n",
              "    </tr>\n",
              "    <tr>\n",
              "      <th>7</th>\n",
              "      <td>17580.10</td>\n",
              "    </tr>\n",
              "    <tr>\n",
              "      <th>8</th>\n",
              "      <td>20319.26</td>\n",
              "    </tr>\n",
              "    <tr>\n",
              "      <th>9</th>\n",
              "      <td>16691.08</td>\n",
              "    </tr>\n",
              "    <tr>\n",
              "      <th>10</th>\n",
              "      <td>13888.25</td>\n",
              "    </tr>\n",
              "    <tr>\n",
              "      <th>11</th>\n",
              "      <td>18587.28</td>\n",
              "    </tr>\n",
              "    <tr>\n",
              "      <th>12</th>\n",
              "      <td>18113.73</td>\n",
              "    </tr>\n",
              "    <tr>\n",
              "      <th rowspan=\"5\" valign=\"top\">1003</th>\n",
              "      <th>8</th>\n",
              "      <td>8565.21</td>\n",
              "    </tr>\n",
              "    <tr>\n",
              "      <th>9</th>\n",
              "      <td>12468.87</td>\n",
              "    </tr>\n",
              "    <tr>\n",
              "      <th>10</th>\n",
              "      <td>14768.14</td>\n",
              "    </tr>\n",
              "    <tr>\n",
              "      <th>11</th>\n",
              "      <td>11356.89</td>\n",
              "    </tr>\n",
              "    <tr>\n",
              "      <th>12</th>\n",
              "      <td>10121.53</td>\n",
              "    </tr>\n",
              "    <tr>\n",
              "      <th rowspan=\"8\" valign=\"top\">1004</th>\n",
              "      <th>5</th>\n",
              "      <td>13403.98</td>\n",
              "    </tr>\n",
              "    <tr>\n",
              "      <th>6</th>\n",
              "      <td>17600.02</td>\n",
              "    </tr>\n",
              "    <tr>\n",
              "      <th>7</th>\n",
              "      <td>22229.58</td>\n",
              "    </tr>\n",
              "    <tr>\n",
              "      <th>8</th>\n",
              "      <td>28584.37</td>\n",
              "    </tr>\n",
              "    <tr>\n",
              "      <th>9</th>\n",
              "      <td>15109.03</td>\n",
              "    </tr>\n",
              "    <tr>\n",
              "      <th>10</th>\n",
              "      <td>18475.44</td>\n",
              "    </tr>\n",
              "    <tr>\n",
              "      <th>11</th>\n",
              "      <td>15616.02</td>\n",
              "    </tr>\n",
              "    <tr>\n",
              "      <th>12</th>\n",
              "      <td>18021.04</td>\n",
              "    </tr>\n",
              "  </tbody>\n",
              "</table>\n",
              "</div>\n",
              "      <button class=\"colab-df-convert\" onclick=\"convertToInteractive('df-683191e2-30cd-4053-b26a-94ffd2f80d01')\"\n",
              "              title=\"Convert this dataframe to an interactive table.\"\n",
              "              style=\"display:none;\">\n",
              "        \n",
              "  <svg xmlns=\"http://www.w3.org/2000/svg\" height=\"24px\"viewBox=\"0 0 24 24\"\n",
              "       width=\"24px\">\n",
              "    <path d=\"M0 0h24v24H0V0z\" fill=\"none\"/>\n",
              "    <path d=\"M18.56 5.44l.94 2.06.94-2.06 2.06-.94-2.06-.94-.94-2.06-.94 2.06-2.06.94zm-11 1L8.5 8.5l.94-2.06 2.06-.94-2.06-.94L8.5 2.5l-.94 2.06-2.06.94zm10 10l.94 2.06.94-2.06 2.06-.94-2.06-.94-.94-2.06-.94 2.06-2.06.94z\"/><path d=\"M17.41 7.96l-1.37-1.37c-.4-.4-.92-.59-1.43-.59-.52 0-1.04.2-1.43.59L10.3 9.45l-7.72 7.72c-.78.78-.78 2.05 0 2.83L4 21.41c.39.39.9.59 1.41.59.51 0 1.02-.2 1.41-.59l7.78-7.78 2.81-2.81c.8-.78.8-2.07 0-2.86zM5.41 20L4 18.59l7.72-7.72 1.47 1.35L5.41 20z\"/>\n",
              "  </svg>\n",
              "      </button>\n",
              "      \n",
              "  <style>\n",
              "    .colab-df-container {\n",
              "      display:flex;\n",
              "      flex-wrap:wrap;\n",
              "      gap: 12px;\n",
              "    }\n",
              "\n",
              "    .colab-df-convert {\n",
              "      background-color: #E8F0FE;\n",
              "      border: none;\n",
              "      border-radius: 50%;\n",
              "      cursor: pointer;\n",
              "      display: none;\n",
              "      fill: #1967D2;\n",
              "      height: 32px;\n",
              "      padding: 0 0 0 0;\n",
              "      width: 32px;\n",
              "    }\n",
              "\n",
              "    .colab-df-convert:hover {\n",
              "      background-color: #E2EBFA;\n",
              "      box-shadow: 0px 1px 2px rgba(60, 64, 67, 0.3), 0px 1px 3px 1px rgba(60, 64, 67, 0.15);\n",
              "      fill: #174EA6;\n",
              "    }\n",
              "\n",
              "    [theme=dark] .colab-df-convert {\n",
              "      background-color: #3B4455;\n",
              "      fill: #D2E3FC;\n",
              "    }\n",
              "\n",
              "    [theme=dark] .colab-df-convert:hover {\n",
              "      background-color: #434B5C;\n",
              "      box-shadow: 0px 1px 3px 1px rgba(0, 0, 0, 0.15);\n",
              "      filter: drop-shadow(0px 1px 2px rgba(0, 0, 0, 0.3));\n",
              "      fill: #FFFFFF;\n",
              "    }\n",
              "  </style>\n",
              "\n",
              "      <script>\n",
              "        const buttonEl =\n",
              "          document.querySelector('#df-683191e2-30cd-4053-b26a-94ffd2f80d01 button.colab-df-convert');\n",
              "        buttonEl.style.display =\n",
              "          google.colab.kernel.accessAllowed ? 'block' : 'none';\n",
              "\n",
              "        async function convertToInteractive(key) {\n",
              "          const element = document.querySelector('#df-683191e2-30cd-4053-b26a-94ffd2f80d01');\n",
              "          const dataTable =\n",
              "            await google.colab.kernel.invokeFunction('convertToInteractive',\n",
              "                                                     [key], {});\n",
              "          if (!dataTable) return;\n",
              "\n",
              "          const docLinkHtml = 'Like what you see? Visit the ' +\n",
              "            '<a target=\"_blank\" href=https://colab.research.google.com/notebooks/data_table.ipynb>data table notebook</a>'\n",
              "            + ' to learn more about interactive tables.';\n",
              "          element.innerHTML = '';\n",
              "          dataTable['output_type'] = 'display_data';\n",
              "          await google.colab.output.renderOutput(dataTable, element);\n",
              "          const docLink = document.createElement('div');\n",
              "          docLink.innerHTML = docLinkHtml;\n",
              "          element.appendChild(docLink);\n",
              "        }\n",
              "      </script>\n",
              "    </div>\n",
              "  </div>\n",
              "  "
            ]
          },
          "metadata": {},
          "execution_count": 97
        }
      ],
      "source": [
        "#вывод первых 30 строк на экран\n",
        "sessions_per_month.head(30)"
      ]
    },
    {
      "cell_type": "markdown",
      "metadata": {
        "deletable": false,
        "editable": false,
        "id": "9lLpwDruKyDg"
      },
      "source": [
        "# Анализ данных и подсчёт выручки"
      ]
    },
    {
      "cell_type": "markdown",
      "metadata": {
        "deletable": false,
        "editable": false,
        "id": "b0aBCnWPKyDg"
      },
      "source": [
        "Объединяем все посчитанные выше значения в один датафрейм `user_behavior`.\n",
        "Для каждой пары \"пользователь - месяц\" будут доступны информация о тарифе, количестве звонков, сообщений и потраченных мегабайтах."
      ]
    },
    {
      "cell_type": "code",
      "execution_count": 98,
      "metadata": {
        "deletable": false,
        "id": "5_jRoJLQKyDi",
        "outputId": "f62343a8-7bf1-492d-b984-bae47d65e276",
        "colab": {
          "base_uri": "https://localhost:8080/"
        }
      },
      "outputs": [
        {
          "output_type": "execute_result",
          "data": {
            "text/plain": [
              "7.6"
            ]
          },
          "metadata": {},
          "execution_count": 98
        }
      ],
      "source": [
        "users['churn_date'].count() / users['churn_date'].shape[0] * 100"
      ]
    },
    {
      "cell_type": "markdown",
      "metadata": {
        "deletable": false,
        "editable": false,
        "id": "VFbl-h7OKyDj"
      },
      "source": [
        "Расторгли договор 7.6% клиентов из датасета"
      ]
    },
    {
      "cell_type": "code",
      "execution_count": 99,
      "metadata": {
        "deletable": false,
        "id": "ZV6PirqeKyDj",
        "outputId": "5e0e4fc5-4f05-4fd2-fba4-1802102c0da5",
        "colab": {
          "base_uri": "https://localhost:8080/",
          "height": 206
        }
      },
      "outputs": [
        {
          "output_type": "execute_result",
          "data": {
            "text/plain": [
              "   user_id  month  calls  messages   mb_used  minutes  age churn_date  \\\n",
              "0     1000      5   22.0      22.0   2253.49    159.0   52        NaT   \n",
              "1     1000      6   43.0      60.0  23233.77    172.0   52        NaT   \n",
              "2     1000      7   47.0      75.0  14003.64    340.0   52        NaT   \n",
              "3     1000      8   52.0      81.0  14055.93    408.0   52        NaT   \n",
              "4     1000      9   58.0      57.0  14568.91    466.0   52        NaT   \n",
              "\n",
              "        city first_name  last_name   reg_date tariff  \n",
              "0  Краснодар     Рафаил  Верещагин 2018-05-25  ultra  \n",
              "1  Краснодар     Рафаил  Верещагин 2018-05-25  ultra  \n",
              "2  Краснодар     Рафаил  Верещагин 2018-05-25  ultra  \n",
              "3  Краснодар     Рафаил  Верещагин 2018-05-25  ultra  \n",
              "4  Краснодар     Рафаил  Верещагин 2018-05-25  ultra  "
            ],
            "text/html": [
              "\n",
              "  <div id=\"df-478d711d-3dc4-4e0b-a900-97d65e28baf4\">\n",
              "    <div class=\"colab-df-container\">\n",
              "      <div>\n",
              "<style scoped>\n",
              "    .dataframe tbody tr th:only-of-type {\n",
              "        vertical-align: middle;\n",
              "    }\n",
              "\n",
              "    .dataframe tbody tr th {\n",
              "        vertical-align: top;\n",
              "    }\n",
              "\n",
              "    .dataframe thead th {\n",
              "        text-align: right;\n",
              "    }\n",
              "</style>\n",
              "<table border=\"1\" class=\"dataframe\">\n",
              "  <thead>\n",
              "    <tr style=\"text-align: right;\">\n",
              "      <th></th>\n",
              "      <th>user_id</th>\n",
              "      <th>month</th>\n",
              "      <th>calls</th>\n",
              "      <th>messages</th>\n",
              "      <th>mb_used</th>\n",
              "      <th>minutes</th>\n",
              "      <th>age</th>\n",
              "      <th>churn_date</th>\n",
              "      <th>city</th>\n",
              "      <th>first_name</th>\n",
              "      <th>last_name</th>\n",
              "      <th>reg_date</th>\n",
              "      <th>tariff</th>\n",
              "    </tr>\n",
              "  </thead>\n",
              "  <tbody>\n",
              "    <tr>\n",
              "      <th>0</th>\n",
              "      <td>1000</td>\n",
              "      <td>5</td>\n",
              "      <td>22.0</td>\n",
              "      <td>22.0</td>\n",
              "      <td>2253.49</td>\n",
              "      <td>159.0</td>\n",
              "      <td>52</td>\n",
              "      <td>NaT</td>\n",
              "      <td>Краснодар</td>\n",
              "      <td>Рафаил</td>\n",
              "      <td>Верещагин</td>\n",
              "      <td>2018-05-25</td>\n",
              "      <td>ultra</td>\n",
              "    </tr>\n",
              "    <tr>\n",
              "      <th>1</th>\n",
              "      <td>1000</td>\n",
              "      <td>6</td>\n",
              "      <td>43.0</td>\n",
              "      <td>60.0</td>\n",
              "      <td>23233.77</td>\n",
              "      <td>172.0</td>\n",
              "      <td>52</td>\n",
              "      <td>NaT</td>\n",
              "      <td>Краснодар</td>\n",
              "      <td>Рафаил</td>\n",
              "      <td>Верещагин</td>\n",
              "      <td>2018-05-25</td>\n",
              "      <td>ultra</td>\n",
              "    </tr>\n",
              "    <tr>\n",
              "      <th>2</th>\n",
              "      <td>1000</td>\n",
              "      <td>7</td>\n",
              "      <td>47.0</td>\n",
              "      <td>75.0</td>\n",
              "      <td>14003.64</td>\n",
              "      <td>340.0</td>\n",
              "      <td>52</td>\n",
              "      <td>NaT</td>\n",
              "      <td>Краснодар</td>\n",
              "      <td>Рафаил</td>\n",
              "      <td>Верещагин</td>\n",
              "      <td>2018-05-25</td>\n",
              "      <td>ultra</td>\n",
              "    </tr>\n",
              "    <tr>\n",
              "      <th>3</th>\n",
              "      <td>1000</td>\n",
              "      <td>8</td>\n",
              "      <td>52.0</td>\n",
              "      <td>81.0</td>\n",
              "      <td>14055.93</td>\n",
              "      <td>408.0</td>\n",
              "      <td>52</td>\n",
              "      <td>NaT</td>\n",
              "      <td>Краснодар</td>\n",
              "      <td>Рафаил</td>\n",
              "      <td>Верещагин</td>\n",
              "      <td>2018-05-25</td>\n",
              "      <td>ultra</td>\n",
              "    </tr>\n",
              "    <tr>\n",
              "      <th>4</th>\n",
              "      <td>1000</td>\n",
              "      <td>9</td>\n",
              "      <td>58.0</td>\n",
              "      <td>57.0</td>\n",
              "      <td>14568.91</td>\n",
              "      <td>466.0</td>\n",
              "      <td>52</td>\n",
              "      <td>NaT</td>\n",
              "      <td>Краснодар</td>\n",
              "      <td>Рафаил</td>\n",
              "      <td>Верещагин</td>\n",
              "      <td>2018-05-25</td>\n",
              "      <td>ultra</td>\n",
              "    </tr>\n",
              "  </tbody>\n",
              "</table>\n",
              "</div>\n",
              "      <button class=\"colab-df-convert\" onclick=\"convertToInteractive('df-478d711d-3dc4-4e0b-a900-97d65e28baf4')\"\n",
              "              title=\"Convert this dataframe to an interactive table.\"\n",
              "              style=\"display:none;\">\n",
              "        \n",
              "  <svg xmlns=\"http://www.w3.org/2000/svg\" height=\"24px\"viewBox=\"0 0 24 24\"\n",
              "       width=\"24px\">\n",
              "    <path d=\"M0 0h24v24H0V0z\" fill=\"none\"/>\n",
              "    <path d=\"M18.56 5.44l.94 2.06.94-2.06 2.06-.94-2.06-.94-.94-2.06-.94 2.06-2.06.94zm-11 1L8.5 8.5l.94-2.06 2.06-.94-2.06-.94L8.5 2.5l-.94 2.06-2.06.94zm10 10l.94 2.06.94-2.06 2.06-.94-2.06-.94-.94-2.06-.94 2.06-2.06.94z\"/><path d=\"M17.41 7.96l-1.37-1.37c-.4-.4-.92-.59-1.43-.59-.52 0-1.04.2-1.43.59L10.3 9.45l-7.72 7.72c-.78.78-.78 2.05 0 2.83L4 21.41c.39.39.9.59 1.41.59.51 0 1.02-.2 1.41-.59l7.78-7.78 2.81-2.81c.8-.78.8-2.07 0-2.86zM5.41 20L4 18.59l7.72-7.72 1.47 1.35L5.41 20z\"/>\n",
              "  </svg>\n",
              "      </button>\n",
              "      \n",
              "  <style>\n",
              "    .colab-df-container {\n",
              "      display:flex;\n",
              "      flex-wrap:wrap;\n",
              "      gap: 12px;\n",
              "    }\n",
              "\n",
              "    .colab-df-convert {\n",
              "      background-color: #E8F0FE;\n",
              "      border: none;\n",
              "      border-radius: 50%;\n",
              "      cursor: pointer;\n",
              "      display: none;\n",
              "      fill: #1967D2;\n",
              "      height: 32px;\n",
              "      padding: 0 0 0 0;\n",
              "      width: 32px;\n",
              "    }\n",
              "\n",
              "    .colab-df-convert:hover {\n",
              "      background-color: #E2EBFA;\n",
              "      box-shadow: 0px 1px 2px rgba(60, 64, 67, 0.3), 0px 1px 3px 1px rgba(60, 64, 67, 0.15);\n",
              "      fill: #174EA6;\n",
              "    }\n",
              "\n",
              "    [theme=dark] .colab-df-convert {\n",
              "      background-color: #3B4455;\n",
              "      fill: #D2E3FC;\n",
              "    }\n",
              "\n",
              "    [theme=dark] .colab-df-convert:hover {\n",
              "      background-color: #434B5C;\n",
              "      box-shadow: 0px 1px 3px 1px rgba(0, 0, 0, 0.15);\n",
              "      filter: drop-shadow(0px 1px 2px rgba(0, 0, 0, 0.3));\n",
              "      fill: #FFFFFF;\n",
              "    }\n",
              "  </style>\n",
              "\n",
              "      <script>\n",
              "        const buttonEl =\n",
              "          document.querySelector('#df-478d711d-3dc4-4e0b-a900-97d65e28baf4 button.colab-df-convert');\n",
              "        buttonEl.style.display =\n",
              "          google.colab.kernel.accessAllowed ? 'block' : 'none';\n",
              "\n",
              "        async function convertToInteractive(key) {\n",
              "          const element = document.querySelector('#df-478d711d-3dc4-4e0b-a900-97d65e28baf4');\n",
              "          const dataTable =\n",
              "            await google.colab.kernel.invokeFunction('convertToInteractive',\n",
              "                                                     [key], {});\n",
              "          if (!dataTable) return;\n",
              "\n",
              "          const docLinkHtml = 'Like what you see? Visit the ' +\n",
              "            '<a target=\"_blank\" href=https://colab.research.google.com/notebooks/data_table.ipynb>data table notebook</a>'\n",
              "            + ' to learn more about interactive tables.';\n",
              "          element.innerHTML = '';\n",
              "          dataTable['output_type'] = 'display_data';\n",
              "          await google.colab.output.renderOutput(dataTable, element);\n",
              "          const docLink = document.createElement('div');\n",
              "          docLink.innerHTML = docLinkHtml;\n",
              "          element.appendChild(docLink);\n",
              "        }\n",
              "      </script>\n",
              "    </div>\n",
              "  </div>\n",
              "  "
            ]
          },
          "metadata": {},
          "execution_count": 99
        }
      ],
      "source": [
        "user_behavior = calls_per_month\\\n",
        "    .merge(messages_per_month, left_index=True, right_index=True, how='outer')\\\n",
        "    .merge(sessions_per_month, left_index=True, right_index=True, how='outer')\\\n",
        "    .merge(minutes_per_month, left_index=True, right_index=True, how='outer')\\\n",
        "    .reset_index()\\\n",
        "    .merge(users, how='left', left_on='user_id', right_on='user_id')\\\n",
        "\n",
        "user_behavior.head()"
      ]
    },
    {
      "cell_type": "markdown",
      "metadata": {
        "deletable": false,
        "editable": false,
        "id": "_IQIL5IpKyDj"
      },
      "source": [
        "Проверим пропуски в таблице `user_behavior` после объединения:"
      ]
    },
    {
      "cell_type": "code",
      "execution_count": 100,
      "metadata": {
        "deletable": false,
        "id": "-PFVeJDdKyDk",
        "outputId": "cdd83e7e-9cc1-48fe-8a48-ad75a607e2a7",
        "colab": {
          "base_uri": "https://localhost:8080/"
        }
      },
      "outputs": [
        {
          "output_type": "execute_result",
          "data": {
            "text/plain": [
              "user_id          0\n",
              "month            0\n",
              "calls           40\n",
              "messages       497\n",
              "mb_used         11\n",
              "minutes         40\n",
              "age              0\n",
              "churn_date    3027\n",
              "city             0\n",
              "first_name       0\n",
              "last_name        0\n",
              "reg_date         0\n",
              "tariff           0\n",
              "dtype: int64"
            ]
          },
          "metadata": {},
          "execution_count": 100
        }
      ],
      "source": [
        "user_behavior.isna().sum()"
      ]
    },
    {
      "cell_type": "markdown",
      "metadata": {
        "deletable": false,
        "editable": false,
        "id": "TwUoKdmEKyDk"
      },
      "source": [
        "Заполним образовавшиеся пропуски в данных:"
      ]
    },
    {
      "cell_type": "code",
      "execution_count": 101,
      "metadata": {
        "deletable": false,
        "id": "R6ZhVdx_KyDk"
      },
      "outputs": [],
      "source": [
        "user_behavior['calls'] = user_behavior['calls'].fillna(0)\n",
        "user_behavior['minutes'] = user_behavior['minutes'].fillna(0)\n",
        "user_behavior['messages'] = user_behavior['messages'].fillna(0)\n",
        "user_behavior['mb_used'] = user_behavior['mb_used'].fillna(0)"
      ]
    },
    {
      "cell_type": "markdown",
      "metadata": {
        "deletable": false,
        "editable": false,
        "id": "DSFSc65AKyDl"
      },
      "source": [
        "Присоединяем информацию о тарифах"
      ]
    },
    {
      "cell_type": "code",
      "execution_count": 102,
      "metadata": {
        "deletable": false,
        "id": "t8zk5Y0wKyDl"
      },
      "outputs": [],
      "source": [
        "# переименование столбца tariff_name на более простое tariff\n",
        "\n",
        "tariffs = tariffs.rename(\n",
        "    columns={\n",
        "        'tariff_name': 'tariff'\n",
        "    }\n",
        ")"
      ]
    },
    {
      "cell_type": "code",
      "execution_count": 103,
      "metadata": {
        "deletable": false,
        "id": "gGZzbETxKyDl"
      },
      "outputs": [],
      "source": [
        "user_behavior = user_behavior.merge(tariffs, on='tariff')"
      ]
    },
    {
      "cell_type": "markdown",
      "metadata": {
        "deletable": false,
        "editable": false,
        "id": "zednQVegKyDl"
      },
      "source": [
        "Считаем количество минут разговора, сообщений и мегабайт, превышающих включенные в тариф\n"
      ]
    },
    {
      "cell_type": "code",
      "execution_count": 104,
      "metadata": {
        "deletable": false,
        "id": "E1I9uDQMKyDl"
      },
      "outputs": [],
      "source": [
        "user_behavior['paid_minutes'] = user_behavior['minutes'] - user_behavior['minutes_included']\n",
        "user_behavior['paid_messages'] = user_behavior['messages'] - user_behavior['messages_included']\n",
        "user_behavior['paid_mb'] = user_behavior['mb_used'] - user_behavior['mb_per_month_included']\n",
        "\n",
        "for col in ['paid_messages', 'paid_minutes', 'paid_mb']:\n",
        "    user_behavior.loc[user_behavior[col] < 0, col] = 0"
      ]
    },
    {
      "cell_type": "markdown",
      "metadata": {
        "deletable": false,
        "editable": false,
        "id": "Ms0S9c56KyDl"
      },
      "source": [
        "Переводим превышающие тариф мегабайты в гигабайты и сохраняем в столбец `paid_gb`"
      ]
    },
    {
      "cell_type": "code",
      "execution_count": 105,
      "metadata": {
        "deletable": false,
        "id": "tyFXMiJnKyDl"
      },
      "outputs": [],
      "source": [
        "user_behavior['paid_gb'] = np.ceil(user_behavior['paid_mb'] / 1024).astype(int)"
      ]
    },
    {
      "cell_type": "markdown",
      "metadata": {
        "deletable": false,
        "editable": false,
        "id": "gyHRCwd2KyDm"
      },
      "source": [
        "Считаем выручку за минуты разговора, сообщения и интернет"
      ]
    },
    {
      "cell_type": "code",
      "execution_count": 106,
      "metadata": {
        "deletable": false,
        "id": "JYxGcZjpKyDm"
      },
      "outputs": [],
      "source": [
        "user_behavior['cost_minutes'] = user_behavior['paid_minutes'] * user_behavior['rub_per_minute']\n",
        "user_behavior['cost_messages'] = user_behavior['paid_messages'] * user_behavior['rub_per_message']\n",
        "user_behavior['cost_gb'] = user_behavior['paid_gb'] * user_behavior['rub_per_gb']"
      ]
    },
    {
      "cell_type": "markdown",
      "metadata": {
        "deletable": false,
        "editable": false,
        "id": "-_fwAfO5KyDm"
      },
      "source": [
        "Считаем помесячную выручку с каждого пользователя, она будет храниться в столбец `total_cost`"
      ]
    },
    {
      "cell_type": "code",
      "execution_count": 107,
      "metadata": {
        "deletable": false,
        "id": "FCJZ9SEWKyDm"
      },
      "outputs": [],
      "source": [
        "user_behavior['total_cost'] = \\\n",
        "      user_behavior['rub_monthly_fee']\\\n",
        "    + user_behavior['cost_minutes']\\\n",
        "    + user_behavior['cost_messages']\\\n",
        "    + user_behavior['cost_gb']"
      ]
    },
    {
      "cell_type": "markdown",
      "metadata": {
        "deletable": false,
        "editable": false,
        "id": "GdxQwSMLKyDm"
      },
      "source": [
        "Датафрейм `stats_df` для каждой пары \"месяц-тариф\" будет хранить основные характеристики"
      ]
    },
    {
      "cell_type": "code",
      "execution_count": 108,
      "metadata": {
        "deletable": false,
        "id": "KqVN3CeWKyDm",
        "outputId": "476a9f38-b5fc-4f7e-d5ae-3372dea685cf",
        "colab": {
          "base_uri": "https://localhost:8080/",
          "height": 427
        }
      },
      "outputs": [
        {
          "output_type": "execute_result",
          "data": {
            "text/plain": [
              "   month tariff  calls_mean  sessions_mean  messages_mean  minutes_mean  \\\n",
              "0      1  smart       27.68        8513.72          18.24        203.85   \n",
              "1      1  ultra       59.44       13140.68          33.78        428.11   \n",
              "2      2  smart       40.19       11597.05          24.09        298.69   \n",
              "3      2  ultra       41.54       11775.94          21.96        297.12   \n",
              "4      3  smart       54.32       15104.16          31.86        390.05   \n",
              "5      3  ultra       67.68       17535.55          32.30        489.65   \n",
              "6      4  smart       51.31       13462.18          30.74        367.13   \n",
              "7      4  ultra       64.09       16828.13          31.56        458.02   \n",
              "8      5  smart       55.24       15805.18          33.77        387.36   \n",
              "9      5  ultra       72.51       19363.15          37.85        510.33   \n",
              "\n",
              "   calls_std  sessions_std  messages_std  minutes_std  calls_median  \\\n",
              "0      20.81       6444.68         16.20       154.23          20.5   \n",
              "1      41.64       6865.35         30.67       269.76          51.0   \n",
              "2      25.39       6247.35         21.75       190.82          38.5   \n",
              "3      40.97      10644.64         26.77       296.51          25.0   \n",
              "4      25.54       5828.24         26.80       191.89          59.0   \n",
              "5      44.84      10951.79         41.62       333.74          57.0   \n",
              "6      25.70       5698.25         24.54       186.49          52.0   \n",
              "7      36.27       9718.65         37.51       267.68          61.0   \n",
              "8      25.38       5978.23         27.04       186.60          59.0   \n",
              "9      41.08      10046.11         40.31       289.60          75.0   \n",
              "\n",
              "   sessions_median  messages_median  minutes_median  \n",
              "0          7096.18             15.0           162.5  \n",
              "1         14791.37             32.0           382.0  \n",
              "2         12553.71             20.0           258.0  \n",
              "3          7327.12              5.5           168.0  \n",
              "4         15670.25             23.0           409.0  \n",
              "5         17495.18             20.0           403.0  \n",
              "6         14087.65             28.0           368.5  \n",
              "7         16645.78             17.0           453.0  \n",
              "8         16323.94             30.0           433.0  \n",
              "9         18696.43             25.0           519.0  "
            ],
            "text/html": [
              "\n",
              "  <div id=\"df-c331f507-f7c5-490f-8dd4-d20a7e6584b5\">\n",
              "    <div class=\"colab-df-container\">\n",
              "      <div>\n",
              "<style scoped>\n",
              "    .dataframe tbody tr th:only-of-type {\n",
              "        vertical-align: middle;\n",
              "    }\n",
              "\n",
              "    .dataframe tbody tr th {\n",
              "        vertical-align: top;\n",
              "    }\n",
              "\n",
              "    .dataframe thead th {\n",
              "        text-align: right;\n",
              "    }\n",
              "</style>\n",
              "<table border=\"1\" class=\"dataframe\">\n",
              "  <thead>\n",
              "    <tr style=\"text-align: right;\">\n",
              "      <th></th>\n",
              "      <th>month</th>\n",
              "      <th>tariff</th>\n",
              "      <th>calls_mean</th>\n",
              "      <th>sessions_mean</th>\n",
              "      <th>messages_mean</th>\n",
              "      <th>minutes_mean</th>\n",
              "      <th>calls_std</th>\n",
              "      <th>sessions_std</th>\n",
              "      <th>messages_std</th>\n",
              "      <th>minutes_std</th>\n",
              "      <th>calls_median</th>\n",
              "      <th>sessions_median</th>\n",
              "      <th>messages_median</th>\n",
              "      <th>minutes_median</th>\n",
              "    </tr>\n",
              "  </thead>\n",
              "  <tbody>\n",
              "    <tr>\n",
              "      <th>0</th>\n",
              "      <td>1</td>\n",
              "      <td>smart</td>\n",
              "      <td>27.68</td>\n",
              "      <td>8513.72</td>\n",
              "      <td>18.24</td>\n",
              "      <td>203.85</td>\n",
              "      <td>20.81</td>\n",
              "      <td>6444.68</td>\n",
              "      <td>16.20</td>\n",
              "      <td>154.23</td>\n",
              "      <td>20.5</td>\n",
              "      <td>7096.18</td>\n",
              "      <td>15.0</td>\n",
              "      <td>162.5</td>\n",
              "    </tr>\n",
              "    <tr>\n",
              "      <th>1</th>\n",
              "      <td>1</td>\n",
              "      <td>ultra</td>\n",
              "      <td>59.44</td>\n",
              "      <td>13140.68</td>\n",
              "      <td>33.78</td>\n",
              "      <td>428.11</td>\n",
              "      <td>41.64</td>\n",
              "      <td>6865.35</td>\n",
              "      <td>30.67</td>\n",
              "      <td>269.76</td>\n",
              "      <td>51.0</td>\n",
              "      <td>14791.37</td>\n",
              "      <td>32.0</td>\n",
              "      <td>382.0</td>\n",
              "    </tr>\n",
              "    <tr>\n",
              "      <th>2</th>\n",
              "      <td>2</td>\n",
              "      <td>smart</td>\n",
              "      <td>40.19</td>\n",
              "      <td>11597.05</td>\n",
              "      <td>24.09</td>\n",
              "      <td>298.69</td>\n",
              "      <td>25.39</td>\n",
              "      <td>6247.35</td>\n",
              "      <td>21.75</td>\n",
              "      <td>190.82</td>\n",
              "      <td>38.5</td>\n",
              "      <td>12553.71</td>\n",
              "      <td>20.0</td>\n",
              "      <td>258.0</td>\n",
              "    </tr>\n",
              "    <tr>\n",
              "      <th>3</th>\n",
              "      <td>2</td>\n",
              "      <td>ultra</td>\n",
              "      <td>41.54</td>\n",
              "      <td>11775.94</td>\n",
              "      <td>21.96</td>\n",
              "      <td>297.12</td>\n",
              "      <td>40.97</td>\n",
              "      <td>10644.64</td>\n",
              "      <td>26.77</td>\n",
              "      <td>296.51</td>\n",
              "      <td>25.0</td>\n",
              "      <td>7327.12</td>\n",
              "      <td>5.5</td>\n",
              "      <td>168.0</td>\n",
              "    </tr>\n",
              "    <tr>\n",
              "      <th>4</th>\n",
              "      <td>3</td>\n",
              "      <td>smart</td>\n",
              "      <td>54.32</td>\n",
              "      <td>15104.16</td>\n",
              "      <td>31.86</td>\n",
              "      <td>390.05</td>\n",
              "      <td>25.54</td>\n",
              "      <td>5828.24</td>\n",
              "      <td>26.80</td>\n",
              "      <td>191.89</td>\n",
              "      <td>59.0</td>\n",
              "      <td>15670.25</td>\n",
              "      <td>23.0</td>\n",
              "      <td>409.0</td>\n",
              "    </tr>\n",
              "    <tr>\n",
              "      <th>5</th>\n",
              "      <td>3</td>\n",
              "      <td>ultra</td>\n",
              "      <td>67.68</td>\n",
              "      <td>17535.55</td>\n",
              "      <td>32.30</td>\n",
              "      <td>489.65</td>\n",
              "      <td>44.84</td>\n",
              "      <td>10951.79</td>\n",
              "      <td>41.62</td>\n",
              "      <td>333.74</td>\n",
              "      <td>57.0</td>\n",
              "      <td>17495.18</td>\n",
              "      <td>20.0</td>\n",
              "      <td>403.0</td>\n",
              "    </tr>\n",
              "    <tr>\n",
              "      <th>6</th>\n",
              "      <td>4</td>\n",
              "      <td>smart</td>\n",
              "      <td>51.31</td>\n",
              "      <td>13462.18</td>\n",
              "      <td>30.74</td>\n",
              "      <td>367.13</td>\n",
              "      <td>25.70</td>\n",
              "      <td>5698.25</td>\n",
              "      <td>24.54</td>\n",
              "      <td>186.49</td>\n",
              "      <td>52.0</td>\n",
              "      <td>14087.65</td>\n",
              "      <td>28.0</td>\n",
              "      <td>368.5</td>\n",
              "    </tr>\n",
              "    <tr>\n",
              "      <th>7</th>\n",
              "      <td>4</td>\n",
              "      <td>ultra</td>\n",
              "      <td>64.09</td>\n",
              "      <td>16828.13</td>\n",
              "      <td>31.56</td>\n",
              "      <td>458.02</td>\n",
              "      <td>36.27</td>\n",
              "      <td>9718.65</td>\n",
              "      <td>37.51</td>\n",
              "      <td>267.68</td>\n",
              "      <td>61.0</td>\n",
              "      <td>16645.78</td>\n",
              "      <td>17.0</td>\n",
              "      <td>453.0</td>\n",
              "    </tr>\n",
              "    <tr>\n",
              "      <th>8</th>\n",
              "      <td>5</td>\n",
              "      <td>smart</td>\n",
              "      <td>55.24</td>\n",
              "      <td>15805.18</td>\n",
              "      <td>33.77</td>\n",
              "      <td>387.36</td>\n",
              "      <td>25.38</td>\n",
              "      <td>5978.23</td>\n",
              "      <td>27.04</td>\n",
              "      <td>186.60</td>\n",
              "      <td>59.0</td>\n",
              "      <td>16323.94</td>\n",
              "      <td>30.0</td>\n",
              "      <td>433.0</td>\n",
              "    </tr>\n",
              "    <tr>\n",
              "      <th>9</th>\n",
              "      <td>5</td>\n",
              "      <td>ultra</td>\n",
              "      <td>72.51</td>\n",
              "      <td>19363.15</td>\n",
              "      <td>37.85</td>\n",
              "      <td>510.33</td>\n",
              "      <td>41.08</td>\n",
              "      <td>10046.11</td>\n",
              "      <td>40.31</td>\n",
              "      <td>289.60</td>\n",
              "      <td>75.0</td>\n",
              "      <td>18696.43</td>\n",
              "      <td>25.0</td>\n",
              "      <td>519.0</td>\n",
              "    </tr>\n",
              "  </tbody>\n",
              "</table>\n",
              "</div>\n",
              "      <button class=\"colab-df-convert\" onclick=\"convertToInteractive('df-c331f507-f7c5-490f-8dd4-d20a7e6584b5')\"\n",
              "              title=\"Convert this dataframe to an interactive table.\"\n",
              "              style=\"display:none;\">\n",
              "        \n",
              "  <svg xmlns=\"http://www.w3.org/2000/svg\" height=\"24px\"viewBox=\"0 0 24 24\"\n",
              "       width=\"24px\">\n",
              "    <path d=\"M0 0h24v24H0V0z\" fill=\"none\"/>\n",
              "    <path d=\"M18.56 5.44l.94 2.06.94-2.06 2.06-.94-2.06-.94-.94-2.06-.94 2.06-2.06.94zm-11 1L8.5 8.5l.94-2.06 2.06-.94-2.06-.94L8.5 2.5l-.94 2.06-2.06.94zm10 10l.94 2.06.94-2.06 2.06-.94-2.06-.94-.94-2.06-.94 2.06-2.06.94z\"/><path d=\"M17.41 7.96l-1.37-1.37c-.4-.4-.92-.59-1.43-.59-.52 0-1.04.2-1.43.59L10.3 9.45l-7.72 7.72c-.78.78-.78 2.05 0 2.83L4 21.41c.39.39.9.59 1.41.59.51 0 1.02-.2 1.41-.59l7.78-7.78 2.81-2.81c.8-.78.8-2.07 0-2.86zM5.41 20L4 18.59l7.72-7.72 1.47 1.35L5.41 20z\"/>\n",
              "  </svg>\n",
              "      </button>\n",
              "      \n",
              "  <style>\n",
              "    .colab-df-container {\n",
              "      display:flex;\n",
              "      flex-wrap:wrap;\n",
              "      gap: 12px;\n",
              "    }\n",
              "\n",
              "    .colab-df-convert {\n",
              "      background-color: #E8F0FE;\n",
              "      border: none;\n",
              "      border-radius: 50%;\n",
              "      cursor: pointer;\n",
              "      display: none;\n",
              "      fill: #1967D2;\n",
              "      height: 32px;\n",
              "      padding: 0 0 0 0;\n",
              "      width: 32px;\n",
              "    }\n",
              "\n",
              "    .colab-df-convert:hover {\n",
              "      background-color: #E2EBFA;\n",
              "      box-shadow: 0px 1px 2px rgba(60, 64, 67, 0.3), 0px 1px 3px 1px rgba(60, 64, 67, 0.15);\n",
              "      fill: #174EA6;\n",
              "    }\n",
              "\n",
              "    [theme=dark] .colab-df-convert {\n",
              "      background-color: #3B4455;\n",
              "      fill: #D2E3FC;\n",
              "    }\n",
              "\n",
              "    [theme=dark] .colab-df-convert:hover {\n",
              "      background-color: #434B5C;\n",
              "      box-shadow: 0px 1px 3px 1px rgba(0, 0, 0, 0.15);\n",
              "      filter: drop-shadow(0px 1px 2px rgba(0, 0, 0, 0.3));\n",
              "      fill: #FFFFFF;\n",
              "    }\n",
              "  </style>\n",
              "\n",
              "      <script>\n",
              "        const buttonEl =\n",
              "          document.querySelector('#df-c331f507-f7c5-490f-8dd4-d20a7e6584b5 button.colab-df-convert');\n",
              "        buttonEl.style.display =\n",
              "          google.colab.kernel.accessAllowed ? 'block' : 'none';\n",
              "\n",
              "        async function convertToInteractive(key) {\n",
              "          const element = document.querySelector('#df-c331f507-f7c5-490f-8dd4-d20a7e6584b5');\n",
              "          const dataTable =\n",
              "            await google.colab.kernel.invokeFunction('convertToInteractive',\n",
              "                                                     [key], {});\n",
              "          if (!dataTable) return;\n",
              "\n",
              "          const docLinkHtml = 'Like what you see? Visit the ' +\n",
              "            '<a target=\"_blank\" href=https://colab.research.google.com/notebooks/data_table.ipynb>data table notebook</a>'\n",
              "            + ' to learn more about interactive tables.';\n",
              "          element.innerHTML = '';\n",
              "          dataTable['output_type'] = 'display_data';\n",
              "          await google.colab.output.renderOutput(dataTable, element);\n",
              "          const docLink = document.createElement('div');\n",
              "          docLink.innerHTML = docLinkHtml;\n",
              "          element.appendChild(docLink);\n",
              "        }\n",
              "      </script>\n",
              "    </div>\n",
              "  </div>\n",
              "  "
            ]
          },
          "metadata": {},
          "execution_count": 108
        }
      ],
      "source": [
        "# сохранение статистических метрик для каждой пары месяц-тариф\n",
        "# в одной таблице stats_df (среднее значение, стандартное отклонение, медиана)\n",
        "\n",
        "stats_df = user_behavior.pivot_table(\n",
        "            index=['month', 'tariff'],\\\n",
        "            values=['calls', 'minutes', 'messages', 'mb_used'],\\\n",
        "            aggfunc=['mean', 'std', 'median']\\\n",
        ").round(2).reset_index()\n",
        "\n",
        "stats_df.columns=['month', 'tariff', 'calls_mean', 'sessions_mean', 'messages_mean', 'minutes_mean',\n",
        "                                     'calls_std',  'sessions_std', 'messages_std', 'minutes_std', \n",
        "                                     'calls_median', 'sessions_median', 'messages_median',  'minutes_median']\n",
        "\n",
        "stats_df.head(10)"
      ]
    },
    {
      "cell_type": "markdown",
      "metadata": {
        "deletable": false,
        "editable": false,
        "id": "xAZgUnsaKyDm"
      },
      "source": [
        "Распределение среднего количества звонков по видам тарифов и месяцам"
      ]
    },
    {
      "cell_type": "code",
      "execution_count": 109,
      "metadata": {
        "deletable": false,
        "id": "1lkqwG12KyDm",
        "outputId": "e14cc919-a04c-416f-dff9-41f6030a1033",
        "colab": {
          "base_uri": "https://localhost:8080/",
          "height": 295
        }
      },
      "outputs": [
        {
          "output_type": "display_data",
          "data": {
            "text/plain": [
              "<Figure size 432x288 with 1 Axes>"
            ],
            "image/png": "[encoded data removed]"
          },
          "metadata": {
            "needs_background": "light"
          }
        }
      ],
      "source": [
        "ax = sns.barplot(x='month',\n",
        "            y='calls_mean',\n",
        "            hue=\"tariff\",\n",
        "            data=stats_df,\n",
        "            palette=['lightblue', 'blue'])\n",
        "\n",
        "ax.set_title('Распределение количества звонков по видам тарифов и месяцам')\n",
        "ax.set(xlabel='Номер месяца', ylabel='Среднее количество звонков');"
      ]
    },
    {
      "cell_type": "code",
      "execution_count": 110,
      "metadata": {
        "deletable": false,
        "id": "hG3npCHbKyDm",
        "outputId": "622206c4-1c24-4878-ba98-8e5016d79fdc",
        "colab": {
          "base_uri": "https://localhost:8080/",
          "height": 279
        }
      },
      "outputs": [
        {
          "output_type": "display_data",
          "data": {
            "text/plain": [
              "<Figure size 432x288 with 1 Axes>"
            ],
            "image/png": "[encoded data removed]"
          },
          "metadata": {
            "needs_background": "light"
          }
        }
      ],
      "source": [
        "user_behavior.groupby('tariff')['calls'].plot(kind='hist', bins=35, alpha=0.5)\n",
        "plt.legend(['Smart', 'Ultra'])\n",
        "plt.xlabel('Количество звонков')\n",
        "plt.ylabel('Количество клиентов')\n",
        "plt.show()"
      ]
    },
    {
      "cell_type": "markdown",
      "metadata": {
        "deletable": false,
        "editable": false,
        "id": "SPrY3ADoKyDn"
      },
      "source": [
        "Распределение средней продолжительности звонков по видам тарифов и месяцам"
      ]
    },
    {
      "cell_type": "code",
      "execution_count": 111,
      "metadata": {
        "deletable": false,
        "id": "0luB17O2KyDn",
        "outputId": "f468cf91-932f-467f-9eb1-ae20b8e4b104",
        "colab": {
          "base_uri": "https://localhost:8080/",
          "height": 295
        }
      },
      "outputs": [
        {
          "output_type": "display_data",
          "data": {
            "text/plain": [
              "<Figure size 432x288 with 1 Axes>"
            ],
            "image/png": "[encoded data removed]"
          },
          "metadata": {
            "needs_background": "light"
          }
        }
      ],
      "source": [
        "ax = sns.barplot(x='month',\n",
        "            y='minutes_mean',\n",
        "            hue=\"tariff\",\n",
        "            data=stats_df,\n",
        "            palette=['lightblue', 'blue'])\n",
        "\n",
        "ax.set_title('Распределение продолжительности звонков по видам тарифов и месяцам')\n",
        "ax.set(xlabel='Номер месяца', ylabel='Средняя продолжительность звонков');"
      ]
    },
    {
      "cell_type": "code",
      "execution_count": 112,
      "metadata": {
        "deletable": false,
        "id": "jII3kPf1KyDn",
        "outputId": "1221eaf8-559b-42e2-a5fe-3fbd5a421d87",
        "colab": {
          "base_uri": "https://localhost:8080/",
          "height": 265
        }
      },
      "outputs": [
        {
          "output_type": "display_data",
          "data": {
            "text/plain": [
              "<Figure size 432x288 with 1 Axes>"
            ],
            "image/png": "[encoded data removed]"
          },
          "metadata": {
            "needs_background": "light"
          }
        }
      ],
      "source": [
        "user_behavior[user_behavior['tariff'] =='smart']['minutes'].hist(bins=35, alpha=0.5, color='green')\n",
        "user_behavior[user_behavior['tariff'] =='ultra']['minutes'].hist(bins=35, alpha=0.5, color='blue');"
      ]
    },
    {
      "cell_type": "markdown",
      "metadata": {
        "deletable": false,
        "editable": false,
        "id": "UU5-2wAkKyDn"
      },
      "source": [
        "Средняя длительность разговоров у абонентов тарифа Ultra больше, чем у абонентов тарифа Smart. В течение года пользователи обоих тарифов увеличивают среднюю продолжительность своих разговоров. Рост средней длительности разговоров у абонентов тарифа Smart равномерный в течение года. Пользователи тарифа Ultra не проявляют подобной линейной стабильности. Стоит отметить, что феврале у абонентов обоих тарифных планов наблюдались самые низкие показатели."
      ]
    },
    {
      "cell_type": "markdown",
      "metadata": {
        "deletable": false,
        "editable": false,
        "id": "mUkAzptWKyDn"
      },
      "source": [
        "Распределение среднего количества сообщений по видам тарифов и месяцам"
      ]
    },
    {
      "cell_type": "code",
      "execution_count": 113,
      "metadata": {
        "deletable": false,
        "id": "pg1xenDhKyDn",
        "outputId": "cb962af1-e4a7-4ac1-f025-823feb1c960b",
        "colab": {
          "base_uri": "https://localhost:8080/",
          "height": 295
        }
      },
      "outputs": [
        {
          "output_type": "display_data",
          "data": {
            "text/plain": [
              "<Figure size 432x288 with 1 Axes>"
            ],
            "image/png": "[encoded data removed]"
          },
          "metadata": {
            "needs_background": "light"
          }
        }
      ],
      "source": [
        "ax = sns.barplot(x='month',\n",
        "            y='messages_mean',\n",
        "            hue=\"tariff\",\n",
        "            data=stats_df,\n",
        "            palette=['lightblue', 'blue']\n",
        ")\n",
        "\n",
        "ax.set_title('Распределение количества сообщений по видам тарифов и месяцам')\n",
        "ax.set(xlabel='Номер месяца', ylabel='Среднее количество сообщений');"
      ]
    },
    {
      "cell_type": "code",
      "execution_count": 114,
      "metadata": {
        "deletable": false,
        "id": "gADscfmTKyDn",
        "outputId": "1eefa696-2075-47da-97c8-6a05966171bc",
        "colab": {
          "base_uri": "https://localhost:8080/",
          "height": 265
        }
      },
      "outputs": [
        {
          "output_type": "display_data",
          "data": {
            "text/plain": [
              "<Figure size 432x288 with 1 Axes>"
            ],
            "image/png": "[encoded data removed]"
          },
          "metadata": {
            "needs_background": "light"
          }
        }
      ],
      "source": [
        "user_behavior[user_behavior['tariff'] =='smart']['messages'].hist(bins=35, alpha=0.5, color='green')\n",
        "user_behavior[user_behavior['tariff'] =='ultra']['messages'].hist(bins=35, alpha=0.5, color='blue');"
      ]
    },
    {
      "cell_type": "markdown",
      "metadata": {
        "deletable": false,
        "editable": false,
        "id": "SuLnrpvfKyDo"
      },
      "source": [
        "В среднем количество сообщений пользователи тарифа Ultra отправляют больше - почти на 20 сообщений больше, чем пользователи тарифа Smart. Количество сообщений в течение года на обоих тарифак растет. Динамика по отправке сообщений схожа с тенденциями по длительности разговоров: в феврале отмечено наименьшее количество сообщений за год и пользователи тарифа Ultra также проявляют нелинейную полодительную динамику."
      ]
    },
    {
      "cell_type": "code",
      "execution_count": 115,
      "metadata": {
        "deletable": false,
        "id": "I0Vh9ibAKyDo",
        "outputId": "98271a64-c12f-4cb6-8357-fa47d36c6765",
        "colab": {
          "base_uri": "https://localhost:8080/",
          "height": 295
        }
      },
      "outputs": [
        {
          "output_type": "display_data",
          "data": {
            "text/plain": [
              "<Figure size 432x288 with 1 Axes>"
            ],
            "image/png": "[encoded data removed]"
          },
          "metadata": {
            "needs_background": "light"
          }
        }
      ],
      "source": [
        "ax = sns.barplot(x='month',\n",
        "            y='sessions_mean',\n",
        "            hue=\"tariff\",\n",
        "            data=stats_df,\n",
        "            palette=['lightblue', 'blue']\n",
        ")\n",
        "\n",
        "ax.set_title('Распределение количества потраченного трафика (Мб) по видам тарифов и месяцам')\n",
        "ax.set(xlabel='Номер месяца', ylabel='Среднее количество мегабайт');"
      ]
    },
    {
      "cell_type": "markdown",
      "metadata": {
        "deletable": false,
        "editable": false,
        "id": "gk1kE32XKyDo"
      },
      "source": [
        "Сравнение потраченных мегабайт среди пользователей тарифов Smart и Ultra"
      ]
    },
    {
      "cell_type": "code",
      "execution_count": 116,
      "metadata": {
        "deletable": false,
        "id": "4bNdvIn2KyDp",
        "outputId": "5f3caea8-43db-43c9-f833-fcd89b7341f4",
        "colab": {
          "base_uri": "https://localhost:8080/",
          "height": 265
        }
      },
      "outputs": [
        {
          "output_type": "display_data",
          "data": {
            "text/plain": [
              "<Figure size 432x288 with 1 Axes>"
            ],
            "image/png": "[encoded data removed]"
          },
          "metadata": {
            "needs_background": "light"
          }
        }
      ],
      "source": [
        "user_behavior[user_behavior['tariff'] =='smart']['mb_used'].hist(bins=35, alpha=0.5, color='green')\n",
        "user_behavior[user_behavior['tariff'] =='ultra']['mb_used'].hist(bins=35, alpha=0.5, color='blue');"
      ]
    },
    {
      "cell_type": "markdown",
      "metadata": {
        "deletable": false,
        "editable": false,
        "id": "RpnCH1a4KyDp"
      },
      "source": [
        "Меньше всего пользователи использовали интернет в январе, феврале и апреле. Чаще всего абоненты тарифа Smart тратят 15-17 Гб, а абоненты тарифного плана Ultra - 19-21 ГБ."
      ]
    },
    {
      "cell_type": "markdown",
      "metadata": {
        "deletable": false,
        "editable": false,
        "id": "qZSr44oMKyDp"
      },
      "source": [
        "# Проверка гипотез"
      ]
    },
    {
      "cell_type": "markdown",
      "metadata": {
        "deletable": false,
        "editable": false,
        "id": "-Aow5ztHKyDp",
        "tags": [
          "start_task"
        ]
      },
      "source": [
        "**Задание 28.** Проверка гипотезы: средняя выручка пользователей тарифов «Ультра» и «Смарт» различаются;\n",
        "\n",
        "```\n",
        "H_0: Выручка (total_cost) пользователей \"Ультра\" = выручка (total_cost) пользователей \"Смарт\"`\n",
        "H_a: Выручка (total_cost) пользователей \"Ультра\" ≠ выручка (total_cost) пользователей \"Смарт\"`\n",
        "alpha = 0.05\n",
        "```"
      ]
    },
    {
      "cell_type": "code",
      "execution_count": 117,
      "metadata": {
        "deletable": false,
        "id": "Xa4KXeA4KyDq",
        "colab": {
          "base_uri": "https://localhost:8080/"
        },
        "outputId": "6e4c4750-012f-4483-deac-cf7cc7500255"
      },
      "outputs": [
        {
          "output_type": "stream",
          "name": "stdout",
          "text": [
            "4.2606313931076085e-250\n",
            "Отвергаем нулевую гипотезу\n"
          ]
        }
      ],
      "source": [
        "results = st.ttest_ind(\n",
        "    user_behavior[user_behavior['tariff'] =='smart']['total_cost'], \n",
        "    user_behavior[user_behavior['tariff'] =='ultra']['total_cost'], equal_var = False)\n",
        "\n",
        "alpha = .05 #задайте значение уровня значимости\n",
        "\n",
        "\n",
        "print(results.pvalue)\n",
        "if results.pvalue < alpha:\n",
        "    print(\"Отвергаем нулевую гипотезу\")\n",
        "else:\n",
        "    print(\"Не получилось отвергнуть нулевую гипотезу\") \n",
        "# вывод значения p-value на экран \n",
        "# условный оператор с выводом строки с ответом"
      ]
    },
    {
      "cell_type": "markdown",
      "metadata": {
        "deletable": false,
        "editable": false,
        "id": "Q4n6QDf-KyDq",
        "tags": [
          "start_task"
        ]
      },
      "source": [
        "**Задание 29.** Проверка гипотезы: пользователи из Москвы приносят больше выручки, чем пользователи из других городов;\n",
        "\n",
        "```\n",
        "H_0: Выручка (total_cost) пользователей из Москвы = выручка (total_cost) пользователей не из Москвы`\n",
        "H_1: Выручка (total_cost) пользователей из Москвы ≠ выручка (total_cost) пользователей не из Москвы`\n",
        "alpha = 0.05\n",
        "```"
      ]
    },
    {
      "cell_type": "code",
      "execution_count": 118,
      "metadata": {
        "deletable": false,
        "id": "fl-UuP2SKyDq",
        "colab": {
          "base_uri": "https://localhost:8080/"
        },
        "outputId": "ce4e48aa-9a63-470d-f3d2-216ceb099001"
      },
      "outputs": [
        {
          "output_type": "stream",
          "name": "stdout",
          "text": [
            "0.5257376663729298\n",
            "Не получилось отвергнуть нулевую гипотезу\n"
          ]
        }
      ],
      "source": [
        "results = st.ttest_ind(\n",
        "    user_behavior[user_behavior['city'] =='Москва']['total_cost'], \n",
        "    user_behavior[user_behavior['city'] !='Москва']['total_cost'], equal_var = False)\n",
        "\n",
        "alpha = .05 #задайте значение уровня значимости\n",
        "\n",
        "\n",
        "print(results.pvalue)\n",
        "if results.pvalue < alpha:\n",
        "    print(\"Отвергаем нулевую гипотезу\")\n",
        "else:\n",
        "    print(\"Не получилось отвергнуть нулевую гипотезу\") "
      ]
    }
  ],
  "metadata": {
    "ExecuteTimeLog": [
      {
        "duration": 62,
        "start_time": "2022-09-26T15:46:01.426Z"
      },
      {
        "duration": 440,
        "start_time": "2022-09-26T15:46:04.676Z"
      },
      {
        "duration": 207,
        "start_time": "2022-09-26T15:46:05.956Z"
      },
      {
        "duration": 9,
        "start_time": "2022-09-26T15:46:07.226Z"
      },
      {
        "duration": 22,
        "start_time": "2022-09-26T15:46:13.342Z"
      },
      {
        "duration": 345,
        "start_time": "2022-09-26T15:49:50.808Z"
      },
      {
        "duration": 648,
        "start_time": "2022-09-26T15:51:01.012Z"
      },
      {
        "duration": 146,
        "start_time": "2022-09-26T15:51:01.662Z"
      },
      {
        "duration": 7,
        "start_time": "2022-09-26T15:51:01.809Z"
      },
      {
        "duration": 44,
        "start_time": "2022-09-26T15:51:01.817Z"
      },
      {
        "duration": 231,
        "start_time": "2022-09-26T15:51:01.863Z"
      },
      {
        "duration": 4,
        "start_time": "2022-09-26T15:51:02.096Z"
      },
      {
        "duration": 13,
        "start_time": "2022-09-26T15:51:02.102Z"
      },
      {
        "duration": 8,
        "start_time": "2022-09-26T15:51:02.116Z"
      },
      {
        "duration": 14,
        "start_time": "2022-09-26T15:51:02.126Z"
      },
      {
        "duration": 10,
        "start_time": "2022-09-26T15:51:02.142Z"
      },
      {
        "duration": 18,
        "start_time": "2022-09-26T15:51:02.153Z"
      },
      {
        "duration": 10,
        "start_time": "2022-09-26T15:51:02.173Z"
      },
      {
        "duration": 9,
        "start_time": "2022-09-26T15:51:02.184Z"
      },
      {
        "duration": 7,
        "start_time": "2022-09-26T15:51:02.196Z"
      },
      {
        "duration": 17,
        "start_time": "2022-09-26T15:51:02.204Z"
      },
      {
        "duration": 77,
        "start_time": "2022-09-26T15:51:02.222Z"
      },
      {
        "duration": 0,
        "start_time": "2022-09-26T15:51:02.300Z"
      },
      {
        "duration": 0,
        "start_time": "2022-09-26T15:51:02.302Z"
      },
      {
        "duration": 0,
        "start_time": "2022-09-26T15:51:02.303Z"
      },
      {
        "duration": 0,
        "start_time": "2022-09-26T15:51:02.303Z"
      },
      {
        "duration": 0,
        "start_time": "2022-09-26T15:51:02.305Z"
      },
      {
        "duration": 0,
        "start_time": "2022-09-26T15:51:02.306Z"
      },
      {
        "duration": 0,
        "start_time": "2022-09-26T15:51:02.306Z"
      },
      {
        "duration": 0,
        "start_time": "2022-09-26T15:51:02.307Z"
      },
      {
        "duration": 0,
        "start_time": "2022-09-26T15:51:02.308Z"
      },
      {
        "duration": 1,
        "start_time": "2022-09-26T15:51:02.309Z"
      },
      {
        "duration": 0,
        "start_time": "2022-09-26T15:51:02.310Z"
      },
      {
        "duration": 0,
        "start_time": "2022-09-26T15:51:02.311Z"
      },
      {
        "duration": 0,
        "start_time": "2022-09-26T15:51:02.312Z"
      },
      {
        "duration": 0,
        "start_time": "2022-09-26T15:51:02.313Z"
      },
      {
        "duration": 0,
        "start_time": "2022-09-26T15:51:02.314Z"
      },
      {
        "duration": 0,
        "start_time": "2022-09-26T15:51:02.315Z"
      },
      {
        "duration": 0,
        "start_time": "2022-09-26T15:51:02.316Z"
      },
      {
        "duration": 0,
        "start_time": "2022-09-26T15:51:02.317Z"
      },
      {
        "duration": 0,
        "start_time": "2022-09-26T15:51:02.318Z"
      },
      {
        "duration": 0,
        "start_time": "2022-09-26T15:51:02.319Z"
      },
      {
        "duration": 0,
        "start_time": "2022-09-26T15:51:02.319Z"
      },
      {
        "duration": 6,
        "start_time": "2022-09-26T15:51:17.931Z"
      },
      {
        "duration": 163,
        "start_time": "2022-09-26T15:51:22.016Z"
      },
      {
        "duration": 142,
        "start_time": "2022-09-26T15:52:16.921Z"
      },
      {
        "duration": 342,
        "start_time": "2022-09-26T16:00:32.064Z"
      },
      {
        "duration": 7,
        "start_time": "2022-09-26T16:00:32.877Z"
      },
      {
        "duration": 28,
        "start_time": "2022-09-26T16:00:34.893Z"
      },
      {
        "duration": 147,
        "start_time": "2022-09-26T16:03:14.603Z"
      },
      {
        "duration": 660,
        "start_time": "2022-09-26T16:03:15.624Z"
      },
      {
        "duration": 6,
        "start_time": "2022-09-26T16:03:16.552Z"
      },
      {
        "duration": 15,
        "start_time": "2022-09-26T16:03:19.052Z"
      },
      {
        "duration": 65,
        "start_time": "2022-09-26T16:03:20.998Z"
      },
      {
        "duration": 6,
        "start_time": "2022-09-26T16:03:22.205Z"
      },
      {
        "duration": 12,
        "start_time": "2022-09-26T16:03:24.351Z"
      },
      {
        "duration": 72,
        "start_time": "2022-09-26T16:03:26.202Z"
      },
      {
        "duration": 6,
        "start_time": "2022-09-26T16:03:27.239Z"
      },
      {
        "duration": 10,
        "start_time": "2022-09-26T16:03:28.259Z"
      },
      {
        "duration": 843,
        "start_time": "2022-09-27T11:23:03.403Z"
      },
      {
        "duration": 518,
        "start_time": "2022-09-27T11:23:04.249Z"
      },
      {
        "duration": 8,
        "start_time": "2022-09-27T11:23:04.769Z"
      },
      {
        "duration": 30,
        "start_time": "2022-09-27T11:23:04.780Z"
      },
      {
        "duration": 176,
        "start_time": "2022-09-27T11:23:04.811Z"
      },
      {
        "duration": 432,
        "start_time": "2022-09-27T11:23:04.989Z"
      },
      {
        "duration": 7,
        "start_time": "2022-09-27T11:23:05.423Z"
      },
      {
        "duration": 34,
        "start_time": "2022-09-27T11:23:05.432Z"
      },
      {
        "duration": 164,
        "start_time": "2022-09-27T11:23:05.468Z"
      },
      {
        "duration": 160,
        "start_time": "2022-09-27T11:23:05.635Z"
      },
      {
        "duration": 6,
        "start_time": "2022-09-27T11:23:05.796Z"
      },
      {
        "duration": 38,
        "start_time": "2022-09-27T11:23:05.804Z"
      },
      {
        "duration": 48,
        "start_time": "2022-09-27T11:23:05.844Z"
      },
      {
        "duration": 6,
        "start_time": "2022-09-27T11:23:05.893Z"
      },
      {
        "duration": 19,
        "start_time": "2022-09-27T11:23:05.900Z"
      },
      {
        "duration": 61,
        "start_time": "2022-09-27T11:23:05.921Z"
      },
      {
        "duration": 7,
        "start_time": "2022-09-27T11:23:05.983Z"
      },
      {
        "duration": 13,
        "start_time": "2022-09-27T11:23:05.992Z"
      },
      {
        "duration": 5,
        "start_time": "2022-09-27T11:23:06.007Z"
      },
      {
        "duration": 10,
        "start_time": "2022-09-27T11:23:06.013Z"
      },
      {
        "duration": 6,
        "start_time": "2022-09-27T11:23:06.025Z"
      },
      {
        "duration": 6,
        "start_time": "2022-09-27T11:23:06.033Z"
      },
      {
        "duration": 7,
        "start_time": "2022-09-27T11:23:06.041Z"
      },
      {
        "duration": 13,
        "start_time": "2022-09-27T11:23:06.050Z"
      },
      {
        "duration": 6,
        "start_time": "2022-09-27T11:23:06.065Z"
      },
      {
        "duration": 8,
        "start_time": "2022-09-27T11:23:06.073Z"
      },
      {
        "duration": 6,
        "start_time": "2022-09-27T11:23:06.083Z"
      },
      {
        "duration": 7,
        "start_time": "2022-09-27T11:23:06.093Z"
      },
      {
        "duration": 8,
        "start_time": "2022-09-27T11:23:06.102Z"
      },
      {
        "duration": 83,
        "start_time": "2022-09-27T11:23:06.112Z"
      },
      {
        "duration": 0,
        "start_time": "2022-09-27T11:23:06.198Z"
      },
      {
        "duration": 0,
        "start_time": "2022-09-27T11:23:06.200Z"
      },
      {
        "duration": 0,
        "start_time": "2022-09-27T11:23:06.201Z"
      },
      {
        "duration": 0,
        "start_time": "2022-09-27T11:23:06.202Z"
      },
      {
        "duration": 0,
        "start_time": "2022-09-27T11:23:06.204Z"
      },
      {
        "duration": 0,
        "start_time": "2022-09-27T11:23:06.205Z"
      },
      {
        "duration": 0,
        "start_time": "2022-09-27T11:23:06.207Z"
      },
      {
        "duration": 0,
        "start_time": "2022-09-27T11:23:06.209Z"
      },
      {
        "duration": 0,
        "start_time": "2022-09-27T11:23:06.210Z"
      },
      {
        "duration": 0,
        "start_time": "2022-09-27T11:23:06.212Z"
      },
      {
        "duration": 0,
        "start_time": "2022-09-27T11:23:06.213Z"
      },
      {
        "duration": 1,
        "start_time": "2022-09-27T11:23:06.214Z"
      },
      {
        "duration": 0,
        "start_time": "2022-09-27T11:23:06.216Z"
      },
      {
        "duration": 0,
        "start_time": "2022-09-27T11:23:06.218Z"
      },
      {
        "duration": 0,
        "start_time": "2022-09-27T11:23:06.219Z"
      },
      {
        "duration": 0,
        "start_time": "2022-09-27T11:23:06.221Z"
      },
      {
        "duration": 0,
        "start_time": "2022-09-27T11:23:06.222Z"
      },
      {
        "duration": 0,
        "start_time": "2022-09-27T11:23:06.224Z"
      },
      {
        "duration": 0,
        "start_time": "2022-09-27T11:23:06.225Z"
      },
      {
        "duration": 0,
        "start_time": "2022-09-27T11:23:06.227Z"
      },
      {
        "duration": 82,
        "start_time": "2022-09-27T11:25:48.494Z"
      },
      {
        "duration": 8,
        "start_time": "2022-09-27T11:28:03.773Z"
      },
      {
        "duration": 11,
        "start_time": "2022-09-27T11:28:11.550Z"
      },
      {
        "duration": 101,
        "start_time": "2022-09-27T11:28:49.890Z"
      },
      {
        "duration": 6,
        "start_time": "2022-09-27T11:28:51.700Z"
      },
      {
        "duration": 6,
        "start_time": "2022-09-27T11:29:31.505Z"
      },
      {
        "duration": 8,
        "start_time": "2022-09-27T11:29:48.798Z"
      },
      {
        "duration": 5,
        "start_time": "2022-09-27T11:30:27.171Z"
      },
      {
        "duration": 9,
        "start_time": "2022-09-27T11:30:35.126Z"
      },
      {
        "duration": 6,
        "start_time": "2022-09-27T11:30:40.684Z"
      },
      {
        "duration": 6,
        "start_time": "2022-09-27T11:31:15.940Z"
      },
      {
        "duration": 5,
        "start_time": "2022-09-27T11:31:17.964Z"
      },
      {
        "duration": 5,
        "start_time": "2022-09-27T11:31:19.987Z"
      },
      {
        "duration": 21,
        "start_time": "2022-09-27T11:36:35.637Z"
      },
      {
        "duration": 14,
        "start_time": "2022-09-27T11:37:29.810Z"
      },
      {
        "duration": 22,
        "start_time": "2022-09-27T11:37:31.482Z"
      },
      {
        "duration": 66,
        "start_time": "2022-09-27T11:38:58.213Z"
      },
      {
        "duration": 26,
        "start_time": "2022-09-27T11:46:17.207Z"
      },
      {
        "duration": 71,
        "start_time": "2022-09-27T11:46:46.989Z"
      },
      {
        "duration": 79,
        "start_time": "2022-09-27T11:47:02.405Z"
      },
      {
        "duration": 27,
        "start_time": "2022-09-27T11:47:37.262Z"
      },
      {
        "duration": 1519,
        "start_time": "2022-09-27T11:48:09.012Z"
      },
      {
        "duration": 16,
        "start_time": "2022-09-27T11:48:22.165Z"
      },
      {
        "duration": 29,
        "start_time": "2022-09-27T12:00:39.499Z"
      },
      {
        "duration": 73,
        "start_time": "2022-09-27T12:00:55.637Z"
      },
      {
        "duration": 5,
        "start_time": "2022-09-27T12:01:00.799Z"
      },
      {
        "duration": 16,
        "start_time": "2022-09-27T12:01:58.543Z"
      },
      {
        "duration": 11,
        "start_time": "2022-09-27T12:02:28.195Z"
      },
      {
        "duration": 291,
        "start_time": "2022-09-27T12:09:19.048Z"
      },
      {
        "duration": 6,
        "start_time": "2022-09-27T12:09:21.924Z"
      },
      {
        "duration": 277,
        "start_time": "2022-09-27T12:09:46.104Z"
      },
      {
        "duration": 6,
        "start_time": "2022-09-27T12:09:47.425Z"
      },
      {
        "duration": 308,
        "start_time": "2022-09-27T12:18:25.581Z"
      },
      {
        "duration": 5,
        "start_time": "2022-09-27T12:18:27.123Z"
      },
      {
        "duration": 262,
        "start_time": "2022-09-27T12:18:33.934Z"
      },
      {
        "duration": 6,
        "start_time": "2022-09-27T12:18:35.253Z"
      },
      {
        "duration": 203,
        "start_time": "2022-09-27T12:19:04.713Z"
      },
      {
        "duration": 5,
        "start_time": "2022-09-27T12:19:06.241Z"
      },
      {
        "duration": 274,
        "start_time": "2022-09-27T12:19:15.169Z"
      },
      {
        "duration": 6,
        "start_time": "2022-09-27T12:19:16.382Z"
      },
      {
        "duration": 299,
        "start_time": "2022-09-27T12:19:32.526Z"
      },
      {
        "duration": 5,
        "start_time": "2022-09-27T12:19:34.105Z"
      },
      {
        "duration": 251,
        "start_time": "2022-09-27T12:20:12.141Z"
      },
      {
        "duration": 5,
        "start_time": "2022-09-27T12:20:12.395Z"
      },
      {
        "duration": 673,
        "start_time": "2022-09-27T12:20:30.748Z"
      },
      {
        "duration": 170,
        "start_time": "2022-09-27T12:20:31.424Z"
      },
      {
        "duration": 8,
        "start_time": "2022-09-27T12:20:31.595Z"
      },
      {
        "duration": 43,
        "start_time": "2022-09-27T12:20:31.605Z"
      },
      {
        "duration": 164,
        "start_time": "2022-09-27T12:20:31.650Z"
      },
      {
        "duration": 170,
        "start_time": "2022-09-27T12:20:31.816Z"
      },
      {
        "duration": 6,
        "start_time": "2022-09-27T12:20:31.989Z"
      },
      {
        "duration": 37,
        "start_time": "2022-09-27T12:20:32.000Z"
      },
      {
        "duration": 188,
        "start_time": "2022-09-27T12:20:32.040Z"
      },
      {
        "duration": 94,
        "start_time": "2022-09-27T12:20:32.231Z"
      },
      {
        "duration": 5,
        "start_time": "2022-09-27T12:20:32.327Z"
      },
      {
        "duration": 22,
        "start_time": "2022-09-27T12:20:32.334Z"
      },
      {
        "duration": 16,
        "start_time": "2022-09-27T12:20:32.358Z"
      },
      {
        "duration": 6,
        "start_time": "2022-09-27T12:20:32.375Z"
      },
      {
        "duration": 16,
        "start_time": "2022-09-27T12:20:32.382Z"
      },
      {
        "duration": 30,
        "start_time": "2022-09-27T12:20:32.399Z"
      },
      {
        "duration": 6,
        "start_time": "2022-09-27T12:20:32.431Z"
      },
      {
        "duration": 15,
        "start_time": "2022-09-27T12:20:32.439Z"
      },
      {
        "duration": 86,
        "start_time": "2022-09-27T12:20:32.455Z"
      },
      {
        "duration": 5,
        "start_time": "2022-09-27T12:20:32.543Z"
      },
      {
        "duration": 17,
        "start_time": "2022-09-27T12:20:32.549Z"
      },
      {
        "duration": 31,
        "start_time": "2022-09-27T12:20:32.568Z"
      },
      {
        "duration": 14,
        "start_time": "2022-09-27T12:20:32.601Z"
      },
      {
        "duration": 18,
        "start_time": "2022-09-27T12:20:32.617Z"
      },
      {
        "duration": 272,
        "start_time": "2022-09-27T12:20:32.637Z"
      },
      {
        "duration": 5,
        "start_time": "2022-09-27T12:20:32.911Z"
      },
      {
        "duration": 8,
        "start_time": "2022-09-27T12:20:32.918Z"
      },
      {
        "duration": 3,
        "start_time": "2022-09-27T12:20:32.929Z"
      },
      {
        "duration": 6,
        "start_time": "2022-09-27T12:20:32.934Z"
      },
      {
        "duration": 5,
        "start_time": "2022-09-27T12:20:32.942Z"
      },
      {
        "duration": 5,
        "start_time": "2022-09-27T12:20:32.949Z"
      },
      {
        "duration": 5,
        "start_time": "2022-09-27T12:20:32.955Z"
      },
      {
        "duration": 7,
        "start_time": "2022-09-27T12:20:32.962Z"
      },
      {
        "duration": 89,
        "start_time": "2022-09-27T12:20:32.971Z"
      },
      {
        "duration": 0,
        "start_time": "2022-09-27T12:20:33.062Z"
      },
      {
        "duration": 0,
        "start_time": "2022-09-27T12:20:33.063Z"
      },
      {
        "duration": 0,
        "start_time": "2022-09-27T12:20:33.064Z"
      },
      {
        "duration": 0,
        "start_time": "2022-09-27T12:20:33.065Z"
      },
      {
        "duration": 0,
        "start_time": "2022-09-27T12:20:33.066Z"
      },
      {
        "duration": 0,
        "start_time": "2022-09-27T12:20:33.067Z"
      },
      {
        "duration": 0,
        "start_time": "2022-09-27T12:20:33.089Z"
      },
      {
        "duration": 0,
        "start_time": "2022-09-27T12:20:33.090Z"
      },
      {
        "duration": 0,
        "start_time": "2022-09-27T12:20:33.091Z"
      },
      {
        "duration": 0,
        "start_time": "2022-09-27T12:20:33.092Z"
      },
      {
        "duration": 0,
        "start_time": "2022-09-27T12:20:33.093Z"
      },
      {
        "duration": 0,
        "start_time": "2022-09-27T12:20:33.094Z"
      },
      {
        "duration": 0,
        "start_time": "2022-09-27T12:20:33.095Z"
      },
      {
        "duration": 0,
        "start_time": "2022-09-27T12:20:33.096Z"
      },
      {
        "duration": 0,
        "start_time": "2022-09-27T12:20:33.097Z"
      },
      {
        "duration": 0,
        "start_time": "2022-09-27T12:20:33.098Z"
      },
      {
        "duration": 0,
        "start_time": "2022-09-27T12:20:33.099Z"
      },
      {
        "duration": 0,
        "start_time": "2022-09-27T12:20:33.100Z"
      },
      {
        "duration": 0,
        "start_time": "2022-09-27T12:20:33.101Z"
      },
      {
        "duration": 0,
        "start_time": "2022-09-27T12:20:33.102Z"
      },
      {
        "duration": 8,
        "start_time": "2022-09-27T12:21:36.356Z"
      },
      {
        "duration": 8,
        "start_time": "2022-09-27T12:22:04.394Z"
      },
      {
        "duration": 301,
        "start_time": "2022-09-27T12:26:21.747Z"
      },
      {
        "duration": 6,
        "start_time": "2022-09-27T12:26:22.219Z"
      },
      {
        "duration": 296,
        "start_time": "2022-09-27T12:28:22.316Z"
      },
      {
        "duration": 5,
        "start_time": "2022-09-27T12:28:23.533Z"
      },
      {
        "duration": 302,
        "start_time": "2022-09-27T12:29:39.415Z"
      },
      {
        "duration": 5,
        "start_time": "2022-09-27T12:29:39.881Z"
      },
      {
        "duration": 285,
        "start_time": "2022-09-27T12:30:03.943Z"
      },
      {
        "duration": 6,
        "start_time": "2022-09-27T12:30:04.392Z"
      },
      {
        "duration": 279,
        "start_time": "2022-09-27T12:31:06.091Z"
      },
      {
        "duration": 5,
        "start_time": "2022-09-27T12:31:06.527Z"
      },
      {
        "duration": 21,
        "start_time": "2022-09-27T12:32:04.287Z"
      },
      {
        "duration": 6,
        "start_time": "2022-09-27T12:32:04.781Z"
      },
      {
        "duration": 9,
        "start_time": "2022-09-27T12:36:15.427Z"
      },
      {
        "duration": 22,
        "start_time": "2022-09-27T12:36:24.408Z"
      },
      {
        "duration": 5,
        "start_time": "2022-09-27T12:36:25.816Z"
      },
      {
        "duration": 18,
        "start_time": "2022-09-27T12:37:30.659Z"
      },
      {
        "duration": 5,
        "start_time": "2022-09-27T12:37:31.106Z"
      },
      {
        "duration": 18,
        "start_time": "2022-09-27T12:38:41.746Z"
      },
      {
        "duration": 16,
        "start_time": "2022-09-27T12:39:15.721Z"
      },
      {
        "duration": 657,
        "start_time": "2022-09-27T12:39:24.307Z"
      },
      {
        "duration": 172,
        "start_time": "2022-09-27T12:39:24.966Z"
      },
      {
        "duration": 8,
        "start_time": "2022-09-27T12:39:25.140Z"
      },
      {
        "duration": 39,
        "start_time": "2022-09-27T12:39:25.150Z"
      },
      {
        "duration": 186,
        "start_time": "2022-09-27T12:39:25.191Z"
      },
      {
        "duration": 154,
        "start_time": "2022-09-27T12:39:25.378Z"
      },
      {
        "duration": 7,
        "start_time": "2022-09-27T12:39:25.534Z"
      },
      {
        "duration": 28,
        "start_time": "2022-09-27T12:39:25.542Z"
      },
      {
        "duration": 185,
        "start_time": "2022-09-27T12:39:25.573Z"
      },
      {
        "duration": 96,
        "start_time": "2022-09-27T12:39:25.762Z"
      },
      {
        "duration": 5,
        "start_time": "2022-09-27T12:39:25.860Z"
      },
      {
        "duration": 44,
        "start_time": "2022-09-27T12:39:25.867Z"
      },
      {
        "duration": 15,
        "start_time": "2022-09-27T12:39:25.913Z"
      },
      {
        "duration": 5,
        "start_time": "2022-09-27T12:39:25.930Z"
      },
      {
        "duration": 18,
        "start_time": "2022-09-27T12:39:25.936Z"
      },
      {
        "duration": 40,
        "start_time": "2022-09-27T12:39:25.956Z"
      },
      {
        "duration": 6,
        "start_time": "2022-09-27T12:39:25.998Z"
      },
      {
        "duration": 22,
        "start_time": "2022-09-27T12:39:26.005Z"
      },
      {
        "duration": 102,
        "start_time": "2022-09-27T12:39:26.029Z"
      },
      {
        "duration": 5,
        "start_time": "2022-09-27T12:39:26.133Z"
      },
      {
        "duration": 18,
        "start_time": "2022-09-27T12:39:26.139Z"
      },
      {
        "duration": 39,
        "start_time": "2022-09-27T12:39:26.159Z"
      },
      {
        "duration": 15,
        "start_time": "2022-09-27T12:39:26.199Z"
      },
      {
        "duration": 18,
        "start_time": "2022-09-27T12:39:26.216Z"
      },
      {
        "duration": 29,
        "start_time": "2022-09-27T12:39:26.236Z"
      },
      {
        "duration": 4,
        "start_time": "2022-09-27T12:39:26.267Z"
      },
      {
        "duration": 46,
        "start_time": "2022-09-27T12:39:26.273Z"
      },
      {
        "duration": 6,
        "start_time": "2022-09-27T12:39:26.322Z"
      },
      {
        "duration": 85,
        "start_time": "2022-09-27T12:39:26.329Z"
      },
      {
        "duration": 0,
        "start_time": "2022-09-27T12:39:26.415Z"
      },
      {
        "duration": 0,
        "start_time": "2022-09-27T12:39:26.416Z"
      },
      {
        "duration": 0,
        "start_time": "2022-09-27T12:39:26.417Z"
      },
      {
        "duration": 0,
        "start_time": "2022-09-27T12:39:26.418Z"
      },
      {
        "duration": 1,
        "start_time": "2022-09-27T12:39:26.419Z"
      },
      {
        "duration": 0,
        "start_time": "2022-09-27T12:39:26.420Z"
      },
      {
        "duration": 0,
        "start_time": "2022-09-27T12:39:26.421Z"
      },
      {
        "duration": 0,
        "start_time": "2022-09-27T12:39:26.424Z"
      },
      {
        "duration": 0,
        "start_time": "2022-09-27T12:39:26.425Z"
      },
      {
        "duration": 0,
        "start_time": "2022-09-27T12:39:26.426Z"
      },
      {
        "duration": 0,
        "start_time": "2022-09-27T12:39:26.426Z"
      },
      {
        "duration": 0,
        "start_time": "2022-09-27T12:39:26.428Z"
      },
      {
        "duration": 0,
        "start_time": "2022-09-27T12:39:26.429Z"
      },
      {
        "duration": 0,
        "start_time": "2022-09-27T12:39:26.430Z"
      },
      {
        "duration": 0,
        "start_time": "2022-09-27T12:39:26.431Z"
      },
      {
        "duration": 0,
        "start_time": "2022-09-27T12:39:26.432Z"
      },
      {
        "duration": 0,
        "start_time": "2022-09-27T12:39:26.433Z"
      },
      {
        "duration": 0,
        "start_time": "2022-09-27T12:39:26.434Z"
      },
      {
        "duration": 0,
        "start_time": "2022-09-27T12:39:26.436Z"
      },
      {
        "duration": 0,
        "start_time": "2022-09-27T12:39:26.437Z"
      },
      {
        "duration": 0,
        "start_time": "2022-09-27T12:39:26.437Z"
      },
      {
        "duration": 0,
        "start_time": "2022-09-27T12:39:26.439Z"
      },
      {
        "duration": 0,
        "start_time": "2022-09-27T12:39:26.440Z"
      },
      {
        "duration": 0,
        "start_time": "2022-09-27T12:39:26.441Z"
      },
      {
        "duration": 0,
        "start_time": "2022-09-27T12:39:26.442Z"
      },
      {
        "duration": 7,
        "start_time": "2022-09-27T12:40:41.386Z"
      },
      {
        "duration": 16,
        "start_time": "2022-09-27T12:40:45.634Z"
      },
      {
        "duration": 26,
        "start_time": "2022-09-27T12:40:48.569Z"
      },
      {
        "duration": 5,
        "start_time": "2022-09-27T12:40:49.009Z"
      },
      {
        "duration": 15,
        "start_time": "2022-09-27T12:40:49.364Z"
      },
      {
        "duration": 38,
        "start_time": "2022-09-27T12:40:49.680Z"
      },
      {
        "duration": 7,
        "start_time": "2022-09-27T12:40:49.991Z"
      },
      {
        "duration": 11,
        "start_time": "2022-09-27T12:40:50.291Z"
      },
      {
        "duration": 90,
        "start_time": "2022-09-27T12:40:50.817Z"
      },
      {
        "duration": 5,
        "start_time": "2022-09-27T12:40:51.160Z"
      },
      {
        "duration": 16,
        "start_time": "2022-09-27T12:40:51.489Z"
      },
      {
        "duration": 25,
        "start_time": "2022-09-27T12:40:51.809Z"
      },
      {
        "duration": 15,
        "start_time": "2022-09-27T12:40:52.161Z"
      },
      {
        "duration": 19,
        "start_time": "2022-09-27T12:40:53.435Z"
      },
      {
        "duration": 23,
        "start_time": "2022-09-27T12:40:54.489Z"
      },
      {
        "duration": 5,
        "start_time": "2022-09-27T12:40:55.258Z"
      },
      {
        "duration": 26,
        "start_time": "2022-09-27T12:40:57.081Z"
      },
      {
        "duration": 5,
        "start_time": "2022-09-27T12:40:57.886Z"
      },
      {
        "duration": 13,
        "start_time": "2022-09-27T12:40:59.547Z"
      },
      {
        "duration": 8,
        "start_time": "2022-09-27T12:41:00.136Z"
      },
      {
        "duration": 16,
        "start_time": "2022-09-27T12:41:17.844Z"
      },
      {
        "duration": 25,
        "start_time": "2022-09-27T12:43:54.547Z"
      },
      {
        "duration": 6,
        "start_time": "2022-09-27T12:44:16.049Z"
      },
      {
        "duration": 16,
        "start_time": "2022-09-27T12:45:23.076Z"
      },
      {
        "duration": 17,
        "start_time": "2022-09-27T12:45:50.412Z"
      },
      {
        "duration": 17,
        "start_time": "2022-09-27T12:46:16.421Z"
      },
      {
        "duration": 3,
        "start_time": "2022-09-27T12:49:51.770Z"
      },
      {
        "duration": 16,
        "start_time": "2022-09-27T12:58:50.663Z"
      },
      {
        "duration": 15,
        "start_time": "2022-09-27T12:58:59.700Z"
      },
      {
        "duration": 26,
        "start_time": "2022-09-27T12:59:07.367Z"
      },
      {
        "duration": 5,
        "start_time": "2022-09-27T12:59:09.834Z"
      },
      {
        "duration": 23,
        "start_time": "2022-09-27T12:59:43.877Z"
      },
      {
        "duration": 5,
        "start_time": "2022-09-27T12:59:44.310Z"
      },
      {
        "duration": 26,
        "start_time": "2022-09-27T13:00:01.361Z"
      },
      {
        "duration": 7,
        "start_time": "2022-09-27T13:00:02.046Z"
      },
      {
        "duration": 32,
        "start_time": "2022-09-27T13:00:29.997Z"
      },
      {
        "duration": 5,
        "start_time": "2022-09-27T13:00:30.348Z"
      },
      {
        "duration": 27,
        "start_time": "2022-09-27T13:00:45.342Z"
      },
      {
        "duration": 5,
        "start_time": "2022-09-27T13:00:45.715Z"
      },
      {
        "duration": 14,
        "start_time": "2022-09-27T13:00:58.877Z"
      },
      {
        "duration": 15,
        "start_time": "2022-09-27T13:01:59.721Z"
      },
      {
        "duration": 15,
        "start_time": "2022-09-27T13:02:08.600Z"
      },
      {
        "duration": 15,
        "start_time": "2022-09-27T13:02:13.414Z"
      },
      {
        "duration": 16,
        "start_time": "2022-09-27T13:08:14.235Z"
      },
      {
        "duration": 22,
        "start_time": "2022-09-27T13:08:44.365Z"
      },
      {
        "duration": 16,
        "start_time": "2022-09-27T13:09:48.558Z"
      },
      {
        "duration": 12,
        "start_time": "2022-09-27T13:10:02.739Z"
      },
      {
        "duration": 692,
        "start_time": "2022-09-27T13:10:27.557Z"
      },
      {
        "duration": 179,
        "start_time": "2022-09-27T13:10:28.258Z"
      },
      {
        "duration": 7,
        "start_time": "2022-09-27T13:10:28.439Z"
      },
      {
        "duration": 30,
        "start_time": "2022-09-27T13:10:28.448Z"
      },
      {
        "duration": 187,
        "start_time": "2022-09-27T13:10:28.480Z"
      },
      {
        "duration": 137,
        "start_time": "2022-09-27T13:10:28.669Z"
      },
      {
        "duration": 6,
        "start_time": "2022-09-27T13:10:28.808Z"
      },
      {
        "duration": 26,
        "start_time": "2022-09-27T13:10:28.816Z"
      },
      {
        "duration": 177,
        "start_time": "2022-09-27T13:10:28.843Z"
      },
      {
        "duration": 95,
        "start_time": "2022-09-27T13:10:29.024Z"
      },
      {
        "duration": 5,
        "start_time": "2022-09-27T13:10:29.121Z"
      },
      {
        "duration": 22,
        "start_time": "2022-09-27T13:10:29.128Z"
      },
      {
        "duration": 20,
        "start_time": "2022-09-27T13:10:29.152Z"
      },
      {
        "duration": 6,
        "start_time": "2022-09-27T13:10:29.174Z"
      },
      {
        "duration": 10,
        "start_time": "2022-09-27T13:10:29.189Z"
      },
      {
        "duration": 31,
        "start_time": "2022-09-27T13:10:29.201Z"
      },
      {
        "duration": 7,
        "start_time": "2022-09-27T13:10:29.233Z"
      },
      {
        "duration": 13,
        "start_time": "2022-09-27T13:10:29.242Z"
      },
      {
        "duration": 66,
        "start_time": "2022-09-27T13:10:29.257Z"
      },
      {
        "duration": 5,
        "start_time": "2022-09-27T13:10:29.325Z"
      },
      {
        "duration": 11,
        "start_time": "2022-09-27T13:10:29.332Z"
      },
      {
        "duration": 48,
        "start_time": "2022-09-27T13:10:29.344Z"
      },
      {
        "duration": 79,
        "start_time": "2022-09-27T13:10:29.395Z"
      },
      {
        "duration": 0,
        "start_time": "2022-09-27T13:10:29.476Z"
      },
      {
        "duration": 0,
        "start_time": "2022-09-27T13:10:29.478Z"
      },
      {
        "duration": 0,
        "start_time": "2022-09-27T13:10:29.479Z"
      },
      {
        "duration": 0,
        "start_time": "2022-09-27T13:10:29.489Z"
      },
      {
        "duration": 0,
        "start_time": "2022-09-27T13:10:29.490Z"
      },
      {
        "duration": 0,
        "start_time": "2022-09-27T13:10:29.491Z"
      },
      {
        "duration": 0,
        "start_time": "2022-09-27T13:10:29.492Z"
      },
      {
        "duration": 0,
        "start_time": "2022-09-27T13:10:29.493Z"
      },
      {
        "duration": 0,
        "start_time": "2022-09-27T13:10:29.494Z"
      },
      {
        "duration": 0,
        "start_time": "2022-09-27T13:10:29.495Z"
      },
      {
        "duration": 0,
        "start_time": "2022-09-27T13:10:29.496Z"
      },
      {
        "duration": 0,
        "start_time": "2022-09-27T13:10:29.496Z"
      },
      {
        "duration": 0,
        "start_time": "2022-09-27T13:10:29.497Z"
      },
      {
        "duration": 0,
        "start_time": "2022-09-27T13:10:29.498Z"
      },
      {
        "duration": 0,
        "start_time": "2022-09-27T13:10:29.499Z"
      },
      {
        "duration": 0,
        "start_time": "2022-09-27T13:10:29.500Z"
      },
      {
        "duration": 0,
        "start_time": "2022-09-27T13:10:29.501Z"
      },
      {
        "duration": 0,
        "start_time": "2022-09-27T13:10:29.502Z"
      },
      {
        "duration": 0,
        "start_time": "2022-09-27T13:10:29.503Z"
      },
      {
        "duration": 1,
        "start_time": "2022-09-27T13:10:29.504Z"
      },
      {
        "duration": 0,
        "start_time": "2022-09-27T13:10:29.506Z"
      },
      {
        "duration": 0,
        "start_time": "2022-09-27T13:10:29.507Z"
      },
      {
        "duration": 0,
        "start_time": "2022-09-27T13:10:29.508Z"
      },
      {
        "duration": 0,
        "start_time": "2022-09-27T13:10:29.509Z"
      },
      {
        "duration": 0,
        "start_time": "2022-09-27T13:10:29.510Z"
      },
      {
        "duration": 0,
        "start_time": "2022-09-27T13:10:29.510Z"
      },
      {
        "duration": 0,
        "start_time": "2022-09-27T13:10:29.512Z"
      },
      {
        "duration": 0,
        "start_time": "2022-09-27T13:10:29.513Z"
      },
      {
        "duration": 0,
        "start_time": "2022-09-27T13:10:29.514Z"
      },
      {
        "duration": 0,
        "start_time": "2022-09-27T13:10:29.516Z"
      },
      {
        "duration": 0,
        "start_time": "2022-09-27T13:10:29.517Z"
      },
      {
        "duration": 617,
        "start_time": "2022-09-27T13:10:54.242Z"
      },
      {
        "duration": 164,
        "start_time": "2022-09-27T13:10:54.861Z"
      },
      {
        "duration": 8,
        "start_time": "2022-09-27T13:10:55.026Z"
      },
      {
        "duration": 31,
        "start_time": "2022-09-27T13:10:55.036Z"
      },
      {
        "duration": 189,
        "start_time": "2022-09-27T13:10:55.068Z"
      },
      {
        "duration": 144,
        "start_time": "2022-09-27T13:10:55.258Z"
      },
      {
        "duration": 7,
        "start_time": "2022-09-27T13:10:55.403Z"
      },
      {
        "duration": 24,
        "start_time": "2022-09-27T13:10:55.411Z"
      },
      {
        "duration": 167,
        "start_time": "2022-09-27T13:10:55.437Z"
      },
      {
        "duration": 91,
        "start_time": "2022-09-27T13:10:55.606Z"
      },
      {
        "duration": 6,
        "start_time": "2022-09-27T13:10:55.698Z"
      },
      {
        "duration": 21,
        "start_time": "2022-09-27T13:10:55.706Z"
      },
      {
        "duration": 15,
        "start_time": "2022-09-27T13:10:55.729Z"
      },
      {
        "duration": 5,
        "start_time": "2022-09-27T13:10:55.746Z"
      },
      {
        "duration": 14,
        "start_time": "2022-09-27T13:10:55.752Z"
      },
      {
        "duration": 30,
        "start_time": "2022-09-27T13:10:55.768Z"
      },
      {
        "duration": 6,
        "start_time": "2022-09-27T13:10:55.800Z"
      },
      {
        "duration": 16,
        "start_time": "2022-09-27T13:10:55.808Z"
      },
      {
        "duration": 68,
        "start_time": "2022-09-27T13:10:55.825Z"
      },
      {
        "duration": 5,
        "start_time": "2022-09-27T13:10:55.895Z"
      },
      {
        "duration": 8,
        "start_time": "2022-09-27T13:10:55.902Z"
      },
      {
        "duration": 24,
        "start_time": "2022-09-27T13:10:55.911Z"
      },
      {
        "duration": 2,
        "start_time": "2022-09-27T13:10:55.937Z"
      },
      {
        "duration": 21,
        "start_time": "2022-09-27T13:10:55.941Z"
      },
      {
        "duration": 44,
        "start_time": "2022-09-27T13:10:55.964Z"
      },
      {
        "duration": 5,
        "start_time": "2022-09-27T13:10:56.010Z"
      },
      {
        "duration": 28,
        "start_time": "2022-09-27T13:10:56.017Z"
      },
      {
        "duration": 4,
        "start_time": "2022-09-27T13:10:56.049Z"
      },
      {
        "duration": 107,
        "start_time": "2022-09-27T13:10:56.055Z"
      },
      {
        "duration": 0,
        "start_time": "2022-09-27T13:10:56.164Z"
      },
      {
        "duration": 0,
        "start_time": "2022-09-27T13:10:56.165Z"
      },
      {
        "duration": 0,
        "start_time": "2022-09-27T13:10:56.166Z"
      },
      {
        "duration": 0,
        "start_time": "2022-09-27T13:10:56.167Z"
      },
      {
        "duration": 0,
        "start_time": "2022-09-27T13:10:56.168Z"
      },
      {
        "duration": 0,
        "start_time": "2022-09-27T13:10:56.169Z"
      },
      {
        "duration": 0,
        "start_time": "2022-09-27T13:10:56.170Z"
      },
      {
        "duration": 0,
        "start_time": "2022-09-27T13:10:56.171Z"
      },
      {
        "duration": 0,
        "start_time": "2022-09-27T13:10:56.172Z"
      },
      {
        "duration": 0,
        "start_time": "2022-09-27T13:10:56.189Z"
      },
      {
        "duration": 0,
        "start_time": "2022-09-27T13:10:56.190Z"
      },
      {
        "duration": 0,
        "start_time": "2022-09-27T13:10:56.191Z"
      },
      {
        "duration": 0,
        "start_time": "2022-09-27T13:10:56.192Z"
      },
      {
        "duration": 0,
        "start_time": "2022-09-27T13:10:56.193Z"
      },
      {
        "duration": 0,
        "start_time": "2022-09-27T13:10:56.194Z"
      },
      {
        "duration": 0,
        "start_time": "2022-09-27T13:10:56.195Z"
      },
      {
        "duration": 0,
        "start_time": "2022-09-27T13:10:56.196Z"
      },
      {
        "duration": 0,
        "start_time": "2022-09-27T13:10:56.197Z"
      },
      {
        "duration": 0,
        "start_time": "2022-09-27T13:10:56.199Z"
      },
      {
        "duration": 0,
        "start_time": "2022-09-27T13:10:56.199Z"
      },
      {
        "duration": 0,
        "start_time": "2022-09-27T13:10:56.200Z"
      },
      {
        "duration": 0,
        "start_time": "2022-09-27T13:10:56.201Z"
      },
      {
        "duration": 0,
        "start_time": "2022-09-27T13:10:56.202Z"
      },
      {
        "duration": 0,
        "start_time": "2022-09-27T13:10:56.204Z"
      },
      {
        "duration": 0,
        "start_time": "2022-09-27T13:10:56.205Z"
      },
      {
        "duration": 672,
        "start_time": "2022-09-27T13:11:40.231Z"
      },
      {
        "duration": 169,
        "start_time": "2022-09-27T13:11:40.905Z"
      },
      {
        "duration": 7,
        "start_time": "2022-09-27T13:11:41.076Z"
      },
      {
        "duration": 35,
        "start_time": "2022-09-27T13:11:41.085Z"
      },
      {
        "duration": 173,
        "start_time": "2022-09-27T13:11:41.122Z"
      },
      {
        "duration": 141,
        "start_time": "2022-09-27T13:11:41.297Z"
      },
      {
        "duration": 7,
        "start_time": "2022-09-27T13:11:41.440Z"
      },
      {
        "duration": 25,
        "start_time": "2022-09-27T13:11:41.448Z"
      },
      {
        "duration": 216,
        "start_time": "2022-09-27T13:11:41.475Z"
      },
      {
        "duration": 97,
        "start_time": "2022-09-27T13:11:41.695Z"
      },
      {
        "duration": 6,
        "start_time": "2022-09-27T13:11:41.793Z"
      },
      {
        "duration": 28,
        "start_time": "2022-09-27T13:11:41.801Z"
      },
      {
        "duration": 18,
        "start_time": "2022-09-27T13:11:41.832Z"
      },
      {
        "duration": 6,
        "start_time": "2022-09-27T13:11:41.852Z"
      },
      {
        "duration": 21,
        "start_time": "2022-09-27T13:11:41.860Z"
      },
      {
        "duration": 46,
        "start_time": "2022-09-27T13:11:41.882Z"
      },
      {
        "duration": 8,
        "start_time": "2022-09-27T13:11:41.930Z"
      },
      {
        "duration": 19,
        "start_time": "2022-09-27T13:11:41.941Z"
      },
      {
        "duration": 112,
        "start_time": "2022-09-27T13:11:41.962Z"
      },
      {
        "duration": 12,
        "start_time": "2022-09-27T13:11:42.077Z"
      },
      {
        "duration": 12,
        "start_time": "2022-09-27T13:11:42.091Z"
      },
      {
        "duration": 30,
        "start_time": "2022-09-27T13:11:42.105Z"
      },
      {
        "duration": 16,
        "start_time": "2022-09-27T13:11:42.137Z"
      },
      {
        "duration": 36,
        "start_time": "2022-09-27T13:11:42.155Z"
      },
      {
        "duration": 25,
        "start_time": "2022-09-27T13:11:42.193Z"
      },
      {
        "duration": 5,
        "start_time": "2022-09-27T13:11:42.220Z"
      },
      {
        "duration": 28,
        "start_time": "2022-09-27T13:11:42.227Z"
      },
      {
        "duration": 30,
        "start_time": "2022-09-27T13:11:42.260Z"
      },
      {
        "duration": 89,
        "start_time": "2022-09-27T13:11:42.293Z"
      },
      {
        "duration": 0,
        "start_time": "2022-09-27T13:11:42.389Z"
      },
      {
        "duration": 0,
        "start_time": "2022-09-27T13:11:42.390Z"
      },
      {
        "duration": 0,
        "start_time": "2022-09-27T13:11:42.391Z"
      },
      {
        "duration": 0,
        "start_time": "2022-09-27T13:11:42.392Z"
      },
      {
        "duration": 0,
        "start_time": "2022-09-27T13:11:42.393Z"
      },
      {
        "duration": 0,
        "start_time": "2022-09-27T13:11:42.394Z"
      },
      {
        "duration": 0,
        "start_time": "2022-09-27T13:11:42.395Z"
      },
      {
        "duration": 0,
        "start_time": "2022-09-27T13:11:42.396Z"
      },
      {
        "duration": 0,
        "start_time": "2022-09-27T13:11:42.397Z"
      },
      {
        "duration": 0,
        "start_time": "2022-09-27T13:11:42.398Z"
      },
      {
        "duration": 0,
        "start_time": "2022-09-27T13:11:42.399Z"
      },
      {
        "duration": 0,
        "start_time": "2022-09-27T13:11:42.400Z"
      },
      {
        "duration": 0,
        "start_time": "2022-09-27T13:11:42.401Z"
      },
      {
        "duration": 0,
        "start_time": "2022-09-27T13:11:42.402Z"
      },
      {
        "duration": 0,
        "start_time": "2022-09-27T13:11:42.403Z"
      },
      {
        "duration": 0,
        "start_time": "2022-09-27T13:11:42.404Z"
      },
      {
        "duration": 0,
        "start_time": "2022-09-27T13:11:42.405Z"
      },
      {
        "duration": 0,
        "start_time": "2022-09-27T13:11:42.406Z"
      },
      {
        "duration": 0,
        "start_time": "2022-09-27T13:11:42.407Z"
      },
      {
        "duration": 0,
        "start_time": "2022-09-27T13:11:42.408Z"
      },
      {
        "duration": 0,
        "start_time": "2022-09-27T13:11:42.410Z"
      },
      {
        "duration": 0,
        "start_time": "2022-09-27T13:11:42.411Z"
      },
      {
        "duration": 0,
        "start_time": "2022-09-27T13:11:42.412Z"
      },
      {
        "duration": 0,
        "start_time": "2022-09-27T13:11:42.413Z"
      },
      {
        "duration": 0,
        "start_time": "2022-09-27T13:11:42.414Z"
      },
      {
        "duration": 726,
        "start_time": "2022-09-27T14:15:44.971Z"
      },
      {
        "duration": 162,
        "start_time": "2022-09-27T14:15:45.698Z"
      },
      {
        "duration": 9,
        "start_time": "2022-09-27T14:15:45.861Z"
      },
      {
        "duration": 47,
        "start_time": "2022-09-27T14:15:45.872Z"
      },
      {
        "duration": 175,
        "start_time": "2022-09-27T14:15:45.921Z"
      },
      {
        "duration": 139,
        "start_time": "2022-09-27T14:15:46.098Z"
      },
      {
        "duration": 7,
        "start_time": "2022-09-27T14:15:46.238Z"
      },
      {
        "duration": 36,
        "start_time": "2022-09-27T14:15:46.246Z"
      },
      {
        "duration": 164,
        "start_time": "2022-09-27T14:15:46.284Z"
      },
      {
        "duration": 95,
        "start_time": "2022-09-27T14:15:46.450Z"
      },
      {
        "duration": 6,
        "start_time": "2022-09-27T14:15:46.547Z"
      },
      {
        "duration": 38,
        "start_time": "2022-09-27T14:15:46.554Z"
      },
      {
        "duration": 15,
        "start_time": "2022-09-27T14:15:46.594Z"
      },
      {
        "duration": 5,
        "start_time": "2022-09-27T14:15:46.611Z"
      },
      {
        "duration": 15,
        "start_time": "2022-09-27T14:15:46.618Z"
      },
      {
        "duration": 30,
        "start_time": "2022-09-27T14:15:46.635Z"
      },
      {
        "duration": 7,
        "start_time": "2022-09-27T14:15:46.666Z"
      },
      {
        "duration": 12,
        "start_time": "2022-09-27T14:15:46.674Z"
      },
      {
        "duration": 82,
        "start_time": "2022-09-27T14:15:46.688Z"
      },
      {
        "duration": 5,
        "start_time": "2022-09-27T14:15:46.771Z"
      },
      {
        "duration": 17,
        "start_time": "2022-09-27T14:15:46.778Z"
      },
      {
        "duration": 24,
        "start_time": "2022-09-27T14:15:46.796Z"
      },
      {
        "duration": 15,
        "start_time": "2022-09-27T14:15:46.822Z"
      },
      {
        "duration": 19,
        "start_time": "2022-09-27T14:15:46.839Z"
      },
      {
        "duration": 51,
        "start_time": "2022-09-27T14:15:46.860Z"
      },
      {
        "duration": 5,
        "start_time": "2022-09-27T14:15:46.913Z"
      },
      {
        "duration": 27,
        "start_time": "2022-09-27T14:15:46.920Z"
      },
      {
        "duration": 5,
        "start_time": "2022-09-27T14:15:46.951Z"
      },
      {
        "duration": 104,
        "start_time": "2022-09-27T14:15:46.958Z"
      },
      {
        "duration": 0,
        "start_time": "2022-09-27T14:15:47.064Z"
      },
      {
        "duration": 0,
        "start_time": "2022-09-27T14:15:47.066Z"
      },
      {
        "duration": 0,
        "start_time": "2022-09-27T14:15:47.068Z"
      },
      {
        "duration": 0,
        "start_time": "2022-09-27T14:15:47.069Z"
      },
      {
        "duration": 0,
        "start_time": "2022-09-27T14:15:47.070Z"
      },
      {
        "duration": 0,
        "start_time": "2022-09-27T14:15:47.071Z"
      },
      {
        "duration": 0,
        "start_time": "2022-09-27T14:15:47.072Z"
      },
      {
        "duration": 0,
        "start_time": "2022-09-27T14:15:47.073Z"
      },
      {
        "duration": 0,
        "start_time": "2022-09-27T14:15:47.090Z"
      },
      {
        "duration": 0,
        "start_time": "2022-09-27T14:15:47.090Z"
      },
      {
        "duration": 0,
        "start_time": "2022-09-27T14:15:47.092Z"
      },
      {
        "duration": 0,
        "start_time": "2022-09-27T14:15:47.093Z"
      },
      {
        "duration": 0,
        "start_time": "2022-09-27T14:15:47.094Z"
      },
      {
        "duration": 0,
        "start_time": "2022-09-27T14:15:47.095Z"
      },
      {
        "duration": 0,
        "start_time": "2022-09-27T14:15:47.096Z"
      },
      {
        "duration": 0,
        "start_time": "2022-09-27T14:15:47.097Z"
      },
      {
        "duration": 0,
        "start_time": "2022-09-27T14:15:47.098Z"
      },
      {
        "duration": 0,
        "start_time": "2022-09-27T14:15:47.100Z"
      },
      {
        "duration": 0,
        "start_time": "2022-09-27T14:15:47.101Z"
      },
      {
        "duration": 0,
        "start_time": "2022-09-27T14:15:47.102Z"
      },
      {
        "duration": 0,
        "start_time": "2022-09-27T14:15:47.103Z"
      },
      {
        "duration": 0,
        "start_time": "2022-09-27T14:15:47.104Z"
      },
      {
        "duration": 0,
        "start_time": "2022-09-27T14:15:47.105Z"
      },
      {
        "duration": 0,
        "start_time": "2022-09-27T14:15:47.106Z"
      },
      {
        "duration": 0,
        "start_time": "2022-09-27T14:15:47.107Z"
      },
      {
        "duration": 21,
        "start_time": "2022-09-27T14:17:42.053Z"
      },
      {
        "duration": 5,
        "start_time": "2022-09-27T14:17:43.809Z"
      },
      {
        "duration": 16,
        "start_time": "2022-09-27T14:20:12.564Z"
      },
      {
        "duration": 175,
        "start_time": "2022-09-27T14:20:13.511Z"
      },
      {
        "duration": 6,
        "start_time": "2022-09-27T14:20:19.607Z"
      },
      {
        "duration": 5,
        "start_time": "2022-09-27T14:21:39.043Z"
      },
      {
        "duration": 90,
        "start_time": "2022-09-27T14:21:47.149Z"
      },
      {
        "duration": 11,
        "start_time": "2022-09-27T14:22:01.875Z"
      },
      {
        "duration": 7,
        "start_time": "2022-09-27T14:22:13.562Z"
      },
      {
        "duration": 3,
        "start_time": "2022-09-27T14:22:23.627Z"
      },
      {
        "duration": 10,
        "start_time": "2022-09-27T14:22:25.427Z"
      },
      {
        "duration": 10,
        "start_time": "2022-09-27T14:22:33.907Z"
      },
      {
        "duration": 4,
        "start_time": "2022-09-27T14:23:10.149Z"
      },
      {
        "duration": 7,
        "start_time": "2022-09-27T14:23:15.910Z"
      },
      {
        "duration": 5,
        "start_time": "2022-09-27T14:23:22.320Z"
      },
      {
        "duration": 51,
        "start_time": "2022-09-27T14:23:32.493Z"
      },
      {
        "duration": 782,
        "start_time": "2022-09-27T14:26:32.300Z"
      },
      {
        "duration": 259,
        "start_time": "2022-09-27T14:27:22.557Z"
      },
      {
        "duration": 378,
        "start_time": "2022-09-27T14:28:02.547Z"
      },
      {
        "duration": 249,
        "start_time": "2022-09-27T14:28:28.236Z"
      },
      {
        "duration": 286,
        "start_time": "2022-09-27T14:29:00.777Z"
      },
      {
        "duration": 203,
        "start_time": "2022-09-27T14:29:05.855Z"
      },
      {
        "duration": 297,
        "start_time": "2022-09-27T14:29:17.913Z"
      },
      {
        "duration": 221,
        "start_time": "2022-09-27T14:29:25.007Z"
      },
      {
        "duration": 3,
        "start_time": "2022-09-27T14:29:52.969Z"
      },
      {
        "duration": 93,
        "start_time": "2022-09-27T14:31:46.306Z"
      },
      {
        "duration": 145,
        "start_time": "2022-09-27T14:31:53.577Z"
      },
      {
        "duration": 29,
        "start_time": "2022-09-27T14:32:25.033Z"
      },
      {
        "duration": 14,
        "start_time": "2022-09-27T14:33:47.284Z"
      },
      {
        "duration": 16,
        "start_time": "2022-09-27T14:36:31.869Z"
      },
      {
        "duration": 8,
        "start_time": "2022-09-27T14:36:58.492Z"
      },
      {
        "duration": 8,
        "start_time": "2022-09-27T14:39:20.253Z"
      }
    ],
    "colab": {
      "provenance": [],
      "toc_visible": true,
      "include_colab_link": true
    },
    "kernelspec": {
      "display_name": "Python 3 (ipykernel)",
      "language": "python",
      "name": "python3"
    },
    "language_info": {
      "codemirror_mode": {
        "name": "ipython",
        "version": 3
      },
      "file_extension": ".py",
      "mimetype": "text/x-python",
      "name": "python",
      "nbconvert_exporter": "python",
      "pygments_lexer": "ipython3",
      "version": "3.9.5"
    },
    "toc": {
      "base_numbering": 1,
      "nav_menu": {},
      "number_sections": true,
      "sideBar": true,
      "skip_h1_title": true,
      "title_cell": "Table of Contents",
      "title_sidebar": "Contents",
      "toc_cell": false,
      "toc_position": {},
      "toc_section_display": true,
      "toc_window_display": false
    }
  },
  "nbformat": 4,
  "nbformat_minor": 0
}
