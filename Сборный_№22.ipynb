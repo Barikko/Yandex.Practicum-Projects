{
  "cells": [
    {
      "cell_type": "markdown",
      "metadata": {
        "id": "view-in-github",
        "colab_type": "text"
      },
      "source": [
        "<a href=\"https://colab.research.google.com/github/Barikko/Yandex.Practicum-Projects/blob/main/%D0%A1%D0%B1%D0%BE%D1%80%D0%BD%D1%8B%D0%B9_%E2%84%9622.ipynb\" target=\"_parent\"><img src=\"https://colab.research.google.com/assets/colab-badge.svg\" alt=\"Open In Colab\"/></a>"
      ]
    },
    {
      "cell_type": "markdown",
      "metadata": {
        "id": "h-M5LxKiVBL7"
      },
      "source": [
        "# Сборный проект 2\n",
        "Цель: изучить, как ведут себя пользователи мобильного приложения для продаж продуктов питания, повлияет ли на их поведение изменения шрифта в приложении.\n",
        "\n",
        "Описание данных: файл logs_exp, в котором записаны события, id пользователя, время события и номер эксперимента (246, 247 - А/А контрольные группы, 248 - экспериментальная группа с изменённым шрифтом).\n",
        "\n",
        "План работ:\n",
        "\n",
        "- Предобработка данных. Определение актуальности данных. Проверка на подглядывание.\n",
        "- Изучение воронки продаж. Как пользователи доходят до покупки, сколько пользователей доходит до покупки, а сколько — «застревает» на предыдущих шагах? На каких именно?\n",
        "- Исследование результатов А/А/В-эксперимента. Проверка гипотез о равенстве долей между контрольных групп, контрольных групп и экспериментальной, объединённой из контрольных и экспериментальной."
      ]
    },
    {
      "cell_type": "markdown",
      "metadata": {
        "id": "xEQh9lqWVBL_"
      },
      "source": [
        "## Загрузка данных и подготовка их к анализу"
      ]
    },
    {
      "cell_type": "code",
      "execution_count": 3,
      "metadata": {
        "id": "UMYTJD2bVBMA"
      },
      "outputs": [],
      "source": [
        "import pandas as pd\n",
        "import numpy as np\n",
        "from datetime import datetime\n",
        "from matplotlib import pyplot as plt\n",
        "import scipy.stats as stats\n",
        "from statsmodels.stats.proportion import proportions_ztest\n",
        "from plotly import graph_objects as go\n",
        "from PIL import Image"
      ]
    },
    {
      "cell_type": "code",
      "execution_count": 4,
      "metadata": {
        "id": "FKv66aKiVBMC"
      },
      "outputs": [],
      "source": [
        "logs = pd.read_csv('/content/logs_exp.csv', sep='\\t')"
      ]
    },
    {
      "cell_type": "markdown",
      "metadata": {
        "id": "tv9sgagFVBMD"
      },
      "source": [
        "### Предобработка данных"
      ]
    },
    {
      "cell_type": "code",
      "execution_count": 5,
      "metadata": {
        "colab": {
          "base_uri": "https://localhost:8080/",
          "height": 421
        },
        "id": "v3NZIVh3VBMD",
        "outputId": "74e3ed51-35c4-4fbc-91b8-be6845d77304"
      },
      "outputs": [
        {
          "output_type": "stream",
          "name": "stdout",
          "text": [
            "<class 'pandas.core.frame.DataFrame'>\n",
            "RangeIndex: 154697 entries, 0 to 154696\n",
            "Data columns (total 4 columns):\n",
            " #   Column          Non-Null Count   Dtype  \n",
            "---  ------          --------------   -----  \n",
            " 0   EventName       154697 non-null  object \n",
            " 1   DeviceIDHash    154696 non-null  float64\n",
            " 2   EventTimestamp  154696 non-null  float64\n",
            " 3   ExpId           154696 non-null  float64\n",
            "dtypes: float64(3), object(1)\n",
            "memory usage: 4.7+ MB\n",
            "None\n"
          ]
        },
        {
          "output_type": "display_data",
          "data": {
            "text/plain": [
              "                event_name  device_id_hash     event_timestamp  exp_id  \\\n",
              "0         MainScreenAppear    4.575589e+18 2019-07-25 04:43:36   246.0   \n",
              "1         MainScreenAppear    7.416695e+18 2019-07-25 11:11:42   246.0   \n",
              "2  PaymentScreenSuccessful    3.518123e+18 2019-07-25 11:28:47   248.0   \n",
              "3         CartScreenAppear    3.518123e+18 2019-07-25 11:28:47   248.0   \n",
              "4  PaymentScreenSuccessful    6.217808e+18 2019-07-25 11:48:42   248.0   \n",
              "\n",
              "   event_date  \n",
              "0  2019-07-25  \n",
              "1  2019-07-25  \n",
              "2  2019-07-25  \n",
              "3  2019-07-25  \n",
              "4  2019-07-25  "
            ],
            "text/html": [
              "\n",
              "  <div id=\"df-1f6b5e52-06ed-498c-84aa-36a7b07c92c4\">\n",
              "    <div class=\"colab-df-container\">\n",
              "      <div>\n",
              "<style scoped>\n",
              "    .dataframe tbody tr th:only-of-type {\n",
              "        vertical-align: middle;\n",
              "    }\n",
              "\n",
              "    .dataframe tbody tr th {\n",
              "        vertical-align: top;\n",
              "    }\n",
              "\n",
              "    .dataframe thead th {\n",
              "        text-align: right;\n",
              "    }\n",
              "</style>\n",
              "<table border=\"1\" class=\"dataframe\">\n",
              "  <thead>\n",
              "    <tr style=\"text-align: right;\">\n",
              "      <th></th>\n",
              "      <th>event_name</th>\n",
              "      <th>device_id_hash</th>\n",
              "      <th>event_timestamp</th>\n",
              "      <th>exp_id</th>\n",
              "      <th>event_date</th>\n",
              "    </tr>\n",
              "  </thead>\n",
              "  <tbody>\n",
              "    <tr>\n",
              "      <th>0</th>\n",
              "      <td>MainScreenAppear</td>\n",
              "      <td>4.575589e+18</td>\n",
              "      <td>2019-07-25 04:43:36</td>\n",
              "      <td>246.0</td>\n",
              "      <td>2019-07-25</td>\n",
              "    </tr>\n",
              "    <tr>\n",
              "      <th>1</th>\n",
              "      <td>MainScreenAppear</td>\n",
              "      <td>7.416695e+18</td>\n",
              "      <td>2019-07-25 11:11:42</td>\n",
              "      <td>246.0</td>\n",
              "      <td>2019-07-25</td>\n",
              "    </tr>\n",
              "    <tr>\n",
              "      <th>2</th>\n",
              "      <td>PaymentScreenSuccessful</td>\n",
              "      <td>3.518123e+18</td>\n",
              "      <td>2019-07-25 11:28:47</td>\n",
              "      <td>248.0</td>\n",
              "      <td>2019-07-25</td>\n",
              "    </tr>\n",
              "    <tr>\n",
              "      <th>3</th>\n",
              "      <td>CartScreenAppear</td>\n",
              "      <td>3.518123e+18</td>\n",
              "      <td>2019-07-25 11:28:47</td>\n",
              "      <td>248.0</td>\n",
              "      <td>2019-07-25</td>\n",
              "    </tr>\n",
              "    <tr>\n",
              "      <th>4</th>\n",
              "      <td>PaymentScreenSuccessful</td>\n",
              "      <td>6.217808e+18</td>\n",
              "      <td>2019-07-25 11:48:42</td>\n",
              "      <td>248.0</td>\n",
              "      <td>2019-07-25</td>\n",
              "    </tr>\n",
              "  </tbody>\n",
              "</table>\n",
              "</div>\n",
              "      <button class=\"colab-df-convert\" onclick=\"convertToInteractive('df-1f6b5e52-06ed-498c-84aa-36a7b07c92c4')\"\n",
              "              title=\"Convert this dataframe to an interactive table.\"\n",
              "              style=\"display:none;\">\n",
              "        \n",
              "  <svg xmlns=\"http://www.w3.org/2000/svg\" height=\"24px\"viewBox=\"0 0 24 24\"\n",
              "       width=\"24px\">\n",
              "    <path d=\"M0 0h24v24H0V0z\" fill=\"none\"/>\n",
              "    <path d=\"M18.56 5.44l.94 2.06.94-2.06 2.06-.94-2.06-.94-.94-2.06-.94 2.06-2.06.94zm-11 1L8.5 8.5l.94-2.06 2.06-.94-2.06-.94L8.5 2.5l-.94 2.06-2.06.94zm10 10l.94 2.06.94-2.06 2.06-.94-2.06-.94-.94-2.06-.94 2.06-2.06.94z\"/><path d=\"M17.41 7.96l-1.37-1.37c-.4-.4-.92-.59-1.43-.59-.52 0-1.04.2-1.43.59L10.3 9.45l-7.72 7.72c-.78.78-.78 2.05 0 2.83L4 21.41c.39.39.9.59 1.41.59.51 0 1.02-.2 1.41-.59l7.78-7.78 2.81-2.81c.8-.78.8-2.07 0-2.86zM5.41 20L4 18.59l7.72-7.72 1.47 1.35L5.41 20z\"/>\n",
              "  </svg>\n",
              "      </button>\n",
              "      \n",
              "  <style>\n",
              "    .colab-df-container {\n",
              "      display:flex;\n",
              "      flex-wrap:wrap;\n",
              "      gap: 12px;\n",
              "    }\n",
              "\n",
              "    .colab-df-convert {\n",
              "      background-color: #E8F0FE;\n",
              "      border: none;\n",
              "      border-radius: 50%;\n",
              "      cursor: pointer;\n",
              "      display: none;\n",
              "      fill: #1967D2;\n",
              "      height: 32px;\n",
              "      padding: 0 0 0 0;\n",
              "      width: 32px;\n",
              "    }\n",
              "\n",
              "    .colab-df-convert:hover {\n",
              "      background-color: #E2EBFA;\n",
              "      box-shadow: 0px 1px 2px rgba(60, 64, 67, 0.3), 0px 1px 3px 1px rgba(60, 64, 67, 0.15);\n",
              "      fill: #174EA6;\n",
              "    }\n",
              "\n",
              "    [theme=dark] .colab-df-convert {\n",
              "      background-color: #3B4455;\n",
              "      fill: #D2E3FC;\n",
              "    }\n",
              "\n",
              "    [theme=dark] .colab-df-convert:hover {\n",
              "      background-color: #434B5C;\n",
              "      box-shadow: 0px 1px 3px 1px rgba(0, 0, 0, 0.15);\n",
              "      filter: drop-shadow(0px 1px 2px rgba(0, 0, 0, 0.3));\n",
              "      fill: #FFFFFF;\n",
              "    }\n",
              "  </style>\n",
              "\n",
              "      <script>\n",
              "        const buttonEl =\n",
              "          document.querySelector('#df-1f6b5e52-06ed-498c-84aa-36a7b07c92c4 button.colab-df-convert');\n",
              "        buttonEl.style.display =\n",
              "          google.colab.kernel.accessAllowed ? 'block' : 'none';\n",
              "\n",
              "        async function convertToInteractive(key) {\n",
              "          const element = document.querySelector('#df-1f6b5e52-06ed-498c-84aa-36a7b07c92c4');\n",
              "          const dataTable =\n",
              "            await google.colab.kernel.invokeFunction('convertToInteractive',\n",
              "                                                     [key], {});\n",
              "          if (!dataTable) return;\n",
              "\n",
              "          const docLinkHtml = 'Like what you see? Visit the ' +\n",
              "            '<a target=\"_blank\" href=https://colab.research.google.com/notebooks/data_table.ipynb>data table notebook</a>'\n",
              "            + ' to learn more about interactive tables.';\n",
              "          element.innerHTML = '';\n",
              "          dataTable['output_type'] = 'display_data';\n",
              "          await google.colab.output.renderOutput(dataTable, element);\n",
              "          const docLink = document.createElement('div');\n",
              "          docLink.innerHTML = docLinkHtml;\n",
              "          element.appendChild(docLink);\n",
              "        }\n",
              "      </script>\n",
              "    </div>\n",
              "  </div>\n",
              "  "
            ]
          },
          "metadata": {}
        }
      ],
      "source": [
        "print(logs.info())\n",
        "logs['EventTimestamp'] = pd.to_datetime(logs['EventTimestamp'], unit='s')\n",
        "logs.columns=['event_name','device_id_hash','event_timestamp','exp_id']\n",
        "logs['event_date'] = pd.DatetimeIndex(logs['event_timestamp']).date\n",
        "display(logs.head(5))"
      ]
    },
    {
      "cell_type": "code",
      "execution_count": 6,
      "metadata": {
        "colab": {
          "base_uri": "https://localhost:8080/"
        },
        "id": "L02MChBsVBME",
        "outputId": "a54ba752-1ef8-4b2d-e986-f3808a8d4b82"
      },
      "outputs": [
        {
          "output_type": "stream",
          "name": "stdout",
          "text": [
            "event_name         0\n",
            "device_id_hash     1\n",
            "event_timestamp    1\n",
            "exp_id             1\n",
            "event_date         1\n",
            "dtype: int64\n",
            "['MainScreenAppear' 'PaymentScreenSuccessful' 'CartScreenAppear'\n",
            " 'OffersScreenAppear' 'Tutorial' 'PaymentScreenSucc']\n"
          ]
        }
      ],
      "source": [
        "print(logs.isna().sum())\n",
        "print(logs['event_name'].unique())"
      ]
    },
    {
      "cell_type": "code",
      "execution_count": 7,
      "metadata": {
        "colab": {
          "base_uri": "https://localhost:8080/"
        },
        "id": "ZvqaFFpnVBMG",
        "outputId": "74d99625-5542-4eb9-d483-8362ad381a32"
      },
      "outputs": [
        {
          "output_type": "stream",
          "name": "stdout",
          "text": [
            "[]\n",
            "[]\n",
            "[]\n"
          ]
        }
      ],
      "source": [
        "delet=np.intersect1d(logs.query('exp_id == 246')['device_id_hash'].unique(), logs.query('exp_id == 247')['device_id_hash'].unique())\n",
        "print(delet)\n",
        "\n",
        "delet1=np.intersect1d(logs.query('exp_id == 247')['device_id_hash'].unique(), logs.query('exp_id == 248')['device_id_hash'].unique())\n",
        "print(delet1)\n",
        "\n",
        "delet2=np.intersect1d(logs.query('exp_id == 246')['device_id_hash'].unique(), logs.query('exp_id == 248')['device_id_hash'].unique())\n",
        "print(delet2)"
      ]
    },
    {
      "cell_type": "markdown",
      "metadata": {
        "id": "OpzxeUi2VBMH"
      },
      "source": [
        "Столбцы переименованы, дата переведена в нужный формат, добавлен новый столбец с датой, дубликатов и пропусков нет, пользователей, принадлежащих к нескольким группам, нет."
      ]
    },
    {
      "cell_type": "markdown",
      "metadata": {
        "id": "RMOad9N-VBMI"
      },
      "source": [
        "## Изучение и проверка данных"
      ]
    },
    {
      "cell_type": "markdown",
      "metadata": {
        "id": "x8kqbsBRVBMI"
      },
      "source": [
        "### Сколько всего событий в логе?   "
      ]
    },
    {
      "cell_type": "code",
      "execution_count": 8,
      "metadata": {
        "colab": {
          "base_uri": "https://localhost:8080/"
        },
        "id": "M8rciSU1VBMJ",
        "outputId": "42625364-7ea4-4231-bf0e-416995250a8f"
      },
      "outputs": [
        {
          "output_type": "stream",
          "name": "stdout",
          "text": [
            "Всего событий в логе: 154696\n"
          ]
        }
      ],
      "source": [
        "print('Всего событий в логе:',logs['device_id_hash'].count())"
      ]
    },
    {
      "cell_type": "markdown",
      "metadata": {
        "id": "zipGXaN1VBMJ"
      },
      "source": [
        "### Сколько всего пользователей в логе?"
      ]
    },
    {
      "cell_type": "code",
      "execution_count": 9,
      "metadata": {
        "colab": {
          "base_uri": "https://localhost:8080/"
        },
        "id": "byh3mQjNVBMK",
        "outputId": "a7d5d9d3-e21a-4457-cc5a-43fd68dc98d9"
      },
      "outputs": [
        {
          "output_type": "stream",
          "name": "stdout",
          "text": [
            "Всего пользователей в логе: 6806\n"
          ]
        }
      ],
      "source": [
        "users=len(logs['device_id_hash'].unique())\n",
        "print('Всего пользователей в логе:',users)"
      ]
    },
    {
      "cell_type": "markdown",
      "metadata": {
        "id": "EZQPJrDzVBMK"
      },
      "source": [
        "### Сколько в среднем событий приходится на пользователя?"
      ]
    },
    {
      "cell_type": "code",
      "execution_count": 10,
      "metadata": {
        "colab": {
          "base_uri": "https://localhost:8080/"
        },
        "id": "BMWYYFv4VBML",
        "outputId": "dea00c3c-6781-458c-da66-9764b8339ec7"
      },
      "outputs": [
        {
          "output_type": "stream",
          "name": "stdout",
          "text": [
            "Среднее количество событий на пользователя: 22.7\n"
          ]
        }
      ],
      "source": [
        "print('Среднее количество событий на пользователя: {:.1f}'.format(logs.groupby(['device_id_hash'])['exp_id'].count().mean()))"
      ]
    },
    {
      "cell_type": "markdown",
      "metadata": {
        "id": "BSnzR_8XVBMM"
      },
      "source": [
        "### Нахождение максимальной и минимальной даты.  Определение с какого момента данные полные."
      ]
    },
    {
      "cell_type": "code",
      "execution_count": 11,
      "metadata": {
        "colab": {
          "base_uri": "https://localhost:8080/"
        },
        "id": "028zDlhJVBMM",
        "outputId": "68bdab4c-215a-465c-eb35-c62c90b3f8a8"
      },
      "outputs": [
        {
          "output_type": "stream",
          "name": "stdout",
          "text": [
            "Минимальная дата: 2019-07-25 04:43:36\n",
            "Максимальная дата: 2019-08-05 11:27:41\n"
          ]
        }
      ],
      "source": [
        "print('Минимальная дата:',min(logs['event_timestamp']))\n",
        "print('Максимальная дата:',max(logs['event_timestamp']))"
      ]
    },
    {
      "cell_type": "markdown",
      "metadata": {
        "id": "TyyzWtQgVBMN"
      },
      "source": [
        "На первый взгляд мы располагаем данными за две недели - с 25.07.2019 до 07.08.2019"
      ]
    },
    {
      "cell_type": "markdown",
      "metadata": {
        "id": "p6iUUnK6VBMN"
      },
      "source": [
        "### Гистограмма по дате и времени. "
      ]
    },
    {
      "cell_type": "code",
      "execution_count": 12,
      "metadata": {
        "colab": {
          "base_uri": "https://localhost:8080/",
          "height": 303
        },
        "id": "j30fZibbVBMO",
        "outputId": "d05f5823-ac9a-46e0-d857-45b2439954ec"
      },
      "outputs": [
        {
          "output_type": "display_data",
          "data": {
            "text/plain": [
              "<Figure size 576x288 with 1 Axes>"
            ],
            "image/png": "[encoded data removed]"
          },
          "metadata": {
            "needs_background": "light"
          }
        },
        {
          "output_type": "display_data",
          "data": {
            "text/plain": [
              "<Figure size 720x360 with 0 Axes>"
            ]
          },
          "metadata": {}
        }
      ],
      "source": [
        "plt.figure(figsize=(8,4))\n",
        "logs['event_timestamp'].hist()\n",
        "plt.xticks(rotation = 20)\n",
        "plt.figure(figsize=(10,5));"
      ]
    },
    {
      "cell_type": "markdown",
      "metadata": {
        "id": "YFTL5VEVVBMO"
      },
      "source": [
        "Данные полны с 08.01.2019. Более ранние данные отброшены. Мы располагаем данными за одну неделю - с 01.08.2019 до 07.08.2019."
      ]
    },
    {
      "cell_type": "code",
      "execution_count": 13,
      "metadata": {
        "id": "RYeoKhHlVBMP"
      },
      "outputs": [],
      "source": [
        "#Отбрасываем более старые данные\n",
        "logs_old=logs.query('event_timestamp<\"2019-08-01 00:00:00\"')\n",
        "logs1=logs.query('event_timestamp>\"2019-08-01 00:00:00\"')"
      ]
    },
    {
      "cell_type": "markdown",
      "metadata": {
        "id": "ZHEfu3ZnVBMP"
      },
      "source": [
        "###  Много ли событий и пользователей потеряно?"
      ]
    },
    {
      "cell_type": "code",
      "execution_count": 14,
      "metadata": {
        "colab": {
          "base_uri": "https://localhost:8080/"
        },
        "id": "DpxfMXd5VBMP",
        "outputId": "80031120-92b6-445a-d797-9ec5555d7b8e"
      },
      "outputs": [
        {
          "output_type": "stream",
          "name": "stdout",
          "text": [
            "Всего отброшено пользователей: 1451 , что является 21.3%  от общего числа\n",
            "Всего отброшено событий: 2828 , что является 1.8%  от общего числа\n"
          ]
        }
      ],
      "source": [
        "print('Всего отброшено пользователей:',len(logs_old['device_id_hash'].unique()),', что является {:.1f}%'.format(\\\n",
        "      len(logs_old['device_id_hash'].unique())/len(logs['device_id_hash'].unique())*100),' от общего числа')\n",
        "print('Всего отброшено событий:',logs_old['device_id_hash'].count(),', что является {:.1f}%'.format(\\\n",
        "      logs_old['device_id_hash'].count()/logs['device_id_hash'].count()*100),' от общего числа')"
      ]
    },
    {
      "cell_type": "markdown",
      "metadata": {
        "id": "Op4SmBzGVBMR"
      },
      "source": [
        "### Есть ли пользователи из всех трёх экспериментальных групп?"
      ]
    },
    {
      "cell_type": "code",
      "execution_count": 15,
      "metadata": {
        "colab": {
          "base_uri": "https://localhost:8080/"
        },
        "id": "knB67t8zVBMR",
        "outputId": "9fa41990-16fd-4d3d-b9d6-24737fb356e3"
      },
      "outputs": [
        {
          "output_type": "stream",
          "name": "stdout",
          "text": [
            "exp_id\n",
            "246.0    2216\n",
            "247.0    2254\n",
            "248.0    2265\n",
            "Name: device_id_hash, dtype: int64\n"
          ]
        }
      ],
      "source": [
        "print(logs1.groupby('exp_id')['device_id_hash'].nunique())"
      ]
    },
    {
      "cell_type": "markdown",
      "metadata": {
        "id": "lC8u26IlVBMR"
      },
      "source": [
        "В каждой группе есть пользователи."
      ]
    },
    {
      "cell_type": "markdown",
      "metadata": {
        "id": "mZLHvdyMVBMS"
      },
      "source": [
        "## Воронка событий"
      ]
    },
    {
      "cell_type": "markdown",
      "metadata": {
        "id": "sWuOWOyrVBMS"
      },
      "source": [
        "###  Какие события есть в логах, как часто они встречаются?"
      ]
    },
    {
      "cell_type": "code",
      "execution_count": 16,
      "metadata": {
        "colab": {
          "base_uri": "https://localhost:8080/"
        },
        "id": "n5uYcstBVBMS",
        "outputId": "35dba36e-a9e8-4871-9367-89578605705a"
      },
      "outputs": [
        {
          "output_type": "stream",
          "name": "stdout",
          "text": [
            "event_name\n",
            "MainScreenAppear           72280\n",
            "OffersScreenAppear         29634\n",
            "CartScreenAppear           27361\n",
            "PaymentScreenSuccessful    21829\n",
            "Tutorial                     764\n",
            "Name: device_id_hash, dtype: int64\n"
          ]
        }
      ],
      "source": [
        "print(logs1.groupby('event_name')['device_id_hash'].count().sort_values(ascending = False))"
      ]
    },
    {
      "cell_type": "markdown",
      "metadata": {
        "id": "li1EOR4NVBMT"
      },
      "source": [
        "В логах есть такие события как:\n",
        "1. Главный экран\n",
        "2. Экран с предложениями\n",
        "3. Экран покупки\n",
        "4. Экран успешной оплаты\n",
        "5. Экран обучения\n",
        "\n",
        "Самое популярное событие - открытие главного экрана, наименее популярное - прохождение туториала"
      ]
    },
    {
      "cell_type": "markdown",
      "metadata": {
        "id": "69NiVnM8VBMT"
      },
      "source": [
        "### Сколько пользователей совершали каждое из этих событий?"
      ]
    },
    {
      "cell_type": "code",
      "execution_count": 17,
      "metadata": {
        "colab": {
          "base_uri": "https://localhost:8080/"
        },
        "id": "LbxVqA9WVBMT",
        "outputId": "2213b5a3-52e1-4c9b-e15a-82609484680e"
      },
      "outputs": [
        {
          "output_type": "stream",
          "name": "stdout",
          "text": [
            "                         device_id_hash\n",
            "event_name                             \n",
            "MainScreenAppear                   6591\n",
            "OffersScreenAppear                 3972\n",
            "CartScreenAppear                   3228\n",
            "PaymentScreenSuccessful            3058\n",
            "Tutorial                            600\n",
            "\n",
            "Доля пользователей, которые хоть раз совершали событие: 96.8%\n"
          ]
        }
      ],
      "source": [
        "print(\n",
        "    logs1.pivot_table(index = 'event_name',values='device_id_hash', aggfunc='nunique')\\\n",
        "    .sort_values(by='device_id_hash',ascending = False)\n",
        "    )\n",
        "\n",
        "main = logs1.query('event_name==\"MainScreenAppear\"')['device_id_hash'].nunique()\n",
        "offer = logs1.query('event_name==\"OffersScreenAppear\"')['device_id_hash'].nunique()\n",
        "cart = logs1.query('event_name==\"CartScreenAppear\"')['device_id_hash'].nunique()\n",
        "pay = logs1.query('event_name==\"PaymentScreenSuccessful\"')['device_id_hash'].nunique()\n",
        "tut = logs1.query('event_name==\"Tutorial\"')['device_id_hash'].nunique()\n",
        "print('')\n",
        "print('Доля пользователей, которые хоть раз совершали событие: {:.1f}%'.format(main/users*100))"
      ]
    },
    {
      "cell_type": "markdown",
      "metadata": {
        "id": "wJcdoWzqVBMU"
      },
      "source": [
        "### В каком порядке происходят события?"
      ]
    },
    {
      "cell_type": "markdown",
      "metadata": {
        "id": "-yfUESZxVBMU"
      },
      "source": [
        "События происходят в порядке с наиболее частого до наименее, кроме обучения (Tutorial), которое не относится к воронке, а является необязательным действием в приложении.\n",
        "\n",
        "Установка приложения => MainScreenAppear => OffersScreenAppear => CartScreenAppear => PaymentScreenSuccessful"
      ]
    },
    {
      "cell_type": "code",
      "execution_count": 32,
      "metadata": {
        "colab": {
          "base_uri": "https://localhost:8080/",
          "height": 542
        },
        "id": "Rp_rfPtEVBMV",
        "outputId": "0065dde0-1c87-4665-db02-137ba677a6fa"
      },
      "outputs": [
        {
          "output_type": "display_data",
          "data": {
            "text/plain": [
              "<PIL.PngImagePlugin.PngImageFile image mode=RGBA size=1172x525 at 0x7FA4C5781160>"
            ],
            "image/png": "[encoded data removed]"
          },
          "metadata": {}
        }
      ],
      "source": [
        "fig = go.Figure(go.Funnel(\n",
        "    y = [\"Главный экран\", \"Экран с предложениями\", \"Экран покупки\", \"Экран успешной оплаты\"],\n",
        "    x = [main, offer, cart, pay]))\n",
        "\n",
        "Image.open(\"/content/newplot(8).png\").show();"
      ]
    },
    {
      "cell_type": "markdown",
      "metadata": {
        "id": "JImUp-P4VBMV"
      },
      "source": [
        "### Подсчёт по воронке событий, какая доля пользователей проходит на следующий шаг воронки"
      ]
    },
    {
      "cell_type": "code",
      "execution_count": 19,
      "metadata": {
        "colab": {
          "base_uri": "https://localhost:8080/"
        },
        "id": "tkgWua6VVBMW",
        "outputId": "bbf048b2-aff5-45ed-c178-f8db921bb927"
      },
      "outputs": [
        {
          "output_type": "stream",
          "name": "stdout",
          "text": [
            "Доля пользователей, открывших приложеник: 96.8%\n",
            "Доля пользователей, открывших экран предложений: 60.3%\n",
            "Доля пользователей, открывших CartScreenAppear: 81.3%\n",
            "Доля пользователей, открывших PaymentScreenSuccessful: 94.7%\n"
          ]
        }
      ],
      "source": [
        "print('Доля пользователей, открывших приложеник: {:.1f}%'.format(main/users*100))\n",
        "print('Доля пользователей, открывших экран предложений: {:.1f}%'.format(offer/main*100))\n",
        "print('Доля пользователей, открывших CartScreenAppear: {:.1f}%'.format(cart/offer*100))\n",
        "print('Доля пользователей, открывших PaymentScreenSuccessful: {:.1f}%'.format(pay/cart*100))"
      ]
    },
    {
      "cell_type": "markdown",
      "metadata": {
        "id": "cqzC61PLVBMW"
      },
      "source": [
        "### На каком шаге теряется больше всего пользователей?"
      ]
    },
    {
      "cell_type": "markdown",
      "metadata": {
        "id": "yJBp3TNyVBMX"
      },
      "source": [
        "На шаге с открытием экрана предложений (OffersScreenAppear) потеряно больше всего пользователей (37% или 2826 пользователей)"
      ]
    },
    {
      "cell_type": "markdown",
      "metadata": {
        "id": "9wYYoThNVBMX"
      },
      "source": [
        "### Какая доля пользователей доходит от первого события до оплаты?"
      ]
    },
    {
      "cell_type": "code",
      "execution_count": 20,
      "metadata": {
        "colab": {
          "base_uri": "https://localhost:8080/"
        },
        "id": "V_6oE5EiVBMX",
        "outputId": "4feff407-c06b-4134-a0bd-bc352b6be36a"
      },
      "outputs": [
        {
          "output_type": "stream",
          "name": "stdout",
          "text": [
            "Доля пользователей, дошедших от первого события до оплаты: 46.4%\n"
          ]
        }
      ],
      "source": [
        "print('Доля пользователей, дошедших от первого события до оплаты: {:.1f}%'.format(pay/main*100))"
      ]
    },
    {
      "cell_type": "markdown",
      "metadata": {
        "id": "9TcWIqGyVBMY"
      },
      "source": [
        "## Изучение результатов эксперимента  "
      ]
    },
    {
      "cell_type": "markdown",
      "metadata": {
        "id": "mZ5mYBFfVBMY"
      },
      "source": [
        "###  Сколько пользователей в каждой экспериментальной группе?"
      ]
    },
    {
      "cell_type": "code",
      "execution_count": 21,
      "metadata": {
        "colab": {
          "base_uri": "https://localhost:8080/"
        },
        "id": "BFu3rWPdVBMZ",
        "outputId": "d0b0bd42-a42a-4ff1-ecae-e8aa415731b8"
      },
      "outputs": [
        {
          "output_type": "stream",
          "name": "stdout",
          "text": [
            "exp_id\n",
            "246.0    2216\n",
            "247.0    2254\n",
            "248.0    2265\n",
            "Name: device_id_hash, dtype: int64\n"
          ]
        }
      ],
      "source": [
        "countgr = logs1.groupby('exp_id')['device_id_hash'].nunique()\n",
        "print(countgr)"
      ]
    },
    {
      "cell_type": "markdown",
      "metadata": {
        "id": "KOGB-F4fVBMZ"
      },
      "source": [
        "### Находят ли статистические критерии разницу между выборками 246 и 247?"
      ]
    },
    {
      "cell_type": "markdown",
      "metadata": {
        "id": "oOLW5O_7VBMZ"
      },
      "source": [
        "H0 - статистически значимых различий между группами 246 и 247 (и всеми событиями в воронке) нет;\n",
        "\n",
        "H - статистически значимые различия между группами 246 и 247 (и всеми событиями) есть"
      ]
    },
    {
      "cell_type": "markdown",
      "metadata": {
        "id": "7lQo_-8gVBMZ"
      },
      "source": [
        "#### Воронка группы 246"
      ]
    },
    {
      "cell_type": "code",
      "execution_count": 22,
      "metadata": {
        "colab": {
          "base_uri": "https://localhost:8080/"
        },
        "id": "AK53Zl0XVBMa",
        "outputId": "b302949a-3a9c-4724-a198-d5b4f8cce07e"
      },
      "outputs": [
        {
          "output_type": "stream",
          "name": "stdout",
          "text": [
            "Воронка группы 246\n",
            "event_name\n",
            "MainScreenAppear           2166\n",
            "OffersScreenAppear         1339\n",
            "CartScreenAppear           1085\n",
            "PaymentScreenSuccessful    1038\n",
            "Tutorial                    196\n",
            "Name: device_id_hash, dtype: int64\n"
          ]
        }
      ],
      "source": [
        "logs246=logs1.query('exp_id==246').groupby('event_name')['device_id_hash'].nunique().sort_values(ascending = False)\n",
        "print('Воронка группы 246')\n",
        "print(logs246)"
      ]
    },
    {
      "cell_type": "markdown",
      "metadata": {
        "id": "HWbn8HUPVBMa"
      },
      "source": [
        "#### Воронка группы 247"
      ]
    },
    {
      "cell_type": "code",
      "execution_count": 23,
      "metadata": {
        "colab": {
          "base_uri": "https://localhost:8080/"
        },
        "id": "IF2_PSKdVBMa",
        "outputId": "892543bb-5cfe-4cc9-f9bf-0f35a7718ca2"
      },
      "outputs": [
        {
          "output_type": "stream",
          "name": "stdout",
          "text": [
            "Воронка группы 247\n",
            "event_name\n",
            "MainScreenAppear           2205\n",
            "OffersScreenAppear         1318\n",
            "CartScreenAppear           1071\n",
            "PaymentScreenSuccessful    1001\n",
            "Tutorial                    207\n",
            "Name: device_id_hash, dtype: int64\n"
          ]
        }
      ],
      "source": [
        "logs247=logs1.query('exp_id==247').groupby('event_name')['device_id_hash'].nunique().sort_values(ascending = False)\n",
        "print('Воронка группы 247')\n",
        "print(logs247)"
      ]
    },
    {
      "cell_type": "markdown",
      "metadata": {
        "id": "Quz9ajFfVBMb"
      },
      "source": [
        "#### Воронка группы 248"
      ]
    },
    {
      "cell_type": "code",
      "execution_count": 24,
      "metadata": {
        "scrolled": true,
        "colab": {
          "base_uri": "https://localhost:8080/"
        },
        "id": "LXgrT2TzVBMb",
        "outputId": "63813469-3c68-4bb5-b074-9ffb8611090f"
      },
      "outputs": [
        {
          "output_type": "stream",
          "name": "stdout",
          "text": [
            "Воронка группы 248\n",
            "event_name\n",
            "MainScreenAppear           2220\n",
            "OffersScreenAppear         1315\n",
            "CartScreenAppear           1072\n",
            "PaymentScreenSuccessful    1019\n",
            "Tutorial                    197\n",
            "Name: device_id_hash, dtype: int64\n"
          ]
        }
      ],
      "source": [
        "logs248=logs1.query('exp_id==248').groupby('event_name')['device_id_hash'].nunique().sort_values(ascending = False)\n",
        "print('Воронка группы 248')\n",
        "print(logs248)"
      ]
    },
    {
      "cell_type": "code",
      "execution_count": 25,
      "metadata": {
        "colab": {
          "base_uri": "https://localhost:8080/"
        },
        "id": "vKgtAZH_VBMc",
        "outputId": "861909c0-8653-405e-a4ed-081f98319540"
      },
      "outputs": [
        {
          "output_type": "stream",
          "name": "stdout",
          "text": [
            "Cамое популярное событие - MainScreenAppear, открытие основного экрана.\n",
            "Число пользователей, совершивших это событие в каждой из контрольных групп - 2166 и 2205 .\n",
            "Доля пользователей, совершивших это событие - 96.1% и 97.8%\n"
          ]
        }
      ],
      "source": [
        "print(\"Cамое популярное событие - MainScreenAppear, открытие основного экрана.\\n\"\n",
        "      'Число пользователей, совершивших это событие в каждой из контрольных групп -',logs246[0],'и',logs247[0],'.\\n'\n",
        "      'Доля пользователей, совершивших это событие - {:.1f}%'.format(logs246[0]/countgr[247]*100),'и {:.1f}%'.format(logs247[0]/countgr[247]*100))"
      ]
    },
    {
      "cell_type": "code",
      "execution_count": 26,
      "metadata": {
        "id": "9TUMirohVBMc"
      },
      "outputs": [],
      "source": [
        "#функия для проверки гипотез\n",
        "def check_event_hypothesis(count_1, count_2, nobs_1, nobs_2, alpha = 0.05):\n",
        "    count = np.array([count_1, count_2]) \n",
        "    nobs = np.array([nobs_1, nobs_2]) \n",
        "    stat, pval = proportions_ztest(count, nobs) \n",
        "    return pval\n",
        "\n",
        "alpha = 0.05"
      ]
    },
    {
      "cell_type": "code",
      "execution_count": 27,
      "metadata": {
        "colab": {
          "base_uri": "https://localhost:8080/"
        },
        "id": "zACHjN0EVBMc",
        "outputId": "0183a167-bbd4-420a-dc00-530dafc22852"
      },
      "outputs": [
        {
          "output_type": "stream",
          "name": "stdout",
          "text": [
            "p-value: 0.852\n",
            "Не получилось отвергнуть нулевую гипотезу\n",
            "Статистически значимых различий между группами 246 и 247 на шаге Все пользователи => Главный экран нет\n",
            "\n",
            "p-value: 0.184\n",
            "Не получилось отвергнуть нулевую гипотезу\n",
            "Статистически значимых различий между группами 246 и 247 на шаге Главный экран => Экран предложений нет\n",
            "\n",
            "p-value: 0.333\n",
            "Не получилось отвергнуть нулевую гипотезу\n",
            "Статистически значимых различий между группами 246 и 247 на шаге Экран предложений => Экран покупки нет\n",
            "\n",
            "p-value: 0.103\n",
            "Не получилось отвергнуть нулевую гипотезу\n",
            "Статистически значимых различий между группами 246 и 247 на шаге Экран покупки => Экран успешной оплаты нет\n"
          ]
        }
      ],
      "source": [
        "print('p-value: {:.3f}'.format(check_event_hypothesis(logs246[0], logs247[0], countgr[246], countgr[247], alpha = 0.05)))\n",
        "\n",
        "if check_event_hypothesis(logs246[0], logs247[0], countgr[246], countgr[247], alpha = 0.05) < alpha:\n",
        "    print('Отвергаем нулевую гипотезу')\n",
        "else:\n",
        "    print(\n",
        "        'Не получилось отвергнуть нулевую гипотезу\\n'\n",
        "        'Статистически значимых различий между группами 246 и 247 на шаге Все пользователи => Главный экран нет'\n",
        "    ) \n",
        "print('') \n",
        "print('p-value: {:.3f}'.format(check_event_hypothesis(logs246[1], logs247[1], countgr[246], countgr[247], alpha = 0.05)))\n",
        "\n",
        "if check_event_hypothesis(logs246[1], logs247[1], countgr[246], countgr[247], alpha = 0.05) < alpha:\n",
        "    print('Отвергаем нулевую гипотезу')\n",
        "else:\n",
        "    print(\n",
        "        'Не получилось отвергнуть нулевую гипотезу\\n'\n",
        "        'Статистически значимых различий между группами 246 и 247 на шаге Главный экран => Экран предложений нет'\n",
        "    )\n",
        "print('')    \n",
        "print('p-value: {:.3f}'.format(check_event_hypothesis(logs246[2], logs247[2], countgr[246], countgr[247], alpha = 0.05)))\n",
        "\n",
        "if check_event_hypothesis(logs246[2], logs247[2], countgr[246], countgr[247], alpha = 0.05) < alpha:\n",
        "    print('Отвергаем нулевую гипотезу')\n",
        "else:\n",
        "    print(\n",
        "        'Не получилось отвергнуть нулевую гипотезу\\n'\n",
        "        'Статистически значимых различий между группами 246 и 247 на шаге Экран предложений => Экран покупки нет'\n",
        "    )\n",
        "print('')\n",
        "print('p-value: {:.3f}'.format(check_event_hypothesis(logs246[3], logs247[3], countgr[246], countgr[247], alpha = 0.05)))\n",
        "\n",
        "if check_event_hypothesis(logs246[3], logs247[3], countgr[246], countgr[247], alpha = 0.05) < alpha:\n",
        "    print('Отвергаем нулевую гипотезу')\n",
        "else:\n",
        "    print(\n",
        "        'Не получилось отвергнуть нулевую гипотезу\\n'\n",
        "        'Статистически значимых различий между группами 246 и 247 на шаге Экран покупки => Экран успешной оплаты нет'\n",
        "    )"
      ]
    },
    {
      "cell_type": "markdown",
      "metadata": {
        "id": "IqJWAVVLVBMd"
      },
      "source": [
        "###  Можно ли сказать, что разбиение на группы работает корректно?"
      ]
    },
    {
      "cell_type": "markdown",
      "metadata": {
        "id": "S8A_qBFFVBMd"
      },
      "source": [
        "Да, разбиение на группы работает корректно, нулевая гипотеза не отвергнута."
      ]
    },
    {
      "cell_type": "markdown",
      "metadata": {
        "id": "NJ2-sR_IVBMd"
      },
      "source": [
        "###  Сравнение результатов с каждой из контрольных групп в отдельности по каждому событию."
      ]
    },
    {
      "cell_type": "markdown",
      "metadata": {
        "id": "dtvDL1NEVBMe"
      },
      "source": [
        "#### Сравнение группы 246 и 248:"
      ]
    },
    {
      "cell_type": "markdown",
      "metadata": {
        "id": "U5nFT2dDVBMe"
      },
      "source": [
        "H0 - статистически значимых различий между группами 246 и 248 (и всеми событиями в воронке) нет;\n",
        "\n",
        "H - статистически значимые различия между группами 246 и 248 (и всеми событиями) есть\n"
      ]
    },
    {
      "cell_type": "code",
      "execution_count": 28,
      "metadata": {
        "colab": {
          "base_uri": "https://localhost:8080/"
        },
        "id": "iD9X93hbVBMe",
        "outputId": "7490a5f9-0723-4a9c-f0bb-14dbb97a75df"
      },
      "outputs": [
        {
          "output_type": "stream",
          "name": "stdout",
          "text": [
            "p-value: 0.531\n",
            "Не получилось отвергнуть нулевую гипотезу\n",
            "Статистически значимых различий между группами 246 и 248 на шаге Все пользователи => Главный экран нет\n",
            "\n",
            "p-value: 0.107\n",
            "Не получилось отвергнуть нулевую гипотезу\n",
            "Статистически значимых различий между группами 246 и 248 на шаге Главный экран => Экран предложений нет\n",
            "\n",
            "p-value: 0.274\n",
            "Не получилось отвергнуть нулевую гипотезу\n",
            "Статистически значимых различий между группами 246 и 248 на шаге Экран предложений => Экран покупки нет\n",
            "\n",
            "p-value: 0.214\n",
            "Не получилось отвергнуть нулевую гипотезу\n",
            "Статистически значимых различий между группами 246 и 248 на шаге Экран покупки => Экран успешной оплаты нет\n"
          ]
        }
      ],
      "source": [
        "print('p-value: {:.3f}'.format(check_event_hypothesis(logs246[0], logs248[0], countgr[246], countgr[248], alpha = 0.05)))\n",
        "\n",
        "if check_event_hypothesis(logs246[0], logs248[0], countgr[246], countgr[248], alpha = 0.05) < alpha:\n",
        "    print('Отвергаем нулевую гипотезу')\n",
        "else:\n",
        "    print(\n",
        "        'Не получилось отвергнуть нулевую гипотезу\\n'\n",
        "        'Статистически значимых различий между группами 246 и 248 на шаге Все пользователи => Главный экран нет'\n",
        "    )\n",
        "print('')    \n",
        "print('p-value: {:.3f}'.format(check_event_hypothesis(logs246[1], logs248[1], countgr[246], countgr[248], alpha = 0.05)))\n",
        "\n",
        "if check_event_hypothesis(logs246[1], logs248[1], countgr[246], countgr[248], alpha = 0.05) < alpha:\n",
        "    print('Отвергаем нулевую гипотезу')\n",
        "else:\n",
        "    print(\n",
        "        'Не получилось отвергнуть нулевую гипотезу\\n'\n",
        "        'Статистически значимых различий между группами 246 и 248 на шаге Главный экран => Экран предложений нет'\n",
        "    )\n",
        "print('')    \n",
        "print('p-value: {:.3f}'.format(check_event_hypothesis(logs246[2], logs248[2], countgr[246], countgr[248], alpha = 0.05)))\n",
        "\n",
        "if check_event_hypothesis(logs246[2], logs248[2], countgr[246], countgr[248], alpha = 0.05) < alpha:\n",
        "    print('Отвергаем нулевую гипотезу')\n",
        "else:\n",
        "    print(\n",
        "        'Не получилось отвергнуть нулевую гипотезу\\n'\n",
        "        'Статистически значимых различий между группами 246 и 248 на шаге Экран предложений => Экран покупки нет'\n",
        "    )\n",
        "print('')\n",
        "print('p-value: {:.3f}'.format(check_event_hypothesis(logs246[3], logs248[3], countgr[246], countgr[248], alpha = 0.05)))\n",
        "\n",
        "if check_event_hypothesis(logs246[3], logs248[3], countgr[246], countgr[248], alpha = 0.05) < alpha:\n",
        "    print('Отвергаем нулевую гипотезу')\n",
        "else:\n",
        "    print(\n",
        "        'Не получилось отвергнуть нулевую гипотезу\\n'\n",
        "        'Статистически значимых различий между группами 246 и 248 на шаге Экран покупки => Экран успешной оплаты нет'\n",
        "    )"
      ]
    },
    {
      "cell_type": "markdown",
      "metadata": {
        "id": "1Rjt7UVtVBMf"
      },
      "source": [
        "#### Сравнение группы 247 и 248"
      ]
    },
    {
      "cell_type": "markdown",
      "metadata": {
        "id": "EOBPvkEpVBMf"
      },
      "source": [
        "H0 - статистически значимых различий между группами 247 и 248 (и всеми событиями в воронке) нет;\n",
        "\n",
        "H - статистически значимые различия между группами 247 и 248 (и всеми событиями) есть\n"
      ]
    },
    {
      "cell_type": "code",
      "execution_count": 29,
      "metadata": {
        "colab": {
          "base_uri": "https://localhost:8080/"
        },
        "id": "IkRZGnqAVBMf",
        "outputId": "b28f599c-6fb3-421d-abf2-331d5aa1d1f7"
      },
      "outputs": [
        {
          "output_type": "stream",
          "name": "stdout",
          "text": [
            "p-value: 0.659\n",
            "Не получилось отвергнуть нулевую гипотезу\n",
            "Статистически значимых различий между группами 247 и 248 на шаге Все пользователи => Главный экран нет\n",
            "\n",
            "p-value: 0.777\n",
            "Не получилось отвергнуть нулевую гипотезу\n",
            "Статистически значимых различий между группами 247 и 248 на шаге Главный экран => Экран предложений нет\n",
            "\n",
            "p-value: 0.900\n",
            "Не получилось отвергнуть нулевую гипотезу\n",
            "Статистически значимых различий между группами 247 и 248 на шаге Экран предложений => Экран покупки нет\n",
            "\n",
            "p-value: 0.695\n",
            "Не получилось отвергнуть нулевую гипотезу\n",
            "Статистически значимых различий между группами 247 и 248 на шаге Экран покупки => Экран успешной оплаты нет\n"
          ]
        }
      ],
      "source": [
        "print('p-value: {:.3f}'.format(check_event_hypothesis(logs247[0], logs248[0], countgr[247], countgr[248], alpha = 0.05)))\n",
        "\n",
        "if check_event_hypothesis(logs247[0], logs248[0], countgr[247], countgr[248], alpha = 0.05) < alpha:\n",
        "    print('Отвергаем нулевую гипотезу')\n",
        "else:\n",
        "    print(\n",
        "        'Не получилось отвергнуть нулевую гипотезу\\n'\n",
        "        'Статистически значимых различий между группами 247 и 248 на шаге Все пользователи => Главный экран нет'\n",
        "    )\n",
        "print('')    \n",
        "print('p-value: {:.3f}'.format(check_event_hypothesis(logs247[1], logs248[1], countgr[247], countgr[248], alpha = 0.05)))\n",
        "\n",
        "if check_event_hypothesis(logs247[1], logs248[1], countgr[247], countgr[248], alpha = 0.05) < alpha:\n",
        "    print('Отвергаем нулевую гипотезу')\n",
        "else:\n",
        "    print(\n",
        "        'Не получилось отвергнуть нулевую гипотезу\\n'\n",
        "        'Статистически значимых различий между группами 247 и 248 на шаге Главный экран => Экран предложений нет'\n",
        "    )\n",
        "print('')   \n",
        "print('p-value: {:.3f}'.format(check_event_hypothesis(logs247[2], logs248[2], countgr[247], countgr[248], alpha = 0.05)))\n",
        "\n",
        "if check_event_hypothesis(logs247[2], logs248[2], countgr[247], countgr[248], alpha = 0.05) < alpha:\n",
        "    print('Отвергаем нулевую гипотезу')\n",
        "else:\n",
        "    print(\n",
        "        'Не получилось отвергнуть нулевую гипотезу\\n'\n",
        "        'Статистически значимых различий между группами 247 и 248 на шаге Экран предложений => Экран покупки нет'\n",
        "    )\n",
        "print('')    \n",
        "print('p-value: {:.3f}'.format(check_event_hypothesis(logs247[3], logs248[3], countgr[247], countgr[248], alpha = 0.05)))\n",
        "\n",
        "if check_event_hypothesis(logs247[3], logs248[3], countgr[247], countgr[248], alpha = 0.05) < alpha:\n",
        "    print('Отвергаем нулевую гипотезу')\n",
        "else:\n",
        "    print(\n",
        "        'Не получилось отвергнуть нулевую гипотезу\\n'\n",
        "        'Статистически значимых различий между группами 247 и 248 на шаге Экран покупки => Экран успешной оплаты нет'\n",
        "    )"
      ]
    },
    {
      "cell_type": "markdown",
      "metadata": {
        "id": "9CmnE7FiVBMf"
      },
      "source": [
        " ### Сравнение результатов с объединённой контрольной группой."
      ]
    },
    {
      "cell_type": "code",
      "execution_count": 30,
      "metadata": {
        "colab": {
          "base_uri": "https://localhost:8080/"
        },
        "id": "8N0vhMTnVBMg",
        "outputId": "ab3798f3-bada-4833-e8a6-89a63a4258bd"
      },
      "outputs": [
        {
          "output_type": "stream",
          "name": "stdout",
          "text": [
            "event_name\n",
            "MainScreenAppear           4371\n",
            "OffersScreenAppear         2657\n",
            "CartScreenAppear           2156\n",
            "PaymentScreenSuccessful    2039\n",
            "Tutorial                    403\n",
            "Name: device_id_hash, dtype: int64\n"
          ]
        }
      ],
      "source": [
        "#объединим группы\n",
        "logs_uni=logs246+logs247\n",
        "print(logs_uni)"
      ]
    },
    {
      "cell_type": "markdown",
      "metadata": {
        "id": "3c7KoYKCVBMg"
      },
      "source": [
        "#### Сравнение объединённой группы с 248"
      ]
    },
    {
      "cell_type": "code",
      "execution_count": 31,
      "metadata": {
        "colab": {
          "base_uri": "https://localhost:8080/"
        },
        "id": "5H7SI_MnVBMg",
        "outputId": "d20d5962-f831-4191-f303-bc9b816d2168"
      },
      "outputs": [
        {
          "output_type": "stream",
          "name": "stdout",
          "text": [
            "p-value: 0.541\n",
            "Не получилось отвергнуть нулевую гипотезу\n",
            "Статистически значимых различий между объединённой группой и 248 на шаге Все пользователи => Главный экран нет\n",
            "\n",
            "p-value: 0.276\n",
            "Не получилось отвергнуть нулевую гипотезу\n",
            "Статистически значимых различий между объединённой группой и 248 на шаге Главный экран => Экран предложений нет\n",
            "\n",
            "p-value: 0.483\n",
            "Не получилось отвергнуть нулевую гипотезу\n",
            "Статистически значимых различий между объединённой группой и 248 на шаге Экран предложений => Экран покупки нет\n",
            "\n",
            "p-value: 0.626\n",
            "Не получилось отвергнуть нулевую гипотезу\n",
            "Статистически значимых различий между объединённой группой и 248 на шаге Экран покупки => Экран успешной оплаты нет\n"
          ]
        }
      ],
      "source": [
        "print('p-value: {:.3f}'.format(check_event_hypothesis(logs_uni[0], logs248[0], countgr[246]+countgr[247], countgr[248], alpha = 0.05)))\n",
        "\n",
        "if check_event_hypothesis(logs_uni[0], logs248[0], countgr[246]+countgr[247], countgr[248], alpha = 0.05) < alpha:\n",
        "    print('Отвергаем нулевую гипотезу')\n",
        "else:\n",
        "    print(\n",
        "        'Не получилось отвергнуть нулевую гипотезу\\n'\n",
        "        'Статистически значимых различий между объединённой группой и 248 на шаге Все пользователи => Главный экран нет'\n",
        "    )\n",
        "print('')    \n",
        "print('p-value: {:.3f}'.format(check_event_hypothesis(logs_uni[1], logs248[1], countgr[246]+countgr[247], countgr[248], alpha = 0.05)))\n",
        "\n",
        "if check_event_hypothesis(logs_uni[1], logs248[1], countgr[246]+countgr[247], countgr[248], alpha = 0.05) < alpha:\n",
        "    print('Отвергаем нулевую гипотезу')\n",
        "else:\n",
        "    print(\n",
        "        'Не получилось отвергнуть нулевую гипотезу\\n'\n",
        "        'Статистически значимых различий между объединённой группой и 248 на шаге Главный экран => Экран предложений нет'\n",
        "    )\n",
        "print('')   \n",
        "print('p-value: {:.3f}'.format(check_event_hypothesis(logs_uni[2], logs248[2], countgr[246]+countgr[247], countgr[248], alpha = 0.05)))\n",
        "\n",
        "if check_event_hypothesis(logs_uni[2], logs248[2], countgr[246]+countgr[247], countgr[248], alpha = 0.05) < alpha:\n",
        "    print('Отвергаем нулевую гипотезу, статистически значимые различия между объединённой группой и 248 на шаге Экран предложений => Экран покупки есть')\n",
        "else:\n",
        "    print(\n",
        "        'Не получилось отвергнуть нулевую гипотезу\\n'\n",
        "        'Статистически значимых различий между объединённой группой и 248 на шаге Экран предложений => Экран покупки нет'\n",
        "    )\n",
        "print('')    \n",
        "print('p-value: {:.3f}'.format(check_event_hypothesis(logs_uni[3], logs248[3], countgr[246]+countgr[247], countgr[248], alpha = 0.05)))\n",
        "\n",
        "if check_event_hypothesis(logs_uni[3], logs248[3], countgr[246]+countgr[247], countgr[248], alpha = 0.05) < alpha:\n",
        "    print('Отвергаем нулевую гипотезу')\n",
        "else:\n",
        "    print(\n",
        "        'Не получилось отвергнуть нулевую гипотезу\\n'\n",
        "        'Статистически значимых различий между объединённой группой и 248 на шаге Экран покупки => Экран успешной оплаты нет'\n",
        "    )"
      ]
    },
    {
      "cell_type": "markdown",
      "metadata": {
        "id": "WBBDrnuTVBMh"
      },
      "source": [
        "### Какие выводы из эксперимента можно сделать?"
      ]
    },
    {
      "cell_type": "markdown",
      "metadata": {
        "id": "yLV0xXT2VBMh"
      },
      "source": [
        "После предобработки данных и анализа временного отрезка длиной в неделю были сделаны следующие наблюдения и выводы:\n",
        "\n",
        "- Воронка событий выглядит так: Установка приложения => MainScreenAppear => OffersScreenAppear => CartScreenAppear => PaymentScreenSuccessful\n",
        "- Событие Tutorial не относится к воронке, является необязательным и не было использовано в тестах\n",
        "- На шаге с открытием экрана предложений (OffersScreenAppear) потеряно больше всего пользователей (37% или 2826 пользователей)\n",
        "- Доля пользователей, дошедших от первого события до оплаты: 47.7%\n",
        "- При сравнении групп 246 и 247 были составлены данные гипотезы:\n",
        "    - H0 - статистически значимых различий между группами 246 и 247 (и всеми событиями в воронке) нет;\n",
        "    \n",
        "    - H - статистически значимые различия между группами 246 и 247 (и всеми событиями) есть\n",
        "    \n",
        "    Во всех тестах p-value было больше заданного значения альфа (0.05), нулевая гипотеза не отвергнута, что говорит о том, что разбиение на группы работает корректно, нулевая гипотеза не отвергнута.\n",
        "- Далее такие же гипотезы были составлены при последующих тестах, сравнивающих события группы 246 и 248, 247 и 248, объединённых 246+247 и 248. Во всех 16 тестах нулевая гипотеза не отвергнута. Такие результаты тестов говорят о том, что статистической разницы между группами нет и изменение шрифта никак не повлияло на пользовательский опыт.\n",
        "\n",
        "Принимая во внимание наличие множественных проверок статистических гипотез, можно скорректировать уровень альфа. Поравка Бонферрони в данном проекте не подойдёт, так как тестов 16 и при использовании данной поправки уровень альфа уменьшится до 0.05/16=0.003"
      ]
    },
    {
      "cell_type": "markdown",
      "metadata": {
        "id": "7mYAS7ZfVBMi"
      },
      "source": [
        "### Какой уровень значимости был выбран при проверке статистических гипотез выше?"
      ]
    },
    {
      "cell_type": "markdown",
      "metadata": {
        "id": "pitLxhN2VBMi"
      },
      "source": [
        "Уровень значимости был выбран 0.05, количество проверок гипотез - 16."
      ]
    }
  ],
  "metadata": {
    "ExecuteTimeLog": [
      {
        "duration": 3,
        "start_time": "2022-12-14T13:37:55.914Z"
      },
      {
        "duration": 2,
        "start_time": "2022-12-14T13:37:57.069Z"
      },
      {
        "duration": 2,
        "start_time": "2022-12-14T13:37:58.877Z"
      },
      {
        "duration": 43,
        "start_time": "2022-12-14T13:38:06.226Z"
      },
      {
        "duration": 1175,
        "start_time": "2022-12-14T13:38:41.244Z"
      },
      {
        "duration": 399,
        "start_time": "2022-12-14T13:39:30.960Z"
      },
      {
        "duration": 28,
        "start_time": "2022-12-14T13:40:24.839Z"
      },
      {
        "duration": 24,
        "start_time": "2022-12-14T13:40:37.660Z"
      },
      {
        "duration": 63,
        "start_time": "2022-12-14T13:43:25.589Z"
      },
      {
        "duration": 320,
        "start_time": "2022-12-14T13:43:49.668Z"
      },
      {
        "duration": 28,
        "start_time": "2022-12-14T13:43:50.713Z"
      },
      {
        "duration": 21,
        "start_time": "2022-12-14T13:43:59.795Z"
      },
      {
        "duration": 267,
        "start_time": "2022-12-14T13:44:41.512Z"
      },
      {
        "duration": 23,
        "start_time": "2022-12-14T13:44:43.979Z"
      },
      {
        "duration": 50,
        "start_time": "2022-12-14T13:44:49.606Z"
      },
      {
        "duration": 154,
        "start_time": "2022-12-14T13:44:58.471Z"
      },
      {
        "duration": 27,
        "start_time": "2022-12-14T13:45:00.236Z"
      },
      {
        "duration": 25,
        "start_time": "2022-12-14T13:45:13.240Z"
      },
      {
        "duration": 30,
        "start_time": "2022-12-14T13:46:38.636Z"
      },
      {
        "duration": 58,
        "start_time": "2022-12-14T13:48:16.926Z"
      },
      {
        "duration": 19,
        "start_time": "2022-12-14T13:48:23.668Z"
      },
      {
        "duration": 6,
        "start_time": "2022-12-14T13:48:36.858Z"
      },
      {
        "duration": 36,
        "start_time": "2022-12-14T13:48:50.482Z"
      },
      {
        "duration": 20,
        "start_time": "2022-12-14T13:48:54.347Z"
      },
      {
        "duration": 767,
        "start_time": "2022-12-14T13:49:29.451Z"
      },
      {
        "duration": 897,
        "start_time": "2022-12-14T13:49:46.409Z"
      },
      {
        "duration": 1149,
        "start_time": "2022-12-14T13:49:56.093Z"
      },
      {
        "duration": 162,
        "start_time": "2022-12-14T13:49:57.244Z"
      },
      {
        "duration": 33,
        "start_time": "2022-12-14T13:49:57.408Z"
      },
      {
        "duration": 19,
        "start_time": "2022-12-14T13:49:57.443Z"
      },
      {
        "duration": 9,
        "start_time": "2022-12-14T13:49:57.463Z"
      },
      {
        "duration": 28,
        "start_time": "2022-12-14T13:50:50.354Z"
      },
      {
        "duration": 1021,
        "start_time": "2022-12-14T13:51:03.723Z"
      },
      {
        "duration": 1159,
        "start_time": "2022-12-14T13:51:17.603Z"
      },
      {
        "duration": 180,
        "start_time": "2022-12-14T13:51:18.763Z"
      },
      {
        "duration": 55,
        "start_time": "2022-12-14T13:51:18.944Z"
      },
      {
        "duration": 23,
        "start_time": "2022-12-14T13:51:44.391Z"
      },
      {
        "duration": 30,
        "start_time": "2022-12-14T13:52:24.841Z"
      },
      {
        "duration": 44,
        "start_time": "2022-12-14T13:54:12.714Z"
      },
      {
        "duration": 28,
        "start_time": "2022-12-14T13:54:18.065Z"
      },
      {
        "duration": 17,
        "start_time": "2022-12-14T13:54:24.016Z"
      },
      {
        "duration": 17,
        "start_time": "2022-12-14T13:54:29.667Z"
      },
      {
        "duration": 39,
        "start_time": "2022-12-14T13:54:59.277Z"
      },
      {
        "duration": 41,
        "start_time": "2022-12-14T13:55:44.828Z"
      },
      {
        "duration": 93,
        "start_time": "2022-12-14T13:56:19.944Z"
      },
      {
        "duration": 9,
        "start_time": "2022-12-14T13:57:00.220Z"
      },
      {
        "duration": 17,
        "start_time": "2022-12-14T15:14:34.618Z"
      },
      {
        "duration": 12,
        "start_time": "2022-12-14T15:14:46.660Z"
      },
      {
        "duration": 14,
        "start_time": "2022-12-14T15:16:00.029Z"
      },
      {
        "duration": 12,
        "start_time": "2022-12-14T15:16:07.042Z"
      },
      {
        "duration": 13,
        "start_time": "2022-12-14T15:17:12.063Z"
      },
      {
        "duration": 13,
        "start_time": "2022-12-14T15:17:16.531Z"
      },
      {
        "duration": 16,
        "start_time": "2022-12-14T15:17:27.795Z"
      },
      {
        "duration": 8,
        "start_time": "2022-12-14T15:18:18.241Z"
      },
      {
        "duration": 15,
        "start_time": "2022-12-14T15:18:37.799Z"
      },
      {
        "duration": 79,
        "start_time": "2022-12-14T15:20:35.624Z"
      },
      {
        "duration": 55,
        "start_time": "2022-12-14T15:20:43.686Z"
      },
      {
        "duration": 25,
        "start_time": "2022-12-14T15:20:48.951Z"
      },
      {
        "duration": 68,
        "start_time": "2022-12-14T15:20:53.640Z"
      },
      {
        "duration": 783,
        "start_time": "2022-12-14T15:21:00.746Z"
      },
      {
        "duration": 82,
        "start_time": "2022-12-14T15:22:18.503Z"
      },
      {
        "duration": 1260,
        "start_time": "2022-12-14T15:22:25.363Z"
      },
      {
        "duration": 180,
        "start_time": "2022-12-14T15:22:26.630Z"
      },
      {
        "duration": 45,
        "start_time": "2022-12-14T15:22:26.818Z"
      },
      {
        "duration": 922,
        "start_time": "2022-12-14T15:22:26.865Z"
      },
      {
        "duration": 0,
        "start_time": "2022-12-14T15:22:27.789Z"
      },
      {
        "duration": 0,
        "start_time": "2022-12-14T15:22:27.790Z"
      },
      {
        "duration": 832,
        "start_time": "2022-12-14T15:22:37.146Z"
      },
      {
        "duration": 83,
        "start_time": "2022-12-14T15:22:45.680Z"
      },
      {
        "duration": 73,
        "start_time": "2022-12-14T15:22:50.724Z"
      },
      {
        "duration": 47,
        "start_time": "2022-12-14T15:22:52.074Z"
      },
      {
        "duration": 1030,
        "start_time": "2022-12-14T15:23:12.342Z"
      },
      {
        "duration": 177,
        "start_time": "2022-12-14T15:23:13.374Z"
      },
      {
        "duration": 119,
        "start_time": "2022-12-14T15:23:13.552Z"
      },
      {
        "duration": 57,
        "start_time": "2022-12-14T15:23:13.673Z"
      },
      {
        "duration": 67,
        "start_time": "2022-12-14T15:23:13.732Z"
      },
      {
        "duration": 49,
        "start_time": "2022-12-14T15:26:41.608Z"
      },
      {
        "duration": 59,
        "start_time": "2022-12-14T15:29:56.252Z"
      },
      {
        "duration": 112,
        "start_time": "2022-12-14T15:34:08.200Z"
      },
      {
        "duration": 7,
        "start_time": "2022-12-14T15:34:15.634Z"
      },
      {
        "duration": 39,
        "start_time": "2022-12-14T15:34:22.591Z"
      },
      {
        "duration": 930,
        "start_time": "2022-12-14T15:34:36.341Z"
      },
      {
        "duration": 4,
        "start_time": "2022-12-14T15:34:39.756Z"
      },
      {
        "duration": 5,
        "start_time": "2022-12-14T15:35:03.018Z"
      },
      {
        "duration": 15,
        "start_time": "2022-12-14T15:35:22.895Z"
      },
      {
        "duration": 13,
        "start_time": "2022-12-14T15:35:37.798Z"
      },
      {
        "duration": 11,
        "start_time": "2022-12-14T15:35:47.621Z"
      },
      {
        "duration": 6,
        "start_time": "2022-12-14T15:36:26.094Z"
      },
      {
        "duration": 10,
        "start_time": "2022-12-14T15:36:32.617Z"
      },
      {
        "duration": 5,
        "start_time": "2022-12-14T15:36:37.141Z"
      },
      {
        "duration": 11,
        "start_time": "2022-12-14T15:36:46.135Z"
      },
      {
        "duration": 6,
        "start_time": "2022-12-14T15:37:25.042Z"
      },
      {
        "duration": 8,
        "start_time": "2022-12-14T15:37:32.207Z"
      },
      {
        "duration": 6,
        "start_time": "2022-12-14T15:37:44.685Z"
      },
      {
        "duration": 28,
        "start_time": "2022-12-14T15:43:29.610Z"
      },
      {
        "duration": 4,
        "start_time": "2022-12-14T15:43:38.356Z"
      },
      {
        "duration": 3,
        "start_time": "2022-12-14T15:43:45.987Z"
      },
      {
        "duration": 37,
        "start_time": "2022-12-14T15:44:28.915Z"
      },
      {
        "duration": 34,
        "start_time": "2022-12-14T15:44:41.903Z"
      },
      {
        "duration": 248,
        "start_time": "2022-12-14T15:47:31.995Z"
      },
      {
        "duration": 86,
        "start_time": "2022-12-14T15:47:51.710Z"
      },
      {
        "duration": 602,
        "start_time": "2022-12-14T15:47:55.761Z"
      },
      {
        "duration": 565,
        "start_time": "2022-12-14T16:41:21.110Z"
      },
      {
        "duration": 54,
        "start_time": "2022-12-14T16:43:18.893Z"
      },
      {
        "duration": 283,
        "start_time": "2022-12-14T16:43:21.473Z"
      },
      {
        "duration": 155,
        "start_time": "2022-12-14T16:44:07.435Z"
      },
      {
        "duration": 391,
        "start_time": "2022-12-14T16:44:19.948Z"
      },
      {
        "duration": 146,
        "start_time": "2022-12-14T16:44:24.432Z"
      },
      {
        "duration": 63,
        "start_time": "2022-12-14T16:55:16.201Z"
      },
      {
        "duration": 13,
        "start_time": "2022-12-14T16:55:21.240Z"
      },
      {
        "duration": 33,
        "start_time": "2022-12-14T16:55:24.277Z"
      },
      {
        "duration": 17,
        "start_time": "2022-12-14T16:55:31.058Z"
      },
      {
        "duration": 201,
        "start_time": "2022-12-14T16:55:39.941Z"
      },
      {
        "duration": 14,
        "start_time": "2022-12-14T16:56:07.470Z"
      },
      {
        "duration": 53,
        "start_time": "2022-12-15T10:02:34.940Z"
      },
      {
        "duration": 1271,
        "start_time": "2022-12-15T10:03:29.520Z"
      },
      {
        "duration": 857,
        "start_time": "2022-12-15T10:03:30.793Z"
      },
      {
        "duration": 111,
        "start_time": "2022-12-15T10:03:31.652Z"
      },
      {
        "duration": 37,
        "start_time": "2022-12-15T10:03:31.765Z"
      },
      {
        "duration": 86,
        "start_time": "2022-12-15T10:03:31.804Z"
      },
      {
        "duration": 4,
        "start_time": "2022-12-15T10:03:31.891Z"
      },
      {
        "duration": 7,
        "start_time": "2022-12-15T10:03:31.897Z"
      },
      {
        "duration": 36,
        "start_time": "2022-12-15T10:03:31.922Z"
      },
      {
        "duration": 621,
        "start_time": "2022-12-15T10:03:31.959Z"
      },
      {
        "duration": 285,
        "start_time": "2022-12-15T10:03:32.582Z"
      },
      {
        "duration": 18,
        "start_time": "2022-12-15T10:03:32.868Z"
      },
      {
        "duration": 22,
        "start_time": "2022-12-15T10:03:43.287Z"
      },
      {
        "duration": 18,
        "start_time": "2022-12-15T10:03:46.881Z"
      },
      {
        "duration": 1100,
        "start_time": "2022-12-15T10:03:57.973Z"
      },
      {
        "duration": 157,
        "start_time": "2022-12-15T10:03:59.075Z"
      },
      {
        "duration": 119,
        "start_time": "2022-12-15T10:03:59.234Z"
      },
      {
        "duration": 36,
        "start_time": "2022-12-15T10:03:59.355Z"
      },
      {
        "duration": 85,
        "start_time": "2022-12-15T10:03:59.392Z"
      },
      {
        "duration": 4,
        "start_time": "2022-12-15T10:03:59.478Z"
      },
      {
        "duration": 14,
        "start_time": "2022-12-15T10:03:59.483Z"
      },
      {
        "duration": 51,
        "start_time": "2022-12-15T10:03:59.498Z"
      },
      {
        "duration": 647,
        "start_time": "2022-12-15T10:03:59.551Z"
      },
      {
        "duration": 275,
        "start_time": "2022-12-15T10:04:00.201Z"
      },
      {
        "duration": 13,
        "start_time": "2022-12-15T10:04:00.477Z"
      },
      {
        "duration": 29,
        "start_time": "2022-12-15T10:04:42.354Z"
      },
      {
        "duration": 24,
        "start_time": "2022-12-15T10:05:22.453Z"
      },
      {
        "duration": 24,
        "start_time": "2022-12-15T10:05:32.325Z"
      },
      {
        "duration": 9,
        "start_time": "2022-12-15T10:05:38.727Z"
      },
      {
        "duration": 1212,
        "start_time": "2022-12-15T10:05:43.438Z"
      },
      {
        "duration": 154,
        "start_time": "2022-12-15T10:05:44.652Z"
      },
      {
        "duration": 115,
        "start_time": "2022-12-15T10:05:44.808Z"
      },
      {
        "duration": 43,
        "start_time": "2022-12-15T10:05:44.926Z"
      },
      {
        "duration": 94,
        "start_time": "2022-12-15T10:05:44.971Z"
      },
      {
        "duration": 4,
        "start_time": "2022-12-15T10:05:45.067Z"
      },
      {
        "duration": 9,
        "start_time": "2022-12-15T10:05:45.073Z"
      },
      {
        "duration": 64,
        "start_time": "2022-12-15T10:05:45.083Z"
      },
      {
        "duration": 626,
        "start_time": "2022-12-15T10:05:45.149Z"
      },
      {
        "duration": 306,
        "start_time": "2022-12-15T10:05:45.777Z"
      },
      {
        "duration": 8,
        "start_time": "2022-12-15T10:05:46.084Z"
      },
      {
        "duration": 20,
        "start_time": "2022-12-15T10:06:19.230Z"
      },
      {
        "duration": 26,
        "start_time": "2022-12-15T10:06:21.835Z"
      },
      {
        "duration": 4,
        "start_time": "2022-12-15T10:06:50.080Z"
      },
      {
        "duration": 95,
        "start_time": "2022-12-15T10:08:18.234Z"
      },
      {
        "duration": 16,
        "start_time": "2022-12-15T10:08:21.749Z"
      },
      {
        "duration": 37,
        "start_time": "2022-12-15T10:08:23.335Z"
      },
      {
        "duration": 9,
        "start_time": "2022-12-15T10:08:44.603Z"
      },
      {
        "duration": 42,
        "start_time": "2022-12-15T10:10:29.263Z"
      },
      {
        "duration": 29,
        "start_time": "2022-12-15T10:10:59.243Z"
      },
      {
        "duration": 27,
        "start_time": "2022-12-15T10:11:10.786Z"
      },
      {
        "duration": 1169,
        "start_time": "2022-12-15T12:29:46.823Z"
      },
      {
        "duration": 1167,
        "start_time": "2022-12-15T12:29:51.615Z"
      },
      {
        "duration": 155,
        "start_time": "2022-12-15T12:29:52.784Z"
      },
      {
        "duration": 112,
        "start_time": "2022-12-15T12:29:52.941Z"
      },
      {
        "duration": 35,
        "start_time": "2022-12-15T12:29:53.056Z"
      },
      {
        "duration": 91,
        "start_time": "2022-12-15T12:29:53.093Z"
      },
      {
        "duration": 4,
        "start_time": "2022-12-15T12:29:53.185Z"
      },
      {
        "duration": 19,
        "start_time": "2022-12-15T12:29:53.190Z"
      },
      {
        "duration": 48,
        "start_time": "2022-12-15T12:29:53.211Z"
      },
      {
        "duration": 617,
        "start_time": "2022-12-15T12:29:53.261Z"
      },
      {
        "duration": 296,
        "start_time": "2022-12-15T12:29:53.880Z"
      },
      {
        "duration": 19,
        "start_time": "2022-12-15T12:29:54.178Z"
      },
      {
        "duration": 5,
        "start_time": "2022-12-15T12:29:54.200Z"
      },
      {
        "duration": 24,
        "start_time": "2022-12-15T12:29:54.206Z"
      },
      {
        "duration": 144,
        "start_time": "2022-12-15T12:29:54.232Z"
      },
      {
        "duration": 23,
        "start_time": "2022-12-15T12:30:09.217Z"
      },
      {
        "duration": 10,
        "start_time": "2022-12-15T12:30:18.974Z"
      },
      {
        "duration": 12,
        "start_time": "2022-12-15T12:30:21.568Z"
      },
      {
        "duration": 26,
        "start_time": "2022-12-15T12:31:40.554Z"
      },
      {
        "duration": 22,
        "start_time": "2022-12-15T12:31:52.496Z"
      },
      {
        "duration": 6,
        "start_time": "2022-12-15T12:39:39.367Z"
      },
      {
        "duration": 39,
        "start_time": "2022-12-15T12:39:49.667Z"
      },
      {
        "duration": 5,
        "start_time": "2022-12-15T12:47:53.035Z"
      },
      {
        "duration": 87,
        "start_time": "2022-12-15T12:48:01.623Z"
      },
      {
        "duration": 13,
        "start_time": "2022-12-15T12:48:04.801Z"
      },
      {
        "duration": 14,
        "start_time": "2022-12-15T12:48:21.817Z"
      },
      {
        "duration": 12,
        "start_time": "2022-12-15T12:48:25.964Z"
      },
      {
        "duration": 25,
        "start_time": "2022-12-15T12:48:35.106Z"
      },
      {
        "duration": 11,
        "start_time": "2022-12-15T12:48:40.369Z"
      },
      {
        "duration": 38,
        "start_time": "2022-12-15T12:49:06.200Z"
      },
      {
        "duration": 54,
        "start_time": "2022-12-15T12:49:19.413Z"
      },
      {
        "duration": 44,
        "start_time": "2022-12-15T12:49:28.696Z"
      },
      {
        "duration": 43,
        "start_time": "2022-12-15T12:49:45.454Z"
      },
      {
        "duration": 24,
        "start_time": "2022-12-15T12:49:53.789Z"
      },
      {
        "duration": 24,
        "start_time": "2022-12-15T12:50:00.119Z"
      },
      {
        "duration": 96,
        "start_time": "2022-12-15T12:55:48.919Z"
      },
      {
        "duration": 71,
        "start_time": "2022-12-15T12:59:10.076Z"
      },
      {
        "duration": 4,
        "start_time": "2022-12-15T12:59:12.482Z"
      },
      {
        "duration": 4,
        "start_time": "2022-12-15T12:59:22.808Z"
      },
      {
        "duration": 10,
        "start_time": "2022-12-15T12:59:27.352Z"
      },
      {
        "duration": 32,
        "start_time": "2022-12-15T12:59:31.583Z"
      },
      {
        "duration": 4,
        "start_time": "2022-12-15T13:00:31.131Z"
      },
      {
        "duration": 5,
        "start_time": "2022-12-15T13:00:35.475Z"
      },
      {
        "duration": 12,
        "start_time": "2022-12-15T13:01:47.953Z"
      },
      {
        "duration": 18,
        "start_time": "2022-12-15T13:01:56.955Z"
      },
      {
        "duration": 18,
        "start_time": "2022-12-15T13:02:03.405Z"
      },
      {
        "duration": 22,
        "start_time": "2022-12-15T13:02:22.364Z"
      },
      {
        "duration": 23,
        "start_time": "2022-12-15T13:02:50.229Z"
      },
      {
        "duration": 22,
        "start_time": "2022-12-15T13:02:56.256Z"
      },
      {
        "duration": 90,
        "start_time": "2022-12-15T13:03:14.203Z"
      },
      {
        "duration": 46,
        "start_time": "2022-12-15T13:03:20.067Z"
      },
      {
        "duration": 28,
        "start_time": "2022-12-15T13:03:42.841Z"
      },
      {
        "duration": 31,
        "start_time": "2022-12-15T13:13:54.500Z"
      },
      {
        "duration": 71,
        "start_time": "2022-12-15T13:14:05.248Z"
      },
      {
        "duration": 63,
        "start_time": "2022-12-15T13:14:42.942Z"
      },
      {
        "duration": 61,
        "start_time": "2022-12-15T13:14:47.359Z"
      },
      {
        "duration": 58,
        "start_time": "2022-12-15T13:14:57.437Z"
      },
      {
        "duration": 6,
        "start_time": "2022-12-15T13:16:26.416Z"
      },
      {
        "duration": 6,
        "start_time": "2022-12-15T13:16:33.804Z"
      },
      {
        "duration": 69,
        "start_time": "2022-12-15T13:16:43.223Z"
      },
      {
        "duration": 66,
        "start_time": "2022-12-15T13:16:45.904Z"
      },
      {
        "duration": 63,
        "start_time": "2022-12-15T13:16:50.863Z"
      },
      {
        "duration": 68,
        "start_time": "2022-12-15T13:16:53.840Z"
      },
      {
        "duration": 60,
        "start_time": "2022-12-15T13:17:03.631Z"
      },
      {
        "duration": 57,
        "start_time": "2022-12-15T13:18:18.931Z"
      },
      {
        "duration": 58,
        "start_time": "2022-12-15T13:18:42.321Z"
      },
      {
        "duration": 72,
        "start_time": "2022-12-15T13:18:47.672Z"
      },
      {
        "duration": 55,
        "start_time": "2022-12-15T13:18:50.881Z"
      },
      {
        "duration": 59,
        "start_time": "2022-12-15T13:19:15.348Z"
      },
      {
        "duration": 59,
        "start_time": "2022-12-15T13:20:25.574Z"
      },
      {
        "duration": 72,
        "start_time": "2022-12-15T13:20:27.893Z"
      },
      {
        "duration": 57,
        "start_time": "2022-12-15T13:20:35.232Z"
      },
      {
        "duration": 57,
        "start_time": "2022-12-15T13:20:38.890Z"
      },
      {
        "duration": 59,
        "start_time": "2022-12-15T13:20:48.018Z"
      },
      {
        "duration": 63,
        "start_time": "2022-12-15T13:20:51.786Z"
      },
      {
        "duration": 3,
        "start_time": "2022-12-15T13:23:06.160Z"
      },
      {
        "duration": 4,
        "start_time": "2022-12-15T13:23:19.304Z"
      },
      {
        "duration": 3,
        "start_time": "2022-12-15T13:23:22.568Z"
      },
      {
        "duration": 8,
        "start_time": "2022-12-15T13:23:54.748Z"
      },
      {
        "duration": 69,
        "start_time": "2022-12-15T13:24:45.240Z"
      },
      {
        "duration": 11,
        "start_time": "2022-12-15T13:24:51.543Z"
      },
      {
        "duration": 10,
        "start_time": "2022-12-15T13:24:56.783Z"
      },
      {
        "duration": 19,
        "start_time": "2022-12-15T13:25:03.774Z"
      },
      {
        "duration": 10,
        "start_time": "2022-12-15T13:25:12.568Z"
      },
      {
        "duration": 17,
        "start_time": "2022-12-15T13:25:30.927Z"
      },
      {
        "duration": 22,
        "start_time": "2022-12-15T13:25:41.165Z"
      },
      {
        "duration": 10,
        "start_time": "2022-12-15T13:25:43.995Z"
      },
      {
        "duration": 24,
        "start_time": "2022-12-15T13:25:50.099Z"
      },
      {
        "duration": 60,
        "start_time": "2022-12-15T13:25:55.291Z"
      },
      {
        "duration": 20,
        "start_time": "2022-12-15T13:26:18.138Z"
      },
      {
        "duration": 129,
        "start_time": "2022-12-15T13:27:50.709Z"
      },
      {
        "duration": 118,
        "start_time": "2022-12-15T13:27:59.165Z"
      },
      {
        "duration": 9,
        "start_time": "2022-12-15T13:41:21.062Z"
      },
      {
        "duration": 9,
        "start_time": "2022-12-15T13:41:26.410Z"
      },
      {
        "duration": 8,
        "start_time": "2022-12-15T13:41:30.077Z"
      },
      {
        "duration": 4,
        "start_time": "2022-12-15T13:41:32.717Z"
      },
      {
        "duration": 4,
        "start_time": "2022-12-15T13:41:37.204Z"
      },
      {
        "duration": 5,
        "start_time": "2022-12-15T13:58:14.296Z"
      },
      {
        "duration": 92,
        "start_time": "2022-12-15T13:59:11.122Z"
      },
      {
        "duration": 3,
        "start_time": "2022-12-15T13:59:52.839Z"
      },
      {
        "duration": 3,
        "start_time": "2022-12-15T14:00:04.857Z"
      },
      {
        "duration": 12,
        "start_time": "2022-12-15T14:01:24.059Z"
      },
      {
        "duration": 9,
        "start_time": "2022-12-15T14:02:25.294Z"
      },
      {
        "duration": 31,
        "start_time": "2022-12-15T14:05:49.979Z"
      },
      {
        "duration": 32,
        "start_time": "2022-12-15T14:06:08.499Z"
      },
      {
        "duration": 74,
        "start_time": "2022-12-15T14:24:40.169Z"
      },
      {
        "duration": 72,
        "start_time": "2022-12-15T14:24:45.514Z"
      },
      {
        "duration": 69,
        "start_time": "2022-12-15T14:24:48.112Z"
      },
      {
        "duration": 13,
        "start_time": "2022-12-15T14:25:06.503Z"
      },
      {
        "duration": 16,
        "start_time": "2022-12-15T14:25:21.128Z"
      },
      {
        "duration": 10,
        "start_time": "2022-12-15T14:52:18.838Z"
      },
      {
        "duration": 12,
        "start_time": "2022-12-15T15:00:18.117Z"
      },
      {
        "duration": 61,
        "start_time": "2022-12-15T15:00:26.964Z"
      },
      {
        "duration": 9,
        "start_time": "2022-12-15T15:00:53.864Z"
      },
      {
        "duration": 10,
        "start_time": "2022-12-15T15:01:00.599Z"
      },
      {
        "duration": 59,
        "start_time": "2022-12-15T15:01:09.404Z"
      },
      {
        "duration": 5,
        "start_time": "2022-12-15T15:01:47.569Z"
      },
      {
        "duration": 132,
        "start_time": "2022-12-15T15:01:57.348Z"
      },
      {
        "duration": 12,
        "start_time": "2022-12-15T15:02:15.783Z"
      },
      {
        "duration": 33,
        "start_time": "2022-12-15T15:02:24.644Z"
      },
      {
        "duration": 62,
        "start_time": "2022-12-15T15:04:00.298Z"
      },
      {
        "duration": 71,
        "start_time": "2022-12-15T15:04:36.158Z"
      },
      {
        "duration": 84,
        "start_time": "2022-12-15T15:04:47.814Z"
      },
      {
        "duration": 28,
        "start_time": "2022-12-15T15:06:12.155Z"
      },
      {
        "duration": 30,
        "start_time": "2022-12-15T15:06:17.632Z"
      },
      {
        "duration": 20,
        "start_time": "2022-12-15T15:06:21.218Z"
      },
      {
        "duration": 31,
        "start_time": "2022-12-15T15:06:23.818Z"
      },
      {
        "duration": 28,
        "start_time": "2022-12-15T15:07:00.089Z"
      },
      {
        "duration": 46,
        "start_time": "2022-12-15T15:07:17.399Z"
      },
      {
        "duration": 45,
        "start_time": "2022-12-15T15:07:19.927Z"
      },
      {
        "duration": 25,
        "start_time": "2022-12-15T15:07:46.062Z"
      },
      {
        "duration": 27,
        "start_time": "2022-12-15T15:07:47.896Z"
      },
      {
        "duration": 26,
        "start_time": "2022-12-15T15:11:36.118Z"
      },
      {
        "duration": 10,
        "start_time": "2022-12-15T15:28:34.753Z"
      },
      {
        "duration": 72,
        "start_time": "2022-12-15T15:28:37.888Z"
      },
      {
        "duration": 73,
        "start_time": "2022-12-15T15:28:42.617Z"
      },
      {
        "duration": 3,
        "start_time": "2022-12-15T15:28:48.397Z"
      },
      {
        "duration": 5,
        "start_time": "2022-12-15T15:28:50.218Z"
      },
      {
        "duration": 28,
        "start_time": "2022-12-15T15:30:30.880Z"
      },
      {
        "duration": 26,
        "start_time": "2022-12-15T15:30:41.152Z"
      },
      {
        "duration": 36,
        "start_time": "2022-12-15T15:30:44.692Z"
      },
      {
        "duration": 39,
        "start_time": "2022-12-15T15:30:45.544Z"
      },
      {
        "duration": 4,
        "start_time": "2022-12-15T15:37:33.553Z"
      },
      {
        "duration": 10,
        "start_time": "2022-12-15T15:38:28.234Z"
      },
      {
        "duration": 4,
        "start_time": "2022-12-15T15:39:09.155Z"
      },
      {
        "duration": 4,
        "start_time": "2022-12-15T15:39:10.447Z"
      },
      {
        "duration": 5,
        "start_time": "2022-12-15T15:39:19.010Z"
      },
      {
        "duration": 4,
        "start_time": "2022-12-15T15:50:00.980Z"
      },
      {
        "duration": 5,
        "start_time": "2022-12-15T15:50:07.996Z"
      },
      {
        "duration": 1397,
        "start_time": "2022-12-16T12:02:03.862Z"
      },
      {
        "duration": 866,
        "start_time": "2022-12-16T12:02:05.262Z"
      },
      {
        "duration": 120,
        "start_time": "2022-12-16T12:02:06.130Z"
      },
      {
        "duration": 41,
        "start_time": "2022-12-16T12:02:06.253Z"
      },
      {
        "duration": 103,
        "start_time": "2022-12-16T12:02:06.297Z"
      },
      {
        "duration": 5,
        "start_time": "2022-12-16T12:02:06.403Z"
      },
      {
        "duration": 7,
        "start_time": "2022-12-16T12:02:06.411Z"
      },
      {
        "duration": 35,
        "start_time": "2022-12-16T12:02:06.420Z"
      },
      {
        "duration": 668,
        "start_time": "2022-12-16T12:02:06.456Z"
      },
      {
        "duration": 284,
        "start_time": "2022-12-16T12:02:07.128Z"
      },
      {
        "duration": 19,
        "start_time": "2022-12-16T12:02:07.415Z"
      },
      {
        "duration": 17,
        "start_time": "2022-12-16T12:02:07.436Z"
      },
      {
        "duration": 52,
        "start_time": "2022-12-16T12:02:07.455Z"
      },
      {
        "duration": 23,
        "start_time": "2022-12-16T12:02:07.509Z"
      },
      {
        "duration": 141,
        "start_time": "2022-12-16T12:02:07.551Z"
      },
      {
        "duration": 5,
        "start_time": "2022-12-16T12:02:07.694Z"
      },
      {
        "duration": 5,
        "start_time": "2022-12-16T12:02:07.701Z"
      },
      {
        "duration": 58,
        "start_time": "2022-12-16T12:02:07.708Z"
      },
      {
        "duration": 27,
        "start_time": "2022-12-16T12:02:07.768Z"
      },
      {
        "duration": 54,
        "start_time": "2022-12-16T12:02:07.798Z"
      },
      {
        "duration": 39,
        "start_time": "2022-12-16T12:02:07.854Z"
      },
      {
        "duration": 8,
        "start_time": "2022-12-16T12:02:07.895Z"
      },
      {
        "duration": 44,
        "start_time": "2022-12-16T12:02:07.905Z"
      },
      {
        "duration": 5,
        "start_time": "2022-12-16T12:03:23.403Z"
      },
      {
        "duration": 11,
        "start_time": "2022-12-16T12:10:12.222Z"
      },
      {
        "duration": 12,
        "start_time": "2022-12-16T12:20:28.470Z"
      },
      {
        "duration": 11,
        "start_time": "2022-12-16T12:43:12.994Z"
      },
      {
        "duration": 12,
        "start_time": "2022-12-16T12:47:04.043Z"
      },
      {
        "duration": 14,
        "start_time": "2022-12-16T12:47:10.895Z"
      },
      {
        "duration": 10,
        "start_time": "2022-12-16T12:47:33.283Z"
      },
      {
        "duration": 68,
        "start_time": "2022-12-16T12:47:38.912Z"
      },
      {
        "duration": 10,
        "start_time": "2022-12-16T12:47:53.616Z"
      },
      {
        "duration": 12,
        "start_time": "2022-12-16T12:48:27.616Z"
      },
      {
        "duration": 79,
        "start_time": "2022-12-16T12:48:39.630Z"
      },
      {
        "duration": 73,
        "start_time": "2022-12-16T12:48:45.035Z"
      },
      {
        "duration": 10,
        "start_time": "2022-12-16T12:48:51.856Z"
      },
      {
        "duration": 11,
        "start_time": "2022-12-16T12:49:27.485Z"
      },
      {
        "duration": 16,
        "start_time": "2022-12-16T12:50:42.924Z"
      },
      {
        "duration": 4,
        "start_time": "2022-12-16T13:01:44.968Z"
      },
      {
        "duration": 4,
        "start_time": "2022-12-16T13:01:57.662Z"
      },
      {
        "duration": 129,
        "start_time": "2022-12-16T13:02:39.651Z"
      },
      {
        "duration": 4,
        "start_time": "2022-12-16T13:02:51.473Z"
      },
      {
        "duration": 4,
        "start_time": "2022-12-16T13:02:58.967Z"
      },
      {
        "duration": 16,
        "start_time": "2022-12-16T13:03:48.271Z"
      },
      {
        "duration": 11,
        "start_time": "2022-12-16T13:23:16.926Z"
      },
      {
        "duration": 11,
        "start_time": "2022-12-16T13:25:59.068Z"
      },
      {
        "duration": 15,
        "start_time": "2022-12-16T13:52:15.679Z"
      },
      {
        "duration": 12,
        "start_time": "2022-12-16T13:53:55.181Z"
      },
      {
        "duration": 11,
        "start_time": "2022-12-16T13:54:14.715Z"
      },
      {
        "duration": 12,
        "start_time": "2022-12-16T13:54:30.727Z"
      },
      {
        "duration": 5,
        "start_time": "2022-12-16T14:23:36.900Z"
      },
      {
        "duration": 140,
        "start_time": "2022-12-16T14:29:31.278Z"
      },
      {
        "duration": 145,
        "start_time": "2022-12-16T14:36:16.888Z"
      },
      {
        "duration": 4,
        "start_time": "2022-12-16T14:38:07.183Z"
      },
      {
        "duration": 5,
        "start_time": "2022-12-16T14:38:20.104Z"
      },
      {
        "duration": 5,
        "start_time": "2022-12-16T14:38:32.024Z"
      },
      {
        "duration": 4,
        "start_time": "2022-12-16T14:41:31.112Z"
      },
      {
        "duration": 3,
        "start_time": "2022-12-16T14:41:41.702Z"
      },
      {
        "duration": 4,
        "start_time": "2022-12-16T14:41:48.593Z"
      },
      {
        "duration": 30,
        "start_time": "2022-12-16T14:49:30.197Z"
      },
      {
        "duration": 13,
        "start_time": "2022-12-16T14:49:59.626Z"
      },
      {
        "duration": 13,
        "start_time": "2022-12-16T14:50:01.879Z"
      },
      {
        "duration": 12,
        "start_time": "2022-12-16T14:50:03.933Z"
      },
      {
        "duration": 5,
        "start_time": "2022-12-16T14:50:18.118Z"
      },
      {
        "duration": 5,
        "start_time": "2022-12-16T14:51:00.039Z"
      },
      {
        "duration": 5,
        "start_time": "2022-12-16T14:51:03.061Z"
      },
      {
        "duration": 29,
        "start_time": "2022-12-16T14:54:07.135Z"
      },
      {
        "duration": 26,
        "start_time": "2022-12-16T14:54:08.504Z"
      },
      {
        "duration": 3,
        "start_time": "2022-12-16T14:54:38.141Z"
      },
      {
        "duration": 73,
        "start_time": "2022-12-16T14:57:15.219Z"
      },
      {
        "duration": 141,
        "start_time": "2022-12-16T14:57:23.308Z"
      },
      {
        "duration": 70,
        "start_time": "2022-12-16T14:58:31.306Z"
      },
      {
        "duration": 68,
        "start_time": "2022-12-16T14:58:36.544Z"
      },
      {
        "duration": 69,
        "start_time": "2022-12-16T14:58:42.974Z"
      },
      {
        "duration": 4,
        "start_time": "2022-12-16T14:58:47.368Z"
      },
      {
        "duration": 4,
        "start_time": "2022-12-16T14:59:09.749Z"
      },
      {
        "duration": 4,
        "start_time": "2022-12-16T14:59:15.565Z"
      },
      {
        "duration": 10,
        "start_time": "2022-12-16T14:59:21.657Z"
      },
      {
        "duration": 5,
        "start_time": "2022-12-16T14:59:25.652Z"
      },
      {
        "duration": 89,
        "start_time": "2022-12-16T15:02:36.169Z"
      },
      {
        "duration": 6,
        "start_time": "2022-12-16T15:02:40.149Z"
      },
      {
        "duration": 4,
        "start_time": "2022-12-16T15:02:48.209Z"
      },
      {
        "duration": 5,
        "start_time": "2022-12-16T15:03:00.744Z"
      },
      {
        "duration": 4,
        "start_time": "2022-12-16T15:03:07.570Z"
      },
      {
        "duration": 4,
        "start_time": "2022-12-16T15:03:11.999Z"
      },
      {
        "duration": 5,
        "start_time": "2022-12-16T15:03:56.259Z"
      },
      {
        "duration": 3,
        "start_time": "2022-12-16T15:05:40.311Z"
      },
      {
        "duration": 3,
        "start_time": "2022-12-16T15:06:05.784Z"
      },
      {
        "duration": 82,
        "start_time": "2022-12-16T15:06:13.371Z"
      },
      {
        "duration": 6,
        "start_time": "2022-12-16T15:06:15.890Z"
      },
      {
        "duration": 10,
        "start_time": "2022-12-16T15:27:13.133Z"
      },
      {
        "duration": 4,
        "start_time": "2022-12-16T15:27:37.294Z"
      },
      {
        "duration": 4,
        "start_time": "2022-12-16T15:29:01.300Z"
      },
      {
        "duration": 4,
        "start_time": "2022-12-16T15:29:04.620Z"
      },
      {
        "duration": 3,
        "start_time": "2022-12-16T15:29:30.617Z"
      },
      {
        "duration": 34,
        "start_time": "2022-12-16T15:30:08.516Z"
      },
      {
        "duration": 1172,
        "start_time": "2022-12-16T15:30:12.374Z"
      },
      {
        "duration": 39,
        "start_time": "2022-12-16T15:30:19.757Z"
      },
      {
        "duration": 31,
        "start_time": "2022-12-16T15:30:54.037Z"
      },
      {
        "duration": 1178,
        "start_time": "2022-12-16T15:30:58.303Z"
      },
      {
        "duration": 27,
        "start_time": "2022-12-16T15:31:06.416Z"
      },
      {
        "duration": 26,
        "start_time": "2022-12-16T15:31:09.288Z"
      },
      {
        "duration": 31,
        "start_time": "2022-12-16T15:31:25.304Z"
      },
      {
        "duration": 1086,
        "start_time": "2022-12-16T15:32:07.956Z"
      },
      {
        "duration": 12,
        "start_time": "2022-12-16T15:32:15.782Z"
      },
      {
        "duration": 22,
        "start_time": "2022-12-16T15:33:14.067Z"
      },
      {
        "duration": 16,
        "start_time": "2022-12-16T15:33:40.716Z"
      },
      {
        "duration": 14,
        "start_time": "2022-12-16T15:48:33.836Z"
      },
      {
        "duration": 12,
        "start_time": "2022-12-16T15:48:45.576Z"
      },
      {
        "duration": 12,
        "start_time": "2022-12-16T15:49:37.489Z"
      },
      {
        "duration": 13,
        "start_time": "2022-12-16T15:51:21.699Z"
      },
      {
        "duration": 13,
        "start_time": "2022-12-16T15:52:44.839Z"
      },
      {
        "duration": 15,
        "start_time": "2022-12-16T15:53:15.563Z"
      },
      {
        "duration": 1302,
        "start_time": "2022-12-20T15:45:37.012Z"
      },
      {
        "duration": 639,
        "start_time": "2022-12-20T15:45:38.316Z"
      },
      {
        "duration": 110,
        "start_time": "2022-12-20T15:45:38.957Z"
      },
      {
        "duration": 41,
        "start_time": "2022-12-20T15:45:39.070Z"
      },
      {
        "duration": 89,
        "start_time": "2022-12-20T15:45:39.113Z"
      },
      {
        "duration": 4,
        "start_time": "2022-12-20T15:45:39.204Z"
      },
      {
        "duration": 25,
        "start_time": "2022-12-20T15:45:39.210Z"
      },
      {
        "duration": 21,
        "start_time": "2022-12-20T15:45:39.237Z"
      },
      {
        "duration": 667,
        "start_time": "2022-12-20T15:45:39.259Z"
      },
      {
        "duration": 280,
        "start_time": "2022-12-20T15:45:39.934Z"
      },
      {
        "duration": 25,
        "start_time": "2022-12-20T15:45:40.217Z"
      },
      {
        "duration": 4,
        "start_time": "2022-12-20T15:45:40.244Z"
      },
      {
        "duration": 53,
        "start_time": "2022-12-20T15:45:40.250Z"
      },
      {
        "duration": 30,
        "start_time": "2022-12-20T15:45:40.305Z"
      },
      {
        "duration": 136,
        "start_time": "2022-12-20T15:45:40.337Z"
      },
      {
        "duration": 6,
        "start_time": "2022-12-20T15:45:40.474Z"
      },
      {
        "duration": 26,
        "start_time": "2022-12-20T15:45:40.482Z"
      },
      {
        "duration": 44,
        "start_time": "2022-12-20T15:45:40.510Z"
      },
      {
        "duration": 43,
        "start_time": "2022-12-20T15:45:40.557Z"
      },
      {
        "duration": 28,
        "start_time": "2022-12-20T15:45:40.602Z"
      },
      {
        "duration": 27,
        "start_time": "2022-12-20T15:45:40.635Z"
      },
      {
        "duration": 5,
        "start_time": "2022-12-20T15:45:40.664Z"
      },
      {
        "duration": 11,
        "start_time": "2022-12-20T15:45:40.671Z"
      },
      {
        "duration": 15,
        "start_time": "2022-12-20T15:45:40.684Z"
      },
      {
        "duration": 53,
        "start_time": "2022-12-20T15:45:40.701Z"
      },
      {
        "duration": 20,
        "start_time": "2022-12-20T15:45:40.756Z"
      },
      {
        "duration": 35,
        "start_time": "2022-12-20T15:47:07.210Z"
      },
      {
        "duration": 29,
        "start_time": "2022-12-20T15:48:06.562Z"
      },
      {
        "duration": 133,
        "start_time": "2022-12-20T15:48:08.215Z"
      },
      {
        "duration": 15,
        "start_time": "2022-12-20T15:48:20.719Z"
      },
      {
        "duration": 13,
        "start_time": "2022-12-20T15:49:57.304Z"
      },
      {
        "duration": 11,
        "start_time": "2022-12-20T15:50:09.112Z"
      },
      {
        "duration": 4,
        "start_time": "2022-12-20T15:50:23.223Z"
      },
      {
        "duration": 12,
        "start_time": "2022-12-20T15:50:27.829Z"
      },
      {
        "duration": 11,
        "start_time": "2022-12-20T15:50:28.782Z"
      },
      {
        "duration": 14,
        "start_time": "2022-12-20T15:52:18.014Z"
      },
      {
        "duration": 13,
        "start_time": "2022-12-20T15:54:30.649Z"
      },
      {
        "duration": 15,
        "start_time": "2022-12-20T15:54:39.311Z"
      },
      {
        "duration": 3,
        "start_time": "2022-12-20T15:55:41.577Z"
      },
      {
        "duration": 5,
        "start_time": "2022-12-20T15:55:50.265Z"
      },
      {
        "duration": 5,
        "start_time": "2022-12-20T15:56:35.147Z"
      },
      {
        "duration": 4,
        "start_time": "2022-12-20T16:01:43.758Z"
      },
      {
        "duration": 12,
        "start_time": "2022-12-20T16:07:07.503Z"
      },
      {
        "duration": 12,
        "start_time": "2022-12-20T16:08:38.968Z"
      },
      {
        "duration": 4,
        "start_time": "2022-12-20T16:22:39.258Z"
      },
      {
        "duration": 4,
        "start_time": "2022-12-20T16:34:22.024Z"
      },
      {
        "duration": 4,
        "start_time": "2022-12-20T16:34:27.814Z"
      },
      {
        "duration": 4,
        "start_time": "2022-12-20T16:34:33.016Z"
      },
      {
        "duration": 3,
        "start_time": "2022-12-20T16:34:52.900Z"
      },
      {
        "duration": 84,
        "start_time": "2022-12-20T16:40:24.437Z"
      },
      {
        "duration": 4,
        "start_time": "2022-12-20T16:42:29.423Z"
      },
      {
        "duration": 165,
        "start_time": "2022-12-20T16:43:12.964Z"
      },
      {
        "duration": 8,
        "start_time": "2022-12-20T16:45:23.453Z"
      },
      {
        "duration": 1213,
        "start_time": "2022-12-20T18:08:14.863Z"
      },
      {
        "duration": 164,
        "start_time": "2022-12-20T18:08:16.078Z"
      },
      {
        "duration": 104,
        "start_time": "2022-12-20T18:08:16.243Z"
      },
      {
        "duration": 39,
        "start_time": "2022-12-20T18:08:16.349Z"
      },
      {
        "duration": 71,
        "start_time": "2022-12-20T18:08:16.390Z"
      },
      {
        "duration": 18,
        "start_time": "2022-12-20T18:08:16.463Z"
      },
      {
        "duration": 6,
        "start_time": "2022-12-20T18:08:16.483Z"
      },
      {
        "duration": 10,
        "start_time": "2022-12-20T18:08:16.491Z"
      },
      {
        "duration": 623,
        "start_time": "2022-12-20T18:08:16.503Z"
      },
      {
        "duration": 262,
        "start_time": "2022-12-20T18:08:17.128Z"
      },
      {
        "duration": 21,
        "start_time": "2022-12-20T18:08:17.391Z"
      },
      {
        "duration": 8,
        "start_time": "2022-12-20T18:08:17.414Z"
      },
      {
        "duration": 56,
        "start_time": "2022-12-20T18:08:17.424Z"
      },
      {
        "duration": 24,
        "start_time": "2022-12-20T18:08:17.483Z"
      },
      {
        "duration": 147,
        "start_time": "2022-12-20T18:08:17.509Z"
      },
      {
        "duration": 228,
        "start_time": "2022-12-20T18:08:17.657Z"
      },
      {
        "duration": 5,
        "start_time": "2022-12-20T18:08:17.887Z"
      },
      {
        "duration": 10,
        "start_time": "2022-12-20T18:08:17.893Z"
      },
      {
        "duration": 89,
        "start_time": "2022-12-20T18:08:17.904Z"
      },
      {
        "duration": 27,
        "start_time": "2022-12-20T18:08:17.995Z"
      },
      {
        "duration": 57,
        "start_time": "2022-12-20T18:08:18.024Z"
      },
      {
        "duration": 25,
        "start_time": "2022-12-20T18:08:18.082Z"
      },
      {
        "duration": 4,
        "start_time": "2022-12-20T18:08:18.108Z"
      },
      {
        "duration": 10,
        "start_time": "2022-12-20T18:08:18.113Z"
      },
      {
        "duration": 13,
        "start_time": "2022-12-20T18:08:18.125Z"
      },
      {
        "duration": 41,
        "start_time": "2022-12-20T18:08:18.140Z"
      },
      {
        "duration": 11,
        "start_time": "2022-12-20T18:08:18.183Z"
      },
      {
        "duration": 6,
        "start_time": "2022-12-20T18:08:18.195Z"
      },
      {
        "duration": 12,
        "start_time": "2022-12-20T18:08:18.203Z"
      },
      {
        "duration": 52,
        "start_time": "2022-12-20T18:25:56.270Z"
      },
      {
        "duration": 43,
        "start_time": "2022-12-20T18:26:11.927Z"
      },
      {
        "duration": 56,
        "start_time": "2022-12-20T18:26:19.160Z"
      },
      {
        "duration": 1308,
        "start_time": "2022-12-20T18:26:24.638Z"
      },
      {
        "duration": 496,
        "start_time": "2022-12-20T18:26:25.948Z"
      },
      {
        "duration": 102,
        "start_time": "2022-12-20T18:26:26.447Z"
      },
      {
        "duration": 49,
        "start_time": "2022-12-20T18:26:26.552Z"
      },
      {
        "duration": 85,
        "start_time": "2022-12-20T18:26:26.603Z"
      },
      {
        "duration": 4,
        "start_time": "2022-12-20T18:26:26.689Z"
      },
      {
        "duration": 11,
        "start_time": "2022-12-20T18:26:26.695Z"
      },
      {
        "duration": 10,
        "start_time": "2022-12-20T18:26:26.708Z"
      },
      {
        "duration": 684,
        "start_time": "2022-12-20T18:26:26.719Z"
      },
      {
        "duration": 262,
        "start_time": "2022-12-20T18:26:27.406Z"
      },
      {
        "duration": 26,
        "start_time": "2022-12-20T18:26:27.669Z"
      },
      {
        "duration": 5,
        "start_time": "2022-12-20T18:26:27.696Z"
      },
      {
        "duration": 43,
        "start_time": "2022-12-20T18:26:27.703Z"
      },
      {
        "duration": 41,
        "start_time": "2022-12-20T18:26:27.748Z"
      },
      {
        "duration": 133,
        "start_time": "2022-12-20T18:26:27.791Z"
      },
      {
        "duration": 155,
        "start_time": "2022-12-20T18:26:27.926Z"
      },
      {
        "duration": 4,
        "start_time": "2022-12-20T18:26:28.083Z"
      },
      {
        "duration": 8,
        "start_time": "2022-12-20T18:26:28.088Z"
      },
      {
        "duration": 93,
        "start_time": "2022-12-20T18:26:28.097Z"
      },
      {
        "duration": 29,
        "start_time": "2022-12-20T18:26:28.192Z"
      },
      {
        "duration": 84,
        "start_time": "2022-12-20T18:26:28.223Z"
      },
      {
        "duration": 34,
        "start_time": "2022-12-20T18:26:28.310Z"
      },
      {
        "duration": 5,
        "start_time": "2022-12-20T18:26:28.347Z"
      },
      {
        "duration": 37,
        "start_time": "2022-12-20T18:26:28.354Z"
      },
      {
        "duration": 28,
        "start_time": "2022-12-20T18:26:28.393Z"
      },
      {
        "duration": 44,
        "start_time": "2022-12-20T18:26:28.423Z"
      },
      {
        "duration": 51,
        "start_time": "2022-12-20T18:26:28.470Z"
      },
      {
        "duration": 25,
        "start_time": "2022-12-20T18:26:28.525Z"
      },
      {
        "duration": 30,
        "start_time": "2022-12-20T18:26:28.552Z"
      },
      {
        "duration": 130,
        "start_time": "2022-12-20T18:27:08.437Z"
      },
      {
        "duration": 6,
        "start_time": "2022-12-20T18:27:13.214Z"
      },
      {
        "duration": 7,
        "start_time": "2022-12-20T18:27:40.362Z"
      },
      {
        "duration": 7,
        "start_time": "2022-12-20T18:27:43.202Z"
      },
      {
        "duration": 5,
        "start_time": "2022-12-20T18:27:57.157Z"
      },
      {
        "duration": 10,
        "start_time": "2022-12-20T18:28:06.005Z"
      },
      {
        "duration": 9,
        "start_time": "2022-12-20T18:28:43.286Z"
      },
      {
        "duration": 8,
        "start_time": "2022-12-20T18:29:01.845Z"
      },
      {
        "duration": 292,
        "start_time": "2022-12-20T18:29:35.784Z"
      },
      {
        "duration": 8,
        "start_time": "2022-12-20T18:29:52.680Z"
      },
      {
        "duration": 6,
        "start_time": "2022-12-20T18:30:31.181Z"
      },
      {
        "duration": 9,
        "start_time": "2022-12-20T18:30:59.807Z"
      },
      {
        "duration": 4,
        "start_time": "2022-12-20T18:46:27.486Z"
      },
      {
        "duration": 32,
        "start_time": "2022-12-20T18:46:30.068Z"
      },
      {
        "duration": 9,
        "start_time": "2022-12-20T18:46:36.314Z"
      },
      {
        "duration": 716,
        "start_time": "2022-12-20T18:46:39.524Z"
      },
      {
        "duration": 31,
        "start_time": "2022-12-20T18:46:46.265Z"
      },
      {
        "duration": 4,
        "start_time": "2022-12-20T18:46:50.004Z"
      },
      {
        "duration": 6,
        "start_time": "2022-12-20T18:47:28.258Z"
      },
      {
        "duration": 6,
        "start_time": "2022-12-20T18:48:23.129Z"
      },
      {
        "duration": 13,
        "start_time": "2022-12-20T18:49:48.388Z"
      },
      {
        "duration": 16,
        "start_time": "2022-12-20T18:50:07.963Z"
      },
      {
        "duration": 4,
        "start_time": "2022-12-20T18:50:21.443Z"
      },
      {
        "duration": 5,
        "start_time": "2022-12-20T18:50:48.672Z"
      },
      {
        "duration": 4,
        "start_time": "2022-12-20T18:51:05.314Z"
      },
      {
        "duration": 5,
        "start_time": "2022-12-20T18:51:29.320Z"
      },
      {
        "duration": 4,
        "start_time": "2022-12-20T18:51:59.768Z"
      },
      {
        "duration": 13,
        "start_time": "2022-12-20T18:52:46.838Z"
      },
      {
        "duration": 1345,
        "start_time": "2022-12-20T20:32:31.402Z"
      },
      {
        "duration": 899,
        "start_time": "2022-12-20T20:32:32.749Z"
      },
      {
        "duration": 155,
        "start_time": "2022-12-20T20:32:33.650Z"
      },
      {
        "duration": 42,
        "start_time": "2022-12-20T20:32:33.807Z"
      },
      {
        "duration": 84,
        "start_time": "2022-12-20T20:32:33.850Z"
      },
      {
        "duration": 4,
        "start_time": "2022-12-20T20:32:33.935Z"
      },
      {
        "duration": 6,
        "start_time": "2022-12-20T20:32:33.941Z"
      },
      {
        "duration": 24,
        "start_time": "2022-12-20T20:32:33.949Z"
      },
      {
        "duration": 742,
        "start_time": "2022-12-20T20:32:33.977Z"
      },
      {
        "duration": 331,
        "start_time": "2022-12-20T20:32:34.722Z"
      },
      {
        "duration": 27,
        "start_time": "2022-12-20T20:32:35.055Z"
      },
      {
        "duration": 30,
        "start_time": "2022-12-20T20:32:35.084Z"
      },
      {
        "duration": 33,
        "start_time": "2022-12-20T20:32:35.115Z"
      },
      {
        "duration": 43,
        "start_time": "2022-12-20T20:32:35.149Z"
      },
      {
        "duration": 132,
        "start_time": "2022-12-20T20:32:35.196Z"
      },
      {
        "duration": 179,
        "start_time": "2022-12-20T20:32:35.330Z"
      },
      {
        "duration": 4,
        "start_time": "2022-12-20T20:32:35.511Z"
      },
      {
        "duration": 12,
        "start_time": "2022-12-20T20:32:35.517Z"
      },
      {
        "duration": 75,
        "start_time": "2022-12-20T20:32:35.531Z"
      },
      {
        "duration": 86,
        "start_time": "2022-12-20T20:32:35.608Z"
      },
      {
        "duration": 26,
        "start_time": "2022-12-20T20:32:35.695Z"
      },
      {
        "duration": 36,
        "start_time": "2022-12-20T20:32:35.759Z"
      },
      {
        "duration": 14,
        "start_time": "2022-12-20T20:32:35.798Z"
      },
      {
        "duration": 20,
        "start_time": "2022-12-20T20:32:35.814Z"
      },
      {
        "duration": 33,
        "start_time": "2022-12-20T20:32:35.836Z"
      },
      {
        "duration": 37,
        "start_time": "2022-12-20T20:32:35.876Z"
      },
      {
        "duration": 13,
        "start_time": "2022-12-20T20:32:35.914Z"
      },
      {
        "duration": 3,
        "start_time": "2022-12-20T20:32:35.930Z"
      },
      {
        "duration": 15,
        "start_time": "2022-12-20T20:32:35.935Z"
      },
      {
        "duration": 9,
        "start_time": "2022-12-20T20:34:00.485Z"
      },
      {
        "duration": 10,
        "start_time": "2022-12-20T20:34:05.293Z"
      },
      {
        "duration": 4,
        "start_time": "2022-12-20T20:34:15.739Z"
      },
      {
        "duration": 4,
        "start_time": "2022-12-20T20:34:39.432Z"
      },
      {
        "duration": 6,
        "start_time": "2022-12-20T20:35:12.190Z"
      },
      {
        "duration": 5,
        "start_time": "2022-12-20T20:35:43.648Z"
      },
      {
        "duration": 12,
        "start_time": "2022-12-20T20:36:20.099Z"
      },
      {
        "duration": 5,
        "start_time": "2022-12-20T20:36:55.785Z"
      },
      {
        "duration": 15,
        "start_time": "2022-12-20T20:37:31.707Z"
      },
      {
        "duration": 1050,
        "start_time": "2022-12-21T08:08:36.940Z"
      },
      {
        "duration": 676,
        "start_time": "2022-12-21T08:08:37.992Z"
      },
      {
        "duration": 93,
        "start_time": "2022-12-21T08:08:38.669Z"
      },
      {
        "duration": 35,
        "start_time": "2022-12-21T08:08:38.764Z"
      },
      {
        "duration": 84,
        "start_time": "2022-12-21T08:08:38.801Z"
      },
      {
        "duration": 5,
        "start_time": "2022-12-21T08:08:38.887Z"
      },
      {
        "duration": 28,
        "start_time": "2022-12-21T08:08:38.894Z"
      },
      {
        "duration": 14,
        "start_time": "2022-12-21T08:08:38.924Z"
      },
      {
        "duration": 611,
        "start_time": "2022-12-21T08:08:38.940Z"
      },
      {
        "duration": 246,
        "start_time": "2022-12-21T08:08:39.554Z"
      },
      {
        "duration": 24,
        "start_time": "2022-12-21T08:08:39.801Z"
      },
      {
        "duration": 17,
        "start_time": "2022-12-21T08:08:39.826Z"
      },
      {
        "duration": 42,
        "start_time": "2022-12-21T08:08:39.845Z"
      },
      {
        "duration": 19,
        "start_time": "2022-12-21T08:08:39.889Z"
      },
      {
        "duration": 120,
        "start_time": "2022-12-21T08:08:39.921Z"
      },
      {
        "duration": 217,
        "start_time": "2022-12-21T08:08:40.043Z"
      },
      {
        "duration": 4,
        "start_time": "2022-12-21T08:08:40.262Z"
      },
      {
        "duration": 9,
        "start_time": "2022-12-21T08:08:40.267Z"
      },
      {
        "duration": 69,
        "start_time": "2022-12-21T08:08:40.277Z"
      },
      {
        "duration": 78,
        "start_time": "2022-12-21T08:08:40.348Z"
      },
      {
        "duration": 25,
        "start_time": "2022-12-21T08:08:40.428Z"
      },
      {
        "duration": 25,
        "start_time": "2022-12-21T08:08:40.454Z"
      },
      {
        "duration": 4,
        "start_time": "2022-12-21T08:08:40.481Z"
      },
      {
        "duration": 8,
        "start_time": "2022-12-21T08:08:40.486Z"
      },
      {
        "duration": 36,
        "start_time": "2022-12-21T08:08:40.495Z"
      },
      {
        "duration": 14,
        "start_time": "2022-12-21T08:08:40.532Z"
      },
      {
        "duration": 14,
        "start_time": "2022-12-21T08:08:40.548Z"
      },
      {
        "duration": 10,
        "start_time": "2022-12-21T08:08:40.564Z"
      },
      {
        "duration": 16,
        "start_time": "2022-12-21T08:08:40.575Z"
      },
      {
        "duration": 72,
        "start_time": "2022-12-21T08:13:10.551Z"
      }
    ],
    "kernelspec": {
      "display_name": "Python 3 (ipykernel)",
      "language": "python",
      "name": "python3"
    },
    "language_info": {
      "codemirror_mode": {
        "name": "ipython",
        "version": 3
      },
      "file_extension": ".py",
      "mimetype": "text/x-python",
      "name": "python",
      "nbconvert_exporter": "python",
      "pygments_lexer": "ipython3",
      "version": "3.9.5"
    },
    "toc": {
      "base_numbering": 1,
      "nav_menu": {},
      "number_sections": true,
      "sideBar": true,
      "skip_h1_title": true,
      "title_cell": "Table of Contents",
      "title_sidebar": "Contents",
      "toc_cell": false,
      "toc_position": {},
      "toc_section_display": true,
      "toc_window_display": false
    },
    "colab": {
      "provenance": [],
      "include_colab_link": true
    }
  },
  "nbformat": 4,
  "nbformat_minor": 0
}