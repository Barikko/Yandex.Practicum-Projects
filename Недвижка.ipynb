{
  "cells": [
    {
      "cell_type": "markdown",
      "metadata": {
        "id": "view-in-github",
        "colab_type": "text"
      },
      "source": [
        "<a href=\"https://colab.research.google.com/github/Barikko/Yandex.Practicum-Projects/blob/main/%D0%9D%D0%B5%D0%B4%D0%B2%D0%B8%D0%B6%D0%BA%D0%B0.ipynb\" target=\"_parent\"><img src=\"https://colab.research.google.com/assets/colab-badge.svg\" alt=\"Open In Colab\"/></a>"
      ]
    },
    {
      "cell_type": "markdown",
      "metadata": {
        "id": "z2XQtHauEyY7"
      },
      "source": [
        "# Исследование объявлений о продаже квартир\n",
        "\n",
        "В вашем распоряжении данные сервиса Яндекс.Недвижимость — архив объявлений о продаже квартир в Санкт-Петербурге и соседних населённых пунктов за несколько лет. Нужно научиться определять рыночную стоимость объектов недвижимости. Ваша задача — установить параметры. Это позволит построить автоматизированную систему: она отследит аномалии и мошенническую деятельность. \n",
        "\n",
        "По каждой квартире на продажу доступны два вида данных. Первые вписаны пользователем, вторые — получены автоматически на основе картографических данных. Например, расстояние до центра, аэропорта, ближайшего парка и водоёма. "
      ]
    },
    {
      "cell_type": "markdown",
      "metadata": {
        "id": "Sf_d2FHsEyZA"
      },
      "source": [
        "# Общая информация. "
      ]
    },
    {
      "cell_type": "code",
      "execution_count": 362,
      "metadata": {
        "id": "ZGIBAb05EyZB"
      },
      "outputs": [],
      "source": [
        "import pandas as pd\n",
        "import numpy as np\n",
        "import matplotlib.pyplot as plt"
      ]
    },
    {
      "cell_type": "code",
      "execution_count": 363,
      "metadata": {
        "colab": {
          "base_uri": "https://localhost:8080/",
          "height": 1000
        },
        "id": "hkt5ra0aEyZD",
        "outputId": "a8cf2a13-e00e-4c94-8b6a-2e3f5d7c43cd"
      },
      "outputs": [
        {
          "output_type": "display_data",
          "data": {
            "text/plain": [
              "Index(['total_images', 'last_price', 'total_area', 'first_day_exposition',\n",
              "       'rooms', 'ceiling_height', 'floors_total', 'living_area', 'floor',\n",
              "       'is_apartment', 'studio', 'open_plan', 'kitchen_area', 'balcony',\n",
              "       'locality_name', 'airports_nearest', 'cityCenters_nearest',\n",
              "       'parks_around3000', 'parks_nearest', 'ponds_around3000',\n",
              "       'ponds_nearest', 'days_exposition'],\n",
              "      dtype='object')"
            ]
          },
          "metadata": {}
        },
        {
          "output_type": "stream",
          "name": "stdout",
          "text": [
            "<class 'pandas.core.frame.DataFrame'>\n",
            "RangeIndex: 23699 entries, 0 to 23698\n",
            "Data columns (total 22 columns):\n",
            " #   Column                Non-Null Count  Dtype  \n",
            "---  ------                --------------  -----  \n",
            " 0   total_images          23699 non-null  int64  \n",
            " 1   last_price            23699 non-null  float64\n",
            " 2   total_area            23699 non-null  float64\n",
            " 3   first_day_exposition  23699 non-null  object \n",
            " 4   rooms                 23699 non-null  int64  \n",
            " 5   ceiling_height        14504 non-null  float64\n",
            " 6   floors_total          23613 non-null  float64\n",
            " 7   living_area           21796 non-null  float64\n",
            " 8   floor                 23699 non-null  int64  \n",
            " 9   is_apartment          2775 non-null   object \n",
            " 10  studio                23699 non-null  bool   \n",
            " 11  open_plan             23699 non-null  bool   \n",
            " 12  kitchen_area          21421 non-null  float64\n",
            " 13  balcony               12180 non-null  float64\n",
            " 14  locality_name         23650 non-null  object \n",
            " 15  airports_nearest      18157 non-null  float64\n",
            " 16  cityCenters_nearest   18180 non-null  float64\n",
            " 17  parks_around3000      18181 non-null  float64\n",
            " 18  parks_nearest         8079 non-null   float64\n",
            " 19  ponds_around3000      18181 non-null  float64\n",
            " 20  ponds_nearest         9110 non-null   float64\n",
            " 21  days_exposition       20518 non-null  float64\n",
            "dtypes: bool(2), float64(14), int64(3), object(3)\n",
            "memory usage: 3.7+ MB\n"
          ]
        },
        {
          "output_type": "display_data",
          "data": {
            "text/plain": [
              "None"
            ]
          },
          "metadata": {}
        },
        {
          "output_type": "display_data",
          "data": {
            "text/plain": [
              "   total_images  last_price  total_area first_day_exposition  rooms  \\\n",
              "0            20  13000000.0       108.0  2019-03-07T00:00:00      3   \n",
              "1             7   3350000.0        40.4  2018-12-04T00:00:00      1   \n",
              "2            10   5196000.0        56.0  2015-08-20T00:00:00      2   \n",
              "3             0  64900000.0       159.0  2015-07-24T00:00:00      3   \n",
              "4             2  10000000.0       100.0  2018-06-19T00:00:00      2   \n",
              "\n",
              "   ceiling_height  floors_total  living_area  floor is_apartment  ...  \\\n",
              "0            2.70          16.0         51.0      8          NaN  ...   \n",
              "1             NaN          11.0         18.6      1          NaN  ...   \n",
              "2             NaN           5.0         34.3      4          NaN  ...   \n",
              "3             NaN          14.0          NaN      9          NaN  ...   \n",
              "4            3.03          14.0         32.0     13          NaN  ...   \n",
              "\n",
              "   kitchen_area  balcony    locality_name  airports_nearest  \\\n",
              "0          25.0      NaN  Санкт-Петербург           18863.0   \n",
              "1          11.0      2.0   посёлок Шушары           12817.0   \n",
              "2           8.3      0.0  Санкт-Петербург           21741.0   \n",
              "3           NaN      0.0  Санкт-Петербург           28098.0   \n",
              "4          41.0      NaN  Санкт-Петербург           31856.0   \n",
              "\n",
              "  cityCenters_nearest  parks_around3000  parks_nearest  ponds_around3000  \\\n",
              "0             16028.0               1.0          482.0               2.0   \n",
              "1             18603.0               0.0            NaN               0.0   \n",
              "2             13933.0               1.0           90.0               2.0   \n",
              "3              6800.0               2.0           84.0               3.0   \n",
              "4              8098.0               2.0          112.0               1.0   \n",
              "\n",
              "   ponds_nearest  days_exposition  \n",
              "0          755.0              NaN  \n",
              "1            NaN             81.0  \n",
              "2          574.0            558.0  \n",
              "3          234.0            424.0  \n",
              "4           48.0            121.0  \n",
              "\n",
              "[5 rows x 22 columns]"
            ],
            "text/html": [
              "\n",
              "  <div id=\"df-af6cb7ca-212f-407b-8684-231f0ed4fdda\">\n",
              "    <div class=\"colab-df-container\">\n",
              "      <div>\n",
              "<style scoped>\n",
              "    .dataframe tbody tr th:only-of-type {\n",
              "        vertical-align: middle;\n",
              "    }\n",
              "\n",
              "    .dataframe tbody tr th {\n",
              "        vertical-align: top;\n",
              "    }\n",
              "\n",
              "    .dataframe thead th {\n",
              "        text-align: right;\n",
              "    }\n",
              "</style>\n",
              "<table border=\"1\" class=\"dataframe\">\n",
              "  <thead>\n",
              "    <tr style=\"text-align: right;\">\n",
              "      <th></th>\n",
              "      <th>total_images</th>\n",
              "      <th>last_price</th>\n",
              "      <th>total_area</th>\n",
              "      <th>first_day_exposition</th>\n",
              "      <th>rooms</th>\n",
              "      <th>ceiling_height</th>\n",
              "      <th>floors_total</th>\n",
              "      <th>living_area</th>\n",
              "      <th>floor</th>\n",
              "      <th>is_apartment</th>\n",
              "      <th>...</th>\n",
              "      <th>kitchen_area</th>\n",
              "      <th>balcony</th>\n",
              "      <th>locality_name</th>\n",
              "      <th>airports_nearest</th>\n",
              "      <th>cityCenters_nearest</th>\n",
              "      <th>parks_around3000</th>\n",
              "      <th>parks_nearest</th>\n",
              "      <th>ponds_around3000</th>\n",
              "      <th>ponds_nearest</th>\n",
              "      <th>days_exposition</th>\n",
              "    </tr>\n",
              "  </thead>\n",
              "  <tbody>\n",
              "    <tr>\n",
              "      <th>0</th>\n",
              "      <td>20</td>\n",
              "      <td>13000000.0</td>\n",
              "      <td>108.0</td>\n",
              "      <td>2019-03-07T00:00:00</td>\n",
              "      <td>3</td>\n",
              "      <td>2.70</td>\n",
              "      <td>16.0</td>\n",
              "      <td>51.0</td>\n",
              "      <td>8</td>\n",
              "      <td>NaN</td>\n",
              "      <td>...</td>\n",
              "      <td>25.0</td>\n",
              "      <td>NaN</td>\n",
              "      <td>Санкт-Петербург</td>\n",
              "      <td>18863.0</td>\n",
              "      <td>16028.0</td>\n",
              "      <td>1.0</td>\n",
              "      <td>482.0</td>\n",
              "      <td>2.0</td>\n",
              "      <td>755.0</td>\n",
              "      <td>NaN</td>\n",
              "    </tr>\n",
              "    <tr>\n",
              "      <th>1</th>\n",
              "      <td>7</td>\n",
              "      <td>3350000.0</td>\n",
              "      <td>40.4</td>\n",
              "      <td>2018-12-04T00:00:00</td>\n",
              "      <td>1</td>\n",
              "      <td>NaN</td>\n",
              "      <td>11.0</td>\n",
              "      <td>18.6</td>\n",
              "      <td>1</td>\n",
              "      <td>NaN</td>\n",
              "      <td>...</td>\n",
              "      <td>11.0</td>\n",
              "      <td>2.0</td>\n",
              "      <td>посёлок Шушары</td>\n",
              "      <td>12817.0</td>\n",
              "      <td>18603.0</td>\n",
              "      <td>0.0</td>\n",
              "      <td>NaN</td>\n",
              "      <td>0.0</td>\n",
              "      <td>NaN</td>\n",
              "      <td>81.0</td>\n",
              "    </tr>\n",
              "    <tr>\n",
              "      <th>2</th>\n",
              "      <td>10</td>\n",
              "      <td>5196000.0</td>\n",
              "      <td>56.0</td>\n",
              "      <td>2015-08-20T00:00:00</td>\n",
              "      <td>2</td>\n",
              "      <td>NaN</td>\n",
              "      <td>5.0</td>\n",
              "      <td>34.3</td>\n",
              "      <td>4</td>\n",
              "      <td>NaN</td>\n",
              "      <td>...</td>\n",
              "      <td>8.3</td>\n",
              "      <td>0.0</td>\n",
              "      <td>Санкт-Петербург</td>\n",
              "      <td>21741.0</td>\n",
              "      <td>13933.0</td>\n",
              "      <td>1.0</td>\n",
              "      <td>90.0</td>\n",
              "      <td>2.0</td>\n",
              "      <td>574.0</td>\n",
              "      <td>558.0</td>\n",
              "    </tr>\n",
              "    <tr>\n",
              "      <th>3</th>\n",
              "      <td>0</td>\n",
              "      <td>64900000.0</td>\n",
              "      <td>159.0</td>\n",
              "      <td>2015-07-24T00:00:00</td>\n",
              "      <td>3</td>\n",
              "      <td>NaN</td>\n",
              "      <td>14.0</td>\n",
              "      <td>NaN</td>\n",
              "      <td>9</td>\n",
              "      <td>NaN</td>\n",
              "      <td>...</td>\n",
              "      <td>NaN</td>\n",
              "      <td>0.0</td>\n",
              "      <td>Санкт-Петербург</td>\n",
              "      <td>28098.0</td>\n",
              "      <td>6800.0</td>\n",
              "      <td>2.0</td>\n",
              "      <td>84.0</td>\n",
              "      <td>3.0</td>\n",
              "      <td>234.0</td>\n",
              "      <td>424.0</td>\n",
              "    </tr>\n",
              "    <tr>\n",
              "      <th>4</th>\n",
              "      <td>2</td>\n",
              "      <td>10000000.0</td>\n",
              "      <td>100.0</td>\n",
              "      <td>2018-06-19T00:00:00</td>\n",
              "      <td>2</td>\n",
              "      <td>3.03</td>\n",
              "      <td>14.0</td>\n",
              "      <td>32.0</td>\n",
              "      <td>13</td>\n",
              "      <td>NaN</td>\n",
              "      <td>...</td>\n",
              "      <td>41.0</td>\n",
              "      <td>NaN</td>\n",
              "      <td>Санкт-Петербург</td>\n",
              "      <td>31856.0</td>\n",
              "      <td>8098.0</td>\n",
              "      <td>2.0</td>\n",
              "      <td>112.0</td>\n",
              "      <td>1.0</td>\n",
              "      <td>48.0</td>\n",
              "      <td>121.0</td>\n",
              "    </tr>\n",
              "  </tbody>\n",
              "</table>\n",
              "<p>5 rows × 22 columns</p>\n",
              "</div>\n",
              "      <button class=\"colab-df-convert\" onclick=\"convertToInteractive('df-af6cb7ca-212f-407b-8684-231f0ed4fdda')\"\n",
              "              title=\"Convert this dataframe to an interactive table.\"\n",
              "              style=\"display:none;\">\n",
              "        \n",
              "  <svg xmlns=\"http://www.w3.org/2000/svg\" height=\"24px\"viewBox=\"0 0 24 24\"\n",
              "       width=\"24px\">\n",
              "    <path d=\"M0 0h24v24H0V0z\" fill=\"none\"/>\n",
              "    <path d=\"M18.56 5.44l.94 2.06.94-2.06 2.06-.94-2.06-.94-.94-2.06-.94 2.06-2.06.94zm-11 1L8.5 8.5l.94-2.06 2.06-.94-2.06-.94L8.5 2.5l-.94 2.06-2.06.94zm10 10l.94 2.06.94-2.06 2.06-.94-2.06-.94-.94-2.06-.94 2.06-2.06.94z\"/><path d=\"M17.41 7.96l-1.37-1.37c-.4-.4-.92-.59-1.43-.59-.52 0-1.04.2-1.43.59L10.3 9.45l-7.72 7.72c-.78.78-.78 2.05 0 2.83L4 21.41c.39.39.9.59 1.41.59.51 0 1.02-.2 1.41-.59l7.78-7.78 2.81-2.81c.8-.78.8-2.07 0-2.86zM5.41 20L4 18.59l7.72-7.72 1.47 1.35L5.41 20z\"/>\n",
              "  </svg>\n",
              "      </button>\n",
              "      \n",
              "  <style>\n",
              "    .colab-df-container {\n",
              "      display:flex;\n",
              "      flex-wrap:wrap;\n",
              "      gap: 12px;\n",
              "    }\n",
              "\n",
              "    .colab-df-convert {\n",
              "      background-color: #E8F0FE;\n",
              "      border: none;\n",
              "      border-radius: 50%;\n",
              "      cursor: pointer;\n",
              "      display: none;\n",
              "      fill: #1967D2;\n",
              "      height: 32px;\n",
              "      padding: 0 0 0 0;\n",
              "      width: 32px;\n",
              "    }\n",
              "\n",
              "    .colab-df-convert:hover {\n",
              "      background-color: #E2EBFA;\n",
              "      box-shadow: 0px 1px 2px rgba(60, 64, 67, 0.3), 0px 1px 3px 1px rgba(60, 64, 67, 0.15);\n",
              "      fill: #174EA6;\n",
              "    }\n",
              "\n",
              "    [theme=dark] .colab-df-convert {\n",
              "      background-color: #3B4455;\n",
              "      fill: #D2E3FC;\n",
              "    }\n",
              "\n",
              "    [theme=dark] .colab-df-convert:hover {\n",
              "      background-color: #434B5C;\n",
              "      box-shadow: 0px 1px 3px 1px rgba(0, 0, 0, 0.15);\n",
              "      filter: drop-shadow(0px 1px 2px rgba(0, 0, 0, 0.3));\n",
              "      fill: #FFFFFF;\n",
              "    }\n",
              "  </style>\n",
              "\n",
              "      <script>\n",
              "        const buttonEl =\n",
              "          document.querySelector('#df-af6cb7ca-212f-407b-8684-231f0ed4fdda button.colab-df-convert');\n",
              "        buttonEl.style.display =\n",
              "          google.colab.kernel.accessAllowed ? 'block' : 'none';\n",
              "\n",
              "        async function convertToInteractive(key) {\n",
              "          const element = document.querySelector('#df-af6cb7ca-212f-407b-8684-231f0ed4fdda');\n",
              "          const dataTable =\n",
              "            await google.colab.kernel.invokeFunction('convertToInteractive',\n",
              "                                                     [key], {});\n",
              "          if (!dataTable) return;\n",
              "\n",
              "          const docLinkHtml = 'Like what you see? Visit the ' +\n",
              "            '<a target=\"_blank\" href=https://colab.research.google.com/notebooks/data_table.ipynb>data table notebook</a>'\n",
              "            + ' to learn more about interactive tables.';\n",
              "          element.innerHTML = '';\n",
              "          dataTable['output_type'] = 'display_data';\n",
              "          await google.colab.output.renderOutput(dataTable, element);\n",
              "          const docLink = document.createElement('div');\n",
              "          docLink.innerHTML = docLinkHtml;\n",
              "          element.appendChild(docLink);\n",
              "        }\n",
              "      </script>\n",
              "    </div>\n",
              "  </div>\n",
              "  "
            ]
          },
          "metadata": {}
        },
        {
          "output_type": "display_data",
          "data": {
            "text/plain": [
              "<Figure size 1080x1440 with 20 Axes>"
            ],
            "image/png": "[encoded data removed]"
          },
          "metadata": {
            "needs_background": "light"
          }
        }
      ],
      "source": [
        "data = pd.read_csv('/content/sample_data/real_estate_data.csv', sep='\\t')\n",
        "display(data.columns)\n",
        "display(data.info())\n",
        "display(data.head(5))\n",
        "#Посмотрели основную информацию\n",
        "data.hist(figsize=(15, 20));"
      ]
    },
    {
      "cell_type": "markdown",
      "metadata": {
        "id": "tAMppz2GEyZE"
      },
      "source": [
        "В датафрейме 22 колонки, тип большей части из них - вещественное число, сразу можно увидеть, что в таблице много пропусков,  особенно в колонке is_apartment."
      ]
    },
    {
      "cell_type": "markdown",
      "metadata": {
        "id": "EB3a1rIZEyZG"
      },
      "source": [
        "# Предобработка данных"
      ]
    },
    {
      "cell_type": "code",
      "execution_count": 364,
      "metadata": {
        "colab": {
          "base_uri": "https://localhost:8080/"
        },
        "id": "YKcY4zoZEyZH",
        "outputId": "986c042d-a358-478d-9ab6-918d219237e4"
      },
      "outputs": [
        {
          "output_type": "stream",
          "name": "stdout",
          "text": [
            "total_images                0\n",
            "last_price                  0\n",
            "total_area                  0\n",
            "first_day_exposition        0\n",
            "rooms                       0\n",
            "ceiling_height           9195\n",
            "floors_total               86\n",
            "living_area              1903\n",
            "floor                       0\n",
            "is_apartment            20924\n",
            "studio                      0\n",
            "open_plan                   0\n",
            "kitchen_area             2278\n",
            "balcony                 11519\n",
            "locality_name              49\n",
            "airports_nearest         5542\n",
            "cityCenters_nearest      5519\n",
            "parks_around3000         5518\n",
            "parks_nearest           15620\n",
            "ponds_around3000         5518\n",
            "ponds_nearest           14589\n",
            "days_exposition          3181\n",
            "dtype: int64\n"
          ]
        }
      ],
      "source": [
        "print(data.isna().sum())"
      ]
    },
    {
      "cell_type": "markdown",
      "metadata": {
        "id": "Z7e5RnJOEyZH"
      },
      "source": [
        "ceiling_height, living_area, kitchen_area  - заменю пропуски на медиану\n",
        "floors_total, parks_around3000, parks_nearest, ponds_around3000, ponds_nearest, days_exposition, locality_name, airports_nearest, cityCenters_nearest - оставлю пропуски\n",
        "is_apartment - заменю на Фолс, если нет ответа, то это не апартаменты \n",
        "balcony - заменю на 0, нет ответа - нет балкона"
      ]
    },
    {
      "cell_type": "code",
      "execution_count": 365,
      "metadata": {
        "colab": {
          "base_uri": "https://localhost:8080/",
          "height": 424
        },
        "id": "HiTwkkszEyZI",
        "outputId": "bd31b7ee-d805-4bf6-c632-2acad8fbb2c7"
      },
      "outputs": [
        {
          "output_type": "execute_result",
          "data": {
            "text/plain": [
              "       kitchen_area  living_area  total_area\n",
              "184            6.20        26.10       30.20\n",
              "545            5.00        20.00       23.80\n",
              "551            9.28        30.55       31.59\n",
              "601            7.00        48.30       53.70\n",
              "696           23.43        23.43       34.69\n",
              "...             ...          ...         ...\n",
              "21824          8.60        38.00       44.00\n",
              "21868          8.00        30.60       34.30\n",
              "21915         32.40        62.00       91.40\n",
              "21956          8.00        44.00       46.00\n",
              "23202         13.04        63.00       67.92\n",
              "\n",
              "[74 rows x 3 columns]"
            ],
            "text/html": [
              "\n",
              "  <div id=\"df-b07bf8dd-c5a0-4a50-8c6b-a43b29c34db5\">\n",
              "    <div class=\"colab-df-container\">\n",
              "      <div>\n",
              "<style scoped>\n",
              "    .dataframe tbody tr th:only-of-type {\n",
              "        vertical-align: middle;\n",
              "    }\n",
              "\n",
              "    .dataframe tbody tr th {\n",
              "        vertical-align: top;\n",
              "    }\n",
              "\n",
              "    .dataframe thead th {\n",
              "        text-align: right;\n",
              "    }\n",
              "</style>\n",
              "<table border=\"1\" class=\"dataframe\">\n",
              "  <thead>\n",
              "    <tr style=\"text-align: right;\">\n",
              "      <th></th>\n",
              "      <th>kitchen_area</th>\n",
              "      <th>living_area</th>\n",
              "      <th>total_area</th>\n",
              "    </tr>\n",
              "  </thead>\n",
              "  <tbody>\n",
              "    <tr>\n",
              "      <th>184</th>\n",
              "      <td>6.20</td>\n",
              "      <td>26.10</td>\n",
              "      <td>30.20</td>\n",
              "    </tr>\n",
              "    <tr>\n",
              "      <th>545</th>\n",
              "      <td>5.00</td>\n",
              "      <td>20.00</td>\n",
              "      <td>23.80</td>\n",
              "    </tr>\n",
              "    <tr>\n",
              "      <th>551</th>\n",
              "      <td>9.28</td>\n",
              "      <td>30.55</td>\n",
              "      <td>31.59</td>\n",
              "    </tr>\n",
              "    <tr>\n",
              "      <th>601</th>\n",
              "      <td>7.00</td>\n",
              "      <td>48.30</td>\n",
              "      <td>53.70</td>\n",
              "    </tr>\n",
              "    <tr>\n",
              "      <th>696</th>\n",
              "      <td>23.43</td>\n",
              "      <td>23.43</td>\n",
              "      <td>34.69</td>\n",
              "    </tr>\n",
              "    <tr>\n",
              "      <th>...</th>\n",
              "      <td>...</td>\n",
              "      <td>...</td>\n",
              "      <td>...</td>\n",
              "    </tr>\n",
              "    <tr>\n",
              "      <th>21824</th>\n",
              "      <td>8.60</td>\n",
              "      <td>38.00</td>\n",
              "      <td>44.00</td>\n",
              "    </tr>\n",
              "    <tr>\n",
              "      <th>21868</th>\n",
              "      <td>8.00</td>\n",
              "      <td>30.60</td>\n",
              "      <td>34.30</td>\n",
              "    </tr>\n",
              "    <tr>\n",
              "      <th>21915</th>\n",
              "      <td>32.40</td>\n",
              "      <td>62.00</td>\n",
              "      <td>91.40</td>\n",
              "    </tr>\n",
              "    <tr>\n",
              "      <th>21956</th>\n",
              "      <td>8.00</td>\n",
              "      <td>44.00</td>\n",
              "      <td>46.00</td>\n",
              "    </tr>\n",
              "    <tr>\n",
              "      <th>23202</th>\n",
              "      <td>13.04</td>\n",
              "      <td>63.00</td>\n",
              "      <td>67.92</td>\n",
              "    </tr>\n",
              "  </tbody>\n",
              "</table>\n",
              "<p>74 rows × 3 columns</p>\n",
              "</div>\n",
              "      <button class=\"colab-df-convert\" onclick=\"convertToInteractive('df-b07bf8dd-c5a0-4a50-8c6b-a43b29c34db5')\"\n",
              "              title=\"Convert this dataframe to an interactive table.\"\n",
              "              style=\"display:none;\">\n",
              "        \n",
              "  <svg xmlns=\"http://www.w3.org/2000/svg\" height=\"24px\"viewBox=\"0 0 24 24\"\n",
              "       width=\"24px\">\n",
              "    <path d=\"M0 0h24v24H0V0z\" fill=\"none\"/>\n",
              "    <path d=\"M18.56 5.44l.94 2.06.94-2.06 2.06-.94-2.06-.94-.94-2.06-.94 2.06-2.06.94zm-11 1L8.5 8.5l.94-2.06 2.06-.94-2.06-.94L8.5 2.5l-.94 2.06-2.06.94zm10 10l.94 2.06.94-2.06 2.06-.94-2.06-.94-.94-2.06-.94 2.06-2.06.94z\"/><path d=\"M17.41 7.96l-1.37-1.37c-.4-.4-.92-.59-1.43-.59-.52 0-1.04.2-1.43.59L10.3 9.45l-7.72 7.72c-.78.78-.78 2.05 0 2.83L4 21.41c.39.39.9.59 1.41.59.51 0 1.02-.2 1.41-.59l7.78-7.78 2.81-2.81c.8-.78.8-2.07 0-2.86zM5.41 20L4 18.59l7.72-7.72 1.47 1.35L5.41 20z\"/>\n",
              "  </svg>\n",
              "      </button>\n",
              "      \n",
              "  <style>\n",
              "    .colab-df-container {\n",
              "      display:flex;\n",
              "      flex-wrap:wrap;\n",
              "      gap: 12px;\n",
              "    }\n",
              "\n",
              "    .colab-df-convert {\n",
              "      background-color: #E8F0FE;\n",
              "      border: none;\n",
              "      border-radius: 50%;\n",
              "      cursor: pointer;\n",
              "      display: none;\n",
              "      fill: #1967D2;\n",
              "      height: 32px;\n",
              "      padding: 0 0 0 0;\n",
              "      width: 32px;\n",
              "    }\n",
              "\n",
              "    .colab-df-convert:hover {\n",
              "      background-color: #E2EBFA;\n",
              "      box-shadow: 0px 1px 2px rgba(60, 64, 67, 0.3), 0px 1px 3px 1px rgba(60, 64, 67, 0.15);\n",
              "      fill: #174EA6;\n",
              "    }\n",
              "\n",
              "    [theme=dark] .colab-df-convert {\n",
              "      background-color: #3B4455;\n",
              "      fill: #D2E3FC;\n",
              "    }\n",
              "\n",
              "    [theme=dark] .colab-df-convert:hover {\n",
              "      background-color: #434B5C;\n",
              "      box-shadow: 0px 1px 3px 1px rgba(0, 0, 0, 0.15);\n",
              "      filter: drop-shadow(0px 1px 2px rgba(0, 0, 0, 0.3));\n",
              "      fill: #FFFFFF;\n",
              "    }\n",
              "  </style>\n",
              "\n",
              "      <script>\n",
              "        const buttonEl =\n",
              "          document.querySelector('#df-b07bf8dd-c5a0-4a50-8c6b-a43b29c34db5 button.colab-df-convert');\n",
              "        buttonEl.style.display =\n",
              "          google.colab.kernel.accessAllowed ? 'block' : 'none';\n",
              "\n",
              "        async function convertToInteractive(key) {\n",
              "          const element = document.querySelector('#df-b07bf8dd-c5a0-4a50-8c6b-a43b29c34db5');\n",
              "          const dataTable =\n",
              "            await google.colab.kernel.invokeFunction('convertToInteractive',\n",
              "                                                     [key], {});\n",
              "          if (!dataTable) return;\n",
              "\n",
              "          const docLinkHtml = 'Like what you see? Visit the ' +\n",
              "            '<a target=\"_blank\" href=https://colab.research.google.com/notebooks/data_table.ipynb>data table notebook</a>'\n",
              "            + ' to learn more about interactive tables.';\n",
              "          element.innerHTML = '';\n",
              "          dataTable['output_type'] = 'display_data';\n",
              "          await google.colab.output.renderOutput(dataTable, element);\n",
              "          const docLink = document.createElement('div');\n",
              "          docLink.innerHTML = docLinkHtml;\n",
              "          element.appendChild(docLink);\n",
              "        }\n",
              "      </script>\n",
              "    </div>\n",
              "  </div>\n",
              "  "
            ]
          },
          "metadata": {},
          "execution_count": 365
        }
      ],
      "source": [
        "#Избавляюсь от пропусков\n",
        "data['ceiling_height']=data['ceiling_height'].fillna(data['ceiling_height'].median())\n",
        "koef = data['total_area'].mean()/data['living_area'].mean()\n",
        "data['living_area'] = data['living_area'].fillna(data['total_area']/koef)\n",
        "koef2 = (data['total_area'].mean()-data['living_area'].mean())/data['kitchen_area'].mean()\n",
        "data['kitchen_area'] = data['kitchen_area'].fillna((data['total_area']-data['living_area'])/koef2)\n",
        "data[['kitchen_area', 'living_area','total_area']][(data['kitchen_area'] + data['living_area']) > data['total_area']]"
      ]
    },
    {
      "cell_type": "code",
      "execution_count": 366,
      "metadata": {
        "id": "nEAdlH25EyZM"
      },
      "outputs": [],
      "source": [
        "#Меняю пропущенные значения в balcony на 0, а в is_apartment - на False\n",
        "data['balcony']=data['balcony'].fillna(0)\n",
        "data['floors_total']=data['floors_total'].fillna(0)\n",
        "data['is_apartment']=data['is_apartment'].fillna(False)"
      ]
    },
    {
      "cell_type": "code",
      "execution_count": 367,
      "metadata": {
        "colab": {
          "base_uri": "https://localhost:8080/"
        },
        "id": "cYRuIIqaEyZM",
        "outputId": "4d710c64-a65c-4238-b1f7-244bb0a367aa"
      },
      "outputs": [
        {
          "output_type": "stream",
          "name": "stdout",
          "text": [
            "total_images                0\n",
            "last_price                  0\n",
            "total_area                  0\n",
            "first_day_exposition        0\n",
            "rooms                       0\n",
            "ceiling_height              0\n",
            "floors_total                0\n",
            "living_area                 0\n",
            "floor                       0\n",
            "is_apartment                0\n",
            "studio                      0\n",
            "open_plan                   0\n",
            "kitchen_area                0\n",
            "balcony                     0\n",
            "locality_name              49\n",
            "airports_nearest         5542\n",
            "cityCenters_nearest      5519\n",
            "parks_around3000         5518\n",
            "parks_nearest           15620\n",
            "ponds_around3000         5518\n",
            "ponds_nearest           14589\n",
            "days_exposition          3181\n",
            "dtype: int64\n"
          ]
        }
      ],
      "source": [
        "print(data.isna().sum())\n",
        "#Оставили пропуски там, где нет логичной замены"
      ]
    },
    {
      "cell_type": "markdown",
      "metadata": {
        "id": "fSLCSUvXEyZN"
      },
      "source": [
        "Откуда могли взяться пропуски?\n",
        "Большое количество пропусков в столбцах, где их отсутствие не помешало нам при обработке данных (is apartment, balcony), так что и заполнять эти данные было не необходимо, если квартира действительно не апартаменты и действительно не имеет балкона, как мы и указали вместо пропусков\n",
        "Также в объявлении 22 пункта для заполнения, необходимо указать большое количество информации, что может быть непростой задачей для того, кто размещает объявление."
      ]
    },
    {
      "cell_type": "code",
      "execution_count": 368,
      "metadata": {
        "scrolled": false,
        "colab": {
          "base_uri": "https://localhost:8080/"
        },
        "id": "LrUyTE74EyZN",
        "outputId": "93931363-c9a7-4c5b-cd49-2ae7c10600d2"
      },
      "outputs": [
        {
          "output_type": "stream",
          "name": "stdout",
          "text": [
            "<class 'pandas.core.frame.DataFrame'>\n",
            "RangeIndex: 23699 entries, 0 to 23698\n",
            "Data columns (total 22 columns):\n",
            " #   Column                Non-Null Count  Dtype         \n",
            "---  ------                --------------  -----         \n",
            " 0   total_images          23699 non-null  int64         \n",
            " 1   last_price            23699 non-null  int64         \n",
            " 2   total_area            23699 non-null  float64       \n",
            " 3   first_day_exposition  23699 non-null  datetime64[ns]\n",
            " 4   rooms                 23699 non-null  int64         \n",
            " 5   ceiling_height        23699 non-null  float64       \n",
            " 6   floors_total          23699 non-null  Int64         \n",
            " 7   living_area           23699 non-null  float64       \n",
            " 8   floor                 23699 non-null  int64         \n",
            " 9   is_apartment          23699 non-null  bool          \n",
            " 10  studio                23699 non-null  bool          \n",
            " 11  open_plan             23699 non-null  bool          \n",
            " 12  kitchen_area          23699 non-null  float64       \n",
            " 13  balcony               23699 non-null  Int64         \n",
            " 14  locality_name         23650 non-null  object        \n",
            " 15  airports_nearest      18157 non-null  float64       \n",
            " 16  cityCenters_nearest   18180 non-null  float64       \n",
            " 17  parks_around3000      18181 non-null  Int64         \n",
            " 18  parks_nearest         8079 non-null   float64       \n",
            " 19  ponds_around3000      18181 non-null  Int64         \n",
            " 20  ponds_nearest         9110 non-null   float64       \n",
            " 21  days_exposition       20518 non-null  float64       \n",
            "dtypes: Int64(4), bool(3), datetime64[ns](1), float64(9), int64(4), object(1)\n",
            "memory usage: 3.6+ MB\n",
            "None\n"
          ]
        }
      ],
      "source": [
        "#Тип данных надо поменять в столбце first_day_exposition, так как это дата\n",
        "data['first_day_exposition'] = pd.to_datetime(data['first_day_exposition'], format='%Y-%m-%dT%H:%M:%S')\n",
        "data['last_price'] = data['last_price'].astype(int)\n",
        "data['floors_total'] = data['floors_total'].astype('Int64')\n",
        "data['balcony'] = data['balcony'].astype('Int64')\n",
        "data['parks_around3000'] = data['parks_around3000'].astype('Int64')\n",
        "data['ponds_around3000'] = data['ponds_around3000'].astype('Int64')\n",
        "print(data.info())"
      ]
    },
    {
      "cell_type": "code",
      "execution_count": 369,
      "metadata": {
        "scrolled": true,
        "colab": {
          "base_uri": "https://localhost:8080/"
        },
        "id": "zAO9aIfvEyZN",
        "outputId": "052ec31c-f605-4b34-cb97-752cf603cdb4"
      },
      "outputs": [
        {
          "output_type": "stream",
          "name": "stdout",
          "text": [
            "<class 'pandas.core.frame.DataFrame'>\n",
            "RangeIndex: 23699 entries, 0 to 23698\n",
            "Data columns (total 22 columns):\n",
            " #   Column                Non-Null Count  Dtype         \n",
            "---  ------                --------------  -----         \n",
            " 0   total_images          23699 non-null  int64         \n",
            " 1   last_price            23699 non-null  int64         \n",
            " 2   total_area            23699 non-null  float64       \n",
            " 3   first_day_exposition  23699 non-null  datetime64[ns]\n",
            " 4   rooms                 23699 non-null  int64         \n",
            " 5   ceiling_height        23699 non-null  float64       \n",
            " 6   floors_total          23699 non-null  Int64         \n",
            " 7   living_area           23699 non-null  float64       \n",
            " 8   floor                 23699 non-null  int64         \n",
            " 9   is_apartment          23699 non-null  bool          \n",
            " 10  studio                23699 non-null  bool          \n",
            " 11  open_plan             23699 non-null  bool          \n",
            " 12  kitchen_area          23699 non-null  float64       \n",
            " 13  balcony               23699 non-null  Int64         \n",
            " 14  locality_name         23650 non-null  object        \n",
            " 15  airports_nearest      18157 non-null  float64       \n",
            " 16  cityCenters_nearest   18180 non-null  float64       \n",
            " 17  parks_around3000      18181 non-null  Int64         \n",
            " 18  parks_nearest         8079 non-null   float64       \n",
            " 19  ponds_around3000      18181 non-null  Int64         \n",
            " 20  ponds_nearest         9110 non-null   float64       \n",
            " 21  days_exposition       20518 non-null  float64       \n",
            "dtypes: Int64(4), bool(3), datetime64[ns](1), float64(9), int64(4), object(1)\n",
            "memory usage: 3.6+ MB\n",
            "None\n"
          ]
        }
      ],
      "source": [
        "#Убираем неявные дубликаты. Приведём все названия к общему виду\n",
        "data['locality_name'] = data['locality_name'].replace('поселок','посёлок', regex=True)\n",
        "data['locality_name'] = data['locality_name'].replace('деревня','городской посёлок', regex=True)\n",
        "data['locality_name'] = data['locality_name'].replace('село','городской посёлок', regex=True)\n",
        "data['locality_name'] = data['locality_name'].replace('поселок при железнодорожной станции','поселок станции', regex=True)\n",
        "data['locality_name'] = data['locality_name'].replace('садоводческое некоммерческое товарищество','садовое товарищество', regex=True)\n",
        "print(data.info())"
      ]
    },
    {
      "cell_type": "code",
      "execution_count": 370,
      "metadata": {
        "scrolled": true,
        "colab": {
          "base_uri": "https://localhost:8080/"
        },
        "id": "QgWHsgmfEyZO",
        "outputId": "63d55ea5-448d-49ee-97f1-9f26ab8aa5df"
      },
      "outputs": [
        {
          "output_type": "stream",
          "name": "stdout",
          "text": [
            "Удалено 2.5% значений\n"
          ]
        }
      ],
      "source": [
        "#Находим аномальные значения\n",
        "x=data.shape[0]\n",
        "data.loc[data.ceiling_height > 20, \"ceiling_height\"] = data.ceiling_height/10\n",
        "data = data.loc[data['floors_total']<50]\n",
        "data = data.loc[(data['rooms']>0) & (data['rooms']<20)]\n",
        "cols = ['total_area','living_area','kitchen_area']\n",
        "data=data[~data[cols].isna().any(1)&(data['total_area']*0.6 <=data['living_area']+data['kitchen_area'])]\n",
        "y=data.shape[0]\n",
        "print('Удалено {:.1f}% значений'.format(abs(100 - x * 100 / y))) "
      ]
    },
    {
      "cell_type": "markdown",
      "metadata": {
        "id": "4ENhqngSEyZP"
      },
      "source": [
        "Встречается много аномальных значений по типу очень маленький или наоборот очень больших площадей, общих этажей, комнат."
      ]
    },
    {
      "cell_type": "markdown",
      "metadata": {
        "id": "I-c10uofEyZP"
      },
      "source": [
        "# Новые столбцы"
      ]
    },
    {
      "cell_type": "code",
      "execution_count": 371,
      "metadata": {
        "id": "ws7PMCRKEyZQ"
      },
      "outputs": [],
      "source": [
        "#Цена одного метра\n",
        "data['meter_price'] = data['last_price']/data['total_area']"
      ]
    },
    {
      "cell_type": "code",
      "execution_count": 372,
      "metadata": {
        "id": "4X3r_kqZEyZQ"
      },
      "outputs": [],
      "source": [
        "#День недели публикации объявления\n",
        "\n",
        "def day(data):\n",
        "    if data.dayofweek == 0:\n",
        "        return 'Понедельник'\n",
        "    if data.dayofweek == 1:\n",
        "        return 'Вторник'\n",
        "    if data.dayofweek == 2:\n",
        "        return 'Среда'\n",
        "    if data.dayofweek == 3:\n",
        "        return 'Четверг'\n",
        "    if data.dayofweek == 4:\n",
        "        return 'Пятница'\n",
        "    if data.dayofweek == 5:\n",
        "        return 'Суббота'\n",
        "    if data.dayofweek == 6:\n",
        "        return 'Воскресенье' \n",
        "data['day'] = data['first_day_exposition'].apply(day)\n"
      ]
    },
    {
      "cell_type": "code",
      "execution_count": 373,
      "metadata": {
        "id": "QvdgE0R1EyZR"
      },
      "outputs": [],
      "source": [
        "#Месяц публикации объявления \n",
        "data['month'] = data['first_day_exposition'].dt.month_name()"
      ]
    },
    {
      "cell_type": "code",
      "execution_count": 374,
      "metadata": {
        "id": "fLodA5DmEyZR"
      },
      "outputs": [],
      "source": [
        "#Год публикации объявления\n",
        "data['year'] = data['first_day_exposition'].dt.year"
      ]
    },
    {
      "cell_type": "code",
      "execution_count": 375,
      "metadata": {
        "id": "WwmrrsfREyZS"
      },
      "outputs": [],
      "source": [
        "#Тип этажа квартиры\n",
        "def floor(data):\n",
        "    if data.floor == data.floors_total:\n",
        "        return 'Последний'\n",
        "    elif data.floor == 1:\n",
        "        return 'Первый'\n",
        "    else:\n",
        "        return 'Другой'\n",
        "data['floor_type'] = data.apply(floor, axis=1)"
      ]
    },
    {
      "cell_type": "code",
      "execution_count": 376,
      "metadata": {
        "id": "IO3zCLMyEyZS"
      },
      "outputs": [],
      "source": [
        "#Расстояние в км до центра города\n",
        "data['km'] = data['cityCenters_nearest']/1000"
      ]
    },
    {
      "cell_type": "markdown",
      "metadata": {
        "id": "CzlnfOT_EyZT"
      },
      "source": [
        "# Исследовательский анализ данных"
      ]
    },
    {
      "cell_type": "markdown",
      "source": [
        "## Гистограммы"
      ],
      "metadata": {
        "id": "607qWLl1Sh2p"
      }
    },
    {
      "cell_type": "code",
      "execution_count": 377,
      "metadata": {
        "colab": {
          "base_uri": "https://localhost:8080/",
          "height": 368
        },
        "id": "dhL_qllNEyZT",
        "outputId": "4c9f8e90-2276-479c-9b92-fa4a601aac13"
      },
      "outputs": [
        {
          "output_type": "stream",
          "name": "stdout",
          "text": [
            "Медиана площади квартиры: 52.0\n"
          ]
        },
        {
          "output_type": "display_data",
          "data": {
            "text/plain": [
              "<Figure size 720x360 with 1 Axes>"
            ],
            "image/png": "[encoded data removed]"
          },
          "metadata": {
            "needs_background": "light"
          }
        }
      ],
      "source": [
        "#Общая площадь\n",
        "data['total_area'].hist(bins = 20, range=(0,300),figsize=(10, 5)).set_title('Гистограмма общей площади квартиры')\n",
        "plt.xlabel('m²')\n",
        "print('Медиана площади квартиры:',data['total_area'].median())"
      ]
    },
    {
      "cell_type": "markdown",
      "metadata": {
        "id": "KLMWE35kEyZT"
      },
      "source": [
        "В среднем основная площадь квартир равняется от менее 50 до 100+ метров.\n",
        "Встречаются и огромные квариры с площадями в 200 и более метров, они в ходят в более дорогой сегмент, поэтому их гораздо меньше"
      ]
    },
    {
      "cell_type": "code",
      "execution_count": 378,
      "metadata": {
        "colab": {
          "base_uri": "https://localhost:8080/",
          "height": 368
        },
        "id": "jsDXDFy5EyZT",
        "outputId": "fbb5dd78-ff89-4a19-d57a-feaeb0b034cd"
      },
      "outputs": [
        {
          "output_type": "stream",
          "name": "stdout",
          "text": [
            "Медиана жилой площади: 30.0\n"
          ]
        },
        {
          "output_type": "display_data",
          "data": {
            "text/plain": [
              "<Figure size 720x360 with 1 Axes>"
            ],
            "image/png": "[encoded data removed]"
          },
          "metadata": {
            "needs_background": "light"
          }
        }
      ],
      "source": [
        "#Жилая площадь\n",
        "data['living_area'].hist(bins = 20, range=(0,300),figsize=(10, 5)).set_title('Гистограмма жилой площади квартиры')\n",
        "plt.xlabel('m²')\n",
        "print('Медиана жилой площади:',data['living_area'].median())"
      ]
    },
    {
      "cell_type": "markdown",
      "metadata": {
        "id": "RvZl3W6BEyZU"
      },
      "source": [
        "Средний метраж жилой площади - от 20 до 60, жилих площадей с более чем 100м очень мало, они также принадлежат к дорогому сегменту"
      ]
    },
    {
      "cell_type": "code",
      "execution_count": 379,
      "metadata": {
        "colab": {
          "base_uri": "https://localhost:8080/",
          "height": 368
        },
        "id": "McH5CrhUEyZU",
        "outputId": "4a5b8333-7939-44a4-df63-56295834770b"
      },
      "outputs": [
        {
          "output_type": "stream",
          "name": "stdout",
          "text": [
            "Медиана площади кухни: 9.0\n"
          ]
        },
        {
          "output_type": "display_data",
          "data": {
            "text/plain": [
              "<Figure size 720x360 with 1 Axes>"
            ],
            "image/png": "[encoded data removed]"
          },
          "metadata": {
            "needs_background": "light"
          }
        }
      ],
      "source": [
        "#Площадь кухни\n",
        "data['kitchen_area'].hist(bins = 10, range=(0,80),figsize=(10, 5)).set_title('Гистограмма площади кухни')\n",
        "plt.xlabel('m²')\n",
        "print('Медиана площади кухни:',data['kitchen_area'].median())"
      ]
    },
    {
      "cell_type": "markdown",
      "metadata": {
        "id": "TxGBG3H5EyZU"
      },
      "source": [
        "В среднем площадь кухни занимает до 20м с редким увеличеним вплоть до 60м"
      ]
    },
    {
      "cell_type": "code",
      "execution_count": 380,
      "metadata": {
        "colab": {
          "base_uri": "https://localhost:8080/",
          "height": 368
        },
        "id": "s-sGaOH9EyZV",
        "outputId": "1af0bafe-6f59-4ea9-ea26-e5718d33408c"
      },
      "outputs": [
        {
          "output_type": "stream",
          "name": "stdout",
          "text": [
            "Медиана цены объекта: 4650000.0\n"
          ]
        },
        {
          "output_type": "display_data",
          "data": {
            "text/plain": [
              "<Figure size 720x360 with 1 Axes>"
            ],
            "image/png": "[encoded data removed]"
          },
          "metadata": {
            "needs_background": "light"
          }
        }
      ],
      "source": [
        "#Цена объекта\n",
        "data['last_price'].hist(bins = 10, range=(0,30000000),figsize=(10, 5)).set_title('Гистограмма цены объектов')\n",
        "plt.xlabel('руб')\n",
        "print('Медиана цены объекта:',data['last_price'].median())"
      ]
    },
    {
      "cell_type": "markdown",
      "metadata": {
        "id": "snMfv4MIEyZV"
      },
      "source": [
        "Медиана цены, за которую были проданы объекты - 4.65млн."
      ]
    },
    {
      "cell_type": "code",
      "execution_count": 381,
      "metadata": {
        "colab": {
          "base_uri": "https://localhost:8080/",
          "height": 368
        },
        "id": "wEVv7uDyEyZV",
        "outputId": "70c6c473-4906-4ff9-fb14-b933ef0ed8b1"
      },
      "outputs": [
        {
          "output_type": "stream",
          "name": "stdout",
          "text": [
            "Медиана количества комнат: 2.0\n"
          ]
        },
        {
          "output_type": "display_data",
          "data": {
            "text/plain": [
              "<Figure size 720x360 with 1 Axes>"
            ],
            "image/png": "[encoded data removed]"
          },
          "metadata": {
            "needs_background": "light"
          }
        }
      ],
      "source": [
        "#Количество комнат\n",
        "data['rooms'].hist(bins = 10, range=(0,20),figsize=(10, 5)).set_title('Гистограмма количества комнат')\n",
        "plt.xlabel('Количество комнат')\n",
        "print('Медиана количества комнат:',data['rooms'].median())"
      ]
    },
    {
      "cell_type": "markdown",
      "metadata": {
        "id": "3fCRo3ZEEyZW"
      },
      "source": [
        "Среднее количество комнат - 2, но встречаются и большие многокомнатные дома с 5 и более комнатами"
      ]
    },
    {
      "cell_type": "code",
      "execution_count": 382,
      "metadata": {
        "colab": {
          "base_uri": "https://localhost:8080/",
          "height": 368
        },
        "id": "SZ7LnOLQEyZW",
        "outputId": "f3ab9d5c-d08e-4440-ba10-4efa8891c9d3"
      },
      "outputs": [
        {
          "output_type": "stream",
          "name": "stdout",
          "text": [
            "Медиана высоты потолков: 2.65\n"
          ]
        },
        {
          "output_type": "display_data",
          "data": {
            "text/plain": [
              "<Figure size 720x360 with 1 Axes>"
            ],
            "image/png": "[encoded data removed]"
          },
          "metadata": {
            "needs_background": "light"
          }
        }
      ],
      "source": [
        "#Высота потолков\n",
        "data['ceiling_height'].hist(bins = 20, range=(1.5,5),figsize=(10, 5)).set_title('Гистограмма высоты потолков')\n",
        "plt.xlabel('m')\n",
        "print('Медиана высоты потолков:',data['ceiling_height'].median())"
      ]
    },
    {
      "cell_type": "markdown",
      "metadata": {
        "id": "bC5c--LJEyZW"
      },
      "source": [
        "Высота потолков - 2.65м, с увеличенем высоты потолков уменьшается количество квартир."
      ]
    },
    {
      "cell_type": "code",
      "execution_count": 383,
      "metadata": {
        "colab": {
          "base_uri": "https://localhost:8080/",
          "height": 368
        },
        "id": "z9uPnp8DEyZW",
        "outputId": "c313fdac-e7ff-4a81-b3f4-ac40120dbf40"
      },
      "outputs": [
        {
          "output_type": "stream",
          "name": "stdout",
          "text": [
            "Медиана: 4.0\n"
          ]
        },
        {
          "output_type": "display_data",
          "data": {
            "text/plain": [
              "<Figure size 720x360 with 1 Axes>"
            ],
            "image/png": "[encoded data removed]"
          },
          "metadata": {
            "needs_background": "light"
          }
        }
      ],
      "source": [
        "#Этаж квартиры\n",
        "data['floor'].hist(bins = 20, range=(0,30),figsize=(10, 5)).set_title('Гистограмма этажей квартиры')\n",
        "plt.xlabel('Этаж')\n",
        "print('Медиана:',data['floor'].median())"
      ]
    },
    {
      "cell_type": "markdown",
      "metadata": {
        "id": "Tqnw3hQoEyZX"
      },
      "source": [
        "Большинство квартир расположены от 1 до 10 этажа, некоторые объекты располагаются в многоэтажных постройках с 15 и более этажами."
      ]
    },
    {
      "cell_type": "code",
      "execution_count": 384,
      "metadata": {
        "scrolled": true,
        "colab": {
          "base_uri": "https://localhost:8080/"
        },
        "id": "sDfbKSkuEyZX",
        "outputId": "087d8567-0cf4-4602-879e-c7de588a2352"
      },
      "outputs": [
        {
          "output_type": "stream",
          "name": "stdout",
          "text": [
            "floor_type\n",
            "Другой       17026\n",
            "Первый        2822\n",
            "Последний     3271\n",
            "Name: floor_type, dtype: int64\n"
          ]
        }
      ],
      "source": [
        "#Тип этажа квартиры («первый», «последний», «другой»)\n",
        "print(data.groupby('floor_type')['floor_type'].count())\n"
      ]
    },
    {
      "cell_type": "markdown",
      "metadata": {
        "id": "Bb6JhcbIEyZX"
      },
      "source": [
        "Первый этаж наименее популярен по сравнению с последним и остальными."
      ]
    },
    {
      "cell_type": "code",
      "execution_count": 385,
      "metadata": {
        "colab": {
          "base_uri": "https://localhost:8080/",
          "height": 368
        },
        "id": "vfbd_Jy2EyZX",
        "outputId": "861400df-231a-443a-a937-350a831af980"
      },
      "outputs": [
        {
          "output_type": "stream",
          "name": "stdout",
          "text": [
            "Медиана количества этажей: 9.0\n"
          ]
        },
        {
          "output_type": "display_data",
          "data": {
            "text/plain": [
              "<Figure size 720x360 with 1 Axes>"
            ],
            "image/png": "[encoded data removed]"
          },
          "metadata": {
            "needs_background": "light"
          }
        }
      ],
      "source": [
        "#Общее количество этажей в доме\n",
        "data['floors_total'].hist(bins = 20, range=(0,40),figsize=(10, 5)).set_title('Гистограмма количества этажей здания')\n",
        "plt.xlabel('Количество этажей')\n",
        "print('Медиана количества этажей:',data['floors_total'].median())"
      ]
    },
    {
      "cell_type": "markdown",
      "metadata": {
        "id": "G19tWxBfEyZX"
      },
      "source": [
        "Большее количество квартир располагаются в пяти- и десятиэтажках, далее количество многоэтажных зданий уменьшается."
      ]
    },
    {
      "cell_type": "code",
      "execution_count": 386,
      "metadata": {
        "colab": {
          "base_uri": "https://localhost:8080/",
          "height": 368
        },
        "id": "6OgMi7H_EyZX",
        "outputId": "4aed87f7-d29d-4e09-cf5a-23fe3f8bc627"
      },
      "outputs": [
        {
          "output_type": "stream",
          "name": "stdout",
          "text": [
            "Медиана расстояния до центра города в метрах: 13107.0\n"
          ]
        },
        {
          "output_type": "display_data",
          "data": {
            "text/plain": [
              "<Figure size 720x360 with 1 Axes>"
            ],
            "image/png": "[encoded data removed]"
          },
          "metadata": {
            "needs_background": "light"
          }
        }
      ],
      "source": [
        "#Расстояние до центра города в метрах\n",
        "data['cityCenters_nearest'].hist(bins = 20,figsize=(10, 5)).set_title('Гистограмма расстояния до центра города')\n",
        "plt.xlabel('Расстояние до центра, m')\n",
        "print('Медиана расстояния до центра города в метрах:',data['cityCenters_nearest'].median())"
      ]
    },
    {
      "cell_type": "markdown",
      "metadata": {
        "id": "SfOLgZy7EyZY"
      },
      "source": [
        "Большинство квартир находятся на расстоянии более 10км от центра, чем ближе к центру квартира, тем она дороже."
      ]
    },
    {
      "cell_type": "code",
      "execution_count": 387,
      "metadata": {
        "colab": {
          "base_uri": "https://localhost:8080/",
          "height": 368
        },
        "id": "XL52i1upEyZY",
        "outputId": "ba62fb92-578f-48e4-af8a-e4b5345c2a29"
      },
      "outputs": [
        {
          "output_type": "stream",
          "name": "stdout",
          "text": [
            "Медиана расстояния до ближайшего аэропорта: 26729.0\n"
          ]
        },
        {
          "output_type": "display_data",
          "data": {
            "text/plain": [
              "<Figure size 720x360 with 1 Axes>"
            ],
            "image/png": "[encoded data removed]"
          },
          "metadata": {
            "needs_background": "light"
          }
        }
      ],
      "source": [
        "#Расстояние до ближайшего аэропорта\n",
        "data['airports_nearest'].hist(bins = 20,figsize=(10, 5)).set_title('Гистограмма расстояния до аэропорта')\n",
        "plt.xlabel('Расстояние до аэропорта, m')\n",
        "print('Медиана расстояния до ближайшего аэропорта:',data['airports_nearest'].median())"
      ]
    },
    {
      "cell_type": "markdown",
      "metadata": {
        "id": "c7nBQ98DEyZY"
      },
      "source": [
        "Рядом с аэропортом практически нет квартир, все они удалены на расстояние от 10 до 60км от него."
      ]
    },
    {
      "cell_type": "code",
      "execution_count": 388,
      "metadata": {
        "colab": {
          "base_uri": "https://localhost:8080/",
          "height": 368
        },
        "id": "y0sfG1i4EyZY",
        "outputId": "0751c203-6957-4156-acdd-7ba3a930a2c1"
      },
      "outputs": [
        {
          "output_type": "stream",
          "name": "stdout",
          "text": [
            "Медиана расстояния до ближайшего парка: 453.0\n"
          ]
        },
        {
          "output_type": "display_data",
          "data": {
            "text/plain": [
              "<Figure size 720x360 with 1 Axes>"
            ],
            "image/png": "[encoded data removed]"
          },
          "metadata": {
            "needs_background": "light"
          }
        }
      ],
      "source": [
        "#Расстояние до ближайшего парка\n",
        "data['parks_nearest'].hist(bins = 20,figsize=(10, 5)).set_title('Гистограмма расстояния до ближайшего парка')\n",
        "plt.xlabel('Расстояние до парка, m')\n",
        "print('Медиана расстояния до ближайшего парка:',data['parks_nearest'].median())"
      ]
    },
    {
      "cell_type": "markdown",
      "metadata": {
        "id": "y-PyQrNOEyZZ"
      },
      "source": [
        "Рядом почти со всеми предложениями находится парк, до 1км, но встречаются и варианты, где расстояние до парка составляет два и более километра."
      ]
    },
    {
      "cell_type": "code",
      "execution_count": 389,
      "metadata": {
        "scrolled": false,
        "colab": {
          "base_uri": "https://localhost:8080/",
          "height": 446
        },
        "id": "vJtLrl8_EyZZ",
        "outputId": "2af5701e-8e28-4f2e-ee32-c306abd7b8d4"
      },
      "outputs": [
        {
          "output_type": "display_data",
          "data": {
            "text/plain": [
              "day\n",
              "Воскресенье    1670\n",
              "Суббота        1886\n",
              "Понедельник    3528\n",
              "Среда          3883\n",
              "Пятница        3890\n",
              "Вторник        4082\n",
              "Четверг        4180\n",
              "Name: floor_type, dtype: int64"
            ]
          },
          "metadata": {}
        },
        {
          "output_type": "stream",
          "name": "stdout",
          "text": [
            "------\n"
          ]
        },
        {
          "output_type": "display_data",
          "data": {
            "text/plain": [
              "month\n",
              "May          1250\n",
              "January      1467\n",
              "December     1596\n",
              "July         1651\n",
              "August       1693\n",
              "June         1731\n",
              "September    1912\n",
              "October      2062\n",
              "November     2304\n",
              "April        2335\n",
              "March        2535\n",
              "February     2583\n",
              "Name: floor_type, dtype: int64"
            ]
          },
          "metadata": {}
        }
      ],
      "source": [
        "#День и месяц публикации объявления;\n",
        "display(data.groupby('day')['floor_type'].count().sort_values())\n",
        "print('------')\n",
        "display(data.groupby('month')['floor_type'].count().sort_values())"
      ]
    },
    {
      "cell_type": "markdown",
      "metadata": {
        "id": "qYjsIJ_nEyZZ"
      },
      "source": [
        "Наибольшее количество объявлений запощено во вторник, пятницу и четверг, \n",
        "воскресенье и суббота - самые неактивные дни для объявлений\n",
        "Апрель, Февраль, Март и Ноябрь - самые частые месяцы для объявлений"
      ]
    },
    {
      "cell_type": "markdown",
      "source": [
        "## Скаттеры"
      ],
      "metadata": {
        "id": "dcY4nUr5VlBa"
      }
    },
    {
      "cell_type": "code",
      "execution_count": 390,
      "metadata": {
        "colab": {
          "base_uri": "https://localhost:8080/",
          "height": 424
        },
        "id": "xaRZkjfvEyZa",
        "outputId": "2e0453f1-7234-4560-ead4-11cd5286f501"
      },
      "outputs": [
        {
          "output_type": "stream",
          "name": "stdout",
          "text": [
            "Корреляция: 0.64\n"
          ]
        },
        {
          "output_type": "stream",
          "name": "stderr",
          "text": [
            "/usr/local/lib/python3.9/dist-packages/pandas/plotting/_matplotlib/core.py:1114: UserWarning: No data for colormapping provided via 'c'. Parameters 'cmap' will be ignored\n",
            "  scatter = ax.scatter(\n"
          ]
        },
        {
          "output_type": "display_data",
          "data": {
            "text/plain": [
              "<Figure size 720x360 with 1 Axes>"
            ],
            "image/png": "[encoded data removed]"
          },
          "metadata": {
            "needs_background": "light"
          }
        }
      ],
      "source": [
        "#Влияет ли общая площадь на цену\n",
        "print('Корреляция: %.2f'%data['last_price'].corr(data['total_area']))\n",
        "data.plot(x='total_area', y='last_price', kind = 'scatter',ylabel='руб',\\\n",
        "          figsize=(10,5),title='Корреляция общей площади и цены за объект',xlabel='m²');"
      ]
    },
    {
      "cell_type": "markdown",
      "metadata": {
        "id": "VmnFNyJaEyZa"
      },
      "source": [
        "Общая площадь является самым влияющим фактором, с увеличением площади увеличивается и цена квартиры"
      ]
    },
    {
      "cell_type": "code",
      "execution_count": 391,
      "metadata": {
        "colab": {
          "base_uri": "https://localhost:8080/",
          "height": 368
        },
        "id": "6iw4Ie91EyZb",
        "outputId": "1c351784-c88d-4ef1-c3cb-a18b7640e3de"
      },
      "outputs": [
        {
          "output_type": "stream",
          "name": "stdout",
          "text": [
            "Корреляция: 0.58\n"
          ]
        },
        {
          "output_type": "display_data",
          "data": {
            "text/plain": [
              "<Figure size 720x360 with 1 Axes>"
            ],
            "image/png": "[encoded data removed]"
          },
          "metadata": {
            "needs_background": "light"
          }
        }
      ],
      "source": [
        "#Влияет ли жилая площадь\n",
        "print('Корреляция: %.2f'%data['last_price'].corr(data['living_area']))\n",
        "data.plot(x='living_area', y='last_price', kind = 'scatter',ylabel='руб',\\\n",
        "          figsize=(10,5),title='Корреляция жилой площади и цены за объект',xlabel='m²');"
      ]
    },
    {
      "cell_type": "markdown",
      "metadata": {
        "id": "VzygqHg3EyZb"
      },
      "source": [
        "Жилая площадь тоже влияет на цену, но в меньшей степени"
      ]
    },
    {
      "cell_type": "code",
      "execution_count": 392,
      "metadata": {
        "colab": {
          "base_uri": "https://localhost:8080/",
          "height": 368
        },
        "id": "CMcyoyqHEyZc",
        "outputId": "5c13b5bf-cab3-4b26-862a-8f6b2d018fd2"
      },
      "outputs": [
        {
          "output_type": "stream",
          "name": "stdout",
          "text": [
            "Корреляция: 0.51\n"
          ]
        },
        {
          "output_type": "display_data",
          "data": {
            "text/plain": [
              "<Figure size 720x360 with 1 Axes>"
            ],
            "image/png": "[encoded data removed]"
          },
          "metadata": {
            "needs_background": "light"
          }
        }
      ],
      "source": [
        "#Влияет ли площадь кухни\n",
        "print('Корреляция: %.2f'%data['last_price'].corr(data['kitchen_area']))\n",
        "data.plot(x='kitchen_area', y='last_price', kind = 'scatter',ylabel='руб',\\\n",
        "          figsize=(10,5),title='Корреляция площади квартиры и цены за объект',xlabel='m²');"
      ]
    },
    {
      "cell_type": "markdown",
      "metadata": {
        "id": "w6xWR_QjEyZc"
      },
      "source": [
        "Площадь кухни влияет меньше остальных площадей квартиры"
      ]
    },
    {
      "cell_type": "markdown",
      "source": [
        "## Продолжение анализа"
      ],
      "metadata": {
        "id": "4toZzUecX5Ax"
      }
    },
    {
      "cell_type": "code",
      "execution_count": 393,
      "metadata": {
        "colab": {
          "base_uri": "https://localhost:8080/",
          "height": 969
        },
        "id": "_kPeI0dAEyZd",
        "outputId": "b5acb123-568a-4381-b1c0-efa8c2bbb854"
      },
      "outputs": [
        {
          "output_type": "stream",
          "name": "stdout",
          "text": [
            "Корреляция: 0.37\n"
          ]
        },
        {
          "output_type": "display_data",
          "data": {
            "text/plain": [
              "         last_price\n",
              "rooms              \n",
              "1      3.810713e+06\n",
              "2      5.516448e+06\n",
              "3      8.077167e+06\n",
              "4      1.312412e+07\n",
              "5      2.215357e+07\n",
              "6      3.155172e+07\n",
              "7      4.498479e+07\n",
              "8      4.977900e+07\n",
              "9      3.189286e+07\n",
              "10     2.616667e+07\n",
              "11     2.525000e+07\n",
              "14     2.682950e+07\n",
              "15     6.500000e+07\n",
              "16     2.850000e+07\n",
              "19     3.225000e+07"
            ],
            "text/html": [
              "\n",
              "  <div id=\"df-197e4131-00b6-4ee3-9725-edcab25815a4\">\n",
              "    <div class=\"colab-df-container\">\n",
              "      <div>\n",
              "<style scoped>\n",
              "    .dataframe tbody tr th:only-of-type {\n",
              "        vertical-align: middle;\n",
              "    }\n",
              "\n",
              "    .dataframe tbody tr th {\n",
              "        vertical-align: top;\n",
              "    }\n",
              "\n",
              "    .dataframe thead th {\n",
              "        text-align: right;\n",
              "    }\n",
              "</style>\n",
              "<table border=\"1\" class=\"dataframe\">\n",
              "  <thead>\n",
              "    <tr style=\"text-align: right;\">\n",
              "      <th></th>\n",
              "      <th>last_price</th>\n",
              "    </tr>\n",
              "    <tr>\n",
              "      <th>rooms</th>\n",
              "      <th></th>\n",
              "    </tr>\n",
              "  </thead>\n",
              "  <tbody>\n",
              "    <tr>\n",
              "      <th>1</th>\n",
              "      <td>3.810713e+06</td>\n",
              "    </tr>\n",
              "    <tr>\n",
              "      <th>2</th>\n",
              "      <td>5.516448e+06</td>\n",
              "    </tr>\n",
              "    <tr>\n",
              "      <th>3</th>\n",
              "      <td>8.077167e+06</td>\n",
              "    </tr>\n",
              "    <tr>\n",
              "      <th>4</th>\n",
              "      <td>1.312412e+07</td>\n",
              "    </tr>\n",
              "    <tr>\n",
              "      <th>5</th>\n",
              "      <td>2.215357e+07</td>\n",
              "    </tr>\n",
              "    <tr>\n",
              "      <th>6</th>\n",
              "      <td>3.155172e+07</td>\n",
              "    </tr>\n",
              "    <tr>\n",
              "      <th>7</th>\n",
              "      <td>4.498479e+07</td>\n",
              "    </tr>\n",
              "    <tr>\n",
              "      <th>8</th>\n",
              "      <td>4.977900e+07</td>\n",
              "    </tr>\n",
              "    <tr>\n",
              "      <th>9</th>\n",
              "      <td>3.189286e+07</td>\n",
              "    </tr>\n",
              "    <tr>\n",
              "      <th>10</th>\n",
              "      <td>2.616667e+07</td>\n",
              "    </tr>\n",
              "    <tr>\n",
              "      <th>11</th>\n",
              "      <td>2.525000e+07</td>\n",
              "    </tr>\n",
              "    <tr>\n",
              "      <th>14</th>\n",
              "      <td>2.682950e+07</td>\n",
              "    </tr>\n",
              "    <tr>\n",
              "      <th>15</th>\n",
              "      <td>6.500000e+07</td>\n",
              "    </tr>\n",
              "    <tr>\n",
              "      <th>16</th>\n",
              "      <td>2.850000e+07</td>\n",
              "    </tr>\n",
              "    <tr>\n",
              "      <th>19</th>\n",
              "      <td>3.225000e+07</td>\n",
              "    </tr>\n",
              "  </tbody>\n",
              "</table>\n",
              "</div>\n",
              "      <button class=\"colab-df-convert\" onclick=\"convertToInteractive('df-197e4131-00b6-4ee3-9725-edcab25815a4')\"\n",
              "              title=\"Convert this dataframe to an interactive table.\"\n",
              "              style=\"display:none;\">\n",
              "        \n",
              "  <svg xmlns=\"http://www.w3.org/2000/svg\" height=\"24px\"viewBox=\"0 0 24 24\"\n",
              "       width=\"24px\">\n",
              "    <path d=\"M0 0h24v24H0V0z\" fill=\"none\"/>\n",
              "    <path d=\"M18.56 5.44l.94 2.06.94-2.06 2.06-.94-2.06-.94-.94-2.06-.94 2.06-2.06.94zm-11 1L8.5 8.5l.94-2.06 2.06-.94-2.06-.94L8.5 2.5l-.94 2.06-2.06.94zm10 10l.94 2.06.94-2.06 2.06-.94-2.06-.94-.94-2.06-.94 2.06-2.06.94z\"/><path d=\"M17.41 7.96l-1.37-1.37c-.4-.4-.92-.59-1.43-.59-.52 0-1.04.2-1.43.59L10.3 9.45l-7.72 7.72c-.78.78-.78 2.05 0 2.83L4 21.41c.39.39.9.59 1.41.59.51 0 1.02-.2 1.41-.59l7.78-7.78 2.81-2.81c.8-.78.8-2.07 0-2.86zM5.41 20L4 18.59l7.72-7.72 1.47 1.35L5.41 20z\"/>\n",
              "  </svg>\n",
              "      </button>\n",
              "      \n",
              "  <style>\n",
              "    .colab-df-container {\n",
              "      display:flex;\n",
              "      flex-wrap:wrap;\n",
              "      gap: 12px;\n",
              "    }\n",
              "\n",
              "    .colab-df-convert {\n",
              "      background-color: #E8F0FE;\n",
              "      border: none;\n",
              "      border-radius: 50%;\n",
              "      cursor: pointer;\n",
              "      display: none;\n",
              "      fill: #1967D2;\n",
              "      height: 32px;\n",
              "      padding: 0 0 0 0;\n",
              "      width: 32px;\n",
              "    }\n",
              "\n",
              "    .colab-df-convert:hover {\n",
              "      background-color: #E2EBFA;\n",
              "      box-shadow: 0px 1px 2px rgba(60, 64, 67, 0.3), 0px 1px 3px 1px rgba(60, 64, 67, 0.15);\n",
              "      fill: #174EA6;\n",
              "    }\n",
              "\n",
              "    [theme=dark] .colab-df-convert {\n",
              "      background-color: #3B4455;\n",
              "      fill: #D2E3FC;\n",
              "    }\n",
              "\n",
              "    [theme=dark] .colab-df-convert:hover {\n",
              "      background-color: #434B5C;\n",
              "      box-shadow: 0px 1px 3px 1px rgba(0, 0, 0, 0.15);\n",
              "      filter: drop-shadow(0px 1px 2px rgba(0, 0, 0, 0.3));\n",
              "      fill: #FFFFFF;\n",
              "    }\n",
              "  </style>\n",
              "\n",
              "      <script>\n",
              "        const buttonEl =\n",
              "          document.querySelector('#df-197e4131-00b6-4ee3-9725-edcab25815a4 button.colab-df-convert');\n",
              "        buttonEl.style.display =\n",
              "          google.colab.kernel.accessAllowed ? 'block' : 'none';\n",
              "\n",
              "        async function convertToInteractive(key) {\n",
              "          const element = document.querySelector('#df-197e4131-00b6-4ee3-9725-edcab25815a4');\n",
              "          const dataTable =\n",
              "            await google.colab.kernel.invokeFunction('convertToInteractive',\n",
              "                                                     [key], {});\n",
              "          if (!dataTable) return;\n",
              "\n",
              "          const docLinkHtml = 'Like what you see? Visit the ' +\n",
              "            '<a target=\"_blank\" href=https://colab.research.google.com/notebooks/data_table.ipynb>data table notebook</a>'\n",
              "            + ' to learn more about interactive tables.';\n",
              "          element.innerHTML = '';\n",
              "          dataTable['output_type'] = 'display_data';\n",
              "          await google.colab.output.renderOutput(dataTable, element);\n",
              "          const docLink = document.createElement('div');\n",
              "          docLink.innerHTML = docLinkHtml;\n",
              "          element.appendChild(docLink);\n",
              "        }\n",
              "      </script>\n",
              "    </div>\n",
              "  </div>\n",
              "  "
            ]
          },
          "metadata": {}
        },
        {
          "output_type": "stream",
          "name": "stdout",
          "text": [
            "Axes(0.125,0.125;0.775x0.755)\n"
          ]
        },
        {
          "output_type": "display_data",
          "data": {
            "text/plain": [
              "<Figure size 720x432 with 1 Axes>"
            ],
            "image/png": "[encoded data removed]"
          },
          "metadata": {
            "needs_background": "light"
          }
        }
      ],
      "source": [
        "#Влияние количества комнат на цену\n",
        "print('Корреляция: %.2f'%data['last_price'].corr(data['rooms']))\n",
        "display(data\n",
        "    .pivot_table(index = 'rooms',values='last_price'))\n",
        "print(data\n",
        "    .pivot_table(index = 'rooms',values='last_price')\n",
        "    .plot(grid=True, figsize=(10,6),title='',xlabel='Количество комнат',ylabel='Цена,млн',legend=False));"
      ]
    },
    {
      "cell_type": "markdown",
      "metadata": {
        "id": "gpxj3U-4EyZd"
      },
      "source": [
        "С увеличением комнат увеличивается и цена квартиры"
      ]
    },
    {
      "cell_type": "code",
      "execution_count": 394,
      "metadata": {
        "colab": {
          "base_uri": "https://localhost:8080/",
          "height": 228
        },
        "id": "CD-99SRpEyZd",
        "outputId": "1b049826-b2b6-4005-dfe9-2b6987da6b52"
      },
      "outputs": [
        {
          "output_type": "display_data",
          "data": {
            "text/plain": [
              "              last_price\n",
              "floor_type              \n",
              "Другой      6.616438e+06\n",
              "Первый      4.749129e+06\n",
              "Последний   6.737604e+06"
            ],
            "text/html": [
              "\n",
              "  <div id=\"df-3d5fc1ea-8408-4e57-a8b4-8fbf065d7852\">\n",
              "    <div class=\"colab-df-container\">\n",
              "      <div>\n",
              "<style scoped>\n",
              "    .dataframe tbody tr th:only-of-type {\n",
              "        vertical-align: middle;\n",
              "    }\n",
              "\n",
              "    .dataframe tbody tr th {\n",
              "        vertical-align: top;\n",
              "    }\n",
              "\n",
              "    .dataframe thead th {\n",
              "        text-align: right;\n",
              "    }\n",
              "</style>\n",
              "<table border=\"1\" class=\"dataframe\">\n",
              "  <thead>\n",
              "    <tr style=\"text-align: right;\">\n",
              "      <th></th>\n",
              "      <th>last_price</th>\n",
              "    </tr>\n",
              "    <tr>\n",
              "      <th>floor_type</th>\n",
              "      <th></th>\n",
              "    </tr>\n",
              "  </thead>\n",
              "  <tbody>\n",
              "    <tr>\n",
              "      <th>Другой</th>\n",
              "      <td>6.616438e+06</td>\n",
              "    </tr>\n",
              "    <tr>\n",
              "      <th>Первый</th>\n",
              "      <td>4.749129e+06</td>\n",
              "    </tr>\n",
              "    <tr>\n",
              "      <th>Последний</th>\n",
              "      <td>6.737604e+06</td>\n",
              "    </tr>\n",
              "  </tbody>\n",
              "</table>\n",
              "</div>\n",
              "      <button class=\"colab-df-convert\" onclick=\"convertToInteractive('df-3d5fc1ea-8408-4e57-a8b4-8fbf065d7852')\"\n",
              "              title=\"Convert this dataframe to an interactive table.\"\n",
              "              style=\"display:none;\">\n",
              "        \n",
              "  <svg xmlns=\"http://www.w3.org/2000/svg\" height=\"24px\"viewBox=\"0 0 24 24\"\n",
              "       width=\"24px\">\n",
              "    <path d=\"M0 0h24v24H0V0z\" fill=\"none\"/>\n",
              "    <path d=\"M18.56 5.44l.94 2.06.94-2.06 2.06-.94-2.06-.94-.94-2.06-.94 2.06-2.06.94zm-11 1L8.5 8.5l.94-2.06 2.06-.94-2.06-.94L8.5 2.5l-.94 2.06-2.06.94zm10 10l.94 2.06.94-2.06 2.06-.94-2.06-.94-.94-2.06-.94 2.06-2.06.94z\"/><path d=\"M17.41 7.96l-1.37-1.37c-.4-.4-.92-.59-1.43-.59-.52 0-1.04.2-1.43.59L10.3 9.45l-7.72 7.72c-.78.78-.78 2.05 0 2.83L4 21.41c.39.39.9.59 1.41.59.51 0 1.02-.2 1.41-.59l7.78-7.78 2.81-2.81c.8-.78.8-2.07 0-2.86zM5.41 20L4 18.59l7.72-7.72 1.47 1.35L5.41 20z\"/>\n",
              "  </svg>\n",
              "      </button>\n",
              "      \n",
              "  <style>\n",
              "    .colab-df-container {\n",
              "      display:flex;\n",
              "      flex-wrap:wrap;\n",
              "      gap: 12px;\n",
              "    }\n",
              "\n",
              "    .colab-df-convert {\n",
              "      background-color: #E8F0FE;\n",
              "      border: none;\n",
              "      border-radius: 50%;\n",
              "      cursor: pointer;\n",
              "      display: none;\n",
              "      fill: #1967D2;\n",
              "      height: 32px;\n",
              "      padding: 0 0 0 0;\n",
              "      width: 32px;\n",
              "    }\n",
              "\n",
              "    .colab-df-convert:hover {\n",
              "      background-color: #E2EBFA;\n",
              "      box-shadow: 0px 1px 2px rgba(60, 64, 67, 0.3), 0px 1px 3px 1px rgba(60, 64, 67, 0.15);\n",
              "      fill: #174EA6;\n",
              "    }\n",
              "\n",
              "    [theme=dark] .colab-df-convert {\n",
              "      background-color: #3B4455;\n",
              "      fill: #D2E3FC;\n",
              "    }\n",
              "\n",
              "    [theme=dark] .colab-df-convert:hover {\n",
              "      background-color: #434B5C;\n",
              "      box-shadow: 0px 1px 3px 1px rgba(0, 0, 0, 0.15);\n",
              "      filter: drop-shadow(0px 1px 2px rgba(0, 0, 0, 0.3));\n",
              "      fill: #FFFFFF;\n",
              "    }\n",
              "  </style>\n",
              "\n",
              "      <script>\n",
              "        const buttonEl =\n",
              "          document.querySelector('#df-3d5fc1ea-8408-4e57-a8b4-8fbf065d7852 button.colab-df-convert');\n",
              "        buttonEl.style.display =\n",
              "          google.colab.kernel.accessAllowed ? 'block' : 'none';\n",
              "\n",
              "        async function convertToInteractive(key) {\n",
              "          const element = document.querySelector('#df-3d5fc1ea-8408-4e57-a8b4-8fbf065d7852');\n",
              "          const dataTable =\n",
              "            await google.colab.kernel.invokeFunction('convertToInteractive',\n",
              "                                                     [key], {});\n",
              "          if (!dataTable) return;\n",
              "\n",
              "          const docLinkHtml = 'Like what you see? Visit the ' +\n",
              "            '<a target=\"_blank\" href=https://colab.research.google.com/notebooks/data_table.ipynb>data table notebook</a>'\n",
              "            + ' to learn more about interactive tables.';\n",
              "          element.innerHTML = '';\n",
              "          dataTable['output_type'] = 'display_data';\n",
              "          await google.colab.output.renderOutput(dataTable, element);\n",
              "          const docLink = document.createElement('div');\n",
              "          docLink.innerHTML = docLinkHtml;\n",
              "          element.appendChild(docLink);\n",
              "        }\n",
              "      </script>\n",
              "    </div>\n",
              "  </div>\n",
              "  "
            ]
          },
          "metadata": {}
        },
        {
          "output_type": "stream",
          "name": "stdout",
          "text": [
            "Средняя цена квартиры на последнем этаже: 6737604\n",
            "Средняя цена квартиры на первом этаже: 4749129\n",
            "Средняя цена квартиры на другом этаже: 6616438\n"
          ]
        }
      ],
      "source": [
        "#Влияние этажа на цену\n",
        "display(data.pivot_table(index = 'floor_type',values='last_price'))\n",
        "print('Средняя цена квартиры на последнем этаже: %.0f'%data.query('floor_type == \"Последний\"')['last_price'].mean())\n",
        "print('Средняя цена квартиры на первом этаже: %.0f'%data.query('floor_type == \"Первый\"')['last_price'].mean())\n",
        "print('Средняя цена квартиры на другом этаже: %.0f'%data.query('floor_type == \"Другой\"')['last_price'].mean())"
      ]
    },
    {
      "cell_type": "markdown",
      "metadata": {
        "id": "OFEIUawKEyZe"
      },
      "source": [
        "Квартиры ценятся больше всего не на первом или последнем этажах, менее всего - на первом."
      ]
    },
    {
      "cell_type": "code",
      "execution_count": 395,
      "metadata": {
        "scrolled": true,
        "colab": {
          "base_uri": "https://localhost:8080/",
          "height": 612
        },
        "id": "9Nyo7XkAEyZe",
        "outputId": "95a9c978-4a84-4fa7-d81e-1c74e8760b8c"
      },
      "outputs": [
        {
          "output_type": "display_data",
          "data": {
            "text/plain": [
              "               last_price\n",
              "day                      \n",
              "Воскресенье  6.131821e+06\n",
              "Вторник      6.256233e+06\n",
              "Понедельник  6.376186e+06\n",
              "Пятница      6.341999e+06\n",
              "Среда        6.440708e+06\n",
              "Суббота      6.683341e+06\n",
              "Четверг      6.587204e+06"
            ],
            "text/html": [
              "\n",
              "  <div id=\"df-f56b5ec8-04e7-4cee-9f35-e53863f0983d\">\n",
              "    <div class=\"colab-df-container\">\n",
              "      <div>\n",
              "<style scoped>\n",
              "    .dataframe tbody tr th:only-of-type {\n",
              "        vertical-align: middle;\n",
              "    }\n",
              "\n",
              "    .dataframe tbody tr th {\n",
              "        vertical-align: top;\n",
              "    }\n",
              "\n",
              "    .dataframe thead th {\n",
              "        text-align: right;\n",
              "    }\n",
              "</style>\n",
              "<table border=\"1\" class=\"dataframe\">\n",
              "  <thead>\n",
              "    <tr style=\"text-align: right;\">\n",
              "      <th></th>\n",
              "      <th>last_price</th>\n",
              "    </tr>\n",
              "    <tr>\n",
              "      <th>day</th>\n",
              "      <th></th>\n",
              "    </tr>\n",
              "  </thead>\n",
              "  <tbody>\n",
              "    <tr>\n",
              "      <th>Воскресенье</th>\n",
              "      <td>6.131821e+06</td>\n",
              "    </tr>\n",
              "    <tr>\n",
              "      <th>Вторник</th>\n",
              "      <td>6.256233e+06</td>\n",
              "    </tr>\n",
              "    <tr>\n",
              "      <th>Понедельник</th>\n",
              "      <td>6.376186e+06</td>\n",
              "    </tr>\n",
              "    <tr>\n",
              "      <th>Пятница</th>\n",
              "      <td>6.341999e+06</td>\n",
              "    </tr>\n",
              "    <tr>\n",
              "      <th>Среда</th>\n",
              "      <td>6.440708e+06</td>\n",
              "    </tr>\n",
              "    <tr>\n",
              "      <th>Суббота</th>\n",
              "      <td>6.683341e+06</td>\n",
              "    </tr>\n",
              "    <tr>\n",
              "      <th>Четверг</th>\n",
              "      <td>6.587204e+06</td>\n",
              "    </tr>\n",
              "  </tbody>\n",
              "</table>\n",
              "</div>\n",
              "      <button class=\"colab-df-convert\" onclick=\"convertToInteractive('df-f56b5ec8-04e7-4cee-9f35-e53863f0983d')\"\n",
              "              title=\"Convert this dataframe to an interactive table.\"\n",
              "              style=\"display:none;\">\n",
              "        \n",
              "  <svg xmlns=\"http://www.w3.org/2000/svg\" height=\"24px\"viewBox=\"0 0 24 24\"\n",
              "       width=\"24px\">\n",
              "    <path d=\"M0 0h24v24H0V0z\" fill=\"none\"/>\n",
              "    <path d=\"M18.56 5.44l.94 2.06.94-2.06 2.06-.94-2.06-.94-.94-2.06-.94 2.06-2.06.94zm-11 1L8.5 8.5l.94-2.06 2.06-.94-2.06-.94L8.5 2.5l-.94 2.06-2.06.94zm10 10l.94 2.06.94-2.06 2.06-.94-2.06-.94-.94-2.06-.94 2.06-2.06.94z\"/><path d=\"M17.41 7.96l-1.37-1.37c-.4-.4-.92-.59-1.43-.59-.52 0-1.04.2-1.43.59L10.3 9.45l-7.72 7.72c-.78.78-.78 2.05 0 2.83L4 21.41c.39.39.9.59 1.41.59.51 0 1.02-.2 1.41-.59l7.78-7.78 2.81-2.81c.8-.78.8-2.07 0-2.86zM5.41 20L4 18.59l7.72-7.72 1.47 1.35L5.41 20z\"/>\n",
              "  </svg>\n",
              "      </button>\n",
              "      \n",
              "  <style>\n",
              "    .colab-df-container {\n",
              "      display:flex;\n",
              "      flex-wrap:wrap;\n",
              "      gap: 12px;\n",
              "    }\n",
              "\n",
              "    .colab-df-convert {\n",
              "      background-color: #E8F0FE;\n",
              "      border: none;\n",
              "      border-radius: 50%;\n",
              "      cursor: pointer;\n",
              "      display: none;\n",
              "      fill: #1967D2;\n",
              "      height: 32px;\n",
              "      padding: 0 0 0 0;\n",
              "      width: 32px;\n",
              "    }\n",
              "\n",
              "    .colab-df-convert:hover {\n",
              "      background-color: #E2EBFA;\n",
              "      box-shadow: 0px 1px 2px rgba(60, 64, 67, 0.3), 0px 1px 3px 1px rgba(60, 64, 67, 0.15);\n",
              "      fill: #174EA6;\n",
              "    }\n",
              "\n",
              "    [theme=dark] .colab-df-convert {\n",
              "      background-color: #3B4455;\n",
              "      fill: #D2E3FC;\n",
              "    }\n",
              "\n",
              "    [theme=dark] .colab-df-convert:hover {\n",
              "      background-color: #434B5C;\n",
              "      box-shadow: 0px 1px 3px 1px rgba(0, 0, 0, 0.15);\n",
              "      filter: drop-shadow(0px 1px 2px rgba(0, 0, 0, 0.3));\n",
              "      fill: #FFFFFF;\n",
              "    }\n",
              "  </style>\n",
              "\n",
              "      <script>\n",
              "        const buttonEl =\n",
              "          document.querySelector('#df-f56b5ec8-04e7-4cee-9f35-e53863f0983d button.colab-df-convert');\n",
              "        buttonEl.style.display =\n",
              "          google.colab.kernel.accessAllowed ? 'block' : 'none';\n",
              "\n",
              "        async function convertToInteractive(key) {\n",
              "          const element = document.querySelector('#df-f56b5ec8-04e7-4cee-9f35-e53863f0983d');\n",
              "          const dataTable =\n",
              "            await google.colab.kernel.invokeFunction('convertToInteractive',\n",
              "                                                     [key], {});\n",
              "          if (!dataTable) return;\n",
              "\n",
              "          const docLinkHtml = 'Like what you see? Visit the ' +\n",
              "            '<a target=\"_blank\" href=https://colab.research.google.com/notebooks/data_table.ipynb>data table notebook</a>'\n",
              "            + ' to learn more about interactive tables.';\n",
              "          element.innerHTML = '';\n",
              "          dataTable['output_type'] = 'display_data';\n",
              "          await google.colab.output.renderOutput(dataTable, element);\n",
              "          const docLink = document.createElement('div');\n",
              "          docLink.innerHTML = docLinkHtml;\n",
              "          element.appendChild(docLink);\n",
              "        }\n",
              "      </script>\n",
              "    </div>\n",
              "  </div>\n",
              "  "
            ]
          },
          "metadata": {}
        },
        {
          "output_type": "display_data",
          "data": {
            "text/plain": [
              "<Figure size 432x288 with 1 Axes>"
            ],
            "image/png": "[encoded data removed]"
          },
          "metadata": {
            "needs_background": "light"
          }
        }
      ],
      "source": [
        "#Влияние дня недели на цену\n",
        "x=data.pivot_table(index = 'day',values='last_price')\n",
        "display(x)\n",
        "x.plot(kind='bar',title='Влияние дня недели на цену',xlabel='День недели',ylabel='Цена,млн',ylim=5500000,legend=False)\n",
        "plt.xticks(rotation = 30);"
      ]
    },
    {
      "cell_type": "code",
      "source": [
        "#Влияние месяца на цену\n",
        "x=data.pivot_table(index = 'month',values='last_price')\n",
        "display(x)\n",
        "x.plot(kind='bar',title='Влияние месяца на цену',xlabel='Месяц',ylabel='Цена,млн',ylim=5500000,legend=False)\n",
        "plt.xticks(rotation = 30);"
      ],
      "metadata": {
        "colab": {
          "base_uri": "https://localhost:8080/",
          "height": 761
        },
        "id": "2D-vE6G5arQ8",
        "outputId": "703f0a31-7d00-4d22-edd9-552d70102a69"
      },
      "execution_count": 396,
      "outputs": [
        {
          "output_type": "display_data",
          "data": {
            "text/plain": [
              "             last_price\n",
              "month                  \n",
              "April      6.639205e+06\n",
              "August     6.319367e+06\n",
              "December   6.492935e+06\n",
              "February   6.296402e+06\n",
              "January    6.639886e+06\n",
              "July       6.601193e+06\n",
              "June       6.134091e+06\n",
              "March      6.199553e+06\n",
              "May        6.607800e+06\n",
              "November   6.346789e+06\n",
              "October    6.144311e+06\n",
              "September  6.662691e+06"
            ],
            "text/html": [
              "\n",
              "  <div id=\"df-cf2dfa63-74ff-4715-8543-c56db56f0513\">\n",
              "    <div class=\"colab-df-container\">\n",
              "      <div>\n",
              "<style scoped>\n",
              "    .dataframe tbody tr th:only-of-type {\n",
              "        vertical-align: middle;\n",
              "    }\n",
              "\n",
              "    .dataframe tbody tr th {\n",
              "        vertical-align: top;\n",
              "    }\n",
              "\n",
              "    .dataframe thead th {\n",
              "        text-align: right;\n",
              "    }\n",
              "</style>\n",
              "<table border=\"1\" class=\"dataframe\">\n",
              "  <thead>\n",
              "    <tr style=\"text-align: right;\">\n",
              "      <th></th>\n",
              "      <th>last_price</th>\n",
              "    </tr>\n",
              "    <tr>\n",
              "      <th>month</th>\n",
              "      <th></th>\n",
              "    </tr>\n",
              "  </thead>\n",
              "  <tbody>\n",
              "    <tr>\n",
              "      <th>April</th>\n",
              "      <td>6.639205e+06</td>\n",
              "    </tr>\n",
              "    <tr>\n",
              "      <th>August</th>\n",
              "      <td>6.319367e+06</td>\n",
              "    </tr>\n",
              "    <tr>\n",
              "      <th>December</th>\n",
              "      <td>6.492935e+06</td>\n",
              "    </tr>\n",
              "    <tr>\n",
              "      <th>February</th>\n",
              "      <td>6.296402e+06</td>\n",
              "    </tr>\n",
              "    <tr>\n",
              "      <th>January</th>\n",
              "      <td>6.639886e+06</td>\n",
              "    </tr>\n",
              "    <tr>\n",
              "      <th>July</th>\n",
              "      <td>6.601193e+06</td>\n",
              "    </tr>\n",
              "    <tr>\n",
              "      <th>June</th>\n",
              "      <td>6.134091e+06</td>\n",
              "    </tr>\n",
              "    <tr>\n",
              "      <th>March</th>\n",
              "      <td>6.199553e+06</td>\n",
              "    </tr>\n",
              "    <tr>\n",
              "      <th>May</th>\n",
              "      <td>6.607800e+06</td>\n",
              "    </tr>\n",
              "    <tr>\n",
              "      <th>November</th>\n",
              "      <td>6.346789e+06</td>\n",
              "    </tr>\n",
              "    <tr>\n",
              "      <th>October</th>\n",
              "      <td>6.144311e+06</td>\n",
              "    </tr>\n",
              "    <tr>\n",
              "      <th>September</th>\n",
              "      <td>6.662691e+06</td>\n",
              "    </tr>\n",
              "  </tbody>\n",
              "</table>\n",
              "</div>\n",
              "      <button class=\"colab-df-convert\" onclick=\"convertToInteractive('df-cf2dfa63-74ff-4715-8543-c56db56f0513')\"\n",
              "              title=\"Convert this dataframe to an interactive table.\"\n",
              "              style=\"display:none;\">\n",
              "        \n",
              "  <svg xmlns=\"http://www.w3.org/2000/svg\" height=\"24px\"viewBox=\"0 0 24 24\"\n",
              "       width=\"24px\">\n",
              "    <path d=\"M0 0h24v24H0V0z\" fill=\"none\"/>\n",
              "    <path d=\"M18.56 5.44l.94 2.06.94-2.06 2.06-.94-2.06-.94-.94-2.06-.94 2.06-2.06.94zm-11 1L8.5 8.5l.94-2.06 2.06-.94-2.06-.94L8.5 2.5l-.94 2.06-2.06.94zm10 10l.94 2.06.94-2.06 2.06-.94-2.06-.94-.94-2.06-.94 2.06-2.06.94z\"/><path d=\"M17.41 7.96l-1.37-1.37c-.4-.4-.92-.59-1.43-.59-.52 0-1.04.2-1.43.59L10.3 9.45l-7.72 7.72c-.78.78-.78 2.05 0 2.83L4 21.41c.39.39.9.59 1.41.59.51 0 1.02-.2 1.41-.59l7.78-7.78 2.81-2.81c.8-.78.8-2.07 0-2.86zM5.41 20L4 18.59l7.72-7.72 1.47 1.35L5.41 20z\"/>\n",
              "  </svg>\n",
              "      </button>\n",
              "      \n",
              "  <style>\n",
              "    .colab-df-container {\n",
              "      display:flex;\n",
              "      flex-wrap:wrap;\n",
              "      gap: 12px;\n",
              "    }\n",
              "\n",
              "    .colab-df-convert {\n",
              "      background-color: #E8F0FE;\n",
              "      border: none;\n",
              "      border-radius: 50%;\n",
              "      cursor: pointer;\n",
              "      display: none;\n",
              "      fill: #1967D2;\n",
              "      height: 32px;\n",
              "      padding: 0 0 0 0;\n",
              "      width: 32px;\n",
              "    }\n",
              "\n",
              "    .colab-df-convert:hover {\n",
              "      background-color: #E2EBFA;\n",
              "      box-shadow: 0px 1px 2px rgba(60, 64, 67, 0.3), 0px 1px 3px 1px rgba(60, 64, 67, 0.15);\n",
              "      fill: #174EA6;\n",
              "    }\n",
              "\n",
              "    [theme=dark] .colab-df-convert {\n",
              "      background-color: #3B4455;\n",
              "      fill: #D2E3FC;\n",
              "    }\n",
              "\n",
              "    [theme=dark] .colab-df-convert:hover {\n",
              "      background-color: #434B5C;\n",
              "      box-shadow: 0px 1px 3px 1px rgba(0, 0, 0, 0.15);\n",
              "      filter: drop-shadow(0px 1px 2px rgba(0, 0, 0, 0.3));\n",
              "      fill: #FFFFFF;\n",
              "    }\n",
              "  </style>\n",
              "\n",
              "      <script>\n",
              "        const buttonEl =\n",
              "          document.querySelector('#df-cf2dfa63-74ff-4715-8543-c56db56f0513 button.colab-df-convert');\n",
              "        buttonEl.style.display =\n",
              "          google.colab.kernel.accessAllowed ? 'block' : 'none';\n",
              "\n",
              "        async function convertToInteractive(key) {\n",
              "          const element = document.querySelector('#df-cf2dfa63-74ff-4715-8543-c56db56f0513');\n",
              "          const dataTable =\n",
              "            await google.colab.kernel.invokeFunction('convertToInteractive',\n",
              "                                                     [key], {});\n",
              "          if (!dataTable) return;\n",
              "\n",
              "          const docLinkHtml = 'Like what you see? Visit the ' +\n",
              "            '<a target=\"_blank\" href=https://colab.research.google.com/notebooks/data_table.ipynb>data table notebook</a>'\n",
              "            + ' to learn more about interactive tables.';\n",
              "          element.innerHTML = '';\n",
              "          dataTable['output_type'] = 'display_data';\n",
              "          await google.colab.output.renderOutput(dataTable, element);\n",
              "          const docLink = document.createElement('div');\n",
              "          docLink.innerHTML = docLinkHtml;\n",
              "          element.appendChild(docLink);\n",
              "        }\n",
              "      </script>\n",
              "    </div>\n",
              "  </div>\n",
              "  "
            ]
          },
          "metadata": {}
        },
        {
          "output_type": "display_data",
          "data": {
            "text/plain": [
              "<Figure size 432x288 with 1 Axes>"
            ],
            "image/png": "[encoded data removed]"
          },
          "metadata": {
            "needs_background": "light"
          }
        }
      ]
    },
    {
      "cell_type": "code",
      "source": [
        "#Влияние года на цену\n",
        "x=data.pivot_table(index = 'year',values='last_price')\n",
        "display(x)\n",
        "x.plot(kind='bar',title='Влияние года на цену',xlabel='Год',ylabel='Цена,млн',legend=False)\n",
        "plt.xticks(rotation = 30);"
      ],
      "metadata": {
        "colab": {
          "base_uri": "https://localhost:8080/",
          "height": 559
        },
        "id": "K7NgMWEVaxk0",
        "outputId": "c3ecf19a-4814-4c85-f2af-c65281188e58"
      },
      "execution_count": 397,
      "outputs": [
        {
          "output_type": "display_data",
          "data": {
            "text/plain": [
              "        last_price\n",
              "year              \n",
              "2014  1.198467e+07\n",
              "2015  8.298337e+06\n",
              "2016  6.597272e+06\n",
              "2017  6.421356e+06\n",
              "2018  5.901575e+06\n",
              "2019  6.615701e+06"
            ],
            "text/html": [
              "\n",
              "  <div id=\"df-0253ca6c-bad0-4531-8c14-1de38b65a7df\">\n",
              "    <div class=\"colab-df-container\">\n",
              "      <div>\n",
              "<style scoped>\n",
              "    .dataframe tbody tr th:only-of-type {\n",
              "        vertical-align: middle;\n",
              "    }\n",
              "\n",
              "    .dataframe tbody tr th {\n",
              "        vertical-align: top;\n",
              "    }\n",
              "\n",
              "    .dataframe thead th {\n",
              "        text-align: right;\n",
              "    }\n",
              "</style>\n",
              "<table border=\"1\" class=\"dataframe\">\n",
              "  <thead>\n",
              "    <tr style=\"text-align: right;\">\n",
              "      <th></th>\n",
              "      <th>last_price</th>\n",
              "    </tr>\n",
              "    <tr>\n",
              "      <th>year</th>\n",
              "      <th></th>\n",
              "    </tr>\n",
              "  </thead>\n",
              "  <tbody>\n",
              "    <tr>\n",
              "      <th>2014</th>\n",
              "      <td>1.198467e+07</td>\n",
              "    </tr>\n",
              "    <tr>\n",
              "      <th>2015</th>\n",
              "      <td>8.298337e+06</td>\n",
              "    </tr>\n",
              "    <tr>\n",
              "      <th>2016</th>\n",
              "      <td>6.597272e+06</td>\n",
              "    </tr>\n",
              "    <tr>\n",
              "      <th>2017</th>\n",
              "      <td>6.421356e+06</td>\n",
              "    </tr>\n",
              "    <tr>\n",
              "      <th>2018</th>\n",
              "      <td>5.901575e+06</td>\n",
              "    </tr>\n",
              "    <tr>\n",
              "      <th>2019</th>\n",
              "      <td>6.615701e+06</td>\n",
              "    </tr>\n",
              "  </tbody>\n",
              "</table>\n",
              "</div>\n",
              "      <button class=\"colab-df-convert\" onclick=\"convertToInteractive('df-0253ca6c-bad0-4531-8c14-1de38b65a7df')\"\n",
              "              title=\"Convert this dataframe to an interactive table.\"\n",
              "              style=\"display:none;\">\n",
              "        \n",
              "  <svg xmlns=\"http://www.w3.org/2000/svg\" height=\"24px\"viewBox=\"0 0 24 24\"\n",
              "       width=\"24px\">\n",
              "    <path d=\"M0 0h24v24H0V0z\" fill=\"none\"/>\n",
              "    <path d=\"M18.56 5.44l.94 2.06.94-2.06 2.06-.94-2.06-.94-.94-2.06-.94 2.06-2.06.94zm-11 1L8.5 8.5l.94-2.06 2.06-.94-2.06-.94L8.5 2.5l-.94 2.06-2.06.94zm10 10l.94 2.06.94-2.06 2.06-.94-2.06-.94-.94-2.06-.94 2.06-2.06.94z\"/><path d=\"M17.41 7.96l-1.37-1.37c-.4-.4-.92-.59-1.43-.59-.52 0-1.04.2-1.43.59L10.3 9.45l-7.72 7.72c-.78.78-.78 2.05 0 2.83L4 21.41c.39.39.9.59 1.41.59.51 0 1.02-.2 1.41-.59l7.78-7.78 2.81-2.81c.8-.78.8-2.07 0-2.86zM5.41 20L4 18.59l7.72-7.72 1.47 1.35L5.41 20z\"/>\n",
              "  </svg>\n",
              "      </button>\n",
              "      \n",
              "  <style>\n",
              "    .colab-df-container {\n",
              "      display:flex;\n",
              "      flex-wrap:wrap;\n",
              "      gap: 12px;\n",
              "    }\n",
              "\n",
              "    .colab-df-convert {\n",
              "      background-color: #E8F0FE;\n",
              "      border: none;\n",
              "      border-radius: 50%;\n",
              "      cursor: pointer;\n",
              "      display: none;\n",
              "      fill: #1967D2;\n",
              "      height: 32px;\n",
              "      padding: 0 0 0 0;\n",
              "      width: 32px;\n",
              "    }\n",
              "\n",
              "    .colab-df-convert:hover {\n",
              "      background-color: #E2EBFA;\n",
              "      box-shadow: 0px 1px 2px rgba(60, 64, 67, 0.3), 0px 1px 3px 1px rgba(60, 64, 67, 0.15);\n",
              "      fill: #174EA6;\n",
              "    }\n",
              "\n",
              "    [theme=dark] .colab-df-convert {\n",
              "      background-color: #3B4455;\n",
              "      fill: #D2E3FC;\n",
              "    }\n",
              "\n",
              "    [theme=dark] .colab-df-convert:hover {\n",
              "      background-color: #434B5C;\n",
              "      box-shadow: 0px 1px 3px 1px rgba(0, 0, 0, 0.15);\n",
              "      filter: drop-shadow(0px 1px 2px rgba(0, 0, 0, 0.3));\n",
              "      fill: #FFFFFF;\n",
              "    }\n",
              "  </style>\n",
              "\n",
              "      <script>\n",
              "        const buttonEl =\n",
              "          document.querySelector('#df-0253ca6c-bad0-4531-8c14-1de38b65a7df button.colab-df-convert');\n",
              "        buttonEl.style.display =\n",
              "          google.colab.kernel.accessAllowed ? 'block' : 'none';\n",
              "\n",
              "        async function convertToInteractive(key) {\n",
              "          const element = document.querySelector('#df-0253ca6c-bad0-4531-8c14-1de38b65a7df');\n",
              "          const dataTable =\n",
              "            await google.colab.kernel.invokeFunction('convertToInteractive',\n",
              "                                                     [key], {});\n",
              "          if (!dataTable) return;\n",
              "\n",
              "          const docLinkHtml = 'Like what you see? Visit the ' +\n",
              "            '<a target=\"_blank\" href=https://colab.research.google.com/notebooks/data_table.ipynb>data table notebook</a>'\n",
              "            + ' to learn more about interactive tables.';\n",
              "          element.innerHTML = '';\n",
              "          dataTable['output_type'] = 'display_data';\n",
              "          await google.colab.output.renderOutput(dataTable, element);\n",
              "          const docLink = document.createElement('div');\n",
              "          docLink.innerHTML = docLinkHtml;\n",
              "          element.appendChild(docLink);\n",
              "        }\n",
              "      </script>\n",
              "    </div>\n",
              "  </div>\n",
              "  "
            ]
          },
          "metadata": {}
        },
        {
          "output_type": "display_data",
          "data": {
            "text/plain": [
              "<Figure size 432x288 with 1 Axes>"
            ],
            "image/png": "[encoded data removed]"
          },
          "metadata": {
            "needs_background": "light"
          }
        }
      ]
    },
    {
      "cell_type": "markdown",
      "metadata": {
        "id": "4KTRi_JHEyZl"
      },
      "source": [
        "От дня недели и месяца цена квартиры практически не зависит.\n",
        "\n",
        "Самыми важными факторам, формирующими цену, оказалась площадь квартиры и её этаж, чем больше площадь и чем выше этаж(кроме последнего), тем дороже объект, день недели и время года, в свою очередь, не влияют на цену."
      ]
    },
    {
      "cell_type": "code",
      "source": [
        "#Средняя цена одного квадратного метра в 10 населённых пунктах с наибольшим числом объявлений.\n",
        "array = data.groupby('locality_name')['meter_price'].count().sort_values(ascending=False).head(10)\n",
        "data[data['locality_name'].isin(array.index)]\\\n",
        "                                        .groupby('locality_name')['meter_price']\\\n",
        "                                        .mean().sort_values(ascending=False)"
      ],
      "metadata": {
        "colab": {
          "base_uri": "https://localhost:8080/"
        },
        "id": "VusV903Ti_Cn",
        "outputId": "b6e92b48-029b-499c-df30-7d8a15906e3b"
      },
      "execution_count": 398,
      "outputs": [
        {
          "output_type": "execute_result",
          "data": {
            "text/plain": [
              "locality_name\n",
              "Санкт-Петербург              114346.560973\n",
              "Пушкин                       103242.808899\n",
              "городской посёлок Кудрово     92381.749297\n",
              "посёлок Парголово             90551.014769\n",
              "посёлок Мурино                85037.358534\n",
              "посёлок Шушары                78438.202943\n",
              "Колпино                       75398.579332\n",
              "Гатчина                       69085.459818\n",
              "Всеволожск                    68736.519972\n",
              "Выборг                        58355.641964\n",
              "Name: meter_price, dtype: float64"
            ]
          },
          "metadata": {},
          "execution_count": 398
        }
      ]
    },
    {
      "cell_type": "markdown",
      "metadata": {
        "id": "avqrbJKMEyZn"
      },
      "source": [
        "Самая дорогая цена за метр - Санкт-Петербург, Пушкин, самая дешёвая - Выборг, Всеволожск"
      ]
    },
    {
      "cell_type": "code",
      "execution_count": 399,
      "metadata": {
        "colab": {
          "base_uri": "https://localhost:8080/",
          "height": 781
        },
        "id": "2EPY_DkNEyZn",
        "outputId": "63518d08-b99a-47b5-94c9-b6499edeee0d"
      },
      "outputs": [
        {
          "output_type": "stream",
          "name": "stdout",
          "text": [
            "Медиана дней: 96.0\n",
            "Среднее дней: 181.51394581625513\n",
            "Среднее среди квартир с фотографиями 5 и менее: 204.20801393728223\n"
          ]
        },
        {
          "output_type": "display_data",
          "data": {
            "text/plain": [
              "              days_exposition\n",
              "total_images                 \n",
              "1                  205.832474\n",
              "2                  210.423009\n",
              "3                  198.890882\n",
              "4                  202.795349\n",
              "5                  192.911504\n",
              "6                  197.888031\n",
              "7                  184.279789\n",
              "8                  181.504047\n",
              "9                  172.621202\n",
              "10                 182.456846"
            ],
            "text/html": [
              "\n",
              "  <div id=\"df-c35ff39e-b090-41ec-9932-a3e50f6b716b\">\n",
              "    <div class=\"colab-df-container\">\n",
              "      <div>\n",
              "<style scoped>\n",
              "    .dataframe tbody tr th:only-of-type {\n",
              "        vertical-align: middle;\n",
              "    }\n",
              "\n",
              "    .dataframe tbody tr th {\n",
              "        vertical-align: top;\n",
              "    }\n",
              "\n",
              "    .dataframe thead th {\n",
              "        text-align: right;\n",
              "    }\n",
              "</style>\n",
              "<table border=\"1\" class=\"dataframe\">\n",
              "  <thead>\n",
              "    <tr style=\"text-align: right;\">\n",
              "      <th></th>\n",
              "      <th>days_exposition</th>\n",
              "    </tr>\n",
              "    <tr>\n",
              "      <th>total_images</th>\n",
              "      <th></th>\n",
              "    </tr>\n",
              "  </thead>\n",
              "  <tbody>\n",
              "    <tr>\n",
              "      <th>1</th>\n",
              "      <td>205.832474</td>\n",
              "    </tr>\n",
              "    <tr>\n",
              "      <th>2</th>\n",
              "      <td>210.423009</td>\n",
              "    </tr>\n",
              "    <tr>\n",
              "      <th>3</th>\n",
              "      <td>198.890882</td>\n",
              "    </tr>\n",
              "    <tr>\n",
              "      <th>4</th>\n",
              "      <td>202.795349</td>\n",
              "    </tr>\n",
              "    <tr>\n",
              "      <th>5</th>\n",
              "      <td>192.911504</td>\n",
              "    </tr>\n",
              "    <tr>\n",
              "      <th>6</th>\n",
              "      <td>197.888031</td>\n",
              "    </tr>\n",
              "    <tr>\n",
              "      <th>7</th>\n",
              "      <td>184.279789</td>\n",
              "    </tr>\n",
              "    <tr>\n",
              "      <th>8</th>\n",
              "      <td>181.504047</td>\n",
              "    </tr>\n",
              "    <tr>\n",
              "      <th>9</th>\n",
              "      <td>172.621202</td>\n",
              "    </tr>\n",
              "    <tr>\n",
              "      <th>10</th>\n",
              "      <td>182.456846</td>\n",
              "    </tr>\n",
              "  </tbody>\n",
              "</table>\n",
              "</div>\n",
              "      <button class=\"colab-df-convert\" onclick=\"convertToInteractive('df-c35ff39e-b090-41ec-9932-a3e50f6b716b')\"\n",
              "              title=\"Convert this dataframe to an interactive table.\"\n",
              "              style=\"display:none;\">\n",
              "        \n",
              "  <svg xmlns=\"http://www.w3.org/2000/svg\" height=\"24px\"viewBox=\"0 0 24 24\"\n",
              "       width=\"24px\">\n",
              "    <path d=\"M0 0h24v24H0V0z\" fill=\"none\"/>\n",
              "    <path d=\"M18.56 5.44l.94 2.06.94-2.06 2.06-.94-2.06-.94-.94-2.06-.94 2.06-2.06.94zm-11 1L8.5 8.5l.94-2.06 2.06-.94-2.06-.94L8.5 2.5l-.94 2.06-2.06.94zm10 10l.94 2.06.94-2.06 2.06-.94-2.06-.94-.94-2.06-.94 2.06-2.06.94z\"/><path d=\"M17.41 7.96l-1.37-1.37c-.4-.4-.92-.59-1.43-.59-.52 0-1.04.2-1.43.59L10.3 9.45l-7.72 7.72c-.78.78-.78 2.05 0 2.83L4 21.41c.39.39.9.59 1.41.59.51 0 1.02-.2 1.41-.59l7.78-7.78 2.81-2.81c.8-.78.8-2.07 0-2.86zM5.41 20L4 18.59l7.72-7.72 1.47 1.35L5.41 20z\"/>\n",
              "  </svg>\n",
              "      </button>\n",
              "      \n",
              "  <style>\n",
              "    .colab-df-container {\n",
              "      display:flex;\n",
              "      flex-wrap:wrap;\n",
              "      gap: 12px;\n",
              "    }\n",
              "\n",
              "    .colab-df-convert {\n",
              "      background-color: #E8F0FE;\n",
              "      border: none;\n",
              "      border-radius: 50%;\n",
              "      cursor: pointer;\n",
              "      display: none;\n",
              "      fill: #1967D2;\n",
              "      height: 32px;\n",
              "      padding: 0 0 0 0;\n",
              "      width: 32px;\n",
              "    }\n",
              "\n",
              "    .colab-df-convert:hover {\n",
              "      background-color: #E2EBFA;\n",
              "      box-shadow: 0px 1px 2px rgba(60, 64, 67, 0.3), 0px 1px 3px 1px rgba(60, 64, 67, 0.15);\n",
              "      fill: #174EA6;\n",
              "    }\n",
              "\n",
              "    [theme=dark] .colab-df-convert {\n",
              "      background-color: #3B4455;\n",
              "      fill: #D2E3FC;\n",
              "    }\n",
              "\n",
              "    [theme=dark] .colab-df-convert:hover {\n",
              "      background-color: #434B5C;\n",
              "      box-shadow: 0px 1px 3px 1px rgba(0, 0, 0, 0.15);\n",
              "      filter: drop-shadow(0px 1px 2px rgba(0, 0, 0, 0.3));\n",
              "      fill: #FFFFFF;\n",
              "    }\n",
              "  </style>\n",
              "\n",
              "      <script>\n",
              "        const buttonEl =\n",
              "          document.querySelector('#df-c35ff39e-b090-41ec-9932-a3e50f6b716b button.colab-df-convert');\n",
              "        buttonEl.style.display =\n",
              "          google.colab.kernel.accessAllowed ? 'block' : 'none';\n",
              "\n",
              "        async function convertToInteractive(key) {\n",
              "          const element = document.querySelector('#df-c35ff39e-b090-41ec-9932-a3e50f6b716b');\n",
              "          const dataTable =\n",
              "            await google.colab.kernel.invokeFunction('convertToInteractive',\n",
              "                                                     [key], {});\n",
              "          if (!dataTable) return;\n",
              "\n",
              "          const docLinkHtml = 'Like what you see? Visit the ' +\n",
              "            '<a target=\"_blank\" href=https://colab.research.google.com/notebooks/data_table.ipynb>data table notebook</a>'\n",
              "            + ' to learn more about interactive tables.';\n",
              "          element.innerHTML = '';\n",
              "          dataTable['output_type'] = 'display_data';\n",
              "          await google.colab.output.renderOutput(dataTable, element);\n",
              "          const docLink = document.createElement('div');\n",
              "          docLink.innerHTML = docLinkHtml;\n",
              "          element.appendChild(docLink);\n",
              "        }\n",
              "      </script>\n",
              "    </div>\n",
              "  </div>\n",
              "  "
            ]
          },
          "metadata": {}
        },
        {
          "output_type": "display_data",
          "data": {
            "text/plain": [
              "<Figure size 720x360 with 1 Axes>"
            ],
            "image/png": "[encoded data removed]"
          },
          "metadata": {
            "needs_background": "light"
          }
        }
      ],
      "source": [
        "#Сколько дней занимает продажа квартиры\n",
        "print('Медиана дней:',data['days_exposition'].median())\n",
        "print('Среднее дней:',data['days_exposition'].mean())\n",
        "print('Среднее среди квартир с фотографиями 5 и менее:'\n",
        "      ,data.loc[(data['total_images']>0)&(data['total_images']<5)]['days_exposition'].mean())\n",
        "data_short=data.query('total_images>0 & total_images<11')\n",
        "display(data_short.pivot_table(index = 'total_images',values='days_exposition'))\n",
        "data['days_exposition'].describe()\n",
        "data['days_exposition'].hist(bins = 20,figsize=(10, 5)).set_title('Сколько дней занимает продажа квартиры')\n",
        "plt.xlabel('Количество дней');"
      ]
    },
    {
      "cell_type": "markdown",
      "metadata": {
        "id": "rKc6eBciEyZn"
      },
      "source": [
        "В среднем продажа занимает 180 дней или полгода, медиана - 95 дней. Продажу можно считать быстрой, если она заняла менее 45 дней. Долгая продажа - продажа, занявшая более 230 дней. Встречаются и долгие продажи с 1000, 1400 дней ожидания, или несколько лет.\n",
        "Стоит обратить внимание на количество фотографий в объявлении, они тоже влияют на скорость продажи, \n",
        "чем меньше фотографий, тем дольше идёт продажа, \n",
        "объявления с менее чем 5 фотографиями продаются в среднем на 20 дней дольше"
      ]
    },
    {
      "cell_type": "code",
      "execution_count": 400,
      "metadata": {
        "scrolled": false,
        "colab": {
          "base_uri": "https://localhost:8080/",
          "height": 1000
        },
        "id": "UP9V__o1EyZo",
        "outputId": "0add8928-389c-427e-d402-9514f92b5425"
      },
      "outputs": [
        {
          "output_type": "display_data",
          "data": {
            "text/plain": [
              "        last_price\n",
              "km                \n",
              "1.0   3.306545e+07\n",
              "2.0   1.986841e+07\n",
              "3.0   1.619439e+07\n",
              "4.0   1.114165e+07\n",
              "5.0   1.334237e+07\n",
              "6.0   1.384185e+07\n",
              "7.0   1.491534e+07\n",
              "8.0   1.446702e+07\n",
              "9.0   9.047302e+06\n",
              "10.0  6.920238e+06\n",
              "11.0  6.510950e+06\n",
              "12.0  6.152599e+06\n",
              "13.0  5.794589e+06\n",
              "14.0  6.046891e+06\n",
              "15.0  5.594555e+06\n",
              "16.0  5.846225e+06\n",
              "17.0  5.364444e+06\n",
              "18.0  5.220093e+06\n",
              "19.0  4.942879e+06\n",
              "20.0  5.073149e+06"
            ],
            "text/html": [
              "\n",
              "  <div id=\"df-f8ab52f5-095e-4660-ae07-21ea15505ae7\">\n",
              "    <div class=\"colab-df-container\">\n",
              "      <div>\n",
              "<style scoped>\n",
              "    .dataframe tbody tr th:only-of-type {\n",
              "        vertical-align: middle;\n",
              "    }\n",
              "\n",
              "    .dataframe tbody tr th {\n",
              "        vertical-align: top;\n",
              "    }\n",
              "\n",
              "    .dataframe thead th {\n",
              "        text-align: right;\n",
              "    }\n",
              "</style>\n",
              "<table border=\"1\" class=\"dataframe\">\n",
              "  <thead>\n",
              "    <tr style=\"text-align: right;\">\n",
              "      <th></th>\n",
              "      <th>last_price</th>\n",
              "    </tr>\n",
              "    <tr>\n",
              "      <th>km</th>\n",
              "      <th></th>\n",
              "    </tr>\n",
              "  </thead>\n",
              "  <tbody>\n",
              "    <tr>\n",
              "      <th>1.0</th>\n",
              "      <td>3.306545e+07</td>\n",
              "    </tr>\n",
              "    <tr>\n",
              "      <th>2.0</th>\n",
              "      <td>1.986841e+07</td>\n",
              "    </tr>\n",
              "    <tr>\n",
              "      <th>3.0</th>\n",
              "      <td>1.619439e+07</td>\n",
              "    </tr>\n",
              "    <tr>\n",
              "      <th>4.0</th>\n",
              "      <td>1.114165e+07</td>\n",
              "    </tr>\n",
              "    <tr>\n",
              "      <th>5.0</th>\n",
              "      <td>1.334237e+07</td>\n",
              "    </tr>\n",
              "    <tr>\n",
              "      <th>6.0</th>\n",
              "      <td>1.384185e+07</td>\n",
              "    </tr>\n",
              "    <tr>\n",
              "      <th>7.0</th>\n",
              "      <td>1.491534e+07</td>\n",
              "    </tr>\n",
              "    <tr>\n",
              "      <th>8.0</th>\n",
              "      <td>1.446702e+07</td>\n",
              "    </tr>\n",
              "    <tr>\n",
              "      <th>9.0</th>\n",
              "      <td>9.047302e+06</td>\n",
              "    </tr>\n",
              "    <tr>\n",
              "      <th>10.0</th>\n",
              "      <td>6.920238e+06</td>\n",
              "    </tr>\n",
              "    <tr>\n",
              "      <th>11.0</th>\n",
              "      <td>6.510950e+06</td>\n",
              "    </tr>\n",
              "    <tr>\n",
              "      <th>12.0</th>\n",
              "      <td>6.152599e+06</td>\n",
              "    </tr>\n",
              "    <tr>\n",
              "      <th>13.0</th>\n",
              "      <td>5.794589e+06</td>\n",
              "    </tr>\n",
              "    <tr>\n",
              "      <th>14.0</th>\n",
              "      <td>6.046891e+06</td>\n",
              "    </tr>\n",
              "    <tr>\n",
              "      <th>15.0</th>\n",
              "      <td>5.594555e+06</td>\n",
              "    </tr>\n",
              "    <tr>\n",
              "      <th>16.0</th>\n",
              "      <td>5.846225e+06</td>\n",
              "    </tr>\n",
              "    <tr>\n",
              "      <th>17.0</th>\n",
              "      <td>5.364444e+06</td>\n",
              "    </tr>\n",
              "    <tr>\n",
              "      <th>18.0</th>\n",
              "      <td>5.220093e+06</td>\n",
              "    </tr>\n",
              "    <tr>\n",
              "      <th>19.0</th>\n",
              "      <td>4.942879e+06</td>\n",
              "    </tr>\n",
              "    <tr>\n",
              "      <th>20.0</th>\n",
              "      <td>5.073149e+06</td>\n",
              "    </tr>\n",
              "  </tbody>\n",
              "</table>\n",
              "</div>\n",
              "      <button class=\"colab-df-convert\" onclick=\"convertToInteractive('df-f8ab52f5-095e-4660-ae07-21ea15505ae7')\"\n",
              "              title=\"Convert this dataframe to an interactive table.\"\n",
              "              style=\"display:none;\">\n",
              "        \n",
              "  <svg xmlns=\"http://www.w3.org/2000/svg\" height=\"24px\"viewBox=\"0 0 24 24\"\n",
              "       width=\"24px\">\n",
              "    <path d=\"M0 0h24v24H0V0z\" fill=\"none\"/>\n",
              "    <path d=\"M18.56 5.44l.94 2.06.94-2.06 2.06-.94-2.06-.94-.94-2.06-.94 2.06-2.06.94zm-11 1L8.5 8.5l.94-2.06 2.06-.94-2.06-.94L8.5 2.5l-.94 2.06-2.06.94zm10 10l.94 2.06.94-2.06 2.06-.94-2.06-.94-.94-2.06-.94 2.06-2.06.94z\"/><path d=\"M17.41 7.96l-1.37-1.37c-.4-.4-.92-.59-1.43-.59-.52 0-1.04.2-1.43.59L10.3 9.45l-7.72 7.72c-.78.78-.78 2.05 0 2.83L4 21.41c.39.39.9.59 1.41.59.51 0 1.02-.2 1.41-.59l7.78-7.78 2.81-2.81c.8-.78.8-2.07 0-2.86zM5.41 20L4 18.59l7.72-7.72 1.47 1.35L5.41 20z\"/>\n",
              "  </svg>\n",
              "      </button>\n",
              "      \n",
              "  <style>\n",
              "    .colab-df-container {\n",
              "      display:flex;\n",
              "      flex-wrap:wrap;\n",
              "      gap: 12px;\n",
              "    }\n",
              "\n",
              "    .colab-df-convert {\n",
              "      background-color: #E8F0FE;\n",
              "      border: none;\n",
              "      border-radius: 50%;\n",
              "      cursor: pointer;\n",
              "      display: none;\n",
              "      fill: #1967D2;\n",
              "      height: 32px;\n",
              "      padding: 0 0 0 0;\n",
              "      width: 32px;\n",
              "    }\n",
              "\n",
              "    .colab-df-convert:hover {\n",
              "      background-color: #E2EBFA;\n",
              "      box-shadow: 0px 1px 2px rgba(60, 64, 67, 0.3), 0px 1px 3px 1px rgba(60, 64, 67, 0.15);\n",
              "      fill: #174EA6;\n",
              "    }\n",
              "\n",
              "    [theme=dark] .colab-df-convert {\n",
              "      background-color: #3B4455;\n",
              "      fill: #D2E3FC;\n",
              "    }\n",
              "\n",
              "    [theme=dark] .colab-df-convert:hover {\n",
              "      background-color: #434B5C;\n",
              "      box-shadow: 0px 1px 3px 1px rgba(0, 0, 0, 0.15);\n",
              "      filter: drop-shadow(0px 1px 2px rgba(0, 0, 0, 0.3));\n",
              "      fill: #FFFFFF;\n",
              "    }\n",
              "  </style>\n",
              "\n",
              "      <script>\n",
              "        const buttonEl =\n",
              "          document.querySelector('#df-f8ab52f5-095e-4660-ae07-21ea15505ae7 button.colab-df-convert');\n",
              "        buttonEl.style.display =\n",
              "          google.colab.kernel.accessAllowed ? 'block' : 'none';\n",
              "\n",
              "        async function convertToInteractive(key) {\n",
              "          const element = document.querySelector('#df-f8ab52f5-095e-4660-ae07-21ea15505ae7');\n",
              "          const dataTable =\n",
              "            await google.colab.kernel.invokeFunction('convertToInteractive',\n",
              "                                                     [key], {});\n",
              "          if (!dataTable) return;\n",
              "\n",
              "          const docLinkHtml = 'Like what you see? Visit the ' +\n",
              "            '<a target=\"_blank\" href=https://colab.research.google.com/notebooks/data_table.ipynb>data table notebook</a>'\n",
              "            + ' to learn more about interactive tables.';\n",
              "          element.innerHTML = '';\n",
              "          dataTable['output_type'] = 'display_data';\n",
              "          await google.colab.output.renderOutput(dataTable, element);\n",
              "          const docLink = document.createElement('div');\n",
              "          docLink.innerHTML = docLinkHtml;\n",
              "          element.appendChild(docLink);\n",
              "        }\n",
              "      </script>\n",
              "    </div>\n",
              "  </div>\n",
              "  "
            ]
          },
          "metadata": {}
        },
        {
          "output_type": "display_data",
          "data": {
            "text/plain": [
              "<Figure size 720x432 with 1 Axes>"
            ],
            "image/png": "[encoded data removed]"
          },
          "metadata": {
            "needs_background": "light"
          }
        }
      ],
      "source": [
        "#Средняя цена каждого километра\n",
        "spb = data.query('locality_name == \"Санкт-Петербург\"')\n",
        "x=spb.pivot_table(index = round(spb['km'])+1,values='last_price').head(20)\n",
        "display(x)\n",
        "x.plot(grid=True, figsize=(10,6),title='Средняя цена каждого километра',xlabel='км',ylabel='Цена, млн руб',legend=False);"
      ]
    },
    {
      "cell_type": "markdown",
      "metadata": {
        "id": "F_v1nMxUEyZo"
      },
      "source": [
        "Чем ближе объект к центру, тем выше его цена, за 20 километров цена за объект упала более чем в три раза, с 25млн до 7 млн"
      ]
    },
    {
      "cell_type": "markdown",
      "metadata": {
        "id": "mpmBdXyDEyZp"
      },
      "source": [
        "# Общий вывод"
      ]
    },
    {
      "cell_type": "markdown",
      "metadata": {
        "id": "qqUiEkMXEyZq"
      },
      "source": [
        "Большее количество квартир на продажу имеют 2 комнаты и общую площадь от 50м2 до 100м2, находятся на далёком расстоянии от центра (более 10км) и имеют среднюю цену в 4,65млн. Рядом почти со всеми объектами рядом (менее 1км) находится парк. Большая часть домов расположена в пяти- или десятиэтажках. Встречаются и выбросы в виде многокомнатных домов или домов с огромной площадью. Санк-Петребург - самый популярный и дорогой район продаж, квартира в центре будет стоит около 25млн рублей, близость к центру очень сильно влияет на цену объекта, за 20км от центра цена падает более чем в три раза до 7млн. Главный ценообразующий параметр - общая площадь квартиры, у этого параметра самая сильная корреляция с ценой продажи, также для покупателей важен этаж квартиры, первый и последние ценятся меньше остальных. С увеличением комнат, общей площади, удалённости от центра увеличивается и цена квартиры.\n",
        "\n",
        "Такие параметры, как день недели и месяц, не влияют на цену объекта, обычно покупатель находится в течение полугода, но один из факторов, влияющих на это - количество фотографий, если их менее 5, объявление висит дольше на несколько недель."
      ]
    },
    {
      "cell_type": "markdown",
      "metadata": {
        "id": "Rp32nu2LEyZr"
      },
      "source": [
        "- [x]  открыт файл\n",
        "- [x]  файлы изучены (выведены первые строки, метод `info()`, гистограммы и т.д.)\n",
        "- [x]  определены пропущенные значения\n",
        "- [x]  заполнены пропущенные значения там, где это возможно\n",
        "- [x]  есть пояснение, какие пропущенные значения обнаружены\n",
        "- [x]  изменены типы данных\n",
        "- [x]  есть пояснение, в каких столбцах изменены типы и почему\n",
        "- [x]  устранены неявные дубликаты в названиях населённых пунктов\n",
        "- [X]  устранены редкие и выбивающиеся значения (аномалии) во всех столбцах\n",
        "- [x]  посчитано и добавлено в таблицу: цена одного квадратного метра\n",
        "- [x]  посчитано и добавлено в таблицу: день публикации объявления (0 - понедельник, 1 - вторник и т.д.)\n",
        "- [x]  посчитано и добавлено в таблицу: месяц публикации объявления\n",
        "- [x]  посчитано и добавлено в таблицу: год публикации объявления\n",
        "- [x]  посчитано и добавлено в таблицу: тип этажа квартиры (значения — «первый», «последний», «другой»)\n",
        "- [x]  посчитано и добавлено в таблицу: расстояние в км до центра города\n",
        "- [x]  изучены и описаны следующие параметры:\n",
        "        - общая площадь;\n",
        "        - жилая площадь;\n",
        "        - площадь кухни;\n",
        "        - цена объекта;\n",
        "        - количество комнат;\n",
        "        - высота потолков;\n",
        "        - этаж квартиры;\n",
        "        - тип этажа квартиры («первый», «последний», «другой»);\n",
        "        - общее количество этажей в доме;\n",
        "        - расстояние до центра города в метрах;\n",
        "        - расстояние до ближайшего аэропорта;\n",
        "        - расстояние до ближайшего парка;\n",
        "        - день и месяц публикации объявления\n",
        "- [X]  построены гистограммы для каждого параметра\n",
        "- [x]  выполнено задание: \"Изучите, как быстро продавались квартиры (столбец days_exposition). Этот параметр показывает, сколько дней «висело» каждое объявление.\n",
        "    - Постройте гистограмму.\n",
        "    - Посчитайте среднее и медиану.\n",
        "    - В ячейке типа markdown опишите, сколько обычно занимает продажа. Какие продажи можно считать быстрыми, а какие — необычно долгими?\"\n",
        "- [x]  выполнено задание: \"Какие факторы больше всего влияют на общую (полную) стоимость объекта? Постройте графики, которые покажут зависимость цены от указанных ниже параметров. Для подготовки данных перед визуализацией вы можете использовать сводные таблицы.\"\n",
        "        - общей площади;\n",
        "        - жилой площади;\n",
        "        - площади кухни;\n",
        "        - количество комнат;\n",
        "        - типа этажа, на котором расположена квартира (первый, последний, другой);\n",
        "        - даты размещения (день недели, месяц, год);\n",
        "- [x]  выполнено задание: \"Посчитайте среднюю цену одного квадратного метра в 10 населённых пунктах с наибольшим числом объявлений. Выделите населённые пункты с самой высокой и низкой стоимостью квадратного метра. Эти данные можно найти по имени в столбце `locality_name`.\"\n",
        "- [X]  выполнено задание: \"Ранее вы посчитали расстояние до центра в километрах. Теперь выделите квартиры в Санкт-Петербурге с помощью столбца `locality_name` и вычислите среднюю цену каждого километра. Опишите, как стоимость объектов зависит от расстояния до центра города.\"\n",
        "- [x]  в каждом этапе есть промежуточные выводы\n",
        "- [x]  есть общий вывод"
      ]
    }
  ],
  "metadata": {
    "ExecuteTimeLog": [
      {
        "duration": 742,
        "start_time": "2022-09-13T13:26:22.507Z"
      },
      {
        "duration": 174,
        "start_time": "2022-09-13T13:26:37.188Z"
      },
      {
        "duration": 145,
        "start_time": "2022-09-13T13:26:41.498Z"
      },
      {
        "duration": 108,
        "start_time": "2022-09-13T13:26:44.462Z"
      },
      {
        "duration": 85,
        "start_time": "2022-09-13T13:27:05.364Z"
      },
      {
        "duration": 83,
        "start_time": "2022-09-13T13:27:33.707Z"
      },
      {
        "duration": 96,
        "start_time": "2022-09-13T13:28:45.090Z"
      },
      {
        "duration": 89,
        "start_time": "2022-09-13T13:28:58.005Z"
      },
      {
        "duration": 88,
        "start_time": "2022-09-13T13:30:17.139Z"
      },
      {
        "duration": 98,
        "start_time": "2022-09-13T13:30:20.781Z"
      },
      {
        "duration": 105,
        "start_time": "2022-09-13T14:54:38.841Z"
      },
      {
        "duration": 92,
        "start_time": "2022-09-13T14:54:46.486Z"
      },
      {
        "duration": 811,
        "start_time": "2022-09-13T14:54:52.485Z"
      },
      {
        "duration": 86,
        "start_time": "2022-09-13T14:55:09.856Z"
      },
      {
        "duration": 96,
        "start_time": "2022-09-13T14:55:17.946Z"
      },
      {
        "duration": 217,
        "start_time": "2022-09-13T14:56:29.175Z"
      },
      {
        "duration": 205,
        "start_time": "2022-09-13T14:56:35.617Z"
      },
      {
        "duration": 195,
        "start_time": "2022-09-13T14:56:41.343Z"
      },
      {
        "duration": 305,
        "start_time": "2022-09-13T14:56:54.543Z"
      },
      {
        "duration": 201,
        "start_time": "2022-09-13T14:57:03.965Z"
      },
      {
        "duration": 201,
        "start_time": "2022-09-13T14:57:10.053Z"
      },
      {
        "duration": 247,
        "start_time": "2022-09-13T14:57:20.676Z"
      },
      {
        "duration": 234,
        "start_time": "2022-09-13T14:58:07.475Z"
      },
      {
        "duration": 273,
        "start_time": "2022-09-13T14:58:18.136Z"
      },
      {
        "duration": 231,
        "start_time": "2022-09-13T14:58:38.957Z"
      },
      {
        "duration": 242,
        "start_time": "2022-09-13T14:58:48.055Z"
      },
      {
        "duration": 227,
        "start_time": "2022-09-13T14:59:16.536Z"
      },
      {
        "duration": 234,
        "start_time": "2022-09-13T15:00:00.796Z"
      },
      {
        "duration": 228,
        "start_time": "2022-09-13T15:00:17.316Z"
      },
      {
        "duration": 122,
        "start_time": "2022-09-13T15:00:24.612Z"
      },
      {
        "duration": 224,
        "start_time": "2022-09-13T15:02:22.372Z"
      },
      {
        "duration": 100,
        "start_time": "2022-09-13T15:03:43.920Z"
      },
      {
        "duration": 110,
        "start_time": "2022-09-13T15:05:16.148Z"
      },
      {
        "duration": 2569,
        "start_time": "2022-09-13T15:07:27.835Z"
      },
      {
        "duration": 94,
        "start_time": "2022-09-13T15:07:44.245Z"
      },
      {
        "duration": 94,
        "start_time": "2022-09-13T15:07:50.885Z"
      },
      {
        "duration": 116,
        "start_time": "2022-09-13T15:08:38.207Z"
      },
      {
        "duration": 225,
        "start_time": "2022-09-13T15:08:56.950Z"
      },
      {
        "duration": 1373,
        "start_time": "2022-09-13T15:09:28.453Z"
      },
      {
        "duration": 1392,
        "start_time": "2022-09-13T15:09:57.144Z"
      },
      {
        "duration": 91,
        "start_time": "2022-09-13T15:10:31.471Z"
      },
      {
        "duration": 331,
        "start_time": "2022-09-13T15:13:46.150Z"
      },
      {
        "duration": 437,
        "start_time": "2022-09-13T15:13:48.952Z"
      },
      {
        "duration": 22080,
        "start_time": "2022-09-13T15:16:34.783Z"
      },
      {
        "duration": 536,
        "start_time": "2022-09-13T15:18:56.895Z"
      },
      {
        "duration": 216,
        "start_time": "2022-09-13T15:19:27.808Z"
      },
      {
        "duration": 390,
        "start_time": "2022-09-13T15:19:54.470Z"
      },
      {
        "duration": 205,
        "start_time": "2022-09-13T15:20:09.964Z"
      },
      {
        "duration": 304,
        "start_time": "2022-09-13T15:20:22.148Z"
      },
      {
        "duration": 206,
        "start_time": "2022-09-13T15:20:38.069Z"
      },
      {
        "duration": 193,
        "start_time": "2022-09-13T15:22:10.457Z"
      },
      {
        "duration": 204,
        "start_time": "2022-09-13T15:22:32.318Z"
      },
      {
        "duration": 233,
        "start_time": "2022-09-13T15:22:35.723Z"
      },
      {
        "duration": 218,
        "start_time": "2022-09-13T15:23:04.001Z"
      },
      {
        "duration": 229,
        "start_time": "2022-09-13T15:28:55.061Z"
      },
      {
        "duration": 460,
        "start_time": "2022-09-13T15:29:13.349Z"
      },
      {
        "duration": 215,
        "start_time": "2022-09-13T15:29:30.962Z"
      },
      {
        "duration": 121,
        "start_time": "2022-09-13T15:29:39.584Z"
      },
      {
        "duration": 224,
        "start_time": "2022-09-13T15:29:47.470Z"
      },
      {
        "duration": 210,
        "start_time": "2022-09-13T15:30:02.317Z"
      },
      {
        "duration": 220,
        "start_time": "2022-09-13T15:30:10.909Z"
      },
      {
        "duration": 244,
        "start_time": "2022-09-13T15:30:34.253Z"
      },
      {
        "duration": 191,
        "start_time": "2022-09-13T15:30:45.875Z"
      },
      {
        "duration": 183,
        "start_time": "2022-09-13T15:30:51.963Z"
      },
      {
        "duration": 186,
        "start_time": "2022-09-13T15:30:58.963Z"
      },
      {
        "duration": 200,
        "start_time": "2022-09-13T15:31:09.024Z"
      },
      {
        "duration": 218,
        "start_time": "2022-09-13T15:31:14.547Z"
      },
      {
        "duration": 52,
        "start_time": "2022-09-13T15:32:17.780Z"
      },
      {
        "duration": 219,
        "start_time": "2022-09-13T15:32:27.201Z"
      },
      {
        "duration": 184,
        "start_time": "2022-09-13T15:32:33.718Z"
      },
      {
        "duration": 460,
        "start_time": "2022-09-13T15:32:38.462Z"
      },
      {
        "duration": 8,
        "start_time": "2022-09-13T15:33:22.838Z"
      },
      {
        "duration": 8,
        "start_time": "2022-09-13T15:33:26.950Z"
      },
      {
        "duration": 26,
        "start_time": "2022-09-13T15:33:44.193Z"
      },
      {
        "duration": 7,
        "start_time": "2022-09-13T15:33:57.218Z"
      },
      {
        "duration": 9,
        "start_time": "2022-09-13T15:34:08.647Z"
      },
      {
        "duration": 10,
        "start_time": "2022-09-13T15:34:33.559Z"
      },
      {
        "duration": 9,
        "start_time": "2022-09-13T15:34:51.554Z"
      },
      {
        "duration": 9,
        "start_time": "2022-09-13T15:34:56.353Z"
      },
      {
        "duration": 9,
        "start_time": "2022-09-13T15:35:05.018Z"
      },
      {
        "duration": 214,
        "start_time": "2022-09-13T15:35:43.267Z"
      },
      {
        "duration": 114,
        "start_time": "2022-09-13T15:35:53.746Z"
      },
      {
        "duration": 48,
        "start_time": "2022-09-13T15:36:17.371Z"
      },
      {
        "duration": 123,
        "start_time": "2022-09-13T15:36:21.547Z"
      },
      {
        "duration": 2,
        "start_time": "2022-09-13T15:40:45.982Z"
      },
      {
        "duration": 113,
        "start_time": "2022-09-13T15:40:48.497Z"
      },
      {
        "duration": 115,
        "start_time": "2022-09-13T15:42:50.654Z"
      },
      {
        "duration": 131,
        "start_time": "2022-09-13T15:43:09.334Z"
      },
      {
        "duration": 127,
        "start_time": "2022-09-13T15:43:14.249Z"
      },
      {
        "duration": 124,
        "start_time": "2022-09-13T15:43:21.151Z"
      },
      {
        "duration": 125,
        "start_time": "2022-09-13T15:43:30.420Z"
      },
      {
        "duration": 121,
        "start_time": "2022-09-13T15:43:42.603Z"
      },
      {
        "duration": 117,
        "start_time": "2022-09-13T15:43:50.808Z"
      },
      {
        "duration": 124,
        "start_time": "2022-09-13T15:43:57.269Z"
      },
      {
        "duration": 129,
        "start_time": "2022-09-13T15:44:03.147Z"
      },
      {
        "duration": 137,
        "start_time": "2022-09-13T15:44:29.350Z"
      },
      {
        "duration": 143,
        "start_time": "2022-09-13T15:44:39.281Z"
      },
      {
        "duration": 156,
        "start_time": "2022-09-13T15:44:46.871Z"
      },
      {
        "duration": 193,
        "start_time": "2022-09-13T15:45:09.303Z"
      },
      {
        "duration": 260,
        "start_time": "2022-09-13T15:45:19.655Z"
      },
      {
        "duration": 411,
        "start_time": "2022-09-13T15:45:24.288Z"
      },
      {
        "duration": 139,
        "start_time": "2022-09-13T15:51:59.506Z"
      },
      {
        "duration": 126,
        "start_time": "2022-09-13T17:05:03.160Z"
      },
      {
        "duration": 121,
        "start_time": "2022-09-13T17:05:07.859Z"
      },
      {
        "duration": 122,
        "start_time": "2022-09-13T17:05:23.627Z"
      },
      {
        "duration": 133,
        "start_time": "2022-09-13T17:05:42.353Z"
      },
      {
        "duration": 119,
        "start_time": "2022-09-13T17:05:51.632Z"
      },
      {
        "duration": 112,
        "start_time": "2022-09-13T17:06:09.857Z"
      },
      {
        "duration": 130,
        "start_time": "2022-09-13T17:19:19.406Z"
      },
      {
        "duration": 2,
        "start_time": "2022-09-13T17:19:37.154Z"
      },
      {
        "duration": 126,
        "start_time": "2022-09-13T17:19:40.377Z"
      },
      {
        "duration": 113,
        "start_time": "2022-09-13T17:19:53.120Z"
      },
      {
        "duration": 110,
        "start_time": "2022-09-13T17:19:57.125Z"
      },
      {
        "duration": 113,
        "start_time": "2022-09-13T17:21:23.035Z"
      },
      {
        "duration": 130,
        "start_time": "2022-09-13T17:21:56.593Z"
      },
      {
        "duration": 131,
        "start_time": "2022-09-13T17:22:10.801Z"
      },
      {
        "duration": 119,
        "start_time": "2022-09-13T17:22:28.898Z"
      },
      {
        "duration": 128,
        "start_time": "2022-09-13T17:23:00.913Z"
      },
      {
        "duration": 128,
        "start_time": "2022-09-13T17:24:31.977Z"
      },
      {
        "duration": 118,
        "start_time": "2022-09-13T17:25:56.007Z"
      },
      {
        "duration": 8,
        "start_time": "2022-09-13T17:31:25.013Z"
      },
      {
        "duration": 126,
        "start_time": "2022-09-13T17:44:41.273Z"
      },
      {
        "duration": 114,
        "start_time": "2022-09-13T17:44:54.089Z"
      },
      {
        "duration": 123,
        "start_time": "2022-09-13T17:53:27.115Z"
      },
      {
        "duration": 119,
        "start_time": "2022-09-13T17:53:31.797Z"
      },
      {
        "duration": 294,
        "start_time": "2022-09-13T17:53:43.604Z"
      },
      {
        "duration": 121,
        "start_time": "2022-09-13T17:53:45.981Z"
      },
      {
        "duration": 717,
        "start_time": "2022-09-13T17:55:33.191Z"
      },
      {
        "duration": 138,
        "start_time": "2022-09-13T17:55:42.605Z"
      },
      {
        "duration": 129,
        "start_time": "2022-09-13T17:56:00.517Z"
      },
      {
        "duration": 8,
        "start_time": "2022-09-13T18:11:18.368Z"
      },
      {
        "duration": 7,
        "start_time": "2022-09-13T18:11:47.694Z"
      },
      {
        "duration": 4,
        "start_time": "2022-09-13T18:11:52.303Z"
      },
      {
        "duration": 8,
        "start_time": "2022-09-13T18:12:03.208Z"
      },
      {
        "duration": 10,
        "start_time": "2022-09-13T18:12:18.639Z"
      },
      {
        "duration": 5,
        "start_time": "2022-09-13T18:12:31.034Z"
      },
      {
        "duration": 9,
        "start_time": "2022-09-13T18:12:33.838Z"
      },
      {
        "duration": 10,
        "start_time": "2022-09-13T18:12:45.536Z"
      },
      {
        "duration": 13,
        "start_time": "2022-09-13T18:12:52.683Z"
      },
      {
        "duration": 219,
        "start_time": "2022-09-13T18:13:03.964Z"
      },
      {
        "duration": 130,
        "start_time": "2022-09-13T18:13:04.186Z"
      },
      {
        "duration": 138,
        "start_time": "2022-09-13T18:13:04.318Z"
      },
      {
        "duration": 153,
        "start_time": "2022-09-13T18:13:04.458Z"
      },
      {
        "duration": 146,
        "start_time": "2022-09-13T18:13:04.613Z"
      },
      {
        "duration": 122,
        "start_time": "2022-09-13T18:13:04.760Z"
      },
      {
        "duration": 8,
        "start_time": "2022-09-13T18:13:04.884Z"
      },
      {
        "duration": 15,
        "start_time": "2022-09-13T18:13:04.893Z"
      },
      {
        "duration": 4,
        "start_time": "2022-09-13T18:13:08.664Z"
      },
      {
        "duration": 10,
        "start_time": "2022-09-13T18:13:17.788Z"
      },
      {
        "duration": 4,
        "start_time": "2022-09-13T18:13:24.334Z"
      },
      {
        "duration": 234,
        "start_time": "2022-09-13T18:13:29.196Z"
      },
      {
        "duration": 217,
        "start_time": "2022-09-13T18:13:34.092Z"
      },
      {
        "duration": 115,
        "start_time": "2022-09-13T18:13:35.700Z"
      },
      {
        "duration": 127,
        "start_time": "2022-09-13T18:13:36.507Z"
      },
      {
        "duration": 123,
        "start_time": "2022-09-13T18:13:37.099Z"
      },
      {
        "duration": 130,
        "start_time": "2022-09-13T18:13:37.932Z"
      },
      {
        "duration": 111,
        "start_time": "2022-09-13T18:13:38.763Z"
      },
      {
        "duration": 10,
        "start_time": "2022-09-13T18:13:41.691Z"
      },
      {
        "duration": 5,
        "start_time": "2022-09-13T18:13:44.490Z"
      },
      {
        "duration": 11,
        "start_time": "2022-09-13T18:13:48.641Z"
      },
      {
        "duration": 6,
        "start_time": "2022-09-13T18:14:19.782Z"
      },
      {
        "duration": 18,
        "start_time": "2022-09-13T18:15:04.502Z"
      },
      {
        "duration": 4,
        "start_time": "2022-09-13T18:15:53.052Z"
      },
      {
        "duration": 5,
        "start_time": "2022-09-13T18:15:56.308Z"
      },
      {
        "duration": 5,
        "start_time": "2022-09-13T18:16:12.987Z"
      },
      {
        "duration": 7,
        "start_time": "2022-09-13T18:16:43.091Z"
      },
      {
        "duration": 6,
        "start_time": "2022-09-13T18:17:17.977Z"
      },
      {
        "duration": 20,
        "start_time": "2022-09-13T18:17:59.099Z"
      },
      {
        "duration": 8,
        "start_time": "2022-09-13T18:25:26.592Z"
      },
      {
        "duration": 9,
        "start_time": "2022-09-13T18:26:30.721Z"
      },
      {
        "duration": 13,
        "start_time": "2022-09-13T18:26:31.247Z"
      },
      {
        "duration": 4,
        "start_time": "2022-09-13T18:26:31.770Z"
      },
      {
        "duration": 6,
        "start_time": "2022-09-13T18:26:40.665Z"
      },
      {
        "duration": 14,
        "start_time": "2022-09-13T18:27:05.545Z"
      },
      {
        "duration": 14,
        "start_time": "2022-09-13T18:27:45.877Z"
      },
      {
        "duration": 20,
        "start_time": "2022-09-13T18:28:15.999Z"
      },
      {
        "duration": 23,
        "start_time": "2022-09-13T18:28:53.422Z"
      },
      {
        "duration": 5,
        "start_time": "2022-09-13T18:31:12.766Z"
      },
      {
        "duration": 24,
        "start_time": "2022-09-13T18:31:34.557Z"
      },
      {
        "duration": 9,
        "start_time": "2022-09-13T18:31:51.286Z"
      },
      {
        "duration": 14,
        "start_time": "2022-09-13T18:31:59.809Z"
      },
      {
        "duration": 13,
        "start_time": "2022-09-13T18:32:15.503Z"
      },
      {
        "duration": 1154,
        "start_time": "2022-09-13T18:40:05.878Z"
      },
      {
        "duration": 309,
        "start_time": "2022-09-13T18:41:11.268Z"
      },
      {
        "duration": 132,
        "start_time": "2022-09-13T18:41:22.345Z"
      },
      {
        "duration": 125,
        "start_time": "2022-09-13T18:41:28.511Z"
      },
      {
        "duration": 117,
        "start_time": "2022-09-13T18:41:36.946Z"
      },
      {
        "duration": 116,
        "start_time": "2022-09-13T18:43:18.284Z"
      },
      {
        "duration": 1830,
        "start_time": "2022-09-13T18:43:24.720Z"
      },
      {
        "duration": 2920,
        "start_time": "2022-09-14T11:44:03.360Z"
      },
      {
        "duration": 124,
        "start_time": "2022-09-14T11:44:06.282Z"
      },
      {
        "duration": 128,
        "start_time": "2022-09-14T11:44:06.409Z"
      },
      {
        "duration": 147,
        "start_time": "2022-09-14T11:44:06.540Z"
      },
      {
        "duration": 133,
        "start_time": "2022-09-14T11:44:06.688Z"
      },
      {
        "duration": 139,
        "start_time": "2022-09-14T11:44:06.823Z"
      },
      {
        "duration": 174,
        "start_time": "2022-09-14T11:44:06.964Z"
      },
      {
        "duration": 9,
        "start_time": "2022-09-14T11:44:07.140Z"
      },
      {
        "duration": 12,
        "start_time": "2022-09-14T11:44:07.151Z"
      },
      {
        "duration": 47,
        "start_time": "2022-09-14T11:44:07.165Z"
      },
      {
        "duration": 7,
        "start_time": "2022-09-14T11:44:07.214Z"
      },
      {
        "duration": 17,
        "start_time": "2022-09-14T11:44:07.223Z"
      },
      {
        "duration": 18,
        "start_time": "2022-09-14T11:47:29.043Z"
      },
      {
        "duration": 4,
        "start_time": "2022-09-14T12:37:03.260Z"
      },
      {
        "duration": 9,
        "start_time": "2022-09-14T12:37:51.564Z"
      },
      {
        "duration": 13,
        "start_time": "2022-09-14T12:38:03.829Z"
      },
      {
        "duration": 11,
        "start_time": "2022-09-14T12:38:10.551Z"
      },
      {
        "duration": 25,
        "start_time": "2022-09-14T12:38:27.536Z"
      },
      {
        "duration": 1834,
        "start_time": "2022-09-14T12:40:02.679Z"
      },
      {
        "duration": 155,
        "start_time": "2022-09-14T12:40:04.515Z"
      },
      {
        "duration": 138,
        "start_time": "2022-09-14T12:40:04.672Z"
      },
      {
        "duration": 123,
        "start_time": "2022-09-14T12:40:04.812Z"
      },
      {
        "duration": 126,
        "start_time": "2022-09-14T12:40:04.937Z"
      },
      {
        "duration": 134,
        "start_time": "2022-09-14T12:40:05.064Z"
      },
      {
        "duration": 134,
        "start_time": "2022-09-14T12:40:05.200Z"
      },
      {
        "duration": 8,
        "start_time": "2022-09-14T12:40:05.335Z"
      },
      {
        "duration": 13,
        "start_time": "2022-09-14T12:40:05.344Z"
      },
      {
        "duration": 6,
        "start_time": "2022-09-14T12:40:05.742Z"
      },
      {
        "duration": 8,
        "start_time": "2022-09-14T12:40:05.899Z"
      },
      {
        "duration": 8,
        "start_time": "2022-09-14T12:41:32.060Z"
      },
      {
        "duration": 8,
        "start_time": "2022-09-14T12:41:40.634Z"
      },
      {
        "duration": 20,
        "start_time": "2022-09-14T12:41:52.618Z"
      },
      {
        "duration": 85,
        "start_time": "2022-09-14T12:42:42.063Z"
      },
      {
        "duration": 83,
        "start_time": "2022-09-14T12:45:49.070Z"
      },
      {
        "duration": 64,
        "start_time": "2022-09-14T12:45:59.541Z"
      },
      {
        "duration": 53,
        "start_time": "2022-09-14T12:46:02.181Z"
      },
      {
        "duration": 5,
        "start_time": "2022-09-14T12:46:08.539Z"
      },
      {
        "duration": 8,
        "start_time": "2022-09-14T12:46:21.461Z"
      },
      {
        "duration": 16,
        "start_time": "2022-09-14T12:47:30.595Z"
      },
      {
        "duration": 10,
        "start_time": "2022-09-14T12:47:57.273Z"
      },
      {
        "duration": 6,
        "start_time": "2022-09-14T12:48:23.557Z"
      },
      {
        "duration": 162,
        "start_time": "2022-09-14T12:49:03.695Z"
      },
      {
        "duration": 10,
        "start_time": "2022-09-14T12:49:17.680Z"
      },
      {
        "duration": 5,
        "start_time": "2022-09-14T12:49:24.817Z"
      },
      {
        "duration": 8,
        "start_time": "2022-09-14T12:49:45.984Z"
      },
      {
        "duration": 24,
        "start_time": "2022-09-14T12:52:14.511Z"
      },
      {
        "duration": 24,
        "start_time": "2022-09-14T12:53:33.057Z"
      },
      {
        "duration": 40,
        "start_time": "2022-09-14T12:53:45.136Z"
      },
      {
        "duration": 46,
        "start_time": "2022-09-14T12:53:56.385Z"
      },
      {
        "duration": 33,
        "start_time": "2022-09-14T12:55:07.819Z"
      },
      {
        "duration": 36,
        "start_time": "2022-09-14T12:55:19.705Z"
      },
      {
        "duration": 18,
        "start_time": "2022-09-14T13:02:27.285Z"
      },
      {
        "duration": 24,
        "start_time": "2022-09-14T13:02:39.816Z"
      },
      {
        "duration": 54,
        "start_time": "2022-09-14T13:03:05.033Z"
      },
      {
        "duration": 36,
        "start_time": "2022-09-14T13:04:54.538Z"
      },
      {
        "duration": 19,
        "start_time": "2022-09-14T13:04:56.194Z"
      },
      {
        "duration": 5,
        "start_time": "2022-09-14T13:06:29.983Z"
      },
      {
        "duration": 1761,
        "start_time": "2022-09-14T14:15:33.371Z"
      },
      {
        "duration": 2,
        "start_time": "2022-09-14T14:15:43.785Z"
      },
      {
        "duration": 19,
        "start_time": "2022-09-14T15:54:27.848Z"
      },
      {
        "duration": 71,
        "start_time": "2022-09-14T16:07:23.891Z"
      },
      {
        "duration": 112,
        "start_time": "2022-09-14T16:12:50.902Z"
      },
      {
        "duration": 68,
        "start_time": "2022-09-14T16:12:52.115Z"
      },
      {
        "duration": 6,
        "start_time": "2022-09-14T16:39:15.886Z"
      },
      {
        "duration": 13,
        "start_time": "2022-09-14T16:39:22.174Z"
      },
      {
        "duration": 4,
        "start_time": "2022-09-14T16:40:35.256Z"
      },
      {
        "duration": 4,
        "start_time": "2022-09-14T16:40:43.959Z"
      },
      {
        "duration": 5,
        "start_time": "2022-09-14T16:41:54.733Z"
      },
      {
        "duration": 68,
        "start_time": "2022-09-14T16:45:56.535Z"
      },
      {
        "duration": 9,
        "start_time": "2022-09-14T16:46:03.885Z"
      },
      {
        "duration": 32,
        "start_time": "2022-09-14T16:46:13.374Z"
      },
      {
        "duration": 69,
        "start_time": "2022-09-14T16:51:22.986Z"
      },
      {
        "duration": 6,
        "start_time": "2022-09-14T16:53:07.995Z"
      },
      {
        "duration": 11,
        "start_time": "2022-09-14T16:53:29.022Z"
      },
      {
        "duration": 6,
        "start_time": "2022-09-14T16:53:40.453Z"
      },
      {
        "duration": 13,
        "start_time": "2022-09-14T16:53:47.283Z"
      },
      {
        "duration": 8,
        "start_time": "2022-09-14T16:54:01.388Z"
      },
      {
        "duration": 4,
        "start_time": "2022-09-14T16:54:51.193Z"
      },
      {
        "duration": 4,
        "start_time": "2022-09-14T16:56:37.514Z"
      },
      {
        "duration": 34,
        "start_time": "2022-09-14T16:57:09.617Z"
      },
      {
        "duration": 48,
        "start_time": "2022-09-14T16:57:15.816Z"
      },
      {
        "duration": 5,
        "start_time": "2022-09-14T17:02:24.903Z"
      },
      {
        "duration": 10,
        "start_time": "2022-09-14T17:02:42.237Z"
      },
      {
        "duration": 8,
        "start_time": "2022-09-14T17:03:02.509Z"
      },
      {
        "duration": 6,
        "start_time": "2022-09-14T17:03:09.485Z"
      },
      {
        "duration": 7,
        "start_time": "2022-09-14T17:03:18.452Z"
      },
      {
        "duration": 7,
        "start_time": "2022-09-14T17:03:23.740Z"
      },
      {
        "duration": 7,
        "start_time": "2022-09-14T17:03:30.298Z"
      },
      {
        "duration": 7,
        "start_time": "2022-09-14T17:03:43.826Z"
      },
      {
        "duration": 1839,
        "start_time": "2022-09-14T17:04:19.042Z"
      },
      {
        "duration": 5,
        "start_time": "2022-09-14T17:05:42.752Z"
      },
      {
        "duration": 5,
        "start_time": "2022-09-14T17:08:52.882Z"
      },
      {
        "duration": 7,
        "start_time": "2022-09-14T17:09:37.801Z"
      },
      {
        "duration": 8,
        "start_time": "2022-09-14T17:09:44.625Z"
      },
      {
        "duration": 3,
        "start_time": "2022-09-14T17:11:14.450Z"
      },
      {
        "duration": 1728,
        "start_time": "2022-09-14T17:14:31.667Z"
      },
      {
        "duration": 9,
        "start_time": "2022-09-14T17:14:39.479Z"
      },
      {
        "duration": 6,
        "start_time": "2022-09-14T17:14:40.078Z"
      },
      {
        "duration": 7,
        "start_time": "2022-09-14T17:14:41.848Z"
      },
      {
        "duration": 7,
        "start_time": "2022-09-14T17:14:46.087Z"
      },
      {
        "duration": 70,
        "start_time": "2022-09-14T17:14:46.920Z"
      },
      {
        "duration": 165,
        "start_time": "2022-09-14T17:14:53.230Z"
      },
      {
        "duration": 88,
        "start_time": "2022-09-14T17:15:02.695Z"
      },
      {
        "duration": 11,
        "start_time": "2022-09-14T17:15:36.505Z"
      },
      {
        "duration": 7,
        "start_time": "2022-09-14T17:15:42.293Z"
      },
      {
        "duration": 16,
        "start_time": "2022-09-14T17:15:51.746Z"
      },
      {
        "duration": 11,
        "start_time": "2022-09-14T17:16:12.082Z"
      },
      {
        "duration": 9,
        "start_time": "2022-09-14T17:16:24.923Z"
      },
      {
        "duration": 8,
        "start_time": "2022-09-14T17:16:37.099Z"
      },
      {
        "duration": 1091,
        "start_time": "2022-09-14T17:17:57.517Z"
      },
      {
        "duration": 939,
        "start_time": "2022-09-14T17:19:26.595Z"
      },
      {
        "duration": 557,
        "start_time": "2022-09-14T17:19:29.126Z"
      },
      {
        "duration": 16,
        "start_time": "2022-09-14T17:19:40.627Z"
      },
      {
        "duration": 897,
        "start_time": "2022-09-14T17:20:53.884Z"
      },
      {
        "duration": 747,
        "start_time": "2022-09-14T17:22:35.039Z"
      },
      {
        "duration": 621,
        "start_time": "2022-09-14T17:22:51.088Z"
      },
      {
        "duration": 639,
        "start_time": "2022-09-14T17:23:07.874Z"
      },
      {
        "duration": 531,
        "start_time": "2022-09-14T17:23:17.163Z"
      },
      {
        "duration": 1962,
        "start_time": "2022-09-14T17:23:26.453Z"
      },
      {
        "duration": 115,
        "start_time": "2022-09-14T17:23:29.631Z"
      },
      {
        "duration": 117,
        "start_time": "2022-09-14T17:23:30.777Z"
      },
      {
        "duration": 129,
        "start_time": "2022-09-14T17:23:31.686Z"
      },
      {
        "duration": 116,
        "start_time": "2022-09-14T17:23:32.557Z"
      },
      {
        "duration": 125,
        "start_time": "2022-09-14T17:23:33.303Z"
      },
      {
        "duration": 115,
        "start_time": "2022-09-14T17:23:33.958Z"
      },
      {
        "duration": 9,
        "start_time": "2022-09-14T17:23:35.590Z"
      },
      {
        "duration": 10,
        "start_time": "2022-09-14T17:23:36.677Z"
      },
      {
        "duration": 9,
        "start_time": "2022-09-14T17:23:39.483Z"
      },
      {
        "duration": 8,
        "start_time": "2022-09-14T17:23:40.597Z"
      },
      {
        "duration": 7,
        "start_time": "2022-09-14T17:23:42.141Z"
      },
      {
        "duration": 8,
        "start_time": "2022-09-14T17:23:47.613Z"
      },
      {
        "duration": 10,
        "start_time": "2022-09-14T17:23:51.861Z"
      },
      {
        "duration": 21,
        "start_time": "2022-09-14T17:24:05.530Z"
      },
      {
        "duration": 12,
        "start_time": "2022-09-14T17:24:18.668Z"
      },
      {
        "duration": 22,
        "start_time": "2022-09-14T17:24:28.401Z"
      },
      {
        "duration": 162,
        "start_time": "2022-09-14T17:24:36.946Z"
      },
      {
        "duration": 349,
        "start_time": "2022-09-14T17:24:58.280Z"
      },
      {
        "duration": 21,
        "start_time": "2022-09-14T17:25:00.904Z"
      },
      {
        "duration": 20,
        "start_time": "2022-09-14T17:26:41.915Z"
      },
      {
        "duration": 30,
        "start_time": "2022-09-14T17:27:06.192Z"
      },
      {
        "duration": 20,
        "start_time": "2022-09-14T17:28:49.089Z"
      },
      {
        "duration": 21,
        "start_time": "2022-09-14T17:28:53.113Z"
      },
      {
        "duration": 22,
        "start_time": "2022-09-14T17:28:56.583Z"
      },
      {
        "duration": 21,
        "start_time": "2022-09-14T17:29:03.079Z"
      },
      {
        "duration": 21,
        "start_time": "2022-09-14T17:29:06.273Z"
      },
      {
        "duration": 26,
        "start_time": "2022-09-14T17:29:08.908Z"
      },
      {
        "duration": 27,
        "start_time": "2022-09-14T17:29:14.492Z"
      },
      {
        "duration": 5,
        "start_time": "2022-09-14T17:29:37.516Z"
      },
      {
        "duration": 85,
        "start_time": "2022-09-14T17:30:14.641Z"
      },
      {
        "duration": 6,
        "start_time": "2022-09-14T17:30:31.807Z"
      },
      {
        "duration": 3,
        "start_time": "2022-09-14T17:30:52.776Z"
      },
      {
        "duration": 3,
        "start_time": "2022-09-14T17:57:24.014Z"
      },
      {
        "duration": 9,
        "start_time": "2022-09-14T18:01:40.528Z"
      },
      {
        "duration": 9,
        "start_time": "2022-09-14T18:01:58.028Z"
      },
      {
        "duration": 8,
        "start_time": "2022-09-14T18:03:31.454Z"
      },
      {
        "duration": 9,
        "start_time": "2022-09-14T18:03:34.884Z"
      },
      {
        "duration": 6,
        "start_time": "2022-09-14T18:03:50.414Z"
      },
      {
        "duration": 18,
        "start_time": "2022-09-14T18:07:00.542Z"
      },
      {
        "duration": 16,
        "start_time": "2022-09-14T18:07:45.874Z"
      },
      {
        "duration": 5,
        "start_time": "2022-09-14T18:08:18.985Z"
      },
      {
        "duration": 16,
        "start_time": "2022-09-14T18:08:41.048Z"
      },
      {
        "duration": 14,
        "start_time": "2022-09-14T18:09:27.081Z"
      },
      {
        "duration": 364,
        "start_time": "2022-09-14T18:11:42.587Z"
      },
      {
        "duration": 4,
        "start_time": "2022-09-14T18:11:54.268Z"
      },
      {
        "duration": 575,
        "start_time": "2022-09-14T18:11:55.575Z"
      },
      {
        "duration": 62,
        "start_time": "2022-09-14T18:12:09.642Z"
      },
      {
        "duration": 235,
        "start_time": "2022-09-14T18:13:35.906Z"
      },
      {
        "duration": 68,
        "start_time": "2022-09-14T18:14:07.749Z"
      },
      {
        "duration": 67,
        "start_time": "2022-09-14T18:14:43.415Z"
      },
      {
        "duration": 9,
        "start_time": "2022-09-14T18:16:24.181Z"
      },
      {
        "duration": 3,
        "start_time": "2022-09-14T18:16:28.855Z"
      },
      {
        "duration": 10,
        "start_time": "2022-09-14T18:16:45.329Z"
      },
      {
        "duration": 8,
        "start_time": "2022-09-14T18:16:58.149Z"
      },
      {
        "duration": 9,
        "start_time": "2022-09-14T18:17:02.031Z"
      },
      {
        "duration": 4,
        "start_time": "2022-09-14T18:17:05.982Z"
      },
      {
        "duration": 6,
        "start_time": "2022-09-14T18:17:12.381Z"
      },
      {
        "duration": 10,
        "start_time": "2022-09-14T18:17:17.946Z"
      },
      {
        "duration": 9,
        "start_time": "2022-09-14T18:17:56.556Z"
      },
      {
        "duration": 10,
        "start_time": "2022-09-14T18:18:05.103Z"
      },
      {
        "duration": 9,
        "start_time": "2022-09-14T18:18:37.560Z"
      },
      {
        "duration": 9,
        "start_time": "2022-09-14T18:19:00.010Z"
      },
      {
        "duration": 5,
        "start_time": "2022-09-14T18:19:04.475Z"
      },
      {
        "duration": 4,
        "start_time": "2022-09-14T18:19:09.048Z"
      },
      {
        "duration": 5,
        "start_time": "2022-09-14T18:19:16.711Z"
      },
      {
        "duration": 11,
        "start_time": "2022-09-14T18:19:20.656Z"
      },
      {
        "duration": 491,
        "start_time": "2022-09-14T18:20:35.691Z"
      },
      {
        "duration": 376,
        "start_time": "2022-09-14T18:20:55.083Z"
      },
      {
        "duration": 10,
        "start_time": "2022-09-14T18:21:01.127Z"
      },
      {
        "duration": 8,
        "start_time": "2022-09-14T18:21:05.397Z"
      },
      {
        "duration": 6,
        "start_time": "2022-09-14T18:21:15.609Z"
      },
      {
        "duration": 3093,
        "start_time": "2022-09-15T11:56:31.574Z"
      },
      {
        "duration": 145,
        "start_time": "2022-09-15T11:56:34.670Z"
      },
      {
        "duration": 133,
        "start_time": "2022-09-15T11:56:34.817Z"
      },
      {
        "duration": 163,
        "start_time": "2022-09-15T11:56:34.953Z"
      },
      {
        "duration": 151,
        "start_time": "2022-09-15T11:56:35.118Z"
      },
      {
        "duration": 157,
        "start_time": "2022-09-15T11:56:35.271Z"
      },
      {
        "duration": 271,
        "start_time": "2022-09-15T11:56:35.430Z"
      },
      {
        "duration": 11,
        "start_time": "2022-09-15T11:56:35.703Z"
      },
      {
        "duration": 20,
        "start_time": "2022-09-15T11:56:35.717Z"
      },
      {
        "duration": 9,
        "start_time": "2022-09-15T11:56:35.740Z"
      },
      {
        "duration": 10,
        "start_time": "2022-09-15T11:56:35.751Z"
      },
      {
        "duration": 73,
        "start_time": "2022-09-15T11:56:35.763Z"
      },
      {
        "duration": 89,
        "start_time": "2022-09-15T11:56:35.839Z"
      },
      {
        "duration": 189,
        "start_time": "2022-09-15T11:56:35.930Z"
      },
      {
        "duration": 0,
        "start_time": "2022-09-15T11:56:36.122Z"
      },
      {
        "duration": 0,
        "start_time": "2022-09-15T11:56:36.122Z"
      },
      {
        "duration": 0,
        "start_time": "2022-09-15T11:56:36.124Z"
      },
      {
        "duration": 0,
        "start_time": "2022-09-15T11:56:36.125Z"
      },
      {
        "duration": 0,
        "start_time": "2022-09-15T11:56:36.126Z"
      },
      {
        "duration": 108,
        "start_time": "2022-09-15T11:56:48.329Z"
      },
      {
        "duration": 59,
        "start_time": "2022-09-15T12:00:00.155Z"
      },
      {
        "duration": 27,
        "start_time": "2022-09-15T12:00:15.733Z"
      },
      {
        "duration": 236,
        "start_time": "2022-09-15T12:03:30.964Z"
      },
      {
        "duration": 302,
        "start_time": "2022-09-15T12:03:36.654Z"
      },
      {
        "duration": 2168,
        "start_time": "2022-09-15T12:03:44.012Z"
      },
      {
        "duration": 147,
        "start_time": "2022-09-15T12:03:46.182Z"
      },
      {
        "duration": 153,
        "start_time": "2022-09-15T12:03:46.331Z"
      },
      {
        "duration": 154,
        "start_time": "2022-09-15T12:03:46.486Z"
      },
      {
        "duration": 169,
        "start_time": "2022-09-15T12:03:46.642Z"
      },
      {
        "duration": 161,
        "start_time": "2022-09-15T12:03:46.813Z"
      },
      {
        "duration": 155,
        "start_time": "2022-09-15T12:03:46.976Z"
      },
      {
        "duration": 9,
        "start_time": "2022-09-15T12:03:47.133Z"
      },
      {
        "duration": 26,
        "start_time": "2022-09-15T12:03:47.143Z"
      },
      {
        "duration": 6,
        "start_time": "2022-09-15T12:03:47.172Z"
      },
      {
        "duration": 9,
        "start_time": "2022-09-15T12:03:47.180Z"
      },
      {
        "duration": 26,
        "start_time": "2022-09-15T12:03:47.200Z"
      },
      {
        "duration": 73,
        "start_time": "2022-09-15T12:03:47.229Z"
      },
      {
        "duration": 72,
        "start_time": "2022-09-15T12:03:47.790Z"
      },
      {
        "duration": 112,
        "start_time": "2022-09-15T12:03:53.879Z"
      },
      {
        "duration": 72,
        "start_time": "2022-09-15T12:03:57.126Z"
      },
      {
        "duration": 92,
        "start_time": "2022-09-15T12:03:57.626Z"
      },
      {
        "duration": 6,
        "start_time": "2022-09-15T12:03:59.642Z"
      },
      {
        "duration": 286,
        "start_time": "2022-09-15T12:04:00.267Z"
      },
      {
        "duration": 13,
        "start_time": "2022-09-15T12:04:00.802Z"
      },
      {
        "duration": 10,
        "start_time": "2022-09-15T12:04:02.298Z"
      },
      {
        "duration": 336,
        "start_time": "2022-09-15T12:04:06.962Z"
      },
      {
        "duration": 103,
        "start_time": "2022-09-15T12:04:55.261Z"
      },
      {
        "duration": 3284,
        "start_time": "2022-09-15T12:05:08.887Z"
      },
      {
        "duration": 2374,
        "start_time": "2022-09-15T12:05:33.647Z"
      },
      {
        "duration": 149,
        "start_time": "2022-09-15T12:05:37.374Z"
      },
      {
        "duration": 206,
        "start_time": "2022-09-15T12:05:38.461Z"
      },
      {
        "duration": 138,
        "start_time": "2022-09-15T12:05:41.790Z"
      },
      {
        "duration": 11,
        "start_time": "2022-09-15T12:05:45.840Z"
      },
      {
        "duration": 12,
        "start_time": "2022-09-15T12:05:48.374Z"
      },
      {
        "duration": 8,
        "start_time": "2022-09-15T12:05:50.532Z"
      },
      {
        "duration": 11,
        "start_time": "2022-09-15T12:05:52.637Z"
      },
      {
        "duration": 37,
        "start_time": "2022-09-15T12:05:55.750Z"
      },
      {
        "duration": 165,
        "start_time": "2022-09-15T12:06:00.445Z"
      },
      {
        "duration": 86,
        "start_time": "2022-09-15T12:06:04.860Z"
      },
      {
        "duration": 76,
        "start_time": "2022-09-15T12:06:06.668Z"
      },
      {
        "duration": 93,
        "start_time": "2022-09-15T12:06:16.169Z"
      },
      {
        "duration": 114,
        "start_time": "2022-09-15T12:06:21.369Z"
      },
      {
        "duration": 99,
        "start_time": "2022-09-15T12:06:22.709Z"
      },
      {
        "duration": 7,
        "start_time": "2022-09-15T12:06:25.829Z"
      },
      {
        "duration": 319,
        "start_time": "2022-09-15T12:06:27.135Z"
      },
      {
        "duration": 15,
        "start_time": "2022-09-15T12:06:28.918Z"
      },
      {
        "duration": 10,
        "start_time": "2022-09-15T12:06:30.246Z"
      },
      {
        "duration": 237,
        "start_time": "2022-09-15T12:06:32.637Z"
      },
      {
        "duration": 30,
        "start_time": "2022-09-15T12:06:55.312Z"
      },
      {
        "duration": 1238,
        "start_time": "2022-09-15T12:07:13.401Z"
      },
      {
        "duration": 2003,
        "start_time": "2022-09-15T12:07:28.211Z"
      },
      {
        "duration": 325,
        "start_time": "2022-09-15T12:07:30.216Z"
      },
      {
        "duration": 152,
        "start_time": "2022-09-15T12:07:30.543Z"
      },
      {
        "duration": 145,
        "start_time": "2022-09-15T12:07:30.700Z"
      },
      {
        "duration": 163,
        "start_time": "2022-09-15T12:07:30.847Z"
      },
      {
        "duration": 166,
        "start_time": "2022-09-15T12:07:31.012Z"
      },
      {
        "duration": 153,
        "start_time": "2022-09-15T12:07:31.180Z"
      },
      {
        "duration": 8,
        "start_time": "2022-09-15T12:07:31.335Z"
      },
      {
        "duration": 15,
        "start_time": "2022-09-15T12:07:31.345Z"
      },
      {
        "duration": 13,
        "start_time": "2022-09-15T12:07:31.363Z"
      },
      {
        "duration": 22,
        "start_time": "2022-09-15T12:07:31.378Z"
      },
      {
        "duration": 25,
        "start_time": "2022-09-15T12:07:31.402Z"
      },
      {
        "duration": 67,
        "start_time": "2022-09-15T12:07:36.461Z"
      },
      {
        "duration": 77,
        "start_time": "2022-09-15T12:07:36.530Z"
      },
      {
        "duration": 0,
        "start_time": "2022-09-15T12:07:36.609Z"
      },
      {
        "duration": 0,
        "start_time": "2022-09-15T12:07:36.610Z"
      },
      {
        "duration": 0,
        "start_time": "2022-09-15T12:07:36.612Z"
      },
      {
        "duration": 0,
        "start_time": "2022-09-15T12:07:36.613Z"
      },
      {
        "duration": 0,
        "start_time": "2022-09-15T12:07:36.615Z"
      },
      {
        "duration": 270,
        "start_time": "2022-09-15T12:07:41.323Z"
      },
      {
        "duration": 2140,
        "start_time": "2022-09-15T12:07:50.862Z"
      },
      {
        "duration": 148,
        "start_time": "2022-09-15T12:07:53.004Z"
      },
      {
        "duration": 146,
        "start_time": "2022-09-15T12:07:53.154Z"
      },
      {
        "duration": 160,
        "start_time": "2022-09-15T12:07:53.303Z"
      },
      {
        "duration": 216,
        "start_time": "2022-09-15T12:07:53.467Z"
      },
      {
        "duration": 167,
        "start_time": "2022-09-15T12:07:53.686Z"
      },
      {
        "duration": 145,
        "start_time": "2022-09-15T12:07:53.855Z"
      },
      {
        "duration": 9,
        "start_time": "2022-09-15T12:07:54.002Z"
      },
      {
        "duration": 19,
        "start_time": "2022-09-15T12:07:54.013Z"
      },
      {
        "duration": 8,
        "start_time": "2022-09-15T12:07:54.036Z"
      },
      {
        "duration": 13,
        "start_time": "2022-09-15T12:07:54.047Z"
      },
      {
        "duration": 53,
        "start_time": "2022-09-15T12:07:54.062Z"
      },
      {
        "duration": 115,
        "start_time": "2022-09-15T12:07:54.118Z"
      },
      {
        "duration": 90,
        "start_time": "2022-09-15T12:07:54.235Z"
      },
      {
        "duration": 0,
        "start_time": "2022-09-15T12:07:54.327Z"
      },
      {
        "duration": 0,
        "start_time": "2022-09-15T12:07:54.329Z"
      },
      {
        "duration": 0,
        "start_time": "2022-09-15T12:07:54.330Z"
      },
      {
        "duration": 0,
        "start_time": "2022-09-15T12:07:54.332Z"
      },
      {
        "duration": 1,
        "start_time": "2022-09-15T12:07:54.333Z"
      },
      {
        "duration": 96,
        "start_time": "2022-09-15T12:09:44.989Z"
      },
      {
        "duration": 311,
        "start_time": "2022-09-15T12:09:52.422Z"
      },
      {
        "duration": 101,
        "start_time": "2022-09-15T12:09:54.961Z"
      },
      {
        "duration": 709,
        "start_time": "2022-09-15T12:10:11.859Z"
      },
      {
        "duration": 2039,
        "start_time": "2022-09-15T12:12:21.649Z"
      },
      {
        "duration": 145,
        "start_time": "2022-09-15T12:12:23.690Z"
      },
      {
        "duration": 142,
        "start_time": "2022-09-15T12:12:23.837Z"
      },
      {
        "duration": 179,
        "start_time": "2022-09-15T12:12:23.981Z"
      },
      {
        "duration": 169,
        "start_time": "2022-09-15T12:12:24.162Z"
      },
      {
        "duration": 182,
        "start_time": "2022-09-15T12:12:24.333Z"
      },
      {
        "duration": 183,
        "start_time": "2022-09-15T12:12:24.517Z"
      },
      {
        "duration": 8,
        "start_time": "2022-09-15T12:12:24.702Z"
      },
      {
        "duration": 42,
        "start_time": "2022-09-15T12:12:24.711Z"
      },
      {
        "duration": 9,
        "start_time": "2022-09-15T12:12:24.756Z"
      },
      {
        "duration": 12,
        "start_time": "2022-09-15T12:12:24.767Z"
      },
      {
        "duration": 31,
        "start_time": "2022-09-15T12:12:24.781Z"
      },
      {
        "duration": 71,
        "start_time": "2022-09-15T12:12:24.813Z"
      },
      {
        "duration": 352,
        "start_time": "2022-09-15T12:12:24.886Z"
      },
      {
        "duration": 0,
        "start_time": "2022-09-15T12:12:25.240Z"
      },
      {
        "duration": 0,
        "start_time": "2022-09-15T12:12:25.242Z"
      },
      {
        "duration": 0,
        "start_time": "2022-09-15T12:12:25.243Z"
      },
      {
        "duration": 0,
        "start_time": "2022-09-15T12:12:25.244Z"
      },
      {
        "duration": 0,
        "start_time": "2022-09-15T12:12:25.246Z"
      },
      {
        "duration": 829,
        "start_time": "2022-09-15T12:12:28.909Z"
      },
      {
        "duration": 210,
        "start_time": "2022-09-15T12:12:39.850Z"
      },
      {
        "duration": 2059,
        "start_time": "2022-09-15T12:12:52.279Z"
      },
      {
        "duration": 196,
        "start_time": "2022-09-15T12:12:54.340Z"
      },
      {
        "duration": 192,
        "start_time": "2022-09-15T12:12:54.539Z"
      },
      {
        "duration": 143,
        "start_time": "2022-09-15T12:12:54.733Z"
      },
      {
        "duration": 175,
        "start_time": "2022-09-15T12:12:54.878Z"
      },
      {
        "duration": 175,
        "start_time": "2022-09-15T12:12:55.055Z"
      },
      {
        "duration": 167,
        "start_time": "2022-09-15T12:12:55.233Z"
      },
      {
        "duration": 8,
        "start_time": "2022-09-15T12:12:55.402Z"
      },
      {
        "duration": 21,
        "start_time": "2022-09-15T12:12:55.411Z"
      },
      {
        "duration": 7,
        "start_time": "2022-09-15T12:12:55.434Z"
      },
      {
        "duration": 10,
        "start_time": "2022-09-15T12:12:55.442Z"
      },
      {
        "duration": 51,
        "start_time": "2022-09-15T12:12:55.454Z"
      },
      {
        "duration": 67,
        "start_time": "2022-09-15T12:12:55.507Z"
      },
      {
        "duration": 90,
        "start_time": "2022-09-15T12:12:55.577Z"
      },
      {
        "duration": 0,
        "start_time": "2022-09-15T12:12:55.669Z"
      },
      {
        "duration": 0,
        "start_time": "2022-09-15T12:12:55.670Z"
      },
      {
        "duration": 0,
        "start_time": "2022-09-15T12:12:55.672Z"
      },
      {
        "duration": 0,
        "start_time": "2022-09-15T12:12:55.673Z"
      },
      {
        "duration": 0,
        "start_time": "2022-09-15T12:12:55.674Z"
      },
      {
        "duration": 14,
        "start_time": "2022-09-15T12:13:03.478Z"
      },
      {
        "duration": 650,
        "start_time": "2022-09-15T12:13:07.289Z"
      },
      {
        "duration": 82,
        "start_time": "2022-09-15T12:13:09.218Z"
      },
      {
        "duration": 104,
        "start_time": "2022-09-15T12:13:10.090Z"
      },
      {
        "duration": 115,
        "start_time": "2022-09-15T12:13:11.936Z"
      },
      {
        "duration": 99,
        "start_time": "2022-09-15T12:13:14.848Z"
      },
      {
        "duration": 74,
        "start_time": "2022-09-15T12:13:20.632Z"
      },
      {
        "duration": 884,
        "start_time": "2022-09-15T12:13:23.268Z"
      },
      {
        "duration": 668,
        "start_time": "2022-09-15T12:13:29.444Z"
      },
      {
        "duration": 711,
        "start_time": "2022-09-15T12:13:42.241Z"
      },
      {
        "duration": 19,
        "start_time": "2022-09-15T12:14:18.086Z"
      },
      {
        "duration": 22,
        "start_time": "2022-09-15T12:14:27.014Z"
      },
      {
        "duration": 31,
        "start_time": "2022-09-15T12:14:44.141Z"
      },
      {
        "duration": 22,
        "start_time": "2022-09-15T12:14:46.911Z"
      },
      {
        "duration": 20,
        "start_time": "2022-09-15T12:14:49.971Z"
      },
      {
        "duration": 27,
        "start_time": "2022-09-15T12:14:52.509Z"
      },
      {
        "duration": 25,
        "start_time": "2022-09-15T12:14:56.411Z"
      },
      {
        "duration": 17,
        "start_time": "2022-09-15T12:14:58.596Z"
      },
      {
        "duration": 28,
        "start_time": "2022-09-15T12:15:00.763Z"
      },
      {
        "duration": 23,
        "start_time": "2022-09-15T12:15:06.154Z"
      },
      {
        "duration": 262,
        "start_time": "2022-09-15T12:15:22.291Z"
      },
      {
        "duration": 23,
        "start_time": "2022-09-15T12:15:27.818Z"
      },
      {
        "duration": 21,
        "start_time": "2022-09-15T12:15:52.409Z"
      },
      {
        "duration": 19,
        "start_time": "2022-09-15T12:16:01.990Z"
      },
      {
        "duration": 798,
        "start_time": "2022-09-15T12:18:11.950Z"
      },
      {
        "duration": 665,
        "start_time": "2022-09-15T12:18:21.890Z"
      },
      {
        "duration": 2289,
        "start_time": "2022-09-15T12:18:30.258Z"
      },
      {
        "duration": 144,
        "start_time": "2022-09-15T12:18:32.549Z"
      },
      {
        "duration": 149,
        "start_time": "2022-09-15T12:18:32.694Z"
      },
      {
        "duration": 152,
        "start_time": "2022-09-15T12:18:32.845Z"
      },
      {
        "duration": 146,
        "start_time": "2022-09-15T12:18:32.999Z"
      },
      {
        "duration": 167,
        "start_time": "2022-09-15T12:18:33.146Z"
      },
      {
        "duration": 165,
        "start_time": "2022-09-15T12:18:33.315Z"
      },
      {
        "duration": 22,
        "start_time": "2022-09-15T12:18:33.482Z"
      },
      {
        "duration": 37,
        "start_time": "2022-09-15T12:18:33.506Z"
      },
      {
        "duration": 2130,
        "start_time": "2022-09-15T12:18:38.194Z"
      },
      {
        "duration": 143,
        "start_time": "2022-09-15T12:18:42.898Z"
      },
      {
        "duration": 152,
        "start_time": "2022-09-15T12:18:44.127Z"
      },
      {
        "duration": 139,
        "start_time": "2022-09-15T12:18:45.464Z"
      },
      {
        "duration": 139,
        "start_time": "2022-09-15T12:18:46.193Z"
      },
      {
        "duration": 143,
        "start_time": "2022-09-15T12:18:47.508Z"
      },
      {
        "duration": 134,
        "start_time": "2022-09-15T12:18:48.248Z"
      },
      {
        "duration": 7,
        "start_time": "2022-09-15T12:18:50.232Z"
      },
      {
        "duration": 12,
        "start_time": "2022-09-15T12:18:51.727Z"
      },
      {
        "duration": 8,
        "start_time": "2022-09-15T12:18:54.479Z"
      },
      {
        "duration": 7,
        "start_time": "2022-09-15T12:18:55.464Z"
      },
      {
        "duration": 26,
        "start_time": "2022-09-15T12:18:58.888Z"
      },
      {
        "duration": 34,
        "start_time": "2022-09-15T12:19:03.496Z"
      },
      {
        "duration": 23,
        "start_time": "2022-09-15T12:19:05.912Z"
      },
      {
        "duration": 23,
        "start_time": "2022-09-15T12:19:09.270Z"
      },
      {
        "duration": 27,
        "start_time": "2022-09-15T12:19:16.374Z"
      },
      {
        "duration": 77,
        "start_time": "2022-09-15T12:19:19.380Z"
      },
      {
        "duration": 83,
        "start_time": "2022-09-15T12:19:20.684Z"
      },
      {
        "duration": 678,
        "start_time": "2022-09-15T12:19:36.565Z"
      },
      {
        "duration": 641,
        "start_time": "2022-09-15T12:19:39.638Z"
      },
      {
        "duration": 2326,
        "start_time": "2022-09-15T12:19:46.063Z"
      },
      {
        "duration": 151,
        "start_time": "2022-09-15T12:19:48.391Z"
      },
      {
        "duration": 140,
        "start_time": "2022-09-15T12:19:48.544Z"
      },
      {
        "duration": 145,
        "start_time": "2022-09-15T12:19:48.686Z"
      },
      {
        "duration": 140,
        "start_time": "2022-09-15T12:19:48.832Z"
      },
      {
        "duration": 155,
        "start_time": "2022-09-15T12:19:48.974Z"
      },
      {
        "duration": 162,
        "start_time": "2022-09-15T12:19:49.131Z"
      },
      {
        "duration": 14,
        "start_time": "2022-09-15T12:19:49.299Z"
      },
      {
        "duration": 21,
        "start_time": "2022-09-15T12:19:49.314Z"
      },
      {
        "duration": 6,
        "start_time": "2022-09-15T12:19:49.337Z"
      },
      {
        "duration": 10,
        "start_time": "2022-09-15T12:19:49.345Z"
      },
      {
        "duration": 24,
        "start_time": "2022-09-15T12:19:49.357Z"
      },
      {
        "duration": 24,
        "start_time": "2022-09-15T12:19:53.861Z"
      },
      {
        "duration": 87,
        "start_time": "2022-09-15T12:19:59.486Z"
      },
      {
        "duration": 79,
        "start_time": "2022-09-15T12:20:09.234Z"
      },
      {
        "duration": 962,
        "start_time": "2022-09-15T12:20:17.864Z"
      },
      {
        "duration": 666,
        "start_time": "2022-09-15T12:21:20.220Z"
      },
      {
        "duration": 1961,
        "start_time": "2022-09-15T12:21:25.625Z"
      },
      {
        "duration": 150,
        "start_time": "2022-09-15T12:21:27.589Z"
      },
      {
        "duration": 147,
        "start_time": "2022-09-15T12:21:27.741Z"
      },
      {
        "duration": 156,
        "start_time": "2022-09-15T12:21:27.903Z"
      },
      {
        "duration": 158,
        "start_time": "2022-09-15T12:21:28.062Z"
      },
      {
        "duration": 150,
        "start_time": "2022-09-15T12:21:28.221Z"
      },
      {
        "duration": 156,
        "start_time": "2022-09-15T12:21:28.373Z"
      },
      {
        "duration": 9,
        "start_time": "2022-09-15T12:21:28.531Z"
      },
      {
        "duration": 13,
        "start_time": "2022-09-15T12:21:28.541Z"
      },
      {
        "duration": 5,
        "start_time": "2022-09-15T12:21:28.556Z"
      },
      {
        "duration": 7,
        "start_time": "2022-09-15T12:21:28.563Z"
      },
      {
        "duration": 27,
        "start_time": "2022-09-15T12:21:28.992Z"
      },
      {
        "duration": 76,
        "start_time": "2022-09-15T12:21:36.813Z"
      },
      {
        "duration": 402,
        "start_time": "2022-09-15T12:21:42.223Z"
      },
      {
        "duration": 29,
        "start_time": "2022-09-15T12:21:46.899Z"
      },
      {
        "duration": 84,
        "start_time": "2022-09-15T12:21:52.462Z"
      },
      {
        "duration": 79,
        "start_time": "2022-09-15T12:21:57.245Z"
      },
      {
        "duration": 83,
        "start_time": "2022-09-15T12:21:59.870Z"
      },
      {
        "duration": 78,
        "start_time": "2022-09-15T12:22:06.135Z"
      },
      {
        "duration": 77,
        "start_time": "2022-09-15T12:22:08.859Z"
      },
      {
        "duration": 135,
        "start_time": "2022-09-15T12:22:12.079Z"
      },
      {
        "duration": 100,
        "start_time": "2022-09-15T12:22:17.053Z"
      },
      {
        "duration": 85,
        "start_time": "2022-09-15T12:22:22.454Z"
      },
      {
        "duration": 137,
        "start_time": "2022-09-15T12:22:24.416Z"
      },
      {
        "duration": 634,
        "start_time": "2022-09-15T12:22:30.653Z"
      },
      {
        "duration": 2091,
        "start_time": "2022-09-15T12:22:35.101Z"
      },
      {
        "duration": 168,
        "start_time": "2022-09-15T12:22:37.205Z"
      },
      {
        "duration": 160,
        "start_time": "2022-09-15T12:22:37.375Z"
      },
      {
        "duration": 156,
        "start_time": "2022-09-15T12:22:37.537Z"
      },
      {
        "duration": 150,
        "start_time": "2022-09-15T12:22:37.695Z"
      },
      {
        "duration": 160,
        "start_time": "2022-09-15T12:22:37.847Z"
      },
      {
        "duration": 138,
        "start_time": "2022-09-15T12:22:38.009Z"
      },
      {
        "duration": 8,
        "start_time": "2022-09-15T12:22:38.148Z"
      },
      {
        "duration": 15,
        "start_time": "2022-09-15T12:22:38.158Z"
      },
      {
        "duration": 7,
        "start_time": "2022-09-15T12:22:38.176Z"
      },
      {
        "duration": 31,
        "start_time": "2022-09-15T12:22:38.185Z"
      },
      {
        "duration": 27,
        "start_time": "2022-09-15T12:22:38.218Z"
      },
      {
        "duration": 73,
        "start_time": "2022-09-15T12:22:43.516Z"
      },
      {
        "duration": 2098,
        "start_time": "2022-09-15T12:22:46.422Z"
      },
      {
        "duration": 139,
        "start_time": "2022-09-15T12:22:48.522Z"
      },
      {
        "duration": 155,
        "start_time": "2022-09-15T12:22:48.663Z"
      },
      {
        "duration": 138,
        "start_time": "2022-09-15T12:22:48.823Z"
      },
      {
        "duration": 154,
        "start_time": "2022-09-15T12:22:48.962Z"
      },
      {
        "duration": 145,
        "start_time": "2022-09-15T12:22:49.120Z"
      },
      {
        "duration": 169,
        "start_time": "2022-09-15T12:22:49.267Z"
      },
      {
        "duration": 13,
        "start_time": "2022-09-15T12:22:49.439Z"
      },
      {
        "duration": 40,
        "start_time": "2022-09-15T12:22:49.454Z"
      },
      {
        "duration": 11,
        "start_time": "2022-09-15T12:22:49.496Z"
      },
      {
        "duration": 17,
        "start_time": "2022-09-15T12:22:49.513Z"
      },
      {
        "duration": 22,
        "start_time": "2022-09-15T12:22:49.532Z"
      },
      {
        "duration": 79,
        "start_time": "2022-09-15T12:22:49.556Z"
      },
      {
        "duration": 86,
        "start_time": "2022-09-15T12:22:49.636Z"
      },
      {
        "duration": 775,
        "start_time": "2022-09-15T12:23:04.004Z"
      },
      {
        "duration": 2454,
        "start_time": "2022-09-15T12:23:09.398Z"
      },
      {
        "duration": 151,
        "start_time": "2022-09-15T12:23:11.854Z"
      },
      {
        "duration": 132,
        "start_time": "2022-09-15T12:23:12.009Z"
      },
      {
        "duration": 153,
        "start_time": "2022-09-15T12:23:12.143Z"
      },
      {
        "duration": 147,
        "start_time": "2022-09-15T12:23:12.297Z"
      },
      {
        "duration": 143,
        "start_time": "2022-09-15T12:23:12.446Z"
      },
      {
        "duration": 163,
        "start_time": "2022-09-15T12:23:12.590Z"
      },
      {
        "duration": 9,
        "start_time": "2022-09-15T12:23:12.755Z"
      },
      {
        "duration": 13,
        "start_time": "2022-09-15T12:23:12.766Z"
      },
      {
        "duration": 26,
        "start_time": "2022-09-15T12:23:12.782Z"
      },
      {
        "duration": 21,
        "start_time": "2022-09-15T12:23:12.809Z"
      },
      {
        "duration": 26,
        "start_time": "2022-09-15T12:23:23.969Z"
      },
      {
        "duration": 89,
        "start_time": "2022-09-15T12:23:28.036Z"
      },
      {
        "duration": 100,
        "start_time": "2022-09-15T12:23:29.816Z"
      },
      {
        "duration": 114,
        "start_time": "2022-09-15T12:23:33.297Z"
      },
      {
        "duration": 2033,
        "start_time": "2022-09-15T12:23:46.330Z"
      },
      {
        "duration": 157,
        "start_time": "2022-09-15T12:23:48.364Z"
      },
      {
        "duration": 147,
        "start_time": "2022-09-15T12:23:48.523Z"
      },
      {
        "duration": 158,
        "start_time": "2022-09-15T12:23:48.672Z"
      },
      {
        "duration": 156,
        "start_time": "2022-09-15T12:23:48.832Z"
      },
      {
        "duration": 148,
        "start_time": "2022-09-15T12:23:48.990Z"
      },
      {
        "duration": 144,
        "start_time": "2022-09-15T12:23:49.139Z"
      },
      {
        "duration": 18,
        "start_time": "2022-09-15T12:23:49.284Z"
      },
      {
        "duration": 19,
        "start_time": "2022-09-15T12:23:49.303Z"
      },
      {
        "duration": 12,
        "start_time": "2022-09-15T12:23:49.324Z"
      },
      {
        "duration": 7,
        "start_time": "2022-09-15T12:23:49.338Z"
      },
      {
        "duration": 24,
        "start_time": "2022-09-15T12:23:49.347Z"
      },
      {
        "duration": 89,
        "start_time": "2022-09-15T12:23:49.373Z"
      },
      {
        "duration": 84,
        "start_time": "2022-09-15T12:24:06.368Z"
      },
      {
        "duration": 2166,
        "start_time": "2022-09-15T12:24:11.961Z"
      },
      {
        "duration": 145,
        "start_time": "2022-09-15T12:24:14.130Z"
      },
      {
        "duration": 756,
        "start_time": "2022-09-15T12:24:14.278Z"
      },
      {
        "duration": 174,
        "start_time": "2022-09-15T12:24:15.036Z"
      },
      {
        "duration": 245,
        "start_time": "2022-09-15T12:24:15.213Z"
      },
      {
        "duration": 170,
        "start_time": "2022-09-15T12:24:15.460Z"
      },
      {
        "duration": 147,
        "start_time": "2022-09-15T12:24:15.631Z"
      },
      {
        "duration": 8,
        "start_time": "2022-09-15T12:24:15.780Z"
      },
      {
        "duration": 16,
        "start_time": "2022-09-15T12:24:15.801Z"
      },
      {
        "duration": 19,
        "start_time": "2022-09-15T12:24:15.822Z"
      },
      {
        "duration": 19,
        "start_time": "2022-09-15T12:24:15.843Z"
      },
      {
        "duration": 53,
        "start_time": "2022-09-15T12:24:15.864Z"
      },
      {
        "duration": 70,
        "start_time": "2022-09-15T12:24:15.919Z"
      },
      {
        "duration": 85,
        "start_time": "2022-09-15T12:24:15.991Z"
      },
      {
        "duration": 1917,
        "start_time": "2022-09-15T12:24:50.613Z"
      },
      {
        "duration": 209,
        "start_time": "2022-09-15T12:25:08.830Z"
      },
      {
        "duration": 1884,
        "start_time": "2022-09-15T12:25:24.429Z"
      },
      {
        "duration": 383,
        "start_time": "2022-09-15T12:25:35.828Z"
      },
      {
        "duration": 228,
        "start_time": "2022-09-15T12:26:34.809Z"
      },
      {
        "duration": 91,
        "start_time": "2022-09-15T12:27:06.835Z"
      },
      {
        "duration": 200,
        "start_time": "2022-09-15T12:27:12.013Z"
      },
      {
        "duration": 7,
        "start_time": "2022-09-15T12:27:38.923Z"
      },
      {
        "duration": 18,
        "start_time": "2022-09-15T12:27:41.397Z"
      },
      {
        "duration": 1947,
        "start_time": "2022-09-15T12:27:48.358Z"
      },
      {
        "duration": 169,
        "start_time": "2022-09-15T12:27:50.307Z"
      },
      {
        "duration": 135,
        "start_time": "2022-09-15T12:27:50.478Z"
      },
      {
        "duration": 149,
        "start_time": "2022-09-15T12:27:50.615Z"
      },
      {
        "duration": 151,
        "start_time": "2022-09-15T12:27:50.766Z"
      },
      {
        "duration": 152,
        "start_time": "2022-09-15T12:27:50.918Z"
      },
      {
        "duration": 145,
        "start_time": "2022-09-15T12:27:51.071Z"
      },
      {
        "duration": 8,
        "start_time": "2022-09-15T12:27:51.218Z"
      },
      {
        "duration": 13,
        "start_time": "2022-09-15T12:27:51.227Z"
      },
      {
        "duration": 7,
        "start_time": "2022-09-15T12:27:51.246Z"
      },
      {
        "duration": 10,
        "start_time": "2022-09-15T12:27:56.746Z"
      },
      {
        "duration": 5,
        "start_time": "2022-09-15T12:27:58.387Z"
      },
      {
        "duration": 12,
        "start_time": "2022-09-15T12:28:00.459Z"
      },
      {
        "duration": 4,
        "start_time": "2022-09-15T12:28:10.745Z"
      },
      {
        "duration": 8,
        "start_time": "2022-09-15T12:28:11.196Z"
      },
      {
        "duration": 9,
        "start_time": "2022-09-15T12:28:14.122Z"
      },
      {
        "duration": 6,
        "start_time": "2022-09-15T12:28:51.008Z"
      },
      {
        "duration": 7,
        "start_time": "2022-09-15T12:28:53.530Z"
      },
      {
        "duration": 254,
        "start_time": "2022-09-15T12:29:01.812Z"
      },
      {
        "duration": 292,
        "start_time": "2022-09-15T12:29:41.701Z"
      },
      {
        "duration": 8,
        "start_time": "2022-09-15T12:30:09.293Z"
      },
      {
        "duration": 1958,
        "start_time": "2022-09-15T12:30:20.119Z"
      },
      {
        "duration": 139,
        "start_time": "2022-09-15T12:30:22.079Z"
      },
      {
        "duration": 128,
        "start_time": "2022-09-15T12:30:22.219Z"
      },
      {
        "duration": 153,
        "start_time": "2022-09-15T12:30:22.349Z"
      },
      {
        "duration": 142,
        "start_time": "2022-09-15T12:30:22.504Z"
      },
      {
        "duration": 137,
        "start_time": "2022-09-15T12:30:22.648Z"
      },
      {
        "duration": 151,
        "start_time": "2022-09-15T12:30:22.787Z"
      },
      {
        "duration": 8,
        "start_time": "2022-09-15T12:30:25.344Z"
      },
      {
        "duration": 11,
        "start_time": "2022-09-15T12:30:28.020Z"
      },
      {
        "duration": 11,
        "start_time": "2022-09-15T12:30:30.412Z"
      },
      {
        "duration": 11,
        "start_time": "2022-09-15T12:30:32.413Z"
      },
      {
        "duration": 39,
        "start_time": "2022-09-15T12:30:37.487Z"
      },
      {
        "duration": 66,
        "start_time": "2022-09-15T12:30:50.286Z"
      },
      {
        "duration": 73,
        "start_time": "2022-09-15T12:30:51.370Z"
      },
      {
        "duration": 86,
        "start_time": "2022-09-15T12:31:08.141Z"
      },
      {
        "duration": 90,
        "start_time": "2022-09-15T12:31:12.473Z"
      },
      {
        "duration": 1746,
        "start_time": "2022-09-15T12:31:18.687Z"
      },
      {
        "duration": 1865,
        "start_time": "2022-09-15T12:31:26.436Z"
      },
      {
        "duration": 152,
        "start_time": "2022-09-15T12:31:28.304Z"
      },
      {
        "duration": 134,
        "start_time": "2022-09-15T12:31:28.458Z"
      },
      {
        "duration": 142,
        "start_time": "2022-09-15T12:31:28.602Z"
      },
      {
        "duration": 136,
        "start_time": "2022-09-15T12:31:28.745Z"
      },
      {
        "duration": 143,
        "start_time": "2022-09-15T12:31:28.883Z"
      },
      {
        "duration": 148,
        "start_time": "2022-09-15T12:31:29.028Z"
      },
      {
        "duration": 8,
        "start_time": "2022-09-15T12:31:29.178Z"
      },
      {
        "duration": 24,
        "start_time": "2022-09-15T12:31:29.187Z"
      },
      {
        "duration": 9,
        "start_time": "2022-09-15T12:31:29.213Z"
      },
      {
        "duration": 11,
        "start_time": "2022-09-15T12:31:29.224Z"
      },
      {
        "duration": 27,
        "start_time": "2022-09-15T12:31:32.858Z"
      },
      {
        "duration": 63,
        "start_time": "2022-09-15T12:31:36.489Z"
      },
      {
        "duration": 710,
        "start_time": "2022-09-15T12:31:37.998Z"
      },
      {
        "duration": 394,
        "start_time": "2022-09-15T12:31:43.586Z"
      },
      {
        "duration": 1898,
        "start_time": "2022-09-15T12:31:50.311Z"
      },
      {
        "duration": 141,
        "start_time": "2022-09-15T12:31:52.212Z"
      },
      {
        "duration": 148,
        "start_time": "2022-09-15T12:31:52.355Z"
      },
      {
        "duration": 156,
        "start_time": "2022-09-15T12:31:52.505Z"
      },
      {
        "duration": 157,
        "start_time": "2022-09-15T12:31:52.663Z"
      },
      {
        "duration": 154,
        "start_time": "2022-09-15T12:31:52.822Z"
      },
      {
        "duration": 140,
        "start_time": "2022-09-15T12:31:52.978Z"
      },
      {
        "duration": 8,
        "start_time": "2022-09-15T12:31:53.120Z"
      },
      {
        "duration": 12,
        "start_time": "2022-09-15T12:31:53.130Z"
      },
      {
        "duration": 7,
        "start_time": "2022-09-15T12:31:53.144Z"
      },
      {
        "duration": 11,
        "start_time": "2022-09-15T12:31:53.153Z"
      },
      {
        "duration": 63,
        "start_time": "2022-09-15T12:31:53.166Z"
      },
      {
        "duration": 83,
        "start_time": "2022-09-15T12:31:53.231Z"
      },
      {
        "duration": 85,
        "start_time": "2022-09-15T12:31:53.316Z"
      },
      {
        "duration": 0,
        "start_time": "2022-09-15T12:31:53.403Z"
      },
      {
        "duration": 0,
        "start_time": "2022-09-15T12:31:53.405Z"
      },
      {
        "duration": 0,
        "start_time": "2022-09-15T12:31:53.406Z"
      },
      {
        "duration": 0,
        "start_time": "2022-09-15T12:31:53.407Z"
      },
      {
        "duration": 2046,
        "start_time": "2022-09-15T12:32:10.393Z"
      },
      {
        "duration": 146,
        "start_time": "2022-09-15T12:32:12.442Z"
      },
      {
        "duration": 127,
        "start_time": "2022-09-15T12:32:12.589Z"
      },
      {
        "duration": 141,
        "start_time": "2022-09-15T12:32:12.719Z"
      },
      {
        "duration": 135,
        "start_time": "2022-09-15T12:32:12.862Z"
      },
      {
        "duration": 161,
        "start_time": "2022-09-15T12:32:13.001Z"
      },
      {
        "duration": 154,
        "start_time": "2022-09-15T12:32:13.164Z"
      },
      {
        "duration": 8,
        "start_time": "2022-09-15T12:32:13.321Z"
      },
      {
        "duration": 13,
        "start_time": "2022-09-15T12:32:13.331Z"
      },
      {
        "duration": 8,
        "start_time": "2022-09-15T12:32:13.348Z"
      },
      {
        "duration": 9,
        "start_time": "2022-09-15T12:32:13.358Z"
      },
      {
        "duration": 29,
        "start_time": "2022-09-15T12:32:13.400Z"
      },
      {
        "duration": 82,
        "start_time": "2022-09-15T12:32:13.431Z"
      },
      {
        "duration": 85,
        "start_time": "2022-09-15T12:32:13.515Z"
      },
      {
        "duration": 0,
        "start_time": "2022-09-15T12:32:13.602Z"
      },
      {
        "duration": 0,
        "start_time": "2022-09-15T12:32:13.603Z"
      },
      {
        "duration": 0,
        "start_time": "2022-09-15T12:32:13.604Z"
      },
      {
        "duration": 0,
        "start_time": "2022-09-15T12:32:13.606Z"
      },
      {
        "duration": 0,
        "start_time": "2022-09-15T12:32:13.607Z"
      },
      {
        "duration": 290,
        "start_time": "2022-09-15T12:32:21.245Z"
      },
      {
        "duration": 393,
        "start_time": "2022-09-15T12:33:42.018Z"
      },
      {
        "duration": 401,
        "start_time": "2022-09-15T12:33:53.763Z"
      },
      {
        "duration": 10,
        "start_time": "2022-09-15T12:33:58.910Z"
      },
      {
        "duration": 6,
        "start_time": "2022-09-15T12:48:31.312Z"
      },
      {
        "duration": 6,
        "start_time": "2022-09-15T12:48:41.023Z"
      },
      {
        "duration": 8,
        "start_time": "2022-09-15T12:48:50.934Z"
      },
      {
        "duration": 1880,
        "start_time": "2022-09-15T14:30:44.854Z"
      },
      {
        "duration": 9,
        "start_time": "2022-09-15T14:30:46.736Z"
      },
      {
        "duration": 75,
        "start_time": "2022-09-15T14:30:46.747Z"
      },
      {
        "duration": 19,
        "start_time": "2022-09-15T14:30:46.824Z"
      },
      {
        "duration": 23,
        "start_time": "2022-09-15T14:30:46.845Z"
      },
      {
        "duration": 44,
        "start_time": "2022-09-15T14:30:46.869Z"
      },
      {
        "duration": 60,
        "start_time": "2022-09-15T14:30:47.705Z"
      },
      {
        "duration": 75,
        "start_time": "2022-09-15T14:30:48.441Z"
      },
      {
        "duration": 106,
        "start_time": "2022-09-15T14:30:53.399Z"
      },
      {
        "duration": 13,
        "start_time": "2022-09-15T14:30:56.301Z"
      },
      {
        "duration": 246,
        "start_time": "2022-09-15T14:30:59.504Z"
      },
      {
        "duration": 9,
        "start_time": "2022-09-15T14:31:00.990Z"
      },
      {
        "duration": 8,
        "start_time": "2022-09-15T14:31:02.739Z"
      },
      {
        "duration": 5,
        "start_time": "2022-09-15T14:31:04.982Z"
      },
      {
        "duration": 128,
        "start_time": "2022-09-15T14:33:17.805Z"
      },
      {
        "duration": 272,
        "start_time": "2022-09-15T14:33:24.430Z"
      },
      {
        "duration": 132,
        "start_time": "2022-09-15T14:33:36.189Z"
      },
      {
        "duration": 130,
        "start_time": "2022-09-15T14:33:56.613Z"
      },
      {
        "duration": 17,
        "start_time": "2022-09-15T14:35:34.984Z"
      },
      {
        "duration": 80,
        "start_time": "2022-09-15T14:35:47.254Z"
      },
      {
        "duration": 21,
        "start_time": "2022-09-15T14:35:50.954Z"
      },
      {
        "duration": 227,
        "start_time": "2022-09-15T14:35:51.606Z"
      },
      {
        "duration": 128,
        "start_time": "2022-09-15T14:35:56.886Z"
      },
      {
        "duration": 11,
        "start_time": "2022-09-15T14:36:16.722Z"
      },
      {
        "duration": 99,
        "start_time": "2022-09-15T14:36:45.259Z"
      },
      {
        "duration": 10,
        "start_time": "2022-09-15T14:38:39.845Z"
      },
      {
        "duration": 13,
        "start_time": "2022-09-15T14:38:49.347Z"
      },
      {
        "duration": 67,
        "start_time": "2022-09-15T14:38:58.837Z"
      },
      {
        "duration": 88,
        "start_time": "2022-09-15T14:39:18.716Z"
      },
      {
        "duration": 7,
        "start_time": "2022-09-15T14:39:30.461Z"
      },
      {
        "duration": 120,
        "start_time": "2022-09-15T14:39:38.210Z"
      },
      {
        "duration": 129,
        "start_time": "2022-09-15T14:41:52.051Z"
      },
      {
        "duration": 127,
        "start_time": "2022-09-15T14:42:06.536Z"
      },
      {
        "duration": 2,
        "start_time": "2022-09-15T14:47:31.065Z"
      },
      {
        "duration": 147,
        "start_time": "2022-09-15T14:47:32.542Z"
      },
      {
        "duration": 86,
        "start_time": "2022-09-15T14:49:10.299Z"
      },
      {
        "duration": 145,
        "start_time": "2022-09-15T14:49:15.780Z"
      },
      {
        "duration": 49,
        "start_time": "2022-09-15T14:49:50.826Z"
      },
      {
        "duration": 135,
        "start_time": "2022-09-15T14:49:54.636Z"
      },
      {
        "duration": 2603,
        "start_time": "2022-09-15T14:49:59.156Z"
      },
      {
        "duration": 8,
        "start_time": "2022-09-15T14:50:01.761Z"
      },
      {
        "duration": 56,
        "start_time": "2022-09-15T14:50:01.770Z"
      },
      {
        "duration": 19,
        "start_time": "2022-09-15T14:50:01.827Z"
      },
      {
        "duration": 33,
        "start_time": "2022-09-15T14:50:01.848Z"
      },
      {
        "duration": 33,
        "start_time": "2022-09-15T14:50:01.882Z"
      },
      {
        "duration": 67,
        "start_time": "2022-09-15T14:50:01.917Z"
      },
      {
        "duration": 69,
        "start_time": "2022-09-15T14:50:02.000Z"
      },
      {
        "duration": 0,
        "start_time": "2022-09-15T14:50:02.071Z"
      },
      {
        "duration": 0,
        "start_time": "2022-09-15T14:50:02.072Z"
      },
      {
        "duration": 0,
        "start_time": "2022-09-15T14:50:02.073Z"
      },
      {
        "duration": 0,
        "start_time": "2022-09-15T14:50:02.074Z"
      },
      {
        "duration": 0,
        "start_time": "2022-09-15T14:50:02.075Z"
      },
      {
        "duration": 0,
        "start_time": "2022-09-15T14:50:02.076Z"
      },
      {
        "duration": 0,
        "start_time": "2022-09-15T14:50:02.076Z"
      },
      {
        "duration": 0,
        "start_time": "2022-09-15T14:50:02.077Z"
      },
      {
        "duration": 144,
        "start_time": "2022-09-15T14:50:10.402Z"
      },
      {
        "duration": 1910,
        "start_time": "2022-09-15T14:52:17.496Z"
      },
      {
        "duration": 184,
        "start_time": "2022-09-15T14:52:32.307Z"
      },
      {
        "duration": 167,
        "start_time": "2022-09-15T14:52:40.713Z"
      },
      {
        "duration": 169,
        "start_time": "2022-09-15T14:52:45.041Z"
      },
      {
        "duration": 152,
        "start_time": "2022-09-15T14:52:48.984Z"
      },
      {
        "duration": 161,
        "start_time": "2022-09-15T14:52:53.496Z"
      },
      {
        "duration": 164,
        "start_time": "2022-09-15T14:52:57.503Z"
      },
      {
        "duration": 154,
        "start_time": "2022-09-15T14:53:02.502Z"
      },
      {
        "duration": 148,
        "start_time": "2022-09-15T14:53:07.487Z"
      },
      {
        "duration": 1997,
        "start_time": "2022-09-15T14:53:14.338Z"
      },
      {
        "duration": 8,
        "start_time": "2022-09-15T14:53:16.336Z"
      },
      {
        "duration": 14,
        "start_time": "2022-09-15T14:53:16.345Z"
      },
      {
        "duration": 6,
        "start_time": "2022-09-15T14:53:16.361Z"
      },
      {
        "duration": 10,
        "start_time": "2022-09-15T14:53:16.368Z"
      },
      {
        "duration": 24,
        "start_time": "2022-09-15T14:53:16.401Z"
      },
      {
        "duration": 89,
        "start_time": "2022-09-15T14:53:16.427Z"
      },
      {
        "duration": 86,
        "start_time": "2022-09-15T14:53:16.518Z"
      },
      {
        "duration": 0,
        "start_time": "2022-09-15T14:53:16.606Z"
      },
      {
        "duration": 0,
        "start_time": "2022-09-15T14:53:16.607Z"
      },
      {
        "duration": 0,
        "start_time": "2022-09-15T14:53:16.608Z"
      },
      {
        "duration": 0,
        "start_time": "2022-09-15T14:53:16.609Z"
      },
      {
        "duration": 0,
        "start_time": "2022-09-15T14:53:16.610Z"
      },
      {
        "duration": 0,
        "start_time": "2022-09-15T14:53:16.611Z"
      },
      {
        "duration": 0,
        "start_time": "2022-09-15T14:53:16.612Z"
      },
      {
        "duration": 183,
        "start_time": "2022-09-15T14:53:21.547Z"
      },
      {
        "duration": 179,
        "start_time": "2022-09-15T14:53:36.744Z"
      },
      {
        "duration": 137,
        "start_time": "2022-09-15T14:53:47.157Z"
      },
      {
        "duration": 157,
        "start_time": "2022-09-15T14:55:17.628Z"
      },
      {
        "duration": 2024,
        "start_time": "2022-09-15T14:55:23.905Z"
      },
      {
        "duration": 9,
        "start_time": "2022-09-15T14:55:25.931Z"
      },
      {
        "duration": 10,
        "start_time": "2022-09-15T14:55:25.942Z"
      },
      {
        "duration": 6,
        "start_time": "2022-09-15T14:55:25.955Z"
      },
      {
        "duration": 7,
        "start_time": "2022-09-15T14:55:25.963Z"
      },
      {
        "duration": 33,
        "start_time": "2022-09-15T14:55:26.001Z"
      },
      {
        "duration": 89,
        "start_time": "2022-09-15T14:55:26.035Z"
      },
      {
        "duration": 85,
        "start_time": "2022-09-15T14:55:26.126Z"
      },
      {
        "duration": 0,
        "start_time": "2022-09-15T14:55:26.213Z"
      },
      {
        "duration": 0,
        "start_time": "2022-09-15T14:55:26.215Z"
      },
      {
        "duration": 0,
        "start_time": "2022-09-15T14:55:26.217Z"
      },
      {
        "duration": 0,
        "start_time": "2022-09-15T14:55:26.218Z"
      },
      {
        "duration": 0,
        "start_time": "2022-09-15T14:55:26.220Z"
      },
      {
        "duration": 0,
        "start_time": "2022-09-15T14:55:26.221Z"
      },
      {
        "duration": 0,
        "start_time": "2022-09-15T14:55:26.223Z"
      },
      {
        "duration": 0,
        "start_time": "2022-09-15T14:55:26.224Z"
      },
      {
        "duration": 0,
        "start_time": "2022-09-15T14:55:26.225Z"
      },
      {
        "duration": 0,
        "start_time": "2022-09-15T14:55:26.227Z"
      },
      {
        "duration": 0,
        "start_time": "2022-09-15T14:55:26.228Z"
      },
      {
        "duration": 0,
        "start_time": "2022-09-15T14:55:26.230Z"
      },
      {
        "duration": 0,
        "start_time": "2022-09-15T14:55:26.231Z"
      },
      {
        "duration": 0,
        "start_time": "2022-09-15T14:55:26.232Z"
      },
      {
        "duration": 0,
        "start_time": "2022-09-15T14:55:26.234Z"
      },
      {
        "duration": 0,
        "start_time": "2022-09-15T14:55:26.235Z"
      },
      {
        "duration": 0,
        "start_time": "2022-09-15T14:55:26.237Z"
      },
      {
        "duration": 0,
        "start_time": "2022-09-15T14:55:26.238Z"
      },
      {
        "duration": 0,
        "start_time": "2022-09-15T14:55:26.239Z"
      },
      {
        "duration": 99,
        "start_time": "2022-09-15T14:55:29.437Z"
      },
      {
        "duration": 179,
        "start_time": "2022-09-15T14:55:34.446Z"
      },
      {
        "duration": 2,
        "start_time": "2022-09-15T14:55:42.686Z"
      },
      {
        "duration": 216,
        "start_time": "2022-09-15T14:55:44.354Z"
      },
      {
        "duration": 3,
        "start_time": "2022-09-15T14:55:45.366Z"
      },
      {
        "duration": 152,
        "start_time": "2022-09-15T14:55:47.222Z"
      },
      {
        "duration": 5,
        "start_time": "2022-09-15T14:56:08.698Z"
      },
      {
        "duration": 399,
        "start_time": "2022-09-15T14:58:06.280Z"
      },
      {
        "duration": 4,
        "start_time": "2022-09-15T14:58:18.232Z"
      },
      {
        "duration": 138,
        "start_time": "2022-09-15T15:00:44.827Z"
      },
      {
        "duration": 137,
        "start_time": "2022-09-15T15:00:50.034Z"
      },
      {
        "duration": 128,
        "start_time": "2022-09-15T15:00:57.227Z"
      },
      {
        "duration": 164,
        "start_time": "2022-09-15T15:05:04.503Z"
      },
      {
        "duration": 156,
        "start_time": "2022-09-15T15:05:27.404Z"
      },
      {
        "duration": 143,
        "start_time": "2022-09-15T15:05:40.715Z"
      },
      {
        "duration": 67,
        "start_time": "2022-09-15T15:06:06.947Z"
      },
      {
        "duration": 122,
        "start_time": "2022-09-15T15:06:09.664Z"
      },
      {
        "duration": 109,
        "start_time": "2022-09-15T15:07:48.060Z"
      },
      {
        "duration": 111,
        "start_time": "2022-09-15T15:07:59.135Z"
      },
      {
        "duration": 166,
        "start_time": "2022-09-15T15:09:17.031Z"
      },
      {
        "duration": 149,
        "start_time": "2022-09-15T15:09:25.766Z"
      },
      {
        "duration": 155,
        "start_time": "2022-09-15T15:09:30.384Z"
      },
      {
        "duration": 131,
        "start_time": "2022-09-15T15:09:38.615Z"
      },
      {
        "duration": 139,
        "start_time": "2022-09-15T15:09:44.916Z"
      },
      {
        "duration": 147,
        "start_time": "2022-09-15T15:11:01.162Z"
      },
      {
        "duration": 129,
        "start_time": "2022-09-15T15:11:26.792Z"
      },
      {
        "duration": 188,
        "start_time": "2022-09-15T15:13:24.375Z"
      },
      {
        "duration": 132,
        "start_time": "2022-09-15T15:13:29.556Z"
      },
      {
        "duration": 170,
        "start_time": "2022-09-15T15:13:44.154Z"
      },
      {
        "duration": 114,
        "start_time": "2022-09-15T15:13:47.477Z"
      },
      {
        "duration": 140,
        "start_time": "2022-09-15T15:14:07.540Z"
      },
      {
        "duration": 134,
        "start_time": "2022-09-15T15:14:25.064Z"
      },
      {
        "duration": 132,
        "start_time": "2022-09-15T15:14:35.327Z"
      },
      {
        "duration": 183,
        "start_time": "2022-09-15T15:15:01.368Z"
      },
      {
        "duration": 8,
        "start_time": "2022-09-15T15:15:22.341Z"
      },
      {
        "duration": 7,
        "start_time": "2022-09-15T15:15:26.241Z"
      },
      {
        "duration": 121,
        "start_time": "2022-09-15T15:15:50.612Z"
      },
      {
        "duration": 62,
        "start_time": "2022-09-15T15:15:55.852Z"
      },
      {
        "duration": 118,
        "start_time": "2022-09-15T15:16:01.058Z"
      },
      {
        "duration": 124,
        "start_time": "2022-09-15T15:16:06.259Z"
      },
      {
        "duration": 141,
        "start_time": "2022-09-15T15:16:33.302Z"
      },
      {
        "duration": 137,
        "start_time": "2022-09-15T15:16:54.251Z"
      },
      {
        "duration": 1011,
        "start_time": "2022-09-15T15:16:57.476Z"
      },
      {
        "duration": 147,
        "start_time": "2022-09-15T15:17:03.499Z"
      },
      {
        "duration": 260,
        "start_time": "2022-09-15T15:17:11.523Z"
      },
      {
        "duration": 176,
        "start_time": "2022-09-15T15:17:13.384Z"
      },
      {
        "duration": 121,
        "start_time": "2022-09-15T15:17:19.890Z"
      },
      {
        "duration": 149,
        "start_time": "2022-09-15T15:17:30.911Z"
      },
      {
        "duration": 151,
        "start_time": "2022-09-15T15:17:40.646Z"
      },
      {
        "duration": 157,
        "start_time": "2022-09-15T15:17:45.725Z"
      },
      {
        "duration": 150,
        "start_time": "2022-09-15T15:17:50.838Z"
      },
      {
        "duration": 158,
        "start_time": "2022-09-15T15:18:01.182Z"
      },
      {
        "duration": 154,
        "start_time": "2022-09-15T15:18:07.340Z"
      },
      {
        "duration": 129,
        "start_time": "2022-09-15T15:18:11.932Z"
      },
      {
        "duration": 144,
        "start_time": "2022-09-15T15:18:19.285Z"
      },
      {
        "duration": 173,
        "start_time": "2022-09-15T15:18:26.385Z"
      },
      {
        "duration": 156,
        "start_time": "2022-09-15T15:18:39.427Z"
      },
      {
        "duration": 160,
        "start_time": "2022-09-15T15:18:48.216Z"
      },
      {
        "duration": 161,
        "start_time": "2022-09-15T15:18:51.956Z"
      },
      {
        "duration": 145,
        "start_time": "2022-09-15T15:19:05.247Z"
      },
      {
        "duration": 150,
        "start_time": "2022-09-15T15:19:09.595Z"
      },
      {
        "duration": 920,
        "start_time": "2022-09-15T15:19:33.483Z"
      },
      {
        "duration": 456,
        "start_time": "2022-09-15T15:19:54.560Z"
      },
      {
        "duration": 137,
        "start_time": "2022-09-15T15:20:01.359Z"
      },
      {
        "duration": 9,
        "start_time": "2022-09-15T15:20:45.936Z"
      },
      {
        "duration": 4,
        "start_time": "2022-09-15T15:21:13.611Z"
      },
      {
        "duration": 8,
        "start_time": "2022-09-15T15:21:50.106Z"
      },
      {
        "duration": 135,
        "start_time": "2022-09-15T15:22:08.008Z"
      },
      {
        "duration": 136,
        "start_time": "2022-09-15T15:22:15.346Z"
      },
      {
        "duration": 149,
        "start_time": "2022-09-15T15:22:18.298Z"
      },
      {
        "duration": 135,
        "start_time": "2022-09-15T15:40:46.807Z"
      },
      {
        "duration": 71,
        "start_time": "2022-09-15T15:40:58.587Z"
      },
      {
        "duration": 128,
        "start_time": "2022-09-15T15:41:02.117Z"
      },
      {
        "duration": 127,
        "start_time": "2022-09-15T15:41:12.246Z"
      },
      {
        "duration": 136,
        "start_time": "2022-09-15T15:41:29.037Z"
      },
      {
        "duration": 180,
        "start_time": "2022-09-15T16:01:59.252Z"
      },
      {
        "duration": 1461,
        "start_time": "2022-09-15T16:03:37.732Z"
      },
      {
        "duration": 154,
        "start_time": "2022-09-15T16:03:43.868Z"
      },
      {
        "duration": 128,
        "start_time": "2022-09-15T16:49:05.838Z"
      },
      {
        "duration": 11,
        "start_time": "2022-09-15T16:49:16.465Z"
      },
      {
        "duration": 10,
        "start_time": "2022-09-15T16:49:18.660Z"
      },
      {
        "duration": 1929,
        "start_time": "2022-09-15T16:49:22.032Z"
      },
      {
        "duration": 9,
        "start_time": "2022-09-15T16:49:23.963Z"
      },
      {
        "duration": 11,
        "start_time": "2022-09-15T16:49:23.973Z"
      },
      {
        "duration": 8,
        "start_time": "2022-09-15T16:49:24.001Z"
      },
      {
        "duration": 16,
        "start_time": "2022-09-15T16:49:24.011Z"
      },
      {
        "duration": 26,
        "start_time": "2022-09-15T16:49:24.028Z"
      },
      {
        "duration": 99,
        "start_time": "2022-09-15T16:49:24.056Z"
      },
      {
        "duration": 110,
        "start_time": "2022-09-15T16:49:24.157Z"
      },
      {
        "duration": 0,
        "start_time": "2022-09-15T16:49:24.270Z"
      },
      {
        "duration": 0,
        "start_time": "2022-09-15T16:49:24.272Z"
      },
      {
        "duration": 0,
        "start_time": "2022-09-15T16:49:24.274Z"
      },
      {
        "duration": 0,
        "start_time": "2022-09-15T16:49:24.276Z"
      },
      {
        "duration": 0,
        "start_time": "2022-09-15T16:49:24.277Z"
      },
      {
        "duration": 0,
        "start_time": "2022-09-15T16:49:24.279Z"
      },
      {
        "duration": 0,
        "start_time": "2022-09-15T16:49:24.281Z"
      },
      {
        "duration": 0,
        "start_time": "2022-09-15T16:49:24.303Z"
      },
      {
        "duration": 0,
        "start_time": "2022-09-15T16:49:24.304Z"
      },
      {
        "duration": 0,
        "start_time": "2022-09-15T16:49:24.305Z"
      },
      {
        "duration": 0,
        "start_time": "2022-09-15T16:49:24.307Z"
      },
      {
        "duration": 0,
        "start_time": "2022-09-15T16:49:24.307Z"
      },
      {
        "duration": 0,
        "start_time": "2022-09-15T16:49:24.308Z"
      },
      {
        "duration": 0,
        "start_time": "2022-09-15T16:49:24.314Z"
      },
      {
        "duration": 0,
        "start_time": "2022-09-15T16:49:24.315Z"
      },
      {
        "duration": 0,
        "start_time": "2022-09-15T16:49:24.318Z"
      },
      {
        "duration": 0,
        "start_time": "2022-09-15T16:49:24.319Z"
      },
      {
        "duration": 0,
        "start_time": "2022-09-15T16:49:24.320Z"
      },
      {
        "duration": 0,
        "start_time": "2022-09-15T16:49:24.321Z"
      },
      {
        "duration": 0,
        "start_time": "2022-09-15T16:49:24.322Z"
      },
      {
        "duration": 171,
        "start_time": "2022-09-15T16:49:38.199Z"
      },
      {
        "duration": 147,
        "start_time": "2022-09-15T16:49:44.888Z"
      },
      {
        "duration": 156,
        "start_time": "2022-09-15T16:49:52.376Z"
      },
      {
        "duration": 132,
        "start_time": "2022-09-15T16:49:58.720Z"
      },
      {
        "duration": 153,
        "start_time": "2022-09-15T16:50:04.012Z"
      },
      {
        "duration": 186,
        "start_time": "2022-09-15T16:50:14.375Z"
      },
      {
        "duration": 11,
        "start_time": "2022-09-15T16:50:51.484Z"
      },
      {
        "duration": 433,
        "start_time": "2022-09-15T16:51:01.717Z"
      },
      {
        "duration": 13,
        "start_time": "2022-09-15T16:51:07.301Z"
      },
      {
        "duration": 187,
        "start_time": "2022-09-15T16:51:09.418Z"
      },
      {
        "duration": 145,
        "start_time": "2022-09-15T16:51:11.948Z"
      },
      {
        "duration": 141,
        "start_time": "2022-09-15T16:51:17.931Z"
      },
      {
        "duration": 144,
        "start_time": "2022-09-15T16:51:28.899Z"
      },
      {
        "duration": 130,
        "start_time": "2022-09-15T16:51:38.224Z"
      },
      {
        "duration": 16,
        "start_time": "2022-09-15T16:56:37.766Z"
      },
      {
        "duration": 23,
        "start_time": "2022-09-15T16:56:40.290Z"
      },
      {
        "duration": 26,
        "start_time": "2022-09-15T16:56:45.792Z"
      },
      {
        "duration": 21,
        "start_time": "2022-09-15T16:57:00.036Z"
      },
      {
        "duration": 27,
        "start_time": "2022-09-15T16:57:11.480Z"
      },
      {
        "duration": 190,
        "start_time": "2022-09-15T16:59:30.896Z"
      },
      {
        "duration": 90,
        "start_time": "2022-09-15T16:59:56.862Z"
      },
      {
        "duration": 190,
        "start_time": "2022-09-15T17:00:03.943Z"
      },
      {
        "duration": 230,
        "start_time": "2022-09-15T17:00:41.399Z"
      },
      {
        "duration": 0,
        "start_time": "2022-09-15T17:02:00.582Z"
      },
      {
        "duration": 19396,
        "start_time": "2022-09-15T17:02:02.073Z"
      },
      {
        "duration": 3,
        "start_time": "2022-09-15T17:03:11.321Z"
      },
      {
        "duration": 136,
        "start_time": "2022-09-15T17:05:20.055Z"
      },
      {
        "duration": 156,
        "start_time": "2022-09-15T17:05:43.762Z"
      },
      {
        "duration": 156,
        "start_time": "2022-09-15T17:07:40.288Z"
      },
      {
        "duration": 156,
        "start_time": "2022-09-15T17:07:49.864Z"
      },
      {
        "duration": 145,
        "start_time": "2022-09-15T17:07:54.247Z"
      },
      {
        "duration": 136,
        "start_time": "2022-09-15T17:07:56.823Z"
      },
      {
        "duration": 146,
        "start_time": "2022-09-15T17:08:00.618Z"
      },
      {
        "duration": 136,
        "start_time": "2022-09-15T17:08:04.853Z"
      },
      {
        "duration": 187,
        "start_time": "2022-09-15T17:08:08.592Z"
      },
      {
        "duration": 153,
        "start_time": "2022-09-15T17:08:11.671Z"
      },
      {
        "duration": 149,
        "start_time": "2022-09-15T17:08:14.030Z"
      },
      {
        "duration": 91,
        "start_time": "2022-09-15T17:08:27.158Z"
      },
      {
        "duration": 167,
        "start_time": "2022-09-15T17:08:29.893Z"
      },
      {
        "duration": 135,
        "start_time": "2022-09-15T17:08:32.816Z"
      },
      {
        "duration": 144,
        "start_time": "2022-09-15T17:08:37.497Z"
      },
      {
        "duration": 156,
        "start_time": "2022-09-15T17:08:42.765Z"
      },
      {
        "duration": 145,
        "start_time": "2022-09-15T17:08:46.317Z"
      },
      {
        "duration": 151,
        "start_time": "2022-09-15T17:08:49.133Z"
      },
      {
        "duration": 186,
        "start_time": "2022-09-15T17:08:59.092Z"
      },
      {
        "duration": 153,
        "start_time": "2022-09-15T17:09:02.656Z"
      },
      {
        "duration": 150,
        "start_time": "2022-09-15T17:09:06.276Z"
      },
      {
        "duration": 150,
        "start_time": "2022-09-15T17:09:08.836Z"
      },
      {
        "duration": 158,
        "start_time": "2022-09-15T17:09:13.235Z"
      },
      {
        "duration": 177,
        "start_time": "2022-09-15T17:09:39.955Z"
      },
      {
        "duration": 167,
        "start_time": "2022-09-15T17:10:39.968Z"
      },
      {
        "duration": 8,
        "start_time": "2022-09-15T17:52:09.960Z"
      },
      {
        "duration": 10,
        "start_time": "2022-09-15T17:52:15.242Z"
      },
      {
        "duration": 4,
        "start_time": "2022-09-15T17:52:22.651Z"
      },
      {
        "duration": 4,
        "start_time": "2022-09-15T17:52:28.321Z"
      },
      {
        "duration": 7,
        "start_time": "2022-09-15T17:52:39.302Z"
      },
      {
        "duration": 7,
        "start_time": "2022-09-15T17:53:02.428Z"
      },
      {
        "duration": 81,
        "start_time": "2022-09-15T18:05:28.606Z"
      },
      {
        "duration": 7,
        "start_time": "2022-09-15T18:05:32.418Z"
      },
      {
        "duration": 7,
        "start_time": "2022-09-15T18:05:35.555Z"
      },
      {
        "duration": 9,
        "start_time": "2022-09-15T18:06:00.577Z"
      },
      {
        "duration": 7,
        "start_time": "2022-09-15T18:06:06.377Z"
      },
      {
        "duration": 7,
        "start_time": "2022-09-15T18:06:30.572Z"
      },
      {
        "duration": 3,
        "start_time": "2022-09-15T18:06:52.206Z"
      },
      {
        "duration": 5,
        "start_time": "2022-09-15T18:06:54.270Z"
      },
      {
        "duration": 6,
        "start_time": "2022-09-15T18:07:02.535Z"
      },
      {
        "duration": 6,
        "start_time": "2022-09-15T18:07:06.925Z"
      },
      {
        "duration": 10,
        "start_time": "2022-09-15T18:07:09.853Z"
      },
      {
        "duration": 61,
        "start_time": "2022-09-15T18:07:55.170Z"
      },
      {
        "duration": 10,
        "start_time": "2022-09-15T18:07:58.348Z"
      },
      {
        "duration": 10,
        "start_time": "2022-09-15T18:08:10.869Z"
      },
      {
        "duration": 7,
        "start_time": "2022-09-15T18:08:50.993Z"
      },
      {
        "duration": 18,
        "start_time": "2022-09-15T18:08:59.180Z"
      },
      {
        "duration": 12,
        "start_time": "2022-09-15T18:09:07.362Z"
      },
      {
        "duration": 6,
        "start_time": "2022-09-15T18:09:11.044Z"
      },
      {
        "duration": 891,
        "start_time": "2022-09-15T18:12:16.211Z"
      },
      {
        "duration": 866,
        "start_time": "2022-09-15T18:12:22.031Z"
      },
      {
        "duration": 1098,
        "start_time": "2022-09-15T18:12:39.357Z"
      },
      {
        "duration": 1778,
        "start_time": "2022-09-15T18:12:54.299Z"
      },
      {
        "duration": 1049,
        "start_time": "2022-09-15T18:12:56.309Z"
      },
      {
        "duration": 1108,
        "start_time": "2022-09-15T18:12:57.989Z"
      },
      {
        "duration": 1079,
        "start_time": "2022-09-15T18:13:11.876Z"
      },
      {
        "duration": 1141,
        "start_time": "2022-09-15T18:13:16.701Z"
      },
      {
        "duration": 52,
        "start_time": "2022-09-16T12:14:18.270Z"
      },
      {
        "duration": 3579,
        "start_time": "2022-09-16T12:14:22.068Z"
      },
      {
        "duration": 10,
        "start_time": "2022-09-16T12:14:25.650Z"
      },
      {
        "duration": 14,
        "start_time": "2022-09-16T12:14:25.662Z"
      },
      {
        "duration": 7,
        "start_time": "2022-09-16T12:14:25.678Z"
      },
      {
        "duration": 21,
        "start_time": "2022-09-16T12:14:25.687Z"
      },
      {
        "duration": 32,
        "start_time": "2022-09-16T12:14:25.710Z"
      },
      {
        "duration": 94,
        "start_time": "2022-09-16T12:14:25.744Z"
      },
      {
        "duration": 125,
        "start_time": "2022-09-16T12:14:25.840Z"
      },
      {
        "duration": 0,
        "start_time": "2022-09-16T12:14:25.968Z"
      },
      {
        "duration": 0,
        "start_time": "2022-09-16T12:14:25.970Z"
      },
      {
        "duration": 0,
        "start_time": "2022-09-16T12:14:25.972Z"
      },
      {
        "duration": 0,
        "start_time": "2022-09-16T12:14:25.973Z"
      },
      {
        "duration": 0,
        "start_time": "2022-09-16T12:14:25.974Z"
      },
      {
        "duration": 0,
        "start_time": "2022-09-16T12:14:25.976Z"
      },
      {
        "duration": 0,
        "start_time": "2022-09-16T12:14:25.978Z"
      },
      {
        "duration": 0,
        "start_time": "2022-09-16T12:14:25.979Z"
      },
      {
        "duration": 0,
        "start_time": "2022-09-16T12:14:25.981Z"
      },
      {
        "duration": 0,
        "start_time": "2022-09-16T12:14:25.982Z"
      },
      {
        "duration": 0,
        "start_time": "2022-09-16T12:14:25.983Z"
      },
      {
        "duration": 0,
        "start_time": "2022-09-16T12:14:25.985Z"
      },
      {
        "duration": 0,
        "start_time": "2022-09-16T12:14:25.986Z"
      },
      {
        "duration": 0,
        "start_time": "2022-09-16T12:14:25.987Z"
      },
      {
        "duration": 0,
        "start_time": "2022-09-16T12:14:25.989Z"
      },
      {
        "duration": 0,
        "start_time": "2022-09-16T12:14:26.021Z"
      },
      {
        "duration": 0,
        "start_time": "2022-09-16T12:14:26.022Z"
      },
      {
        "duration": 0,
        "start_time": "2022-09-16T12:14:26.024Z"
      },
      {
        "duration": 0,
        "start_time": "2022-09-16T12:14:26.026Z"
      },
      {
        "duration": 0,
        "start_time": "2022-09-16T12:14:26.027Z"
      },
      {
        "duration": 0,
        "start_time": "2022-09-16T12:14:26.029Z"
      },
      {
        "duration": 0,
        "start_time": "2022-09-16T12:14:26.031Z"
      },
      {
        "duration": 16,
        "start_time": "2022-09-16T12:14:28.510Z"
      },
      {
        "duration": 10,
        "start_time": "2022-09-16T12:14:38.086Z"
      },
      {
        "duration": 10,
        "start_time": "2022-09-16T12:14:38.299Z"
      },
      {
        "duration": 6,
        "start_time": "2022-09-16T12:14:38.661Z"
      },
      {
        "duration": 14,
        "start_time": "2022-09-16T12:14:39.199Z"
      },
      {
        "duration": 821,
        "start_time": "2022-09-16T12:14:40.543Z"
      },
      {
        "duration": 0,
        "start_time": "2022-09-16T12:14:41.366Z"
      },
      {
        "duration": 87,
        "start_time": "2022-09-16T12:14:42.100Z"
      },
      {
        "duration": 941,
        "start_time": "2022-09-16T12:14:45.674Z"
      },
      {
        "duration": 98,
        "start_time": "2022-09-16T12:14:47.061Z"
      },
      {
        "duration": 11,
        "start_time": "2022-09-16T12:14:52.105Z"
      },
      {
        "duration": 8,
        "start_time": "2022-09-16T12:14:54.053Z"
      },
      {
        "duration": 2779,
        "start_time": "2022-09-16T12:15:02.086Z"
      },
      {
        "duration": 89,
        "start_time": "2022-09-16T12:15:05.266Z"
      },
      {
        "duration": 1042,
        "start_time": "2022-09-16T12:15:18.532Z"
      },
      {
        "duration": 11,
        "start_time": "2022-09-16T12:15:23.291Z"
      },
      {
        "duration": 5,
        "start_time": "2022-09-16T12:15:23.498Z"
      },
      {
        "duration": 10,
        "start_time": "2022-09-16T12:15:24.909Z"
      },
      {
        "duration": 2353,
        "start_time": "2022-09-16T12:15:28.587Z"
      },
      {
        "duration": 8,
        "start_time": "2022-09-16T12:15:30.943Z"
      },
      {
        "duration": 35,
        "start_time": "2022-09-16T12:15:30.953Z"
      },
      {
        "duration": 7,
        "start_time": "2022-09-16T12:15:30.991Z"
      },
      {
        "duration": 20,
        "start_time": "2022-09-16T12:15:31.000Z"
      },
      {
        "duration": 29,
        "start_time": "2022-09-16T12:15:31.023Z"
      },
      {
        "duration": 118,
        "start_time": "2022-09-16T12:15:31.054Z"
      },
      {
        "duration": 93,
        "start_time": "2022-09-16T12:15:31.174Z"
      },
      {
        "duration": 0,
        "start_time": "2022-09-16T12:15:31.269Z"
      },
      {
        "duration": 0,
        "start_time": "2022-09-16T12:15:31.271Z"
      },
      {
        "duration": 0,
        "start_time": "2022-09-16T12:15:31.272Z"
      },
      {
        "duration": 0,
        "start_time": "2022-09-16T12:15:31.273Z"
      },
      {
        "duration": 0,
        "start_time": "2022-09-16T12:15:31.274Z"
      },
      {
        "duration": 0,
        "start_time": "2022-09-16T12:15:31.276Z"
      },
      {
        "duration": 0,
        "start_time": "2022-09-16T12:15:31.277Z"
      },
      {
        "duration": 0,
        "start_time": "2022-09-16T12:15:31.278Z"
      },
      {
        "duration": 0,
        "start_time": "2022-09-16T12:15:31.279Z"
      },
      {
        "duration": 0,
        "start_time": "2022-09-16T12:15:31.280Z"
      },
      {
        "duration": 0,
        "start_time": "2022-09-16T12:15:31.282Z"
      },
      {
        "duration": 0,
        "start_time": "2022-09-16T12:15:31.283Z"
      },
      {
        "duration": 0,
        "start_time": "2022-09-16T12:15:31.284Z"
      },
      {
        "duration": 0,
        "start_time": "2022-09-16T12:15:31.285Z"
      },
      {
        "duration": 1,
        "start_time": "2022-09-16T12:15:31.286Z"
      },
      {
        "duration": 0,
        "start_time": "2022-09-16T12:15:31.287Z"
      },
      {
        "duration": 0,
        "start_time": "2022-09-16T12:15:31.288Z"
      },
      {
        "duration": 0,
        "start_time": "2022-09-16T12:15:31.320Z"
      },
      {
        "duration": 0,
        "start_time": "2022-09-16T12:15:31.322Z"
      },
      {
        "duration": 0,
        "start_time": "2022-09-16T12:15:31.323Z"
      },
      {
        "duration": 0,
        "start_time": "2022-09-16T12:15:31.324Z"
      },
      {
        "duration": 0,
        "start_time": "2022-09-16T12:15:31.325Z"
      },
      {
        "duration": 243,
        "start_time": "2022-09-16T12:15:37.499Z"
      },
      {
        "duration": 11,
        "start_time": "2022-09-16T12:15:51.538Z"
      },
      {
        "duration": 5,
        "start_time": "2022-09-16T12:15:53.265Z"
      },
      {
        "duration": 871,
        "start_time": "2022-09-16T12:15:56.050Z"
      },
      {
        "duration": 819,
        "start_time": "2022-09-16T12:16:02.432Z"
      },
      {
        "duration": 25,
        "start_time": "2022-09-16T12:16:08.426Z"
      },
      {
        "duration": 944,
        "start_time": "2022-09-16T12:16:16.537Z"
      },
      {
        "duration": 4,
        "start_time": "2022-09-16T12:16:34.479Z"
      },
      {
        "duration": 160,
        "start_time": "2022-09-16T12:16:37.304Z"
      },
      {
        "duration": 261,
        "start_time": "2022-09-16T12:16:42.796Z"
      },
      {
        "duration": 137,
        "start_time": "2022-09-16T12:17:22.241Z"
      },
      {
        "duration": 150,
        "start_time": "2022-09-16T12:17:25.846Z"
      },
      {
        "duration": 137,
        "start_time": "2022-09-16T12:18:21.091Z"
      },
      {
        "duration": 152,
        "start_time": "2022-09-16T12:18:37.322Z"
      },
      {
        "duration": 169,
        "start_time": "2022-09-16T12:18:49.791Z"
      },
      {
        "duration": 177,
        "start_time": "2022-09-16T12:19:06.685Z"
      },
      {
        "duration": 12,
        "start_time": "2022-09-16T12:19:17.673Z"
      },
      {
        "duration": 10,
        "start_time": "2022-09-16T12:19:20.340Z"
      },
      {
        "duration": 460,
        "start_time": "2022-09-16T12:19:26.527Z"
      },
      {
        "duration": 7,
        "start_time": "2022-09-16T12:19:35.805Z"
      },
      {
        "duration": 168,
        "start_time": "2022-09-16T12:20:26.757Z"
      },
      {
        "duration": 147,
        "start_time": "2022-09-16T12:20:45.340Z"
      },
      {
        "duration": 149,
        "start_time": "2022-09-16T12:21:01.834Z"
      },
      {
        "duration": 149,
        "start_time": "2022-09-16T12:21:35.187Z"
      },
      {
        "duration": 169,
        "start_time": "2022-09-16T12:21:56.745Z"
      },
      {
        "duration": 151,
        "start_time": "2022-09-16T12:22:07.209Z"
      },
      {
        "duration": 582,
        "start_time": "2022-09-16T12:22:40.592Z"
      },
      {
        "duration": 1002,
        "start_time": "2022-09-16T12:22:48.865Z"
      },
      {
        "duration": 2362,
        "start_time": "2022-09-16T12:22:58.465Z"
      },
      {
        "duration": 9,
        "start_time": "2022-09-16T12:23:00.830Z"
      },
      {
        "duration": 52,
        "start_time": "2022-09-16T12:23:00.841Z"
      },
      {
        "duration": 33,
        "start_time": "2022-09-16T12:23:00.895Z"
      },
      {
        "duration": 32,
        "start_time": "2022-09-16T12:23:00.930Z"
      },
      {
        "duration": 26,
        "start_time": "2022-09-16T12:23:02.844Z"
      },
      {
        "duration": 80,
        "start_time": "2022-09-16T12:23:06.939Z"
      },
      {
        "duration": 535,
        "start_time": "2022-09-16T12:23:19.053Z"
      },
      {
        "duration": 766,
        "start_time": "2022-09-16T12:23:28.012Z"
      },
      {
        "duration": 2233,
        "start_time": "2022-09-16T12:23:32.857Z"
      },
      {
        "duration": 8,
        "start_time": "2022-09-16T12:23:35.092Z"
      },
      {
        "duration": 46,
        "start_time": "2022-09-16T12:23:35.102Z"
      },
      {
        "duration": 23,
        "start_time": "2022-09-16T12:23:35.151Z"
      },
      {
        "duration": 8,
        "start_time": "2022-09-16T12:23:35.176Z"
      },
      {
        "duration": 42,
        "start_time": "2022-09-16T12:23:35.185Z"
      },
      {
        "duration": 79,
        "start_time": "2022-09-16T12:23:35.229Z"
      },
      {
        "duration": 79,
        "start_time": "2022-09-16T12:23:35.320Z"
      },
      {
        "duration": 0,
        "start_time": "2022-09-16T12:23:35.401Z"
      },
      {
        "duration": 0,
        "start_time": "2022-09-16T12:23:35.402Z"
      },
      {
        "duration": 0,
        "start_time": "2022-09-16T12:23:35.420Z"
      },
      {
        "duration": 0,
        "start_time": "2022-09-16T12:23:35.421Z"
      },
      {
        "duration": 0,
        "start_time": "2022-09-16T12:23:35.423Z"
      },
      {
        "duration": 0,
        "start_time": "2022-09-16T12:23:35.424Z"
      },
      {
        "duration": 0,
        "start_time": "2022-09-16T12:23:35.426Z"
      },
      {
        "duration": 0,
        "start_time": "2022-09-16T12:23:35.427Z"
      },
      {
        "duration": 0,
        "start_time": "2022-09-16T12:23:35.429Z"
      },
      {
        "duration": 0,
        "start_time": "2022-09-16T12:23:35.430Z"
      },
      {
        "duration": 0,
        "start_time": "2022-09-16T12:23:35.431Z"
      },
      {
        "duration": 0,
        "start_time": "2022-09-16T12:23:35.432Z"
      },
      {
        "duration": 0,
        "start_time": "2022-09-16T12:23:35.433Z"
      },
      {
        "duration": 0,
        "start_time": "2022-09-16T12:23:35.434Z"
      },
      {
        "duration": 0,
        "start_time": "2022-09-16T12:23:35.435Z"
      },
      {
        "duration": 0,
        "start_time": "2022-09-16T12:23:35.436Z"
      },
      {
        "duration": 0,
        "start_time": "2022-09-16T12:23:35.437Z"
      },
      {
        "duration": 0,
        "start_time": "2022-09-16T12:23:35.438Z"
      },
      {
        "duration": 0,
        "start_time": "2022-09-16T12:23:35.440Z"
      },
      {
        "duration": 0,
        "start_time": "2022-09-16T12:23:35.442Z"
      },
      {
        "duration": 0,
        "start_time": "2022-09-16T12:23:35.443Z"
      },
      {
        "duration": 0,
        "start_time": "2022-09-16T12:23:35.445Z"
      },
      {
        "duration": 145,
        "start_time": "2022-09-16T12:23:43.145Z"
      },
      {
        "duration": 2423,
        "start_time": "2022-09-16T12:23:48.610Z"
      },
      {
        "duration": 0,
        "start_time": "2022-09-16T12:24:06.078Z"
      },
      {
        "duration": 8055,
        "start_time": "2022-09-16T12:24:08.288Z"
      },
      {
        "duration": 0,
        "start_time": "2022-09-16T12:24:16.344Z"
      },
      {
        "duration": 0,
        "start_time": "2022-09-16T12:24:16.345Z"
      },
      {
        "duration": 260,
        "start_time": "2022-09-16T12:25:10.859Z"
      },
      {
        "duration": 11,
        "start_time": "2022-09-16T12:27:44.960Z"
      },
      {
        "duration": 644,
        "start_time": "2022-09-16T12:27:51.471Z"
      },
      {
        "duration": 175,
        "start_time": "2022-09-16T12:28:02.947Z"
      },
      {
        "duration": 681,
        "start_time": "2022-09-16T12:28:06.776Z"
      },
      {
        "duration": 2154,
        "start_time": "2022-09-16T12:28:11.775Z"
      },
      {
        "duration": 9,
        "start_time": "2022-09-16T12:28:13.931Z"
      },
      {
        "duration": 16,
        "start_time": "2022-09-16T12:28:13.942Z"
      },
      {
        "duration": 25,
        "start_time": "2022-09-16T12:28:13.960Z"
      },
      {
        "duration": 8,
        "start_time": "2022-09-16T12:28:14.071Z"
      },
      {
        "duration": 31,
        "start_time": "2022-09-16T12:28:16.721Z"
      },
      {
        "duration": 72,
        "start_time": "2022-09-16T12:28:22.862Z"
      },
      {
        "duration": 6,
        "start_time": "2022-09-16T12:28:26.062Z"
      },
      {
        "duration": 678,
        "start_time": "2022-09-16T12:29:10.962Z"
      },
      {
        "duration": 7,
        "start_time": "2022-09-16T12:29:16.169Z"
      },
      {
        "duration": 163,
        "start_time": "2022-09-16T12:29:24.465Z"
      },
      {
        "duration": 17,
        "start_time": "2022-09-16T12:29:40.328Z"
      },
      {
        "duration": 12,
        "start_time": "2022-09-16T12:29:55.751Z"
      },
      {
        "duration": 12,
        "start_time": "2022-09-16T12:30:00.995Z"
      },
      {
        "duration": 167,
        "start_time": "2022-09-16T12:32:35.328Z"
      },
      {
        "duration": 204,
        "start_time": "2022-09-16T12:33:18.798Z"
      },
      {
        "duration": 158,
        "start_time": "2022-09-16T12:39:30.643Z"
      },
      {
        "duration": 158,
        "start_time": "2022-09-16T12:40:14.345Z"
      },
      {
        "duration": 183,
        "start_time": "2022-09-16T12:40:23.896Z"
      },
      {
        "duration": 167,
        "start_time": "2022-09-16T12:40:30.711Z"
      },
      {
        "duration": 159,
        "start_time": "2022-09-16T12:40:37.542Z"
      },
      {
        "duration": 167,
        "start_time": "2022-09-16T12:40:44.366Z"
      },
      {
        "duration": 163,
        "start_time": "2022-09-16T12:40:50.159Z"
      },
      {
        "duration": 12,
        "start_time": "2022-09-16T12:42:43.997Z"
      },
      {
        "duration": 4,
        "start_time": "2022-09-16T12:42:59.571Z"
      },
      {
        "duration": 704,
        "start_time": "2022-09-16T12:43:06.735Z"
      },
      {
        "duration": 1109,
        "start_time": "2022-09-16T12:48:00.998Z"
      },
      {
        "duration": 1460,
        "start_time": "2022-09-16T12:48:22.858Z"
      },
      {
        "duration": 9,
        "start_time": "2022-09-16T12:48:38.346Z"
      },
      {
        "duration": 889,
        "start_time": "2022-09-16T12:48:52.468Z"
      },
      {
        "duration": 980,
        "start_time": "2022-09-16T12:50:45.346Z"
      },
      {
        "duration": 935,
        "start_time": "2022-09-16T12:50:54.222Z"
      },
      {
        "duration": 39,
        "start_time": "2022-09-16T12:51:06.586Z"
      },
      {
        "duration": 33,
        "start_time": "2022-09-16T12:51:17.012Z"
      },
      {
        "duration": 16,
        "start_time": "2022-09-16T12:51:45.624Z"
      },
      {
        "duration": 38,
        "start_time": "2022-09-16T12:52:41.454Z"
      },
      {
        "duration": 15,
        "start_time": "2022-09-16T12:52:56.161Z"
      },
      {
        "duration": 15,
        "start_time": "2022-09-16T12:53:00.191Z"
      },
      {
        "duration": 14,
        "start_time": "2022-09-16T12:53:27.574Z"
      },
      {
        "duration": 15,
        "start_time": "2022-09-16T12:56:11.311Z"
      },
      {
        "duration": 15,
        "start_time": "2022-09-16T12:56:45.312Z"
      },
      {
        "duration": 13,
        "start_time": "2022-09-16T12:56:50.758Z"
      },
      {
        "duration": 14,
        "start_time": "2022-09-16T12:56:55.086Z"
      },
      {
        "duration": 14,
        "start_time": "2022-09-16T12:57:14.825Z"
      },
      {
        "duration": 66,
        "start_time": "2022-09-16T12:57:23.220Z"
      },
      {
        "duration": 19,
        "start_time": "2022-09-16T13:00:30.735Z"
      },
      {
        "duration": 55,
        "start_time": "2022-09-16T13:03:10.517Z"
      },
      {
        "duration": 246,
        "start_time": "2022-09-16T13:22:17.002Z"
      },
      {
        "duration": 0,
        "start_time": "2022-09-16T13:22:51.207Z"
      },
      {
        "duration": 0,
        "start_time": "2022-09-16T13:22:51.222Z"
      },
      {
        "duration": 55,
        "start_time": "2022-09-16T13:22:51.872Z"
      },
      {
        "duration": 79,
        "start_time": "2022-09-16T13:22:54.594Z"
      },
      {
        "duration": 6,
        "start_time": "2022-09-16T13:22:59.714Z"
      },
      {
        "duration": 6,
        "start_time": "2022-09-16T13:23:13.664Z"
      },
      {
        "duration": 926,
        "start_time": "2022-09-16T15:07:48.058Z"
      },
      {
        "duration": 5,
        "start_time": "2022-09-16T15:08:02.615Z"
      },
      {
        "duration": 14,
        "start_time": "2022-09-16T15:08:08.566Z"
      },
      {
        "duration": 12,
        "start_time": "2022-09-16T15:08:15.095Z"
      },
      {
        "duration": 41,
        "start_time": "2022-09-16T15:08:50.693Z"
      },
      {
        "duration": 18,
        "start_time": "2022-09-16T15:08:57.629Z"
      },
      {
        "duration": 30,
        "start_time": "2022-09-16T15:09:19.958Z"
      },
      {
        "duration": 19,
        "start_time": "2022-09-16T15:09:37.428Z"
      },
      {
        "duration": 21,
        "start_time": "2022-09-16T15:09:46.595Z"
      },
      {
        "duration": 18,
        "start_time": "2022-09-16T15:09:49.796Z"
      },
      {
        "duration": 59,
        "start_time": "2022-09-16T15:16:06.910Z"
      },
      {
        "duration": 12,
        "start_time": "2022-09-16T15:16:11.071Z"
      },
      {
        "duration": 23,
        "start_time": "2022-09-16T15:44:46.366Z"
      },
      {
        "duration": 15,
        "start_time": "2022-09-16T15:44:53.128Z"
      },
      {
        "duration": 18,
        "start_time": "2022-09-16T15:45:00.622Z"
      },
      {
        "duration": 14,
        "start_time": "2022-09-16T15:45:21.453Z"
      },
      {
        "duration": 14,
        "start_time": "2022-09-16T15:45:28.044Z"
      },
      {
        "duration": 15,
        "start_time": "2022-09-16T15:45:32.837Z"
      },
      {
        "duration": 18,
        "start_time": "2022-09-16T15:46:08.947Z"
      },
      {
        "duration": 14,
        "start_time": "2022-09-16T15:46:24.439Z"
      },
      {
        "duration": 15,
        "start_time": "2022-09-16T15:46:27.083Z"
      },
      {
        "duration": 82,
        "start_time": "2022-09-16T15:46:33.226Z"
      },
      {
        "duration": 14,
        "start_time": "2022-09-16T15:46:36.389Z"
      },
      {
        "duration": 83,
        "start_time": "2022-09-16T15:47:12.221Z"
      },
      {
        "duration": 79,
        "start_time": "2022-09-16T15:47:22.570Z"
      },
      {
        "duration": 54,
        "start_time": "2022-09-16T15:52:34.568Z"
      },
      {
        "duration": 55,
        "start_time": "2022-09-16T15:52:43.358Z"
      },
      {
        "duration": 48,
        "start_time": "2022-09-16T15:52:49.099Z"
      },
      {
        "duration": 92,
        "start_time": "2022-09-16T15:53:28.335Z"
      },
      {
        "duration": 84,
        "start_time": "2022-09-16T15:53:36.660Z"
      },
      {
        "duration": 80,
        "start_time": "2022-09-16T15:53:40.541Z"
      },
      {
        "duration": 85,
        "start_time": "2022-09-16T15:53:59.452Z"
      },
      {
        "duration": 86,
        "start_time": "2022-09-16T15:54:09.836Z"
      },
      {
        "duration": 96,
        "start_time": "2022-09-16T15:57:19.743Z"
      },
      {
        "duration": 96,
        "start_time": "2022-09-16T15:57:32.645Z"
      },
      {
        "duration": 86,
        "start_time": "2022-09-16T15:58:53.194Z"
      },
      {
        "duration": 216,
        "start_time": "2022-09-16T16:02:18.700Z"
      },
      {
        "duration": 227,
        "start_time": "2022-09-16T16:02:28.090Z"
      },
      {
        "duration": 198,
        "start_time": "2022-09-16T16:02:37.225Z"
      },
      {
        "duration": 172,
        "start_time": "2022-09-16T16:02:40.720Z"
      },
      {
        "duration": 242,
        "start_time": "2022-09-16T16:03:09.419Z"
      },
      {
        "duration": 207,
        "start_time": "2022-09-16T16:03:14.538Z"
      },
      {
        "duration": 217,
        "start_time": "2022-09-16T16:04:05.260Z"
      },
      {
        "duration": 183,
        "start_time": "2022-09-16T16:04:25.275Z"
      },
      {
        "duration": 48,
        "start_time": "2022-09-16T17:33:57.550Z"
      },
      {
        "duration": 176,
        "start_time": "2022-09-16T17:34:01.712Z"
      },
      {
        "duration": 12,
        "start_time": "2022-09-16T17:34:14.558Z"
      },
      {
        "duration": 18,
        "start_time": "2022-09-16T17:34:18.959Z"
      },
      {
        "duration": 165,
        "start_time": "2022-09-16T17:34:33.205Z"
      },
      {
        "duration": 182,
        "start_time": "2022-09-16T17:35:01.772Z"
      },
      {
        "duration": 161,
        "start_time": "2022-09-16T17:35:09.212Z"
      },
      {
        "duration": 171,
        "start_time": "2022-09-16T17:35:19.819Z"
      },
      {
        "duration": 182,
        "start_time": "2022-09-16T17:35:26.348Z"
      },
      {
        "duration": 0,
        "start_time": "2022-09-16T17:36:33.993Z"
      },
      {
        "duration": 185,
        "start_time": "2022-09-16T17:36:34.418Z"
      },
      {
        "duration": 181,
        "start_time": "2022-09-16T17:38:25.940Z"
      },
      {
        "duration": 223,
        "start_time": "2022-09-16T17:38:48.166Z"
      },
      {
        "duration": 190,
        "start_time": "2022-09-16T17:38:57.381Z"
      },
      {
        "duration": 16,
        "start_time": "2022-09-16T17:39:00.493Z"
      },
      {
        "duration": 195,
        "start_time": "2022-09-16T17:39:02.965Z"
      },
      {
        "duration": 176,
        "start_time": "2022-09-16T17:39:35.289Z"
      },
      {
        "duration": 175,
        "start_time": "2022-09-16T17:39:44.593Z"
      },
      {
        "duration": 436,
        "start_time": "2022-09-16T17:39:55.938Z"
      },
      {
        "duration": 53,
        "start_time": "2022-09-16T17:40:10.194Z"
      },
      {
        "duration": 2,
        "start_time": "2022-09-16T17:40:12.155Z"
      },
      {
        "duration": 188,
        "start_time": "2022-09-16T17:40:26.022Z"
      },
      {
        "duration": 329,
        "start_time": "2022-09-16T17:40:54.747Z"
      },
      {
        "duration": 3,
        "start_time": "2022-09-16T17:41:11.662Z"
      },
      {
        "duration": 2989,
        "start_time": "2022-09-19T11:28:58.000Z"
      },
      {
        "duration": 11,
        "start_time": "2022-09-19T11:29:05.451Z"
      },
      {
        "duration": 13,
        "start_time": "2022-09-19T11:29:07.381Z"
      },
      {
        "duration": 10,
        "start_time": "2022-09-19T11:29:09.064Z"
      },
      {
        "duration": 8,
        "start_time": "2022-09-19T11:29:10.333Z"
      },
      {
        "duration": 29,
        "start_time": "2022-09-19T11:29:13.483Z"
      },
      {
        "duration": 76,
        "start_time": "2022-09-19T11:29:16.026Z"
      },
      {
        "duration": 143,
        "start_time": "2022-09-19T11:29:18.429Z"
      },
      {
        "duration": 82,
        "start_time": "2022-09-19T11:29:28.962Z"
      },
      {
        "duration": 4,
        "start_time": "2022-09-19T11:29:32.618Z"
      },
      {
        "duration": 306,
        "start_time": "2022-09-19T11:29:34.453Z"
      },
      {
        "duration": 299,
        "start_time": "2022-09-19T11:29:36.431Z"
      },
      {
        "duration": 11,
        "start_time": "2022-09-19T11:29:39.116Z"
      },
      {
        "duration": 11,
        "start_time": "2022-09-19T11:29:40.892Z"
      },
      {
        "duration": 82,
        "start_time": "2022-09-19T11:29:44.834Z"
      },
      {
        "duration": 976,
        "start_time": "2022-09-19T11:29:51.083Z"
      },
      {
        "duration": 2136,
        "start_time": "2022-09-19T11:29:58.070Z"
      },
      {
        "duration": 9,
        "start_time": "2022-09-19T11:30:00.209Z"
      },
      {
        "duration": 13,
        "start_time": "2022-09-19T11:30:00.220Z"
      },
      {
        "duration": 7,
        "start_time": "2022-09-19T11:30:00.235Z"
      },
      {
        "duration": 22,
        "start_time": "2022-09-19T11:30:00.244Z"
      },
      {
        "duration": 41,
        "start_time": "2022-09-19T11:30:00.268Z"
      },
      {
        "duration": 112,
        "start_time": "2022-09-19T11:30:00.310Z"
      },
      {
        "duration": 87,
        "start_time": "2022-09-19T11:30:00.424Z"
      },
      {
        "duration": 0,
        "start_time": "2022-09-19T11:30:00.513Z"
      },
      {
        "duration": 0,
        "start_time": "2022-09-19T11:30:00.514Z"
      },
      {
        "duration": 10,
        "start_time": "2022-09-19T11:30:02.955Z"
      },
      {
        "duration": 1242,
        "start_time": "2022-09-19T11:30:11.644Z"
      },
      {
        "duration": 2098,
        "start_time": "2022-09-19T11:30:16.839Z"
      },
      {
        "duration": 8,
        "start_time": "2022-09-19T11:30:18.939Z"
      },
      {
        "duration": 24,
        "start_time": "2022-09-19T11:30:18.948Z"
      },
      {
        "duration": 15,
        "start_time": "2022-09-19T11:30:18.974Z"
      },
      {
        "duration": 18,
        "start_time": "2022-09-19T11:30:18.991Z"
      },
      {
        "duration": 26,
        "start_time": "2022-09-19T11:30:19.476Z"
      },
      {
        "duration": 165,
        "start_time": "2022-09-19T11:31:16.421Z"
      },
      {
        "duration": 182,
        "start_time": "2022-09-19T11:35:01.118Z"
      },
      {
        "duration": 155,
        "start_time": "2022-09-19T11:35:03.963Z"
      },
      {
        "duration": 176,
        "start_time": "2022-09-19T11:35:07.555Z"
      },
      {
        "duration": 300,
        "start_time": "2022-09-19T11:37:12.157Z"
      },
      {
        "duration": 161,
        "start_time": "2022-09-19T11:37:19.070Z"
      },
      {
        "duration": 172,
        "start_time": "2022-09-19T11:37:31.437Z"
      },
      {
        "duration": 156,
        "start_time": "2022-09-19T11:37:36.046Z"
      },
      {
        "duration": 178,
        "start_time": "2022-09-19T11:37:40.238Z"
      },
      {
        "duration": 443,
        "start_time": "2022-09-19T11:44:44.165Z"
      },
      {
        "duration": 0,
        "start_time": "2022-09-19T11:45:52.464Z"
      },
      {
        "duration": 142,
        "start_time": "2022-09-19T11:45:53.969Z"
      },
      {
        "duration": 1185,
        "start_time": "2022-09-19T11:45:58.075Z"
      },
      {
        "duration": 1224,
        "start_time": "2022-09-19T11:46:07.807Z"
      },
      {
        "duration": 1296,
        "start_time": "2022-09-19T11:46:30.558Z"
      },
      {
        "duration": 88,
        "start_time": "2022-09-19T11:47:07.669Z"
      },
      {
        "duration": 1986,
        "start_time": "2022-09-19T11:47:12.241Z"
      },
      {
        "duration": 1374,
        "start_time": "2022-09-19T11:47:36.634Z"
      },
      {
        "duration": 1764,
        "start_time": "2022-09-19T11:47:48.755Z"
      },
      {
        "duration": 28,
        "start_time": "2022-09-19T11:55:50.195Z"
      },
      {
        "duration": 12,
        "start_time": "2022-09-19T11:56:00.441Z"
      },
      {
        "duration": 12,
        "start_time": "2022-09-19T11:56:06.419Z"
      },
      {
        "duration": 77,
        "start_time": "2022-09-19T11:56:22.447Z"
      },
      {
        "duration": 82,
        "start_time": "2022-09-19T11:56:34.609Z"
      },
      {
        "duration": 82,
        "start_time": "2022-09-19T11:56:55.917Z"
      },
      {
        "duration": 92,
        "start_time": "2022-09-19T11:57:25.915Z"
      },
      {
        "duration": 8,
        "start_time": "2022-09-19T11:57:49.935Z"
      },
      {
        "duration": 10,
        "start_time": "2022-09-19T11:57:56.698Z"
      },
      {
        "duration": 8,
        "start_time": "2022-09-19T11:58:00.330Z"
      },
      {
        "duration": 9,
        "start_time": "2022-09-19T11:58:08.011Z"
      },
      {
        "duration": 23,
        "start_time": "2022-09-19T11:58:47.749Z"
      },
      {
        "duration": 13,
        "start_time": "2022-09-19T12:39:01.906Z"
      },
      {
        "duration": 11,
        "start_time": "2022-09-19T12:39:54.405Z"
      },
      {
        "duration": 10,
        "start_time": "2022-09-19T12:40:05.419Z"
      },
      {
        "duration": 37,
        "start_time": "2022-09-19T12:40:15.931Z"
      },
      {
        "duration": 7,
        "start_time": "2022-09-19T12:40:26.572Z"
      },
      {
        "duration": 36,
        "start_time": "2022-09-19T12:40:54.940Z"
      },
      {
        "duration": 66,
        "start_time": "2022-09-19T12:41:32.816Z"
      },
      {
        "duration": 11,
        "start_time": "2022-09-19T12:41:34.850Z"
      },
      {
        "duration": 6,
        "start_time": "2022-09-19T12:41:36.451Z"
      },
      {
        "duration": 8,
        "start_time": "2022-09-19T12:41:46.151Z"
      },
      {
        "duration": 13,
        "start_time": "2022-09-19T12:42:09.444Z"
      },
      {
        "duration": 15,
        "start_time": "2022-09-19T12:42:26.642Z"
      },
      {
        "duration": 17,
        "start_time": "2022-09-19T12:42:45.406Z"
      },
      {
        "duration": 22,
        "start_time": "2022-09-19T12:42:58.207Z"
      },
      {
        "duration": 28,
        "start_time": "2022-09-19T12:43:05.102Z"
      },
      {
        "duration": 13,
        "start_time": "2022-09-19T12:43:39.670Z"
      },
      {
        "duration": 11,
        "start_time": "2022-09-19T12:43:43.057Z"
      },
      {
        "duration": 22,
        "start_time": "2022-09-19T12:43:55.865Z"
      },
      {
        "duration": 14,
        "start_time": "2022-09-19T12:44:18.154Z"
      },
      {
        "duration": 15,
        "start_time": "2022-09-19T12:45:12.618Z"
      },
      {
        "duration": 13,
        "start_time": "2022-09-19T12:45:36.236Z"
      },
      {
        "duration": 14,
        "start_time": "2022-09-19T12:45:47.574Z"
      },
      {
        "duration": 310,
        "start_time": "2022-09-19T13:02:05.234Z"
      },
      {
        "duration": 16,
        "start_time": "2022-09-19T13:02:08.257Z"
      },
      {
        "duration": 37,
        "start_time": "2022-09-19T13:02:45.508Z"
      },
      {
        "duration": 38,
        "start_time": "2022-09-19T13:04:01.009Z"
      },
      {
        "duration": 37,
        "start_time": "2022-09-19T13:04:28.313Z"
      },
      {
        "duration": 40,
        "start_time": "2022-09-19T13:04:53.163Z"
      },
      {
        "duration": 246,
        "start_time": "2022-09-19T13:05:07.340Z"
      },
      {
        "duration": 146,
        "start_time": "2022-09-19T13:05:41.458Z"
      },
      {
        "duration": 277,
        "start_time": "2022-09-19T13:05:44.021Z"
      },
      {
        "duration": 46,
        "start_time": "2022-09-19T13:06:20.786Z"
      },
      {
        "duration": 18,
        "start_time": "2022-09-19T13:07:08.686Z"
      },
      {
        "duration": 158,
        "start_time": "2022-09-19T13:08:22.651Z"
      },
      {
        "duration": 146,
        "start_time": "2022-09-19T13:08:29.144Z"
      },
      {
        "duration": 143,
        "start_time": "2022-09-19T13:08:36.607Z"
      },
      {
        "duration": 400,
        "start_time": "2022-09-19T13:09:45.739Z"
      },
      {
        "duration": 178,
        "start_time": "2022-09-19T13:09:59.210Z"
      },
      {
        "duration": 215,
        "start_time": "2022-09-19T13:18:01.860Z"
      },
      {
        "duration": 193,
        "start_time": "2022-09-19T13:18:16.143Z"
      },
      {
        "duration": 160,
        "start_time": "2022-09-19T13:18:22.351Z"
      },
      {
        "duration": 156,
        "start_time": "2022-09-19T13:18:42.404Z"
      },
      {
        "duration": 161,
        "start_time": "2022-09-19T13:18:46.636Z"
      },
      {
        "duration": 168,
        "start_time": "2022-09-19T13:19:35.729Z"
      },
      {
        "duration": 154,
        "start_time": "2022-09-19T13:20:13.408Z"
      },
      {
        "duration": 154,
        "start_time": "2022-09-19T13:58:27.973Z"
      },
      {
        "duration": 3274,
        "start_time": "2022-09-19T14:28:32.073Z"
      },
      {
        "duration": 9,
        "start_time": "2022-09-19T14:28:35.350Z"
      },
      {
        "duration": 19,
        "start_time": "2022-09-19T14:28:35.361Z"
      },
      {
        "duration": 13,
        "start_time": "2022-09-19T14:28:35.382Z"
      },
      {
        "duration": 14,
        "start_time": "2022-09-19T14:28:35.397Z"
      },
      {
        "duration": 34,
        "start_time": "2022-09-19T14:28:35.413Z"
      },
      {
        "duration": 141,
        "start_time": "2022-09-19T14:28:35.450Z"
      },
      {
        "duration": 174,
        "start_time": "2022-09-19T14:28:35.593Z"
      },
      {
        "duration": 0,
        "start_time": "2022-09-19T14:28:35.770Z"
      },
      {
        "duration": 0,
        "start_time": "2022-09-19T14:28:35.772Z"
      },
      {
        "duration": 0,
        "start_time": "2022-09-19T14:28:35.773Z"
      },
      {
        "duration": 0,
        "start_time": "2022-09-19T14:28:35.774Z"
      },
      {
        "duration": 0,
        "start_time": "2022-09-19T14:28:35.775Z"
      },
      {
        "duration": 0,
        "start_time": "2022-09-19T14:28:35.776Z"
      },
      {
        "duration": 0,
        "start_time": "2022-09-19T14:28:35.777Z"
      },
      {
        "duration": 0,
        "start_time": "2022-09-19T14:28:35.779Z"
      },
      {
        "duration": 0,
        "start_time": "2022-09-19T14:28:35.780Z"
      },
      {
        "duration": 0,
        "start_time": "2022-09-19T14:28:35.781Z"
      },
      {
        "duration": 0,
        "start_time": "2022-09-19T14:28:35.782Z"
      },
      {
        "duration": 0,
        "start_time": "2022-09-19T14:28:35.783Z"
      },
      {
        "duration": 0,
        "start_time": "2022-09-19T14:28:35.784Z"
      },
      {
        "duration": 0,
        "start_time": "2022-09-19T14:28:35.785Z"
      },
      {
        "duration": 0,
        "start_time": "2022-09-19T14:28:35.786Z"
      },
      {
        "duration": 0,
        "start_time": "2022-09-19T14:28:35.787Z"
      },
      {
        "duration": 0,
        "start_time": "2022-09-19T14:28:35.788Z"
      },
      {
        "duration": 0,
        "start_time": "2022-09-19T14:28:35.789Z"
      },
      {
        "duration": 0,
        "start_time": "2022-09-19T14:28:35.821Z"
      },
      {
        "duration": 0,
        "start_time": "2022-09-19T14:28:35.822Z"
      },
      {
        "duration": 0,
        "start_time": "2022-09-19T14:28:35.823Z"
      },
      {
        "duration": 0,
        "start_time": "2022-09-19T14:28:35.825Z"
      },
      {
        "duration": 0,
        "start_time": "2022-09-19T14:28:35.826Z"
      },
      {
        "duration": 0,
        "start_time": "2022-09-19T14:28:35.827Z"
      },
      {
        "duration": 0,
        "start_time": "2022-09-19T14:28:35.828Z"
      },
      {
        "duration": 0,
        "start_time": "2022-09-19T14:28:35.830Z"
      },
      {
        "duration": 0,
        "start_time": "2022-09-19T14:28:35.831Z"
      },
      {
        "duration": 0,
        "start_time": "2022-09-19T14:28:35.833Z"
      },
      {
        "duration": 53,
        "start_time": "2022-09-19T14:48:42.666Z"
      },
      {
        "duration": 2945,
        "start_time": "2022-09-19T15:18:39.198Z"
      },
      {
        "duration": 9,
        "start_time": "2022-09-19T15:18:42.145Z"
      },
      {
        "duration": 18,
        "start_time": "2022-09-19T15:18:42.156Z"
      },
      {
        "duration": 17,
        "start_time": "2022-09-19T15:18:42.177Z"
      },
      {
        "duration": 8,
        "start_time": "2022-09-19T15:18:42.196Z"
      },
      {
        "duration": 34,
        "start_time": "2022-09-19T15:18:42.205Z"
      },
      {
        "duration": 88,
        "start_time": "2022-09-19T15:18:42.241Z"
      },
      {
        "duration": 156,
        "start_time": "2022-09-19T15:18:42.331Z"
      },
      {
        "duration": 0,
        "start_time": "2022-09-19T15:18:42.490Z"
      },
      {
        "duration": 0,
        "start_time": "2022-09-19T15:18:42.492Z"
      },
      {
        "duration": 0,
        "start_time": "2022-09-19T15:18:42.493Z"
      },
      {
        "duration": 0,
        "start_time": "2022-09-19T15:18:42.494Z"
      },
      {
        "duration": 0,
        "start_time": "2022-09-19T15:18:42.495Z"
      },
      {
        "duration": 0,
        "start_time": "2022-09-19T15:18:42.496Z"
      },
      {
        "duration": 0,
        "start_time": "2022-09-19T15:18:42.497Z"
      },
      {
        "duration": 1,
        "start_time": "2022-09-19T15:18:42.498Z"
      },
      {
        "duration": 0,
        "start_time": "2022-09-19T15:18:42.500Z"
      },
      {
        "duration": 0,
        "start_time": "2022-09-19T15:18:42.501Z"
      },
      {
        "duration": 0,
        "start_time": "2022-09-19T15:18:42.502Z"
      },
      {
        "duration": 0,
        "start_time": "2022-09-19T15:18:42.521Z"
      },
      {
        "duration": 0,
        "start_time": "2022-09-19T15:18:42.522Z"
      },
      {
        "duration": 0,
        "start_time": "2022-09-19T15:18:42.523Z"
      },
      {
        "duration": 0,
        "start_time": "2022-09-19T15:18:42.524Z"
      },
      {
        "duration": 0,
        "start_time": "2022-09-19T15:18:42.525Z"
      },
      {
        "duration": 0,
        "start_time": "2022-09-19T15:18:42.526Z"
      },
      {
        "duration": 0,
        "start_time": "2022-09-19T15:18:42.527Z"
      },
      {
        "duration": 0,
        "start_time": "2022-09-19T15:18:42.529Z"
      },
      {
        "duration": 0,
        "start_time": "2022-09-19T15:18:42.530Z"
      },
      {
        "duration": 0,
        "start_time": "2022-09-19T15:18:42.531Z"
      },
      {
        "duration": 0,
        "start_time": "2022-09-19T15:18:42.532Z"
      },
      {
        "duration": 0,
        "start_time": "2022-09-19T15:18:42.533Z"
      },
      {
        "duration": 0,
        "start_time": "2022-09-19T15:18:42.535Z"
      },
      {
        "duration": 0,
        "start_time": "2022-09-19T15:18:42.536Z"
      },
      {
        "duration": 0,
        "start_time": "2022-09-19T15:18:42.537Z"
      },
      {
        "duration": 0,
        "start_time": "2022-09-19T15:18:42.538Z"
      },
      {
        "duration": 0,
        "start_time": "2022-09-19T15:18:42.539Z"
      },
      {
        "duration": 49,
        "start_time": "2022-09-19T15:37:00.874Z"
      },
      {
        "duration": 387,
        "start_time": "2022-09-19T15:37:03.719Z"
      },
      {
        "duration": 2457,
        "start_time": "2022-09-19T15:37:04.227Z"
      },
      {
        "duration": 11,
        "start_time": "2022-09-19T15:46:06.466Z"
      },
      {
        "duration": 8,
        "start_time": "2022-09-19T16:02:30.454Z"
      },
      {
        "duration": 40,
        "start_time": "2022-09-19T16:02:51.433Z"
      },
      {
        "duration": 8,
        "start_time": "2022-09-19T16:03:04.221Z"
      },
      {
        "duration": 9,
        "start_time": "2022-09-19T16:04:28.500Z"
      },
      {
        "duration": 10,
        "start_time": "2022-09-19T16:04:46.724Z"
      },
      {
        "duration": 332,
        "start_time": "2022-09-19T16:05:02.661Z"
      },
      {
        "duration": 10,
        "start_time": "2022-09-19T16:05:06.557Z"
      },
      {
        "duration": 10,
        "start_time": "2022-09-19T16:05:14.875Z"
      },
      {
        "duration": 9,
        "start_time": "2022-09-19T16:05:18.621Z"
      },
      {
        "duration": 12,
        "start_time": "2022-09-19T16:08:08.601Z"
      },
      {
        "duration": 11,
        "start_time": "2022-09-19T16:08:14.050Z"
      },
      {
        "duration": 41,
        "start_time": "2022-09-19T16:08:34.937Z"
      },
      {
        "duration": 58,
        "start_time": "2022-09-19T16:08:44.472Z"
      },
      {
        "duration": 42,
        "start_time": "2022-09-19T16:08:46.440Z"
      },
      {
        "duration": 14,
        "start_time": "2022-09-19T16:08:49.864Z"
      },
      {
        "duration": 382,
        "start_time": "2022-09-19T16:09:20.727Z"
      },
      {
        "duration": 2074,
        "start_time": "2022-09-19T16:09:21.110Z"
      },
      {
        "duration": 8,
        "start_time": "2022-09-19T16:09:23.186Z"
      },
      {
        "duration": 12,
        "start_time": "2022-09-19T16:09:23.196Z"
      },
      {
        "duration": 7,
        "start_time": "2022-09-19T16:09:23.209Z"
      },
      {
        "duration": 7,
        "start_time": "2022-09-19T16:09:23.217Z"
      },
      {
        "duration": 25,
        "start_time": "2022-09-19T16:09:23.225Z"
      },
      {
        "duration": 102,
        "start_time": "2022-09-19T16:09:23.251Z"
      },
      {
        "duration": 145,
        "start_time": "2022-09-19T16:09:23.355Z"
      },
      {
        "duration": 0,
        "start_time": "2022-09-19T16:09:23.503Z"
      },
      {
        "duration": 0,
        "start_time": "2022-09-19T16:09:23.509Z"
      },
      {
        "duration": 0,
        "start_time": "2022-09-19T16:09:23.510Z"
      },
      {
        "duration": 0,
        "start_time": "2022-09-19T16:09:23.511Z"
      },
      {
        "duration": 0,
        "start_time": "2022-09-19T16:09:23.512Z"
      },
      {
        "duration": 0,
        "start_time": "2022-09-19T16:09:23.513Z"
      },
      {
        "duration": 0,
        "start_time": "2022-09-19T16:09:23.514Z"
      },
      {
        "duration": 0,
        "start_time": "2022-09-19T16:09:23.515Z"
      },
      {
        "duration": 0,
        "start_time": "2022-09-19T16:09:23.516Z"
      },
      {
        "duration": 0,
        "start_time": "2022-09-19T16:09:23.516Z"
      },
      {
        "duration": 0,
        "start_time": "2022-09-19T16:09:23.517Z"
      },
      {
        "duration": 0,
        "start_time": "2022-09-19T16:09:23.518Z"
      },
      {
        "duration": 0,
        "start_time": "2022-09-19T16:09:23.519Z"
      },
      {
        "duration": 0,
        "start_time": "2022-09-19T16:09:23.520Z"
      },
      {
        "duration": 0,
        "start_time": "2022-09-19T16:09:23.520Z"
      },
      {
        "duration": 0,
        "start_time": "2022-09-19T16:09:23.521Z"
      },
      {
        "duration": 0,
        "start_time": "2022-09-19T16:09:23.522Z"
      },
      {
        "duration": 0,
        "start_time": "2022-09-19T16:09:23.523Z"
      },
      {
        "duration": 0,
        "start_time": "2022-09-19T16:09:23.524Z"
      },
      {
        "duration": 0,
        "start_time": "2022-09-19T16:09:23.525Z"
      },
      {
        "duration": 0,
        "start_time": "2022-09-19T16:09:23.526Z"
      },
      {
        "duration": 0,
        "start_time": "2022-09-19T16:09:23.526Z"
      },
      {
        "duration": 0,
        "start_time": "2022-09-19T16:09:23.528Z"
      },
      {
        "duration": 0,
        "start_time": "2022-09-19T16:09:23.529Z"
      },
      {
        "duration": 0,
        "start_time": "2022-09-19T16:09:23.530Z"
      },
      {
        "duration": 0,
        "start_time": "2022-09-19T16:09:23.531Z"
      },
      {
        "duration": 0,
        "start_time": "2022-09-19T16:09:23.531Z"
      },
      {
        "duration": 0,
        "start_time": "2022-09-19T16:09:23.532Z"
      },
      {
        "duration": 69,
        "start_time": "2022-09-19T16:10:28.910Z"
      },
      {
        "duration": 63,
        "start_time": "2022-09-19T16:10:33.976Z"
      },
      {
        "duration": 9,
        "start_time": "2022-09-19T16:10:46.376Z"
      },
      {
        "duration": 37,
        "start_time": "2022-09-19T16:11:01.420Z"
      },
      {
        "duration": 49,
        "start_time": "2022-09-19T16:11:34.231Z"
      },
      {
        "duration": 14,
        "start_time": "2022-09-19T16:11:39.032Z"
      },
      {
        "duration": 13,
        "start_time": "2022-09-19T16:11:40.333Z"
      },
      {
        "duration": 9,
        "start_time": "2022-09-19T16:11:43.563Z"
      },
      {
        "duration": 13,
        "start_time": "2022-09-19T16:11:46.296Z"
      },
      {
        "duration": 391,
        "start_time": "2022-09-19T16:11:51.725Z"
      },
      {
        "duration": 2046,
        "start_time": "2022-09-19T16:11:52.118Z"
      },
      {
        "duration": 8,
        "start_time": "2022-09-19T16:11:54.165Z"
      },
      {
        "duration": 10,
        "start_time": "2022-09-19T16:11:54.176Z"
      },
      {
        "duration": 7,
        "start_time": "2022-09-19T16:11:54.188Z"
      },
      {
        "duration": 9,
        "start_time": "2022-09-19T16:11:54.196Z"
      },
      {
        "duration": 25,
        "start_time": "2022-09-19T16:11:54.208Z"
      },
      {
        "duration": 91,
        "start_time": "2022-09-19T16:11:54.235Z"
      },
      {
        "duration": 166,
        "start_time": "2022-09-19T16:11:54.328Z"
      },
      {
        "duration": 0,
        "start_time": "2022-09-19T16:11:54.497Z"
      },
      {
        "duration": 0,
        "start_time": "2022-09-19T16:11:54.498Z"
      },
      {
        "duration": 0,
        "start_time": "2022-09-19T16:11:54.508Z"
      },
      {
        "duration": 0,
        "start_time": "2022-09-19T16:11:54.509Z"
      },
      {
        "duration": 0,
        "start_time": "2022-09-19T16:11:54.510Z"
      },
      {
        "duration": 0,
        "start_time": "2022-09-19T16:11:54.513Z"
      },
      {
        "duration": 0,
        "start_time": "2022-09-19T16:11:54.515Z"
      },
      {
        "duration": 0,
        "start_time": "2022-09-19T16:11:54.517Z"
      },
      {
        "duration": 0,
        "start_time": "2022-09-19T16:11:54.517Z"
      },
      {
        "duration": 0,
        "start_time": "2022-09-19T16:11:54.518Z"
      },
      {
        "duration": 0,
        "start_time": "2022-09-19T16:11:54.520Z"
      },
      {
        "duration": 0,
        "start_time": "2022-09-19T16:11:54.522Z"
      },
      {
        "duration": 0,
        "start_time": "2022-09-19T16:11:54.523Z"
      },
      {
        "duration": 0,
        "start_time": "2022-09-19T16:11:54.525Z"
      },
      {
        "duration": 0,
        "start_time": "2022-09-19T16:11:54.526Z"
      },
      {
        "duration": 0,
        "start_time": "2022-09-19T16:11:54.528Z"
      },
      {
        "duration": 0,
        "start_time": "2022-09-19T16:11:54.530Z"
      },
      {
        "duration": 0,
        "start_time": "2022-09-19T16:11:54.531Z"
      },
      {
        "duration": 0,
        "start_time": "2022-09-19T16:11:54.532Z"
      },
      {
        "duration": 0,
        "start_time": "2022-09-19T16:11:54.533Z"
      },
      {
        "duration": 0,
        "start_time": "2022-09-19T16:11:54.534Z"
      },
      {
        "duration": 0,
        "start_time": "2022-09-19T16:11:54.535Z"
      },
      {
        "duration": 0,
        "start_time": "2022-09-19T16:11:54.536Z"
      },
      {
        "duration": 0,
        "start_time": "2022-09-19T16:11:54.537Z"
      },
      {
        "duration": 0,
        "start_time": "2022-09-19T16:11:54.538Z"
      },
      {
        "duration": 0,
        "start_time": "2022-09-19T16:11:54.539Z"
      },
      {
        "duration": 0,
        "start_time": "2022-09-19T16:11:54.540Z"
      },
      {
        "duration": 0,
        "start_time": "2022-09-19T16:11:54.541Z"
      },
      {
        "duration": 10,
        "start_time": "2022-09-19T16:11:58.972Z"
      },
      {
        "duration": 9,
        "start_time": "2022-09-19T16:12:11.179Z"
      },
      {
        "duration": 20,
        "start_time": "2022-09-19T16:12:16.384Z"
      },
      {
        "duration": 8,
        "start_time": "2022-09-19T16:12:26.436Z"
      },
      {
        "duration": 43,
        "start_time": "2022-09-19T16:18:33.267Z"
      },
      {
        "duration": 50,
        "start_time": "2022-09-19T16:18:48.308Z"
      },
      {
        "duration": 50,
        "start_time": "2022-09-19T16:18:53.068Z"
      },
      {
        "duration": 43,
        "start_time": "2022-09-19T16:18:55.947Z"
      },
      {
        "duration": 43,
        "start_time": "2022-09-19T16:18:59.906Z"
      },
      {
        "duration": 1978,
        "start_time": "2022-09-19T16:19:03.794Z"
      },
      {
        "duration": 43,
        "start_time": "2022-09-19T16:19:12.133Z"
      },
      {
        "duration": 44,
        "start_time": "2022-09-19T16:19:15.395Z"
      },
      {
        "duration": 45,
        "start_time": "2022-09-19T16:20:53.989Z"
      },
      {
        "duration": 39,
        "start_time": "2022-09-19T16:20:55.663Z"
      },
      {
        "duration": 38,
        "start_time": "2022-09-19T16:20:55.850Z"
      },
      {
        "duration": 37,
        "start_time": "2022-09-19T16:20:55.973Z"
      },
      {
        "duration": 38,
        "start_time": "2022-09-19T16:20:56.091Z"
      },
      {
        "duration": 42,
        "start_time": "2022-09-19T16:20:56.211Z"
      },
      {
        "duration": 36,
        "start_time": "2022-09-19T16:20:56.334Z"
      },
      {
        "duration": 38,
        "start_time": "2022-09-19T16:20:56.496Z"
      },
      {
        "duration": 411,
        "start_time": "2022-09-19T16:21:05.887Z"
      },
      {
        "duration": 2037,
        "start_time": "2022-09-19T16:21:06.299Z"
      },
      {
        "duration": 7,
        "start_time": "2022-09-19T16:21:08.338Z"
      },
      {
        "duration": 45,
        "start_time": "2022-09-19T16:21:08.347Z"
      },
      {
        "duration": 6,
        "start_time": "2022-09-19T16:21:08.393Z"
      },
      {
        "duration": 17,
        "start_time": "2022-09-19T16:21:08.401Z"
      },
      {
        "duration": 25,
        "start_time": "2022-09-19T16:21:08.420Z"
      },
      {
        "duration": 91,
        "start_time": "2022-09-19T16:21:08.447Z"
      },
      {
        "duration": 153,
        "start_time": "2022-09-19T16:21:08.540Z"
      },
      {
        "duration": 0,
        "start_time": "2022-09-19T16:21:08.695Z"
      },
      {
        "duration": 0,
        "start_time": "2022-09-19T16:21:08.696Z"
      },
      {
        "duration": 0,
        "start_time": "2022-09-19T16:21:08.697Z"
      },
      {
        "duration": 0,
        "start_time": "2022-09-19T16:21:08.698Z"
      },
      {
        "duration": 0,
        "start_time": "2022-09-19T16:21:08.699Z"
      },
      {
        "duration": 0,
        "start_time": "2022-09-19T16:21:08.700Z"
      },
      {
        "duration": 0,
        "start_time": "2022-09-19T16:21:08.711Z"
      },
      {
        "duration": 0,
        "start_time": "2022-09-19T16:21:08.712Z"
      },
      {
        "duration": 0,
        "start_time": "2022-09-19T16:21:08.713Z"
      },
      {
        "duration": 0,
        "start_time": "2022-09-19T16:21:08.713Z"
      },
      {
        "duration": 0,
        "start_time": "2022-09-19T16:21:08.714Z"
      },
      {
        "duration": 0,
        "start_time": "2022-09-19T16:21:08.715Z"
      },
      {
        "duration": 0,
        "start_time": "2022-09-19T16:21:08.716Z"
      },
      {
        "duration": 1,
        "start_time": "2022-09-19T16:21:08.717Z"
      },
      {
        "duration": 0,
        "start_time": "2022-09-19T16:21:08.718Z"
      },
      {
        "duration": 0,
        "start_time": "2022-09-19T16:21:08.719Z"
      },
      {
        "duration": 0,
        "start_time": "2022-09-19T16:21:08.720Z"
      },
      {
        "duration": 0,
        "start_time": "2022-09-19T16:21:08.721Z"
      },
      {
        "duration": 0,
        "start_time": "2022-09-19T16:21:08.722Z"
      },
      {
        "duration": 1,
        "start_time": "2022-09-19T16:21:08.722Z"
      },
      {
        "duration": 0,
        "start_time": "2022-09-19T16:21:08.724Z"
      },
      {
        "duration": 0,
        "start_time": "2022-09-19T16:21:08.725Z"
      },
      {
        "duration": 0,
        "start_time": "2022-09-19T16:21:08.725Z"
      },
      {
        "duration": 0,
        "start_time": "2022-09-19T16:21:08.726Z"
      },
      {
        "duration": 0,
        "start_time": "2022-09-19T16:21:08.727Z"
      },
      {
        "duration": 0,
        "start_time": "2022-09-19T16:21:08.728Z"
      },
      {
        "duration": 0,
        "start_time": "2022-09-19T16:21:08.729Z"
      },
      {
        "duration": 0,
        "start_time": "2022-09-19T16:21:08.730Z"
      },
      {
        "duration": 48,
        "start_time": "2022-09-19T16:21:12.944Z"
      },
      {
        "duration": 34,
        "start_time": "2022-09-19T16:21:16.843Z"
      },
      {
        "duration": 44,
        "start_time": "2022-09-19T16:21:19.679Z"
      },
      {
        "duration": 13,
        "start_time": "2022-09-19T16:21:40.697Z"
      },
      {
        "duration": 11,
        "start_time": "2022-09-19T16:21:44.682Z"
      },
      {
        "duration": 14,
        "start_time": "2022-09-19T16:21:50.127Z"
      },
      {
        "duration": 29,
        "start_time": "2022-09-19T16:22:20.845Z"
      },
      {
        "duration": 32,
        "start_time": "2022-09-19T16:26:07.548Z"
      },
      {
        "duration": 51,
        "start_time": "2022-09-19T16:27:19.790Z"
      },
      {
        "duration": 72,
        "start_time": "2022-09-19T16:27:23.637Z"
      },
      {
        "duration": 53,
        "start_time": "2022-09-19T16:27:28.272Z"
      },
      {
        "duration": 121,
        "start_time": "2022-09-19T16:29:26.767Z"
      },
      {
        "duration": 61,
        "start_time": "2022-09-19T16:29:31.551Z"
      },
      {
        "duration": 62,
        "start_time": "2022-09-19T16:29:33.389Z"
      },
      {
        "duration": 400,
        "start_time": "2022-09-19T16:29:46.314Z"
      },
      {
        "duration": 2016,
        "start_time": "2022-09-19T16:29:46.716Z"
      },
      {
        "duration": 7,
        "start_time": "2022-09-19T16:29:48.734Z"
      },
      {
        "duration": 63,
        "start_time": "2022-09-19T16:29:48.743Z"
      },
      {
        "duration": 7,
        "start_time": "2022-09-19T16:29:48.807Z"
      },
      {
        "duration": 8,
        "start_time": "2022-09-19T16:29:48.815Z"
      },
      {
        "duration": 25,
        "start_time": "2022-09-19T16:29:48.825Z"
      },
      {
        "duration": 132,
        "start_time": "2022-09-19T16:29:48.852Z"
      },
      {
        "duration": 153,
        "start_time": "2022-09-19T16:29:48.985Z"
      },
      {
        "duration": 0,
        "start_time": "2022-09-19T16:29:49.140Z"
      },
      {
        "duration": 0,
        "start_time": "2022-09-19T16:29:49.141Z"
      },
      {
        "duration": 0,
        "start_time": "2022-09-19T16:29:49.142Z"
      },
      {
        "duration": 0,
        "start_time": "2022-09-19T16:29:49.143Z"
      },
      {
        "duration": 0,
        "start_time": "2022-09-19T16:29:49.144Z"
      },
      {
        "duration": 0,
        "start_time": "2022-09-19T16:29:49.145Z"
      },
      {
        "duration": 0,
        "start_time": "2022-09-19T16:29:49.146Z"
      },
      {
        "duration": 0,
        "start_time": "2022-09-19T16:29:49.148Z"
      },
      {
        "duration": 0,
        "start_time": "2022-09-19T16:29:49.148Z"
      },
      {
        "duration": 0,
        "start_time": "2022-09-19T16:29:49.149Z"
      },
      {
        "duration": 0,
        "start_time": "2022-09-19T16:29:49.150Z"
      },
      {
        "duration": 0,
        "start_time": "2022-09-19T16:29:49.151Z"
      },
      {
        "duration": 0,
        "start_time": "2022-09-19T16:29:49.152Z"
      },
      {
        "duration": 0,
        "start_time": "2022-09-19T16:29:49.153Z"
      },
      {
        "duration": 0,
        "start_time": "2022-09-19T16:29:49.154Z"
      },
      {
        "duration": 0,
        "start_time": "2022-09-19T16:29:49.155Z"
      },
      {
        "duration": 0,
        "start_time": "2022-09-19T16:29:49.156Z"
      },
      {
        "duration": 0,
        "start_time": "2022-09-19T16:29:49.157Z"
      },
      {
        "duration": 0,
        "start_time": "2022-09-19T16:29:49.158Z"
      },
      {
        "duration": 0,
        "start_time": "2022-09-19T16:29:49.159Z"
      },
      {
        "duration": 1,
        "start_time": "2022-09-19T16:29:49.159Z"
      },
      {
        "duration": 0,
        "start_time": "2022-09-19T16:29:49.160Z"
      },
      {
        "duration": 0,
        "start_time": "2022-09-19T16:29:49.161Z"
      },
      {
        "duration": 0,
        "start_time": "2022-09-19T16:29:49.162Z"
      },
      {
        "duration": 0,
        "start_time": "2022-09-19T16:29:49.163Z"
      },
      {
        "duration": 0,
        "start_time": "2022-09-19T16:29:49.164Z"
      },
      {
        "duration": 0,
        "start_time": "2022-09-19T16:29:49.165Z"
      },
      {
        "duration": 0,
        "start_time": "2022-09-19T16:29:49.166Z"
      },
      {
        "duration": 1048,
        "start_time": "2022-09-19T16:30:53.985Z"
      },
      {
        "duration": 3,
        "start_time": "2022-09-19T16:31:04.908Z"
      },
      {
        "duration": 1869,
        "start_time": "2022-09-19T16:31:05.732Z"
      },
      {
        "duration": 7,
        "start_time": "2022-09-19T16:31:09.127Z"
      },
      {
        "duration": 49,
        "start_time": "2022-09-19T16:31:10.995Z"
      },
      {
        "duration": 7,
        "start_time": "2022-09-19T16:31:14.340Z"
      },
      {
        "duration": 9,
        "start_time": "2022-09-19T16:31:16.569Z"
      },
      {
        "duration": 24,
        "start_time": "2022-09-19T16:31:18.822Z"
      },
      {
        "duration": 123,
        "start_time": "2022-09-19T16:31:22.036Z"
      },
      {
        "duration": 75,
        "start_time": "2022-09-19T16:31:25.231Z"
      },
      {
        "duration": 1470,
        "start_time": "2022-09-19T16:33:36.805Z"
      },
      {
        "duration": 417,
        "start_time": "2022-09-19T16:33:50.899Z"
      },
      {
        "duration": 2134,
        "start_time": "2022-09-19T16:33:51.318Z"
      },
      {
        "duration": 9,
        "start_time": "2022-09-19T16:33:53.454Z"
      },
      {
        "duration": 64,
        "start_time": "2022-09-19T16:33:53.464Z"
      },
      {
        "duration": 7,
        "start_time": "2022-09-19T16:33:53.530Z"
      },
      {
        "duration": 10,
        "start_time": "2022-09-19T16:33:53.538Z"
      },
      {
        "duration": 96,
        "start_time": "2022-09-19T16:33:53.550Z"
      },
      {
        "duration": 0,
        "start_time": "2022-09-19T16:33:53.649Z"
      },
      {
        "duration": 0,
        "start_time": "2022-09-19T16:33:53.650Z"
      },
      {
        "duration": 0,
        "start_time": "2022-09-19T16:33:53.651Z"
      },
      {
        "duration": 0,
        "start_time": "2022-09-19T16:33:53.652Z"
      },
      {
        "duration": 0,
        "start_time": "2022-09-19T16:33:53.653Z"
      },
      {
        "duration": 0,
        "start_time": "2022-09-19T16:33:53.654Z"
      },
      {
        "duration": 0,
        "start_time": "2022-09-19T16:33:53.655Z"
      },
      {
        "duration": 0,
        "start_time": "2022-09-19T16:33:53.655Z"
      },
      {
        "duration": 0,
        "start_time": "2022-09-19T16:33:53.656Z"
      },
      {
        "duration": 0,
        "start_time": "2022-09-19T16:33:53.657Z"
      },
      {
        "duration": 0,
        "start_time": "2022-09-19T16:33:53.658Z"
      },
      {
        "duration": 0,
        "start_time": "2022-09-19T16:33:53.658Z"
      },
      {
        "duration": 0,
        "start_time": "2022-09-19T16:33:53.660Z"
      },
      {
        "duration": 0,
        "start_time": "2022-09-19T16:33:53.661Z"
      },
      {
        "duration": 0,
        "start_time": "2022-09-19T16:33:53.662Z"
      },
      {
        "duration": 0,
        "start_time": "2022-09-19T16:33:53.663Z"
      },
      {
        "duration": 0,
        "start_time": "2022-09-19T16:33:53.664Z"
      },
      {
        "duration": 0,
        "start_time": "2022-09-19T16:33:53.665Z"
      },
      {
        "duration": 0,
        "start_time": "2022-09-19T16:33:53.666Z"
      },
      {
        "duration": 0,
        "start_time": "2022-09-19T16:33:53.666Z"
      },
      {
        "duration": 0,
        "start_time": "2022-09-19T16:33:53.668Z"
      },
      {
        "duration": 0,
        "start_time": "2022-09-19T16:33:53.668Z"
      },
      {
        "duration": 0,
        "start_time": "2022-09-19T16:33:53.669Z"
      },
      {
        "duration": 0,
        "start_time": "2022-09-19T16:33:53.671Z"
      },
      {
        "duration": 0,
        "start_time": "2022-09-19T16:33:53.671Z"
      },
      {
        "duration": 0,
        "start_time": "2022-09-19T16:33:53.709Z"
      },
      {
        "duration": 0,
        "start_time": "2022-09-19T16:33:53.710Z"
      },
      {
        "duration": 0,
        "start_time": "2022-09-19T16:33:53.711Z"
      },
      {
        "duration": 0,
        "start_time": "2022-09-19T16:33:53.712Z"
      },
      {
        "duration": 0,
        "start_time": "2022-09-19T16:33:53.713Z"
      },
      {
        "duration": 409,
        "start_time": "2022-09-19T16:34:29.709Z"
      },
      {
        "duration": 2205,
        "start_time": "2022-09-19T16:34:30.119Z"
      },
      {
        "duration": 8,
        "start_time": "2022-09-19T16:34:32.325Z"
      },
      {
        "duration": 62,
        "start_time": "2022-09-19T16:34:32.335Z"
      },
      {
        "duration": 12,
        "start_time": "2022-09-19T16:34:32.399Z"
      },
      {
        "duration": 8,
        "start_time": "2022-09-19T16:34:32.412Z"
      },
      {
        "duration": 92,
        "start_time": "2022-09-19T16:34:32.422Z"
      },
      {
        "duration": 0,
        "start_time": "2022-09-19T16:34:32.516Z"
      },
      {
        "duration": 0,
        "start_time": "2022-09-19T16:34:32.517Z"
      },
      {
        "duration": 0,
        "start_time": "2022-09-19T16:34:32.518Z"
      },
      {
        "duration": 0,
        "start_time": "2022-09-19T16:34:32.518Z"
      },
      {
        "duration": 0,
        "start_time": "2022-09-19T16:34:32.519Z"
      },
      {
        "duration": 0,
        "start_time": "2022-09-19T16:34:32.520Z"
      },
      {
        "duration": 0,
        "start_time": "2022-09-19T16:34:32.521Z"
      },
      {
        "duration": 0,
        "start_time": "2022-09-19T16:34:32.522Z"
      },
      {
        "duration": 0,
        "start_time": "2022-09-19T16:34:32.522Z"
      },
      {
        "duration": 0,
        "start_time": "2022-09-19T16:34:32.523Z"
      },
      {
        "duration": 0,
        "start_time": "2022-09-19T16:34:32.524Z"
      },
      {
        "duration": 0,
        "start_time": "2022-09-19T16:34:32.525Z"
      },
      {
        "duration": 0,
        "start_time": "2022-09-19T16:34:32.526Z"
      },
      {
        "duration": 0,
        "start_time": "2022-09-19T16:34:32.527Z"
      },
      {
        "duration": 0,
        "start_time": "2022-09-19T16:34:32.527Z"
      },
      {
        "duration": 0,
        "start_time": "2022-09-19T16:34:32.528Z"
      },
      {
        "duration": 0,
        "start_time": "2022-09-19T16:34:32.529Z"
      },
      {
        "duration": 0,
        "start_time": "2022-09-19T16:34:32.530Z"
      },
      {
        "duration": 0,
        "start_time": "2022-09-19T16:34:32.531Z"
      },
      {
        "duration": 0,
        "start_time": "2022-09-19T16:34:32.531Z"
      },
      {
        "duration": 0,
        "start_time": "2022-09-19T16:34:32.532Z"
      },
      {
        "duration": 0,
        "start_time": "2022-09-19T16:34:32.533Z"
      },
      {
        "duration": 0,
        "start_time": "2022-09-19T16:34:32.534Z"
      },
      {
        "duration": 0,
        "start_time": "2022-09-19T16:34:32.534Z"
      },
      {
        "duration": 0,
        "start_time": "2022-09-19T16:34:32.535Z"
      },
      {
        "duration": 0,
        "start_time": "2022-09-19T16:34:32.536Z"
      },
      {
        "duration": 0,
        "start_time": "2022-09-19T16:34:32.536Z"
      },
      {
        "duration": 0,
        "start_time": "2022-09-19T16:34:32.537Z"
      },
      {
        "duration": 0,
        "start_time": "2022-09-19T16:34:32.538Z"
      },
      {
        "duration": 0,
        "start_time": "2022-09-19T16:34:32.539Z"
      },
      {
        "duration": 25,
        "start_time": "2022-09-19T16:34:39.942Z"
      },
      {
        "duration": 74,
        "start_time": "2022-09-19T16:34:45.094Z"
      },
      {
        "duration": 59,
        "start_time": "2022-09-19T16:35:29.813Z"
      },
      {
        "duration": 359,
        "start_time": "2022-09-19T16:35:53.549Z"
      },
      {
        "duration": 2111,
        "start_time": "2022-09-19T16:35:53.909Z"
      },
      {
        "duration": 14,
        "start_time": "2022-09-19T16:35:56.022Z"
      },
      {
        "duration": 70,
        "start_time": "2022-09-19T16:35:56.039Z"
      },
      {
        "duration": 8,
        "start_time": "2022-09-19T16:35:56.111Z"
      },
      {
        "duration": 8,
        "start_time": "2022-09-19T16:35:56.120Z"
      },
      {
        "duration": 24,
        "start_time": "2022-09-19T16:35:56.130Z"
      },
      {
        "duration": 159,
        "start_time": "2022-09-19T16:35:56.156Z"
      },
      {
        "duration": 175,
        "start_time": "2022-09-19T16:35:56.317Z"
      },
      {
        "duration": 89,
        "start_time": "2022-09-19T16:35:56.495Z"
      },
      {
        "duration": 0,
        "start_time": "2022-09-19T16:35:56.586Z"
      },
      {
        "duration": 0,
        "start_time": "2022-09-19T16:35:56.587Z"
      },
      {
        "duration": 0,
        "start_time": "2022-09-19T16:35:56.588Z"
      },
      {
        "duration": 0,
        "start_time": "2022-09-19T16:35:56.589Z"
      },
      {
        "duration": 0,
        "start_time": "2022-09-19T16:35:56.590Z"
      },
      {
        "duration": 0,
        "start_time": "2022-09-19T16:35:56.591Z"
      },
      {
        "duration": 0,
        "start_time": "2022-09-19T16:35:56.592Z"
      },
      {
        "duration": 0,
        "start_time": "2022-09-19T16:35:56.609Z"
      },
      {
        "duration": 0,
        "start_time": "2022-09-19T16:35:56.610Z"
      },
      {
        "duration": 0,
        "start_time": "2022-09-19T16:35:56.611Z"
      },
      {
        "duration": 0,
        "start_time": "2022-09-19T16:35:56.612Z"
      },
      {
        "duration": 0,
        "start_time": "2022-09-19T16:35:56.612Z"
      },
      {
        "duration": 0,
        "start_time": "2022-09-19T16:35:56.613Z"
      },
      {
        "duration": 0,
        "start_time": "2022-09-19T16:35:56.613Z"
      },
      {
        "duration": 0,
        "start_time": "2022-09-19T16:35:56.614Z"
      },
      {
        "duration": 0,
        "start_time": "2022-09-19T16:35:56.615Z"
      },
      {
        "duration": 0,
        "start_time": "2022-09-19T16:35:56.616Z"
      },
      {
        "duration": 0,
        "start_time": "2022-09-19T16:35:56.616Z"
      },
      {
        "duration": 0,
        "start_time": "2022-09-19T16:35:56.617Z"
      },
      {
        "duration": 0,
        "start_time": "2022-09-19T16:35:56.617Z"
      },
      {
        "duration": 0,
        "start_time": "2022-09-19T16:35:56.618Z"
      },
      {
        "duration": 0,
        "start_time": "2022-09-19T16:35:56.619Z"
      },
      {
        "duration": 0,
        "start_time": "2022-09-19T16:35:56.619Z"
      },
      {
        "duration": 0,
        "start_time": "2022-09-19T16:35:56.620Z"
      },
      {
        "duration": 0,
        "start_time": "2022-09-19T16:35:56.621Z"
      },
      {
        "duration": 0,
        "start_time": "2022-09-19T16:35:56.622Z"
      },
      {
        "duration": 0,
        "start_time": "2022-09-19T16:35:56.623Z"
      },
      {
        "duration": 364,
        "start_time": "2022-09-19T16:36:18.349Z"
      },
      {
        "duration": 2013,
        "start_time": "2022-09-19T16:36:18.715Z"
      },
      {
        "duration": 8,
        "start_time": "2022-09-19T16:36:20.730Z"
      },
      {
        "duration": 65,
        "start_time": "2022-09-19T16:36:20.740Z"
      },
      {
        "duration": 7,
        "start_time": "2022-09-19T16:36:20.807Z"
      },
      {
        "duration": 9,
        "start_time": "2022-09-19T16:36:20.816Z"
      },
      {
        "duration": 26,
        "start_time": "2022-09-19T16:36:20.827Z"
      },
      {
        "duration": 144,
        "start_time": "2022-09-19T16:36:20.854Z"
      },
      {
        "duration": 96,
        "start_time": "2022-09-19T16:36:21.000Z"
      },
      {
        "duration": 77,
        "start_time": "2022-09-19T16:36:21.108Z"
      },
      {
        "duration": 0,
        "start_time": "2022-09-19T16:36:21.187Z"
      },
      {
        "duration": 0,
        "start_time": "2022-09-19T16:36:21.188Z"
      },
      {
        "duration": 0,
        "start_time": "2022-09-19T16:36:21.188Z"
      },
      {
        "duration": 0,
        "start_time": "2022-09-19T16:36:21.189Z"
      },
      {
        "duration": 0,
        "start_time": "2022-09-19T16:36:21.190Z"
      },
      {
        "duration": 0,
        "start_time": "2022-09-19T16:36:21.191Z"
      },
      {
        "duration": 0,
        "start_time": "2022-09-19T16:36:21.208Z"
      },
      {
        "duration": 0,
        "start_time": "2022-09-19T16:36:21.209Z"
      },
      {
        "duration": 0,
        "start_time": "2022-09-19T16:36:21.210Z"
      },
      {
        "duration": 0,
        "start_time": "2022-09-19T16:36:21.211Z"
      },
      {
        "duration": 0,
        "start_time": "2022-09-19T16:36:21.212Z"
      },
      {
        "duration": 0,
        "start_time": "2022-09-19T16:36:21.213Z"
      },
      {
        "duration": 0,
        "start_time": "2022-09-19T16:36:21.214Z"
      },
      {
        "duration": 0,
        "start_time": "2022-09-19T16:36:21.214Z"
      },
      {
        "duration": 0,
        "start_time": "2022-09-19T16:36:21.215Z"
      },
      {
        "duration": 0,
        "start_time": "2022-09-19T16:36:21.216Z"
      },
      {
        "duration": 0,
        "start_time": "2022-09-19T16:36:21.217Z"
      },
      {
        "duration": 0,
        "start_time": "2022-09-19T16:36:21.218Z"
      },
      {
        "duration": 0,
        "start_time": "2022-09-19T16:36:21.219Z"
      },
      {
        "duration": 0,
        "start_time": "2022-09-19T16:36:21.219Z"
      },
      {
        "duration": 0,
        "start_time": "2022-09-19T16:36:21.220Z"
      },
      {
        "duration": 0,
        "start_time": "2022-09-19T16:36:21.221Z"
      },
      {
        "duration": 0,
        "start_time": "2022-09-19T16:36:21.222Z"
      },
      {
        "duration": 0,
        "start_time": "2022-09-19T16:36:21.222Z"
      },
      {
        "duration": 0,
        "start_time": "2022-09-19T16:36:21.223Z"
      },
      {
        "duration": 0,
        "start_time": "2022-09-19T16:36:21.224Z"
      },
      {
        "duration": 0,
        "start_time": "2022-09-19T16:36:21.225Z"
      },
      {
        "duration": 13,
        "start_time": "2022-09-19T16:36:47.348Z"
      },
      {
        "duration": 6,
        "start_time": "2022-09-19T16:37:15.660Z"
      },
      {
        "duration": 6,
        "start_time": "2022-09-19T16:37:22.512Z"
      },
      {
        "duration": 7,
        "start_time": "2022-09-19T16:37:28.979Z"
      },
      {
        "duration": 6,
        "start_time": "2022-09-19T16:37:33.908Z"
      },
      {
        "duration": 407,
        "start_time": "2022-09-19T16:37:57.799Z"
      },
      {
        "duration": 2031,
        "start_time": "2022-09-19T16:37:58.209Z"
      },
      {
        "duration": 7,
        "start_time": "2022-09-19T16:38:00.242Z"
      },
      {
        "duration": 79,
        "start_time": "2022-09-19T16:38:00.251Z"
      },
      {
        "duration": 7,
        "start_time": "2022-09-19T16:38:00.331Z"
      },
      {
        "duration": 19,
        "start_time": "2022-09-19T16:38:00.339Z"
      },
      {
        "duration": 34,
        "start_time": "2022-09-19T16:38:00.360Z"
      },
      {
        "duration": 122,
        "start_time": "2022-09-19T16:38:00.396Z"
      },
      {
        "duration": 142,
        "start_time": "2022-09-19T16:38:00.520Z"
      },
      {
        "duration": 0,
        "start_time": "2022-09-19T16:38:00.664Z"
      },
      {
        "duration": 0,
        "start_time": "2022-09-19T16:38:00.665Z"
      },
      {
        "duration": 0,
        "start_time": "2022-09-19T16:38:00.666Z"
      },
      {
        "duration": 0,
        "start_time": "2022-09-19T16:38:00.667Z"
      },
      {
        "duration": 0,
        "start_time": "2022-09-19T16:38:00.668Z"
      },
      {
        "duration": 0,
        "start_time": "2022-09-19T16:38:00.669Z"
      },
      {
        "duration": 0,
        "start_time": "2022-09-19T16:38:00.670Z"
      },
      {
        "duration": 0,
        "start_time": "2022-09-19T16:38:00.671Z"
      },
      {
        "duration": 0,
        "start_time": "2022-09-19T16:38:00.672Z"
      },
      {
        "duration": 0,
        "start_time": "2022-09-19T16:38:00.673Z"
      },
      {
        "duration": 0,
        "start_time": "2022-09-19T16:38:00.674Z"
      },
      {
        "duration": 0,
        "start_time": "2022-09-19T16:38:00.675Z"
      },
      {
        "duration": 0,
        "start_time": "2022-09-19T16:38:00.676Z"
      },
      {
        "duration": 0,
        "start_time": "2022-09-19T16:38:00.677Z"
      },
      {
        "duration": 0,
        "start_time": "2022-09-19T16:38:00.678Z"
      },
      {
        "duration": 0,
        "start_time": "2022-09-19T16:38:00.679Z"
      },
      {
        "duration": 0,
        "start_time": "2022-09-19T16:38:00.679Z"
      },
      {
        "duration": 0,
        "start_time": "2022-09-19T16:38:00.710Z"
      },
      {
        "duration": 0,
        "start_time": "2022-09-19T16:38:00.710Z"
      },
      {
        "duration": 0,
        "start_time": "2022-09-19T16:38:00.711Z"
      },
      {
        "duration": 0,
        "start_time": "2022-09-19T16:38:00.712Z"
      },
      {
        "duration": 0,
        "start_time": "2022-09-19T16:38:00.713Z"
      },
      {
        "duration": 0,
        "start_time": "2022-09-19T16:38:00.714Z"
      },
      {
        "duration": 0,
        "start_time": "2022-09-19T16:38:00.715Z"
      },
      {
        "duration": 0,
        "start_time": "2022-09-19T16:38:00.716Z"
      },
      {
        "duration": 0,
        "start_time": "2022-09-19T16:38:00.717Z"
      },
      {
        "duration": 0,
        "start_time": "2022-09-19T16:38:00.717Z"
      },
      {
        "duration": 0,
        "start_time": "2022-09-19T16:38:00.718Z"
      },
      {
        "duration": 800,
        "start_time": "2022-09-19T16:38:42.059Z"
      },
      {
        "duration": 365,
        "start_time": "2022-09-19T16:38:48.437Z"
      },
      {
        "duration": 2072,
        "start_time": "2022-09-19T16:38:48.804Z"
      },
      {
        "duration": 8,
        "start_time": "2022-09-19T16:38:50.877Z"
      },
      {
        "duration": 73,
        "start_time": "2022-09-19T16:38:50.888Z"
      },
      {
        "duration": 7,
        "start_time": "2022-09-19T16:38:50.963Z"
      },
      {
        "duration": 14,
        "start_time": "2022-09-19T16:38:50.971Z"
      },
      {
        "duration": 35,
        "start_time": "2022-09-19T16:38:50.987Z"
      },
      {
        "duration": 132,
        "start_time": "2022-09-19T16:38:51.023Z"
      },
      {
        "duration": 154,
        "start_time": "2022-09-19T16:38:51.157Z"
      },
      {
        "duration": 0,
        "start_time": "2022-09-19T16:38:51.314Z"
      },
      {
        "duration": 0,
        "start_time": "2022-09-19T16:38:51.315Z"
      },
      {
        "duration": 0,
        "start_time": "2022-09-19T16:38:51.317Z"
      },
      {
        "duration": 0,
        "start_time": "2022-09-19T16:38:51.318Z"
      },
      {
        "duration": 0,
        "start_time": "2022-09-19T16:38:51.320Z"
      },
      {
        "duration": 0,
        "start_time": "2022-09-19T16:38:51.321Z"
      },
      {
        "duration": 0,
        "start_time": "2022-09-19T16:38:51.322Z"
      },
      {
        "duration": 0,
        "start_time": "2022-09-19T16:38:51.323Z"
      },
      {
        "duration": 0,
        "start_time": "2022-09-19T16:38:51.324Z"
      },
      {
        "duration": 0,
        "start_time": "2022-09-19T16:38:51.325Z"
      },
      {
        "duration": 0,
        "start_time": "2022-09-19T16:38:51.325Z"
      },
      {
        "duration": 0,
        "start_time": "2022-09-19T16:38:51.326Z"
      },
      {
        "duration": 0,
        "start_time": "2022-09-19T16:38:51.327Z"
      },
      {
        "duration": 0,
        "start_time": "2022-09-19T16:38:51.328Z"
      },
      {
        "duration": 0,
        "start_time": "2022-09-19T16:38:51.329Z"
      },
      {
        "duration": 0,
        "start_time": "2022-09-19T16:38:51.330Z"
      },
      {
        "duration": 0,
        "start_time": "2022-09-19T16:38:51.332Z"
      },
      {
        "duration": 0,
        "start_time": "2022-09-19T16:38:51.333Z"
      },
      {
        "duration": 0,
        "start_time": "2022-09-19T16:38:51.334Z"
      },
      {
        "duration": 0,
        "start_time": "2022-09-19T16:38:51.335Z"
      },
      {
        "duration": 0,
        "start_time": "2022-09-19T16:38:51.336Z"
      },
      {
        "duration": 0,
        "start_time": "2022-09-19T16:38:51.337Z"
      },
      {
        "duration": 0,
        "start_time": "2022-09-19T16:38:51.338Z"
      },
      {
        "duration": 0,
        "start_time": "2022-09-19T16:38:51.339Z"
      },
      {
        "duration": 0,
        "start_time": "2022-09-19T16:38:51.340Z"
      },
      {
        "duration": 0,
        "start_time": "2022-09-19T16:38:51.341Z"
      },
      {
        "duration": 0,
        "start_time": "2022-09-19T16:38:51.342Z"
      },
      {
        "duration": 0,
        "start_time": "2022-09-19T16:38:51.343Z"
      },
      {
        "duration": 22,
        "start_time": "2022-09-19T16:41:31.254Z"
      },
      {
        "duration": 21,
        "start_time": "2022-09-19T16:41:33.692Z"
      },
      {
        "duration": 20,
        "start_time": "2022-09-19T16:42:05.764Z"
      },
      {
        "duration": 1621,
        "start_time": "2022-09-19T16:42:33.651Z"
      },
      {
        "duration": 20,
        "start_time": "2022-09-19T16:42:37.856Z"
      },
      {
        "duration": 57,
        "start_time": "2022-09-19T16:42:49.761Z"
      },
      {
        "duration": 20,
        "start_time": "2022-09-19T16:43:07.166Z"
      },
      {
        "duration": 375,
        "start_time": "2022-09-19T16:43:33.770Z"
      },
      {
        "duration": 2165,
        "start_time": "2022-09-19T16:43:34.147Z"
      },
      {
        "duration": 7,
        "start_time": "2022-09-19T16:43:36.314Z"
      },
      {
        "duration": 61,
        "start_time": "2022-09-19T16:43:36.324Z"
      },
      {
        "duration": 24,
        "start_time": "2022-09-19T16:43:36.387Z"
      },
      {
        "duration": 8,
        "start_time": "2022-09-19T16:43:36.413Z"
      },
      {
        "duration": 27,
        "start_time": "2022-09-19T16:43:36.422Z"
      },
      {
        "duration": 158,
        "start_time": "2022-09-19T16:43:36.451Z"
      },
      {
        "duration": 151,
        "start_time": "2022-09-19T16:43:36.611Z"
      },
      {
        "duration": 0,
        "start_time": "2022-09-19T16:43:36.765Z"
      },
      {
        "duration": 0,
        "start_time": "2022-09-19T16:43:36.767Z"
      },
      {
        "duration": 0,
        "start_time": "2022-09-19T16:43:36.768Z"
      },
      {
        "duration": 0,
        "start_time": "2022-09-19T16:43:36.769Z"
      },
      {
        "duration": 0,
        "start_time": "2022-09-19T16:43:36.771Z"
      },
      {
        "duration": 0,
        "start_time": "2022-09-19T16:43:36.772Z"
      },
      {
        "duration": 1,
        "start_time": "2022-09-19T16:43:36.773Z"
      },
      {
        "duration": 0,
        "start_time": "2022-09-19T16:43:36.775Z"
      },
      {
        "duration": 0,
        "start_time": "2022-09-19T16:43:36.777Z"
      },
      {
        "duration": 0,
        "start_time": "2022-09-19T16:43:36.778Z"
      },
      {
        "duration": 0,
        "start_time": "2022-09-19T16:43:36.779Z"
      },
      {
        "duration": 0,
        "start_time": "2022-09-19T16:43:36.808Z"
      },
      {
        "duration": 0,
        "start_time": "2022-09-19T16:43:36.810Z"
      },
      {
        "duration": 0,
        "start_time": "2022-09-19T16:43:36.812Z"
      },
      {
        "duration": 0,
        "start_time": "2022-09-19T16:43:36.813Z"
      },
      {
        "duration": 0,
        "start_time": "2022-09-19T16:43:36.814Z"
      },
      {
        "duration": 0,
        "start_time": "2022-09-19T16:43:36.816Z"
      },
      {
        "duration": 0,
        "start_time": "2022-09-19T16:43:36.817Z"
      },
      {
        "duration": 0,
        "start_time": "2022-09-19T16:43:36.818Z"
      },
      {
        "duration": 0,
        "start_time": "2022-09-19T16:43:36.820Z"
      },
      {
        "duration": 0,
        "start_time": "2022-09-19T16:43:36.821Z"
      },
      {
        "duration": 0,
        "start_time": "2022-09-19T16:43:36.822Z"
      },
      {
        "duration": 0,
        "start_time": "2022-09-19T16:43:36.824Z"
      },
      {
        "duration": 0,
        "start_time": "2022-09-19T16:43:36.825Z"
      },
      {
        "duration": 0,
        "start_time": "2022-09-19T16:43:36.826Z"
      },
      {
        "duration": 0,
        "start_time": "2022-09-19T16:43:36.827Z"
      },
      {
        "duration": 0,
        "start_time": "2022-09-19T16:43:36.828Z"
      },
      {
        "duration": 0,
        "start_time": "2022-09-19T16:43:36.830Z"
      },
      {
        "duration": 3209,
        "start_time": "2022-09-19T16:45:12.750Z"
      },
      {
        "duration": 399,
        "start_time": "2022-09-19T16:46:15.191Z"
      },
      {
        "duration": 2073,
        "start_time": "2022-09-19T16:46:15.591Z"
      },
      {
        "duration": 8,
        "start_time": "2022-09-19T16:46:17.666Z"
      },
      {
        "duration": 62,
        "start_time": "2022-09-19T16:46:17.676Z"
      },
      {
        "duration": 7,
        "start_time": "2022-09-19T16:46:17.739Z"
      },
      {
        "duration": 8,
        "start_time": "2022-09-19T16:46:17.748Z"
      },
      {
        "duration": 52,
        "start_time": "2022-09-19T16:46:17.758Z"
      },
      {
        "duration": 138,
        "start_time": "2022-09-19T16:46:17.812Z"
      },
      {
        "duration": 93,
        "start_time": "2022-09-19T16:46:17.952Z"
      },
      {
        "duration": 0,
        "start_time": "2022-09-19T16:46:18.047Z"
      },
      {
        "duration": 0,
        "start_time": "2022-09-19T16:46:18.048Z"
      },
      {
        "duration": 0,
        "start_time": "2022-09-19T16:46:18.049Z"
      },
      {
        "duration": 0,
        "start_time": "2022-09-19T16:46:18.050Z"
      },
      {
        "duration": 0,
        "start_time": "2022-09-19T16:46:18.051Z"
      },
      {
        "duration": 0,
        "start_time": "2022-09-19T16:46:18.052Z"
      },
      {
        "duration": 0,
        "start_time": "2022-09-19T16:46:18.052Z"
      },
      {
        "duration": 0,
        "start_time": "2022-09-19T16:46:18.053Z"
      },
      {
        "duration": 0,
        "start_time": "2022-09-19T16:46:18.054Z"
      },
      {
        "duration": 0,
        "start_time": "2022-09-19T16:46:18.055Z"
      },
      {
        "duration": 0,
        "start_time": "2022-09-19T16:46:18.055Z"
      },
      {
        "duration": 0,
        "start_time": "2022-09-19T16:46:18.056Z"
      },
      {
        "duration": 0,
        "start_time": "2022-09-19T16:46:18.057Z"
      },
      {
        "duration": 0,
        "start_time": "2022-09-19T16:46:18.058Z"
      },
      {
        "duration": 0,
        "start_time": "2022-09-19T16:46:18.058Z"
      },
      {
        "duration": 0,
        "start_time": "2022-09-19T16:46:18.059Z"
      },
      {
        "duration": 0,
        "start_time": "2022-09-19T16:46:18.060Z"
      },
      {
        "duration": 0,
        "start_time": "2022-09-19T16:46:18.061Z"
      },
      {
        "duration": 0,
        "start_time": "2022-09-19T16:46:18.062Z"
      },
      {
        "duration": 0,
        "start_time": "2022-09-19T16:46:18.063Z"
      },
      {
        "duration": 0,
        "start_time": "2022-09-19T16:46:18.064Z"
      },
      {
        "duration": 0,
        "start_time": "2022-09-19T16:46:18.065Z"
      },
      {
        "duration": 0,
        "start_time": "2022-09-19T16:46:18.066Z"
      },
      {
        "duration": 0,
        "start_time": "2022-09-19T16:46:18.066Z"
      },
      {
        "duration": 0,
        "start_time": "2022-09-19T16:46:18.067Z"
      },
      {
        "duration": 0,
        "start_time": "2022-09-19T16:46:18.068Z"
      },
      {
        "duration": 0,
        "start_time": "2022-09-19T16:46:18.069Z"
      },
      {
        "duration": 0,
        "start_time": "2022-09-19T16:46:18.070Z"
      },
      {
        "duration": 166,
        "start_time": "2022-09-19T16:46:31.274Z"
      },
      {
        "duration": 404,
        "start_time": "2022-09-19T16:46:36.173Z"
      },
      {
        "duration": 2141,
        "start_time": "2022-09-19T16:46:36.579Z"
      },
      {
        "duration": 8,
        "start_time": "2022-09-19T16:46:38.724Z"
      },
      {
        "duration": 68,
        "start_time": "2022-09-19T16:46:38.733Z"
      },
      {
        "duration": 8,
        "start_time": "2022-09-19T16:46:38.802Z"
      },
      {
        "duration": 8,
        "start_time": "2022-09-19T16:46:38.812Z"
      },
      {
        "duration": 25,
        "start_time": "2022-09-19T16:46:38.821Z"
      },
      {
        "duration": 137,
        "start_time": "2022-09-19T16:46:38.848Z"
      },
      {
        "duration": 184,
        "start_time": "2022-09-19T16:46:38.987Z"
      },
      {
        "duration": 82,
        "start_time": "2022-09-19T16:46:39.172Z"
      },
      {
        "duration": 0,
        "start_time": "2022-09-19T16:46:39.257Z"
      },
      {
        "duration": 0,
        "start_time": "2022-09-19T16:46:39.258Z"
      },
      {
        "duration": 0,
        "start_time": "2022-09-19T16:46:39.259Z"
      },
      {
        "duration": 0,
        "start_time": "2022-09-19T16:46:39.260Z"
      },
      {
        "duration": 0,
        "start_time": "2022-09-19T16:46:39.261Z"
      },
      {
        "duration": 0,
        "start_time": "2022-09-19T16:46:39.263Z"
      },
      {
        "duration": 0,
        "start_time": "2022-09-19T16:46:39.264Z"
      },
      {
        "duration": 0,
        "start_time": "2022-09-19T16:46:39.265Z"
      },
      {
        "duration": 0,
        "start_time": "2022-09-19T16:46:39.267Z"
      },
      {
        "duration": 0,
        "start_time": "2022-09-19T16:46:39.268Z"
      },
      {
        "duration": 0,
        "start_time": "2022-09-19T16:46:39.269Z"
      },
      {
        "duration": 0,
        "start_time": "2022-09-19T16:46:39.270Z"
      },
      {
        "duration": 0,
        "start_time": "2022-09-19T16:46:39.271Z"
      },
      {
        "duration": 0,
        "start_time": "2022-09-19T16:46:39.272Z"
      },
      {
        "duration": 0,
        "start_time": "2022-09-19T16:46:39.273Z"
      },
      {
        "duration": 0,
        "start_time": "2022-09-19T16:46:39.274Z"
      },
      {
        "duration": 0,
        "start_time": "2022-09-19T16:46:39.275Z"
      },
      {
        "duration": 0,
        "start_time": "2022-09-19T16:46:39.309Z"
      },
      {
        "duration": 0,
        "start_time": "2022-09-19T16:46:39.310Z"
      },
      {
        "duration": 0,
        "start_time": "2022-09-19T16:46:39.311Z"
      },
      {
        "duration": 0,
        "start_time": "2022-09-19T16:46:39.312Z"
      },
      {
        "duration": 0,
        "start_time": "2022-09-19T16:46:39.313Z"
      },
      {
        "duration": 0,
        "start_time": "2022-09-19T16:46:39.314Z"
      },
      {
        "duration": 0,
        "start_time": "2022-09-19T16:46:39.315Z"
      },
      {
        "duration": 0,
        "start_time": "2022-09-19T16:46:39.315Z"
      },
      {
        "duration": 0,
        "start_time": "2022-09-19T16:46:39.316Z"
      },
      {
        "duration": 0,
        "start_time": "2022-09-19T16:46:39.317Z"
      },
      {
        "duration": 12,
        "start_time": "2022-09-19T16:46:57.894Z"
      },
      {
        "duration": 115,
        "start_time": "2022-09-19T16:47:08.290Z"
      },
      {
        "duration": 5,
        "start_time": "2022-09-19T16:47:13.169Z"
      },
      {
        "duration": 8,
        "start_time": "2022-09-19T16:47:23.180Z"
      },
      {
        "duration": 381,
        "start_time": "2022-09-19T16:47:30.632Z"
      },
      {
        "duration": 2125,
        "start_time": "2022-09-19T16:47:31.015Z"
      },
      {
        "duration": 8,
        "start_time": "2022-09-19T16:47:33.142Z"
      },
      {
        "duration": 82,
        "start_time": "2022-09-19T16:47:33.151Z"
      },
      {
        "duration": 7,
        "start_time": "2022-09-19T16:47:33.235Z"
      },
      {
        "duration": 15,
        "start_time": "2022-09-19T16:47:33.243Z"
      },
      {
        "duration": 39,
        "start_time": "2022-09-19T16:47:33.259Z"
      },
      {
        "duration": 125,
        "start_time": "2022-09-19T16:47:33.299Z"
      },
      {
        "duration": 168,
        "start_time": "2022-09-19T16:47:33.426Z"
      },
      {
        "duration": 83,
        "start_time": "2022-09-19T16:47:33.597Z"
      },
      {
        "duration": 0,
        "start_time": "2022-09-19T16:47:33.682Z"
      },
      {
        "duration": 0,
        "start_time": "2022-09-19T16:47:33.683Z"
      },
      {
        "duration": 0,
        "start_time": "2022-09-19T16:47:33.684Z"
      },
      {
        "duration": 0,
        "start_time": "2022-09-19T16:47:33.686Z"
      },
      {
        "duration": 0,
        "start_time": "2022-09-19T16:47:33.687Z"
      },
      {
        "duration": 0,
        "start_time": "2022-09-19T16:47:33.688Z"
      },
      {
        "duration": 0,
        "start_time": "2022-09-19T16:47:33.689Z"
      },
      {
        "duration": 0,
        "start_time": "2022-09-19T16:47:33.690Z"
      },
      {
        "duration": 0,
        "start_time": "2022-09-19T16:47:33.709Z"
      },
      {
        "duration": 0,
        "start_time": "2022-09-19T16:47:33.710Z"
      },
      {
        "duration": 0,
        "start_time": "2022-09-19T16:47:33.711Z"
      },
      {
        "duration": 0,
        "start_time": "2022-09-19T16:47:33.713Z"
      },
      {
        "duration": 0,
        "start_time": "2022-09-19T16:47:33.714Z"
      },
      {
        "duration": 0,
        "start_time": "2022-09-19T16:47:33.715Z"
      },
      {
        "duration": 0,
        "start_time": "2022-09-19T16:47:33.716Z"
      },
      {
        "duration": 0,
        "start_time": "2022-09-19T16:47:33.717Z"
      },
      {
        "duration": 0,
        "start_time": "2022-09-19T16:47:33.719Z"
      },
      {
        "duration": 0,
        "start_time": "2022-09-19T16:47:33.720Z"
      },
      {
        "duration": 0,
        "start_time": "2022-09-19T16:47:33.721Z"
      },
      {
        "duration": 0,
        "start_time": "2022-09-19T16:47:33.723Z"
      },
      {
        "duration": 0,
        "start_time": "2022-09-19T16:47:33.724Z"
      },
      {
        "duration": 0,
        "start_time": "2022-09-19T16:47:33.725Z"
      },
      {
        "duration": 0,
        "start_time": "2022-09-19T16:47:33.726Z"
      },
      {
        "duration": 0,
        "start_time": "2022-09-19T16:47:33.726Z"
      },
      {
        "duration": 0,
        "start_time": "2022-09-19T16:47:33.730Z"
      },
      {
        "duration": 0,
        "start_time": "2022-09-19T16:47:33.731Z"
      },
      {
        "duration": 0,
        "start_time": "2022-09-19T16:47:33.733Z"
      },
      {
        "duration": 123,
        "start_time": "2022-09-19T16:48:24.197Z"
      },
      {
        "duration": 16,
        "start_time": "2022-09-19T16:48:34.918Z"
      },
      {
        "duration": 363,
        "start_time": "2022-09-19T16:48:48.550Z"
      },
      {
        "duration": 2153,
        "start_time": "2022-09-19T16:48:48.915Z"
      },
      {
        "duration": 8,
        "start_time": "2022-09-19T16:48:51.070Z"
      },
      {
        "duration": 62,
        "start_time": "2022-09-19T16:48:51.080Z"
      },
      {
        "duration": 7,
        "start_time": "2022-09-19T16:48:51.144Z"
      },
      {
        "duration": 8,
        "start_time": "2022-09-19T16:48:51.152Z"
      },
      {
        "duration": 30,
        "start_time": "2022-09-19T16:48:51.161Z"
      },
      {
        "duration": 144,
        "start_time": "2022-09-19T16:48:51.192Z"
      },
      {
        "duration": 174,
        "start_time": "2022-09-19T16:48:51.337Z"
      },
      {
        "duration": 80,
        "start_time": "2022-09-19T16:48:51.514Z"
      },
      {
        "duration": 0,
        "start_time": "2022-09-19T16:48:51.596Z"
      },
      {
        "duration": 0,
        "start_time": "2022-09-19T16:48:51.598Z"
      },
      {
        "duration": 0,
        "start_time": "2022-09-19T16:48:51.608Z"
      },
      {
        "duration": 0,
        "start_time": "2022-09-19T16:48:51.609Z"
      },
      {
        "duration": 0,
        "start_time": "2022-09-19T16:48:51.610Z"
      },
      {
        "duration": 0,
        "start_time": "2022-09-19T16:48:51.611Z"
      },
      {
        "duration": 0,
        "start_time": "2022-09-19T16:48:51.613Z"
      },
      {
        "duration": 0,
        "start_time": "2022-09-19T16:48:51.614Z"
      },
      {
        "duration": 0,
        "start_time": "2022-09-19T16:48:51.614Z"
      },
      {
        "duration": 0,
        "start_time": "2022-09-19T16:48:51.615Z"
      },
      {
        "duration": 0,
        "start_time": "2022-09-19T16:48:51.616Z"
      },
      {
        "duration": 0,
        "start_time": "2022-09-19T16:48:51.617Z"
      },
      {
        "duration": 0,
        "start_time": "2022-09-19T16:48:51.618Z"
      },
      {
        "duration": 0,
        "start_time": "2022-09-19T16:48:51.619Z"
      },
      {
        "duration": 0,
        "start_time": "2022-09-19T16:48:51.620Z"
      },
      {
        "duration": 0,
        "start_time": "2022-09-19T16:48:51.620Z"
      },
      {
        "duration": 0,
        "start_time": "2022-09-19T16:48:51.621Z"
      },
      {
        "duration": 0,
        "start_time": "2022-09-19T16:48:51.622Z"
      },
      {
        "duration": 0,
        "start_time": "2022-09-19T16:48:51.623Z"
      },
      {
        "duration": 0,
        "start_time": "2022-09-19T16:48:51.624Z"
      },
      {
        "duration": 0,
        "start_time": "2022-09-19T16:48:51.625Z"
      },
      {
        "duration": 0,
        "start_time": "2022-09-19T16:48:51.625Z"
      },
      {
        "duration": 0,
        "start_time": "2022-09-19T16:48:51.626Z"
      },
      {
        "duration": 0,
        "start_time": "2022-09-19T16:48:51.627Z"
      },
      {
        "duration": 0,
        "start_time": "2022-09-19T16:48:51.628Z"
      },
      {
        "duration": 0,
        "start_time": "2022-09-19T16:48:51.629Z"
      },
      {
        "duration": 0,
        "start_time": "2022-09-19T16:48:51.630Z"
      },
      {
        "duration": 137,
        "start_time": "2022-09-19T17:36:24.516Z"
      },
      {
        "duration": 348,
        "start_time": "2022-09-19T17:36:29.554Z"
      },
      {
        "duration": 2080,
        "start_time": "2022-09-19T17:36:29.904Z"
      },
      {
        "duration": 7,
        "start_time": "2022-09-19T17:36:31.988Z"
      },
      {
        "duration": 72,
        "start_time": "2022-09-19T17:36:31.996Z"
      },
      {
        "duration": 45,
        "start_time": "2022-09-19T17:36:32.070Z"
      },
      {
        "duration": 11,
        "start_time": "2022-09-19T17:36:32.116Z"
      },
      {
        "duration": 23,
        "start_time": "2022-09-19T17:36:32.128Z"
      },
      {
        "duration": 173,
        "start_time": "2022-09-19T17:36:32.153Z"
      },
      {
        "duration": 172,
        "start_time": "2022-09-19T17:36:32.328Z"
      },
      {
        "duration": 82,
        "start_time": "2022-09-19T17:36:32.501Z"
      },
      {
        "duration": 0,
        "start_time": "2022-09-19T17:36:32.585Z"
      },
      {
        "duration": 0,
        "start_time": "2022-09-19T17:36:32.586Z"
      },
      {
        "duration": 0,
        "start_time": "2022-09-19T17:36:32.587Z"
      },
      {
        "duration": 0,
        "start_time": "2022-09-19T17:36:32.588Z"
      },
      {
        "duration": 0,
        "start_time": "2022-09-19T17:36:32.588Z"
      },
      {
        "duration": 0,
        "start_time": "2022-09-19T17:36:32.589Z"
      },
      {
        "duration": 0,
        "start_time": "2022-09-19T17:36:32.590Z"
      },
      {
        "duration": 0,
        "start_time": "2022-09-19T17:36:32.591Z"
      },
      {
        "duration": 0,
        "start_time": "2022-09-19T17:36:32.609Z"
      },
      {
        "duration": 0,
        "start_time": "2022-09-19T17:36:32.610Z"
      },
      {
        "duration": 0,
        "start_time": "2022-09-19T17:36:32.611Z"
      },
      {
        "duration": 0,
        "start_time": "2022-09-19T17:36:32.611Z"
      },
      {
        "duration": 0,
        "start_time": "2022-09-19T17:36:32.612Z"
      },
      {
        "duration": 0,
        "start_time": "2022-09-19T17:36:32.613Z"
      },
      {
        "duration": 0,
        "start_time": "2022-09-19T17:36:32.614Z"
      },
      {
        "duration": 0,
        "start_time": "2022-09-19T17:36:32.615Z"
      },
      {
        "duration": 0,
        "start_time": "2022-09-19T17:36:32.616Z"
      },
      {
        "duration": 0,
        "start_time": "2022-09-19T17:36:32.617Z"
      },
      {
        "duration": 0,
        "start_time": "2022-09-19T17:36:32.618Z"
      },
      {
        "duration": 0,
        "start_time": "2022-09-19T17:36:32.619Z"
      },
      {
        "duration": 0,
        "start_time": "2022-09-19T17:36:32.620Z"
      },
      {
        "duration": 0,
        "start_time": "2022-09-19T17:36:32.621Z"
      },
      {
        "duration": 0,
        "start_time": "2022-09-19T17:36:32.622Z"
      },
      {
        "duration": 0,
        "start_time": "2022-09-19T17:36:32.623Z"
      },
      {
        "duration": 0,
        "start_time": "2022-09-19T17:36:32.624Z"
      },
      {
        "duration": 0,
        "start_time": "2022-09-19T17:36:32.625Z"
      },
      {
        "duration": 0,
        "start_time": "2022-09-19T17:36:32.625Z"
      },
      {
        "duration": 101,
        "start_time": "2022-09-19T17:36:56.102Z"
      },
      {
        "duration": 58,
        "start_time": "2022-09-19T17:37:07.148Z"
      },
      {
        "duration": 115,
        "start_time": "2022-09-19T17:37:26.358Z"
      },
      {
        "duration": 359,
        "start_time": "2022-09-19T17:37:32.358Z"
      },
      {
        "duration": 2061,
        "start_time": "2022-09-19T17:37:32.719Z"
      },
      {
        "duration": 8,
        "start_time": "2022-09-19T17:37:34.782Z"
      },
      {
        "duration": 62,
        "start_time": "2022-09-19T17:37:34.792Z"
      },
      {
        "duration": 7,
        "start_time": "2022-09-19T17:37:34.856Z"
      },
      {
        "duration": 8,
        "start_time": "2022-09-19T17:37:34.864Z"
      },
      {
        "duration": 37,
        "start_time": "2022-09-19T17:37:34.873Z"
      },
      {
        "duration": 125,
        "start_time": "2022-09-19T17:37:34.912Z"
      },
      {
        "duration": 176,
        "start_time": "2022-09-19T17:37:35.039Z"
      },
      {
        "duration": 90,
        "start_time": "2022-09-19T17:37:35.219Z"
      },
      {
        "duration": 0,
        "start_time": "2022-09-19T17:37:35.311Z"
      },
      {
        "duration": 0,
        "start_time": "2022-09-19T17:37:35.312Z"
      },
      {
        "duration": 0,
        "start_time": "2022-09-19T17:37:35.313Z"
      },
      {
        "duration": 0,
        "start_time": "2022-09-19T17:37:35.315Z"
      },
      {
        "duration": 0,
        "start_time": "2022-09-19T17:37:35.316Z"
      },
      {
        "duration": 0,
        "start_time": "2022-09-19T17:37:35.317Z"
      },
      {
        "duration": 0,
        "start_time": "2022-09-19T17:37:35.318Z"
      },
      {
        "duration": 0,
        "start_time": "2022-09-19T17:37:35.320Z"
      },
      {
        "duration": 0,
        "start_time": "2022-09-19T17:37:35.321Z"
      },
      {
        "duration": 0,
        "start_time": "2022-09-19T17:37:35.322Z"
      },
      {
        "duration": 0,
        "start_time": "2022-09-19T17:37:35.323Z"
      },
      {
        "duration": 1,
        "start_time": "2022-09-19T17:37:35.324Z"
      },
      {
        "duration": 0,
        "start_time": "2022-09-19T17:37:35.326Z"
      },
      {
        "duration": 0,
        "start_time": "2022-09-19T17:37:35.327Z"
      },
      {
        "duration": 0,
        "start_time": "2022-09-19T17:37:35.328Z"
      },
      {
        "duration": 0,
        "start_time": "2022-09-19T17:37:35.329Z"
      },
      {
        "duration": 0,
        "start_time": "2022-09-19T17:37:35.331Z"
      },
      {
        "duration": 0,
        "start_time": "2022-09-19T17:37:35.332Z"
      },
      {
        "duration": 0,
        "start_time": "2022-09-19T17:37:35.333Z"
      },
      {
        "duration": 0,
        "start_time": "2022-09-19T17:37:35.335Z"
      },
      {
        "duration": 0,
        "start_time": "2022-09-19T17:37:35.336Z"
      },
      {
        "duration": 0,
        "start_time": "2022-09-19T17:37:35.336Z"
      },
      {
        "duration": 0,
        "start_time": "2022-09-19T17:37:35.337Z"
      },
      {
        "duration": 0,
        "start_time": "2022-09-19T17:37:35.338Z"
      },
      {
        "duration": 0,
        "start_time": "2022-09-19T17:37:35.339Z"
      },
      {
        "duration": 0,
        "start_time": "2022-09-19T17:37:35.340Z"
      },
      {
        "duration": 0,
        "start_time": "2022-09-19T17:37:35.340Z"
      },
      {
        "duration": 124,
        "start_time": "2022-09-19T17:37:51.935Z"
      },
      {
        "duration": 372,
        "start_time": "2022-09-19T17:37:59.232Z"
      },
      {
        "duration": 2118,
        "start_time": "2022-09-19T17:37:59.606Z"
      },
      {
        "duration": 8,
        "start_time": "2022-09-19T17:38:01.726Z"
      },
      {
        "duration": 135,
        "start_time": "2022-09-19T17:38:01.736Z"
      },
      {
        "duration": 6,
        "start_time": "2022-09-19T17:38:01.873Z"
      },
      {
        "duration": 10,
        "start_time": "2022-09-19T17:38:01.880Z"
      },
      {
        "duration": 31,
        "start_time": "2022-09-19T17:38:01.891Z"
      },
      {
        "duration": 141,
        "start_time": "2022-09-19T17:38:01.924Z"
      },
      {
        "duration": 184,
        "start_time": "2022-09-19T17:38:02.066Z"
      },
      {
        "duration": 82,
        "start_time": "2022-09-19T17:38:02.252Z"
      },
      {
        "duration": 0,
        "start_time": "2022-09-19T17:38:02.336Z"
      },
      {
        "duration": 0,
        "start_time": "2022-09-19T17:38:02.337Z"
      },
      {
        "duration": 0,
        "start_time": "2022-09-19T17:38:02.338Z"
      },
      {
        "duration": 0,
        "start_time": "2022-09-19T17:38:02.339Z"
      },
      {
        "duration": 0,
        "start_time": "2022-09-19T17:38:02.340Z"
      },
      {
        "duration": 0,
        "start_time": "2022-09-19T17:38:02.341Z"
      },
      {
        "duration": 0,
        "start_time": "2022-09-19T17:38:02.342Z"
      },
      {
        "duration": 0,
        "start_time": "2022-09-19T17:38:02.343Z"
      },
      {
        "duration": 0,
        "start_time": "2022-09-19T17:38:02.343Z"
      },
      {
        "duration": 0,
        "start_time": "2022-09-19T17:38:02.344Z"
      },
      {
        "duration": 0,
        "start_time": "2022-09-19T17:38:02.345Z"
      },
      {
        "duration": 0,
        "start_time": "2022-09-19T17:38:02.346Z"
      },
      {
        "duration": 0,
        "start_time": "2022-09-19T17:38:02.347Z"
      },
      {
        "duration": 0,
        "start_time": "2022-09-19T17:38:02.348Z"
      },
      {
        "duration": 0,
        "start_time": "2022-09-19T17:38:02.349Z"
      },
      {
        "duration": 0,
        "start_time": "2022-09-19T17:38:02.349Z"
      },
      {
        "duration": 0,
        "start_time": "2022-09-19T17:38:02.350Z"
      },
      {
        "duration": 0,
        "start_time": "2022-09-19T17:38:02.351Z"
      },
      {
        "duration": 0,
        "start_time": "2022-09-19T17:38:02.353Z"
      },
      {
        "duration": 0,
        "start_time": "2022-09-19T17:38:02.354Z"
      },
      {
        "duration": 0,
        "start_time": "2022-09-19T17:38:02.355Z"
      },
      {
        "duration": 0,
        "start_time": "2022-09-19T17:38:02.356Z"
      },
      {
        "duration": 0,
        "start_time": "2022-09-19T17:38:02.357Z"
      },
      {
        "duration": 0,
        "start_time": "2022-09-19T17:38:02.359Z"
      },
      {
        "duration": 0,
        "start_time": "2022-09-19T17:38:02.360Z"
      },
      {
        "duration": 0,
        "start_time": "2022-09-19T17:38:02.362Z"
      },
      {
        "duration": 0,
        "start_time": "2022-09-19T17:38:02.363Z"
      },
      {
        "duration": 167,
        "start_time": "2022-09-19T17:39:51.870Z"
      },
      {
        "duration": 386,
        "start_time": "2022-09-19T17:39:56.331Z"
      },
      {
        "duration": 2165,
        "start_time": "2022-09-19T17:39:56.719Z"
      },
      {
        "duration": 7,
        "start_time": "2022-09-19T17:39:58.886Z"
      },
      {
        "duration": 102,
        "start_time": "2022-09-19T17:39:58.895Z"
      },
      {
        "duration": 7,
        "start_time": "2022-09-19T17:39:58.998Z"
      },
      {
        "duration": 9,
        "start_time": "2022-09-19T17:39:59.008Z"
      },
      {
        "duration": 28,
        "start_time": "2022-09-19T17:39:59.018Z"
      },
      {
        "duration": 128,
        "start_time": "2022-09-19T17:39:59.048Z"
      },
      {
        "duration": 185,
        "start_time": "2022-09-19T17:39:59.178Z"
      },
      {
        "duration": 5,
        "start_time": "2022-09-19T17:39:59.366Z"
      },
      {
        "duration": 138,
        "start_time": "2022-09-19T17:39:59.373Z"
      },
      {
        "duration": 8,
        "start_time": "2022-09-19T17:39:59.513Z"
      },
      {
        "duration": 7,
        "start_time": "2022-09-19T17:39:59.523Z"
      },
      {
        "duration": 486,
        "start_time": "2022-09-19T17:39:59.532Z"
      },
      {
        "duration": 4,
        "start_time": "2022-09-19T17:40:00.019Z"
      },
      {
        "duration": 148,
        "start_time": "2022-09-19T17:40:00.024Z"
      },
      {
        "duration": 138,
        "start_time": "2022-09-19T17:40:00.173Z"
      },
      {
        "duration": 120,
        "start_time": "2022-09-19T17:40:00.313Z"
      },
      {
        "duration": 132,
        "start_time": "2022-09-19T17:40:00.435Z"
      },
      {
        "duration": 126,
        "start_time": "2022-09-19T17:40:00.569Z"
      },
      {
        "duration": 141,
        "start_time": "2022-09-19T17:40:00.697Z"
      },
      {
        "duration": 176,
        "start_time": "2022-09-19T17:40:00.840Z"
      },
      {
        "duration": 8,
        "start_time": "2022-09-19T17:40:01.018Z"
      },
      {
        "duration": 150,
        "start_time": "2022-09-19T17:40:01.028Z"
      },
      {
        "duration": 137,
        "start_time": "2022-09-19T17:40:01.180Z"
      },
      {
        "duration": 123,
        "start_time": "2022-09-19T17:40:01.319Z"
      },
      {
        "duration": 142,
        "start_time": "2022-09-19T17:40:01.444Z"
      },
      {
        "duration": 20,
        "start_time": "2022-09-19T17:40:01.589Z"
      },
      {
        "duration": 794,
        "start_time": "2022-09-19T17:40:01.610Z"
      },
      {
        "duration": 0,
        "start_time": "2022-09-19T17:40:02.405Z"
      },
      {
        "duration": 0,
        "start_time": "2022-09-19T17:40:02.406Z"
      },
      {
        "duration": 0,
        "start_time": "2022-09-19T17:40:02.408Z"
      },
      {
        "duration": 0,
        "start_time": "2022-09-19T17:40:02.409Z"
      },
      {
        "duration": 0,
        "start_time": "2022-09-19T17:40:02.410Z"
      },
      {
        "duration": 0,
        "start_time": "2022-09-19T17:40:02.411Z"
      },
      {
        "duration": 0,
        "start_time": "2022-09-19T17:40:02.412Z"
      },
      {
        "duration": 0,
        "start_time": "2022-09-19T17:40:02.413Z"
      },
      {
        "duration": 194,
        "start_time": "2022-09-19T17:40:14.851Z"
      },
      {
        "duration": 203,
        "start_time": "2022-09-19T17:40:26.431Z"
      },
      {
        "duration": 209,
        "start_time": "2022-09-19T17:40:42.062Z"
      },
      {
        "duration": 196,
        "start_time": "2022-09-19T17:40:45.606Z"
      },
      {
        "duration": 5,
        "start_time": "2022-09-19T17:40:59.100Z"
      },
      {
        "duration": 381,
        "start_time": "2022-09-19T17:41:03.623Z"
      },
      {
        "duration": 2162,
        "start_time": "2022-09-19T17:41:04.006Z"
      },
      {
        "duration": 10,
        "start_time": "2022-09-19T17:41:06.170Z"
      },
      {
        "duration": 118,
        "start_time": "2022-09-19T17:41:06.182Z"
      },
      {
        "duration": 12,
        "start_time": "2022-09-19T17:41:06.301Z"
      },
      {
        "duration": 13,
        "start_time": "2022-09-19T17:41:06.315Z"
      },
      {
        "duration": 27,
        "start_time": "2022-09-19T17:41:06.330Z"
      },
      {
        "duration": 143,
        "start_time": "2022-09-19T17:41:06.359Z"
      },
      {
        "duration": 203,
        "start_time": "2022-09-19T17:41:06.509Z"
      },
      {
        "duration": 5,
        "start_time": "2022-09-19T17:41:06.714Z"
      },
      {
        "duration": 142,
        "start_time": "2022-09-19T17:41:06.721Z"
      },
      {
        "duration": 9,
        "start_time": "2022-09-19T17:41:06.865Z"
      },
      {
        "duration": 11,
        "start_time": "2022-09-19T17:41:06.875Z"
      },
      {
        "duration": 606,
        "start_time": "2022-09-19T17:41:06.887Z"
      },
      {
        "duration": 3,
        "start_time": "2022-09-19T17:41:07.495Z"
      },
      {
        "duration": 158,
        "start_time": "2022-09-19T17:41:07.500Z"
      },
      {
        "duration": 123,
        "start_time": "2022-09-19T17:41:07.660Z"
      },
      {
        "duration": 125,
        "start_time": "2022-09-19T17:41:07.785Z"
      },
      {
        "duration": 136,
        "start_time": "2022-09-19T17:41:07.912Z"
      },
      {
        "duration": 131,
        "start_time": "2022-09-19T17:41:08.049Z"
      },
      {
        "duration": 149,
        "start_time": "2022-09-19T17:41:08.181Z"
      },
      {
        "duration": 184,
        "start_time": "2022-09-19T17:41:08.331Z"
      },
      {
        "duration": 7,
        "start_time": "2022-09-19T17:41:08.517Z"
      },
      {
        "duration": 156,
        "start_time": "2022-09-19T17:41:08.526Z"
      },
      {
        "duration": 128,
        "start_time": "2022-09-19T17:41:08.683Z"
      },
      {
        "duration": 120,
        "start_time": "2022-09-19T17:41:08.812Z"
      },
      {
        "duration": 145,
        "start_time": "2022-09-19T17:41:08.934Z"
      },
      {
        "duration": 11,
        "start_time": "2022-09-19T17:41:09.082Z"
      },
      {
        "duration": 408,
        "start_time": "2022-09-19T17:41:09.094Z"
      },
      {
        "duration": 0,
        "start_time": "2022-09-19T17:41:09.503Z"
      },
      {
        "duration": 0,
        "start_time": "2022-09-19T17:41:09.504Z"
      },
      {
        "duration": 0,
        "start_time": "2022-09-19T17:41:09.505Z"
      },
      {
        "duration": 0,
        "start_time": "2022-09-19T17:41:09.506Z"
      },
      {
        "duration": 0,
        "start_time": "2022-09-19T17:41:09.507Z"
      },
      {
        "duration": 0,
        "start_time": "2022-09-19T17:41:09.509Z"
      },
      {
        "duration": 0,
        "start_time": "2022-09-19T17:41:09.509Z"
      },
      {
        "duration": 0,
        "start_time": "2022-09-19T17:41:09.510Z"
      },
      {
        "duration": 126,
        "start_time": "2022-09-19T17:42:11.336Z"
      },
      {
        "duration": 117,
        "start_time": "2022-09-19T17:42:22.423Z"
      },
      {
        "duration": 354,
        "start_time": "2022-09-19T17:42:27.547Z"
      },
      {
        "duration": 2118,
        "start_time": "2022-09-19T17:42:27.902Z"
      },
      {
        "duration": 9,
        "start_time": "2022-09-19T17:42:30.022Z"
      },
      {
        "duration": 119,
        "start_time": "2022-09-19T17:42:30.033Z"
      },
      {
        "duration": 6,
        "start_time": "2022-09-19T17:42:30.154Z"
      },
      {
        "duration": 33,
        "start_time": "2022-09-19T17:42:30.162Z"
      },
      {
        "duration": 32,
        "start_time": "2022-09-19T17:42:30.197Z"
      },
      {
        "duration": 126,
        "start_time": "2022-09-19T17:42:30.231Z"
      },
      {
        "duration": 190,
        "start_time": "2022-09-19T17:42:30.358Z"
      },
      {
        "duration": 5,
        "start_time": "2022-09-19T17:42:30.551Z"
      },
      {
        "duration": 181,
        "start_time": "2022-09-19T17:42:30.557Z"
      },
      {
        "duration": 9,
        "start_time": "2022-09-19T17:42:30.740Z"
      },
      {
        "duration": 19,
        "start_time": "2022-09-19T17:42:30.750Z"
      },
      {
        "duration": 527,
        "start_time": "2022-09-19T17:42:30.771Z"
      },
      {
        "duration": 10,
        "start_time": "2022-09-19T17:42:31.299Z"
      },
      {
        "duration": 154,
        "start_time": "2022-09-19T17:42:31.311Z"
      },
      {
        "duration": 151,
        "start_time": "2022-09-19T17:42:31.467Z"
      },
      {
        "duration": 121,
        "start_time": "2022-09-19T17:42:31.619Z"
      },
      {
        "duration": 185,
        "start_time": "2022-09-19T17:42:31.742Z"
      },
      {
        "duration": 183,
        "start_time": "2022-09-19T17:42:31.929Z"
      },
      {
        "duration": 143,
        "start_time": "2022-09-19T17:42:32.114Z"
      },
      {
        "duration": 186,
        "start_time": "2022-09-19T17:42:32.259Z"
      },
      {
        "duration": 6,
        "start_time": "2022-09-19T17:42:32.446Z"
      },
      {
        "duration": 158,
        "start_time": "2022-09-19T17:42:32.454Z"
      },
      {
        "duration": 135,
        "start_time": "2022-09-19T17:42:32.613Z"
      },
      {
        "duration": 120,
        "start_time": "2022-09-19T17:42:32.749Z"
      },
      {
        "duration": 149,
        "start_time": "2022-09-19T17:42:32.870Z"
      },
      {
        "duration": 11,
        "start_time": "2022-09-19T17:42:33.022Z"
      },
      {
        "duration": 550,
        "start_time": "2022-09-19T17:42:33.035Z"
      },
      {
        "duration": 0,
        "start_time": "2022-09-19T17:42:33.586Z"
      },
      {
        "duration": 0,
        "start_time": "2022-09-19T17:42:33.587Z"
      },
      {
        "duration": 0,
        "start_time": "2022-09-19T17:42:33.588Z"
      },
      {
        "duration": 0,
        "start_time": "2022-09-19T17:42:33.589Z"
      },
      {
        "duration": 0,
        "start_time": "2022-09-19T17:42:33.590Z"
      },
      {
        "duration": 0,
        "start_time": "2022-09-19T17:42:33.591Z"
      },
      {
        "duration": 0,
        "start_time": "2022-09-19T17:42:33.593Z"
      },
      {
        "duration": 0,
        "start_time": "2022-09-19T17:42:33.594Z"
      },
      {
        "duration": 120,
        "start_time": "2022-09-19T17:42:45.068Z"
      },
      {
        "duration": 224,
        "start_time": "2022-09-19T17:44:06.076Z"
      },
      {
        "duration": 204,
        "start_time": "2022-09-19T17:44:12.201Z"
      },
      {
        "duration": 197,
        "start_time": "2022-09-19T17:44:28.453Z"
      },
      {
        "duration": 225,
        "start_time": "2022-09-19T17:44:37.130Z"
      },
      {
        "duration": 151,
        "start_time": "2022-09-19T17:44:48.483Z"
      },
      {
        "duration": 134,
        "start_time": "2022-09-19T17:44:57.117Z"
      },
      {
        "duration": 359,
        "start_time": "2022-09-19T17:45:03.062Z"
      },
      {
        "duration": 2177,
        "start_time": "2022-09-19T17:45:03.423Z"
      },
      {
        "duration": 10,
        "start_time": "2022-09-19T17:45:05.602Z"
      },
      {
        "duration": 69,
        "start_time": "2022-09-19T17:45:05.615Z"
      },
      {
        "duration": 23,
        "start_time": "2022-09-19T17:45:05.686Z"
      },
      {
        "duration": 8,
        "start_time": "2022-09-19T17:45:05.711Z"
      },
      {
        "duration": 26,
        "start_time": "2022-09-19T17:45:05.720Z"
      },
      {
        "duration": 141,
        "start_time": "2022-09-19T17:45:05.748Z"
      },
      {
        "duration": 177,
        "start_time": "2022-09-19T17:45:05.891Z"
      },
      {
        "duration": 85,
        "start_time": "2022-09-19T17:45:06.070Z"
      },
      {
        "duration": 0,
        "start_time": "2022-09-19T17:45:06.157Z"
      },
      {
        "duration": 0,
        "start_time": "2022-09-19T17:45:06.158Z"
      },
      {
        "duration": 0,
        "start_time": "2022-09-19T17:45:06.159Z"
      },
      {
        "duration": 0,
        "start_time": "2022-09-19T17:45:06.160Z"
      },
      {
        "duration": 0,
        "start_time": "2022-09-19T17:45:06.161Z"
      },
      {
        "duration": 0,
        "start_time": "2022-09-19T17:45:06.161Z"
      },
      {
        "duration": 0,
        "start_time": "2022-09-19T17:45:06.162Z"
      },
      {
        "duration": 0,
        "start_time": "2022-09-19T17:45:06.163Z"
      },
      {
        "duration": 0,
        "start_time": "2022-09-19T17:45:06.163Z"
      },
      {
        "duration": 0,
        "start_time": "2022-09-19T17:45:06.164Z"
      },
      {
        "duration": 0,
        "start_time": "2022-09-19T17:45:06.165Z"
      },
      {
        "duration": 0,
        "start_time": "2022-09-19T17:45:06.165Z"
      },
      {
        "duration": 0,
        "start_time": "2022-09-19T17:45:06.166Z"
      },
      {
        "duration": 0,
        "start_time": "2022-09-19T17:45:06.167Z"
      },
      {
        "duration": 0,
        "start_time": "2022-09-19T17:45:06.167Z"
      },
      {
        "duration": 0,
        "start_time": "2022-09-19T17:45:06.168Z"
      },
      {
        "duration": 0,
        "start_time": "2022-09-19T17:45:06.169Z"
      },
      {
        "duration": 0,
        "start_time": "2022-09-19T17:45:06.170Z"
      },
      {
        "duration": 0,
        "start_time": "2022-09-19T17:45:06.172Z"
      },
      {
        "duration": 0,
        "start_time": "2022-09-19T17:45:06.173Z"
      },
      {
        "duration": 0,
        "start_time": "2022-09-19T17:45:06.174Z"
      },
      {
        "duration": 0,
        "start_time": "2022-09-19T17:45:06.176Z"
      },
      {
        "duration": 0,
        "start_time": "2022-09-19T17:45:06.209Z"
      },
      {
        "duration": 0,
        "start_time": "2022-09-19T17:45:06.211Z"
      },
      {
        "duration": 0,
        "start_time": "2022-09-19T17:45:06.212Z"
      },
      {
        "duration": 0,
        "start_time": "2022-09-19T17:45:06.213Z"
      },
      {
        "duration": 0,
        "start_time": "2022-09-19T17:45:06.215Z"
      },
      {
        "duration": 123,
        "start_time": "2022-09-19T17:45:29.461Z"
      },
      {
        "duration": 444,
        "start_time": "2022-09-19T17:45:37.277Z"
      },
      {
        "duration": 2209,
        "start_time": "2022-09-19T17:45:37.723Z"
      },
      {
        "duration": 8,
        "start_time": "2022-09-19T17:45:39.934Z"
      },
      {
        "duration": 74,
        "start_time": "2022-09-19T17:45:39.944Z"
      },
      {
        "duration": 7,
        "start_time": "2022-09-19T17:45:40.019Z"
      },
      {
        "duration": 11,
        "start_time": "2022-09-19T17:45:40.028Z"
      },
      {
        "duration": 25,
        "start_time": "2022-09-19T17:45:40.041Z"
      },
      {
        "duration": 149,
        "start_time": "2022-09-19T17:45:40.067Z"
      },
      {
        "duration": 176,
        "start_time": "2022-09-19T17:45:40.218Z"
      },
      {
        "duration": 86,
        "start_time": "2022-09-19T17:45:40.397Z"
      },
      {
        "duration": 0,
        "start_time": "2022-09-19T17:45:40.485Z"
      },
      {
        "duration": 0,
        "start_time": "2022-09-19T17:45:40.486Z"
      },
      {
        "duration": 0,
        "start_time": "2022-09-19T17:45:40.487Z"
      },
      {
        "duration": 0,
        "start_time": "2022-09-19T17:45:40.488Z"
      },
      {
        "duration": 0,
        "start_time": "2022-09-19T17:45:40.488Z"
      },
      {
        "duration": 0,
        "start_time": "2022-09-19T17:45:40.489Z"
      },
      {
        "duration": 0,
        "start_time": "2022-09-19T17:45:40.490Z"
      },
      {
        "duration": 1,
        "start_time": "2022-09-19T17:45:40.490Z"
      },
      {
        "duration": 0,
        "start_time": "2022-09-19T17:45:40.492Z"
      },
      {
        "duration": 0,
        "start_time": "2022-09-19T17:45:40.509Z"
      },
      {
        "duration": 0,
        "start_time": "2022-09-19T17:45:40.511Z"
      },
      {
        "duration": 0,
        "start_time": "2022-09-19T17:45:40.512Z"
      },
      {
        "duration": 0,
        "start_time": "2022-09-19T17:45:40.513Z"
      },
      {
        "duration": 0,
        "start_time": "2022-09-19T17:45:40.514Z"
      },
      {
        "duration": 0,
        "start_time": "2022-09-19T17:45:40.515Z"
      },
      {
        "duration": 0,
        "start_time": "2022-09-19T17:45:40.516Z"
      },
      {
        "duration": 0,
        "start_time": "2022-09-19T17:45:40.517Z"
      },
      {
        "duration": 0,
        "start_time": "2022-09-19T17:45:40.517Z"
      },
      {
        "duration": 0,
        "start_time": "2022-09-19T17:45:40.518Z"
      },
      {
        "duration": 0,
        "start_time": "2022-09-19T17:45:40.519Z"
      },
      {
        "duration": 0,
        "start_time": "2022-09-19T17:45:40.520Z"
      },
      {
        "duration": 0,
        "start_time": "2022-09-19T17:45:40.521Z"
      },
      {
        "duration": 0,
        "start_time": "2022-09-19T17:45:40.522Z"
      },
      {
        "duration": 0,
        "start_time": "2022-09-19T17:45:40.522Z"
      },
      {
        "duration": 0,
        "start_time": "2022-09-19T17:45:40.523Z"
      },
      {
        "duration": 0,
        "start_time": "2022-09-19T17:45:40.524Z"
      },
      {
        "duration": 0,
        "start_time": "2022-09-19T17:45:40.525Z"
      },
      {
        "duration": 172,
        "start_time": "2022-09-19T17:46:12.659Z"
      },
      {
        "duration": 14,
        "start_time": "2022-09-19T17:51:02.035Z"
      },
      {
        "duration": 408,
        "start_time": "2022-09-19T17:51:15.724Z"
      },
      {
        "duration": 2247,
        "start_time": "2022-09-19T17:51:16.133Z"
      },
      {
        "duration": 11,
        "start_time": "2022-09-19T17:51:18.382Z"
      },
      {
        "duration": 28,
        "start_time": "2022-09-19T17:51:18.395Z"
      },
      {
        "duration": 10,
        "start_time": "2022-09-19T17:51:18.424Z"
      },
      {
        "duration": 11,
        "start_time": "2022-09-19T17:51:18.436Z"
      },
      {
        "duration": 30,
        "start_time": "2022-09-19T17:51:18.450Z"
      },
      {
        "duration": 159,
        "start_time": "2022-09-19T17:51:18.482Z"
      },
      {
        "duration": 195,
        "start_time": "2022-09-19T17:51:18.642Z"
      },
      {
        "duration": 4,
        "start_time": "2022-09-19T17:51:18.841Z"
      },
      {
        "duration": 152,
        "start_time": "2022-09-19T17:51:18.847Z"
      },
      {
        "duration": 22,
        "start_time": "2022-09-19T17:51:19.001Z"
      },
      {
        "duration": 15,
        "start_time": "2022-09-19T17:51:19.025Z"
      },
      {
        "duration": 543,
        "start_time": "2022-09-19T17:51:19.042Z"
      },
      {
        "duration": 5,
        "start_time": "2022-09-19T17:51:19.596Z"
      },
      {
        "duration": 192,
        "start_time": "2022-09-19T17:51:19.603Z"
      },
      {
        "duration": 155,
        "start_time": "2022-09-19T17:51:19.796Z"
      },
      {
        "duration": 194,
        "start_time": "2022-09-19T17:51:19.953Z"
      },
      {
        "duration": 167,
        "start_time": "2022-09-19T17:51:20.149Z"
      },
      {
        "duration": 209,
        "start_time": "2022-09-19T17:51:20.322Z"
      },
      {
        "duration": 215,
        "start_time": "2022-09-19T17:51:20.534Z"
      },
      {
        "duration": 238,
        "start_time": "2022-09-19T17:51:20.750Z"
      },
      {
        "duration": 8,
        "start_time": "2022-09-19T17:51:20.990Z"
      },
      {
        "duration": 439,
        "start_time": "2022-09-19T17:51:21.000Z"
      },
      {
        "duration": 199,
        "start_time": "2022-09-19T17:51:21.441Z"
      },
      {
        "duration": 150,
        "start_time": "2022-09-19T17:51:21.643Z"
      },
      {
        "duration": 245,
        "start_time": "2022-09-19T17:51:21.796Z"
      },
      {
        "duration": 18,
        "start_time": "2022-09-19T17:51:22.045Z"
      },
      {
        "duration": 215,
        "start_time": "2022-09-19T17:51:22.065Z"
      },
      {
        "duration": 192,
        "start_time": "2022-09-19T17:51:22.282Z"
      },
      {
        "duration": 180,
        "start_time": "2022-09-19T17:51:22.475Z"
      },
      {
        "duration": 524,
        "start_time": "2022-09-19T17:51:22.656Z"
      },
      {
        "duration": 0,
        "start_time": "2022-09-19T17:51:23.183Z"
      },
      {
        "duration": 0,
        "start_time": "2022-09-19T17:51:23.184Z"
      },
      {
        "duration": 0,
        "start_time": "2022-09-19T17:51:23.185Z"
      },
      {
        "duration": 0,
        "start_time": "2022-09-19T17:51:23.186Z"
      },
      {
        "duration": 0,
        "start_time": "2022-09-19T17:51:23.187Z"
      },
      {
        "duration": 25,
        "start_time": "2022-09-19T17:51:51.597Z"
      },
      {
        "duration": 5,
        "start_time": "2022-09-19T17:52:01.572Z"
      },
      {
        "duration": 139,
        "start_time": "2022-09-19T17:52:16.260Z"
      },
      {
        "duration": 138,
        "start_time": "2022-09-19T17:52:39.065Z"
      },
      {
        "duration": 203,
        "start_time": "2022-09-19T17:52:46.423Z"
      },
      {
        "duration": 325,
        "start_time": "2022-09-19T17:53:59.372Z"
      },
      {
        "duration": 184,
        "start_time": "2022-09-19T17:54:12.942Z"
      },
      {
        "duration": 112,
        "start_time": "2022-09-19T17:54:23.842Z"
      },
      {
        "duration": 143,
        "start_time": "2022-09-19T17:54:36.509Z"
      },
      {
        "duration": 315,
        "start_time": "2022-09-19T18:01:19.724Z"
      },
      {
        "duration": 331,
        "start_time": "2022-09-19T18:03:14.229Z"
      },
      {
        "duration": 124,
        "start_time": "2022-09-19T18:03:19.154Z"
      },
      {
        "duration": 428,
        "start_time": "2022-09-19T18:03:26.596Z"
      },
      {
        "duration": 2674,
        "start_time": "2022-09-19T18:03:27.026Z"
      },
      {
        "duration": 7,
        "start_time": "2022-09-19T18:03:29.702Z"
      },
      {
        "duration": 28,
        "start_time": "2022-09-19T18:03:29.711Z"
      },
      {
        "duration": 7,
        "start_time": "2022-09-19T18:03:29.740Z"
      },
      {
        "duration": 7,
        "start_time": "2022-09-19T18:03:29.748Z"
      },
      {
        "duration": 26,
        "start_time": "2022-09-19T18:03:29.756Z"
      },
      {
        "duration": 175,
        "start_time": "2022-09-19T18:03:29.783Z"
      },
      {
        "duration": 397,
        "start_time": "2022-09-19T18:03:29.960Z"
      },
      {
        "duration": 88,
        "start_time": "2022-09-19T18:03:30.360Z"
      },
      {
        "duration": 0,
        "start_time": "2022-09-19T18:03:30.450Z"
      },
      {
        "duration": 0,
        "start_time": "2022-09-19T18:03:30.450Z"
      },
      {
        "duration": 0,
        "start_time": "2022-09-19T18:03:30.452Z"
      },
      {
        "duration": 0,
        "start_time": "2022-09-19T18:03:30.453Z"
      },
      {
        "duration": 0,
        "start_time": "2022-09-19T18:03:30.454Z"
      },
      {
        "duration": 0,
        "start_time": "2022-09-19T18:03:30.455Z"
      },
      {
        "duration": 0,
        "start_time": "2022-09-19T18:03:30.455Z"
      },
      {
        "duration": 0,
        "start_time": "2022-09-19T18:03:30.456Z"
      },
      {
        "duration": 0,
        "start_time": "2022-09-19T18:03:30.457Z"
      },
      {
        "duration": 0,
        "start_time": "2022-09-19T18:03:30.458Z"
      },
      {
        "duration": 0,
        "start_time": "2022-09-19T18:03:30.459Z"
      },
      {
        "duration": 0,
        "start_time": "2022-09-19T18:03:30.460Z"
      },
      {
        "duration": 0,
        "start_time": "2022-09-19T18:03:30.460Z"
      },
      {
        "duration": 0,
        "start_time": "2022-09-19T18:03:30.461Z"
      },
      {
        "duration": 0,
        "start_time": "2022-09-19T18:03:30.462Z"
      },
      {
        "duration": 0,
        "start_time": "2022-09-19T18:03:30.463Z"
      },
      {
        "duration": 0,
        "start_time": "2022-09-19T18:03:30.464Z"
      },
      {
        "duration": 0,
        "start_time": "2022-09-19T18:03:30.465Z"
      },
      {
        "duration": 0,
        "start_time": "2022-09-19T18:03:30.466Z"
      },
      {
        "duration": 0,
        "start_time": "2022-09-19T18:03:30.466Z"
      },
      {
        "duration": 0,
        "start_time": "2022-09-19T18:03:30.467Z"
      },
      {
        "duration": 0,
        "start_time": "2022-09-19T18:03:30.468Z"
      },
      {
        "duration": 0,
        "start_time": "2022-09-19T18:03:30.469Z"
      },
      {
        "duration": 0,
        "start_time": "2022-09-19T18:03:30.470Z"
      },
      {
        "duration": 0,
        "start_time": "2022-09-19T18:03:30.471Z"
      },
      {
        "duration": 0,
        "start_time": "2022-09-19T18:03:30.472Z"
      },
      {
        "duration": 0,
        "start_time": "2022-09-19T18:03:30.472Z"
      },
      {
        "duration": 367,
        "start_time": "2022-09-19T18:03:53.452Z"
      },
      {
        "duration": 2506,
        "start_time": "2022-09-19T18:03:53.822Z"
      },
      {
        "duration": 15,
        "start_time": "2022-09-19T18:03:56.330Z"
      },
      {
        "duration": 22,
        "start_time": "2022-09-19T18:03:56.348Z"
      },
      {
        "duration": 9,
        "start_time": "2022-09-19T18:03:56.372Z"
      },
      {
        "duration": 14,
        "start_time": "2022-09-19T18:03:56.383Z"
      },
      {
        "duration": 35,
        "start_time": "2022-09-19T18:03:56.398Z"
      },
      {
        "duration": 174,
        "start_time": "2022-09-19T18:03:56.434Z"
      },
      {
        "duration": 203,
        "start_time": "2022-09-19T18:03:56.610Z"
      },
      {
        "duration": 5,
        "start_time": "2022-09-19T18:03:56.822Z"
      },
      {
        "duration": 160,
        "start_time": "2022-09-19T18:03:56.829Z"
      },
      {
        "duration": 9,
        "start_time": "2022-09-19T18:03:56.991Z"
      },
      {
        "duration": 28,
        "start_time": "2022-09-19T18:03:57.001Z"
      },
      {
        "duration": 572,
        "start_time": "2022-09-19T18:03:57.031Z"
      },
      {
        "duration": 18,
        "start_time": "2022-09-19T18:03:57.605Z"
      },
      {
        "duration": 197,
        "start_time": "2022-09-19T18:03:57.625Z"
      },
      {
        "duration": 142,
        "start_time": "2022-09-19T18:03:57.824Z"
      },
      {
        "duration": 135,
        "start_time": "2022-09-19T18:03:57.968Z"
      },
      {
        "duration": 203,
        "start_time": "2022-09-19T18:03:58.109Z"
      },
      {
        "duration": 175,
        "start_time": "2022-09-19T18:03:58.314Z"
      },
      {
        "duration": 173,
        "start_time": "2022-09-19T18:03:58.491Z"
      },
      {
        "duration": 218,
        "start_time": "2022-09-19T18:03:58.666Z"
      },
      {
        "duration": 8,
        "start_time": "2022-09-19T18:03:58.885Z"
      },
      {
        "duration": 217,
        "start_time": "2022-09-19T18:03:58.895Z"
      },
      {
        "duration": 141,
        "start_time": "2022-09-19T18:03:59.114Z"
      },
      {
        "duration": 173,
        "start_time": "2022-09-19T18:03:59.257Z"
      },
      {
        "duration": 204,
        "start_time": "2022-09-19T18:03:59.439Z"
      },
      {
        "duration": 13,
        "start_time": "2022-09-19T18:03:59.646Z"
      },
      {
        "duration": 242,
        "start_time": "2022-09-19T18:03:59.661Z"
      },
      {
        "duration": 194,
        "start_time": "2022-09-19T18:03:59.905Z"
      },
      {
        "duration": 194,
        "start_time": "2022-09-19T18:04:00.101Z"
      },
      {
        "duration": 1660,
        "start_time": "2022-09-19T18:04:00.297Z"
      },
      {
        "duration": 0,
        "start_time": "2022-09-19T18:04:01.959Z"
      },
      {
        "duration": 0,
        "start_time": "2022-09-19T18:04:01.963Z"
      },
      {
        "duration": 0,
        "start_time": "2022-09-19T18:04:01.967Z"
      },
      {
        "duration": 0,
        "start_time": "2022-09-19T18:04:01.968Z"
      },
      {
        "duration": 0,
        "start_time": "2022-09-19T18:04:01.969Z"
      },
      {
        "duration": 295,
        "start_time": "2022-09-19T18:05:08.637Z"
      },
      {
        "duration": 68,
        "start_time": "2022-09-19T18:05:36.821Z"
      },
      {
        "duration": 195,
        "start_time": "2022-09-19T18:05:39.235Z"
      },
      {
        "duration": 236,
        "start_time": "2022-09-19T18:06:14.532Z"
      },
      {
        "duration": 443,
        "start_time": "2022-09-19T18:06:25.256Z"
      },
      {
        "duration": 225,
        "start_time": "2022-09-19T18:06:32.204Z"
      },
      {
        "duration": 249,
        "start_time": "2022-09-19T18:06:44.079Z"
      },
      {
        "duration": 219,
        "start_time": "2022-09-19T18:06:49.135Z"
      },
      {
        "duration": 277,
        "start_time": "2022-09-19T18:06:53.277Z"
      },
      {
        "duration": 195,
        "start_time": "2022-09-19T18:06:57.886Z"
      },
      {
        "duration": 416,
        "start_time": "2022-09-19T18:07:13.099Z"
      },
      {
        "duration": 2172,
        "start_time": "2022-09-19T18:07:13.516Z"
      },
      {
        "duration": 9,
        "start_time": "2022-09-19T18:07:15.690Z"
      },
      {
        "duration": 12,
        "start_time": "2022-09-19T18:07:15.702Z"
      },
      {
        "duration": 32,
        "start_time": "2022-09-19T18:07:15.715Z"
      },
      {
        "duration": 7,
        "start_time": "2022-09-19T18:07:15.748Z"
      },
      {
        "duration": 25,
        "start_time": "2022-09-19T18:07:15.757Z"
      },
      {
        "duration": 140,
        "start_time": "2022-09-19T18:07:15.783Z"
      },
      {
        "duration": 197,
        "start_time": "2022-09-19T18:07:15.925Z"
      },
      {
        "duration": 4,
        "start_time": "2022-09-19T18:07:16.129Z"
      },
      {
        "duration": 152,
        "start_time": "2022-09-19T18:07:16.134Z"
      },
      {
        "duration": 13,
        "start_time": "2022-09-19T18:07:16.288Z"
      },
      {
        "duration": 6,
        "start_time": "2022-09-19T18:07:16.302Z"
      },
      {
        "duration": 557,
        "start_time": "2022-09-19T18:07:16.312Z"
      },
      {
        "duration": 4,
        "start_time": "2022-09-19T18:07:16.871Z"
      },
      {
        "duration": 152,
        "start_time": "2022-09-19T18:07:16.877Z"
      },
      {
        "duration": 155,
        "start_time": "2022-09-19T18:07:17.030Z"
      },
      {
        "duration": 151,
        "start_time": "2022-09-19T18:07:17.186Z"
      },
      {
        "duration": 141,
        "start_time": "2022-09-19T18:07:17.340Z"
      },
      {
        "duration": 161,
        "start_time": "2022-09-19T18:07:17.482Z"
      },
      {
        "duration": 142,
        "start_time": "2022-09-19T18:07:17.644Z"
      },
      {
        "duration": 186,
        "start_time": "2022-09-19T18:07:17.788Z"
      },
      {
        "duration": 7,
        "start_time": "2022-09-19T18:07:17.975Z"
      },
      {
        "duration": 165,
        "start_time": "2022-09-19T18:07:17.984Z"
      },
      {
        "duration": 138,
        "start_time": "2022-09-19T18:07:18.151Z"
      },
      {
        "duration": 138,
        "start_time": "2022-09-19T18:07:18.290Z"
      },
      {
        "duration": 131,
        "start_time": "2022-09-19T18:07:18.429Z"
      },
      {
        "duration": 11,
        "start_time": "2022-09-19T18:07:18.563Z"
      },
      {
        "duration": 175,
        "start_time": "2022-09-19T18:07:18.576Z"
      },
      {
        "duration": 180,
        "start_time": "2022-09-19T18:07:18.753Z"
      },
      {
        "duration": 165,
        "start_time": "2022-09-19T18:07:18.935Z"
      },
      {
        "duration": 384,
        "start_time": "2022-09-19T18:07:19.101Z"
      },
      {
        "duration": 0,
        "start_time": "2022-09-19T18:07:19.487Z"
      },
      {
        "duration": 0,
        "start_time": "2022-09-19T18:07:19.488Z"
      },
      {
        "duration": 0,
        "start_time": "2022-09-19T18:07:19.489Z"
      },
      {
        "duration": 0,
        "start_time": "2022-09-19T18:07:19.490Z"
      },
      {
        "duration": 0,
        "start_time": "2022-09-19T18:07:19.491Z"
      },
      {
        "duration": 20,
        "start_time": "2022-09-19T18:08:41.299Z"
      },
      {
        "duration": 12,
        "start_time": "2022-09-19T18:08:46.021Z"
      },
      {
        "duration": 19,
        "start_time": "2022-09-19T18:08:53.902Z"
      },
      {
        "duration": 15,
        "start_time": "2022-09-19T18:09:11.349Z"
      },
      {
        "duration": 18,
        "start_time": "2022-09-19T18:09:17.998Z"
      },
      {
        "duration": 14,
        "start_time": "2022-09-19T18:09:29.685Z"
      },
      {
        "duration": 350,
        "start_time": "2022-09-19T18:10:03.765Z"
      },
      {
        "duration": 2172,
        "start_time": "2022-09-19T18:10:04.120Z"
      },
      {
        "duration": 8,
        "start_time": "2022-09-19T18:10:06.294Z"
      },
      {
        "duration": 26,
        "start_time": "2022-09-19T18:10:06.304Z"
      },
      {
        "duration": 6,
        "start_time": "2022-09-19T18:10:06.332Z"
      },
      {
        "duration": 11,
        "start_time": "2022-09-19T18:10:06.339Z"
      },
      {
        "duration": 25,
        "start_time": "2022-09-19T18:10:06.351Z"
      },
      {
        "duration": 142,
        "start_time": "2022-09-19T18:10:06.378Z"
      },
      {
        "duration": 197,
        "start_time": "2022-09-19T18:10:06.522Z"
      },
      {
        "duration": 6,
        "start_time": "2022-09-19T18:10:06.721Z"
      },
      {
        "duration": 145,
        "start_time": "2022-09-19T18:10:06.729Z"
      },
      {
        "duration": 9,
        "start_time": "2022-09-19T18:10:06.875Z"
      },
      {
        "duration": 9,
        "start_time": "2022-09-19T18:10:06.886Z"
      },
      {
        "duration": 532,
        "start_time": "2022-09-19T18:10:06.896Z"
      },
      {
        "duration": 5,
        "start_time": "2022-09-19T18:10:07.429Z"
      },
      {
        "duration": 142,
        "start_time": "2022-09-19T18:10:07.435Z"
      },
      {
        "duration": 147,
        "start_time": "2022-09-19T18:10:07.578Z"
      },
      {
        "duration": 121,
        "start_time": "2022-09-19T18:10:07.727Z"
      },
      {
        "duration": 131,
        "start_time": "2022-09-19T18:10:07.850Z"
      },
      {
        "duration": 152,
        "start_time": "2022-09-19T18:10:07.982Z"
      },
      {
        "duration": 147,
        "start_time": "2022-09-19T18:10:08.135Z"
      },
      {
        "duration": 181,
        "start_time": "2022-09-19T18:10:08.284Z"
      },
      {
        "duration": 6,
        "start_time": "2022-09-19T18:10:08.466Z"
      },
      {
        "duration": 160,
        "start_time": "2022-09-19T18:10:08.474Z"
      },
      {
        "duration": 131,
        "start_time": "2022-09-19T18:10:08.636Z"
      },
      {
        "duration": 121,
        "start_time": "2022-09-19T18:10:08.769Z"
      },
      {
        "duration": 159,
        "start_time": "2022-09-19T18:10:08.892Z"
      },
      {
        "duration": 11,
        "start_time": "2022-09-19T18:10:09.054Z"
      },
      {
        "duration": 160,
        "start_time": "2022-09-19T18:10:09.067Z"
      },
      {
        "duration": 177,
        "start_time": "2022-09-19T18:10:09.228Z"
      },
      {
        "duration": 178,
        "start_time": "2022-09-19T18:10:09.407Z"
      },
      {
        "duration": 651,
        "start_time": "2022-09-19T18:10:09.586Z"
      },
      {
        "duration": 0,
        "start_time": "2022-09-19T18:10:10.239Z"
      },
      {
        "duration": 0,
        "start_time": "2022-09-19T18:10:10.240Z"
      },
      {
        "duration": 0,
        "start_time": "2022-09-19T18:10:10.241Z"
      },
      {
        "duration": 0,
        "start_time": "2022-09-19T18:10:10.241Z"
      },
      {
        "duration": 0,
        "start_time": "2022-09-19T18:10:10.242Z"
      },
      {
        "duration": 254,
        "start_time": "2022-09-19T18:11:18.774Z"
      },
      {
        "duration": 216,
        "start_time": "2022-09-19T18:11:23.537Z"
      },
      {
        "duration": 12,
        "start_time": "2022-09-19T18:12:30.171Z"
      },
      {
        "duration": 360,
        "start_time": "2022-09-19T18:12:36.861Z"
      },
      {
        "duration": 2392,
        "start_time": "2022-09-19T18:12:37.223Z"
      },
      {
        "duration": 11,
        "start_time": "2022-09-19T18:12:39.624Z"
      },
      {
        "duration": 9,
        "start_time": "2022-09-19T18:12:39.636Z"
      },
      {
        "duration": 6,
        "start_time": "2022-09-19T18:12:39.647Z"
      },
      {
        "duration": 8,
        "start_time": "2022-09-19T18:12:39.654Z"
      },
      {
        "duration": 23,
        "start_time": "2022-09-19T18:12:39.664Z"
      },
      {
        "duration": 147,
        "start_time": "2022-09-19T18:12:39.688Z"
      },
      {
        "duration": 189,
        "start_time": "2022-09-19T18:12:39.836Z"
      },
      {
        "duration": 3,
        "start_time": "2022-09-19T18:12:40.028Z"
      },
      {
        "duration": 148,
        "start_time": "2022-09-19T18:12:40.033Z"
      },
      {
        "duration": 10,
        "start_time": "2022-09-19T18:12:40.182Z"
      },
      {
        "duration": 8,
        "start_time": "2022-09-19T18:12:40.193Z"
      },
      {
        "duration": 547,
        "start_time": "2022-09-19T18:12:40.209Z"
      },
      {
        "duration": 3,
        "start_time": "2022-09-19T18:12:40.758Z"
      },
      {
        "duration": 136,
        "start_time": "2022-09-19T18:12:40.762Z"
      },
      {
        "duration": 128,
        "start_time": "2022-09-19T18:12:40.900Z"
      },
      {
        "duration": 119,
        "start_time": "2022-09-19T18:12:41.030Z"
      },
      {
        "duration": 131,
        "start_time": "2022-09-19T18:12:41.150Z"
      },
      {
        "duration": 144,
        "start_time": "2022-09-19T18:12:41.283Z"
      },
      {
        "duration": 142,
        "start_time": "2022-09-19T18:12:41.428Z"
      },
      {
        "duration": 207,
        "start_time": "2022-09-19T18:12:41.572Z"
      },
      {
        "duration": 7,
        "start_time": "2022-09-19T18:12:41.780Z"
      },
      {
        "duration": 157,
        "start_time": "2022-09-19T18:12:41.788Z"
      },
      {
        "duration": 127,
        "start_time": "2022-09-19T18:12:41.946Z"
      },
      {
        "duration": 118,
        "start_time": "2022-09-19T18:12:42.075Z"
      },
      {
        "duration": 153,
        "start_time": "2022-09-19T18:12:42.195Z"
      },
      {
        "duration": 11,
        "start_time": "2022-09-19T18:12:42.351Z"
      },
      {
        "duration": 172,
        "start_time": "2022-09-19T18:12:42.363Z"
      },
      {
        "duration": 179,
        "start_time": "2022-09-19T18:12:42.537Z"
      },
      {
        "duration": 166,
        "start_time": "2022-09-19T18:12:42.726Z"
      },
      {
        "duration": 470,
        "start_time": "2022-09-19T18:12:42.894Z"
      },
      {
        "duration": 0,
        "start_time": "2022-09-19T18:12:43.367Z"
      },
      {
        "duration": 0,
        "start_time": "2022-09-19T18:12:43.368Z"
      },
      {
        "duration": 1,
        "start_time": "2022-09-19T18:12:43.369Z"
      },
      {
        "duration": 0,
        "start_time": "2022-09-19T18:12:43.371Z"
      },
      {
        "duration": 0,
        "start_time": "2022-09-19T18:12:43.372Z"
      },
      {
        "duration": 358,
        "start_time": "2022-09-19T18:13:51.074Z"
      },
      {
        "duration": 2118,
        "start_time": "2022-09-19T18:13:51.434Z"
      },
      {
        "duration": 8,
        "start_time": "2022-09-19T18:13:53.554Z"
      },
      {
        "duration": 9,
        "start_time": "2022-09-19T18:13:53.564Z"
      },
      {
        "duration": 7,
        "start_time": "2022-09-19T18:13:53.574Z"
      },
      {
        "duration": 7,
        "start_time": "2022-09-19T18:13:53.582Z"
      },
      {
        "duration": 38,
        "start_time": "2022-09-19T18:13:53.590Z"
      },
      {
        "duration": 142,
        "start_time": "2022-09-19T18:13:53.634Z"
      },
      {
        "duration": 187,
        "start_time": "2022-09-19T18:13:53.778Z"
      },
      {
        "duration": 4,
        "start_time": "2022-09-19T18:13:53.967Z"
      },
      {
        "duration": 134,
        "start_time": "2022-09-19T18:13:53.972Z"
      },
      {
        "duration": 17,
        "start_time": "2022-09-19T18:13:54.107Z"
      },
      {
        "duration": 11,
        "start_time": "2022-09-19T18:13:54.125Z"
      },
      {
        "duration": 584,
        "start_time": "2022-09-19T18:13:54.138Z"
      },
      {
        "duration": 4,
        "start_time": "2022-09-19T18:13:54.724Z"
      },
      {
        "duration": 136,
        "start_time": "2022-09-19T18:13:54.729Z"
      },
      {
        "duration": 131,
        "start_time": "2022-09-19T18:13:54.866Z"
      },
      {
        "duration": 125,
        "start_time": "2022-09-19T18:13:54.999Z"
      },
      {
        "duration": 133,
        "start_time": "2022-09-19T18:13:55.126Z"
      },
      {
        "duration": 144,
        "start_time": "2022-09-19T18:13:55.260Z"
      },
      {
        "duration": 132,
        "start_time": "2022-09-19T18:13:55.415Z"
      },
      {
        "duration": 183,
        "start_time": "2022-09-19T18:13:55.549Z"
      },
      {
        "duration": 8,
        "start_time": "2022-09-19T18:13:55.734Z"
      },
      {
        "duration": 151,
        "start_time": "2022-09-19T18:13:55.743Z"
      },
      {
        "duration": 134,
        "start_time": "2022-09-19T18:13:55.896Z"
      },
      {
        "duration": 128,
        "start_time": "2022-09-19T18:13:56.032Z"
      },
      {
        "duration": 164,
        "start_time": "2022-09-19T18:13:56.162Z"
      },
      {
        "duration": 15,
        "start_time": "2022-09-19T18:13:56.330Z"
      },
      {
        "duration": 187,
        "start_time": "2022-09-19T18:13:56.346Z"
      },
      {
        "duration": 174,
        "start_time": "2022-09-19T18:13:56.534Z"
      },
      {
        "duration": 147,
        "start_time": "2022-09-19T18:13:56.720Z"
      },
      {
        "duration": 692,
        "start_time": "2022-09-19T18:13:56.869Z"
      },
      {
        "duration": 0,
        "start_time": "2022-09-19T18:13:57.563Z"
      },
      {
        "duration": 0,
        "start_time": "2022-09-19T18:13:57.564Z"
      },
      {
        "duration": 0,
        "start_time": "2022-09-19T18:13:57.565Z"
      },
      {
        "duration": 0,
        "start_time": "2022-09-19T18:13:57.566Z"
      },
      {
        "duration": 0,
        "start_time": "2022-09-19T18:13:57.567Z"
      },
      {
        "duration": 406,
        "start_time": "2022-09-19T18:14:38.690Z"
      },
      {
        "duration": 211,
        "start_time": "2022-09-19T18:14:47.557Z"
      },
      {
        "duration": 390,
        "start_time": "2022-09-19T18:14:57.130Z"
      },
      {
        "duration": 2138,
        "start_time": "2022-09-19T18:14:57.522Z"
      },
      {
        "duration": 8,
        "start_time": "2022-09-19T18:14:59.661Z"
      },
      {
        "duration": 11,
        "start_time": "2022-09-19T18:14:59.671Z"
      },
      {
        "duration": 8,
        "start_time": "2022-09-19T18:14:59.683Z"
      },
      {
        "duration": 8,
        "start_time": "2022-09-19T18:14:59.692Z"
      },
      {
        "duration": 27,
        "start_time": "2022-09-19T18:14:59.702Z"
      },
      {
        "duration": 131,
        "start_time": "2022-09-19T18:14:59.730Z"
      },
      {
        "duration": 391,
        "start_time": "2022-09-19T18:14:59.862Z"
      },
      {
        "duration": 88,
        "start_time": "2022-09-19T18:15:00.255Z"
      },
      {
        "duration": 0,
        "start_time": "2022-09-19T18:15:00.344Z"
      },
      {
        "duration": 0,
        "start_time": "2022-09-19T18:15:00.345Z"
      },
      {
        "duration": 0,
        "start_time": "2022-09-19T18:15:00.346Z"
      },
      {
        "duration": 0,
        "start_time": "2022-09-19T18:15:00.348Z"
      },
      {
        "duration": 0,
        "start_time": "2022-09-19T18:15:00.349Z"
      },
      {
        "duration": 0,
        "start_time": "2022-09-19T18:15:00.350Z"
      },
      {
        "duration": 0,
        "start_time": "2022-09-19T18:15:00.351Z"
      },
      {
        "duration": 0,
        "start_time": "2022-09-19T18:15:00.352Z"
      },
      {
        "duration": 0,
        "start_time": "2022-09-19T18:15:00.353Z"
      },
      {
        "duration": 0,
        "start_time": "2022-09-19T18:15:00.353Z"
      },
      {
        "duration": 0,
        "start_time": "2022-09-19T18:15:00.355Z"
      },
      {
        "duration": 0,
        "start_time": "2022-09-19T18:15:00.357Z"
      },
      {
        "duration": 0,
        "start_time": "2022-09-19T18:15:00.358Z"
      },
      {
        "duration": 0,
        "start_time": "2022-09-19T18:15:00.358Z"
      },
      {
        "duration": 0,
        "start_time": "2022-09-19T18:15:00.360Z"
      },
      {
        "duration": 0,
        "start_time": "2022-09-19T18:15:00.360Z"
      },
      {
        "duration": 0,
        "start_time": "2022-09-19T18:15:00.361Z"
      },
      {
        "duration": 0,
        "start_time": "2022-09-19T18:15:00.362Z"
      },
      {
        "duration": 0,
        "start_time": "2022-09-19T18:15:00.363Z"
      },
      {
        "duration": 0,
        "start_time": "2022-09-19T18:15:00.364Z"
      },
      {
        "duration": 0,
        "start_time": "2022-09-19T18:15:00.364Z"
      },
      {
        "duration": 0,
        "start_time": "2022-09-19T18:15:00.365Z"
      },
      {
        "duration": 0,
        "start_time": "2022-09-19T18:15:00.366Z"
      },
      {
        "duration": 0,
        "start_time": "2022-09-19T18:15:00.367Z"
      },
      {
        "duration": 0,
        "start_time": "2022-09-19T18:15:00.419Z"
      },
      {
        "duration": 0,
        "start_time": "2022-09-19T18:15:00.420Z"
      },
      {
        "duration": 0,
        "start_time": "2022-09-19T18:15:00.420Z"
      },
      {
        "duration": 151,
        "start_time": "2022-09-19T18:15:40.350Z"
      },
      {
        "duration": 418,
        "start_time": "2022-09-19T18:15:45.682Z"
      },
      {
        "duration": 2218,
        "start_time": "2022-09-19T18:15:46.102Z"
      },
      {
        "duration": 8,
        "start_time": "2022-09-19T18:15:48.322Z"
      },
      {
        "duration": 11,
        "start_time": "2022-09-19T18:15:48.333Z"
      },
      {
        "duration": 8,
        "start_time": "2022-09-19T18:15:48.345Z"
      },
      {
        "duration": 8,
        "start_time": "2022-09-19T18:15:48.354Z"
      },
      {
        "duration": 48,
        "start_time": "2022-09-19T18:15:48.364Z"
      },
      {
        "duration": 143,
        "start_time": "2022-09-19T18:15:48.413Z"
      },
      {
        "duration": 204,
        "start_time": "2022-09-19T18:15:48.558Z"
      },
      {
        "duration": 4,
        "start_time": "2022-09-19T18:15:48.765Z"
      },
      {
        "duration": 154,
        "start_time": "2022-09-19T18:15:48.770Z"
      },
      {
        "duration": 8,
        "start_time": "2022-09-19T18:15:48.926Z"
      },
      {
        "duration": 8,
        "start_time": "2022-09-19T18:15:48.936Z"
      },
      {
        "duration": 572,
        "start_time": "2022-09-19T18:15:48.945Z"
      },
      {
        "duration": 4,
        "start_time": "2022-09-19T18:15:49.520Z"
      },
      {
        "duration": 146,
        "start_time": "2022-09-19T18:15:49.525Z"
      },
      {
        "duration": 175,
        "start_time": "2022-09-19T18:15:49.673Z"
      },
      {
        "duration": 131,
        "start_time": "2022-09-19T18:15:49.850Z"
      },
      {
        "duration": 136,
        "start_time": "2022-09-19T18:15:49.983Z"
      },
      {
        "duration": 135,
        "start_time": "2022-09-19T18:15:50.120Z"
      },
      {
        "duration": 154,
        "start_time": "2022-09-19T18:15:50.256Z"
      },
      {
        "duration": 186,
        "start_time": "2022-09-19T18:15:50.412Z"
      },
      {
        "duration": 13,
        "start_time": "2022-09-19T18:15:50.599Z"
      },
      {
        "duration": 153,
        "start_time": "2022-09-19T18:15:50.613Z"
      },
      {
        "duration": 122,
        "start_time": "2022-09-19T18:15:50.768Z"
      },
      {
        "duration": 127,
        "start_time": "2022-09-19T18:15:50.891Z"
      },
      {
        "duration": 142,
        "start_time": "2022-09-19T18:15:51.020Z"
      },
      {
        "duration": 12,
        "start_time": "2022-09-19T18:15:51.165Z"
      },
      {
        "duration": 167,
        "start_time": "2022-09-19T18:15:51.178Z"
      },
      {
        "duration": 170,
        "start_time": "2022-09-19T18:15:51.347Z"
      },
      {
        "duration": 159,
        "start_time": "2022-09-19T18:15:51.519Z"
      },
      {
        "duration": 561,
        "start_time": "2022-09-19T18:15:51.680Z"
      },
      {
        "duration": 0,
        "start_time": "2022-09-19T18:15:52.243Z"
      },
      {
        "duration": 0,
        "start_time": "2022-09-19T18:15:52.244Z"
      },
      {
        "duration": 0,
        "start_time": "2022-09-19T18:15:52.245Z"
      },
      {
        "duration": 0,
        "start_time": "2022-09-19T18:15:52.246Z"
      },
      {
        "duration": 0,
        "start_time": "2022-09-19T18:15:52.247Z"
      },
      {
        "duration": 252,
        "start_time": "2022-09-19T18:16:23.805Z"
      },
      {
        "duration": 405,
        "start_time": "2022-09-19T18:17:04.698Z"
      },
      {
        "duration": 2100,
        "start_time": "2022-09-19T18:17:05.104Z"
      },
      {
        "duration": 8,
        "start_time": "2022-09-19T18:17:07.206Z"
      },
      {
        "duration": 5,
        "start_time": "2022-09-19T18:17:07.216Z"
      },
      {
        "duration": 7,
        "start_time": "2022-09-19T18:17:07.222Z"
      },
      {
        "duration": 7,
        "start_time": "2022-09-19T18:17:07.230Z"
      },
      {
        "duration": 34,
        "start_time": "2022-09-19T18:17:07.239Z"
      },
      {
        "duration": 141,
        "start_time": "2022-09-19T18:17:07.275Z"
      },
      {
        "duration": 173,
        "start_time": "2022-09-19T18:17:07.418Z"
      },
      {
        "duration": 4,
        "start_time": "2022-09-19T18:17:07.594Z"
      },
      {
        "duration": 137,
        "start_time": "2022-09-19T18:17:07.599Z"
      },
      {
        "duration": 9,
        "start_time": "2022-09-19T18:17:07.737Z"
      },
      {
        "duration": 12,
        "start_time": "2022-09-19T18:17:07.747Z"
      },
      {
        "duration": 498,
        "start_time": "2022-09-19T18:17:07.760Z"
      },
      {
        "duration": 3,
        "start_time": "2022-09-19T18:17:08.260Z"
      },
      {
        "duration": 135,
        "start_time": "2022-09-19T18:17:08.265Z"
      },
      {
        "duration": 120,
        "start_time": "2022-09-19T18:17:08.408Z"
      },
      {
        "duration": 116,
        "start_time": "2022-09-19T18:17:08.529Z"
      },
      {
        "duration": 123,
        "start_time": "2022-09-19T18:17:08.647Z"
      },
      {
        "duration": 146,
        "start_time": "2022-09-19T18:17:08.772Z"
      },
      {
        "duration": 150,
        "start_time": "2022-09-19T18:17:08.920Z"
      },
      {
        "duration": 176,
        "start_time": "2022-09-19T18:17:09.072Z"
      },
      {
        "duration": 7,
        "start_time": "2022-09-19T18:17:09.249Z"
      },
      {
        "duration": 156,
        "start_time": "2022-09-19T18:17:09.258Z"
      },
      {
        "duration": 122,
        "start_time": "2022-09-19T18:17:09.416Z"
      },
      {
        "duration": 117,
        "start_time": "2022-09-19T18:17:09.539Z"
      },
      {
        "duration": 136,
        "start_time": "2022-09-19T18:17:09.658Z"
      },
      {
        "duration": 17,
        "start_time": "2022-09-19T18:17:09.797Z"
      },
      {
        "duration": 155,
        "start_time": "2022-09-19T18:17:09.815Z"
      },
      {
        "duration": 181,
        "start_time": "2022-09-19T18:17:09.972Z"
      },
      {
        "duration": 157,
        "start_time": "2022-09-19T18:17:10.154Z"
      },
      {
        "duration": 421,
        "start_time": "2022-09-19T18:17:10.312Z"
      },
      {
        "duration": 0,
        "start_time": "2022-09-19T18:17:10.734Z"
      },
      {
        "duration": 0,
        "start_time": "2022-09-19T18:17:10.736Z"
      },
      {
        "duration": 0,
        "start_time": "2022-09-19T18:17:10.737Z"
      },
      {
        "duration": 0,
        "start_time": "2022-09-19T18:17:10.738Z"
      },
      {
        "duration": 0,
        "start_time": "2022-09-19T18:17:10.739Z"
      },
      {
        "duration": 136,
        "start_time": "2022-09-19T18:17:28.460Z"
      },
      {
        "duration": 466,
        "start_time": "2022-09-19T18:18:43.383Z"
      },
      {
        "duration": 2365,
        "start_time": "2022-09-19T18:18:43.851Z"
      },
      {
        "duration": 11,
        "start_time": "2022-09-19T18:18:46.217Z"
      },
      {
        "duration": 8,
        "start_time": "2022-09-19T18:18:46.231Z"
      },
      {
        "duration": 7,
        "start_time": "2022-09-19T18:18:46.241Z"
      },
      {
        "duration": 10,
        "start_time": "2022-09-19T18:18:46.249Z"
      },
      {
        "duration": 53,
        "start_time": "2022-09-19T18:18:46.261Z"
      },
      {
        "duration": 126,
        "start_time": "2022-09-19T18:18:46.316Z"
      },
      {
        "duration": 192,
        "start_time": "2022-09-19T18:18:46.444Z"
      },
      {
        "duration": 0,
        "start_time": "2022-09-19T18:18:46.638Z"
      },
      {
        "duration": 0,
        "start_time": "2022-09-19T18:18:46.639Z"
      },
      {
        "duration": 0,
        "start_time": "2022-09-19T18:18:46.641Z"
      },
      {
        "duration": 0,
        "start_time": "2022-09-19T18:18:46.642Z"
      },
      {
        "duration": 0,
        "start_time": "2022-09-19T18:18:46.643Z"
      },
      {
        "duration": 0,
        "start_time": "2022-09-19T18:18:46.644Z"
      },
      {
        "duration": 0,
        "start_time": "2022-09-19T18:18:46.645Z"
      },
      {
        "duration": 0,
        "start_time": "2022-09-19T18:18:46.646Z"
      },
      {
        "duration": 0,
        "start_time": "2022-09-19T18:18:46.647Z"
      },
      {
        "duration": 0,
        "start_time": "2022-09-19T18:18:46.648Z"
      },
      {
        "duration": 0,
        "start_time": "2022-09-19T18:18:46.649Z"
      },
      {
        "duration": 0,
        "start_time": "2022-09-19T18:18:46.650Z"
      },
      {
        "duration": 0,
        "start_time": "2022-09-19T18:18:46.652Z"
      },
      {
        "duration": 0,
        "start_time": "2022-09-19T18:18:46.653Z"
      },
      {
        "duration": 0,
        "start_time": "2022-09-19T18:18:46.654Z"
      },
      {
        "duration": 0,
        "start_time": "2022-09-19T18:18:46.654Z"
      },
      {
        "duration": 0,
        "start_time": "2022-09-19T18:18:46.655Z"
      },
      {
        "duration": 0,
        "start_time": "2022-09-19T18:18:46.657Z"
      },
      {
        "duration": 0,
        "start_time": "2022-09-19T18:18:46.658Z"
      },
      {
        "duration": 0,
        "start_time": "2022-09-19T18:18:46.659Z"
      },
      {
        "duration": 0,
        "start_time": "2022-09-19T18:18:46.660Z"
      },
      {
        "duration": 0,
        "start_time": "2022-09-19T18:18:46.661Z"
      },
      {
        "duration": 0,
        "start_time": "2022-09-19T18:18:46.662Z"
      },
      {
        "duration": 0,
        "start_time": "2022-09-19T18:18:46.664Z"
      },
      {
        "duration": 0,
        "start_time": "2022-09-19T18:18:46.708Z"
      },
      {
        "duration": 0,
        "start_time": "2022-09-19T18:18:46.709Z"
      },
      {
        "duration": 0,
        "start_time": "2022-09-19T18:18:46.710Z"
      },
      {
        "duration": 0,
        "start_time": "2022-09-19T18:18:46.711Z"
      },
      {
        "duration": 367,
        "start_time": "2022-09-19T18:19:22.074Z"
      },
      {
        "duration": 2037,
        "start_time": "2022-09-19T18:19:22.443Z"
      },
      {
        "duration": 9,
        "start_time": "2022-09-19T18:19:24.482Z"
      },
      {
        "duration": 7,
        "start_time": "2022-09-19T18:19:24.493Z"
      },
      {
        "duration": 8,
        "start_time": "2022-09-19T18:19:24.502Z"
      },
      {
        "duration": 8,
        "start_time": "2022-09-19T18:19:24.512Z"
      },
      {
        "duration": 31,
        "start_time": "2022-09-19T18:19:24.522Z"
      },
      {
        "duration": 158,
        "start_time": "2022-09-19T18:19:24.555Z"
      },
      {
        "duration": 160,
        "start_time": "2022-09-19T18:19:24.714Z"
      },
      {
        "duration": 0,
        "start_time": "2022-09-19T18:19:24.876Z"
      },
      {
        "duration": 0,
        "start_time": "2022-09-19T18:19:24.877Z"
      },
      {
        "duration": 0,
        "start_time": "2022-09-19T18:19:24.878Z"
      },
      {
        "duration": 0,
        "start_time": "2022-09-19T18:19:24.879Z"
      },
      {
        "duration": 0,
        "start_time": "2022-09-19T18:19:24.880Z"
      },
      {
        "duration": 0,
        "start_time": "2022-09-19T18:19:24.881Z"
      },
      {
        "duration": 0,
        "start_time": "2022-09-19T18:19:24.882Z"
      },
      {
        "duration": 0,
        "start_time": "2022-09-19T18:19:24.883Z"
      },
      {
        "duration": 0,
        "start_time": "2022-09-19T18:19:24.884Z"
      },
      {
        "duration": 0,
        "start_time": "2022-09-19T18:19:24.885Z"
      },
      {
        "duration": 0,
        "start_time": "2022-09-19T18:19:24.886Z"
      },
      {
        "duration": 0,
        "start_time": "2022-09-19T18:19:24.887Z"
      },
      {
        "duration": 0,
        "start_time": "2022-09-19T18:19:24.909Z"
      },
      {
        "duration": 0,
        "start_time": "2022-09-19T18:19:24.910Z"
      },
      {
        "duration": 0,
        "start_time": "2022-09-19T18:19:24.911Z"
      },
      {
        "duration": 0,
        "start_time": "2022-09-19T18:19:24.912Z"
      },
      {
        "duration": 0,
        "start_time": "2022-09-19T18:19:24.913Z"
      },
      {
        "duration": 0,
        "start_time": "2022-09-19T18:19:24.914Z"
      },
      {
        "duration": 0,
        "start_time": "2022-09-19T18:19:24.915Z"
      },
      {
        "duration": 0,
        "start_time": "2022-09-19T18:19:24.916Z"
      },
      {
        "duration": 0,
        "start_time": "2022-09-19T18:19:24.917Z"
      },
      {
        "duration": 0,
        "start_time": "2022-09-19T18:19:24.918Z"
      },
      {
        "duration": 0,
        "start_time": "2022-09-19T18:19:24.919Z"
      },
      {
        "duration": 0,
        "start_time": "2022-09-19T18:19:24.919Z"
      },
      {
        "duration": 0,
        "start_time": "2022-09-19T18:19:24.920Z"
      },
      {
        "duration": 0,
        "start_time": "2022-09-19T18:19:24.921Z"
      },
      {
        "duration": 0,
        "start_time": "2022-09-19T18:19:24.922Z"
      },
      {
        "duration": 0,
        "start_time": "2022-09-19T18:19:24.923Z"
      },
      {
        "duration": 347,
        "start_time": "2022-09-19T18:19:51.459Z"
      },
      {
        "duration": 2063,
        "start_time": "2022-09-19T18:19:51.809Z"
      },
      {
        "duration": 8,
        "start_time": "2022-09-19T18:19:53.873Z"
      },
      {
        "duration": 33,
        "start_time": "2022-09-19T18:19:53.883Z"
      },
      {
        "duration": 21,
        "start_time": "2022-09-19T18:19:53.917Z"
      },
      {
        "duration": 7,
        "start_time": "2022-09-19T18:19:53.940Z"
      },
      {
        "duration": 39,
        "start_time": "2022-09-19T18:19:53.948Z"
      },
      {
        "duration": 139,
        "start_time": "2022-09-19T18:19:53.989Z"
      },
      {
        "duration": 185,
        "start_time": "2022-09-19T18:19:54.129Z"
      },
      {
        "duration": 4,
        "start_time": "2022-09-19T18:19:54.316Z"
      },
      {
        "duration": 151,
        "start_time": "2022-09-19T18:19:54.321Z"
      },
      {
        "duration": 13,
        "start_time": "2022-09-19T18:19:54.474Z"
      },
      {
        "duration": 10,
        "start_time": "2022-09-19T18:19:54.489Z"
      },
      {
        "duration": 557,
        "start_time": "2022-09-19T18:19:54.509Z"
      },
      {
        "duration": 3,
        "start_time": "2022-09-19T18:19:55.068Z"
      },
      {
        "duration": 177,
        "start_time": "2022-09-19T18:19:55.073Z"
      },
      {
        "duration": 132,
        "start_time": "2022-09-19T18:19:55.251Z"
      },
      {
        "duration": 125,
        "start_time": "2022-09-19T18:19:55.384Z"
      },
      {
        "duration": 128,
        "start_time": "2022-09-19T18:19:55.510Z"
      },
      {
        "duration": 145,
        "start_time": "2022-09-19T18:19:55.640Z"
      },
      {
        "duration": 143,
        "start_time": "2022-09-19T18:19:55.787Z"
      },
      {
        "duration": 179,
        "start_time": "2022-09-19T18:19:55.931Z"
      },
      {
        "duration": 7,
        "start_time": "2022-09-19T18:19:56.112Z"
      },
      {
        "duration": 156,
        "start_time": "2022-09-19T18:19:56.121Z"
      },
      {
        "duration": 132,
        "start_time": "2022-09-19T18:19:56.279Z"
      },
      {
        "duration": 136,
        "start_time": "2022-09-19T18:19:56.413Z"
      },
      {
        "duration": 141,
        "start_time": "2022-09-19T18:19:56.550Z"
      },
      {
        "duration": 22,
        "start_time": "2022-09-19T18:19:56.695Z"
      },
      {
        "duration": 165,
        "start_time": "2022-09-19T18:19:56.718Z"
      },
      {
        "duration": 191,
        "start_time": "2022-09-19T18:19:56.885Z"
      },
      {
        "duration": 158,
        "start_time": "2022-09-19T18:19:57.078Z"
      },
      {
        "duration": 449,
        "start_time": "2022-09-19T18:19:57.238Z"
      },
      {
        "duration": 0,
        "start_time": "2022-09-19T18:19:57.688Z"
      },
      {
        "duration": 0,
        "start_time": "2022-09-19T18:19:57.690Z"
      },
      {
        "duration": 0,
        "start_time": "2022-09-19T18:19:57.691Z"
      },
      {
        "duration": 0,
        "start_time": "2022-09-19T18:19:57.692Z"
      },
      {
        "duration": 0,
        "start_time": "2022-09-19T18:19:57.693Z"
      },
      {
        "duration": 12,
        "start_time": "2022-09-19T18:20:34.214Z"
      },
      {
        "duration": 4,
        "start_time": "2022-09-19T18:20:37.972Z"
      },
      {
        "duration": 110,
        "start_time": "2022-09-19T18:21:18.824Z"
      },
      {
        "duration": 50,
        "start_time": "2022-09-19T18:21:22.309Z"
      },
      {
        "duration": 517,
        "start_time": "2022-09-19T18:21:31.863Z"
      },
      {
        "duration": 177,
        "start_time": "2022-09-19T18:21:48.804Z"
      },
      {
        "duration": 186,
        "start_time": "2022-09-19T18:21:53.187Z"
      },
      {
        "duration": 347,
        "start_time": "2022-09-19T18:22:01.364Z"
      },
      {
        "duration": 1999,
        "start_time": "2022-09-19T18:22:01.713Z"
      },
      {
        "duration": 8,
        "start_time": "2022-09-19T18:22:03.713Z"
      },
      {
        "duration": 8,
        "start_time": "2022-09-19T18:22:03.723Z"
      },
      {
        "duration": 7,
        "start_time": "2022-09-19T18:22:03.732Z"
      },
      {
        "duration": 8,
        "start_time": "2022-09-19T18:22:03.740Z"
      },
      {
        "duration": 24,
        "start_time": "2022-09-19T18:22:03.750Z"
      },
      {
        "duration": 137,
        "start_time": "2022-09-19T18:22:03.775Z"
      },
      {
        "duration": 182,
        "start_time": "2022-09-19T18:22:03.913Z"
      },
      {
        "duration": 13,
        "start_time": "2022-09-19T18:22:04.096Z"
      },
      {
        "duration": 136,
        "start_time": "2022-09-19T18:22:04.110Z"
      },
      {
        "duration": 8,
        "start_time": "2022-09-19T18:22:04.248Z"
      },
      {
        "duration": 7,
        "start_time": "2022-09-19T18:22:04.258Z"
      },
      {
        "duration": 553,
        "start_time": "2022-09-19T18:22:04.268Z"
      },
      {
        "duration": 3,
        "start_time": "2022-09-19T18:22:04.823Z"
      },
      {
        "duration": 136,
        "start_time": "2022-09-19T18:22:04.828Z"
      },
      {
        "duration": 130,
        "start_time": "2022-09-19T18:22:04.965Z"
      },
      {
        "duration": 120,
        "start_time": "2022-09-19T18:22:05.096Z"
      },
      {
        "duration": 136,
        "start_time": "2022-09-19T18:22:05.218Z"
      },
      {
        "duration": 130,
        "start_time": "2022-09-19T18:22:05.355Z"
      },
      {
        "duration": 185,
        "start_time": "2022-09-19T18:22:05.486Z"
      },
      {
        "duration": 126,
        "start_time": "2022-09-19T18:22:05.672Z"
      },
      {
        "duration": 12,
        "start_time": "2022-09-19T18:22:05.800Z"
      },
      {
        "duration": 138,
        "start_time": "2022-09-19T18:22:05.814Z"
      },
      {
        "duration": 123,
        "start_time": "2022-09-19T18:22:05.954Z"
      },
      {
        "duration": 132,
        "start_time": "2022-09-19T18:22:06.079Z"
      },
      {
        "duration": 141,
        "start_time": "2022-09-19T18:22:06.212Z"
      },
      {
        "duration": 11,
        "start_time": "2022-09-19T18:22:06.355Z"
      },
      {
        "duration": 169,
        "start_time": "2022-09-19T18:22:06.367Z"
      },
      {
        "duration": 173,
        "start_time": "2022-09-19T18:22:06.538Z"
      },
      {
        "duration": 164,
        "start_time": "2022-09-19T18:22:06.712Z"
      },
      {
        "duration": 450,
        "start_time": "2022-09-19T18:22:06.877Z"
      },
      {
        "duration": 0,
        "start_time": "2022-09-19T18:22:07.328Z"
      },
      {
        "duration": 0,
        "start_time": "2022-09-19T18:22:07.330Z"
      },
      {
        "duration": 0,
        "start_time": "2022-09-19T18:22:07.331Z"
      },
      {
        "duration": 0,
        "start_time": "2022-09-19T18:22:07.331Z"
      },
      {
        "duration": 0,
        "start_time": "2022-09-19T18:22:07.332Z"
      },
      {
        "duration": 19,
        "start_time": "2022-09-19T18:22:56.818Z"
      },
      {
        "duration": 347,
        "start_time": "2022-09-19T18:23:17.547Z"
      },
      {
        "duration": 2009,
        "start_time": "2022-09-19T18:23:17.895Z"
      },
      {
        "duration": 8,
        "start_time": "2022-09-19T18:23:19.905Z"
      },
      {
        "duration": 6,
        "start_time": "2022-09-19T18:23:19.915Z"
      },
      {
        "duration": 7,
        "start_time": "2022-09-19T18:23:19.923Z"
      },
      {
        "duration": 6,
        "start_time": "2022-09-19T18:23:19.932Z"
      },
      {
        "duration": 30,
        "start_time": "2022-09-19T18:23:19.940Z"
      },
      {
        "duration": 143,
        "start_time": "2022-09-19T18:23:19.972Z"
      },
      {
        "duration": 17,
        "start_time": "2022-09-19T18:23:20.117Z"
      },
      {
        "duration": 4,
        "start_time": "2022-09-19T18:23:20.137Z"
      },
      {
        "duration": 93,
        "start_time": "2022-09-19T18:23:20.143Z"
      },
      {
        "duration": 10,
        "start_time": "2022-09-19T18:23:20.237Z"
      },
      {
        "duration": 10,
        "start_time": "2022-09-19T18:23:20.248Z"
      },
      {
        "duration": 488,
        "start_time": "2022-09-19T18:23:20.259Z"
      },
      {
        "duration": 3,
        "start_time": "2022-09-19T18:23:20.749Z"
      },
      {
        "duration": 209,
        "start_time": "2022-09-19T18:23:20.754Z"
      },
      {
        "duration": 129,
        "start_time": "2022-09-19T18:23:20.964Z"
      },
      {
        "duration": 117,
        "start_time": "2022-09-19T18:23:21.095Z"
      },
      {
        "duration": 131,
        "start_time": "2022-09-19T18:23:21.214Z"
      },
      {
        "duration": 149,
        "start_time": "2022-09-19T18:23:21.346Z"
      },
      {
        "duration": 155,
        "start_time": "2022-09-19T18:23:21.497Z"
      },
      {
        "duration": 142,
        "start_time": "2022-09-19T18:23:21.654Z"
      },
      {
        "duration": 11,
        "start_time": "2022-09-19T18:23:21.798Z"
      },
      {
        "duration": 160,
        "start_time": "2022-09-19T18:23:21.811Z"
      },
      {
        "duration": 121,
        "start_time": "2022-09-19T18:23:21.973Z"
      },
      {
        "duration": 123,
        "start_time": "2022-09-19T18:23:22.096Z"
      },
      {
        "duration": 145,
        "start_time": "2022-09-19T18:23:22.220Z"
      },
      {
        "duration": 11,
        "start_time": "2022-09-19T18:23:22.368Z"
      },
      {
        "duration": 246,
        "start_time": "2022-09-19T18:23:22.380Z"
      },
      {
        "duration": 181,
        "start_time": "2022-09-19T18:23:22.628Z"
      },
      {
        "duration": 174,
        "start_time": "2022-09-19T18:23:22.810Z"
      },
      {
        "duration": 170,
        "start_time": "2022-09-19T18:23:22.985Z"
      },
      {
        "duration": 27,
        "start_time": "2022-09-19T18:23:23.156Z"
      },
      {
        "duration": 44,
        "start_time": "2022-09-19T18:23:23.184Z"
      },
      {
        "duration": 40,
        "start_time": "2022-09-19T18:23:23.230Z"
      },
      {
        "duration": 153,
        "start_time": "2022-09-19T18:23:23.272Z"
      },
      {
        "duration": 96,
        "start_time": "2022-09-19T18:23:23.426Z"
      },
      {
        "duration": 12,
        "start_time": "2022-09-19T18:25:04.513Z"
      },
      {
        "duration": 9,
        "start_time": "2022-09-19T18:25:08.166Z"
      },
      {
        "duration": 27,
        "start_time": "2022-09-19T18:25:16.119Z"
      },
      {
        "duration": 20,
        "start_time": "2022-09-19T18:25:20.958Z"
      },
      {
        "duration": 163,
        "start_time": "2022-09-19T18:25:37.551Z"
      },
      {
        "duration": 181,
        "start_time": "2022-09-19T18:25:39.892Z"
      },
      {
        "duration": 126,
        "start_time": "2022-09-19T18:25:43.008Z"
      },
      {
        "duration": 158,
        "start_time": "2022-09-19T18:25:49.978Z"
      },
      {
        "duration": 24,
        "start_time": "2022-09-19T18:26:12.123Z"
      },
      {
        "duration": 14,
        "start_time": "2022-09-19T18:29:01.645Z"
      },
      {
        "duration": 80,
        "start_time": "2022-09-19T18:29:18.129Z"
      },
      {
        "duration": 361,
        "start_time": "2022-09-19T18:29:36.367Z"
      },
      {
        "duration": 2074,
        "start_time": "2022-09-19T18:29:36.730Z"
      },
      {
        "duration": 9,
        "start_time": "2022-09-19T18:29:38.805Z"
      },
      {
        "duration": 9,
        "start_time": "2022-09-19T18:29:38.816Z"
      },
      {
        "duration": 6,
        "start_time": "2022-09-19T18:29:38.827Z"
      },
      {
        "duration": 9,
        "start_time": "2022-09-19T18:29:38.834Z"
      },
      {
        "duration": 24,
        "start_time": "2022-09-19T18:29:38.845Z"
      },
      {
        "duration": 156,
        "start_time": "2022-09-19T18:29:38.870Z"
      },
      {
        "duration": 15,
        "start_time": "2022-09-19T18:29:39.028Z"
      },
      {
        "duration": 5769,
        "start_time": "2022-09-19T18:29:39.045Z"
      },
      {
        "duration": 0,
        "start_time": "2022-09-19T18:29:44.816Z"
      },
      {
        "duration": 0,
        "start_time": "2022-09-19T18:29:44.817Z"
      },
      {
        "duration": 0,
        "start_time": "2022-09-19T18:29:44.818Z"
      },
      {
        "duration": 0,
        "start_time": "2022-09-19T18:29:44.819Z"
      },
      {
        "duration": 0,
        "start_time": "2022-09-19T18:29:44.820Z"
      },
      {
        "duration": 0,
        "start_time": "2022-09-19T18:29:44.822Z"
      },
      {
        "duration": 0,
        "start_time": "2022-09-19T18:29:44.823Z"
      },
      {
        "duration": 0,
        "start_time": "2022-09-19T18:29:44.824Z"
      },
      {
        "duration": 0,
        "start_time": "2022-09-19T18:29:44.826Z"
      },
      {
        "duration": 0,
        "start_time": "2022-09-19T18:29:44.827Z"
      },
      {
        "duration": 0,
        "start_time": "2022-09-19T18:29:44.828Z"
      },
      {
        "duration": 0,
        "start_time": "2022-09-19T18:29:44.830Z"
      },
      {
        "duration": 0,
        "start_time": "2022-09-19T18:29:44.831Z"
      },
      {
        "duration": 0,
        "start_time": "2022-09-19T18:29:44.832Z"
      },
      {
        "duration": 0,
        "start_time": "2022-09-19T18:29:44.833Z"
      },
      {
        "duration": 0,
        "start_time": "2022-09-19T18:29:44.834Z"
      },
      {
        "duration": 0,
        "start_time": "2022-09-19T18:29:44.835Z"
      },
      {
        "duration": 0,
        "start_time": "2022-09-19T18:29:44.837Z"
      },
      {
        "duration": 0,
        "start_time": "2022-09-19T18:29:44.838Z"
      },
      {
        "duration": 0,
        "start_time": "2022-09-19T18:29:44.839Z"
      },
      {
        "duration": 0,
        "start_time": "2022-09-19T18:29:44.840Z"
      },
      {
        "duration": 0,
        "start_time": "2022-09-19T18:29:44.842Z"
      },
      {
        "duration": 0,
        "start_time": "2022-09-19T18:29:44.843Z"
      },
      {
        "duration": 0,
        "start_time": "2022-09-19T18:29:44.844Z"
      },
      {
        "duration": 0,
        "start_time": "2022-09-19T18:29:44.845Z"
      },
      {
        "duration": 0,
        "start_time": "2022-09-19T18:29:44.847Z"
      },
      {
        "duration": 0,
        "start_time": "2022-09-19T18:29:44.848Z"
      },
      {
        "duration": 1290,
        "start_time": "2022-09-19T18:30:19.804Z"
      },
      {
        "duration": 1199,
        "start_time": "2022-09-19T18:30:47.339Z"
      },
      {
        "duration": 1043,
        "start_time": "2022-09-19T18:30:50.131Z"
      },
      {
        "duration": 374,
        "start_time": "2022-09-19T18:30:56.890Z"
      },
      {
        "duration": 2037,
        "start_time": "2022-09-19T18:30:57.267Z"
      },
      {
        "duration": 7,
        "start_time": "2022-09-19T18:30:59.306Z"
      },
      {
        "duration": 9,
        "start_time": "2022-09-19T18:30:59.315Z"
      },
      {
        "duration": 6,
        "start_time": "2022-09-19T18:30:59.325Z"
      },
      {
        "duration": 7,
        "start_time": "2022-09-19T18:30:59.332Z"
      },
      {
        "duration": 35,
        "start_time": "2022-09-19T18:30:59.341Z"
      },
      {
        "duration": 193,
        "start_time": "2022-09-19T18:30:59.378Z"
      },
      {
        "duration": 15,
        "start_time": "2022-09-19T18:30:59.573Z"
      },
      {
        "duration": 1840,
        "start_time": "2022-09-19T18:30:59.591Z"
      },
      {
        "duration": 0,
        "start_time": "2022-09-19T18:31:01.433Z"
      },
      {
        "duration": 0,
        "start_time": "2022-09-19T18:31:01.434Z"
      },
      {
        "duration": 0,
        "start_time": "2022-09-19T18:31:01.435Z"
      },
      {
        "duration": 0,
        "start_time": "2022-09-19T18:31:01.437Z"
      },
      {
        "duration": 0,
        "start_time": "2022-09-19T18:31:01.438Z"
      },
      {
        "duration": 0,
        "start_time": "2022-09-19T18:31:01.439Z"
      },
      {
        "duration": 0,
        "start_time": "2022-09-19T18:31:01.440Z"
      },
      {
        "duration": 0,
        "start_time": "2022-09-19T18:31:01.441Z"
      },
      {
        "duration": 0,
        "start_time": "2022-09-19T18:31:01.442Z"
      },
      {
        "duration": 0,
        "start_time": "2022-09-19T18:31:01.443Z"
      },
      {
        "duration": 0,
        "start_time": "2022-09-19T18:31:01.444Z"
      },
      {
        "duration": 0,
        "start_time": "2022-09-19T18:31:01.444Z"
      },
      {
        "duration": 0,
        "start_time": "2022-09-19T18:31:01.445Z"
      },
      {
        "duration": 0,
        "start_time": "2022-09-19T18:31:01.446Z"
      },
      {
        "duration": 0,
        "start_time": "2022-09-19T18:31:01.446Z"
      },
      {
        "duration": 0,
        "start_time": "2022-09-19T18:31:01.447Z"
      },
      {
        "duration": 0,
        "start_time": "2022-09-19T18:31:01.449Z"
      },
      {
        "duration": 0,
        "start_time": "2022-09-19T18:31:01.450Z"
      },
      {
        "duration": 0,
        "start_time": "2022-09-19T18:31:01.451Z"
      },
      {
        "duration": 0,
        "start_time": "2022-09-19T18:31:01.452Z"
      },
      {
        "duration": 0,
        "start_time": "2022-09-19T18:31:01.453Z"
      },
      {
        "duration": 0,
        "start_time": "2022-09-19T18:31:01.455Z"
      },
      {
        "duration": 0,
        "start_time": "2022-09-19T18:31:01.455Z"
      },
      {
        "duration": 0,
        "start_time": "2022-09-19T18:31:01.456Z"
      },
      {
        "duration": 0,
        "start_time": "2022-09-19T18:31:01.458Z"
      },
      {
        "duration": 0,
        "start_time": "2022-09-19T18:31:01.459Z"
      },
      {
        "duration": 1,
        "start_time": "2022-09-19T18:31:01.459Z"
      },
      {
        "duration": 10,
        "start_time": "2022-09-19T18:31:18.330Z"
      },
      {
        "duration": 720,
        "start_time": "2022-09-19T18:31:23.297Z"
      },
      {
        "duration": 4,
        "start_time": "2022-09-19T18:31:33.805Z"
      },
      {
        "duration": 3,
        "start_time": "2022-09-19T18:31:36.108Z"
      },
      {
        "duration": 1085,
        "start_time": "2022-09-19T18:31:40.437Z"
      },
      {
        "duration": 1790,
        "start_time": "2022-09-19T18:31:52.632Z"
      },
      {
        "duration": 9,
        "start_time": "2022-09-19T18:31:58.652Z"
      },
      {
        "duration": 10,
        "start_time": "2022-09-19T18:32:03.722Z"
      },
      {
        "duration": 7,
        "start_time": "2022-09-19T18:32:06.910Z"
      },
      {
        "duration": 7,
        "start_time": "2022-09-19T18:32:09.109Z"
      },
      {
        "duration": 7,
        "start_time": "2022-09-19T18:32:24.114Z"
      },
      {
        "duration": 9,
        "start_time": "2022-09-19T18:32:27.821Z"
      },
      {
        "duration": 9,
        "start_time": "2022-09-19T18:32:30.425Z"
      },
      {
        "duration": 22,
        "start_time": "2022-09-19T18:32:34.851Z"
      },
      {
        "duration": 133,
        "start_time": "2022-09-19T18:32:39.561Z"
      },
      {
        "duration": 13,
        "start_time": "2022-09-19T18:32:42.338Z"
      },
      {
        "duration": 10,
        "start_time": "2022-09-19T18:32:45.119Z"
      },
      {
        "duration": 435,
        "start_time": "2022-09-19T18:32:51.217Z"
      },
      {
        "duration": 2058,
        "start_time": "2022-09-19T18:32:51.654Z"
      },
      {
        "duration": 7,
        "start_time": "2022-09-19T18:32:53.714Z"
      },
      {
        "duration": 10,
        "start_time": "2022-09-19T18:32:53.723Z"
      },
      {
        "duration": 6,
        "start_time": "2022-09-19T18:32:53.734Z"
      },
      {
        "duration": 11,
        "start_time": "2022-09-19T18:32:53.741Z"
      },
      {
        "duration": 23,
        "start_time": "2022-09-19T18:32:53.754Z"
      },
      {
        "duration": 138,
        "start_time": "2022-09-19T18:32:53.778Z"
      },
      {
        "duration": 14,
        "start_time": "2022-09-19T18:32:53.918Z"
      },
      {
        "duration": 929,
        "start_time": "2022-09-19T18:32:53.934Z"
      },
      {
        "duration": 0,
        "start_time": "2022-09-19T18:32:54.866Z"
      },
      {
        "duration": 0,
        "start_time": "2022-09-19T18:32:54.867Z"
      },
      {
        "duration": 0,
        "start_time": "2022-09-19T18:32:54.869Z"
      },
      {
        "duration": 0,
        "start_time": "2022-09-19T18:32:54.870Z"
      },
      {
        "duration": 0,
        "start_time": "2022-09-19T18:32:54.871Z"
      },
      {
        "duration": 0,
        "start_time": "2022-09-19T18:32:54.872Z"
      },
      {
        "duration": 0,
        "start_time": "2022-09-19T18:32:54.873Z"
      },
      {
        "duration": 0,
        "start_time": "2022-09-19T18:32:54.875Z"
      },
      {
        "duration": 0,
        "start_time": "2022-09-19T18:32:54.876Z"
      },
      {
        "duration": 0,
        "start_time": "2022-09-19T18:32:54.878Z"
      },
      {
        "duration": 0,
        "start_time": "2022-09-19T18:32:54.880Z"
      },
      {
        "duration": 0,
        "start_time": "2022-09-19T18:32:54.881Z"
      },
      {
        "duration": 0,
        "start_time": "2022-09-19T18:32:54.882Z"
      },
      {
        "duration": 0,
        "start_time": "2022-09-19T18:32:54.884Z"
      },
      {
        "duration": 0,
        "start_time": "2022-09-19T18:32:54.885Z"
      },
      {
        "duration": 0,
        "start_time": "2022-09-19T18:32:54.886Z"
      },
      {
        "duration": 0,
        "start_time": "2022-09-19T18:32:54.887Z"
      },
      {
        "duration": 0,
        "start_time": "2022-09-19T18:32:54.888Z"
      },
      {
        "duration": 0,
        "start_time": "2022-09-19T18:32:54.890Z"
      },
      {
        "duration": 0,
        "start_time": "2022-09-19T18:32:54.891Z"
      },
      {
        "duration": 0,
        "start_time": "2022-09-19T18:32:54.892Z"
      },
      {
        "duration": 0,
        "start_time": "2022-09-19T18:32:54.893Z"
      },
      {
        "duration": 0,
        "start_time": "2022-09-19T18:32:54.894Z"
      },
      {
        "duration": 0,
        "start_time": "2022-09-19T18:32:54.895Z"
      },
      {
        "duration": 0,
        "start_time": "2022-09-19T18:32:54.896Z"
      },
      {
        "duration": 0,
        "start_time": "2022-09-19T18:32:54.897Z"
      },
      {
        "duration": 0,
        "start_time": "2022-09-19T18:32:54.898Z"
      },
      {
        "duration": 11,
        "start_time": "2022-09-19T18:33:44.996Z"
      },
      {
        "duration": 428,
        "start_time": "2022-09-19T18:33:53.257Z"
      },
      {
        "duration": 2117,
        "start_time": "2022-09-19T18:33:53.687Z"
      },
      {
        "duration": 7,
        "start_time": "2022-09-19T18:33:55.806Z"
      },
      {
        "duration": 9,
        "start_time": "2022-09-19T18:33:55.815Z"
      },
      {
        "duration": 7,
        "start_time": "2022-09-19T18:33:55.825Z"
      },
      {
        "duration": 20,
        "start_time": "2022-09-19T18:33:55.833Z"
      },
      {
        "duration": 26,
        "start_time": "2022-09-19T18:33:55.855Z"
      },
      {
        "duration": 135,
        "start_time": "2022-09-19T18:33:55.883Z"
      },
      {
        "duration": 18,
        "start_time": "2022-09-19T18:33:56.020Z"
      },
      {
        "duration": 4,
        "start_time": "2022-09-19T18:33:56.040Z"
      },
      {
        "duration": 89,
        "start_time": "2022-09-19T18:33:56.046Z"
      },
      {
        "duration": 8,
        "start_time": "2022-09-19T18:33:56.137Z"
      },
      {
        "duration": 6,
        "start_time": "2022-09-19T18:33:56.147Z"
      },
      {
        "duration": 555,
        "start_time": "2022-09-19T18:33:56.154Z"
      },
      {
        "duration": 4,
        "start_time": "2022-09-19T18:33:56.712Z"
      },
      {
        "duration": 188,
        "start_time": "2022-09-19T18:33:56.718Z"
      },
      {
        "duration": 128,
        "start_time": "2022-09-19T18:33:56.907Z"
      },
      {
        "duration": 122,
        "start_time": "2022-09-19T18:33:57.036Z"
      },
      {
        "duration": 139,
        "start_time": "2022-09-19T18:33:57.160Z"
      },
      {
        "duration": 142,
        "start_time": "2022-09-19T18:33:57.301Z"
      },
      {
        "duration": 141,
        "start_time": "2022-09-19T18:33:57.444Z"
      },
      {
        "duration": 136,
        "start_time": "2022-09-19T18:33:57.587Z"
      },
      {
        "duration": 6,
        "start_time": "2022-09-19T18:33:57.725Z"
      },
      {
        "duration": 149,
        "start_time": "2022-09-19T18:33:57.733Z"
      },
      {
        "duration": 128,
        "start_time": "2022-09-19T18:33:57.883Z"
      },
      {
        "duration": 133,
        "start_time": "2022-09-19T18:33:58.013Z"
      },
      {
        "duration": 141,
        "start_time": "2022-09-19T18:33:58.147Z"
      },
      {
        "duration": 18,
        "start_time": "2022-09-19T18:33:58.291Z"
      },
      {
        "duration": 233,
        "start_time": "2022-09-19T18:33:58.310Z"
      },
      {
        "duration": 178,
        "start_time": "2022-09-19T18:33:58.544Z"
      },
      {
        "duration": 181,
        "start_time": "2022-09-19T18:33:58.723Z"
      },
      {
        "duration": 174,
        "start_time": "2022-09-19T18:33:58.906Z"
      },
      {
        "duration": 37,
        "start_time": "2022-09-19T18:33:59.082Z"
      },
      {
        "duration": 26,
        "start_time": "2022-09-19T18:33:59.121Z"
      },
      {
        "duration": 69,
        "start_time": "2022-09-19T18:33:59.149Z"
      },
      {
        "duration": 158,
        "start_time": "2022-09-19T18:33:59.220Z"
      },
      {
        "duration": 86,
        "start_time": "2022-09-19T18:33:59.380Z"
      },
      {
        "duration": 31,
        "start_time": "2022-09-19T18:39:35.560Z"
      },
      {
        "duration": 425,
        "start_time": "2022-09-19T18:39:45.513Z"
      },
      {
        "duration": 2256,
        "start_time": "2022-09-19T18:39:45.940Z"
      },
      {
        "duration": 9,
        "start_time": "2022-09-19T18:39:48.197Z"
      },
      {
        "duration": 14,
        "start_time": "2022-09-19T18:39:48.208Z"
      },
      {
        "duration": 7,
        "start_time": "2022-09-19T18:39:48.223Z"
      },
      {
        "duration": 18,
        "start_time": "2022-09-19T18:39:48.232Z"
      },
      {
        "duration": 35,
        "start_time": "2022-09-19T18:39:48.253Z"
      },
      {
        "duration": 200,
        "start_time": "2022-09-19T18:39:48.290Z"
      },
      {
        "duration": 76,
        "start_time": "2022-09-19T18:39:48.492Z"
      },
      {
        "duration": 3,
        "start_time": "2022-09-19T18:39:48.571Z"
      },
      {
        "duration": 98,
        "start_time": "2022-09-19T18:39:48.576Z"
      },
      {
        "duration": 9,
        "start_time": "2022-09-19T18:39:48.676Z"
      },
      {
        "duration": 8,
        "start_time": "2022-09-19T18:39:48.686Z"
      },
      {
        "duration": 484,
        "start_time": "2022-09-19T18:39:48.696Z"
      },
      {
        "duration": 5,
        "start_time": "2022-09-19T18:39:49.181Z"
      },
      {
        "duration": 222,
        "start_time": "2022-09-19T18:39:49.187Z"
      },
      {
        "duration": 135,
        "start_time": "2022-09-19T18:39:49.410Z"
      },
      {
        "duration": 132,
        "start_time": "2022-09-19T18:39:49.547Z"
      },
      {
        "duration": 148,
        "start_time": "2022-09-19T18:39:49.681Z"
      },
      {
        "duration": 144,
        "start_time": "2022-09-19T18:39:49.830Z"
      },
      {
        "duration": 151,
        "start_time": "2022-09-19T18:39:49.976Z"
      },
      {
        "duration": 133,
        "start_time": "2022-09-19T18:39:50.129Z"
      },
      {
        "duration": 7,
        "start_time": "2022-09-19T18:39:50.264Z"
      },
      {
        "duration": 159,
        "start_time": "2022-09-19T18:39:50.273Z"
      },
      {
        "duration": 129,
        "start_time": "2022-09-19T18:39:50.434Z"
      },
      {
        "duration": 133,
        "start_time": "2022-09-19T18:39:50.565Z"
      },
      {
        "duration": 149,
        "start_time": "2022-09-19T18:39:50.708Z"
      },
      {
        "duration": 15,
        "start_time": "2022-09-19T18:39:50.862Z"
      },
      {
        "duration": 256,
        "start_time": "2022-09-19T18:39:50.879Z"
      },
      {
        "duration": 186,
        "start_time": "2022-09-19T18:39:51.136Z"
      },
      {
        "duration": 180,
        "start_time": "2022-09-19T18:39:51.324Z"
      },
      {
        "duration": 178,
        "start_time": "2022-09-19T18:39:51.506Z"
      },
      {
        "duration": 34,
        "start_time": "2022-09-19T18:39:51.686Z"
      },
      {
        "duration": 29,
        "start_time": "2022-09-19T18:39:51.722Z"
      },
      {
        "duration": 87,
        "start_time": "2022-09-19T18:39:51.753Z"
      },
      {
        "duration": 155,
        "start_time": "2022-09-19T18:39:51.842Z"
      },
      {
        "duration": 88,
        "start_time": "2022-09-19T18:39:52.000Z"
      },
      {
        "duration": 19,
        "start_time": "2022-09-19T18:40:26.482Z"
      },
      {
        "duration": 446,
        "start_time": "2022-09-19T18:40:34.085Z"
      },
      {
        "duration": 2138,
        "start_time": "2022-09-19T18:40:34.534Z"
      },
      {
        "duration": 7,
        "start_time": "2022-09-19T18:40:36.674Z"
      },
      {
        "duration": 16,
        "start_time": "2022-09-19T18:40:36.683Z"
      },
      {
        "duration": 7,
        "start_time": "2022-09-19T18:40:36.701Z"
      },
      {
        "duration": 7,
        "start_time": "2022-09-19T18:40:36.709Z"
      },
      {
        "duration": 25,
        "start_time": "2022-09-19T18:40:36.717Z"
      },
      {
        "duration": 143,
        "start_time": "2022-09-19T18:40:36.743Z"
      },
      {
        "duration": 24,
        "start_time": "2022-09-19T18:40:36.888Z"
      },
      {
        "duration": 4,
        "start_time": "2022-09-19T18:40:36.915Z"
      },
      {
        "duration": 60,
        "start_time": "2022-09-19T18:40:36.920Z"
      },
      {
        "duration": 27,
        "start_time": "2022-09-19T18:40:36.982Z"
      },
      {
        "duration": 6,
        "start_time": "2022-09-19T18:40:37.010Z"
      },
      {
        "duration": 409,
        "start_time": "2022-09-19T18:40:37.017Z"
      },
      {
        "duration": 4,
        "start_time": "2022-09-19T18:40:37.428Z"
      },
      {
        "duration": 135,
        "start_time": "2022-09-19T18:40:37.433Z"
      },
      {
        "duration": 205,
        "start_time": "2022-09-19T18:40:37.570Z"
      },
      {
        "duration": 133,
        "start_time": "2022-09-19T18:40:37.777Z"
      },
      {
        "duration": 131,
        "start_time": "2022-09-19T18:40:37.912Z"
      },
      {
        "duration": 136,
        "start_time": "2022-09-19T18:40:38.045Z"
      },
      {
        "duration": 140,
        "start_time": "2022-09-19T18:40:38.182Z"
      },
      {
        "duration": 123,
        "start_time": "2022-09-19T18:40:38.323Z"
      },
      {
        "duration": 6,
        "start_time": "2022-09-19T18:40:38.447Z"
      },
      {
        "duration": 146,
        "start_time": "2022-09-19T18:40:38.454Z"
      },
      {
        "duration": 135,
        "start_time": "2022-09-19T18:40:38.609Z"
      },
      {
        "duration": 132,
        "start_time": "2022-09-19T18:40:38.746Z"
      },
      {
        "duration": 145,
        "start_time": "2022-09-19T18:40:38.879Z"
      },
      {
        "duration": 9,
        "start_time": "2022-09-19T18:40:39.027Z"
      },
      {
        "duration": 175,
        "start_time": "2022-09-19T18:40:39.037Z"
      },
      {
        "duration": 229,
        "start_time": "2022-09-19T18:40:39.214Z"
      },
      {
        "duration": 175,
        "start_time": "2022-09-19T18:40:39.445Z"
      },
      {
        "duration": 163,
        "start_time": "2022-09-19T18:40:39.622Z"
      },
      {
        "duration": 31,
        "start_time": "2022-09-19T18:40:39.788Z"
      },
      {
        "duration": 25,
        "start_time": "2022-09-19T18:40:39.821Z"
      },
      {
        "duration": 64,
        "start_time": "2022-09-19T18:40:39.848Z"
      },
      {
        "duration": 161,
        "start_time": "2022-09-19T18:40:39.914Z"
      },
      {
        "duration": 86,
        "start_time": "2022-09-19T18:40:40.076Z"
      },
      {
        "duration": 9,
        "start_time": "2022-09-19T18:41:28.537Z"
      },
      {
        "duration": 3,
        "start_time": "2022-09-19T18:41:48.502Z"
      },
      {
        "duration": 8,
        "start_time": "2022-09-19T18:41:49.977Z"
      },
      {
        "duration": 351,
        "start_time": "2022-09-19T18:47:32.651Z"
      },
      {
        "duration": 2068,
        "start_time": "2022-09-19T18:47:33.004Z"
      },
      {
        "duration": 9,
        "start_time": "2022-09-19T18:47:35.073Z"
      },
      {
        "duration": 10,
        "start_time": "2022-09-19T18:47:35.083Z"
      },
      {
        "duration": 5,
        "start_time": "2022-09-19T18:47:35.094Z"
      },
      {
        "duration": 8,
        "start_time": "2022-09-19T18:47:35.101Z"
      },
      {
        "duration": 24,
        "start_time": "2022-09-19T18:47:35.110Z"
      },
      {
        "duration": 134,
        "start_time": "2022-09-19T18:47:35.135Z"
      },
      {
        "duration": 19,
        "start_time": "2022-09-19T18:47:35.271Z"
      },
      {
        "duration": 17,
        "start_time": "2022-09-19T18:47:35.294Z"
      },
      {
        "duration": 60,
        "start_time": "2022-09-19T18:47:35.313Z"
      },
      {
        "duration": 8,
        "start_time": "2022-09-19T18:47:35.374Z"
      },
      {
        "duration": 8,
        "start_time": "2022-09-19T18:47:35.383Z"
      },
      {
        "duration": 392,
        "start_time": "2022-09-19T18:47:35.392Z"
      },
      {
        "duration": 3,
        "start_time": "2022-09-19T18:47:35.785Z"
      },
      {
        "duration": 128,
        "start_time": "2022-09-19T18:47:35.789Z"
      },
      {
        "duration": 211,
        "start_time": "2022-09-19T18:47:35.919Z"
      },
      {
        "duration": 115,
        "start_time": "2022-09-19T18:47:36.131Z"
      },
      {
        "duration": 124,
        "start_time": "2022-09-19T18:47:36.248Z"
      },
      {
        "duration": 133,
        "start_time": "2022-09-19T18:47:36.373Z"
      },
      {
        "duration": 143,
        "start_time": "2022-09-19T18:47:36.508Z"
      },
      {
        "duration": 125,
        "start_time": "2022-09-19T18:47:36.653Z"
      },
      {
        "duration": 6,
        "start_time": "2022-09-19T18:47:36.779Z"
      },
      {
        "duration": 156,
        "start_time": "2022-09-19T18:47:36.786Z"
      },
      {
        "duration": 137,
        "start_time": "2022-09-19T18:47:36.944Z"
      },
      {
        "duration": 130,
        "start_time": "2022-09-19T18:47:37.082Z"
      },
      {
        "duration": 139,
        "start_time": "2022-09-19T18:47:37.213Z"
      },
      {
        "duration": 10,
        "start_time": "2022-09-19T18:47:37.355Z"
      },
      {
        "duration": 179,
        "start_time": "2022-09-19T18:47:37.366Z"
      },
      {
        "duration": 240,
        "start_time": "2022-09-19T18:47:37.546Z"
      },
      {
        "duration": 166,
        "start_time": "2022-09-19T18:47:37.788Z"
      },
      {
        "duration": 171,
        "start_time": "2022-09-19T18:47:37.955Z"
      },
      {
        "duration": 23,
        "start_time": "2022-09-19T18:47:38.127Z"
      },
      {
        "duration": 23,
        "start_time": "2022-09-19T18:47:38.152Z"
      },
      {
        "duration": 59,
        "start_time": "2022-09-19T18:47:38.176Z"
      },
      {
        "duration": 160,
        "start_time": "2022-09-19T18:47:38.237Z"
      },
      {
        "duration": 72,
        "start_time": "2022-09-19T18:47:38.399Z"
      },
      {
        "duration": 422,
        "start_time": "2022-09-19T19:34:48.122Z"
      },
      {
        "duration": 2970,
        "start_time": "2022-09-19T19:34:48.546Z"
      },
      {
        "duration": 10,
        "start_time": "2022-09-19T19:34:51.519Z"
      },
      {
        "duration": 15,
        "start_time": "2022-09-19T19:34:51.530Z"
      },
      {
        "duration": 7,
        "start_time": "2022-09-19T19:34:51.547Z"
      },
      {
        "duration": 14,
        "start_time": "2022-09-19T19:34:51.556Z"
      },
      {
        "duration": 36,
        "start_time": "2022-09-19T19:34:51.571Z"
      },
      {
        "duration": 134,
        "start_time": "2022-09-19T19:34:51.611Z"
      },
      {
        "duration": 21,
        "start_time": "2022-09-19T19:34:51.746Z"
      },
      {
        "duration": 30,
        "start_time": "2022-09-19T19:34:51.769Z"
      },
      {
        "duration": 76,
        "start_time": "2022-09-19T19:34:51.808Z"
      },
      {
        "duration": 21,
        "start_time": "2022-09-19T19:34:51.886Z"
      },
      {
        "duration": 23,
        "start_time": "2022-09-19T19:34:51.912Z"
      },
      {
        "duration": 542,
        "start_time": "2022-09-19T19:34:51.939Z"
      },
      {
        "duration": 13,
        "start_time": "2022-09-19T19:34:52.483Z"
      },
      {
        "duration": 261,
        "start_time": "2022-09-19T19:34:52.497Z"
      },
      {
        "duration": 179,
        "start_time": "2022-09-19T19:34:52.760Z"
      },
      {
        "duration": 149,
        "start_time": "2022-09-19T19:34:52.941Z"
      },
      {
        "duration": 144,
        "start_time": "2022-09-19T19:34:53.102Z"
      },
      {
        "duration": 192,
        "start_time": "2022-09-19T19:34:53.248Z"
      },
      {
        "duration": 199,
        "start_time": "2022-09-19T19:34:53.442Z"
      },
      {
        "duration": 177,
        "start_time": "2022-09-19T19:34:53.643Z"
      },
      {
        "duration": 7,
        "start_time": "2022-09-19T19:34:53.822Z"
      },
      {
        "duration": 189,
        "start_time": "2022-09-19T19:34:53.830Z"
      },
      {
        "duration": 182,
        "start_time": "2022-09-19T19:34:54.022Z"
      },
      {
        "duration": 158,
        "start_time": "2022-09-19T19:34:54.207Z"
      },
      {
        "duration": 182,
        "start_time": "2022-09-19T19:34:54.367Z"
      },
      {
        "duration": 10,
        "start_time": "2022-09-19T19:34:54.551Z"
      },
      {
        "duration": 310,
        "start_time": "2022-09-19T19:34:54.563Z"
      },
      {
        "duration": 208,
        "start_time": "2022-09-19T19:34:54.875Z"
      },
      {
        "duration": 234,
        "start_time": "2022-09-19T19:34:55.085Z"
      },
      {
        "duration": 223,
        "start_time": "2022-09-19T19:34:55.323Z"
      },
      {
        "duration": 44,
        "start_time": "2022-09-19T19:34:55.548Z"
      },
      {
        "duration": 42,
        "start_time": "2022-09-19T19:34:55.601Z"
      },
      {
        "duration": 46,
        "start_time": "2022-09-19T19:34:55.644Z"
      },
      {
        "duration": 196,
        "start_time": "2022-09-19T19:34:55.695Z"
      },
      {
        "duration": 99,
        "start_time": "2022-09-19T19:34:55.896Z"
      },
      {
        "duration": 386,
        "start_time": "2022-09-19T19:35:37.516Z"
      },
      {
        "duration": 3214,
        "start_time": "2022-09-19T19:35:37.904Z"
      },
      {
        "duration": 11,
        "start_time": "2022-09-19T19:35:41.121Z"
      },
      {
        "duration": 15,
        "start_time": "2022-09-19T19:35:41.134Z"
      },
      {
        "duration": 10,
        "start_time": "2022-09-19T19:35:41.150Z"
      },
      {
        "duration": 11,
        "start_time": "2022-09-19T19:35:41.161Z"
      },
      {
        "duration": 55,
        "start_time": "2022-09-19T19:35:41.174Z"
      },
      {
        "duration": 168,
        "start_time": "2022-09-19T19:35:41.231Z"
      },
      {
        "duration": 26,
        "start_time": "2022-09-19T19:35:41.406Z"
      },
      {
        "duration": 4,
        "start_time": "2022-09-19T19:35:41.435Z"
      },
      {
        "duration": 76,
        "start_time": "2022-09-19T19:35:41.441Z"
      },
      {
        "duration": 14,
        "start_time": "2022-09-19T19:35:41.520Z"
      },
      {
        "duration": 10,
        "start_time": "2022-09-19T19:35:41.536Z"
      },
      {
        "duration": 525,
        "start_time": "2022-09-19T19:35:41.548Z"
      },
      {
        "duration": 5,
        "start_time": "2022-09-19T19:35:42.075Z"
      },
      {
        "duration": 226,
        "start_time": "2022-09-19T19:35:42.081Z"
      },
      {
        "duration": 266,
        "start_time": "2022-09-19T19:35:42.315Z"
      },
      {
        "duration": 146,
        "start_time": "2022-09-19T19:35:42.583Z"
      },
      {
        "duration": 158,
        "start_time": "2022-09-19T19:35:42.731Z"
      },
      {
        "duration": 157,
        "start_time": "2022-09-19T19:35:42.890Z"
      },
      {
        "duration": 191,
        "start_time": "2022-09-19T19:35:43.049Z"
      },
      {
        "duration": 203,
        "start_time": "2022-09-19T19:35:43.241Z"
      },
      {
        "duration": 7,
        "start_time": "2022-09-19T19:35:43.446Z"
      },
      {
        "duration": 187,
        "start_time": "2022-09-19T19:35:43.455Z"
      },
      {
        "duration": 169,
        "start_time": "2022-09-19T19:35:43.644Z"
      },
      {
        "duration": 159,
        "start_time": "2022-09-19T19:35:43.814Z"
      },
      {
        "duration": 187,
        "start_time": "2022-09-19T19:35:43.976Z"
      },
      {
        "duration": 11,
        "start_time": "2022-09-19T19:35:44.167Z"
      },
      {
        "duration": 201,
        "start_time": "2022-09-19T19:35:44.192Z"
      },
      {
        "duration": 286,
        "start_time": "2022-09-19T19:35:44.396Z"
      },
      {
        "duration": 219,
        "start_time": "2022-09-19T19:35:44.684Z"
      },
      {
        "duration": 214,
        "start_time": "2022-09-19T19:35:44.911Z"
      },
      {
        "duration": 37,
        "start_time": "2022-09-19T19:35:45.130Z"
      },
      {
        "duration": 50,
        "start_time": "2022-09-19T19:35:45.169Z"
      },
      {
        "duration": 67,
        "start_time": "2022-09-19T19:35:45.222Z"
      },
      {
        "duration": 229,
        "start_time": "2022-09-19T19:35:45.301Z"
      },
      {
        "duration": 103,
        "start_time": "2022-09-19T19:35:45.532Z"
      },
      {
        "duration": 49,
        "start_time": "2022-09-19T19:39:26.578Z"
      },
      {
        "duration": 71,
        "start_time": "2022-09-19T19:40:37.004Z"
      },
      {
        "duration": 14,
        "start_time": "2022-09-19T19:40:40.637Z"
      },
      {
        "duration": 5,
        "start_time": "2022-09-19T19:43:44.595Z"
      },
      {
        "duration": 5,
        "start_time": "2022-09-19T19:44:17.141Z"
      },
      {
        "duration": 4,
        "start_time": "2022-09-19T19:44:20.085Z"
      },
      {
        "duration": 44,
        "start_time": "2022-09-19T20:17:50.136Z"
      },
      {
        "duration": 418,
        "start_time": "2022-09-19T20:17:55.748Z"
      },
      {
        "duration": 2465,
        "start_time": "2022-09-19T20:17:56.168Z"
      },
      {
        "duration": 8,
        "start_time": "2022-09-19T20:17:58.634Z"
      },
      {
        "duration": 29,
        "start_time": "2022-09-19T20:17:58.644Z"
      },
      {
        "duration": 15,
        "start_time": "2022-09-19T20:17:58.675Z"
      },
      {
        "duration": 16,
        "start_time": "2022-09-19T20:17:58.692Z"
      },
      {
        "duration": 48,
        "start_time": "2022-09-19T20:17:58.709Z"
      },
      {
        "duration": 124,
        "start_time": "2022-09-19T20:17:58.758Z"
      },
      {
        "duration": 21,
        "start_time": "2022-09-19T20:17:58.885Z"
      },
      {
        "duration": 17,
        "start_time": "2022-09-19T20:17:58.910Z"
      },
      {
        "duration": 74,
        "start_time": "2022-09-19T20:17:58.929Z"
      },
      {
        "duration": 18,
        "start_time": "2022-09-19T20:17:59.005Z"
      },
      {
        "duration": 20,
        "start_time": "2022-09-19T20:17:59.025Z"
      },
      {
        "duration": 367,
        "start_time": "2022-09-19T20:17:59.047Z"
      },
      {
        "duration": 3,
        "start_time": "2022-09-19T20:17:59.416Z"
      },
      {
        "duration": 202,
        "start_time": "2022-09-19T20:17:59.423Z"
      },
      {
        "duration": 152,
        "start_time": "2022-09-19T20:17:59.626Z"
      },
      {
        "duration": 123,
        "start_time": "2022-09-19T20:17:59.780Z"
      },
      {
        "duration": 122,
        "start_time": "2022-09-19T20:17:59.905Z"
      },
      {
        "duration": 129,
        "start_time": "2022-09-19T20:18:00.029Z"
      },
      {
        "duration": 139,
        "start_time": "2022-09-19T20:18:00.160Z"
      },
      {
        "duration": 142,
        "start_time": "2022-09-19T20:18:00.301Z"
      },
      {
        "duration": 7,
        "start_time": "2022-09-19T20:18:00.445Z"
      },
      {
        "duration": 158,
        "start_time": "2022-09-19T20:18:00.454Z"
      },
      {
        "duration": 140,
        "start_time": "2022-09-19T20:18:00.614Z"
      },
      {
        "duration": 134,
        "start_time": "2022-09-19T20:18:00.756Z"
      },
      {
        "duration": 144,
        "start_time": "2022-09-19T20:18:00.892Z"
      },
      {
        "duration": 9,
        "start_time": "2022-09-19T20:18:01.039Z"
      },
      {
        "duration": 247,
        "start_time": "2022-09-19T20:18:01.050Z"
      },
      {
        "duration": 175,
        "start_time": "2022-09-19T20:18:01.298Z"
      },
      {
        "duration": 179,
        "start_time": "2022-09-19T20:18:01.474Z"
      },
      {
        "duration": 174,
        "start_time": "2022-09-19T20:18:01.654Z"
      },
      {
        "duration": 25,
        "start_time": "2022-09-19T20:18:01.830Z"
      },
      {
        "duration": 46,
        "start_time": "2022-09-19T20:18:01.857Z"
      },
      {
        "duration": 44,
        "start_time": "2022-09-19T20:18:01.904Z"
      },
      {
        "duration": 179,
        "start_time": "2022-09-19T20:18:01.950Z"
      },
      {
        "duration": 68,
        "start_time": "2022-09-19T20:18:02.130Z"
      },
      {
        "duration": 68,
        "start_time": "2022-09-19T21:22:26.187Z"
      },
      {
        "duration": 16,
        "start_time": "2022-09-19T21:22:36.755Z"
      },
      {
        "duration": 20,
        "start_time": "2022-09-19T21:22:51.050Z"
      },
      {
        "duration": 16,
        "start_time": "2022-09-19T21:25:46.648Z"
      },
      {
        "duration": 15,
        "start_time": "2022-09-19T21:26:09.497Z"
      },
      {
        "duration": 15,
        "start_time": "2022-09-19T21:26:19.895Z"
      },
      {
        "duration": 26,
        "start_time": "2022-09-19T21:26:42.931Z"
      },
      {
        "duration": 364,
        "start_time": "2022-09-19T21:27:02.764Z"
      },
      {
        "duration": 2127,
        "start_time": "2022-09-19T21:27:03.130Z"
      },
      {
        "duration": 9,
        "start_time": "2022-09-19T21:27:05.258Z"
      },
      {
        "duration": 20,
        "start_time": "2022-09-19T21:27:05.269Z"
      },
      {
        "duration": 5,
        "start_time": "2022-09-19T21:27:05.291Z"
      },
      {
        "duration": 9,
        "start_time": "2022-09-19T21:27:05.297Z"
      },
      {
        "duration": 27,
        "start_time": "2022-09-19T21:27:05.307Z"
      },
      {
        "duration": 112,
        "start_time": "2022-09-19T21:27:05.335Z"
      },
      {
        "duration": 18,
        "start_time": "2022-09-19T21:27:05.449Z"
      },
      {
        "duration": 4,
        "start_time": "2022-09-19T21:27:05.469Z"
      },
      {
        "duration": 84,
        "start_time": "2022-09-19T21:27:05.474Z"
      },
      {
        "duration": 8,
        "start_time": "2022-09-19T21:27:05.559Z"
      },
      {
        "duration": 7,
        "start_time": "2022-09-19T21:27:05.569Z"
      },
      {
        "duration": 425,
        "start_time": "2022-09-19T21:27:05.577Z"
      },
      {
        "duration": 3,
        "start_time": "2022-09-19T21:27:06.004Z"
      },
      {
        "duration": 156,
        "start_time": "2022-09-19T21:27:06.009Z"
      },
      {
        "duration": 214,
        "start_time": "2022-09-19T21:27:06.166Z"
      },
      {
        "duration": 118,
        "start_time": "2022-09-19T21:27:06.381Z"
      },
      {
        "duration": 129,
        "start_time": "2022-09-19T21:27:06.500Z"
      },
      {
        "duration": 137,
        "start_time": "2022-09-19T21:27:06.631Z"
      },
      {
        "duration": 144,
        "start_time": "2022-09-19T21:27:06.770Z"
      },
      {
        "duration": 135,
        "start_time": "2022-09-19T21:27:06.921Z"
      },
      {
        "duration": 10,
        "start_time": "2022-09-19T21:27:07.058Z"
      },
      {
        "duration": 157,
        "start_time": "2022-09-19T21:27:07.070Z"
      },
      {
        "duration": 151,
        "start_time": "2022-09-19T21:27:07.230Z"
      },
      {
        "duration": 149,
        "start_time": "2022-09-19T21:27:07.383Z"
      },
      {
        "duration": 165,
        "start_time": "2022-09-19T21:27:07.534Z"
      },
      {
        "duration": 20,
        "start_time": "2022-09-19T21:27:07.702Z"
      },
      {
        "duration": 173,
        "start_time": "2022-09-19T21:27:07.731Z"
      },
      {
        "duration": 265,
        "start_time": "2022-09-19T21:27:07.906Z"
      },
      {
        "duration": 188,
        "start_time": "2022-09-19T21:27:08.173Z"
      },
      {
        "duration": 186,
        "start_time": "2022-09-19T21:27:08.363Z"
      },
      {
        "duration": 27,
        "start_time": "2022-09-19T21:27:08.550Z"
      },
      {
        "duration": 45,
        "start_time": "2022-09-19T21:27:08.578Z"
      },
      {
        "duration": 41,
        "start_time": "2022-09-19T21:27:08.625Z"
      },
      {
        "duration": 190,
        "start_time": "2022-09-19T21:27:08.668Z"
      },
      {
        "duration": 97,
        "start_time": "2022-09-19T21:27:08.862Z"
      },
      {
        "duration": 98,
        "start_time": "2022-09-19T21:29:06.862Z"
      },
      {
        "duration": 16,
        "start_time": "2022-09-19T21:31:39.944Z"
      },
      {
        "duration": 16,
        "start_time": "2022-09-19T21:31:44.616Z"
      },
      {
        "duration": 16,
        "start_time": "2022-09-19T21:31:47.829Z"
      },
      {
        "duration": 29,
        "start_time": "2022-09-19T21:33:09.237Z"
      },
      {
        "duration": 56,
        "start_time": "2022-09-19T21:33:26.834Z"
      },
      {
        "duration": 19,
        "start_time": "2022-09-19T21:33:29.408Z"
      },
      {
        "duration": 8,
        "start_time": "2022-09-19T21:33:36.380Z"
      },
      {
        "duration": 25,
        "start_time": "2022-09-19T21:34:15.714Z"
      },
      {
        "duration": 16,
        "start_time": "2022-09-19T21:34:27.699Z"
      },
      {
        "duration": 352,
        "start_time": "2022-09-19T21:34:34.671Z"
      },
      {
        "duration": 2071,
        "start_time": "2022-09-19T21:34:35.025Z"
      },
      {
        "duration": 8,
        "start_time": "2022-09-19T21:34:37.098Z"
      },
      {
        "duration": 34,
        "start_time": "2022-09-19T21:34:37.107Z"
      },
      {
        "duration": 7,
        "start_time": "2022-09-19T21:34:37.142Z"
      },
      {
        "duration": 9,
        "start_time": "2022-09-19T21:34:37.150Z"
      },
      {
        "duration": 35,
        "start_time": "2022-09-19T21:34:37.161Z"
      },
      {
        "duration": 108,
        "start_time": "2022-09-19T21:34:37.197Z"
      },
      {
        "duration": 23,
        "start_time": "2022-09-19T21:34:37.307Z"
      },
      {
        "duration": 4,
        "start_time": "2022-09-19T21:34:37.332Z"
      },
      {
        "duration": 66,
        "start_time": "2022-09-19T21:34:37.337Z"
      },
      {
        "duration": 20,
        "start_time": "2022-09-19T21:34:37.405Z"
      },
      {
        "duration": 13,
        "start_time": "2022-09-19T21:34:37.427Z"
      },
      {
        "duration": 432,
        "start_time": "2022-09-19T21:34:37.443Z"
      },
      {
        "duration": 4,
        "start_time": "2022-09-19T21:34:37.876Z"
      },
      {
        "duration": 209,
        "start_time": "2022-09-19T21:34:37.881Z"
      },
      {
        "duration": 144,
        "start_time": "2022-09-19T21:34:38.092Z"
      },
      {
        "duration": 120,
        "start_time": "2022-09-19T21:34:38.237Z"
      },
      {
        "duration": 135,
        "start_time": "2022-09-19T21:34:38.358Z"
      },
      {
        "duration": 142,
        "start_time": "2022-09-19T21:34:38.495Z"
      },
      {
        "duration": 141,
        "start_time": "2022-09-19T21:34:38.638Z"
      },
      {
        "duration": 165,
        "start_time": "2022-09-19T21:34:38.781Z"
      },
      {
        "duration": 9,
        "start_time": "2022-09-19T21:34:38.948Z"
      },
      {
        "duration": 177,
        "start_time": "2022-09-19T21:34:38.959Z"
      },
      {
        "duration": 136,
        "start_time": "2022-09-19T21:34:39.139Z"
      },
      {
        "duration": 127,
        "start_time": "2022-09-19T21:34:39.277Z"
      },
      {
        "duration": 167,
        "start_time": "2022-09-19T21:34:39.406Z"
      },
      {
        "duration": 12,
        "start_time": "2022-09-19T21:34:39.575Z"
      },
      {
        "duration": 252,
        "start_time": "2022-09-19T21:34:39.589Z"
      },
      {
        "duration": 179,
        "start_time": "2022-09-19T21:34:39.843Z"
      },
      {
        "duration": 182,
        "start_time": "2022-09-19T21:34:40.024Z"
      },
      {
        "duration": 170,
        "start_time": "2022-09-19T21:34:40.207Z"
      },
      {
        "duration": 27,
        "start_time": "2022-09-19T21:34:40.379Z"
      },
      {
        "duration": 37,
        "start_time": "2022-09-19T21:34:40.408Z"
      },
      {
        "duration": 41,
        "start_time": "2022-09-19T21:34:40.446Z"
      },
      {
        "duration": 159,
        "start_time": "2022-09-19T21:34:40.488Z"
      },
      {
        "duration": 86,
        "start_time": "2022-09-19T21:34:40.648Z"
      },
      {
        "duration": 77,
        "start_time": "2022-09-19T21:37:34.492Z"
      },
      {
        "duration": 87,
        "start_time": "2022-09-19T21:38:35.736Z"
      },
      {
        "duration": 120,
        "start_time": "2022-09-19T21:38:50.269Z"
      },
      {
        "duration": 121,
        "start_time": "2022-09-19T21:39:27.159Z"
      },
      {
        "duration": 108,
        "start_time": "2022-09-19T21:39:30.453Z"
      },
      {
        "duration": 126,
        "start_time": "2022-09-19T21:39:39.338Z"
      },
      {
        "duration": 116,
        "start_time": "2022-09-19T21:39:43.759Z"
      },
      {
        "duration": 193,
        "start_time": "2022-09-19T21:40:05.974Z"
      },
      {
        "duration": 188,
        "start_time": "2022-09-19T21:40:08.578Z"
      },
      {
        "duration": 190,
        "start_time": "2022-09-19T21:50:55.634Z"
      },
      {
        "duration": 383,
        "start_time": "2022-09-19T21:52:07.348Z"
      },
      {
        "duration": 348,
        "start_time": "2022-09-19T21:52:18.993Z"
      },
      {
        "duration": 352,
        "start_time": "2022-09-19T21:53:01.533Z"
      },
      {
        "duration": 191,
        "start_time": "2022-09-19T21:55:51.887Z"
      },
      {
        "duration": 170,
        "start_time": "2022-09-19T21:55:58.351Z"
      },
      {
        "duration": 172,
        "start_time": "2022-09-19T21:56:11.586Z"
      },
      {
        "duration": 175,
        "start_time": "2022-09-19T21:56:40.087Z"
      },
      {
        "duration": 205,
        "start_time": "2022-09-19T21:56:55.625Z"
      },
      {
        "duration": 181,
        "start_time": "2022-09-19T21:57:15.489Z"
      },
      {
        "duration": 176,
        "start_time": "2022-09-19T21:57:41.205Z"
      },
      {
        "duration": 179,
        "start_time": "2022-09-19T21:58:22.046Z"
      },
      {
        "duration": 169,
        "start_time": "2022-09-19T21:58:37.048Z"
      },
      {
        "duration": 91,
        "start_time": "2022-09-19T22:00:12.982Z"
      },
      {
        "duration": 51,
        "start_time": "2022-09-19T22:00:16.179Z"
      },
      {
        "duration": 54,
        "start_time": "2022-09-19T22:00:41.616Z"
      },
      {
        "duration": 46,
        "start_time": "2022-09-19T22:00:57.561Z"
      },
      {
        "duration": 47,
        "start_time": "2022-09-19T22:01:50.082Z"
      },
      {
        "duration": 48,
        "start_time": "2022-09-19T22:02:04.198Z"
      },
      {
        "duration": 50,
        "start_time": "2022-09-19T22:02:17.435Z"
      },
      {
        "duration": 46,
        "start_time": "2022-09-19T22:02:28.733Z"
      },
      {
        "duration": 48,
        "start_time": "2022-09-19T22:02:41.333Z"
      },
      {
        "duration": 47,
        "start_time": "2022-09-19T22:02:48.638Z"
      },
      {
        "duration": 47,
        "start_time": "2022-09-19T22:03:34.499Z"
      },
      {
        "duration": 41,
        "start_time": "2022-09-19T22:04:06.659Z"
      },
      {
        "duration": 150,
        "start_time": "2022-09-19T22:05:48.588Z"
      },
      {
        "duration": 16,
        "start_time": "2022-09-19T22:07:54.603Z"
      },
      {
        "duration": 20,
        "start_time": "2022-09-19T22:07:58.794Z"
      },
      {
        "duration": 169,
        "start_time": "2022-09-19T22:09:01.958Z"
      },
      {
        "duration": 226,
        "start_time": "2022-09-19T22:10:18.427Z"
      },
      {
        "duration": 412,
        "start_time": "2022-09-19T22:18:15.632Z"
      },
      {
        "duration": 2017,
        "start_time": "2022-09-19T22:18:16.046Z"
      },
      {
        "duration": 8,
        "start_time": "2022-09-19T22:18:18.065Z"
      },
      {
        "duration": 18,
        "start_time": "2022-09-19T22:18:18.074Z"
      },
      {
        "duration": 6,
        "start_time": "2022-09-19T22:18:18.094Z"
      },
      {
        "duration": 8,
        "start_time": "2022-09-19T22:18:18.101Z"
      },
      {
        "duration": 25,
        "start_time": "2022-09-19T22:18:18.110Z"
      },
      {
        "duration": 109,
        "start_time": "2022-09-19T22:18:18.137Z"
      },
      {
        "duration": 17,
        "start_time": "2022-09-19T22:18:18.247Z"
      },
      {
        "duration": 4,
        "start_time": "2022-09-19T22:18:18.266Z"
      },
      {
        "duration": 76,
        "start_time": "2022-09-19T22:18:18.271Z"
      },
      {
        "duration": 9,
        "start_time": "2022-09-19T22:18:18.349Z"
      },
      {
        "duration": 14,
        "start_time": "2022-09-19T22:18:18.360Z"
      },
      {
        "duration": 421,
        "start_time": "2022-09-19T22:18:18.377Z"
      },
      {
        "duration": 4,
        "start_time": "2022-09-19T22:18:18.799Z"
      },
      {
        "duration": 245,
        "start_time": "2022-09-19T22:18:18.804Z"
      },
      {
        "duration": 153,
        "start_time": "2022-09-19T22:18:19.050Z"
      },
      {
        "duration": 123,
        "start_time": "2022-09-19T22:18:19.205Z"
      },
      {
        "duration": 124,
        "start_time": "2022-09-19T22:18:19.330Z"
      },
      {
        "duration": 140,
        "start_time": "2022-09-19T22:18:19.455Z"
      },
      {
        "duration": 146,
        "start_time": "2022-09-19T22:18:19.597Z"
      },
      {
        "duration": 136,
        "start_time": "2022-09-19T22:18:19.744Z"
      },
      {
        "duration": 7,
        "start_time": "2022-09-19T22:18:19.881Z"
      },
      {
        "duration": 135,
        "start_time": "2022-09-19T22:18:19.890Z"
      },
      {
        "duration": 0,
        "start_time": "2022-09-19T22:18:20.026Z"
      },
      {
        "duration": 0,
        "start_time": "2022-09-19T22:18:20.028Z"
      },
      {
        "duration": 0,
        "start_time": "2022-09-19T22:18:20.029Z"
      },
      {
        "duration": 0,
        "start_time": "2022-09-19T22:18:20.031Z"
      },
      {
        "duration": 0,
        "start_time": "2022-09-19T22:18:20.032Z"
      },
      {
        "duration": 0,
        "start_time": "2022-09-19T22:18:20.033Z"
      },
      {
        "duration": 0,
        "start_time": "2022-09-19T22:18:20.035Z"
      },
      {
        "duration": 0,
        "start_time": "2022-09-19T22:18:20.036Z"
      },
      {
        "duration": 0,
        "start_time": "2022-09-19T22:18:20.037Z"
      },
      {
        "duration": 0,
        "start_time": "2022-09-19T22:18:20.038Z"
      },
      {
        "duration": 0,
        "start_time": "2022-09-19T22:18:20.039Z"
      },
      {
        "duration": 1,
        "start_time": "2022-09-19T22:18:20.040Z"
      },
      {
        "duration": 0,
        "start_time": "2022-09-19T22:18:20.042Z"
      },
      {
        "duration": 0,
        "start_time": "2022-09-19T22:18:20.042Z"
      },
      {
        "duration": 337,
        "start_time": "2022-09-19T22:18:54.680Z"
      },
      {
        "duration": 2103,
        "start_time": "2022-09-19T22:18:55.022Z"
      },
      {
        "duration": 8,
        "start_time": "2022-09-19T22:18:57.126Z"
      },
      {
        "duration": 20,
        "start_time": "2022-09-19T22:18:57.136Z"
      },
      {
        "duration": 6,
        "start_time": "2022-09-19T22:18:57.157Z"
      },
      {
        "duration": 8,
        "start_time": "2022-09-19T22:18:57.165Z"
      },
      {
        "duration": 24,
        "start_time": "2022-09-19T22:18:57.175Z"
      },
      {
        "duration": 136,
        "start_time": "2022-09-19T22:18:57.201Z"
      },
      {
        "duration": 18,
        "start_time": "2022-09-19T22:18:57.338Z"
      },
      {
        "duration": 3,
        "start_time": "2022-09-19T22:18:57.359Z"
      },
      {
        "duration": 78,
        "start_time": "2022-09-19T22:18:57.363Z"
      },
      {
        "duration": 10,
        "start_time": "2022-09-19T22:18:57.442Z"
      },
      {
        "duration": 15,
        "start_time": "2022-09-19T22:18:57.453Z"
      },
      {
        "duration": 437,
        "start_time": "2022-09-19T22:18:57.470Z"
      },
      {
        "duration": 4,
        "start_time": "2022-09-19T22:18:57.909Z"
      },
      {
        "duration": 212,
        "start_time": "2022-09-19T22:18:57.914Z"
      },
      {
        "duration": 149,
        "start_time": "2022-09-19T22:18:58.128Z"
      },
      {
        "duration": 126,
        "start_time": "2022-09-19T22:18:58.278Z"
      },
      {
        "duration": 135,
        "start_time": "2022-09-19T22:18:58.406Z"
      },
      {
        "duration": 143,
        "start_time": "2022-09-19T22:18:58.543Z"
      },
      {
        "duration": 142,
        "start_time": "2022-09-19T22:18:58.687Z"
      },
      {
        "duration": 179,
        "start_time": "2022-09-19T22:18:58.831Z"
      },
      {
        "duration": 13,
        "start_time": "2022-09-19T22:18:59.012Z"
      },
      {
        "duration": 158,
        "start_time": "2022-09-19T22:18:59.027Z"
      },
      {
        "duration": 146,
        "start_time": "2022-09-19T22:18:59.186Z"
      },
      {
        "duration": 117,
        "start_time": "2022-09-19T22:18:59.333Z"
      },
      {
        "duration": 146,
        "start_time": "2022-09-19T22:18:59.452Z"
      },
      {
        "duration": 21,
        "start_time": "2022-09-19T22:18:59.601Z"
      },
      {
        "duration": 272,
        "start_time": "2022-09-19T22:18:59.624Z"
      },
      {
        "duration": 195,
        "start_time": "2022-09-19T22:18:59.898Z"
      },
      {
        "duration": 193,
        "start_time": "2022-09-19T22:19:00.095Z"
      },
      {
        "duration": 166,
        "start_time": "2022-09-19T22:19:00.289Z"
      },
      {
        "duration": 26,
        "start_time": "2022-09-19T22:19:00.457Z"
      },
      {
        "duration": 40,
        "start_time": "2022-09-19T22:19:00.485Z"
      },
      {
        "duration": 42,
        "start_time": "2022-09-19T22:19:00.527Z"
      },
      {
        "duration": 177,
        "start_time": "2022-09-19T22:19:00.570Z"
      },
      {
        "duration": 237,
        "start_time": "2022-09-19T22:19:00.748Z"
      },
      {
        "duration": 407,
        "start_time": "2022-09-20T14:19:23.495Z"
      },
      {
        "duration": 2665,
        "start_time": "2022-09-20T14:19:23.903Z"
      },
      {
        "duration": 8,
        "start_time": "2022-09-20T14:19:26.570Z"
      },
      {
        "duration": 25,
        "start_time": "2022-09-20T14:19:26.580Z"
      },
      {
        "duration": 9,
        "start_time": "2022-09-20T14:19:26.607Z"
      },
      {
        "duration": 32,
        "start_time": "2022-09-20T14:19:26.617Z"
      },
      {
        "duration": 26,
        "start_time": "2022-09-20T14:19:26.650Z"
      },
      {
        "duration": 138,
        "start_time": "2022-09-20T14:19:26.677Z"
      },
      {
        "duration": 20,
        "start_time": "2022-09-20T14:19:26.824Z"
      },
      {
        "duration": 3,
        "start_time": "2022-09-20T14:19:26.846Z"
      },
      {
        "duration": 84,
        "start_time": "2022-09-20T14:19:26.851Z"
      },
      {
        "duration": 10,
        "start_time": "2022-09-20T14:19:26.937Z"
      },
      {
        "duration": 6,
        "start_time": "2022-09-20T14:19:26.948Z"
      },
      {
        "duration": 582,
        "start_time": "2022-09-20T14:19:26.957Z"
      },
      {
        "duration": 4,
        "start_time": "2022-09-20T14:19:27.540Z"
      },
      {
        "duration": 149,
        "start_time": "2022-09-20T14:19:27.546Z"
      },
      {
        "duration": 142,
        "start_time": "2022-09-20T14:19:27.697Z"
      },
      {
        "duration": 127,
        "start_time": "2022-09-20T14:19:27.841Z"
      },
      {
        "duration": 133,
        "start_time": "2022-09-20T14:19:27.970Z"
      },
      {
        "duration": 139,
        "start_time": "2022-09-20T14:19:28.109Z"
      },
      {
        "duration": 146,
        "start_time": "2022-09-20T14:19:28.250Z"
      },
      {
        "duration": 141,
        "start_time": "2022-09-20T14:19:28.398Z"
      },
      {
        "duration": 6,
        "start_time": "2022-09-20T14:19:28.540Z"
      },
      {
        "duration": 167,
        "start_time": "2022-09-20T14:19:28.548Z"
      },
      {
        "duration": 125,
        "start_time": "2022-09-20T14:19:28.716Z"
      },
      {
        "duration": 125,
        "start_time": "2022-09-20T14:19:28.843Z"
      },
      {
        "duration": 212,
        "start_time": "2022-09-20T14:19:28.970Z"
      },
      {
        "duration": 15,
        "start_time": "2022-09-20T14:19:29.184Z"
      },
      {
        "duration": 218,
        "start_time": "2022-09-20T14:19:29.209Z"
      },
      {
        "duration": 186,
        "start_time": "2022-09-20T14:19:29.429Z"
      },
      {
        "duration": 187,
        "start_time": "2022-09-20T14:19:29.616Z"
      },
      {
        "duration": 197,
        "start_time": "2022-09-20T14:19:29.805Z"
      },
      {
        "duration": 39,
        "start_time": "2022-09-20T14:19:30.004Z"
      },
      {
        "duration": 37,
        "start_time": "2022-09-20T14:19:30.045Z"
      },
      {
        "duration": 59,
        "start_time": "2022-09-20T14:19:30.084Z"
      },
      {
        "duration": 161,
        "start_time": "2022-09-20T14:19:30.145Z"
      },
      {
        "duration": 263,
        "start_time": "2022-09-20T14:19:30.307Z"
      },
      {
        "duration": 433,
        "start_time": "2022-09-20T14:39:41.776Z"
      },
      {
        "duration": 2276,
        "start_time": "2022-09-20T14:39:42.211Z"
      },
      {
        "duration": 13,
        "start_time": "2022-09-20T14:39:44.490Z"
      },
      {
        "duration": 25,
        "start_time": "2022-09-20T14:39:44.505Z"
      },
      {
        "duration": 10,
        "start_time": "2022-09-20T14:39:44.531Z"
      },
      {
        "duration": 25,
        "start_time": "2022-09-20T14:39:44.543Z"
      },
      {
        "duration": 47,
        "start_time": "2022-09-20T14:39:44.570Z"
      },
      {
        "duration": 178,
        "start_time": "2022-09-20T14:39:44.619Z"
      },
      {
        "duration": 30,
        "start_time": "2022-09-20T14:39:44.800Z"
      },
      {
        "duration": 4,
        "start_time": "2022-09-20T14:39:44.833Z"
      },
      {
        "duration": 84,
        "start_time": "2022-09-20T14:39:44.839Z"
      },
      {
        "duration": 11,
        "start_time": "2022-09-20T14:39:44.925Z"
      },
      {
        "duration": 9,
        "start_time": "2022-09-20T14:39:44.938Z"
      },
      {
        "duration": 617,
        "start_time": "2022-09-20T14:39:44.949Z"
      },
      {
        "duration": 5,
        "start_time": "2022-09-20T14:39:45.568Z"
      },
      {
        "duration": 253,
        "start_time": "2022-09-20T14:39:45.575Z"
      },
      {
        "duration": 138,
        "start_time": "2022-09-20T14:39:45.829Z"
      },
      {
        "duration": 170,
        "start_time": "2022-09-20T14:39:45.969Z"
      },
      {
        "duration": 151,
        "start_time": "2022-09-20T14:39:46.141Z"
      },
      {
        "duration": 231,
        "start_time": "2022-09-20T14:39:46.294Z"
      },
      {
        "duration": 167,
        "start_time": "2022-09-20T14:39:46.528Z"
      },
      {
        "duration": 185,
        "start_time": "2022-09-20T14:39:46.697Z"
      },
      {
        "duration": 8,
        "start_time": "2022-09-20T14:39:46.884Z"
      },
      {
        "duration": 222,
        "start_time": "2022-09-20T14:39:46.894Z"
      },
      {
        "duration": 134,
        "start_time": "2022-09-20T14:39:47.118Z"
      },
      {
        "duration": 141,
        "start_time": "2022-09-20T14:39:47.254Z"
      },
      {
        "duration": 156,
        "start_time": "2022-09-20T14:39:47.398Z"
      },
      {
        "duration": 12,
        "start_time": "2022-09-20T14:39:47.557Z"
      },
      {
        "duration": 287,
        "start_time": "2022-09-20T14:39:47.570Z"
      },
      {
        "duration": 209,
        "start_time": "2022-09-20T14:39:47.859Z"
      },
      {
        "duration": 209,
        "start_time": "2022-09-20T14:39:48.069Z"
      },
      {
        "duration": 178,
        "start_time": "2022-09-20T14:39:48.280Z"
      },
      {
        "duration": 28,
        "start_time": "2022-09-20T14:39:48.460Z"
      },
      {
        "duration": 54,
        "start_time": "2022-09-20T14:39:48.490Z"
      },
      {
        "duration": 71,
        "start_time": "2022-09-20T14:39:48.546Z"
      },
      {
        "duration": 197,
        "start_time": "2022-09-20T14:39:48.618Z"
      },
      {
        "duration": 354,
        "start_time": "2022-09-20T14:39:48.817Z"
      },
      {
        "duration": 17,
        "start_time": "2022-09-20T14:40:10.942Z"
      },
      {
        "duration": 390,
        "start_time": "2022-09-20T14:40:19.300Z"
      },
      {
        "duration": 2220,
        "start_time": "2022-09-20T14:40:19.692Z"
      },
      {
        "duration": 9,
        "start_time": "2022-09-20T14:40:21.915Z"
      },
      {
        "duration": 19,
        "start_time": "2022-09-20T14:40:21.926Z"
      },
      {
        "duration": 8,
        "start_time": "2022-09-20T14:40:21.947Z"
      },
      {
        "duration": 9,
        "start_time": "2022-09-20T14:40:21.956Z"
      },
      {
        "duration": 58,
        "start_time": "2022-09-20T14:40:21.967Z"
      },
      {
        "duration": 131,
        "start_time": "2022-09-20T14:40:22.027Z"
      },
      {
        "duration": 18,
        "start_time": "2022-09-20T14:40:22.160Z"
      },
      {
        "duration": 4,
        "start_time": "2022-09-20T14:40:22.179Z"
      },
      {
        "duration": 89,
        "start_time": "2022-09-20T14:40:22.184Z"
      },
      {
        "duration": 10,
        "start_time": "2022-09-20T14:40:22.274Z"
      },
      {
        "duration": 7,
        "start_time": "2022-09-20T14:40:22.285Z"
      },
      {
        "duration": 480,
        "start_time": "2022-09-20T14:40:22.310Z"
      },
      {
        "duration": 4,
        "start_time": "2022-09-20T14:40:22.792Z"
      },
      {
        "duration": 224,
        "start_time": "2022-09-20T14:40:22.798Z"
      },
      {
        "duration": 138,
        "start_time": "2022-09-20T14:40:23.024Z"
      },
      {
        "duration": 136,
        "start_time": "2022-09-20T14:40:23.164Z"
      },
      {
        "duration": 131,
        "start_time": "2022-09-20T14:40:23.309Z"
      },
      {
        "duration": 141,
        "start_time": "2022-09-20T14:40:23.442Z"
      },
      {
        "duration": 148,
        "start_time": "2022-09-20T14:40:23.585Z"
      },
      {
        "duration": 134,
        "start_time": "2022-09-20T14:40:23.735Z"
      },
      {
        "duration": 7,
        "start_time": "2022-09-20T14:40:23.871Z"
      },
      {
        "duration": 210,
        "start_time": "2022-09-20T14:40:23.880Z"
      },
      {
        "duration": 133,
        "start_time": "2022-09-20T14:40:24.091Z"
      },
      {
        "duration": 122,
        "start_time": "2022-09-20T14:40:24.225Z"
      },
      {
        "duration": 201,
        "start_time": "2022-09-20T14:40:24.348Z"
      },
      {
        "duration": 16,
        "start_time": "2022-09-20T14:40:24.551Z"
      },
      {
        "duration": 292,
        "start_time": "2022-09-20T14:40:24.569Z"
      },
      {
        "duration": 195,
        "start_time": "2022-09-20T14:40:24.862Z"
      },
      {
        "duration": 195,
        "start_time": "2022-09-20T14:40:25.059Z"
      },
      {
        "duration": 180,
        "start_time": "2022-09-20T14:40:25.256Z"
      },
      {
        "duration": 28,
        "start_time": "2022-09-20T14:40:25.438Z"
      },
      {
        "duration": 49,
        "start_time": "2022-09-20T14:40:25.467Z"
      },
      {
        "duration": 43,
        "start_time": "2022-09-20T14:40:25.518Z"
      },
      {
        "duration": 175,
        "start_time": "2022-09-20T14:40:25.563Z"
      },
      {
        "duration": 271,
        "start_time": "2022-09-20T14:40:25.740Z"
      },
      {
        "duration": 4,
        "start_time": "2022-09-20T15:32:24.442Z"
      },
      {
        "duration": 4,
        "start_time": "2022-09-20T15:32:57.931Z"
      },
      {
        "duration": 5,
        "start_time": "2022-09-20T15:33:11.292Z"
      },
      {
        "duration": 408,
        "start_time": "2022-09-20T15:33:24.734Z"
      },
      {
        "duration": 2138,
        "start_time": "2022-09-20T15:33:25.144Z"
      },
      {
        "duration": 16,
        "start_time": "2022-09-20T15:33:27.284Z"
      },
      {
        "duration": 25,
        "start_time": "2022-09-20T15:33:27.303Z"
      },
      {
        "duration": 9,
        "start_time": "2022-09-20T15:33:27.330Z"
      },
      {
        "duration": 7,
        "start_time": "2022-09-20T15:33:27.340Z"
      },
      {
        "duration": 38,
        "start_time": "2022-09-20T15:33:27.348Z"
      },
      {
        "duration": 139,
        "start_time": "2022-09-20T15:33:27.387Z"
      },
      {
        "duration": 18,
        "start_time": "2022-09-20T15:33:27.528Z"
      },
      {
        "duration": 4,
        "start_time": "2022-09-20T15:33:27.548Z"
      },
      {
        "duration": 12,
        "start_time": "2022-09-20T15:33:27.553Z"
      },
      {
        "duration": 84,
        "start_time": "2022-09-20T15:33:27.566Z"
      },
      {
        "duration": 11,
        "start_time": "2022-09-20T15:33:27.651Z"
      },
      {
        "duration": 8,
        "start_time": "2022-09-20T15:33:27.664Z"
      },
      {
        "duration": 502,
        "start_time": "2022-09-20T15:33:27.674Z"
      },
      {
        "duration": 4,
        "start_time": "2022-09-20T15:33:28.177Z"
      },
      {
        "duration": 207,
        "start_time": "2022-09-20T15:33:28.183Z"
      },
      {
        "duration": 142,
        "start_time": "2022-09-20T15:33:28.391Z"
      },
      {
        "duration": 120,
        "start_time": "2022-09-20T15:33:28.535Z"
      },
      {
        "duration": 134,
        "start_time": "2022-09-20T15:33:28.657Z"
      },
      {
        "duration": 137,
        "start_time": "2022-09-20T15:33:28.793Z"
      },
      {
        "duration": 149,
        "start_time": "2022-09-20T15:33:28.931Z"
      },
      {
        "duration": 148,
        "start_time": "2022-09-20T15:33:29.082Z"
      },
      {
        "duration": 8,
        "start_time": "2022-09-20T15:33:29.231Z"
      },
      {
        "duration": 161,
        "start_time": "2022-09-20T15:33:29.240Z"
      },
      {
        "duration": 134,
        "start_time": "2022-09-20T15:33:29.408Z"
      },
      {
        "duration": 137,
        "start_time": "2022-09-20T15:33:29.544Z"
      },
      {
        "duration": 205,
        "start_time": "2022-09-20T15:33:29.685Z"
      },
      {
        "duration": 16,
        "start_time": "2022-09-20T15:33:29.893Z"
      },
      {
        "duration": 249,
        "start_time": "2022-09-20T15:33:29.910Z"
      },
      {
        "duration": 189,
        "start_time": "2022-09-20T15:33:30.160Z"
      },
      {
        "duration": 198,
        "start_time": "2022-09-20T15:33:30.351Z"
      },
      {
        "duration": 182,
        "start_time": "2022-09-20T15:33:30.551Z"
      },
      {
        "duration": 28,
        "start_time": "2022-09-20T15:33:30.735Z"
      },
      {
        "duration": 56,
        "start_time": "2022-09-20T15:33:30.764Z"
      },
      {
        "duration": 43,
        "start_time": "2022-09-20T15:33:30.822Z"
      },
      {
        "duration": 178,
        "start_time": "2022-09-20T15:33:30.866Z"
      },
      {
        "duration": 271,
        "start_time": "2022-09-20T15:33:31.045Z"
      },
      {
        "duration": 4,
        "start_time": "2022-09-20T15:34:24.212Z"
      },
      {
        "duration": 4,
        "start_time": "2022-09-20T15:34:30.830Z"
      },
      {
        "duration": 4,
        "start_time": "2022-09-20T15:34:36.827Z"
      },
      {
        "duration": 4,
        "start_time": "2022-09-20T15:34:58.529Z"
      },
      {
        "duration": 4,
        "start_time": "2022-09-20T15:35:10.459Z"
      },
      {
        "duration": 5,
        "start_time": "2022-09-20T15:35:39.297Z"
      },
      {
        "duration": 43,
        "start_time": "2022-09-20T15:43:05.324Z"
      },
      {
        "duration": 92,
        "start_time": "2022-09-20T17:45:32.583Z"
      },
      {
        "duration": 426,
        "start_time": "2022-09-20T17:45:38.114Z"
      },
      {
        "duration": 3091,
        "start_time": "2022-09-20T17:45:38.542Z"
      },
      {
        "duration": 11,
        "start_time": "2022-09-20T17:45:41.636Z"
      },
      {
        "duration": 33,
        "start_time": "2022-09-20T17:45:41.649Z"
      },
      {
        "duration": 12,
        "start_time": "2022-09-20T17:45:41.685Z"
      },
      {
        "duration": 31,
        "start_time": "2022-09-20T17:45:41.699Z"
      },
      {
        "duration": 32,
        "start_time": "2022-09-20T17:45:41.732Z"
      },
      {
        "duration": 260,
        "start_time": "2022-09-20T17:45:41.767Z"
      },
      {
        "duration": 32,
        "start_time": "2022-09-20T17:45:42.030Z"
      },
      {
        "duration": 8,
        "start_time": "2022-09-20T17:45:42.066Z"
      },
      {
        "duration": 175,
        "start_time": "2022-09-20T17:45:42.078Z"
      },
      {
        "duration": 13,
        "start_time": "2022-09-20T17:45:42.255Z"
      },
      {
        "duration": 13,
        "start_time": "2022-09-20T17:45:42.270Z"
      },
      {
        "duration": 618,
        "start_time": "2022-09-20T17:45:42.289Z"
      },
      {
        "duration": 5,
        "start_time": "2022-09-20T17:45:42.909Z"
      },
      {
        "duration": 178,
        "start_time": "2022-09-20T17:45:42.916Z"
      },
      {
        "duration": 158,
        "start_time": "2022-09-20T17:45:43.103Z"
      },
      {
        "duration": 170,
        "start_time": "2022-09-20T17:45:43.262Z"
      },
      {
        "duration": 165,
        "start_time": "2022-09-20T17:45:43.434Z"
      },
      {
        "duration": 167,
        "start_time": "2022-09-20T17:45:43.601Z"
      },
      {
        "duration": 196,
        "start_time": "2022-09-20T17:45:43.769Z"
      },
      {
        "duration": 180,
        "start_time": "2022-09-20T17:45:43.966Z"
      },
      {
        "duration": 10,
        "start_time": "2022-09-20T17:45:44.148Z"
      },
      {
        "duration": 214,
        "start_time": "2022-09-20T17:45:44.160Z"
      },
      {
        "duration": 170,
        "start_time": "2022-09-20T17:45:44.376Z"
      },
      {
        "duration": 164,
        "start_time": "2022-09-20T17:45:44.547Z"
      },
      {
        "duration": 254,
        "start_time": "2022-09-20T17:45:44.713Z"
      },
      {
        "duration": 37,
        "start_time": "2022-09-20T17:45:44.970Z"
      },
      {
        "duration": 276,
        "start_time": "2022-09-20T17:45:45.011Z"
      },
      {
        "duration": 274,
        "start_time": "2022-09-20T17:45:45.290Z"
      },
      {
        "duration": 266,
        "start_time": "2022-09-20T17:45:45.566Z"
      },
      {
        "duration": 230,
        "start_time": "2022-09-20T17:45:45.834Z"
      },
      {
        "duration": 57,
        "start_time": "2022-09-20T17:45:46.066Z"
      },
      {
        "duration": 45,
        "start_time": "2022-09-20T17:45:46.126Z"
      },
      {
        "duration": 91,
        "start_time": "2022-09-20T17:45:46.173Z"
      },
      {
        "duration": 212,
        "start_time": "2022-09-20T17:45:46.266Z"
      },
      {
        "duration": 350,
        "start_time": "2022-09-20T17:45:46.480Z"
      },
      {
        "duration": 62,
        "start_time": "2022-09-20T17:47:59.187Z"
      },
      {
        "duration": 87,
        "start_time": "2022-09-20T17:48:31.815Z"
      },
      {
        "duration": 1511,
        "start_time": "2022-09-20T17:49:16.709Z"
      },
      {
        "duration": 1401,
        "start_time": "2022-09-20T17:50:48.984Z"
      },
      {
        "duration": 408,
        "start_time": "2022-09-21T07:48:29.204Z"
      },
      {
        "duration": 2631,
        "start_time": "2022-09-21T07:48:29.614Z"
      },
      {
        "duration": 10,
        "start_time": "2022-09-21T07:48:32.247Z"
      },
      {
        "duration": 22,
        "start_time": "2022-09-21T07:48:32.260Z"
      },
      {
        "duration": 8,
        "start_time": "2022-09-21T07:48:32.296Z"
      },
      {
        "duration": 8,
        "start_time": "2022-09-21T07:48:32.306Z"
      },
      {
        "duration": 28,
        "start_time": "2022-09-21T07:48:32.316Z"
      },
      {
        "duration": 146,
        "start_time": "2022-09-21T07:48:32.346Z"
      },
      {
        "duration": 20,
        "start_time": "2022-09-21T07:48:32.496Z"
      },
      {
        "duration": 4,
        "start_time": "2022-09-21T07:48:32.519Z"
      },
      {
        "duration": 85,
        "start_time": "2022-09-21T07:48:32.525Z"
      },
      {
        "duration": 11,
        "start_time": "2022-09-21T07:48:32.612Z"
      },
      {
        "duration": 16,
        "start_time": "2022-09-21T07:48:32.625Z"
      },
      {
        "duration": 569,
        "start_time": "2022-09-21T07:48:32.643Z"
      },
      {
        "duration": 4,
        "start_time": "2022-09-21T07:48:33.214Z"
      },
      {
        "duration": 151,
        "start_time": "2022-09-21T07:48:33.219Z"
      },
      {
        "duration": 145,
        "start_time": "2022-09-21T07:48:33.371Z"
      },
      {
        "duration": 126,
        "start_time": "2022-09-21T07:48:33.518Z"
      },
      {
        "duration": 132,
        "start_time": "2022-09-21T07:48:33.646Z"
      },
      {
        "duration": 155,
        "start_time": "2022-09-21T07:48:33.780Z"
      },
      {
        "duration": 164,
        "start_time": "2022-09-21T07:48:33.937Z"
      },
      {
        "duration": 157,
        "start_time": "2022-09-21T07:48:34.102Z"
      },
      {
        "duration": 7,
        "start_time": "2022-09-21T07:48:34.260Z"
      },
      {
        "duration": 167,
        "start_time": "2022-09-21T07:48:34.268Z"
      },
      {
        "duration": 140,
        "start_time": "2022-09-21T07:48:34.437Z"
      },
      {
        "duration": 137,
        "start_time": "2022-09-21T07:48:34.579Z"
      },
      {
        "duration": 225,
        "start_time": "2022-09-21T07:48:34.718Z"
      },
      {
        "duration": 12,
        "start_time": "2022-09-21T07:48:34.946Z"
      },
      {
        "duration": 229,
        "start_time": "2022-09-21T07:48:34.960Z"
      },
      {
        "duration": 215,
        "start_time": "2022-09-21T07:48:35.195Z"
      },
      {
        "duration": 203,
        "start_time": "2022-09-21T07:48:35.412Z"
      },
      {
        "duration": 194,
        "start_time": "2022-09-21T07:48:35.617Z"
      },
      {
        "duration": 29,
        "start_time": "2022-09-21T07:48:35.813Z"
      },
      {
        "duration": 53,
        "start_time": "2022-09-21T07:48:35.843Z"
      },
      {
        "duration": 48,
        "start_time": "2022-09-21T07:48:35.898Z"
      },
      {
        "duration": 205,
        "start_time": "2022-09-21T07:48:35.948Z"
      },
      {
        "duration": 285,
        "start_time": "2022-09-21T07:48:36.155Z"
      },
      {
        "duration": 10,
        "start_time": "2022-10-05T18:24:21.767Z"
      },
      {
        "duration": 467,
        "start_time": "2022-10-05T18:24:27.831Z"
      },
      {
        "duration": 2712,
        "start_time": "2022-10-05T18:24:28.301Z"
      },
      {
        "duration": 9,
        "start_time": "2022-10-05T18:24:31.015Z"
      },
      {
        "duration": 51,
        "start_time": "2022-10-05T18:24:31.026Z"
      },
      {
        "duration": 21,
        "start_time": "2022-10-05T18:24:31.079Z"
      },
      {
        "duration": 27,
        "start_time": "2022-10-05T18:24:31.102Z"
      },
      {
        "duration": 48,
        "start_time": "2022-10-05T18:24:31.131Z"
      },
      {
        "duration": 138,
        "start_time": "2022-10-05T18:24:31.180Z"
      },
      {
        "duration": 36,
        "start_time": "2022-10-05T18:24:31.320Z"
      },
      {
        "duration": 7,
        "start_time": "2022-10-05T18:24:31.359Z"
      },
      {
        "duration": 96,
        "start_time": "2022-10-05T18:24:31.367Z"
      },
      {
        "duration": 11,
        "start_time": "2022-10-05T18:24:31.465Z"
      },
      {
        "duration": 29,
        "start_time": "2022-10-05T18:24:31.478Z"
      },
      {
        "duration": 562,
        "start_time": "2022-10-05T18:24:31.510Z"
      },
      {
        "duration": 3,
        "start_time": "2022-10-05T18:24:32.074Z"
      },
      {
        "duration": 295,
        "start_time": "2022-10-05T18:24:32.079Z"
      },
      {
        "duration": 183,
        "start_time": "2022-10-05T18:24:32.376Z"
      },
      {
        "duration": 167,
        "start_time": "2022-10-05T18:24:32.561Z"
      },
      {
        "duration": 163,
        "start_time": "2022-10-05T18:24:32.734Z"
      },
      {
        "duration": 189,
        "start_time": "2022-10-05T18:24:32.900Z"
      },
      {
        "duration": 185,
        "start_time": "2022-10-05T18:24:33.091Z"
      },
      {
        "duration": 143,
        "start_time": "2022-10-05T18:24:33.279Z"
      },
      {
        "duration": 16,
        "start_time": "2022-10-05T18:24:33.424Z"
      },
      {
        "duration": 182,
        "start_time": "2022-10-05T18:24:33.443Z"
      },
      {
        "duration": 164,
        "start_time": "2022-10-05T18:24:33.626Z"
      },
      {
        "duration": 153,
        "start_time": "2022-10-05T18:24:33.792Z"
      },
      {
        "duration": 171,
        "start_time": "2022-10-05T18:24:33.948Z"
      },
      {
        "duration": 12,
        "start_time": "2022-10-05T18:24:34.121Z"
      },
      {
        "duration": 287,
        "start_time": "2022-10-05T18:24:34.135Z"
      },
      {
        "duration": 235,
        "start_time": "2022-10-05T18:24:34.423Z"
      },
      {
        "duration": 211,
        "start_time": "2022-10-05T18:24:34.661Z"
      },
      {
        "duration": 199,
        "start_time": "2022-10-05T18:24:34.874Z"
      },
      {
        "duration": 27,
        "start_time": "2022-10-05T18:24:35.075Z"
      },
      {
        "duration": 53,
        "start_time": "2022-10-05T18:24:35.104Z"
      },
      {
        "duration": 49,
        "start_time": "2022-10-05T18:24:35.159Z"
      },
      {
        "duration": 196,
        "start_time": "2022-10-05T18:24:35.210Z"
      },
      {
        "duration": 294,
        "start_time": "2022-10-05T18:24:35.408Z"
      },
      {
        "duration": 107,
        "start_time": "2022-10-05T18:26:07.697Z"
      },
      {
        "duration": 146,
        "start_time": "2022-10-05T18:26:11.429Z"
      },
      {
        "duration": 52,
        "start_time": "2023-03-19T12:21:32.892Z"
      },
      {
        "duration": 60,
        "start_time": "2023-03-19T12:21:38.245Z"
      },
      {
        "duration": 0,
        "start_time": "2023-03-19T12:21:38.308Z"
      },
      {
        "duration": 0,
        "start_time": "2023-03-19T12:21:38.310Z"
      },
      {
        "duration": 0,
        "start_time": "2023-03-19T12:21:38.311Z"
      },
      {
        "duration": 0,
        "start_time": "2023-03-19T12:21:38.312Z"
      },
      {
        "duration": 0,
        "start_time": "2023-03-19T12:21:38.313Z"
      },
      {
        "duration": 0,
        "start_time": "2023-03-19T12:21:38.314Z"
      },
      {
        "duration": 53,
        "start_time": "2023-03-19T12:21:38.327Z"
      },
      {
        "duration": 0,
        "start_time": "2023-03-19T12:21:38.382Z"
      },
      {
        "duration": 0,
        "start_time": "2023-03-19T12:21:38.383Z"
      },
      {
        "duration": 0,
        "start_time": "2023-03-19T12:21:38.384Z"
      },
      {
        "duration": 0,
        "start_time": "2023-03-19T12:21:38.385Z"
      },
      {
        "duration": 0,
        "start_time": "2023-03-19T12:21:38.387Z"
      },
      {
        "duration": 0,
        "start_time": "2023-03-19T12:21:38.388Z"
      },
      {
        "duration": 0,
        "start_time": "2023-03-19T12:21:38.389Z"
      },
      {
        "duration": 0,
        "start_time": "2023-03-19T12:21:38.390Z"
      },
      {
        "duration": 0,
        "start_time": "2023-03-19T12:21:38.391Z"
      },
      {
        "duration": 8,
        "start_time": "2023-03-19T12:21:38.393Z"
      },
      {
        "duration": 0,
        "start_time": "2023-03-19T12:21:38.403Z"
      },
      {
        "duration": 0,
        "start_time": "2023-03-19T12:21:38.404Z"
      },
      {
        "duration": 0,
        "start_time": "2023-03-19T12:21:38.405Z"
      },
      {
        "duration": 56,
        "start_time": "2023-03-19T12:21:38.409Z"
      },
      {
        "duration": 0,
        "start_time": "2023-03-19T12:21:38.477Z"
      },
      {
        "duration": 0,
        "start_time": "2023-03-19T12:21:38.477Z"
      },
      {
        "duration": 0,
        "start_time": "2023-03-19T12:21:38.479Z"
      },
      {
        "duration": 0,
        "start_time": "2023-03-19T12:21:38.481Z"
      },
      {
        "duration": 0,
        "start_time": "2023-03-19T12:21:38.483Z"
      },
      {
        "duration": 0,
        "start_time": "2023-03-19T12:21:38.484Z"
      },
      {
        "duration": 0,
        "start_time": "2023-03-19T12:21:38.485Z"
      },
      {
        "duration": 0,
        "start_time": "2023-03-19T12:21:38.487Z"
      },
      {
        "duration": 0,
        "start_time": "2023-03-19T12:21:38.488Z"
      },
      {
        "duration": 0,
        "start_time": "2023-03-19T12:21:38.490Z"
      },
      {
        "duration": 0,
        "start_time": "2023-03-19T12:21:38.491Z"
      },
      {
        "duration": 0,
        "start_time": "2023-03-19T12:21:38.493Z"
      },
      {
        "duration": 0,
        "start_time": "2023-03-19T12:21:38.494Z"
      },
      {
        "duration": 0,
        "start_time": "2023-03-19T12:21:38.495Z"
      },
      {
        "duration": 0,
        "start_time": "2023-03-19T12:21:38.497Z"
      }
    ],
    "kernelspec": {
      "display_name": "Python 3 (ipykernel)",
      "language": "python",
      "name": "python3"
    },
    "language_info": {
      "codemirror_mode": {
        "name": "ipython",
        "version": 3
      },
      "file_extension": ".py",
      "mimetype": "text/x-python",
      "name": "python",
      "nbconvert_exporter": "python",
      "pygments_lexer": "ipython3",
      "version": "3.9.5"
    },
    "toc": {
      "base_numbering": 1,
      "nav_menu": {},
      "number_sections": true,
      "sideBar": true,
      "skip_h1_title": true,
      "title_cell": "Table of Contents",
      "title_sidebar": "Contents",
      "toc_cell": false,
      "toc_position": {},
      "toc_section_display": true,
      "toc_window_display": false
    },
    "colab": {
      "provenance": [],
      "toc_visible": true,
      "include_colab_link": true
    }
  },
  "nbformat": 4,
  "nbformat_minor": 0
}