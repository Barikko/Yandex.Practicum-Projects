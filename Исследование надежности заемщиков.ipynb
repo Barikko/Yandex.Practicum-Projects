{
  "cells": [
    {
      "cell_type": "markdown",
      "metadata": {
        "id": "view-in-github",
        "colab_type": "text"
      },
      "source": [
        "<a href=\"https://colab.research.google.com/github/Barikko/Porject/blob/main/%D0%97%D0%B0%D1%91%D0%BC%D1%89%D0%B8%D0%BA%D0%B8.ipynb\" target=\"_parent\"><img src=\"https://colab.research.google.com/assets/colab-badge.svg\" alt=\"Open In Colab\"/></a>"
      ]
    },
    {
      "cell_type": "markdown",
      "id": "064edd4d",
      "metadata": {
        "deletable": false,
        "editable": false,
        "id": "064edd4d"
      },
      "source": [
        "# Исследование надежности заемщиков\n"
      ]
    },
    {
      "cell_type": "markdown",
      "id": "b2713223",
      "metadata": {
        "deletable": false,
        "editable": false,
        "id": "b2713223"
      },
      "source": [
        "## Откройте таблицу и изучите общую информацию о данных"
      ]
    },
    {
      "cell_type": "markdown",
      "id": "1c527f82",
      "metadata": {
        "deletable": false,
        "editable": false,
        "id": "1c527f82"
      },
      "source": [
        "**Задание 1. Импортируйте библиотеку pandas. Считайте данные из csv-файла в датафрейм и сохраните в переменную `data`."
      ]
    },
    {
      "cell_type": "code",
      "execution_count": 101,
      "id": "e2b2b953",
      "metadata": {
        "deletable": false,
        "id": "e2b2b953"
      },
      "outputs": [],
      "source": [
        "import pandas as pd\n",
        "import seaborn as sb\n",
        "import matplotlib.pyplot as plt\n",
        "data = pd.read_csv('/content/sample_data/data.csv')"
      ]
    },
    {
      "cell_type": "markdown",
      "id": "d24b23c3",
      "metadata": {
        "deletable": false,
        "editable": false,
        "id": "d24b23c3"
      },
      "source": [
        "**Задание 2. Выведите первые 20 строчек датафрейма `data` на экран.**"
      ]
    },
    {
      "cell_type": "code",
      "execution_count": 102,
      "id": "85e7baf8",
      "metadata": {
        "deletable": false,
        "id": "85e7baf8",
        "outputId": "6fc0700d-546f-41a7-89ed-47659ca28665",
        "colab": {
          "base_uri": "https://localhost:8080/",
          "height": 1000
        }
      },
      "outputs": [
        {
          "output_type": "execute_result",
          "data": {
            "text/plain": [
              "    children  days_employed  dob_years            education  education_id  \\\n",
              "0          1   -8437.673028         42               высшее             0   \n",
              "1          1   -4024.803754         36              среднее             1   \n",
              "2          0   -5623.422610         33              Среднее             1   \n",
              "3          3   -4124.747207         32              среднее             1   \n",
              "4          0  340266.072047         53              среднее             1   \n",
              "5          0    -926.185831         27               высшее             0   \n",
              "6          0   -2879.202052         43               высшее             0   \n",
              "7          0    -152.779569         50              СРЕДНЕЕ             1   \n",
              "8          2   -6929.865299         35               ВЫСШЕЕ             0   \n",
              "9          0   -2188.756445         41              среднее             1   \n",
              "10         2   -4171.483647         36               высшее             0   \n",
              "11         0    -792.701887         40              среднее             1   \n",
              "12         0            NaN         65              среднее             1   \n",
              "13         0   -1846.641941         54  неоконченное высшее             2   \n",
              "14         0   -1844.956182         56               высшее             0   \n",
              "15         1    -972.364419         26              среднее             1   \n",
              "16         0   -1719.934226         35              среднее             1   \n",
              "17         0   -2369.999720         33               высшее             0   \n",
              "18         0  400281.136913         53              среднее             1   \n",
              "19         0  -10038.818549         48              СРЕДНЕЕ             1   \n",
              "\n",
              "       family_status  family_status_id gender income_type  debt  \\\n",
              "0    женат / замужем                 0      F   сотрудник     0   \n",
              "1    женат / замужем                 0      F   сотрудник     0   \n",
              "2    женат / замужем                 0      M   сотрудник     0   \n",
              "3    женат / замужем                 0      M   сотрудник     0   \n",
              "4   гражданский брак                 1      F   пенсионер     0   \n",
              "5   гражданский брак                 1      M   компаньон     0   \n",
              "6    женат / замужем                 0      F   компаньон     0   \n",
              "7    женат / замужем                 0      M   сотрудник     0   \n",
              "8   гражданский брак                 1      F   сотрудник     0   \n",
              "9    женат / замужем                 0      M   сотрудник     0   \n",
              "10   женат / замужем                 0      M   компаньон     0   \n",
              "11   женат / замужем                 0      F   сотрудник     0   \n",
              "12  гражданский брак                 1      M   пенсионер     0   \n",
              "13   женат / замужем                 0      F   сотрудник     0   \n",
              "14  гражданский брак                 1      F   компаньон     1   \n",
              "15   женат / замужем                 0      F   сотрудник     0   \n",
              "16   женат / замужем                 0      F   сотрудник     0   \n",
              "17  гражданский брак                 1      M   сотрудник     0   \n",
              "18    вдовец / вдова                 2      F   пенсионер     0   \n",
              "19         в разводе                 3      F   сотрудник     0   \n",
              "\n",
              "     total_income                                 purpose  \n",
              "0   253875.639453                           покупка жилья  \n",
              "1   112080.014102                 приобретение автомобиля  \n",
              "2   145885.952297                           покупка жилья  \n",
              "3   267628.550329              дополнительное образование  \n",
              "4   158616.077870                         сыграть свадьбу  \n",
              "5   255763.565419                           покупка жилья  \n",
              "6   240525.971920                       операции с жильем  \n",
              "7   135823.934197                             образование  \n",
              "8    95856.832424                   на проведение свадьбы  \n",
              "9   144425.938277                 покупка жилья для семьи  \n",
              "10  113943.491460                    покупка недвижимости  \n",
              "11   77069.234271       покупка коммерческой недвижимости  \n",
              "12            NaN                         сыграть свадьбу  \n",
              "13  130458.228857                 приобретение автомобиля  \n",
              "14  165127.911772              покупка жилой недвижимости  \n",
              "15  116820.904450  строительство собственной недвижимости  \n",
              "16  289202.704229                            недвижимость  \n",
              "17   90410.586745              строительство недвижимости  \n",
              "18   56823.777243      на покупку подержанного автомобиля  \n",
              "19  242831.107982            на покупку своего автомобиля  "
            ],
            "text/html": [
              "\n",
              "  <div id=\"df-f902fd4a-25e2-4ac3-a8af-3d1c92869929\">\n",
              "    <div class=\"colab-df-container\">\n",
              "      <div>\n",
              "<style scoped>\n",
              "    .dataframe tbody tr th:only-of-type {\n",
              "        vertical-align: middle;\n",
              "    }\n",
              "\n",
              "    .dataframe tbody tr th {\n",
              "        vertical-align: top;\n",
              "    }\n",
              "\n",
              "    .dataframe thead th {\n",
              "        text-align: right;\n",
              "    }\n",
              "</style>\n",
              "<table border=\"1\" class=\"dataframe\">\n",
              "  <thead>\n",
              "    <tr style=\"text-align: right;\">\n",
              "      <th></th>\n",
              "      <th>children</th>\n",
              "      <th>days_employed</th>\n",
              "      <th>dob_years</th>\n",
              "      <th>education</th>\n",
              "      <th>education_id</th>\n",
              "      <th>family_status</th>\n",
              "      <th>family_status_id</th>\n",
              "      <th>gender</th>\n",
              "      <th>income_type</th>\n",
              "      <th>debt</th>\n",
              "      <th>total_income</th>\n",
              "      <th>purpose</th>\n",
              "    </tr>\n",
              "  </thead>\n",
              "  <tbody>\n",
              "    <tr>\n",
              "      <th>0</th>\n",
              "      <td>1</td>\n",
              "      <td>-8437.673028</td>\n",
              "      <td>42</td>\n",
              "      <td>высшее</td>\n",
              "      <td>0</td>\n",
              "      <td>женат / замужем</td>\n",
              "      <td>0</td>\n",
              "      <td>F</td>\n",
              "      <td>сотрудник</td>\n",
              "      <td>0</td>\n",
              "      <td>253875.639453</td>\n",
              "      <td>покупка жилья</td>\n",
              "    </tr>\n",
              "    <tr>\n",
              "      <th>1</th>\n",
              "      <td>1</td>\n",
              "      <td>-4024.803754</td>\n",
              "      <td>36</td>\n",
              "      <td>среднее</td>\n",
              "      <td>1</td>\n",
              "      <td>женат / замужем</td>\n",
              "      <td>0</td>\n",
              "      <td>F</td>\n",
              "      <td>сотрудник</td>\n",
              "      <td>0</td>\n",
              "      <td>112080.014102</td>\n",
              "      <td>приобретение автомобиля</td>\n",
              "    </tr>\n",
              "    <tr>\n",
              "      <th>2</th>\n",
              "      <td>0</td>\n",
              "      <td>-5623.422610</td>\n",
              "      <td>33</td>\n",
              "      <td>Среднее</td>\n",
              "      <td>1</td>\n",
              "      <td>женат / замужем</td>\n",
              "      <td>0</td>\n",
              "      <td>M</td>\n",
              "      <td>сотрудник</td>\n",
              "      <td>0</td>\n",
              "      <td>145885.952297</td>\n",
              "      <td>покупка жилья</td>\n",
              "    </tr>\n",
              "    <tr>\n",
              "      <th>3</th>\n",
              "      <td>3</td>\n",
              "      <td>-4124.747207</td>\n",
              "      <td>32</td>\n",
              "      <td>среднее</td>\n",
              "      <td>1</td>\n",
              "      <td>женат / замужем</td>\n",
              "      <td>0</td>\n",
              "      <td>M</td>\n",
              "      <td>сотрудник</td>\n",
              "      <td>0</td>\n",
              "      <td>267628.550329</td>\n",
              "      <td>дополнительное образование</td>\n",
              "    </tr>\n",
              "    <tr>\n",
              "      <th>4</th>\n",
              "      <td>0</td>\n",
              "      <td>340266.072047</td>\n",
              "      <td>53</td>\n",
              "      <td>среднее</td>\n",
              "      <td>1</td>\n",
              "      <td>гражданский брак</td>\n",
              "      <td>1</td>\n",
              "      <td>F</td>\n",
              "      <td>пенсионер</td>\n",
              "      <td>0</td>\n",
              "      <td>158616.077870</td>\n",
              "      <td>сыграть свадьбу</td>\n",
              "    </tr>\n",
              "    <tr>\n",
              "      <th>5</th>\n",
              "      <td>0</td>\n",
              "      <td>-926.185831</td>\n",
              "      <td>27</td>\n",
              "      <td>высшее</td>\n",
              "      <td>0</td>\n",
              "      <td>гражданский брак</td>\n",
              "      <td>1</td>\n",
              "      <td>M</td>\n",
              "      <td>компаньон</td>\n",
              "      <td>0</td>\n",
              "      <td>255763.565419</td>\n",
              "      <td>покупка жилья</td>\n",
              "    </tr>\n",
              "    <tr>\n",
              "      <th>6</th>\n",
              "      <td>0</td>\n",
              "      <td>-2879.202052</td>\n",
              "      <td>43</td>\n",
              "      <td>высшее</td>\n",
              "      <td>0</td>\n",
              "      <td>женат / замужем</td>\n",
              "      <td>0</td>\n",
              "      <td>F</td>\n",
              "      <td>компаньон</td>\n",
              "      <td>0</td>\n",
              "      <td>240525.971920</td>\n",
              "      <td>операции с жильем</td>\n",
              "    </tr>\n",
              "    <tr>\n",
              "      <th>7</th>\n",
              "      <td>0</td>\n",
              "      <td>-152.779569</td>\n",
              "      <td>50</td>\n",
              "      <td>СРЕДНЕЕ</td>\n",
              "      <td>1</td>\n",
              "      <td>женат / замужем</td>\n",
              "      <td>0</td>\n",
              "      <td>M</td>\n",
              "      <td>сотрудник</td>\n",
              "      <td>0</td>\n",
              "      <td>135823.934197</td>\n",
              "      <td>образование</td>\n",
              "    </tr>\n",
              "    <tr>\n",
              "      <th>8</th>\n",
              "      <td>2</td>\n",
              "      <td>-6929.865299</td>\n",
              "      <td>35</td>\n",
              "      <td>ВЫСШЕЕ</td>\n",
              "      <td>0</td>\n",
              "      <td>гражданский брак</td>\n",
              "      <td>1</td>\n",
              "      <td>F</td>\n",
              "      <td>сотрудник</td>\n",
              "      <td>0</td>\n",
              "      <td>95856.832424</td>\n",
              "      <td>на проведение свадьбы</td>\n",
              "    </tr>\n",
              "    <tr>\n",
              "      <th>9</th>\n",
              "      <td>0</td>\n",
              "      <td>-2188.756445</td>\n",
              "      <td>41</td>\n",
              "      <td>среднее</td>\n",
              "      <td>1</td>\n",
              "      <td>женат / замужем</td>\n",
              "      <td>0</td>\n",
              "      <td>M</td>\n",
              "      <td>сотрудник</td>\n",
              "      <td>0</td>\n",
              "      <td>144425.938277</td>\n",
              "      <td>покупка жилья для семьи</td>\n",
              "    </tr>\n",
              "    <tr>\n",
              "      <th>10</th>\n",
              "      <td>2</td>\n",
              "      <td>-4171.483647</td>\n",
              "      <td>36</td>\n",
              "      <td>высшее</td>\n",
              "      <td>0</td>\n",
              "      <td>женат / замужем</td>\n",
              "      <td>0</td>\n",
              "      <td>M</td>\n",
              "      <td>компаньон</td>\n",
              "      <td>0</td>\n",
              "      <td>113943.491460</td>\n",
              "      <td>покупка недвижимости</td>\n",
              "    </tr>\n",
              "    <tr>\n",
              "      <th>11</th>\n",
              "      <td>0</td>\n",
              "      <td>-792.701887</td>\n",
              "      <td>40</td>\n",
              "      <td>среднее</td>\n",
              "      <td>1</td>\n",
              "      <td>женат / замужем</td>\n",
              "      <td>0</td>\n",
              "      <td>F</td>\n",
              "      <td>сотрудник</td>\n",
              "      <td>0</td>\n",
              "      <td>77069.234271</td>\n",
              "      <td>покупка коммерческой недвижимости</td>\n",
              "    </tr>\n",
              "    <tr>\n",
              "      <th>12</th>\n",
              "      <td>0</td>\n",
              "      <td>NaN</td>\n",
              "      <td>65</td>\n",
              "      <td>среднее</td>\n",
              "      <td>1</td>\n",
              "      <td>гражданский брак</td>\n",
              "      <td>1</td>\n",
              "      <td>M</td>\n",
              "      <td>пенсионер</td>\n",
              "      <td>0</td>\n",
              "      <td>NaN</td>\n",
              "      <td>сыграть свадьбу</td>\n",
              "    </tr>\n",
              "    <tr>\n",
              "      <th>13</th>\n",
              "      <td>0</td>\n",
              "      <td>-1846.641941</td>\n",
              "      <td>54</td>\n",
              "      <td>неоконченное высшее</td>\n",
              "      <td>2</td>\n",
              "      <td>женат / замужем</td>\n",
              "      <td>0</td>\n",
              "      <td>F</td>\n",
              "      <td>сотрудник</td>\n",
              "      <td>0</td>\n",
              "      <td>130458.228857</td>\n",
              "      <td>приобретение автомобиля</td>\n",
              "    </tr>\n",
              "    <tr>\n",
              "      <th>14</th>\n",
              "      <td>0</td>\n",
              "      <td>-1844.956182</td>\n",
              "      <td>56</td>\n",
              "      <td>высшее</td>\n",
              "      <td>0</td>\n",
              "      <td>гражданский брак</td>\n",
              "      <td>1</td>\n",
              "      <td>F</td>\n",
              "      <td>компаньон</td>\n",
              "      <td>1</td>\n",
              "      <td>165127.911772</td>\n",
              "      <td>покупка жилой недвижимости</td>\n",
              "    </tr>\n",
              "    <tr>\n",
              "      <th>15</th>\n",
              "      <td>1</td>\n",
              "      <td>-972.364419</td>\n",
              "      <td>26</td>\n",
              "      <td>среднее</td>\n",
              "      <td>1</td>\n",
              "      <td>женат / замужем</td>\n",
              "      <td>0</td>\n",
              "      <td>F</td>\n",
              "      <td>сотрудник</td>\n",
              "      <td>0</td>\n",
              "      <td>116820.904450</td>\n",
              "      <td>строительство собственной недвижимости</td>\n",
              "    </tr>\n",
              "    <tr>\n",
              "      <th>16</th>\n",
              "      <td>0</td>\n",
              "      <td>-1719.934226</td>\n",
              "      <td>35</td>\n",
              "      <td>среднее</td>\n",
              "      <td>1</td>\n",
              "      <td>женат / замужем</td>\n",
              "      <td>0</td>\n",
              "      <td>F</td>\n",
              "      <td>сотрудник</td>\n",
              "      <td>0</td>\n",
              "      <td>289202.704229</td>\n",
              "      <td>недвижимость</td>\n",
              "    </tr>\n",
              "    <tr>\n",
              "      <th>17</th>\n",
              "      <td>0</td>\n",
              "      <td>-2369.999720</td>\n",
              "      <td>33</td>\n",
              "      <td>высшее</td>\n",
              "      <td>0</td>\n",
              "      <td>гражданский брак</td>\n",
              "      <td>1</td>\n",
              "      <td>M</td>\n",
              "      <td>сотрудник</td>\n",
              "      <td>0</td>\n",
              "      <td>90410.586745</td>\n",
              "      <td>строительство недвижимости</td>\n",
              "    </tr>\n",
              "    <tr>\n",
              "      <th>18</th>\n",
              "      <td>0</td>\n",
              "      <td>400281.136913</td>\n",
              "      <td>53</td>\n",
              "      <td>среднее</td>\n",
              "      <td>1</td>\n",
              "      <td>вдовец / вдова</td>\n",
              "      <td>2</td>\n",
              "      <td>F</td>\n",
              "      <td>пенсионер</td>\n",
              "      <td>0</td>\n",
              "      <td>56823.777243</td>\n",
              "      <td>на покупку подержанного автомобиля</td>\n",
              "    </tr>\n",
              "    <tr>\n",
              "      <th>19</th>\n",
              "      <td>0</td>\n",
              "      <td>-10038.818549</td>\n",
              "      <td>48</td>\n",
              "      <td>СРЕДНЕЕ</td>\n",
              "      <td>1</td>\n",
              "      <td>в разводе</td>\n",
              "      <td>3</td>\n",
              "      <td>F</td>\n",
              "      <td>сотрудник</td>\n",
              "      <td>0</td>\n",
              "      <td>242831.107982</td>\n",
              "      <td>на покупку своего автомобиля</td>\n",
              "    </tr>\n",
              "  </tbody>\n",
              "</table>\n",
              "</div>\n",
              "      <button class=\"colab-df-convert\" onclick=\"convertToInteractive('df-f902fd4a-25e2-4ac3-a8af-3d1c92869929')\"\n",
              "              title=\"Convert this dataframe to an interactive table.\"\n",
              "              style=\"display:none;\">\n",
              "        \n",
              "  <svg xmlns=\"http://www.w3.org/2000/svg\" height=\"24px\"viewBox=\"0 0 24 24\"\n",
              "       width=\"24px\">\n",
              "    <path d=\"M0 0h24v24H0V0z\" fill=\"none\"/>\n",
              "    <path d=\"M18.56 5.44l.94 2.06.94-2.06 2.06-.94-2.06-.94-.94-2.06-.94 2.06-2.06.94zm-11 1L8.5 8.5l.94-2.06 2.06-.94-2.06-.94L8.5 2.5l-.94 2.06-2.06.94zm10 10l.94 2.06.94-2.06 2.06-.94-2.06-.94-.94-2.06-.94 2.06-2.06.94z\"/><path d=\"M17.41 7.96l-1.37-1.37c-.4-.4-.92-.59-1.43-.59-.52 0-1.04.2-1.43.59L10.3 9.45l-7.72 7.72c-.78.78-.78 2.05 0 2.83L4 21.41c.39.39.9.59 1.41.59.51 0 1.02-.2 1.41-.59l7.78-7.78 2.81-2.81c.8-.78.8-2.07 0-2.86zM5.41 20L4 18.59l7.72-7.72 1.47 1.35L5.41 20z\"/>\n",
              "  </svg>\n",
              "      </button>\n",
              "      \n",
              "  <style>\n",
              "    .colab-df-container {\n",
              "      display:flex;\n",
              "      flex-wrap:wrap;\n",
              "      gap: 12px;\n",
              "    }\n",
              "\n",
              "    .colab-df-convert {\n",
              "      background-color: #E8F0FE;\n",
              "      border: none;\n",
              "      border-radius: 50%;\n",
              "      cursor: pointer;\n",
              "      display: none;\n",
              "      fill: #1967D2;\n",
              "      height: 32px;\n",
              "      padding: 0 0 0 0;\n",
              "      width: 32px;\n",
              "    }\n",
              "\n",
              "    .colab-df-convert:hover {\n",
              "      background-color: #E2EBFA;\n",
              "      box-shadow: 0px 1px 2px rgba(60, 64, 67, 0.3), 0px 1px 3px 1px rgba(60, 64, 67, 0.15);\n",
              "      fill: #174EA6;\n",
              "    }\n",
              "\n",
              "    [theme=dark] .colab-df-convert {\n",
              "      background-color: #3B4455;\n",
              "      fill: #D2E3FC;\n",
              "    }\n",
              "\n",
              "    [theme=dark] .colab-df-convert:hover {\n",
              "      background-color: #434B5C;\n",
              "      box-shadow: 0px 1px 3px 1px rgba(0, 0, 0, 0.15);\n",
              "      filter: drop-shadow(0px 1px 2px rgba(0, 0, 0, 0.3));\n",
              "      fill: #FFFFFF;\n",
              "    }\n",
              "  </style>\n",
              "\n",
              "      <script>\n",
              "        const buttonEl =\n",
              "          document.querySelector('#df-f902fd4a-25e2-4ac3-a8af-3d1c92869929 button.colab-df-convert');\n",
              "        buttonEl.style.display =\n",
              "          google.colab.kernel.accessAllowed ? 'block' : 'none';\n",
              "\n",
              "        async function convertToInteractive(key) {\n",
              "          const element = document.querySelector('#df-f902fd4a-25e2-4ac3-a8af-3d1c92869929');\n",
              "          const dataTable =\n",
              "            await google.colab.kernel.invokeFunction('convertToInteractive',\n",
              "                                                     [key], {});\n",
              "          if (!dataTable) return;\n",
              "\n",
              "          const docLinkHtml = 'Like what you see? Visit the ' +\n",
              "            '<a target=\"_blank\" href=https://colab.research.google.com/notebooks/data_table.ipynb>data table notebook</a>'\n",
              "            + ' to learn more about interactive tables.';\n",
              "          element.innerHTML = '';\n",
              "          dataTable['output_type'] = 'display_data';\n",
              "          await google.colab.output.renderOutput(dataTable, element);\n",
              "          const docLink = document.createElement('div');\n",
              "          docLink.innerHTML = docLinkHtml;\n",
              "          element.appendChild(docLink);\n",
              "        }\n",
              "      </script>\n",
              "    </div>\n",
              "  </div>\n",
              "  "
            ]
          },
          "metadata": {},
          "execution_count": 102
        }
      ],
      "source": [
        "data.head(20)"
      ]
    },
    {
      "cell_type": "markdown",
      "id": "d1e0fce7",
      "metadata": {
        "deletable": false,
        "editable": false,
        "id": "d1e0fce7"
      },
      "source": [
        "**Задание 3. Выведите основную информацию о датафрейме с помощью метода `info()`.**"
      ]
    },
    {
      "cell_type": "code",
      "execution_count": 103,
      "id": "1f2cb45e",
      "metadata": {
        "deletable": false,
        "id": "1f2cb45e",
        "outputId": "2e151327-3496-4179-a044-a2737a19a449",
        "colab": {
          "base_uri": "https://localhost:8080/"
        }
      },
      "outputs": [
        {
          "output_type": "stream",
          "name": "stdout",
          "text": [
            "<class 'pandas.core.frame.DataFrame'>\n",
            "RangeIndex: 21525 entries, 0 to 21524\n",
            "Data columns (total 12 columns):\n",
            " #   Column            Non-Null Count  Dtype  \n",
            "---  ------            --------------  -----  \n",
            " 0   children          21525 non-null  int64  \n",
            " 1   days_employed     19351 non-null  float64\n",
            " 2   dob_years         21525 non-null  int64  \n",
            " 3   education         21525 non-null  object \n",
            " 4   education_id      21525 non-null  int64  \n",
            " 5   family_status     21525 non-null  object \n",
            " 6   family_status_id  21525 non-null  int64  \n",
            " 7   gender            21525 non-null  object \n",
            " 8   income_type       21525 non-null  object \n",
            " 9   debt              21525 non-null  int64  \n",
            " 10  total_income      19351 non-null  float64\n",
            " 11  purpose           21525 non-null  object \n",
            "dtypes: float64(2), int64(5), object(5)\n",
            "memory usage: 2.0+ MB\n"
          ]
        }
      ],
      "source": [
        "data.info()"
      ]
    },
    {
      "cell_type": "markdown",
      "id": "65efff82",
      "metadata": {
        "deletable": false,
        "editable": false,
        "id": "65efff82"
      },
      "source": [
        "## Предобработка данных"
      ]
    },
    {
      "cell_type": "markdown",
      "id": "466423f8",
      "metadata": {
        "deletable": false,
        "editable": false,
        "id": "466423f8"
      },
      "source": [
        "### Удаление пропусков"
      ]
    },
    {
      "cell_type": "markdown",
      "id": "801caa29",
      "metadata": {
        "deletable": false,
        "editable": false,
        "id": "801caa29"
      },
      "source": [
        "**Задание 4. Выведите количество пропущенных значений для каждого столбца. Используйте комбинацию двух методов.**"
      ]
    },
    {
      "cell_type": "code",
      "execution_count": 104,
      "id": "8087422e",
      "metadata": {
        "deletable": false,
        "id": "8087422e",
        "outputId": "ad15cd6a-ca7a-4db5-86f9-36f5648c937a",
        "colab": {
          "base_uri": "https://localhost:8080/"
        }
      },
      "outputs": [
        {
          "output_type": "execute_result",
          "data": {
            "text/plain": [
              "children               0\n",
              "days_employed       2174\n",
              "dob_years              0\n",
              "education              0\n",
              "education_id           0\n",
              "family_status          0\n",
              "family_status_id       0\n",
              "gender                 0\n",
              "income_type            0\n",
              "debt                   0\n",
              "total_income        2174\n",
              "purpose                0\n",
              "dtype: int64"
            ]
          },
          "metadata": {},
          "execution_count": 104
        }
      ],
      "source": [
        "data.isna().sum()"
      ]
    },
    {
      "cell_type": "markdown",
      "id": "58fe38a6",
      "metadata": {
        "deletable": false,
        "editable": false,
        "id": "58fe38a6"
      },
      "source": [
        "**Задание 5. В двух столбцах есть пропущенные значения. Один из них — `days_employed`. Пропуски в этом столбце вы обработаете на следующем этапе. Другой столбец с пропущенными значениями — `total_income` — хранит данные о доходах. На сумму дохода сильнее всего влияет тип занятости, поэтому заполнить пропуски в этом столбце нужно медианным значением по каждому типу из столбца `income_type`. Например, у человека с типом занятости `сотрудник` пропуск в столбце `total_income` должен быть заполнен медианным доходом среди всех записей с тем же типом.**"
      ]
    },
    {
      "cell_type": "code",
      "execution_count": 105,
      "id": "cee38c37",
      "metadata": {
        "deletable": false,
        "id": "cee38c37"
      },
      "outputs": [],
      "source": [
        "for t in data['income_type'].unique():\n",
        "    data.loc[(data['income_type'] == t) & (data['total_income'].isna()), 'total_income'] = \\\n",
        "    data.loc[(data['income_type'] == t), 'total_income'].median()"
      ]
    },
    {
      "cell_type": "markdown",
      "id": "08c22c4c",
      "metadata": {
        "deletable": false,
        "editable": false,
        "id": "08c22c4c"
      },
      "source": [
        "### Обработка аномальных значений"
      ]
    },
    {
      "cell_type": "markdown",
      "id": "1d385feb",
      "metadata": {
        "deletable": false,
        "editable": false,
        "id": "1d385feb"
      },
      "source": [
        "**Задание 6. В данных могут встречаться артефакты (аномалии) — значения, которые не отражают действительность и появились по какой-то ошибке. таким артефактом будет отрицательное количество дней трудового стажа в столбце `days_employed`. Для реальных данных это нормально. Обработайте значения в этом столбце: замените все отрицательные значения положительными с помощью метода `abs()`.**"
      ]
    },
    {
      "cell_type": "code",
      "execution_count": 106,
      "id": "02d9d1a4",
      "metadata": {
        "deletable": false,
        "id": "02d9d1a4"
      },
      "outputs": [],
      "source": [
        "data['days_employed'] = data['days_employed'].abs()"
      ]
    },
    {
      "cell_type": "markdown",
      "id": "e13f367e",
      "metadata": {
        "deletable": false,
        "editable": false,
        "id": "e13f367e"
      },
      "source": [
        "**Задание 7. Для каждого типа занятости выведите медианное значение трудового стажа `days_employed` в днях.**"
      ]
    },
    {
      "cell_type": "code",
      "execution_count": 107,
      "id": "0c7892e1",
      "metadata": {
        "deletable": false,
        "id": "0c7892e1",
        "outputId": "f2b6f380-b81a-4127-bd44-2650f92bc282",
        "colab": {
          "base_uri": "https://localhost:8080/"
        }
      },
      "outputs": [
        {
          "output_type": "execute_result",
          "data": {
            "text/plain": [
              "income_type\n",
              "безработный        366413.652744\n",
              "в декрете            3296.759962\n",
              "госслужащий          2689.368353\n",
              "компаньон            1547.382223\n",
              "пенсионер          365213.306266\n",
              "предприниматель       520.848083\n",
              "сотрудник            1574.202821\n",
              "студент               578.751554\n",
              "Name: days_employed, dtype: float64"
            ]
          },
          "metadata": {},
          "execution_count": 107
        }
      ],
      "source": [
        "data.groupby('income_type')['days_employed'].agg('median')"
      ]
    },
    {
      "cell_type": "markdown",
      "id": "a26c73ba",
      "metadata": {
        "deletable": false,
        "editable": false,
        "id": "a26c73ba"
      },
      "source": [
        "У двух типов (безработные и пенсионеры) получатся аномально большие значения. Исправить такие значения сложно, поэтому оставьте их как есть. Тем более этот столбец не понадобится вам для исследования."
      ]
    },
    {
      "cell_type": "markdown",
      "id": "c6a71ea6",
      "metadata": {
        "deletable": false,
        "editable": false,
        "id": "c6a71ea6"
      },
      "source": [
        "**Задание 8. Выведите перечень уникальных значений столбца `children`.**"
      ]
    },
    {
      "cell_type": "code",
      "execution_count": 108,
      "id": "41546b6e",
      "metadata": {
        "deletable": false,
        "id": "41546b6e",
        "outputId": "7e3ceb53-f3fd-4aff-f8c8-0c64ca68beef",
        "colab": {
          "base_uri": "https://localhost:8080/"
        }
      },
      "outputs": [
        {
          "output_type": "execute_result",
          "data": {
            "text/plain": [
              "array([ 1,  0,  3,  2, -1,  4, 20,  5])"
            ]
          },
          "metadata": {},
          "execution_count": 108
        }
      ],
      "source": [
        "data['children'].unique()"
      ]
    },
    {
      "cell_type": "markdown",
      "id": "c1a25753",
      "metadata": {
        "deletable": false,
        "editable": false,
        "id": "c1a25753"
      },
      "source": [
        "**Задание 9. В столбце `children` есть два аномальных значения. Удалите строки, в которых встречаются такие аномальные значения из датафрейма `data`.**"
      ]
    },
    {
      "cell_type": "code",
      "execution_count": 109,
      "id": "7acad1e4",
      "metadata": {
        "deletable": false,
        "id": "7acad1e4"
      },
      "outputs": [],
      "source": [
        "data = data[(data['children'] != -1) & (data['children'] != 20)]"
      ]
    },
    {
      "cell_type": "markdown",
      "id": "584b4e44",
      "metadata": {
        "deletable": false,
        "editable": false,
        "id": "584b4e44"
      },
      "source": [
        "**Задание 10. Ещё раз выведите перечень уникальных значений столбца `children`, чтобы убедиться, что артефакты удалены.**"
      ]
    },
    {
      "cell_type": "code",
      "execution_count": 110,
      "id": "3f9f3dc8",
      "metadata": {
        "deletable": false,
        "id": "3f9f3dc8",
        "outputId": "4d9869ab-4713-44ba-fdbe-83267ac99e99",
        "colab": {
          "base_uri": "https://localhost:8080/"
        }
      },
      "outputs": [
        {
          "output_type": "execute_result",
          "data": {
            "text/plain": [
              "array([1, 0, 3, 2, 4, 5])"
            ]
          },
          "metadata": {},
          "execution_count": 110
        }
      ],
      "source": [
        "data['children'].unique()"
      ]
    },
    {
      "cell_type": "markdown",
      "id": "e21dd546",
      "metadata": {
        "deletable": false,
        "editable": false,
        "id": "e21dd546"
      },
      "source": [
        "### Удаление пропусков (продолжение)"
      ]
    },
    {
      "cell_type": "markdown",
      "id": "fe02f48c",
      "metadata": {
        "deletable": false,
        "editable": false,
        "id": "fe02f48c"
      },
      "source": [
        "**Задание 11. Заполните пропуски в столбце `days_employed` медианными значениями по каждого типа занятости `income_type`.**"
      ]
    },
    {
      "cell_type": "code",
      "execution_count": 111,
      "id": "3cebf84b",
      "metadata": {
        "deletable": false,
        "id": "3cebf84b"
      },
      "outputs": [],
      "source": [
        "for t in data['income_type'].unique():\n",
        "    data.loc[(data['income_type'] == t) & (data['days_employed'].isna()), 'days_employed'] = \\\n",
        "    data.loc[(data['income_type'] == t), 'days_employed'].median()"
      ]
    },
    {
      "cell_type": "markdown",
      "id": "49c99c01",
      "metadata": {
        "deletable": false,
        "editable": false,
        "id": "49c99c01"
      },
      "source": [
        "**Задание 12. Убедитесь, что все пропуски заполнены. Проверьте себя и ещё раз выведите количество пропущенных значений для каждого столбца с помощью двух методов.**"
      ]
    },
    {
      "cell_type": "code",
      "execution_count": 112,
      "id": "aea5f611",
      "metadata": {
        "deletable": false,
        "id": "aea5f611",
        "outputId": "774171d1-6ede-4dc8-a56a-6b2c24795fde",
        "colab": {
          "base_uri": "https://localhost:8080/"
        }
      },
      "outputs": [
        {
          "output_type": "execute_result",
          "data": {
            "text/plain": [
              "children            0\n",
              "days_employed       0\n",
              "dob_years           0\n",
              "education           0\n",
              "education_id        0\n",
              "family_status       0\n",
              "family_status_id    0\n",
              "gender              0\n",
              "income_type         0\n",
              "debt                0\n",
              "total_income        0\n",
              "purpose             0\n",
              "dtype: int64"
            ]
          },
          "metadata": {},
          "execution_count": 112
        }
      ],
      "source": [
        "data.isna().sum()"
      ]
    },
    {
      "cell_type": "markdown",
      "id": "4f6db2b1",
      "metadata": {
        "deletable": false,
        "editable": false,
        "id": "4f6db2b1"
      },
      "source": [
        "### Изменение типов данных"
      ]
    },
    {
      "cell_type": "markdown",
      "id": "6beaf004",
      "metadata": {
        "deletable": false,
        "editable": false,
        "id": "6beaf004"
      },
      "source": [
        "**Задание 13. Замените вещественный тип данных в столбце `total_income` на целочисленный с помощью метода `astype()`.**"
      ]
    },
    {
      "cell_type": "code",
      "execution_count": 113,
      "id": "2033251e",
      "metadata": {
        "deletable": false,
        "id": "2033251e"
      },
      "outputs": [],
      "source": [
        "data['total_income'] = data['total_income'].astype(int)"
      ]
    },
    {
      "cell_type": "markdown",
      "id": "c58e891d",
      "metadata": {
        "deletable": false,
        "editable": false,
        "id": "c58e891d"
      },
      "source": [
        "### Обработка дубликатов"
      ]
    },
    {
      "cell_type": "markdown",
      "id": "63fb5f87",
      "metadata": {
        "deletable": false,
        "editable": false,
        "id": "63fb5f87"
      },
      "source": [
        "**Задание 14. Обработайте неявные дубликаты в столбце `education`. В этом столбце есть одни и те же значения, но записанные по-разному: с использованием заглавных и строчных букв. Приведите их к нижнему регистру. Проверьте остальные столбцы.**"
      ]
    },
    {
      "cell_type": "code",
      "execution_count": 114,
      "id": "d1cfb416",
      "metadata": {
        "deletable": false,
        "id": "d1cfb416"
      },
      "outputs": [],
      "source": [
        "data['education'] = data['education'].str.lower()"
      ]
    },
    {
      "cell_type": "markdown",
      "id": "efcf8195",
      "metadata": {
        "deletable": false,
        "editable": false,
        "id": "efcf8195"
      },
      "source": [
        "**Задание 15. Выведите на экран количество строк-дубликатов в данных. Если такие строки присутствуют, удалите их.**"
      ]
    },
    {
      "cell_type": "code",
      "execution_count": 115,
      "id": "8c95b86a",
      "metadata": {
        "deletable": false,
        "id": "8c95b86a",
        "outputId": "ca8471c9-93ee-4bef-8351-2808a356eec1",
        "colab": {
          "base_uri": "https://localhost:8080/"
        }
      },
      "outputs": [
        {
          "output_type": "execute_result",
          "data": {
            "text/plain": [
              "71"
            ]
          },
          "metadata": {},
          "execution_count": 115
        }
      ],
      "source": [
        "data.duplicated().sum()"
      ]
    },
    {
      "cell_type": "code",
      "execution_count": 116,
      "id": "11d25b71",
      "metadata": {
        "deletable": false,
        "id": "11d25b71"
      },
      "outputs": [],
      "source": [
        "data = data.drop_duplicates()"
      ]
    },
    {
      "cell_type": "markdown",
      "id": "4d0df3c3",
      "metadata": {
        "deletable": false,
        "editable": false,
        "id": "4d0df3c3"
      },
      "source": [
        "### Категоризация данных"
      ]
    },
    {
      "cell_type": "markdown",
      "id": "ca9c9fab",
      "metadata": {
        "deletable": false,
        "editable": false,
        "id": "ca9c9fab"
      },
      "source": [
        "**Задание 16. На основании диапазонов, указанных ниже, создайте в датафрейме `data` столбец `total_income_category` с категориями:**\n",
        "\n",
        "- 0–30000 — `'E'`;\n",
        "- 30001–50000 — `'D'`;\n",
        "- 50001–200000 — `'C'`;\n",
        "- 200001–1000000 — `'B'`;\n",
        "- 1000001 и выше — `'A'`.\n",
        "\n",
        "\n",
        "**Например, кредитополучателю с доходом 25000 нужно назначить категорию `'E'`, а клиенту, получающему 235000, — `'B'`. Используйте собственную функцию с именем `categorize_income()` и метод `apply()`.**"
      ]
    },
    {
      "cell_type": "code",
      "execution_count": 117,
      "id": "2aef0870",
      "metadata": {
        "deletable": false,
        "id": "2aef0870"
      },
      "outputs": [],
      "source": [
        "def categorize_income(income):\n",
        "    try:\n",
        "        if 0 <= income <= 30000:\n",
        "            return 'E'\n",
        "        elif 30001 <= income <= 50000:\n",
        "            return 'D'\n",
        "        elif 50001 <= income <= 200000:\n",
        "            return 'C'\n",
        "        elif 200001 <= income <= 1000000:\n",
        "            return 'B'\n",
        "        elif income >= 1000001:\n",
        "            return 'A'\n",
        "    except:\n",
        "        pass"
      ]
    },
    {
      "cell_type": "code",
      "execution_count": 118,
      "id": "e3582674",
      "metadata": {
        "deletable": false,
        "id": "e3582674",
        "colab": {
          "base_uri": "https://localhost:8080/"
        },
        "outputId": "caada469-b0f2-420e-b304-ed5f7431dd00"
      },
      "outputs": [
        {
          "output_type": "stream",
          "name": "stderr",
          "text": [
            "<ipython-input-118-0bc713f3049f>:1: SettingWithCopyWarning: \n",
            "A value is trying to be set on a copy of a slice from a DataFrame.\n",
            "Try using .loc[row_indexer,col_indexer] = value instead\n",
            "\n",
            "See the caveats in the documentation: https://pandas.pydata.org/pandas-docs/stable/user_guide/indexing.html#returning-a-view-versus-a-copy\n",
            "  data['total_income_category'] = data['total_income'].apply(categorize_income)\n"
          ]
        }
      ],
      "source": [
        "data['total_income_category'] = data['total_income'].apply(categorize_income)"
      ]
    },
    {
      "cell_type": "markdown",
      "id": "d1b15371",
      "metadata": {
        "deletable": false,
        "editable": false,
        "id": "d1b15371"
      },
      "source": [
        "**Задание 17. Выведите на экран перечень уникальных целей взятия кредита из столбца `purpose`.**"
      ]
    },
    {
      "cell_type": "code",
      "execution_count": 119,
      "id": "3771b72f",
      "metadata": {
        "deletable": false,
        "id": "3771b72f",
        "outputId": "75090e13-6869-4fa0-aef7-ec591d0e944b",
        "colab": {
          "base_uri": "https://localhost:8080/"
        }
      },
      "outputs": [
        {
          "output_type": "execute_result",
          "data": {
            "text/plain": [
              "array(['покупка жилья', 'приобретение автомобиля',\n",
              "       'дополнительное образование', 'сыграть свадьбу',\n",
              "       'операции с жильем', 'образование', 'на проведение свадьбы',\n",
              "       'покупка жилья для семьи', 'покупка недвижимости',\n",
              "       'покупка коммерческой недвижимости', 'покупка жилой недвижимости',\n",
              "       'строительство собственной недвижимости', 'недвижимость',\n",
              "       'строительство недвижимости', 'на покупку подержанного автомобиля',\n",
              "       'на покупку своего автомобиля',\n",
              "       'операции с коммерческой недвижимостью',\n",
              "       'строительство жилой недвижимости', 'жилье',\n",
              "       'операции со своей недвижимостью', 'автомобили',\n",
              "       'заняться образованием', 'сделка с подержанным автомобилем',\n",
              "       'получение образования', 'автомобиль', 'свадьба',\n",
              "       'получение дополнительного образования', 'покупка своего жилья',\n",
              "       'операции с недвижимостью', 'получение высшего образования',\n",
              "       'свой автомобиль', 'сделка с автомобилем',\n",
              "       'профильное образование', 'высшее образование',\n",
              "       'покупка жилья для сдачи', 'на покупку автомобиля', 'ремонт жилью',\n",
              "       'заняться высшим образованием'], dtype=object)"
            ]
          },
          "metadata": {},
          "execution_count": 119
        }
      ],
      "source": [
        "data['purpose'].unique()"
      ]
    },
    {
      "cell_type": "markdown",
      "id": "6cc18a88",
      "metadata": {
        "deletable": false,
        "editable": false,
        "id": "6cc18a88"
      },
      "source": [
        "**Задание 18. Создайте функцию, которая на основании данных из столбца `purpose` сформирует новый столбец `purpose_category`, в который войдут следующие категории:**\n",
        "\n",
        "- `'операции с автомобилем'`,\n",
        "- `'операции с недвижимостью'`,\n",
        "- `'проведение свадьбы'`,\n",
        "- `'получение образования'`.\n",
        "\n",
        "**Например, если в столбце `purpose` находится подстрока `'на покупку автомобиля'`, то в столбце `purpose_category` должна появиться строка `'операции с автомобилем'`.**\n",
        "\n",
        "**Используйте собственную функцию с именем `categorize_purpose()` и метод `apply()`. Изучите данные в столбце `purpose` и определите, какие подстроки помогут вам правильно определить категорию.**"
      ]
    },
    {
      "cell_type": "code",
      "execution_count": 120,
      "id": "40fb532f",
      "metadata": {
        "deletable": false,
        "id": "40fb532f"
      },
      "outputs": [],
      "source": [
        "def categorize_purpose(row):\n",
        "    try:\n",
        "        if 'автом' in row:\n",
        "            return 'операции с автомобилем'\n",
        "        elif 'жил' in row or 'недвиж' in row:\n",
        "            return 'операции с недвижимостью'\n",
        "        elif 'свад' in row:\n",
        "            return 'проведение свадьбы'\n",
        "        elif 'образов' in row:\n",
        "            return 'получение образования'\n",
        "    except:\n",
        "        return 'нет категории'"
      ]
    },
    {
      "cell_type": "code",
      "execution_count": 121,
      "id": "2a10a3cd",
      "metadata": {
        "deletable": false,
        "id": "2a10a3cd",
        "colab": {
          "base_uri": "https://localhost:8080/"
        },
        "outputId": "b0354fbd-0c46-4bd6-d649-06c308f85995"
      },
      "outputs": [
        {
          "output_type": "stream",
          "name": "stderr",
          "text": [
            "<ipython-input-121-ecf9d79505dd>:1: SettingWithCopyWarning: \n",
            "A value is trying to be set on a copy of a slice from a DataFrame.\n",
            "Try using .loc[row_indexer,col_indexer] = value instead\n",
            "\n",
            "See the caveats in the documentation: https://pandas.pydata.org/pandas-docs/stable/user_guide/indexing.html#returning-a-view-versus-a-copy\n",
            "  data['purpose_category'] = data['purpose'].apply(categorize_purpose)\n"
          ]
        }
      ],
      "source": [
        "data['purpose_category'] = data['purpose'].apply(categorize_purpose)"
      ]
    },
    {
      "cell_type": "markdown",
      "id": "4752da2e",
      "metadata": {
        "deletable": false,
        "editable": false,
        "id": "4752da2e"
      },
      "source": [
        "### Шаг 3. Исследуйте данные и ответьте на вопросы"
      ]
    },
    {
      "cell_type": "markdown",
      "id": "2994cf1b",
      "metadata": {
        "deletable": false,
        "editable": false,
        "id": "2994cf1b"
      },
      "source": [
        "#### 3.1 Есть ли зависимость между количеством детей и возвратом кредита в срок?"
      ]
    },
    {
      "cell_type": "code",
      "execution_count": 122,
      "id": "dbcdd2d0",
      "metadata": {
        "deletable": false,
        "id": "dbcdd2d0",
        "colab": {
          "base_uri": "https://localhost:8080/"
        },
        "outputId": "92a9e1ad-ba9d-4dd3-ea3f-d8b07b7576e4"
      },
      "outputs": [
        {
          "output_type": "stream",
          "name": "stdout",
          "text": [
            "children\n",
            "0    14091\n",
            "1     4808\n",
            "2     2052\n",
            "3      330\n",
            "4       41\n",
            "5        9\n",
            "Name: debt, dtype: int64\n",
            "---------------------\n",
            "Количество детей: 0  Вероятность невыплаты: 0.075\n",
            "Количество детей: 1  Вероятность невыплаты: 0.092\n",
            "Количество детей: 2  Вероятность невыплаты: 0.095\n",
            "Количество детей: 3  Вероятность невыплаты: 0.082\n",
            "Количество детей: 4  Вероятность невыплаты: 0.098\n",
            "Количество детей: 5  Вероятность невыплаты: 0.000\n"
          ]
        }
      ],
      "source": [
        "children_debt = data.groupby('children')['debt'].mean()#Находим шанс невыплаты кредита в срок у каждой группы\n",
        "print(data.groupby('children')['debt'].count())#Считаем количество семей в каждой категории\n",
        "print('---------------------')\n",
        "for x in range(len(children_debt)):\n",
        "    print('Количество детей:',x,\" Вероятность невыплаты: %.3f\" %children_debt[x])\n"
      ]
    },
    {
      "cell_type": "code",
      "execution_count": 123,
      "id": "75776368",
      "metadata": {
        "colab": {
          "base_uri": "https://localhost:8080/",
          "height": 438
        },
        "id": "75776368",
        "outputId": "8dea90fa-80fe-4055-82e9-5bd8a3d2fd5d"
      },
      "outputs": [
        {
          "output_type": "stream",
          "name": "stdout",
          "text": [
            "          Всего  Должны  Вероятность невыплаты\n",
            "children                                      \n",
            "0         14091    1063               0.075438\n",
            "1          4808     444               0.092346\n",
            "2          2052     194               0.094542\n",
            "3           330      27               0.081818\n",
            "4            41       4               0.097561\n",
            "5             9       0               0.000000\n"
          ]
        },
        {
          "output_type": "display_data",
          "data": {
            "text/plain": [
              "<Figure size 432x288 with 1 Axes>"
            ],
            "image/png": "[encoded data removed]"
          },
          "metadata": {
            "needs_background": "light"
          }
        }
      ],
      "source": [
        "#Визуацизация данных\n",
        "children_debt.plot(kind='bar',ylim=[0.04,0.11],title='Вероятность невыплаты кредита в зависимости от количества детей'\\\n",
        "                 ,xlabel='Количество детей',ylabel='Вероятность невыплаты')\n",
        "plt.xticks(rotation = 0)\n",
        "children_table = data.pivot_table(index='children', \n",
        "                     values='debt', \n",
        "                       aggfunc=['count', 'sum', 'mean'])\n",
        "children_table.columns = ['Всего', 'Должны', 'Вероятность невыплаты']\n",
        "print(children_table)"
      ]
    },
    {
      "cell_type": "markdown",
      "id": "e399ca94",
      "metadata": {
        "deletable": false,
        "id": "e399ca94"
      },
      "source": [
        "Вывод: Да, зависимость между количеством детей и возвратом кредита в срок есть. С увеличением количества детей от 0 до 2 увеличивается процент просрочивших плату (с около 8% до более 10%). Далее включать в анализ данные более многодетных семей только помешает выводам, так как количество семей с 3+ детьми очень небольшое и составляет очень маленькую часть всей базы. Например, все семьи с 5 детьми оплатили в срок. Но это не может значить, что все семьи с 5 детьми всегда будут платить в срок, просто их в базе данных всего 9, этого слишком мало для анализа. "
      ]
    },
    {
      "cell_type": "markdown",
      "id": "b298be46",
      "metadata": {
        "deletable": false,
        "editable": false,
        "id": "b298be46"
      },
      "source": [
        "#### 3.2 Есть ли зависимость между семейным положением и возвратом кредита в срок?"
      ]
    },
    {
      "cell_type": "code",
      "execution_count": 124,
      "id": "0e078f8b",
      "metadata": {
        "deletable": false,
        "id": "0e078f8b",
        "colab": {
          "base_uri": "https://localhost:8080/"
        },
        "outputId": "1edca0d4-f9ce-4d14-cc7e-00826c9014d6"
      },
      "outputs": [
        {
          "output_type": "stream",
          "name": "stdout",
          "text": [
            "family_status\n",
            "Не женат / не замужем     2796\n",
            "в разводе                 1189\n",
            "вдовец / вдова             951\n",
            "гражданский брак          4134\n",
            "женат / замужем          12261\n",
            "Name: debt, dtype: int64\n",
            "--------------\n",
            "family_status\n",
            "Не женат / не замужем    0.097639\n",
            "в разводе                0.070648\n",
            "вдовец / вдова           0.066246\n",
            "гражданский брак         0.093130\n",
            "женат / замужем          0.075606\n",
            "Name: debt, dtype: float64\n"
          ]
        }
      ],
      "source": [
        "family_debt = data.groupby('family_status')['debt'].mean()#Находим шанс невыплаты кредита в срок у каждой группы\n",
        "print(data.groupby('family_status')['debt'].count())#Считаем количество семей в каждой категории\n",
        "print('--------------')\n",
        "print(family_debt)"
      ]
    },
    {
      "cell_type": "code",
      "execution_count": 125,
      "id": "929d9592",
      "metadata": {
        "colab": {
          "base_uri": "https://localhost:8080/",
          "height": 481
        },
        "id": "929d9592",
        "outputId": "fc4190e7-e4e9-47c0-ce01-957f063a54f9"
      },
      "outputs": [
        {
          "output_type": "stream",
          "name": "stdout",
          "text": [
            "                       Всего  Должны  Вероятность невыплаты\n",
            "family_status                                              \n",
            "Не женат / не замужем   2796     273               0.097639\n",
            "в разводе               1189      84               0.070648\n",
            "вдовец / вдова           951      63               0.066246\n",
            "гражданский брак        4134     385               0.093130\n",
            "женат / замужем        12261     927               0.075606\n"
          ]
        },
        {
          "output_type": "display_data",
          "data": {
            "text/plain": [
              "<Figure size 432x288 with 1 Axes>"
            ],
            "image/png": "[encoded data removed]"
          },
          "metadata": {
            "needs_background": "light"
          }
        }
      ],
      "source": [
        "#Визуацизация данных\n",
        "family_debt.plot(kind='bar',ylim=[0.04,0.105],title='Вероятность невыплаты кредита в зависимости от семейного положения'\\\n",
        "                 ,xlabel='Семейное положение',ylabel='Вероятность невыплаты')\n",
        "plt.xticks(rotation = 30)\n",
        "family_table = data.pivot_table(index='family_status', \n",
        "                     values='debt', \n",
        "                       aggfunc=['count', 'sum', 'mean'])\n",
        "family_table.columns = ['Всего', 'Должны', 'Вероятность невыплаты']\n",
        "print(family_table)\n"
      ]
    },
    {
      "cell_type": "markdown",
      "id": "bbf543e2",
      "metadata": {
        "deletable": false,
        "id": "bbf543e2"
      },
      "source": [
        "Вывод: Зависимости от семейного положения и возврата кредита в срок нет. Самое высокое отношение просрочивших платёж среди женаты / замужем, на втором месте - в разводе, далее - \"Не женат / не замужем\". Категории идут друг за другом, но по смыслу совершенно разные. Количество семей во всех категориях довольно большое и даёт нам возможность включать их все в анализ, соответственно, семейный статус не влияет на вероятность возврата кредита в срок. "
      ]
    },
    {
      "cell_type": "markdown",
      "id": "f14c3b88",
      "metadata": {
        "deletable": false,
        "editable": false,
        "id": "f14c3b88"
      },
      "source": [
        "#### 3.3 Есть ли зависимость между уровнем дохода и возвратом кредита в срок?"
      ]
    },
    {
      "cell_type": "code",
      "execution_count": 126,
      "id": "08c7d1ce",
      "metadata": {
        "deletable": false,
        "id": "08c7d1ce",
        "colab": {
          "base_uri": "https://localhost:8080/"
        },
        "outputId": "aeec1659-475d-4109-c187-a941c6b81bd0"
      },
      "outputs": [
        {
          "output_type": "stream",
          "name": "stdout",
          "text": [
            "total_income_category\n",
            "A       25\n",
            "B     5014\n",
            "C    15921\n",
            "D      349\n",
            "E       22\n",
            "Name: debt, dtype: int64\n",
            "--------------\n",
            "total_income_category\n",
            "A    0.080000\n",
            "B    0.070602\n",
            "C    0.084982\n",
            "D    0.060172\n",
            "E    0.090909\n",
            "Name: debt, dtype: float64\n"
          ]
        }
      ],
      "source": [
        "income_debt = data.groupby('total_income_category')['debt'].mean()#Находим шанс невыплаты кредита в срок у каждой группы\n",
        "print(data.groupby('total_income_category')['debt'].count())#Считаем количество семей в каждой категории\n",
        "print('--------------')\n",
        "print(income_debt)"
      ]
    },
    {
      "cell_type": "code",
      "execution_count": 127,
      "id": "be593220",
      "metadata": {
        "colab": {
          "base_uri": "https://localhost:8080/",
          "height": 420
        },
        "id": "be593220",
        "outputId": "ffc7f035-f240-477b-f2fc-a0522cdb066d"
      },
      "outputs": [
        {
          "output_type": "stream",
          "name": "stdout",
          "text": [
            "                       Всего  Должны  Вероятность невыплаты\n",
            "total_income_category                                      \n",
            "A                         25       2               0.080000\n",
            "B                       5014     354               0.070602\n",
            "C                      15921    1353               0.084982\n",
            "D                        349      21               0.060172\n",
            "E                         22       2               0.090909\n"
          ]
        },
        {
          "output_type": "display_data",
          "data": {
            "text/plain": [
              "<Figure size 432x288 with 1 Axes>"
            ],
            "image/png": "[encoded data removed]"
          },
          "metadata": {
            "needs_background": "light"
          }
        }
      ],
      "source": [
        "#Визуацизация данных\n",
        "income_debt.plot(kind='bar',title='Вероятность невыплаты кредита в зависимости от уровня дохода'\\\n",
        "                 ,xlabel='Уровень дохода',ylabel='Вероятность невыплаты',ylim=0.04)\n",
        "plt.xticks(rotation = 0)\n",
        "income_table = data.pivot_table(index='total_income_category', \n",
        "                    values='debt', \n",
        "                     aggfunc=['count', 'sum', 'mean'])\n",
        "income_table.columns = ['Всего', 'Должны', 'Вероятность невыплаты']\n",
        "print(income_table)"
      ]
    },
    {
      "cell_type": "markdown",
      "id": "d15d7669",
      "metadata": {
        "deletable": false,
        "id": "d15d7669"
      },
      "source": [
        "Вывод: Зависимость между уровнем дохода и возвратом кредита в срок есть. Для более корректных выводов не будем учитывать категории с небольшим количеством семей (категории A, D, E). Сравнивая категории B и C, можно сделать вывод, что с уменьшением уровня дохода уменьшается вероятность выплаты кредита в срок."
      ]
    },
    {
      "cell_type": "markdown",
      "id": "4ffac9e1",
      "metadata": {
        "deletable": false,
        "editable": false,
        "id": "4ffac9e1"
      },
      "source": [
        "#### 3.4 Как разные цели кредита влияют на его возврат в срок?"
      ]
    },
    {
      "cell_type": "code",
      "execution_count": 128,
      "id": "0c6724b0",
      "metadata": {
        "deletable": false,
        "id": "0c6724b0",
        "colab": {
          "base_uri": "https://localhost:8080/"
        },
        "outputId": "f58684fe-c36e-40fe-bedd-634eee561c21"
      },
      "outputs": [
        {
          "output_type": "stream",
          "name": "stdout",
          "text": [
            "purpose_category\n",
            "операции с автомобилем       4279\n",
            "операции с недвижимостью    10751\n",
            "получение образования        3988\n",
            "проведение свадьбы           2313\n",
            "Name: debt, dtype: int64\n",
            "--------------\n",
            "purpose_category\n",
            "операции с автомобилем      0.093480\n",
            "операции с недвижимостью    0.072551\n",
            "получение образования       0.092528\n",
            "проведение свадьбы          0.079118\n",
            "Name: debt, dtype: float64\n"
          ]
        }
      ],
      "source": [
        "purpose_debt = data.groupby('purpose_category')['debt'].mean()#Находим шанс невыплаты кредита в срок у каждой группы\n",
        "print(data.groupby('purpose_category')['debt'].count())#Считаем количество семей в каждой категории\n",
        "print('--------------')\n",
        "print(purpose_debt)\n",
        "\n"
      ]
    },
    {
      "cell_type": "code",
      "execution_count": 129,
      "id": "a0131e73",
      "metadata": {
        "colab": {
          "base_uri": "https://localhost:8080/",
          "height": 476
        },
        "id": "a0131e73",
        "outputId": "948a30ed-a695-4f03-acf0-ca09eb3aa0c1"
      },
      "outputs": [
        {
          "output_type": "stream",
          "name": "stdout",
          "text": [
            "                          Всего  Должны  Вероятность невыплаты\n",
            "purpose_category                                              \n",
            "операции с автомобилем     4279     400               0.093480\n",
            "операции с недвижимостью  10751     780               0.072551\n",
            "получение образования      3988     369               0.092528\n",
            "проведение свадьбы         2313     183               0.079118\n"
          ]
        },
        {
          "output_type": "display_data",
          "data": {
            "text/plain": [
              "<Figure size 432x288 with 1 Axes>"
            ],
            "image/png": "[encoded data removed]"
          },
          "metadata": {
            "needs_background": "light"
          }
        }
      ],
      "source": [
        "#Визуацизация данных\n",
        "purpose_debt.plot(kind='bar',title='Вероятность невыплаты кредита в зависимости от цели кредита'\\\n",
        "                 ,xlabel='Цедь кредита',ylabel='Вероятность невыплаты',ylim=0.04)\n",
        "plt.xticks(rotation = 30)\n",
        "purpose_table = data.pivot_table(index='purpose_category', \n",
        "                    values='debt', \n",
        "                     aggfunc=['count', 'sum', 'mean'])\n",
        "purpose_table.columns = ['Всего', 'Должны', 'Вероятность невыплаты']\n",
        "print(purpose_table)"
      ]
    },
    {
      "cell_type": "markdown",
      "id": "7aae96e9",
      "metadata": {
        "deletable": false,
        "id": "7aae96e9"
      },
      "source": [
        "Вывод: Наименьший шанс невыплаты кредита в срок у семей в категории \"операции с недвижимостью\", далее по возрастнию идут \"проведение свадьбы\", \"получение образования\" и у группы \"операции с автомобилем\" наибольшее количество должников."
      ]
    },
    {
      "cell_type": "markdown",
      "id": "9a2444d1",
      "metadata": {
        "deletable": false,
        "editable": false,
        "id": "9a2444d1"
      },
      "source": [
        "#### 3.5 Приведите возможные причины появления пропусков в исходных данных."
      ]
    },
    {
      "cell_type": "markdown",
      "id": "93c16480",
      "metadata": {
        "deletable": false,
        "id": "93c16480"
      },
      "source": [
        "Ответ: Некорректное заполнение данных, не в том формате. Случайный пропуск при вводе данных, пропуск, связанный с отсутствием информации к заполнению или желанием её скрыть."
      ]
    },
    {
      "cell_type": "markdown",
      "id": "66920968",
      "metadata": {
        "deletable": false,
        "editable": false,
        "id": "66920968"
      },
      "source": [
        "#### 3.6 Объясните, почему заполнить пропуски медианным значением — лучшее решение для количественных переменных."
      ]
    },
    {
      "cell_type": "markdown",
      "id": "6f851c1d",
      "metadata": {
        "deletable": false,
        "id": "6f851c1d"
      },
      "source": [
        "Ответ: Медиана является лучшим решением, потому что на неё меньше, чем на среднее, влияют выпадающие, выделяющиеся среди большинства значения. "
      ]
    },
    {
      "cell_type": "markdown",
      "id": "547514d8",
      "metadata": {
        "deletable": false,
        "editable": false,
        "id": "547514d8"
      },
      "source": [
        "### Шаг 4: общий вывод."
      ]
    },
    {
      "cell_type": "markdown",
      "id": "6edbf480",
      "metadata": {
        "deletable": false,
        "id": "6edbf480"
      },
      "source": [
        "Вывод: Перед анализом данных обязательным была предобработка данных. Были заполнены медианным значением все пропущенные значения в таблице. Были убраны артефакты, мешавшие корректной обработке данных. Также было необходимо сгруппировать по категориям такие данные, как доход и цель кредита, так как такие данные проще и репрезентабельнее поместить в группы, которые потом будут обрабатываться.\n",
        "\n",
        "Стоит обратить внимание на экстремальные значения в таблице, которые не были учтены при анализе. Например, среди заёмщиков с 5 детьми должников нет, но это ничего не говорит об их платёжеспособности, просто семей всего 9, что недостаточно для анализа. А наибольший шанс невыплаты кредита в срок у семей с 2 и 4 детьми (9.5% и 9.8% соответственно).\n",
        "\n",
        "Семейное положение не влияет на факт погашения кредита в срок, этот параметр не является существенным по сравнению с другими. Количество детей, в свою очередь, влияет. Данные, полученные от банка, не позволяют оценить платёжеспособность клиентов с 3 и более детьми, так как такие семьи составляют наименьшую часть группы. Но сравнивая группы с 0, 1 и 2 детьми, можно сделать вывод, что с увеличением количества детей уменьшается шанс погашения кредита в срок."
      ]
    }
  ],
  "metadata": {
    "ExecuteTimeLog": [
      {
        "duration": 52,
        "start_time": "2022-08-31T13:50:30.891Z"
      },
      {
        "duration": 44,
        "start_time": "2022-08-31T13:50:40.129Z"
      },
      {
        "duration": 50,
        "start_time": "2022-08-31T13:50:40.464Z"
      },
      {
        "duration": 65,
        "start_time": "2022-08-31T13:50:42.396Z"
      },
      {
        "duration": 23,
        "start_time": "2022-08-31T13:50:42.677Z"
      },
      {
        "duration": 15,
        "start_time": "2022-08-31T13:50:43.008Z"
      },
      {
        "duration": 10,
        "start_time": "2022-08-31T13:50:43.572Z"
      },
      {
        "duration": 36,
        "start_time": "2022-08-31T13:50:43.868Z"
      },
      {
        "duration": 4,
        "start_time": "2022-08-31T13:50:44.631Z"
      },
      {
        "duration": 11,
        "start_time": "2022-08-31T13:50:44.676Z"
      },
      {
        "duration": 6,
        "start_time": "2022-08-31T13:50:45.197Z"
      },
      {
        "duration": 8,
        "start_time": "2022-08-31T13:50:45.500Z"
      },
      {
        "duration": 6,
        "start_time": "2022-08-31T13:50:45.845Z"
      },
      {
        "duration": 34,
        "start_time": "2022-08-31T13:50:46.495Z"
      },
      {
        "duration": 9,
        "start_time": "2022-08-31T13:50:47.267Z"
      },
      {
        "duration": 4,
        "start_time": "2022-08-31T13:50:47.779Z"
      },
      {
        "duration": 13,
        "start_time": "2022-08-31T13:50:49.075Z"
      },
      {
        "duration": 19,
        "start_time": "2022-08-31T13:50:49.660Z"
      },
      {
        "duration": 18,
        "start_time": "2022-08-31T13:50:49.874Z"
      },
      {
        "duration": 3,
        "start_time": "2022-08-31T13:50:50.513Z"
      },
      {
        "duration": 10,
        "start_time": "2022-08-31T13:50:51.005Z"
      },
      {
        "duration": 9,
        "start_time": "2022-08-31T13:50:51.876Z"
      },
      {
        "duration": 5,
        "start_time": "2022-08-31T13:50:53.292Z"
      },
      {
        "duration": 14,
        "start_time": "2022-08-31T13:50:53.815Z"
      },
      {
        "duration": 5,
        "start_time": "2022-08-31T13:50:56.709Z"
      },
      {
        "duration": 48,
        "start_time": "2022-08-31T13:52:17.738Z"
      },
      {
        "duration": 56,
        "start_time": "2022-08-31T13:52:23.592Z"
      },
      {
        "duration": 33,
        "start_time": "2022-08-31T13:52:32.486Z"
      },
      {
        "duration": 8,
        "start_time": "2022-08-31T13:52:39.086Z"
      },
      {
        "duration": 45,
        "start_time": "2022-08-31T13:53:45.857Z"
      },
      {
        "duration": 21,
        "start_time": "2022-08-31T13:53:50.609Z"
      },
      {
        "duration": 13,
        "start_time": "2022-08-31T13:54:04.762Z"
      },
      {
        "duration": 9,
        "start_time": "2022-08-31T13:54:23.116Z"
      },
      {
        "duration": 8,
        "start_time": "2022-08-31T13:54:44.279Z"
      },
      {
        "duration": 10,
        "start_time": "2022-08-31T13:54:49.711Z"
      },
      {
        "duration": 8,
        "start_time": "2022-08-31T13:54:53.918Z"
      },
      {
        "duration": 8,
        "start_time": "2022-08-31T13:55:06.118Z"
      },
      {
        "duration": 11,
        "start_time": "2022-08-31T13:55:09.650Z"
      },
      {
        "duration": 1048,
        "start_time": "2022-09-01T11:15:38.604Z"
      },
      {
        "duration": 21,
        "start_time": "2022-09-01T11:15:39.655Z"
      },
      {
        "duration": 5,
        "start_time": "2022-09-01T11:15:45.266Z"
      },
      {
        "duration": 6,
        "start_time": "2022-09-01T11:15:51.728Z"
      },
      {
        "duration": 4,
        "start_time": "2022-09-01T11:15:54.647Z"
      },
      {
        "duration": 984,
        "start_time": "2022-09-01T11:16:17.574Z"
      },
      {
        "duration": 8,
        "start_time": "2022-09-01T11:16:58.757Z"
      },
      {
        "duration": 7,
        "start_time": "2022-09-01T11:17:14.786Z"
      },
      {
        "duration": 6,
        "start_time": "2022-09-01T11:17:19.768Z"
      },
      {
        "duration": 6,
        "start_time": "2022-09-01T11:17:22.056Z"
      },
      {
        "duration": 10,
        "start_time": "2022-09-01T11:17:27.320Z"
      },
      {
        "duration": 14,
        "start_time": "2022-09-01T11:17:37.151Z"
      },
      {
        "duration": 4,
        "start_time": "2022-09-01T11:17:47.263Z"
      },
      {
        "duration": 8,
        "start_time": "2022-09-01T11:17:52.415Z"
      },
      {
        "duration": 6,
        "start_time": "2022-09-01T11:17:52.753Z"
      },
      {
        "duration": 30,
        "start_time": "2022-09-01T11:17:53.214Z"
      },
      {
        "duration": 10,
        "start_time": "2022-09-01T11:17:53.568Z"
      },
      {
        "duration": 14,
        "start_time": "2022-09-01T11:17:54.210Z"
      },
      {
        "duration": 11,
        "start_time": "2022-09-01T11:17:54.788Z"
      },
      {
        "duration": 21,
        "start_time": "2022-09-01T11:17:55.320Z"
      },
      {
        "duration": 19,
        "start_time": "2022-09-01T11:17:55.518Z"
      },
      {
        "duration": 3,
        "start_time": "2022-09-01T11:17:56.106Z"
      },
      {
        "duration": 13,
        "start_time": "2022-09-01T11:17:56.286Z"
      },
      {
        "duration": 7,
        "start_time": "2022-09-01T11:17:56.647Z"
      },
      {
        "duration": 3,
        "start_time": "2022-09-01T11:17:57.022Z"
      },
      {
        "duration": 8,
        "start_time": "2022-09-01T11:17:57.224Z"
      },
      {
        "duration": 15,
        "start_time": "2022-09-01T11:17:57.807Z"
      },
      {
        "duration": 3,
        "start_time": "2022-09-01T11:17:58.422Z"
      },
      {
        "duration": 2,
        "start_time": "2022-09-01T11:17:58.958Z"
      },
      {
        "duration": 2,
        "start_time": "2022-09-01T11:17:59.487Z"
      },
      {
        "duration": 9,
        "start_time": "2022-09-01T11:18:11.558Z"
      },
      {
        "duration": 9,
        "start_time": "2022-09-01T11:18:32.318Z"
      },
      {
        "duration": 3,
        "start_time": "2022-09-01T11:18:39.838Z"
      },
      {
        "duration": 15,
        "start_time": "2022-09-01T11:18:46.575Z"
      },
      {
        "duration": 10,
        "start_time": "2022-09-01T11:19:07.019Z"
      },
      {
        "duration": 5,
        "start_time": "2022-09-01T11:19:11.807Z"
      },
      {
        "duration": 9,
        "start_time": "2022-09-01T11:19:55.090Z"
      },
      {
        "duration": 10,
        "start_time": "2022-09-01T11:20:14.977Z"
      },
      {
        "duration": 7,
        "start_time": "2022-09-01T11:20:25.289Z"
      },
      {
        "duration": 9,
        "start_time": "2022-09-01T11:20:56.426Z"
      },
      {
        "duration": 8,
        "start_time": "2022-09-01T11:46:13.437Z"
      },
      {
        "duration": 9,
        "start_time": "2022-09-01T11:46:23.371Z"
      },
      {
        "duration": 10,
        "start_time": "2022-09-01T11:48:34.268Z"
      },
      {
        "duration": 9,
        "start_time": "2022-09-01T11:48:53.563Z"
      },
      {
        "duration": 9,
        "start_time": "2022-09-01T11:49:04.787Z"
      },
      {
        "duration": 9,
        "start_time": "2022-09-01T11:59:02.512Z"
      },
      {
        "duration": 11,
        "start_time": "2022-09-01T11:59:17.387Z"
      },
      {
        "duration": 467,
        "start_time": "2022-09-01T12:05:54.780Z"
      },
      {
        "duration": 10,
        "start_time": "2022-09-01T12:06:09.090Z"
      },
      {
        "duration": 12,
        "start_time": "2022-09-01T12:07:38.748Z"
      },
      {
        "duration": 10,
        "start_time": "2022-09-01T12:08:40.591Z"
      },
      {
        "duration": 8,
        "start_time": "2022-09-01T12:09:03.857Z"
      },
      {
        "duration": 8,
        "start_time": "2022-09-01T12:09:22.982Z"
      },
      {
        "duration": 15,
        "start_time": "2022-09-01T12:09:40.710Z"
      },
      {
        "duration": 12,
        "start_time": "2022-09-01T12:09:47.689Z"
      },
      {
        "duration": 9,
        "start_time": "2022-09-01T12:09:52.501Z"
      },
      {
        "duration": 11,
        "start_time": "2022-09-01T12:09:56.679Z"
      },
      {
        "duration": 10,
        "start_time": "2022-09-01T12:10:13.316Z"
      },
      {
        "duration": 11,
        "start_time": "2022-09-01T12:13:12.881Z"
      },
      {
        "duration": 7,
        "start_time": "2022-09-01T12:15:06.419Z"
      },
      {
        "duration": 9,
        "start_time": "2022-09-01T12:15:15.108Z"
      },
      {
        "duration": 10,
        "start_time": "2022-09-01T12:17:06.597Z"
      },
      {
        "duration": 14,
        "start_time": "2022-09-01T12:18:40.377Z"
      },
      {
        "duration": 11,
        "start_time": "2022-09-01T12:18:59.288Z"
      },
      {
        "duration": 15,
        "start_time": "2022-09-01T12:19:06.477Z"
      },
      {
        "duration": 670,
        "start_time": "2022-09-01T12:19:32.691Z"
      },
      {
        "duration": 966,
        "start_time": "2022-09-01T12:19:39.405Z"
      },
      {
        "duration": 11,
        "start_time": "2022-09-01T12:19:49.313Z"
      },
      {
        "duration": 11,
        "start_time": "2022-09-01T12:20:08.166Z"
      },
      {
        "duration": 12,
        "start_time": "2022-09-01T12:21:20.864Z"
      },
      {
        "duration": 50,
        "start_time": "2022-09-01T12:21:32.489Z"
      },
      {
        "duration": 13,
        "start_time": "2022-09-01T12:21:41.231Z"
      },
      {
        "duration": 12,
        "start_time": "2022-09-01T12:22:10.141Z"
      },
      {
        "duration": 13,
        "start_time": "2022-09-01T12:23:39.241Z"
      },
      {
        "duration": 13,
        "start_time": "2022-09-01T12:23:46.354Z"
      },
      {
        "duration": 12,
        "start_time": "2022-09-01T12:25:19.532Z"
      },
      {
        "duration": 12,
        "start_time": "2022-09-01T12:25:30.035Z"
      },
      {
        "duration": 11,
        "start_time": "2022-09-01T12:25:39.127Z"
      },
      {
        "duration": 1122,
        "start_time": "2022-09-01T12:26:29.221Z"
      },
      {
        "duration": 1023,
        "start_time": "2022-09-01T12:26:57.209Z"
      },
      {
        "duration": 738,
        "start_time": "2022-09-01T12:28:35.102Z"
      },
      {
        "duration": 785,
        "start_time": "2022-09-01T12:28:49.460Z"
      },
      {
        "duration": 1173,
        "start_time": "2022-09-01T12:30:12.126Z"
      },
      {
        "duration": 1015,
        "start_time": "2022-09-01T12:31:23.739Z"
      },
      {
        "duration": 10,
        "start_time": "2022-09-01T12:31:55.618Z"
      },
      {
        "duration": 11,
        "start_time": "2022-09-01T12:32:02.777Z"
      },
      {
        "duration": 13,
        "start_time": "2022-09-01T12:32:10.288Z"
      },
      {
        "duration": 11,
        "start_time": "2022-09-01T12:32:34.087Z"
      },
      {
        "duration": 10,
        "start_time": "2022-09-01T12:32:38.695Z"
      },
      {
        "duration": 1216,
        "start_time": "2022-09-01T12:33:06.389Z"
      },
      {
        "duration": 1131,
        "start_time": "2022-09-01T12:33:14.276Z"
      },
      {
        "duration": 44,
        "start_time": "2022-09-01T12:33:50.054Z"
      },
      {
        "duration": 12,
        "start_time": "2022-09-01T12:34:08.963Z"
      },
      {
        "duration": 13,
        "start_time": "2022-09-01T12:35:14.479Z"
      },
      {
        "duration": 11,
        "start_time": "2022-09-01T12:42:20.546Z"
      },
      {
        "duration": 4,
        "start_time": "2022-09-01T12:42:43.376Z"
      },
      {
        "duration": 451,
        "start_time": "2022-09-01T12:43:03.514Z"
      },
      {
        "duration": 369,
        "start_time": "2022-09-01T12:43:10.777Z"
      },
      {
        "duration": 17,
        "start_time": "2022-09-01T12:43:35.288Z"
      },
      {
        "duration": 464,
        "start_time": "2022-09-01T12:44:07.910Z"
      },
      {
        "duration": 13,
        "start_time": "2022-09-01T12:44:14.267Z"
      },
      {
        "duration": 12,
        "start_time": "2022-09-01T12:44:27.705Z"
      },
      {
        "duration": 23,
        "start_time": "2022-09-01T12:44:35.048Z"
      },
      {
        "duration": 4449,
        "start_time": "2022-09-01T12:44:50.438Z"
      },
      {
        "duration": 65,
        "start_time": "2022-09-01T12:45:08.049Z"
      },
      {
        "duration": 20,
        "start_time": "2022-09-01T12:45:15.550Z"
      },
      {
        "duration": 1401,
        "start_time": "2022-09-01T12:46:00.299Z"
      },
      {
        "duration": 744,
        "start_time": "2022-09-01T12:46:03.703Z"
      },
      {
        "duration": 16,
        "start_time": "2022-09-01T12:46:22.106Z"
      },
      {
        "duration": 13,
        "start_time": "2022-09-01T12:57:59.480Z"
      },
      {
        "duration": 15,
        "start_time": "2022-09-01T13:01:05.157Z"
      },
      {
        "duration": 12,
        "start_time": "2022-09-01T13:01:12.158Z"
      },
      {
        "duration": 14,
        "start_time": "2022-09-01T13:01:16.249Z"
      },
      {
        "duration": 14,
        "start_time": "2022-09-01T13:01:19.799Z"
      },
      {
        "duration": 17,
        "start_time": "2022-09-01T13:01:24.016Z"
      },
      {
        "duration": 14,
        "start_time": "2022-09-01T13:01:29.922Z"
      },
      {
        "duration": 12,
        "start_time": "2022-09-01T13:01:49.839Z"
      },
      {
        "duration": 1517,
        "start_time": "2022-09-01T14:01:10.197Z"
      },
      {
        "duration": 12,
        "start_time": "2022-09-01T14:01:25.769Z"
      },
      {
        "duration": 13,
        "start_time": "2022-09-01T14:02:16.286Z"
      },
      {
        "duration": 12,
        "start_time": "2022-09-01T14:02:24.304Z"
      },
      {
        "duration": 15,
        "start_time": "2022-09-01T14:04:02.152Z"
      },
      {
        "duration": 7,
        "start_time": "2022-09-01T14:05:55.380Z"
      },
      {
        "duration": 4,
        "start_time": "2022-09-01T14:06:01.105Z"
      },
      {
        "duration": 5,
        "start_time": "2022-09-01T14:06:11.013Z"
      },
      {
        "duration": 7,
        "start_time": "2022-09-01T14:06:33.087Z"
      },
      {
        "duration": 13,
        "start_time": "2022-09-01T14:13:10.960Z"
      },
      {
        "duration": 13,
        "start_time": "2022-09-01T14:14:21.736Z"
      },
      {
        "duration": 9,
        "start_time": "2022-09-01T14:19:42.586Z"
      },
      {
        "duration": 10,
        "start_time": "2022-09-01T14:19:49.503Z"
      },
      {
        "duration": 7,
        "start_time": "2022-09-01T14:20:15.079Z"
      },
      {
        "duration": 15,
        "start_time": "2022-09-01T14:20:27.235Z"
      },
      {
        "duration": 11,
        "start_time": "2022-09-01T14:20:45.358Z"
      },
      {
        "duration": 16,
        "start_time": "2022-09-01T14:23:24.274Z"
      },
      {
        "duration": 12,
        "start_time": "2022-09-01T14:23:53.761Z"
      },
      {
        "duration": 19,
        "start_time": "2022-09-01T14:24:06.407Z"
      },
      {
        "duration": 12,
        "start_time": "2022-09-01T14:24:15.912Z"
      },
      {
        "duration": 13,
        "start_time": "2022-09-01T14:24:51.093Z"
      },
      {
        "duration": 13,
        "start_time": "2022-09-01T14:25:01.978Z"
      },
      {
        "duration": 20,
        "start_time": "2022-09-01T14:25:34.853Z"
      },
      {
        "duration": 12,
        "start_time": "2022-09-01T14:25:55.747Z"
      },
      {
        "duration": 12,
        "start_time": "2022-09-01T14:26:01.113Z"
      },
      {
        "duration": 12,
        "start_time": "2022-09-01T14:26:08.495Z"
      },
      {
        "duration": 13,
        "start_time": "2022-09-01T14:26:20.771Z"
      },
      {
        "duration": 13,
        "start_time": "2022-09-01T14:26:25.597Z"
      },
      {
        "duration": 13,
        "start_time": "2022-09-01T14:26:34.755Z"
      },
      {
        "duration": 12,
        "start_time": "2022-09-01T14:26:47.335Z"
      },
      {
        "duration": 15,
        "start_time": "2022-09-01T14:26:54.062Z"
      },
      {
        "duration": 13,
        "start_time": "2022-09-01T14:26:58.838Z"
      },
      {
        "duration": 13,
        "start_time": "2022-09-01T14:27:21.289Z"
      },
      {
        "duration": 14,
        "start_time": "2022-09-01T14:29:10.042Z"
      },
      {
        "duration": 17,
        "start_time": "2022-09-01T14:29:19.408Z"
      },
      {
        "duration": 13,
        "start_time": "2022-09-01T14:29:24.010Z"
      },
      {
        "duration": 961,
        "start_time": "2022-09-01T14:29:37.814Z"
      },
      {
        "duration": 13,
        "start_time": "2022-09-01T14:30:44.357Z"
      },
      {
        "duration": 13,
        "start_time": "2022-09-01T14:31:03.745Z"
      },
      {
        "duration": 13,
        "start_time": "2022-09-01T14:31:15.770Z"
      },
      {
        "duration": 13,
        "start_time": "2022-09-01T14:34:08.777Z"
      },
      {
        "duration": 12,
        "start_time": "2022-09-01T14:34:15.302Z"
      },
      {
        "duration": 12,
        "start_time": "2022-09-01T14:34:18.654Z"
      },
      {
        "duration": 12,
        "start_time": "2022-09-01T14:34:23.167Z"
      },
      {
        "duration": 21,
        "start_time": "2022-09-01T14:34:39.933Z"
      },
      {
        "duration": 12,
        "start_time": "2022-09-01T14:42:38.748Z"
      },
      {
        "duration": 12,
        "start_time": "2022-09-01T14:42:43.543Z"
      },
      {
        "duration": 11,
        "start_time": "2022-09-01T14:42:47.288Z"
      },
      {
        "duration": 14,
        "start_time": "2022-09-01T14:43:00.757Z"
      },
      {
        "duration": 14,
        "start_time": "2022-09-01T14:43:53.108Z"
      },
      {
        "duration": 14,
        "start_time": "2022-09-01T14:44:01.722Z"
      },
      {
        "duration": 15,
        "start_time": "2022-09-01T14:44:10.833Z"
      },
      {
        "duration": 16,
        "start_time": "2022-09-01T14:44:39.742Z"
      },
      {
        "duration": 22,
        "start_time": "2022-09-01T14:45:01.694Z"
      },
      {
        "duration": 21,
        "start_time": "2022-09-01T14:45:18.869Z"
      },
      {
        "duration": 20,
        "start_time": "2022-09-01T14:45:25.721Z"
      },
      {
        "duration": 9,
        "start_time": "2022-09-01T14:45:36.774Z"
      },
      {
        "duration": 11,
        "start_time": "2022-09-01T14:45:45.602Z"
      },
      {
        "duration": 10,
        "start_time": "2022-09-01T14:45:53.791Z"
      },
      {
        "duration": 12,
        "start_time": "2022-09-01T14:45:57.652Z"
      },
      {
        "duration": 22,
        "start_time": "2022-09-01T14:46:00.835Z"
      },
      {
        "duration": 22,
        "start_time": "2022-09-01T14:46:10.411Z"
      },
      {
        "duration": 20,
        "start_time": "2022-09-01T14:46:13.603Z"
      },
      {
        "duration": 21,
        "start_time": "2022-09-01T14:46:32.480Z"
      },
      {
        "duration": 21,
        "start_time": "2022-09-01T14:55:18.701Z"
      },
      {
        "duration": 22,
        "start_time": "2022-09-01T15:03:47.392Z"
      },
      {
        "duration": 13,
        "start_time": "2022-09-01T15:09:11.312Z"
      },
      {
        "duration": 26,
        "start_time": "2022-09-01T15:09:14.376Z"
      },
      {
        "duration": 14,
        "start_time": "2022-09-01T15:18:37.063Z"
      },
      {
        "duration": 62,
        "start_time": "2022-09-01T15:19:36.488Z"
      },
      {
        "duration": 21,
        "start_time": "2022-09-01T15:19:41.549Z"
      },
      {
        "duration": 22,
        "start_time": "2022-09-01T15:19:46.369Z"
      },
      {
        "duration": 27,
        "start_time": "2022-09-01T15:20:03.333Z"
      },
      {
        "duration": 13,
        "start_time": "2022-09-01T15:20:21.873Z"
      },
      {
        "duration": 12,
        "start_time": "2022-09-01T15:21:11.486Z"
      },
      {
        "duration": 14,
        "start_time": "2022-09-01T15:21:46.932Z"
      },
      {
        "duration": 13,
        "start_time": "2022-09-01T15:21:51.854Z"
      },
      {
        "duration": 8,
        "start_time": "2022-09-01T15:21:53.278Z"
      },
      {
        "duration": 16,
        "start_time": "2022-09-01T15:21:54.381Z"
      },
      {
        "duration": 21,
        "start_time": "2022-09-01T15:21:57.051Z"
      },
      {
        "duration": 25,
        "start_time": "2022-09-01T15:22:15.936Z"
      },
      {
        "duration": 16,
        "start_time": "2022-09-01T15:22:43.178Z"
      },
      {
        "duration": 30,
        "start_time": "2022-09-01T15:22:46.782Z"
      },
      {
        "duration": 16,
        "start_time": "2022-09-01T15:23:23.172Z"
      },
      {
        "duration": 30,
        "start_time": "2022-09-01T15:23:29.333Z"
      },
      {
        "duration": 22,
        "start_time": "2022-09-01T15:23:56.226Z"
      },
      {
        "duration": 16,
        "start_time": "2022-09-01T15:24:23.945Z"
      },
      {
        "duration": 16,
        "start_time": "2022-09-01T15:24:29.173Z"
      },
      {
        "duration": 14,
        "start_time": "2022-09-01T15:24:53.692Z"
      },
      {
        "duration": 8,
        "start_time": "2022-09-01T15:24:59.587Z"
      },
      {
        "duration": 15,
        "start_time": "2022-09-01T15:25:04.403Z"
      },
      {
        "duration": 15,
        "start_time": "2022-09-01T15:25:10.324Z"
      },
      {
        "duration": 13,
        "start_time": "2022-09-01T15:25:37.539Z"
      },
      {
        "duration": 25,
        "start_time": "2022-09-01T15:25:38.600Z"
      },
      {
        "duration": 14,
        "start_time": "2022-09-01T15:25:40.311Z"
      },
      {
        "duration": 17,
        "start_time": "2022-09-01T15:25:51.868Z"
      },
      {
        "duration": 13,
        "start_time": "2022-09-01T15:26:08.129Z"
      },
      {
        "duration": 70,
        "start_time": "2022-09-01T15:52:23.458Z"
      },
      {
        "duration": 13,
        "start_time": "2022-09-01T15:52:43.214Z"
      },
      {
        "duration": 14,
        "start_time": "2022-09-01T15:52:48.493Z"
      },
      {
        "duration": 17,
        "start_time": "2022-09-01T15:54:09.909Z"
      },
      {
        "duration": 14,
        "start_time": "2022-09-01T15:54:21.557Z"
      },
      {
        "duration": 14,
        "start_time": "2022-09-01T15:54:41.850Z"
      },
      {
        "duration": 48,
        "start_time": "2022-09-01T15:55:26.641Z"
      },
      {
        "duration": 17,
        "start_time": "2022-09-01T15:55:32.443Z"
      },
      {
        "duration": 16,
        "start_time": "2022-09-01T15:57:25.240Z"
      },
      {
        "duration": 17,
        "start_time": "2022-09-01T15:57:31.488Z"
      },
      {
        "duration": 17,
        "start_time": "2022-09-01T15:57:40.377Z"
      },
      {
        "duration": 17,
        "start_time": "2022-09-01T15:58:00.879Z"
      },
      {
        "duration": 11,
        "start_time": "2022-09-01T16:00:58.318Z"
      },
      {
        "duration": 12,
        "start_time": "2022-09-01T16:01:16.361Z"
      },
      {
        "duration": 11,
        "start_time": "2022-09-01T16:01:22.900Z"
      },
      {
        "duration": 12,
        "start_time": "2022-09-01T16:02:06.907Z"
      },
      {
        "duration": 49,
        "start_time": "2022-09-02T11:29:08.871Z"
      },
      {
        "duration": 670,
        "start_time": "2022-09-02T11:29:24.955Z"
      },
      {
        "duration": 23,
        "start_time": "2022-09-02T11:29:25.627Z"
      },
      {
        "duration": 23,
        "start_time": "2022-09-02T11:29:25.652Z"
      },
      {
        "duration": 10,
        "start_time": "2022-09-02T11:29:25.677Z"
      },
      {
        "duration": 33,
        "start_time": "2022-09-02T11:29:25.689Z"
      },
      {
        "duration": 4,
        "start_time": "2022-09-02T11:29:25.724Z"
      },
      {
        "duration": 11,
        "start_time": "2022-09-02T11:29:25.730Z"
      },
      {
        "duration": 4,
        "start_time": "2022-09-02T11:29:25.743Z"
      },
      {
        "duration": 8,
        "start_time": "2022-09-02T11:29:25.749Z"
      },
      {
        "duration": 5,
        "start_time": "2022-09-02T11:29:25.760Z"
      },
      {
        "duration": 63,
        "start_time": "2022-09-02T11:29:25.766Z"
      },
      {
        "duration": 10,
        "start_time": "2022-09-02T11:29:25.831Z"
      },
      {
        "duration": 4,
        "start_time": "2022-09-02T11:29:25.843Z"
      },
      {
        "duration": 14,
        "start_time": "2022-09-02T11:29:25.848Z"
      },
      {
        "duration": 45,
        "start_time": "2022-09-02T11:29:25.864Z"
      },
      {
        "duration": 17,
        "start_time": "2022-09-02T11:29:25.911Z"
      },
      {
        "duration": 4,
        "start_time": "2022-09-02T11:29:25.930Z"
      },
      {
        "duration": 24,
        "start_time": "2022-09-02T11:29:25.936Z"
      },
      {
        "duration": 11,
        "start_time": "2022-09-02T11:29:25.962Z"
      },
      {
        "duration": 8,
        "start_time": "2022-09-02T11:29:25.975Z"
      },
      {
        "duration": 17,
        "start_time": "2022-09-02T11:29:25.984Z"
      },
      {
        "duration": 23,
        "start_time": "2022-09-02T11:29:26.003Z"
      },
      {
        "duration": 30,
        "start_time": "2022-09-02T11:29:26.027Z"
      },
      {
        "duration": 11,
        "start_time": "2022-09-02T11:29:31.277Z"
      },
      {
        "duration": 8,
        "start_time": "2022-09-02T11:29:38.174Z"
      },
      {
        "duration": 4,
        "start_time": "2022-09-02T11:29:51.882Z"
      },
      {
        "duration": 8,
        "start_time": "2022-09-02T11:29:57.934Z"
      },
      {
        "duration": 12,
        "start_time": "2022-09-02T11:31:28.367Z"
      },
      {
        "duration": 11,
        "start_time": "2022-09-02T11:31:34.158Z"
      },
      {
        "duration": 7,
        "start_time": "2022-09-02T11:31:50.903Z"
      },
      {
        "duration": 8,
        "start_time": "2022-09-02T11:33:03.154Z"
      },
      {
        "duration": 17,
        "start_time": "2022-09-02T11:33:30.991Z"
      },
      {
        "duration": 16,
        "start_time": "2022-09-02T11:33:36.375Z"
      },
      {
        "duration": 17,
        "start_time": "2022-09-02T11:33:40.535Z"
      },
      {
        "duration": 16,
        "start_time": "2022-09-02T11:34:11.357Z"
      },
      {
        "duration": 15,
        "start_time": "2022-09-02T11:34:14.205Z"
      },
      {
        "duration": 18,
        "start_time": "2022-09-02T11:36:15.639Z"
      },
      {
        "duration": 14,
        "start_time": "2022-09-02T11:38:07.045Z"
      },
      {
        "duration": 13,
        "start_time": "2022-09-02T11:38:28.352Z"
      },
      {
        "duration": 9,
        "start_time": "2022-09-02T11:38:33.324Z"
      },
      {
        "duration": 12,
        "start_time": "2022-09-02T11:38:40.706Z"
      },
      {
        "duration": 10,
        "start_time": "2022-09-02T11:38:58.257Z"
      },
      {
        "duration": 15,
        "start_time": "2022-09-02T11:39:56.896Z"
      },
      {
        "duration": 9,
        "start_time": "2022-09-02T11:40:27.771Z"
      },
      {
        "duration": 14,
        "start_time": "2022-09-02T11:41:22.038Z"
      },
      {
        "duration": 12,
        "start_time": "2022-09-02T11:41:50.288Z"
      },
      {
        "duration": 14,
        "start_time": "2022-09-02T11:42:31.358Z"
      },
      {
        "duration": 23,
        "start_time": "2022-09-02T11:43:32.310Z"
      },
      {
        "duration": 21,
        "start_time": "2022-09-02T11:46:09.538Z"
      },
      {
        "duration": 20,
        "start_time": "2022-09-02T11:46:20.690Z"
      },
      {
        "duration": 23,
        "start_time": "2022-09-02T11:46:37.055Z"
      },
      {
        "duration": 24,
        "start_time": "2022-09-02T11:52:16.742Z"
      },
      {
        "duration": 31,
        "start_time": "2022-09-02T11:52:39.464Z"
      },
      {
        "duration": 28,
        "start_time": "2022-09-02T11:52:51.637Z"
      },
      {
        "duration": 68,
        "start_time": "2022-09-02T11:52:55.034Z"
      },
      {
        "duration": 10,
        "start_time": "2022-09-02T11:52:57.789Z"
      },
      {
        "duration": 11,
        "start_time": "2022-09-02T11:53:02.716Z"
      },
      {
        "duration": 62,
        "start_time": "2022-09-02T11:53:34.547Z"
      },
      {
        "duration": 36,
        "start_time": "2022-09-02T11:53:38.755Z"
      },
      {
        "duration": 15,
        "start_time": "2022-09-02T11:54:20.773Z"
      },
      {
        "duration": 14,
        "start_time": "2022-09-02T11:54:42.344Z"
      },
      {
        "duration": 12,
        "start_time": "2022-09-02T11:54:51.232Z"
      },
      {
        "duration": 13,
        "start_time": "2022-09-02T11:54:58.384Z"
      },
      {
        "duration": 11,
        "start_time": "2022-09-02T11:55:25.557Z"
      },
      {
        "duration": 9,
        "start_time": "2022-09-02T11:56:11.820Z"
      },
      {
        "duration": 10,
        "start_time": "2022-09-02T11:56:30.742Z"
      },
      {
        "duration": 11,
        "start_time": "2022-09-02T11:56:37.675Z"
      },
      {
        "duration": 11,
        "start_time": "2022-09-02T11:57:00.264Z"
      },
      {
        "duration": 8,
        "start_time": "2022-09-02T11:57:45.255Z"
      },
      {
        "duration": 9,
        "start_time": "2022-09-02T11:58:03.037Z"
      },
      {
        "duration": 10,
        "start_time": "2022-09-02T11:58:38.692Z"
      },
      {
        "duration": 10,
        "start_time": "2022-09-02T11:58:52.931Z"
      },
      {
        "duration": 11,
        "start_time": "2022-09-02T12:00:06.520Z"
      },
      {
        "duration": 12,
        "start_time": "2022-09-02T12:26:47.336Z"
      },
      {
        "duration": 1006,
        "start_time": "2022-09-02T13:58:47.704Z"
      },
      {
        "duration": 26,
        "start_time": "2022-09-02T14:25:12.778Z"
      },
      {
        "duration": 19,
        "start_time": "2022-09-02T14:29:30.634Z"
      },
      {
        "duration": 20,
        "start_time": "2022-09-02T14:30:10.016Z"
      },
      {
        "duration": 10,
        "start_time": "2022-09-02T14:30:54.418Z"
      },
      {
        "duration": 12,
        "start_time": "2022-09-02T14:31:10.450Z"
      },
      {
        "duration": 23,
        "start_time": "2022-09-02T14:32:30.170Z"
      },
      {
        "duration": 121,
        "start_time": "2022-09-02T14:32:45.954Z"
      },
      {
        "duration": 23,
        "start_time": "2022-09-02T14:33:00.165Z"
      },
      {
        "duration": 51,
        "start_time": "2022-09-02T14:33:13.835Z"
      },
      {
        "duration": 18,
        "start_time": "2022-09-02T14:33:19.785Z"
      },
      {
        "duration": 111,
        "start_time": "2022-09-02T14:34:06.330Z"
      },
      {
        "duration": 103,
        "start_time": "2022-09-02T14:34:53.607Z"
      },
      {
        "duration": 12,
        "start_time": "2022-09-02T14:41:45.481Z"
      },
      {
        "duration": 10,
        "start_time": "2022-09-02T14:42:15.996Z"
      },
      {
        "duration": 10,
        "start_time": "2022-09-02T14:42:23.233Z"
      },
      {
        "duration": 105,
        "start_time": "2022-09-02T14:42:42.986Z"
      },
      {
        "duration": 9,
        "start_time": "2022-09-02T14:42:47.740Z"
      },
      {
        "duration": 105,
        "start_time": "2022-09-02T14:42:50.913Z"
      },
      {
        "duration": 102,
        "start_time": "2022-09-02T14:43:02.036Z"
      },
      {
        "duration": 102,
        "start_time": "2022-09-02T14:43:14.617Z"
      },
      {
        "duration": 10,
        "start_time": "2022-09-02T14:43:19.232Z"
      },
      {
        "duration": 113,
        "start_time": "2022-09-02T14:43:31.368Z"
      },
      {
        "duration": 11,
        "start_time": "2022-09-02T14:43:39.512Z"
      },
      {
        "duration": 105,
        "start_time": "2022-09-02T14:43:49.622Z"
      },
      {
        "duration": 129,
        "start_time": "2022-09-02T14:44:01.450Z"
      },
      {
        "duration": 186,
        "start_time": "2022-09-02T14:44:10.431Z"
      },
      {
        "duration": 14,
        "start_time": "2022-09-02T14:46:28.965Z"
      },
      {
        "duration": 130,
        "start_time": "2022-09-02T14:47:15.319Z"
      },
      {
        "duration": 120,
        "start_time": "2022-09-02T14:49:18.408Z"
      },
      {
        "duration": 136,
        "start_time": "2022-09-02T14:49:25.386Z"
      },
      {
        "duration": 140,
        "start_time": "2022-09-02T14:49:31.768Z"
      },
      {
        "duration": 100,
        "start_time": "2022-09-02T14:49:38.078Z"
      },
      {
        "duration": 141,
        "start_time": "2022-09-02T14:49:41.845Z"
      },
      {
        "duration": 151,
        "start_time": "2022-09-02T14:49:51.838Z"
      },
      {
        "duration": 125,
        "start_time": "2022-09-02T14:49:55.421Z"
      },
      {
        "duration": 86,
        "start_time": "2022-09-02T14:50:01.132Z"
      },
      {
        "duration": 125,
        "start_time": "2022-09-02T14:50:07.521Z"
      },
      {
        "duration": 18,
        "start_time": "2022-09-02T14:53:09.843Z"
      },
      {
        "duration": 15,
        "start_time": "2022-09-02T14:53:17.118Z"
      },
      {
        "duration": 62,
        "start_time": "2022-09-02T14:53:28.588Z"
      },
      {
        "duration": 14,
        "start_time": "2022-09-02T14:53:33.880Z"
      },
      {
        "duration": 15,
        "start_time": "2022-09-02T14:58:24.896Z"
      },
      {
        "duration": 15,
        "start_time": "2022-09-02T14:58:33.680Z"
      },
      {
        "duration": 16,
        "start_time": "2022-09-02T14:58:41.114Z"
      },
      {
        "duration": 81,
        "start_time": "2022-09-02T14:58:54.852Z"
      },
      {
        "duration": 17,
        "start_time": "2022-09-02T14:58:54.935Z"
      },
      {
        "duration": 23,
        "start_time": "2022-09-02T14:58:54.954Z"
      },
      {
        "duration": 35,
        "start_time": "2022-09-02T14:58:54.980Z"
      },
      {
        "duration": 40,
        "start_time": "2022-09-02T14:58:55.017Z"
      },
      {
        "duration": 3,
        "start_time": "2022-09-02T14:58:55.059Z"
      },
      {
        "duration": 29,
        "start_time": "2022-09-02T14:58:55.064Z"
      },
      {
        "duration": 12,
        "start_time": "2022-09-02T14:58:55.095Z"
      },
      {
        "duration": 13,
        "start_time": "2022-09-02T14:58:55.109Z"
      },
      {
        "duration": 8,
        "start_time": "2022-09-02T14:58:55.125Z"
      },
      {
        "duration": 38,
        "start_time": "2022-09-02T14:58:55.134Z"
      },
      {
        "duration": 31,
        "start_time": "2022-09-02T14:58:55.174Z"
      },
      {
        "duration": 10,
        "start_time": "2022-09-02T14:58:55.206Z"
      },
      {
        "duration": 16,
        "start_time": "2022-09-02T14:58:55.218Z"
      },
      {
        "duration": 29,
        "start_time": "2022-09-02T14:58:55.235Z"
      },
      {
        "duration": 36,
        "start_time": "2022-09-02T14:58:55.266Z"
      },
      {
        "duration": 7,
        "start_time": "2022-09-02T14:58:55.304Z"
      },
      {
        "duration": 23,
        "start_time": "2022-09-02T14:58:55.313Z"
      },
      {
        "duration": 25,
        "start_time": "2022-09-02T14:58:55.338Z"
      },
      {
        "duration": 10,
        "start_time": "2022-09-02T14:58:55.364Z"
      },
      {
        "duration": 22,
        "start_time": "2022-09-02T14:58:55.376Z"
      },
      {
        "duration": 31,
        "start_time": "2022-09-02T14:58:55.400Z"
      },
      {
        "duration": 126,
        "start_time": "2022-09-02T14:58:55.434Z"
      },
      {
        "duration": 15,
        "start_time": "2022-09-02T14:59:34.553Z"
      },
      {
        "duration": 138,
        "start_time": "2022-09-02T14:59:40.378Z"
      },
      {
        "duration": 273,
        "start_time": "2022-09-02T15:00:19.941Z"
      },
      {
        "duration": 124,
        "start_time": "2022-09-02T15:00:44.147Z"
      },
      {
        "duration": 135,
        "start_time": "2022-09-02T15:01:10.728Z"
      },
      {
        "duration": 737,
        "start_time": "2022-09-02T18:37:30.619Z"
      },
      {
        "duration": 22,
        "start_time": "2022-09-02T18:37:31.358Z"
      },
      {
        "duration": 24,
        "start_time": "2022-09-02T18:37:31.381Z"
      },
      {
        "duration": 28,
        "start_time": "2022-09-02T18:37:31.407Z"
      },
      {
        "duration": 62,
        "start_time": "2022-09-02T18:37:31.437Z"
      },
      {
        "duration": 4,
        "start_time": "2022-09-02T18:37:31.501Z"
      },
      {
        "duration": 30,
        "start_time": "2022-09-02T18:37:31.507Z"
      },
      {
        "duration": 17,
        "start_time": "2022-09-02T18:37:31.538Z"
      },
      {
        "duration": 38,
        "start_time": "2022-09-02T18:37:31.556Z"
      },
      {
        "duration": 16,
        "start_time": "2022-09-02T18:37:31.595Z"
      },
      {
        "duration": 50,
        "start_time": "2022-09-02T18:37:31.613Z"
      },
      {
        "duration": 10,
        "start_time": "2022-09-02T18:37:31.665Z"
      },
      {
        "duration": 7,
        "start_time": "2022-09-02T18:37:31.677Z"
      },
      {
        "duration": 35,
        "start_time": "2022-09-02T18:37:31.686Z"
      },
      {
        "duration": 30,
        "start_time": "2022-09-02T18:37:31.723Z"
      },
      {
        "duration": 24,
        "start_time": "2022-09-02T18:37:31.754Z"
      },
      {
        "duration": 13,
        "start_time": "2022-09-02T18:37:31.780Z"
      },
      {
        "duration": 48,
        "start_time": "2022-09-02T18:37:31.794Z"
      },
      {
        "duration": 28,
        "start_time": "2022-09-02T18:37:31.843Z"
      },
      {
        "duration": 32,
        "start_time": "2022-09-02T18:37:31.873Z"
      },
      {
        "duration": 54,
        "start_time": "2022-09-02T18:37:31.906Z"
      },
      {
        "duration": 911,
        "start_time": "2022-09-02T18:37:31.962Z"
      },
      {
        "duration": 126,
        "start_time": "2022-09-02T18:37:32.875Z"
      },
      {
        "duration": 10,
        "start_time": "2022-09-02T18:37:33.003Z"
      },
      {
        "duration": 135,
        "start_time": "2022-09-02T18:37:33.014Z"
      },
      {
        "duration": 9,
        "start_time": "2022-09-02T18:37:33.151Z"
      },
      {
        "duration": 111,
        "start_time": "2022-09-02T18:37:33.161Z"
      },
      {
        "duration": 15,
        "start_time": "2022-09-02T18:37:33.274Z"
      },
      {
        "duration": 133,
        "start_time": "2022-09-02T18:37:33.291Z"
      },
      {
        "duration": 4,
        "start_time": "2022-09-03T10:28:00.956Z"
      },
      {
        "duration": 49,
        "start_time": "2022-09-03T10:30:06.481Z"
      },
      {
        "duration": 763,
        "start_time": "2022-09-03T10:30:17.966Z"
      },
      {
        "duration": 26,
        "start_time": "2022-09-03T10:30:18.732Z"
      },
      {
        "duration": 54,
        "start_time": "2022-09-03T10:30:18.760Z"
      },
      {
        "duration": 10,
        "start_time": "2022-09-03T10:30:18.817Z"
      },
      {
        "duration": 45,
        "start_time": "2022-09-03T10:30:18.829Z"
      },
      {
        "duration": 4,
        "start_time": "2022-09-03T10:30:18.876Z"
      },
      {
        "duration": 14,
        "start_time": "2022-09-03T10:30:18.882Z"
      },
      {
        "duration": 5,
        "start_time": "2022-09-03T10:30:18.898Z"
      },
      {
        "duration": 7,
        "start_time": "2022-09-03T10:30:18.906Z"
      },
      {
        "duration": 6,
        "start_time": "2022-09-03T10:30:18.917Z"
      },
      {
        "duration": 64,
        "start_time": "2022-09-03T10:30:18.925Z"
      },
      {
        "duration": 11,
        "start_time": "2022-09-03T10:30:18.991Z"
      },
      {
        "duration": 18,
        "start_time": "2022-09-03T10:30:19.004Z"
      },
      {
        "duration": 15,
        "start_time": "2022-09-03T10:30:19.024Z"
      },
      {
        "duration": 28,
        "start_time": "2022-09-03T10:30:19.040Z"
      },
      {
        "duration": 16,
        "start_time": "2022-09-03T10:30:19.070Z"
      },
      {
        "duration": 4,
        "start_time": "2022-09-03T10:30:19.088Z"
      },
      {
        "duration": 19,
        "start_time": "2022-09-03T10:30:19.094Z"
      },
      {
        "duration": 8,
        "start_time": "2022-09-03T10:30:19.115Z"
      },
      {
        "duration": 7,
        "start_time": "2022-09-03T10:30:19.125Z"
      },
      {
        "duration": 12,
        "start_time": "2022-09-03T10:30:19.158Z"
      },
      {
        "duration": 982,
        "start_time": "2022-09-03T10:30:19.171Z"
      },
      {
        "duration": 101,
        "start_time": "2022-09-03T10:30:20.157Z"
      },
      {
        "duration": 0,
        "start_time": "2022-09-03T10:30:20.261Z"
      },
      {
        "duration": 0,
        "start_time": "2022-09-03T10:30:20.263Z"
      },
      {
        "duration": 0,
        "start_time": "2022-09-03T10:30:20.264Z"
      },
      {
        "duration": 0,
        "start_time": "2022-09-03T10:30:20.265Z"
      },
      {
        "duration": 0,
        "start_time": "2022-09-03T10:30:20.266Z"
      },
      {
        "duration": 0,
        "start_time": "2022-09-03T10:30:20.268Z"
      },
      {
        "duration": 14,
        "start_time": "2022-09-03T10:30:30.418Z"
      },
      {
        "duration": 14,
        "start_time": "2022-09-03T10:31:18.823Z"
      },
      {
        "duration": 14,
        "start_time": "2022-09-03T10:31:50.779Z"
      },
      {
        "duration": 13,
        "start_time": "2022-09-03T10:31:55.985Z"
      },
      {
        "duration": 12,
        "start_time": "2022-09-03T10:33:00.353Z"
      },
      {
        "duration": 5,
        "start_time": "2022-09-03T10:33:38.476Z"
      },
      {
        "duration": 5,
        "start_time": "2022-09-03T10:33:43.850Z"
      },
      {
        "duration": 10,
        "start_time": "2022-09-03T10:34:50.518Z"
      },
      {
        "duration": 25,
        "start_time": "2022-09-03T10:34:59.680Z"
      },
      {
        "duration": 23,
        "start_time": "2022-09-03T10:35:14.182Z"
      },
      {
        "duration": 148,
        "start_time": "2022-09-03T10:35:32.331Z"
      },
      {
        "duration": 120,
        "start_time": "2022-09-03T10:37:48.328Z"
      },
      {
        "duration": 11,
        "start_time": "2022-09-03T10:38:15.565Z"
      },
      {
        "duration": 10,
        "start_time": "2022-09-03T10:38:19.068Z"
      },
      {
        "duration": 114,
        "start_time": "2022-09-03T10:38:20.370Z"
      },
      {
        "duration": 144,
        "start_time": "2022-09-03T10:39:29.661Z"
      },
      {
        "duration": 142,
        "start_time": "2022-09-03T10:40:01.046Z"
      },
      {
        "duration": 124,
        "start_time": "2022-09-03T10:40:17.495Z"
      },
      {
        "duration": 154,
        "start_time": "2022-09-03T10:40:24.559Z"
      },
      {
        "duration": 9,
        "start_time": "2022-09-03T10:40:54.020Z"
      },
      {
        "duration": 137,
        "start_time": "2022-09-03T10:41:08.839Z"
      },
      {
        "duration": 16,
        "start_time": "2022-09-03T10:41:08.978Z"
      },
      {
        "duration": 20,
        "start_time": "2022-09-03T10:41:08.996Z"
      },
      {
        "duration": 9,
        "start_time": "2022-09-03T10:41:09.018Z"
      },
      {
        "duration": 110,
        "start_time": "2022-09-03T10:41:09.028Z"
      },
      {
        "duration": 3,
        "start_time": "2022-09-03T10:41:09.140Z"
      },
      {
        "duration": 17,
        "start_time": "2022-09-03T10:41:09.145Z"
      },
      {
        "duration": 4,
        "start_time": "2022-09-03T10:41:09.163Z"
      },
      {
        "duration": 6,
        "start_time": "2022-09-03T10:41:09.169Z"
      },
      {
        "duration": 5,
        "start_time": "2022-09-03T10:41:09.178Z"
      },
      {
        "duration": 31,
        "start_time": "2022-09-03T10:41:09.184Z"
      },
      {
        "duration": 10,
        "start_time": "2022-09-03T10:41:09.216Z"
      },
      {
        "duration": 4,
        "start_time": "2022-09-03T10:41:09.258Z"
      },
      {
        "duration": 15,
        "start_time": "2022-09-03T10:41:09.263Z"
      },
      {
        "duration": 20,
        "start_time": "2022-09-03T10:41:09.279Z"
      },
      {
        "duration": 15,
        "start_time": "2022-09-03T10:41:09.301Z"
      },
      {
        "duration": 3,
        "start_time": "2022-09-03T10:41:09.318Z"
      },
      {
        "duration": 11,
        "start_time": "2022-09-03T10:41:09.323Z"
      },
      {
        "duration": 6,
        "start_time": "2022-09-03T10:41:09.357Z"
      },
      {
        "duration": 7,
        "start_time": "2022-09-03T10:41:09.364Z"
      },
      {
        "duration": 15,
        "start_time": "2022-09-03T10:41:09.372Z"
      },
      {
        "duration": 9,
        "start_time": "2022-09-03T10:41:09.388Z"
      },
      {
        "duration": 136,
        "start_time": "2022-09-03T10:41:09.398Z"
      },
      {
        "duration": 26,
        "start_time": "2022-09-03T10:41:09.536Z"
      },
      {
        "duration": 148,
        "start_time": "2022-09-03T10:41:09.564Z"
      },
      {
        "duration": 11,
        "start_time": "2022-09-03T10:41:10.235Z"
      },
      {
        "duration": 154,
        "start_time": "2022-09-03T10:41:10.248Z"
      },
      {
        "duration": 0,
        "start_time": "2022-09-03T10:41:10.404Z"
      },
      {
        "duration": 0,
        "start_time": "2022-09-03T10:41:10.405Z"
      },
      {
        "duration": 99,
        "start_time": "2022-09-03T10:41:27.939Z"
      },
      {
        "duration": 133,
        "start_time": "2022-09-03T10:41:36.701Z"
      },
      {
        "duration": 119,
        "start_time": "2022-09-03T10:41:46.971Z"
      },
      {
        "duration": 123,
        "start_time": "2022-09-03T10:42:29.461Z"
      },
      {
        "duration": 132,
        "start_time": "2022-09-03T10:42:54.897Z"
      },
      {
        "duration": 127,
        "start_time": "2022-09-03T10:43:01.262Z"
      },
      {
        "duration": 9,
        "start_time": "2022-09-03T10:43:41.055Z"
      },
      {
        "duration": 10,
        "start_time": "2022-09-03T10:43:44.691Z"
      },
      {
        "duration": 131,
        "start_time": "2022-09-03T10:43:45.143Z"
      },
      {
        "duration": 50,
        "start_time": "2022-09-03T12:21:54.752Z"
      },
      {
        "duration": 12,
        "start_time": "2022-09-03T12:28:06.232Z"
      },
      {
        "duration": 161,
        "start_time": "2022-09-03T12:28:06.586Z"
      }
    ],
    "colab": {
      "provenance": [],
      "include_colab_link": true
    },
    "kernelspec": {
      "display_name": "Python 3 (ipykernel)",
      "language": "python",
      "name": "python3"
    },
    "language_info": {
      "codemirror_mode": {
        "name": "ipython",
        "version": 3
      },
      "file_extension": ".py",
      "mimetype": "text/x-python",
      "name": "python",
      "nbconvert_exporter": "python",
      "pygments_lexer": "ipython3",
      "version": "3.9.5"
    },
    "toc": {
      "base_numbering": 1,
      "nav_menu": {},
      "number_sections": true,
      "sideBar": true,
      "skip_h1_title": true,
      "title_cell": "Table of Contents",
      "title_sidebar": "Contents",
      "toc_cell": false,
      "toc_position": {},
      "toc_section_display": true,
      "toc_window_display": false
    }
  },
  "nbformat": 4,
  "nbformat_minor": 5
}
