{
  "cells": [
    {
      "cell_type": "markdown",
      "metadata": {
        "id": "view-in-github",
        "colab_type": "text"
      },
      "source": [
        "<a href=\"https://colab.research.google.com/github/Barikko/Yandex.Practicum-Projects/blob/main/%D0%A4%D0%B8%D0%BD%D0%B0%D0%BB.ipynb\" target=\"_parent\"><img src=\"https://colab.research.google.com/assets/colab-badge.svg\" alt=\"Open In Colab\"/></a>"
      ]
    },
    {
      "cell_type": "markdown",
      "metadata": {
        "id": "5_216jZyF7KD"
      },
      "source": [
        "# Проект \"Выявление профилей потребления\""
      ]
    },
    {
      "cell_type": "markdown",
      "metadata": {
        "id": "Id5khgRnF7KE"
      },
      "source": [
        "Материалы проекта\n",
        "\n",
        "Презентация: https://disk.yandex.ru/d/xKfycvCwbBKC7w\n",
        "\n",
        "Дашборд: https://public.tableau.com/app/profile/aleksandr6311/viz/Final_project_dash_16762983799970/Dashboard1"
      ]
    },
    {
      "cell_type": "markdown",
      "metadata": {
        "id": "l6c49OttF7KF"
      },
      "source": [
        "## Описание проекта:\n",
        "Интернет-магазину \"Пока все ещё тут\" необходимо сегментировать покупателей на основе их истории покупок для разработки более персонализированных предложений для покупателей. Заказчик предоставил датасет с транзакциями своего магазина."
      ]
    },
    {
      "cell_type": "markdown",
      "metadata": {
        "id": "6v8VrVnjF7KF"
      },
      "source": [
        "##  Описание данных:\n",
        "\n",
        "Данные хранятся в датасете ecommerce_dataset.csv.\n",
        "###  Колонки датасета:\n",
        "\n",
        "    date - дата заказа\n",
        "    customer_id - идентификатор покупателя\n",
        "    order_id - идентификатор заказа\n",
        "    product - наименования товара\n",
        "    quantity - количество товара в заказе\n",
        "    price - цена товара"
      ]
    },
    {
      "cell_type": "markdown",
      "metadata": {
        "id": "f_nnUwEWF7KG"
      },
      "source": [
        "## Загрузка данных и изучение общей информации"
      ]
    },
    {
      "cell_type": "code",
      "execution_count": 65,
      "metadata": {
        "id": "jmpRyXMeF7KI"
      },
      "outputs": [],
      "source": [
        "import pandas as pd\n",
        "import numpy as np\n",
        "import matplotlib.pyplot as plt\n",
        "from plotly import graph_objects as go\n",
        "import plotly.express as px\n",
        "import seaborn as sns\n",
        "from scipy import stats as st"
      ]
    },
    {
      "cell_type": "code",
      "execution_count": 66,
      "metadata": {
        "id": "5Sp0RR-TF7KJ"
      },
      "outputs": [],
      "source": [
        "df = pd.read_csv('/content/ecommerce_dataset.csv')"
      ]
    },
    {
      "cell_type": "code",
      "execution_count": 67,
      "metadata": {
        "colab": {
          "base_uri": "https://localhost:8080/",
          "height": 456
        },
        "id": "nz5DJ-ERF7KK",
        "outputId": "389da485-f759-4adc-a326-3e6614160c13"
      },
      "outputs": [
        {
          "output_type": "display_data",
          "data": {
            "text/plain": [
              "         date                           customer_id  order_id  \\\n",
              "0  2018100100  ee47d746-6d2f-4d3c-9622-c31412542920     68477   \n",
              "1  2018100100  ee47d746-6d2f-4d3c-9622-c31412542920     68477   \n",
              "2  2018100100  ee47d746-6d2f-4d3c-9622-c31412542920     68477   \n",
              "3  2018100100  ee47d746-6d2f-4d3c-9622-c31412542920     68477   \n",
              "4  2018100100  ee47d746-6d2f-4d3c-9622-c31412542920     68477   \n",
              "\n",
              "                                             product  quantity  price  \n",
              "0    Комнатное растение в горшке Алое Вера, d12, h30         1  142.0  \n",
              "1  Комнатное растение в горшке Кофе Арабика, d12,...         1  194.0  \n",
              "2                        Радермахера d-12 см h-20 см         1  112.0  \n",
              "3                   Хризолидокарпус Лутесценс d-9 см         1  179.0  \n",
              "4                     Циперус Зумула d-12 см h-25 см         1  112.0  "
            ],
            "text/html": [
              "\n",
              "  <div id=\"df-62123fcc-60c1-4498-865d-6db4446700c0\">\n",
              "    <div class=\"colab-df-container\">\n",
              "      <div>\n",
              "<style scoped>\n",
              "    .dataframe tbody tr th:only-of-type {\n",
              "        vertical-align: middle;\n",
              "    }\n",
              "\n",
              "    .dataframe tbody tr th {\n",
              "        vertical-align: top;\n",
              "    }\n",
              "\n",
              "    .dataframe thead th {\n",
              "        text-align: right;\n",
              "    }\n",
              "</style>\n",
              "<table border=\"1\" class=\"dataframe\">\n",
              "  <thead>\n",
              "    <tr style=\"text-align: right;\">\n",
              "      <th></th>\n",
              "      <th>date</th>\n",
              "      <th>customer_id</th>\n",
              "      <th>order_id</th>\n",
              "      <th>product</th>\n",
              "      <th>quantity</th>\n",
              "      <th>price</th>\n",
              "    </tr>\n",
              "  </thead>\n",
              "  <tbody>\n",
              "    <tr>\n",
              "      <th>0</th>\n",
              "      <td>2018100100</td>\n",
              "      <td>ee47d746-6d2f-4d3c-9622-c31412542920</td>\n",
              "      <td>68477</td>\n",
              "      <td>Комнатное растение в горшке Алое Вера, d12, h30</td>\n",
              "      <td>1</td>\n",
              "      <td>142.0</td>\n",
              "    </tr>\n",
              "    <tr>\n",
              "      <th>1</th>\n",
              "      <td>2018100100</td>\n",
              "      <td>ee47d746-6d2f-4d3c-9622-c31412542920</td>\n",
              "      <td>68477</td>\n",
              "      <td>Комнатное растение в горшке Кофе Арабика, d12,...</td>\n",
              "      <td>1</td>\n",
              "      <td>194.0</td>\n",
              "    </tr>\n",
              "    <tr>\n",
              "      <th>2</th>\n",
              "      <td>2018100100</td>\n",
              "      <td>ee47d746-6d2f-4d3c-9622-c31412542920</td>\n",
              "      <td>68477</td>\n",
              "      <td>Радермахера d-12 см h-20 см</td>\n",
              "      <td>1</td>\n",
              "      <td>112.0</td>\n",
              "    </tr>\n",
              "    <tr>\n",
              "      <th>3</th>\n",
              "      <td>2018100100</td>\n",
              "      <td>ee47d746-6d2f-4d3c-9622-c31412542920</td>\n",
              "      <td>68477</td>\n",
              "      <td>Хризолидокарпус Лутесценс d-9 см</td>\n",
              "      <td>1</td>\n",
              "      <td>179.0</td>\n",
              "    </tr>\n",
              "    <tr>\n",
              "      <th>4</th>\n",
              "      <td>2018100100</td>\n",
              "      <td>ee47d746-6d2f-4d3c-9622-c31412542920</td>\n",
              "      <td>68477</td>\n",
              "      <td>Циперус Зумула d-12 см h-25 см</td>\n",
              "      <td>1</td>\n",
              "      <td>112.0</td>\n",
              "    </tr>\n",
              "  </tbody>\n",
              "</table>\n",
              "</div>\n",
              "      <button class=\"colab-df-convert\" onclick=\"convertToInteractive('df-62123fcc-60c1-4498-865d-6db4446700c0')\"\n",
              "              title=\"Convert this dataframe to an interactive table.\"\n",
              "              style=\"display:none;\">\n",
              "        \n",
              "  <svg xmlns=\"http://www.w3.org/2000/svg\" height=\"24px\"viewBox=\"0 0 24 24\"\n",
              "       width=\"24px\">\n",
              "    <path d=\"M0 0h24v24H0V0z\" fill=\"none\"/>\n",
              "    <path d=\"M18.56 5.44l.94 2.06.94-2.06 2.06-.94-2.06-.94-.94-2.06-.94 2.06-2.06.94zm-11 1L8.5 8.5l.94-2.06 2.06-.94-2.06-.94L8.5 2.5l-.94 2.06-2.06.94zm10 10l.94 2.06.94-2.06 2.06-.94-2.06-.94-.94-2.06-.94 2.06-2.06.94z\"/><path d=\"M17.41 7.96l-1.37-1.37c-.4-.4-.92-.59-1.43-.59-.52 0-1.04.2-1.43.59L10.3 9.45l-7.72 7.72c-.78.78-.78 2.05 0 2.83L4 21.41c.39.39.9.59 1.41.59.51 0 1.02-.2 1.41-.59l7.78-7.78 2.81-2.81c.8-.78.8-2.07 0-2.86zM5.41 20L4 18.59l7.72-7.72 1.47 1.35L5.41 20z\"/>\n",
              "  </svg>\n",
              "      </button>\n",
              "      \n",
              "  <style>\n",
              "    .colab-df-container {\n",
              "      display:flex;\n",
              "      flex-wrap:wrap;\n",
              "      gap: 12px;\n",
              "    }\n",
              "\n",
              "    .colab-df-convert {\n",
              "      background-color: #E8F0FE;\n",
              "      border: none;\n",
              "      border-radius: 50%;\n",
              "      cursor: pointer;\n",
              "      display: none;\n",
              "      fill: #1967D2;\n",
              "      height: 32px;\n",
              "      padding: 0 0 0 0;\n",
              "      width: 32px;\n",
              "    }\n",
              "\n",
              "    .colab-df-convert:hover {\n",
              "      background-color: #E2EBFA;\n",
              "      box-shadow: 0px 1px 2px rgba(60, 64, 67, 0.3), 0px 1px 3px 1px rgba(60, 64, 67, 0.15);\n",
              "      fill: #174EA6;\n",
              "    }\n",
              "\n",
              "    [theme=dark] .colab-df-convert {\n",
              "      background-color: #3B4455;\n",
              "      fill: #D2E3FC;\n",
              "    }\n",
              "\n",
              "    [theme=dark] .colab-df-convert:hover {\n",
              "      background-color: #434B5C;\n",
              "      box-shadow: 0px 1px 3px 1px rgba(0, 0, 0, 0.15);\n",
              "      filter: drop-shadow(0px 1px 2px rgba(0, 0, 0, 0.3));\n",
              "      fill: #FFFFFF;\n",
              "    }\n",
              "  </style>\n",
              "\n",
              "      <script>\n",
              "        const buttonEl =\n",
              "          document.querySelector('#df-62123fcc-60c1-4498-865d-6db4446700c0 button.colab-df-convert');\n",
              "        buttonEl.style.display =\n",
              "          google.colab.kernel.accessAllowed ? 'block' : 'none';\n",
              "\n",
              "        async function convertToInteractive(key) {\n",
              "          const element = document.querySelector('#df-62123fcc-60c1-4498-865d-6db4446700c0');\n",
              "          const dataTable =\n",
              "            await google.colab.kernel.invokeFunction('convertToInteractive',\n",
              "                                                     [key], {});\n",
              "          if (!dataTable) return;\n",
              "\n",
              "          const docLinkHtml = 'Like what you see? Visit the ' +\n",
              "            '<a target=\"_blank\" href=https://colab.research.google.com/notebooks/data_table.ipynb>data table notebook</a>'\n",
              "            + ' to learn more about interactive tables.';\n",
              "          element.innerHTML = '';\n",
              "          dataTable['output_type'] = 'display_data';\n",
              "          await google.colab.output.renderOutput(dataTable, element);\n",
              "          const docLink = document.createElement('div');\n",
              "          docLink.innerHTML = docLinkHtml;\n",
              "          element.appendChild(docLink);\n",
              "        }\n",
              "      </script>\n",
              "    </div>\n",
              "  </div>\n",
              "  "
            ]
          },
          "metadata": {}
        },
        {
          "output_type": "stream",
          "name": "stdout",
          "text": [
            "<class 'pandas.core.frame.DataFrame'>\n",
            "RangeIndex: 6737 entries, 0 to 6736\n",
            "Data columns (total 6 columns):\n",
            " #   Column       Non-Null Count  Dtype  \n",
            "---  ------       --------------  -----  \n",
            " 0   date         6737 non-null   int64  \n",
            " 1   customer_id  6737 non-null   object \n",
            " 2   order_id     6737 non-null   int64  \n",
            " 3   product      6737 non-null   object \n",
            " 4   quantity     6737 non-null   int64  \n",
            " 5   price        6737 non-null   float64\n",
            "dtypes: float64(1), int64(3), object(2)\n",
            "memory usage: 315.9+ KB\n",
            "None\n"
          ]
        }
      ],
      "source": [
        "display(df.head(5))\n",
        "print(df.info())"
      ]
    },
    {
      "cell_type": "markdown",
      "metadata": {
        "id": "o1KhmCR4F7KK"
      },
      "source": [
        "## Предобработка данных"
      ]
    },
    {
      "cell_type": "code",
      "execution_count": 68,
      "metadata": {
        "colab": {
          "base_uri": "https://localhost:8080/"
        },
        "id": "gJLIH_nPF7KL",
        "outputId": "deceba2a-06f2-4dc8-82ed-6d46905a59f4"
      },
      "outputs": [
        {
          "output_type": "stream",
          "name": "stdout",
          "text": [
            "Дубликатов: 0\n",
            "Товаров с отрицательным количеством: 0\n",
            "Товаров с отрицательной ценой: 0\n"
          ]
        }
      ],
      "source": [
        "df['date'] = pd.to_datetime(df['date'], format='%Y%m%d%H')\n",
        "df['total']=df['quantity']*df['price']\n",
        "df['month'] = df['date'].astype('datetime64[M]')\n",
        "print(\"Дубликатов:\",df.duplicated().sum())\n",
        "print(\"Товаров с отрицательным количеством:\",len(df.query(\"quantity<1\")))\n",
        "print(\"Товаров с отрицательной ценой:\",len(df.query(\"price<1\")))"
      ]
    },
    {
      "cell_type": "markdown",
      "metadata": {
        "id": "-dRn4ta9F7KL"
      },
      "source": [
        "Явных дубликатов не обнаружено, формат даты исправлен на верный, добавлен новый столбец с общим чеком и месяцем."
      ]
    },
    {
      "cell_type": "code",
      "execution_count": 69,
      "metadata": {
        "id": "bl2E1ejTF7KM"
      },
      "outputs": [],
      "source": [
        "df = df.drop_duplicates(['customer_id', 'order_id', 'product', 'quantity', 'price'])"
      ]
    },
    {
      "cell_type": "markdown",
      "metadata": {
        "id": "mB73APiOF7KN"
      },
      "source": [
        "## Исследовательский анализ данных"
      ]
    },
    {
      "cell_type": "code",
      "execution_count": 70,
      "metadata": {
        "colab": {
          "base_uri": "https://localhost:8080/"
        },
        "id": "VB2NCqBIF7KN",
        "outputId": "dceabe36-c23f-43a4-8589-776e1cda1b62"
      },
      "outputs": [
        {
          "output_type": "stream",
          "name": "stdout",
          "text": [
            "Всего покупателей: 2451\n",
            "Всего заказов: 2784\n"
          ]
        }
      ],
      "source": [
        "print('Всего покупателей:',len(df['customer_id'].unique()))\n",
        "print('Всего заказов:',len(df['order_id'].unique()))"
      ]
    },
    {
      "cell_type": "markdown",
      "metadata": {
        "id": "8CYmDwu4F7KN"
      },
      "source": [
        "Покупателей - 2451, заказов - 2784, для более точного исследования сгруппируем данные по заказам и покупателям."
      ]
    },
    {
      "cell_type": "code",
      "execution_count": 71,
      "metadata": {
        "colab": {
          "base_uri": "https://localhost:8080/",
          "height": 300
        },
        "id": "QkfpSrIRF7KO",
        "outputId": "adaa46cb-aae0-498f-94ba-6dd9907eb013"
      },
      "outputs": [
        {
          "output_type": "execute_result",
          "data": {
            "text/plain": [
              "           order_id     quantity         price          total\n",
              "count   4873.000000  4873.000000   4873.000000    4873.000000\n",
              "mean   48231.287503     2.837472    514.749846     850.021342\n",
              "std    27341.349829    17.606813    944.455480    9807.308006\n",
              "min    12624.000000     1.000000      9.000000       9.000000\n",
              "25%    14776.000000     1.000000     90.000000     120.000000\n",
              "50%    68860.000000     1.000000    150.000000     194.000000\n",
              "75%    70833.000000     1.000000    488.000000     734.000000\n",
              "max    73164.000000  1000.000000  14917.000000  675000.000000"
            ],
            "text/html": [
              "\n",
              "  <div id=\"df-2df2debe-fb50-4ac3-aa02-0571e1d1c23e\">\n",
              "    <div class=\"colab-df-container\">\n",
              "      <div>\n",
              "<style scoped>\n",
              "    .dataframe tbody tr th:only-of-type {\n",
              "        vertical-align: middle;\n",
              "    }\n",
              "\n",
              "    .dataframe tbody tr th {\n",
              "        vertical-align: top;\n",
              "    }\n",
              "\n",
              "    .dataframe thead th {\n",
              "        text-align: right;\n",
              "    }\n",
              "</style>\n",
              "<table border=\"1\" class=\"dataframe\">\n",
              "  <thead>\n",
              "    <tr style=\"text-align: right;\">\n",
              "      <th></th>\n",
              "      <th>order_id</th>\n",
              "      <th>quantity</th>\n",
              "      <th>price</th>\n",
              "      <th>total</th>\n",
              "    </tr>\n",
              "  </thead>\n",
              "  <tbody>\n",
              "    <tr>\n",
              "      <th>count</th>\n",
              "      <td>4873.000000</td>\n",
              "      <td>4873.000000</td>\n",
              "      <td>4873.000000</td>\n",
              "      <td>4873.000000</td>\n",
              "    </tr>\n",
              "    <tr>\n",
              "      <th>mean</th>\n",
              "      <td>48231.287503</td>\n",
              "      <td>2.837472</td>\n",
              "      <td>514.749846</td>\n",
              "      <td>850.021342</td>\n",
              "    </tr>\n",
              "    <tr>\n",
              "      <th>std</th>\n",
              "      <td>27341.349829</td>\n",
              "      <td>17.606813</td>\n",
              "      <td>944.455480</td>\n",
              "      <td>9807.308006</td>\n",
              "    </tr>\n",
              "    <tr>\n",
              "      <th>min</th>\n",
              "      <td>12624.000000</td>\n",
              "      <td>1.000000</td>\n",
              "      <td>9.000000</td>\n",
              "      <td>9.000000</td>\n",
              "    </tr>\n",
              "    <tr>\n",
              "      <th>25%</th>\n",
              "      <td>14776.000000</td>\n",
              "      <td>1.000000</td>\n",
              "      <td>90.000000</td>\n",
              "      <td>120.000000</td>\n",
              "    </tr>\n",
              "    <tr>\n",
              "      <th>50%</th>\n",
              "      <td>68860.000000</td>\n",
              "      <td>1.000000</td>\n",
              "      <td>150.000000</td>\n",
              "      <td>194.000000</td>\n",
              "    </tr>\n",
              "    <tr>\n",
              "      <th>75%</th>\n",
              "      <td>70833.000000</td>\n",
              "      <td>1.000000</td>\n",
              "      <td>488.000000</td>\n",
              "      <td>734.000000</td>\n",
              "    </tr>\n",
              "    <tr>\n",
              "      <th>max</th>\n",
              "      <td>73164.000000</td>\n",
              "      <td>1000.000000</td>\n",
              "      <td>14917.000000</td>\n",
              "      <td>675000.000000</td>\n",
              "    </tr>\n",
              "  </tbody>\n",
              "</table>\n",
              "</div>\n",
              "      <button class=\"colab-df-convert\" onclick=\"convertToInteractive('df-2df2debe-fb50-4ac3-aa02-0571e1d1c23e')\"\n",
              "              title=\"Convert this dataframe to an interactive table.\"\n",
              "              style=\"display:none;\">\n",
              "        \n",
              "  <svg xmlns=\"http://www.w3.org/2000/svg\" height=\"24px\"viewBox=\"0 0 24 24\"\n",
              "       width=\"24px\">\n",
              "    <path d=\"M0 0h24v24H0V0z\" fill=\"none\"/>\n",
              "    <path d=\"M18.56 5.44l.94 2.06.94-2.06 2.06-.94-2.06-.94-.94-2.06-.94 2.06-2.06.94zm-11 1L8.5 8.5l.94-2.06 2.06-.94-2.06-.94L8.5 2.5l-.94 2.06-2.06.94zm10 10l.94 2.06.94-2.06 2.06-.94-2.06-.94-.94-2.06-.94 2.06-2.06.94z\"/><path d=\"M17.41 7.96l-1.37-1.37c-.4-.4-.92-.59-1.43-.59-.52 0-1.04.2-1.43.59L10.3 9.45l-7.72 7.72c-.78.78-.78 2.05 0 2.83L4 21.41c.39.39.9.59 1.41.59.51 0 1.02-.2 1.41-.59l7.78-7.78 2.81-2.81c.8-.78.8-2.07 0-2.86zM5.41 20L4 18.59l7.72-7.72 1.47 1.35L5.41 20z\"/>\n",
              "  </svg>\n",
              "      </button>\n",
              "      \n",
              "  <style>\n",
              "    .colab-df-container {\n",
              "      display:flex;\n",
              "      flex-wrap:wrap;\n",
              "      gap: 12px;\n",
              "    }\n",
              "\n",
              "    .colab-df-convert {\n",
              "      background-color: #E8F0FE;\n",
              "      border: none;\n",
              "      border-radius: 50%;\n",
              "      cursor: pointer;\n",
              "      display: none;\n",
              "      fill: #1967D2;\n",
              "      height: 32px;\n",
              "      padding: 0 0 0 0;\n",
              "      width: 32px;\n",
              "    }\n",
              "\n",
              "    .colab-df-convert:hover {\n",
              "      background-color: #E2EBFA;\n",
              "      box-shadow: 0px 1px 2px rgba(60, 64, 67, 0.3), 0px 1px 3px 1px rgba(60, 64, 67, 0.15);\n",
              "      fill: #174EA6;\n",
              "    }\n",
              "\n",
              "    [theme=dark] .colab-df-convert {\n",
              "      background-color: #3B4455;\n",
              "      fill: #D2E3FC;\n",
              "    }\n",
              "\n",
              "    [theme=dark] .colab-df-convert:hover {\n",
              "      background-color: #434B5C;\n",
              "      box-shadow: 0px 1px 3px 1px rgba(0, 0, 0, 0.15);\n",
              "      filter: drop-shadow(0px 1px 2px rgba(0, 0, 0, 0.3));\n",
              "      fill: #FFFFFF;\n",
              "    }\n",
              "  </style>\n",
              "\n",
              "      <script>\n",
              "        const buttonEl =\n",
              "          document.querySelector('#df-2df2debe-fb50-4ac3-aa02-0571e1d1c23e button.colab-df-convert');\n",
              "        buttonEl.style.display =\n",
              "          google.colab.kernel.accessAllowed ? 'block' : 'none';\n",
              "\n",
              "        async function convertToInteractive(key) {\n",
              "          const element = document.querySelector('#df-2df2debe-fb50-4ac3-aa02-0571e1d1c23e');\n",
              "          const dataTable =\n",
              "            await google.colab.kernel.invokeFunction('convertToInteractive',\n",
              "                                                     [key], {});\n",
              "          if (!dataTable) return;\n",
              "\n",
              "          const docLinkHtml = 'Like what you see? Visit the ' +\n",
              "            '<a target=\"_blank\" href=https://colab.research.google.com/notebooks/data_table.ipynb>data table notebook</a>'\n",
              "            + ' to learn more about interactive tables.';\n",
              "          element.innerHTML = '';\n",
              "          dataTable['output_type'] = 'display_data';\n",
              "          await google.colab.output.renderOutput(dataTable, element);\n",
              "          const docLink = document.createElement('div');\n",
              "          docLink.innerHTML = docLinkHtml;\n",
              "          element.appendChild(docLink);\n",
              "        }\n",
              "      </script>\n",
              "    </div>\n",
              "  </div>\n",
              "  "
            ]
          },
          "metadata": {},
          "execution_count": 71
        }
      ],
      "source": [
        "df.describe()"
      ]
    },
    {
      "cell_type": "code",
      "execution_count": 72,
      "metadata": {
        "id": "cKqWsQwEF7KO"
      },
      "outputs": [],
      "source": [
        "orders=df.groupby('order_id').agg({'price':'median', 'quantity':'sum', 'total':'sum', 'date':'first','customer_id':'nunique'})\n",
        "customers = df.groupby('customer_id').agg({'order_id':'nunique', \n",
        "                                           'total':'sum', \n",
        "                                           'price':'median', \n",
        "                                           'quantity':'median', \n",
        "                                          })"
      ]
    },
    {
      "cell_type": "code",
      "execution_count": 73,
      "metadata": {
        "colab": {
          "base_uri": "https://localhost:8080/",
          "height": 300
        },
        "id": "P6lI9ncIF7KP",
        "outputId": "38b5219a-0769-4f8d-eda8-42faaa19ce26"
      },
      "outputs": [
        {
          "output_type": "execute_result",
          "data": {
            "text/plain": [
              "              price     quantity          total  customer_id\n",
              "count   2784.000000  2784.000000    2784.000000  2784.000000\n",
              "mean     776.792205     4.966595    1487.842672     1.011853\n",
              "std     1157.857874    24.083546   12964.400709     0.123735\n",
              "min       11.500000     1.000000      14.000000     1.000000\n",
              "25%      134.000000     1.000000     292.000000     1.000000\n",
              "50%      329.000000     1.000000     690.000000     1.000000\n",
              "75%      974.000000     3.000000    1481.500000     1.000000\n",
              "max    14917.000000  1000.000000  675000.000000     4.000000"
            ],
            "text/html": [
              "\n",
              "  <div id=\"df-1af81134-8786-4cd0-8ca6-ce46fcf6e6f4\">\n",
              "    <div class=\"colab-df-container\">\n",
              "      <div>\n",
              "<style scoped>\n",
              "    .dataframe tbody tr th:only-of-type {\n",
              "        vertical-align: middle;\n",
              "    }\n",
              "\n",
              "    .dataframe tbody tr th {\n",
              "        vertical-align: top;\n",
              "    }\n",
              "\n",
              "    .dataframe thead th {\n",
              "        text-align: right;\n",
              "    }\n",
              "</style>\n",
              "<table border=\"1\" class=\"dataframe\">\n",
              "  <thead>\n",
              "    <tr style=\"text-align: right;\">\n",
              "      <th></th>\n",
              "      <th>price</th>\n",
              "      <th>quantity</th>\n",
              "      <th>total</th>\n",
              "      <th>customer_id</th>\n",
              "    </tr>\n",
              "  </thead>\n",
              "  <tbody>\n",
              "    <tr>\n",
              "      <th>count</th>\n",
              "      <td>2784.000000</td>\n",
              "      <td>2784.000000</td>\n",
              "      <td>2784.000000</td>\n",
              "      <td>2784.000000</td>\n",
              "    </tr>\n",
              "    <tr>\n",
              "      <th>mean</th>\n",
              "      <td>776.792205</td>\n",
              "      <td>4.966595</td>\n",
              "      <td>1487.842672</td>\n",
              "      <td>1.011853</td>\n",
              "    </tr>\n",
              "    <tr>\n",
              "      <th>std</th>\n",
              "      <td>1157.857874</td>\n",
              "      <td>24.083546</td>\n",
              "      <td>12964.400709</td>\n",
              "      <td>0.123735</td>\n",
              "    </tr>\n",
              "    <tr>\n",
              "      <th>min</th>\n",
              "      <td>11.500000</td>\n",
              "      <td>1.000000</td>\n",
              "      <td>14.000000</td>\n",
              "      <td>1.000000</td>\n",
              "    </tr>\n",
              "    <tr>\n",
              "      <th>25%</th>\n",
              "      <td>134.000000</td>\n",
              "      <td>1.000000</td>\n",
              "      <td>292.000000</td>\n",
              "      <td>1.000000</td>\n",
              "    </tr>\n",
              "    <tr>\n",
              "      <th>50%</th>\n",
              "      <td>329.000000</td>\n",
              "      <td>1.000000</td>\n",
              "      <td>690.000000</td>\n",
              "      <td>1.000000</td>\n",
              "    </tr>\n",
              "    <tr>\n",
              "      <th>75%</th>\n",
              "      <td>974.000000</td>\n",
              "      <td>3.000000</td>\n",
              "      <td>1481.500000</td>\n",
              "      <td>1.000000</td>\n",
              "    </tr>\n",
              "    <tr>\n",
              "      <th>max</th>\n",
              "      <td>14917.000000</td>\n",
              "      <td>1000.000000</td>\n",
              "      <td>675000.000000</td>\n",
              "      <td>4.000000</td>\n",
              "    </tr>\n",
              "  </tbody>\n",
              "</table>\n",
              "</div>\n",
              "      <button class=\"colab-df-convert\" onclick=\"convertToInteractive('df-1af81134-8786-4cd0-8ca6-ce46fcf6e6f4')\"\n",
              "              title=\"Convert this dataframe to an interactive table.\"\n",
              "              style=\"display:none;\">\n",
              "        \n",
              "  <svg xmlns=\"http://www.w3.org/2000/svg\" height=\"24px\"viewBox=\"0 0 24 24\"\n",
              "       width=\"24px\">\n",
              "    <path d=\"M0 0h24v24H0V0z\" fill=\"none\"/>\n",
              "    <path d=\"M18.56 5.44l.94 2.06.94-2.06 2.06-.94-2.06-.94-.94-2.06-.94 2.06-2.06.94zm-11 1L8.5 8.5l.94-2.06 2.06-.94-2.06-.94L8.5 2.5l-.94 2.06-2.06.94zm10 10l.94 2.06.94-2.06 2.06-.94-2.06-.94-.94-2.06-.94 2.06-2.06.94z\"/><path d=\"M17.41 7.96l-1.37-1.37c-.4-.4-.92-.59-1.43-.59-.52 0-1.04.2-1.43.59L10.3 9.45l-7.72 7.72c-.78.78-.78 2.05 0 2.83L4 21.41c.39.39.9.59 1.41.59.51 0 1.02-.2 1.41-.59l7.78-7.78 2.81-2.81c.8-.78.8-2.07 0-2.86zM5.41 20L4 18.59l7.72-7.72 1.47 1.35L5.41 20z\"/>\n",
              "  </svg>\n",
              "      </button>\n",
              "      \n",
              "  <style>\n",
              "    .colab-df-container {\n",
              "      display:flex;\n",
              "      flex-wrap:wrap;\n",
              "      gap: 12px;\n",
              "    }\n",
              "\n",
              "    .colab-df-convert {\n",
              "      background-color: #E8F0FE;\n",
              "      border: none;\n",
              "      border-radius: 50%;\n",
              "      cursor: pointer;\n",
              "      display: none;\n",
              "      fill: #1967D2;\n",
              "      height: 32px;\n",
              "      padding: 0 0 0 0;\n",
              "      width: 32px;\n",
              "    }\n",
              "\n",
              "    .colab-df-convert:hover {\n",
              "      background-color: #E2EBFA;\n",
              "      box-shadow: 0px 1px 2px rgba(60, 64, 67, 0.3), 0px 1px 3px 1px rgba(60, 64, 67, 0.15);\n",
              "      fill: #174EA6;\n",
              "    }\n",
              "\n",
              "    [theme=dark] .colab-df-convert {\n",
              "      background-color: #3B4455;\n",
              "      fill: #D2E3FC;\n",
              "    }\n",
              "\n",
              "    [theme=dark] .colab-df-convert:hover {\n",
              "      background-color: #434B5C;\n",
              "      box-shadow: 0px 1px 3px 1px rgba(0, 0, 0, 0.15);\n",
              "      filter: drop-shadow(0px 1px 2px rgba(0, 0, 0, 0.3));\n",
              "      fill: #FFFFFF;\n",
              "    }\n",
              "  </style>\n",
              "\n",
              "      <script>\n",
              "        const buttonEl =\n",
              "          document.querySelector('#df-1af81134-8786-4cd0-8ca6-ce46fcf6e6f4 button.colab-df-convert');\n",
              "        buttonEl.style.display =\n",
              "          google.colab.kernel.accessAllowed ? 'block' : 'none';\n",
              "\n",
              "        async function convertToInteractive(key) {\n",
              "          const element = document.querySelector('#df-1af81134-8786-4cd0-8ca6-ce46fcf6e6f4');\n",
              "          const dataTable =\n",
              "            await google.colab.kernel.invokeFunction('convertToInteractive',\n",
              "                                                     [key], {});\n",
              "          if (!dataTable) return;\n",
              "\n",
              "          const docLinkHtml = 'Like what you see? Visit the ' +\n",
              "            '<a target=\"_blank\" href=https://colab.research.google.com/notebooks/data_table.ipynb>data table notebook</a>'\n",
              "            + ' to learn more about interactive tables.';\n",
              "          element.innerHTML = '';\n",
              "          dataTable['output_type'] = 'display_data';\n",
              "          await google.colab.output.renderOutput(dataTable, element);\n",
              "          const docLink = document.createElement('div');\n",
              "          docLink.innerHTML = docLinkHtml;\n",
              "          element.appendChild(docLink);\n",
              "        }\n",
              "      </script>\n",
              "    </div>\n",
              "  </div>\n",
              "  "
            ]
          },
          "metadata": {},
          "execution_count": 73
        }
      ],
      "source": [
        "orders.describe()"
      ]
    },
    {
      "cell_type": "code",
      "execution_count": 74,
      "metadata": {
        "colab": {
          "base_uri": "https://localhost:8080/",
          "height": 455
        },
        "id": "3rVG_e54F7KP",
        "outputId": "8ae30e02-7b30-468e-d246-6c989352e479"
      },
      "outputs": [
        {
          "output_type": "execute_result",
          "data": {
            "text/plain": [
              "           price  quantity   total                date  customer_id\n",
              "order_id                                                           \n",
              "12624      187.5         2   375.0 2019-06-02 20:00:00            1\n",
              "13547      207.0         3   684.0 2018-10-05 00:00:00            1\n",
              "14480      101.0         3   359.0 2018-10-02 11:00:00            1\n",
              "14481      150.0         4   600.0 2018-10-02 17:00:00            1\n",
              "14482      188.0         2   376.0 2018-10-07 12:00:00            1\n",
              "...          ...       ...     ...                 ...          ...\n",
              "73155      329.0         1   329.0 2019-10-31 11:00:00            1\n",
              "73156      404.0         1   404.0 2019-10-31 11:00:00            1\n",
              "73158     1087.0         1  1087.0 2019-10-31 12:00:00            1\n",
              "73162      157.0         1   157.0 2019-10-31 13:00:00            1\n",
              "73164      397.0         1   397.0 2019-10-31 14:00:00            1\n",
              "\n",
              "[2784 rows x 5 columns]"
            ],
            "text/html": [
              "\n",
              "  <div id=\"df-2079f6ff-f61d-4e7d-b160-187ea1993a19\">\n",
              "    <div class=\"colab-df-container\">\n",
              "      <div>\n",
              "<style scoped>\n",
              "    .dataframe tbody tr th:only-of-type {\n",
              "        vertical-align: middle;\n",
              "    }\n",
              "\n",
              "    .dataframe tbody tr th {\n",
              "        vertical-align: top;\n",
              "    }\n",
              "\n",
              "    .dataframe thead th {\n",
              "        text-align: right;\n",
              "    }\n",
              "</style>\n",
              "<table border=\"1\" class=\"dataframe\">\n",
              "  <thead>\n",
              "    <tr style=\"text-align: right;\">\n",
              "      <th></th>\n",
              "      <th>price</th>\n",
              "      <th>quantity</th>\n",
              "      <th>total</th>\n",
              "      <th>date</th>\n",
              "      <th>customer_id</th>\n",
              "    </tr>\n",
              "    <tr>\n",
              "      <th>order_id</th>\n",
              "      <th></th>\n",
              "      <th></th>\n",
              "      <th></th>\n",
              "      <th></th>\n",
              "      <th></th>\n",
              "    </tr>\n",
              "  </thead>\n",
              "  <tbody>\n",
              "    <tr>\n",
              "      <th>12624</th>\n",
              "      <td>187.5</td>\n",
              "      <td>2</td>\n",
              "      <td>375.0</td>\n",
              "      <td>2019-06-02 20:00:00</td>\n",
              "      <td>1</td>\n",
              "    </tr>\n",
              "    <tr>\n",
              "      <th>13547</th>\n",
              "      <td>207.0</td>\n",
              "      <td>3</td>\n",
              "      <td>684.0</td>\n",
              "      <td>2018-10-05 00:00:00</td>\n",
              "      <td>1</td>\n",
              "    </tr>\n",
              "    <tr>\n",
              "      <th>14480</th>\n",
              "      <td>101.0</td>\n",
              "      <td>3</td>\n",
              "      <td>359.0</td>\n",
              "      <td>2018-10-02 11:00:00</td>\n",
              "      <td>1</td>\n",
              "    </tr>\n",
              "    <tr>\n",
              "      <th>14481</th>\n",
              "      <td>150.0</td>\n",
              "      <td>4</td>\n",
              "      <td>600.0</td>\n",
              "      <td>2018-10-02 17:00:00</td>\n",
              "      <td>1</td>\n",
              "    </tr>\n",
              "    <tr>\n",
              "      <th>14482</th>\n",
              "      <td>188.0</td>\n",
              "      <td>2</td>\n",
              "      <td>376.0</td>\n",
              "      <td>2018-10-07 12:00:00</td>\n",
              "      <td>1</td>\n",
              "    </tr>\n",
              "    <tr>\n",
              "      <th>...</th>\n",
              "      <td>...</td>\n",
              "      <td>...</td>\n",
              "      <td>...</td>\n",
              "      <td>...</td>\n",
              "      <td>...</td>\n",
              "    </tr>\n",
              "    <tr>\n",
              "      <th>73155</th>\n",
              "      <td>329.0</td>\n",
              "      <td>1</td>\n",
              "      <td>329.0</td>\n",
              "      <td>2019-10-31 11:00:00</td>\n",
              "      <td>1</td>\n",
              "    </tr>\n",
              "    <tr>\n",
              "      <th>73156</th>\n",
              "      <td>404.0</td>\n",
              "      <td>1</td>\n",
              "      <td>404.0</td>\n",
              "      <td>2019-10-31 11:00:00</td>\n",
              "      <td>1</td>\n",
              "    </tr>\n",
              "    <tr>\n",
              "      <th>73158</th>\n",
              "      <td>1087.0</td>\n",
              "      <td>1</td>\n",
              "      <td>1087.0</td>\n",
              "      <td>2019-10-31 12:00:00</td>\n",
              "      <td>1</td>\n",
              "    </tr>\n",
              "    <tr>\n",
              "      <th>73162</th>\n",
              "      <td>157.0</td>\n",
              "      <td>1</td>\n",
              "      <td>157.0</td>\n",
              "      <td>2019-10-31 13:00:00</td>\n",
              "      <td>1</td>\n",
              "    </tr>\n",
              "    <tr>\n",
              "      <th>73164</th>\n",
              "      <td>397.0</td>\n",
              "      <td>1</td>\n",
              "      <td>397.0</td>\n",
              "      <td>2019-10-31 14:00:00</td>\n",
              "      <td>1</td>\n",
              "    </tr>\n",
              "  </tbody>\n",
              "</table>\n",
              "<p>2784 rows × 5 columns</p>\n",
              "</div>\n",
              "      <button class=\"colab-df-convert\" onclick=\"convertToInteractive('df-2079f6ff-f61d-4e7d-b160-187ea1993a19')\"\n",
              "              title=\"Convert this dataframe to an interactive table.\"\n",
              "              style=\"display:none;\">\n",
              "        \n",
              "  <svg xmlns=\"http://www.w3.org/2000/svg\" height=\"24px\"viewBox=\"0 0 24 24\"\n",
              "       width=\"24px\">\n",
              "    <path d=\"M0 0h24v24H0V0z\" fill=\"none\"/>\n",
              "    <path d=\"M18.56 5.44l.94 2.06.94-2.06 2.06-.94-2.06-.94-.94-2.06-.94 2.06-2.06.94zm-11 1L8.5 8.5l.94-2.06 2.06-.94-2.06-.94L8.5 2.5l-.94 2.06-2.06.94zm10 10l.94 2.06.94-2.06 2.06-.94-2.06-.94-.94-2.06-.94 2.06-2.06.94z\"/><path d=\"M17.41 7.96l-1.37-1.37c-.4-.4-.92-.59-1.43-.59-.52 0-1.04.2-1.43.59L10.3 9.45l-7.72 7.72c-.78.78-.78 2.05 0 2.83L4 21.41c.39.39.9.59 1.41.59.51 0 1.02-.2 1.41-.59l7.78-7.78 2.81-2.81c.8-.78.8-2.07 0-2.86zM5.41 20L4 18.59l7.72-7.72 1.47 1.35L5.41 20z\"/>\n",
              "  </svg>\n",
              "      </button>\n",
              "      \n",
              "  <style>\n",
              "    .colab-df-container {\n",
              "      display:flex;\n",
              "      flex-wrap:wrap;\n",
              "      gap: 12px;\n",
              "    }\n",
              "\n",
              "    .colab-df-convert {\n",
              "      background-color: #E8F0FE;\n",
              "      border: none;\n",
              "      border-radius: 50%;\n",
              "      cursor: pointer;\n",
              "      display: none;\n",
              "      fill: #1967D2;\n",
              "      height: 32px;\n",
              "      padding: 0 0 0 0;\n",
              "      width: 32px;\n",
              "    }\n",
              "\n",
              "    .colab-df-convert:hover {\n",
              "      background-color: #E2EBFA;\n",
              "      box-shadow: 0px 1px 2px rgba(60, 64, 67, 0.3), 0px 1px 3px 1px rgba(60, 64, 67, 0.15);\n",
              "      fill: #174EA6;\n",
              "    }\n",
              "\n",
              "    [theme=dark] .colab-df-convert {\n",
              "      background-color: #3B4455;\n",
              "      fill: #D2E3FC;\n",
              "    }\n",
              "\n",
              "    [theme=dark] .colab-df-convert:hover {\n",
              "      background-color: #434B5C;\n",
              "      box-shadow: 0px 1px 3px 1px rgba(0, 0, 0, 0.15);\n",
              "      filter: drop-shadow(0px 1px 2px rgba(0, 0, 0, 0.3));\n",
              "      fill: #FFFFFF;\n",
              "    }\n",
              "  </style>\n",
              "\n",
              "      <script>\n",
              "        const buttonEl =\n",
              "          document.querySelector('#df-2079f6ff-f61d-4e7d-b160-187ea1993a19 button.colab-df-convert');\n",
              "        buttonEl.style.display =\n",
              "          google.colab.kernel.accessAllowed ? 'block' : 'none';\n",
              "\n",
              "        async function convertToInteractive(key) {\n",
              "          const element = document.querySelector('#df-2079f6ff-f61d-4e7d-b160-187ea1993a19');\n",
              "          const dataTable =\n",
              "            await google.colab.kernel.invokeFunction('convertToInteractive',\n",
              "                                                     [key], {});\n",
              "          if (!dataTable) return;\n",
              "\n",
              "          const docLinkHtml = 'Like what you see? Visit the ' +\n",
              "            '<a target=\"_blank\" href=https://colab.research.google.com/notebooks/data_table.ipynb>data table notebook</a>'\n",
              "            + ' to learn more about interactive tables.';\n",
              "          element.innerHTML = '';\n",
              "          dataTable['output_type'] = 'display_data';\n",
              "          await google.colab.output.renderOutput(dataTable, element);\n",
              "          const docLink = document.createElement('div');\n",
              "          docLink.innerHTML = docLinkHtml;\n",
              "          element.appendChild(docLink);\n",
              "        }\n",
              "      </script>\n",
              "    </div>\n",
              "  </div>\n",
              "  "
            ]
          },
          "metadata": {},
          "execution_count": 74
        }
      ],
      "source": [
        "orders"
      ]
    },
    {
      "cell_type": "markdown",
      "metadata": {
        "id": "jeCW9-iJF7KQ"
      },
      "source": [
        "Чаще всего заказ содержит 1 предмет со средней ценой в 777 у.е и средним чеком в 1488. Присутствуют и выбросы с 1000 купленных предметов или общим чеком на 675000."
      ]
    },
    {
      "cell_type": "code",
      "execution_count": 75,
      "metadata": {
        "colab": {
          "base_uri": "https://localhost:8080/",
          "height": 300
        },
        "id": "xdMZFgQ-F7KQ",
        "outputId": "561d0bc7-6f14-4308-cf61-9afca41f2fb9"
      },
      "outputs": [
        {
          "output_type": "execute_result",
          "data": {
            "text/plain": [
              "          order_id          total         price     quantity\n",
              "count  2451.000000    2451.000000   2451.000000  2451.000000\n",
              "mean      1.149327    1689.985312    770.949612     3.827213\n",
              "std       2.655249   14255.913415   1151.877227    24.329600\n",
              "min       1.000000      14.000000     11.500000     1.000000\n",
              "25%       1.000000     299.000000    134.000000     1.000000\n",
              "50%       1.000000     712.000000    337.000000     1.000000\n",
              "75%       1.000000    1574.000000    974.000000     1.000000\n",
              "max     126.000000  675000.000000  14917.000000  1000.000000"
            ],
            "text/html": [
              "\n",
              "  <div id=\"df-ee80070e-a105-487f-99a1-20e448fbc8dd\">\n",
              "    <div class=\"colab-df-container\">\n",
              "      <div>\n",
              "<style scoped>\n",
              "    .dataframe tbody tr th:only-of-type {\n",
              "        vertical-align: middle;\n",
              "    }\n",
              "\n",
              "    .dataframe tbody tr th {\n",
              "        vertical-align: top;\n",
              "    }\n",
              "\n",
              "    .dataframe thead th {\n",
              "        text-align: right;\n",
              "    }\n",
              "</style>\n",
              "<table border=\"1\" class=\"dataframe\">\n",
              "  <thead>\n",
              "    <tr style=\"text-align: right;\">\n",
              "      <th></th>\n",
              "      <th>order_id</th>\n",
              "      <th>total</th>\n",
              "      <th>price</th>\n",
              "      <th>quantity</th>\n",
              "    </tr>\n",
              "  </thead>\n",
              "  <tbody>\n",
              "    <tr>\n",
              "      <th>count</th>\n",
              "      <td>2451.000000</td>\n",
              "      <td>2451.000000</td>\n",
              "      <td>2451.000000</td>\n",
              "      <td>2451.000000</td>\n",
              "    </tr>\n",
              "    <tr>\n",
              "      <th>mean</th>\n",
              "      <td>1.149327</td>\n",
              "      <td>1689.985312</td>\n",
              "      <td>770.949612</td>\n",
              "      <td>3.827213</td>\n",
              "    </tr>\n",
              "    <tr>\n",
              "      <th>std</th>\n",
              "      <td>2.655249</td>\n",
              "      <td>14255.913415</td>\n",
              "      <td>1151.877227</td>\n",
              "      <td>24.329600</td>\n",
              "    </tr>\n",
              "    <tr>\n",
              "      <th>min</th>\n",
              "      <td>1.000000</td>\n",
              "      <td>14.000000</td>\n",
              "      <td>11.500000</td>\n",
              "      <td>1.000000</td>\n",
              "    </tr>\n",
              "    <tr>\n",
              "      <th>25%</th>\n",
              "      <td>1.000000</td>\n",
              "      <td>299.000000</td>\n",
              "      <td>134.000000</td>\n",
              "      <td>1.000000</td>\n",
              "    </tr>\n",
              "    <tr>\n",
              "      <th>50%</th>\n",
              "      <td>1.000000</td>\n",
              "      <td>712.000000</td>\n",
              "      <td>337.000000</td>\n",
              "      <td>1.000000</td>\n",
              "    </tr>\n",
              "    <tr>\n",
              "      <th>75%</th>\n",
              "      <td>1.000000</td>\n",
              "      <td>1574.000000</td>\n",
              "      <td>974.000000</td>\n",
              "      <td>1.000000</td>\n",
              "    </tr>\n",
              "    <tr>\n",
              "      <th>max</th>\n",
              "      <td>126.000000</td>\n",
              "      <td>675000.000000</td>\n",
              "      <td>14917.000000</td>\n",
              "      <td>1000.000000</td>\n",
              "    </tr>\n",
              "  </tbody>\n",
              "</table>\n",
              "</div>\n",
              "      <button class=\"colab-df-convert\" onclick=\"convertToInteractive('df-ee80070e-a105-487f-99a1-20e448fbc8dd')\"\n",
              "              title=\"Convert this dataframe to an interactive table.\"\n",
              "              style=\"display:none;\">\n",
              "        \n",
              "  <svg xmlns=\"http://www.w3.org/2000/svg\" height=\"24px\"viewBox=\"0 0 24 24\"\n",
              "       width=\"24px\">\n",
              "    <path d=\"M0 0h24v24H0V0z\" fill=\"none\"/>\n",
              "    <path d=\"M18.56 5.44l.94 2.06.94-2.06 2.06-.94-2.06-.94-.94-2.06-.94 2.06-2.06.94zm-11 1L8.5 8.5l.94-2.06 2.06-.94-2.06-.94L8.5 2.5l-.94 2.06-2.06.94zm10 10l.94 2.06.94-2.06 2.06-.94-2.06-.94-.94-2.06-.94 2.06-2.06.94z\"/><path d=\"M17.41 7.96l-1.37-1.37c-.4-.4-.92-.59-1.43-.59-.52 0-1.04.2-1.43.59L10.3 9.45l-7.72 7.72c-.78.78-.78 2.05 0 2.83L4 21.41c.39.39.9.59 1.41.59.51 0 1.02-.2 1.41-.59l7.78-7.78 2.81-2.81c.8-.78.8-2.07 0-2.86zM5.41 20L4 18.59l7.72-7.72 1.47 1.35L5.41 20z\"/>\n",
              "  </svg>\n",
              "      </button>\n",
              "      \n",
              "  <style>\n",
              "    .colab-df-container {\n",
              "      display:flex;\n",
              "      flex-wrap:wrap;\n",
              "      gap: 12px;\n",
              "    }\n",
              "\n",
              "    .colab-df-convert {\n",
              "      background-color: #E8F0FE;\n",
              "      border: none;\n",
              "      border-radius: 50%;\n",
              "      cursor: pointer;\n",
              "      display: none;\n",
              "      fill: #1967D2;\n",
              "      height: 32px;\n",
              "      padding: 0 0 0 0;\n",
              "      width: 32px;\n",
              "    }\n",
              "\n",
              "    .colab-df-convert:hover {\n",
              "      background-color: #E2EBFA;\n",
              "      box-shadow: 0px 1px 2px rgba(60, 64, 67, 0.3), 0px 1px 3px 1px rgba(60, 64, 67, 0.15);\n",
              "      fill: #174EA6;\n",
              "    }\n",
              "\n",
              "    [theme=dark] .colab-df-convert {\n",
              "      background-color: #3B4455;\n",
              "      fill: #D2E3FC;\n",
              "    }\n",
              "\n",
              "    [theme=dark] .colab-df-convert:hover {\n",
              "      background-color: #434B5C;\n",
              "      box-shadow: 0px 1px 3px 1px rgba(0, 0, 0, 0.15);\n",
              "      filter: drop-shadow(0px 1px 2px rgba(0, 0, 0, 0.3));\n",
              "      fill: #FFFFFF;\n",
              "    }\n",
              "  </style>\n",
              "\n",
              "      <script>\n",
              "        const buttonEl =\n",
              "          document.querySelector('#df-ee80070e-a105-487f-99a1-20e448fbc8dd button.colab-df-convert');\n",
              "        buttonEl.style.display =\n",
              "          google.colab.kernel.accessAllowed ? 'block' : 'none';\n",
              "\n",
              "        async function convertToInteractive(key) {\n",
              "          const element = document.querySelector('#df-ee80070e-a105-487f-99a1-20e448fbc8dd');\n",
              "          const dataTable =\n",
              "            await google.colab.kernel.invokeFunction('convertToInteractive',\n",
              "                                                     [key], {});\n",
              "          if (!dataTable) return;\n",
              "\n",
              "          const docLinkHtml = 'Like what you see? Visit the ' +\n",
              "            '<a target=\"_blank\" href=https://colab.research.google.com/notebooks/data_table.ipynb>data table notebook</a>'\n",
              "            + ' to learn more about interactive tables.';\n",
              "          element.innerHTML = '';\n",
              "          dataTable['output_type'] = 'display_data';\n",
              "          await google.colab.output.renderOutput(dataTable, element);\n",
              "          const docLink = document.createElement('div');\n",
              "          docLink.innerHTML = docLinkHtml;\n",
              "          element.appendChild(docLink);\n",
              "        }\n",
              "      </script>\n",
              "    </div>\n",
              "  </div>\n",
              "  "
            ]
          },
          "metadata": {},
          "execution_count": 75
        }
      ],
      "source": [
        "customers.describe()"
      ]
    },
    {
      "cell_type": "markdown",
      "metadata": {
        "id": "Qxg3otBlF7KR"
      },
      "source": [
        "В основном покупатели совершают одну покупку, средний чек покупателя - 1690, выбросы описаны выше."
      ]
    },
    {
      "cell_type": "markdown",
      "metadata": {
        "id": "ZmGgDJgHF7KR"
      },
      "source": [
        "Чаще всего покупатель совершает разовую покупку на 1-2 единицы товара и не возвращается в магазин."
      ]
    },
    {
      "cell_type": "code",
      "execution_count": 76,
      "metadata": {
        "colab": {
          "base_uri": "https://localhost:8080/",
          "height": 455
        },
        "id": "0t1oT0ROF7KR",
        "outputId": "861138c0-691a-4e6c-d78f-f297986a1fd3"
      },
      "outputs": [
        {
          "output_type": "execute_result",
          "data": {
            "text/plain": [
              "                                      order_id   total   price  quantity\n",
              "customer_id                                                             \n",
              "000d6849-084e-4d9f-ac03-37174eaf60c4         1   555.0   135.0       1.0\n",
              "001cee7f-0b29-4716-b202-0042213ab038         1   442.0   442.0       1.0\n",
              "00299f34-5385-4d13-9aea-c80b81658e1b         1   914.0   457.0       2.0\n",
              "002d4d3a-4a59-406b-86ec-c3314357e498         1  1649.0  1649.0       1.0\n",
              "003bbd39-0000-41ff-b7f9-2ddaec152037         1  2324.0  1162.0       2.0\n",
              "...                                        ...     ...     ...       ...\n",
              "ff601403-b094-4b86-9ac6-264d725b9277         1  1649.0  1649.0       1.0\n",
              "ffaeab76-3a8d-49ee-860f-17273b2fc8a2         1   397.0   397.0       1.0\n",
              "ffb5976a-7a4d-460b-95c4-5ffaba31cb24         1   389.0   389.0       1.0\n",
              "ffb80538-3fda-4351-8ea9-9d2bec58bb07         1   974.0   974.0       1.0\n",
              "ffe82299-3f5b-4214-87fe-3d36ecccfac3         1   577.0   577.0       1.0\n",
              "\n",
              "[2451 rows x 4 columns]"
            ],
            "text/html": [
              "\n",
              "  <div id=\"df-6e7e0644-0d8a-4925-8b2a-5247d08018c6\">\n",
              "    <div class=\"colab-df-container\">\n",
              "      <div>\n",
              "<style scoped>\n",
              "    .dataframe tbody tr th:only-of-type {\n",
              "        vertical-align: middle;\n",
              "    }\n",
              "\n",
              "    .dataframe tbody tr th {\n",
              "        vertical-align: top;\n",
              "    }\n",
              "\n",
              "    .dataframe thead th {\n",
              "        text-align: right;\n",
              "    }\n",
              "</style>\n",
              "<table border=\"1\" class=\"dataframe\">\n",
              "  <thead>\n",
              "    <tr style=\"text-align: right;\">\n",
              "      <th></th>\n",
              "      <th>order_id</th>\n",
              "      <th>total</th>\n",
              "      <th>price</th>\n",
              "      <th>quantity</th>\n",
              "    </tr>\n",
              "    <tr>\n",
              "      <th>customer_id</th>\n",
              "      <th></th>\n",
              "      <th></th>\n",
              "      <th></th>\n",
              "      <th></th>\n",
              "    </tr>\n",
              "  </thead>\n",
              "  <tbody>\n",
              "    <tr>\n",
              "      <th>000d6849-084e-4d9f-ac03-37174eaf60c4</th>\n",
              "      <td>1</td>\n",
              "      <td>555.0</td>\n",
              "      <td>135.0</td>\n",
              "      <td>1.0</td>\n",
              "    </tr>\n",
              "    <tr>\n",
              "      <th>001cee7f-0b29-4716-b202-0042213ab038</th>\n",
              "      <td>1</td>\n",
              "      <td>442.0</td>\n",
              "      <td>442.0</td>\n",
              "      <td>1.0</td>\n",
              "    </tr>\n",
              "    <tr>\n",
              "      <th>00299f34-5385-4d13-9aea-c80b81658e1b</th>\n",
              "      <td>1</td>\n",
              "      <td>914.0</td>\n",
              "      <td>457.0</td>\n",
              "      <td>2.0</td>\n",
              "    </tr>\n",
              "    <tr>\n",
              "      <th>002d4d3a-4a59-406b-86ec-c3314357e498</th>\n",
              "      <td>1</td>\n",
              "      <td>1649.0</td>\n",
              "      <td>1649.0</td>\n",
              "      <td>1.0</td>\n",
              "    </tr>\n",
              "    <tr>\n",
              "      <th>003bbd39-0000-41ff-b7f9-2ddaec152037</th>\n",
              "      <td>1</td>\n",
              "      <td>2324.0</td>\n",
              "      <td>1162.0</td>\n",
              "      <td>2.0</td>\n",
              "    </tr>\n",
              "    <tr>\n",
              "      <th>...</th>\n",
              "      <td>...</td>\n",
              "      <td>...</td>\n",
              "      <td>...</td>\n",
              "      <td>...</td>\n",
              "    </tr>\n",
              "    <tr>\n",
              "      <th>ff601403-b094-4b86-9ac6-264d725b9277</th>\n",
              "      <td>1</td>\n",
              "      <td>1649.0</td>\n",
              "      <td>1649.0</td>\n",
              "      <td>1.0</td>\n",
              "    </tr>\n",
              "    <tr>\n",
              "      <th>ffaeab76-3a8d-49ee-860f-17273b2fc8a2</th>\n",
              "      <td>1</td>\n",
              "      <td>397.0</td>\n",
              "      <td>397.0</td>\n",
              "      <td>1.0</td>\n",
              "    </tr>\n",
              "    <tr>\n",
              "      <th>ffb5976a-7a4d-460b-95c4-5ffaba31cb24</th>\n",
              "      <td>1</td>\n",
              "      <td>389.0</td>\n",
              "      <td>389.0</td>\n",
              "      <td>1.0</td>\n",
              "    </tr>\n",
              "    <tr>\n",
              "      <th>ffb80538-3fda-4351-8ea9-9d2bec58bb07</th>\n",
              "      <td>1</td>\n",
              "      <td>974.0</td>\n",
              "      <td>974.0</td>\n",
              "      <td>1.0</td>\n",
              "    </tr>\n",
              "    <tr>\n",
              "      <th>ffe82299-3f5b-4214-87fe-3d36ecccfac3</th>\n",
              "      <td>1</td>\n",
              "      <td>577.0</td>\n",
              "      <td>577.0</td>\n",
              "      <td>1.0</td>\n",
              "    </tr>\n",
              "  </tbody>\n",
              "</table>\n",
              "<p>2451 rows × 4 columns</p>\n",
              "</div>\n",
              "      <button class=\"colab-df-convert\" onclick=\"convertToInteractive('df-6e7e0644-0d8a-4925-8b2a-5247d08018c6')\"\n",
              "              title=\"Convert this dataframe to an interactive table.\"\n",
              "              style=\"display:none;\">\n",
              "        \n",
              "  <svg xmlns=\"http://www.w3.org/2000/svg\" height=\"24px\"viewBox=\"0 0 24 24\"\n",
              "       width=\"24px\">\n",
              "    <path d=\"M0 0h24v24H0V0z\" fill=\"none\"/>\n",
              "    <path d=\"M18.56 5.44l.94 2.06.94-2.06 2.06-.94-2.06-.94-.94-2.06-.94 2.06-2.06.94zm-11 1L8.5 8.5l.94-2.06 2.06-.94-2.06-.94L8.5 2.5l-.94 2.06-2.06.94zm10 10l.94 2.06.94-2.06 2.06-.94-2.06-.94-.94-2.06-.94 2.06-2.06.94z\"/><path d=\"M17.41 7.96l-1.37-1.37c-.4-.4-.92-.59-1.43-.59-.52 0-1.04.2-1.43.59L10.3 9.45l-7.72 7.72c-.78.78-.78 2.05 0 2.83L4 21.41c.39.39.9.59 1.41.59.51 0 1.02-.2 1.41-.59l7.78-7.78 2.81-2.81c.8-.78.8-2.07 0-2.86zM5.41 20L4 18.59l7.72-7.72 1.47 1.35L5.41 20z\"/>\n",
              "  </svg>\n",
              "      </button>\n",
              "      \n",
              "  <style>\n",
              "    .colab-df-container {\n",
              "      display:flex;\n",
              "      flex-wrap:wrap;\n",
              "      gap: 12px;\n",
              "    }\n",
              "\n",
              "    .colab-df-convert {\n",
              "      background-color: #E8F0FE;\n",
              "      border: none;\n",
              "      border-radius: 50%;\n",
              "      cursor: pointer;\n",
              "      display: none;\n",
              "      fill: #1967D2;\n",
              "      height: 32px;\n",
              "      padding: 0 0 0 0;\n",
              "      width: 32px;\n",
              "    }\n",
              "\n",
              "    .colab-df-convert:hover {\n",
              "      background-color: #E2EBFA;\n",
              "      box-shadow: 0px 1px 2px rgba(60, 64, 67, 0.3), 0px 1px 3px 1px rgba(60, 64, 67, 0.15);\n",
              "      fill: #174EA6;\n",
              "    }\n",
              "\n",
              "    [theme=dark] .colab-df-convert {\n",
              "      background-color: #3B4455;\n",
              "      fill: #D2E3FC;\n",
              "    }\n",
              "\n",
              "    [theme=dark] .colab-df-convert:hover {\n",
              "      background-color: #434B5C;\n",
              "      box-shadow: 0px 1px 3px 1px rgba(0, 0, 0, 0.15);\n",
              "      filter: drop-shadow(0px 1px 2px rgba(0, 0, 0, 0.3));\n",
              "      fill: #FFFFFF;\n",
              "    }\n",
              "  </style>\n",
              "\n",
              "      <script>\n",
              "        const buttonEl =\n",
              "          document.querySelector('#df-6e7e0644-0d8a-4925-8b2a-5247d08018c6 button.colab-df-convert');\n",
              "        buttonEl.style.display =\n",
              "          google.colab.kernel.accessAllowed ? 'block' : 'none';\n",
              "\n",
              "        async function convertToInteractive(key) {\n",
              "          const element = document.querySelector('#df-6e7e0644-0d8a-4925-8b2a-5247d08018c6');\n",
              "          const dataTable =\n",
              "            await google.colab.kernel.invokeFunction('convertToInteractive',\n",
              "                                                     [key], {});\n",
              "          if (!dataTable) return;\n",
              "\n",
              "          const docLinkHtml = 'Like what you see? Visit the ' +\n",
              "            '<a target=\"_blank\" href=https://colab.research.google.com/notebooks/data_table.ipynb>data table notebook</a>'\n",
              "            + ' to learn more about interactive tables.';\n",
              "          element.innerHTML = '';\n",
              "          dataTable['output_type'] = 'display_data';\n",
              "          await google.colab.output.renderOutput(dataTable, element);\n",
              "          const docLink = document.createElement('div');\n",
              "          docLink.innerHTML = docLinkHtml;\n",
              "          element.appendChild(docLink);\n",
              "        }\n",
              "      </script>\n",
              "    </div>\n",
              "  </div>\n",
              "  "
            ]
          },
          "metadata": {},
          "execution_count": 76
        }
      ],
      "source": [
        "customers"
      ]
    },
    {
      "cell_type": "code",
      "execution_count": 77,
      "metadata": {
        "colab": {
          "base_uri": "https://localhost:8080/",
          "height": 378
        },
        "id": "TmrS24o6F7KS",
        "outputId": "efd6cf3c-52fb-4322-8d9a-cc3a5df2fd0c"
      },
      "outputs": [
        {
          "output_type": "display_data",
          "data": {
            "text/plain": [
              "<Figure size 216x432 with 1 Axes>"
            ],
            "image/png": "[encoded data removed]"
          },
          "metadata": {
            "needs_background": "light"
          }
        }
      ],
      "source": [
        "plt.figure(figsize=(3,6))\n",
        "plt.ylim(0,40)\n",
        "plt.boxplot(customers['order_id']);"
      ]
    },
    {
      "cell_type": "markdown",
      "metadata": {
        "id": "j_3pT4opF7KS"
      },
      "source": [
        "Встречаются выбросы в виде активных покупателей, совершивших >15 или 35 покупок."
      ]
    },
    {
      "cell_type": "code",
      "execution_count": 78,
      "metadata": {
        "colab": {
          "base_uri": "https://localhost:8080/",
          "height": 378
        },
        "id": "2aTyuCHmF7KS",
        "outputId": "b00cff1c-6b26-43ff-9da4-69d1c7273e4a"
      },
      "outputs": [
        {
          "output_type": "display_data",
          "data": {
            "text/plain": [
              "<Figure size 216x432 with 1 Axes>"
            ],
            "image/png": "[encoded data removed]"
          },
          "metadata": {
            "needs_background": "light"
          }
        }
      ],
      "source": [
        "plt.figure(figsize=(3,6))\n",
        "plt.ylim(0,70000)\n",
        "plt.boxplot(customers['total']);"
      ]
    },
    {
      "cell_type": "markdown",
      "metadata": {
        "id": "pjQv82JaF7KT"
      },
      "source": [
        "Большинство покупателей тратят до 10000 на покупки."
      ]
    },
    {
      "cell_type": "markdown",
      "metadata": {
        "id": "mGeXV0LrF7KU"
      },
      "source": [
        "Изучим внимательнее выбросы среди покупателей, создадим датафрейм покупателей, совершивших много заказов и датафрейм покупателей, совершивших заказы на большую сумму."
      ]
    },
    {
      "cell_type": "code",
      "execution_count": 79,
      "metadata": {
        "colab": {
          "base_uri": "https://localhost:8080/"
        },
        "id": "RohYxRMmF7KU",
        "outputId": "8095eb8f-f2d3-42f7-aecf-2673cbc3c5eb"
      },
      "outputs": [
        {
          "output_type": "stream",
          "name": "stdout",
          "text": [
            "Количество покупок у аномально активных покупателей: >3\n",
            "Аномально большой чек: >8784 у.е.\n",
            "Количество частых покупателей: 8\n",
            "Количество потратившихся покупателей 25\n"
          ]
        }
      ],
      "source": [
        "ano_orders=np.percentile(customers['order_id'], 99)\n",
        "ano_check=np.percentile(customers['total'], 99)\n",
        "print('Количество покупок у аномально активных покупателей: >{:.0f}'.format(ano_orders))\n",
        "print('Аномально большой чек: >{:.0f} у.е.'.format(ano_check))\n",
        "ano_orders_df = customers.query('order_id>@ano_orders')\n",
        "ano_check_df = customers.query('total>@ano_check')\n",
        "print('Количество частых покупателей:',len(ano_orders_df))\n",
        "print('Количество потратившихся покупателей',len(ano_check_df))"
      ]
    },
    {
      "cell_type": "markdown",
      "metadata": {
        "id": "XVxj4GaHF7KU"
      },
      "source": [
        "Найдём самую большую покупку:"
      ]
    },
    {
      "cell_type": "code",
      "execution_count": 80,
      "metadata": {
        "colab": {
          "base_uri": "https://localhost:8080/",
          "height": 142
        },
        "id": "PaVAfatHF7KW",
        "outputId": "c7f3c325-2fa5-4851-ac98-705bca2ab1ba"
      },
      "outputs": [
        {
          "output_type": "display_data",
          "data": {
            "text/plain": [
              "                    date                           customer_id  order_id  \\\n",
              "5456 2019-06-18 15:00:00  312e9a3e-5fca-43ff-a6a1-892d2b2d5ba6     71743   \n",
              "\n",
              "                                                product  quantity  price  \\\n",
              "5456  Вантуз с деревянной ручкой d14 см красный, Bur...      1000  675.0   \n",
              "\n",
              "         total      month  \n",
              "5456  675000.0 2019-06-01  "
            ],
            "text/html": [
              "\n",
              "  <div id=\"df-a72802e9-64bb-4731-9d75-9ade18562e93\">\n",
              "    <div class=\"colab-df-container\">\n",
              "      <div>\n",
              "<style scoped>\n",
              "    .dataframe tbody tr th:only-of-type {\n",
              "        vertical-align: middle;\n",
              "    }\n",
              "\n",
              "    .dataframe tbody tr th {\n",
              "        vertical-align: top;\n",
              "    }\n",
              "\n",
              "    .dataframe thead th {\n",
              "        text-align: right;\n",
              "    }\n",
              "</style>\n",
              "<table border=\"1\" class=\"dataframe\">\n",
              "  <thead>\n",
              "    <tr style=\"text-align: right;\">\n",
              "      <th></th>\n",
              "      <th>date</th>\n",
              "      <th>customer_id</th>\n",
              "      <th>order_id</th>\n",
              "      <th>product</th>\n",
              "      <th>quantity</th>\n",
              "      <th>price</th>\n",
              "      <th>total</th>\n",
              "      <th>month</th>\n",
              "    </tr>\n",
              "  </thead>\n",
              "  <tbody>\n",
              "    <tr>\n",
              "      <th>5456</th>\n",
              "      <td>2019-06-18 15:00:00</td>\n",
              "      <td>312e9a3e-5fca-43ff-a6a1-892d2b2d5ba6</td>\n",
              "      <td>71743</td>\n",
              "      <td>Вантуз с деревянной ручкой d14 см красный, Bur...</td>\n",
              "      <td>1000</td>\n",
              "      <td>675.0</td>\n",
              "      <td>675000.0</td>\n",
              "      <td>2019-06-01</td>\n",
              "    </tr>\n",
              "  </tbody>\n",
              "</table>\n",
              "</div>\n",
              "      <button class=\"colab-df-convert\" onclick=\"convertToInteractive('df-a72802e9-64bb-4731-9d75-9ade18562e93')\"\n",
              "              title=\"Convert this dataframe to an interactive table.\"\n",
              "              style=\"display:none;\">\n",
              "        \n",
              "  <svg xmlns=\"http://www.w3.org/2000/svg\" height=\"24px\"viewBox=\"0 0 24 24\"\n",
              "       width=\"24px\">\n",
              "    <path d=\"M0 0h24v24H0V0z\" fill=\"none\"/>\n",
              "    <path d=\"M18.56 5.44l.94 2.06.94-2.06 2.06-.94-2.06-.94-.94-2.06-.94 2.06-2.06.94zm-11 1L8.5 8.5l.94-2.06 2.06-.94-2.06-.94L8.5 2.5l-.94 2.06-2.06.94zm10 10l.94 2.06.94-2.06 2.06-.94-2.06-.94-.94-2.06-.94 2.06-2.06.94z\"/><path d=\"M17.41 7.96l-1.37-1.37c-.4-.4-.92-.59-1.43-.59-.52 0-1.04.2-1.43.59L10.3 9.45l-7.72 7.72c-.78.78-.78 2.05 0 2.83L4 21.41c.39.39.9.59 1.41.59.51 0 1.02-.2 1.41-.59l7.78-7.78 2.81-2.81c.8-.78.8-2.07 0-2.86zM5.41 20L4 18.59l7.72-7.72 1.47 1.35L5.41 20z\"/>\n",
              "  </svg>\n",
              "      </button>\n",
              "      \n",
              "  <style>\n",
              "    .colab-df-container {\n",
              "      display:flex;\n",
              "      flex-wrap:wrap;\n",
              "      gap: 12px;\n",
              "    }\n",
              "\n",
              "    .colab-df-convert {\n",
              "      background-color: #E8F0FE;\n",
              "      border: none;\n",
              "      border-radius: 50%;\n",
              "      cursor: pointer;\n",
              "      display: none;\n",
              "      fill: #1967D2;\n",
              "      height: 32px;\n",
              "      padding: 0 0 0 0;\n",
              "      width: 32px;\n",
              "    }\n",
              "\n",
              "    .colab-df-convert:hover {\n",
              "      background-color: #E2EBFA;\n",
              "      box-shadow: 0px 1px 2px rgba(60, 64, 67, 0.3), 0px 1px 3px 1px rgba(60, 64, 67, 0.15);\n",
              "      fill: #174EA6;\n",
              "    }\n",
              "\n",
              "    [theme=dark] .colab-df-convert {\n",
              "      background-color: #3B4455;\n",
              "      fill: #D2E3FC;\n",
              "    }\n",
              "\n",
              "    [theme=dark] .colab-df-convert:hover {\n",
              "      background-color: #434B5C;\n",
              "      box-shadow: 0px 1px 3px 1px rgba(0, 0, 0, 0.15);\n",
              "      filter: drop-shadow(0px 1px 2px rgba(0, 0, 0, 0.3));\n",
              "      fill: #FFFFFF;\n",
              "    }\n",
              "  </style>\n",
              "\n",
              "      <script>\n",
              "        const buttonEl =\n",
              "          document.querySelector('#df-a72802e9-64bb-4731-9d75-9ade18562e93 button.colab-df-convert');\n",
              "        buttonEl.style.display =\n",
              "          google.colab.kernel.accessAllowed ? 'block' : 'none';\n",
              "\n",
              "        async function convertToInteractive(key) {\n",
              "          const element = document.querySelector('#df-a72802e9-64bb-4731-9d75-9ade18562e93');\n",
              "          const dataTable =\n",
              "            await google.colab.kernel.invokeFunction('convertToInteractive',\n",
              "                                                     [key], {});\n",
              "          if (!dataTable) return;\n",
              "\n",
              "          const docLinkHtml = 'Like what you see? Visit the ' +\n",
              "            '<a target=\"_blank\" href=https://colab.research.google.com/notebooks/data_table.ipynb>data table notebook</a>'\n",
              "            + ' to learn more about interactive tables.';\n",
              "          element.innerHTML = '';\n",
              "          dataTable['output_type'] = 'display_data';\n",
              "          await google.colab.output.renderOutput(dataTable, element);\n",
              "          const docLink = document.createElement('div');\n",
              "          docLink.innerHTML = docLinkHtml;\n",
              "          element.appendChild(docLink);\n",
              "        }\n",
              "      </script>\n",
              "    </div>\n",
              "  </div>\n",
              "  "
            ]
          },
          "metadata": {}
        }
      ],
      "source": [
        "display(df.query('total==675000'))"
      ]
    },
    {
      "cell_type": "markdown",
      "metadata": {
        "id": "tUWqqO5UF7KW"
      },
      "source": [
        "Были заказаны 1000 вантузов по цене 675/шт и общим чеком в 675000."
      ]
    },
    {
      "cell_type": "markdown",
      "metadata": {
        "id": "XRclnOrYF7KW"
      },
      "source": [
        "Очистим данные, удалив аномальных пользователей. Также удалим несколько записей, где на один заказ приходится больше одного  уникального пользователя, это ошибка:"
      ]
    },
    {
      "cell_type": "code",
      "execution_count": 81,
      "metadata": {
        "id": "xuN29thsF7KW"
      },
      "outputs": [],
      "source": [
        "x=df.groupby('order_id').agg({'customer_id':'nunique'}).query('customer_id>1')\n",
        "df=df.query('order_id !=71743 & customer_id not in @ano_orders_df & customer_id not in @ano_check_df & order_id not in @x.index')"
      ]
    },
    {
      "cell_type": "code",
      "execution_count": 82,
      "metadata": {
        "colab": {
          "base_uri": "https://localhost:8080/"
        },
        "id": "0e36NuR7F7KW",
        "outputId": "cdc0cecc-5aa4-4aa2-fa27-bc5048f186d4"
      },
      "outputs": [
        {
          "output_type": "stream",
          "name": "stdout",
          "text": [
            "Всего покупателей после очистки данных: 2393\n",
            "Всего заказов после очистки данных: 2754\n"
          ]
        }
      ],
      "source": [
        "print('Всего покупателей после очистки данных:',len(df['customer_id'].unique()))\n",
        "print('Всего заказов после очистки данных:',len(df['order_id'].unique()))"
      ]
    },
    {
      "cell_type": "markdown",
      "metadata": {
        "id": "20TVK82DF7KX"
      },
      "source": [
        "## Сегментация покупателей на основе анализа истории их покупок"
      ]
    },
    {
      "cell_type": "markdown",
      "metadata": {
        "id": "iGMgamcFF7KX"
      },
      "source": [
        "Сегментируем пользователей по двум параллельным признакам: количество покупок (3 сегмента: 1 покупка, 2-3, более 3) и категория покупаемого товара. Для второй сегментации сначала разделим товары вручную на категории."
      ]
    },
    {
      "cell_type": "markdown",
      "metadata": {
        "id": "063r0PbAF7KY"
      },
      "source": [
        "### Разделение товаров на категории"
      ]
    },
    {
      "cell_type": "markdown",
      "metadata": {
        "id": "vONz6RAvF7KY"
      },
      "source": [
        "Создание категорий:"
      ]
    },
    {
      "cell_type": "code",
      "execution_count": 83,
      "metadata": {
        "id": "7ILvXX8HF7KZ"
      },
      "outputs": [],
      "source": [
        "plants = ['растение','рассада','пеларгония','помидор', 'герань','петуния','горшке','бакопа',\n",
        "          'кассете','калибрахоа', 'базилик', 'петрушка', 'томат', 'кашпо',\n",
        "          'лобелия', 'фуксия', 'вербена', 'цветк', 'смесь', \"микс\", 'земляника', \n",
        "          'клубника', 'ель', 'упаков', 'укроп', 'd-', 'камнеломка', 'примула',\n",
        "          'вербейник', 'колокольчик', 'цикламен', 'барвинок', 'дыня', 'овсянница',\n",
        "          'папоротник', 'кипарис', 'бегония', 'осина', 'арбуз','черенок',' г ','46500914']\n",
        "house = ['покрытие', 'почтов', 'чехол','ковр', 'ткан', 'штор', 'ковер','термометр', \n",
        "         'ковёр', 'светил', 'весы','одеял', 'простын', 'подуш', 'плед', 'матрас', 'покрывало', \n",
        "             'спальн', 'наволочка','халат','полки', 'вешал', 'плечики', 'стеллаж', 'хранен', \n",
        "         'крючок', \"этажерка\", 'комод', 'подставка', 'полка', 'кофр', 'лоток','муляж',\n",
        "         'искусственн','корыт', 'таз', 'контейнер', 'бак ', 'мусор', 'ведр', 'урна',\n",
        "         'корзин', 'бидон', 'ковш', 'коробка', 'емкость','фен','ключница','маска','шило','подголовник',\n",
        "         'фоторамка']\n",
        "tools = ['инструмент', 'сверел', 'сверло', 'напильник', 'стремянк', 'стяжк', 'шпингалет', \n",
        "              'сварка', 'миксер', 'крепеж', 'пружин', 'петл', 'линейк', 'гои','сумка', 'тележ','блок','скоба',\n",
        "         'шпагат','штангенциркуль','1201']\n",
        "cleaning = ['тряп', 'швабр', 'перчат','совок', 'гладил', 'глажен', 'прищеп', 'налет', \n",
        "            'антижир', 'пылесос', 'крем', 'стир', 'щетка', 'сушилк', 'веник', \n",
        "            'подрукавник', 'совком', 'для чистки', 'стирки', 'мыть', 'средство',\n",
        "            'мойк','мыло','ёрш', 'ерш', 'зуб', 'вантуз']\n",
        "kitchen = ['блюдо','ванн','сковород','вилка','тарелк', 'ложка','фужер','посуд', 'кувшин', 'противень', \n",
        "               'соковыжим','лопатка', 'стакан','салатн','нож', 'бокал','чай','столов','банка','круж', \n",
        "               'толкушка','терка', 'варка','масл', 'чистка', 'салфет', 'кастрюл', 'webber','сахар', \n",
        "               'котел','wilmax', 'половник','скатерть', 'кипят','дозатор','зажиг','губка спираль', \n",
        "               'миска', 'термос', 'хлебница','кухон', 'кухн', 'бульон', 'выпеч', 'пресс', 'блюд',\n",
        "           'полотен','электроштопор','доска','орехоколка','картофелемялка','скалка']"
      ]
    },
    {
      "cell_type": "markdown",
      "metadata": {
        "id": "6bvEn7F2F7KZ"
      },
      "source": [
        "### Присвоение категорий"
      ]
    },
    {
      "cell_type": "markdown",
      "metadata": {
        "id": "5tAgqFzeF7KZ"
      },
      "source": [
        "Функция для определения категории:"
      ]
    },
    {
      "cell_type": "code",
      "execution_count": 84,
      "metadata": {
        "colab": {
          "base_uri": "https://localhost:8080/",
          "height": 784
        },
        "id": "K9omWuimF7KZ",
        "outputId": "d492bb3e-0299-4879-f22c-41d4df484083"
      },
      "outputs": [
        {
          "output_type": "stream",
          "name": "stderr",
          "text": [
            "<ipython-input-84-c65be5b8c38d>:1: SettingWithCopyWarning:\n",
            "\n",
            "\n",
            "A value is trying to be set on a copy of a slice from a DataFrame.\n",
            "Try using .loc[row_indexer,col_indexer] = value instead\n",
            "\n",
            "See the caveats in the documentation: https://pandas.pydata.org/pandas-docs/stable/user_guide/indexing.html#returning-a-view-versus-a-copy\n",
            "\n"
          ]
        },
        {
          "output_type": "execute_result",
          "data": {
            "text/plain": [
              "                    date                           customer_id  order_id  \\\n",
              "0    2018-10-01 00:00:00  ee47d746-6d2f-4d3c-9622-c31412542920     68477   \n",
              "1    2018-10-01 00:00:00  ee47d746-6d2f-4d3c-9622-c31412542920     68477   \n",
              "2    2018-10-01 00:00:00  ee47d746-6d2f-4d3c-9622-c31412542920     68477   \n",
              "3    2018-10-01 00:00:00  ee47d746-6d2f-4d3c-9622-c31412542920     68477   \n",
              "4    2018-10-01 00:00:00  ee47d746-6d2f-4d3c-9622-c31412542920     68477   \n",
              "...                  ...                                   ...       ...   \n",
              "6731 2019-10-31 11:00:00  f17ed857-178e-45e1-a662-0a9dd3b58c5f     73155   \n",
              "6732 2019-10-31 11:00:00  73d1cd35-5e5f-4629-8cf2-3fda829d4e58     73156   \n",
              "6733 2019-10-31 12:00:00  1f0a7f35-7459-4f23-b468-5e45bf481dd1     73158   \n",
              "6734 2019-10-31 13:00:00  25df96a7-c453-4708-9cea-a3dfc7c342ea     73162   \n",
              "6735 2019-10-31 14:00:00  73d1cd35-5e5f-4629-8cf2-3fda829d4e58     73164   \n",
              "\n",
              "                                                product  quantity   price  \\\n",
              "0       Комнатное растение в горшке Алое Вера, d12, h30         1   142.0   \n",
              "1     Комнатное растение в горшке Кофе Арабика, d12,...         1   194.0   \n",
              "2                           Радермахера d-12 см h-20 см         1   112.0   \n",
              "3                      Хризолидокарпус Лутесценс d-9 см         1   179.0   \n",
              "4                        Циперус Зумула d-12 см h-25 см         1   112.0   \n",
              "...                                                 ...       ...     ...   \n",
              "6731                            Мимоза стыдливая d-9 см         1   329.0   \n",
              "6732  Таз пластмассовый 40,0 л пищевой овальный (Иж)...         1   404.0   \n",
              "6733         Сумка-тележка 2-х колесная Gimi Argo синяя         1  1087.0   \n",
              "6734  Герань домашняя (пеларгония зональная) цветуща...         1   157.0   \n",
              "6735  Таз пластмассовый со стиральной доской (Иж), 1...         1   397.0   \n",
              "\n",
              "       total      month         category  \n",
              "0      142.0 2018-10-01         Растения  \n",
              "1      194.0 2018-10-01         Растения  \n",
              "2      112.0 2018-10-01         Растения  \n",
              "3      179.0 2018-10-01         Растения  \n",
              "4      112.0 2018-10-01         Растения  \n",
              "...      ...        ...              ...  \n",
              "6731   329.0 2019-10-01         Растения  \n",
              "6732   404.0 2019-10-01  Товары для дома  \n",
              "6733  1087.0 2019-10-01      Инструменты  \n",
              "6734   157.0 2019-10-01         Растения  \n",
              "6735   397.0 2019-10-01          Клининг  \n",
              "\n",
              "[4806 rows x 9 columns]"
            ],
            "text/html": [
              "\n",
              "  <div id=\"df-dadc0745-b068-4001-b632-1fc4a62b96e6\">\n",
              "    <div class=\"colab-df-container\">\n",
              "      <div>\n",
              "<style scoped>\n",
              "    .dataframe tbody tr th:only-of-type {\n",
              "        vertical-align: middle;\n",
              "    }\n",
              "\n",
              "    .dataframe tbody tr th {\n",
              "        vertical-align: top;\n",
              "    }\n",
              "\n",
              "    .dataframe thead th {\n",
              "        text-align: right;\n",
              "    }\n",
              "</style>\n",
              "<table border=\"1\" class=\"dataframe\">\n",
              "  <thead>\n",
              "    <tr style=\"text-align: right;\">\n",
              "      <th></th>\n",
              "      <th>date</th>\n",
              "      <th>customer_id</th>\n",
              "      <th>order_id</th>\n",
              "      <th>product</th>\n",
              "      <th>quantity</th>\n",
              "      <th>price</th>\n",
              "      <th>total</th>\n",
              "      <th>month</th>\n",
              "      <th>category</th>\n",
              "    </tr>\n",
              "  </thead>\n",
              "  <tbody>\n",
              "    <tr>\n",
              "      <th>0</th>\n",
              "      <td>2018-10-01 00:00:00</td>\n",
              "      <td>ee47d746-6d2f-4d3c-9622-c31412542920</td>\n",
              "      <td>68477</td>\n",
              "      <td>Комнатное растение в горшке Алое Вера, d12, h30</td>\n",
              "      <td>1</td>\n",
              "      <td>142.0</td>\n",
              "      <td>142.0</td>\n",
              "      <td>2018-10-01</td>\n",
              "      <td>Растения</td>\n",
              "    </tr>\n",
              "    <tr>\n",
              "      <th>1</th>\n",
              "      <td>2018-10-01 00:00:00</td>\n",
              "      <td>ee47d746-6d2f-4d3c-9622-c31412542920</td>\n",
              "      <td>68477</td>\n",
              "      <td>Комнатное растение в горшке Кофе Арабика, d12,...</td>\n",
              "      <td>1</td>\n",
              "      <td>194.0</td>\n",
              "      <td>194.0</td>\n",
              "      <td>2018-10-01</td>\n",
              "      <td>Растения</td>\n",
              "    </tr>\n",
              "    <tr>\n",
              "      <th>2</th>\n",
              "      <td>2018-10-01 00:00:00</td>\n",
              "      <td>ee47d746-6d2f-4d3c-9622-c31412542920</td>\n",
              "      <td>68477</td>\n",
              "      <td>Радермахера d-12 см h-20 см</td>\n",
              "      <td>1</td>\n",
              "      <td>112.0</td>\n",
              "      <td>112.0</td>\n",
              "      <td>2018-10-01</td>\n",
              "      <td>Растения</td>\n",
              "    </tr>\n",
              "    <tr>\n",
              "      <th>3</th>\n",
              "      <td>2018-10-01 00:00:00</td>\n",
              "      <td>ee47d746-6d2f-4d3c-9622-c31412542920</td>\n",
              "      <td>68477</td>\n",
              "      <td>Хризолидокарпус Лутесценс d-9 см</td>\n",
              "      <td>1</td>\n",
              "      <td>179.0</td>\n",
              "      <td>179.0</td>\n",
              "      <td>2018-10-01</td>\n",
              "      <td>Растения</td>\n",
              "    </tr>\n",
              "    <tr>\n",
              "      <th>4</th>\n",
              "      <td>2018-10-01 00:00:00</td>\n",
              "      <td>ee47d746-6d2f-4d3c-9622-c31412542920</td>\n",
              "      <td>68477</td>\n",
              "      <td>Циперус Зумула d-12 см h-25 см</td>\n",
              "      <td>1</td>\n",
              "      <td>112.0</td>\n",
              "      <td>112.0</td>\n",
              "      <td>2018-10-01</td>\n",
              "      <td>Растения</td>\n",
              "    </tr>\n",
              "    <tr>\n",
              "      <th>...</th>\n",
              "      <td>...</td>\n",
              "      <td>...</td>\n",
              "      <td>...</td>\n",
              "      <td>...</td>\n",
              "      <td>...</td>\n",
              "      <td>...</td>\n",
              "      <td>...</td>\n",
              "      <td>...</td>\n",
              "      <td>...</td>\n",
              "    </tr>\n",
              "    <tr>\n",
              "      <th>6731</th>\n",
              "      <td>2019-10-31 11:00:00</td>\n",
              "      <td>f17ed857-178e-45e1-a662-0a9dd3b58c5f</td>\n",
              "      <td>73155</td>\n",
              "      <td>Мимоза стыдливая d-9 см</td>\n",
              "      <td>1</td>\n",
              "      <td>329.0</td>\n",
              "      <td>329.0</td>\n",
              "      <td>2019-10-01</td>\n",
              "      <td>Растения</td>\n",
              "    </tr>\n",
              "    <tr>\n",
              "      <th>6732</th>\n",
              "      <td>2019-10-31 11:00:00</td>\n",
              "      <td>73d1cd35-5e5f-4629-8cf2-3fda829d4e58</td>\n",
              "      <td>73156</td>\n",
              "      <td>Таз пластмассовый 40,0 л пищевой овальный (Иж)...</td>\n",
              "      <td>1</td>\n",
              "      <td>404.0</td>\n",
              "      <td>404.0</td>\n",
              "      <td>2019-10-01</td>\n",
              "      <td>Товары для дома</td>\n",
              "    </tr>\n",
              "    <tr>\n",
              "      <th>6733</th>\n",
              "      <td>2019-10-31 12:00:00</td>\n",
              "      <td>1f0a7f35-7459-4f23-b468-5e45bf481dd1</td>\n",
              "      <td>73158</td>\n",
              "      <td>Сумка-тележка 2-х колесная Gimi Argo синяя</td>\n",
              "      <td>1</td>\n",
              "      <td>1087.0</td>\n",
              "      <td>1087.0</td>\n",
              "      <td>2019-10-01</td>\n",
              "      <td>Инструменты</td>\n",
              "    </tr>\n",
              "    <tr>\n",
              "      <th>6734</th>\n",
              "      <td>2019-10-31 13:00:00</td>\n",
              "      <td>25df96a7-c453-4708-9cea-a3dfc7c342ea</td>\n",
              "      <td>73162</td>\n",
              "      <td>Герань домашняя (пеларгония зональная) цветуща...</td>\n",
              "      <td>1</td>\n",
              "      <td>157.0</td>\n",
              "      <td>157.0</td>\n",
              "      <td>2019-10-01</td>\n",
              "      <td>Растения</td>\n",
              "    </tr>\n",
              "    <tr>\n",
              "      <th>6735</th>\n",
              "      <td>2019-10-31 14:00:00</td>\n",
              "      <td>73d1cd35-5e5f-4629-8cf2-3fda829d4e58</td>\n",
              "      <td>73164</td>\n",
              "      <td>Таз пластмассовый со стиральной доской (Иж), 1...</td>\n",
              "      <td>1</td>\n",
              "      <td>397.0</td>\n",
              "      <td>397.0</td>\n",
              "      <td>2019-10-01</td>\n",
              "      <td>Клининг</td>\n",
              "    </tr>\n",
              "  </tbody>\n",
              "</table>\n",
              "<p>4806 rows × 9 columns</p>\n",
              "</div>\n",
              "      <button class=\"colab-df-convert\" onclick=\"convertToInteractive('df-dadc0745-b068-4001-b632-1fc4a62b96e6')\"\n",
              "              title=\"Convert this dataframe to an interactive table.\"\n",
              "              style=\"display:none;\">\n",
              "        \n",
              "  <svg xmlns=\"http://www.w3.org/2000/svg\" height=\"24px\"viewBox=\"0 0 24 24\"\n",
              "       width=\"24px\">\n",
              "    <path d=\"M0 0h24v24H0V0z\" fill=\"none\"/>\n",
              "    <path d=\"M18.56 5.44l.94 2.06.94-2.06 2.06-.94-2.06-.94-.94-2.06-.94 2.06-2.06.94zm-11 1L8.5 8.5l.94-2.06 2.06-.94-2.06-.94L8.5 2.5l-.94 2.06-2.06.94zm10 10l.94 2.06.94-2.06 2.06-.94-2.06-.94-.94-2.06-.94 2.06-2.06.94z\"/><path d=\"M17.41 7.96l-1.37-1.37c-.4-.4-.92-.59-1.43-.59-.52 0-1.04.2-1.43.59L10.3 9.45l-7.72 7.72c-.78.78-.78 2.05 0 2.83L4 21.41c.39.39.9.59 1.41.59.51 0 1.02-.2 1.41-.59l7.78-7.78 2.81-2.81c.8-.78.8-2.07 0-2.86zM5.41 20L4 18.59l7.72-7.72 1.47 1.35L5.41 20z\"/>\n",
              "  </svg>\n",
              "      </button>\n",
              "      \n",
              "  <style>\n",
              "    .colab-df-container {\n",
              "      display:flex;\n",
              "      flex-wrap:wrap;\n",
              "      gap: 12px;\n",
              "    }\n",
              "\n",
              "    .colab-df-convert {\n",
              "      background-color: #E8F0FE;\n",
              "      border: none;\n",
              "      border-radius: 50%;\n",
              "      cursor: pointer;\n",
              "      display: none;\n",
              "      fill: #1967D2;\n",
              "      height: 32px;\n",
              "      padding: 0 0 0 0;\n",
              "      width: 32px;\n",
              "    }\n",
              "\n",
              "    .colab-df-convert:hover {\n",
              "      background-color: #E2EBFA;\n",
              "      box-shadow: 0px 1px 2px rgba(60, 64, 67, 0.3), 0px 1px 3px 1px rgba(60, 64, 67, 0.15);\n",
              "      fill: #174EA6;\n",
              "    }\n",
              "\n",
              "    [theme=dark] .colab-df-convert {\n",
              "      background-color: #3B4455;\n",
              "      fill: #D2E3FC;\n",
              "    }\n",
              "\n",
              "    [theme=dark] .colab-df-convert:hover {\n",
              "      background-color: #434B5C;\n",
              "      box-shadow: 0px 1px 3px 1px rgba(0, 0, 0, 0.15);\n",
              "      filter: drop-shadow(0px 1px 2px rgba(0, 0, 0, 0.3));\n",
              "      fill: #FFFFFF;\n",
              "    }\n",
              "  </style>\n",
              "\n",
              "      <script>\n",
              "        const buttonEl =\n",
              "          document.querySelector('#df-dadc0745-b068-4001-b632-1fc4a62b96e6 button.colab-df-convert');\n",
              "        buttonEl.style.display =\n",
              "          google.colab.kernel.accessAllowed ? 'block' : 'none';\n",
              "\n",
              "        async function convertToInteractive(key) {\n",
              "          const element = document.querySelector('#df-dadc0745-b068-4001-b632-1fc4a62b96e6');\n",
              "          const dataTable =\n",
              "            await google.colab.kernel.invokeFunction('convertToInteractive',\n",
              "                                                     [key], {});\n",
              "          if (!dataTable) return;\n",
              "\n",
              "          const docLinkHtml = 'Like what you see? Visit the ' +\n",
              "            '<a target=\"_blank\" href=https://colab.research.google.com/notebooks/data_table.ipynb>data table notebook</a>'\n",
              "            + ' to learn more about interactive tables.';\n",
              "          element.innerHTML = '';\n",
              "          dataTable['output_type'] = 'display_data';\n",
              "          await google.colab.output.renderOutput(dataTable, element);\n",
              "          const docLink = document.createElement('div');\n",
              "          docLink.innerHTML = docLinkHtml;\n",
              "          element.appendChild(docLink);\n",
              "        }\n",
              "      </script>\n",
              "    </div>\n",
              "  </div>\n",
              "  "
            ]
          },
          "metadata": {},
          "execution_count": 84
        }
      ],
      "source": [
        "df['category'] = 'Другое'\n",
        "def cat(arr, category):\n",
        "    arr1 = '|'.join(arr)\n",
        "    x = df[df['product'].str.lower().str.contains(arr1)].index.to_list()\n",
        "    for i in x:\n",
        "        df.loc[i, 'category'] = category\n",
        "    return df\n",
        "\n",
        "cat(plants, 'Растения')\n",
        "cat(house, 'Товары для дома')\n",
        "cat(tools, 'Инструменты')\n",
        "cat(cleaning, 'Клининг')\n",
        "cat(kitchen, 'Кухня')"
      ]
    },
    {
      "cell_type": "markdown",
      "metadata": {
        "id": "-nUBgGyEF7Ka"
      },
      "source": [
        "### Изучение категорий"
      ]
    },
    {
      "cell_type": "code",
      "execution_count": 85,
      "metadata": {
        "colab": {
          "base_uri": "https://localhost:8080/",
          "height": 269
        },
        "id": "c426-ERUF7Ka",
        "outputId": "30c6b03e-d45a-4c75-a537-76602605aa42"
      },
      "outputs": [
        {
          "output_type": "execute_result",
          "data": {
            "text/plain": [
              "                 product   price   total  quantity\n",
              "category                                          \n",
              "Растения            2200   134.0   135.0  1.575455\n",
              "Кухня                956   209.0   432.0  2.635983\n",
              "Товары для дома      683   187.0   382.0  4.878477\n",
              "Клининг              472   562.0   614.0  2.063559\n",
              "Инструменты          452  1087.0  1087.0  4.707965\n",
              "Другое                43   105.0   112.0  2.023256"
            ],
            "text/html": [
              "\n",
              "  <div id=\"df-994e5414-31d4-48da-b177-444662f2af3a\">\n",
              "    <div class=\"colab-df-container\">\n",
              "      <div>\n",
              "<style scoped>\n",
              "    .dataframe tbody tr th:only-of-type {\n",
              "        vertical-align: middle;\n",
              "    }\n",
              "\n",
              "    .dataframe tbody tr th {\n",
              "        vertical-align: top;\n",
              "    }\n",
              "\n",
              "    .dataframe thead th {\n",
              "        text-align: right;\n",
              "    }\n",
              "</style>\n",
              "<table border=\"1\" class=\"dataframe\">\n",
              "  <thead>\n",
              "    <tr style=\"text-align: right;\">\n",
              "      <th></th>\n",
              "      <th>product</th>\n",
              "      <th>price</th>\n",
              "      <th>total</th>\n",
              "      <th>quantity</th>\n",
              "    </tr>\n",
              "    <tr>\n",
              "      <th>category</th>\n",
              "      <th></th>\n",
              "      <th></th>\n",
              "      <th></th>\n",
              "      <th></th>\n",
              "    </tr>\n",
              "  </thead>\n",
              "  <tbody>\n",
              "    <tr>\n",
              "      <th>Растения</th>\n",
              "      <td>2200</td>\n",
              "      <td>134.0</td>\n",
              "      <td>135.0</td>\n",
              "      <td>1.575455</td>\n",
              "    </tr>\n",
              "    <tr>\n",
              "      <th>Кухня</th>\n",
              "      <td>956</td>\n",
              "      <td>209.0</td>\n",
              "      <td>432.0</td>\n",
              "      <td>2.635983</td>\n",
              "    </tr>\n",
              "    <tr>\n",
              "      <th>Товары для дома</th>\n",
              "      <td>683</td>\n",
              "      <td>187.0</td>\n",
              "      <td>382.0</td>\n",
              "      <td>4.878477</td>\n",
              "    </tr>\n",
              "    <tr>\n",
              "      <th>Клининг</th>\n",
              "      <td>472</td>\n",
              "      <td>562.0</td>\n",
              "      <td>614.0</td>\n",
              "      <td>2.063559</td>\n",
              "    </tr>\n",
              "    <tr>\n",
              "      <th>Инструменты</th>\n",
              "      <td>452</td>\n",
              "      <td>1087.0</td>\n",
              "      <td>1087.0</td>\n",
              "      <td>4.707965</td>\n",
              "    </tr>\n",
              "    <tr>\n",
              "      <th>Другое</th>\n",
              "      <td>43</td>\n",
              "      <td>105.0</td>\n",
              "      <td>112.0</td>\n",
              "      <td>2.023256</td>\n",
              "    </tr>\n",
              "  </tbody>\n",
              "</table>\n",
              "</div>\n",
              "      <button class=\"colab-df-convert\" onclick=\"convertToInteractive('df-994e5414-31d4-48da-b177-444662f2af3a')\"\n",
              "              title=\"Convert this dataframe to an interactive table.\"\n",
              "              style=\"display:none;\">\n",
              "        \n",
              "  <svg xmlns=\"http://www.w3.org/2000/svg\" height=\"24px\"viewBox=\"0 0 24 24\"\n",
              "       width=\"24px\">\n",
              "    <path d=\"M0 0h24v24H0V0z\" fill=\"none\"/>\n",
              "    <path d=\"M18.56 5.44l.94 2.06.94-2.06 2.06-.94-2.06-.94-.94-2.06-.94 2.06-2.06.94zm-11 1L8.5 8.5l.94-2.06 2.06-.94-2.06-.94L8.5 2.5l-.94 2.06-2.06.94zm10 10l.94 2.06.94-2.06 2.06-.94-2.06-.94-.94-2.06-.94 2.06-2.06.94z\"/><path d=\"M17.41 7.96l-1.37-1.37c-.4-.4-.92-.59-1.43-.59-.52 0-1.04.2-1.43.59L10.3 9.45l-7.72 7.72c-.78.78-.78 2.05 0 2.83L4 21.41c.39.39.9.59 1.41.59.51 0 1.02-.2 1.41-.59l7.78-7.78 2.81-2.81c.8-.78.8-2.07 0-2.86zM5.41 20L4 18.59l7.72-7.72 1.47 1.35L5.41 20z\"/>\n",
              "  </svg>\n",
              "      </button>\n",
              "      \n",
              "  <style>\n",
              "    .colab-df-container {\n",
              "      display:flex;\n",
              "      flex-wrap:wrap;\n",
              "      gap: 12px;\n",
              "    }\n",
              "\n",
              "    .colab-df-convert {\n",
              "      background-color: #E8F0FE;\n",
              "      border: none;\n",
              "      border-radius: 50%;\n",
              "      cursor: pointer;\n",
              "      display: none;\n",
              "      fill: #1967D2;\n",
              "      height: 32px;\n",
              "      padding: 0 0 0 0;\n",
              "      width: 32px;\n",
              "    }\n",
              "\n",
              "    .colab-df-convert:hover {\n",
              "      background-color: #E2EBFA;\n",
              "      box-shadow: 0px 1px 2px rgba(60, 64, 67, 0.3), 0px 1px 3px 1px rgba(60, 64, 67, 0.15);\n",
              "      fill: #174EA6;\n",
              "    }\n",
              "\n",
              "    [theme=dark] .colab-df-convert {\n",
              "      background-color: #3B4455;\n",
              "      fill: #D2E3FC;\n",
              "    }\n",
              "\n",
              "    [theme=dark] .colab-df-convert:hover {\n",
              "      background-color: #434B5C;\n",
              "      box-shadow: 0px 1px 3px 1px rgba(0, 0, 0, 0.15);\n",
              "      filter: drop-shadow(0px 1px 2px rgba(0, 0, 0, 0.3));\n",
              "      fill: #FFFFFF;\n",
              "    }\n",
              "  </style>\n",
              "\n",
              "      <script>\n",
              "        const buttonEl =\n",
              "          document.querySelector('#df-994e5414-31d4-48da-b177-444662f2af3a button.colab-df-convert');\n",
              "        buttonEl.style.display =\n",
              "          google.colab.kernel.accessAllowed ? 'block' : 'none';\n",
              "\n",
              "        async function convertToInteractive(key) {\n",
              "          const element = document.querySelector('#df-994e5414-31d4-48da-b177-444662f2af3a');\n",
              "          const dataTable =\n",
              "            await google.colab.kernel.invokeFunction('convertToInteractive',\n",
              "                                                     [key], {});\n",
              "          if (!dataTable) return;\n",
              "\n",
              "          const docLinkHtml = 'Like what you see? Visit the ' +\n",
              "            '<a target=\"_blank\" href=https://colab.research.google.com/notebooks/data_table.ipynb>data table notebook</a>'\n",
              "            + ' to learn more about interactive tables.';\n",
              "          element.innerHTML = '';\n",
              "          dataTable['output_type'] = 'display_data';\n",
              "          await google.colab.output.renderOutput(dataTable, element);\n",
              "          const docLink = document.createElement('div');\n",
              "          docLink.innerHTML = docLinkHtml;\n",
              "          element.appendChild(docLink);\n",
              "        }\n",
              "      </script>\n",
              "    </div>\n",
              "  </div>\n",
              "  "
            ]
          },
          "metadata": {},
          "execution_count": 85
        }
      ],
      "source": [
        "df.groupby('category').agg({'product':'count','price':'median','total':'median','quantity':'mean'})\\\n",
        ".sort_values(by = 'product',ascending=False)"
      ]
    },
    {
      "cell_type": "code",
      "execution_count": 86,
      "metadata": {
        "colab": {
          "base_uri": "https://localhost:8080/",
          "height": 350
        },
        "id": "W5Q9y5clF7Kc",
        "outputId": "d8baf23d-aaeb-4a2f-fe30-69eb740fafec"
      },
      "outputs": [
        {
          "output_type": "display_data",
          "data": {
            "text/plain": [
              "<Figure size 576x360 with 1 Axes>"
            ],
            "image/png": "[encoded data removed]"
          },
          "metadata": {
            "needs_background": "light"
          }
        }
      ],
      "source": [
        "df.pivot_table(index = 'category',values='product', aggfunc='count')\\\n",
        ".sort_values(by='product',ascending = True).plot(kind='bar', title='Распределение товаров по категориям',\\\n",
        "xlabel='Категория',ylabel='Количество товаров', figsize=(8,5),legend = False)\n",
        "plt.xticks(rotation=0);"
      ]
    },
    {
      "cell_type": "code",
      "execution_count": 87,
      "metadata": {
        "colab": {
          "base_uri": "https://localhost:8080/",
          "height": 350
        },
        "id": "LMoyzqmUF7Kc",
        "outputId": "0eafcf08-7c2c-4ab1-c1c6-6f816d3ec66b"
      },
      "outputs": [
        {
          "output_type": "display_data",
          "data": {
            "text/plain": [
              "<Figure size 576x360 with 1 Axes>"
            ],
            "image/png": "[encoded data removed]"
          },
          "metadata": {
            "needs_background": "light"
          }
        }
      ],
      "source": [
        "df.pivot_table(index = 'category',values='price', aggfunc='median')\\\n",
        ".sort_values(by='price',ascending = True).plot(kind='bar', title='Средняя цена товара по категориям',\\\n",
        "xlabel='Категория',ylabel='Цена', figsize=(8,5), legend = False)\n",
        "plt.xticks(rotation=0);"
      ]
    },
    {
      "cell_type": "code",
      "execution_count": 88,
      "metadata": {
        "colab": {
          "base_uri": "https://localhost:8080/",
          "height": 269
        },
        "id": "w4LDMHK8F7Kc",
        "outputId": "bc35652f-9724-4e3e-bfee-ca69d73ad37f"
      },
      "outputs": [
        {
          "output_type": "execute_result",
          "data": {
            "text/plain": [
              "                 product   price   total  quantity\n",
              "category                                          \n",
              "Растения            2200   134.0   135.0  1.575455\n",
              "Кухня                956   209.0   432.0  2.635983\n",
              "Товары для дома      683   187.0   382.0  4.878477\n",
              "Клининг              472   562.0   614.0  2.063559\n",
              "Инструменты          452  1087.0  1087.0  4.707965\n",
              "Другое                43   105.0   112.0  2.023256"
            ],
            "text/html": [
              "\n",
              "  <div id=\"df-9ba29c9b-eed1-4ce9-8716-bd9de472a4b9\">\n",
              "    <div class=\"colab-df-container\">\n",
              "      <div>\n",
              "<style scoped>\n",
              "    .dataframe tbody tr th:only-of-type {\n",
              "        vertical-align: middle;\n",
              "    }\n",
              "\n",
              "    .dataframe tbody tr th {\n",
              "        vertical-align: top;\n",
              "    }\n",
              "\n",
              "    .dataframe thead th {\n",
              "        text-align: right;\n",
              "    }\n",
              "</style>\n",
              "<table border=\"1\" class=\"dataframe\">\n",
              "  <thead>\n",
              "    <tr style=\"text-align: right;\">\n",
              "      <th></th>\n",
              "      <th>product</th>\n",
              "      <th>price</th>\n",
              "      <th>total</th>\n",
              "      <th>quantity</th>\n",
              "    </tr>\n",
              "    <tr>\n",
              "      <th>category</th>\n",
              "      <th></th>\n",
              "      <th></th>\n",
              "      <th></th>\n",
              "      <th></th>\n",
              "    </tr>\n",
              "  </thead>\n",
              "  <tbody>\n",
              "    <tr>\n",
              "      <th>Растения</th>\n",
              "      <td>2200</td>\n",
              "      <td>134.0</td>\n",
              "      <td>135.0</td>\n",
              "      <td>1.575455</td>\n",
              "    </tr>\n",
              "    <tr>\n",
              "      <th>Кухня</th>\n",
              "      <td>956</td>\n",
              "      <td>209.0</td>\n",
              "      <td>432.0</td>\n",
              "      <td>2.635983</td>\n",
              "    </tr>\n",
              "    <tr>\n",
              "      <th>Товары для дома</th>\n",
              "      <td>683</td>\n",
              "      <td>187.0</td>\n",
              "      <td>382.0</td>\n",
              "      <td>4.878477</td>\n",
              "    </tr>\n",
              "    <tr>\n",
              "      <th>Клининг</th>\n",
              "      <td>472</td>\n",
              "      <td>562.0</td>\n",
              "      <td>614.0</td>\n",
              "      <td>2.063559</td>\n",
              "    </tr>\n",
              "    <tr>\n",
              "      <th>Инструменты</th>\n",
              "      <td>452</td>\n",
              "      <td>1087.0</td>\n",
              "      <td>1087.0</td>\n",
              "      <td>4.707965</td>\n",
              "    </tr>\n",
              "    <tr>\n",
              "      <th>Другое</th>\n",
              "      <td>43</td>\n",
              "      <td>105.0</td>\n",
              "      <td>112.0</td>\n",
              "      <td>2.023256</td>\n",
              "    </tr>\n",
              "  </tbody>\n",
              "</table>\n",
              "</div>\n",
              "      <button class=\"colab-df-convert\" onclick=\"convertToInteractive('df-9ba29c9b-eed1-4ce9-8716-bd9de472a4b9')\"\n",
              "              title=\"Convert this dataframe to an interactive table.\"\n",
              "              style=\"display:none;\">\n",
              "        \n",
              "  <svg xmlns=\"http://www.w3.org/2000/svg\" height=\"24px\"viewBox=\"0 0 24 24\"\n",
              "       width=\"24px\">\n",
              "    <path d=\"M0 0h24v24H0V0z\" fill=\"none\"/>\n",
              "    <path d=\"M18.56 5.44l.94 2.06.94-2.06 2.06-.94-2.06-.94-.94-2.06-.94 2.06-2.06.94zm-11 1L8.5 8.5l.94-2.06 2.06-.94-2.06-.94L8.5 2.5l-.94 2.06-2.06.94zm10 10l.94 2.06.94-2.06 2.06-.94-2.06-.94-.94-2.06-.94 2.06-2.06.94z\"/><path d=\"M17.41 7.96l-1.37-1.37c-.4-.4-.92-.59-1.43-.59-.52 0-1.04.2-1.43.59L10.3 9.45l-7.72 7.72c-.78.78-.78 2.05 0 2.83L4 21.41c.39.39.9.59 1.41.59.51 0 1.02-.2 1.41-.59l7.78-7.78 2.81-2.81c.8-.78.8-2.07 0-2.86zM5.41 20L4 18.59l7.72-7.72 1.47 1.35L5.41 20z\"/>\n",
              "  </svg>\n",
              "      </button>\n",
              "      \n",
              "  <style>\n",
              "    .colab-df-container {\n",
              "      display:flex;\n",
              "      flex-wrap:wrap;\n",
              "      gap: 12px;\n",
              "    }\n",
              "\n",
              "    .colab-df-convert {\n",
              "      background-color: #E8F0FE;\n",
              "      border: none;\n",
              "      border-radius: 50%;\n",
              "      cursor: pointer;\n",
              "      display: none;\n",
              "      fill: #1967D2;\n",
              "      height: 32px;\n",
              "      padding: 0 0 0 0;\n",
              "      width: 32px;\n",
              "    }\n",
              "\n",
              "    .colab-df-convert:hover {\n",
              "      background-color: #E2EBFA;\n",
              "      box-shadow: 0px 1px 2px rgba(60, 64, 67, 0.3), 0px 1px 3px 1px rgba(60, 64, 67, 0.15);\n",
              "      fill: #174EA6;\n",
              "    }\n",
              "\n",
              "    [theme=dark] .colab-df-convert {\n",
              "      background-color: #3B4455;\n",
              "      fill: #D2E3FC;\n",
              "    }\n",
              "\n",
              "    [theme=dark] .colab-df-convert:hover {\n",
              "      background-color: #434B5C;\n",
              "      box-shadow: 0px 1px 3px 1px rgba(0, 0, 0, 0.15);\n",
              "      filter: drop-shadow(0px 1px 2px rgba(0, 0, 0, 0.3));\n",
              "      fill: #FFFFFF;\n",
              "    }\n",
              "  </style>\n",
              "\n",
              "      <script>\n",
              "        const buttonEl =\n",
              "          document.querySelector('#df-9ba29c9b-eed1-4ce9-8716-bd9de472a4b9 button.colab-df-convert');\n",
              "        buttonEl.style.display =\n",
              "          google.colab.kernel.accessAllowed ? 'block' : 'none';\n",
              "\n",
              "        async function convertToInteractive(key) {\n",
              "          const element = document.querySelector('#df-9ba29c9b-eed1-4ce9-8716-bd9de472a4b9');\n",
              "          const dataTable =\n",
              "            await google.colab.kernel.invokeFunction('convertToInteractive',\n",
              "                                                     [key], {});\n",
              "          if (!dataTable) return;\n",
              "\n",
              "          const docLinkHtml = 'Like what you see? Visit the ' +\n",
              "            '<a target=\"_blank\" href=https://colab.research.google.com/notebooks/data_table.ipynb>data table notebook</a>'\n",
              "            + ' to learn more about interactive tables.';\n",
              "          element.innerHTML = '';\n",
              "          dataTable['output_type'] = 'display_data';\n",
              "          await google.colab.output.renderOutput(dataTable, element);\n",
              "          const docLink = document.createElement('div');\n",
              "          docLink.innerHTML = docLinkHtml;\n",
              "          element.appendChild(docLink);\n",
              "        }\n",
              "      </script>\n",
              "    </div>\n",
              "  </div>\n",
              "  "
            ]
          },
          "metadata": {},
          "execution_count": 88
        }
      ],
      "source": [
        "df.groupby('category').agg({'product':'count','price':'median','total':'median','quantity':'mean'})\\\n",
        ".sort_values(by = 'product',ascending=False)"
      ]
    },
    {
      "cell_type": "markdown",
      "metadata": {
        "id": "h03XIP6GF7Kd"
      },
      "source": [
        "Самая большая категория: \"Растения\" с 2200 товарами, наименьшая - \"Инструменты\" с 452 товаром. Большое количество позиций в категории растений вызвано разнообразием сортов семян и цветов, эта статистика не важна для анализа, так как не отражает ни количество продаваемого товара, ни его цену. Средняя цена и чек за одну единицу товара примерно равны во всех категориях, кроме инструментов и клининга (1087 и 562 цена, 1087 и 614 чек)."
      ]
    },
    {
      "cell_type": "code",
      "execution_count": 89,
      "metadata": {
        "colab": {
          "base_uri": "https://localhost:8080/",
          "height": 269
        },
        "id": "lmUPleC6F7Kd",
        "outputId": "68be7f01-f41e-4e22-fc2b-185bbe9a5210"
      },
      "outputs": [
        {
          "output_type": "execute_result",
          "data": {
            "text/plain": [
              "                    total\n",
              "category                 \n",
              "Другое            10902.0\n",
              "Растения         485925.0\n",
              "Клининг          501804.0\n",
              "Товары для дома  707251.0\n",
              "Кухня            830566.0\n",
              "Инструменты      883167.0"
            ],
            "text/html": [
              "\n",
              "  <div id=\"df-15323d3e-e654-4e9a-b0e6-b422e5c100e5\">\n",
              "    <div class=\"colab-df-container\">\n",
              "      <div>\n",
              "<style scoped>\n",
              "    .dataframe tbody tr th:only-of-type {\n",
              "        vertical-align: middle;\n",
              "    }\n",
              "\n",
              "    .dataframe tbody tr th {\n",
              "        vertical-align: top;\n",
              "    }\n",
              "\n",
              "    .dataframe thead th {\n",
              "        text-align: right;\n",
              "    }\n",
              "</style>\n",
              "<table border=\"1\" class=\"dataframe\">\n",
              "  <thead>\n",
              "    <tr style=\"text-align: right;\">\n",
              "      <th></th>\n",
              "      <th>total</th>\n",
              "    </tr>\n",
              "    <tr>\n",
              "      <th>category</th>\n",
              "      <th></th>\n",
              "    </tr>\n",
              "  </thead>\n",
              "  <tbody>\n",
              "    <tr>\n",
              "      <th>Другое</th>\n",
              "      <td>10902.0</td>\n",
              "    </tr>\n",
              "    <tr>\n",
              "      <th>Растения</th>\n",
              "      <td>485925.0</td>\n",
              "    </tr>\n",
              "    <tr>\n",
              "      <th>Клининг</th>\n",
              "      <td>501804.0</td>\n",
              "    </tr>\n",
              "    <tr>\n",
              "      <th>Товары для дома</th>\n",
              "      <td>707251.0</td>\n",
              "    </tr>\n",
              "    <tr>\n",
              "      <th>Кухня</th>\n",
              "      <td>830566.0</td>\n",
              "    </tr>\n",
              "    <tr>\n",
              "      <th>Инструменты</th>\n",
              "      <td>883167.0</td>\n",
              "    </tr>\n",
              "  </tbody>\n",
              "</table>\n",
              "</div>\n",
              "      <button class=\"colab-df-convert\" onclick=\"convertToInteractive('df-15323d3e-e654-4e9a-b0e6-b422e5c100e5')\"\n",
              "              title=\"Convert this dataframe to an interactive table.\"\n",
              "              style=\"display:none;\">\n",
              "        \n",
              "  <svg xmlns=\"http://www.w3.org/2000/svg\" height=\"24px\"viewBox=\"0 0 24 24\"\n",
              "       width=\"24px\">\n",
              "    <path d=\"M0 0h24v24H0V0z\" fill=\"none\"/>\n",
              "    <path d=\"M18.56 5.44l.94 2.06.94-2.06 2.06-.94-2.06-.94-.94-2.06-.94 2.06-2.06.94zm-11 1L8.5 8.5l.94-2.06 2.06-.94-2.06-.94L8.5 2.5l-.94 2.06-2.06.94zm10 10l.94 2.06.94-2.06 2.06-.94-2.06-.94-.94-2.06-.94 2.06-2.06.94z\"/><path d=\"M17.41 7.96l-1.37-1.37c-.4-.4-.92-.59-1.43-.59-.52 0-1.04.2-1.43.59L10.3 9.45l-7.72 7.72c-.78.78-.78 2.05 0 2.83L4 21.41c.39.39.9.59 1.41.59.51 0 1.02-.2 1.41-.59l7.78-7.78 2.81-2.81c.8-.78.8-2.07 0-2.86zM5.41 20L4 18.59l7.72-7.72 1.47 1.35L5.41 20z\"/>\n",
              "  </svg>\n",
              "      </button>\n",
              "      \n",
              "  <style>\n",
              "    .colab-df-container {\n",
              "      display:flex;\n",
              "      flex-wrap:wrap;\n",
              "      gap: 12px;\n",
              "    }\n",
              "\n",
              "    .colab-df-convert {\n",
              "      background-color: #E8F0FE;\n",
              "      border: none;\n",
              "      border-radius: 50%;\n",
              "      cursor: pointer;\n",
              "      display: none;\n",
              "      fill: #1967D2;\n",
              "      height: 32px;\n",
              "      padding: 0 0 0 0;\n",
              "      width: 32px;\n",
              "    }\n",
              "\n",
              "    .colab-df-convert:hover {\n",
              "      background-color: #E2EBFA;\n",
              "      box-shadow: 0px 1px 2px rgba(60, 64, 67, 0.3), 0px 1px 3px 1px rgba(60, 64, 67, 0.15);\n",
              "      fill: #174EA6;\n",
              "    }\n",
              "\n",
              "    [theme=dark] .colab-df-convert {\n",
              "      background-color: #3B4455;\n",
              "      fill: #D2E3FC;\n",
              "    }\n",
              "\n",
              "    [theme=dark] .colab-df-convert:hover {\n",
              "      background-color: #434B5C;\n",
              "      box-shadow: 0px 1px 3px 1px rgba(0, 0, 0, 0.15);\n",
              "      filter: drop-shadow(0px 1px 2px rgba(0, 0, 0, 0.3));\n",
              "      fill: #FFFFFF;\n",
              "    }\n",
              "  </style>\n",
              "\n",
              "      <script>\n",
              "        const buttonEl =\n",
              "          document.querySelector('#df-15323d3e-e654-4e9a-b0e6-b422e5c100e5 button.colab-df-convert');\n",
              "        buttonEl.style.display =\n",
              "          google.colab.kernel.accessAllowed ? 'block' : 'none';\n",
              "\n",
              "        async function convertToInteractive(key) {\n",
              "          const element = document.querySelector('#df-15323d3e-e654-4e9a-b0e6-b422e5c100e5');\n",
              "          const dataTable =\n",
              "            await google.colab.kernel.invokeFunction('convertToInteractive',\n",
              "                                                     [key], {});\n",
              "          if (!dataTable) return;\n",
              "\n",
              "          const docLinkHtml = 'Like what you see? Visit the ' +\n",
              "            '<a target=\"_blank\" href=https://colab.research.google.com/notebooks/data_table.ipynb>data table notebook</a>'\n",
              "            + ' to learn more about interactive tables.';\n",
              "          element.innerHTML = '';\n",
              "          dataTable['output_type'] = 'display_data';\n",
              "          await google.colab.output.renderOutput(dataTable, element);\n",
              "          const docLink = document.createElement('div');\n",
              "          docLink.innerHTML = docLinkHtml;\n",
              "          element.appendChild(docLink);\n",
              "        }\n",
              "      </script>\n",
              "    </div>\n",
              "  </div>\n",
              "  "
            ]
          },
          "metadata": {},
          "execution_count": 89
        }
      ],
      "source": [
        "df.pivot_table(index = 'category',values='total', aggfunc='sum')\\\n",
        ".sort_values(by='total',ascending = True)"
      ]
    },
    {
      "cell_type": "code",
      "execution_count": 90,
      "metadata": {
        "colab": {
          "base_uri": "https://localhost:8080/",
          "height": 542
        },
        "id": "RC5_p3OuF7Kd",
        "outputId": "d6d0a020-d97f-4be1-f2a7-d1398cbc3834"
      },
      "outputs": [
        {
          "output_type": "display_data",
          "data": {
            "text/html": [
              "<html>\n",
              "<head><meta charset=\"utf-8\" /></head>\n",
              "<body>\n",
              "    <div>            <script src=\"https://cdnjs.cloudflare.com/ajax/libs/mathjax/2.7.5/MathJax.js?config=TeX-AMS-MML_SVG\"></script><script type=\"text/javascript\">if (window.MathJax && window.MathJax.Hub && window.MathJax.Hub.Config) {window.MathJax.Hub.Config({SVG: {font: \"STIX-Web\"}});}</script>                <script type=\"text/javascript\">window.PlotlyConfig = {MathJaxConfig: 'local'};</script>\n",
              "        <script src=\"https://cdn.plot.ly/plotly-2.18.2.min.js\"></script>                <div id=\"8bee61af-2d1c-497b-a76c-d03382dc65f4\" class=\"plotly-graph-div\" style=\"height:525px; width:100%;\"></div>            <script type=\"text/javascript\">                                    window.PLOTLYENV=window.PLOTLYENV || {};                                    if (document.getElementById(\"8bee61af-2d1c-497b-a76c-d03382dc65f4\")) {                    Plotly.newPlot(                        \"8bee61af-2d1c-497b-a76c-d03382dc65f4\",                        [{\"labels\":[\"\\u0414\\u0440\\u0443\\u0433\\u043e\\u0435\",\"\\u0418\\u043d\\u0441\\u0442\\u0440\\u0443\\u043c\\u0435\\u043d\\u0442\\u044b\",\"\\u041a\\u043b\\u0438\\u043d\\u0438\\u043d\\u0433\",\"\\u041a\\u0443\\u0445\\u043d\\u044f\",\"\\u0420\\u0430\\u0441\\u0442\\u0435\\u043d\\u0438\\u044f\",\"\\u0422\\u043e\\u0432\\u0430\\u0440\\u044b \\u0434\\u043b\\u044f \\u0434\\u043e\\u043c\\u0430\"],\"title\":{\"text\":\"\\u041e\\u0431\\u0449\\u0430\\u044f \\u0432\\u044b\\u0440\\u0443\\u0447\\u043a\\u0430 \\u043f\\u043e \\u043a\\u0430\\u0442\\u0435\\u0433\\u043e\\u0440\\u0438\\u044f\\u043c\"},\"values\":[10902.0,883167.0,501804.0,830566.0,485925.0,707251.0],\"type\":\"pie\"}],                        {\"template\":{\"data\":{\"histogram2dcontour\":[{\"type\":\"histogram2dcontour\",\"colorbar\":{\"outlinewidth\":0,\"ticks\":\"\"},\"colorscale\":[[0.0,\"#0d0887\"],[0.1111111111111111,\"#46039f\"],[0.2222222222222222,\"#7201a8\"],[0.3333333333333333,\"#9c179e\"],[0.4444444444444444,\"#bd3786\"],[0.5555555555555556,\"#d8576b\"],[0.6666666666666666,\"#ed7953\"],[0.7777777777777778,\"#fb9f3a\"],[0.8888888888888888,\"#fdca26\"],[1.0,\"#f0f921\"]]}],\"choropleth\":[{\"type\":\"choropleth\",\"colorbar\":{\"outlinewidth\":0,\"ticks\":\"\"}}],\"histogram2d\":[{\"type\":\"histogram2d\",\"colorbar\":{\"outlinewidth\":0,\"ticks\":\"\"},\"colorscale\":[[0.0,\"#0d0887\"],[0.1111111111111111,\"#46039f\"],[0.2222222222222222,\"#7201a8\"],[0.3333333333333333,\"#9c179e\"],[0.4444444444444444,\"#bd3786\"],[0.5555555555555556,\"#d8576b\"],[0.6666666666666666,\"#ed7953\"],[0.7777777777777778,\"#fb9f3a\"],[0.8888888888888888,\"#fdca26\"],[1.0,\"#f0f921\"]]}],\"heatmap\":[{\"type\":\"heatmap\",\"colorbar\":{\"outlinewidth\":0,\"ticks\":\"\"},\"colorscale\":[[0.0,\"#0d0887\"],[0.1111111111111111,\"#46039f\"],[0.2222222222222222,\"#7201a8\"],[0.3333333333333333,\"#9c179e\"],[0.4444444444444444,\"#bd3786\"],[0.5555555555555556,\"#d8576b\"],[0.6666666666666666,\"#ed7953\"],[0.7777777777777778,\"#fb9f3a\"],[0.8888888888888888,\"#fdca26\"],[1.0,\"#f0f921\"]]}],\"heatmapgl\":[{\"type\":\"heatmapgl\",\"colorbar\":{\"outlinewidth\":0,\"ticks\":\"\"},\"colorscale\":[[0.0,\"#0d0887\"],[0.1111111111111111,\"#46039f\"],[0.2222222222222222,\"#7201a8\"],[0.3333333333333333,\"#9c179e\"],[0.4444444444444444,\"#bd3786\"],[0.5555555555555556,\"#d8576b\"],[0.6666666666666666,\"#ed7953\"],[0.7777777777777778,\"#fb9f3a\"],[0.8888888888888888,\"#fdca26\"],[1.0,\"#f0f921\"]]}],\"contourcarpet\":[{\"type\":\"contourcarpet\",\"colorbar\":{\"outlinewidth\":0,\"ticks\":\"\"}}],\"contour\":[{\"type\":\"contour\",\"colorbar\":{\"outlinewidth\":0,\"ticks\":\"\"},\"colorscale\":[[0.0,\"#0d0887\"],[0.1111111111111111,\"#46039f\"],[0.2222222222222222,\"#7201a8\"],[0.3333333333333333,\"#9c179e\"],[0.4444444444444444,\"#bd3786\"],[0.5555555555555556,\"#d8576b\"],[0.6666666666666666,\"#ed7953\"],[0.7777777777777778,\"#fb9f3a\"],[0.8888888888888888,\"#fdca26\"],[1.0,\"#f0f921\"]]}],\"surface\":[{\"type\":\"surface\",\"colorbar\":{\"outlinewidth\":0,\"ticks\":\"\"},\"colorscale\":[[0.0,\"#0d0887\"],[0.1111111111111111,\"#46039f\"],[0.2222222222222222,\"#7201a8\"],[0.3333333333333333,\"#9c179e\"],[0.4444444444444444,\"#bd3786\"],[0.5555555555555556,\"#d8576b\"],[0.6666666666666666,\"#ed7953\"],[0.7777777777777778,\"#fb9f3a\"],[0.8888888888888888,\"#fdca26\"],[1.0,\"#f0f921\"]]}],\"mesh3d\":[{\"type\":\"mesh3d\",\"colorbar\":{\"outlinewidth\":0,\"ticks\":\"\"}}],\"scatter\":[{\"fillpattern\":{\"fillmode\":\"overlay\",\"size\":10,\"solidity\":0.2},\"type\":\"scatter\"}],\"parcoords\":[{\"type\":\"parcoords\",\"line\":{\"colorbar\":{\"outlinewidth\":0,\"ticks\":\"\"}}}],\"scatterpolargl\":[{\"type\":\"scatterpolargl\",\"marker\":{\"colorbar\":{\"outlinewidth\":0,\"ticks\":\"\"}}}],\"bar\":[{\"error_x\":{\"color\":\"#2a3f5f\"},\"error_y\":{\"color\":\"#2a3f5f\"},\"marker\":{\"line\":{\"color\":\"#E5ECF6\",\"width\":0.5},\"pattern\":{\"fillmode\":\"overlay\",\"size\":10,\"solidity\":0.2}},\"type\":\"bar\"}],\"scattergeo\":[{\"type\":\"scattergeo\",\"marker\":{\"colorbar\":{\"outlinewidth\":0,\"ticks\":\"\"}}}],\"scatterpolar\":[{\"type\":\"scatterpolar\",\"marker\":{\"colorbar\":{\"outlinewidth\":0,\"ticks\":\"\"}}}],\"histogram\":[{\"marker\":{\"pattern\":{\"fillmode\":\"overlay\",\"size\":10,\"solidity\":0.2}},\"type\":\"histogram\"}],\"scattergl\":[{\"type\":\"scattergl\",\"marker\":{\"colorbar\":{\"outlinewidth\":0,\"ticks\":\"\"}}}],\"scatter3d\":[{\"type\":\"scatter3d\",\"line\":{\"colorbar\":{\"outlinewidth\":0,\"ticks\":\"\"}},\"marker\":{\"colorbar\":{\"outlinewidth\":0,\"ticks\":\"\"}}}],\"scattermapbox\":[{\"type\":\"scattermapbox\",\"marker\":{\"colorbar\":{\"outlinewidth\":0,\"ticks\":\"\"}}}],\"scatterternary\":[{\"type\":\"scatterternary\",\"marker\":{\"colorbar\":{\"outlinewidth\":0,\"ticks\":\"\"}}}],\"scattercarpet\":[{\"type\":\"scattercarpet\",\"marker\":{\"colorbar\":{\"outlinewidth\":0,\"ticks\":\"\"}}}],\"carpet\":[{\"aaxis\":{\"endlinecolor\":\"#2a3f5f\",\"gridcolor\":\"white\",\"linecolor\":\"white\",\"minorgridcolor\":\"white\",\"startlinecolor\":\"#2a3f5f\"},\"baxis\":{\"endlinecolor\":\"#2a3f5f\",\"gridcolor\":\"white\",\"linecolor\":\"white\",\"minorgridcolor\":\"white\",\"startlinecolor\":\"#2a3f5f\"},\"type\":\"carpet\"}],\"table\":[{\"cells\":{\"fill\":{\"color\":\"#EBF0F8\"},\"line\":{\"color\":\"white\"}},\"header\":{\"fill\":{\"color\":\"#C8D4E3\"},\"line\":{\"color\":\"white\"}},\"type\":\"table\"}],\"barpolar\":[{\"marker\":{\"line\":{\"color\":\"#E5ECF6\",\"width\":0.5},\"pattern\":{\"fillmode\":\"overlay\",\"size\":10,\"solidity\":0.2}},\"type\":\"barpolar\"}],\"pie\":[{\"automargin\":true,\"type\":\"pie\"}]},\"layout\":{\"autotypenumbers\":\"strict\",\"colorway\":[\"#636efa\",\"#EF553B\",\"#00cc96\",\"#ab63fa\",\"#FFA15A\",\"#19d3f3\",\"#FF6692\",\"#B6E880\",\"#FF97FF\",\"#FECB52\"],\"font\":{\"color\":\"#2a3f5f\"},\"hovermode\":\"closest\",\"hoverlabel\":{\"align\":\"left\"},\"paper_bgcolor\":\"white\",\"plot_bgcolor\":\"#E5ECF6\",\"polar\":{\"bgcolor\":\"#E5ECF6\",\"angularaxis\":{\"gridcolor\":\"white\",\"linecolor\":\"white\",\"ticks\":\"\"},\"radialaxis\":{\"gridcolor\":\"white\",\"linecolor\":\"white\",\"ticks\":\"\"}},\"ternary\":{\"bgcolor\":\"#E5ECF6\",\"aaxis\":{\"gridcolor\":\"white\",\"linecolor\":\"white\",\"ticks\":\"\"},\"baxis\":{\"gridcolor\":\"white\",\"linecolor\":\"white\",\"ticks\":\"\"},\"caxis\":{\"gridcolor\":\"white\",\"linecolor\":\"white\",\"ticks\":\"\"}},\"coloraxis\":{\"colorbar\":{\"outlinewidth\":0,\"ticks\":\"\"}},\"colorscale\":{\"sequential\":[[0.0,\"#0d0887\"],[0.1111111111111111,\"#46039f\"],[0.2222222222222222,\"#7201a8\"],[0.3333333333333333,\"#9c179e\"],[0.4444444444444444,\"#bd3786\"],[0.5555555555555556,\"#d8576b\"],[0.6666666666666666,\"#ed7953\"],[0.7777777777777778,\"#fb9f3a\"],[0.8888888888888888,\"#fdca26\"],[1.0,\"#f0f921\"]],\"sequentialminus\":[[0.0,\"#0d0887\"],[0.1111111111111111,\"#46039f\"],[0.2222222222222222,\"#7201a8\"],[0.3333333333333333,\"#9c179e\"],[0.4444444444444444,\"#bd3786\"],[0.5555555555555556,\"#d8576b\"],[0.6666666666666666,\"#ed7953\"],[0.7777777777777778,\"#fb9f3a\"],[0.8888888888888888,\"#fdca26\"],[1.0,\"#f0f921\"]],\"diverging\":[[0,\"#8e0152\"],[0.1,\"#c51b7d\"],[0.2,\"#de77ae\"],[0.3,\"#f1b6da\"],[0.4,\"#fde0ef\"],[0.5,\"#f7f7f7\"],[0.6,\"#e6f5d0\"],[0.7,\"#b8e186\"],[0.8,\"#7fbc41\"],[0.9,\"#4d9221\"],[1,\"#276419\"]]},\"xaxis\":{\"gridcolor\":\"white\",\"linecolor\":\"white\",\"ticks\":\"\",\"title\":{\"standoff\":15},\"zerolinecolor\":\"white\",\"automargin\":true,\"zerolinewidth\":2},\"yaxis\":{\"gridcolor\":\"white\",\"linecolor\":\"white\",\"ticks\":\"\",\"title\":{\"standoff\":15},\"zerolinecolor\":\"white\",\"automargin\":true,\"zerolinewidth\":2},\"scene\":{\"xaxis\":{\"backgroundcolor\":\"#E5ECF6\",\"gridcolor\":\"white\",\"linecolor\":\"white\",\"showbackground\":true,\"ticks\":\"\",\"zerolinecolor\":\"white\",\"gridwidth\":2},\"yaxis\":{\"backgroundcolor\":\"#E5ECF6\",\"gridcolor\":\"white\",\"linecolor\":\"white\",\"showbackground\":true,\"ticks\":\"\",\"zerolinecolor\":\"white\",\"gridwidth\":2},\"zaxis\":{\"backgroundcolor\":\"#E5ECF6\",\"gridcolor\":\"white\",\"linecolor\":\"white\",\"showbackground\":true,\"ticks\":\"\",\"zerolinecolor\":\"white\",\"gridwidth\":2}},\"shapedefaults\":{\"line\":{\"color\":\"#2a3f5f\"}},\"annotationdefaults\":{\"arrowcolor\":\"#2a3f5f\",\"arrowhead\":0,\"arrowwidth\":1},\"geo\":{\"bgcolor\":\"white\",\"landcolor\":\"#E5ECF6\",\"subunitcolor\":\"white\",\"showland\":true,\"showlakes\":true,\"lakecolor\":\"white\"},\"title\":{\"x\":0.05},\"mapbox\":{\"style\":\"light\"}}}},                        {\"responsive\": true}                    ).then(function(){\n",
              "                            \n",
              "var gd = document.getElementById('8bee61af-2d1c-497b-a76c-d03382dc65f4');\n",
              "var x = new MutationObserver(function (mutations, observer) {{\n",
              "        var display = window.getComputedStyle(gd).display;\n",
              "        if (!display || display === 'none') {{\n",
              "            console.log([gd, 'removed!']);\n",
              "            Plotly.purge(gd);\n",
              "            observer.disconnect();\n",
              "        }}\n",
              "}});\n",
              "\n",
              "// Listen for the removal of the full notebook cells\n",
              "var notebookContainer = gd.closest('#notebook-container');\n",
              "if (notebookContainer) {{\n",
              "    x.observe(notebookContainer, {childList: true});\n",
              "}}\n",
              "\n",
              "// Listen for the clearing of the current output cell\n",
              "var outputEl = gd.closest('.output');\n",
              "if (outputEl) {{\n",
              "    x.observe(outputEl, {childList: true});\n",
              "}}\n",
              "\n",
              "                        })                };                            </script>        </div>\n",
              "</body>\n",
              "</html>"
            ]
          },
          "metadata": {}
        }
      ],
      "source": [
        "fig = go.Figure(data=[go.Pie(title='Общая выручка по категориям', labels=df.groupby('category')['category'].count().index,values=df.groupby('category')['total'].sum())])\n",
        "fig.show()"
      ]
    },
    {
      "cell_type": "markdown",
      "metadata": {
        "id": "XmKRv6kvF7Ke"
      },
      "source": [
        "Больше всего прибыли приносит категория инструменты с <900к, наименее прибыльная - растения (<500к)"
      ]
    },
    {
      "cell_type": "code",
      "execution_count": 91,
      "metadata": {
        "colab": {
          "base_uri": "https://localhost:8080/",
          "height": 542
        },
        "id": "oEYSjB6xF7Ke",
        "outputId": "8a31fe2c-a90d-42c6-96f8-a7bc8e2f37bb"
      },
      "outputs": [
        {
          "output_type": "display_data",
          "data": {
            "text/html": [
              "<html>\n",
              "<head><meta charset=\"utf-8\" /></head>\n",
              "<body>\n",
              "    <div>            <script src=\"https://cdnjs.cloudflare.com/ajax/libs/mathjax/2.7.5/MathJax.js?config=TeX-AMS-MML_SVG\"></script><script type=\"text/javascript\">if (window.MathJax && window.MathJax.Hub && window.MathJax.Hub.Config) {window.MathJax.Hub.Config({SVG: {font: \"STIX-Web\"}});}</script>                <script type=\"text/javascript\">window.PlotlyConfig = {MathJaxConfig: 'local'};</script>\n",
              "        <script src=\"https://cdn.plot.ly/plotly-2.18.2.min.js\"></script>                <div id=\"8295b8ef-6aaa-4b9e-919a-d3fb5d200a51\" class=\"plotly-graph-div\" style=\"height:525px; width:100%;\"></div>            <script type=\"text/javascript\">                                    window.PLOTLYENV=window.PLOTLYENV || {};                                    if (document.getElementById(\"8295b8ef-6aaa-4b9e-919a-d3fb5d200a51\")) {                    Plotly.newPlot(                        \"8295b8ef-6aaa-4b9e-919a-d3fb5d200a51\",                        [{\"labels\":[\"\\u0414\\u0440\\u0443\\u0433\\u043e\\u0435\",\"\\u0418\\u043d\\u0441\\u0442\\u0440\\u0443\\u043c\\u0435\\u043d\\u0442\\u044b\",\"\\u041a\\u043b\\u0438\\u043d\\u0438\\u043d\\u0433\",\"\\u041a\\u0443\\u0445\\u043d\\u044f\",\"\\u0420\\u0430\\u0441\\u0442\\u0435\\u043d\\u0438\\u044f\",\"\\u0422\\u043e\\u0432\\u0430\\u0440\\u044b \\u0434\\u043b\\u044f \\u0434\\u043e\\u043c\\u0430\"],\"title\":{\"text\":\"\\u0414\\u043e\\u043b\\u044f \\u043f\\u043e\\u043a\\u0443\\u043f\\u0430\\u0442\\u0435\\u043b\\u0435\\u0439 \\u043f\\u043e \\u043a\\u0430\\u0442\\u0435\\u0433\\u043e\\u0440\\u0438\\u044f\\u043c\"},\"values\":[24,383,388,618,639,507],\"type\":\"pie\"}],                        {\"template\":{\"data\":{\"histogram2dcontour\":[{\"type\":\"histogram2dcontour\",\"colorbar\":{\"outlinewidth\":0,\"ticks\":\"\"},\"colorscale\":[[0.0,\"#0d0887\"],[0.1111111111111111,\"#46039f\"],[0.2222222222222222,\"#7201a8\"],[0.3333333333333333,\"#9c179e\"],[0.4444444444444444,\"#bd3786\"],[0.5555555555555556,\"#d8576b\"],[0.6666666666666666,\"#ed7953\"],[0.7777777777777778,\"#fb9f3a\"],[0.8888888888888888,\"#fdca26\"],[1.0,\"#f0f921\"]]}],\"choropleth\":[{\"type\":\"choropleth\",\"colorbar\":{\"outlinewidth\":0,\"ticks\":\"\"}}],\"histogram2d\":[{\"type\":\"histogram2d\",\"colorbar\":{\"outlinewidth\":0,\"ticks\":\"\"},\"colorscale\":[[0.0,\"#0d0887\"],[0.1111111111111111,\"#46039f\"],[0.2222222222222222,\"#7201a8\"],[0.3333333333333333,\"#9c179e\"],[0.4444444444444444,\"#bd3786\"],[0.5555555555555556,\"#d8576b\"],[0.6666666666666666,\"#ed7953\"],[0.7777777777777778,\"#fb9f3a\"],[0.8888888888888888,\"#fdca26\"],[1.0,\"#f0f921\"]]}],\"heatmap\":[{\"type\":\"heatmap\",\"colorbar\":{\"outlinewidth\":0,\"ticks\":\"\"},\"colorscale\":[[0.0,\"#0d0887\"],[0.1111111111111111,\"#46039f\"],[0.2222222222222222,\"#7201a8\"],[0.3333333333333333,\"#9c179e\"],[0.4444444444444444,\"#bd3786\"],[0.5555555555555556,\"#d8576b\"],[0.6666666666666666,\"#ed7953\"],[0.7777777777777778,\"#fb9f3a\"],[0.8888888888888888,\"#fdca26\"],[1.0,\"#f0f921\"]]}],\"heatmapgl\":[{\"type\":\"heatmapgl\",\"colorbar\":{\"outlinewidth\":0,\"ticks\":\"\"},\"colorscale\":[[0.0,\"#0d0887\"],[0.1111111111111111,\"#46039f\"],[0.2222222222222222,\"#7201a8\"],[0.3333333333333333,\"#9c179e\"],[0.4444444444444444,\"#bd3786\"],[0.5555555555555556,\"#d8576b\"],[0.6666666666666666,\"#ed7953\"],[0.7777777777777778,\"#fb9f3a\"],[0.8888888888888888,\"#fdca26\"],[1.0,\"#f0f921\"]]}],\"contourcarpet\":[{\"type\":\"contourcarpet\",\"colorbar\":{\"outlinewidth\":0,\"ticks\":\"\"}}],\"contour\":[{\"type\":\"contour\",\"colorbar\":{\"outlinewidth\":0,\"ticks\":\"\"},\"colorscale\":[[0.0,\"#0d0887\"],[0.1111111111111111,\"#46039f\"],[0.2222222222222222,\"#7201a8\"],[0.3333333333333333,\"#9c179e\"],[0.4444444444444444,\"#bd3786\"],[0.5555555555555556,\"#d8576b\"],[0.6666666666666666,\"#ed7953\"],[0.7777777777777778,\"#fb9f3a\"],[0.8888888888888888,\"#fdca26\"],[1.0,\"#f0f921\"]]}],\"surface\":[{\"type\":\"surface\",\"colorbar\":{\"outlinewidth\":0,\"ticks\":\"\"},\"colorscale\":[[0.0,\"#0d0887\"],[0.1111111111111111,\"#46039f\"],[0.2222222222222222,\"#7201a8\"],[0.3333333333333333,\"#9c179e\"],[0.4444444444444444,\"#bd3786\"],[0.5555555555555556,\"#d8576b\"],[0.6666666666666666,\"#ed7953\"],[0.7777777777777778,\"#fb9f3a\"],[0.8888888888888888,\"#fdca26\"],[1.0,\"#f0f921\"]]}],\"mesh3d\":[{\"type\":\"mesh3d\",\"colorbar\":{\"outlinewidth\":0,\"ticks\":\"\"}}],\"scatter\":[{\"fillpattern\":{\"fillmode\":\"overlay\",\"size\":10,\"solidity\":0.2},\"type\":\"scatter\"}],\"parcoords\":[{\"type\":\"parcoords\",\"line\":{\"colorbar\":{\"outlinewidth\":0,\"ticks\":\"\"}}}],\"scatterpolargl\":[{\"type\":\"scatterpolargl\",\"marker\":{\"colorbar\":{\"outlinewidth\":0,\"ticks\":\"\"}}}],\"bar\":[{\"error_x\":{\"color\":\"#2a3f5f\"},\"error_y\":{\"color\":\"#2a3f5f\"},\"marker\":{\"line\":{\"color\":\"#E5ECF6\",\"width\":0.5},\"pattern\":{\"fillmode\":\"overlay\",\"size\":10,\"solidity\":0.2}},\"type\":\"bar\"}],\"scattergeo\":[{\"type\":\"scattergeo\",\"marker\":{\"colorbar\":{\"outlinewidth\":0,\"ticks\":\"\"}}}],\"scatterpolar\":[{\"type\":\"scatterpolar\",\"marker\":{\"colorbar\":{\"outlinewidth\":0,\"ticks\":\"\"}}}],\"histogram\":[{\"marker\":{\"pattern\":{\"fillmode\":\"overlay\",\"size\":10,\"solidity\":0.2}},\"type\":\"histogram\"}],\"scattergl\":[{\"type\":\"scattergl\",\"marker\":{\"colorbar\":{\"outlinewidth\":0,\"ticks\":\"\"}}}],\"scatter3d\":[{\"type\":\"scatter3d\",\"line\":{\"colorbar\":{\"outlinewidth\":0,\"ticks\":\"\"}},\"marker\":{\"colorbar\":{\"outlinewidth\":0,\"ticks\":\"\"}}}],\"scattermapbox\":[{\"type\":\"scattermapbox\",\"marker\":{\"colorbar\":{\"outlinewidth\":0,\"ticks\":\"\"}}}],\"scatterternary\":[{\"type\":\"scatterternary\",\"marker\":{\"colorbar\":{\"outlinewidth\":0,\"ticks\":\"\"}}}],\"scattercarpet\":[{\"type\":\"scattercarpet\",\"marker\":{\"colorbar\":{\"outlinewidth\":0,\"ticks\":\"\"}}}],\"carpet\":[{\"aaxis\":{\"endlinecolor\":\"#2a3f5f\",\"gridcolor\":\"white\",\"linecolor\":\"white\",\"minorgridcolor\":\"white\",\"startlinecolor\":\"#2a3f5f\"},\"baxis\":{\"endlinecolor\":\"#2a3f5f\",\"gridcolor\":\"white\",\"linecolor\":\"white\",\"minorgridcolor\":\"white\",\"startlinecolor\":\"#2a3f5f\"},\"type\":\"carpet\"}],\"table\":[{\"cells\":{\"fill\":{\"color\":\"#EBF0F8\"},\"line\":{\"color\":\"white\"}},\"header\":{\"fill\":{\"color\":\"#C8D4E3\"},\"line\":{\"color\":\"white\"}},\"type\":\"table\"}],\"barpolar\":[{\"marker\":{\"line\":{\"color\":\"#E5ECF6\",\"width\":0.5},\"pattern\":{\"fillmode\":\"overlay\",\"size\":10,\"solidity\":0.2}},\"type\":\"barpolar\"}],\"pie\":[{\"automargin\":true,\"type\":\"pie\"}]},\"layout\":{\"autotypenumbers\":\"strict\",\"colorway\":[\"#636efa\",\"#EF553B\",\"#00cc96\",\"#ab63fa\",\"#FFA15A\",\"#19d3f3\",\"#FF6692\",\"#B6E880\",\"#FF97FF\",\"#FECB52\"],\"font\":{\"color\":\"#2a3f5f\"},\"hovermode\":\"closest\",\"hoverlabel\":{\"align\":\"left\"},\"paper_bgcolor\":\"white\",\"plot_bgcolor\":\"#E5ECF6\",\"polar\":{\"bgcolor\":\"#E5ECF6\",\"angularaxis\":{\"gridcolor\":\"white\",\"linecolor\":\"white\",\"ticks\":\"\"},\"radialaxis\":{\"gridcolor\":\"white\",\"linecolor\":\"white\",\"ticks\":\"\"}},\"ternary\":{\"bgcolor\":\"#E5ECF6\",\"aaxis\":{\"gridcolor\":\"white\",\"linecolor\":\"white\",\"ticks\":\"\"},\"baxis\":{\"gridcolor\":\"white\",\"linecolor\":\"white\",\"ticks\":\"\"},\"caxis\":{\"gridcolor\":\"white\",\"linecolor\":\"white\",\"ticks\":\"\"}},\"coloraxis\":{\"colorbar\":{\"outlinewidth\":0,\"ticks\":\"\"}},\"colorscale\":{\"sequential\":[[0.0,\"#0d0887\"],[0.1111111111111111,\"#46039f\"],[0.2222222222222222,\"#7201a8\"],[0.3333333333333333,\"#9c179e\"],[0.4444444444444444,\"#bd3786\"],[0.5555555555555556,\"#d8576b\"],[0.6666666666666666,\"#ed7953\"],[0.7777777777777778,\"#fb9f3a\"],[0.8888888888888888,\"#fdca26\"],[1.0,\"#f0f921\"]],\"sequentialminus\":[[0.0,\"#0d0887\"],[0.1111111111111111,\"#46039f\"],[0.2222222222222222,\"#7201a8\"],[0.3333333333333333,\"#9c179e\"],[0.4444444444444444,\"#bd3786\"],[0.5555555555555556,\"#d8576b\"],[0.6666666666666666,\"#ed7953\"],[0.7777777777777778,\"#fb9f3a\"],[0.8888888888888888,\"#fdca26\"],[1.0,\"#f0f921\"]],\"diverging\":[[0,\"#8e0152\"],[0.1,\"#c51b7d\"],[0.2,\"#de77ae\"],[0.3,\"#f1b6da\"],[0.4,\"#fde0ef\"],[0.5,\"#f7f7f7\"],[0.6,\"#e6f5d0\"],[0.7,\"#b8e186\"],[0.8,\"#7fbc41\"],[0.9,\"#4d9221\"],[1,\"#276419\"]]},\"xaxis\":{\"gridcolor\":\"white\",\"linecolor\":\"white\",\"ticks\":\"\",\"title\":{\"standoff\":15},\"zerolinecolor\":\"white\",\"automargin\":true,\"zerolinewidth\":2},\"yaxis\":{\"gridcolor\":\"white\",\"linecolor\":\"white\",\"ticks\":\"\",\"title\":{\"standoff\":15},\"zerolinecolor\":\"white\",\"automargin\":true,\"zerolinewidth\":2},\"scene\":{\"xaxis\":{\"backgroundcolor\":\"#E5ECF6\",\"gridcolor\":\"white\",\"linecolor\":\"white\",\"showbackground\":true,\"ticks\":\"\",\"zerolinecolor\":\"white\",\"gridwidth\":2},\"yaxis\":{\"backgroundcolor\":\"#E5ECF6\",\"gridcolor\":\"white\",\"linecolor\":\"white\",\"showbackground\":true,\"ticks\":\"\",\"zerolinecolor\":\"white\",\"gridwidth\":2},\"zaxis\":{\"backgroundcolor\":\"#E5ECF6\",\"gridcolor\":\"white\",\"linecolor\":\"white\",\"showbackground\":true,\"ticks\":\"\",\"zerolinecolor\":\"white\",\"gridwidth\":2}},\"shapedefaults\":{\"line\":{\"color\":\"#2a3f5f\"}},\"annotationdefaults\":{\"arrowcolor\":\"#2a3f5f\",\"arrowhead\":0,\"arrowwidth\":1},\"geo\":{\"bgcolor\":\"white\",\"landcolor\":\"#E5ECF6\",\"subunitcolor\":\"white\",\"showland\":true,\"showlakes\":true,\"lakecolor\":\"white\"},\"title\":{\"x\":0.05},\"mapbox\":{\"style\":\"light\"}}}},                        {\"responsive\": true}                    ).then(function(){\n",
              "                            \n",
              "var gd = document.getElementById('8295b8ef-6aaa-4b9e-919a-d3fb5d200a51');\n",
              "var x = new MutationObserver(function (mutations, observer) {{\n",
              "        var display = window.getComputedStyle(gd).display;\n",
              "        if (!display || display === 'none') {{\n",
              "            console.log([gd, 'removed!']);\n",
              "            Plotly.purge(gd);\n",
              "            observer.disconnect();\n",
              "        }}\n",
              "}});\n",
              "\n",
              "// Listen for the removal of the full notebook cells\n",
              "var notebookContainer = gd.closest('#notebook-container');\n",
              "if (notebookContainer) {{\n",
              "    x.observe(notebookContainer, {childList: true});\n",
              "}}\n",
              "\n",
              "// Listen for the clearing of the current output cell\n",
              "var outputEl = gd.closest('.output');\n",
              "if (outputEl) {{\n",
              "    x.observe(outputEl, {childList: true});\n",
              "}}\n",
              "\n",
              "                        })                };                            </script>        </div>\n",
              "</body>\n",
              "</html>"
            ]
          },
          "metadata": {}
        }
      ],
      "source": [
        "fig = go.Figure(data=[go.Pie(title='Доля покупателей по категориям', labels=df.groupby('category')['category'].count().index,values=df.groupby('category')['customer_id'].nunique())])\n",
        "fig.show()"
      ]
    },
    {
      "cell_type": "markdown",
      "metadata": {
        "id": "c-Nk3I4EF7Kf"
      },
      "source": [
        "Больше всего покупателей в категории растения (639), меньше всего в инструментах (383)."
      ]
    },
    {
      "cell_type": "markdown",
      "metadata": {
        "id": "r7DbmkRPF7Kf"
      },
      "source": [
        "### Создание кластеров"
      ]
    },
    {
      "cell_type": "code",
      "execution_count": 92,
      "metadata": {
        "id": "RUm9XHx1F7Kf"
      },
      "outputs": [],
      "source": [
        "a=customers.query('order_id>2')\n",
        "o=customers.query('quantity>10')"
      ]
    },
    {
      "cell_type": "code",
      "execution_count": 93,
      "metadata": {
        "colab": {
          "base_uri": "https://localhost:8080/"
        },
        "id": "tyZBolGfF7Kf",
        "outputId": "a2a5f0a4-6325-4e16-e3b0-72d3d302d8b1"
      },
      "outputs": [
        {
          "output_type": "stream",
          "name": "stdout",
          "text": [
            "Медианный чек пользователя: 712.0\n",
            "Количество пользователй с маленьким чеком: 2823\n",
            "Количество пользователй с маленьким чеком и большим количеством заказов на покупателя (>2): 260\n",
            "Количество пользователй со средний чеком: 693\n",
            "Количество пользователй со средний чеком и большим количеством заказов на покупателя (>2): 73\n",
            "Количество пользователй с большим чеком: 734\n",
            "Количество пользователй с большим чеком и большим количеством заказов на покупателя (>2): 91\n",
            "Количество пользователй-оптовиков (более 10 предметов в заказе): 132\n"
          ]
        }
      ],
      "source": [
        "y=customers['total'].median()\n",
        "print('Медианный чек пользователя:',y)\n",
        "below=df.query('total<@y*.60 & customer_id not in @a.index & customer_id not in @o.index')\n",
        "below_elite=df.query('total<@y*.60 & customer_id in @a.index & customer_id not in @o.index')\n",
        "average=df.query('total>@y*.60 & total<@y*1.4 & customer_id not in @a.index & customer_id not in @o.index')\n",
        "average_elite=df.query('total>@y*.60 & total<@y*1.4 & customer_id in @a.index & customer_id not in @o.index')\n",
        "above=df.query('total>@y*1.4 & customer_id not in @a.index & customer_id not in @o.index')\n",
        "above_elite=df.query('total>@y*1.4 & customer_id in @a.index & customer_id not in @o.index')\n",
        "opt=df.query('customer_id in @o.index')\n",
        "print('Количество пользователй с маленьким чеком:',len(below))\n",
        "print('Количество пользователй с маленьким чеком и большим количеством заказов на покупателя (>2):',len(below_elite))\n",
        "print('Количество пользователй со средний чеком:',len(average))\n",
        "print('Количество пользователй со средний чеком и большим количеством заказов на покупателя (>2):',len(average_elite))\n",
        "print('Количество пользователй с большим чеком:',len(above))\n",
        "print('Количество пользователй с большим чеком и большим количеством заказов на покупателя (>2):',len(above_elite))\n",
        "print('Количество пользователй-оптовиков (более 10 предметов в заказе):',len(opt))"
      ]
    },
    {
      "cell_type": "markdown",
      "metadata": {
        "id": "V4hCOev5F7Kg"
      },
      "source": [
        "Создано семь кластеров пользователей по таким показателям: \n",
        "1. Средний чек кластера меньше среднего чека реди всех пользователей на 40% и количество заказов меньше 3\n",
        "2. Средний чек кластера меньше среднего чека реди всех пользователей на 40% и количество заказов больше 2\n",
        "3. Средний чек от 0.6 общего до 1.4 общего и количество заказов меньше 3\n",
        "4. Средний чек от 0.6 общего до 1.4 общего и количество заказов больше 2\n",
        "5. Выше 1.4 от общего чека и количество заказов меньше 3\n",
        "6. Выше 1.4 от общего чека и количество заказов больше 2\n",
        "7. Оптовики с более чем 10 предметами в заказе"
      ]
    },
    {
      "cell_type": "code",
      "execution_count": 94,
      "metadata": {
        "id": "Lb-tDUzhF7Kh"
      },
      "outputs": [],
      "source": [
        "totals=[below['total'].sum(),below_elite['total'].sum(),average['total'].sum(),average_elite['total'].sum(),\\\n",
        "        above['total'].sum(),above_elite['total'].sum(),opt['total'].sum()]\n",
        "labels=['Мелкий чек','Мелкий чек, много заказов','Средний чек','Средний чек, много заказов',\\\n",
        "        'Крупный чек','Крупный чек, много заказов','Оптовики']"
      ]
    },
    {
      "cell_type": "code",
      "execution_count": 95,
      "metadata": {
        "colab": {
          "base_uri": "https://localhost:8080/",
          "height": 542
        },
        "id": "PdPY1jK7F7Kh",
        "outputId": "6ce6c346-7b8d-4655-e6b9-7c258f64d293"
      },
      "outputs": [
        {
          "output_type": "display_data",
          "data": {
            "text/html": [
              "<html>\n",
              "<head><meta charset=\"utf-8\" /></head>\n",
              "<body>\n",
              "    <div>            <script src=\"https://cdnjs.cloudflare.com/ajax/libs/mathjax/2.7.5/MathJax.js?config=TeX-AMS-MML_SVG\"></script><script type=\"text/javascript\">if (window.MathJax && window.MathJax.Hub && window.MathJax.Hub.Config) {window.MathJax.Hub.Config({SVG: {font: \"STIX-Web\"}});}</script>                <script type=\"text/javascript\">window.PlotlyConfig = {MathJaxConfig: 'local'};</script>\n",
              "        <script src=\"https://cdn.plot.ly/plotly-2.18.2.min.js\"></script>                <div id=\"6cb3d7b3-8d5d-4418-bd6a-6695c873c58e\" class=\"plotly-graph-div\" style=\"height:525px; width:100%;\"></div>            <script type=\"text/javascript\">                                    window.PLOTLYENV=window.PLOTLYENV || {};                                    if (document.getElementById(\"6cb3d7b3-8d5d-4418-bd6a-6695c873c58e\")) {                    Plotly.newPlot(                        \"6cb3d7b3-8d5d-4418-bd6a-6695c873c58e\",                        [{\"labels\":[\"\\u041c\\u0435\\u043b\\u043a\\u0438\\u0439 \\u0447\\u0435\\u043a\",\"\\u041c\\u0435\\u043b\\u043a\\u0438\\u0439 \\u0447\\u0435\\u043a, \\u043c\\u043d\\u043e\\u0433\\u043e \\u0437\\u0430\\u043a\\u0430\\u0437\\u043e\\u0432\",\"\\u0421\\u0440\\u0435\\u0434\\u043d\\u0438\\u0439 \\u0447\\u0435\\u043a\",\"\\u0421\\u0440\\u0435\\u0434\\u043d\\u0438\\u0439 \\u0447\\u0435\\u043a, \\u043c\\u043d\\u043e\\u0433\\u043e \\u0437\\u0430\\u043a\\u0430\\u0437\\u043e\\u0432\",\"\\u041a\\u0440\\u0443\\u043f\\u043d\\u044b\\u0439 \\u0447\\u0435\\u043a\",\"\\u041a\\u0440\\u0443\\u043f\\u043d\\u044b\\u0439 \\u0447\\u0435\\u043a, \\u043c\\u043d\\u043e\\u0433\\u043e \\u0437\\u0430\\u043a\\u0430\\u0437\\u043e\\u0432\",\"\\u041e\\u043f\\u0442\\u043e\\u0432\\u0438\\u043a\\u0438\"],\"title\":{\"text\":\"\\u041e\\u0431\\u0449\\u0430\\u044f \\u0432\\u044b\\u0440\\u0443\\u0447\\u043a\\u0430 \\u043f\\u043e \\u043a\\u043b\\u0430\\u0441\\u0442\\u0435\\u0440\\u0430\\u043c\"},\"values\":[426039.0,43929.0,457913.0,51375.0,1755735.0,215485.0,469139.0],\"type\":\"pie\"}],                        {\"template\":{\"data\":{\"histogram2dcontour\":[{\"type\":\"histogram2dcontour\",\"colorbar\":{\"outlinewidth\":0,\"ticks\":\"\"},\"colorscale\":[[0.0,\"#0d0887\"],[0.1111111111111111,\"#46039f\"],[0.2222222222222222,\"#7201a8\"],[0.3333333333333333,\"#9c179e\"],[0.4444444444444444,\"#bd3786\"],[0.5555555555555556,\"#d8576b\"],[0.6666666666666666,\"#ed7953\"],[0.7777777777777778,\"#fb9f3a\"],[0.8888888888888888,\"#fdca26\"],[1.0,\"#f0f921\"]]}],\"choropleth\":[{\"type\":\"choropleth\",\"colorbar\":{\"outlinewidth\":0,\"ticks\":\"\"}}],\"histogram2d\":[{\"type\":\"histogram2d\",\"colorbar\":{\"outlinewidth\":0,\"ticks\":\"\"},\"colorscale\":[[0.0,\"#0d0887\"],[0.1111111111111111,\"#46039f\"],[0.2222222222222222,\"#7201a8\"],[0.3333333333333333,\"#9c179e\"],[0.4444444444444444,\"#bd3786\"],[0.5555555555555556,\"#d8576b\"],[0.6666666666666666,\"#ed7953\"],[0.7777777777777778,\"#fb9f3a\"],[0.8888888888888888,\"#fdca26\"],[1.0,\"#f0f921\"]]}],\"heatmap\":[{\"type\":\"heatmap\",\"colorbar\":{\"outlinewidth\":0,\"ticks\":\"\"},\"colorscale\":[[0.0,\"#0d0887\"],[0.1111111111111111,\"#46039f\"],[0.2222222222222222,\"#7201a8\"],[0.3333333333333333,\"#9c179e\"],[0.4444444444444444,\"#bd3786\"],[0.5555555555555556,\"#d8576b\"],[0.6666666666666666,\"#ed7953\"],[0.7777777777777778,\"#fb9f3a\"],[0.8888888888888888,\"#fdca26\"],[1.0,\"#f0f921\"]]}],\"heatmapgl\":[{\"type\":\"heatmapgl\",\"colorbar\":{\"outlinewidth\":0,\"ticks\":\"\"},\"colorscale\":[[0.0,\"#0d0887\"],[0.1111111111111111,\"#46039f\"],[0.2222222222222222,\"#7201a8\"],[0.3333333333333333,\"#9c179e\"],[0.4444444444444444,\"#bd3786\"],[0.5555555555555556,\"#d8576b\"],[0.6666666666666666,\"#ed7953\"],[0.7777777777777778,\"#fb9f3a\"],[0.8888888888888888,\"#fdca26\"],[1.0,\"#f0f921\"]]}],\"contourcarpet\":[{\"type\":\"contourcarpet\",\"colorbar\":{\"outlinewidth\":0,\"ticks\":\"\"}}],\"contour\":[{\"type\":\"contour\",\"colorbar\":{\"outlinewidth\":0,\"ticks\":\"\"},\"colorscale\":[[0.0,\"#0d0887\"],[0.1111111111111111,\"#46039f\"],[0.2222222222222222,\"#7201a8\"],[0.3333333333333333,\"#9c179e\"],[0.4444444444444444,\"#bd3786\"],[0.5555555555555556,\"#d8576b\"],[0.6666666666666666,\"#ed7953\"],[0.7777777777777778,\"#fb9f3a\"],[0.8888888888888888,\"#fdca26\"],[1.0,\"#f0f921\"]]}],\"surface\":[{\"type\":\"surface\",\"colorbar\":{\"outlinewidth\":0,\"ticks\":\"\"},\"colorscale\":[[0.0,\"#0d0887\"],[0.1111111111111111,\"#46039f\"],[0.2222222222222222,\"#7201a8\"],[0.3333333333333333,\"#9c179e\"],[0.4444444444444444,\"#bd3786\"],[0.5555555555555556,\"#d8576b\"],[0.6666666666666666,\"#ed7953\"],[0.7777777777777778,\"#fb9f3a\"],[0.8888888888888888,\"#fdca26\"],[1.0,\"#f0f921\"]]}],\"mesh3d\":[{\"type\":\"mesh3d\",\"colorbar\":{\"outlinewidth\":0,\"ticks\":\"\"}}],\"scatter\":[{\"fillpattern\":{\"fillmode\":\"overlay\",\"size\":10,\"solidity\":0.2},\"type\":\"scatter\"}],\"parcoords\":[{\"type\":\"parcoords\",\"line\":{\"colorbar\":{\"outlinewidth\":0,\"ticks\":\"\"}}}],\"scatterpolargl\":[{\"type\":\"scatterpolargl\",\"marker\":{\"colorbar\":{\"outlinewidth\":0,\"ticks\":\"\"}}}],\"bar\":[{\"error_x\":{\"color\":\"#2a3f5f\"},\"error_y\":{\"color\":\"#2a3f5f\"},\"marker\":{\"line\":{\"color\":\"#E5ECF6\",\"width\":0.5},\"pattern\":{\"fillmode\":\"overlay\",\"size\":10,\"solidity\":0.2}},\"type\":\"bar\"}],\"scattergeo\":[{\"type\":\"scattergeo\",\"marker\":{\"colorbar\":{\"outlinewidth\":0,\"ticks\":\"\"}}}],\"scatterpolar\":[{\"type\":\"scatterpolar\",\"marker\":{\"colorbar\":{\"outlinewidth\":0,\"ticks\":\"\"}}}],\"histogram\":[{\"marker\":{\"pattern\":{\"fillmode\":\"overlay\",\"size\":10,\"solidity\":0.2}},\"type\":\"histogram\"}],\"scattergl\":[{\"type\":\"scattergl\",\"marker\":{\"colorbar\":{\"outlinewidth\":0,\"ticks\":\"\"}}}],\"scatter3d\":[{\"type\":\"scatter3d\",\"line\":{\"colorbar\":{\"outlinewidth\":0,\"ticks\":\"\"}},\"marker\":{\"colorbar\":{\"outlinewidth\":0,\"ticks\":\"\"}}}],\"scattermapbox\":[{\"type\":\"scattermapbox\",\"marker\":{\"colorbar\":{\"outlinewidth\":0,\"ticks\":\"\"}}}],\"scatterternary\":[{\"type\":\"scatterternary\",\"marker\":{\"colorbar\":{\"outlinewidth\":0,\"ticks\":\"\"}}}],\"scattercarpet\":[{\"type\":\"scattercarpet\",\"marker\":{\"colorbar\":{\"outlinewidth\":0,\"ticks\":\"\"}}}],\"carpet\":[{\"aaxis\":{\"endlinecolor\":\"#2a3f5f\",\"gridcolor\":\"white\",\"linecolor\":\"white\",\"minorgridcolor\":\"white\",\"startlinecolor\":\"#2a3f5f\"},\"baxis\":{\"endlinecolor\":\"#2a3f5f\",\"gridcolor\":\"white\",\"linecolor\":\"white\",\"minorgridcolor\":\"white\",\"startlinecolor\":\"#2a3f5f\"},\"type\":\"carpet\"}],\"table\":[{\"cells\":{\"fill\":{\"color\":\"#EBF0F8\"},\"line\":{\"color\":\"white\"}},\"header\":{\"fill\":{\"color\":\"#C8D4E3\"},\"line\":{\"color\":\"white\"}},\"type\":\"table\"}],\"barpolar\":[{\"marker\":{\"line\":{\"color\":\"#E5ECF6\",\"width\":0.5},\"pattern\":{\"fillmode\":\"overlay\",\"size\":10,\"solidity\":0.2}},\"type\":\"barpolar\"}],\"pie\":[{\"automargin\":true,\"type\":\"pie\"}]},\"layout\":{\"autotypenumbers\":\"strict\",\"colorway\":[\"#636efa\",\"#EF553B\",\"#00cc96\",\"#ab63fa\",\"#FFA15A\",\"#19d3f3\",\"#FF6692\",\"#B6E880\",\"#FF97FF\",\"#FECB52\"],\"font\":{\"color\":\"#2a3f5f\"},\"hovermode\":\"closest\",\"hoverlabel\":{\"align\":\"left\"},\"paper_bgcolor\":\"white\",\"plot_bgcolor\":\"#E5ECF6\",\"polar\":{\"bgcolor\":\"#E5ECF6\",\"angularaxis\":{\"gridcolor\":\"white\",\"linecolor\":\"white\",\"ticks\":\"\"},\"radialaxis\":{\"gridcolor\":\"white\",\"linecolor\":\"white\",\"ticks\":\"\"}},\"ternary\":{\"bgcolor\":\"#E5ECF6\",\"aaxis\":{\"gridcolor\":\"white\",\"linecolor\":\"white\",\"ticks\":\"\"},\"baxis\":{\"gridcolor\":\"white\",\"linecolor\":\"white\",\"ticks\":\"\"},\"caxis\":{\"gridcolor\":\"white\",\"linecolor\":\"white\",\"ticks\":\"\"}},\"coloraxis\":{\"colorbar\":{\"outlinewidth\":0,\"ticks\":\"\"}},\"colorscale\":{\"sequential\":[[0.0,\"#0d0887\"],[0.1111111111111111,\"#46039f\"],[0.2222222222222222,\"#7201a8\"],[0.3333333333333333,\"#9c179e\"],[0.4444444444444444,\"#bd3786\"],[0.5555555555555556,\"#d8576b\"],[0.6666666666666666,\"#ed7953\"],[0.7777777777777778,\"#fb9f3a\"],[0.8888888888888888,\"#fdca26\"],[1.0,\"#f0f921\"]],\"sequentialminus\":[[0.0,\"#0d0887\"],[0.1111111111111111,\"#46039f\"],[0.2222222222222222,\"#7201a8\"],[0.3333333333333333,\"#9c179e\"],[0.4444444444444444,\"#bd3786\"],[0.5555555555555556,\"#d8576b\"],[0.6666666666666666,\"#ed7953\"],[0.7777777777777778,\"#fb9f3a\"],[0.8888888888888888,\"#fdca26\"],[1.0,\"#f0f921\"]],\"diverging\":[[0,\"#8e0152\"],[0.1,\"#c51b7d\"],[0.2,\"#de77ae\"],[0.3,\"#f1b6da\"],[0.4,\"#fde0ef\"],[0.5,\"#f7f7f7\"],[0.6,\"#e6f5d0\"],[0.7,\"#b8e186\"],[0.8,\"#7fbc41\"],[0.9,\"#4d9221\"],[1,\"#276419\"]]},\"xaxis\":{\"gridcolor\":\"white\",\"linecolor\":\"white\",\"ticks\":\"\",\"title\":{\"standoff\":15},\"zerolinecolor\":\"white\",\"automargin\":true,\"zerolinewidth\":2},\"yaxis\":{\"gridcolor\":\"white\",\"linecolor\":\"white\",\"ticks\":\"\",\"title\":{\"standoff\":15},\"zerolinecolor\":\"white\",\"automargin\":true,\"zerolinewidth\":2},\"scene\":{\"xaxis\":{\"backgroundcolor\":\"#E5ECF6\",\"gridcolor\":\"white\",\"linecolor\":\"white\",\"showbackground\":true,\"ticks\":\"\",\"zerolinecolor\":\"white\",\"gridwidth\":2},\"yaxis\":{\"backgroundcolor\":\"#E5ECF6\",\"gridcolor\":\"white\",\"linecolor\":\"white\",\"showbackground\":true,\"ticks\":\"\",\"zerolinecolor\":\"white\",\"gridwidth\":2},\"zaxis\":{\"backgroundcolor\":\"#E5ECF6\",\"gridcolor\":\"white\",\"linecolor\":\"white\",\"showbackground\":true,\"ticks\":\"\",\"zerolinecolor\":\"white\",\"gridwidth\":2}},\"shapedefaults\":{\"line\":{\"color\":\"#2a3f5f\"}},\"annotationdefaults\":{\"arrowcolor\":\"#2a3f5f\",\"arrowhead\":0,\"arrowwidth\":1},\"geo\":{\"bgcolor\":\"white\",\"landcolor\":\"#E5ECF6\",\"subunitcolor\":\"white\",\"showland\":true,\"showlakes\":true,\"lakecolor\":\"white\"},\"title\":{\"x\":0.05},\"mapbox\":{\"style\":\"light\"}}}},                        {\"responsive\": true}                    ).then(function(){\n",
              "                            \n",
              "var gd = document.getElementById('6cb3d7b3-8d5d-4418-bd6a-6695c873c58e');\n",
              "var x = new MutationObserver(function (mutations, observer) {{\n",
              "        var display = window.getComputedStyle(gd).display;\n",
              "        if (!display || display === 'none') {{\n",
              "            console.log([gd, 'removed!']);\n",
              "            Plotly.purge(gd);\n",
              "            observer.disconnect();\n",
              "        }}\n",
              "}});\n",
              "\n",
              "// Listen for the removal of the full notebook cells\n",
              "var notebookContainer = gd.closest('#notebook-container');\n",
              "if (notebookContainer) {{\n",
              "    x.observe(notebookContainer, {childList: true});\n",
              "}}\n",
              "\n",
              "// Listen for the clearing of the current output cell\n",
              "var outputEl = gd.closest('.output');\n",
              "if (outputEl) {{\n",
              "    x.observe(outputEl, {childList: true});\n",
              "}}\n",
              "\n",
              "                        })                };                            </script>        </div>\n",
              "</body>\n",
              "</html>"
            ]
          },
          "metadata": {}
        }
      ],
      "source": [
        "fig = go.Figure(data=[go.Pie(title='Общая выручка по кластерам', labels=labels, values=totals)])\n",
        "fig.show()"
      ]
    },
    {
      "cell_type": "markdown",
      "metadata": {
        "id": "rp-WD_OrF7Kh"
      },
      "source": [
        "### Кластер \"below\""
      ]
    },
    {
      "cell_type": "code",
      "execution_count": 96,
      "metadata": {
        "colab": {
          "base_uri": "https://localhost:8080/",
          "height": 269
        },
        "id": "trr12x-ZF7Kh",
        "outputId": "2089b677-bc70-47a6-cab1-964a96b55b15"
      },
      "outputs": [
        {
          "output_type": "execute_result",
          "data": {
            "text/plain": [
              "                 total\n",
              "category              \n",
              "Растения          1847\n",
              "Кухня              445\n",
              "Товары для дома    337\n",
              "Клининг            118\n",
              "Инструменты         44\n",
              "Другое              32"
            ],
            "text/html": [
              "\n",
              "  <div id=\"df-05dfb45c-ad2c-4ec0-ad95-475a5711a28f\">\n",
              "    <div class=\"colab-df-container\">\n",
              "      <div>\n",
              "<style scoped>\n",
              "    .dataframe tbody tr th:only-of-type {\n",
              "        vertical-align: middle;\n",
              "    }\n",
              "\n",
              "    .dataframe tbody tr th {\n",
              "        vertical-align: top;\n",
              "    }\n",
              "\n",
              "    .dataframe thead th {\n",
              "        text-align: right;\n",
              "    }\n",
              "</style>\n",
              "<table border=\"1\" class=\"dataframe\">\n",
              "  <thead>\n",
              "    <tr style=\"text-align: right;\">\n",
              "      <th></th>\n",
              "      <th>total</th>\n",
              "    </tr>\n",
              "    <tr>\n",
              "      <th>category</th>\n",
              "      <th></th>\n",
              "    </tr>\n",
              "  </thead>\n",
              "  <tbody>\n",
              "    <tr>\n",
              "      <th>Растения</th>\n",
              "      <td>1847</td>\n",
              "    </tr>\n",
              "    <tr>\n",
              "      <th>Кухня</th>\n",
              "      <td>445</td>\n",
              "    </tr>\n",
              "    <tr>\n",
              "      <th>Товары для дома</th>\n",
              "      <td>337</td>\n",
              "    </tr>\n",
              "    <tr>\n",
              "      <th>Клининг</th>\n",
              "      <td>118</td>\n",
              "    </tr>\n",
              "    <tr>\n",
              "      <th>Инструменты</th>\n",
              "      <td>44</td>\n",
              "    </tr>\n",
              "    <tr>\n",
              "      <th>Другое</th>\n",
              "      <td>32</td>\n",
              "    </tr>\n",
              "  </tbody>\n",
              "</table>\n",
              "</div>\n",
              "      <button class=\"colab-df-convert\" onclick=\"convertToInteractive('df-05dfb45c-ad2c-4ec0-ad95-475a5711a28f')\"\n",
              "              title=\"Convert this dataframe to an interactive table.\"\n",
              "              style=\"display:none;\">\n",
              "        \n",
              "  <svg xmlns=\"http://www.w3.org/2000/svg\" height=\"24px\"viewBox=\"0 0 24 24\"\n",
              "       width=\"24px\">\n",
              "    <path d=\"M0 0h24v24H0V0z\" fill=\"none\"/>\n",
              "    <path d=\"M18.56 5.44l.94 2.06.94-2.06 2.06-.94-2.06-.94-.94-2.06-.94 2.06-2.06.94zm-11 1L8.5 8.5l.94-2.06 2.06-.94-2.06-.94L8.5 2.5l-.94 2.06-2.06.94zm10 10l.94 2.06.94-2.06 2.06-.94-2.06-.94-.94-2.06-.94 2.06-2.06.94z\"/><path d=\"M17.41 7.96l-1.37-1.37c-.4-.4-.92-.59-1.43-.59-.52 0-1.04.2-1.43.59L10.3 9.45l-7.72 7.72c-.78.78-.78 2.05 0 2.83L4 21.41c.39.39.9.59 1.41.59.51 0 1.02-.2 1.41-.59l7.78-7.78 2.81-2.81c.8-.78.8-2.07 0-2.86zM5.41 20L4 18.59l7.72-7.72 1.47 1.35L5.41 20z\"/>\n",
              "  </svg>\n",
              "      </button>\n",
              "      \n",
              "  <style>\n",
              "    .colab-df-container {\n",
              "      display:flex;\n",
              "      flex-wrap:wrap;\n",
              "      gap: 12px;\n",
              "    }\n",
              "\n",
              "    .colab-df-convert {\n",
              "      background-color: #E8F0FE;\n",
              "      border: none;\n",
              "      border-radius: 50%;\n",
              "      cursor: pointer;\n",
              "      display: none;\n",
              "      fill: #1967D2;\n",
              "      height: 32px;\n",
              "      padding: 0 0 0 0;\n",
              "      width: 32px;\n",
              "    }\n",
              "\n",
              "    .colab-df-convert:hover {\n",
              "      background-color: #E2EBFA;\n",
              "      box-shadow: 0px 1px 2px rgba(60, 64, 67, 0.3), 0px 1px 3px 1px rgba(60, 64, 67, 0.15);\n",
              "      fill: #174EA6;\n",
              "    }\n",
              "\n",
              "    [theme=dark] .colab-df-convert {\n",
              "      background-color: #3B4455;\n",
              "      fill: #D2E3FC;\n",
              "    }\n",
              "\n",
              "    [theme=dark] .colab-df-convert:hover {\n",
              "      background-color: #434B5C;\n",
              "      box-shadow: 0px 1px 3px 1px rgba(0, 0, 0, 0.15);\n",
              "      filter: drop-shadow(0px 1px 2px rgba(0, 0, 0, 0.3));\n",
              "      fill: #FFFFFF;\n",
              "    }\n",
              "  </style>\n",
              "\n",
              "      <script>\n",
              "        const buttonEl =\n",
              "          document.querySelector('#df-05dfb45c-ad2c-4ec0-ad95-475a5711a28f button.colab-df-convert');\n",
              "        buttonEl.style.display =\n",
              "          google.colab.kernel.accessAllowed ? 'block' : 'none';\n",
              "\n",
              "        async function convertToInteractive(key) {\n",
              "          const element = document.querySelector('#df-05dfb45c-ad2c-4ec0-ad95-475a5711a28f');\n",
              "          const dataTable =\n",
              "            await google.colab.kernel.invokeFunction('convertToInteractive',\n",
              "                                                     [key], {});\n",
              "          if (!dataTable) return;\n",
              "\n",
              "          const docLinkHtml = 'Like what you see? Visit the ' +\n",
              "            '<a target=\"_blank\" href=https://colab.research.google.com/notebooks/data_table.ipynb>data table notebook</a>'\n",
              "            + ' to learn more about interactive tables.';\n",
              "          element.innerHTML = '';\n",
              "          dataTable['output_type'] = 'display_data';\n",
              "          await google.colab.output.renderOutput(dataTable, element);\n",
              "          const docLink = document.createElement('div');\n",
              "          docLink.innerHTML = docLinkHtml;\n",
              "          element.appendChild(docLink);\n",
              "        }\n",
              "      </script>\n",
              "    </div>\n",
              "  </div>\n",
              "  "
            ]
          },
          "metadata": {},
          "execution_count": 96
        }
      ],
      "source": [
        "below.pivot_table(index='category',values='total',aggfunc='count').sort_values(by='total',ascending =False)"
      ]
    },
    {
      "cell_type": "code",
      "execution_count": 97,
      "metadata": {
        "colab": {
          "base_uri": "https://localhost:8080/",
          "height": 542
        },
        "id": "xBc7imFFF7Ki",
        "outputId": "c4787380-82b4-4a02-9cd0-7609097a1790"
      },
      "outputs": [
        {
          "output_type": "display_data",
          "data": {
            "text/html": [
              "<html>\n",
              "<head><meta charset=\"utf-8\" /></head>\n",
              "<body>\n",
              "    <div>            <script src=\"https://cdnjs.cloudflare.com/ajax/libs/mathjax/2.7.5/MathJax.js?config=TeX-AMS-MML_SVG\"></script><script type=\"text/javascript\">if (window.MathJax && window.MathJax.Hub && window.MathJax.Hub.Config) {window.MathJax.Hub.Config({SVG: {font: \"STIX-Web\"}});}</script>                <script type=\"text/javascript\">window.PlotlyConfig = {MathJaxConfig: 'local'};</script>\n",
              "        <script src=\"https://cdn.plot.ly/plotly-2.18.2.min.js\"></script>                <div id=\"fc38a881-5336-47fb-ae78-1a3d98538c9b\" class=\"plotly-graph-div\" style=\"height:525px; width:100%;\"></div>            <script type=\"text/javascript\">                                    window.PLOTLYENV=window.PLOTLYENV || {};                                    if (document.getElementById(\"fc38a881-5336-47fb-ae78-1a3d98538c9b\")) {                    Plotly.newPlot(                        \"fc38a881-5336-47fb-ae78-1a3d98538c9b\",                        [{\"mode\":\"lines\",\"stackgroup\":\"one\",\"x\":[\"2018-10-01T00:00:00\",\"2018-11-01T00:00:00\",\"2018-12-01T00:00:00\",\"2019-01-01T00:00:00\",\"2019-02-01T00:00:00\",\"2019-03-01T00:00:00\",\"2019-04-01T00:00:00\",\"2019-05-01T00:00:00\",\"2019-06-01T00:00:00\",\"2019-07-01T00:00:00\",\"2019-08-01T00:00:00\",\"2019-09-01T00:00:00\",\"2019-10-01T00:00:00\"],\"y\":[19778.0,15580.0,6894.0,4934.0,14957.0,26586.0,49144.0,57367.0,21484.0,15669.0,8659.0,9557.0,10485.0],\"type\":\"scatter\"}],                        {\"template\":{\"data\":{\"histogram2dcontour\":[{\"type\":\"histogram2dcontour\",\"colorbar\":{\"outlinewidth\":0,\"ticks\":\"\"},\"colorscale\":[[0.0,\"#0d0887\"],[0.1111111111111111,\"#46039f\"],[0.2222222222222222,\"#7201a8\"],[0.3333333333333333,\"#9c179e\"],[0.4444444444444444,\"#bd3786\"],[0.5555555555555556,\"#d8576b\"],[0.6666666666666666,\"#ed7953\"],[0.7777777777777778,\"#fb9f3a\"],[0.8888888888888888,\"#fdca26\"],[1.0,\"#f0f921\"]]}],\"choropleth\":[{\"type\":\"choropleth\",\"colorbar\":{\"outlinewidth\":0,\"ticks\":\"\"}}],\"histogram2d\":[{\"type\":\"histogram2d\",\"colorbar\":{\"outlinewidth\":0,\"ticks\":\"\"},\"colorscale\":[[0.0,\"#0d0887\"],[0.1111111111111111,\"#46039f\"],[0.2222222222222222,\"#7201a8\"],[0.3333333333333333,\"#9c179e\"],[0.4444444444444444,\"#bd3786\"],[0.5555555555555556,\"#d8576b\"],[0.6666666666666666,\"#ed7953\"],[0.7777777777777778,\"#fb9f3a\"],[0.8888888888888888,\"#fdca26\"],[1.0,\"#f0f921\"]]}],\"heatmap\":[{\"type\":\"heatmap\",\"colorbar\":{\"outlinewidth\":0,\"ticks\":\"\"},\"colorscale\":[[0.0,\"#0d0887\"],[0.1111111111111111,\"#46039f\"],[0.2222222222222222,\"#7201a8\"],[0.3333333333333333,\"#9c179e\"],[0.4444444444444444,\"#bd3786\"],[0.5555555555555556,\"#d8576b\"],[0.6666666666666666,\"#ed7953\"],[0.7777777777777778,\"#fb9f3a\"],[0.8888888888888888,\"#fdca26\"],[1.0,\"#f0f921\"]]}],\"heatmapgl\":[{\"type\":\"heatmapgl\",\"colorbar\":{\"outlinewidth\":0,\"ticks\":\"\"},\"colorscale\":[[0.0,\"#0d0887\"],[0.1111111111111111,\"#46039f\"],[0.2222222222222222,\"#7201a8\"],[0.3333333333333333,\"#9c179e\"],[0.4444444444444444,\"#bd3786\"],[0.5555555555555556,\"#d8576b\"],[0.6666666666666666,\"#ed7953\"],[0.7777777777777778,\"#fb9f3a\"],[0.8888888888888888,\"#fdca26\"],[1.0,\"#f0f921\"]]}],\"contourcarpet\":[{\"type\":\"contourcarpet\",\"colorbar\":{\"outlinewidth\":0,\"ticks\":\"\"}}],\"contour\":[{\"type\":\"contour\",\"colorbar\":{\"outlinewidth\":0,\"ticks\":\"\"},\"colorscale\":[[0.0,\"#0d0887\"],[0.1111111111111111,\"#46039f\"],[0.2222222222222222,\"#7201a8\"],[0.3333333333333333,\"#9c179e\"],[0.4444444444444444,\"#bd3786\"],[0.5555555555555556,\"#d8576b\"],[0.6666666666666666,\"#ed7953\"],[0.7777777777777778,\"#fb9f3a\"],[0.8888888888888888,\"#fdca26\"],[1.0,\"#f0f921\"]]}],\"surface\":[{\"type\":\"surface\",\"colorbar\":{\"outlinewidth\":0,\"ticks\":\"\"},\"colorscale\":[[0.0,\"#0d0887\"],[0.1111111111111111,\"#46039f\"],[0.2222222222222222,\"#7201a8\"],[0.3333333333333333,\"#9c179e\"],[0.4444444444444444,\"#bd3786\"],[0.5555555555555556,\"#d8576b\"],[0.6666666666666666,\"#ed7953\"],[0.7777777777777778,\"#fb9f3a\"],[0.8888888888888888,\"#fdca26\"],[1.0,\"#f0f921\"]]}],\"mesh3d\":[{\"type\":\"mesh3d\",\"colorbar\":{\"outlinewidth\":0,\"ticks\":\"\"}}],\"scatter\":[{\"fillpattern\":{\"fillmode\":\"overlay\",\"size\":10,\"solidity\":0.2},\"type\":\"scatter\"}],\"parcoords\":[{\"type\":\"parcoords\",\"line\":{\"colorbar\":{\"outlinewidth\":0,\"ticks\":\"\"}}}],\"scatterpolargl\":[{\"type\":\"scatterpolargl\",\"marker\":{\"colorbar\":{\"outlinewidth\":0,\"ticks\":\"\"}}}],\"bar\":[{\"error_x\":{\"color\":\"#2a3f5f\"},\"error_y\":{\"color\":\"#2a3f5f\"},\"marker\":{\"line\":{\"color\":\"#E5ECF6\",\"width\":0.5},\"pattern\":{\"fillmode\":\"overlay\",\"size\":10,\"solidity\":0.2}},\"type\":\"bar\"}],\"scattergeo\":[{\"type\":\"scattergeo\",\"marker\":{\"colorbar\":{\"outlinewidth\":0,\"ticks\":\"\"}}}],\"scatterpolar\":[{\"type\":\"scatterpolar\",\"marker\":{\"colorbar\":{\"outlinewidth\":0,\"ticks\":\"\"}}}],\"histogram\":[{\"marker\":{\"pattern\":{\"fillmode\":\"overlay\",\"size\":10,\"solidity\":0.2}},\"type\":\"histogram\"}],\"scattergl\":[{\"type\":\"scattergl\",\"marker\":{\"colorbar\":{\"outlinewidth\":0,\"ticks\":\"\"}}}],\"scatter3d\":[{\"type\":\"scatter3d\",\"line\":{\"colorbar\":{\"outlinewidth\":0,\"ticks\":\"\"}},\"marker\":{\"colorbar\":{\"outlinewidth\":0,\"ticks\":\"\"}}}],\"scattermapbox\":[{\"type\":\"scattermapbox\",\"marker\":{\"colorbar\":{\"outlinewidth\":0,\"ticks\":\"\"}}}],\"scatterternary\":[{\"type\":\"scatterternary\",\"marker\":{\"colorbar\":{\"outlinewidth\":0,\"ticks\":\"\"}}}],\"scattercarpet\":[{\"type\":\"scattercarpet\",\"marker\":{\"colorbar\":{\"outlinewidth\":0,\"ticks\":\"\"}}}],\"carpet\":[{\"aaxis\":{\"endlinecolor\":\"#2a3f5f\",\"gridcolor\":\"white\",\"linecolor\":\"white\",\"minorgridcolor\":\"white\",\"startlinecolor\":\"#2a3f5f\"},\"baxis\":{\"endlinecolor\":\"#2a3f5f\",\"gridcolor\":\"white\",\"linecolor\":\"white\",\"minorgridcolor\":\"white\",\"startlinecolor\":\"#2a3f5f\"},\"type\":\"carpet\"}],\"table\":[{\"cells\":{\"fill\":{\"color\":\"#EBF0F8\"},\"line\":{\"color\":\"white\"}},\"header\":{\"fill\":{\"color\":\"#C8D4E3\"},\"line\":{\"color\":\"white\"}},\"type\":\"table\"}],\"barpolar\":[{\"marker\":{\"line\":{\"color\":\"#E5ECF6\",\"width\":0.5},\"pattern\":{\"fillmode\":\"overlay\",\"size\":10,\"solidity\":0.2}},\"type\":\"barpolar\"}],\"pie\":[{\"automargin\":true,\"type\":\"pie\"}]},\"layout\":{\"autotypenumbers\":\"strict\",\"colorway\":[\"#636efa\",\"#EF553B\",\"#00cc96\",\"#ab63fa\",\"#FFA15A\",\"#19d3f3\",\"#FF6692\",\"#B6E880\",\"#FF97FF\",\"#FECB52\"],\"font\":{\"color\":\"#2a3f5f\"},\"hovermode\":\"closest\",\"hoverlabel\":{\"align\":\"left\"},\"paper_bgcolor\":\"white\",\"plot_bgcolor\":\"#E5ECF6\",\"polar\":{\"bgcolor\":\"#E5ECF6\",\"angularaxis\":{\"gridcolor\":\"white\",\"linecolor\":\"white\",\"ticks\":\"\"},\"radialaxis\":{\"gridcolor\":\"white\",\"linecolor\":\"white\",\"ticks\":\"\"}},\"ternary\":{\"bgcolor\":\"#E5ECF6\",\"aaxis\":{\"gridcolor\":\"white\",\"linecolor\":\"white\",\"ticks\":\"\"},\"baxis\":{\"gridcolor\":\"white\",\"linecolor\":\"white\",\"ticks\":\"\"},\"caxis\":{\"gridcolor\":\"white\",\"linecolor\":\"white\",\"ticks\":\"\"}},\"coloraxis\":{\"colorbar\":{\"outlinewidth\":0,\"ticks\":\"\"}},\"colorscale\":{\"sequential\":[[0.0,\"#0d0887\"],[0.1111111111111111,\"#46039f\"],[0.2222222222222222,\"#7201a8\"],[0.3333333333333333,\"#9c179e\"],[0.4444444444444444,\"#bd3786\"],[0.5555555555555556,\"#d8576b\"],[0.6666666666666666,\"#ed7953\"],[0.7777777777777778,\"#fb9f3a\"],[0.8888888888888888,\"#fdca26\"],[1.0,\"#f0f921\"]],\"sequentialminus\":[[0.0,\"#0d0887\"],[0.1111111111111111,\"#46039f\"],[0.2222222222222222,\"#7201a8\"],[0.3333333333333333,\"#9c179e\"],[0.4444444444444444,\"#bd3786\"],[0.5555555555555556,\"#d8576b\"],[0.6666666666666666,\"#ed7953\"],[0.7777777777777778,\"#fb9f3a\"],[0.8888888888888888,\"#fdca26\"],[1.0,\"#f0f921\"]],\"diverging\":[[0,\"#8e0152\"],[0.1,\"#c51b7d\"],[0.2,\"#de77ae\"],[0.3,\"#f1b6da\"],[0.4,\"#fde0ef\"],[0.5,\"#f7f7f7\"],[0.6,\"#e6f5d0\"],[0.7,\"#b8e186\"],[0.8,\"#7fbc41\"],[0.9,\"#4d9221\"],[1,\"#276419\"]]},\"xaxis\":{\"gridcolor\":\"white\",\"linecolor\":\"white\",\"ticks\":\"\",\"title\":{\"standoff\":15},\"zerolinecolor\":\"white\",\"automargin\":true,\"zerolinewidth\":2},\"yaxis\":{\"gridcolor\":\"white\",\"linecolor\":\"white\",\"ticks\":\"\",\"title\":{\"standoff\":15},\"zerolinecolor\":\"white\",\"automargin\":true,\"zerolinewidth\":2},\"scene\":{\"xaxis\":{\"backgroundcolor\":\"#E5ECF6\",\"gridcolor\":\"white\",\"linecolor\":\"white\",\"showbackground\":true,\"ticks\":\"\",\"zerolinecolor\":\"white\",\"gridwidth\":2},\"yaxis\":{\"backgroundcolor\":\"#E5ECF6\",\"gridcolor\":\"white\",\"linecolor\":\"white\",\"showbackground\":true,\"ticks\":\"\",\"zerolinecolor\":\"white\",\"gridwidth\":2},\"zaxis\":{\"backgroundcolor\":\"#E5ECF6\",\"gridcolor\":\"white\",\"linecolor\":\"white\",\"showbackground\":true,\"ticks\":\"\",\"zerolinecolor\":\"white\",\"gridwidth\":2}},\"shapedefaults\":{\"line\":{\"color\":\"#2a3f5f\"}},\"annotationdefaults\":{\"arrowcolor\":\"#2a3f5f\",\"arrowhead\":0,\"arrowwidth\":1},\"geo\":{\"bgcolor\":\"white\",\"landcolor\":\"#E5ECF6\",\"subunitcolor\":\"white\",\"showland\":true,\"showlakes\":true,\"lakecolor\":\"white\"},\"title\":{\"x\":0.05},\"mapbox\":{\"style\":\"light\"}}},\"title\":{\"text\":\"\\u0412\\u044b\\u0440\\u0443\\u0447\\u043a\\u0430 \\u043f\\u043e \\u043c\\u0435\\u0441\\u044f\\u0446\\u0430\\u043c\",\"xanchor\":\"center\",\"x\":0.5},\"yaxis\":{\"title\":{\"text\":\"\\u0412\\u044b\\u0440\\u0443\\u0447\\u043a\\u0430\"}},\"xaxis\":{\"title\":{\"text\":\"\\u041c\\u0435\\u0441\\u044f\\u0446\"}}},                        {\"responsive\": true}                    ).then(function(){\n",
              "                            \n",
              "var gd = document.getElementById('fc38a881-5336-47fb-ae78-1a3d98538c9b');\n",
              "var x = new MutationObserver(function (mutations, observer) {{\n",
              "        var display = window.getComputedStyle(gd).display;\n",
              "        if (!display || display === 'none') {{\n",
              "            console.log([gd, 'removed!']);\n",
              "            Plotly.purge(gd);\n",
              "            observer.disconnect();\n",
              "        }}\n",
              "}});\n",
              "\n",
              "// Listen for the removal of the full notebook cells\n",
              "var notebookContainer = gd.closest('#notebook-container');\n",
              "if (notebookContainer) {{\n",
              "    x.observe(notebookContainer, {childList: true});\n",
              "}}\n",
              "\n",
              "// Listen for the clearing of the current output cell\n",
              "var outputEl = gd.closest('.output');\n",
              "if (outputEl) {{\n",
              "    x.observe(outputEl, {childList: true});\n",
              "}}\n",
              "\n",
              "                        })                };                            </script>        </div>\n",
              "</body>\n",
              "</html>"
            ]
          },
          "metadata": {}
        }
      ],
      "source": [
        "grouped_by_date = below.query('category==\"Растения\"').groupby('month')\\\n",
        ".agg({'customer_id':'nunique', 'total':'sum'}).reset_index()\n",
        "\n",
        "fig = go.Figure(data=go.Scatter(x=grouped_by_date['month'], \n",
        "                                y=grouped_by_date['total'], \n",
        "                                mode='lines',\n",
        "                                stackgroup='one'))\n",
        "fig.update_layout(\n",
        "    title={\n",
        "        'text': \"Выручка по месяцам\",\n",
        "            'xanchor': 'center',\n",
        "        'x':0.5\n",
        "    },\n",
        "    yaxis_title=\"Выручка\",\n",
        "    xaxis_title=\"Месяц\")\n",
        "fig.show()"
      ]
    },
    {
      "cell_type": "markdown",
      "metadata": {
        "id": "YLfpoz35F7Ki"
      },
      "source": [
        "### Кластер \"below_elite\""
      ]
    },
    {
      "cell_type": "code",
      "execution_count": 98,
      "metadata": {
        "colab": {
          "base_uri": "https://localhost:8080/",
          "height": 269
        },
        "id": "ums8fu6CF7Kj",
        "outputId": "882aa081-74cc-452e-8432-ded15c271e57"
      },
      "outputs": [
        {
          "output_type": "execute_result",
          "data": {
            "text/plain": [
              "                 total\n",
              "category              \n",
              "Растения           180\n",
              "Кухня               32\n",
              "Товары для дома     21\n",
              "Клининг             14\n",
              "Инструменты          8\n",
              "Другое               5"
            ],
            "text/html": [
              "\n",
              "  <div id=\"df-81e1de9b-6326-4079-b334-58c25e144398\">\n",
              "    <div class=\"colab-df-container\">\n",
              "      <div>\n",
              "<style scoped>\n",
              "    .dataframe tbody tr th:only-of-type {\n",
              "        vertical-align: middle;\n",
              "    }\n",
              "\n",
              "    .dataframe tbody tr th {\n",
              "        vertical-align: top;\n",
              "    }\n",
              "\n",
              "    .dataframe thead th {\n",
              "        text-align: right;\n",
              "    }\n",
              "</style>\n",
              "<table border=\"1\" class=\"dataframe\">\n",
              "  <thead>\n",
              "    <tr style=\"text-align: right;\">\n",
              "      <th></th>\n",
              "      <th>total</th>\n",
              "    </tr>\n",
              "    <tr>\n",
              "      <th>category</th>\n",
              "      <th></th>\n",
              "    </tr>\n",
              "  </thead>\n",
              "  <tbody>\n",
              "    <tr>\n",
              "      <th>Растения</th>\n",
              "      <td>180</td>\n",
              "    </tr>\n",
              "    <tr>\n",
              "      <th>Кухня</th>\n",
              "      <td>32</td>\n",
              "    </tr>\n",
              "    <tr>\n",
              "      <th>Товары для дома</th>\n",
              "      <td>21</td>\n",
              "    </tr>\n",
              "    <tr>\n",
              "      <th>Клининг</th>\n",
              "      <td>14</td>\n",
              "    </tr>\n",
              "    <tr>\n",
              "      <th>Инструменты</th>\n",
              "      <td>8</td>\n",
              "    </tr>\n",
              "    <tr>\n",
              "      <th>Другое</th>\n",
              "      <td>5</td>\n",
              "    </tr>\n",
              "  </tbody>\n",
              "</table>\n",
              "</div>\n",
              "      <button class=\"colab-df-convert\" onclick=\"convertToInteractive('df-81e1de9b-6326-4079-b334-58c25e144398')\"\n",
              "              title=\"Convert this dataframe to an interactive table.\"\n",
              "              style=\"display:none;\">\n",
              "        \n",
              "  <svg xmlns=\"http://www.w3.org/2000/svg\" height=\"24px\"viewBox=\"0 0 24 24\"\n",
              "       width=\"24px\">\n",
              "    <path d=\"M0 0h24v24H0V0z\" fill=\"none\"/>\n",
              "    <path d=\"M18.56 5.44l.94 2.06.94-2.06 2.06-.94-2.06-.94-.94-2.06-.94 2.06-2.06.94zm-11 1L8.5 8.5l.94-2.06 2.06-.94-2.06-.94L8.5 2.5l-.94 2.06-2.06.94zm10 10l.94 2.06.94-2.06 2.06-.94-2.06-.94-.94-2.06-.94 2.06-2.06.94z\"/><path d=\"M17.41 7.96l-1.37-1.37c-.4-.4-.92-.59-1.43-.59-.52 0-1.04.2-1.43.59L10.3 9.45l-7.72 7.72c-.78.78-.78 2.05 0 2.83L4 21.41c.39.39.9.59 1.41.59.51 0 1.02-.2 1.41-.59l7.78-7.78 2.81-2.81c.8-.78.8-2.07 0-2.86zM5.41 20L4 18.59l7.72-7.72 1.47 1.35L5.41 20z\"/>\n",
              "  </svg>\n",
              "      </button>\n",
              "      \n",
              "  <style>\n",
              "    .colab-df-container {\n",
              "      display:flex;\n",
              "      flex-wrap:wrap;\n",
              "      gap: 12px;\n",
              "    }\n",
              "\n",
              "    .colab-df-convert {\n",
              "      background-color: #E8F0FE;\n",
              "      border: none;\n",
              "      border-radius: 50%;\n",
              "      cursor: pointer;\n",
              "      display: none;\n",
              "      fill: #1967D2;\n",
              "      height: 32px;\n",
              "      padding: 0 0 0 0;\n",
              "      width: 32px;\n",
              "    }\n",
              "\n",
              "    .colab-df-convert:hover {\n",
              "      background-color: #E2EBFA;\n",
              "      box-shadow: 0px 1px 2px rgba(60, 64, 67, 0.3), 0px 1px 3px 1px rgba(60, 64, 67, 0.15);\n",
              "      fill: #174EA6;\n",
              "    }\n",
              "\n",
              "    [theme=dark] .colab-df-convert {\n",
              "      background-color: #3B4455;\n",
              "      fill: #D2E3FC;\n",
              "    }\n",
              "\n",
              "    [theme=dark] .colab-df-convert:hover {\n",
              "      background-color: #434B5C;\n",
              "      box-shadow: 0px 1px 3px 1px rgba(0, 0, 0, 0.15);\n",
              "      filter: drop-shadow(0px 1px 2px rgba(0, 0, 0, 0.3));\n",
              "      fill: #FFFFFF;\n",
              "    }\n",
              "  </style>\n",
              "\n",
              "      <script>\n",
              "        const buttonEl =\n",
              "          document.querySelector('#df-81e1de9b-6326-4079-b334-58c25e144398 button.colab-df-convert');\n",
              "        buttonEl.style.display =\n",
              "          google.colab.kernel.accessAllowed ? 'block' : 'none';\n",
              "\n",
              "        async function convertToInteractive(key) {\n",
              "          const element = document.querySelector('#df-81e1de9b-6326-4079-b334-58c25e144398');\n",
              "          const dataTable =\n",
              "            await google.colab.kernel.invokeFunction('convertToInteractive',\n",
              "                                                     [key], {});\n",
              "          if (!dataTable) return;\n",
              "\n",
              "          const docLinkHtml = 'Like what you see? Visit the ' +\n",
              "            '<a target=\"_blank\" href=https://colab.research.google.com/notebooks/data_table.ipynb>data table notebook</a>'\n",
              "            + ' to learn more about interactive tables.';\n",
              "          element.innerHTML = '';\n",
              "          dataTable['output_type'] = 'display_data';\n",
              "          await google.colab.output.renderOutput(dataTable, element);\n",
              "          const docLink = document.createElement('div');\n",
              "          docLink.innerHTML = docLinkHtml;\n",
              "          element.appendChild(docLink);\n",
              "        }\n",
              "      </script>\n",
              "    </div>\n",
              "  </div>\n",
              "  "
            ]
          },
          "metadata": {},
          "execution_count": 98
        }
      ],
      "source": [
        "below_elite.pivot_table(index='category',values='total',aggfunc='count').sort_values(by='total',ascending =False)"
      ]
    },
    {
      "cell_type": "code",
      "execution_count": 99,
      "metadata": {
        "colab": {
          "base_uri": "https://localhost:8080/",
          "height": 542
        },
        "id": "iCMQUxuyF7Kj",
        "outputId": "99b9b77b-c7de-469e-d136-6f080aa2fe61"
      },
      "outputs": [
        {
          "output_type": "display_data",
          "data": {
            "text/html": [
              "<html>\n",
              "<head><meta charset=\"utf-8\" /></head>\n",
              "<body>\n",
              "    <div>            <script src=\"https://cdnjs.cloudflare.com/ajax/libs/mathjax/2.7.5/MathJax.js?config=TeX-AMS-MML_SVG\"></script><script type=\"text/javascript\">if (window.MathJax && window.MathJax.Hub && window.MathJax.Hub.Config) {window.MathJax.Hub.Config({SVG: {font: \"STIX-Web\"}});}</script>                <script type=\"text/javascript\">window.PlotlyConfig = {MathJaxConfig: 'local'};</script>\n",
              "        <script src=\"https://cdn.plot.ly/plotly-2.18.2.min.js\"></script>                <div id=\"db34b62a-2e61-41ca-9a38-7455c6c1cb43\" class=\"plotly-graph-div\" style=\"height:525px; width:100%;\"></div>            <script type=\"text/javascript\">                                    window.PLOTLYENV=window.PLOTLYENV || {};                                    if (document.getElementById(\"db34b62a-2e61-41ca-9a38-7455c6c1cb43\")) {                    Plotly.newPlot(                        \"db34b62a-2e61-41ca-9a38-7455c6c1cb43\",                        [{\"mode\":\"lines\",\"stackgroup\":\"one\",\"x\":[\"2018-10-01T00:00:00\",\"2018-11-01T00:00:00\",\"2018-12-01T00:00:00\",\"2019-01-01T00:00:00\",\"2019-02-01T00:00:00\",\"2019-03-01T00:00:00\",\"2019-04-01T00:00:00\",\"2019-05-01T00:00:00\",\"2019-06-01T00:00:00\",\"2019-07-01T00:00:00\",\"2019-08-01T00:00:00\",\"2019-10-01T00:00:00\"],\"y\":[4327.0,2921.0,3535.0,1926.0,4626.0,3636.0,8284.0,8096.0,1702.0,660.0,1891.0,2325.0],\"type\":\"scatter\"}],                        {\"template\":{\"data\":{\"histogram2dcontour\":[{\"type\":\"histogram2dcontour\",\"colorbar\":{\"outlinewidth\":0,\"ticks\":\"\"},\"colorscale\":[[0.0,\"#0d0887\"],[0.1111111111111111,\"#46039f\"],[0.2222222222222222,\"#7201a8\"],[0.3333333333333333,\"#9c179e\"],[0.4444444444444444,\"#bd3786\"],[0.5555555555555556,\"#d8576b\"],[0.6666666666666666,\"#ed7953\"],[0.7777777777777778,\"#fb9f3a\"],[0.8888888888888888,\"#fdca26\"],[1.0,\"#f0f921\"]]}],\"choropleth\":[{\"type\":\"choropleth\",\"colorbar\":{\"outlinewidth\":0,\"ticks\":\"\"}}],\"histogram2d\":[{\"type\":\"histogram2d\",\"colorbar\":{\"outlinewidth\":0,\"ticks\":\"\"},\"colorscale\":[[0.0,\"#0d0887\"],[0.1111111111111111,\"#46039f\"],[0.2222222222222222,\"#7201a8\"],[0.3333333333333333,\"#9c179e\"],[0.4444444444444444,\"#bd3786\"],[0.5555555555555556,\"#d8576b\"],[0.6666666666666666,\"#ed7953\"],[0.7777777777777778,\"#fb9f3a\"],[0.8888888888888888,\"#fdca26\"],[1.0,\"#f0f921\"]]}],\"heatmap\":[{\"type\":\"heatmap\",\"colorbar\":{\"outlinewidth\":0,\"ticks\":\"\"},\"colorscale\":[[0.0,\"#0d0887\"],[0.1111111111111111,\"#46039f\"],[0.2222222222222222,\"#7201a8\"],[0.3333333333333333,\"#9c179e\"],[0.4444444444444444,\"#bd3786\"],[0.5555555555555556,\"#d8576b\"],[0.6666666666666666,\"#ed7953\"],[0.7777777777777778,\"#fb9f3a\"],[0.8888888888888888,\"#fdca26\"],[1.0,\"#f0f921\"]]}],\"heatmapgl\":[{\"type\":\"heatmapgl\",\"colorbar\":{\"outlinewidth\":0,\"ticks\":\"\"},\"colorscale\":[[0.0,\"#0d0887\"],[0.1111111111111111,\"#46039f\"],[0.2222222222222222,\"#7201a8\"],[0.3333333333333333,\"#9c179e\"],[0.4444444444444444,\"#bd3786\"],[0.5555555555555556,\"#d8576b\"],[0.6666666666666666,\"#ed7953\"],[0.7777777777777778,\"#fb9f3a\"],[0.8888888888888888,\"#fdca26\"],[1.0,\"#f0f921\"]]}],\"contourcarpet\":[{\"type\":\"contourcarpet\",\"colorbar\":{\"outlinewidth\":0,\"ticks\":\"\"}}],\"contour\":[{\"type\":\"contour\",\"colorbar\":{\"outlinewidth\":0,\"ticks\":\"\"},\"colorscale\":[[0.0,\"#0d0887\"],[0.1111111111111111,\"#46039f\"],[0.2222222222222222,\"#7201a8\"],[0.3333333333333333,\"#9c179e\"],[0.4444444444444444,\"#bd3786\"],[0.5555555555555556,\"#d8576b\"],[0.6666666666666666,\"#ed7953\"],[0.7777777777777778,\"#fb9f3a\"],[0.8888888888888888,\"#fdca26\"],[1.0,\"#f0f921\"]]}],\"surface\":[{\"type\":\"surface\",\"colorbar\":{\"outlinewidth\":0,\"ticks\":\"\"},\"colorscale\":[[0.0,\"#0d0887\"],[0.1111111111111111,\"#46039f\"],[0.2222222222222222,\"#7201a8\"],[0.3333333333333333,\"#9c179e\"],[0.4444444444444444,\"#bd3786\"],[0.5555555555555556,\"#d8576b\"],[0.6666666666666666,\"#ed7953\"],[0.7777777777777778,\"#fb9f3a\"],[0.8888888888888888,\"#fdca26\"],[1.0,\"#f0f921\"]]}],\"mesh3d\":[{\"type\":\"mesh3d\",\"colorbar\":{\"outlinewidth\":0,\"ticks\":\"\"}}],\"scatter\":[{\"fillpattern\":{\"fillmode\":\"overlay\",\"size\":10,\"solidity\":0.2},\"type\":\"scatter\"}],\"parcoords\":[{\"type\":\"parcoords\",\"line\":{\"colorbar\":{\"outlinewidth\":0,\"ticks\":\"\"}}}],\"scatterpolargl\":[{\"type\":\"scatterpolargl\",\"marker\":{\"colorbar\":{\"outlinewidth\":0,\"ticks\":\"\"}}}],\"bar\":[{\"error_x\":{\"color\":\"#2a3f5f\"},\"error_y\":{\"color\":\"#2a3f5f\"},\"marker\":{\"line\":{\"color\":\"#E5ECF6\",\"width\":0.5},\"pattern\":{\"fillmode\":\"overlay\",\"size\":10,\"solidity\":0.2}},\"type\":\"bar\"}],\"scattergeo\":[{\"type\":\"scattergeo\",\"marker\":{\"colorbar\":{\"outlinewidth\":0,\"ticks\":\"\"}}}],\"scatterpolar\":[{\"type\":\"scatterpolar\",\"marker\":{\"colorbar\":{\"outlinewidth\":0,\"ticks\":\"\"}}}],\"histogram\":[{\"marker\":{\"pattern\":{\"fillmode\":\"overlay\",\"size\":10,\"solidity\":0.2}},\"type\":\"histogram\"}],\"scattergl\":[{\"type\":\"scattergl\",\"marker\":{\"colorbar\":{\"outlinewidth\":0,\"ticks\":\"\"}}}],\"scatter3d\":[{\"type\":\"scatter3d\",\"line\":{\"colorbar\":{\"outlinewidth\":0,\"ticks\":\"\"}},\"marker\":{\"colorbar\":{\"outlinewidth\":0,\"ticks\":\"\"}}}],\"scattermapbox\":[{\"type\":\"scattermapbox\",\"marker\":{\"colorbar\":{\"outlinewidth\":0,\"ticks\":\"\"}}}],\"scatterternary\":[{\"type\":\"scatterternary\",\"marker\":{\"colorbar\":{\"outlinewidth\":0,\"ticks\":\"\"}}}],\"scattercarpet\":[{\"type\":\"scattercarpet\",\"marker\":{\"colorbar\":{\"outlinewidth\":0,\"ticks\":\"\"}}}],\"carpet\":[{\"aaxis\":{\"endlinecolor\":\"#2a3f5f\",\"gridcolor\":\"white\",\"linecolor\":\"white\",\"minorgridcolor\":\"white\",\"startlinecolor\":\"#2a3f5f\"},\"baxis\":{\"endlinecolor\":\"#2a3f5f\",\"gridcolor\":\"white\",\"linecolor\":\"white\",\"minorgridcolor\":\"white\",\"startlinecolor\":\"#2a3f5f\"},\"type\":\"carpet\"}],\"table\":[{\"cells\":{\"fill\":{\"color\":\"#EBF0F8\"},\"line\":{\"color\":\"white\"}},\"header\":{\"fill\":{\"color\":\"#C8D4E3\"},\"line\":{\"color\":\"white\"}},\"type\":\"table\"}],\"barpolar\":[{\"marker\":{\"line\":{\"color\":\"#E5ECF6\",\"width\":0.5},\"pattern\":{\"fillmode\":\"overlay\",\"size\":10,\"solidity\":0.2}},\"type\":\"barpolar\"}],\"pie\":[{\"automargin\":true,\"type\":\"pie\"}]},\"layout\":{\"autotypenumbers\":\"strict\",\"colorway\":[\"#636efa\",\"#EF553B\",\"#00cc96\",\"#ab63fa\",\"#FFA15A\",\"#19d3f3\",\"#FF6692\",\"#B6E880\",\"#FF97FF\",\"#FECB52\"],\"font\":{\"color\":\"#2a3f5f\"},\"hovermode\":\"closest\",\"hoverlabel\":{\"align\":\"left\"},\"paper_bgcolor\":\"white\",\"plot_bgcolor\":\"#E5ECF6\",\"polar\":{\"bgcolor\":\"#E5ECF6\",\"angularaxis\":{\"gridcolor\":\"white\",\"linecolor\":\"white\",\"ticks\":\"\"},\"radialaxis\":{\"gridcolor\":\"white\",\"linecolor\":\"white\",\"ticks\":\"\"}},\"ternary\":{\"bgcolor\":\"#E5ECF6\",\"aaxis\":{\"gridcolor\":\"white\",\"linecolor\":\"white\",\"ticks\":\"\"},\"baxis\":{\"gridcolor\":\"white\",\"linecolor\":\"white\",\"ticks\":\"\"},\"caxis\":{\"gridcolor\":\"white\",\"linecolor\":\"white\",\"ticks\":\"\"}},\"coloraxis\":{\"colorbar\":{\"outlinewidth\":0,\"ticks\":\"\"}},\"colorscale\":{\"sequential\":[[0.0,\"#0d0887\"],[0.1111111111111111,\"#46039f\"],[0.2222222222222222,\"#7201a8\"],[0.3333333333333333,\"#9c179e\"],[0.4444444444444444,\"#bd3786\"],[0.5555555555555556,\"#d8576b\"],[0.6666666666666666,\"#ed7953\"],[0.7777777777777778,\"#fb9f3a\"],[0.8888888888888888,\"#fdca26\"],[1.0,\"#f0f921\"]],\"sequentialminus\":[[0.0,\"#0d0887\"],[0.1111111111111111,\"#46039f\"],[0.2222222222222222,\"#7201a8\"],[0.3333333333333333,\"#9c179e\"],[0.4444444444444444,\"#bd3786\"],[0.5555555555555556,\"#d8576b\"],[0.6666666666666666,\"#ed7953\"],[0.7777777777777778,\"#fb9f3a\"],[0.8888888888888888,\"#fdca26\"],[1.0,\"#f0f921\"]],\"diverging\":[[0,\"#8e0152\"],[0.1,\"#c51b7d\"],[0.2,\"#de77ae\"],[0.3,\"#f1b6da\"],[0.4,\"#fde0ef\"],[0.5,\"#f7f7f7\"],[0.6,\"#e6f5d0\"],[0.7,\"#b8e186\"],[0.8,\"#7fbc41\"],[0.9,\"#4d9221\"],[1,\"#276419\"]]},\"xaxis\":{\"gridcolor\":\"white\",\"linecolor\":\"white\",\"ticks\":\"\",\"title\":{\"standoff\":15},\"zerolinecolor\":\"white\",\"automargin\":true,\"zerolinewidth\":2},\"yaxis\":{\"gridcolor\":\"white\",\"linecolor\":\"white\",\"ticks\":\"\",\"title\":{\"standoff\":15},\"zerolinecolor\":\"white\",\"automargin\":true,\"zerolinewidth\":2},\"scene\":{\"xaxis\":{\"backgroundcolor\":\"#E5ECF6\",\"gridcolor\":\"white\",\"linecolor\":\"white\",\"showbackground\":true,\"ticks\":\"\",\"zerolinecolor\":\"white\",\"gridwidth\":2},\"yaxis\":{\"backgroundcolor\":\"#E5ECF6\",\"gridcolor\":\"white\",\"linecolor\":\"white\",\"showbackground\":true,\"ticks\":\"\",\"zerolinecolor\":\"white\",\"gridwidth\":2},\"zaxis\":{\"backgroundcolor\":\"#E5ECF6\",\"gridcolor\":\"white\",\"linecolor\":\"white\",\"showbackground\":true,\"ticks\":\"\",\"zerolinecolor\":\"white\",\"gridwidth\":2}},\"shapedefaults\":{\"line\":{\"color\":\"#2a3f5f\"}},\"annotationdefaults\":{\"arrowcolor\":\"#2a3f5f\",\"arrowhead\":0,\"arrowwidth\":1},\"geo\":{\"bgcolor\":\"white\",\"landcolor\":\"#E5ECF6\",\"subunitcolor\":\"white\",\"showland\":true,\"showlakes\":true,\"lakecolor\":\"white\"},\"title\":{\"x\":0.05},\"mapbox\":{\"style\":\"light\"}}},\"title\":{\"text\":\"\\u0412\\u044b\\u0440\\u0443\\u0447\\u043a\\u0430 \\u043f\\u043e \\u043c\\u0435\\u0441\\u044f\\u0446\\u0430\\u043c\",\"xanchor\":\"center\",\"x\":0.5},\"yaxis\":{\"title\":{\"text\":\"\\u0412\\u044b\\u0440\\u0443\\u0447\\u043a\\u0430\"}},\"xaxis\":{\"title\":{\"text\":\"\\u041c\\u0435\\u0441\\u044f\\u0446\"}}},                        {\"responsive\": true}                    ).then(function(){\n",
              "                            \n",
              "var gd = document.getElementById('db34b62a-2e61-41ca-9a38-7455c6c1cb43');\n",
              "var x = new MutationObserver(function (mutations, observer) {{\n",
              "        var display = window.getComputedStyle(gd).display;\n",
              "        if (!display || display === 'none') {{\n",
              "            console.log([gd, 'removed!']);\n",
              "            Plotly.purge(gd);\n",
              "            observer.disconnect();\n",
              "        }}\n",
              "}});\n",
              "\n",
              "// Listen for the removal of the full notebook cells\n",
              "var notebookContainer = gd.closest('#notebook-container');\n",
              "if (notebookContainer) {{\n",
              "    x.observe(notebookContainer, {childList: true});\n",
              "}}\n",
              "\n",
              "// Listen for the clearing of the current output cell\n",
              "var outputEl = gd.closest('.output');\n",
              "if (outputEl) {{\n",
              "    x.observe(outputEl, {childList: true});\n",
              "}}\n",
              "\n",
              "                        })                };                            </script>        </div>\n",
              "</body>\n",
              "</html>"
            ]
          },
          "metadata": {}
        }
      ],
      "source": [
        "grouped_by_date = below_elite.groupby('month').agg({'customer_id':'nunique', 'total':'sum'}).reset_index()\n",
        "\n",
        "fig = go.Figure(data=go.Scatter(x=grouped_by_date['month'], \n",
        "                                y=grouped_by_date['total'], \n",
        "                                mode='lines',\n",
        "                                stackgroup='one'))\n",
        "fig.update_layout(\n",
        "    title={\n",
        "        'text': \"Выручка по месяцам\",\n",
        "            'xanchor': 'center',\n",
        "        'x':0.5\n",
        "    },\n",
        "    yaxis_title=\"Выручка\",\n",
        "    xaxis_title=\"Месяц\")\n",
        "fig.show()"
      ]
    },
    {
      "cell_type": "markdown",
      "metadata": {
        "id": "dHtgFsM5F7Kj"
      },
      "source": [
        "### Кластер \"average\""
      ]
    },
    {
      "cell_type": "code",
      "execution_count": 100,
      "metadata": {
        "scrolled": true,
        "colab": {
          "base_uri": "https://localhost:8080/",
          "height": 269
        },
        "id": "sv1Ovp6sF7Kk",
        "outputId": "9499c78f-5cf5-40a1-891e-06e05e5cc117"
      },
      "outputs": [
        {
          "output_type": "execute_result",
          "data": {
            "text/plain": [
              "                 total\n",
              "category              \n",
              "Кухня              195\n",
              "Клининг            181\n",
              "Товары для дома    126\n",
              "Растения           101\n",
              "Инструменты         88\n",
              "Другое               2"
            ],
            "text/html": [
              "\n",
              "  <div id=\"df-9ef49ab5-7eb2-4d40-96f2-369975151b35\">\n",
              "    <div class=\"colab-df-container\">\n",
              "      <div>\n",
              "<style scoped>\n",
              "    .dataframe tbody tr th:only-of-type {\n",
              "        vertical-align: middle;\n",
              "    }\n",
              "\n",
              "    .dataframe tbody tr th {\n",
              "        vertical-align: top;\n",
              "    }\n",
              "\n",
              "    .dataframe thead th {\n",
              "        text-align: right;\n",
              "    }\n",
              "</style>\n",
              "<table border=\"1\" class=\"dataframe\">\n",
              "  <thead>\n",
              "    <tr style=\"text-align: right;\">\n",
              "      <th></th>\n",
              "      <th>total</th>\n",
              "    </tr>\n",
              "    <tr>\n",
              "      <th>category</th>\n",
              "      <th></th>\n",
              "    </tr>\n",
              "  </thead>\n",
              "  <tbody>\n",
              "    <tr>\n",
              "      <th>Кухня</th>\n",
              "      <td>195</td>\n",
              "    </tr>\n",
              "    <tr>\n",
              "      <th>Клининг</th>\n",
              "      <td>181</td>\n",
              "    </tr>\n",
              "    <tr>\n",
              "      <th>Товары для дома</th>\n",
              "      <td>126</td>\n",
              "    </tr>\n",
              "    <tr>\n",
              "      <th>Растения</th>\n",
              "      <td>101</td>\n",
              "    </tr>\n",
              "    <tr>\n",
              "      <th>Инструменты</th>\n",
              "      <td>88</td>\n",
              "    </tr>\n",
              "    <tr>\n",
              "      <th>Другое</th>\n",
              "      <td>2</td>\n",
              "    </tr>\n",
              "  </tbody>\n",
              "</table>\n",
              "</div>\n",
              "      <button class=\"colab-df-convert\" onclick=\"convertToInteractive('df-9ef49ab5-7eb2-4d40-96f2-369975151b35')\"\n",
              "              title=\"Convert this dataframe to an interactive table.\"\n",
              "              style=\"display:none;\">\n",
              "        \n",
              "  <svg xmlns=\"http://www.w3.org/2000/svg\" height=\"24px\"viewBox=\"0 0 24 24\"\n",
              "       width=\"24px\">\n",
              "    <path d=\"M0 0h24v24H0V0z\" fill=\"none\"/>\n",
              "    <path d=\"M18.56 5.44l.94 2.06.94-2.06 2.06-.94-2.06-.94-.94-2.06-.94 2.06-2.06.94zm-11 1L8.5 8.5l.94-2.06 2.06-.94-2.06-.94L8.5 2.5l-.94 2.06-2.06.94zm10 10l.94 2.06.94-2.06 2.06-.94-2.06-.94-.94-2.06-.94 2.06-2.06.94z\"/><path d=\"M17.41 7.96l-1.37-1.37c-.4-.4-.92-.59-1.43-.59-.52 0-1.04.2-1.43.59L10.3 9.45l-7.72 7.72c-.78.78-.78 2.05 0 2.83L4 21.41c.39.39.9.59 1.41.59.51 0 1.02-.2 1.41-.59l7.78-7.78 2.81-2.81c.8-.78.8-2.07 0-2.86zM5.41 20L4 18.59l7.72-7.72 1.47 1.35L5.41 20z\"/>\n",
              "  </svg>\n",
              "      </button>\n",
              "      \n",
              "  <style>\n",
              "    .colab-df-container {\n",
              "      display:flex;\n",
              "      flex-wrap:wrap;\n",
              "      gap: 12px;\n",
              "    }\n",
              "\n",
              "    .colab-df-convert {\n",
              "      background-color: #E8F0FE;\n",
              "      border: none;\n",
              "      border-radius: 50%;\n",
              "      cursor: pointer;\n",
              "      display: none;\n",
              "      fill: #1967D2;\n",
              "      height: 32px;\n",
              "      padding: 0 0 0 0;\n",
              "      width: 32px;\n",
              "    }\n",
              "\n",
              "    .colab-df-convert:hover {\n",
              "      background-color: #E2EBFA;\n",
              "      box-shadow: 0px 1px 2px rgba(60, 64, 67, 0.3), 0px 1px 3px 1px rgba(60, 64, 67, 0.15);\n",
              "      fill: #174EA6;\n",
              "    }\n",
              "\n",
              "    [theme=dark] .colab-df-convert {\n",
              "      background-color: #3B4455;\n",
              "      fill: #D2E3FC;\n",
              "    }\n",
              "\n",
              "    [theme=dark] .colab-df-convert:hover {\n",
              "      background-color: #434B5C;\n",
              "      box-shadow: 0px 1px 3px 1px rgba(0, 0, 0, 0.15);\n",
              "      filter: drop-shadow(0px 1px 2px rgba(0, 0, 0, 0.3));\n",
              "      fill: #FFFFFF;\n",
              "    }\n",
              "  </style>\n",
              "\n",
              "      <script>\n",
              "        const buttonEl =\n",
              "          document.querySelector('#df-9ef49ab5-7eb2-4d40-96f2-369975151b35 button.colab-df-convert');\n",
              "        buttonEl.style.display =\n",
              "          google.colab.kernel.accessAllowed ? 'block' : 'none';\n",
              "\n",
              "        async function convertToInteractive(key) {\n",
              "          const element = document.querySelector('#df-9ef49ab5-7eb2-4d40-96f2-369975151b35');\n",
              "          const dataTable =\n",
              "            await google.colab.kernel.invokeFunction('convertToInteractive',\n",
              "                                                     [key], {});\n",
              "          if (!dataTable) return;\n",
              "\n",
              "          const docLinkHtml = 'Like what you see? Visit the ' +\n",
              "            '<a target=\"_blank\" href=https://colab.research.google.com/notebooks/data_table.ipynb>data table notebook</a>'\n",
              "            + ' to learn more about interactive tables.';\n",
              "          element.innerHTML = '';\n",
              "          dataTable['output_type'] = 'display_data';\n",
              "          await google.colab.output.renderOutput(dataTable, element);\n",
              "          const docLink = document.createElement('div');\n",
              "          docLink.innerHTML = docLinkHtml;\n",
              "          element.appendChild(docLink);\n",
              "        }\n",
              "      </script>\n",
              "    </div>\n",
              "  </div>\n",
              "  "
            ]
          },
          "metadata": {},
          "execution_count": 100
        }
      ],
      "source": [
        "average.pivot_table(index='category',values='total',aggfunc='count').sort_values(by='total',ascending =False)"
      ]
    },
    {
      "cell_type": "code",
      "execution_count": 101,
      "metadata": {
        "colab": {
          "base_uri": "https://localhost:8080/",
          "height": 542
        },
        "id": "cnQ7RfzEF7Kl",
        "outputId": "7b684de6-f91c-40f3-b2a1-eaa78bba2b62"
      },
      "outputs": [
        {
          "output_type": "display_data",
          "data": {
            "text/html": [
              "<html>\n",
              "<head><meta charset=\"utf-8\" /></head>\n",
              "<body>\n",
              "    <div>            <script src=\"https://cdnjs.cloudflare.com/ajax/libs/mathjax/2.7.5/MathJax.js?config=TeX-AMS-MML_SVG\"></script><script type=\"text/javascript\">if (window.MathJax && window.MathJax.Hub && window.MathJax.Hub.Config) {window.MathJax.Hub.Config({SVG: {font: \"STIX-Web\"}});}</script>                <script type=\"text/javascript\">window.PlotlyConfig = {MathJaxConfig: 'local'};</script>\n",
              "        <script src=\"https://cdn.plot.ly/plotly-2.18.2.min.js\"></script>                <div id=\"91e76630-86b7-40bf-ac2a-57b01293adeb\" class=\"plotly-graph-div\" style=\"height:525px; width:100%;\"></div>            <script type=\"text/javascript\">                                    window.PLOTLYENV=window.PLOTLYENV || {};                                    if (document.getElementById(\"91e76630-86b7-40bf-ac2a-57b01293adeb\")) {                    Plotly.newPlot(                        \"91e76630-86b7-40bf-ac2a-57b01293adeb\",                        [{\"mode\":\"lines\",\"stackgroup\":\"one\",\"x\":[\"2018-10-01T00:00:00\",\"2018-11-01T00:00:00\",\"2018-12-01T00:00:00\",\"2019-01-01T00:00:00\",\"2019-02-01T00:00:00\",\"2019-03-01T00:00:00\",\"2019-04-01T00:00:00\",\"2019-05-01T00:00:00\",\"2019-06-01T00:00:00\",\"2019-07-01T00:00:00\",\"2019-08-01T00:00:00\",\"2019-09-01T00:00:00\",\"2019-10-01T00:00:00\"],\"y\":[26590.0,23606.0,28325.0,18665.0,27534.0,21274.0,16640.0,8949.0,15117.0,16766.0,12217.0,19587.0,13304.0],\"type\":\"scatter\"}],                        {\"template\":{\"data\":{\"histogram2dcontour\":[{\"type\":\"histogram2dcontour\",\"colorbar\":{\"outlinewidth\":0,\"ticks\":\"\"},\"colorscale\":[[0.0,\"#0d0887\"],[0.1111111111111111,\"#46039f\"],[0.2222222222222222,\"#7201a8\"],[0.3333333333333333,\"#9c179e\"],[0.4444444444444444,\"#bd3786\"],[0.5555555555555556,\"#d8576b\"],[0.6666666666666666,\"#ed7953\"],[0.7777777777777778,\"#fb9f3a\"],[0.8888888888888888,\"#fdca26\"],[1.0,\"#f0f921\"]]}],\"choropleth\":[{\"type\":\"choropleth\",\"colorbar\":{\"outlinewidth\":0,\"ticks\":\"\"}}],\"histogram2d\":[{\"type\":\"histogram2d\",\"colorbar\":{\"outlinewidth\":0,\"ticks\":\"\"},\"colorscale\":[[0.0,\"#0d0887\"],[0.1111111111111111,\"#46039f\"],[0.2222222222222222,\"#7201a8\"],[0.3333333333333333,\"#9c179e\"],[0.4444444444444444,\"#bd3786\"],[0.5555555555555556,\"#d8576b\"],[0.6666666666666666,\"#ed7953\"],[0.7777777777777778,\"#fb9f3a\"],[0.8888888888888888,\"#fdca26\"],[1.0,\"#f0f921\"]]}],\"heatmap\":[{\"type\":\"heatmap\",\"colorbar\":{\"outlinewidth\":0,\"ticks\":\"\"},\"colorscale\":[[0.0,\"#0d0887\"],[0.1111111111111111,\"#46039f\"],[0.2222222222222222,\"#7201a8\"],[0.3333333333333333,\"#9c179e\"],[0.4444444444444444,\"#bd3786\"],[0.5555555555555556,\"#d8576b\"],[0.6666666666666666,\"#ed7953\"],[0.7777777777777778,\"#fb9f3a\"],[0.8888888888888888,\"#fdca26\"],[1.0,\"#f0f921\"]]}],\"heatmapgl\":[{\"type\":\"heatmapgl\",\"colorbar\":{\"outlinewidth\":0,\"ticks\":\"\"},\"colorscale\":[[0.0,\"#0d0887\"],[0.1111111111111111,\"#46039f\"],[0.2222222222222222,\"#7201a8\"],[0.3333333333333333,\"#9c179e\"],[0.4444444444444444,\"#bd3786\"],[0.5555555555555556,\"#d8576b\"],[0.6666666666666666,\"#ed7953\"],[0.7777777777777778,\"#fb9f3a\"],[0.8888888888888888,\"#fdca26\"],[1.0,\"#f0f921\"]]}],\"contourcarpet\":[{\"type\":\"contourcarpet\",\"colorbar\":{\"outlinewidth\":0,\"ticks\":\"\"}}],\"contour\":[{\"type\":\"contour\",\"colorbar\":{\"outlinewidth\":0,\"ticks\":\"\"},\"colorscale\":[[0.0,\"#0d0887\"],[0.1111111111111111,\"#46039f\"],[0.2222222222222222,\"#7201a8\"],[0.3333333333333333,\"#9c179e\"],[0.4444444444444444,\"#bd3786\"],[0.5555555555555556,\"#d8576b\"],[0.6666666666666666,\"#ed7953\"],[0.7777777777777778,\"#fb9f3a\"],[0.8888888888888888,\"#fdca26\"],[1.0,\"#f0f921\"]]}],\"surface\":[{\"type\":\"surface\",\"colorbar\":{\"outlinewidth\":0,\"ticks\":\"\"},\"colorscale\":[[0.0,\"#0d0887\"],[0.1111111111111111,\"#46039f\"],[0.2222222222222222,\"#7201a8\"],[0.3333333333333333,\"#9c179e\"],[0.4444444444444444,\"#bd3786\"],[0.5555555555555556,\"#d8576b\"],[0.6666666666666666,\"#ed7953\"],[0.7777777777777778,\"#fb9f3a\"],[0.8888888888888888,\"#fdca26\"],[1.0,\"#f0f921\"]]}],\"mesh3d\":[{\"type\":\"mesh3d\",\"colorbar\":{\"outlinewidth\":0,\"ticks\":\"\"}}],\"scatter\":[{\"fillpattern\":{\"fillmode\":\"overlay\",\"size\":10,\"solidity\":0.2},\"type\":\"scatter\"}],\"parcoords\":[{\"type\":\"parcoords\",\"line\":{\"colorbar\":{\"outlinewidth\":0,\"ticks\":\"\"}}}],\"scatterpolargl\":[{\"type\":\"scatterpolargl\",\"marker\":{\"colorbar\":{\"outlinewidth\":0,\"ticks\":\"\"}}}],\"bar\":[{\"error_x\":{\"color\":\"#2a3f5f\"},\"error_y\":{\"color\":\"#2a3f5f\"},\"marker\":{\"line\":{\"color\":\"#E5ECF6\",\"width\":0.5},\"pattern\":{\"fillmode\":\"overlay\",\"size\":10,\"solidity\":0.2}},\"type\":\"bar\"}],\"scattergeo\":[{\"type\":\"scattergeo\",\"marker\":{\"colorbar\":{\"outlinewidth\":0,\"ticks\":\"\"}}}],\"scatterpolar\":[{\"type\":\"scatterpolar\",\"marker\":{\"colorbar\":{\"outlinewidth\":0,\"ticks\":\"\"}}}],\"histogram\":[{\"marker\":{\"pattern\":{\"fillmode\":\"overlay\",\"size\":10,\"solidity\":0.2}},\"type\":\"histogram\"}],\"scattergl\":[{\"type\":\"scattergl\",\"marker\":{\"colorbar\":{\"outlinewidth\":0,\"ticks\":\"\"}}}],\"scatter3d\":[{\"type\":\"scatter3d\",\"line\":{\"colorbar\":{\"outlinewidth\":0,\"ticks\":\"\"}},\"marker\":{\"colorbar\":{\"outlinewidth\":0,\"ticks\":\"\"}}}],\"scattermapbox\":[{\"type\":\"scattermapbox\",\"marker\":{\"colorbar\":{\"outlinewidth\":0,\"ticks\":\"\"}}}],\"scatterternary\":[{\"type\":\"scatterternary\",\"marker\":{\"colorbar\":{\"outlinewidth\":0,\"ticks\":\"\"}}}],\"scattercarpet\":[{\"type\":\"scattercarpet\",\"marker\":{\"colorbar\":{\"outlinewidth\":0,\"ticks\":\"\"}}}],\"carpet\":[{\"aaxis\":{\"endlinecolor\":\"#2a3f5f\",\"gridcolor\":\"white\",\"linecolor\":\"white\",\"minorgridcolor\":\"white\",\"startlinecolor\":\"#2a3f5f\"},\"baxis\":{\"endlinecolor\":\"#2a3f5f\",\"gridcolor\":\"white\",\"linecolor\":\"white\",\"minorgridcolor\":\"white\",\"startlinecolor\":\"#2a3f5f\"},\"type\":\"carpet\"}],\"table\":[{\"cells\":{\"fill\":{\"color\":\"#EBF0F8\"},\"line\":{\"color\":\"white\"}},\"header\":{\"fill\":{\"color\":\"#C8D4E3\"},\"line\":{\"color\":\"white\"}},\"type\":\"table\"}],\"barpolar\":[{\"marker\":{\"line\":{\"color\":\"#E5ECF6\",\"width\":0.5},\"pattern\":{\"fillmode\":\"overlay\",\"size\":10,\"solidity\":0.2}},\"type\":\"barpolar\"}],\"pie\":[{\"automargin\":true,\"type\":\"pie\"}]},\"layout\":{\"autotypenumbers\":\"strict\",\"colorway\":[\"#636efa\",\"#EF553B\",\"#00cc96\",\"#ab63fa\",\"#FFA15A\",\"#19d3f3\",\"#FF6692\",\"#B6E880\",\"#FF97FF\",\"#FECB52\"],\"font\":{\"color\":\"#2a3f5f\"},\"hovermode\":\"closest\",\"hoverlabel\":{\"align\":\"left\"},\"paper_bgcolor\":\"white\",\"plot_bgcolor\":\"#E5ECF6\",\"polar\":{\"bgcolor\":\"#E5ECF6\",\"angularaxis\":{\"gridcolor\":\"white\",\"linecolor\":\"white\",\"ticks\":\"\"},\"radialaxis\":{\"gridcolor\":\"white\",\"linecolor\":\"white\",\"ticks\":\"\"}},\"ternary\":{\"bgcolor\":\"#E5ECF6\",\"aaxis\":{\"gridcolor\":\"white\",\"linecolor\":\"white\",\"ticks\":\"\"},\"baxis\":{\"gridcolor\":\"white\",\"linecolor\":\"white\",\"ticks\":\"\"},\"caxis\":{\"gridcolor\":\"white\",\"linecolor\":\"white\",\"ticks\":\"\"}},\"coloraxis\":{\"colorbar\":{\"outlinewidth\":0,\"ticks\":\"\"}},\"colorscale\":{\"sequential\":[[0.0,\"#0d0887\"],[0.1111111111111111,\"#46039f\"],[0.2222222222222222,\"#7201a8\"],[0.3333333333333333,\"#9c179e\"],[0.4444444444444444,\"#bd3786\"],[0.5555555555555556,\"#d8576b\"],[0.6666666666666666,\"#ed7953\"],[0.7777777777777778,\"#fb9f3a\"],[0.8888888888888888,\"#fdca26\"],[1.0,\"#f0f921\"]],\"sequentialminus\":[[0.0,\"#0d0887\"],[0.1111111111111111,\"#46039f\"],[0.2222222222222222,\"#7201a8\"],[0.3333333333333333,\"#9c179e\"],[0.4444444444444444,\"#bd3786\"],[0.5555555555555556,\"#d8576b\"],[0.6666666666666666,\"#ed7953\"],[0.7777777777777778,\"#fb9f3a\"],[0.8888888888888888,\"#fdca26\"],[1.0,\"#f0f921\"]],\"diverging\":[[0,\"#8e0152\"],[0.1,\"#c51b7d\"],[0.2,\"#de77ae\"],[0.3,\"#f1b6da\"],[0.4,\"#fde0ef\"],[0.5,\"#f7f7f7\"],[0.6,\"#e6f5d0\"],[0.7,\"#b8e186\"],[0.8,\"#7fbc41\"],[0.9,\"#4d9221\"],[1,\"#276419\"]]},\"xaxis\":{\"gridcolor\":\"white\",\"linecolor\":\"white\",\"ticks\":\"\",\"title\":{\"standoff\":15},\"zerolinecolor\":\"white\",\"automargin\":true,\"zerolinewidth\":2},\"yaxis\":{\"gridcolor\":\"white\",\"linecolor\":\"white\",\"ticks\":\"\",\"title\":{\"standoff\":15},\"zerolinecolor\":\"white\",\"automargin\":true,\"zerolinewidth\":2},\"scene\":{\"xaxis\":{\"backgroundcolor\":\"#E5ECF6\",\"gridcolor\":\"white\",\"linecolor\":\"white\",\"showbackground\":true,\"ticks\":\"\",\"zerolinecolor\":\"white\",\"gridwidth\":2},\"yaxis\":{\"backgroundcolor\":\"#E5ECF6\",\"gridcolor\":\"white\",\"linecolor\":\"white\",\"showbackground\":true,\"ticks\":\"\",\"zerolinecolor\":\"white\",\"gridwidth\":2},\"zaxis\":{\"backgroundcolor\":\"#E5ECF6\",\"gridcolor\":\"white\",\"linecolor\":\"white\",\"showbackground\":true,\"ticks\":\"\",\"zerolinecolor\":\"white\",\"gridwidth\":2}},\"shapedefaults\":{\"line\":{\"color\":\"#2a3f5f\"}},\"annotationdefaults\":{\"arrowcolor\":\"#2a3f5f\",\"arrowhead\":0,\"arrowwidth\":1},\"geo\":{\"bgcolor\":\"white\",\"landcolor\":\"#E5ECF6\",\"subunitcolor\":\"white\",\"showland\":true,\"showlakes\":true,\"lakecolor\":\"white\"},\"title\":{\"x\":0.05},\"mapbox\":{\"style\":\"light\"}}},\"title\":{\"text\":\"\\u0412\\u044b\\u0440\\u0443\\u0447\\u043a\\u0430 \\u043f\\u043e \\u043c\\u0435\\u0441\\u044f\\u0446\\u0430\\u043c\",\"xanchor\":\"center\",\"x\":0.5},\"yaxis\":{\"title\":{\"text\":\"\\u0412\\u044b\\u0440\\u0443\\u0447\\u043a\\u0430\"}},\"xaxis\":{\"title\":{\"text\":\"\\u041c\\u0435\\u0441\\u044f\\u0446\"}}},                        {\"responsive\": true}                    ).then(function(){\n",
              "                            \n",
              "var gd = document.getElementById('91e76630-86b7-40bf-ac2a-57b01293adeb');\n",
              "var x = new MutationObserver(function (mutations, observer) {{\n",
              "        var display = window.getComputedStyle(gd).display;\n",
              "        if (!display || display === 'none') {{\n",
              "            console.log([gd, 'removed!']);\n",
              "            Plotly.purge(gd);\n",
              "            observer.disconnect();\n",
              "        }}\n",
              "}});\n",
              "\n",
              "// Listen for the removal of the full notebook cells\n",
              "var notebookContainer = gd.closest('#notebook-container');\n",
              "if (notebookContainer) {{\n",
              "    x.observe(notebookContainer, {childList: true});\n",
              "}}\n",
              "\n",
              "// Listen for the clearing of the current output cell\n",
              "var outputEl = gd.closest('.output');\n",
              "if (outputEl) {{\n",
              "    x.observe(outputEl, {childList: true});\n",
              "}}\n",
              "\n",
              "                        })                };                            </script>        </div>\n",
              "</body>\n",
              "</html>"
            ]
          },
          "metadata": {}
        }
      ],
      "source": [
        "grouped_by_date = average.query('category==\"Кухня\"|category==\"Клининг\"')\\\n",
        ".groupby('month').agg({'customer_id':'nunique', 'total':'sum'}).reset_index()\n",
        "\n",
        "fig = go.Figure(data=go.Scatter(x=grouped_by_date['month'], \n",
        "                                y=grouped_by_date['total'], \n",
        "                                mode='lines',\n",
        "                                stackgroup='one'))\n",
        "fig.update_layout(\n",
        "    title={\n",
        "        'text': \"Выручка по месяцам\",\n",
        "        'xanchor': 'center',\n",
        "        'x':0.5\n",
        "    },\n",
        "    yaxis_title=\"Выручка\",\n",
        "    xaxis_title=\"Месяц\")\n",
        "fig.show()"
      ]
    },
    {
      "cell_type": "markdown",
      "metadata": {
        "id": "_NUq9gjAF7Kl"
      },
      "source": [
        "### Кластер \"average_elite\""
      ]
    },
    {
      "cell_type": "code",
      "execution_count": 102,
      "metadata": {
        "colab": {
          "base_uri": "https://localhost:8080/",
          "height": 238
        },
        "id": "4KPVSG0YF7Kl",
        "outputId": "17922a4d-7abd-43c8-df93-29804a5f10c8"
      },
      "outputs": [
        {
          "output_type": "execute_result",
          "data": {
            "text/plain": [
              "                 total\n",
              "category              \n",
              "Кухня               29\n",
              "Клининг             25\n",
              "Инструменты          7\n",
              "Товары для дома      7\n",
              "Растения             5"
            ],
            "text/html": [
              "\n",
              "  <div id=\"df-1fb9b6bf-b08b-4ab1-aa29-18718fefcb8c\">\n",
              "    <div class=\"colab-df-container\">\n",
              "      <div>\n",
              "<style scoped>\n",
              "    .dataframe tbody tr th:only-of-type {\n",
              "        vertical-align: middle;\n",
              "    }\n",
              "\n",
              "    .dataframe tbody tr th {\n",
              "        vertical-align: top;\n",
              "    }\n",
              "\n",
              "    .dataframe thead th {\n",
              "        text-align: right;\n",
              "    }\n",
              "</style>\n",
              "<table border=\"1\" class=\"dataframe\">\n",
              "  <thead>\n",
              "    <tr style=\"text-align: right;\">\n",
              "      <th></th>\n",
              "      <th>total</th>\n",
              "    </tr>\n",
              "    <tr>\n",
              "      <th>category</th>\n",
              "      <th></th>\n",
              "    </tr>\n",
              "  </thead>\n",
              "  <tbody>\n",
              "    <tr>\n",
              "      <th>Кухня</th>\n",
              "      <td>29</td>\n",
              "    </tr>\n",
              "    <tr>\n",
              "      <th>Клининг</th>\n",
              "      <td>25</td>\n",
              "    </tr>\n",
              "    <tr>\n",
              "      <th>Инструменты</th>\n",
              "      <td>7</td>\n",
              "    </tr>\n",
              "    <tr>\n",
              "      <th>Товары для дома</th>\n",
              "      <td>7</td>\n",
              "    </tr>\n",
              "    <tr>\n",
              "      <th>Растения</th>\n",
              "      <td>5</td>\n",
              "    </tr>\n",
              "  </tbody>\n",
              "</table>\n",
              "</div>\n",
              "      <button class=\"colab-df-convert\" onclick=\"convertToInteractive('df-1fb9b6bf-b08b-4ab1-aa29-18718fefcb8c')\"\n",
              "              title=\"Convert this dataframe to an interactive table.\"\n",
              "              style=\"display:none;\">\n",
              "        \n",
              "  <svg xmlns=\"http://www.w3.org/2000/svg\" height=\"24px\"viewBox=\"0 0 24 24\"\n",
              "       width=\"24px\">\n",
              "    <path d=\"M0 0h24v24H0V0z\" fill=\"none\"/>\n",
              "    <path d=\"M18.56 5.44l.94 2.06.94-2.06 2.06-.94-2.06-.94-.94-2.06-.94 2.06-2.06.94zm-11 1L8.5 8.5l.94-2.06 2.06-.94-2.06-.94L8.5 2.5l-.94 2.06-2.06.94zm10 10l.94 2.06.94-2.06 2.06-.94-2.06-.94-.94-2.06-.94 2.06-2.06.94z\"/><path d=\"M17.41 7.96l-1.37-1.37c-.4-.4-.92-.59-1.43-.59-.52 0-1.04.2-1.43.59L10.3 9.45l-7.72 7.72c-.78.78-.78 2.05 0 2.83L4 21.41c.39.39.9.59 1.41.59.51 0 1.02-.2 1.41-.59l7.78-7.78 2.81-2.81c.8-.78.8-2.07 0-2.86zM5.41 20L4 18.59l7.72-7.72 1.47 1.35L5.41 20z\"/>\n",
              "  </svg>\n",
              "      </button>\n",
              "      \n",
              "  <style>\n",
              "    .colab-df-container {\n",
              "      display:flex;\n",
              "      flex-wrap:wrap;\n",
              "      gap: 12px;\n",
              "    }\n",
              "\n",
              "    .colab-df-convert {\n",
              "      background-color: #E8F0FE;\n",
              "      border: none;\n",
              "      border-radius: 50%;\n",
              "      cursor: pointer;\n",
              "      display: none;\n",
              "      fill: #1967D2;\n",
              "      height: 32px;\n",
              "      padding: 0 0 0 0;\n",
              "      width: 32px;\n",
              "    }\n",
              "\n",
              "    .colab-df-convert:hover {\n",
              "      background-color: #E2EBFA;\n",
              "      box-shadow: 0px 1px 2px rgba(60, 64, 67, 0.3), 0px 1px 3px 1px rgba(60, 64, 67, 0.15);\n",
              "      fill: #174EA6;\n",
              "    }\n",
              "\n",
              "    [theme=dark] .colab-df-convert {\n",
              "      background-color: #3B4455;\n",
              "      fill: #D2E3FC;\n",
              "    }\n",
              "\n",
              "    [theme=dark] .colab-df-convert:hover {\n",
              "      background-color: #434B5C;\n",
              "      box-shadow: 0px 1px 3px 1px rgba(0, 0, 0, 0.15);\n",
              "      filter: drop-shadow(0px 1px 2px rgba(0, 0, 0, 0.3));\n",
              "      fill: #FFFFFF;\n",
              "    }\n",
              "  </style>\n",
              "\n",
              "      <script>\n",
              "        const buttonEl =\n",
              "          document.querySelector('#df-1fb9b6bf-b08b-4ab1-aa29-18718fefcb8c button.colab-df-convert');\n",
              "        buttonEl.style.display =\n",
              "          google.colab.kernel.accessAllowed ? 'block' : 'none';\n",
              "\n",
              "        async function convertToInteractive(key) {\n",
              "          const element = document.querySelector('#df-1fb9b6bf-b08b-4ab1-aa29-18718fefcb8c');\n",
              "          const dataTable =\n",
              "            await google.colab.kernel.invokeFunction('convertToInteractive',\n",
              "                                                     [key], {});\n",
              "          if (!dataTable) return;\n",
              "\n",
              "          const docLinkHtml = 'Like what you see? Visit the ' +\n",
              "            '<a target=\"_blank\" href=https://colab.research.google.com/notebooks/data_table.ipynb>data table notebook</a>'\n",
              "            + ' to learn more about interactive tables.';\n",
              "          element.innerHTML = '';\n",
              "          dataTable['output_type'] = 'display_data';\n",
              "          await google.colab.output.renderOutput(dataTable, element);\n",
              "          const docLink = document.createElement('div');\n",
              "          docLink.innerHTML = docLinkHtml;\n",
              "          element.appendChild(docLink);\n",
              "        }\n",
              "      </script>\n",
              "    </div>\n",
              "  </div>\n",
              "  "
            ]
          },
          "metadata": {},
          "execution_count": 102
        }
      ],
      "source": [
        "average_elite.pivot_table(index='category',values='total',aggfunc='count').sort_values(by='total',ascending =False)"
      ]
    },
    {
      "cell_type": "code",
      "execution_count": 103,
      "metadata": {
        "colab": {
          "base_uri": "https://localhost:8080/",
          "height": 542
        },
        "id": "Jqidn_krF7Km",
        "outputId": "17dbf56a-233e-413f-9255-f00267b70b49"
      },
      "outputs": [
        {
          "output_type": "display_data",
          "data": {
            "text/html": [
              "<html>\n",
              "<head><meta charset=\"utf-8\" /></head>\n",
              "<body>\n",
              "    <div>            <script src=\"https://cdnjs.cloudflare.com/ajax/libs/mathjax/2.7.5/MathJax.js?config=TeX-AMS-MML_SVG\"></script><script type=\"text/javascript\">if (window.MathJax && window.MathJax.Hub && window.MathJax.Hub.Config) {window.MathJax.Hub.Config({SVG: {font: \"STIX-Web\"}});}</script>                <script type=\"text/javascript\">window.PlotlyConfig = {MathJaxConfig: 'local'};</script>\n",
              "        <script src=\"https://cdn.plot.ly/plotly-2.18.2.min.js\"></script>                <div id=\"012e9bc8-24d3-4b59-92c7-abba1dc580ac\" class=\"plotly-graph-div\" style=\"height:525px; width:100%;\"></div>            <script type=\"text/javascript\">                                    window.PLOTLYENV=window.PLOTLYENV || {};                                    if (document.getElementById(\"012e9bc8-24d3-4b59-92c7-abba1dc580ac\")) {                    Plotly.newPlot(                        \"012e9bc8-24d3-4b59-92c7-abba1dc580ac\",                        [{\"mode\":\"lines\",\"stackgroup\":\"one\",\"x\":[\"2018-10-01T00:00:00\",\"2018-11-01T00:00:00\",\"2018-12-01T00:00:00\",\"2019-01-01T00:00:00\",\"2019-02-01T00:00:00\",\"2019-10-01T00:00:00\"],\"y\":[16888.0,5679.0,5349.0,2170.0,5300.0,2674.0],\"type\":\"scatter\"}],                        {\"template\":{\"data\":{\"histogram2dcontour\":[{\"type\":\"histogram2dcontour\",\"colorbar\":{\"outlinewidth\":0,\"ticks\":\"\"},\"colorscale\":[[0.0,\"#0d0887\"],[0.1111111111111111,\"#46039f\"],[0.2222222222222222,\"#7201a8\"],[0.3333333333333333,\"#9c179e\"],[0.4444444444444444,\"#bd3786\"],[0.5555555555555556,\"#d8576b\"],[0.6666666666666666,\"#ed7953\"],[0.7777777777777778,\"#fb9f3a\"],[0.8888888888888888,\"#fdca26\"],[1.0,\"#f0f921\"]]}],\"choropleth\":[{\"type\":\"choropleth\",\"colorbar\":{\"outlinewidth\":0,\"ticks\":\"\"}}],\"histogram2d\":[{\"type\":\"histogram2d\",\"colorbar\":{\"outlinewidth\":0,\"ticks\":\"\"},\"colorscale\":[[0.0,\"#0d0887\"],[0.1111111111111111,\"#46039f\"],[0.2222222222222222,\"#7201a8\"],[0.3333333333333333,\"#9c179e\"],[0.4444444444444444,\"#bd3786\"],[0.5555555555555556,\"#d8576b\"],[0.6666666666666666,\"#ed7953\"],[0.7777777777777778,\"#fb9f3a\"],[0.8888888888888888,\"#fdca26\"],[1.0,\"#f0f921\"]]}],\"heatmap\":[{\"type\":\"heatmap\",\"colorbar\":{\"outlinewidth\":0,\"ticks\":\"\"},\"colorscale\":[[0.0,\"#0d0887\"],[0.1111111111111111,\"#46039f\"],[0.2222222222222222,\"#7201a8\"],[0.3333333333333333,\"#9c179e\"],[0.4444444444444444,\"#bd3786\"],[0.5555555555555556,\"#d8576b\"],[0.6666666666666666,\"#ed7953\"],[0.7777777777777778,\"#fb9f3a\"],[0.8888888888888888,\"#fdca26\"],[1.0,\"#f0f921\"]]}],\"heatmapgl\":[{\"type\":\"heatmapgl\",\"colorbar\":{\"outlinewidth\":0,\"ticks\":\"\"},\"colorscale\":[[0.0,\"#0d0887\"],[0.1111111111111111,\"#46039f\"],[0.2222222222222222,\"#7201a8\"],[0.3333333333333333,\"#9c179e\"],[0.4444444444444444,\"#bd3786\"],[0.5555555555555556,\"#d8576b\"],[0.6666666666666666,\"#ed7953\"],[0.7777777777777778,\"#fb9f3a\"],[0.8888888888888888,\"#fdca26\"],[1.0,\"#f0f921\"]]}],\"contourcarpet\":[{\"type\":\"contourcarpet\",\"colorbar\":{\"outlinewidth\":0,\"ticks\":\"\"}}],\"contour\":[{\"type\":\"contour\",\"colorbar\":{\"outlinewidth\":0,\"ticks\":\"\"},\"colorscale\":[[0.0,\"#0d0887\"],[0.1111111111111111,\"#46039f\"],[0.2222222222222222,\"#7201a8\"],[0.3333333333333333,\"#9c179e\"],[0.4444444444444444,\"#bd3786\"],[0.5555555555555556,\"#d8576b\"],[0.6666666666666666,\"#ed7953\"],[0.7777777777777778,\"#fb9f3a\"],[0.8888888888888888,\"#fdca26\"],[1.0,\"#f0f921\"]]}],\"surface\":[{\"type\":\"surface\",\"colorbar\":{\"outlinewidth\":0,\"ticks\":\"\"},\"colorscale\":[[0.0,\"#0d0887\"],[0.1111111111111111,\"#46039f\"],[0.2222222222222222,\"#7201a8\"],[0.3333333333333333,\"#9c179e\"],[0.4444444444444444,\"#bd3786\"],[0.5555555555555556,\"#d8576b\"],[0.6666666666666666,\"#ed7953\"],[0.7777777777777778,\"#fb9f3a\"],[0.8888888888888888,\"#fdca26\"],[1.0,\"#f0f921\"]]}],\"mesh3d\":[{\"type\":\"mesh3d\",\"colorbar\":{\"outlinewidth\":0,\"ticks\":\"\"}}],\"scatter\":[{\"fillpattern\":{\"fillmode\":\"overlay\",\"size\":10,\"solidity\":0.2},\"type\":\"scatter\"}],\"parcoords\":[{\"type\":\"parcoords\",\"line\":{\"colorbar\":{\"outlinewidth\":0,\"ticks\":\"\"}}}],\"scatterpolargl\":[{\"type\":\"scatterpolargl\",\"marker\":{\"colorbar\":{\"outlinewidth\":0,\"ticks\":\"\"}}}],\"bar\":[{\"error_x\":{\"color\":\"#2a3f5f\"},\"error_y\":{\"color\":\"#2a3f5f\"},\"marker\":{\"line\":{\"color\":\"#E5ECF6\",\"width\":0.5},\"pattern\":{\"fillmode\":\"overlay\",\"size\":10,\"solidity\":0.2}},\"type\":\"bar\"}],\"scattergeo\":[{\"type\":\"scattergeo\",\"marker\":{\"colorbar\":{\"outlinewidth\":0,\"ticks\":\"\"}}}],\"scatterpolar\":[{\"type\":\"scatterpolar\",\"marker\":{\"colorbar\":{\"outlinewidth\":0,\"ticks\":\"\"}}}],\"histogram\":[{\"marker\":{\"pattern\":{\"fillmode\":\"overlay\",\"size\":10,\"solidity\":0.2}},\"type\":\"histogram\"}],\"scattergl\":[{\"type\":\"scattergl\",\"marker\":{\"colorbar\":{\"outlinewidth\":0,\"ticks\":\"\"}}}],\"scatter3d\":[{\"type\":\"scatter3d\",\"line\":{\"colorbar\":{\"outlinewidth\":0,\"ticks\":\"\"}},\"marker\":{\"colorbar\":{\"outlinewidth\":0,\"ticks\":\"\"}}}],\"scattermapbox\":[{\"type\":\"scattermapbox\",\"marker\":{\"colorbar\":{\"outlinewidth\":0,\"ticks\":\"\"}}}],\"scatterternary\":[{\"type\":\"scatterternary\",\"marker\":{\"colorbar\":{\"outlinewidth\":0,\"ticks\":\"\"}}}],\"scattercarpet\":[{\"type\":\"scattercarpet\",\"marker\":{\"colorbar\":{\"outlinewidth\":0,\"ticks\":\"\"}}}],\"carpet\":[{\"aaxis\":{\"endlinecolor\":\"#2a3f5f\",\"gridcolor\":\"white\",\"linecolor\":\"white\",\"minorgridcolor\":\"white\",\"startlinecolor\":\"#2a3f5f\"},\"baxis\":{\"endlinecolor\":\"#2a3f5f\",\"gridcolor\":\"white\",\"linecolor\":\"white\",\"minorgridcolor\":\"white\",\"startlinecolor\":\"#2a3f5f\"},\"type\":\"carpet\"}],\"table\":[{\"cells\":{\"fill\":{\"color\":\"#EBF0F8\"},\"line\":{\"color\":\"white\"}},\"header\":{\"fill\":{\"color\":\"#C8D4E3\"},\"line\":{\"color\":\"white\"}},\"type\":\"table\"}],\"barpolar\":[{\"marker\":{\"line\":{\"color\":\"#E5ECF6\",\"width\":0.5},\"pattern\":{\"fillmode\":\"overlay\",\"size\":10,\"solidity\":0.2}},\"type\":\"barpolar\"}],\"pie\":[{\"automargin\":true,\"type\":\"pie\"}]},\"layout\":{\"autotypenumbers\":\"strict\",\"colorway\":[\"#636efa\",\"#EF553B\",\"#00cc96\",\"#ab63fa\",\"#FFA15A\",\"#19d3f3\",\"#FF6692\",\"#B6E880\",\"#FF97FF\",\"#FECB52\"],\"font\":{\"color\":\"#2a3f5f\"},\"hovermode\":\"closest\",\"hoverlabel\":{\"align\":\"left\"},\"paper_bgcolor\":\"white\",\"plot_bgcolor\":\"#E5ECF6\",\"polar\":{\"bgcolor\":\"#E5ECF6\",\"angularaxis\":{\"gridcolor\":\"white\",\"linecolor\":\"white\",\"ticks\":\"\"},\"radialaxis\":{\"gridcolor\":\"white\",\"linecolor\":\"white\",\"ticks\":\"\"}},\"ternary\":{\"bgcolor\":\"#E5ECF6\",\"aaxis\":{\"gridcolor\":\"white\",\"linecolor\":\"white\",\"ticks\":\"\"},\"baxis\":{\"gridcolor\":\"white\",\"linecolor\":\"white\",\"ticks\":\"\"},\"caxis\":{\"gridcolor\":\"white\",\"linecolor\":\"white\",\"ticks\":\"\"}},\"coloraxis\":{\"colorbar\":{\"outlinewidth\":0,\"ticks\":\"\"}},\"colorscale\":{\"sequential\":[[0.0,\"#0d0887\"],[0.1111111111111111,\"#46039f\"],[0.2222222222222222,\"#7201a8\"],[0.3333333333333333,\"#9c179e\"],[0.4444444444444444,\"#bd3786\"],[0.5555555555555556,\"#d8576b\"],[0.6666666666666666,\"#ed7953\"],[0.7777777777777778,\"#fb9f3a\"],[0.8888888888888888,\"#fdca26\"],[1.0,\"#f0f921\"]],\"sequentialminus\":[[0.0,\"#0d0887\"],[0.1111111111111111,\"#46039f\"],[0.2222222222222222,\"#7201a8\"],[0.3333333333333333,\"#9c179e\"],[0.4444444444444444,\"#bd3786\"],[0.5555555555555556,\"#d8576b\"],[0.6666666666666666,\"#ed7953\"],[0.7777777777777778,\"#fb9f3a\"],[0.8888888888888888,\"#fdca26\"],[1.0,\"#f0f921\"]],\"diverging\":[[0,\"#8e0152\"],[0.1,\"#c51b7d\"],[0.2,\"#de77ae\"],[0.3,\"#f1b6da\"],[0.4,\"#fde0ef\"],[0.5,\"#f7f7f7\"],[0.6,\"#e6f5d0\"],[0.7,\"#b8e186\"],[0.8,\"#7fbc41\"],[0.9,\"#4d9221\"],[1,\"#276419\"]]},\"xaxis\":{\"gridcolor\":\"white\",\"linecolor\":\"white\",\"ticks\":\"\",\"title\":{\"standoff\":15},\"zerolinecolor\":\"white\",\"automargin\":true,\"zerolinewidth\":2},\"yaxis\":{\"gridcolor\":\"white\",\"linecolor\":\"white\",\"ticks\":\"\",\"title\":{\"standoff\":15},\"zerolinecolor\":\"white\",\"automargin\":true,\"zerolinewidth\":2},\"scene\":{\"xaxis\":{\"backgroundcolor\":\"#E5ECF6\",\"gridcolor\":\"white\",\"linecolor\":\"white\",\"showbackground\":true,\"ticks\":\"\",\"zerolinecolor\":\"white\",\"gridwidth\":2},\"yaxis\":{\"backgroundcolor\":\"#E5ECF6\",\"gridcolor\":\"white\",\"linecolor\":\"white\",\"showbackground\":true,\"ticks\":\"\",\"zerolinecolor\":\"white\",\"gridwidth\":2},\"zaxis\":{\"backgroundcolor\":\"#E5ECF6\",\"gridcolor\":\"white\",\"linecolor\":\"white\",\"showbackground\":true,\"ticks\":\"\",\"zerolinecolor\":\"white\",\"gridwidth\":2}},\"shapedefaults\":{\"line\":{\"color\":\"#2a3f5f\"}},\"annotationdefaults\":{\"arrowcolor\":\"#2a3f5f\",\"arrowhead\":0,\"arrowwidth\":1},\"geo\":{\"bgcolor\":\"white\",\"landcolor\":\"#E5ECF6\",\"subunitcolor\":\"white\",\"showland\":true,\"showlakes\":true,\"lakecolor\":\"white\"},\"title\":{\"x\":0.05},\"mapbox\":{\"style\":\"light\"}}},\"title\":{\"text\":\"\\u0412\\u044b\\u0440\\u0443\\u0447\\u043a\\u0430 \\u043f\\u043e \\u043c\\u0435\\u0441\\u044f\\u0446\\u0430\\u043c\",\"xanchor\":\"center\",\"x\":0.5},\"yaxis\":{\"title\":{\"text\":\"\\u0412\\u044b\\u0440\\u0443\\u0447\\u043a\\u0430\"}},\"xaxis\":{\"title\":{\"text\":\"\\u041c\\u0435\\u0441\\u044f\\u0446\"}}},                        {\"responsive\": true}                    ).then(function(){\n",
              "                            \n",
              "var gd = document.getElementById('012e9bc8-24d3-4b59-92c7-abba1dc580ac');\n",
              "var x = new MutationObserver(function (mutations, observer) {{\n",
              "        var display = window.getComputedStyle(gd).display;\n",
              "        if (!display || display === 'none') {{\n",
              "            console.log([gd, 'removed!']);\n",
              "            Plotly.purge(gd);\n",
              "            observer.disconnect();\n",
              "        }}\n",
              "}});\n",
              "\n",
              "// Listen for the removal of the full notebook cells\n",
              "var notebookContainer = gd.closest('#notebook-container');\n",
              "if (notebookContainer) {{\n",
              "    x.observe(notebookContainer, {childList: true});\n",
              "}}\n",
              "\n",
              "// Listen for the clearing of the current output cell\n",
              "var outputEl = gd.closest('.output');\n",
              "if (outputEl) {{\n",
              "    x.observe(outputEl, {childList: true});\n",
              "}}\n",
              "\n",
              "                        })                };                            </script>        </div>\n",
              "</body>\n",
              "</html>"
            ]
          },
          "metadata": {}
        }
      ],
      "source": [
        "grouped_by_date = average_elite.query('category==\"Кухня\"|category==\"Клининг\"')\\\n",
        ".groupby('month').agg({'customer_id':'nunique', 'total':'sum'}).reset_index()\n",
        "\n",
        "fig = go.Figure(data=go.Scatter(x=grouped_by_date['month'], \n",
        "                                y=grouped_by_date['total'], \n",
        "                                mode='lines',\n",
        "                                stackgroup='one'))\n",
        "fig.update_layout(\n",
        "    title={\n",
        "        'text': \"Выручка по месяцам\",\n",
        "                'xanchor': 'center',\n",
        "        'x':0.5\n",
        "    },\n",
        "    yaxis_title=\"Выручка\",\n",
        "    xaxis_title=\"Месяц\")\n",
        "fig.show()"
      ]
    },
    {
      "cell_type": "markdown",
      "metadata": {
        "id": "8Hmz8cN6F7Km"
      },
      "source": [
        "### Кластер \"above\""
      ]
    },
    {
      "cell_type": "code",
      "execution_count": 104,
      "metadata": {
        "colab": {
          "base_uri": "https://localhost:8080/",
          "height": 269
        },
        "id": "EQrdTk03F7Km",
        "outputId": "bc706418-a56a-4479-eed4-bf2418ba54d5"
      },
      "outputs": [
        {
          "output_type": "execute_result",
          "data": {
            "text/plain": [
              "                 total\n",
              "category              \n",
              "Инструменты        248\n",
              "Кухня              216\n",
              "Товары для дома    118\n",
              "Клининг            106\n",
              "Растения            44\n",
              "Другое               2"
            ],
            "text/html": [
              "\n",
              "  <div id=\"df-eec23278-f2b4-425e-b71f-a5965a662b38\">\n",
              "    <div class=\"colab-df-container\">\n",
              "      <div>\n",
              "<style scoped>\n",
              "    .dataframe tbody tr th:only-of-type {\n",
              "        vertical-align: middle;\n",
              "    }\n",
              "\n",
              "    .dataframe tbody tr th {\n",
              "        vertical-align: top;\n",
              "    }\n",
              "\n",
              "    .dataframe thead th {\n",
              "        text-align: right;\n",
              "    }\n",
              "</style>\n",
              "<table border=\"1\" class=\"dataframe\">\n",
              "  <thead>\n",
              "    <tr style=\"text-align: right;\">\n",
              "      <th></th>\n",
              "      <th>total</th>\n",
              "    </tr>\n",
              "    <tr>\n",
              "      <th>category</th>\n",
              "      <th></th>\n",
              "    </tr>\n",
              "  </thead>\n",
              "  <tbody>\n",
              "    <tr>\n",
              "      <th>Инструменты</th>\n",
              "      <td>248</td>\n",
              "    </tr>\n",
              "    <tr>\n",
              "      <th>Кухня</th>\n",
              "      <td>216</td>\n",
              "    </tr>\n",
              "    <tr>\n",
              "      <th>Товары для дома</th>\n",
              "      <td>118</td>\n",
              "    </tr>\n",
              "    <tr>\n",
              "      <th>Клининг</th>\n",
              "      <td>106</td>\n",
              "    </tr>\n",
              "    <tr>\n",
              "      <th>Растения</th>\n",
              "      <td>44</td>\n",
              "    </tr>\n",
              "    <tr>\n",
              "      <th>Другое</th>\n",
              "      <td>2</td>\n",
              "    </tr>\n",
              "  </tbody>\n",
              "</table>\n",
              "</div>\n",
              "      <button class=\"colab-df-convert\" onclick=\"convertToInteractive('df-eec23278-f2b4-425e-b71f-a5965a662b38')\"\n",
              "              title=\"Convert this dataframe to an interactive table.\"\n",
              "              style=\"display:none;\">\n",
              "        \n",
              "  <svg xmlns=\"http://www.w3.org/2000/svg\" height=\"24px\"viewBox=\"0 0 24 24\"\n",
              "       width=\"24px\">\n",
              "    <path d=\"M0 0h24v24H0V0z\" fill=\"none\"/>\n",
              "    <path d=\"M18.56 5.44l.94 2.06.94-2.06 2.06-.94-2.06-.94-.94-2.06-.94 2.06-2.06.94zm-11 1L8.5 8.5l.94-2.06 2.06-.94-2.06-.94L8.5 2.5l-.94 2.06-2.06.94zm10 10l.94 2.06.94-2.06 2.06-.94-2.06-.94-.94-2.06-.94 2.06-2.06.94z\"/><path d=\"M17.41 7.96l-1.37-1.37c-.4-.4-.92-.59-1.43-.59-.52 0-1.04.2-1.43.59L10.3 9.45l-7.72 7.72c-.78.78-.78 2.05 0 2.83L4 21.41c.39.39.9.59 1.41.59.51 0 1.02-.2 1.41-.59l7.78-7.78 2.81-2.81c.8-.78.8-2.07 0-2.86zM5.41 20L4 18.59l7.72-7.72 1.47 1.35L5.41 20z\"/>\n",
              "  </svg>\n",
              "      </button>\n",
              "      \n",
              "  <style>\n",
              "    .colab-df-container {\n",
              "      display:flex;\n",
              "      flex-wrap:wrap;\n",
              "      gap: 12px;\n",
              "    }\n",
              "\n",
              "    .colab-df-convert {\n",
              "      background-color: #E8F0FE;\n",
              "      border: none;\n",
              "      border-radius: 50%;\n",
              "      cursor: pointer;\n",
              "      display: none;\n",
              "      fill: #1967D2;\n",
              "      height: 32px;\n",
              "      padding: 0 0 0 0;\n",
              "      width: 32px;\n",
              "    }\n",
              "\n",
              "    .colab-df-convert:hover {\n",
              "      background-color: #E2EBFA;\n",
              "      box-shadow: 0px 1px 2px rgba(60, 64, 67, 0.3), 0px 1px 3px 1px rgba(60, 64, 67, 0.15);\n",
              "      fill: #174EA6;\n",
              "    }\n",
              "\n",
              "    [theme=dark] .colab-df-convert {\n",
              "      background-color: #3B4455;\n",
              "      fill: #D2E3FC;\n",
              "    }\n",
              "\n",
              "    [theme=dark] .colab-df-convert:hover {\n",
              "      background-color: #434B5C;\n",
              "      box-shadow: 0px 1px 3px 1px rgba(0, 0, 0, 0.15);\n",
              "      filter: drop-shadow(0px 1px 2px rgba(0, 0, 0, 0.3));\n",
              "      fill: #FFFFFF;\n",
              "    }\n",
              "  </style>\n",
              "\n",
              "      <script>\n",
              "        const buttonEl =\n",
              "          document.querySelector('#df-eec23278-f2b4-425e-b71f-a5965a662b38 button.colab-df-convert');\n",
              "        buttonEl.style.display =\n",
              "          google.colab.kernel.accessAllowed ? 'block' : 'none';\n",
              "\n",
              "        async function convertToInteractive(key) {\n",
              "          const element = document.querySelector('#df-eec23278-f2b4-425e-b71f-a5965a662b38');\n",
              "          const dataTable =\n",
              "            await google.colab.kernel.invokeFunction('convertToInteractive',\n",
              "                                                     [key], {});\n",
              "          if (!dataTable) return;\n",
              "\n",
              "          const docLinkHtml = 'Like what you see? Visit the ' +\n",
              "            '<a target=\"_blank\" href=https://colab.research.google.com/notebooks/data_table.ipynb>data table notebook</a>'\n",
              "            + ' to learn more about interactive tables.';\n",
              "          element.innerHTML = '';\n",
              "          dataTable['output_type'] = 'display_data';\n",
              "          await google.colab.output.renderOutput(dataTable, element);\n",
              "          const docLink = document.createElement('div');\n",
              "          docLink.innerHTML = docLinkHtml;\n",
              "          element.appendChild(docLink);\n",
              "        }\n",
              "      </script>\n",
              "    </div>\n",
              "  </div>\n",
              "  "
            ]
          },
          "metadata": {},
          "execution_count": 104
        }
      ],
      "source": [
        "above.pivot_table(index='category',values='total',aggfunc='count').sort_values(by='total',ascending =False)"
      ]
    },
    {
      "cell_type": "code",
      "execution_count": 105,
      "metadata": {
        "colab": {
          "base_uri": "https://localhost:8080/",
          "height": 542
        },
        "id": "kgdj4InLF7Km",
        "outputId": "27744468-b4fb-4c01-fb70-a364cbecad86"
      },
      "outputs": [
        {
          "output_type": "display_data",
          "data": {
            "text/html": [
              "<html>\n",
              "<head><meta charset=\"utf-8\" /></head>\n",
              "<body>\n",
              "    <div>            <script src=\"https://cdnjs.cloudflare.com/ajax/libs/mathjax/2.7.5/MathJax.js?config=TeX-AMS-MML_SVG\"></script><script type=\"text/javascript\">if (window.MathJax && window.MathJax.Hub && window.MathJax.Hub.Config) {window.MathJax.Hub.Config({SVG: {font: \"STIX-Web\"}});}</script>                <script type=\"text/javascript\">window.PlotlyConfig = {MathJaxConfig: 'local'};</script>\n",
              "        <script src=\"https://cdn.plot.ly/plotly-2.18.2.min.js\"></script>                <div id=\"ad5e2168-4cec-4eae-8957-2e8890468a09\" class=\"plotly-graph-div\" style=\"height:525px; width:100%;\"></div>            <script type=\"text/javascript\">                                    window.PLOTLYENV=window.PLOTLYENV || {};                                    if (document.getElementById(\"ad5e2168-4cec-4eae-8957-2e8890468a09\")) {                    Plotly.newPlot(                        \"ad5e2168-4cec-4eae-8957-2e8890468a09\",                        [{\"mode\":\"lines\",\"stackgroup\":\"one\",\"x\":[\"2018-10-01T00:00:00\",\"2018-11-01T00:00:00\",\"2018-12-01T00:00:00\",\"2019-01-01T00:00:00\",\"2019-02-01T00:00:00\",\"2019-03-01T00:00:00\",\"2019-04-01T00:00:00\",\"2019-05-01T00:00:00\",\"2019-06-01T00:00:00\",\"2019-07-01T00:00:00\",\"2019-08-01T00:00:00\",\"2019-09-01T00:00:00\",\"2019-10-01T00:00:00\"],\"y\":[91357.0,141387.0,124656.0,64398.0,95687.0,92516.0,84087.0,61369.0,71801.0,95191.0,72483.0,62485.0,59232.0],\"type\":\"scatter\"}],                        {\"template\":{\"data\":{\"histogram2dcontour\":[{\"type\":\"histogram2dcontour\",\"colorbar\":{\"outlinewidth\":0,\"ticks\":\"\"},\"colorscale\":[[0.0,\"#0d0887\"],[0.1111111111111111,\"#46039f\"],[0.2222222222222222,\"#7201a8\"],[0.3333333333333333,\"#9c179e\"],[0.4444444444444444,\"#bd3786\"],[0.5555555555555556,\"#d8576b\"],[0.6666666666666666,\"#ed7953\"],[0.7777777777777778,\"#fb9f3a\"],[0.8888888888888888,\"#fdca26\"],[1.0,\"#f0f921\"]]}],\"choropleth\":[{\"type\":\"choropleth\",\"colorbar\":{\"outlinewidth\":0,\"ticks\":\"\"}}],\"histogram2d\":[{\"type\":\"histogram2d\",\"colorbar\":{\"outlinewidth\":0,\"ticks\":\"\"},\"colorscale\":[[0.0,\"#0d0887\"],[0.1111111111111111,\"#46039f\"],[0.2222222222222222,\"#7201a8\"],[0.3333333333333333,\"#9c179e\"],[0.4444444444444444,\"#bd3786\"],[0.5555555555555556,\"#d8576b\"],[0.6666666666666666,\"#ed7953\"],[0.7777777777777778,\"#fb9f3a\"],[0.8888888888888888,\"#fdca26\"],[1.0,\"#f0f921\"]]}],\"heatmap\":[{\"type\":\"heatmap\",\"colorbar\":{\"outlinewidth\":0,\"ticks\":\"\"},\"colorscale\":[[0.0,\"#0d0887\"],[0.1111111111111111,\"#46039f\"],[0.2222222222222222,\"#7201a8\"],[0.3333333333333333,\"#9c179e\"],[0.4444444444444444,\"#bd3786\"],[0.5555555555555556,\"#d8576b\"],[0.6666666666666666,\"#ed7953\"],[0.7777777777777778,\"#fb9f3a\"],[0.8888888888888888,\"#fdca26\"],[1.0,\"#f0f921\"]]}],\"heatmapgl\":[{\"type\":\"heatmapgl\",\"colorbar\":{\"outlinewidth\":0,\"ticks\":\"\"},\"colorscale\":[[0.0,\"#0d0887\"],[0.1111111111111111,\"#46039f\"],[0.2222222222222222,\"#7201a8\"],[0.3333333333333333,\"#9c179e\"],[0.4444444444444444,\"#bd3786\"],[0.5555555555555556,\"#d8576b\"],[0.6666666666666666,\"#ed7953\"],[0.7777777777777778,\"#fb9f3a\"],[0.8888888888888888,\"#fdca26\"],[1.0,\"#f0f921\"]]}],\"contourcarpet\":[{\"type\":\"contourcarpet\",\"colorbar\":{\"outlinewidth\":0,\"ticks\":\"\"}}],\"contour\":[{\"type\":\"contour\",\"colorbar\":{\"outlinewidth\":0,\"ticks\":\"\"},\"colorscale\":[[0.0,\"#0d0887\"],[0.1111111111111111,\"#46039f\"],[0.2222222222222222,\"#7201a8\"],[0.3333333333333333,\"#9c179e\"],[0.4444444444444444,\"#bd3786\"],[0.5555555555555556,\"#d8576b\"],[0.6666666666666666,\"#ed7953\"],[0.7777777777777778,\"#fb9f3a\"],[0.8888888888888888,\"#fdca26\"],[1.0,\"#f0f921\"]]}],\"surface\":[{\"type\":\"surface\",\"colorbar\":{\"outlinewidth\":0,\"ticks\":\"\"},\"colorscale\":[[0.0,\"#0d0887\"],[0.1111111111111111,\"#46039f\"],[0.2222222222222222,\"#7201a8\"],[0.3333333333333333,\"#9c179e\"],[0.4444444444444444,\"#bd3786\"],[0.5555555555555556,\"#d8576b\"],[0.6666666666666666,\"#ed7953\"],[0.7777777777777778,\"#fb9f3a\"],[0.8888888888888888,\"#fdca26\"],[1.0,\"#f0f921\"]]}],\"mesh3d\":[{\"type\":\"mesh3d\",\"colorbar\":{\"outlinewidth\":0,\"ticks\":\"\"}}],\"scatter\":[{\"fillpattern\":{\"fillmode\":\"overlay\",\"size\":10,\"solidity\":0.2},\"type\":\"scatter\"}],\"parcoords\":[{\"type\":\"parcoords\",\"line\":{\"colorbar\":{\"outlinewidth\":0,\"ticks\":\"\"}}}],\"scatterpolargl\":[{\"type\":\"scatterpolargl\",\"marker\":{\"colorbar\":{\"outlinewidth\":0,\"ticks\":\"\"}}}],\"bar\":[{\"error_x\":{\"color\":\"#2a3f5f\"},\"error_y\":{\"color\":\"#2a3f5f\"},\"marker\":{\"line\":{\"color\":\"#E5ECF6\",\"width\":0.5},\"pattern\":{\"fillmode\":\"overlay\",\"size\":10,\"solidity\":0.2}},\"type\":\"bar\"}],\"scattergeo\":[{\"type\":\"scattergeo\",\"marker\":{\"colorbar\":{\"outlinewidth\":0,\"ticks\":\"\"}}}],\"scatterpolar\":[{\"type\":\"scatterpolar\",\"marker\":{\"colorbar\":{\"outlinewidth\":0,\"ticks\":\"\"}}}],\"histogram\":[{\"marker\":{\"pattern\":{\"fillmode\":\"overlay\",\"size\":10,\"solidity\":0.2}},\"type\":\"histogram\"}],\"scattergl\":[{\"type\":\"scattergl\",\"marker\":{\"colorbar\":{\"outlinewidth\":0,\"ticks\":\"\"}}}],\"scatter3d\":[{\"type\":\"scatter3d\",\"line\":{\"colorbar\":{\"outlinewidth\":0,\"ticks\":\"\"}},\"marker\":{\"colorbar\":{\"outlinewidth\":0,\"ticks\":\"\"}}}],\"scattermapbox\":[{\"type\":\"scattermapbox\",\"marker\":{\"colorbar\":{\"outlinewidth\":0,\"ticks\":\"\"}}}],\"scatterternary\":[{\"type\":\"scatterternary\",\"marker\":{\"colorbar\":{\"outlinewidth\":0,\"ticks\":\"\"}}}],\"scattercarpet\":[{\"type\":\"scattercarpet\",\"marker\":{\"colorbar\":{\"outlinewidth\":0,\"ticks\":\"\"}}}],\"carpet\":[{\"aaxis\":{\"endlinecolor\":\"#2a3f5f\",\"gridcolor\":\"white\",\"linecolor\":\"white\",\"minorgridcolor\":\"white\",\"startlinecolor\":\"#2a3f5f\"},\"baxis\":{\"endlinecolor\":\"#2a3f5f\",\"gridcolor\":\"white\",\"linecolor\":\"white\",\"minorgridcolor\":\"white\",\"startlinecolor\":\"#2a3f5f\"},\"type\":\"carpet\"}],\"table\":[{\"cells\":{\"fill\":{\"color\":\"#EBF0F8\"},\"line\":{\"color\":\"white\"}},\"header\":{\"fill\":{\"color\":\"#C8D4E3\"},\"line\":{\"color\":\"white\"}},\"type\":\"table\"}],\"barpolar\":[{\"marker\":{\"line\":{\"color\":\"#E5ECF6\",\"width\":0.5},\"pattern\":{\"fillmode\":\"overlay\",\"size\":10,\"solidity\":0.2}},\"type\":\"barpolar\"}],\"pie\":[{\"automargin\":true,\"type\":\"pie\"}]},\"layout\":{\"autotypenumbers\":\"strict\",\"colorway\":[\"#636efa\",\"#EF553B\",\"#00cc96\",\"#ab63fa\",\"#FFA15A\",\"#19d3f3\",\"#FF6692\",\"#B6E880\",\"#FF97FF\",\"#FECB52\"],\"font\":{\"color\":\"#2a3f5f\"},\"hovermode\":\"closest\",\"hoverlabel\":{\"align\":\"left\"},\"paper_bgcolor\":\"white\",\"plot_bgcolor\":\"#E5ECF6\",\"polar\":{\"bgcolor\":\"#E5ECF6\",\"angularaxis\":{\"gridcolor\":\"white\",\"linecolor\":\"white\",\"ticks\":\"\"},\"radialaxis\":{\"gridcolor\":\"white\",\"linecolor\":\"white\",\"ticks\":\"\"}},\"ternary\":{\"bgcolor\":\"#E5ECF6\",\"aaxis\":{\"gridcolor\":\"white\",\"linecolor\":\"white\",\"ticks\":\"\"},\"baxis\":{\"gridcolor\":\"white\",\"linecolor\":\"white\",\"ticks\":\"\"},\"caxis\":{\"gridcolor\":\"white\",\"linecolor\":\"white\",\"ticks\":\"\"}},\"coloraxis\":{\"colorbar\":{\"outlinewidth\":0,\"ticks\":\"\"}},\"colorscale\":{\"sequential\":[[0.0,\"#0d0887\"],[0.1111111111111111,\"#46039f\"],[0.2222222222222222,\"#7201a8\"],[0.3333333333333333,\"#9c179e\"],[0.4444444444444444,\"#bd3786\"],[0.5555555555555556,\"#d8576b\"],[0.6666666666666666,\"#ed7953\"],[0.7777777777777778,\"#fb9f3a\"],[0.8888888888888888,\"#fdca26\"],[1.0,\"#f0f921\"]],\"sequentialminus\":[[0.0,\"#0d0887\"],[0.1111111111111111,\"#46039f\"],[0.2222222222222222,\"#7201a8\"],[0.3333333333333333,\"#9c179e\"],[0.4444444444444444,\"#bd3786\"],[0.5555555555555556,\"#d8576b\"],[0.6666666666666666,\"#ed7953\"],[0.7777777777777778,\"#fb9f3a\"],[0.8888888888888888,\"#fdca26\"],[1.0,\"#f0f921\"]],\"diverging\":[[0,\"#8e0152\"],[0.1,\"#c51b7d\"],[0.2,\"#de77ae\"],[0.3,\"#f1b6da\"],[0.4,\"#fde0ef\"],[0.5,\"#f7f7f7\"],[0.6,\"#e6f5d0\"],[0.7,\"#b8e186\"],[0.8,\"#7fbc41\"],[0.9,\"#4d9221\"],[1,\"#276419\"]]},\"xaxis\":{\"gridcolor\":\"white\",\"linecolor\":\"white\",\"ticks\":\"\",\"title\":{\"standoff\":15},\"zerolinecolor\":\"white\",\"automargin\":true,\"zerolinewidth\":2},\"yaxis\":{\"gridcolor\":\"white\",\"linecolor\":\"white\",\"ticks\":\"\",\"title\":{\"standoff\":15},\"zerolinecolor\":\"white\",\"automargin\":true,\"zerolinewidth\":2},\"scene\":{\"xaxis\":{\"backgroundcolor\":\"#E5ECF6\",\"gridcolor\":\"white\",\"linecolor\":\"white\",\"showbackground\":true,\"ticks\":\"\",\"zerolinecolor\":\"white\",\"gridwidth\":2},\"yaxis\":{\"backgroundcolor\":\"#E5ECF6\",\"gridcolor\":\"white\",\"linecolor\":\"white\",\"showbackground\":true,\"ticks\":\"\",\"zerolinecolor\":\"white\",\"gridwidth\":2},\"zaxis\":{\"backgroundcolor\":\"#E5ECF6\",\"gridcolor\":\"white\",\"linecolor\":\"white\",\"showbackground\":true,\"ticks\":\"\",\"zerolinecolor\":\"white\",\"gridwidth\":2}},\"shapedefaults\":{\"line\":{\"color\":\"#2a3f5f\"}},\"annotationdefaults\":{\"arrowcolor\":\"#2a3f5f\",\"arrowhead\":0,\"arrowwidth\":1},\"geo\":{\"bgcolor\":\"white\",\"landcolor\":\"#E5ECF6\",\"subunitcolor\":\"white\",\"showland\":true,\"showlakes\":true,\"lakecolor\":\"white\"},\"title\":{\"x\":0.05},\"mapbox\":{\"style\":\"light\"}}},\"title\":{\"text\":\"\\u0412\\u044b\\u0440\\u0443\\u0447\\u043a\\u0430 \\u043f\\u043e \\u043c\\u0435\\u0441\\u044f\\u0446\\u0430\\u043c\",\"xanchor\":\"center\",\"x\":0.5},\"yaxis\":{\"title\":{\"text\":\"\\u0412\\u044b\\u0440\\u0443\\u0447\\u043a\\u0430\"}},\"xaxis\":{\"title\":{\"text\":\"\\u041c\\u0435\\u0441\\u044f\\u0446\"}}},                        {\"responsive\": true}                    ).then(function(){\n",
              "                            \n",
              "var gd = document.getElementById('ad5e2168-4cec-4eae-8957-2e8890468a09');\n",
              "var x = new MutationObserver(function (mutations, observer) {{\n",
              "        var display = window.getComputedStyle(gd).display;\n",
              "        if (!display || display === 'none') {{\n",
              "            console.log([gd, 'removed!']);\n",
              "            Plotly.purge(gd);\n",
              "            observer.disconnect();\n",
              "        }}\n",
              "}});\n",
              "\n",
              "// Listen for the removal of the full notebook cells\n",
              "var notebookContainer = gd.closest('#notebook-container');\n",
              "if (notebookContainer) {{\n",
              "    x.observe(notebookContainer, {childList: true});\n",
              "}}\n",
              "\n",
              "// Listen for the clearing of the current output cell\n",
              "var outputEl = gd.closest('.output');\n",
              "if (outputEl) {{\n",
              "    x.observe(outputEl, {childList: true});\n",
              "}}\n",
              "\n",
              "                        })                };                            </script>        </div>\n",
              "</body>\n",
              "</html>"
            ]
          },
          "metadata": {}
        }
      ],
      "source": [
        "grouped_by_date = above.query('category== \"Инструменты\"|category==\"Кухня\"').groupby('month').agg({'customer_id':'nunique', 'total':'sum'}).reset_index()\n",
        "\n",
        "fig = go.Figure(data=go.Scatter(x=grouped_by_date['month'], \n",
        "                                y=grouped_by_date['total'], \n",
        "                                mode='lines',\n",
        "                                stackgroup='one'))\n",
        "fig.update_layout(\n",
        "    title={\n",
        "        'text': \"Выручка по месяцам\",\n",
        "                'xanchor': 'center',\n",
        "        'x':0.5\n",
        "    },\n",
        "    yaxis_title=\"Выручка\",\n",
        "    xaxis_title=\"Месяц\")\n",
        "fig.show()"
      ]
    },
    {
      "cell_type": "markdown",
      "metadata": {
        "id": "IVGtDuxAF7Ko"
      },
      "source": [
        "### Кластер \"above_elite\""
      ]
    },
    {
      "cell_type": "code",
      "execution_count": 106,
      "metadata": {
        "colab": {
          "base_uri": "https://localhost:8080/",
          "height": 238
        },
        "id": "9Mp0A1n5F7Ko",
        "outputId": "64dfa774-90d1-4a80-bdfa-828c68d1371a"
      },
      "outputs": [
        {
          "output_type": "execute_result",
          "data": {
            "text/plain": [
              "                 total\n",
              "category              \n",
              "Инструменты         35\n",
              "Клининг             19\n",
              "Кухня               17\n",
              "Растения            10\n",
              "Товары для дома     10"
            ],
            "text/html": [
              "\n",
              "  <div id=\"df-864e3bf4-dbbc-4666-9173-69d213824d39\">\n",
              "    <div class=\"colab-df-container\">\n",
              "      <div>\n",
              "<style scoped>\n",
              "    .dataframe tbody tr th:only-of-type {\n",
              "        vertical-align: middle;\n",
              "    }\n",
              "\n",
              "    .dataframe tbody tr th {\n",
              "        vertical-align: top;\n",
              "    }\n",
              "\n",
              "    .dataframe thead th {\n",
              "        text-align: right;\n",
              "    }\n",
              "</style>\n",
              "<table border=\"1\" class=\"dataframe\">\n",
              "  <thead>\n",
              "    <tr style=\"text-align: right;\">\n",
              "      <th></th>\n",
              "      <th>total</th>\n",
              "    </tr>\n",
              "    <tr>\n",
              "      <th>category</th>\n",
              "      <th></th>\n",
              "    </tr>\n",
              "  </thead>\n",
              "  <tbody>\n",
              "    <tr>\n",
              "      <th>Инструменты</th>\n",
              "      <td>35</td>\n",
              "    </tr>\n",
              "    <tr>\n",
              "      <th>Клининг</th>\n",
              "      <td>19</td>\n",
              "    </tr>\n",
              "    <tr>\n",
              "      <th>Кухня</th>\n",
              "      <td>17</td>\n",
              "    </tr>\n",
              "    <tr>\n",
              "      <th>Растения</th>\n",
              "      <td>10</td>\n",
              "    </tr>\n",
              "    <tr>\n",
              "      <th>Товары для дома</th>\n",
              "      <td>10</td>\n",
              "    </tr>\n",
              "  </tbody>\n",
              "</table>\n",
              "</div>\n",
              "      <button class=\"colab-df-convert\" onclick=\"convertToInteractive('df-864e3bf4-dbbc-4666-9173-69d213824d39')\"\n",
              "              title=\"Convert this dataframe to an interactive table.\"\n",
              "              style=\"display:none;\">\n",
              "        \n",
              "  <svg xmlns=\"http://www.w3.org/2000/svg\" height=\"24px\"viewBox=\"0 0 24 24\"\n",
              "       width=\"24px\">\n",
              "    <path d=\"M0 0h24v24H0V0z\" fill=\"none\"/>\n",
              "    <path d=\"M18.56 5.44l.94 2.06.94-2.06 2.06-.94-2.06-.94-.94-2.06-.94 2.06-2.06.94zm-11 1L8.5 8.5l.94-2.06 2.06-.94-2.06-.94L8.5 2.5l-.94 2.06-2.06.94zm10 10l.94 2.06.94-2.06 2.06-.94-2.06-.94-.94-2.06-.94 2.06-2.06.94z\"/><path d=\"M17.41 7.96l-1.37-1.37c-.4-.4-.92-.59-1.43-.59-.52 0-1.04.2-1.43.59L10.3 9.45l-7.72 7.72c-.78.78-.78 2.05 0 2.83L4 21.41c.39.39.9.59 1.41.59.51 0 1.02-.2 1.41-.59l7.78-7.78 2.81-2.81c.8-.78.8-2.07 0-2.86zM5.41 20L4 18.59l7.72-7.72 1.47 1.35L5.41 20z\"/>\n",
              "  </svg>\n",
              "      </button>\n",
              "      \n",
              "  <style>\n",
              "    .colab-df-container {\n",
              "      display:flex;\n",
              "      flex-wrap:wrap;\n",
              "      gap: 12px;\n",
              "    }\n",
              "\n",
              "    .colab-df-convert {\n",
              "      background-color: #E8F0FE;\n",
              "      border: none;\n",
              "      border-radius: 50%;\n",
              "      cursor: pointer;\n",
              "      display: none;\n",
              "      fill: #1967D2;\n",
              "      height: 32px;\n",
              "      padding: 0 0 0 0;\n",
              "      width: 32px;\n",
              "    }\n",
              "\n",
              "    .colab-df-convert:hover {\n",
              "      background-color: #E2EBFA;\n",
              "      box-shadow: 0px 1px 2px rgba(60, 64, 67, 0.3), 0px 1px 3px 1px rgba(60, 64, 67, 0.15);\n",
              "      fill: #174EA6;\n",
              "    }\n",
              "\n",
              "    [theme=dark] .colab-df-convert {\n",
              "      background-color: #3B4455;\n",
              "      fill: #D2E3FC;\n",
              "    }\n",
              "\n",
              "    [theme=dark] .colab-df-convert:hover {\n",
              "      background-color: #434B5C;\n",
              "      box-shadow: 0px 1px 3px 1px rgba(0, 0, 0, 0.15);\n",
              "      filter: drop-shadow(0px 1px 2px rgba(0, 0, 0, 0.3));\n",
              "      fill: #FFFFFF;\n",
              "    }\n",
              "  </style>\n",
              "\n",
              "      <script>\n",
              "        const buttonEl =\n",
              "          document.querySelector('#df-864e3bf4-dbbc-4666-9173-69d213824d39 button.colab-df-convert');\n",
              "        buttonEl.style.display =\n",
              "          google.colab.kernel.accessAllowed ? 'block' : 'none';\n",
              "\n",
              "        async function convertToInteractive(key) {\n",
              "          const element = document.querySelector('#df-864e3bf4-dbbc-4666-9173-69d213824d39');\n",
              "          const dataTable =\n",
              "            await google.colab.kernel.invokeFunction('convertToInteractive',\n",
              "                                                     [key], {});\n",
              "          if (!dataTable) return;\n",
              "\n",
              "          const docLinkHtml = 'Like what you see? Visit the ' +\n",
              "            '<a target=\"_blank\" href=https://colab.research.google.com/notebooks/data_table.ipynb>data table notebook</a>'\n",
              "            + ' to learn more about interactive tables.';\n",
              "          element.innerHTML = '';\n",
              "          dataTable['output_type'] = 'display_data';\n",
              "          await google.colab.output.renderOutput(dataTable, element);\n",
              "          const docLink = document.createElement('div');\n",
              "          docLink.innerHTML = docLinkHtml;\n",
              "          element.appendChild(docLink);\n",
              "        }\n",
              "      </script>\n",
              "    </div>\n",
              "  </div>\n",
              "  "
            ]
          },
          "metadata": {},
          "execution_count": 106
        }
      ],
      "source": [
        "above_elite.pivot_table(index='category',values='total',aggfunc='count').sort_values(by='total',ascending =False)"
      ]
    },
    {
      "cell_type": "code",
      "execution_count": 107,
      "metadata": {
        "colab": {
          "base_uri": "https://localhost:8080/",
          "height": 542
        },
        "id": "Ddw7b831F7Ko",
        "outputId": "74aeeea3-4ada-474f-9ad5-ecd5aa9bbc53"
      },
      "outputs": [
        {
          "output_type": "display_data",
          "data": {
            "text/html": [
              "<html>\n",
              "<head><meta charset=\"utf-8\" /></head>\n",
              "<body>\n",
              "    <div>            <script src=\"https://cdnjs.cloudflare.com/ajax/libs/mathjax/2.7.5/MathJax.js?config=TeX-AMS-MML_SVG\"></script><script type=\"text/javascript\">if (window.MathJax && window.MathJax.Hub && window.MathJax.Hub.Config) {window.MathJax.Hub.Config({SVG: {font: \"STIX-Web\"}});}</script>                <script type=\"text/javascript\">window.PlotlyConfig = {MathJaxConfig: 'local'};</script>\n",
              "        <script src=\"https://cdn.plot.ly/plotly-2.18.2.min.js\"></script>                <div id=\"60ebca54-c169-4306-b5b1-e7b68c0d7a89\" class=\"plotly-graph-div\" style=\"height:525px; width:100%;\"></div>            <script type=\"text/javascript\">                                    window.PLOTLYENV=window.PLOTLYENV || {};                                    if (document.getElementById(\"60ebca54-c169-4306-b5b1-e7b68c0d7a89\")) {                    Plotly.newPlot(                        \"60ebca54-c169-4306-b5b1-e7b68c0d7a89\",                        [{\"mode\":\"lines\",\"stackgroup\":\"one\",\"x\":[\"2018-10-01T00:00:00\",\"2018-11-01T00:00:00\",\"2018-12-01T00:00:00\",\"2019-01-01T00:00:00\",\"2019-02-01T00:00:00\",\"2019-03-01T00:00:00\",\"2019-04-01T00:00:00\",\"2019-05-01T00:00:00\",\"2019-08-01T00:00:00\",\"2019-10-01T00:00:00\"],\"y\":[17473.0,15537.0,13247.0,4957.0,12852.0,4874.0,5398.0,6097.0,3261.0,12747.0],\"type\":\"scatter\"}],                        {\"template\":{\"data\":{\"histogram2dcontour\":[{\"type\":\"histogram2dcontour\",\"colorbar\":{\"outlinewidth\":0,\"ticks\":\"\"},\"colorscale\":[[0.0,\"#0d0887\"],[0.1111111111111111,\"#46039f\"],[0.2222222222222222,\"#7201a8\"],[0.3333333333333333,\"#9c179e\"],[0.4444444444444444,\"#bd3786\"],[0.5555555555555556,\"#d8576b\"],[0.6666666666666666,\"#ed7953\"],[0.7777777777777778,\"#fb9f3a\"],[0.8888888888888888,\"#fdca26\"],[1.0,\"#f0f921\"]]}],\"choropleth\":[{\"type\":\"choropleth\",\"colorbar\":{\"outlinewidth\":0,\"ticks\":\"\"}}],\"histogram2d\":[{\"type\":\"histogram2d\",\"colorbar\":{\"outlinewidth\":0,\"ticks\":\"\"},\"colorscale\":[[0.0,\"#0d0887\"],[0.1111111111111111,\"#46039f\"],[0.2222222222222222,\"#7201a8\"],[0.3333333333333333,\"#9c179e\"],[0.4444444444444444,\"#bd3786\"],[0.5555555555555556,\"#d8576b\"],[0.6666666666666666,\"#ed7953\"],[0.7777777777777778,\"#fb9f3a\"],[0.8888888888888888,\"#fdca26\"],[1.0,\"#f0f921\"]]}],\"heatmap\":[{\"type\":\"heatmap\",\"colorbar\":{\"outlinewidth\":0,\"ticks\":\"\"},\"colorscale\":[[0.0,\"#0d0887\"],[0.1111111111111111,\"#46039f\"],[0.2222222222222222,\"#7201a8\"],[0.3333333333333333,\"#9c179e\"],[0.4444444444444444,\"#bd3786\"],[0.5555555555555556,\"#d8576b\"],[0.6666666666666666,\"#ed7953\"],[0.7777777777777778,\"#fb9f3a\"],[0.8888888888888888,\"#fdca26\"],[1.0,\"#f0f921\"]]}],\"heatmapgl\":[{\"type\":\"heatmapgl\",\"colorbar\":{\"outlinewidth\":0,\"ticks\":\"\"},\"colorscale\":[[0.0,\"#0d0887\"],[0.1111111111111111,\"#46039f\"],[0.2222222222222222,\"#7201a8\"],[0.3333333333333333,\"#9c179e\"],[0.4444444444444444,\"#bd3786\"],[0.5555555555555556,\"#d8576b\"],[0.6666666666666666,\"#ed7953\"],[0.7777777777777778,\"#fb9f3a\"],[0.8888888888888888,\"#fdca26\"],[1.0,\"#f0f921\"]]}],\"contourcarpet\":[{\"type\":\"contourcarpet\",\"colorbar\":{\"outlinewidth\":0,\"ticks\":\"\"}}],\"contour\":[{\"type\":\"contour\",\"colorbar\":{\"outlinewidth\":0,\"ticks\":\"\"},\"colorscale\":[[0.0,\"#0d0887\"],[0.1111111111111111,\"#46039f\"],[0.2222222222222222,\"#7201a8\"],[0.3333333333333333,\"#9c179e\"],[0.4444444444444444,\"#bd3786\"],[0.5555555555555556,\"#d8576b\"],[0.6666666666666666,\"#ed7953\"],[0.7777777777777778,\"#fb9f3a\"],[0.8888888888888888,\"#fdca26\"],[1.0,\"#f0f921\"]]}],\"surface\":[{\"type\":\"surface\",\"colorbar\":{\"outlinewidth\":0,\"ticks\":\"\"},\"colorscale\":[[0.0,\"#0d0887\"],[0.1111111111111111,\"#46039f\"],[0.2222222222222222,\"#7201a8\"],[0.3333333333333333,\"#9c179e\"],[0.4444444444444444,\"#bd3786\"],[0.5555555555555556,\"#d8576b\"],[0.6666666666666666,\"#ed7953\"],[0.7777777777777778,\"#fb9f3a\"],[0.8888888888888888,\"#fdca26\"],[1.0,\"#f0f921\"]]}],\"mesh3d\":[{\"type\":\"mesh3d\",\"colorbar\":{\"outlinewidth\":0,\"ticks\":\"\"}}],\"scatter\":[{\"fillpattern\":{\"fillmode\":\"overlay\",\"size\":10,\"solidity\":0.2},\"type\":\"scatter\"}],\"parcoords\":[{\"type\":\"parcoords\",\"line\":{\"colorbar\":{\"outlinewidth\":0,\"ticks\":\"\"}}}],\"scatterpolargl\":[{\"type\":\"scatterpolargl\",\"marker\":{\"colorbar\":{\"outlinewidth\":0,\"ticks\":\"\"}}}],\"bar\":[{\"error_x\":{\"color\":\"#2a3f5f\"},\"error_y\":{\"color\":\"#2a3f5f\"},\"marker\":{\"line\":{\"color\":\"#E5ECF6\",\"width\":0.5},\"pattern\":{\"fillmode\":\"overlay\",\"size\":10,\"solidity\":0.2}},\"type\":\"bar\"}],\"scattergeo\":[{\"type\":\"scattergeo\",\"marker\":{\"colorbar\":{\"outlinewidth\":0,\"ticks\":\"\"}}}],\"scatterpolar\":[{\"type\":\"scatterpolar\",\"marker\":{\"colorbar\":{\"outlinewidth\":0,\"ticks\":\"\"}}}],\"histogram\":[{\"marker\":{\"pattern\":{\"fillmode\":\"overlay\",\"size\":10,\"solidity\":0.2}},\"type\":\"histogram\"}],\"scattergl\":[{\"type\":\"scattergl\",\"marker\":{\"colorbar\":{\"outlinewidth\":0,\"ticks\":\"\"}}}],\"scatter3d\":[{\"type\":\"scatter3d\",\"line\":{\"colorbar\":{\"outlinewidth\":0,\"ticks\":\"\"}},\"marker\":{\"colorbar\":{\"outlinewidth\":0,\"ticks\":\"\"}}}],\"scattermapbox\":[{\"type\":\"scattermapbox\",\"marker\":{\"colorbar\":{\"outlinewidth\":0,\"ticks\":\"\"}}}],\"scatterternary\":[{\"type\":\"scatterternary\",\"marker\":{\"colorbar\":{\"outlinewidth\":0,\"ticks\":\"\"}}}],\"scattercarpet\":[{\"type\":\"scattercarpet\",\"marker\":{\"colorbar\":{\"outlinewidth\":0,\"ticks\":\"\"}}}],\"carpet\":[{\"aaxis\":{\"endlinecolor\":\"#2a3f5f\",\"gridcolor\":\"white\",\"linecolor\":\"white\",\"minorgridcolor\":\"white\",\"startlinecolor\":\"#2a3f5f\"},\"baxis\":{\"endlinecolor\":\"#2a3f5f\",\"gridcolor\":\"white\",\"linecolor\":\"white\",\"minorgridcolor\":\"white\",\"startlinecolor\":\"#2a3f5f\"},\"type\":\"carpet\"}],\"table\":[{\"cells\":{\"fill\":{\"color\":\"#EBF0F8\"},\"line\":{\"color\":\"white\"}},\"header\":{\"fill\":{\"color\":\"#C8D4E3\"},\"line\":{\"color\":\"white\"}},\"type\":\"table\"}],\"barpolar\":[{\"marker\":{\"line\":{\"color\":\"#E5ECF6\",\"width\":0.5},\"pattern\":{\"fillmode\":\"overlay\",\"size\":10,\"solidity\":0.2}},\"type\":\"barpolar\"}],\"pie\":[{\"automargin\":true,\"type\":\"pie\"}]},\"layout\":{\"autotypenumbers\":\"strict\",\"colorway\":[\"#636efa\",\"#EF553B\",\"#00cc96\",\"#ab63fa\",\"#FFA15A\",\"#19d3f3\",\"#FF6692\",\"#B6E880\",\"#FF97FF\",\"#FECB52\"],\"font\":{\"color\":\"#2a3f5f\"},\"hovermode\":\"closest\",\"hoverlabel\":{\"align\":\"left\"},\"paper_bgcolor\":\"white\",\"plot_bgcolor\":\"#E5ECF6\",\"polar\":{\"bgcolor\":\"#E5ECF6\",\"angularaxis\":{\"gridcolor\":\"white\",\"linecolor\":\"white\",\"ticks\":\"\"},\"radialaxis\":{\"gridcolor\":\"white\",\"linecolor\":\"white\",\"ticks\":\"\"}},\"ternary\":{\"bgcolor\":\"#E5ECF6\",\"aaxis\":{\"gridcolor\":\"white\",\"linecolor\":\"white\",\"ticks\":\"\"},\"baxis\":{\"gridcolor\":\"white\",\"linecolor\":\"white\",\"ticks\":\"\"},\"caxis\":{\"gridcolor\":\"white\",\"linecolor\":\"white\",\"ticks\":\"\"}},\"coloraxis\":{\"colorbar\":{\"outlinewidth\":0,\"ticks\":\"\"}},\"colorscale\":{\"sequential\":[[0.0,\"#0d0887\"],[0.1111111111111111,\"#46039f\"],[0.2222222222222222,\"#7201a8\"],[0.3333333333333333,\"#9c179e\"],[0.4444444444444444,\"#bd3786\"],[0.5555555555555556,\"#d8576b\"],[0.6666666666666666,\"#ed7953\"],[0.7777777777777778,\"#fb9f3a\"],[0.8888888888888888,\"#fdca26\"],[1.0,\"#f0f921\"]],\"sequentialminus\":[[0.0,\"#0d0887\"],[0.1111111111111111,\"#46039f\"],[0.2222222222222222,\"#7201a8\"],[0.3333333333333333,\"#9c179e\"],[0.4444444444444444,\"#bd3786\"],[0.5555555555555556,\"#d8576b\"],[0.6666666666666666,\"#ed7953\"],[0.7777777777777778,\"#fb9f3a\"],[0.8888888888888888,\"#fdca26\"],[1.0,\"#f0f921\"]],\"diverging\":[[0,\"#8e0152\"],[0.1,\"#c51b7d\"],[0.2,\"#de77ae\"],[0.3,\"#f1b6da\"],[0.4,\"#fde0ef\"],[0.5,\"#f7f7f7\"],[0.6,\"#e6f5d0\"],[0.7,\"#b8e186\"],[0.8,\"#7fbc41\"],[0.9,\"#4d9221\"],[1,\"#276419\"]]},\"xaxis\":{\"gridcolor\":\"white\",\"linecolor\":\"white\",\"ticks\":\"\",\"title\":{\"standoff\":15},\"zerolinecolor\":\"white\",\"automargin\":true,\"zerolinewidth\":2},\"yaxis\":{\"gridcolor\":\"white\",\"linecolor\":\"white\",\"ticks\":\"\",\"title\":{\"standoff\":15},\"zerolinecolor\":\"white\",\"automargin\":true,\"zerolinewidth\":2},\"scene\":{\"xaxis\":{\"backgroundcolor\":\"#E5ECF6\",\"gridcolor\":\"white\",\"linecolor\":\"white\",\"showbackground\":true,\"ticks\":\"\",\"zerolinecolor\":\"white\",\"gridwidth\":2},\"yaxis\":{\"backgroundcolor\":\"#E5ECF6\",\"gridcolor\":\"white\",\"linecolor\":\"white\",\"showbackground\":true,\"ticks\":\"\",\"zerolinecolor\":\"white\",\"gridwidth\":2},\"zaxis\":{\"backgroundcolor\":\"#E5ECF6\",\"gridcolor\":\"white\",\"linecolor\":\"white\",\"showbackground\":true,\"ticks\":\"\",\"zerolinecolor\":\"white\",\"gridwidth\":2}},\"shapedefaults\":{\"line\":{\"color\":\"#2a3f5f\"}},\"annotationdefaults\":{\"arrowcolor\":\"#2a3f5f\",\"arrowhead\":0,\"arrowwidth\":1},\"geo\":{\"bgcolor\":\"white\",\"landcolor\":\"#E5ECF6\",\"subunitcolor\":\"white\",\"showland\":true,\"showlakes\":true,\"lakecolor\":\"white\"},\"title\":{\"x\":0.05},\"mapbox\":{\"style\":\"light\"}}},\"title\":{\"text\":\"\\u0412\\u044b\\u0440\\u0443\\u0447\\u043a\\u0430 \\u043f\\u043e \\u043c\\u0435\\u0441\\u044f\\u0446\\u0430\\u043c\",\"xanchor\":\"center\",\"x\":0.5},\"yaxis\":{\"title\":{\"text\":\"\\u0412\\u044b\\u0440\\u0443\\u0447\\u043a\\u0430\"}},\"xaxis\":{\"title\":{\"text\":\"\\u041c\\u0435\\u0441\\u044f\\u0446\"}}},                        {\"responsive\": true}                    ).then(function(){\n",
              "                            \n",
              "var gd = document.getElementById('60ebca54-c169-4306-b5b1-e7b68c0d7a89');\n",
              "var x = new MutationObserver(function (mutations, observer) {{\n",
              "        var display = window.getComputedStyle(gd).display;\n",
              "        if (!display || display === 'none') {{\n",
              "            console.log([gd, 'removed!']);\n",
              "            Plotly.purge(gd);\n",
              "            observer.disconnect();\n",
              "        }}\n",
              "}});\n",
              "\n",
              "// Listen for the removal of the full notebook cells\n",
              "var notebookContainer = gd.closest('#notebook-container');\n",
              "if (notebookContainer) {{\n",
              "    x.observe(notebookContainer, {childList: true});\n",
              "}}\n",
              "\n",
              "// Listen for the clearing of the current output cell\n",
              "var outputEl = gd.closest('.output');\n",
              "if (outputEl) {{\n",
              "    x.observe(outputEl, {childList: true});\n",
              "}}\n",
              "\n",
              "                        })                };                            </script>        </div>\n",
              "</body>\n",
              "</html>"
            ]
          },
          "metadata": {}
        }
      ],
      "source": [
        "grouped_by_date = above_elite.query('category== \"Инструменты\"').\\\n",
        "groupby('month').agg({'customer_id':'nunique', 'total':'sum'}).reset_index()\n",
        "\n",
        "fig = go.Figure(data=go.Scatter(x=grouped_by_date['month'], \n",
        "                                y=grouped_by_date['total'], \n",
        "                                mode='lines',\n",
        "                                stackgroup='one'))\n",
        "fig.update_layout(\n",
        "    title={\n",
        "        'text': \"Выручка по месяцам\",\n",
        "                'xanchor': 'center',\n",
        "        'x':0.5\n",
        "    },\n",
        "    yaxis_title=\"Выручка\",\n",
        "    xaxis_title=\"Месяц\")\n",
        "fig.show()"
      ]
    },
    {
      "cell_type": "markdown",
      "metadata": {
        "id": "d2YEDJhFF7Ko"
      },
      "source": [
        "### Кластер \"opt\""
      ]
    },
    {
      "cell_type": "code",
      "execution_count": 108,
      "metadata": {
        "colab": {
          "base_uri": "https://localhost:8080/",
          "height": 269
        },
        "id": "2f6X4LawF7Kp",
        "outputId": "0d14d5d0-9f92-40a4-fded-82a3e1eae093"
      },
      "outputs": [
        {
          "output_type": "execute_result",
          "data": {
            "text/plain": [
              "                 total\n",
              "category              \n",
              "Товары для дома     64\n",
              "Инструменты         22\n",
              "Кухня               22\n",
              "Растения            13\n",
              "Клининг              9\n",
              "Другое               2"
            ],
            "text/html": [
              "\n",
              "  <div id=\"df-560366fa-3698-470d-b705-d6499d954fb0\">\n",
              "    <div class=\"colab-df-container\">\n",
              "      <div>\n",
              "<style scoped>\n",
              "    .dataframe tbody tr th:only-of-type {\n",
              "        vertical-align: middle;\n",
              "    }\n",
              "\n",
              "    .dataframe tbody tr th {\n",
              "        vertical-align: top;\n",
              "    }\n",
              "\n",
              "    .dataframe thead th {\n",
              "        text-align: right;\n",
              "    }\n",
              "</style>\n",
              "<table border=\"1\" class=\"dataframe\">\n",
              "  <thead>\n",
              "    <tr style=\"text-align: right;\">\n",
              "      <th></th>\n",
              "      <th>total</th>\n",
              "    </tr>\n",
              "    <tr>\n",
              "      <th>category</th>\n",
              "      <th></th>\n",
              "    </tr>\n",
              "  </thead>\n",
              "  <tbody>\n",
              "    <tr>\n",
              "      <th>Товары для дома</th>\n",
              "      <td>64</td>\n",
              "    </tr>\n",
              "    <tr>\n",
              "      <th>Инструменты</th>\n",
              "      <td>22</td>\n",
              "    </tr>\n",
              "    <tr>\n",
              "      <th>Кухня</th>\n",
              "      <td>22</td>\n",
              "    </tr>\n",
              "    <tr>\n",
              "      <th>Растения</th>\n",
              "      <td>13</td>\n",
              "    </tr>\n",
              "    <tr>\n",
              "      <th>Клининг</th>\n",
              "      <td>9</td>\n",
              "    </tr>\n",
              "    <tr>\n",
              "      <th>Другое</th>\n",
              "      <td>2</td>\n",
              "    </tr>\n",
              "  </tbody>\n",
              "</table>\n",
              "</div>\n",
              "      <button class=\"colab-df-convert\" onclick=\"convertToInteractive('df-560366fa-3698-470d-b705-d6499d954fb0')\"\n",
              "              title=\"Convert this dataframe to an interactive table.\"\n",
              "              style=\"display:none;\">\n",
              "        \n",
              "  <svg xmlns=\"http://www.w3.org/2000/svg\" height=\"24px\"viewBox=\"0 0 24 24\"\n",
              "       width=\"24px\">\n",
              "    <path d=\"M0 0h24v24H0V0z\" fill=\"none\"/>\n",
              "    <path d=\"M18.56 5.44l.94 2.06.94-2.06 2.06-.94-2.06-.94-.94-2.06-.94 2.06-2.06.94zm-11 1L8.5 8.5l.94-2.06 2.06-.94-2.06-.94L8.5 2.5l-.94 2.06-2.06.94zm10 10l.94 2.06.94-2.06 2.06-.94-2.06-.94-.94-2.06-.94 2.06-2.06.94z\"/><path d=\"M17.41 7.96l-1.37-1.37c-.4-.4-.92-.59-1.43-.59-.52 0-1.04.2-1.43.59L10.3 9.45l-7.72 7.72c-.78.78-.78 2.05 0 2.83L4 21.41c.39.39.9.59 1.41.59.51 0 1.02-.2 1.41-.59l7.78-7.78 2.81-2.81c.8-.78.8-2.07 0-2.86zM5.41 20L4 18.59l7.72-7.72 1.47 1.35L5.41 20z\"/>\n",
              "  </svg>\n",
              "      </button>\n",
              "      \n",
              "  <style>\n",
              "    .colab-df-container {\n",
              "      display:flex;\n",
              "      flex-wrap:wrap;\n",
              "      gap: 12px;\n",
              "    }\n",
              "\n",
              "    .colab-df-convert {\n",
              "      background-color: #E8F0FE;\n",
              "      border: none;\n",
              "      border-radius: 50%;\n",
              "      cursor: pointer;\n",
              "      display: none;\n",
              "      fill: #1967D2;\n",
              "      height: 32px;\n",
              "      padding: 0 0 0 0;\n",
              "      width: 32px;\n",
              "    }\n",
              "\n",
              "    .colab-df-convert:hover {\n",
              "      background-color: #E2EBFA;\n",
              "      box-shadow: 0px 1px 2px rgba(60, 64, 67, 0.3), 0px 1px 3px 1px rgba(60, 64, 67, 0.15);\n",
              "      fill: #174EA6;\n",
              "    }\n",
              "\n",
              "    [theme=dark] .colab-df-convert {\n",
              "      background-color: #3B4455;\n",
              "      fill: #D2E3FC;\n",
              "    }\n",
              "\n",
              "    [theme=dark] .colab-df-convert:hover {\n",
              "      background-color: #434B5C;\n",
              "      box-shadow: 0px 1px 3px 1px rgba(0, 0, 0, 0.15);\n",
              "      filter: drop-shadow(0px 1px 2px rgba(0, 0, 0, 0.3));\n",
              "      fill: #FFFFFF;\n",
              "    }\n",
              "  </style>\n",
              "\n",
              "      <script>\n",
              "        const buttonEl =\n",
              "          document.querySelector('#df-560366fa-3698-470d-b705-d6499d954fb0 button.colab-df-convert');\n",
              "        buttonEl.style.display =\n",
              "          google.colab.kernel.accessAllowed ? 'block' : 'none';\n",
              "\n",
              "        async function convertToInteractive(key) {\n",
              "          const element = document.querySelector('#df-560366fa-3698-470d-b705-d6499d954fb0');\n",
              "          const dataTable =\n",
              "            await google.colab.kernel.invokeFunction('convertToInteractive',\n",
              "                                                     [key], {});\n",
              "          if (!dataTable) return;\n",
              "\n",
              "          const docLinkHtml = 'Like what you see? Visit the ' +\n",
              "            '<a target=\"_blank\" href=https://colab.research.google.com/notebooks/data_table.ipynb>data table notebook</a>'\n",
              "            + ' to learn more about interactive tables.';\n",
              "          element.innerHTML = '';\n",
              "          dataTable['output_type'] = 'display_data';\n",
              "          await google.colab.output.renderOutput(dataTable, element);\n",
              "          const docLink = document.createElement('div');\n",
              "          docLink.innerHTML = docLinkHtml;\n",
              "          element.appendChild(docLink);\n",
              "        }\n",
              "      </script>\n",
              "    </div>\n",
              "  </div>\n",
              "  "
            ]
          },
          "metadata": {},
          "execution_count": 108
        }
      ],
      "source": [
        "opt.pivot_table(index='category',values='total',aggfunc='count').sort_values(by='total',ascending =False)"
      ]
    },
    {
      "cell_type": "code",
      "execution_count": 109,
      "metadata": {
        "colab": {
          "base_uri": "https://localhost:8080/",
          "height": 542
        },
        "id": "FduCscVpF7Kp",
        "outputId": "7cf3a187-142d-49b8-9377-dcb4b7f3a3b3"
      },
      "outputs": [
        {
          "output_type": "display_data",
          "data": {
            "text/html": [
              "<html>\n",
              "<head><meta charset=\"utf-8\" /></head>\n",
              "<body>\n",
              "    <div>            <script src=\"https://cdnjs.cloudflare.com/ajax/libs/mathjax/2.7.5/MathJax.js?config=TeX-AMS-MML_SVG\"></script><script type=\"text/javascript\">if (window.MathJax && window.MathJax.Hub && window.MathJax.Hub.Config) {window.MathJax.Hub.Config({SVG: {font: \"STIX-Web\"}});}</script>                <script type=\"text/javascript\">window.PlotlyConfig = {MathJaxConfig: 'local'};</script>\n",
              "        <script src=\"https://cdn.plot.ly/plotly-2.18.2.min.js\"></script>                <div id=\"68e3a357-f317-4398-a24b-9479cd157c04\" class=\"plotly-graph-div\" style=\"height:525px; width:100%;\"></div>            <script type=\"text/javascript\">                                    window.PLOTLYENV=window.PLOTLYENV || {};                                    if (document.getElementById(\"68e3a357-f317-4398-a24b-9479cd157c04\")) {                    Plotly.newPlot(                        \"68e3a357-f317-4398-a24b-9479cd157c04\",                        [{\"mode\":\"lines\",\"stackgroup\":\"one\",\"x\":[\"2018-10-01T00:00:00\",\"2018-11-01T00:00:00\",\"2018-12-01T00:00:00\",\"2019-01-01T00:00:00\",\"2019-02-01T00:00:00\",\"2019-03-01T00:00:00\",\"2019-04-01T00:00:00\",\"2019-05-01T00:00:00\",\"2019-06-01T00:00:00\",\"2019-07-01T00:00:00\",\"2019-08-01T00:00:00\",\"2019-09-01T00:00:00\",\"2019-10-01T00:00:00\"],\"y\":[4923.0,25087.0,12782.0,60983.0,7341.0,11525.0,43222.0,2060.0,56927.0,4135.0,2868.0,1292.0,6350.0],\"type\":\"scatter\"}],                        {\"template\":{\"data\":{\"histogram2dcontour\":[{\"type\":\"histogram2dcontour\",\"colorbar\":{\"outlinewidth\":0,\"ticks\":\"\"},\"colorscale\":[[0.0,\"#0d0887\"],[0.1111111111111111,\"#46039f\"],[0.2222222222222222,\"#7201a8\"],[0.3333333333333333,\"#9c179e\"],[0.4444444444444444,\"#bd3786\"],[0.5555555555555556,\"#d8576b\"],[0.6666666666666666,\"#ed7953\"],[0.7777777777777778,\"#fb9f3a\"],[0.8888888888888888,\"#fdca26\"],[1.0,\"#f0f921\"]]}],\"choropleth\":[{\"type\":\"choropleth\",\"colorbar\":{\"outlinewidth\":0,\"ticks\":\"\"}}],\"histogram2d\":[{\"type\":\"histogram2d\",\"colorbar\":{\"outlinewidth\":0,\"ticks\":\"\"},\"colorscale\":[[0.0,\"#0d0887\"],[0.1111111111111111,\"#46039f\"],[0.2222222222222222,\"#7201a8\"],[0.3333333333333333,\"#9c179e\"],[0.4444444444444444,\"#bd3786\"],[0.5555555555555556,\"#d8576b\"],[0.6666666666666666,\"#ed7953\"],[0.7777777777777778,\"#fb9f3a\"],[0.8888888888888888,\"#fdca26\"],[1.0,\"#f0f921\"]]}],\"heatmap\":[{\"type\":\"heatmap\",\"colorbar\":{\"outlinewidth\":0,\"ticks\":\"\"},\"colorscale\":[[0.0,\"#0d0887\"],[0.1111111111111111,\"#46039f\"],[0.2222222222222222,\"#7201a8\"],[0.3333333333333333,\"#9c179e\"],[0.4444444444444444,\"#bd3786\"],[0.5555555555555556,\"#d8576b\"],[0.6666666666666666,\"#ed7953\"],[0.7777777777777778,\"#fb9f3a\"],[0.8888888888888888,\"#fdca26\"],[1.0,\"#f0f921\"]]}],\"heatmapgl\":[{\"type\":\"heatmapgl\",\"colorbar\":{\"outlinewidth\":0,\"ticks\":\"\"},\"colorscale\":[[0.0,\"#0d0887\"],[0.1111111111111111,\"#46039f\"],[0.2222222222222222,\"#7201a8\"],[0.3333333333333333,\"#9c179e\"],[0.4444444444444444,\"#bd3786\"],[0.5555555555555556,\"#d8576b\"],[0.6666666666666666,\"#ed7953\"],[0.7777777777777778,\"#fb9f3a\"],[0.8888888888888888,\"#fdca26\"],[1.0,\"#f0f921\"]]}],\"contourcarpet\":[{\"type\":\"contourcarpet\",\"colorbar\":{\"outlinewidth\":0,\"ticks\":\"\"}}],\"contour\":[{\"type\":\"contour\",\"colorbar\":{\"outlinewidth\":0,\"ticks\":\"\"},\"colorscale\":[[0.0,\"#0d0887\"],[0.1111111111111111,\"#46039f\"],[0.2222222222222222,\"#7201a8\"],[0.3333333333333333,\"#9c179e\"],[0.4444444444444444,\"#bd3786\"],[0.5555555555555556,\"#d8576b\"],[0.6666666666666666,\"#ed7953\"],[0.7777777777777778,\"#fb9f3a\"],[0.8888888888888888,\"#fdca26\"],[1.0,\"#f0f921\"]]}],\"surface\":[{\"type\":\"surface\",\"colorbar\":{\"outlinewidth\":0,\"ticks\":\"\"},\"colorscale\":[[0.0,\"#0d0887\"],[0.1111111111111111,\"#46039f\"],[0.2222222222222222,\"#7201a8\"],[0.3333333333333333,\"#9c179e\"],[0.4444444444444444,\"#bd3786\"],[0.5555555555555556,\"#d8576b\"],[0.6666666666666666,\"#ed7953\"],[0.7777777777777778,\"#fb9f3a\"],[0.8888888888888888,\"#fdca26\"],[1.0,\"#f0f921\"]]}],\"mesh3d\":[{\"type\":\"mesh3d\",\"colorbar\":{\"outlinewidth\":0,\"ticks\":\"\"}}],\"scatter\":[{\"fillpattern\":{\"fillmode\":\"overlay\",\"size\":10,\"solidity\":0.2},\"type\":\"scatter\"}],\"parcoords\":[{\"type\":\"parcoords\",\"line\":{\"colorbar\":{\"outlinewidth\":0,\"ticks\":\"\"}}}],\"scatterpolargl\":[{\"type\":\"scatterpolargl\",\"marker\":{\"colorbar\":{\"outlinewidth\":0,\"ticks\":\"\"}}}],\"bar\":[{\"error_x\":{\"color\":\"#2a3f5f\"},\"error_y\":{\"color\":\"#2a3f5f\"},\"marker\":{\"line\":{\"color\":\"#E5ECF6\",\"width\":0.5},\"pattern\":{\"fillmode\":\"overlay\",\"size\":10,\"solidity\":0.2}},\"type\":\"bar\"}],\"scattergeo\":[{\"type\":\"scattergeo\",\"marker\":{\"colorbar\":{\"outlinewidth\":0,\"ticks\":\"\"}}}],\"scatterpolar\":[{\"type\":\"scatterpolar\",\"marker\":{\"colorbar\":{\"outlinewidth\":0,\"ticks\":\"\"}}}],\"histogram\":[{\"marker\":{\"pattern\":{\"fillmode\":\"overlay\",\"size\":10,\"solidity\":0.2}},\"type\":\"histogram\"}],\"scattergl\":[{\"type\":\"scattergl\",\"marker\":{\"colorbar\":{\"outlinewidth\":0,\"ticks\":\"\"}}}],\"scatter3d\":[{\"type\":\"scatter3d\",\"line\":{\"colorbar\":{\"outlinewidth\":0,\"ticks\":\"\"}},\"marker\":{\"colorbar\":{\"outlinewidth\":0,\"ticks\":\"\"}}}],\"scattermapbox\":[{\"type\":\"scattermapbox\",\"marker\":{\"colorbar\":{\"outlinewidth\":0,\"ticks\":\"\"}}}],\"scatterternary\":[{\"type\":\"scatterternary\",\"marker\":{\"colorbar\":{\"outlinewidth\":0,\"ticks\":\"\"}}}],\"scattercarpet\":[{\"type\":\"scattercarpet\",\"marker\":{\"colorbar\":{\"outlinewidth\":0,\"ticks\":\"\"}}}],\"carpet\":[{\"aaxis\":{\"endlinecolor\":\"#2a3f5f\",\"gridcolor\":\"white\",\"linecolor\":\"white\",\"minorgridcolor\":\"white\",\"startlinecolor\":\"#2a3f5f\"},\"baxis\":{\"endlinecolor\":\"#2a3f5f\",\"gridcolor\":\"white\",\"linecolor\":\"white\",\"minorgridcolor\":\"white\",\"startlinecolor\":\"#2a3f5f\"},\"type\":\"carpet\"}],\"table\":[{\"cells\":{\"fill\":{\"color\":\"#EBF0F8\"},\"line\":{\"color\":\"white\"}},\"header\":{\"fill\":{\"color\":\"#C8D4E3\"},\"line\":{\"color\":\"white\"}},\"type\":\"table\"}],\"barpolar\":[{\"marker\":{\"line\":{\"color\":\"#E5ECF6\",\"width\":0.5},\"pattern\":{\"fillmode\":\"overlay\",\"size\":10,\"solidity\":0.2}},\"type\":\"barpolar\"}],\"pie\":[{\"automargin\":true,\"type\":\"pie\"}]},\"layout\":{\"autotypenumbers\":\"strict\",\"colorway\":[\"#636efa\",\"#EF553B\",\"#00cc96\",\"#ab63fa\",\"#FFA15A\",\"#19d3f3\",\"#FF6692\",\"#B6E880\",\"#FF97FF\",\"#FECB52\"],\"font\":{\"color\":\"#2a3f5f\"},\"hovermode\":\"closest\",\"hoverlabel\":{\"align\":\"left\"},\"paper_bgcolor\":\"white\",\"plot_bgcolor\":\"#E5ECF6\",\"polar\":{\"bgcolor\":\"#E5ECF6\",\"angularaxis\":{\"gridcolor\":\"white\",\"linecolor\":\"white\",\"ticks\":\"\"},\"radialaxis\":{\"gridcolor\":\"white\",\"linecolor\":\"white\",\"ticks\":\"\"}},\"ternary\":{\"bgcolor\":\"#E5ECF6\",\"aaxis\":{\"gridcolor\":\"white\",\"linecolor\":\"white\",\"ticks\":\"\"},\"baxis\":{\"gridcolor\":\"white\",\"linecolor\":\"white\",\"ticks\":\"\"},\"caxis\":{\"gridcolor\":\"white\",\"linecolor\":\"white\",\"ticks\":\"\"}},\"coloraxis\":{\"colorbar\":{\"outlinewidth\":0,\"ticks\":\"\"}},\"colorscale\":{\"sequential\":[[0.0,\"#0d0887\"],[0.1111111111111111,\"#46039f\"],[0.2222222222222222,\"#7201a8\"],[0.3333333333333333,\"#9c179e\"],[0.4444444444444444,\"#bd3786\"],[0.5555555555555556,\"#d8576b\"],[0.6666666666666666,\"#ed7953\"],[0.7777777777777778,\"#fb9f3a\"],[0.8888888888888888,\"#fdca26\"],[1.0,\"#f0f921\"]],\"sequentialminus\":[[0.0,\"#0d0887\"],[0.1111111111111111,\"#46039f\"],[0.2222222222222222,\"#7201a8\"],[0.3333333333333333,\"#9c179e\"],[0.4444444444444444,\"#bd3786\"],[0.5555555555555556,\"#d8576b\"],[0.6666666666666666,\"#ed7953\"],[0.7777777777777778,\"#fb9f3a\"],[0.8888888888888888,\"#fdca26\"],[1.0,\"#f0f921\"]],\"diverging\":[[0,\"#8e0152\"],[0.1,\"#c51b7d\"],[0.2,\"#de77ae\"],[0.3,\"#f1b6da\"],[0.4,\"#fde0ef\"],[0.5,\"#f7f7f7\"],[0.6,\"#e6f5d0\"],[0.7,\"#b8e186\"],[0.8,\"#7fbc41\"],[0.9,\"#4d9221\"],[1,\"#276419\"]]},\"xaxis\":{\"gridcolor\":\"white\",\"linecolor\":\"white\",\"ticks\":\"\",\"title\":{\"standoff\":15},\"zerolinecolor\":\"white\",\"automargin\":true,\"zerolinewidth\":2},\"yaxis\":{\"gridcolor\":\"white\",\"linecolor\":\"white\",\"ticks\":\"\",\"title\":{\"standoff\":15},\"zerolinecolor\":\"white\",\"automargin\":true,\"zerolinewidth\":2},\"scene\":{\"xaxis\":{\"backgroundcolor\":\"#E5ECF6\",\"gridcolor\":\"white\",\"linecolor\":\"white\",\"showbackground\":true,\"ticks\":\"\",\"zerolinecolor\":\"white\",\"gridwidth\":2},\"yaxis\":{\"backgroundcolor\":\"#E5ECF6\",\"gridcolor\":\"white\",\"linecolor\":\"white\",\"showbackground\":true,\"ticks\":\"\",\"zerolinecolor\":\"white\",\"gridwidth\":2},\"zaxis\":{\"backgroundcolor\":\"#E5ECF6\",\"gridcolor\":\"white\",\"linecolor\":\"white\",\"showbackground\":true,\"ticks\":\"\",\"zerolinecolor\":\"white\",\"gridwidth\":2}},\"shapedefaults\":{\"line\":{\"color\":\"#2a3f5f\"}},\"annotationdefaults\":{\"arrowcolor\":\"#2a3f5f\",\"arrowhead\":0,\"arrowwidth\":1},\"geo\":{\"bgcolor\":\"white\",\"landcolor\":\"#E5ECF6\",\"subunitcolor\":\"white\",\"showland\":true,\"showlakes\":true,\"lakecolor\":\"white\"},\"title\":{\"x\":0.05},\"mapbox\":{\"style\":\"light\"}}},\"title\":{\"text\":\"\\u0412\\u044b\\u0440\\u0443\\u0447\\u043a\\u0430 \\u043f\\u043e \\u043c\\u0435\\u0441\\u044f\\u0446\\u0430\\u043c\",\"xanchor\":\"center\",\"x\":0.5},\"yaxis\":{\"title\":{\"text\":\"\\u0412\\u044b\\u0440\\u0443\\u0447\\u043a\\u0430\"}},\"xaxis\":{\"title\":{\"text\":\"\\u041c\\u0435\\u0441\\u044f\\u0446\"}}},                        {\"responsive\": true}                    ).then(function(){\n",
              "                            \n",
              "var gd = document.getElementById('68e3a357-f317-4398-a24b-9479cd157c04');\n",
              "var x = new MutationObserver(function (mutations, observer) {{\n",
              "        var display = window.getComputedStyle(gd).display;\n",
              "        if (!display || display === 'none') {{\n",
              "            console.log([gd, 'removed!']);\n",
              "            Plotly.purge(gd);\n",
              "            observer.disconnect();\n",
              "        }}\n",
              "}});\n",
              "\n",
              "// Listen for the removal of the full notebook cells\n",
              "var notebookContainer = gd.closest('#notebook-container');\n",
              "if (notebookContainer) {{\n",
              "    x.observe(notebookContainer, {childList: true});\n",
              "}}\n",
              "\n",
              "// Listen for the clearing of the current output cell\n",
              "var outputEl = gd.closest('.output');\n",
              "if (outputEl) {{\n",
              "    x.observe(outputEl, {childList: true});\n",
              "}}\n",
              "\n",
              "                        })                };                            </script>        </div>\n",
              "</body>\n",
              "</html>"
            ]
          },
          "metadata": {}
        }
      ],
      "source": [
        "grouped_by_date = opt.query('category==\"Товары для дома\"').groupby('month').agg({'customer_id':'nunique', 'total':'sum'}).reset_index()\n",
        "\n",
        "fig = go.Figure(data=go.Scatter(x=grouped_by_date['month'], \n",
        "                                y=grouped_by_date['total'], \n",
        "                                mode='lines',\n",
        "                                stackgroup='one'))\n",
        "fig.update_layout(\n",
        "    title={\n",
        "        'text': \"Выручка по месяцам\",\n",
        "                'xanchor': 'center',\n",
        "        'x':0.5\n",
        "    },\n",
        "    yaxis_title=\"Выручка\",\n",
        "    xaxis_title=\"Месяц\")\n",
        "fig.show()"
      ]
    },
    {
      "cell_type": "markdown",
      "metadata": {
        "id": "RMlhxUGrF7Kq"
      },
      "source": [
        "### Выводы по кластерам:"
      ]
    },
    {
      "cell_type": "markdown",
      "metadata": {
        "id": "1sfbkcVcF7Kq"
      },
      "source": [
        "Количество пользователей кластере below: 2823, самая покупаемая категория - Растения (1847), наименее покупаемая - Инструменты. Есть выраженная сезонность, пик продаваемости: март-июль, так как товары летние и становятся актуальны к этому сезону.\n",
        "\n",
        "Количество пользователей в кластере below_elite: 260, самая покупаемая категория - Растения (180), наименее покупаемая - Инструменты. Есть выраженная сезонность, пик продаваемости: март-июль, так как товары летние и становятся актуальны к этому сезону.\n",
        "\n",
        "Количество пользователей в кластере average: 693, самая покупаемая категория - Кухня (195) и Клининг (181), наименее покупаемая - Инструменты. Сезонность выражена слабее, но продажи уменьшены с мая по октябрь\n",
        "\n",
        "Количество пользователей в кластере average_elite: 73, самая покупаемая категория - Кухня (29) и Клининг (25), наименее покупаемая - Растения. Сезонность выражена слабее, но продажи уменьшены с мая по октябрь\n",
        "\n",
        "Количество пользователей в  кластере above: 734, самая покупаемая категория - Инструменты (248) и Кухня (216), наименее покупаемая - Растения. Пик продаж - ноябрь-декабрь, в остальное время продажи примерно одинаковы.\n",
        "\n",
        "Количество пользователей в кластере above_elite: 91, самая покупаемая категория - Инструменты (35), наименее покупаемая - Товары для дома и Растения. Пик продаж - ноябрь-декабрь, в остальное время продажи примерно одинаковы.\n",
        "\n",
        "Количество пользователей в кластере opt: 132, самая покупаемая категория - Товары для дома (64), наименее покупаемая - Клининг. Сезонности нет."
      ]
    },
    {
      "cell_type": "markdown",
      "metadata": {
        "id": "ftJDsHsbF7Kr"
      },
      "source": [
        "## Формирование и проверка гипотез"
      ]
    },
    {
      "cell_type": "markdown",
      "metadata": {
        "id": "oCNbk-lFF7Kr"
      },
      "source": [
        "### Проверяем на нормальность распределения средних:"
      ]
    },
    {
      "cell_type": "code",
      "execution_count": 110,
      "metadata": {
        "id": "ynisG2v1F7Kr"
      },
      "outputs": [],
      "source": [
        "be=below['total'].tolist()\n",
        "av=average['total'].tolist()\n",
        "ab=above['total'].tolist()\n",
        "be_elite=below_elite['total'].tolist()\n",
        "av_elite=average_elite['total'].tolist()\n",
        "ab_elite=above_elite['total'].tolist()\n",
        "op=opt['total'].tolist()\n",
        "test=[be,av,ab,be_elite,av_elite,ab_elite,op]"
      ]
    },
    {
      "cell_type": "code",
      "execution_count": 111,
      "metadata": {
        "colab": {
          "base_uri": "https://localhost:8080/"
        },
        "id": "yO_P_yKFF7Kr",
        "outputId": "3cd1b845-e81e-45b5-d87f-1d53e37ceb10"
      },
      "outputs": [
        {
          "output_type": "stream",
          "name": "stdout",
          "text": [
            "p-значение:  1.6499279361491636e-37\n",
            "Отвергаем нулевую гипотезу: распределение не нормально\n",
            "================\n",
            "p-значение:  3.723600246568451e-16\n",
            "Отвергаем нулевую гипотезу: распределение не нормально\n",
            "================\n",
            "p-значение:  3.427236929510136e-39\n",
            "Отвергаем нулевую гипотезу: распределение не нормально\n",
            "================\n",
            "p-значение:  1.0271954998825744e-13\n",
            "Отвергаем нулевую гипотезу: распределение не нормально\n",
            "================\n",
            "p-значение:  0.011341187171638012\n",
            "Отвергаем нулевую гипотезу: распределение не нормально\n",
            "================\n",
            "p-значение:  9.317825677701563e-11\n",
            "Отвергаем нулевую гипотезу: распределение не нормально\n",
            "================\n",
            "p-значение:  1.769235447998217e-20\n",
            "Отвергаем нулевую гипотезу: распределение не нормально\n",
            "================\n"
          ]
        }
      ],
      "source": [
        "alpha = 0.05  # критический уровень статистической значимости\n",
        "\n",
        "for x in test:\n",
        "    results = st.shapiro(x)\n",
        "    p_value = results[1]  # второе значение в массиве результатов (с индексом 1) - p-value\n",
        "\n",
        "    print('p-значение: ', p_value)\n",
        "\n",
        "    if p_value < alpha:\n",
        "        print('Отвергаем нулевую гипотезу: распределение не нормально')\n",
        "    else:\n",
        "        print('Не получилось отвергнуть нулевую гипотезу, всё нормально') \n",
        "    print('================')"
      ]
    },
    {
      "cell_type": "markdown",
      "metadata": {
        "id": "N2MlrVCIF7Ks"
      },
      "source": [
        "Данные распределены ненормально, используем критерий Манна-Уитни."
      ]
    },
    {
      "cell_type": "markdown",
      "metadata": {
        "id": "EzTRS0OgF7Ks"
      },
      "source": [
        "### Средний чек между кластерами не различается"
      ]
    },
    {
      "cell_type": "markdown",
      "metadata": {
        "id": "ZrYvPjycF7Ks"
      },
      "source": [
        "H0 - нет различий между средним чеком среди кластеров"
      ]
    },
    {
      "cell_type": "code",
      "execution_count": 112,
      "metadata": {
        "colab": {
          "base_uri": "https://localhost:8080/"
        },
        "id": "jcuUL-VsF7Kt",
        "outputId": "f8a15dc9-03ac-4c0f-997e-0ae0afd5f82d"
      },
      "outputs": [
        {
          "output_type": "stream",
          "name": "stdout",
          "text": [
            "p-значение:  0.0\n",
            "Отвергаем нулевую гипотезу\n",
            "p-значение:  0.0\n",
            "Отвергаем нулевую гипотезу\n",
            "p-значение:  1.9321143394710468e-234\n",
            "Отвергаем нулевую гипотезу\n",
            "p-значение:  5.261711588201401e-39\n",
            "Отвергаем нулевую гипотезу\n",
            "p-значение:  8.231759137405365e-46\n",
            "Отвергаем нулевую гипотезу\n",
            "p-значение:  4.242763467214108e-28\n",
            "Отвергаем нулевую гипотезу\n",
            "p-значение:  5.811156637588696e-79\n",
            "Отвергаем нулевую гипотезу\n",
            "p-значение:  1.037692060716775e-25\n",
            "Отвергаем нулевую гипотезу\n",
            "p-значение:  0.11397272361963724\n",
            "Не получилось отвергнуть нулевую гипотезу\n",
            "p-значение:  3.1473280728414733e-54\n",
            "Отвергаем нулевую гипотезу\n",
            "p-значение:  1.1591840569953768e-10\n",
            "Отвергаем нулевую гипотезу\n",
            "p-значение:  0.23734140221567324\n",
            "Не получилось отвергнуть нулевую гипотезу\n"
          ]
        }
      ],
      "source": [
        "alpha = alpha / 12\n",
        "results = st.mannwhitneyu(be,av)\n",
        "print('p-значение: ', results.pvalue)\n",
        "if results.pvalue < alpha:\n",
        "    print('Отвергаем нулевую гипотезу')\n",
        "else:\n",
        "    print(\n",
        "        'Не получилось отвергнуть нулевую гипотезу'\n",
        "        ) \n",
        "    \n",
        "results = st.mannwhitneyu(be,ab)\n",
        "print('p-значение: ', results.pvalue)\n",
        "if results.pvalue < alpha:\n",
        "    print('Отвергаем нулевую гипотезу')\n",
        "else:\n",
        "    print(\n",
        "        'Не получилось отвергнуть нулевую гипотезу'\n",
        "        ) \n",
        "    \n",
        "results = st.mannwhitneyu(ab,av)\n",
        "print('p-значение: ', results.pvalue)\n",
        "if results.pvalue < alpha:\n",
        "    print('Отвергаем нулевую гипотезу')\n",
        "else:\n",
        "    print(\n",
        "        'Не получилось отвергнуть нулевую гипотезу'\n",
        "        ) \n",
        "    \n",
        "results = st.mannwhitneyu(be_elite,av_elite)\n",
        "print('p-значение: ', results.pvalue)\n",
        "if results.pvalue < alpha:\n",
        "    print('Отвергаем нулевую гипотезу')\n",
        "else:\n",
        "    print(\n",
        "        'Не получилось отвергнуть нулевую гипотезу'\n",
        "        ) \n",
        "    \n",
        "results = st.mannwhitneyu(be_elite,ab_elite)\n",
        "print('p-значение: ', results.pvalue)\n",
        "if results.pvalue < alpha:\n",
        "    print('Отвергаем нулевую гипотезу')\n",
        "else:\n",
        "    print(\n",
        "        'Не получилось отвергнуть нулевую гипотезу'\n",
        "        ) \n",
        "    \n",
        "results = st.mannwhitneyu(ab_elite,av_elite)\n",
        "print('p-значение: ', results.pvalue)\n",
        "if results.pvalue < alpha:\n",
        "    print('Отвергаем нулевую гипотезу')\n",
        "else:\n",
        "    print(\n",
        "        'Не получилось отвергнуть нулевую гипотезу'\n",
        "        ) \n",
        "for x in range(len(test)-1):\n",
        "    results = st.mannwhitneyu(test[x],op)\n",
        "    print('p-значение: ', results.pvalue)\n",
        "    if results.pvalue < alpha:\n",
        "        print('Отвергаем нулевую гипотезу')\n",
        "    else:\n",
        "        print(\n",
        "            'Не получилось отвергнуть нулевую гипотезу')"
      ]
    },
    {
      "cell_type": "markdown",
      "metadata": {
        "id": "pmQLOJ1IF7Kt"
      },
      "source": [
        "Среди кластеров средний чек отличается."
      ]
    },
    {
      "cell_type": "markdown",
      "metadata": {
        "id": "_Y2kvf15F7Ku"
      },
      "source": [
        "### Количество товаров в заказе между кластерами не различается"
      ]
    },
    {
      "cell_type": "markdown",
      "metadata": {
        "id": "CI5SaHIIF7Ku"
      },
      "source": [
        "H0 - нет различий между количеством товаров в заказе между кластерами"
      ]
    },
    {
      "cell_type": "code",
      "execution_count": 113,
      "metadata": {
        "colab": {
          "base_uri": "https://localhost:8080/"
        },
        "id": "ynR53D9IF7Ku",
        "outputId": "59f23283-04ea-4213-b9f8-db9e1c3f54b5"
      },
      "outputs": [
        {
          "output_type": "stream",
          "name": "stdout",
          "text": [
            "p-значение:  0.0\n",
            "Отвергаем нулевую гипотезу: распределение не нормально\n",
            "================\n",
            "p-значение:  8.339925901321652e-40\n",
            "Отвергаем нулевую гипотезу: распределение не нормально\n",
            "================\n",
            "p-значение:  0.0\n",
            "Отвергаем нулевую гипотезу: распределение не нормально\n",
            "================\n",
            "p-значение:  1.3329072255612401e-28\n",
            "Отвергаем нулевую гипотезу: распределение не нормально\n",
            "================\n",
            "p-значение:  2.3172471428668795e-13\n",
            "Отвергаем нулевую гипотезу: распределение не нормально\n",
            "================\n",
            "p-значение:  1.0600815031053969e-17\n",
            "Отвергаем нулевую гипотезу: распределение не нормально\n",
            "================\n",
            "p-значение:  2.5175014468382945e-18\n",
            "Отвергаем нулевую гипотезу: распределение не нормально\n",
            "================\n"
          ]
        }
      ],
      "source": [
        "be=below['quantity'].tolist()\n",
        "av=average['quantity'].tolist()\n",
        "ab=above['quantity'].tolist()\n",
        "be_elite=below_elite['quantity'].tolist()\n",
        "av_elite=average_elite['quantity'].tolist()\n",
        "ab_elite=above_elite['quantity'].tolist()\n",
        "op=opt['quantity'].tolist()\n",
        "test=[be,av,ab,be_elite,av_elite,ab_elite,op]\n",
        "\n",
        "for x in test:\n",
        "    results = st.shapiro(x)\n",
        "    p_value = results[1]  # второе значение в массиве результатов (с индексом 1) - p-value\n",
        "\n",
        "    print('p-значение: ', p_value)\n",
        "\n",
        "    if p_value < alpha:\n",
        "        print('Отвергаем нулевую гипотезу: распределение не нормально')\n",
        "    else:\n",
        "        print('Не получилось отвергнуть нулевую гипотезу, всё нормально') \n",
        "    print('================')"
      ]
    },
    {
      "cell_type": "code",
      "execution_count": 114,
      "metadata": {
        "colab": {
          "base_uri": "https://localhost:8080/"
        },
        "id": "dComneYFF7Kv",
        "outputId": "1c61534f-0062-49b4-edad-f10706b042b9"
      },
      "outputs": [
        {
          "output_type": "stream",
          "name": "stdout",
          "text": [
            "p-значение:  8.463166369986759e-10\n",
            "Отвергаем нулевую гипотезу\n",
            "p-значение:  0.3873883673126759\n",
            "Не получилось отвергнуть нулевую гипотезу\n",
            "p-значение:  0.00017527628594869987\n",
            "Отвергаем нулевую гипотезу\n",
            "p-значение:  0.010913963594114354\n",
            "Не получилось отвергнуть нулевую гипотезу\n",
            "p-значение:  0.16082254499381787\n",
            "Не получилось отвергнуть нулевую гипотезу\n",
            "p-значение:  0.4872184000471518\n",
            "Не получилось отвергнуть нулевую гипотезу\n",
            "p-значение:  2.564931291934231e-154\n",
            "Отвергаем нулевую гипотезу\n",
            "p-значение:  1.2823349306221193e-90\n",
            "Отвергаем нулевую гипотезу\n",
            "p-значение:  6.8042502296571495e-105\n",
            "Отвергаем нулевую гипотезу\n",
            "p-значение:  1.5957300614862553e-64\n",
            "Отвергаем нулевую гипотезу\n",
            "p-значение:  1.0764503220553896e-29\n",
            "Отвергаем нулевую гипотезу\n",
            "p-значение:  1.1565406034982931e-28\n",
            "Отвергаем нулевую гипотезу\n"
          ]
        }
      ],
      "source": [
        "alpha = alpha / 12\n",
        "results = st.mannwhitneyu(be,av)\n",
        "print('p-значение: ', results.pvalue)\n",
        "if results.pvalue < alpha:\n",
        "    print('Отвергаем нулевую гипотезу')\n",
        "else:\n",
        "    print(\n",
        "        'Не получилось отвергнуть нулевую гипотезу'\n",
        "        ) \n",
        "    \n",
        "results = st.mannwhitneyu(be,ab)\n",
        "print('p-значение: ', results.pvalue)\n",
        "if results.pvalue < alpha:\n",
        "    print('Отвергаем нулевую гипотезу')\n",
        "else:\n",
        "    print(\n",
        "        'Не получилось отвергнуть нулевую гипотезу'\n",
        "        ) \n",
        "    \n",
        "results = st.mannwhitneyu(ab,av)\n",
        "print('p-значение: ', results.pvalue)\n",
        "if results.pvalue < alpha:\n",
        "    print('Отвергаем нулевую гипотезу')\n",
        "else:\n",
        "    print(\n",
        "        'Не получилось отвергнуть нулевую гипотезу'\n",
        "        ) \n",
        "    \n",
        "results = st.mannwhitneyu(be_elite,av_elite)\n",
        "print('p-значение: ', results.pvalue)\n",
        "if results.pvalue < alpha:\n",
        "    print('Отвергаем нулевую гипотезу')\n",
        "else:\n",
        "    print(\n",
        "        'Не получилось отвергнуть нулевую гипотезу'\n",
        "        ) \n",
        "    \n",
        "results = st.mannwhitneyu(be_elite,ab_elite)\n",
        "print('p-значение: ', results.pvalue)\n",
        "if results.pvalue < alpha:\n",
        "    print('Отвергаем нулевую гипотезу')\n",
        "else:\n",
        "    print(\n",
        "        'Не получилось отвергнуть нулевую гипотезу'\n",
        "        ) \n",
        "    \n",
        "results = st.mannwhitneyu(ab_elite,av_elite)\n",
        "print('p-значение: ', results.pvalue)\n",
        "if results.pvalue < alpha:\n",
        "    print('Отвергаем нулевую гипотезу')\n",
        "else:\n",
        "    print(\n",
        "        'Не получилось отвергнуть нулевую гипотезу'\n",
        "        ) \n",
        "for x in range(len(test)-1):\n",
        "    results = st.mannwhitneyu(test[x],op)\n",
        "    print('p-значение: ', results.pvalue)\n",
        "    if results.pvalue < alpha:\n",
        "        print('Отвергаем нулевую гипотезу')\n",
        "    else:\n",
        "        print(\n",
        "            'Не получилось отвергнуть нулевую гипотезу')"
      ]
    },
    {
      "cell_type": "markdown",
      "metadata": {
        "id": "Lum6kZB0F7Kw"
      },
      "source": [
        "Среди кластеров количество товаров в заказе одинаково, кроме кластера с оптовиками."
      ]
    },
    {
      "cell_type": "markdown",
      "metadata": {
        "id": "JG08-LgIF7Kw"
      },
      "source": [
        "## Вывод"
      ]
    },
    {
      "cell_type": "markdown",
      "metadata": {
        "id": "qYsQoWlGF7Kw"
      },
      "source": [
        "Был проведён исследовательский анализ данных, в ходе которого выявлено, что покупателей - 2450 и заказов - 2783. То есть чаще всего покупатель совершает разовую покупку на и не возвращается в магазин. Чаще всего заказ содержит 1 предмет, средняя цена - 777 у.е., средний чек - 1488. Присутствует выброс в виде покупателя, купившего 1000 вантузов на 600000.\n",
        "\n",
        "Средний чек покупателя - 1690. Аномально частыми посетителями считаются посетители, совершившие более 3 покупок или на сумму более 8784 у.е. Частых покупателей 8, потратившихся - 25. Дальнейшие данные очищены от аномалий. \n",
        "\n",
        "Далее товары были разделены на 5 категорий, не считая \"Другое\": Растения, Товары для дома, Инструменты, Клининг и Товары для кухни. Самая большая категория: \"Растения\" с 2219 товарами, наименьшая - \"Инструменты\" с 462 товаром. Средняя цена за одну единицу товара примерно равна во всех категориях, кроме инструментов и клининга (1087 и 569).\n",
        "Больше всего прибыли приносит категория инструменты с >900к, наименее прибыльная - растения (<500к)\n",
        "Больше всего покупателей в категории растения (652), меньше всего в инструментах (393).\n",
        "\n",
        "Обратить внимание необходимо на факт, что покупатели крайне редко совершают более одной покупки, то есть необходимо принять меры для удержания клиентов. Несмотря на то, что растения являются самой популярной категорией по покупкам, по количеству прибыли она занимает последнее место. Самая прибыльная категория - Инструменты с наибольшим оборот и с наименьшим количеством клиентов, что говорит о том, что каждый отдельный клиент для магазина тратит большие суммы на покупки инструмента."
      ]
    },
    {
      "cell_type": "markdown",
      "metadata": {
        "id": "s0rerYm1F7Kx"
      },
      "source": [
        "## Рекомендации по кластерам:"
      ]
    },
    {
      "cell_type": "markdown",
      "metadata": {
        "id": "goxK79PFF7Kx"
      },
      "source": [
        "Созданы семь кластеров пользователей по нескольким параметрам:\n",
        "\n",
        "\n",
        "    Средний чек кластера меньше среднего чека реди всех пользователей на 40% и количество заказов меньше 3\n",
        "    Средний чек кластера меньше среднего чека реди всех пользователей на 40% и количество заказов больше 2\n",
        "    Средний чек от 0.6 общего до 1.4 общего и количество заказов меньше 3\n",
        "    Средний чек от 0.6 общего до 1.4 общего и количество заказов больше 2\n",
        "    Выше 1.4 от общего чека и количество заказов меньше 3\n",
        "    Выше 1.4 от общего чека и количество заказов больше 2\n",
        "    Оптовики с более чем 10 предметами в заказе\n",
        "\n",
        "\n",
        "Количество пользователей кластере below: 2823, самая покупаемая категория - Растения (1847), наименее покупаемая - Инструменты. Есть выраженная сезонность, пик продаваемости: март-июль, так как товары летние и становятся актуальны к этому сезону.\n",
        "\n",
        "Количество пользователей в кластере below_elite: 260, самая покупаемая категория - Растения (180), наименее покупаемая - Инструменты. Есть выраженная сезонность, пик продаваемости: март-июль, так как товары летние и становятся актуальны к этому сезону.\n",
        "\n",
        "Количество пользователей в кластере average: 693, самая покупаемая категория - Кухня (195) и Клининг (181), наименее покупаемая - Инструменты. Сезонность выражена слабее, но продажи уменьшены с мая по октябрь\n",
        "\n",
        "Количество пользователей в кластере average_elite: 73, самая покупаемая категория - Кухня (29) и Клининг (25), наименее покупаемая - Растения. Сезонность выражена слабее, но продажи уменьшены с мая по октябрь\n",
        "\n",
        "Количество пользователей в кластере above: 734, самая покупаемая категория - Инструменты (248) и Кухня (216), наименее покупаемая - Растения. Пик продаж - ноябрь-декабрь, в остальное время продажи примерно одинаковы.\n",
        "\n",
        "Количество пользователей в кластере above_elite: 91, самая покупаемая категория - Инструменты (35), наименее покупаемая - Товары для дома и Растения. Пик продаж - ноябрь-декабрь, в остальное время продажи примерно одинаковы.\n",
        "\n",
        "Количество пользователей в кластере opt: 132, самая покупаемая категория - Товары для дома (64), наименее покупаемая - Клининг. Сезонности нет.\n",
        "\n",
        "Рекомендации по кластеру с маленьким чеком: так как в нём преобладает дешёвая категория Растения и покупок в этой категории очень много, хоть и по низкой цене, рекомендуется увеличить цены на товар, кластер содержит много покупателей, поэтому увеличение цены на товар положительно скажется на выручке магазина. Наилучшее время для рассылки рекламных предложений - весна - начало лета, но она не окупится в этом кластере, так как каждый уникальный покупатель совершает заказ на маленькую сумму, и рассылка будет невыгодна.\n",
        "\n",
        "Рекомендации по кластеру с маленьким чеком и частыми заказами: аналогичны кластеру выше, за исключением окупаемости рекламной рассылки, для покупателей этого кластера она будет выгодна, ведь они совершают частые покупки.\n",
        "\n",
        "Кластер со средний чеком: продажи практически не зависят от сезона, рассылку можно совершать в любое время, рекламируемыми товарами должны быть товары категории Кухня и Клининг, не приоритетный кластер.\n",
        "\n",
        "Кластер со средний чеком и частыми заказами: аналогичны кластеру выше, кроме приоритетности, рекламная рассылка будет выгодна и этот кластер более приоритетен.\n",
        "\n",
        "Кластер с наибольшим средний чеком: нужно увеличить количество продаваемого товара в этой кластере, так как основная категория в кластере - Инструменты, имеющие самую дорогую среднюю цену за штуку (1000 у.е.). Покупатели инструментов - самые прибыльные и нужные магазину. Увеличение их возвращаемости очень важно для магазина и прибыли. Рекламная рассылка будет наиболее выгодна в этом кластере, лучшее время - ноябрь-декабрь.\n",
        "\n",
        "Кластер с наибольшим средний чеком и частыми заказами: аналогично кластеру выше, но ценность клиентов ещё больше, топ-2 кластер по приоритетности, наибольшая окупаемость рекламы.\n",
        "\n",
        "Кластер с оптовиками: прибыльный кластер благодаря большому количеству товаров в корзине, увеличение возвращаемости клиентов необходимо для этого кластера, также как и рекламная рассылка в категории Товары для дома, покупки не зависят от сезона."
      ]
    }
  ],
  "metadata": {
    "ExecuteTimeLog": [
      {
        "duration": 0,
        "start_time": "2023-02-14T16:58:10.359Z"
      },
      {
        "duration": 14,
        "start_time": "2023-02-14T16:58:20.144Z"
      },
      {
        "duration": 1645,
        "start_time": "2023-02-14T16:58:22.985Z"
      },
      {
        "duration": 79,
        "start_time": "2023-02-14T17:05:09.676Z"
      },
      {
        "duration": 49,
        "start_time": "2023-02-14T17:05:15.221Z"
      },
      {
        "duration": 82,
        "start_time": "2023-02-14T17:05:18.670Z"
      },
      {
        "duration": 133,
        "start_time": "2023-02-14T17:06:19.978Z"
      },
      {
        "duration": 76,
        "start_time": "2023-02-14T17:07:00.606Z"
      },
      {
        "duration": 49,
        "start_time": "2023-02-14T17:07:10.364Z"
      },
      {
        "duration": 20,
        "start_time": "2023-02-14T17:07:15.547Z"
      },
      {
        "duration": 26,
        "start_time": "2023-02-14T17:08:06.670Z"
      },
      {
        "duration": 37,
        "start_time": "2023-02-14T17:08:25.153Z"
      },
      {
        "duration": 53,
        "start_time": "2023-02-14T17:10:04.858Z"
      },
      {
        "duration": 28,
        "start_time": "2023-02-14T17:14:32.724Z"
      },
      {
        "duration": 17,
        "start_time": "2023-02-14T17:14:51.474Z"
      },
      {
        "duration": 22,
        "start_time": "2023-02-14T17:14:59.021Z"
      },
      {
        "duration": 24,
        "start_time": "2023-02-14T17:16:32.859Z"
      },
      {
        "duration": 33,
        "start_time": "2023-02-14T17:16:35.486Z"
      },
      {
        "duration": 2382,
        "start_time": "2023-02-14T17:17:00.638Z"
      },
      {
        "duration": 36,
        "start_time": "2023-02-14T17:17:03.022Z"
      },
      {
        "duration": 29,
        "start_time": "2023-02-14T17:17:03.060Z"
      },
      {
        "duration": 19,
        "start_time": "2023-02-14T17:17:18.265Z"
      },
      {
        "duration": 20,
        "start_time": "2023-02-14T17:18:27.046Z"
      },
      {
        "duration": 20,
        "start_time": "2023-02-14T17:18:28.246Z"
      },
      {
        "duration": 9,
        "start_time": "2023-02-14T17:20:36.518Z"
      },
      {
        "duration": 24,
        "start_time": "2023-02-14T17:20:44.139Z"
      },
      {
        "duration": 18,
        "start_time": "2023-02-14T17:20:53.262Z"
      },
      {
        "duration": 135,
        "start_time": "2023-02-14T17:21:01.950Z"
      },
      {
        "duration": 7,
        "start_time": "2023-02-14T17:21:04.478Z"
      },
      {
        "duration": 7,
        "start_time": "2023-02-14T17:21:06.625Z"
      },
      {
        "duration": 10,
        "start_time": "2023-02-14T17:21:13.637Z"
      },
      {
        "duration": 33,
        "start_time": "2023-02-14T17:21:44.884Z"
      },
      {
        "duration": 87,
        "start_time": "2023-02-14T17:21:54.882Z"
      },
      {
        "duration": 30,
        "start_time": "2023-02-14T17:22:00.139Z"
      },
      {
        "duration": 30,
        "start_time": "2023-02-14T17:22:27.522Z"
      },
      {
        "duration": 1667,
        "start_time": "2023-02-15T11:37:47.686Z"
      },
      {
        "duration": 26,
        "start_time": "2023-02-15T11:37:49.356Z"
      },
      {
        "duration": 28,
        "start_time": "2023-02-15T11:37:49.384Z"
      },
      {
        "duration": 49,
        "start_time": "2023-02-15T11:37:49.414Z"
      },
      {
        "duration": 127,
        "start_time": "2023-02-15T11:39:48.223Z"
      },
      {
        "duration": 5,
        "start_time": "2023-02-15T11:39:58.580Z"
      },
      {
        "duration": 5,
        "start_time": "2023-02-15T11:40:06.068Z"
      },
      {
        "duration": 10,
        "start_time": "2023-02-15T11:40:12.656Z"
      },
      {
        "duration": 5,
        "start_time": "2023-02-15T11:40:33.595Z"
      },
      {
        "duration": 24,
        "start_time": "2023-02-15T11:49:24.727Z"
      },
      {
        "duration": 14,
        "start_time": "2023-02-15T12:14:15.800Z"
      },
      {
        "duration": 11,
        "start_time": "2023-02-15T12:14:22.821Z"
      },
      {
        "duration": 14,
        "start_time": "2023-02-15T12:14:25.413Z"
      },
      {
        "duration": 16,
        "start_time": "2023-02-15T12:14:53.829Z"
      },
      {
        "duration": 11,
        "start_time": "2023-02-15T12:15:03.511Z"
      },
      {
        "duration": 12,
        "start_time": "2023-02-15T12:15:05.202Z"
      },
      {
        "duration": 12,
        "start_time": "2023-02-15T12:15:42.920Z"
      },
      {
        "duration": 9,
        "start_time": "2023-02-15T12:15:57.141Z"
      },
      {
        "duration": 13,
        "start_time": "2023-02-15T12:15:59.087Z"
      },
      {
        "duration": 19,
        "start_time": "2023-02-15T12:16:34.676Z"
      },
      {
        "duration": 9,
        "start_time": "2023-02-15T12:28:14.492Z"
      },
      {
        "duration": 18,
        "start_time": "2023-02-15T12:28:16.284Z"
      },
      {
        "duration": 8,
        "start_time": "2023-02-15T12:28:24.195Z"
      },
      {
        "duration": 17,
        "start_time": "2023-02-15T12:28:29.318Z"
      },
      {
        "duration": 13,
        "start_time": "2023-02-15T12:32:06.243Z"
      },
      {
        "duration": 18,
        "start_time": "2023-02-15T12:32:07.985Z"
      },
      {
        "duration": 19,
        "start_time": "2023-02-15T12:35:06.895Z"
      },
      {
        "duration": 40,
        "start_time": "2023-02-15T12:35:16.631Z"
      },
      {
        "duration": 19,
        "start_time": "2023-02-15T12:35:21.188Z"
      },
      {
        "duration": 30,
        "start_time": "2023-02-15T12:35:23.634Z"
      },
      {
        "duration": 14,
        "start_time": "2023-02-15T12:36:27.937Z"
      },
      {
        "duration": 16,
        "start_time": "2023-02-15T12:36:42.781Z"
      },
      {
        "duration": 165,
        "start_time": "2023-02-15T12:45:31.620Z"
      },
      {
        "duration": 98,
        "start_time": "2023-02-15T12:45:37.876Z"
      },
      {
        "duration": 12,
        "start_time": "2023-02-15T12:45:59.817Z"
      },
      {
        "duration": 11,
        "start_time": "2023-02-15T12:46:03.619Z"
      },
      {
        "duration": 142,
        "start_time": "2023-02-15T12:46:22.471Z"
      },
      {
        "duration": 109,
        "start_time": "2023-02-15T12:46:29.376Z"
      },
      {
        "duration": 104,
        "start_time": "2023-02-15T12:46:41.888Z"
      },
      {
        "duration": 105,
        "start_time": "2023-02-15T12:48:03.018Z"
      },
      {
        "duration": 102,
        "start_time": "2023-02-15T12:48:08.198Z"
      },
      {
        "duration": 172,
        "start_time": "2023-02-15T12:48:11.459Z"
      },
      {
        "duration": 97,
        "start_time": "2023-02-15T12:48:15.217Z"
      },
      {
        "duration": 103,
        "start_time": "2023-02-15T12:48:20.727Z"
      },
      {
        "duration": 92,
        "start_time": "2023-02-15T12:48:24.872Z"
      },
      {
        "duration": 97,
        "start_time": "2023-02-15T12:48:26.756Z"
      },
      {
        "duration": 99,
        "start_time": "2023-02-15T12:48:31.319Z"
      },
      {
        "duration": 119,
        "start_time": "2023-02-15T12:49:09.061Z"
      },
      {
        "duration": 126,
        "start_time": "2023-02-15T12:49:11.590Z"
      },
      {
        "duration": 12,
        "start_time": "2023-02-15T12:49:34.212Z"
      },
      {
        "duration": 13,
        "start_time": "2023-02-15T12:50:16.044Z"
      },
      {
        "duration": 22,
        "start_time": "2023-02-15T12:50:19.093Z"
      },
      {
        "duration": 13,
        "start_time": "2023-02-15T12:50:21.005Z"
      },
      {
        "duration": 6,
        "start_time": "2023-02-15T12:50:25.896Z"
      },
      {
        "duration": 100,
        "start_time": "2023-02-15T12:50:29.924Z"
      },
      {
        "duration": 96,
        "start_time": "2023-02-15T12:50:43.000Z"
      },
      {
        "duration": 95,
        "start_time": "2023-02-15T12:50:47.920Z"
      },
      {
        "duration": 98,
        "start_time": "2023-02-15T12:50:51.617Z"
      },
      {
        "duration": 93,
        "start_time": "2023-02-15T12:50:55.183Z"
      },
      {
        "duration": 111,
        "start_time": "2023-02-15T12:50:58.136Z"
      },
      {
        "duration": 92,
        "start_time": "2023-02-15T12:51:04.720Z"
      },
      {
        "duration": 185,
        "start_time": "2023-02-15T12:51:12.976Z"
      },
      {
        "duration": 89,
        "start_time": "2023-02-15T12:51:15.024Z"
      },
      {
        "duration": 87,
        "start_time": "2023-02-15T12:51:15.967Z"
      },
      {
        "duration": 100,
        "start_time": "2023-02-15T12:51:16.479Z"
      },
      {
        "duration": 96,
        "start_time": "2023-02-15T12:51:16.951Z"
      },
      {
        "duration": 111,
        "start_time": "2023-02-15T12:51:20.575Z"
      },
      {
        "duration": 99,
        "start_time": "2023-02-15T12:51:28.918Z"
      },
      {
        "duration": 96,
        "start_time": "2023-02-15T12:51:36.518Z"
      },
      {
        "duration": 86,
        "start_time": "2023-02-15T12:51:42.714Z"
      },
      {
        "duration": 93,
        "start_time": "2023-02-15T12:51:46.550Z"
      },
      {
        "duration": 100,
        "start_time": "2023-02-15T12:52:07.580Z"
      },
      {
        "duration": 10,
        "start_time": "2023-02-15T12:53:38.500Z"
      },
      {
        "duration": 10,
        "start_time": "2023-02-15T12:53:51.554Z"
      },
      {
        "duration": 11,
        "start_time": "2023-02-15T12:54:05.260Z"
      },
      {
        "duration": 7,
        "start_time": "2023-02-15T13:02:23.237Z"
      },
      {
        "duration": 92,
        "start_time": "2023-02-15T13:10:15.411Z"
      },
      {
        "duration": 89,
        "start_time": "2023-02-15T13:10:22.880Z"
      },
      {
        "duration": 88,
        "start_time": "2023-02-15T13:10:25.551Z"
      },
      {
        "duration": 92,
        "start_time": "2023-02-15T13:10:33.135Z"
      },
      {
        "duration": 214,
        "start_time": "2023-02-15T13:11:22.744Z"
      },
      {
        "duration": 95,
        "start_time": "2023-02-15T13:11:26.965Z"
      },
      {
        "duration": 120,
        "start_time": "2023-02-15T13:12:00.261Z"
      },
      {
        "duration": 98,
        "start_time": "2023-02-15T13:12:05.061Z"
      },
      {
        "duration": 101,
        "start_time": "2023-02-15T13:12:10.748Z"
      },
      {
        "duration": 10,
        "start_time": "2023-02-15T13:21:33.379Z"
      },
      {
        "duration": 13,
        "start_time": "2023-02-15T13:21:37.105Z"
      },
      {
        "duration": 9,
        "start_time": "2023-02-15T13:24:08.265Z"
      },
      {
        "duration": 2048,
        "start_time": "2023-02-15T13:24:16.599Z"
      },
      {
        "duration": 4,
        "start_time": "2023-02-15T13:24:20.127Z"
      },
      {
        "duration": 2526,
        "start_time": "2023-02-15T13:24:22.639Z"
      },
      {
        "duration": 4,
        "start_time": "2023-02-15T13:24:40.785Z"
      },
      {
        "duration": 8,
        "start_time": "2023-02-15T13:24:49.855Z"
      },
      {
        "duration": 4,
        "start_time": "2023-02-15T13:24:56.326Z"
      },
      {
        "duration": 5,
        "start_time": "2023-02-15T13:25:48.323Z"
      },
      {
        "duration": 7,
        "start_time": "2023-02-15T13:26:00.859Z"
      },
      {
        "duration": 5,
        "start_time": "2023-02-15T13:26:03.417Z"
      },
      {
        "duration": 96,
        "start_time": "2023-02-15T13:27:45.997Z"
      },
      {
        "duration": 83,
        "start_time": "2023-02-15T13:27:52.380Z"
      },
      {
        "duration": 5,
        "start_time": "2023-02-15T13:27:59.272Z"
      },
      {
        "duration": 6,
        "start_time": "2023-02-15T13:28:24.364Z"
      },
      {
        "duration": 122,
        "start_time": "2023-02-15T13:29:01.729Z"
      },
      {
        "duration": 87,
        "start_time": "2023-02-15T13:36:23.760Z"
      },
      {
        "duration": 19,
        "start_time": "2023-02-15T13:36:28.391Z"
      },
      {
        "duration": 19,
        "start_time": "2023-02-15T13:36:32.700Z"
      },
      {
        "duration": 23,
        "start_time": "2023-02-15T13:37:33.049Z"
      },
      {
        "duration": 25,
        "start_time": "2023-02-15T13:39:09.412Z"
      },
      {
        "duration": 17,
        "start_time": "2023-02-15T13:39:26.491Z"
      },
      {
        "duration": 11,
        "start_time": "2023-02-15T13:40:55.314Z"
      },
      {
        "duration": 17,
        "start_time": "2023-02-15T13:41:22.938Z"
      },
      {
        "duration": 10,
        "start_time": "2023-02-15T13:41:36.115Z"
      },
      {
        "duration": 17,
        "start_time": "2023-02-15T13:42:07.476Z"
      },
      {
        "duration": 7,
        "start_time": "2023-02-15T13:42:12.249Z"
      },
      {
        "duration": 6,
        "start_time": "2023-02-15T13:42:25.516Z"
      },
      {
        "duration": 9,
        "start_time": "2023-02-15T13:42:46.352Z"
      },
      {
        "duration": 7,
        "start_time": "2023-02-15T13:58:36.522Z"
      },
      {
        "duration": 17,
        "start_time": "2023-02-15T13:58:42.992Z"
      },
      {
        "duration": 20,
        "start_time": "2023-02-15T13:58:49.110Z"
      },
      {
        "duration": 18,
        "start_time": "2023-02-15T13:58:54.084Z"
      },
      {
        "duration": 8,
        "start_time": "2023-02-15T13:59:12.342Z"
      },
      {
        "duration": 5,
        "start_time": "2023-02-15T15:55:25.339Z"
      },
      {
        "duration": 11,
        "start_time": "2023-02-15T15:56:06.824Z"
      },
      {
        "duration": 3,
        "start_time": "2023-02-15T15:56:17.405Z"
      },
      {
        "duration": 6,
        "start_time": "2023-02-15T15:56:35.915Z"
      },
      {
        "duration": 11,
        "start_time": "2023-02-15T16:05:37.487Z"
      },
      {
        "duration": 10,
        "start_time": "2023-02-15T16:05:45.861Z"
      },
      {
        "duration": 12,
        "start_time": "2023-02-15T16:06:26.538Z"
      },
      {
        "duration": 23,
        "start_time": "2023-02-15T16:06:53.017Z"
      },
      {
        "duration": 25,
        "start_time": "2023-02-15T16:07:28.414Z"
      },
      {
        "duration": 14,
        "start_time": "2023-02-15T16:07:37.805Z"
      },
      {
        "duration": 24,
        "start_time": "2023-02-15T16:07:42.479Z"
      },
      {
        "duration": 20,
        "start_time": "2023-02-15T16:07:58.468Z"
      },
      {
        "duration": 877,
        "start_time": "2023-02-15T16:08:07.945Z"
      },
      {
        "duration": 104,
        "start_time": "2023-02-15T16:13:36.164Z"
      },
      {
        "duration": 25,
        "start_time": "2023-02-15T16:14:22.637Z"
      },
      {
        "duration": 8,
        "start_time": "2023-02-15T16:14:43.914Z"
      },
      {
        "duration": 91,
        "start_time": "2023-02-15T16:14:50.132Z"
      },
      {
        "duration": 19,
        "start_time": "2023-02-15T16:14:54.836Z"
      },
      {
        "duration": 16,
        "start_time": "2023-02-15T16:15:03.036Z"
      },
      {
        "duration": 22,
        "start_time": "2023-02-15T16:15:33.225Z"
      },
      {
        "duration": 19,
        "start_time": "2023-02-15T16:15:40.791Z"
      },
      {
        "duration": 9,
        "start_time": "2023-02-15T16:16:05.937Z"
      },
      {
        "duration": 21,
        "start_time": "2023-02-15T16:16:07.783Z"
      },
      {
        "duration": 6,
        "start_time": "2023-02-15T16:16:47.249Z"
      },
      {
        "duration": 8,
        "start_time": "2023-02-15T16:16:49.692Z"
      },
      {
        "duration": 1563,
        "start_time": "2023-02-15T16:17:01.816Z"
      },
      {
        "duration": 29,
        "start_time": "2023-02-15T16:17:03.382Z"
      },
      {
        "duration": 37,
        "start_time": "2023-02-15T16:17:03.414Z"
      },
      {
        "duration": 5,
        "start_time": "2023-02-15T16:17:03.454Z"
      },
      {
        "duration": 37,
        "start_time": "2023-02-15T16:17:03.461Z"
      },
      {
        "duration": 29,
        "start_time": "2023-02-15T16:17:03.500Z"
      },
      {
        "duration": 28,
        "start_time": "2023-02-15T16:17:03.531Z"
      },
      {
        "duration": 36,
        "start_time": "2023-02-15T16:17:03.561Z"
      },
      {
        "duration": 15,
        "start_time": "2023-02-15T16:17:03.599Z"
      },
      {
        "duration": 137,
        "start_time": "2023-02-15T16:17:03.617Z"
      },
      {
        "duration": 118,
        "start_time": "2023-02-15T16:17:03.756Z"
      },
      {
        "duration": 14,
        "start_time": "2023-02-15T16:17:03.876Z"
      },
      {
        "duration": 11,
        "start_time": "2023-02-15T16:17:03.892Z"
      },
      {
        "duration": 41,
        "start_time": "2023-02-15T16:17:03.905Z"
      },
      {
        "duration": 3,
        "start_time": "2023-02-15T16:17:03.948Z"
      },
      {
        "duration": 22,
        "start_time": "2023-02-15T16:28:14.083Z"
      },
      {
        "duration": 21,
        "start_time": "2023-02-15T16:28:16.634Z"
      },
      {
        "duration": 23,
        "start_time": "2023-02-15T16:28:40.718Z"
      },
      {
        "duration": 5,
        "start_time": "2023-02-15T16:28:46.599Z"
      },
      {
        "duration": 5,
        "start_time": "2023-02-15T16:28:58.382Z"
      },
      {
        "duration": 134,
        "start_time": "2023-02-15T16:29:02.544Z"
      },
      {
        "duration": 1477,
        "start_time": "2023-02-15T16:29:11.946Z"
      },
      {
        "duration": 29,
        "start_time": "2023-02-15T16:29:13.426Z"
      },
      {
        "duration": 39,
        "start_time": "2023-02-15T16:29:13.457Z"
      },
      {
        "duration": 6,
        "start_time": "2023-02-15T16:29:13.499Z"
      },
      {
        "duration": 46,
        "start_time": "2023-02-15T16:29:13.508Z"
      },
      {
        "duration": 24,
        "start_time": "2023-02-15T16:29:13.556Z"
      },
      {
        "duration": 18,
        "start_time": "2023-02-15T16:29:13.583Z"
      },
      {
        "duration": 50,
        "start_time": "2023-02-15T16:29:13.603Z"
      },
      {
        "duration": 17,
        "start_time": "2023-02-15T16:29:13.656Z"
      },
      {
        "duration": 136,
        "start_time": "2023-02-15T16:29:13.675Z"
      },
      {
        "duration": 134,
        "start_time": "2023-02-15T16:29:13.813Z"
      },
      {
        "duration": 15,
        "start_time": "2023-02-15T16:29:13.950Z"
      },
      {
        "duration": 31,
        "start_time": "2023-02-15T16:29:13.968Z"
      },
      {
        "duration": 44,
        "start_time": "2023-02-15T16:29:14.005Z"
      },
      {
        "duration": 25,
        "start_time": "2023-02-15T16:29:47.780Z"
      },
      {
        "duration": 19,
        "start_time": "2023-02-15T16:29:49.691Z"
      },
      {
        "duration": 29,
        "start_time": "2023-02-15T16:29:58.906Z"
      },
      {
        "duration": 127,
        "start_time": "2023-02-15T16:30:12.257Z"
      },
      {
        "duration": 17,
        "start_time": "2023-02-15T16:30:17.609Z"
      },
      {
        "duration": 106,
        "start_time": "2023-02-15T16:30:21.873Z"
      },
      {
        "duration": 20,
        "start_time": "2023-02-15T16:30:30.603Z"
      },
      {
        "duration": 31,
        "start_time": "2023-02-15T16:30:43.465Z"
      },
      {
        "duration": 16,
        "start_time": "2023-02-15T16:30:53.887Z"
      },
      {
        "duration": 25,
        "start_time": "2023-02-15T16:30:57.221Z"
      },
      {
        "duration": 20,
        "start_time": "2023-02-15T16:31:46.874Z"
      },
      {
        "duration": 28,
        "start_time": "2023-02-15T16:31:49.567Z"
      },
      {
        "duration": 30,
        "start_time": "2023-02-15T16:31:54.679Z"
      },
      {
        "duration": 19,
        "start_time": "2023-02-15T16:31:57.314Z"
      },
      {
        "duration": 32,
        "start_time": "2023-02-15T16:32:05.858Z"
      },
      {
        "duration": 17,
        "start_time": "2023-02-15T16:32:10.605Z"
      },
      {
        "duration": 39,
        "start_time": "2023-02-15T16:33:28.165Z"
      },
      {
        "duration": 31,
        "start_time": "2023-02-15T16:33:39.478Z"
      },
      {
        "duration": 71,
        "start_time": "2023-02-15T16:33:48.969Z"
      },
      {
        "duration": 114,
        "start_time": "2023-02-15T16:33:51.867Z"
      },
      {
        "duration": 226,
        "start_time": "2023-02-15T16:33:54.554Z"
      },
      {
        "duration": 28,
        "start_time": "2023-02-15T16:33:59.781Z"
      },
      {
        "duration": 135,
        "start_time": "2023-02-15T16:34:05.020Z"
      },
      {
        "duration": 21,
        "start_time": "2023-02-15T16:34:09.953Z"
      },
      {
        "duration": 21,
        "start_time": "2023-02-15T16:34:18.515Z"
      },
      {
        "duration": 17,
        "start_time": "2023-02-15T16:34:24.012Z"
      },
      {
        "duration": 20,
        "start_time": "2023-02-15T16:34:29.359Z"
      },
      {
        "duration": 20,
        "start_time": "2023-02-15T16:34:33.406Z"
      },
      {
        "duration": 25,
        "start_time": "2023-02-15T16:34:35.779Z"
      },
      {
        "duration": 20,
        "start_time": "2023-02-15T16:34:38.177Z"
      },
      {
        "duration": 23,
        "start_time": "2023-02-15T16:34:40.016Z"
      },
      {
        "duration": 18,
        "start_time": "2023-02-15T16:34:50.220Z"
      },
      {
        "duration": 21,
        "start_time": "2023-02-15T16:34:54.155Z"
      },
      {
        "duration": 21,
        "start_time": "2023-02-15T16:35:26.425Z"
      },
      {
        "duration": 19,
        "start_time": "2023-02-15T16:35:29.494Z"
      },
      {
        "duration": 117,
        "start_time": "2023-02-15T16:35:34.408Z"
      },
      {
        "duration": 24,
        "start_time": "2023-02-15T16:36:58.333Z"
      },
      {
        "duration": 10,
        "start_time": "2023-02-15T16:37:00.395Z"
      },
      {
        "duration": 13,
        "start_time": "2023-02-15T16:37:24.197Z"
      },
      {
        "duration": 14,
        "start_time": "2023-02-15T16:37:28.276Z"
      },
      {
        "duration": 20,
        "start_time": "2023-02-15T16:37:31.254Z"
      },
      {
        "duration": 13,
        "start_time": "2023-02-15T16:37:36.170Z"
      },
      {
        "duration": 9,
        "start_time": "2023-02-15T16:37:40.154Z"
      },
      {
        "duration": 10,
        "start_time": "2023-02-15T16:37:43.905Z"
      },
      {
        "duration": 7,
        "start_time": "2023-02-15T16:37:45.889Z"
      },
      {
        "duration": 13,
        "start_time": "2023-02-15T16:37:48.075Z"
      },
      {
        "duration": 11,
        "start_time": "2023-02-15T16:41:20.592Z"
      },
      {
        "duration": 39,
        "start_time": "2023-02-15T16:47:24.962Z"
      },
      {
        "duration": 32,
        "start_time": "2023-02-15T16:47:44.360Z"
      },
      {
        "duration": 46,
        "start_time": "2023-02-15T16:47:48.122Z"
      },
      {
        "duration": 34,
        "start_time": "2023-02-15T16:48:50.575Z"
      },
      {
        "duration": 4,
        "start_time": "2023-02-15T16:49:05.677Z"
      },
      {
        "duration": 165,
        "start_time": "2023-02-15T16:49:08.042Z"
      },
      {
        "duration": 117,
        "start_time": "2023-02-15T16:49:11.075Z"
      },
      {
        "duration": 659,
        "start_time": "2023-02-15T16:49:56.564Z"
      },
      {
        "duration": 768,
        "start_time": "2023-02-15T16:50:06.027Z"
      },
      {
        "duration": 789,
        "start_time": "2023-02-15T16:50:16.661Z"
      },
      {
        "duration": 92,
        "start_time": "2023-02-15T16:51:04.281Z"
      },
      {
        "duration": 621,
        "start_time": "2023-02-15T16:51:13.280Z"
      },
      {
        "duration": 39,
        "start_time": "2023-02-15T16:51:26.025Z"
      },
      {
        "duration": 846,
        "start_time": "2023-02-15T16:52:18.084Z"
      },
      {
        "duration": 37,
        "start_time": "2023-02-15T16:52:22.026Z"
      },
      {
        "duration": 39,
        "start_time": "2023-02-15T16:52:36.978Z"
      },
      {
        "duration": 124,
        "start_time": "2023-02-15T16:52:39.810Z"
      },
      {
        "duration": 163,
        "start_time": "2023-02-15T16:53:27.853Z"
      },
      {
        "duration": 44,
        "start_time": "2023-02-15T16:53:30.575Z"
      },
      {
        "duration": 43,
        "start_time": "2023-02-15T16:53:38.853Z"
      },
      {
        "duration": 156,
        "start_time": "2023-02-15T16:54:13.851Z"
      },
      {
        "duration": 47,
        "start_time": "2023-02-15T16:54:47.850Z"
      },
      {
        "duration": 53,
        "start_time": "2023-02-15T16:56:23.209Z"
      },
      {
        "duration": 39,
        "start_time": "2023-02-15T16:57:04.414Z"
      },
      {
        "duration": 154,
        "start_time": "2023-02-15T16:57:07.017Z"
      },
      {
        "duration": 41,
        "start_time": "2023-02-15T16:57:12.249Z"
      },
      {
        "duration": 45,
        "start_time": "2023-02-15T16:57:58.182Z"
      },
      {
        "duration": 148,
        "start_time": "2023-02-15T16:58:02.011Z"
      },
      {
        "duration": 37,
        "start_time": "2023-02-15T16:58:13.978Z"
      },
      {
        "duration": 11,
        "start_time": "2023-02-15T17:12:00.306Z"
      },
      {
        "duration": 9,
        "start_time": "2023-02-15T17:12:39.187Z"
      },
      {
        "duration": 13,
        "start_time": "2023-02-15T17:12:42.761Z"
      },
      {
        "duration": 9,
        "start_time": "2023-02-15T17:12:47.769Z"
      },
      {
        "duration": 5,
        "start_time": "2023-02-15T17:13:42.863Z"
      },
      {
        "duration": 7,
        "start_time": "2023-02-15T17:14:03.390Z"
      },
      {
        "duration": 9,
        "start_time": "2023-02-15T17:14:05.669Z"
      },
      {
        "duration": 12,
        "start_time": "2023-02-15T17:14:09.902Z"
      },
      {
        "duration": 72,
        "start_time": "2023-02-15T17:14:20.788Z"
      },
      {
        "duration": 14,
        "start_time": "2023-02-15T17:14:28.053Z"
      },
      {
        "duration": 39,
        "start_time": "2023-02-15T17:14:34.597Z"
      },
      {
        "duration": 13,
        "start_time": "2023-02-15T17:14:35.886Z"
      },
      {
        "duration": 11,
        "start_time": "2023-02-15T17:14:46.560Z"
      },
      {
        "duration": 11,
        "start_time": "2023-02-15T17:14:50.720Z"
      },
      {
        "duration": 11,
        "start_time": "2023-02-15T17:15:31.703Z"
      },
      {
        "duration": 17,
        "start_time": "2023-02-15T17:15:36.694Z"
      },
      {
        "duration": 10,
        "start_time": "2023-02-15T17:15:42.756Z"
      },
      {
        "duration": 10,
        "start_time": "2023-02-15T17:15:48.694Z"
      },
      {
        "duration": 10,
        "start_time": "2023-02-15T17:17:40.991Z"
      },
      {
        "duration": 11,
        "start_time": "2023-02-15T17:18:02.181Z"
      },
      {
        "duration": 17,
        "start_time": "2023-02-15T17:18:26.757Z"
      },
      {
        "duration": 19,
        "start_time": "2023-02-15T17:18:34.661Z"
      },
      {
        "duration": 11,
        "start_time": "2023-02-15T17:18:43.464Z"
      },
      {
        "duration": 12,
        "start_time": "2023-02-15T17:19:38.052Z"
      },
      {
        "duration": 11,
        "start_time": "2023-02-15T17:20:30.494Z"
      },
      {
        "duration": 12,
        "start_time": "2023-02-15T17:20:38.355Z"
      },
      {
        "duration": 46,
        "start_time": "2023-02-15T17:20:51.041Z"
      },
      {
        "duration": 151,
        "start_time": "2023-02-15T17:21:00.359Z"
      },
      {
        "duration": 10,
        "start_time": "2023-02-15T17:21:07.755Z"
      },
      {
        "duration": 10,
        "start_time": "2023-02-15T17:21:15.787Z"
      },
      {
        "duration": 41,
        "start_time": "2023-02-15T17:25:48.649Z"
      },
      {
        "duration": 45,
        "start_time": "2023-02-15T17:25:51.324Z"
      },
      {
        "duration": 11,
        "start_time": "2023-02-15T17:26:00.092Z"
      },
      {
        "duration": 9,
        "start_time": "2023-02-15T17:26:08.980Z"
      },
      {
        "duration": 80,
        "start_time": "2023-02-15T17:26:19.148Z"
      },
      {
        "duration": 624,
        "start_time": "2023-02-15T17:27:12.483Z"
      },
      {
        "duration": 609,
        "start_time": "2023-02-15T17:27:19.185Z"
      },
      {
        "duration": 6,
        "start_time": "2023-02-15T17:27:29.952Z"
      },
      {
        "duration": 127,
        "start_time": "2023-02-15T17:27:45.207Z"
      },
      {
        "duration": 12,
        "start_time": "2023-02-15T17:27:51.256Z"
      },
      {
        "duration": 10,
        "start_time": "2023-02-15T17:28:01.800Z"
      },
      {
        "duration": 4,
        "start_time": "2023-02-15T17:28:22.214Z"
      },
      {
        "duration": 4,
        "start_time": "2023-02-15T17:28:25.162Z"
      },
      {
        "duration": 5,
        "start_time": "2023-02-15T17:28:34.221Z"
      },
      {
        "duration": 4,
        "start_time": "2023-02-15T17:28:38.285Z"
      },
      {
        "duration": 9,
        "start_time": "2023-02-15T17:28:53.285Z"
      },
      {
        "duration": 12,
        "start_time": "2023-02-15T17:28:56.761Z"
      },
      {
        "duration": 10,
        "start_time": "2023-02-15T17:29:00.297Z"
      },
      {
        "duration": 10,
        "start_time": "2023-02-15T17:29:13.605Z"
      },
      {
        "duration": 10,
        "start_time": "2023-02-15T17:29:19.821Z"
      },
      {
        "duration": 7,
        "start_time": "2023-02-15T17:29:21.469Z"
      },
      {
        "duration": 6,
        "start_time": "2023-02-15T17:30:10.823Z"
      },
      {
        "duration": 8,
        "start_time": "2023-02-15T17:30:13.661Z"
      },
      {
        "duration": 4,
        "start_time": "2023-02-15T17:30:19.464Z"
      },
      {
        "duration": 4,
        "start_time": "2023-02-15T17:30:27.263Z"
      },
      {
        "duration": 86,
        "start_time": "2023-02-15T17:31:04.503Z"
      },
      {
        "duration": 3,
        "start_time": "2023-02-15T17:31:06.952Z"
      },
      {
        "duration": 3,
        "start_time": "2023-02-15T17:31:13.484Z"
      },
      {
        "duration": 3,
        "start_time": "2023-02-15T17:31:15.506Z"
      },
      {
        "duration": 68,
        "start_time": "2023-02-15T17:32:40.906Z"
      },
      {
        "duration": 3,
        "start_time": "2023-02-15T17:32:53.649Z"
      },
      {
        "duration": 11,
        "start_time": "2023-02-15T17:33:33.714Z"
      },
      {
        "duration": 5,
        "start_time": "2023-02-15T17:33:41.206Z"
      },
      {
        "duration": 10,
        "start_time": "2023-02-15T17:34:25.026Z"
      },
      {
        "duration": 10,
        "start_time": "2023-02-15T17:36:23.966Z"
      },
      {
        "duration": 4,
        "start_time": "2023-02-15T17:36:42.483Z"
      },
      {
        "duration": 3,
        "start_time": "2023-02-15T17:36:46.015Z"
      },
      {
        "duration": 5,
        "start_time": "2023-02-15T17:36:50.264Z"
      },
      {
        "duration": 102,
        "start_time": "2023-02-15T17:37:12.368Z"
      },
      {
        "duration": 4,
        "start_time": "2023-02-15T17:37:14.161Z"
      },
      {
        "duration": 4,
        "start_time": "2023-02-15T17:37:22.056Z"
      },
      {
        "duration": 5,
        "start_time": "2023-02-15T17:37:36.151Z"
      },
      {
        "duration": 10,
        "start_time": "2023-02-15T17:37:48.145Z"
      },
      {
        "duration": 11,
        "start_time": "2023-02-15T17:37:56.058Z"
      },
      {
        "duration": 4,
        "start_time": "2023-02-15T17:38:00.000Z"
      },
      {
        "duration": 4,
        "start_time": "2023-02-15T17:38:12.121Z"
      },
      {
        "duration": 4,
        "start_time": "2023-02-15T17:38:15.368Z"
      },
      {
        "duration": 5,
        "start_time": "2023-02-15T17:38:19.646Z"
      },
      {
        "duration": 4,
        "start_time": "2023-02-15T17:38:27.919Z"
      },
      {
        "duration": 5,
        "start_time": "2023-02-15T17:38:30.600Z"
      },
      {
        "duration": 5,
        "start_time": "2023-02-15T17:38:40.349Z"
      },
      {
        "duration": 5,
        "start_time": "2023-02-15T17:38:45.346Z"
      },
      {
        "duration": 5,
        "start_time": "2023-02-15T17:38:55.510Z"
      },
      {
        "duration": 4,
        "start_time": "2023-02-15T17:39:37.371Z"
      },
      {
        "duration": 3,
        "start_time": "2023-02-15T17:42:29.973Z"
      },
      {
        "duration": 5,
        "start_time": "2023-02-15T17:43:27.731Z"
      },
      {
        "duration": 137,
        "start_time": "2023-02-15T17:43:52.888Z"
      },
      {
        "duration": 4,
        "start_time": "2023-02-15T17:43:57.606Z"
      },
      {
        "duration": 23,
        "start_time": "2023-02-15T17:44:12.048Z"
      },
      {
        "duration": 12,
        "start_time": "2023-02-15T17:44:35.703Z"
      },
      {
        "duration": 4,
        "start_time": "2023-02-15T17:44:37.750Z"
      },
      {
        "duration": 23,
        "start_time": "2023-02-15T17:44:39.866Z"
      },
      {
        "duration": 144,
        "start_time": "2023-02-15T17:45:02.693Z"
      },
      {
        "duration": 32,
        "start_time": "2023-02-15T17:45:16.211Z"
      },
      {
        "duration": 27,
        "start_time": "2023-02-15T17:45:26.054Z"
      },
      {
        "duration": 23,
        "start_time": "2023-02-15T17:45:31.748Z"
      },
      {
        "duration": 15,
        "start_time": "2023-02-15T17:46:13.471Z"
      },
      {
        "duration": 14,
        "start_time": "2023-02-15T17:46:17.507Z"
      },
      {
        "duration": 32,
        "start_time": "2023-02-15T17:46:20.960Z"
      },
      {
        "duration": 15,
        "start_time": "2023-02-15T17:46:22.722Z"
      },
      {
        "duration": 23,
        "start_time": "2023-02-15T17:46:25.751Z"
      },
      {
        "duration": 74,
        "start_time": "2023-02-15T17:46:51.804Z"
      },
      {
        "duration": 29,
        "start_time": "2023-02-15T17:46:55.007Z"
      },
      {
        "duration": 1360,
        "start_time": "2023-02-15T17:47:02.993Z"
      },
      {
        "duration": 24,
        "start_time": "2023-02-15T17:47:04.355Z"
      },
      {
        "duration": 48,
        "start_time": "2023-02-15T17:47:04.381Z"
      },
      {
        "duration": 16,
        "start_time": "2023-02-15T17:47:04.431Z"
      },
      {
        "duration": 54,
        "start_time": "2023-02-15T17:47:04.449Z"
      },
      {
        "duration": 30,
        "start_time": "2023-02-15T17:47:04.504Z"
      },
      {
        "duration": 25,
        "start_time": "2023-02-15T17:47:04.537Z"
      },
      {
        "duration": 40,
        "start_time": "2023-02-15T17:47:04.564Z"
      },
      {
        "duration": 16,
        "start_time": "2023-02-15T17:47:04.606Z"
      },
      {
        "duration": 128,
        "start_time": "2023-02-15T17:47:04.625Z"
      },
      {
        "duration": 115,
        "start_time": "2023-02-15T17:47:04.756Z"
      },
      {
        "duration": 10,
        "start_time": "2023-02-15T17:47:04.873Z"
      },
      {
        "duration": 8,
        "start_time": "2023-02-15T17:47:04.885Z"
      },
      {
        "duration": 52,
        "start_time": "2023-02-15T17:47:04.895Z"
      },
      {
        "duration": 31,
        "start_time": "2023-02-15T17:47:04.948Z"
      },
      {
        "duration": 6,
        "start_time": "2023-02-15T17:47:04.981Z"
      },
      {
        "duration": 109,
        "start_time": "2023-02-15T17:48:00.253Z"
      },
      {
        "duration": 4,
        "start_time": "2023-02-15T17:48:03.083Z"
      },
      {
        "duration": 3,
        "start_time": "2023-02-15T17:48:07.371Z"
      },
      {
        "duration": 4,
        "start_time": "2023-02-15T17:48:11.266Z"
      },
      {
        "duration": 5,
        "start_time": "2023-02-15T17:48:13.900Z"
      },
      {
        "duration": 4,
        "start_time": "2023-02-15T17:48:20.168Z"
      },
      {
        "duration": 5,
        "start_time": "2023-02-15T17:48:41.018Z"
      },
      {
        "duration": 5,
        "start_time": "2023-02-15T17:48:52.906Z"
      },
      {
        "duration": 6,
        "start_time": "2023-02-15T17:49:04.054Z"
      },
      {
        "duration": 5,
        "start_time": "2023-02-15T17:49:10.796Z"
      },
      {
        "duration": 124,
        "start_time": "2023-02-15T17:49:14.740Z"
      },
      {
        "duration": 5,
        "start_time": "2023-02-15T17:49:16.179Z"
      },
      {
        "duration": 4,
        "start_time": "2023-02-15T17:49:19.260Z"
      },
      {
        "duration": 10,
        "start_time": "2023-02-15T17:49:22.249Z"
      },
      {
        "duration": 28,
        "start_time": "2023-02-15T17:49:34.997Z"
      },
      {
        "duration": 27,
        "start_time": "2023-02-15T17:53:41.016Z"
      },
      {
        "duration": 1415,
        "start_time": "2023-02-15T17:54:01.885Z"
      },
      {
        "duration": 24,
        "start_time": "2023-02-15T17:54:03.302Z"
      },
      {
        "duration": 44,
        "start_time": "2023-02-15T17:54:03.327Z"
      },
      {
        "duration": 13,
        "start_time": "2023-02-15T17:54:03.373Z"
      },
      {
        "duration": 27,
        "start_time": "2023-02-15T17:54:03.388Z"
      },
      {
        "duration": 36,
        "start_time": "2023-02-15T17:54:03.417Z"
      },
      {
        "duration": 42,
        "start_time": "2023-02-15T17:54:03.455Z"
      },
      {
        "duration": 39,
        "start_time": "2023-02-15T17:54:03.499Z"
      },
      {
        "duration": 29,
        "start_time": "2023-02-15T17:54:03.539Z"
      },
      {
        "duration": 123,
        "start_time": "2023-02-15T17:54:03.570Z"
      },
      {
        "duration": 106,
        "start_time": "2023-02-15T17:54:03.695Z"
      },
      {
        "duration": 11,
        "start_time": "2023-02-15T17:54:03.802Z"
      },
      {
        "duration": 24,
        "start_time": "2023-02-15T17:54:03.814Z"
      },
      {
        "duration": 38,
        "start_time": "2023-02-15T17:54:03.840Z"
      },
      {
        "duration": 20,
        "start_time": "2023-02-15T17:54:03.879Z"
      },
      {
        "duration": 38,
        "start_time": "2023-02-15T17:54:03.901Z"
      },
      {
        "duration": 7,
        "start_time": "2023-02-15T17:54:03.941Z"
      },
      {
        "duration": 4,
        "start_time": "2023-02-15T17:54:45.616Z"
      },
      {
        "duration": 23,
        "start_time": "2023-02-15T17:54:47.301Z"
      },
      {
        "duration": 12,
        "start_time": "2023-02-15T17:54:56.228Z"
      },
      {
        "duration": 28,
        "start_time": "2023-02-15T17:55:04.305Z"
      },
      {
        "duration": 12,
        "start_time": "2023-02-15T17:55:33.164Z"
      },
      {
        "duration": 14,
        "start_time": "2023-02-15T17:55:37.976Z"
      },
      {
        "duration": 29,
        "start_time": "2023-02-15T17:55:42.415Z"
      },
      {
        "duration": 109,
        "start_time": "2023-02-15T17:56:27.504Z"
      },
      {
        "duration": 5,
        "start_time": "2023-02-15T17:56:40.603Z"
      },
      {
        "duration": 25,
        "start_time": "2023-02-15T17:58:01.884Z"
      },
      {
        "duration": 24,
        "start_time": "2023-02-15T17:58:06.739Z"
      },
      {
        "duration": 38,
        "start_time": "2023-02-15T17:58:40.270Z"
      },
      {
        "duration": 30,
        "start_time": "2023-02-15T18:00:12.978Z"
      },
      {
        "duration": 129,
        "start_time": "2023-02-15T18:00:53.738Z"
      },
      {
        "duration": 149,
        "start_time": "2023-02-15T18:01:52.951Z"
      },
      {
        "duration": 15,
        "start_time": "2023-02-15T18:02:47.076Z"
      },
      {
        "duration": 10,
        "start_time": "2023-02-15T18:04:11.362Z"
      },
      {
        "duration": 12,
        "start_time": "2023-02-15T18:04:39.147Z"
      },
      {
        "duration": 9,
        "start_time": "2023-02-15T18:04:44.938Z"
      },
      {
        "duration": 9,
        "start_time": "2023-02-15T18:04:52.147Z"
      },
      {
        "duration": 15,
        "start_time": "2023-02-15T18:05:28.323Z"
      },
      {
        "duration": 15,
        "start_time": "2023-02-15T18:05:34.422Z"
      },
      {
        "duration": 11,
        "start_time": "2023-02-15T18:05:43.190Z"
      },
      {
        "duration": 74,
        "start_time": "2023-02-15T18:05:45.704Z"
      },
      {
        "duration": 12,
        "start_time": "2023-02-15T18:05:57.357Z"
      },
      {
        "duration": 13,
        "start_time": "2023-02-15T18:07:36.115Z"
      },
      {
        "duration": 14,
        "start_time": "2023-02-15T18:07:44.139Z"
      },
      {
        "duration": 16,
        "start_time": "2023-02-15T18:07:50.988Z"
      },
      {
        "duration": 15,
        "start_time": "2023-02-15T18:07:53.601Z"
      },
      {
        "duration": 22,
        "start_time": "2023-02-15T18:08:04.449Z"
      },
      {
        "duration": 11,
        "start_time": "2023-02-15T18:08:19.216Z"
      },
      {
        "duration": 13,
        "start_time": "2023-02-15T18:08:25.330Z"
      },
      {
        "duration": 11,
        "start_time": "2023-02-15T18:08:41.679Z"
      },
      {
        "duration": 11,
        "start_time": "2023-02-15T18:09:23.636Z"
      },
      {
        "duration": 3,
        "start_time": "2023-02-15T18:10:11.892Z"
      },
      {
        "duration": 74,
        "start_time": "2023-02-15T18:10:17.524Z"
      },
      {
        "duration": 1164,
        "start_time": "2023-02-15T18:10:38.875Z"
      },
      {
        "duration": 1141,
        "start_time": "2023-02-15T18:10:49.961Z"
      },
      {
        "duration": 6,
        "start_time": "2023-02-15T18:10:58.148Z"
      },
      {
        "duration": 4,
        "start_time": "2023-02-15T18:11:03.382Z"
      },
      {
        "duration": 11,
        "start_time": "2023-02-15T18:12:06.891Z"
      },
      {
        "duration": 4,
        "start_time": "2023-02-15T18:12:09.598Z"
      },
      {
        "duration": 1622,
        "start_time": "2023-02-16T11:15:20.547Z"
      },
      {
        "duration": 22,
        "start_time": "2023-02-16T11:15:22.171Z"
      },
      {
        "duration": 25,
        "start_time": "2023-02-16T11:15:22.195Z"
      },
      {
        "duration": 4,
        "start_time": "2023-02-16T11:15:22.222Z"
      },
      {
        "duration": 17,
        "start_time": "2023-02-16T11:15:22.227Z"
      },
      {
        "duration": 18,
        "start_time": "2023-02-16T11:15:22.245Z"
      },
      {
        "duration": 13,
        "start_time": "2023-02-16T11:15:22.265Z"
      },
      {
        "duration": 54,
        "start_time": "2023-02-16T11:15:22.280Z"
      },
      {
        "duration": 13,
        "start_time": "2023-02-16T11:15:22.336Z"
      },
      {
        "duration": 120,
        "start_time": "2023-02-16T11:15:22.352Z"
      },
      {
        "duration": 105,
        "start_time": "2023-02-16T11:15:22.473Z"
      },
      {
        "duration": 10,
        "start_time": "2023-02-16T11:15:22.580Z"
      },
      {
        "duration": 11,
        "start_time": "2023-02-16T11:15:22.591Z"
      },
      {
        "duration": 48,
        "start_time": "2023-02-16T11:15:22.603Z"
      },
      {
        "duration": 5,
        "start_time": "2023-02-16T11:15:22.653Z"
      },
      {
        "duration": 126,
        "start_time": "2023-02-16T11:15:22.660Z"
      },
      {
        "duration": 0,
        "start_time": "2023-02-16T11:15:22.787Z"
      },
      {
        "duration": 0,
        "start_time": "2023-02-16T11:15:22.789Z"
      },
      {
        "duration": 10,
        "start_time": "2023-02-16T11:21:32.414Z"
      },
      {
        "duration": 8,
        "start_time": "2023-02-16T11:35:01.164Z"
      },
      {
        "duration": 11,
        "start_time": "2023-02-16T11:36:17.134Z"
      },
      {
        "duration": 22,
        "start_time": "2023-02-16T11:36:19.132Z"
      },
      {
        "duration": 24,
        "start_time": "2023-02-16T11:36:22.524Z"
      },
      {
        "duration": 111,
        "start_time": "2023-02-16T11:36:25.719Z"
      },
      {
        "duration": 22,
        "start_time": "2023-02-16T11:36:28.015Z"
      },
      {
        "duration": 22,
        "start_time": "2023-02-16T11:36:39.034Z"
      },
      {
        "duration": 5,
        "start_time": "2023-02-16T11:38:17.731Z"
      },
      {
        "duration": 5,
        "start_time": "2023-02-16T11:38:22.455Z"
      },
      {
        "duration": 10,
        "start_time": "2023-02-16T11:38:31.128Z"
      },
      {
        "duration": 10,
        "start_time": "2023-02-16T11:43:59.718Z"
      },
      {
        "duration": 10,
        "start_time": "2023-02-16T11:45:26.779Z"
      },
      {
        "duration": 4,
        "start_time": "2023-02-16T11:45:30.023Z"
      },
      {
        "duration": 67,
        "start_time": "2023-02-16T11:45:31.440Z"
      },
      {
        "duration": 67,
        "start_time": "2023-02-16T11:45:39.855Z"
      },
      {
        "duration": 3,
        "start_time": "2023-02-16T11:45:45.627Z"
      },
      {
        "duration": 58,
        "start_time": "2023-02-16T11:45:46.927Z"
      },
      {
        "duration": 62,
        "start_time": "2023-02-16T11:47:55.315Z"
      },
      {
        "duration": 1361,
        "start_time": "2023-02-16T11:48:01.156Z"
      },
      {
        "duration": 23,
        "start_time": "2023-02-16T11:48:02.520Z"
      },
      {
        "duration": 28,
        "start_time": "2023-02-16T11:48:02.545Z"
      },
      {
        "duration": 5,
        "start_time": "2023-02-16T11:48:02.575Z"
      },
      {
        "duration": 40,
        "start_time": "2023-02-16T11:48:02.581Z"
      },
      {
        "duration": 20,
        "start_time": "2023-02-16T11:48:02.622Z"
      },
      {
        "duration": 14,
        "start_time": "2023-02-16T11:48:02.644Z"
      },
      {
        "duration": 20,
        "start_time": "2023-02-16T11:48:02.660Z"
      },
      {
        "duration": 43,
        "start_time": "2023-02-16T11:48:02.683Z"
      },
      {
        "duration": 114,
        "start_time": "2023-02-16T11:48:02.729Z"
      },
      {
        "duration": 111,
        "start_time": "2023-02-16T11:48:02.845Z"
      },
      {
        "duration": 11,
        "start_time": "2023-02-16T11:48:02.958Z"
      },
      {
        "duration": 17,
        "start_time": "2023-02-16T11:48:02.971Z"
      },
      {
        "duration": 56,
        "start_time": "2023-02-16T11:48:02.990Z"
      },
      {
        "duration": 9,
        "start_time": "2023-02-16T11:48:03.048Z"
      },
      {
        "duration": 35,
        "start_time": "2023-02-16T11:48:03.059Z"
      },
      {
        "duration": 83,
        "start_time": "2023-02-16T11:48:03.096Z"
      },
      {
        "duration": 1314,
        "start_time": "2023-02-16T11:48:15.985Z"
      },
      {
        "duration": 24,
        "start_time": "2023-02-16T11:48:17.301Z"
      },
      {
        "duration": 27,
        "start_time": "2023-02-16T11:48:17.328Z"
      },
      {
        "duration": 6,
        "start_time": "2023-02-16T11:48:17.357Z"
      },
      {
        "duration": 18,
        "start_time": "2023-02-16T11:48:17.365Z"
      },
      {
        "duration": 40,
        "start_time": "2023-02-16T11:48:17.384Z"
      },
      {
        "duration": 14,
        "start_time": "2023-02-16T11:48:17.426Z"
      },
      {
        "duration": 19,
        "start_time": "2023-02-16T11:48:17.442Z"
      },
      {
        "duration": 11,
        "start_time": "2023-02-16T11:48:17.462Z"
      },
      {
        "duration": 127,
        "start_time": "2023-02-16T11:48:17.475Z"
      },
      {
        "duration": 97,
        "start_time": "2023-02-16T11:48:17.604Z"
      },
      {
        "duration": 22,
        "start_time": "2023-02-16T11:48:17.703Z"
      },
      {
        "duration": 9,
        "start_time": "2023-02-16T11:48:17.726Z"
      },
      {
        "duration": 35,
        "start_time": "2023-02-16T11:48:17.737Z"
      },
      {
        "duration": 6,
        "start_time": "2023-02-16T11:48:17.774Z"
      },
      {
        "duration": 8,
        "start_time": "2023-02-16T11:48:17.782Z"
      },
      {
        "duration": 85,
        "start_time": "2023-02-16T11:48:17.791Z"
      },
      {
        "duration": 33,
        "start_time": "2023-02-16T11:48:36.312Z"
      },
      {
        "duration": 47,
        "start_time": "2023-02-16T11:49:15.576Z"
      },
      {
        "duration": 64,
        "start_time": "2023-02-16T11:49:20.205Z"
      },
      {
        "duration": 20,
        "start_time": "2023-02-16T11:50:26.015Z"
      },
      {
        "duration": 1416,
        "start_time": "2023-02-16T11:50:35.010Z"
      },
      {
        "duration": 26,
        "start_time": "2023-02-16T11:50:36.428Z"
      },
      {
        "duration": 31,
        "start_time": "2023-02-16T11:50:36.455Z"
      },
      {
        "duration": 5,
        "start_time": "2023-02-16T11:50:36.488Z"
      },
      {
        "duration": 35,
        "start_time": "2023-02-16T11:50:36.495Z"
      },
      {
        "duration": 18,
        "start_time": "2023-02-16T11:50:36.532Z"
      },
      {
        "duration": 13,
        "start_time": "2023-02-16T11:50:36.551Z"
      },
      {
        "duration": 40,
        "start_time": "2023-02-16T11:50:36.566Z"
      },
      {
        "duration": 18,
        "start_time": "2023-02-16T11:50:36.608Z"
      },
      {
        "duration": 122,
        "start_time": "2023-02-16T11:50:36.628Z"
      },
      {
        "duration": 112,
        "start_time": "2023-02-16T11:50:36.752Z"
      },
      {
        "duration": 11,
        "start_time": "2023-02-16T11:50:36.866Z"
      },
      {
        "duration": 9,
        "start_time": "2023-02-16T11:50:36.879Z"
      },
      {
        "duration": 56,
        "start_time": "2023-02-16T11:50:36.890Z"
      },
      {
        "duration": 21,
        "start_time": "2023-02-16T11:50:46.753Z"
      },
      {
        "duration": 2348,
        "start_time": "2023-02-16T11:51:46.021Z"
      },
      {
        "duration": 2585,
        "start_time": "2023-02-16T11:51:52.434Z"
      },
      {
        "duration": 2166,
        "start_time": "2023-02-16T11:52:54.341Z"
      },
      {
        "duration": 2078,
        "start_time": "2023-02-16T11:52:57.184Z"
      },
      {
        "duration": 2164,
        "start_time": "2023-02-16T11:53:23.447Z"
      },
      {
        "duration": 2301,
        "start_time": "2023-02-16T11:53:38.916Z"
      },
      {
        "duration": 35,
        "start_time": "2023-02-16T11:53:41.219Z"
      },
      {
        "duration": 76,
        "start_time": "2023-02-16T11:53:57.168Z"
      },
      {
        "duration": 108,
        "start_time": "2023-02-16T11:54:04.637Z"
      },
      {
        "duration": 2049,
        "start_time": "2023-02-16T11:54:07.691Z"
      },
      {
        "duration": 1917,
        "start_time": "2023-02-16T11:55:11.382Z"
      },
      {
        "duration": 20,
        "start_time": "2023-02-16T11:55:13.675Z"
      },
      {
        "duration": 1374,
        "start_time": "2023-02-16T11:55:21.816Z"
      },
      {
        "duration": 24,
        "start_time": "2023-02-16T11:55:23.192Z"
      },
      {
        "duration": 28,
        "start_time": "2023-02-16T11:55:23.217Z"
      },
      {
        "duration": 5,
        "start_time": "2023-02-16T11:55:23.247Z"
      },
      {
        "duration": 21,
        "start_time": "2023-02-16T11:55:23.254Z"
      },
      {
        "duration": 18,
        "start_time": "2023-02-16T11:55:23.276Z"
      },
      {
        "duration": 14,
        "start_time": "2023-02-16T11:55:23.321Z"
      },
      {
        "duration": 33,
        "start_time": "2023-02-16T11:55:23.336Z"
      },
      {
        "duration": 13,
        "start_time": "2023-02-16T11:55:23.370Z"
      },
      {
        "duration": 117,
        "start_time": "2023-02-16T11:55:23.386Z"
      },
      {
        "duration": 104,
        "start_time": "2023-02-16T11:55:23.505Z"
      },
      {
        "duration": 13,
        "start_time": "2023-02-16T11:55:23.620Z"
      },
      {
        "duration": 8,
        "start_time": "2023-02-16T11:55:23.635Z"
      },
      {
        "duration": 20,
        "start_time": "2023-02-16T11:55:23.645Z"
      },
      {
        "duration": 2041,
        "start_time": "2023-02-16T11:55:23.667Z"
      },
      {
        "duration": 22,
        "start_time": "2023-02-16T11:55:25.710Z"
      },
      {
        "duration": 1845,
        "start_time": "2023-02-16T11:55:52.641Z"
      },
      {
        "duration": 1916,
        "start_time": "2023-02-16T11:56:17.626Z"
      },
      {
        "duration": 1369,
        "start_time": "2023-02-16T11:56:40.736Z"
      },
      {
        "duration": 24,
        "start_time": "2023-02-16T11:56:42.108Z"
      },
      {
        "duration": 26,
        "start_time": "2023-02-16T11:56:42.134Z"
      },
      {
        "duration": 4,
        "start_time": "2023-02-16T11:56:42.163Z"
      },
      {
        "duration": 26,
        "start_time": "2023-02-16T11:56:42.169Z"
      },
      {
        "duration": 32,
        "start_time": "2023-02-16T11:56:42.197Z"
      },
      {
        "duration": 13,
        "start_time": "2023-02-16T11:56:42.231Z"
      },
      {
        "duration": 22,
        "start_time": "2023-02-16T11:56:42.246Z"
      },
      {
        "duration": 13,
        "start_time": "2023-02-16T11:56:42.269Z"
      },
      {
        "duration": 146,
        "start_time": "2023-02-16T11:56:42.284Z"
      },
      {
        "duration": 114,
        "start_time": "2023-02-16T11:56:42.431Z"
      },
      {
        "duration": 10,
        "start_time": "2023-02-16T11:56:42.547Z"
      },
      {
        "duration": 13,
        "start_time": "2023-02-16T11:56:42.559Z"
      },
      {
        "duration": 24,
        "start_time": "2023-02-16T11:56:42.574Z"
      },
      {
        "duration": 2173,
        "start_time": "2023-02-16T11:56:42.600Z"
      },
      {
        "duration": 2092,
        "start_time": "2023-02-16T11:57:25.067Z"
      },
      {
        "duration": 8,
        "start_time": "2023-02-16T12:07:00.823Z"
      },
      {
        "duration": 8,
        "start_time": "2023-02-16T12:08:50.130Z"
      },
      {
        "duration": 10,
        "start_time": "2023-02-16T12:09:00.667Z"
      },
      {
        "duration": 14,
        "start_time": "2023-02-16T12:09:05.353Z"
      },
      {
        "duration": 95,
        "start_time": "2023-02-16T12:09:47.276Z"
      },
      {
        "duration": 74,
        "start_time": "2023-02-16T12:11:10.775Z"
      },
      {
        "duration": 12,
        "start_time": "2023-02-16T12:11:23.639Z"
      },
      {
        "duration": 113,
        "start_time": "2023-02-16T12:11:42.269Z"
      },
      {
        "duration": 13,
        "start_time": "2023-02-16T12:11:45.698Z"
      },
      {
        "duration": 12,
        "start_time": "2023-02-16T12:11:52.222Z"
      },
      {
        "duration": 11,
        "start_time": "2023-02-16T12:13:50.872Z"
      },
      {
        "duration": 20,
        "start_time": "2023-02-16T12:45:26.441Z"
      },
      {
        "duration": 14,
        "start_time": "2023-02-16T12:46:08.896Z"
      },
      {
        "duration": 86,
        "start_time": "2023-02-16T12:46:34.700Z"
      },
      {
        "duration": 109,
        "start_time": "2023-02-16T12:46:43.006Z"
      },
      {
        "duration": 83,
        "start_time": "2023-02-16T12:46:46.927Z"
      },
      {
        "duration": 78,
        "start_time": "2023-02-16T12:46:53.501Z"
      },
      {
        "duration": 17,
        "start_time": "2023-02-16T12:47:01.030Z"
      },
      {
        "duration": 17,
        "start_time": "2023-02-16T12:47:12.930Z"
      },
      {
        "duration": 16,
        "start_time": "2023-02-16T12:47:16.981Z"
      },
      {
        "duration": 16,
        "start_time": "2023-02-16T12:47:23.965Z"
      },
      {
        "duration": 16,
        "start_time": "2023-02-16T12:47:29.149Z"
      },
      {
        "duration": 18,
        "start_time": "2023-02-16T12:52:40.420Z"
      },
      {
        "duration": 221,
        "start_time": "2023-02-16T12:52:47.265Z"
      },
      {
        "duration": 18,
        "start_time": "2023-02-16T12:54:00.076Z"
      },
      {
        "duration": 190,
        "start_time": "2023-02-16T12:54:39.532Z"
      },
      {
        "duration": 256,
        "start_time": "2023-02-16T12:54:46.324Z"
      },
      {
        "duration": 169,
        "start_time": "2023-02-16T12:54:50.172Z"
      },
      {
        "duration": 169,
        "start_time": "2023-02-16T12:55:09.826Z"
      },
      {
        "duration": 200,
        "start_time": "2023-02-16T12:55:36.888Z"
      },
      {
        "duration": 190,
        "start_time": "2023-02-16T12:55:40.631Z"
      },
      {
        "duration": 30,
        "start_time": "2023-02-16T12:56:24.654Z"
      },
      {
        "duration": 176,
        "start_time": "2023-02-16T12:56:35.871Z"
      },
      {
        "duration": 170,
        "start_time": "2023-02-16T12:56:45.756Z"
      },
      {
        "duration": 207,
        "start_time": "2023-02-16T13:30:54.554Z"
      },
      {
        "duration": 229,
        "start_time": "2023-02-16T13:31:19.400Z"
      },
      {
        "duration": 14,
        "start_time": "2023-02-16T13:31:20.173Z"
      },
      {
        "duration": 187,
        "start_time": "2023-02-16T13:31:41.975Z"
      },
      {
        "duration": 19,
        "start_time": "2023-02-16T13:31:49.014Z"
      },
      {
        "duration": 18,
        "start_time": "2023-02-16T13:36:26.312Z"
      },
      {
        "duration": 282,
        "start_time": "2023-02-16T13:36:36.534Z"
      },
      {
        "duration": 14,
        "start_time": "2023-02-16T13:37:37.873Z"
      },
      {
        "duration": 14,
        "start_time": "2023-02-16T13:37:46.887Z"
      },
      {
        "duration": 16,
        "start_time": "2023-02-16T13:39:04.613Z"
      },
      {
        "duration": 44,
        "start_time": "2023-02-16T14:33:05.725Z"
      },
      {
        "duration": 22,
        "start_time": "2023-02-16T14:50:41.698Z"
      },
      {
        "duration": 1406,
        "start_time": "2023-02-16T14:51:02.935Z"
      },
      {
        "duration": 19,
        "start_time": "2023-02-16T14:51:09.881Z"
      },
      {
        "duration": 1348,
        "start_time": "2023-02-16T14:51:16.888Z"
      },
      {
        "duration": 22,
        "start_time": "2023-02-16T14:51:18.238Z"
      },
      {
        "duration": 26,
        "start_time": "2023-02-16T14:51:18.262Z"
      },
      {
        "duration": 5,
        "start_time": "2023-02-16T14:51:18.291Z"
      },
      {
        "duration": 39,
        "start_time": "2023-02-16T14:51:18.298Z"
      },
      {
        "duration": 22,
        "start_time": "2023-02-16T14:51:18.340Z"
      },
      {
        "duration": 15,
        "start_time": "2023-02-16T14:51:18.364Z"
      },
      {
        "duration": 47,
        "start_time": "2023-02-16T14:51:18.381Z"
      },
      {
        "duration": 11,
        "start_time": "2023-02-16T14:51:18.430Z"
      },
      {
        "duration": 121,
        "start_time": "2023-02-16T14:51:18.443Z"
      },
      {
        "duration": 107,
        "start_time": "2023-02-16T14:51:18.566Z"
      },
      {
        "duration": 10,
        "start_time": "2023-02-16T14:51:18.674Z"
      },
      {
        "duration": 14,
        "start_time": "2023-02-16T14:51:18.686Z"
      },
      {
        "duration": 25,
        "start_time": "2023-02-16T14:51:18.701Z"
      },
      {
        "duration": 8,
        "start_time": "2023-02-16T14:51:18.728Z"
      },
      {
        "duration": 1873,
        "start_time": "2023-02-16T14:51:18.737Z"
      },
      {
        "duration": 21,
        "start_time": "2023-02-16T14:51:20.611Z"
      },
      {
        "duration": 188,
        "start_time": "2023-02-16T14:51:20.634Z"
      },
      {
        "duration": 161,
        "start_time": "2023-02-16T14:51:20.824Z"
      },
      {
        "duration": 16,
        "start_time": "2023-02-16T14:51:20.987Z"
      },
      {
        "duration": 183,
        "start_time": "2023-02-16T14:51:21.021Z"
      },
      {
        "duration": 17,
        "start_time": "2023-02-16T14:51:21.206Z"
      },
      {
        "duration": 19,
        "start_time": "2023-02-16T14:51:21.224Z"
      },
      {
        "duration": 209,
        "start_time": "2023-02-16T14:51:21.245Z"
      },
      {
        "duration": 10,
        "start_time": "2023-02-16T14:51:47.337Z"
      },
      {
        "duration": 10,
        "start_time": "2023-02-16T14:52:29.509Z"
      },
      {
        "duration": 31,
        "start_time": "2023-02-16T14:53:33.609Z"
      },
      {
        "duration": 10,
        "start_time": "2023-02-16T14:53:46.792Z"
      },
      {
        "duration": 10,
        "start_time": "2023-02-16T14:53:54.989Z"
      },
      {
        "duration": 12,
        "start_time": "2023-02-16T14:54:26.891Z"
      },
      {
        "duration": 14,
        "start_time": "2023-02-16T14:54:56.841Z"
      },
      {
        "duration": 7,
        "start_time": "2023-02-16T14:55:07.535Z"
      },
      {
        "duration": 10,
        "start_time": "2023-02-16T14:55:11.464Z"
      },
      {
        "duration": 5,
        "start_time": "2023-02-16T14:57:13.508Z"
      },
      {
        "duration": 6,
        "start_time": "2023-02-16T14:57:18.355Z"
      },
      {
        "duration": 16,
        "start_time": "2023-02-16T14:58:04.215Z"
      },
      {
        "duration": 13,
        "start_time": "2023-02-16T15:04:47.066Z"
      },
      {
        "duration": 16,
        "start_time": "2023-02-16T15:09:28.213Z"
      },
      {
        "duration": 15,
        "start_time": "2023-02-16T15:11:01.161Z"
      },
      {
        "duration": 8,
        "start_time": "2023-02-16T15:12:21.265Z"
      },
      {
        "duration": 11,
        "start_time": "2023-02-16T15:13:31.404Z"
      },
      {
        "duration": 19,
        "start_time": "2023-02-16T15:34:40.421Z"
      },
      {
        "duration": 16,
        "start_time": "2023-02-16T15:35:20.896Z"
      },
      {
        "duration": 16,
        "start_time": "2023-02-16T15:35:22.092Z"
      },
      {
        "duration": 9,
        "start_time": "2023-02-16T15:35:23.966Z"
      },
      {
        "duration": 15,
        "start_time": "2023-02-16T15:50:07.585Z"
      },
      {
        "duration": 21,
        "start_time": "2023-02-16T15:50:08.037Z"
      },
      {
        "duration": 14,
        "start_time": "2023-02-16T16:11:40.520Z"
      },
      {
        "duration": 41,
        "start_time": "2023-02-16T16:13:43.412Z"
      },
      {
        "duration": 14,
        "start_time": "2023-02-16T16:14:27.389Z"
      },
      {
        "duration": 19,
        "start_time": "2023-02-16T16:14:35.075Z"
      },
      {
        "duration": 14,
        "start_time": "2023-02-16T16:14:39.193Z"
      },
      {
        "duration": 12,
        "start_time": "2023-02-16T16:15:10.680Z"
      },
      {
        "duration": 1308,
        "start_time": "2023-02-16T16:15:19.865Z"
      },
      {
        "duration": 22,
        "start_time": "2023-02-16T16:15:21.176Z"
      },
      {
        "duration": 29,
        "start_time": "2023-02-16T16:15:21.200Z"
      },
      {
        "duration": 10,
        "start_time": "2023-02-16T16:15:21.231Z"
      },
      {
        "duration": 21,
        "start_time": "2023-02-16T16:15:21.243Z"
      },
      {
        "duration": 16,
        "start_time": "2023-02-16T16:15:21.265Z"
      },
      {
        "duration": 12,
        "start_time": "2023-02-16T16:15:21.283Z"
      },
      {
        "duration": 38,
        "start_time": "2023-02-16T16:15:21.297Z"
      },
      {
        "duration": 12,
        "start_time": "2023-02-16T16:15:21.336Z"
      },
      {
        "duration": 118,
        "start_time": "2023-02-16T16:15:21.351Z"
      },
      {
        "duration": 101,
        "start_time": "2023-02-16T16:15:21.470Z"
      },
      {
        "duration": 13,
        "start_time": "2023-02-16T16:15:21.573Z"
      },
      {
        "duration": 16,
        "start_time": "2023-02-16T16:15:21.588Z"
      },
      {
        "duration": 22,
        "start_time": "2023-02-16T16:15:21.605Z"
      },
      {
        "duration": 10,
        "start_time": "2023-02-16T16:15:21.629Z"
      },
      {
        "duration": 7,
        "start_time": "2023-02-16T16:15:21.641Z"
      },
      {
        "duration": 1848,
        "start_time": "2023-02-16T16:15:21.649Z"
      },
      {
        "duration": 25,
        "start_time": "2023-02-16T16:15:23.499Z"
      },
      {
        "duration": 191,
        "start_time": "2023-02-16T16:15:23.526Z"
      },
      {
        "duration": 160,
        "start_time": "2023-02-16T16:15:23.720Z"
      },
      {
        "duration": 15,
        "start_time": "2023-02-16T16:15:23.882Z"
      },
      {
        "duration": 183,
        "start_time": "2023-02-16T16:15:23.899Z"
      },
      {
        "duration": 13,
        "start_time": "2023-02-16T16:15:24.084Z"
      },
      {
        "duration": 30,
        "start_time": "2023-02-16T16:15:24.099Z"
      },
      {
        "duration": 20,
        "start_time": "2023-02-16T16:15:24.131Z"
      },
      {
        "duration": 69,
        "start_time": "2023-02-16T16:15:24.154Z"
      },
      {
        "duration": 21,
        "start_time": "2023-02-16T16:15:24.225Z"
      },
      {
        "duration": 14,
        "start_time": "2023-02-16T16:15:24.249Z"
      },
      {
        "duration": 8,
        "start_time": "2023-02-16T16:15:24.264Z"
      },
      {
        "duration": 16,
        "start_time": "2023-02-16T16:45:52.969Z"
      },
      {
        "duration": 14,
        "start_time": "2023-02-16T16:46:20.871Z"
      },
      {
        "duration": 23,
        "start_time": "2023-02-16T16:46:22.429Z"
      },
      {
        "duration": 1375,
        "start_time": "2023-02-16T16:46:47.029Z"
      },
      {
        "duration": 25,
        "start_time": "2023-02-16T16:46:48.408Z"
      },
      {
        "duration": 22,
        "start_time": "2023-02-16T16:46:48.435Z"
      },
      {
        "duration": 28,
        "start_time": "2023-02-16T16:46:48.458Z"
      },
      {
        "duration": 5,
        "start_time": "2023-02-16T16:46:48.488Z"
      },
      {
        "duration": 16,
        "start_time": "2023-02-16T16:46:48.521Z"
      },
      {
        "duration": 19,
        "start_time": "2023-02-16T16:46:48.539Z"
      },
      {
        "duration": 20,
        "start_time": "2023-02-16T16:46:48.560Z"
      },
      {
        "duration": 52,
        "start_time": "2023-02-16T16:46:48.583Z"
      },
      {
        "duration": 14,
        "start_time": "2023-02-16T16:46:48.637Z"
      },
      {
        "duration": 133,
        "start_time": "2023-02-16T16:46:48.653Z"
      },
      {
        "duration": 105,
        "start_time": "2023-02-16T16:46:48.787Z"
      },
      {
        "duration": 10,
        "start_time": "2023-02-16T16:46:48.894Z"
      },
      {
        "duration": 25,
        "start_time": "2023-02-16T16:46:48.906Z"
      },
      {
        "duration": 8,
        "start_time": "2023-02-16T16:46:48.933Z"
      },
      {
        "duration": 17,
        "start_time": "2023-02-16T16:46:48.943Z"
      },
      {
        "duration": 8,
        "start_time": "2023-02-16T16:46:48.962Z"
      },
      {
        "duration": 2111,
        "start_time": "2023-02-16T16:46:48.972Z"
      },
      {
        "duration": 17,
        "start_time": "2023-02-16T16:46:51.085Z"
      },
      {
        "duration": 194,
        "start_time": "2023-02-16T16:46:51.122Z"
      },
      {
        "duration": 182,
        "start_time": "2023-02-16T16:46:51.318Z"
      },
      {
        "duration": 25,
        "start_time": "2023-02-16T16:46:51.503Z"
      },
      {
        "duration": 174,
        "start_time": "2023-02-16T16:46:51.530Z"
      },
      {
        "duration": 22,
        "start_time": "2023-02-16T16:46:51.706Z"
      },
      {
        "duration": 17,
        "start_time": "2023-02-16T16:46:51.730Z"
      },
      {
        "duration": 74,
        "start_time": "2023-02-16T16:46:51.749Z"
      },
      {
        "duration": 10,
        "start_time": "2023-02-16T16:46:51.827Z"
      },
      {
        "duration": 27,
        "start_time": "2023-02-16T16:46:51.840Z"
      },
      {
        "duration": 59,
        "start_time": "2023-02-16T16:46:51.869Z"
      },
      {
        "duration": 9,
        "start_time": "2023-02-16T16:46:51.930Z"
      },
      {
        "duration": 25,
        "start_time": "2023-02-16T16:47:12.097Z"
      },
      {
        "duration": 1343,
        "start_time": "2023-02-16T16:47:17.970Z"
      },
      {
        "duration": 24,
        "start_time": "2023-02-16T16:47:19.315Z"
      },
      {
        "duration": 31,
        "start_time": "2023-02-16T16:47:19.340Z"
      },
      {
        "duration": 6,
        "start_time": "2023-02-16T16:47:19.373Z"
      },
      {
        "duration": 51,
        "start_time": "2023-02-16T16:47:19.381Z"
      },
      {
        "duration": 19,
        "start_time": "2023-02-16T16:47:19.434Z"
      },
      {
        "duration": 20,
        "start_time": "2023-02-16T16:47:19.455Z"
      },
      {
        "duration": 43,
        "start_time": "2023-02-16T16:47:19.477Z"
      },
      {
        "duration": 23,
        "start_time": "2023-02-16T16:47:19.522Z"
      },
      {
        "duration": 15,
        "start_time": "2023-02-16T16:47:19.548Z"
      },
      {
        "duration": 151,
        "start_time": "2023-02-16T16:47:19.565Z"
      },
      {
        "duration": 116,
        "start_time": "2023-02-16T16:47:19.718Z"
      },
      {
        "duration": 13,
        "start_time": "2023-02-16T16:47:19.837Z"
      },
      {
        "duration": 20,
        "start_time": "2023-02-16T16:47:19.852Z"
      },
      {
        "duration": 10,
        "start_time": "2023-02-16T16:47:19.874Z"
      },
      {
        "duration": 8,
        "start_time": "2023-02-16T16:47:19.886Z"
      },
      {
        "duration": 30,
        "start_time": "2023-02-16T16:47:19.896Z"
      },
      {
        "duration": 2065,
        "start_time": "2023-02-16T16:47:19.928Z"
      },
      {
        "duration": 26,
        "start_time": "2023-02-16T16:47:21.995Z"
      },
      {
        "duration": 211,
        "start_time": "2023-02-16T16:47:22.023Z"
      },
      {
        "duration": 199,
        "start_time": "2023-02-16T16:47:22.236Z"
      },
      {
        "duration": 17,
        "start_time": "2023-02-16T16:47:22.438Z"
      },
      {
        "duration": 210,
        "start_time": "2023-02-16T16:47:22.458Z"
      },
      {
        "duration": 15,
        "start_time": "2023-02-16T16:47:22.670Z"
      },
      {
        "duration": 19,
        "start_time": "2023-02-16T16:47:22.686Z"
      },
      {
        "duration": 27,
        "start_time": "2023-02-16T16:47:22.707Z"
      },
      {
        "duration": 13,
        "start_time": "2023-02-16T16:47:22.736Z"
      },
      {
        "duration": 80,
        "start_time": "2023-02-16T16:47:22.752Z"
      },
      {
        "duration": 18,
        "start_time": "2023-02-16T16:47:22.834Z"
      },
      {
        "duration": 16,
        "start_time": "2023-02-16T16:47:22.854Z"
      },
      {
        "duration": 50,
        "start_time": "2023-02-17T11:37:23.723Z"
      },
      {
        "duration": 1416,
        "start_time": "2023-02-17T11:37:27.112Z"
      },
      {
        "duration": 83,
        "start_time": "2023-02-17T11:37:28.530Z"
      },
      {
        "duration": 23,
        "start_time": "2023-02-17T11:37:28.615Z"
      },
      {
        "duration": 29,
        "start_time": "2023-02-17T11:37:28.640Z"
      },
      {
        "duration": 5,
        "start_time": "2023-02-17T11:37:28.670Z"
      },
      {
        "duration": 40,
        "start_time": "2023-02-17T11:37:28.677Z"
      },
      {
        "duration": 15,
        "start_time": "2023-02-17T11:37:28.718Z"
      },
      {
        "duration": 29,
        "start_time": "2023-02-17T11:37:28.735Z"
      },
      {
        "duration": 14,
        "start_time": "2023-02-17T11:37:28.765Z"
      },
      {
        "duration": 35,
        "start_time": "2023-02-17T11:37:28.783Z"
      },
      {
        "duration": 12,
        "start_time": "2023-02-17T11:37:28.820Z"
      },
      {
        "duration": 121,
        "start_time": "2023-02-17T11:37:28.833Z"
      },
      {
        "duration": 109,
        "start_time": "2023-02-17T11:37:28.955Z"
      },
      {
        "duration": 11,
        "start_time": "2023-02-17T11:37:29.067Z"
      },
      {
        "duration": 24,
        "start_time": "2023-02-17T11:37:29.080Z"
      },
      {
        "duration": 10,
        "start_time": "2023-02-17T11:37:29.106Z"
      },
      {
        "duration": 11,
        "start_time": "2023-02-17T11:37:29.118Z"
      },
      {
        "duration": 8,
        "start_time": "2023-02-17T11:37:29.131Z"
      },
      {
        "duration": 2054,
        "start_time": "2023-02-17T11:37:29.140Z"
      },
      {
        "duration": 20,
        "start_time": "2023-02-17T11:37:31.196Z"
      },
      {
        "duration": 208,
        "start_time": "2023-02-17T11:37:31.218Z"
      },
      {
        "duration": 168,
        "start_time": "2023-02-17T11:37:31.428Z"
      },
      {
        "duration": 14,
        "start_time": "2023-02-17T11:37:31.602Z"
      },
      {
        "duration": 147,
        "start_time": "2023-02-17T11:37:31.618Z"
      },
      {
        "duration": 17,
        "start_time": "2023-02-17T11:37:31.767Z"
      },
      {
        "duration": 32,
        "start_time": "2023-02-17T11:37:31.786Z"
      },
      {
        "duration": 20,
        "start_time": "2023-02-17T11:37:31.820Z"
      },
      {
        "duration": 62,
        "start_time": "2023-02-17T11:37:31.843Z"
      },
      {
        "duration": 32,
        "start_time": "2023-02-17T11:37:31.907Z"
      },
      {
        "duration": 16,
        "start_time": "2023-02-17T11:37:31.941Z"
      },
      {
        "duration": 20,
        "start_time": "2023-02-17T11:37:31.959Z"
      },
      {
        "duration": 14,
        "start_time": "2023-02-17T11:41:06.702Z"
      },
      {
        "duration": 17,
        "start_time": "2023-02-17T11:42:12.477Z"
      },
      {
        "duration": 21,
        "start_time": "2023-02-17T11:42:15.661Z"
      },
      {
        "duration": 19,
        "start_time": "2023-02-17T11:42:21.327Z"
      },
      {
        "duration": 16,
        "start_time": "2023-02-17T11:42:33.376Z"
      },
      {
        "duration": 23,
        "start_time": "2023-02-17T11:47:34.785Z"
      },
      {
        "duration": 18,
        "start_time": "2023-02-17T11:47:45.591Z"
      },
      {
        "duration": 58,
        "start_time": "2023-02-17T11:48:11.777Z"
      },
      {
        "duration": 22,
        "start_time": "2023-02-17T11:48:16.206Z"
      },
      {
        "duration": 12,
        "start_time": "2023-02-17T11:48:49.628Z"
      },
      {
        "duration": 14,
        "start_time": "2023-02-17T11:49:03.826Z"
      },
      {
        "duration": 25,
        "start_time": "2023-02-17T11:49:47.260Z"
      },
      {
        "duration": 137,
        "start_time": "2023-02-17T11:50:12.490Z"
      },
      {
        "duration": 9,
        "start_time": "2023-02-17T11:50:24.606Z"
      },
      {
        "duration": 22,
        "start_time": "2023-02-17T11:50:26.852Z"
      },
      {
        "duration": 22,
        "start_time": "2023-02-17T11:50:38.335Z"
      },
      {
        "duration": 21,
        "start_time": "2023-02-17T11:50:48.158Z"
      },
      {
        "duration": 7,
        "start_time": "2023-02-17T11:51:50.771Z"
      },
      {
        "duration": 5,
        "start_time": "2023-02-17T11:53:02.273Z"
      },
      {
        "duration": 15,
        "start_time": "2023-02-17T12:02:41.170Z"
      },
      {
        "duration": 12,
        "start_time": "2023-02-17T12:02:51.592Z"
      },
      {
        "duration": 13,
        "start_time": "2023-02-17T12:02:57.896Z"
      },
      {
        "duration": 15,
        "start_time": "2023-02-17T12:03:15.268Z"
      },
      {
        "duration": 46,
        "start_time": "2023-02-17T12:04:11.828Z"
      },
      {
        "duration": 13,
        "start_time": "2023-02-17T12:04:22.761Z"
      },
      {
        "duration": 1394,
        "start_time": "2023-02-17T12:07:34.310Z"
      },
      {
        "duration": 1251,
        "start_time": "2023-02-17T12:08:43.567Z"
      },
      {
        "duration": 40,
        "start_time": "2023-02-17T12:08:44.820Z"
      },
      {
        "duration": 23,
        "start_time": "2023-02-17T12:08:44.861Z"
      },
      {
        "duration": 25,
        "start_time": "2023-02-17T12:08:44.887Z"
      },
      {
        "duration": 7,
        "start_time": "2023-02-17T12:08:44.914Z"
      },
      {
        "duration": 6,
        "start_time": "2023-02-17T12:08:44.922Z"
      },
      {
        "duration": 26,
        "start_time": "2023-02-17T12:08:44.929Z"
      },
      {
        "duration": 15,
        "start_time": "2023-02-17T12:08:44.957Z"
      },
      {
        "duration": 48,
        "start_time": "2023-02-17T12:08:44.974Z"
      },
      {
        "duration": 15,
        "start_time": "2023-02-17T12:08:45.027Z"
      },
      {
        "duration": 21,
        "start_time": "2023-02-17T12:08:45.044Z"
      },
      {
        "duration": 41,
        "start_time": "2023-02-17T12:08:45.066Z"
      },
      {
        "duration": 117,
        "start_time": "2023-02-17T12:08:45.108Z"
      },
      {
        "duration": 102,
        "start_time": "2023-02-17T12:08:45.227Z"
      },
      {
        "duration": 11,
        "start_time": "2023-02-17T12:08:45.330Z"
      },
      {
        "duration": 37,
        "start_time": "2023-02-17T12:08:45.342Z"
      },
      {
        "duration": 32,
        "start_time": "2023-02-17T12:08:45.381Z"
      },
      {
        "duration": 19,
        "start_time": "2023-02-17T12:08:45.415Z"
      },
      {
        "duration": 15,
        "start_time": "2023-02-17T12:08:45.435Z"
      },
      {
        "duration": 1306,
        "start_time": "2023-02-17T12:08:45.452Z"
      },
      {
        "duration": 15,
        "start_time": "2023-02-17T12:08:46.759Z"
      },
      {
        "duration": 179,
        "start_time": "2023-02-17T12:08:46.776Z"
      },
      {
        "duration": 182,
        "start_time": "2023-02-17T12:08:46.957Z"
      },
      {
        "duration": 16,
        "start_time": "2023-02-17T12:08:47.141Z"
      },
      {
        "duration": 173,
        "start_time": "2023-02-17T12:08:47.159Z"
      },
      {
        "duration": 18,
        "start_time": "2023-02-17T12:08:47.334Z"
      },
      {
        "duration": 54,
        "start_time": "2023-02-17T12:08:47.354Z"
      },
      {
        "duration": 20,
        "start_time": "2023-02-17T12:08:47.412Z"
      },
      {
        "duration": 11,
        "start_time": "2023-02-17T12:08:47.434Z"
      },
      {
        "duration": 68,
        "start_time": "2023-02-17T12:08:47.447Z"
      },
      {
        "duration": 17,
        "start_time": "2023-02-17T12:08:47.517Z"
      },
      {
        "duration": 9,
        "start_time": "2023-02-17T12:08:47.535Z"
      },
      {
        "duration": 6,
        "start_time": "2023-02-17T12:09:57.377Z"
      },
      {
        "duration": 1237,
        "start_time": "2023-02-17T12:10:18.385Z"
      },
      {
        "duration": 41,
        "start_time": "2023-02-17T12:10:19.624Z"
      },
      {
        "duration": 23,
        "start_time": "2023-02-17T12:10:19.667Z"
      },
      {
        "duration": 27,
        "start_time": "2023-02-17T12:10:19.693Z"
      },
      {
        "duration": 8,
        "start_time": "2023-02-17T12:10:19.722Z"
      },
      {
        "duration": 10,
        "start_time": "2023-02-17T12:10:19.731Z"
      },
      {
        "duration": 26,
        "start_time": "2023-02-17T12:10:19.743Z"
      },
      {
        "duration": 32,
        "start_time": "2023-02-17T12:10:19.771Z"
      },
      {
        "duration": 21,
        "start_time": "2023-02-17T12:10:19.805Z"
      },
      {
        "duration": 14,
        "start_time": "2023-02-17T12:10:19.829Z"
      },
      {
        "duration": 21,
        "start_time": "2023-02-17T12:10:19.845Z"
      },
      {
        "duration": 37,
        "start_time": "2023-02-17T12:10:19.868Z"
      },
      {
        "duration": 111,
        "start_time": "2023-02-17T12:10:19.907Z"
      },
      {
        "duration": 103,
        "start_time": "2023-02-17T12:10:20.020Z"
      },
      {
        "duration": 12,
        "start_time": "2023-02-17T12:10:20.125Z"
      },
      {
        "duration": 15,
        "start_time": "2023-02-17T12:10:20.139Z"
      },
      {
        "duration": 15,
        "start_time": "2023-02-17T12:10:20.156Z"
      },
      {
        "duration": 10,
        "start_time": "2023-02-17T12:10:20.172Z"
      },
      {
        "duration": 23,
        "start_time": "2023-02-17T12:10:20.184Z"
      },
      {
        "duration": 1374,
        "start_time": "2023-02-17T12:10:20.209Z"
      },
      {
        "duration": 22,
        "start_time": "2023-02-17T12:10:21.585Z"
      },
      {
        "duration": 167,
        "start_time": "2023-02-17T12:10:21.608Z"
      },
      {
        "duration": 172,
        "start_time": "2023-02-17T12:10:21.777Z"
      },
      {
        "duration": 14,
        "start_time": "2023-02-17T12:10:21.951Z"
      },
      {
        "duration": 179,
        "start_time": "2023-02-17T12:10:21.966Z"
      },
      {
        "duration": 12,
        "start_time": "2023-02-17T12:10:22.147Z"
      },
      {
        "duration": 16,
        "start_time": "2023-02-17T12:10:22.160Z"
      },
      {
        "duration": 36,
        "start_time": "2023-02-17T12:10:22.179Z"
      },
      {
        "duration": 21,
        "start_time": "2023-02-17T12:10:22.217Z"
      },
      {
        "duration": 26,
        "start_time": "2023-02-17T12:10:22.240Z"
      },
      {
        "duration": 15,
        "start_time": "2023-02-17T12:10:22.304Z"
      },
      {
        "duration": 14,
        "start_time": "2023-02-17T12:10:22.321Z"
      },
      {
        "duration": 5,
        "start_time": "2023-02-17T12:14:31.785Z"
      },
      {
        "duration": 4,
        "start_time": "2023-02-17T12:15:39.234Z"
      },
      {
        "duration": 21,
        "start_time": "2023-02-17T12:16:05.557Z"
      },
      {
        "duration": 127,
        "start_time": "2023-02-17T12:16:34.682Z"
      },
      {
        "duration": 1240,
        "start_time": "2023-02-17T12:16:40.477Z"
      },
      {
        "duration": 42,
        "start_time": "2023-02-17T12:16:41.720Z"
      },
      {
        "duration": 24,
        "start_time": "2023-02-17T12:16:41.764Z"
      },
      {
        "duration": 28,
        "start_time": "2023-02-17T12:16:41.789Z"
      },
      {
        "duration": 10,
        "start_time": "2023-02-17T12:16:41.821Z"
      },
      {
        "duration": 6,
        "start_time": "2023-02-17T12:16:41.833Z"
      },
      {
        "duration": 23,
        "start_time": "2023-02-17T12:16:41.841Z"
      },
      {
        "duration": 46,
        "start_time": "2023-02-17T12:16:41.866Z"
      },
      {
        "duration": 20,
        "start_time": "2023-02-17T12:16:41.914Z"
      },
      {
        "duration": 15,
        "start_time": "2023-02-17T12:16:41.937Z"
      },
      {
        "duration": 53,
        "start_time": "2023-02-17T12:16:41.954Z"
      },
      {
        "duration": 14,
        "start_time": "2023-02-17T12:16:42.009Z"
      },
      {
        "duration": 118,
        "start_time": "2023-02-17T12:16:42.025Z"
      },
      {
        "duration": 108,
        "start_time": "2023-02-17T12:16:42.146Z"
      },
      {
        "duration": 11,
        "start_time": "2023-02-17T12:16:42.256Z"
      },
      {
        "duration": 11,
        "start_time": "2023-02-17T12:16:42.268Z"
      },
      {
        "duration": 32,
        "start_time": "2023-02-17T12:16:42.280Z"
      },
      {
        "duration": 12,
        "start_time": "2023-02-17T12:16:42.314Z"
      },
      {
        "duration": 11,
        "start_time": "2023-02-17T12:16:42.328Z"
      },
      {
        "duration": 13,
        "start_time": "2023-02-17T12:16:42.340Z"
      },
      {
        "duration": 1448,
        "start_time": "2023-02-17T12:16:42.354Z"
      },
      {
        "duration": 14,
        "start_time": "2023-02-17T12:16:43.804Z"
      },
      {
        "duration": 20,
        "start_time": "2023-02-17T12:16:43.819Z"
      },
      {
        "duration": 199,
        "start_time": "2023-02-17T12:16:43.840Z"
      },
      {
        "duration": 202,
        "start_time": "2023-02-17T12:16:44.041Z"
      },
      {
        "duration": 23,
        "start_time": "2023-02-17T12:16:44.245Z"
      },
      {
        "duration": 206,
        "start_time": "2023-02-17T12:16:44.270Z"
      },
      {
        "duration": 13,
        "start_time": "2023-02-17T12:16:44.478Z"
      },
      {
        "duration": 15,
        "start_time": "2023-02-17T12:16:44.493Z"
      },
      {
        "duration": 16,
        "start_time": "2023-02-17T12:16:44.510Z"
      },
      {
        "duration": 9,
        "start_time": "2023-02-17T12:16:44.528Z"
      },
      {
        "duration": 78,
        "start_time": "2023-02-17T12:16:44.539Z"
      },
      {
        "duration": 15,
        "start_time": "2023-02-17T12:16:44.619Z"
      },
      {
        "duration": 9,
        "start_time": "2023-02-17T12:16:44.636Z"
      },
      {
        "duration": 8,
        "start_time": "2023-02-17T12:18:09.395Z"
      },
      {
        "duration": 10,
        "start_time": "2023-02-17T12:18:19.151Z"
      },
      {
        "duration": 8,
        "start_time": "2023-02-17T12:18:41.731Z"
      },
      {
        "duration": 8,
        "start_time": "2023-02-17T12:20:53.353Z"
      },
      {
        "duration": 14,
        "start_time": "2023-02-17T12:21:06.255Z"
      },
      {
        "duration": 9,
        "start_time": "2023-02-17T12:21:18.318Z"
      },
      {
        "duration": 15,
        "start_time": "2023-02-17T12:21:49.373Z"
      },
      {
        "duration": 9,
        "start_time": "2023-02-17T12:22:17.282Z"
      },
      {
        "duration": 1226,
        "start_time": "2023-02-17T12:24:50.522Z"
      },
      {
        "duration": 41,
        "start_time": "2023-02-17T12:24:51.750Z"
      },
      {
        "duration": 28,
        "start_time": "2023-02-17T12:24:51.793Z"
      },
      {
        "duration": 25,
        "start_time": "2023-02-17T12:24:51.823Z"
      },
      {
        "duration": 9,
        "start_time": "2023-02-17T12:24:51.850Z"
      },
      {
        "duration": 5,
        "start_time": "2023-02-17T12:24:51.861Z"
      },
      {
        "duration": 49,
        "start_time": "2023-02-17T12:24:51.868Z"
      },
      {
        "duration": 17,
        "start_time": "2023-02-17T12:24:51.919Z"
      },
      {
        "duration": 28,
        "start_time": "2023-02-17T12:24:51.938Z"
      },
      {
        "duration": 16,
        "start_time": "2023-02-17T12:24:51.968Z"
      },
      {
        "duration": 22,
        "start_time": "2023-02-17T12:24:52.003Z"
      },
      {
        "duration": 17,
        "start_time": "2023-02-17T12:24:52.027Z"
      },
      {
        "duration": 128,
        "start_time": "2023-02-17T12:24:52.046Z"
      },
      {
        "duration": 100,
        "start_time": "2023-02-17T12:24:52.176Z"
      },
      {
        "duration": 10,
        "start_time": "2023-02-17T12:24:52.278Z"
      },
      {
        "duration": 20,
        "start_time": "2023-02-17T12:24:52.289Z"
      },
      {
        "duration": 20,
        "start_time": "2023-02-17T12:24:52.311Z"
      },
      {
        "duration": 17,
        "start_time": "2023-02-17T12:24:52.332Z"
      },
      {
        "duration": 13,
        "start_time": "2023-02-17T12:24:52.350Z"
      },
      {
        "duration": 26,
        "start_time": "2023-02-17T12:24:52.364Z"
      },
      {
        "duration": 129,
        "start_time": "2023-02-17T12:24:52.392Z"
      },
      {
        "duration": 0,
        "start_time": "2023-02-17T12:24:52.523Z"
      },
      {
        "duration": 0,
        "start_time": "2023-02-17T12:24:52.524Z"
      },
      {
        "duration": 0,
        "start_time": "2023-02-17T12:24:52.526Z"
      },
      {
        "duration": 0,
        "start_time": "2023-02-17T12:24:52.527Z"
      },
      {
        "duration": 0,
        "start_time": "2023-02-17T12:24:52.528Z"
      },
      {
        "duration": 0,
        "start_time": "2023-02-17T12:24:52.529Z"
      },
      {
        "duration": 0,
        "start_time": "2023-02-17T12:24:52.530Z"
      },
      {
        "duration": 0,
        "start_time": "2023-02-17T12:24:52.531Z"
      },
      {
        "duration": 0,
        "start_time": "2023-02-17T12:24:52.532Z"
      },
      {
        "duration": 0,
        "start_time": "2023-02-17T12:24:52.533Z"
      },
      {
        "duration": 0,
        "start_time": "2023-02-17T12:24:52.535Z"
      },
      {
        "duration": 0,
        "start_time": "2023-02-17T12:24:52.536Z"
      },
      {
        "duration": 0,
        "start_time": "2023-02-17T12:24:52.537Z"
      },
      {
        "duration": 31,
        "start_time": "2023-02-17T12:25:17.597Z"
      },
      {
        "duration": 1185,
        "start_time": "2023-02-17T12:25:25.041Z"
      },
      {
        "duration": 43,
        "start_time": "2023-02-17T12:25:26.228Z"
      },
      {
        "duration": 22,
        "start_time": "2023-02-17T12:25:26.273Z"
      },
      {
        "duration": 26,
        "start_time": "2023-02-17T12:25:26.297Z"
      },
      {
        "duration": 8,
        "start_time": "2023-02-17T12:25:26.325Z"
      },
      {
        "duration": 5,
        "start_time": "2023-02-17T12:25:26.334Z"
      },
      {
        "duration": 22,
        "start_time": "2023-02-17T12:25:26.340Z"
      },
      {
        "duration": 45,
        "start_time": "2023-02-17T12:25:26.364Z"
      },
      {
        "duration": 21,
        "start_time": "2023-02-17T12:25:26.410Z"
      },
      {
        "duration": 15,
        "start_time": "2023-02-17T12:25:26.434Z"
      },
      {
        "duration": 21,
        "start_time": "2023-02-17T12:25:26.450Z"
      },
      {
        "duration": 39,
        "start_time": "2023-02-17T12:25:26.473Z"
      },
      {
        "duration": 115,
        "start_time": "2023-02-17T12:25:26.514Z"
      },
      {
        "duration": 106,
        "start_time": "2023-02-17T12:25:26.630Z"
      },
      {
        "duration": 9,
        "start_time": "2023-02-17T12:25:26.738Z"
      },
      {
        "duration": 16,
        "start_time": "2023-02-17T12:25:26.749Z"
      },
      {
        "duration": 12,
        "start_time": "2023-02-17T12:25:26.767Z"
      },
      {
        "duration": 24,
        "start_time": "2023-02-17T12:25:26.781Z"
      },
      {
        "duration": 12,
        "start_time": "2023-02-17T12:25:26.806Z"
      },
      {
        "duration": 8,
        "start_time": "2023-02-17T12:25:26.820Z"
      },
      {
        "duration": 8,
        "start_time": "2023-02-17T12:25:26.830Z"
      },
      {
        "duration": 1484,
        "start_time": "2023-02-17T12:25:26.839Z"
      },
      {
        "duration": 15,
        "start_time": "2023-02-17T12:25:28.325Z"
      },
      {
        "duration": 179,
        "start_time": "2023-02-17T12:25:28.342Z"
      },
      {
        "duration": 163,
        "start_time": "2023-02-17T12:25:28.523Z"
      },
      {
        "duration": 21,
        "start_time": "2023-02-17T12:25:28.688Z"
      },
      {
        "duration": 150,
        "start_time": "2023-02-17T12:25:28.711Z"
      },
      {
        "duration": 13,
        "start_time": "2023-02-17T12:25:28.865Z"
      },
      {
        "duration": 32,
        "start_time": "2023-02-17T12:25:28.880Z"
      },
      {
        "duration": 15,
        "start_time": "2023-02-17T12:25:28.913Z"
      },
      {
        "duration": 9,
        "start_time": "2023-02-17T12:25:28.930Z"
      },
      {
        "duration": 74,
        "start_time": "2023-02-17T12:25:28.940Z"
      },
      {
        "duration": 16,
        "start_time": "2023-02-17T12:25:29.016Z"
      },
      {
        "duration": 11,
        "start_time": "2023-02-17T12:25:29.033Z"
      },
      {
        "duration": 8,
        "start_time": "2023-02-17T12:26:06.459Z"
      },
      {
        "duration": 11,
        "start_time": "2023-02-17T12:30:44.726Z"
      },
      {
        "duration": 1436,
        "start_time": "2023-02-17T12:30:49.587Z"
      },
      {
        "duration": 9,
        "start_time": "2023-02-17T12:30:57.849Z"
      },
      {
        "duration": 16,
        "start_time": "2023-02-17T12:31:12.048Z"
      },
      {
        "duration": 1305,
        "start_time": "2023-02-17T13:43:53.787Z"
      },
      {
        "duration": 41,
        "start_time": "2023-02-17T13:43:55.094Z"
      },
      {
        "duration": 24,
        "start_time": "2023-02-17T13:43:55.136Z"
      },
      {
        "duration": 26,
        "start_time": "2023-02-17T13:43:55.162Z"
      },
      {
        "duration": 15,
        "start_time": "2023-02-17T13:43:55.190Z"
      },
      {
        "duration": 6,
        "start_time": "2023-02-17T13:43:55.207Z"
      },
      {
        "duration": 25,
        "start_time": "2023-02-17T13:43:55.215Z"
      },
      {
        "duration": 18,
        "start_time": "2023-02-17T13:43:55.242Z"
      },
      {
        "duration": 49,
        "start_time": "2023-02-17T13:43:55.262Z"
      },
      {
        "duration": 14,
        "start_time": "2023-02-17T13:43:55.313Z"
      },
      {
        "duration": 25,
        "start_time": "2023-02-17T13:43:55.329Z"
      },
      {
        "duration": 12,
        "start_time": "2023-02-17T13:43:55.356Z"
      },
      {
        "duration": 127,
        "start_time": "2023-02-17T13:43:55.370Z"
      },
      {
        "duration": 103,
        "start_time": "2023-02-17T13:43:55.502Z"
      },
      {
        "duration": 10,
        "start_time": "2023-02-17T13:43:55.607Z"
      },
      {
        "duration": 12,
        "start_time": "2023-02-17T13:43:55.619Z"
      },
      {
        "duration": 22,
        "start_time": "2023-02-17T13:43:55.633Z"
      },
      {
        "duration": 7,
        "start_time": "2023-02-17T13:43:55.657Z"
      },
      {
        "duration": 12,
        "start_time": "2023-02-17T13:43:55.666Z"
      },
      {
        "duration": 24,
        "start_time": "2023-02-17T13:43:55.680Z"
      },
      {
        "duration": 1365,
        "start_time": "2023-02-17T13:43:55.706Z"
      },
      {
        "duration": 15,
        "start_time": "2023-02-17T13:43:57.073Z"
      },
      {
        "duration": 191,
        "start_time": "2023-02-17T13:43:57.090Z"
      },
      {
        "duration": 167,
        "start_time": "2023-02-17T13:43:57.283Z"
      },
      {
        "duration": 16,
        "start_time": "2023-02-17T13:43:57.453Z"
      },
      {
        "duration": 170,
        "start_time": "2023-02-17T13:43:57.471Z"
      },
      {
        "duration": 17,
        "start_time": "2023-02-17T13:43:57.643Z"
      },
      {
        "duration": 48,
        "start_time": "2023-02-17T13:43:57.664Z"
      },
      {
        "duration": 19,
        "start_time": "2023-02-17T13:43:57.714Z"
      },
      {
        "duration": 67,
        "start_time": "2023-02-17T13:43:57.736Z"
      },
      {
        "duration": 23,
        "start_time": "2023-02-17T13:43:57.805Z"
      },
      {
        "duration": 16,
        "start_time": "2023-02-17T13:43:57.830Z"
      },
      {
        "duration": 16,
        "start_time": "2023-02-17T13:43:57.847Z"
      },
      {
        "duration": 5,
        "start_time": "2023-02-17T13:48:14.026Z"
      },
      {
        "duration": 15,
        "start_time": "2023-02-17T13:49:14.739Z"
      },
      {
        "duration": 27,
        "start_time": "2023-02-17T14:00:24.228Z"
      },
      {
        "duration": 119,
        "start_time": "2023-02-17T14:01:03.486Z"
      },
      {
        "duration": 4,
        "start_time": "2023-02-17T14:01:20.912Z"
      },
      {
        "duration": 12,
        "start_time": "2023-02-17T14:01:33.856Z"
      },
      {
        "duration": 13,
        "start_time": "2023-02-17T14:03:19.432Z"
      },
      {
        "duration": 14,
        "start_time": "2023-02-17T14:03:50.100Z"
      },
      {
        "duration": 13,
        "start_time": "2023-02-17T14:06:56.320Z"
      },
      {
        "duration": 20,
        "start_time": "2023-02-17T14:07:07.435Z"
      },
      {
        "duration": 13,
        "start_time": "2023-02-17T14:07:13.765Z"
      },
      {
        "duration": 17,
        "start_time": "2023-02-17T14:10:52.859Z"
      },
      {
        "duration": 18,
        "start_time": "2023-02-17T14:11:00.701Z"
      },
      {
        "duration": 20,
        "start_time": "2023-02-17T14:11:04.630Z"
      },
      {
        "duration": 18,
        "start_time": "2023-02-17T14:14:04.500Z"
      },
      {
        "duration": 4,
        "start_time": "2023-02-17T14:26:24.887Z"
      },
      {
        "duration": 5,
        "start_time": "2023-02-17T14:26:38.937Z"
      },
      {
        "duration": 9,
        "start_time": "2023-02-17T14:28:40.442Z"
      },
      {
        "duration": 5,
        "start_time": "2023-02-17T14:28:44.432Z"
      },
      {
        "duration": 6,
        "start_time": "2023-02-17T14:28:54.439Z"
      },
      {
        "duration": 16,
        "start_time": "2023-02-17T14:30:35.902Z"
      },
      {
        "duration": 10,
        "start_time": "2023-02-17T15:18:29.327Z"
      },
      {
        "duration": 19,
        "start_time": "2023-02-17T15:18:34.862Z"
      },
      {
        "duration": 1177,
        "start_time": "2023-02-17T15:26:14.949Z"
      },
      {
        "duration": 44,
        "start_time": "2023-02-17T15:26:16.128Z"
      },
      {
        "duration": 26,
        "start_time": "2023-02-17T15:26:16.174Z"
      },
      {
        "duration": 28,
        "start_time": "2023-02-17T15:26:16.202Z"
      },
      {
        "duration": 8,
        "start_time": "2023-02-17T15:26:16.232Z"
      },
      {
        "duration": 5,
        "start_time": "2023-02-17T15:26:16.242Z"
      },
      {
        "duration": 26,
        "start_time": "2023-02-17T15:26:16.248Z"
      },
      {
        "duration": 39,
        "start_time": "2023-02-17T15:26:16.276Z"
      },
      {
        "duration": 20,
        "start_time": "2023-02-17T15:26:16.317Z"
      },
      {
        "duration": 16,
        "start_time": "2023-02-17T15:26:16.338Z"
      },
      {
        "duration": 20,
        "start_time": "2023-02-17T15:26:16.356Z"
      },
      {
        "duration": 38,
        "start_time": "2023-02-17T15:26:16.377Z"
      },
      {
        "duration": 123,
        "start_time": "2023-02-17T15:26:16.417Z"
      },
      {
        "duration": 109,
        "start_time": "2023-02-17T15:26:16.543Z"
      },
      {
        "duration": 12,
        "start_time": "2023-02-17T15:26:16.654Z"
      },
      {
        "duration": 20,
        "start_time": "2023-02-17T15:26:16.667Z"
      },
      {
        "duration": 21,
        "start_time": "2023-02-17T15:26:16.689Z"
      },
      {
        "duration": 7,
        "start_time": "2023-02-17T15:26:16.712Z"
      },
      {
        "duration": 9,
        "start_time": "2023-02-17T15:26:16.721Z"
      },
      {
        "duration": 8,
        "start_time": "2023-02-17T15:26:16.732Z"
      },
      {
        "duration": 1468,
        "start_time": "2023-02-17T15:26:16.742Z"
      },
      {
        "duration": 14,
        "start_time": "2023-02-17T15:26:18.212Z"
      },
      {
        "duration": 178,
        "start_time": "2023-02-17T15:26:18.228Z"
      },
      {
        "duration": 163,
        "start_time": "2023-02-17T15:26:18.407Z"
      },
      {
        "duration": 16,
        "start_time": "2023-02-17T15:26:18.573Z"
      },
      {
        "duration": 13,
        "start_time": "2023-02-17T15:26:18.602Z"
      },
      {
        "duration": 155,
        "start_time": "2023-02-17T15:26:18.616Z"
      },
      {
        "duration": 13,
        "start_time": "2023-02-17T15:26:18.773Z"
      },
      {
        "duration": 23,
        "start_time": "2023-02-17T15:26:18.787Z"
      },
      {
        "duration": 16,
        "start_time": "2023-02-17T15:26:18.811Z"
      },
      {
        "duration": 8,
        "start_time": "2023-02-17T15:26:18.828Z"
      },
      {
        "duration": 79,
        "start_time": "2023-02-17T15:26:18.838Z"
      },
      {
        "duration": 17,
        "start_time": "2023-02-17T15:26:18.918Z"
      },
      {
        "duration": 18,
        "start_time": "2023-02-17T15:26:18.937Z"
      },
      {
        "duration": 8,
        "start_time": "2023-02-17T15:26:18.957Z"
      },
      {
        "duration": 1176,
        "start_time": "2023-02-18T07:23:52.335Z"
      },
      {
        "duration": 192,
        "start_time": "2023-02-18T07:23:53.512Z"
      },
      {
        "duration": 23,
        "start_time": "2023-02-18T07:23:53.705Z"
      },
      {
        "duration": 23,
        "start_time": "2023-02-18T07:23:53.736Z"
      },
      {
        "duration": 6,
        "start_time": "2023-02-18T07:23:53.761Z"
      },
      {
        "duration": 4,
        "start_time": "2023-02-18T07:23:53.769Z"
      },
      {
        "duration": 20,
        "start_time": "2023-02-18T07:23:53.775Z"
      },
      {
        "duration": 36,
        "start_time": "2023-02-18T07:23:53.796Z"
      },
      {
        "duration": 21,
        "start_time": "2023-02-18T07:23:53.833Z"
      },
      {
        "duration": 15,
        "start_time": "2023-02-18T07:23:53.855Z"
      },
      {
        "duration": 19,
        "start_time": "2023-02-18T07:23:53.871Z"
      },
      {
        "duration": 46,
        "start_time": "2023-02-18T07:23:53.891Z"
      },
      {
        "duration": 110,
        "start_time": "2023-02-18T07:23:53.938Z"
      },
      {
        "duration": 89,
        "start_time": "2023-02-18T07:23:54.050Z"
      },
      {
        "duration": 9,
        "start_time": "2023-02-18T07:23:54.141Z"
      },
      {
        "duration": 13,
        "start_time": "2023-02-18T07:23:54.151Z"
      },
      {
        "duration": 11,
        "start_time": "2023-02-18T07:23:54.165Z"
      },
      {
        "duration": 7,
        "start_time": "2023-02-18T07:23:54.178Z"
      },
      {
        "duration": 13,
        "start_time": "2023-02-18T07:23:54.187Z"
      },
      {
        "duration": 30,
        "start_time": "2023-02-18T07:23:54.202Z"
      },
      {
        "duration": 1411,
        "start_time": "2023-02-18T07:23:54.234Z"
      },
      {
        "duration": 14,
        "start_time": "2023-02-18T07:23:55.647Z"
      },
      {
        "duration": 172,
        "start_time": "2023-02-18T07:23:55.663Z"
      },
      {
        "duration": 157,
        "start_time": "2023-02-18T07:23:55.836Z"
      },
      {
        "duration": 13,
        "start_time": "2023-02-18T07:23:55.995Z"
      },
      {
        "duration": 15,
        "start_time": "2023-02-18T07:23:56.027Z"
      },
      {
        "duration": 272,
        "start_time": "2023-02-18T07:23:56.044Z"
      },
      {
        "duration": 18,
        "start_time": "2023-02-18T07:23:56.317Z"
      },
      {
        "duration": 22,
        "start_time": "2023-02-18T07:23:56.339Z"
      },
      {
        "duration": 71,
        "start_time": "2023-02-18T07:23:56.364Z"
      },
      {
        "duration": 12,
        "start_time": "2023-02-18T07:23:56.436Z"
      },
      {
        "duration": 24,
        "start_time": "2023-02-18T07:23:56.449Z"
      },
      {
        "duration": 57,
        "start_time": "2023-02-18T07:23:56.474Z"
      },
      {
        "duration": 14,
        "start_time": "2023-02-18T07:23:56.533Z"
      },
      {
        "duration": 6,
        "start_time": "2023-02-18T07:23:56.549Z"
      },
      {
        "duration": 20,
        "start_time": "2023-02-18T07:25:19.515Z"
      },
      {
        "duration": 43,
        "start_time": "2023-02-18T16:01:28.388Z"
      },
      {
        "duration": 1397,
        "start_time": "2023-02-18T16:01:32.231Z"
      },
      {
        "duration": 81,
        "start_time": "2023-02-18T16:01:33.630Z"
      },
      {
        "duration": 20,
        "start_time": "2023-02-18T16:01:33.713Z"
      },
      {
        "duration": 23,
        "start_time": "2023-02-18T16:01:33.735Z"
      },
      {
        "duration": 6,
        "start_time": "2023-02-18T16:01:33.759Z"
      },
      {
        "duration": 7,
        "start_time": "2023-02-18T16:01:33.767Z"
      },
      {
        "duration": 26,
        "start_time": "2023-02-18T16:01:33.775Z"
      },
      {
        "duration": 14,
        "start_time": "2023-02-18T16:01:33.803Z"
      },
      {
        "duration": 35,
        "start_time": "2023-02-18T16:01:33.818Z"
      },
      {
        "duration": 12,
        "start_time": "2023-02-18T16:01:33.855Z"
      },
      {
        "duration": 19,
        "start_time": "2023-02-18T16:01:33.869Z"
      },
      {
        "duration": 10,
        "start_time": "2023-02-18T16:01:33.890Z"
      },
      {
        "duration": 119,
        "start_time": "2023-02-18T16:01:33.902Z"
      },
      {
        "duration": 93,
        "start_time": "2023-02-18T16:01:34.023Z"
      },
      {
        "duration": 19,
        "start_time": "2023-02-18T16:01:34.118Z"
      },
      {
        "duration": 42,
        "start_time": "2023-02-18T16:01:34.139Z"
      },
      {
        "duration": 11,
        "start_time": "2023-02-18T16:01:34.183Z"
      },
      {
        "duration": 15,
        "start_time": "2023-02-18T16:01:34.196Z"
      },
      {
        "duration": 10,
        "start_time": "2023-02-18T16:01:34.212Z"
      },
      {
        "duration": 12,
        "start_time": "2023-02-18T16:01:34.223Z"
      },
      {
        "duration": 8,
        "start_time": "2023-02-18T16:01:34.236Z"
      },
      {
        "duration": 1282,
        "start_time": "2023-02-18T16:01:34.245Z"
      },
      {
        "duration": 17,
        "start_time": "2023-02-18T16:01:35.528Z"
      },
      {
        "duration": 162,
        "start_time": "2023-02-18T16:01:35.546Z"
      },
      {
        "duration": 153,
        "start_time": "2023-02-18T16:01:35.709Z"
      },
      {
        "duration": 13,
        "start_time": "2023-02-18T16:01:35.864Z"
      },
      {
        "duration": 12,
        "start_time": "2023-02-18T16:01:35.879Z"
      },
      {
        "duration": 116,
        "start_time": "2023-02-18T16:01:35.893Z"
      },
      {
        "duration": 0,
        "start_time": "2023-02-18T16:01:36.010Z"
      },
      {
        "duration": 0,
        "start_time": "2023-02-18T16:01:36.012Z"
      },
      {
        "duration": 0,
        "start_time": "2023-02-18T16:01:36.013Z"
      },
      {
        "duration": 0,
        "start_time": "2023-02-18T16:01:36.015Z"
      },
      {
        "duration": 0,
        "start_time": "2023-02-18T16:01:36.017Z"
      },
      {
        "duration": 0,
        "start_time": "2023-02-18T16:01:36.018Z"
      },
      {
        "duration": 0,
        "start_time": "2023-02-18T16:01:36.019Z"
      },
      {
        "duration": 0,
        "start_time": "2023-02-18T16:01:36.037Z"
      },
      {
        "duration": 0,
        "start_time": "2023-02-18T16:01:36.038Z"
      },
      {
        "duration": 21,
        "start_time": "2023-02-18T16:05:49.962Z"
      },
      {
        "duration": 11,
        "start_time": "2023-02-18T16:08:00.563Z"
      },
      {
        "duration": 161,
        "start_time": "2023-02-18T16:11:38.762Z"
      },
      {
        "duration": 12,
        "start_time": "2023-02-18T16:11:41.895Z"
      },
      {
        "duration": 20,
        "start_time": "2023-02-18T16:12:47.489Z"
      },
      {
        "duration": 12,
        "start_time": "2023-02-18T16:19:52.973Z"
      },
      {
        "duration": 5,
        "start_time": "2023-02-18T16:20:43.076Z"
      },
      {
        "duration": 14,
        "start_time": "2023-02-18T16:55:14.562Z"
      },
      {
        "duration": 9,
        "start_time": "2023-02-18T16:55:43.378Z"
      },
      {
        "duration": 12,
        "start_time": "2023-02-18T16:56:01.137Z"
      },
      {
        "duration": 18,
        "start_time": "2023-02-18T16:56:14.946Z"
      },
      {
        "duration": 14,
        "start_time": "2023-02-18T16:56:18.677Z"
      },
      {
        "duration": 13,
        "start_time": "2023-02-18T16:56:21.647Z"
      },
      {
        "duration": 12,
        "start_time": "2023-02-18T16:56:26.520Z"
      },
      {
        "duration": 16,
        "start_time": "2023-02-18T16:56:31.577Z"
      },
      {
        "duration": 10,
        "start_time": "2023-02-18T16:59:38.858Z"
      },
      {
        "duration": 13,
        "start_time": "2023-02-18T16:59:42.456Z"
      },
      {
        "duration": 10,
        "start_time": "2023-02-18T16:59:57.268Z"
      },
      {
        "duration": 24,
        "start_time": "2023-02-18T17:00:02.556Z"
      },
      {
        "duration": 81,
        "start_time": "2023-02-18T17:00:51.115Z"
      },
      {
        "duration": 12,
        "start_time": "2023-02-18T17:00:56.408Z"
      },
      {
        "duration": 5,
        "start_time": "2023-02-18T17:02:47.381Z"
      },
      {
        "duration": 17,
        "start_time": "2023-02-18T17:02:51.196Z"
      },
      {
        "duration": 10,
        "start_time": "2023-02-18T17:03:43.827Z"
      },
      {
        "duration": 19,
        "start_time": "2023-02-18T17:03:47.579Z"
      },
      {
        "duration": 4,
        "start_time": "2023-02-18T17:03:57.717Z"
      },
      {
        "duration": 18,
        "start_time": "2023-02-18T17:04:04.817Z"
      },
      {
        "duration": 5,
        "start_time": "2023-02-18T17:04:36.977Z"
      },
      {
        "duration": 42,
        "start_time": "2023-02-18T17:05:22.126Z"
      },
      {
        "duration": 4,
        "start_time": "2023-02-18T17:05:25.656Z"
      },
      {
        "duration": 24,
        "start_time": "2023-02-18T17:07:47.916Z"
      },
      {
        "duration": 27,
        "start_time": "2023-02-18T17:08:59.775Z"
      },
      {
        "duration": 5,
        "start_time": "2023-02-18T17:09:01.958Z"
      },
      {
        "duration": 21,
        "start_time": "2023-02-18T17:09:45.827Z"
      },
      {
        "duration": 26,
        "start_time": "2023-02-18T17:42:29.542Z"
      },
      {
        "duration": 5,
        "start_time": "2023-02-18T17:42:54.674Z"
      },
      {
        "duration": 4,
        "start_time": "2023-02-18T17:43:14.468Z"
      },
      {
        "duration": 19,
        "start_time": "2023-02-18T17:43:52.654Z"
      },
      {
        "duration": 10,
        "start_time": "2023-02-18T17:45:13.604Z"
      },
      {
        "duration": 8,
        "start_time": "2023-02-18T17:45:16.725Z"
      },
      {
        "duration": 12,
        "start_time": "2023-02-18T17:45:33.216Z"
      },
      {
        "duration": 1192,
        "start_time": "2023-02-18T17:46:20.335Z"
      },
      {
        "duration": 46,
        "start_time": "2023-02-18T17:46:21.529Z"
      },
      {
        "duration": 22,
        "start_time": "2023-02-18T17:46:21.577Z"
      },
      {
        "duration": 26,
        "start_time": "2023-02-18T17:46:21.601Z"
      },
      {
        "duration": 9,
        "start_time": "2023-02-18T17:46:21.630Z"
      },
      {
        "duration": 4,
        "start_time": "2023-02-18T17:46:21.641Z"
      },
      {
        "duration": 25,
        "start_time": "2023-02-18T17:46:21.647Z"
      },
      {
        "duration": 15,
        "start_time": "2023-02-18T17:46:21.673Z"
      },
      {
        "duration": 18,
        "start_time": "2023-02-18T17:46:21.690Z"
      },
      {
        "duration": 42,
        "start_time": "2023-02-18T17:46:21.709Z"
      },
      {
        "duration": 21,
        "start_time": "2023-02-18T17:46:21.753Z"
      },
      {
        "duration": 12,
        "start_time": "2023-02-18T17:46:21.775Z"
      },
      {
        "duration": 130,
        "start_time": "2023-02-18T17:46:21.789Z"
      },
      {
        "duration": 103,
        "start_time": "2023-02-18T17:46:21.922Z"
      },
      {
        "duration": 18,
        "start_time": "2023-02-18T17:46:22.027Z"
      },
      {
        "duration": 12,
        "start_time": "2023-02-18T17:46:22.047Z"
      },
      {
        "duration": 12,
        "start_time": "2023-02-18T17:46:22.061Z"
      },
      {
        "duration": 10,
        "start_time": "2023-02-18T17:46:22.075Z"
      },
      {
        "duration": 8,
        "start_time": "2023-02-18T17:46:22.087Z"
      },
      {
        "duration": 1515,
        "start_time": "2023-02-18T17:46:22.097Z"
      },
      {
        "duration": 24,
        "start_time": "2023-02-18T17:46:23.615Z"
      },
      {
        "duration": 158,
        "start_time": "2023-02-18T17:46:23.641Z"
      },
      {
        "duration": 164,
        "start_time": "2023-02-18T17:46:23.801Z"
      },
      {
        "duration": 17,
        "start_time": "2023-02-18T17:46:23.967Z"
      },
      {
        "duration": 18,
        "start_time": "2023-02-18T17:46:23.986Z"
      },
      {
        "duration": 167,
        "start_time": "2023-02-18T17:46:24.005Z"
      },
      {
        "duration": 13,
        "start_time": "2023-02-18T17:46:24.174Z"
      },
      {
        "duration": 24,
        "start_time": "2023-02-18T17:46:24.189Z"
      },
      {
        "duration": 41,
        "start_time": "2023-02-18T17:46:24.215Z"
      },
      {
        "duration": 192,
        "start_time": "2023-02-18T17:46:24.257Z"
      },
      {
        "duration": 0,
        "start_time": "2023-02-18T17:46:24.451Z"
      },
      {
        "duration": 0,
        "start_time": "2023-02-18T17:46:24.452Z"
      },
      {
        "duration": 0,
        "start_time": "2023-02-18T17:46:24.453Z"
      },
      {
        "duration": 0,
        "start_time": "2023-02-18T17:46:24.455Z"
      },
      {
        "duration": 0,
        "start_time": "2023-02-18T17:46:24.456Z"
      },
      {
        "duration": 0,
        "start_time": "2023-02-18T17:46:24.457Z"
      },
      {
        "duration": 0,
        "start_time": "2023-02-18T17:46:24.458Z"
      },
      {
        "duration": 12,
        "start_time": "2023-02-18T17:47:00.024Z"
      },
      {
        "duration": 13,
        "start_time": "2023-02-18T17:47:25.952Z"
      },
      {
        "duration": 10,
        "start_time": "2023-02-18T17:47:27.601Z"
      },
      {
        "duration": 7,
        "start_time": "2023-02-18T17:50:02.161Z"
      },
      {
        "duration": 7,
        "start_time": "2023-02-18T17:50:09.052Z"
      },
      {
        "duration": 6,
        "start_time": "2023-02-18T17:50:11.630Z"
      },
      {
        "duration": 4,
        "start_time": "2023-02-18T17:53:13.760Z"
      },
      {
        "duration": 4,
        "start_time": "2023-02-18T17:53:19.360Z"
      },
      {
        "duration": 5,
        "start_time": "2023-02-18T17:53:23.660Z"
      },
      {
        "duration": 52,
        "start_time": "2023-02-19T14:24:12.854Z"
      },
      {
        "duration": 1474,
        "start_time": "2023-02-19T14:24:17.522Z"
      },
      {
        "duration": 209,
        "start_time": "2023-02-19T14:24:18.998Z"
      },
      {
        "duration": 22,
        "start_time": "2023-02-19T14:24:19.209Z"
      },
      {
        "duration": 31,
        "start_time": "2023-02-19T14:24:19.233Z"
      },
      {
        "duration": 7,
        "start_time": "2023-02-19T14:24:19.268Z"
      },
      {
        "duration": 5,
        "start_time": "2023-02-19T14:24:19.277Z"
      },
      {
        "duration": 18,
        "start_time": "2023-02-19T14:24:19.283Z"
      },
      {
        "duration": 15,
        "start_time": "2023-02-19T14:24:19.303Z"
      },
      {
        "duration": 49,
        "start_time": "2023-02-19T14:24:19.319Z"
      },
      {
        "duration": 14,
        "start_time": "2023-02-19T14:24:19.370Z"
      },
      {
        "duration": 20,
        "start_time": "2023-02-19T14:24:19.386Z"
      },
      {
        "duration": 12,
        "start_time": "2023-02-19T14:24:19.407Z"
      },
      {
        "duration": 117,
        "start_time": "2023-02-19T14:24:19.450Z"
      },
      {
        "duration": 102,
        "start_time": "2023-02-19T14:24:19.569Z"
      },
      {
        "duration": 9,
        "start_time": "2023-02-19T14:24:19.673Z"
      },
      {
        "duration": 15,
        "start_time": "2023-02-19T14:24:19.684Z"
      },
      {
        "duration": 13,
        "start_time": "2023-02-19T14:24:19.700Z"
      },
      {
        "duration": 6,
        "start_time": "2023-02-19T14:24:19.715Z"
      },
      {
        "duration": 34,
        "start_time": "2023-02-19T14:24:19.723Z"
      },
      {
        "duration": 1459,
        "start_time": "2023-02-19T14:24:19.758Z"
      },
      {
        "duration": 14,
        "start_time": "2023-02-19T14:24:21.219Z"
      },
      {
        "duration": 215,
        "start_time": "2023-02-19T14:24:21.234Z"
      },
      {
        "duration": 181,
        "start_time": "2023-02-19T14:24:21.451Z"
      },
      {
        "duration": 19,
        "start_time": "2023-02-19T14:24:21.634Z"
      },
      {
        "duration": 19,
        "start_time": "2023-02-19T14:24:21.654Z"
      },
      {
        "duration": 255,
        "start_time": "2023-02-19T14:24:21.674Z"
      },
      {
        "duration": 13,
        "start_time": "2023-02-19T14:24:21.930Z"
      },
      {
        "duration": 16,
        "start_time": "2023-02-19T14:24:21.953Z"
      },
      {
        "duration": 7,
        "start_time": "2023-02-19T14:24:21.972Z"
      },
      {
        "duration": 8,
        "start_time": "2023-02-19T14:24:21.980Z"
      },
      {
        "duration": 7,
        "start_time": "2023-02-19T14:24:21.990Z"
      },
      {
        "duration": 8,
        "start_time": "2023-02-19T14:24:22.050Z"
      },
      {
        "duration": 27,
        "start_time": "2023-02-19T14:24:22.060Z"
      },
      {
        "duration": 15,
        "start_time": "2023-02-19T14:24:22.089Z"
      },
      {
        "duration": 14,
        "start_time": "2023-02-19T14:24:22.149Z"
      },
      {
        "duration": 32,
        "start_time": "2023-02-19T14:24:22.165Z"
      },
      {
        "duration": 13,
        "start_time": "2023-02-19T14:24:22.199Z"
      },
      {
        "duration": 35,
        "start_time": "2023-02-19T14:24:22.213Z"
      },
      {
        "duration": 13,
        "start_time": "2023-02-19T14:24:22.252Z"
      },
      {
        "duration": 11,
        "start_time": "2023-02-19T14:53:07.916Z"
      },
      {
        "duration": 4,
        "start_time": "2023-02-19T14:53:18.608Z"
      },
      {
        "duration": 4,
        "start_time": "2023-02-19T14:53:21.983Z"
      },
      {
        "duration": 4,
        "start_time": "2023-02-19T14:53:25.164Z"
      },
      {
        "duration": 13,
        "start_time": "2023-02-19T14:53:33.133Z"
      },
      {
        "duration": 11,
        "start_time": "2023-02-19T14:54:00.655Z"
      },
      {
        "duration": 4,
        "start_time": "2023-02-19T14:54:06.511Z"
      },
      {
        "duration": 5,
        "start_time": "2023-02-19T14:54:09.516Z"
      },
      {
        "duration": 4,
        "start_time": "2023-02-19T14:54:13.168Z"
      },
      {
        "duration": 12,
        "start_time": "2023-02-19T14:58:10.665Z"
      },
      {
        "duration": 13,
        "start_time": "2023-02-19T14:58:33.284Z"
      },
      {
        "duration": 120,
        "start_time": "2023-02-19T15:04:32.896Z"
      },
      {
        "duration": 7,
        "start_time": "2023-02-19T15:04:35.897Z"
      },
      {
        "duration": 7,
        "start_time": "2023-02-19T15:04:43.933Z"
      },
      {
        "duration": 7,
        "start_time": "2023-02-19T15:04:44.178Z"
      },
      {
        "duration": 7,
        "start_time": "2023-02-19T15:04:44.599Z"
      },
      {
        "duration": 17,
        "start_time": "2023-02-19T15:33:00.806Z"
      },
      {
        "duration": 8,
        "start_time": "2023-02-19T15:33:08.374Z"
      },
      {
        "duration": 13,
        "start_time": "2023-02-19T15:33:14.761Z"
      },
      {
        "duration": 53,
        "start_time": "2023-02-19T15:34:44.009Z"
      },
      {
        "duration": 31,
        "start_time": "2023-02-19T15:35:24.741Z"
      },
      {
        "duration": 32,
        "start_time": "2023-02-19T15:35:33.828Z"
      },
      {
        "duration": 27,
        "start_time": "2023-02-19T15:35:48.010Z"
      },
      {
        "duration": 26,
        "start_time": "2023-02-19T15:36:23.891Z"
      },
      {
        "duration": 28,
        "start_time": "2023-02-19T15:36:29.378Z"
      },
      {
        "duration": 26,
        "start_time": "2023-02-19T15:36:35.422Z"
      },
      {
        "duration": 26,
        "start_time": "2023-02-19T15:36:42.086Z"
      },
      {
        "duration": 2,
        "start_time": "2023-02-19T15:38:41.839Z"
      },
      {
        "duration": 24,
        "start_time": "2023-02-19T15:38:58.391Z"
      },
      {
        "duration": 27,
        "start_time": "2023-02-19T15:39:14.387Z"
      },
      {
        "duration": 26,
        "start_time": "2023-02-19T15:39:28.079Z"
      },
      {
        "duration": 28,
        "start_time": "2023-02-19T15:40:57.531Z"
      },
      {
        "duration": 21,
        "start_time": "2023-02-19T15:42:18.849Z"
      },
      {
        "duration": 18,
        "start_time": "2023-02-19T15:42:24.998Z"
      },
      {
        "duration": 17,
        "start_time": "2023-02-19T15:42:29.988Z"
      },
      {
        "duration": 16,
        "start_time": "2023-02-19T15:42:50.979Z"
      },
      {
        "duration": 17,
        "start_time": "2023-02-19T15:43:02.768Z"
      },
      {
        "duration": 18,
        "start_time": "2023-02-19T15:43:07.378Z"
      },
      {
        "duration": 17,
        "start_time": "2023-02-19T15:43:13.181Z"
      },
      {
        "duration": 25,
        "start_time": "2023-02-19T15:43:20.649Z"
      },
      {
        "duration": 20,
        "start_time": "2023-02-19T15:43:30.966Z"
      },
      {
        "duration": 3,
        "start_time": "2023-02-19T15:49:47.962Z"
      },
      {
        "duration": 9,
        "start_time": "2023-02-19T15:51:04.918Z"
      },
      {
        "duration": 6,
        "start_time": "2023-02-19T15:52:34.579Z"
      },
      {
        "duration": 12,
        "start_time": "2023-02-19T16:39:00.863Z"
      },
      {
        "duration": 9,
        "start_time": "2023-02-19T16:39:09.661Z"
      },
      {
        "duration": 93,
        "start_time": "2023-02-19T16:39:14.302Z"
      },
      {
        "duration": 11,
        "start_time": "2023-02-19T16:39:16.403Z"
      },
      {
        "duration": 9,
        "start_time": "2023-02-19T16:40:20.832Z"
      },
      {
        "duration": 5,
        "start_time": "2023-02-19T16:40:22.108Z"
      },
      {
        "duration": 1368,
        "start_time": "2023-02-19T17:00:56.168Z"
      },
      {
        "duration": 54,
        "start_time": "2023-02-19T17:00:57.538Z"
      },
      {
        "duration": 21,
        "start_time": "2023-02-19T17:00:57.594Z"
      },
      {
        "duration": 26,
        "start_time": "2023-02-19T17:00:57.617Z"
      },
      {
        "duration": 8,
        "start_time": "2023-02-19T17:00:57.645Z"
      },
      {
        "duration": 19,
        "start_time": "2023-02-19T17:00:57.655Z"
      },
      {
        "duration": 23,
        "start_time": "2023-02-19T17:00:57.675Z"
      },
      {
        "duration": 15,
        "start_time": "2023-02-19T17:00:57.700Z"
      },
      {
        "duration": 19,
        "start_time": "2023-02-19T17:00:57.716Z"
      },
      {
        "duration": 20,
        "start_time": "2023-02-19T17:00:57.749Z"
      },
      {
        "duration": 19,
        "start_time": "2023-02-19T17:00:57.770Z"
      },
      {
        "duration": 13,
        "start_time": "2023-02-19T17:00:57.791Z"
      },
      {
        "duration": 133,
        "start_time": "2023-02-19T17:00:57.806Z"
      },
      {
        "duration": 109,
        "start_time": "2023-02-19T17:00:57.942Z"
      },
      {
        "duration": 13,
        "start_time": "2023-02-19T17:00:58.053Z"
      },
      {
        "duration": 12,
        "start_time": "2023-02-19T17:00:58.067Z"
      },
      {
        "duration": 15,
        "start_time": "2023-02-19T17:00:58.080Z"
      },
      {
        "duration": 7,
        "start_time": "2023-02-19T17:00:58.097Z"
      },
      {
        "duration": 8,
        "start_time": "2023-02-19T17:00:58.106Z"
      },
      {
        "duration": 1482,
        "start_time": "2023-02-19T17:00:58.116Z"
      },
      {
        "duration": 15,
        "start_time": "2023-02-19T17:00:59.599Z"
      },
      {
        "duration": 189,
        "start_time": "2023-02-19T17:00:59.616Z"
      },
      {
        "duration": 175,
        "start_time": "2023-02-19T17:00:59.807Z"
      },
      {
        "duration": 16,
        "start_time": "2023-02-19T17:00:59.985Z"
      },
      {
        "duration": 14,
        "start_time": "2023-02-19T17:01:00.003Z"
      },
      {
        "duration": 198,
        "start_time": "2023-02-19T17:01:00.019Z"
      },
      {
        "duration": 17,
        "start_time": "2023-02-19T17:01:00.219Z"
      },
      {
        "duration": 22,
        "start_time": "2023-02-19T17:01:00.238Z"
      },
      {
        "duration": 35,
        "start_time": "2023-02-19T17:01:00.261Z"
      },
      {
        "duration": 56,
        "start_time": "2023-02-19T17:01:00.297Z"
      },
      {
        "duration": 28,
        "start_time": "2023-02-19T17:01:00.356Z"
      },
      {
        "duration": 45,
        "start_time": "2023-02-19T17:01:00.385Z"
      },
      {
        "duration": 63,
        "start_time": "2023-02-19T17:01:00.432Z"
      },
      {
        "duration": 115,
        "start_time": "2023-02-19T17:01:00.497Z"
      },
      {
        "duration": 12,
        "start_time": "2023-02-19T17:01:00.614Z"
      },
      {
        "duration": 29,
        "start_time": "2023-02-19T17:01:00.628Z"
      },
      {
        "duration": 56,
        "start_time": "2023-02-19T17:01:00.659Z"
      },
      {
        "duration": 88,
        "start_time": "2023-02-19T17:01:00.717Z"
      },
      {
        "duration": 33,
        "start_time": "2023-02-19T17:01:00.807Z"
      },
      {
        "duration": 88,
        "start_time": "2023-02-19T17:01:00.842Z"
      },
      {
        "duration": 6,
        "start_time": "2023-02-19T17:10:14.435Z"
      },
      {
        "duration": 8,
        "start_time": "2023-02-19T17:10:16.541Z"
      },
      {
        "duration": 7,
        "start_time": "2023-02-19T17:10:21.425Z"
      },
      {
        "duration": 3,
        "start_time": "2023-02-19T17:10:57.035Z"
      },
      {
        "duration": 11,
        "start_time": "2023-02-19T17:12:04.167Z"
      },
      {
        "duration": 91,
        "start_time": "2023-02-19T17:12:15.905Z"
      },
      {
        "duration": 11,
        "start_time": "2023-02-19T17:12:21.606Z"
      },
      {
        "duration": 12,
        "start_time": "2023-02-19T17:19:47.618Z"
      },
      {
        "duration": 11,
        "start_time": "2023-02-19T17:21:00.782Z"
      },
      {
        "duration": 9,
        "start_time": "2023-02-19T17:21:12.362Z"
      },
      {
        "duration": 1303,
        "start_time": "2023-02-19T17:47:41.870Z"
      },
      {
        "duration": 49,
        "start_time": "2023-02-19T17:47:43.175Z"
      },
      {
        "duration": 25,
        "start_time": "2023-02-19T17:47:43.226Z"
      },
      {
        "duration": 35,
        "start_time": "2023-02-19T17:47:43.253Z"
      },
      {
        "duration": 10,
        "start_time": "2023-02-19T17:47:43.291Z"
      },
      {
        "duration": 5,
        "start_time": "2023-02-19T17:47:43.302Z"
      },
      {
        "duration": 42,
        "start_time": "2023-02-19T17:47:43.309Z"
      },
      {
        "duration": 23,
        "start_time": "2023-02-19T17:47:43.353Z"
      },
      {
        "duration": 25,
        "start_time": "2023-02-19T17:47:43.378Z"
      },
      {
        "duration": 20,
        "start_time": "2023-02-19T17:47:43.405Z"
      },
      {
        "duration": 26,
        "start_time": "2023-02-19T17:47:43.452Z"
      },
      {
        "duration": 19,
        "start_time": "2023-02-19T17:47:43.481Z"
      },
      {
        "duration": 135,
        "start_time": "2023-02-19T17:47:43.502Z"
      },
      {
        "duration": 147,
        "start_time": "2023-02-19T17:47:43.640Z"
      },
      {
        "duration": 10,
        "start_time": "2023-02-19T17:47:43.788Z"
      },
      {
        "duration": 14,
        "start_time": "2023-02-19T17:47:43.800Z"
      },
      {
        "duration": 36,
        "start_time": "2023-02-19T17:47:43.816Z"
      },
      {
        "duration": 7,
        "start_time": "2023-02-19T17:47:43.854Z"
      },
      {
        "duration": 27,
        "start_time": "2023-02-19T17:47:43.863Z"
      },
      {
        "duration": 1516,
        "start_time": "2023-02-19T17:47:43.892Z"
      },
      {
        "duration": 14,
        "start_time": "2023-02-19T17:47:45.410Z"
      },
      {
        "duration": 206,
        "start_time": "2023-02-19T17:47:45.426Z"
      },
      {
        "duration": 178,
        "start_time": "2023-02-19T17:47:45.634Z"
      },
      {
        "duration": 15,
        "start_time": "2023-02-19T17:47:45.813Z"
      },
      {
        "duration": 36,
        "start_time": "2023-02-19T17:47:45.830Z"
      },
      {
        "duration": 176,
        "start_time": "2023-02-19T17:47:45.868Z"
      },
      {
        "duration": 22,
        "start_time": "2023-02-19T17:47:46.045Z"
      },
      {
        "duration": 19,
        "start_time": "2023-02-19T17:47:46.069Z"
      },
      {
        "duration": 10,
        "start_time": "2023-02-19T17:47:46.090Z"
      },
      {
        "duration": 76,
        "start_time": "2023-02-19T17:47:46.101Z"
      },
      {
        "duration": 8,
        "start_time": "2023-02-19T17:47:46.179Z"
      },
      {
        "duration": 66,
        "start_time": "2023-02-19T17:47:46.189Z"
      },
      {
        "duration": 12,
        "start_time": "2023-02-19T17:47:46.257Z"
      },
      {
        "duration": 114,
        "start_time": "2023-02-19T17:47:46.274Z"
      },
      {
        "duration": 29,
        "start_time": "2023-02-19T17:47:46.391Z"
      },
      {
        "duration": 19,
        "start_time": "2023-02-19T17:47:46.422Z"
      },
      {
        "duration": 22,
        "start_time": "2023-02-19T17:47:46.443Z"
      },
      {
        "duration": 25,
        "start_time": "2023-02-19T17:47:46.467Z"
      },
      {
        "duration": 11,
        "start_time": "2023-02-19T17:47:46.494Z"
      },
      {
        "duration": 11,
        "start_time": "2023-02-19T17:47:46.507Z"
      },
      {
        "duration": 7,
        "start_time": "2023-02-19T17:47:46.522Z"
      },
      {
        "duration": 1152,
        "start_time": "2023-02-20T08:35:21.756Z"
      },
      {
        "duration": 178,
        "start_time": "2023-02-20T08:35:22.910Z"
      },
      {
        "duration": 22,
        "start_time": "2023-02-20T08:35:23.090Z"
      },
      {
        "duration": 26,
        "start_time": "2023-02-20T08:35:23.114Z"
      },
      {
        "duration": 6,
        "start_time": "2023-02-20T08:35:23.142Z"
      },
      {
        "duration": 4,
        "start_time": "2023-02-20T08:35:23.150Z"
      },
      {
        "duration": 48,
        "start_time": "2023-02-20T08:35:23.156Z"
      },
      {
        "duration": 15,
        "start_time": "2023-02-20T08:35:23.205Z"
      },
      {
        "duration": 19,
        "start_time": "2023-02-20T08:35:23.222Z"
      },
      {
        "duration": 13,
        "start_time": "2023-02-20T08:35:23.243Z"
      },
      {
        "duration": 48,
        "start_time": "2023-02-20T08:35:23.258Z"
      },
      {
        "duration": 11,
        "start_time": "2023-02-20T08:35:23.308Z"
      },
      {
        "duration": 114,
        "start_time": "2023-02-20T08:35:23.320Z"
      },
      {
        "duration": 95,
        "start_time": "2023-02-20T08:35:23.438Z"
      },
      {
        "duration": 11,
        "start_time": "2023-02-20T08:35:23.535Z"
      },
      {
        "duration": 11,
        "start_time": "2023-02-20T08:35:23.548Z"
      },
      {
        "duration": 36,
        "start_time": "2023-02-20T08:35:23.561Z"
      },
      {
        "duration": 5,
        "start_time": "2023-02-20T08:35:23.599Z"
      },
      {
        "duration": 9,
        "start_time": "2023-02-20T08:35:23.606Z"
      },
      {
        "duration": 1380,
        "start_time": "2023-02-20T08:35:23.616Z"
      },
      {
        "duration": 15,
        "start_time": "2023-02-20T08:35:24.998Z"
      },
      {
        "duration": 179,
        "start_time": "2023-02-20T08:35:25.015Z"
      },
      {
        "duration": 169,
        "start_time": "2023-02-20T08:35:25.196Z"
      },
      {
        "duration": 14,
        "start_time": "2023-02-20T08:35:25.367Z"
      },
      {
        "duration": 13,
        "start_time": "2023-02-20T08:35:25.391Z"
      },
      {
        "duration": 235,
        "start_time": "2023-02-20T08:35:25.405Z"
      },
      {
        "duration": 12,
        "start_time": "2023-02-20T08:35:25.641Z"
      },
      {
        "duration": 47,
        "start_time": "2023-02-20T08:35:25.654Z"
      },
      {
        "duration": 23,
        "start_time": "2023-02-20T08:35:25.703Z"
      },
      {
        "duration": 90,
        "start_time": "2023-02-20T08:35:25.728Z"
      },
      {
        "duration": 10,
        "start_time": "2023-02-20T08:35:25.820Z"
      },
      {
        "duration": 18,
        "start_time": "2023-02-20T08:35:25.832Z"
      },
      {
        "duration": 6,
        "start_time": "2023-02-20T08:35:25.891Z"
      },
      {
        "duration": 99,
        "start_time": "2023-02-20T08:35:25.898Z"
      },
      {
        "duration": 6,
        "start_time": "2023-02-20T08:35:25.999Z"
      },
      {
        "duration": 11,
        "start_time": "2023-02-20T08:35:26.007Z"
      },
      {
        "duration": 10,
        "start_time": "2023-02-20T08:35:26.019Z"
      },
      {
        "duration": 6,
        "start_time": "2023-02-20T08:35:26.030Z"
      },
      {
        "duration": 7,
        "start_time": "2023-02-20T08:35:26.037Z"
      },
      {
        "duration": 7,
        "start_time": "2023-02-20T08:35:26.046Z"
      },
      {
        "duration": 38,
        "start_time": "2023-02-20T08:35:26.057Z"
      },
      {
        "duration": 13,
        "start_time": "2023-02-20T08:35:53.955Z"
      },
      {
        "duration": 1529,
        "start_time": "2023-02-20T11:16:31.278Z"
      },
      {
        "duration": 209,
        "start_time": "2023-02-20T11:16:32.809Z"
      },
      {
        "duration": 30,
        "start_time": "2023-02-20T11:16:33.020Z"
      },
      {
        "duration": 39,
        "start_time": "2023-02-20T11:16:33.053Z"
      },
      {
        "duration": 6,
        "start_time": "2023-02-20T11:16:33.095Z"
      },
      {
        "duration": 6,
        "start_time": "2023-02-20T11:16:33.102Z"
      },
      {
        "duration": 19,
        "start_time": "2023-02-20T11:16:33.109Z"
      },
      {
        "duration": 42,
        "start_time": "2023-02-20T11:16:33.129Z"
      },
      {
        "duration": 19,
        "start_time": "2023-02-20T11:16:33.173Z"
      },
      {
        "duration": 13,
        "start_time": "2023-02-20T11:16:33.195Z"
      },
      {
        "duration": 24,
        "start_time": "2023-02-20T11:16:33.209Z"
      },
      {
        "duration": 35,
        "start_time": "2023-02-20T11:16:33.235Z"
      },
      {
        "duration": 116,
        "start_time": "2023-02-20T11:16:33.272Z"
      },
      {
        "duration": 101,
        "start_time": "2023-02-20T11:16:33.390Z"
      },
      {
        "duration": 10,
        "start_time": "2023-02-20T11:16:33.492Z"
      },
      {
        "duration": 19,
        "start_time": "2023-02-20T11:16:33.504Z"
      },
      {
        "duration": 11,
        "start_time": "2023-02-20T11:16:33.525Z"
      },
      {
        "duration": 8,
        "start_time": "2023-02-20T11:16:33.537Z"
      },
      {
        "duration": 11,
        "start_time": "2023-02-20T11:16:33.570Z"
      },
      {
        "duration": 1381,
        "start_time": "2023-02-20T11:16:33.582Z"
      },
      {
        "duration": 11,
        "start_time": "2023-02-20T11:16:34.965Z"
      },
      {
        "duration": 164,
        "start_time": "2023-02-20T11:16:34.978Z"
      },
      {
        "duration": 148,
        "start_time": "2023-02-20T11:16:35.144Z"
      },
      {
        "duration": 13,
        "start_time": "2023-02-20T11:16:35.293Z"
      },
      {
        "duration": 33,
        "start_time": "2023-02-20T11:16:35.307Z"
      },
      {
        "duration": 220,
        "start_time": "2023-02-20T11:16:35.341Z"
      },
      {
        "duration": 11,
        "start_time": "2023-02-20T11:16:35.563Z"
      },
      {
        "duration": 28,
        "start_time": "2023-02-20T11:16:35.577Z"
      },
      {
        "duration": 60,
        "start_time": "2023-02-20T11:16:35.607Z"
      },
      {
        "duration": 23,
        "start_time": "2023-02-20T11:16:35.668Z"
      },
      {
        "duration": 6,
        "start_time": "2023-02-20T11:16:35.693Z"
      },
      {
        "duration": 79,
        "start_time": "2023-02-20T11:16:35.701Z"
      },
      {
        "duration": 23,
        "start_time": "2023-02-20T11:16:35.781Z"
      },
      {
        "duration": 28,
        "start_time": "2023-02-20T11:16:35.805Z"
      },
      {
        "duration": 40,
        "start_time": "2023-02-20T11:16:35.835Z"
      },
      {
        "duration": 47,
        "start_time": "2023-02-20T11:16:35.876Z"
      },
      {
        "duration": 11,
        "start_time": "2023-02-20T11:16:35.925Z"
      },
      {
        "duration": 22,
        "start_time": "2023-02-20T11:16:35.937Z"
      },
      {
        "duration": 23,
        "start_time": "2023-02-20T11:16:35.961Z"
      },
      {
        "duration": 36,
        "start_time": "2023-02-20T11:16:35.986Z"
      },
      {
        "duration": 29,
        "start_time": "2023-02-20T11:16:36.023Z"
      },
      {
        "duration": 12,
        "start_time": "2023-02-20T11:17:24.803Z"
      },
      {
        "duration": 4,
        "start_time": "2023-02-20T11:18:06.415Z"
      },
      {
        "duration": 7,
        "start_time": "2023-02-20T11:18:11.257Z"
      },
      {
        "duration": 10,
        "start_time": "2023-02-20T11:18:24.807Z"
      },
      {
        "duration": 4,
        "start_time": "2023-02-20T11:18:51.157Z"
      },
      {
        "duration": 3,
        "start_time": "2023-02-20T11:18:52.870Z"
      },
      {
        "duration": 15,
        "start_time": "2023-02-20T11:18:56.066Z"
      },
      {
        "duration": 4,
        "start_time": "2023-02-20T11:18:57.609Z"
      },
      {
        "duration": 12,
        "start_time": "2023-02-20T11:18:59.931Z"
      },
      {
        "duration": 4,
        "start_time": "2023-02-20T11:19:00.591Z"
      },
      {
        "duration": 4,
        "start_time": "2023-02-20T11:19:12.795Z"
      },
      {
        "duration": 8,
        "start_time": "2023-02-20T11:19:16.236Z"
      },
      {
        "duration": 1171,
        "start_time": "2023-02-20T11:19:41.112Z"
      },
      {
        "duration": 42,
        "start_time": "2023-02-20T11:19:42.285Z"
      },
      {
        "duration": 23,
        "start_time": "2023-02-20T11:19:42.329Z"
      },
      {
        "duration": 25,
        "start_time": "2023-02-20T11:19:42.354Z"
      },
      {
        "duration": 8,
        "start_time": "2023-02-20T11:19:42.381Z"
      },
      {
        "duration": 4,
        "start_time": "2023-02-20T11:19:42.391Z"
      },
      {
        "duration": 19,
        "start_time": "2023-02-20T11:19:42.397Z"
      },
      {
        "duration": 44,
        "start_time": "2023-02-20T11:19:42.418Z"
      },
      {
        "duration": 20,
        "start_time": "2023-02-20T11:19:42.464Z"
      },
      {
        "duration": 14,
        "start_time": "2023-02-20T11:19:42.486Z"
      },
      {
        "duration": 28,
        "start_time": "2023-02-20T11:19:42.502Z"
      },
      {
        "duration": 32,
        "start_time": "2023-02-20T11:19:42.532Z"
      },
      {
        "duration": 121,
        "start_time": "2023-02-20T11:19:42.566Z"
      },
      {
        "duration": 98,
        "start_time": "2023-02-20T11:19:42.689Z"
      },
      {
        "duration": 11,
        "start_time": "2023-02-20T11:19:42.789Z"
      },
      {
        "duration": 17,
        "start_time": "2023-02-20T11:19:42.801Z"
      },
      {
        "duration": 21,
        "start_time": "2023-02-20T11:19:42.820Z"
      },
      {
        "duration": 20,
        "start_time": "2023-02-20T11:19:42.843Z"
      },
      {
        "duration": 10,
        "start_time": "2023-02-20T11:19:42.865Z"
      },
      {
        "duration": 1332,
        "start_time": "2023-02-20T11:19:42.877Z"
      },
      {
        "duration": 13,
        "start_time": "2023-02-20T11:19:44.211Z"
      },
      {
        "duration": 172,
        "start_time": "2023-02-20T11:19:44.225Z"
      },
      {
        "duration": 157,
        "start_time": "2023-02-20T11:19:44.399Z"
      },
      {
        "duration": 16,
        "start_time": "2023-02-20T11:19:44.561Z"
      },
      {
        "duration": 13,
        "start_time": "2023-02-20T11:19:44.579Z"
      },
      {
        "duration": 199,
        "start_time": "2023-02-20T11:19:44.594Z"
      },
      {
        "duration": 15,
        "start_time": "2023-02-20T11:19:44.795Z"
      },
      {
        "duration": 15,
        "start_time": "2023-02-20T11:19:44.814Z"
      },
      {
        "duration": 42,
        "start_time": "2023-02-20T11:19:44.831Z"
      },
      {
        "duration": 91,
        "start_time": "2023-02-20T11:19:44.875Z"
      },
      {
        "duration": 9,
        "start_time": "2023-02-20T11:19:44.968Z"
      },
      {
        "duration": 24,
        "start_time": "2023-02-20T11:19:44.978Z"
      },
      {
        "duration": 8,
        "start_time": "2023-02-20T11:19:45.004Z"
      },
      {
        "duration": 121,
        "start_time": "2023-02-20T11:19:45.014Z"
      },
      {
        "duration": 8,
        "start_time": "2023-02-20T11:19:45.137Z"
      },
      {
        "duration": 17,
        "start_time": "2023-02-20T11:19:45.146Z"
      },
      {
        "duration": 23,
        "start_time": "2023-02-20T11:19:45.165Z"
      },
      {
        "duration": 5,
        "start_time": "2023-02-20T11:19:45.190Z"
      },
      {
        "duration": 16,
        "start_time": "2023-02-20T11:19:45.197Z"
      },
      {
        "duration": 13,
        "start_time": "2023-02-20T11:19:45.214Z"
      },
      {
        "duration": 6,
        "start_time": "2023-02-20T11:19:45.228Z"
      },
      {
        "duration": 4,
        "start_time": "2023-02-20T11:20:24.254Z"
      },
      {
        "duration": 4,
        "start_time": "2023-02-20T11:20:29.800Z"
      },
      {
        "duration": 11,
        "start_time": "2023-02-20T11:21:01.116Z"
      },
      {
        "duration": 11,
        "start_time": "2023-02-20T11:21:28.078Z"
      },
      {
        "duration": 4,
        "start_time": "2023-02-20T11:21:36.356Z"
      },
      {
        "duration": 9,
        "start_time": "2023-02-20T11:22:05.478Z"
      },
      {
        "duration": 4,
        "start_time": "2023-02-20T11:22:08.160Z"
      },
      {
        "duration": 9,
        "start_time": "2023-02-20T11:22:42.615Z"
      },
      {
        "duration": 3,
        "start_time": "2023-02-20T11:22:44.085Z"
      },
      {
        "duration": 4,
        "start_time": "2023-02-20T11:24:07.228Z"
      },
      {
        "duration": 8,
        "start_time": "2023-02-20T11:24:13.604Z"
      },
      {
        "duration": 69,
        "start_time": "2023-02-20T11:24:43.326Z"
      },
      {
        "duration": 134,
        "start_time": "2023-02-20T11:24:47.291Z"
      },
      {
        "duration": 1741,
        "start_time": "2023-02-20T11:25:00.665Z"
      },
      {
        "duration": 10,
        "start_time": "2023-02-20T11:25:08.225Z"
      },
      {
        "duration": 4,
        "start_time": "2023-02-20T11:25:18.312Z"
      },
      {
        "duration": 11,
        "start_time": "2023-02-20T11:25:20.815Z"
      },
      {
        "duration": 4,
        "start_time": "2023-02-20T11:25:23.814Z"
      },
      {
        "duration": 10,
        "start_time": "2023-02-20T11:25:31.378Z"
      },
      {
        "duration": 3,
        "start_time": "2023-02-20T11:25:35.954Z"
      },
      {
        "duration": 6,
        "start_time": "2023-02-20T11:25:44.853Z"
      },
      {
        "duration": 7,
        "start_time": "2023-02-20T11:25:50.156Z"
      },
      {
        "duration": 19,
        "start_time": "2023-02-20T11:25:58.062Z"
      },
      {
        "duration": 11,
        "start_time": "2023-02-20T11:26:47.197Z"
      },
      {
        "duration": 1203,
        "start_time": "2023-02-20T11:26:58.835Z"
      },
      {
        "duration": 42,
        "start_time": "2023-02-20T11:27:00.040Z"
      },
      {
        "duration": 20,
        "start_time": "2023-02-20T11:27:00.083Z"
      },
      {
        "duration": 25,
        "start_time": "2023-02-20T11:27:00.105Z"
      },
      {
        "duration": 8,
        "start_time": "2023-02-20T11:27:00.132Z"
      },
      {
        "duration": 25,
        "start_time": "2023-02-20T11:27:00.141Z"
      },
      {
        "duration": 35,
        "start_time": "2023-02-20T11:27:00.167Z"
      },
      {
        "duration": 16,
        "start_time": "2023-02-20T11:27:00.205Z"
      },
      {
        "duration": 27,
        "start_time": "2023-02-20T11:27:00.223Z"
      },
      {
        "duration": 20,
        "start_time": "2023-02-20T11:27:00.253Z"
      },
      {
        "duration": 31,
        "start_time": "2023-02-20T11:27:00.274Z"
      },
      {
        "duration": 28,
        "start_time": "2023-02-20T11:27:00.308Z"
      },
      {
        "duration": 119,
        "start_time": "2023-02-20T11:27:00.338Z"
      },
      {
        "duration": 102,
        "start_time": "2023-02-20T11:27:00.459Z"
      },
      {
        "duration": 12,
        "start_time": "2023-02-20T11:27:00.563Z"
      },
      {
        "duration": 48,
        "start_time": "2023-02-20T11:27:00.576Z"
      },
      {
        "duration": 52,
        "start_time": "2023-02-20T11:27:00.625Z"
      },
      {
        "duration": 34,
        "start_time": "2023-02-20T11:27:00.679Z"
      },
      {
        "duration": 36,
        "start_time": "2023-02-20T11:27:00.714Z"
      },
      {
        "duration": 723,
        "start_time": "2023-02-20T11:27:00.752Z"
      },
      {
        "duration": 15,
        "start_time": "2023-02-20T11:27:01.476Z"
      },
      {
        "duration": 175,
        "start_time": "2023-02-20T11:27:01.492Z"
      },
      {
        "duration": 162,
        "start_time": "2023-02-20T11:27:01.670Z"
      },
      {
        "duration": 17,
        "start_time": "2023-02-20T11:27:01.834Z"
      },
      {
        "duration": 18,
        "start_time": "2023-02-20T11:27:01.862Z"
      },
      {
        "duration": 157,
        "start_time": "2023-02-20T11:27:01.882Z"
      },
      {
        "duration": 12,
        "start_time": "2023-02-20T11:27:02.040Z"
      },
      {
        "duration": 14,
        "start_time": "2023-02-20T11:27:02.062Z"
      },
      {
        "duration": 16,
        "start_time": "2023-02-20T11:27:02.078Z"
      },
      {
        "duration": 87,
        "start_time": "2023-02-20T11:27:02.096Z"
      },
      {
        "duration": 7,
        "start_time": "2023-02-20T11:27:02.185Z"
      },
      {
        "duration": 23,
        "start_time": "2023-02-20T11:27:02.194Z"
      },
      {
        "duration": 7,
        "start_time": "2023-02-20T11:27:02.219Z"
      },
      {
        "duration": 84,
        "start_time": "2023-02-20T11:27:02.261Z"
      },
      {
        "duration": 20,
        "start_time": "2023-02-20T11:27:02.346Z"
      },
      {
        "duration": 25,
        "start_time": "2023-02-20T11:27:02.367Z"
      },
      {
        "duration": 12,
        "start_time": "2023-02-20T11:27:02.394Z"
      },
      {
        "duration": 7,
        "start_time": "2023-02-20T11:27:02.408Z"
      },
      {
        "duration": 15,
        "start_time": "2023-02-20T11:27:02.417Z"
      },
      {
        "duration": 12,
        "start_time": "2023-02-20T11:27:02.433Z"
      },
      {
        "duration": 9,
        "start_time": "2023-02-20T11:27:02.447Z"
      },
      {
        "duration": 9,
        "start_time": "2023-02-20T11:27:31.910Z"
      },
      {
        "duration": 5,
        "start_time": "2023-02-20T11:27:36.791Z"
      },
      {
        "duration": 4,
        "start_time": "2023-02-20T11:27:40.502Z"
      },
      {
        "duration": 4,
        "start_time": "2023-02-20T11:27:45.112Z"
      },
      {
        "duration": 3,
        "start_time": "2023-02-20T11:29:27.922Z"
      },
      {
        "duration": 11,
        "start_time": "2023-02-20T11:29:36.994Z"
      },
      {
        "duration": 3,
        "start_time": "2023-02-20T11:29:38.700Z"
      },
      {
        "duration": 5,
        "start_time": "2023-02-20T11:29:40.918Z"
      },
      {
        "duration": 1147,
        "start_time": "2023-02-20T11:29:47.507Z"
      },
      {
        "duration": 43,
        "start_time": "2023-02-20T11:29:48.655Z"
      },
      {
        "duration": 18,
        "start_time": "2023-02-20T11:29:48.700Z"
      },
      {
        "duration": 39,
        "start_time": "2023-02-20T11:29:48.720Z"
      },
      {
        "duration": 6,
        "start_time": "2023-02-20T11:29:48.761Z"
      },
      {
        "duration": 29,
        "start_time": "2023-02-20T11:29:48.769Z"
      },
      {
        "duration": 43,
        "start_time": "2023-02-20T11:29:48.799Z"
      },
      {
        "duration": 15,
        "start_time": "2023-02-20T11:29:48.844Z"
      },
      {
        "duration": 17,
        "start_time": "2023-02-20T11:29:48.861Z"
      },
      {
        "duration": 11,
        "start_time": "2023-02-20T11:29:48.881Z"
      },
      {
        "duration": 21,
        "start_time": "2023-02-20T11:29:48.894Z"
      },
      {
        "duration": 11,
        "start_time": "2023-02-20T11:29:48.916Z"
      },
      {
        "duration": 113,
        "start_time": "2023-02-20T11:29:48.928Z"
      },
      {
        "duration": 91,
        "start_time": "2023-02-20T11:29:49.042Z"
      },
      {
        "duration": 9,
        "start_time": "2023-02-20T11:29:49.135Z"
      },
      {
        "duration": 22,
        "start_time": "2023-02-20T11:29:49.146Z"
      },
      {
        "duration": 10,
        "start_time": "2023-02-20T11:29:49.170Z"
      },
      {
        "duration": 6,
        "start_time": "2023-02-20T11:29:49.182Z"
      },
      {
        "duration": 9,
        "start_time": "2023-02-20T11:29:49.189Z"
      },
      {
        "duration": 10,
        "start_time": "2023-02-20T11:29:49.200Z"
      },
      {
        "duration": 1351,
        "start_time": "2023-02-20T11:29:49.212Z"
      },
      {
        "duration": 13,
        "start_time": "2023-02-20T11:29:50.564Z"
      },
      {
        "duration": 161,
        "start_time": "2023-02-20T11:29:50.579Z"
      },
      {
        "duration": 157,
        "start_time": "2023-02-20T11:29:50.741Z"
      },
      {
        "duration": 13,
        "start_time": "2023-02-20T11:29:50.900Z"
      },
      {
        "duration": 33,
        "start_time": "2023-02-20T11:29:50.914Z"
      },
      {
        "duration": 154,
        "start_time": "2023-02-20T11:29:50.948Z"
      },
      {
        "duration": 12,
        "start_time": "2023-02-20T11:29:51.105Z"
      },
      {
        "duration": 26,
        "start_time": "2023-02-20T11:29:51.119Z"
      },
      {
        "duration": 10,
        "start_time": "2023-02-20T11:29:51.162Z"
      },
      {
        "duration": 58,
        "start_time": "2023-02-20T11:29:51.173Z"
      },
      {
        "duration": 12,
        "start_time": "2023-02-20T11:29:51.232Z"
      },
      {
        "duration": 42,
        "start_time": "2023-02-20T11:29:51.245Z"
      },
      {
        "duration": 16,
        "start_time": "2023-02-20T11:29:51.289Z"
      },
      {
        "duration": 100,
        "start_time": "2023-02-20T11:29:51.306Z"
      },
      {
        "duration": 6,
        "start_time": "2023-02-20T11:29:51.407Z"
      },
      {
        "duration": 14,
        "start_time": "2023-02-20T11:29:51.415Z"
      },
      {
        "duration": 24,
        "start_time": "2023-02-20T11:29:51.430Z"
      },
      {
        "duration": 23,
        "start_time": "2023-02-20T11:29:51.456Z"
      },
      {
        "duration": 20,
        "start_time": "2023-02-20T11:29:51.480Z"
      },
      {
        "duration": 24,
        "start_time": "2023-02-20T11:29:51.502Z"
      },
      {
        "duration": 43,
        "start_time": "2023-02-20T11:29:51.528Z"
      },
      {
        "duration": 4,
        "start_time": "2023-02-20T11:31:07.660Z"
      },
      {
        "duration": 3,
        "start_time": "2023-02-20T11:31:15.387Z"
      },
      {
        "duration": 96,
        "start_time": "2023-02-20T11:32:42.986Z"
      },
      {
        "duration": 13,
        "start_time": "2023-02-20T11:34:55.795Z"
      },
      {
        "duration": 21,
        "start_time": "2023-02-20T11:35:53.559Z"
      },
      {
        "duration": 22,
        "start_time": "2023-02-20T11:36:09.100Z"
      },
      {
        "duration": 12,
        "start_time": "2023-02-20T11:36:26.506Z"
      },
      {
        "duration": 12,
        "start_time": "2023-02-20T11:36:37.744Z"
      },
      {
        "duration": 16,
        "start_time": "2023-02-20T11:36:47.158Z"
      },
      {
        "duration": 17,
        "start_time": "2023-02-20T11:36:49.673Z"
      },
      {
        "duration": 12,
        "start_time": "2023-02-20T11:37:42.789Z"
      },
      {
        "duration": 12,
        "start_time": "2023-02-20T11:37:56.101Z"
      },
      {
        "duration": 113,
        "start_time": "2023-02-20T11:37:58.776Z"
      },
      {
        "duration": 13,
        "start_time": "2023-02-20T11:38:00.900Z"
      },
      {
        "duration": 11,
        "start_time": "2023-02-20T11:38:03.380Z"
      },
      {
        "duration": 12,
        "start_time": "2023-02-20T11:38:07.722Z"
      },
      {
        "duration": 15,
        "start_time": "2023-02-20T11:38:39.256Z"
      },
      {
        "duration": 13,
        "start_time": "2023-02-20T11:38:42.938Z"
      },
      {
        "duration": 15,
        "start_time": "2023-02-20T11:39:00.005Z"
      },
      {
        "duration": 15,
        "start_time": "2023-02-20T11:39:51.009Z"
      },
      {
        "duration": 16,
        "start_time": "2023-02-20T11:39:54.625Z"
      },
      {
        "duration": 3,
        "start_time": "2023-02-20T11:40:11.195Z"
      },
      {
        "duration": 14,
        "start_time": "2023-02-20T11:40:55.192Z"
      },
      {
        "duration": 6,
        "start_time": "2023-02-20T11:41:11.450Z"
      },
      {
        "duration": 22,
        "start_time": "2023-02-20T11:41:14.347Z"
      },
      {
        "duration": 21,
        "start_time": "2023-02-20T12:00:04.578Z"
      },
      {
        "duration": 14,
        "start_time": "2023-02-20T12:02:22.988Z"
      },
      {
        "duration": 7,
        "start_time": "2023-02-20T12:02:26.114Z"
      },
      {
        "duration": 51,
        "start_time": "2023-02-20T12:03:11.132Z"
      },
      {
        "duration": 8,
        "start_time": "2023-02-20T12:03:25.010Z"
      },
      {
        "duration": 5,
        "start_time": "2023-02-20T12:03:29.130Z"
      },
      {
        "duration": 38,
        "start_time": "2023-02-20T12:03:30.673Z"
      },
      {
        "duration": 16,
        "start_time": "2023-02-20T12:03:38.288Z"
      },
      {
        "duration": 9,
        "start_time": "2023-02-20T12:03:57.906Z"
      },
      {
        "duration": 28,
        "start_time": "2023-02-20T12:04:02.930Z"
      },
      {
        "duration": 25,
        "start_time": "2023-02-20T12:06:46.655Z"
      },
      {
        "duration": 23,
        "start_time": "2023-02-20T12:06:50.229Z"
      },
      {
        "duration": 20,
        "start_time": "2023-02-20T12:07:07.874Z"
      },
      {
        "duration": 26,
        "start_time": "2023-02-20T12:07:11.950Z"
      },
      {
        "duration": 21,
        "start_time": "2023-02-20T12:09:22.691Z"
      },
      {
        "duration": 21,
        "start_time": "2023-02-20T12:09:26.316Z"
      },
      {
        "duration": 18,
        "start_time": "2023-02-20T12:09:30.090Z"
      },
      {
        "duration": 29,
        "start_time": "2023-02-20T12:09:35.410Z"
      },
      {
        "duration": 18,
        "start_time": "2023-02-20T12:09:42.082Z"
      },
      {
        "duration": 13,
        "start_time": "2023-02-20T12:12:43.073Z"
      },
      {
        "duration": 7,
        "start_time": "2023-02-20T12:12:51.879Z"
      },
      {
        "duration": 5,
        "start_time": "2023-02-20T12:13:10.323Z"
      },
      {
        "duration": 5,
        "start_time": "2023-02-20T12:13:15.470Z"
      },
      {
        "duration": 5,
        "start_time": "2023-02-20T12:13:18.380Z"
      },
      {
        "duration": 6,
        "start_time": "2023-02-20T12:13:36.916Z"
      },
      {
        "duration": 6,
        "start_time": "2023-02-20T12:13:41.554Z"
      },
      {
        "duration": 9,
        "start_time": "2023-02-20T12:13:48.954Z"
      },
      {
        "duration": 7,
        "start_time": "2023-02-20T12:13:51.431Z"
      },
      {
        "duration": 6,
        "start_time": "2023-02-20T12:13:54.137Z"
      },
      {
        "duration": 6,
        "start_time": "2023-02-20T12:13:56.586Z"
      },
      {
        "duration": 6,
        "start_time": "2023-02-20T12:14:03.921Z"
      },
      {
        "duration": 6,
        "start_time": "2023-02-20T12:14:06.490Z"
      },
      {
        "duration": 6,
        "start_time": "2023-02-20T12:14:11.609Z"
      },
      {
        "duration": 6,
        "start_time": "2023-02-20T12:14:21.277Z"
      },
      {
        "duration": 19,
        "start_time": "2023-02-20T12:23:46.451Z"
      },
      {
        "duration": 13,
        "start_time": "2023-02-20T12:23:58.736Z"
      },
      {
        "duration": 15,
        "start_time": "2023-02-20T12:24:05.561Z"
      },
      {
        "duration": 9,
        "start_time": "2023-02-20T12:24:42.981Z"
      },
      {
        "duration": 29,
        "start_time": "2023-02-20T12:24:44.629Z"
      },
      {
        "duration": 19,
        "start_time": "2023-02-20T12:24:45.913Z"
      },
      {
        "duration": 8,
        "start_time": "2023-02-20T12:24:54.621Z"
      },
      {
        "duration": 5,
        "start_time": "2023-02-20T12:25:16.108Z"
      },
      {
        "duration": 27,
        "start_time": "2023-02-20T12:25:46.768Z"
      },
      {
        "duration": 6,
        "start_time": "2023-02-20T12:25:55.944Z"
      },
      {
        "duration": 37,
        "start_time": "2023-02-20T12:29:44.951Z"
      },
      {
        "duration": 31,
        "start_time": "2023-02-20T12:30:01.229Z"
      },
      {
        "duration": 16,
        "start_time": "2023-02-20T12:39:15.668Z"
      },
      {
        "duration": 5,
        "start_time": "2023-02-20T12:39:50.433Z"
      },
      {
        "duration": 5,
        "start_time": "2023-02-20T12:40:39.529Z"
      },
      {
        "duration": 5,
        "start_time": "2023-02-20T12:42:10.495Z"
      },
      {
        "duration": 12,
        "start_time": "2023-02-20T12:42:24.699Z"
      },
      {
        "duration": 7,
        "start_time": "2023-02-20T12:43:02.076Z"
      },
      {
        "duration": 4,
        "start_time": "2023-02-20T12:43:03.854Z"
      },
      {
        "duration": 5,
        "start_time": "2023-02-20T12:43:09.444Z"
      },
      {
        "duration": 1190,
        "start_time": "2023-02-20T12:43:15.614Z"
      },
      {
        "duration": 5,
        "start_time": "2023-02-20T12:43:25.760Z"
      },
      {
        "duration": 6,
        "start_time": "2023-02-20T12:48:31.770Z"
      },
      {
        "duration": 18,
        "start_time": "2023-02-20T12:48:55.516Z"
      },
      {
        "duration": 19,
        "start_time": "2023-02-20T12:49:00.738Z"
      },
      {
        "duration": 6,
        "start_time": "2023-02-20T12:49:17.534Z"
      },
      {
        "duration": 23,
        "start_time": "2023-02-20T12:49:26.317Z"
      },
      {
        "duration": 10,
        "start_time": "2023-02-20T12:49:38.548Z"
      },
      {
        "duration": 7,
        "start_time": "2023-02-20T12:49:41.648Z"
      },
      {
        "duration": 16,
        "start_time": "2023-02-20T12:49:43.021Z"
      },
      {
        "duration": 6,
        "start_time": "2023-02-20T12:50:08.126Z"
      },
      {
        "duration": 21,
        "start_time": "2023-02-20T12:54:18.421Z"
      },
      {
        "duration": 17,
        "start_time": "2023-02-20T12:54:24.043Z"
      },
      {
        "duration": 16,
        "start_time": "2023-02-20T12:54:27.024Z"
      },
      {
        "duration": 19,
        "start_time": "2023-02-20T12:54:35.466Z"
      },
      {
        "duration": 19,
        "start_time": "2023-02-20T12:55:07.860Z"
      },
      {
        "duration": 6,
        "start_time": "2023-02-20T12:55:48.441Z"
      },
      {
        "duration": 20,
        "start_time": "2023-02-20T12:56:03.350Z"
      },
      {
        "duration": 7,
        "start_time": "2023-02-20T12:56:24.510Z"
      },
      {
        "duration": 28,
        "start_time": "2023-02-20T12:57:03.351Z"
      },
      {
        "duration": 16,
        "start_time": "2023-02-20T12:57:07.877Z"
      },
      {
        "duration": 21,
        "start_time": "2023-02-20T12:57:12.195Z"
      },
      {
        "duration": 7,
        "start_time": "2023-02-20T12:57:31.294Z"
      },
      {
        "duration": 19,
        "start_time": "2023-02-20T12:57:49.445Z"
      },
      {
        "duration": 7,
        "start_time": "2023-02-20T12:58:01.710Z"
      },
      {
        "duration": 22,
        "start_time": "2023-02-20T12:58:16.356Z"
      },
      {
        "duration": 19,
        "start_time": "2023-02-20T12:58:19.312Z"
      },
      {
        "duration": 22,
        "start_time": "2023-02-20T12:58:34.686Z"
      },
      {
        "duration": 26,
        "start_time": "2023-02-20T12:58:41.727Z"
      },
      {
        "duration": 5,
        "start_time": "2023-02-20T13:56:48.550Z"
      },
      {
        "duration": 5,
        "start_time": "2023-02-20T13:57:18.613Z"
      },
      {
        "duration": 4,
        "start_time": "2023-02-20T13:57:20.611Z"
      },
      {
        "duration": 4,
        "start_time": "2023-02-20T13:58:14.008Z"
      },
      {
        "duration": 152,
        "start_time": "2023-02-20T13:59:03.145Z"
      },
      {
        "duration": 69,
        "start_time": "2023-02-20T13:59:08.535Z"
      },
      {
        "duration": 4,
        "start_time": "2023-02-20T13:59:52.375Z"
      },
      {
        "duration": 140,
        "start_time": "2023-02-20T14:00:30.100Z"
      },
      {
        "duration": 7,
        "start_time": "2023-02-20T14:00:43.887Z"
      },
      {
        "duration": 1177,
        "start_time": "2023-02-20T14:57:34.116Z"
      },
      {
        "duration": 44,
        "start_time": "2023-02-20T14:57:35.295Z"
      },
      {
        "duration": 22,
        "start_time": "2023-02-20T14:57:35.340Z"
      },
      {
        "duration": 26,
        "start_time": "2023-02-20T14:57:35.364Z"
      },
      {
        "duration": 15,
        "start_time": "2023-02-20T14:57:35.392Z"
      },
      {
        "duration": 29,
        "start_time": "2023-02-20T14:57:35.408Z"
      },
      {
        "duration": 25,
        "start_time": "2023-02-20T14:57:35.439Z"
      },
      {
        "duration": 14,
        "start_time": "2023-02-20T14:57:35.466Z"
      },
      {
        "duration": 18,
        "start_time": "2023-02-20T14:57:35.482Z"
      },
      {
        "duration": 14,
        "start_time": "2023-02-20T14:57:35.503Z"
      },
      {
        "duration": 49,
        "start_time": "2023-02-20T14:57:35.518Z"
      },
      {
        "duration": 13,
        "start_time": "2023-02-20T14:57:35.569Z"
      },
      {
        "duration": 115,
        "start_time": "2023-02-20T14:57:35.584Z"
      },
      {
        "duration": 93,
        "start_time": "2023-02-20T14:57:35.700Z"
      },
      {
        "duration": 9,
        "start_time": "2023-02-20T14:57:35.796Z"
      },
      {
        "duration": 14,
        "start_time": "2023-02-20T14:57:35.806Z"
      },
      {
        "duration": 17,
        "start_time": "2023-02-20T14:57:35.821Z"
      },
      {
        "duration": 6,
        "start_time": "2023-02-20T14:57:35.839Z"
      },
      {
        "duration": 18,
        "start_time": "2023-02-20T14:57:35.847Z"
      },
      {
        "duration": 1298,
        "start_time": "2023-02-20T14:57:35.867Z"
      },
      {
        "duration": 13,
        "start_time": "2023-02-20T14:57:37.166Z"
      },
      {
        "duration": 171,
        "start_time": "2023-02-20T14:57:37.181Z"
      },
      {
        "duration": 155,
        "start_time": "2023-02-20T14:57:37.353Z"
      },
      {
        "duration": 13,
        "start_time": "2023-02-20T14:57:37.510Z"
      },
      {
        "duration": 12,
        "start_time": "2023-02-20T14:57:37.525Z"
      },
      {
        "duration": 143,
        "start_time": "2023-02-20T14:57:37.538Z"
      },
      {
        "duration": 11,
        "start_time": "2023-02-20T14:57:37.683Z"
      },
      {
        "duration": 6,
        "start_time": "2023-02-20T14:57:37.697Z"
      },
      {
        "duration": 74,
        "start_time": "2023-02-20T14:57:37.704Z"
      },
      {
        "duration": 7,
        "start_time": "2023-02-20T14:57:37.780Z"
      },
      {
        "duration": 14,
        "start_time": "2023-02-20T14:57:37.789Z"
      },
      {
        "duration": 58,
        "start_time": "2023-02-20T14:57:37.804Z"
      },
      {
        "duration": 27,
        "start_time": "2023-02-20T14:57:37.863Z"
      },
      {
        "duration": 6,
        "start_time": "2023-02-20T14:57:37.891Z"
      },
      {
        "duration": 94,
        "start_time": "2023-02-20T14:57:37.899Z"
      },
      {
        "duration": 7,
        "start_time": "2023-02-20T14:57:37.994Z"
      },
      {
        "duration": 20,
        "start_time": "2023-02-20T14:57:38.002Z"
      },
      {
        "duration": 5,
        "start_time": "2023-02-20T14:57:38.023Z"
      },
      {
        "duration": 39,
        "start_time": "2023-02-20T14:57:38.029Z"
      },
      {
        "duration": 6,
        "start_time": "2023-02-20T14:57:38.070Z"
      },
      {
        "duration": 22,
        "start_time": "2023-02-20T14:57:38.078Z"
      },
      {
        "duration": 5,
        "start_time": "2023-02-20T14:57:38.101Z"
      },
      {
        "duration": 19,
        "start_time": "2023-02-20T14:57:38.108Z"
      },
      {
        "duration": 5,
        "start_time": "2023-02-20T14:57:38.129Z"
      },
      {
        "duration": 39,
        "start_time": "2023-02-20T14:57:38.136Z"
      },
      {
        "duration": 4,
        "start_time": "2023-02-20T14:57:38.177Z"
      },
      {
        "duration": 26,
        "start_time": "2023-02-20T14:57:38.182Z"
      },
      {
        "duration": 137,
        "start_time": "2023-02-20T14:57:38.210Z"
      },
      {
        "duration": 0,
        "start_time": "2023-02-20T14:57:38.348Z"
      },
      {
        "duration": 0,
        "start_time": "2023-02-20T14:57:38.350Z"
      },
      {
        "duration": 0,
        "start_time": "2023-02-20T14:57:38.351Z"
      },
      {
        "duration": 18,
        "start_time": "2023-02-20T14:59:57.109Z"
      },
      {
        "duration": 16,
        "start_time": "2023-02-20T15:31:04.637Z"
      },
      {
        "duration": 9,
        "start_time": "2023-02-20T15:31:41.257Z"
      },
      {
        "duration": 9,
        "start_time": "2023-02-20T15:31:45.990Z"
      },
      {
        "duration": 14,
        "start_time": "2023-02-20T15:33:10.788Z"
      },
      {
        "duration": 12,
        "start_time": "2023-02-20T15:33:16.080Z"
      },
      {
        "duration": 12,
        "start_time": "2023-02-20T15:33:34.772Z"
      },
      {
        "duration": 9,
        "start_time": "2023-02-20T15:33:37.270Z"
      },
      {
        "duration": 9,
        "start_time": "2023-02-20T15:34:00.794Z"
      },
      {
        "duration": 10,
        "start_time": "2023-02-20T15:34:03.334Z"
      },
      {
        "duration": 7,
        "start_time": "2023-02-20T15:34:06.698Z"
      },
      {
        "duration": 15,
        "start_time": "2023-02-20T15:34:24.216Z"
      },
      {
        "duration": 14,
        "start_time": "2023-02-20T15:35:03.514Z"
      },
      {
        "duration": 12,
        "start_time": "2023-02-20T15:35:12.839Z"
      },
      {
        "duration": 13,
        "start_time": "2023-02-20T15:36:22.154Z"
      },
      {
        "duration": 4,
        "start_time": "2023-02-20T15:38:27.152Z"
      },
      {
        "duration": 4,
        "start_time": "2023-02-20T15:38:37.263Z"
      },
      {
        "duration": 8,
        "start_time": "2023-02-20T15:38:40.923Z"
      },
      {
        "duration": 3,
        "start_time": "2023-02-20T15:38:53.167Z"
      },
      {
        "duration": 9,
        "start_time": "2023-02-20T15:41:23.942Z"
      },
      {
        "duration": 9,
        "start_time": "2023-02-20T15:41:30.894Z"
      },
      {
        "duration": 9,
        "start_time": "2023-02-20T15:41:39.214Z"
      },
      {
        "duration": 4,
        "start_time": "2023-02-20T15:41:44.972Z"
      },
      {
        "duration": 4,
        "start_time": "2023-02-20T15:41:58.813Z"
      },
      {
        "duration": 21,
        "start_time": "2023-02-20T15:42:01.312Z"
      },
      {
        "duration": 5,
        "start_time": "2023-02-20T15:42:11.956Z"
      },
      {
        "duration": 19,
        "start_time": "2023-02-20T15:42:22.257Z"
      },
      {
        "duration": 19,
        "start_time": "2023-02-20T15:42:26.432Z"
      },
      {
        "duration": 3,
        "start_time": "2023-02-20T15:42:46.961Z"
      },
      {
        "duration": 3,
        "start_time": "2023-02-20T15:44:21.842Z"
      },
      {
        "duration": 5,
        "start_time": "2023-02-20T15:44:36.861Z"
      },
      {
        "duration": 10,
        "start_time": "2023-02-20T15:44:41.380Z"
      },
      {
        "duration": 9,
        "start_time": "2023-02-20T15:44:47.884Z"
      },
      {
        "duration": 8,
        "start_time": "2023-02-20T15:45:00.712Z"
      },
      {
        "duration": 19,
        "start_time": "2023-02-20T15:46:29.443Z"
      },
      {
        "duration": 4,
        "start_time": "2023-02-20T15:46:42.504Z"
      },
      {
        "duration": 4,
        "start_time": "2023-02-20T15:46:47.082Z"
      },
      {
        "duration": 13,
        "start_time": "2023-02-20T15:48:08.554Z"
      },
      {
        "duration": 4,
        "start_time": "2023-02-20T15:48:26.205Z"
      },
      {
        "duration": 11,
        "start_time": "2023-02-20T15:48:32.122Z"
      },
      {
        "duration": 8,
        "start_time": "2023-02-20T15:48:35.005Z"
      },
      {
        "duration": 11,
        "start_time": "2023-02-20T15:48:49.363Z"
      },
      {
        "duration": 23,
        "start_time": "2023-02-20T15:49:36.064Z"
      },
      {
        "duration": 21,
        "start_time": "2023-02-20T15:49:45.631Z"
      },
      {
        "duration": 23,
        "start_time": "2023-02-20T15:49:50.613Z"
      },
      {
        "duration": 9,
        "start_time": "2023-02-20T16:12:13.101Z"
      },
      {
        "duration": 8,
        "start_time": "2023-02-20T16:14:04.293Z"
      },
      {
        "duration": 9,
        "start_time": "2023-02-20T16:14:52.874Z"
      },
      {
        "duration": 9,
        "start_time": "2023-02-20T16:15:08.381Z"
      },
      {
        "duration": 8,
        "start_time": "2023-02-20T16:15:20.692Z"
      },
      {
        "duration": 12,
        "start_time": "2023-02-20T16:15:50.147Z"
      },
      {
        "duration": 4,
        "start_time": "2023-02-20T16:15:58.723Z"
      },
      {
        "duration": 21,
        "start_time": "2023-02-20T16:19:15.707Z"
      },
      {
        "duration": 29,
        "start_time": "2023-02-20T16:46:40.011Z"
      },
      {
        "duration": 5,
        "start_time": "2023-02-20T16:48:39.889Z"
      },
      {
        "duration": 94,
        "start_time": "2023-02-20T16:48:54.423Z"
      },
      {
        "duration": 35,
        "start_time": "2023-02-20T16:48:59.418Z"
      },
      {
        "duration": 35,
        "start_time": "2023-02-20T16:49:24.470Z"
      },
      {
        "duration": 6,
        "start_time": "2023-02-20T16:50:33.776Z"
      },
      {
        "duration": 10,
        "start_time": "2023-02-20T16:51:54.410Z"
      },
      {
        "duration": 43,
        "start_time": "2023-02-20T16:52:21.815Z"
      },
      {
        "duration": 1230,
        "start_time": "2023-02-21T10:32:55.949Z"
      },
      {
        "duration": 44,
        "start_time": "2023-02-21T10:32:57.181Z"
      },
      {
        "duration": 20,
        "start_time": "2023-02-21T10:32:57.226Z"
      },
      {
        "duration": 24,
        "start_time": "2023-02-21T10:32:57.248Z"
      },
      {
        "duration": 6,
        "start_time": "2023-02-21T10:32:57.273Z"
      },
      {
        "duration": 11,
        "start_time": "2023-02-21T10:32:57.281Z"
      },
      {
        "duration": 19,
        "start_time": "2023-02-21T10:32:57.294Z"
      },
      {
        "duration": 13,
        "start_time": "2023-02-21T10:32:57.314Z"
      },
      {
        "duration": 16,
        "start_time": "2023-02-21T10:32:57.329Z"
      },
      {
        "duration": 13,
        "start_time": "2023-02-21T10:32:57.347Z"
      },
      {
        "duration": 43,
        "start_time": "2023-02-21T10:32:57.361Z"
      },
      {
        "duration": 11,
        "start_time": "2023-02-21T10:32:57.407Z"
      },
      {
        "duration": 117,
        "start_time": "2023-02-21T10:32:57.420Z"
      },
      {
        "duration": 89,
        "start_time": "2023-02-21T10:32:57.539Z"
      },
      {
        "duration": 9,
        "start_time": "2023-02-21T10:32:57.629Z"
      },
      {
        "duration": 17,
        "start_time": "2023-02-21T10:32:57.640Z"
      },
      {
        "duration": 18,
        "start_time": "2023-02-21T10:32:57.659Z"
      },
      {
        "duration": 15,
        "start_time": "2023-02-21T10:32:57.679Z"
      },
      {
        "duration": 20,
        "start_time": "2023-02-21T10:32:57.695Z"
      },
      {
        "duration": 1369,
        "start_time": "2023-02-21T10:32:57.716Z"
      },
      {
        "duration": 12,
        "start_time": "2023-02-21T10:32:59.091Z"
      },
      {
        "duration": 160,
        "start_time": "2023-02-21T10:32:59.105Z"
      },
      {
        "duration": 153,
        "start_time": "2023-02-21T10:32:59.267Z"
      },
      {
        "duration": 13,
        "start_time": "2023-02-21T10:32:59.422Z"
      },
      {
        "duration": 23,
        "start_time": "2023-02-21T10:32:59.436Z"
      },
      {
        "duration": 333,
        "start_time": "2023-02-21T10:32:59.460Z"
      },
      {
        "duration": 16,
        "start_time": "2023-02-21T10:32:59.794Z"
      },
      {
        "duration": 11,
        "start_time": "2023-02-21T10:32:59.814Z"
      },
      {
        "duration": 113,
        "start_time": "2023-02-21T10:32:59.826Z"
      },
      {
        "duration": 6,
        "start_time": "2023-02-21T10:32:59.941Z"
      },
      {
        "duration": 32,
        "start_time": "2023-02-21T10:32:59.949Z"
      },
      {
        "duration": 20,
        "start_time": "2023-02-21T10:32:59.982Z"
      },
      {
        "duration": 46,
        "start_time": "2023-02-21T10:33:00.003Z"
      },
      {
        "duration": 6,
        "start_time": "2023-02-21T10:33:00.051Z"
      },
      {
        "duration": 114,
        "start_time": "2023-02-21T10:33:00.059Z"
      },
      {
        "duration": 7,
        "start_time": "2023-02-21T10:33:00.175Z"
      },
      {
        "duration": 30,
        "start_time": "2023-02-21T10:33:00.191Z"
      },
      {
        "duration": 13,
        "start_time": "2023-02-21T10:33:00.222Z"
      },
      {
        "duration": 21,
        "start_time": "2023-02-21T10:33:00.237Z"
      },
      {
        "duration": 24,
        "start_time": "2023-02-21T10:33:00.260Z"
      },
      {
        "duration": 36,
        "start_time": "2023-02-21T10:33:00.285Z"
      },
      {
        "duration": 16,
        "start_time": "2023-02-21T10:33:00.322Z"
      },
      {
        "duration": 29,
        "start_time": "2023-02-21T10:33:00.340Z"
      },
      {
        "duration": 17,
        "start_time": "2023-02-21T10:33:00.371Z"
      },
      {
        "duration": 51,
        "start_time": "2023-02-21T10:33:00.390Z"
      },
      {
        "duration": 19,
        "start_time": "2023-02-21T10:33:00.444Z"
      },
      {
        "duration": 42,
        "start_time": "2023-02-21T10:33:00.465Z"
      },
      {
        "duration": 73,
        "start_time": "2023-02-21T10:33:00.509Z"
      },
      {
        "duration": 19,
        "start_time": "2023-02-21T10:33:00.584Z"
      },
      {
        "duration": 52,
        "start_time": "2023-02-21T10:33:00.605Z"
      },
      {
        "duration": 16,
        "start_time": "2023-02-21T10:33:26.332Z"
      }
    ],
    "kernelspec": {
      "display_name": "Python 3 (ipykernel)",
      "language": "python",
      "name": "python3"
    },
    "language_info": {
      "codemirror_mode": {
        "name": "ipython",
        "version": 3
      },
      "file_extension": ".py",
      "mimetype": "text/x-python",
      "name": "python",
      "nbconvert_exporter": "python",
      "pygments_lexer": "ipython3",
      "version": "3.9.5"
    },
    "toc": {
      "base_numbering": 1,
      "nav_menu": {},
      "number_sections": true,
      "sideBar": true,
      "skip_h1_title": true,
      "title_cell": "Table of Contents",
      "title_sidebar": "Contents",
      "toc_cell": false,
      "toc_position": {
        "height": "calc(100% - 180px)",
        "left": "10px",
        "top": "150px",
        "width": "165px"
      },
      "toc_section_display": true,
      "toc_window_display": true
    },
    "colab": {
      "provenance": [],
      "toc_visible": true,
      "include_colab_link": true
    }
  },
  "nbformat": 4,
  "nbformat_minor": 0
}
